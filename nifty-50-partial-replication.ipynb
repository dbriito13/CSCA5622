{
 "cells": [
  {
   "cell_type": "markdown",
   "id": "a99cfa46",
   "metadata": {
    "_cell_guid": "b1076dfc-b9ad-4769-8c92-a6c4dae69d19",
    "_uuid": "8f2839f25d086af736a60e9eeb907d3b93b6e0e5",
    "papermill": {
     "duration": 0.006702,
     "end_time": "2024-11-20T13:53:28.327071",
     "exception": false,
     "start_time": "2024-11-20T13:53:28.320369",
     "status": "completed"
    },
    "tags": []
   },
   "source": [
    "# Nifty 50 Partial Replication"
   ]
  },
  {
   "cell_type": "code",
   "execution_count": 1,
   "id": "843808f1",
   "metadata": {
    "execution": {
     "iopub.execute_input": "2024-11-20T13:53:28.343891Z",
     "iopub.status.busy": "2024-11-20T13:53:28.341946Z",
     "iopub.status.idle": "2024-11-20T13:53:31.743908Z",
     "shell.execute_reply": "2024-11-20T13:53:31.742490Z"
    },
    "papermill": {
     "duration": 3.413417,
     "end_time": "2024-11-20T13:53:31.746933",
     "exception": false,
     "start_time": "2024-11-20T13:53:28.333516",
     "status": "completed"
    },
    "tags": []
   },
   "outputs": [],
   "source": [
    "import pandas as pd\n",
    "import numpy as np\n",
    "from sklearn.model_selection import train_test_split\n",
    "from sklearn.linear_model import Lasso\n",
    "from sklearn.metrics import mean_squared_error, r2_score, make_scorer\n",
    "from sklearn.model_selection import cross_val_score, TimeSeriesSplit\n",
    "from sklearn.linear_model import LassoCV\n",
    "import matplotlib.pyplot as plt\n",
    "import os\n",
    "import glob\n",
    "from tqdm import tqdm\n",
    "import warnings\n",
    "from sklearn.ensemble import RandomForestRegressor\n",
    "from sklearn.exceptions import ConvergenceWarning\n",
    "warnings.filterwarnings(\"ignore\")\n",
    "warnings.filterwarnings(\"always\", category=ConvergenceWarning)\n",
    "import seaborn as sns\n",
    "\n",
    "import xgboost as xgb\n",
    "from sklearn.feature_selection import SelectFromModel,mutual_info_regression"
   ]
  },
  {
   "cell_type": "code",
   "execution_count": 2,
   "id": "77f6dea0",
   "metadata": {
    "execution": {
     "iopub.execute_input": "2024-11-20T13:53:31.760704Z",
     "iopub.status.busy": "2024-11-20T13:53:31.759417Z",
     "iopub.status.idle": "2024-11-20T13:53:31.765865Z",
     "shell.execute_reply": "2024-11-20T13:53:31.764592Z"
    },
    "papermill": {
     "duration": 0.015761,
     "end_time": "2024-11-20T13:53:31.768294",
     "exception": false,
     "start_time": "2024-11-20T13:53:31.752533",
     "status": "completed"
    },
    "tags": []
   },
   "outputs": [],
   "source": [
    "def tracking_error(y_true, y_pred):\n",
    "    # Convert y_true and y_pred to pandas Series for easy handling of pct_change()\n",
    "    y_true = pd.Series(y_true)\n",
    "    y_pred = pd.Series(y_pred)\n",
    "    \n",
    "    # Calculate percentage change for true values and predictions\n",
    "    # pct_change_true = y_true.pct_change() * 100\n",
    "    # pct_change_pred = y_pred.pct_change() * 100\n",
    "    \n",
    "    # Calculate the difference between the percentage changes\n",
    "    diff_pct_change = y_true - y_pred    \n",
    "    \n",
    "    # Return the standard deviation of the differences (tracking error)\n",
    "    return np.std(diff_pct_change.dropna())  # dropna() to avoid NaN values in pct_change"
   ]
  },
  {
   "cell_type": "code",
   "execution_count": 3,
   "id": "0a771d20",
   "metadata": {
    "execution": {
     "iopub.execute_input": "2024-11-20T13:53:31.780716Z",
     "iopub.status.busy": "2024-11-20T13:53:31.780326Z",
     "iopub.status.idle": "2024-11-20T13:53:31.786333Z",
     "shell.execute_reply": "2024-11-20T13:53:31.785119Z"
    },
    "papermill": {
     "duration": 0.014732,
     "end_time": "2024-11-20T13:53:31.788420",
     "exception": false,
     "start_time": "2024-11-20T13:53:31.773688",
     "status": "completed"
    },
    "tags": []
   },
   "outputs": [],
   "source": [
    "def adj_tracking_error(y_true, X_test, model):\n",
    "    cost = 0.001  # 0.1% cost\n",
    "    X_test_adjusted = X_test.copy()\n",
    "    X_test_adjusted[0, :] -= cost  # Subtract cost from the first return of each stock\n",
    "\n",
    "    # Predict with adjustment\n",
    "    y_pred_adjusted = model.predict(X_test_adjusted)\n",
    "    return tracking_error(y_true, y_pred_adjusted)"
   ]
  },
  {
   "cell_type": "markdown",
   "id": "6c8cd6b2",
   "metadata": {
    "papermill": {
     "duration": 0.00493,
     "end_time": "2024-11-20T13:53:31.798813",
     "exception": false,
     "start_time": "2024-11-20T13:53:31.793883",
     "status": "completed"
    },
    "tags": []
   },
   "source": [
    "## Data"
   ]
  },
  {
   "cell_type": "code",
   "execution_count": 4,
   "id": "bfe88ee5",
   "metadata": {
    "execution": {
     "iopub.execute_input": "2024-11-20T13:53:31.811410Z",
     "iopub.status.busy": "2024-11-20T13:53:31.811063Z",
     "iopub.status.idle": "2024-11-20T13:53:31.816082Z",
     "shell.execute_reply": "2024-11-20T13:53:31.814716Z"
    },
    "papermill": {
     "duration": 0.014743,
     "end_time": "2024-11-20T13:53:31.818530",
     "exception": false,
     "start_time": "2024-11-20T13:53:31.803787",
     "status": "completed"
    },
    "tags": []
   },
   "outputs": [],
   "source": [
    "# directory_path = '/kaggle/input/stock-market-data-nifty-50-stocks-1-min-data'\n",
    "# pattern = os.path.join(directory_path, \"*.csv\")  # Change \"*.csv\" to match other patterns if needed\n",
    "\n",
    "# Get the list of files that match the pattern\n",
    "# file_list = glob.glob(pattern)"
   ]
  },
  {
   "cell_type": "code",
   "execution_count": 5,
   "id": "b97948ac",
   "metadata": {
    "execution": {
     "iopub.execute_input": "2024-11-20T13:53:31.831139Z",
     "iopub.status.busy": "2024-11-20T13:53:31.830752Z",
     "iopub.status.idle": "2024-11-20T13:53:31.837257Z",
     "shell.execute_reply": "2024-11-20T13:53:31.836148Z"
    },
    "papermill": {
     "duration": 0.015845,
     "end_time": "2024-11-20T13:53:31.839847",
     "exception": false,
     "start_time": "2024-11-20T13:53:31.824002",
     "status": "completed"
    },
    "tags": []
   },
   "outputs": [],
   "source": [
    "def fetch_data(cols):\n",
    "    df_list = []\n",
    "    for file in tqdm(file_list):\n",
    "        stock_name = os.path.basename(file).split(\"_\")[0]\n",
    "        file_df = pd.read_csv(file, index_col=0)\n",
    "        file_df = file_df[[cols]]\n",
    "        file_df.columns = pd.MultiIndex.from_product([[stock_name], file_df.columns])\n",
    "        df_list.append(file_df)\n",
    "    return pd.concat(df_list, axis=1)"
   ]
  },
  {
   "cell_type": "code",
   "execution_count": 6,
   "id": "904e2317",
   "metadata": {
    "execution": {
     "iopub.execute_input": "2024-11-20T13:53:31.853292Z",
     "iopub.status.busy": "2024-11-20T13:53:31.852165Z",
     "iopub.status.idle": "2024-11-20T13:53:31.857610Z",
     "shell.execute_reply": "2024-11-20T13:53:31.856597Z"
    },
    "papermill": {
     "duration": 0.01474,
     "end_time": "2024-11-20T13:53:31.859997",
     "exception": false,
     "start_time": "2024-11-20T13:53:31.845257",
     "status": "completed"
    },
    "tags": []
   },
   "outputs": [],
   "source": [
    "# df = fetch_data('close')\n",
    "# df.to_csv('/kaggle/input/nifty_50_closing.csv')"
   ]
  },
  {
   "cell_type": "code",
   "execution_count": 7,
   "id": "cc6bdfed",
   "metadata": {
    "execution": {
     "iopub.execute_input": "2024-11-20T13:53:31.871968Z",
     "iopub.status.busy": "2024-11-20T13:53:31.871544Z",
     "iopub.status.idle": "2024-11-20T13:53:52.690340Z",
     "shell.execute_reply": "2024-11-20T13:53:52.688843Z"
    },
    "papermill": {
     "duration": 20.82783,
     "end_time": "2024-11-20T13:53:52.693015",
     "exception": false,
     "start_time": "2024-11-20T13:53:31.865185",
     "status": "completed"
    },
    "tags": []
   },
   "outputs": [
    {
     "name": "stdout",
     "output_type": "stream",
     "text": [
      "Number of rows with NaN values: 639555\n"
     ]
    }
   ],
   "source": [
    "df = pd.read_csv('/kaggle/input/nifty-50-closing-data/nifty_50_closing.csv', index_col=0, header=[0, 1])\n",
    "df = df.xs('close', level=1, axis=1)\n",
    "df.index = pd.to_datetime(df.index)\n",
    "\n",
    "nan_rows = df.isna().any(axis=1)\n",
    "\n",
    "# Get the number of rows with NaN values\n",
    "num_nan_rows = nan_rows.sum()\n",
    "\n",
    "print(f\"Number of rows with NaN values: {num_nan_rows}\")"
   ]
  },
  {
   "cell_type": "code",
   "execution_count": 8,
   "id": "0803180b",
   "metadata": {
    "execution": {
     "iopub.execute_input": "2024-11-20T13:53:52.706341Z",
     "iopub.status.busy": "2024-11-20T13:53:52.705949Z",
     "iopub.status.idle": "2024-11-20T13:53:55.051486Z",
     "shell.execute_reply": "2024-11-20T13:53:55.050226Z"
    },
    "papermill": {
     "duration": 2.355113,
     "end_time": "2024-11-20T13:53:55.054122",
     "exception": false,
     "start_time": "2024-11-20T13:53:52.699009",
     "status": "completed"
    },
    "tags": []
   },
   "outputs": [],
   "source": [
    "nifty_100_closing = pd.read_csv('/kaggle/input/nifty-50-minute-data/NIFTY 100_minute.csv', index_col=0)[['close']]\n",
    "nifty_100_closing.index = pd.to_datetime(nifty_100_closing.index)\n",
    "nifty_100_closing.rename(columns={'close': 'NIFTY_100'}, inplace=True)"
   ]
  },
  {
   "cell_type": "code",
   "execution_count": 9,
   "id": "1014c576",
   "metadata": {
    "execution": {
     "iopub.execute_input": "2024-11-20T13:53:55.067220Z",
     "iopub.status.busy": "2024-11-20T13:53:55.066757Z",
     "iopub.status.idle": "2024-11-20T13:53:55.073237Z",
     "shell.execute_reply": "2024-11-20T13:53:55.071906Z"
    },
    "papermill": {
     "duration": 0.015382,
     "end_time": "2024-11-20T13:53:55.075363",
     "exception": false,
     "start_time": "2024-11-20T13:53:55.059981",
     "status": "completed"
    },
    "tags": []
   },
   "outputs": [
    {
     "name": "stdout",
     "output_type": "stream",
     "text": [
      "Index type for df1: <class 'pandas.core.indexes.datetimes.DatetimeIndex'>\n",
      "Index type for df2: <class 'pandas.core.indexes.datetimes.DatetimeIndex'>\n"
     ]
    }
   ],
   "source": [
    "print(f\"Index type for df1: {type(df.index)}\")\n",
    "print(f\"Index type for df2: {type(nifty_100_closing.index)}\")"
   ]
  },
  {
   "cell_type": "code",
   "execution_count": 10,
   "id": "d61aa4fe",
   "metadata": {
    "execution": {
     "iopub.execute_input": "2024-11-20T13:53:55.087640Z",
     "iopub.status.busy": "2024-11-20T13:53:55.087178Z",
     "iopub.status.idle": "2024-11-20T13:53:56.977468Z",
     "shell.execute_reply": "2024-11-20T13:53:56.976300Z"
    },
    "papermill": {
     "duration": 1.899398,
     "end_time": "2024-11-20T13:53:56.979889",
     "exception": false,
     "start_time": "2024-11-20T13:53:55.080491",
     "status": "completed"
    },
    "tags": []
   },
   "outputs": [
    {
     "name": "stdout",
     "output_type": "stream",
     "text": [
      "Number of rows with 0.0 values: 37286\n",
      "Total rows 677188\n"
     ]
    },
    {
     "data": {
      "text/html": [
       "<div>\n",
       "<style scoped>\n",
       "    .dataframe tbody tr th:only-of-type {\n",
       "        vertical-align: middle;\n",
       "    }\n",
       "\n",
       "    .dataframe tbody tr th {\n",
       "        vertical-align: top;\n",
       "    }\n",
       "\n",
       "    .dataframe thead th {\n",
       "        text-align: right;\n",
       "    }\n",
       "</style>\n",
       "<table border=\"1\" class=\"dataframe\">\n",
       "  <thead>\n",
       "    <tr style=\"text-align: right;\">\n",
       "      <th></th>\n",
       "      <th>APOLLOHOSP</th>\n",
       "      <th>BOSCHLTD</th>\n",
       "      <th>INDUSTOWER</th>\n",
       "      <th>BERGEPAINT</th>\n",
       "      <th>MARICO</th>\n",
       "      <th>SBIN</th>\n",
       "      <th>SUNPHARMA</th>\n",
       "      <th>COALINDIA</th>\n",
       "      <th>WIPRO</th>\n",
       "      <th>BAJAJ-AUTO</th>\n",
       "      <th>...</th>\n",
       "      <th>BIOCON</th>\n",
       "      <th>DABUR</th>\n",
       "      <th>SAIL</th>\n",
       "      <th>BRITANNIA</th>\n",
       "      <th>ADANIPORTS</th>\n",
       "      <th>ONGC</th>\n",
       "      <th>EICHERMOT</th>\n",
       "      <th>TECHM</th>\n",
       "      <th>JINDALSTEL</th>\n",
       "      <th>HEROMOTOCO</th>\n",
       "    </tr>\n",
       "    <tr>\n",
       "      <th>date</th>\n",
       "      <th></th>\n",
       "      <th></th>\n",
       "      <th></th>\n",
       "      <th></th>\n",
       "      <th></th>\n",
       "      <th></th>\n",
       "      <th></th>\n",
       "      <th></th>\n",
       "      <th></th>\n",
       "      <th></th>\n",
       "      <th></th>\n",
       "      <th></th>\n",
       "      <th></th>\n",
       "      <th></th>\n",
       "      <th></th>\n",
       "      <th></th>\n",
       "      <th></th>\n",
       "      <th></th>\n",
       "      <th></th>\n",
       "      <th></th>\n",
       "      <th></th>\n",
       "    </tr>\n",
       "  </thead>\n",
       "  <tbody>\n",
       "    <tr>\n",
       "      <th>2018-08-06 10:47:00</th>\n",
       "      <td>974.3</td>\n",
       "      <td>19187.45</td>\n",
       "      <td>290.0</td>\n",
       "      <td>316.85</td>\n",
       "      <td>357.95</td>\n",
       "      <td>306.70</td>\n",
       "      <td>579.65</td>\n",
       "      <td>282.05</td>\n",
       "      <td>207.93</td>\n",
       "      <td>2695.00</td>\n",
       "      <td>...</td>\n",
       "      <td>287.40</td>\n",
       "      <td>435.30</td>\n",
       "      <td>79.35</td>\n",
       "      <td>3194.92</td>\n",
       "      <td>400.70</td>\n",
       "      <td>167.75</td>\n",
       "      <td>2711.3</td>\n",
       "      <td>670.45</td>\n",
       "      <td>207.65</td>\n",
       "      <td>3259.0</td>\n",
       "    </tr>\n",
       "    <tr>\n",
       "      <th>2018-08-06 10:48:00</th>\n",
       "      <td>973.7</td>\n",
       "      <td>19187.45</td>\n",
       "      <td>290.0</td>\n",
       "      <td>316.50</td>\n",
       "      <td>357.55</td>\n",
       "      <td>306.70</td>\n",
       "      <td>579.30</td>\n",
       "      <td>282.05</td>\n",
       "      <td>207.93</td>\n",
       "      <td>2695.00</td>\n",
       "      <td>...</td>\n",
       "      <td>287.75</td>\n",
       "      <td>435.15</td>\n",
       "      <td>79.30</td>\n",
       "      <td>3193.02</td>\n",
       "      <td>400.55</td>\n",
       "      <td>167.55</td>\n",
       "      <td>2710.6</td>\n",
       "      <td>670.55</td>\n",
       "      <td>207.80</td>\n",
       "      <td>3260.6</td>\n",
       "    </tr>\n",
       "    <tr>\n",
       "      <th>2018-08-06 10:49:00</th>\n",
       "      <td>973.7</td>\n",
       "      <td>19187.45</td>\n",
       "      <td>290.0</td>\n",
       "      <td>316.85</td>\n",
       "      <td>357.20</td>\n",
       "      <td>306.75</td>\n",
       "      <td>579.45</td>\n",
       "      <td>282.00</td>\n",
       "      <td>207.97</td>\n",
       "      <td>2697.95</td>\n",
       "      <td>...</td>\n",
       "      <td>287.95</td>\n",
       "      <td>435.70</td>\n",
       "      <td>79.30</td>\n",
       "      <td>3192.50</td>\n",
       "      <td>400.30</td>\n",
       "      <td>167.55</td>\n",
       "      <td>2709.8</td>\n",
       "      <td>670.65</td>\n",
       "      <td>207.55</td>\n",
       "      <td>3259.5</td>\n",
       "    </tr>\n",
       "  </tbody>\n",
       "</table>\n",
       "<p>3 rows × 88 columns</p>\n",
       "</div>"
      ],
      "text/plain": [
       "                     APOLLOHOSP  BOSCHLTD  INDUSTOWER  BERGEPAINT  MARICO  \\\n",
       "date                                                                        \n",
       "2018-08-06 10:47:00       974.3  19187.45       290.0      316.85  357.95   \n",
       "2018-08-06 10:48:00       973.7  19187.45       290.0      316.50  357.55   \n",
       "2018-08-06 10:49:00       973.7  19187.45       290.0      316.85  357.20   \n",
       "\n",
       "                       SBIN  SUNPHARMA  COALINDIA   WIPRO  BAJAJ-AUTO  ...  \\\n",
       "date                                                                   ...   \n",
       "2018-08-06 10:47:00  306.70     579.65     282.05  207.93     2695.00  ...   \n",
       "2018-08-06 10:48:00  306.70     579.30     282.05  207.93     2695.00  ...   \n",
       "2018-08-06 10:49:00  306.75     579.45     282.00  207.97     2697.95  ...   \n",
       "\n",
       "                     BIOCON   DABUR   SAIL  BRITANNIA  ADANIPORTS    ONGC  \\\n",
       "date                                                                        \n",
       "2018-08-06 10:47:00  287.40  435.30  79.35    3194.92      400.70  167.75   \n",
       "2018-08-06 10:48:00  287.75  435.15  79.30    3193.02      400.55  167.55   \n",
       "2018-08-06 10:49:00  287.95  435.70  79.30    3192.50      400.30  167.55   \n",
       "\n",
       "                     EICHERMOT   TECHM  JINDALSTEL  HEROMOTOCO  \n",
       "date                                                            \n",
       "2018-08-06 10:47:00     2711.3  670.45      207.65      3259.0  \n",
       "2018-08-06 10:48:00     2710.6  670.55      207.80      3260.6  \n",
       "2018-08-06 10:49:00     2709.8  670.65      207.55      3259.5  \n",
       "\n",
       "[3 rows x 88 columns]"
      ]
     },
     "execution_count": 10,
     "metadata": {},
     "output_type": "execute_result"
    }
   ],
   "source": [
    "# df.interpolate(method='linear', inplace=True)\n",
    "# To fill the first row NaN with the value from the next minute\n",
    "threshold = 0.10\n",
    "\n",
    "# Drop columns with more than the threshold percentage of missing values\n",
    "df = df.dropna(thresh=int((1-threshold) * len(df)), axis=1)\n",
    "\n",
    "# Get the number of rows with any 0.0 values\n",
    "\n",
    "df.fillna(0, inplace=True)\n",
    "df.index = df.index.tz_localize(None)\n",
    "\n",
    "zero_rows = (df == 0.0).any(axis=1)\n",
    "\n",
    "\n",
    "num_zero_rows = zero_rows.sum()\n",
    "\n",
    "print(f\"Number of rows with 0.0 values: {num_zero_rows}\")\n",
    "print(f\"Total rows {len(df)}\")\n",
    "df.head(3)"
   ]
  },
  {
   "cell_type": "code",
   "execution_count": 11,
   "id": "2d3c2432",
   "metadata": {
    "execution": {
     "iopub.execute_input": "2024-11-20T13:53:56.994698Z",
     "iopub.status.busy": "2024-11-20T13:53:56.993286Z",
     "iopub.status.idle": "2024-11-20T13:53:57.002434Z",
     "shell.execute_reply": "2024-11-20T13:53:57.001063Z"
    },
    "papermill": {
     "duration": 0.019049,
     "end_time": "2024-11-20T13:53:57.004892",
     "exception": false,
     "start_time": "2024-11-20T13:53:56.985843",
     "status": "completed"
    },
    "tags": []
   },
   "outputs": [
    {
     "data": {
      "text/plain": [
       "88"
      ]
     },
     "execution_count": 11,
     "metadata": {},
     "output_type": "execute_result"
    }
   ],
   "source": [
    "len(df.columns)"
   ]
  },
  {
   "cell_type": "code",
   "execution_count": 12,
   "id": "dfaf84d8",
   "metadata": {
    "execution": {
     "iopub.execute_input": "2024-11-20T13:53:57.019181Z",
     "iopub.status.busy": "2024-11-20T13:53:57.017994Z",
     "iopub.status.idle": "2024-11-20T13:53:57.351708Z",
     "shell.execute_reply": "2024-11-20T13:53:57.350701Z"
    },
    "papermill": {
     "duration": 0.343531,
     "end_time": "2024-11-20T13:53:57.354359",
     "exception": false,
     "start_time": "2024-11-20T13:53:57.010828",
     "status": "completed"
    },
    "tags": []
   },
   "outputs": [],
   "source": [
    "df_total = df.join(nifty_100_closing, how='left')"
   ]
  },
  {
   "cell_type": "code",
   "execution_count": 13,
   "id": "1be30e46",
   "metadata": {
    "execution": {
     "iopub.execute_input": "2024-11-20T13:53:57.367747Z",
     "iopub.status.busy": "2024-11-20T13:53:57.367345Z",
     "iopub.status.idle": "2024-11-20T13:53:57.780451Z",
     "shell.execute_reply": "2024-11-20T13:53:57.779047Z"
    },
    "papermill": {
     "duration": 0.422842,
     "end_time": "2024-11-20T13:53:57.783202",
     "exception": false,
     "start_time": "2024-11-20T13:53:57.360360",
     "status": "completed"
    },
    "tags": []
   },
   "outputs": [],
   "source": [
    "df_total.dropna(inplace=True)"
   ]
  },
  {
   "cell_type": "code",
   "execution_count": 14,
   "id": "3d66d520",
   "metadata": {
    "execution": {
     "iopub.execute_input": "2024-11-20T13:53:57.798084Z",
     "iopub.status.busy": "2024-11-20T13:53:57.797674Z",
     "iopub.status.idle": "2024-11-20T13:54:00.491840Z",
     "shell.execute_reply": "2024-11-20T13:54:00.490300Z"
    },
    "papermill": {
     "duration": 2.705058,
     "end_time": "2024-11-20T13:54:00.494487",
     "exception": false,
     "start_time": "2024-11-20T13:53:57.789429",
     "status": "completed"
    },
    "tags": []
   },
   "outputs": [
    {
     "name": "stdout",
     "output_type": "stream",
     "text": [
      "Number of rows with large changes (>100.0%): 14551\n"
     ]
    }
   ],
   "source": [
    "# Calculate the percentage change\n",
    "X_pct_change = df_total.pct_change()\n",
    "\n",
    "# Define the threshold for large changes (e.g., 100% change)\n",
    "threshold = 1.0  # 1.0 corresponds to 100% when working with pct_change()\n",
    "\n",
    "# Find rows with any column having a percentage change greater than the threshold\n",
    "large_change_rows = X_pct_change[(X_pct_change.abs() > threshold).any(axis=1)]\n",
    "\n",
    "# Get the number of rows where there are large percentage changes\n",
    "num_large_changes = large_change_rows.shape[0]\n",
    "\n",
    "print(f\"Number of rows with large changes (>{threshold * 100}%): {num_large_changes}\")"
   ]
  },
  {
   "cell_type": "code",
   "execution_count": 15,
   "id": "9063bee9",
   "metadata": {
    "execution": {
     "iopub.execute_input": "2024-11-20T13:54:00.508570Z",
     "iopub.status.busy": "2024-11-20T13:54:00.508123Z",
     "iopub.status.idle": "2024-11-20T13:54:00.514709Z",
     "shell.execute_reply": "2024-11-20T13:54:00.513410Z"
    },
    "papermill": {
     "duration": 0.016114,
     "end_time": "2024-11-20T13:54:00.516949",
     "exception": false,
     "start_time": "2024-11-20T13:54:00.500835",
     "status": "completed"
    },
    "tags": []
   },
   "outputs": [
    {
     "name": "stdout",
     "output_type": "stream",
     "text": [
      "666554\n"
     ]
    }
   ],
   "source": [
    "print(len(df_total))"
   ]
  },
  {
   "cell_type": "markdown",
   "id": "ca46a30a",
   "metadata": {
    "papermill": {
     "duration": 0.006103,
     "end_time": "2024-11-20T13:54:00.529131",
     "exception": false,
     "start_time": "2024-11-20T13:54:00.523028",
     "status": "completed"
    },
    "tags": []
   },
   "source": [
    "# Models"
   ]
  },
  {
   "cell_type": "markdown",
   "id": "d4454610",
   "metadata": {
    "papermill": {
     "duration": 0.005457,
     "end_time": "2024-11-20T13:54:00.540588",
     "exception": false,
     "start_time": "2024-11-20T13:54:00.535131",
     "status": "completed"
    },
    "tags": []
   },
   "source": [
    "## Combined Approach\n",
    "In this section, we will utilize a combined approach to limit the number of features (stocks) and train our models.\n",
    "\n",
    "1. Feature Selection (using Lasso w/ high alpha, Mutual Info, ANOVA, RFE)\n",
    "2. Define threshold to drop features\n",
    "3. Train model on reduced feature space (Hyperparameter tuned)\n",
    "4. Get tracking error\n",
    "5. Save pair (number of stocks, tracking error) for plotting"
   ]
  },
  {
   "cell_type": "markdown",
   "id": "eaa96bc8",
   "metadata": {
    "papermill": {
     "duration": 0.005494,
     "end_time": "2024-11-20T13:54:00.551805",
     "exception": false,
     "start_time": "2024-11-20T13:54:00.546311",
     "status": "completed"
    },
    "tags": []
   },
   "source": [
    "### Lasso - Lasso\n",
    "\n",
    "We will utilize a Lasso model with a high alpha value to perform feature selection, this will drop the coefficients for less important features to 0. After that we retrain a Lasso model with hyperparameter tuning."
   ]
  },
  {
   "cell_type": "code",
   "execution_count": 16,
   "id": "43aa12a7",
   "metadata": {
    "_kg_hide-input": true,
    "execution": {
     "iopub.execute_input": "2024-11-20T13:54:00.565452Z",
     "iopub.status.busy": "2024-11-20T13:54:00.565041Z",
     "iopub.status.idle": "2024-11-20T13:54:00.578856Z",
     "shell.execute_reply": "2024-11-20T13:54:00.577600Z"
    },
    "papermill": {
     "duration": 0.02367,
     "end_time": "2024-11-20T13:54:00.581392",
     "exception": false,
     "start_time": "2024-11-20T13:54:00.557722",
     "status": "completed"
    },
    "tags": []
   },
   "outputs": [],
   "source": [
    "from sklearn.preprocessing import StandardScaler\n",
    "\n",
    "def Lasso_Lasso(alpha, X, y):    \n",
    "    tscv = TimeSeriesSplit(n_splits=5)\n",
    "    stocks = []\n",
    "    num_stocks = []\n",
    "    fold_scores = []\n",
    "    adj_fold_scores = []\n",
    "    \n",
    "    for train_index, test_index in tscv.split(X):\n",
    "        X_train_cv, X_test_cv = X.iloc[train_index], X.iloc[test_index]\n",
    "        y_train_cv, y_test_cv = y.iloc[train_index], y.iloc[test_index]\n",
    "\n",
    "        scaler = StandardScaler()\n",
    "        X_scaled = scaler.fit_transform(X_train_cv)\n",
    "        \n",
    "        # Feature selection with alpha from list\n",
    "        lasso_fs = Lasso(alpha=alpha, max_iter=200)\n",
    "        lasso_fs.fit(X_scaled, y_train_cv)\n",
    "\n",
    "        #for feature, coef in zip(X_train_cv.columns, lasso_fs.coef_):\n",
    "        #    print(f\"{feature}: {coef}\")\n",
    "\n",
    "        selector = SelectFromModel(lasso_fs, threshold=10e-10, max_features=None)  # Adjust threshold as needed\n",
    "        X_selected_train = selector.transform(X_scaled)\n",
    "        X_selected_test = selector.transform(X_scaled)\n",
    "\n",
    "        selected_features = np.where(selector.get_support())[0] \n",
    "        print(f\"Selected {len(selected_features)} stocks\")\n",
    "        num_stocks.append(len(selected_features))\n",
    "        stocks.append(selected_features)\n",
    "\n",
    "        best_alpha = None\n",
    "        best_score = float('inf')  # Assuming lower is better for your metric\n",
    "        for alph in [0.0001, 0.00025, 0.0005, 0.00075, 0.001, 0.002, 0.0025]:\n",
    "            lasso = Lasso(alpha=alph, max_iter=15000)\n",
    "            lasso.fit(X_selected_train, y_train_cv)\n",
    "    \n",
    "            y_pred = lasso.predict(X_selected_test)\n",
    "            fold_score = tracking_error(y_test_cv.values, y_pred)\n",
    "            adj_fold_score = adj_tracking_error(y_test_cv.values, X_selected_test, lasso)\n",
    "            # print(f\"Alpha: {alpha}, Fold Score: {fold_score}\")\n",
    "    \n",
    "            if fold_score < best_score:\n",
    "                best_score = fold_score\n",
    "                best_alpha = alpha\n",
    "    \n",
    "        print(f\"Best Alpha for this fold: {best_alpha}, Best Fold Score: {best_score}\")\n",
    "        fold_scores.append(best_score)\n",
    "        adj_fold_scores.append(adj_fold_score)\n",
    "        \n",
    "    # Calculate the average score across all folds\n",
    "    average_score = np.mean(fold_scores)\n",
    "    average_adj_score = np.mean(adj_fold_scores)\n",
    "\n",
    "    # Get average stocks chosen over all folds\n",
    "    average_selected_features = np.mean(num_stocks)\n",
    "    \n",
    "    # Print the tracking error for this alpha\n",
    "    print(f\"Alpha: {alpha}, Average Tracking Error: {average_score}\")\n",
    " \n",
    "    return stocks, average_selected_features, average_score, average_adj_score"
   ]
  },
  {
   "cell_type": "code",
   "execution_count": 17,
   "id": "53875542",
   "metadata": {
    "execution": {
     "iopub.execute_input": "2024-11-20T13:54:00.595251Z",
     "iopub.status.busy": "2024-11-20T13:54:00.594836Z",
     "iopub.status.idle": "2024-11-20T14:52:21.497173Z",
     "shell.execute_reply": "2024-11-20T14:52:21.495586Z"
    },
    "papermill": {
     "duration": 3500.912876,
     "end_time": "2024-11-20T14:52:21.500279",
     "exception": false,
     "start_time": "2024-11-20T13:54:00.587403",
     "status": "completed"
    },
    "tags": []
   },
   "outputs": [
    {
     "name": "stdout",
     "output_type": "stream",
     "text": [
      "Starting alpha 0.001\n",
      "Selected 76 stocks\n",
      "Best Alpha for this fold: 0.001, Best Fold Score: 0.09939982762298774\n"
     ]
    },
    {
     "name": "stderr",
     "output_type": "stream",
     "text": [
      "/opt/conda/lib/python3.10/site-packages/sklearn/linear_model/_coordinate_descent.py:631: ConvergenceWarning: Objective did not converge. You might want to increase the number of iterations, check the scale of the features or consider increasing regularisation. Duality gap: 1.757e-01, tolerance: 1.155e-01\n",
      "  model = cd_fast.enet_coordinate_descent(\n"
     ]
    },
    {
     "name": "stdout",
     "output_type": "stream",
     "text": [
      "Selected 81 stocks\n",
      "Best Alpha for this fold: 0.001, Best Fold Score: 0.0672159923115898\n"
     ]
    },
    {
     "name": "stderr",
     "output_type": "stream",
     "text": [
      "/opt/conda/lib/python3.10/site-packages/sklearn/linear_model/_coordinate_descent.py:631: ConvergenceWarning: Objective did not converge. You might want to increase the number of iterations, check the scale of the features or consider increasing regularisation. Duality gap: 2.015e-01, tolerance: 1.462e-01\n",
      "  model = cd_fast.enet_coordinate_descent(\n"
     ]
    },
    {
     "name": "stdout",
     "output_type": "stream",
     "text": [
      "Selected 83 stocks\n",
      "Best Alpha for this fold: 0.001, Best Fold Score: 0.16727972423037465\n"
     ]
    },
    {
     "name": "stderr",
     "output_type": "stream",
     "text": [
      "/opt/conda/lib/python3.10/site-packages/sklearn/linear_model/_coordinate_descent.py:631: ConvergenceWarning: Objective did not converge. You might want to increase the number of iterations, check the scale of the features or consider increasing regularisation. Duality gap: 7.557e+00, tolerance: 4.375e-01\n",
      "  model = cd_fast.enet_coordinate_descent(\n"
     ]
    },
    {
     "name": "stdout",
     "output_type": "stream",
     "text": [
      "Selected 74 stocks\n",
      "Best Alpha for this fold: 0.001, Best Fold Score: 0.06130021200522088\n"
     ]
    },
    {
     "name": "stderr",
     "output_type": "stream",
     "text": [
      "/opt/conda/lib/python3.10/site-packages/sklearn/linear_model/_coordinate_descent.py:631: ConvergenceWarning: Objective did not converge. You might want to increase the number of iterations, check the scale of the features or consider increasing regularisation. Duality gap: 5.174e+00, tolerance: 4.596e-01\n",
      "  model = cd_fast.enet_coordinate_descent(\n"
     ]
    },
    {
     "name": "stdout",
     "output_type": "stream",
     "text": [
      "Selected 75 stocks\n",
      "Best Alpha for this fold: 0.001, Best Fold Score: 0.3685856995504441\n",
      "Alpha: 0.001, Average Tracking Error: 0.15275629114412342\n",
      "Starting alpha 0.002\n",
      "Selected 66 stocks\n",
      "Best Alpha for this fold: 0.002, Best Fold Score: 0.09939977740252205\n",
      "Selected 74 stocks\n",
      "Best Alpha for this fold: 0.002, Best Fold Score: 0.06721595624383762\n",
      "Selected 77 stocks\n",
      "Best Alpha for this fold: 0.002, Best Fold Score: 0.16727979506596014\n"
     ]
    },
    {
     "name": "stderr",
     "output_type": "stream",
     "text": [
      "/opt/conda/lib/python3.10/site-packages/sklearn/linear_model/_coordinate_descent.py:631: ConvergenceWarning: Objective did not converge. You might want to increase the number of iterations, check the scale of the features or consider increasing regularisation. Duality gap: 5.950e+00, tolerance: 4.375e-01\n",
      "  model = cd_fast.enet_coordinate_descent(\n"
     ]
    },
    {
     "name": "stdout",
     "output_type": "stream",
     "text": [
      "Selected 64 stocks\n",
      "Best Alpha for this fold: 0.002, Best Fold Score: 0.061299844221711426\n"
     ]
    },
    {
     "name": "stderr",
     "output_type": "stream",
     "text": [
      "/opt/conda/lib/python3.10/site-packages/sklearn/linear_model/_coordinate_descent.py:631: ConvergenceWarning: Objective did not converge. You might want to increase the number of iterations, check the scale of the features or consider increasing regularisation. Duality gap: 4.450e+00, tolerance: 4.596e-01\n",
      "  model = cd_fast.enet_coordinate_descent(\n"
     ]
    },
    {
     "name": "stdout",
     "output_type": "stream",
     "text": [
      "Selected 64 stocks\n",
      "Best Alpha for this fold: 0.002, Best Fold Score: 0.36858509773733455\n",
      "Alpha: 0.002, Average Tracking Error: 0.15275609413427316\n",
      "Starting alpha 0.003\n",
      "Selected 56 stocks\n",
      "Best Alpha for this fold: 0.003, Best Fold Score: 0.09939842751809944\n",
      "Selected 69 stocks\n",
      "Best Alpha for this fold: 0.003, Best Fold Score: 0.06721741088141409\n",
      "Selected 67 stocks\n",
      "Best Alpha for this fold: 0.003, Best Fold Score: 0.1672800633546856\n"
     ]
    },
    {
     "name": "stderr",
     "output_type": "stream",
     "text": [
      "/opt/conda/lib/python3.10/site-packages/sklearn/linear_model/_coordinate_descent.py:631: ConvergenceWarning: Objective did not converge. You might want to increase the number of iterations, check the scale of the features or consider increasing regularisation. Duality gap: 4.406e+00, tolerance: 4.375e-01\n",
      "  model = cd_fast.enet_coordinate_descent(\n"
     ]
    },
    {
     "name": "stdout",
     "output_type": "stream",
     "text": [
      "Selected 57 stocks\n",
      "Best Alpha for this fold: 0.003, Best Fold Score: 0.0612593733047479\n"
     ]
    },
    {
     "name": "stderr",
     "output_type": "stream",
     "text": [
      "/opt/conda/lib/python3.10/site-packages/sklearn/linear_model/_coordinate_descent.py:631: ConvergenceWarning: Objective did not converge. You might want to increase the number of iterations, check the scale of the features or consider increasing regularisation. Duality gap: 3.592e+00, tolerance: 4.596e-01\n",
      "  model = cd_fast.enet_coordinate_descent(\n"
     ]
    },
    {
     "name": "stdout",
     "output_type": "stream",
     "text": [
      "Selected 59 stocks\n",
      "Best Alpha for this fold: 0.003, Best Fold Score: 0.3685821248853948\n",
      "Alpha: 0.003, Average Tracking Error: 0.15274747998886837\n",
      "Starting alpha 0.004\n",
      "Selected 44 stocks\n",
      "Best Alpha for this fold: 0.004, Best Fold Score: 0.09939047466208052\n",
      "Selected 60 stocks\n",
      "Best Alpha for this fold: 0.004, Best Fold Score: 0.06721625921287078\n",
      "Selected 60 stocks\n",
      "Best Alpha for this fold: 0.004, Best Fold Score: 0.1672743631297189\n"
     ]
    },
    {
     "name": "stderr",
     "output_type": "stream",
     "text": [
      "/opt/conda/lib/python3.10/site-packages/sklearn/linear_model/_coordinate_descent.py:631: ConvergenceWarning: Objective did not converge. You might want to increase the number of iterations, check the scale of the features or consider increasing regularisation. Duality gap: 3.120e+00, tolerance: 4.375e-01\n",
      "  model = cd_fast.enet_coordinate_descent(\n"
     ]
    },
    {
     "name": "stdout",
     "output_type": "stream",
     "text": [
      "Selected 51 stocks\n",
      "Best Alpha for this fold: 0.004, Best Fold Score: 0.06124999521220005\n"
     ]
    },
    {
     "name": "stderr",
     "output_type": "stream",
     "text": [
      "/opt/conda/lib/python3.10/site-packages/sklearn/linear_model/_coordinate_descent.py:631: ConvergenceWarning: Objective did not converge. You might want to increase the number of iterations, check the scale of the features or consider increasing regularisation. Duality gap: 2.612e+00, tolerance: 4.596e-01\n",
      "  model = cd_fast.enet_coordinate_descent(\n"
     ]
    },
    {
     "name": "stdout",
     "output_type": "stream",
     "text": [
      "Selected 49 stocks\n",
      "Best Alpha for this fold: 0.004, Best Fold Score: 0.36858042966920485\n",
      "Alpha: 0.004, Average Tracking Error: 0.152742304377215\n",
      "Starting alpha 0.005\n",
      "Selected 37 stocks\n",
      "Best Alpha for this fold: 0.005, Best Fold Score: 0.09937465902396109\n",
      "Selected 53 stocks\n",
      "Best Alpha for this fold: 0.005, Best Fold Score: 0.06719608076603815\n",
      "Selected 53 stocks\n",
      "Best Alpha for this fold: 0.005, Best Fold Score: 0.1672823884444782\n"
     ]
    },
    {
     "name": "stderr",
     "output_type": "stream",
     "text": [
      "/opt/conda/lib/python3.10/site-packages/sklearn/linear_model/_coordinate_descent.py:631: ConvergenceWarning: Objective did not converge. You might want to increase the number of iterations, check the scale of the features or consider increasing regularisation. Duality gap: 2.659e+00, tolerance: 4.375e-01\n",
      "  model = cd_fast.enet_coordinate_descent(\n"
     ]
    },
    {
     "name": "stdout",
     "output_type": "stream",
     "text": [
      "Selected 47 stocks\n",
      "Best Alpha for this fold: 0.005, Best Fold Score: 0.06125575370214231\n"
     ]
    },
    {
     "name": "stderr",
     "output_type": "stream",
     "text": [
      "/opt/conda/lib/python3.10/site-packages/sklearn/linear_model/_coordinate_descent.py:631: ConvergenceWarning: Objective did not converge. You might want to increase the number of iterations, check the scale of the features or consider increasing regularisation. Duality gap: 2.066e+00, tolerance: 4.596e-01\n",
      "  model = cd_fast.enet_coordinate_descent(\n"
     ]
    },
    {
     "name": "stdout",
     "output_type": "stream",
     "text": [
      "Selected 48 stocks\n",
      "Best Alpha for this fold: 0.005, Best Fold Score: 0.3685729398854178\n",
      "Alpha: 0.005, Average Tracking Error: 0.15273636436440752\n",
      "Starting alpha 0.006\n",
      "Selected 30 stocks\n",
      "Best Alpha for this fold: 0.006, Best Fold Score: 0.09935931054156509\n",
      "Selected 48 stocks\n",
      "Best Alpha for this fold: 0.006, Best Fold Score: 0.067189509530875\n",
      "Selected 48 stocks\n",
      "Best Alpha for this fold: 0.006, Best Fold Score: 0.16728806846460859\n"
     ]
    },
    {
     "name": "stderr",
     "output_type": "stream",
     "text": [
      "/opt/conda/lib/python3.10/site-packages/sklearn/linear_model/_coordinate_descent.py:631: ConvergenceWarning: Objective did not converge. You might want to increase the number of iterations, check the scale of the features or consider increasing regularisation. Duality gap: 2.403e+00, tolerance: 4.375e-01\n",
      "  model = cd_fast.enet_coordinate_descent(\n"
     ]
    },
    {
     "name": "stdout",
     "output_type": "stream",
     "text": [
      "Selected 43 stocks\n",
      "Best Alpha for this fold: 0.006, Best Fold Score: 0.06118141528443277\n"
     ]
    },
    {
     "name": "stderr",
     "output_type": "stream",
     "text": [
      "/opt/conda/lib/python3.10/site-packages/sklearn/linear_model/_coordinate_descent.py:631: ConvergenceWarning: Objective did not converge. You might want to increase the number of iterations, check the scale of the features or consider increasing regularisation. Duality gap: 1.302e+00, tolerance: 4.596e-01\n",
      "  model = cd_fast.enet_coordinate_descent(\n"
     ]
    },
    {
     "name": "stdout",
     "output_type": "stream",
     "text": [
      "Selected 41 stocks\n",
      "Best Alpha for this fold: 0.006, Best Fold Score: 0.36857219156266074\n",
      "Alpha: 0.006, Average Tracking Error: 0.15271809907682843\n",
      "Starting alpha 0.007\n",
      "Selected 24 stocks\n",
      "Best Alpha for this fold: 0.007, Best Fold Score: 0.09933331252272157\n",
      "Selected 41 stocks\n",
      "Best Alpha for this fold: 0.007, Best Fold Score: 0.06725097436356614\n",
      "Selected 40 stocks\n",
      "Best Alpha for this fold: 0.007, Best Fold Score: 0.16727566702911045\n"
     ]
    },
    {
     "name": "stderr",
     "output_type": "stream",
     "text": [
      "/opt/conda/lib/python3.10/site-packages/sklearn/linear_model/_coordinate_descent.py:631: ConvergenceWarning: Objective did not converge. You might want to increase the number of iterations, check the scale of the features or consider increasing regularisation. Duality gap: 2.098e+00, tolerance: 4.375e-01\n",
      "  model = cd_fast.enet_coordinate_descent(\n"
     ]
    },
    {
     "name": "stdout",
     "output_type": "stream",
     "text": [
      "Selected 40 stocks\n",
      "Best Alpha for this fold: 0.007, Best Fold Score: 0.061148780236656326\n"
     ]
    },
    {
     "name": "stderr",
     "output_type": "stream",
     "text": [
      "/opt/conda/lib/python3.10/site-packages/sklearn/linear_model/_coordinate_descent.py:631: ConvergenceWarning: Objective did not converge. You might want to increase the number of iterations, check the scale of the features or consider increasing regularisation. Duality gap: 8.008e-01, tolerance: 4.596e-01\n",
      "  model = cd_fast.enet_coordinate_descent(\n"
     ]
    },
    {
     "name": "stdout",
     "output_type": "stream",
     "text": [
      "Selected 38 stocks\n",
      "Best Alpha for this fold: 0.007, Best Fold Score: 0.36856116921760795\n",
      "Alpha: 0.007, Average Tracking Error: 0.15271398067393246\n",
      "Starting alpha 0.008\n",
      "Selected 21 stocks\n",
      "Best Alpha for this fold: 0.008, Best Fold Score: 0.09927815300519323\n",
      "Selected 36 stocks\n",
      "Best Alpha for this fold: 0.008, Best Fold Score: 0.06720517116775272\n",
      "Selected 37 stocks\n",
      "Best Alpha for this fold: 0.008, Best Fold Score: 0.16728849879846103\n"
     ]
    },
    {
     "name": "stderr",
     "output_type": "stream",
     "text": [
      "/opt/conda/lib/python3.10/site-packages/sklearn/linear_model/_coordinate_descent.py:631: ConvergenceWarning: Objective did not converge. You might want to increase the number of iterations, check the scale of the features or consider increasing regularisation. Duality gap: 1.665e+00, tolerance: 4.375e-01\n",
      "  model = cd_fast.enet_coordinate_descent(\n"
     ]
    },
    {
     "name": "stdout",
     "output_type": "stream",
     "text": [
      "Selected 39 stocks\n",
      "Best Alpha for this fold: 0.008, Best Fold Score: 0.061124174390589\n"
     ]
    },
    {
     "name": "stderr",
     "output_type": "stream",
     "text": [
      "/opt/conda/lib/python3.10/site-packages/sklearn/linear_model/_coordinate_descent.py:631: ConvergenceWarning: Objective did not converge. You might want to increase the number of iterations, check the scale of the features or consider increasing regularisation. Duality gap: 6.697e-01, tolerance: 4.596e-01\n",
      "  model = cd_fast.enet_coordinate_descent(\n"
     ]
    },
    {
     "name": "stdout",
     "output_type": "stream",
     "text": [
      "Selected 38 stocks\n",
      "Best Alpha for this fold: 0.008, Best Fold Score: 0.36856116921760795\n",
      "Alpha: 0.008, Average Tracking Error: 0.15269143331592078\n",
      "Starting alpha 0.009\n",
      "Selected 19 stocks\n",
      "Best Alpha for this fold: 0.009, Best Fold Score: 0.09916988072515447\n",
      "Selected 33 stocks\n",
      "Best Alpha for this fold: 0.009, Best Fold Score: 0.06726402446919895\n",
      "Selected 32 stocks\n",
      "Best Alpha for this fold: 0.009, Best Fold Score: 0.16727626214897812\n"
     ]
    },
    {
     "name": "stderr",
     "output_type": "stream",
     "text": [
      "/opt/conda/lib/python3.10/site-packages/sklearn/linear_model/_coordinate_descent.py:631: ConvergenceWarning: Objective did not converge. You might want to increase the number of iterations, check the scale of the features or consider increasing regularisation. Duality gap: 1.168e+00, tolerance: 4.375e-01\n",
      "  model = cd_fast.enet_coordinate_descent(\n"
     ]
    },
    {
     "name": "stdout",
     "output_type": "stream",
     "text": [
      "Selected 36 stocks\n",
      "Best Alpha for this fold: 0.009, Best Fold Score: 0.06100538612981016\n"
     ]
    },
    {
     "name": "stderr",
     "output_type": "stream",
     "text": [
      "/opt/conda/lib/python3.10/site-packages/sklearn/linear_model/_coordinate_descent.py:631: ConvergenceWarning: Objective did not converge. You might want to increase the number of iterations, check the scale of the features or consider increasing regularisation. Duality gap: 6.150e-01, tolerance: 4.596e-01\n",
      "  model = cd_fast.enet_coordinate_descent(\n"
     ]
    },
    {
     "name": "stdout",
     "output_type": "stream",
     "text": [
      "Selected 36 stocks\n",
      "Best Alpha for this fold: 0.009, Best Fold Score: 0.36854506925518193\n",
      "Alpha: 0.009, Average Tracking Error: 0.15265212454566474\n",
      "Starting alpha 0.01\n",
      "Selected 18 stocks\n",
      "Best Alpha for this fold: 0.01, Best Fold Score: 0.09916552520142377\n",
      "Selected 28 stocks\n",
      "Best Alpha for this fold: 0.01, Best Fold Score: 0.06722944115683863\n",
      "Selected 31 stocks\n",
      "Best Alpha for this fold: 0.01, Best Fold Score: 0.16732014038029613\n"
     ]
    },
    {
     "name": "stderr",
     "output_type": "stream",
     "text": [
      "/opt/conda/lib/python3.10/site-packages/sklearn/linear_model/_coordinate_descent.py:631: ConvergenceWarning: Objective did not converge. You might want to increase the number of iterations, check the scale of the features or consider increasing regularisation. Duality gap: 7.834e-01, tolerance: 4.375e-01\n",
      "  model = cd_fast.enet_coordinate_descent(\n"
     ]
    },
    {
     "name": "stdout",
     "output_type": "stream",
     "text": [
      "Selected 35 stocks\n",
      "Best Alpha for this fold: 0.01, Best Fold Score: 0.06103826224654872\n"
     ]
    },
    {
     "name": "stderr",
     "output_type": "stream",
     "text": [
      "/opt/conda/lib/python3.10/site-packages/sklearn/linear_model/_coordinate_descent.py:631: ConvergenceWarning: Objective did not converge. You might want to increase the number of iterations, check the scale of the features or consider increasing regularisation. Duality gap: 4.735e-01, tolerance: 4.596e-01\n",
      "  model = cd_fast.enet_coordinate_descent(\n"
     ]
    },
    {
     "name": "stdout",
     "output_type": "stream",
     "text": [
      "Selected 34 stocks\n",
      "Best Alpha for this fold: 0.01, Best Fold Score: 0.3685507872460841\n",
      "Alpha: 0.01, Average Tracking Error: 0.15266083124623825\n",
      "Starting alpha 0.011\n",
      "Selected 17 stocks\n",
      "Best Alpha for this fold: 0.011, Best Fold Score: 0.09915079470328189\n",
      "Selected 28 stocks\n",
      "Best Alpha for this fold: 0.011, Best Fold Score: 0.06722944115683863\n",
      "Selected 24 stocks\n",
      "Best Alpha for this fold: 0.011, Best Fold Score: 0.16737414863670988\n"
     ]
    },
    {
     "name": "stderr",
     "output_type": "stream",
     "text": [
      "/opt/conda/lib/python3.10/site-packages/sklearn/linear_model/_coordinate_descent.py:631: ConvergenceWarning: Objective did not converge. You might want to increase the number of iterations, check the scale of the features or consider increasing regularisation. Duality gap: 4.855e-01, tolerance: 4.375e-01\n",
      "  model = cd_fast.enet_coordinate_descent(\n"
     ]
    },
    {
     "name": "stdout",
     "output_type": "stream",
     "text": [
      "Selected 33 stocks\n",
      "Best Alpha for this fold: 0.011, Best Fold Score: 0.06100053939658678\n",
      "Selected 33 stocks\n",
      "Best Alpha for this fold: 0.011, Best Fold Score: 0.368546877182411\n",
      "Alpha: 0.011, Average Tracking Error: 0.15266036021516563\n",
      "Starting alpha 0.012\n",
      "Selected 15 stocks\n",
      "Best Alpha for this fold: 0.012, Best Fold Score: 0.09908296612162554\n",
      "Selected 25 stocks\n",
      "Best Alpha for this fold: 0.012, Best Fold Score: 0.06737041687681797\n",
      "Selected 24 stocks\n",
      "Best Alpha for this fold: 0.012, Best Fold Score: 0.16737414863670988\n",
      "Selected 30 stocks\n",
      "Best Alpha for this fold: 0.012, Best Fold Score: 0.061061149678015715\n",
      "Selected 29 stocks\n",
      "Best Alpha for this fold: 0.012, Best Fold Score: 0.3685537206182745\n",
      "Alpha: 0.012, Average Tracking Error: 0.15268848038628874\n"
     ]
    },
    {
     "data": {
      "image/png": "[encoded data removed]",
      "text/plain": [
       "<Figure size 640x480 with 2 Axes>"
      ]
     },
     "metadata": {},
     "output_type": "display_data"
    }
   ],
   "source": [
    "df_total_z = df_total.replace(0, np.nan)  # Convert zeroes back to NaNs\n",
    "df_total_returns = df_total_z.pct_change().dropna()\n",
    "df_total_returns = 100*df_total_returns\n",
    "X = df_total_returns.drop(columns=['NIFTY 50', 'NIFTY BANK', 'NIFTY_100'])\n",
    "y = df_total_returns['NIFTY_100']\n",
    "\n",
    "alphas = [0.001, 0.002, 0.003, 0.004, 0.005, 0.006, 0.007, 0.008, 0.009, 0.01, 0.011, 0.012]\n",
    "tracking_errors = []\n",
    "adj_tracking_errors = []\n",
    "num_stocks_list = []\n",
    "\n",
    "for alpha in alphas:\n",
    "    print(f\"Starting alpha {alpha}\")\n",
    "    _, num_stocks, tracking_err, adj_tracking_err = Lasso_Lasso(alpha, X, y)\n",
    "    num_stocks_list.append(num_stocks)\n",
    "    tracking_errors.append(tracking_err)\n",
    "    adj_tracking_errors.append(adj_tracking_err)\n",
    "\n",
    "# Plotting the results\n",
    "fig, ax1 = plt.subplots()\n",
    "\n",
    "# Plotting number of stocks on the primary y-axis\n",
    "color = 'tab:blue'\n",
    "ax1.set_xlabel('Alpha')\n",
    "ax1.set_ylabel('Number of Stocks', color=color)\n",
    "ax1.plot(alphas, num_stocks_list, color=color, marker='o', label='Number of Stocks')\n",
    "ax1.tick_params(axis='y', labelcolor=color)\n",
    "\n",
    "# Creating a second y-axis for tracking error\n",
    "ax2 = ax1.twinx()\n",
    "color = 'tab:red'\n",
    "ax2.set_ylabel('Tracking Error', color=color)\n",
    "ax2.plot(alphas, tracking_errors, color=color, marker='x', linestyle='--', label='Tracking Error')\n",
    "ax2.plot(alphas, adj_tracking_errors, color=color, marker='x', linestyle='--', label='Adjusted Tracking Error')\n",
    "ax2.tick_params(axis='y', labelcolor=color)\n",
    "\n",
    "# Adding a title and legend\n",
    "plt.title('Number of Stocks and Tracking Error vs. Alpha')\n",
    "fig.tight_layout()  # Adjust layout to prevent overlap\n",
    "plt.show()"
   ]
  },
  {
   "cell_type": "markdown",
   "id": "baccee73",
   "metadata": {
    "papermill": {
     "duration": 0.013982,
     "end_time": "2024-11-20T14:52:21.528804",
     "exception": false,
     "start_time": "2024-11-20T14:52:21.514822",
     "status": "completed"
    },
    "tags": []
   },
   "source": [
    "# Mutual Info - Lasso\n",
    "Using mutual information between variables, which measures the dependency between them, 0 value being independence. By getting the mutual information between the features (stocks) and the target (NIFTY 100) we can \"discard\" the variables with lower dependencies. After feature selection, we traing a Lasso model with CV."
   ]
  },
  {
   "cell_type": "code",
   "execution_count": 18,
   "id": "dccb4acb",
   "metadata": {
    "execution": {
     "iopub.execute_input": "2024-11-20T14:52:21.559578Z",
     "iopub.status.busy": "2024-11-20T14:52:21.559126Z",
     "iopub.status.idle": "2024-11-20T14:52:21.569883Z",
     "shell.execute_reply": "2024-11-20T14:52:21.568750Z"
    },
    "papermill": {
     "duration": 0.029131,
     "end_time": "2024-11-20T14:52:21.572318",
     "exception": false,
     "start_time": "2024-11-20T14:52:21.543187",
     "status": "completed"
    },
    "tags": []
   },
   "outputs": [],
   "source": [
    "def MI_Lasso(percentile, X, y):\n",
    "    tscv = TimeSeriesSplit(n_splits=3)\n",
    "    stocks = []\n",
    "    num_stocks = []\n",
    "    fold_scores = []\n",
    "    \n",
    "    for train_index, test_index in tscv.split(X):\n",
    "        X_train_cv, X_test_cv = X.iloc[train_index], X.iloc[test_index]\n",
    "        y_train_cv, y_test_cv = y.iloc[train_index], y.iloc[test_index]\n",
    "\n",
    "        # Feature selection with alpha from list\n",
    "        mi_scores = mutual_info_regression(X_train_cv, y_train_cv)\n",
    "        mi_scores_series = pd.Series(mi_scores, index=X_train_cv.columns)\n",
    "\n",
    "        threshold_value = mi_scores_series.quantile(percentile)\n",
    "        \n",
    "        selected_features = X_train_cv.columns[mi_scores > threshold_value]\n",
    "\n",
    "        X_train_selected = X_train_cv[selected_features]\n",
    "        X_test_selected = X_test_cv[selected_features]\n",
    "    \n",
    "        print(f\"Selected {len(selected_features)} stocks\")\n",
    "        num_stocks.append(len(selected_features))\n",
    "        stocks.append(selected_features)\n",
    "\n",
    "        # Train model on the fold with reduced feature space\n",
    "        lasso = LassoCV(alphas=[0.1, 0.25, 0.5, 1, 2.5, 5], max_iter=10)\n",
    "        lasso.fit(X_train_selected, y_train_cv)\n",
    "\n",
    "        y_pred = lasso.predict(X_test_selected)\n",
    "\n",
    "        # Evaluate the model using the custom metric (e.g., tracking error)\n",
    "        fold_score = tracking_error(y_test_cv.values, y_pred)\n",
    "        fold_scores.append(fold_score)\n",
    "        print(f\"Fold Score: {fold_score}\")\n",
    "        \n",
    "    # Calculate the average score across all folds\n",
    "    average_score = np.mean(fold_scores)\n",
    "\n",
    "    # Get average stocks chosen over all folds\n",
    "    average_selected_features = np.mean(num_stocks)\n",
    "    \n",
    "    # Print the tracking error for this alpha\n",
    "    print(f\"Percentile: {percentile}, Average Tracking Error: {average_score}\")\n",
    " \n",
    "    return stocks, average_selected_features, average_score"
   ]
  },
  {
   "cell_type": "markdown",
   "id": "004dad27",
   "metadata": {
    "execution": {
     "iopub.execute_input": "2024-11-12T21:50:37.572889Z",
     "iopub.status.busy": "2024-11-12T21:50:37.570440Z"
    },
    "papermill": {
     "duration": 0.013744,
     "end_time": "2024-11-20T14:52:21.600597",
     "exception": false,
     "start_time": "2024-11-20T14:52:21.586853",
     "status": "completed"
    },
    "tags": []
   },
   "source": [
    "X = df_total.drop(columns=['NIFTY 50', 'NIFTY BANK', 'NIFTY_100'])\n",
    "y = df_total['NIFTY_100']\n",
    "\n",
    "percentiles = [0.1, 0.2, 0.3, 0.4, 0.5]\n",
    "tracking_errors = []\n",
    "num_stock_list = []\n",
    "\n",
    "for percentile in percentiles:\n",
    "    _, num_stocks, tracking_err = MI_Lasso(percentile, X, y)\n",
    "    num_stock_list.append(num_stocks)\n",
    "    tracking_errors.append(tracking_err)\n",
    "\n",
    "# Plotting the results\n",
    "plt.figure(figsize=(8, 6))\n",
    "plt.plot(num_stock_list, tracking_errors, marker='o', linestyle='-')\n",
    "\n",
    "# Adding labels and title\n",
    "plt.xlabel(\"Number of Stocks Selected\")\n",
    "plt.ylabel(\"Tracking Error\")\n",
    "plt.title(\"Number of Stocks vs. Tracking Error\")\n",
    "plt.grid(True)\n",
    "plt.show()"
   ]
  }
 ],
 "metadata": {
  "kaggle": {
   "accelerator": "none",
   "dataSources": [
    {
     "datasetId": 6024843,
     "sourceId": 9824880,
     "sourceType": "datasetVersion"
    },
    {
     "datasetId": 2401195,
     "sourceId": 9867252,
     "sourceType": "datasetVersion"
    },
    {
     "datasetId": 2490157,
     "sourceId": 9876776,
     "sourceType": "datasetVersion"
    }
   ],
   "dockerImageVersionId": 30786,
   "isGpuEnabled": false,
   "isInternetEnabled": true,
   "language": "python",
   "sourceType": "notebook"
  },
  "kernelspec": {
   "display_name": "Python 3",
   "language": "python",
   "name": "python3"
  },
  "language_info": {
   "codemirror_mode": {
    "name": "ipython",
    "version": 3
   },
   "file_extension": ".py",
   "mimetype": "text/x-python",
   "name": "python",
   "nbconvert_exporter": "python",
   "pygments_lexer": "ipython3",
   "version": "3.10.14"
  },
  "papermill": {
   "default_parameters": {},
   "duration": 3537.159151,
   "end_time": "2024-11-20T14:52:22.640911",
   "environment_variables": {},
   "exception": null,
   "input_path": "__notebook__.ipynb",
   "output_path": "__notebook__.ipynb",
   "parameters": {},
   "start_time": "2024-11-20T13:53:25.481760",
   "version": "2.6.0"
  }
 },
 "nbformat": 4,
 "nbformat_minor": 5
}
