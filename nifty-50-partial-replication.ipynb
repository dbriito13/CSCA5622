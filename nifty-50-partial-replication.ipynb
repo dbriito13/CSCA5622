{
 "cells": [
  {
   "cell_type": "markdown",
   "id": "a881d0c5",
   "metadata": {
    "_cell_guid": "b1076dfc-b9ad-4769-8c92-a6c4dae69d19",
    "_uuid": "8f2839f25d086af736a60e9eeb907d3b93b6e0e5",
    "papermill": {
     "duration": 0.008051,
     "end_time": "2024-12-07T12:00:22.639683",
     "exception": false,
     "start_time": "2024-12-07T12:00:22.631632",
     "status": "completed"
    },
    "tags": []
   },
   "source": [
    "# Nifty 50 Partial Replication"
   ]
  },
  {
   "cell_type": "code",
   "execution_count": 1,
   "id": "c5e438c1",
   "metadata": {
    "execution": {
     "iopub.execute_input": "2024-12-07T12:00:22.657922Z",
     "iopub.status.busy": "2024-12-07T12:00:22.657517Z",
     "iopub.status.idle": "2024-12-07T12:00:26.596708Z",
     "shell.execute_reply": "2024-12-07T12:00:26.595447Z"
    },
    "papermill": {
     "duration": 3.951447,
     "end_time": "2024-12-07T12:00:26.599911",
     "exception": false,
     "start_time": "2024-12-07T12:00:22.648464",
     "status": "completed"
    },
    "tags": []
   },
   "outputs": [],
   "source": [
    "import pandas as pd\n",
    "import numpy as np\n",
    "from sklearn.model_selection import train_test_split\n",
    "from sklearn.linear_model import Lasso, ElasticNet\n",
    "from sklearn.metrics import mean_squared_error, r2_score, make_scorer\n",
    "from sklearn.model_selection import cross_val_score, TimeSeriesSplit, ParameterGrid\n",
    "from sklearn.linear_model import LassoCV\n",
    "import matplotlib.pyplot as plt\n",
    "import os\n",
    "import glob\n",
    "from tqdm import tqdm\n",
    "import warnings\n",
    "from sklearn.ensemble import RandomForestRegressor\n",
    "from sklearn.exceptions import ConvergenceWarning\n",
    "warnings.filterwarnings(\"ignore\")\n",
    "warnings.filterwarnings(\"always\", category=ConvergenceWarning)\n",
    "import seaborn as sns\n",
    "from sklearn.pipeline import Pipeline\n",
    "from mpl_toolkits.mplot3d import Axes3D\n",
    "from sklearn.linear_model import LinearRegression\n",
    "from sklearn.preprocessing import PolynomialFeatures\n",
    "import xgboost as xgb\n",
    "from sklearn.feature_selection import SelectFromModel,mutual_info_regression"
   ]
  },
  {
   "cell_type": "code",
   "execution_count": 2,
   "id": "1cb4a82b",
   "metadata": {
    "execution": {
     "iopub.execute_input": "2024-12-07T12:00:26.619379Z",
     "iopub.status.busy": "2024-12-07T12:00:26.618663Z",
     "iopub.status.idle": "2024-12-07T12:00:26.626336Z",
     "shell.execute_reply": "2024-12-07T12:00:26.625195Z"
    },
    "papermill": {
     "duration": 0.019394,
     "end_time": "2024-12-07T12:00:26.628675",
     "exception": false,
     "start_time": "2024-12-07T12:00:26.609281",
     "status": "completed"
    },
    "tags": []
   },
   "outputs": [],
   "source": [
    "def tracking_error(y_true, y_pred):\n",
    "\n",
    "    # Convert y_true and y_pred to pandas Series for easy handling of pct_change()\n",
    "    y_true = pd.Series(y_true)\n",
    "    y_pred = pd.Series(y_pred)\n",
    "\n",
    "    # Calculate percentage change for true values and predictions\n",
    "    # pct_change_true = y_true.pct_change() * 100\n",
    "    # pct_change_pred = y_pred.pct_change() * 100\n",
    "\n",
    "    # Calculate the difference between the percentage changes\n",
    "    diff_pct_change = y_true - y_pred    \n",
    "\n",
    "    # Return the standard deviation of the differences (tracking error)\n",
    "    return np.std(diff_pct_change.dropna())  # dropna() to avoid NaN values in pct_change"
   ]
  },
  {
   "cell_type": "code",
   "execution_count": 3,
   "id": "18b58f88",
   "metadata": {
    "execution": {
     "iopub.execute_input": "2024-12-07T12:00:26.646603Z",
     "iopub.status.busy": "2024-12-07T12:00:26.646037Z",
     "iopub.status.idle": "2024-12-07T12:00:26.653281Z",
     "shell.execute_reply": "2024-12-07T12:00:26.652136Z"
    },
    "papermill": {
     "duration": 0.019104,
     "end_time": "2024-12-07T12:00:26.656300",
     "exception": false,
     "start_time": "2024-12-07T12:00:26.637196",
     "status": "completed"
    },
    "tags": []
   },
   "outputs": [],
   "source": [
    "def adj_tracking_error(y_true, X_test, model):\n",
    "    cost = 0.001  # 0.1% cost\n",
    "    X_test_adjusted = X_test.copy()\n",
    "    X_test_adjusted[0, :] -= cost  # Subtract cost from the first return of each stock\n",
    "\n",
    "    # Predict with adjustment\n",
    "    y_pred_adjusted = model.predict(X_test_adjusted)\n",
    "    return tracking_error(y_true, y_pred_adjusted)"
   ]
  },
  {
   "cell_type": "markdown",
   "id": "b209ac0e",
   "metadata": {
    "papermill": {
     "duration": 0.007202,
     "end_time": "2024-12-07T12:00:26.676784",
     "exception": false,
     "start_time": "2024-12-07T12:00:26.669582",
     "status": "completed"
    },
    "tags": []
   },
   "source": [
    "# Data"
   ]
  },
  {
   "cell_type": "code",
   "execution_count": 4,
   "id": "322c86a4",
   "metadata": {
    "execution": {
     "iopub.execute_input": "2024-12-07T12:00:26.694723Z",
     "iopub.status.busy": "2024-12-07T12:00:26.693213Z",
     "iopub.status.idle": "2024-12-07T12:00:26.699320Z",
     "shell.execute_reply": "2024-12-07T12:00:26.698069Z"
    },
    "papermill": {
     "duration": 0.017792,
     "end_time": "2024-12-07T12:00:26.702005",
     "exception": false,
     "start_time": "2024-12-07T12:00:26.684213",
     "status": "completed"
    },
    "tags": []
   },
   "outputs": [],
   "source": [
    "# directory_path = '/kaggle/input/stock-market-data-nifty-50-stocks-1-min-data'\n",
    "# pattern = os.path.join(directory_path, \"*.csv\")  # Change \"*.csv\" to match other patterns if needed\n",
    "# Get the list of files that match the pattern\n",
    "# file_list = glob.glob(pattern)"
   ]
  },
  {
   "cell_type": "code",
   "execution_count": 5,
   "id": "c37108cd",
   "metadata": {
    "execution": {
     "iopub.execute_input": "2024-12-07T12:00:26.722239Z",
     "iopub.status.busy": "2024-12-07T12:00:26.721682Z",
     "iopub.status.idle": "2024-12-07T12:00:26.731918Z",
     "shell.execute_reply": "2024-12-07T12:00:26.730121Z"
    },
    "papermill": {
     "duration": 0.023688,
     "end_time": "2024-12-07T12:00:26.735046",
     "exception": false,
     "start_time": "2024-12-07T12:00:26.711358",
     "status": "completed"
    },
    "tags": []
   },
   "outputs": [],
   "source": [
    "def fetch_data(cols):\n",
    "    df_list = []\n",
    "    for file in tqdm(file_list):\n",
    "        stock_name = os.path.basename(file).split(\"_\")[0]\n",
    "        file_df = pd.read_csv(file, index_col=0)\n",
    "        file_df = file_df[[cols]]\n",
    "        file_df.columns = pd.MultiIndex.from_product([[stock_name], file_df.columns])\n",
    "        df_list.append(file_df)\n",
    "    return pd.concat(df_list, axis=1)"
   ]
  },
  {
   "cell_type": "code",
   "execution_count": 6,
   "id": "631aa508",
   "metadata": {
    "execution": {
     "iopub.execute_input": "2024-12-07T12:00:26.759414Z",
     "iopub.status.busy": "2024-12-07T12:00:26.758647Z",
     "iopub.status.idle": "2024-12-07T12:00:26.764871Z",
     "shell.execute_reply": "2024-12-07T12:00:26.763596Z"
    },
    "papermill": {
     "duration": 0.018496,
     "end_time": "2024-12-07T12:00:26.767258",
     "exception": false,
     "start_time": "2024-12-07T12:00:26.748762",
     "status": "completed"
    },
    "tags": []
   },
   "outputs": [],
   "source": [
    "# df = fetch_data('close')\n",
    "\n",
    "# df.to_csv('/kaggle/inputifty_50_closing.csv')"
   ]
  },
  {
   "cell_type": "code",
   "execution_count": 7,
   "id": "0e737054",
   "metadata": {
    "execution": {
     "iopub.execute_input": "2024-12-07T12:00:26.784654Z",
     "iopub.status.busy": "2024-12-07T12:00:26.784134Z",
     "iopub.status.idle": "2024-12-07T12:00:46.385437Z",
     "shell.execute_reply": "2024-12-07T12:00:46.384058Z"
    },
    "papermill": {
     "duration": 19.612979,
     "end_time": "2024-12-07T12:00:46.388108",
     "exception": false,
     "start_time": "2024-12-07T12:00:26.775129",
     "status": "completed"
    },
    "tags": []
   },
   "outputs": [
    {
     "name": "stdout",
     "output_type": "stream",
     "text": [
      "Number of rows with NaN values: 639555\n"
     ]
    }
   ],
   "source": [
    "df = pd.read_csv('/kaggle/input/nifty-50-closing-data/nifty_50_closing.csv', index_col=0, header=[0, 1])\n",
    "df = df.xs('close', level=1, axis=1)\n",
    "df.index = pd.to_datetime(df.index)\n",
    "nan_rows = df.isna().any(axis=1)\n",
    "\n",
    "# Get the number of rows with NaN value\n",
    "num_nan_rows = nan_rows.sum()\n",
    "\n",
    "\n",
    "print(f\"Number of rows with NaN values: {num_nan_rows}\")"
   ]
  },
  {
   "cell_type": "code",
   "execution_count": 8,
   "id": "9cc3fbb8",
   "metadata": {
    "execution": {
     "iopub.execute_input": "2024-12-07T12:00:46.404514Z",
     "iopub.status.busy": "2024-12-07T12:00:46.404122Z",
     "iopub.status.idle": "2024-12-07T12:00:48.440473Z",
     "shell.execute_reply": "2024-12-07T12:00:48.439114Z"
    },
    "papermill": {
     "duration": 2.047506,
     "end_time": "2024-12-07T12:00:48.443048",
     "exception": false,
     "start_time": "2024-12-07T12:00:46.395542",
     "status": "completed"
    },
    "tags": []
   },
   "outputs": [],
   "source": [
    "nifty_100_closing = pd.read_csv('/kaggle/input/nifty-50-minute-data/NIFTY 100_minute.csv', index_col=0)[['close']]\n",
    "nifty_100_closing.index = pd.to_datetime(nifty_100_closing.index)\n",
    "nifty_100_closing.rename(columns={'close': 'NIFTY_100'}, inplace=True)"
   ]
  },
  {
   "cell_type": "code",
   "execution_count": 9,
   "id": "c23d2278",
   "metadata": {
    "execution": {
     "iopub.execute_input": "2024-12-07T12:00:48.460151Z",
     "iopub.status.busy": "2024-12-07T12:00:48.459705Z",
     "iopub.status.idle": "2024-12-07T12:00:49.234816Z",
     "shell.execute_reply": "2024-12-07T12:00:49.232729Z"
    },
    "papermill": {
     "duration": 0.787888,
     "end_time": "2024-12-07T12:00:49.238688",
     "exception": false,
     "start_time": "2024-12-07T12:00:48.450800",
     "status": "completed"
    },
    "tags": []
   },
   "outputs": [
    {
     "name": "stdout",
     "output_type": "stream",
     "text": [
      "Number of rows with NaN values: 37207\n",
      "Number of rows with 0.0 values: 79\n",
      "Total rows 639981\n"
     ]
    }
   ],
   "source": [
    "threshold = 0.10\n",
    "\n",
    "# Drop columns with more than the threshold percentage of missing values\n",
    "df = df.dropna(thresh=int((1-threshold) * len(df)), axis=1)\n",
    "\n",
    "nan_rows = df.isna().any(axis=1)\n",
    "# Get the number of rows with NaN values\n",
    "num_nan_rows = nan_rows.sum()\n",
    "print(f\"Number of rows with NaN values: {num_nan_rows}\")\n",
    "df.dropna(axis=0, inplace=True)\n",
    "df.index = df.index.tz_localize(None)\n",
    "zero_rows = (df == 0.0).any(axis=1)\n",
    "num_zero_rows = zero_rows.sum()\n",
    "\n",
    "print(f\"Number of rows with 0.0 values: {num_zero_rows}\")\n",
    "\n",
    "print(f\"Total rows {len(df)}\")"
   ]
  },
  {
   "cell_type": "code",
   "execution_count": 10,
   "id": "6ba23ef0",
   "metadata": {
    "execution": {
     "iopub.execute_input": "2024-12-07T12:00:49.258613Z",
     "iopub.status.busy": "2024-12-07T12:00:49.258176Z",
     "iopub.status.idle": "2024-12-07T12:00:49.586289Z",
     "shell.execute_reply": "2024-12-07T12:00:49.585054Z"
    },
    "papermill": {
     "duration": 0.341368,
     "end_time": "2024-12-07T12:00:49.589272",
     "exception": false,
     "start_time": "2024-12-07T12:00:49.247904",
     "status": "completed"
    },
    "tags": []
   },
   "outputs": [],
   "source": [
    "df_total = df.join(nifty_100_closing, how='left')"
   ]
  },
  {
   "cell_type": "code",
   "execution_count": 11,
   "id": "ef2efaf3",
   "metadata": {
    "execution": {
     "iopub.execute_input": "2024-12-07T12:00:49.608976Z",
     "iopub.status.busy": "2024-12-07T12:00:49.608552Z",
     "iopub.status.idle": "2024-12-07T12:00:49.920580Z",
     "shell.execute_reply": "2024-12-07T12:00:49.918859Z"
    },
    "papermill": {
     "duration": 0.325615,
     "end_time": "2024-12-07T12:00:49.923328",
     "exception": false,
     "start_time": "2024-12-07T12:00:49.597713",
     "status": "completed"
    },
    "tags": []
   },
   "outputs": [],
   "source": [
    "df_total.dropna(inplace=True)"
   ]
  },
  {
   "cell_type": "code",
   "execution_count": 12,
   "id": "aa3e2b09",
   "metadata": {
    "execution": {
     "iopub.execute_input": "2024-12-07T12:00:49.941193Z",
     "iopub.status.busy": "2024-12-07T12:00:49.940474Z",
     "iopub.status.idle": "2024-12-07T12:00:51.940651Z",
     "shell.execute_reply": "2024-12-07T12:00:51.939226Z"
    },
    "papermill": {
     "duration": 2.011791,
     "end_time": "2024-12-07T12:00:51.943201",
     "exception": false,
     "start_time": "2024-12-07T12:00:49.931410",
     "status": "completed"
    },
    "tags": []
   },
   "outputs": [
    {
     "name": "stdout",
     "output_type": "stream",
     "text": [
      "Number of rows with large changes (>100.0%): 42\n"
     ]
    }
   ],
   "source": [
    "# Calculate the percentage change\n",
    "X_pct_change = df_total.pct_change()\n",
    "\n",
    "# Define the threshold for large changes (e.g., 100% change)\n",
    "threshold = 1.0  # 1.0 corresponds to 100% when working with pct_change()\n",
    "\n",
    "# Find rows with any column having a percentage change greater than the threshold\n",
    "large_change_rows = X_pct_change[(X_pct_change.abs() > threshold).any(axis=1)]\n",
    "\n",
    "# Get the number of rows where there are large percentage changes\n",
    "num_large_changes = large_change_rows.shape[0]\n",
    "\n",
    "print(f\"Number of rows with large changes (>{threshold * 100}%): {num_large_changes}\")"
   ]
  },
  {
   "cell_type": "code",
   "execution_count": 13,
   "id": "f5ec48c2",
   "metadata": {
    "execution": {
     "iopub.execute_input": "2024-12-07T12:00:51.962231Z",
     "iopub.status.busy": "2024-12-07T12:00:51.961796Z",
     "iopub.status.idle": "2024-12-07T12:00:51.968246Z",
     "shell.execute_reply": "2024-12-07T12:00:51.966863Z"
    },
    "papermill": {
     "duration": 0.019503,
     "end_time": "2024-12-07T12:00:51.970647",
     "exception": false,
     "start_time": "2024-12-07T12:00:51.951144",
     "status": "completed"
    },
    "tags": []
   },
   "outputs": [
    {
     "name": "stdout",
     "output_type": "stream",
     "text": [
      "629791\n"
     ]
    }
   ],
   "source": [
    "print(len(df_total))"
   ]
  },
  {
   "cell_type": "code",
   "execution_count": 14,
   "id": "9e91c36f",
   "metadata": {
    "execution": {
     "iopub.execute_input": "2024-12-07T12:00:51.988455Z",
     "iopub.status.busy": "2024-12-07T12:00:51.988004Z",
     "iopub.status.idle": "2024-12-07T12:00:52.219431Z",
     "shell.execute_reply": "2024-12-07T12:00:52.218358Z"
    },
    "papermill": {
     "duration": 0.243482,
     "end_time": "2024-12-07T12:00:52.221961",
     "exception": false,
     "start_time": "2024-12-07T12:00:51.978479",
     "status": "completed"
    },
    "tags": []
   },
   "outputs": [],
   "source": [
    "df_total.sort_index(inplace=True)"
   ]
  },
  {
   "cell_type": "markdown",
   "id": "f87e90bc",
   "metadata": {
    "papermill": {
     "duration": 0.007702,
     "end_time": "2024-12-07T12:00:52.237796",
     "exception": false,
     "start_time": "2024-12-07T12:00:52.230094",
     "status": "completed"
    },
    "tags": []
   },
   "source": [
    "# Models\n",
    "\n",
    "In this section, we will utilize a combined approach to limit the number of features (stocks) and train our models.\n",
    "\n",
    "\n",
    "\n",
    "1. Feature Selection (using Lasso w/ high alpha, Mutual Info, ANOVA, RFE)\n",
    "\n",
    "2. Define threshold to drop features\n",
    "\n",
    "3. Train model on reduced feature space (Hyperparameter tuned)\n",
    "\n",
    "4. Get tracking error\n",
    "\n",
    "5. Save pair (number of stocks, tracking error) for plotting"
   ]
  },
  {
   "cell_type": "markdown",
   "id": "c63cb8fb",
   "metadata": {
    "papermill": {
     "duration": 0.007218,
     "end_time": "2024-12-07T12:00:52.252536",
     "exception": false,
     "start_time": "2024-12-07T12:00:52.245318",
     "status": "completed"
    },
    "tags": []
   },
   "source": [
    "## Correlation - Lasso"
   ]
  },
  {
   "cell_type": "code",
   "execution_count": 15,
   "id": "e9d5360b",
   "metadata": {
    "execution": {
     "iopub.execute_input": "2024-12-07T12:00:52.269815Z",
     "iopub.status.busy": "2024-12-07T12:00:52.269422Z",
     "iopub.status.idle": "2024-12-07T12:00:52.276778Z",
     "shell.execute_reply": "2024-12-07T12:00:52.275495Z"
    },
    "papermill": {
     "duration": 0.018785,
     "end_time": "2024-12-07T12:00:52.278840",
     "exception": false,
     "start_time": "2024-12-07T12:00:52.260055",
     "status": "completed"
    },
    "tags": []
   },
   "outputs": [],
   "source": [
    "def remove_correlated_features(X_train, threshold):\n",
    "    X_train = pd.DataFrame(X_train)\n",
    "    \n",
    "    # Compute the correlation matrix (absolute values)\n",
    "    corr_matrix = X_train.corr().abs()\n",
    "    \n",
    "    # Create a mask to select only the upper triangle of the correlation matrix\n",
    "    upper_triangle = corr_matrix.where(np.triu(np.ones(corr_matrix.shape), k=1).astype(bool))\n",
    "    \n",
    "    # Find features with correlation greater than the threshold\n",
    "    to_drop = [column for column in upper_triangle.columns if any(upper_triangle[column] > threshold)]\n",
    "    print(f\"Features to drop (correlation > {threshold}): {to_drop}\")\n",
    "    selected_features = [i for i in range(X_train.shape[1]) if i not in to_drop]\n",
    "    \n",
    "    return selected_features\n",
    "    "
   ]
  },
  {
   "cell_type": "code",
   "execution_count": 16,
   "id": "944cc113",
   "metadata": {
    "execution": {
     "iopub.execute_input": "2024-12-07T12:00:52.296020Z",
     "iopub.status.busy": "2024-12-07T12:00:52.295618Z",
     "iopub.status.idle": "2024-12-07T12:00:52.307485Z",
     "shell.execute_reply": "2024-12-07T12:00:52.306162Z"
    },
    "papermill": {
     "duration": 0.023627,
     "end_time": "2024-12-07T12:00:52.310066",
     "exception": false,
     "start_time": "2024-12-07T12:00:52.286439",
     "status": "completed"
    },
    "tags": []
   },
   "outputs": [],
   "source": [
    "from sklearn.preprocessing import StandardScaler\n",
    "\n",
    "\n",
    "def Corr_Lasso(threshold, X, y, debug=False):\n",
    "    tscv = TimeSeriesSplit(n_splits=18, max_train_size=85000, test_size=30000)\n",
    "    stocks = []\n",
    "    num_stocks = []\n",
    "    fold_scores = []\n",
    "    adj_fold_scores = []\n",
    "\n",
    "    for train_index, test_index in tscv.split(X):\n",
    "        X_train_cv, X_test_cv = X.iloc[train_index], X.iloc[test_index]\n",
    "        y_train_cv, y_test_cv = y.iloc[train_index], y.iloc[test_index]\n",
    "        scaler = StandardScaler()\n",
    "        X_scaled = scaler.fit_transform(X_train_cv)\n",
    "\n",
    "        # Feature selection using correlation matrix\n",
    "        selected_indices = remove_correlated_features(X_scaled, threshold)\n",
    "\n",
    "        X_train_selected = X_scaled[:, selected_indices]\n",
    "        X_test_selected = X_test_cv.to_numpy()[:, selected_indices]\n",
    "        if debug == True:\n",
    "            print(f\"Selected {len(selected_indices)} stocks\")\n",
    "        num_stocks.append(len(selected_indices))\n",
    "        stocks.append(selected_indices)\n",
    "\n",
    "        best_alpha = None\n",
    "        best_score = float('inf')  # Assuming lower is better for your metric\n",
    "        for alph in [0.0001, 0.00025, 0.0005, 0.00075, 0.001, 0.002, 0.0025]:\n",
    "            lasso = Lasso(alpha=alph, max_iter=15000)\n",
    "            lasso.fit(X_train_selected, y_train_cv)\n",
    "            y_pred = lasso.predict(X_test_selected)\n",
    "            fold_score = tracking_error(y_test_cv.values, y_pred)\n",
    "            adj_fold_score = adj_tracking_error(y_test_cv.values, X_test_selected, lasso)\n",
    "            \n",
    "            if fold_score < best_score:\n",
    "                best_score = fold_score\n",
    "                best_alpha = alph\n",
    "\n",
    "        print(f\"Best Alpha for this fold: {best_alpha}, Best Fold Score: {best_score}\")\n",
    "        fold_scores.append(best_score)\n",
    "        adj_fold_scores.append(adj_fold_score)\n",
    "\n",
    "    # Calculate the average score across all folds\n",
    "    average_score = np.mean(fold_scores)\n",
    "    average_adj_score = np.mean(adj_fold_scores)\n",
    "\n",
    "    # Get average stocks chosen over all folds\n",
    "    average_selected_features = np.mean(num_stocks)\n",
    "\n",
    "    # Print the tracking error for this alpha\n",
    "    print(f\"Threshold: {threshold}, Tracking Error: {average_score}, Adj Tracking Error: {average_adj_score}\")\n",
    "    return stocks, average_selected_features, average_score, average_adj_score"
   ]
  },
  {
   "cell_type": "code",
   "execution_count": 17,
   "id": "9c33ab7e",
   "metadata": {
    "execution": {
     "iopub.execute_input": "2024-12-07T12:00:52.327798Z",
     "iopub.status.busy": "2024-12-07T12:00:52.327407Z",
     "iopub.status.idle": "2024-12-07T12:00:52.336275Z",
     "shell.execute_reply": "2024-12-07T12:00:52.335014Z"
    },
    "papermill": {
     "duration": 0.020495,
     "end_time": "2024-12-07T12:00:52.338642",
     "exception": false,
     "start_time": "2024-12-07T12:00:52.318147",
     "status": "completed"
    },
    "tags": []
   },
   "outputs": [],
   "source": [
    "def Corr_Lasso_plot(X,y):\n",
    "    thresholds = [0.9, 0.8, 0.7, 0.6, 0.5, 0.4, 0.3, 0.2]\n",
    "    tracking_errors = []\n",
    "    adj_tracking_errors = []\n",
    "    num_stocks_list = []\n",
    "    \n",
    "    for threshold in thresholds:\n",
    "        print(f\"----------Starting threshold: {threshold}-------------\")\n",
    "        _, num_stocks, tracking_err, adj_tracking_err = Corr_Lasso(threshold, X, y, debug=False)\n",
    "        num_stocks_list.append(num_stocks)\n",
    "        tracking_errors.append(tracking_err)\n",
    "        adj_tracking_errors.append(adj_tracking_err)\n",
    "    \n",
    "    # Plotting the results\n",
    "    fig, ax1 = plt.subplots()\n",
    "    \n",
    "    # Plotting number of stocks on the primary y-axis\n",
    "    color = 'tab:blue'    \n",
    "    ax1.set_xlabel('Alpha')\n",
    "    ax1.set_ylabel('Number of Stocks', color=color)    \n",
    "    ax1.plot(thresholds, num_stocks_list, color=color, marker='o', label='Number of Stocks')\n",
    "    ax1.tick_params(axis='y', labelcolor=color)\n",
    "    \n",
    "    # Creating a second y-axis for tracking error\n",
    "    ax2 = ax1.twinx()\n",
    "    color = 'tab:red'\n",
    "    ax2.set_ylabel('Tracking Error', color=color)\n",
    "    #ax2.plot(alphas, tracking_errors, color='tab:green', marker='o', linestyle='--', label='Tracking Error')\n",
    "    ax2.plot(thresholds, adj_tracking_errors, color=color, marker='x', linestyle='--', label='Adjusted Tracking Error')\n",
    "    ax2.tick_params(axis='y', labelcolor=color)\n",
    "    \n",
    "    # Adding a title and legend\n",
    "    plt.title('Number of Stocks and Tracking Error vs. Alpha')    \n",
    "    fig.tight_layout()  # Adjust layout to prevent overlap\n",
    "    plt.savefig('Corr-Lasso.png')\n",
    "    plt.show()"
   ]
  },
  {
   "cell_type": "markdown",
   "id": "4c6a237e",
   "metadata": {
    "papermill": {
     "duration": 0.007785,
     "end_time": "2024-12-07T12:00:52.353947",
     "exception": false,
     "start_time": "2024-12-07T12:00:52.346162",
     "status": "completed"
    },
    "tags": []
   },
   "source": [
    "## Lasso - Lasso\n",
    "\n",
    "\n",
    "\n",
    "We will utilize a Lasso model with a high alpha value to perform feature selection, this will drop the coefficients for less important features to 0. After that we retrain a Lasso model with hyperparameter tuning."
   ]
  },
  {
   "cell_type": "code",
   "execution_count": 18,
   "id": "1bec02cd",
   "metadata": {
    "_kg_hide-input": true,
    "execution": {
     "iopub.execute_input": "2024-12-07T12:00:52.372000Z",
     "iopub.status.busy": "2024-12-07T12:00:52.371172Z",
     "iopub.status.idle": "2024-12-07T12:00:52.386444Z",
     "shell.execute_reply": "2024-12-07T12:00:52.385133Z"
    },
    "papermill": {
     "duration": 0.027096,
     "end_time": "2024-12-07T12:00:52.389179",
     "exception": false,
     "start_time": "2024-12-07T12:00:52.362083",
     "status": "completed"
    },
    "tags": []
   },
   "outputs": [],
   "source": [
    "from sklearn.preprocessing import StandardScaler\n",
    "\n",
    "\n",
    "\n",
    "def Lasso_Lasso(alpha, X, y):    \n",
    "    tscv = TimeSeriesSplit(n_splits=18, max_train_size=85000, test_size=30000)\n",
    "    stocks = []\n",
    "    num_stocks = []\n",
    "    fold_scores = []\n",
    "    adj_fold_scores = []\n",
    "\n",
    "    for train_index, test_index in tscv.split(X):\n",
    "        X_train_cv, X_test_cv = X.iloc[train_index], X.iloc[test_index]\n",
    "        y_train_cv, y_test_cv = y.iloc[train_index], y.iloc[test_index]\n",
    "        train_period = X.iloc[train_index].index\n",
    "        test_period = X.iloc[test_index].index\n",
    "\n",
    "        # Convert to date format\n",
    "        train_start_date, train_end_date = train_period.min(), train_period.max()\n",
    "        test_start_date, test_end_date = test_period.min(), test_period.max()\n",
    "\n",
    "        print(f\"Train period: {train_start_date} to {train_end_date}\")\n",
    "        print(f\"Test period: {test_start_date} to {test_end_date}\")\n",
    "        scaler = StandardScaler()\n",
    "        X_scaled = scaler.fit_transform(X_train_cv)\n",
    "\n",
    "        # Feature selection with alpha from list\n",
    "        lasso_fs = Lasso(alpha=alpha, max_iter=200)\n",
    "        lasso_fs.fit(X_scaled, y_train_cv)\n",
    "\n",
    "        #for feature, coef in zip(X_train_cv.columns, lasso_fs.coef_)\n",
    "        #    print(f\"{feature}: {coef}\")\n",
    "\n",
    "        selector = SelectFromModel(lasso_fs, threshold=10e-10, max_features=None)  # Adjust threshold as needed\n",
    "        X_selected_train = selector.transform(X_scaled)\n",
    "        X_selected_test = selector.transform(X_test_cv)\n",
    "\n",
    "        selected_features = np.where(selector.get_support())[0] \n",
    "        print(f\"Selected {len(selected_features)} stocks\")\n",
    "        num_stocks.append(len(selected_features))\n",
    "        stocks.append(selected_features)\n",
    "\n",
    "        best_alpha = None\n",
    "        best_score = float('inf')  # Assuming lower is better for your metric\n",
    "        for alph in [0.0001, 0.00025, 0.0005, 0.00075, 0.001, 0.002, 0.0025]:\n",
    "            lasso = Lasso(alpha=alph, max_iter=15000)\n",
    "            lasso.fit(X_selected_train, y_train_cv)\n",
    "            y_pred = lasso.predict(X_selected_test)\n",
    "            fold_score = tracking_error(y_test_cv.values, y_pred)\n",
    "            adj_fold_score = adj_tracking_error(y_test_cv.values, X_selected_test, lasso)\n",
    "            # print(f\"Alpha: {alpha}, Fold Score: {fold_score}\"\n",
    "            \n",
    "            if fold_score < best_score:\n",
    "                best_score = fold_score\n",
    "                best_alpha = alph\n",
    "\n",
    "        print(f\"Best Alpha for this fold: {best_alpha}, Best Fold Score: {best_score}\")\n",
    "        fold_scores.append(best_score)\n",
    "        adj_fold_scores.append(adj_fold_score)\n",
    "\n",
    "    # Calculate the average score across all folds\n",
    "    average_score = np.mean(fold_scores)\n",
    "    average_adj_score = np.mean(adj_fold_scores)\n",
    "\n",
    "    # Get average stocks chosen over all folds\n",
    "    average_selected_features = np.mean(num_stocks)\n",
    "\n",
    "    # Print the tracking error for this alpha\n",
    "    print(f\"Alpha: {alpha}, Average Tracking Error: {average_score}\")\n",
    "    return stocks, average_selected_features, average_score, average_adj_score"
   ]
  },
  {
   "cell_type": "code",
   "execution_count": 19,
   "id": "7147e152",
   "metadata": {
    "execution": {
     "iopub.execute_input": "2024-12-07T12:00:52.406283Z",
     "iopub.status.busy": "2024-12-07T12:00:52.405876Z",
     "iopub.status.idle": "2024-12-07T12:00:52.415591Z",
     "shell.execute_reply": "2024-12-07T12:00:52.414465Z"
    },
    "papermill": {
     "duration": 0.021453,
     "end_time": "2024-12-07T12:00:52.418238",
     "exception": false,
     "start_time": "2024-12-07T12:00:52.396785",
     "status": "completed"
    },
    "tags": []
   },
   "outputs": [],
   "source": [
    "def Lasso_Lasso_plot(X,y):\n",
    "    alphas = [0.001, 0.002, 0.003, 0.004, 0.005, 0.006, 0.007, 0.008, 0.009]\n",
    "    tracking_errors = []\n",
    "    adj_tracking_errors = []\n",
    "    num_stocks_list = []\n",
    "    \n",
    "    for alpha in alphas:\n",
    "        print(f\"----------Starting alpha {alpha}-------------\")\n",
    "        _, num_stocks, tracking_err, adj_tracking_err = Lasso_Lasso(alpha, X, y)\n",
    "        num_stocks_list.append(num_stocks)\n",
    "        tracking_errors.append(tracking_err)\n",
    "        adj_tracking_errors.append(adj_tracking_err)\n",
    "    \n",
    "    # Plotting the results\n",
    "    fig, ax1 = plt.subplots()\n",
    "    \n",
    "    # Plotting number of stocks on the primary y-axis\n",
    "    color = 'tab:blue'    \n",
    "    ax1.set_xlabel('Alpha')\n",
    "    ax1.set_ylabel('Number of Stocks', color=color)    \n",
    "    ax1.plot(alphas, num_stocks_list, color=color, marker='o', label='Number of Stocks')\n",
    "    ax1.tick_params(axis='y', labelcolor=color)\n",
    "    \n",
    "    # Creating a second y-axis for tracking error\n",
    "    ax2 = ax1.twinx()\n",
    "    color = 'tab:red'\n",
    "    ax2.set_ylabel('Tracking Error', color=color)\n",
    "    #ax2.plot(alphas, tracking_errors, color='tab:green', marker='o', linestyle='--', label='Tracking Error')\n",
    "    ax2.plot(alphas, adj_tracking_errors, color=color, marker='x', linestyle='--', label='Adjusted Tracking Error')\n",
    "    ax2.tick_params(axis='y', labelcolor=color)\n",
    "    \n",
    "    # Adding a title and legend\n",
    "    plt.title('Number of Stocks and Tracking Error vs. Alpha')    \n",
    "    fig.tight_layout()  # Adjust layout to prevent overlap\n",
    "    plt.savefig('Lasso-Lasso.png')\n",
    "    plt.show()"
   ]
  },
  {
   "cell_type": "markdown",
   "id": "f1110ff0",
   "metadata": {
    "papermill": {
     "duration": 0.007182,
     "end_time": "2024-12-07T12:00:52.433426",
     "exception": false,
     "start_time": "2024-12-07T12:00:52.426244",
     "status": "completed"
    },
    "tags": []
   },
   "source": [
    "### Mutual Info - Lasso\n",
    "\n",
    "Using mutual information between variables, which measures the dependency between them, 0 value being independence. By getting the mutual information between the features (stocks) and the target (NIFTY 100) we can \"discard\" the variables with lower dependencies. After feature selection, we traing a Lasso model with CV."
   ]
  },
  {
   "cell_type": "code",
   "execution_count": 20,
   "id": "841b8a32",
   "metadata": {
    "execution": {
     "iopub.execute_input": "2024-12-07T12:00:52.449806Z",
     "iopub.status.busy": "2024-12-07T12:00:52.449445Z",
     "iopub.status.idle": "2024-12-07T12:00:52.462265Z",
     "shell.execute_reply": "2024-12-07T12:00:52.461017Z"
    },
    "papermill": {
     "duration": 0.023903,
     "end_time": "2024-12-07T12:00:52.464666",
     "exception": false,
     "start_time": "2024-12-07T12:00:52.440763",
     "status": "completed"
    },
    "tags": []
   },
   "outputs": [],
   "source": [
    "from sklearn.preprocessing import StandardScaler\n",
    "\n",
    "\n",
    "def MI_Experiment(percentile, X, y, model_class, params, debug=False):\n",
    "    tscv = TimeSeriesSplit(n_splits=18, max_train_size=85000, test_size=30000)\n",
    "    stocks = []\n",
    "    num_stocks = []\n",
    "    fold_scores = []\n",
    "    adj_fold_scores = []\n",
    "\n",
    "    for train_index, test_index in tscv.split(X):\n",
    "        X_train_cv, X_test_cv = X.iloc[train_index], X.iloc[test_index]\n",
    "        y_train_cv, y_test_cv = y.iloc[train_index], y.iloc[test_index]\n",
    "        scaler = StandardScaler()\n",
    "        X_scaled = scaler.fit_transform(X_train_cv)\n",
    "\n",
    "        # Feature selection with alpha from list\n",
    "        mi_scores = mutual_info_regression(X_train_cv, y_train_cv)\n",
    "        mi_scores_series = pd.Series(mi_scores, index=X_train_cv.columns)\n",
    "\n",
    "        threshold_value = mi_scores_series.quantile(percentile)        \n",
    "\n",
    "        selected_features = mi_scores_series[mi_scores_series > threshold_value].index\n",
    "        selected_indices = [X_train_cv.columns.get_loc(feature) for feature in selected_features]\n",
    "\n",
    "        # Filter the NumPy arrays based on the selected feature indices\n",
    "        X_train_selected = X_scaled[:, selected_indices]\n",
    "        X_test_selected = X_test_cv.to_numpy()[:, selected_indices]\n",
    "\n",
    "        if debug == True:\n",
    "            print(f\"Selected {len(selected_features)} stocks\")\n",
    "        num_stocks.append(len(selected_features))\n",
    "        stocks.append(selected_features)\n",
    "\n",
    "        best_params = None\n",
    "        best_score = float('inf')  # Assuming lower is better for your metric\n",
    "        best_adj_score = float('inf')\n",
    "        for param in ParameterGrid(params):\n",
    "            if debug == True:\n",
    "                print(f\"Trying combination {param}\")\n",
    "            model = model_class(**param)\n",
    "            model.fit(X_train_selected, y_train_cv)\n",
    "\n",
    "            y_pred = model.predict(X_test_selected)\n",
    "            fold_score = tracking_error(y_test_cv.values, y_pred)\n",
    "            adj_fold_score = adj_tracking_error(y_test_cv.values, X_test_selected, model)\n",
    "\n",
    "            if adj_fold_score < best_adj_score:\n",
    "                best_score = fold_score\n",
    "                best_adj_score = adj_fold_score\n",
    "                best_params = param\n",
    "        if debug == True:\n",
    "            print(f\"Best Params for this fold: {best_params}, Best Fold Score: {best_score}\")\n",
    "        fold_scores.append(best_score)\n",
    "        adj_fold_scores.append(best_adj_score)\n",
    "\n",
    "    # Calculate the average score across all folds\n",
    "    average_score = np.mean(fold_scores)\n",
    "    average_adj_score = np.mean(adj_fold_scores)\n",
    "\n",
    "    # Get average stocks chosen over all folds\n",
    "    average_selected_features = np.mean(num_stocks)\n",
    "\n",
    "    # Print the tracking error for this alpha\n",
    "    print(f\"Percentile: {percentile}, Tracking Error: {average_score}, Adj Tracking Error: {average_adj_score}\")\n",
    "    return stocks, average_selected_features, average_score, average_adj_score"
   ]
  },
  {
   "cell_type": "markdown",
   "id": "30694730",
   "metadata": {
    "papermill": {
     "duration": 0.00731,
     "end_time": "2024-12-07T12:00:52.479791",
     "exception": false,
     "start_time": "2024-12-07T12:00:52.472481",
     "status": "completed"
    },
    "tags": []
   },
   "source": [
    "### MI - Lasso"
   ]
  },
  {
   "cell_type": "code",
   "execution_count": 21,
   "id": "0278555e",
   "metadata": {
    "execution": {
     "iopub.execute_input": "2024-12-07T12:00:52.496729Z",
     "iopub.status.busy": "2024-12-07T12:00:52.496341Z",
     "iopub.status.idle": "2024-12-07T12:00:52.504621Z",
     "shell.execute_reply": "2024-12-07T12:00:52.503169Z"
    },
    "papermill": {
     "duration": 0.020037,
     "end_time": "2024-12-07T12:00:52.507269",
     "exception": false,
     "start_time": "2024-12-07T12:00:52.487232",
     "status": "completed"
    },
    "tags": []
   },
   "outputs": [],
   "source": [
    "def MI_Lasso_plot(X,y):\n",
    "    tracking_errors = []\n",
    "    adj_tracking_errors = []\n",
    "    num_stocks_list = []\n",
    "    \n",
    "    percentiles = [0.0, 0.1, 0.2, 0.3, 0.4, 0.5, 0.6]\n",
    "    param_grid = {\n",
    "        'alpha': [0.0001, 0.00025, 0.0005, 0.00075, 0.001, 0.002, 0.0025],\n",
    "        'max_iter': [15000]\n",
    "    }\n",
    "    \n",
    "    for percentile in percentiles:\n",
    "        print(f\"Starting percentile: {percentile}\")\n",
    "        _, num_stocks, tracking_err, adj_tracking_err = MI_Experiment(percentile, X, y, Lasso, param_grid)\n",
    "        num_stocks_list.append(num_stocks)\n",
    "        tracking_errors.append(tracking_err)\n",
    "        adj_tracking_errors.append(adj_tracking_err)\n",
    "    \n",
    "    # Plotting the results\n",
    "    fig, ax1 = plt.subplots()\n",
    "    \n",
    "    # Plotting number of stocks on the primary y-axis\n",
    "    plt.plot(num_stocks_list, adj_tracking_errors, marker='x')\n",
    "    plt.xlabel('Number of Stocks')\n",
    "    plt.ylabel('Tracking Error')\n",
    "    plt.title('Lasso - Tracking Errors vs Number of Stocks')\n",
    "    plt.grid(True)\n",
    "    plt.savefig(\"MI-Lasso.png\")\n",
    "    plt.show()"
   ]
  },
  {
   "cell_type": "markdown",
   "id": "418cf502",
   "metadata": {
    "papermill": {
     "duration": 0.007271,
     "end_time": "2024-12-07T12:00:52.522100",
     "exception": false,
     "start_time": "2024-12-07T12:00:52.514829",
     "status": "completed"
    },
    "tags": []
   },
   "source": [
    "### MI - ElasticNet"
   ]
  },
  {
   "cell_type": "code",
   "execution_count": 22,
   "id": "0366edad",
   "metadata": {
    "execution": {
     "iopub.execute_input": "2024-12-07T12:00:52.538883Z",
     "iopub.status.busy": "2024-12-07T12:00:52.538508Z",
     "iopub.status.idle": "2024-12-07T12:00:52.546736Z",
     "shell.execute_reply": "2024-12-07T12:00:52.545320Z"
    },
    "papermill": {
     "duration": 0.019606,
     "end_time": "2024-12-07T12:00:52.549218",
     "exception": false,
     "start_time": "2024-12-07T12:00:52.529612",
     "status": "completed"
    },
    "tags": []
   },
   "outputs": [],
   "source": [
    "def MI_ElasticNet_plot(X,y):\n",
    "    tracking_errors = []\n",
    "    adj_tracking_errors = []\n",
    "    num_stocks_list = []\n",
    "    \n",
    "    percentiles = [0.0, 0.1, 0.2, 0.3, 0.4, 0.5, 0.6]\n",
    "    param_grid = {\n",
    "        'alpha': [0.0001, 0.00025, 0.0005, 0.00075, 0.001, 0.002, 0.0025],\n",
    "        'l1_ratio': [0.1, 0.5, 0.7, 0.9]\n",
    "    }\n",
    "    \n",
    "    for percentile in percentiles:\n",
    "        print(f\"Starting percentile: {percentile}\")\n",
    "        _, num_stocks, tracking_err, adj_tracking_err = MI_Experiment(percentile, X, y, ElasticNet, param_grid)\n",
    "        num_stocks_list.append(num_stocks)\n",
    "        tracking_errors.append(tracking_err)\n",
    "        adj_tracking_errors.append(adj_tracking_err)\n",
    "    \n",
    "    # Plotting the results\n",
    "    fig, ax1 = plt.subplots()\n",
    "    \n",
    "    # Plotting number of stocks on the primary y-axis\n",
    "    plt.plot(num_stocks_list, adj_tracking_errors, marker='x')\n",
    "    plt.xlabel('Number of Stocks')\n",
    "    plt.ylabel('Tracking Error')\n",
    "    plt.title('ElasticNet - Tracking Errors vs Number of Stocks ')\n",
    "    plt.grid(True)\n",
    "    plt.savefig(\"MI-ElasticNet.png\")\n",
    "    plt.show()"
   ]
  },
  {
   "cell_type": "markdown",
   "id": "c643401b",
   "metadata": {
    "execution": {
     "iopub.execute_input": "2024-11-12T21:50:37.572889Z",
     "iopub.status.busy": "2024-11-12T21:50:37.570440Z"
    },
    "papermill": {
     "duration": 0.007389,
     "end_time": "2024-12-07T12:00:52.564189",
     "exception": false,
     "start_time": "2024-12-07T12:00:52.556800",
     "status": "completed"
    },
    "tags": []
   },
   "source": [
    "TODO: Theil-Sein Linear Regression"
   ]
  },
  {
   "cell_type": "markdown",
   "id": "17337a9f",
   "metadata": {
    "papermill": {
     "duration": 0.007323,
     "end_time": "2024-12-07T12:00:52.579527",
     "exception": false,
     "start_time": "2024-12-07T12:00:52.572204",
     "status": "completed"
    },
    "tags": []
   },
   "source": [
    "### MI-RandomForestRegressor"
   ]
  },
  {
   "cell_type": "code",
   "execution_count": 23,
   "id": "21f5e3e5",
   "metadata": {
    "execution": {
     "iopub.execute_input": "2024-12-07T12:00:52.597170Z",
     "iopub.status.busy": "2024-12-07T12:00:52.596777Z",
     "iopub.status.idle": "2024-12-07T12:00:52.605708Z",
     "shell.execute_reply": "2024-12-07T12:00:52.604475Z"
    },
    "papermill": {
     "duration": 0.020565,
     "end_time": "2024-12-07T12:00:52.608341",
     "exception": false,
     "start_time": "2024-12-07T12:00:52.587776",
     "status": "completed"
    },
    "tags": []
   },
   "outputs": [],
   "source": [
    "def MI_RF_plot(X,y):\n",
    "    tracking_errors = []\n",
    "    adj_tracking_errors = []\n",
    "    num_stocks_list = []\n",
    "    \n",
    "    percentiles = [0.0, 0.1, 0.2, 0.3, 0.4, 0.5, 0.6, 0.7, 0.8]\n",
    "    param_grid = {\n",
    "        'n_estimators': [10, 20, 30, 40, 50],       # Number of trees in the forest\n",
    "        'max_depth': [5, 10, 15],      # Maximum depth of the tree\n",
    "        'max_samples': [0.5],\n",
    "        'min_samples_split': [0.05],\n",
    "        'bootstrap': [True],\n",
    "        'n_jobs': [-1],\n",
    "        'max_features': ['sqrt']\n",
    "    }\n",
    "    \n",
    "    for percentile in percentiles:\n",
    "        print(f\"Starting percentile: {percentile}\")\n",
    "        _, num_stocks, tracking_err, adj_tracking_err = MI_Experiment(percentile, X, y, RandomForestRegressor, param_grid)\n",
    "        num_stocks_list.append(num_stocks)\n",
    "        tracking_errors.append(tracking_err)\n",
    "        adj_tracking_errors.append(adj_tracking_err)\n",
    "    \n",
    "    # Plotting the results\n",
    "    fig, ax1 = plt.subplots()\n",
    "    \n",
    "    # Plotting number of stocks on the primary y-axis\n",
    "    plt.plot(num_stocks_list, adj_tracking_errors, marker='x')\n",
    "    plt.xlabel('Number of Stocks')\n",
    "    plt.ylabel('Tracking Error')\n",
    "    plt.title('RandomForestRegressor - Tracking Errors vs Number of Stocks ')\n",
    "    plt.grid(True)\n",
    "    plt.savefig(\"MI-RandomForestRegressor.png\")\n",
    "    plt.show()"
   ]
  },
  {
   "cell_type": "markdown",
   "id": "26be6750",
   "metadata": {
    "papermill": {
     "duration": 0.007313,
     "end_time": "2024-12-07T12:00:52.623530",
     "exception": false,
     "start_time": "2024-12-07T12:00:52.616217",
     "status": "completed"
    },
    "tags": []
   },
   "source": [
    "### MI - XGBoost"
   ]
  },
  {
   "cell_type": "code",
   "execution_count": 24,
   "id": "f8e5a6b7",
   "metadata": {
    "execution": {
     "iopub.execute_input": "2024-12-07T12:00:52.640476Z",
     "iopub.status.busy": "2024-12-07T12:00:52.640023Z",
     "iopub.status.idle": "2024-12-07T12:00:52.648241Z",
     "shell.execute_reply": "2024-12-07T12:00:52.647249Z"
    },
    "papermill": {
     "duration": 0.01937,
     "end_time": "2024-12-07T12:00:52.650416",
     "exception": false,
     "start_time": "2024-12-07T12:00:52.631046",
     "status": "completed"
    },
    "tags": []
   },
   "outputs": [],
   "source": [
    "def MI_XGBoost_plot(X,y):\n",
    "    tracking_errors = []\n",
    "    adj_tracking_errors = []\n",
    "    num_stocks_list = []\n",
    "    \n",
    "    percentiles = [0.1, 0.2, 0.3, 0.4, 0.5, 0.6, 0.7, 0.8]\n",
    "    param_grid = {\n",
    "        'n_estimators': [50, 100, 200, 250],  # Number of boosting rounds\n",
    "        'learning_rate': [0.01, 0.1, 0.2, 0.25],  # Step size shrinkage\n",
    "        'max_depth': [3, 5, 7, 10],  # Maximum depth of a tree\n",
    "        'n_jobs': [-1],\n",
    "        'tree_method': ['gpu_hist'],\n",
    "    }\n",
    "    \n",
    "    for percentile in percentiles:\n",
    "        print(f\"Starting percentile: {percentile}\")\n",
    "        _, num_stocks, tracking_err, adj_tracking_err = MI_Experiment(percentile, X, y, xgb.XGBRegressor, param_grid)\n",
    "        num_stocks_list.append(num_stocks)\n",
    "        tracking_errors.append(tracking_err)\n",
    "        adj_tracking_errors.append(adj_tracking_err)\n",
    "    \n",
    "    # Plotting the results\n",
    "    fig, ax1 = plt.subplots()\n",
    "    \n",
    "    # Plotting number of stocks on the primary y-axis\n",
    "    plt.plot(num_stocks_list, adj_tracking_errors, marker='x')\n",
    "    plt.xlabel('Number of Stocks')\n",
    "    plt.ylabel('Tracking Error')\n",
    "    plt.title('XGBRegressor - Tracking Errors vs Number of Stocks ')\n",
    "    plt.grid(True)\n",
    "    plt.savefig(\"MI-XGBRegressor.png\")\n",
    "    plt.show()"
   ]
  },
  {
   "cell_type": "code",
   "execution_count": 25,
   "id": "48534df9",
   "metadata": {
    "execution": {
     "iopub.execute_input": "2024-12-07T12:00:52.667797Z",
     "iopub.status.busy": "2024-12-07T12:00:52.667431Z",
     "iopub.status.idle": "2024-12-07T12:00:55.213654Z",
     "shell.execute_reply": "2024-12-07T12:00:55.211438Z"
    },
    "papermill": {
     "duration": 2.557706,
     "end_time": "2024-12-07T12:00:55.216426",
     "exception": false,
     "start_time": "2024-12-07T12:00:52.658720",
     "status": "completed"
    },
    "tags": []
   },
   "outputs": [],
   "source": [
    "df_total_z = df_total.replace(0, np.nan)  # Convert zeroes back to NaNs\n",
    "df_total_returns = df_total_z.pct_change().dropna()\n",
    "df_total_returns = 100*df_total_returns\n",
    "X = df_total_returns.drop(columns=['NIFTY 50', 'NIFTY BANK', 'NIFTY_100'])\n",
    "y = df_total_returns['NIFTY_100']"
   ]
  },
  {
   "cell_type": "code",
   "execution_count": 26,
   "id": "d4fb8ccf",
   "metadata": {
    "execution": {
     "iopub.execute_input": "2024-12-07T12:00:55.233598Z",
     "iopub.status.busy": "2024-12-07T12:00:55.233103Z",
     "iopub.status.idle": "2024-12-07T12:34:03.482193Z",
     "shell.execute_reply": "2024-12-07T12:34:03.480929Z"
    },
    "papermill": {
     "duration": 1988.26068,
     "end_time": "2024-12-07T12:34:03.484743",
     "exception": false,
     "start_time": "2024-12-07T12:00:55.224063",
     "status": "completed"
    },
    "tags": []
   },
   "outputs": [
    {
     "name": "stdout",
     "output_type": "stream",
     "text": [
      "----------Starting threshold: 0.9-------------\n",
      "Features to drop (correlation > 0.9): [66]\n",
      "Best Alpha for this fold: 0.0001, Best Fold Score: 0.03760435929652198\n",
      "Features to drop (correlation > 0.9): [66]\n",
      "Best Alpha for this fold: 0.0001, Best Fold Score: 0.049946555968267685\n",
      "Features to drop (correlation > 0.9): []\n",
      "Best Alpha for this fold: 0.0001, Best Fold Score: 0.027966055701690407\n",
      "Features to drop (correlation > 0.9): []\n",
      "Best Alpha for this fold: 0.0001, Best Fold Score: 0.02659631506225886\n",
      "Features to drop (correlation > 0.9): []\n",
      "Best Alpha for this fold: 0.0001, Best Fold Score: 0.03014878107564194\n",
      "Features to drop (correlation > 0.9): []\n",
      "Best Alpha for this fold: 0.0001, Best Fold Score: 0.04072723107535515\n",
      "Features to drop (correlation > 0.9): []\n",
      "Best Alpha for this fold: 0.0001, Best Fold Score: 0.031642548837211425\n",
      "Features to drop (correlation > 0.9): []\n",
      "Best Alpha for this fold: 0.0001, Best Fold Score: 0.04879999901730728\n",
      "Features to drop (correlation > 0.9): []\n",
      "Best Alpha for this fold: 0.0001, Best Fold Score: 0.038081268915765916\n",
      "Features to drop (correlation > 0.9): []\n",
      "Best Alpha for this fold: 0.0001, Best Fold Score: 0.044179657125784144\n",
      "Features to drop (correlation > 0.9): []\n",
      "Best Alpha for this fold: 0.0001, Best Fold Score: 0.1318496262640731\n",
      "Features to drop (correlation > 0.9): []\n",
      "Best Alpha for this fold: 0.0001, Best Fold Score: 0.058627222638137695\n",
      "Features to drop (correlation > 0.9): []\n",
      "Best Alpha for this fold: 0.0001, Best Fold Score: 0.04407093826583684\n",
      "Features to drop (correlation > 0.9): []\n",
      "Best Alpha for this fold: 0.0001, Best Fold Score: 0.05007569780910993\n",
      "Features to drop (correlation > 0.9): []\n",
      "Best Alpha for this fold: 0.0001, Best Fold Score: 0.030754573621137666\n",
      "Features to drop (correlation > 0.9): []\n",
      "Best Alpha for this fold: 0.0001, Best Fold Score: 0.0457760826280451\n",
      "Features to drop (correlation > 0.9): []\n",
      "Best Alpha for this fold: 0.0001, Best Fold Score: 0.060239247750926046\n",
      "Features to drop (correlation > 0.9): []\n",
      "Best Alpha for this fold: 0.0001, Best Fold Score: 0.04523675290624405\n",
      "Threshold: 0.9, Tracking Error: 0.04679571744218418, Adj Tracking Error: 0.04749604617654535\n",
      "----------Starting threshold: 0.8-------------\n",
      "Features to drop (correlation > 0.8): [66]\n",
      "Best Alpha for this fold: 0.0001, Best Fold Score: 0.03760435929652198\n",
      "Features to drop (correlation > 0.8): [66]\n",
      "Best Alpha for this fold: 0.0001, Best Fold Score: 0.049946555968267685\n",
      "Features to drop (correlation > 0.8): []\n",
      "Best Alpha for this fold: 0.0001, Best Fold Score: 0.027966055701690407\n",
      "Features to drop (correlation > 0.8): []\n",
      "Best Alpha for this fold: 0.0001, Best Fold Score: 0.02659631506225886\n",
      "Features to drop (correlation > 0.8): []\n",
      "Best Alpha for this fold: 0.0001, Best Fold Score: 0.03014878107564194\n",
      "Features to drop (correlation > 0.8): []\n",
      "Best Alpha for this fold: 0.0001, Best Fold Score: 0.04072723107535515\n",
      "Features to drop (correlation > 0.8): []\n",
      "Best Alpha for this fold: 0.0001, Best Fold Score: 0.031642548837211425\n",
      "Features to drop (correlation > 0.8): []\n",
      "Best Alpha for this fold: 0.0001, Best Fold Score: 0.04879999901730728\n",
      "Features to drop (correlation > 0.8): []\n",
      "Best Alpha for this fold: 0.0001, Best Fold Score: 0.038081268915765916\n",
      "Features to drop (correlation > 0.8): []\n",
      "Best Alpha for this fold: 0.0001, Best Fold Score: 0.044179657125784144\n",
      "Features to drop (correlation > 0.8): []\n",
      "Best Alpha for this fold: 0.0001, Best Fold Score: 0.1318496262640731\n",
      "Features to drop (correlation > 0.8): []\n",
      "Best Alpha for this fold: 0.0001, Best Fold Score: 0.058627222638137695\n",
      "Features to drop (correlation > 0.8): []\n",
      "Best Alpha for this fold: 0.0001, Best Fold Score: 0.04407093826583684\n",
      "Features to drop (correlation > 0.8): []\n",
      "Best Alpha for this fold: 0.0001, Best Fold Score: 0.05007569780910993\n",
      "Features to drop (correlation > 0.8): []\n",
      "Best Alpha for this fold: 0.0001, Best Fold Score: 0.030754573621137666\n",
      "Features to drop (correlation > 0.8): []\n",
      "Best Alpha for this fold: 0.0001, Best Fold Score: 0.0457760826280451\n",
      "Features to drop (correlation > 0.8): []\n",
      "Best Alpha for this fold: 0.0001, Best Fold Score: 0.060239247750926046\n",
      "Features to drop (correlation > 0.8): []\n",
      "Best Alpha for this fold: 0.0001, Best Fold Score: 0.04523675290624405\n",
      "Threshold: 0.8, Tracking Error: 0.04679571744218418, Adj Tracking Error: 0.04749604617654535\n",
      "----------Starting threshold: 0.7-------------\n",
      "Features to drop (correlation > 0.7): [66]\n",
      "Best Alpha for this fold: 0.0001, Best Fold Score: 0.03760435929652198\n",
      "Features to drop (correlation > 0.7): [66]\n",
      "Best Alpha for this fold: 0.0001, Best Fold Score: 0.049946555968267685\n",
      "Features to drop (correlation > 0.7): []\n",
      "Best Alpha for this fold: 0.0001, Best Fold Score: 0.027966055701690407\n",
      "Features to drop (correlation > 0.7): []\n",
      "Best Alpha for this fold: 0.0001, Best Fold Score: 0.02659631506225886\n",
      "Features to drop (correlation > 0.7): []\n",
      "Best Alpha for this fold: 0.0001, Best Fold Score: 0.03014878107564194\n",
      "Features to drop (correlation > 0.7): [26]\n",
      "Best Alpha for this fold: 0.0001, Best Fold Score: 0.04073161491766663\n",
      "Features to drop (correlation > 0.7): []\n",
      "Best Alpha for this fold: 0.0001, Best Fold Score: 0.031642548837211425\n",
      "Features to drop (correlation > 0.7): []\n",
      "Best Alpha for this fold: 0.0001, Best Fold Score: 0.04879999901730728\n",
      "Features to drop (correlation > 0.7): []\n",
      "Best Alpha for this fold: 0.0001, Best Fold Score: 0.038081268915765916\n",
      "Features to drop (correlation > 0.7): []\n",
      "Best Alpha for this fold: 0.0001, Best Fold Score: 0.044179657125784144\n",
      "Features to drop (correlation > 0.7): []\n",
      "Best Alpha for this fold: 0.0001, Best Fold Score: 0.1318496262640731\n",
      "Features to drop (correlation > 0.7): []\n",
      "Best Alpha for this fold: 0.0001, Best Fold Score: 0.058627222638137695\n",
      "Features to drop (correlation > 0.7): [51]\n",
      "Best Alpha for this fold: 0.0001, Best Fold Score: 0.044088479429837124\n",
      "Features to drop (correlation > 0.7): [51]\n",
      "Best Alpha for this fold: 0.0001, Best Fold Score: 0.050061913242957654\n",
      "Features to drop (correlation > 0.7): []\n",
      "Best Alpha for this fold: 0.0001, Best Fold Score: 0.030754573621137666\n",
      "Features to drop (correlation > 0.7): []\n",
      "Best Alpha for this fold: 0.0001, Best Fold Score: 0.0457760826280451\n",
      "Features to drop (correlation > 0.7): [64]\n",
      "Best Alpha for this fold: 0.0001, Best Fold Score: 0.06023046884231934\n",
      "Features to drop (correlation > 0.7): [64, 84]\n",
      "Best Alpha for this fold: 0.0001, Best Fold Score: 0.04523374721550833\n",
      "Threshold: 0.7, Tracking Error: 0.04679551498889624, Adj Tracking Error: 0.04749581840779141\n",
      "----------Starting threshold: 0.6-------------\n",
      "Features to drop (correlation > 0.6): [66]\n",
      "Best Alpha for this fold: 0.0001, Best Fold Score: 0.03760435929652198\n",
      "Features to drop (correlation > 0.6): [66]\n",
      "Best Alpha for this fold: 0.0001, Best Fold Score: 0.049946555968267685\n",
      "Features to drop (correlation > 0.6): [15]\n",
      "Best Alpha for this fold: 0.0001, Best Fold Score: 0.027969227309318966\n",
      "Features to drop (correlation > 0.6): []\n",
      "Best Alpha for this fold: 0.0001, Best Fold Score: 0.02659631506225886\n",
      "Features to drop (correlation > 0.6): []\n",
      "Best Alpha for this fold: 0.0001, Best Fold Score: 0.03014878107564194\n",
      "Features to drop (correlation > 0.6): [15, 26]\n",
      "Best Alpha for this fold: 0.0001, Best Fold Score: 0.04074675326594351\n",
      "Features to drop (correlation > 0.6): [15, 26]\n",
      "Best Alpha for this fold: 0.0001, Best Fold Score: 0.03167139550704115\n",
      "Features to drop (correlation > 0.6): [15, 26]\n",
      "Best Alpha for this fold: 0.0001, Best Fold Score: 0.048806615515153584\n",
      "Features to drop (correlation > 0.6): [55]\n",
      "Best Alpha for this fold: 0.0001, Best Fold Score: 0.03808929972447834\n",
      "Features to drop (correlation > 0.6): [34, 55, 61]\n",
      "Best Alpha for this fold: 0.0001, Best Fold Score: 0.04418365163698807\n",
      "Features to drop (correlation > 0.6): []\n",
      "Best Alpha for this fold: 0.0001, Best Fold Score: 0.1318496262640731\n",
      "Features to drop (correlation > 0.6): [15, 26, 38, 48, 51, 61, 64, 70, 71, 84]\n",
      "Best Alpha for this fold: 0.0001, Best Fold Score: 0.05902789812507561\n",
      "Features to drop (correlation > 0.6): [15, 26, 33, 38, 48, 49, 51, 61, 64, 70, 71, 84]\n",
      "Best Alpha for this fold: 0.0001, Best Fold Score: 0.04428835807598135\n",
      "Features to drop (correlation > 0.6): [15, 38, 49, 51, 61, 64, 70, 71]\n",
      "Best Alpha for this fold: 0.0001, Best Fold Score: 0.05020930072117023\n",
      "Features to drop (correlation > 0.6): [15, 38, 51, 61, 64, 71]\n",
      "Best Alpha for this fold: 0.0001, Best Fold Score: 0.030684165025484274\n",
      "Features to drop (correlation > 0.6): [15, 51, 61, 64, 71, 84]\n",
      "Best Alpha for this fold: 0.0001, Best Fold Score: 0.04577124615324077\n",
      "Features to drop (correlation > 0.6): [15, 33, 61, 64, 71, 78, 84]\n",
      "Best Alpha for this fold: 0.0001, Best Fold Score: 0.06023609430566004\n",
      "Features to drop (correlation > 0.6): [15, 33, 51, 64, 70, 78, 84]\n",
      "Best Alpha for this fold: 0.0001, Best Fold Score: 0.04528243118666215\n",
      "Threshold: 0.6, Tracking Error: 0.0468395596788312, Adj Tracking Error: 0.04754218304024478\n",
      "----------Starting threshold: 0.5-------------\n",
      "Features to drop (correlation > 0.5): [15, 25, 26, 38, 55, 66, 71]\n",
      "Best Alpha for this fold: 0.0001, Best Fold Score: 0.03767129114609292\n",
      "Features to drop (correlation > 0.5): [15, 25, 26, 38, 48, 55, 66, 71]\n",
      "Best Alpha for this fold: 0.0001, Best Fold Score: 0.05001828461781837\n",
      "Features to drop (correlation > 0.5): [15, 26, 38, 48, 55]\n",
      "Best Alpha for this fold: 0.0001, Best Fold Score: 0.028000564262022874\n",
      "Features to drop (correlation > 0.5): [15, 26, 48, 55]\n",
      "Best Alpha for this fold: 0.0001, Best Fold Score: 0.02663431081572399\n",
      "Features to drop (correlation > 0.5): [15, 26, 48]\n",
      "Best Alpha for this fold: 0.0001, Best Fold Score: 0.030196433179440037\n",
      "Features to drop (correlation > 0.5): [15, 26, 48]\n",
      "Best Alpha for this fold: 0.0001, Best Fold Score: 0.04075211828146667\n",
      "Features to drop (correlation > 0.5): [15, 26, 48, 55]\n",
      "Best Alpha for this fold: 0.0001, Best Fold Score: 0.031647942097941674\n",
      "Features to drop (correlation > 0.5): [15, 26, 48, 55, 61]\n",
      "Best Alpha for this fold: 0.0001, Best Fold Score: 0.048778307765235306\n",
      "Features to drop (correlation > 0.5): [15, 26, 34, 48, 55, 61, 64, 84]\n",
      "Best Alpha for this fold: 0.0001, Best Fold Score: 0.03813510868903447\n",
      "Features to drop (correlation > 0.5): [15, 26, 34, 55, 61, 64, 84]\n",
      "Best Alpha for this fold: 0.0001, Best Fold Score: 0.04420640566762302\n",
      "Features to drop (correlation > 0.5): [15, 26, 34, 51, 55, 61, 64, 84]\n",
      "Best Alpha for this fold: 0.0001, Best Fold Score: 0.1318169606700515\n",
      "Features to drop (correlation > 0.5): [14, 15, 16, 17, 22, 26, 30, 33, 34, 38, 48, 49, 51, 53, 55, 61, 63, 64, 67, 70, 71, 72, 74, 78, 84, 85]\n",
      "Best Alpha for this fold: 0.0001, Best Fold Score: 0.0597941412824776\n",
      "Features to drop (correlation > 0.5): [14, 15, 16, 17, 20, 22, 26, 33, 34, 38, 48, 49, 51, 52, 53, 55, 61, 63, 64, 67, 68, 69, 70, 71, 72, 74, 75, 78, 84, 85]\n",
      "Best Alpha for this fold: 0.0001, Best Fold Score: 0.044121360388889926\n",
      "Features to drop (correlation > 0.5): [14, 15, 16, 17, 20, 22, 23, 26, 33, 34, 38, 48, 49, 51, 52, 53, 55, 57, 61, 62, 63, 64, 67, 68, 69, 70, 71, 72, 74, 75, 78, 83, 84, 85]\n",
      "Best Alpha for this fold: 0.0001, Best Fold Score: 0.05054484245789124\n",
      "Features to drop (correlation > 0.5): [15, 17, 20, 26, 33, 38, 49, 51, 55, 58, 61, 64, 70, 71, 84]\n",
      "Best Alpha for this fold: 0.0001, Best Fold Score: 0.03057019394193161\n",
      "Features to drop (correlation > 0.5): [15, 20, 33, 38, 51, 57, 61, 64, 71, 78, 80, 83, 84]\n",
      "Best Alpha for this fold: 0.0001, Best Fold Score: 0.04591935117768441\n",
      "Features to drop (correlation > 0.5): [15, 20, 26, 33, 38, 48, 51, 57, 61, 64, 70, 71, 78, 80, 84]\n",
      "Best Alpha for this fold: 0.0001, Best Fold Score: 0.06042463710290952\n",
      "Features to drop (correlation > 0.5): [14, 15, 20, 22, 23, 26, 33, 38, 48, 49, 51, 57, 61, 64, 67, 70, 71, 78, 80, 83, 84]\n",
      "Best Alpha for this fold: 0.0001, Best Fold Score: 0.045621556276529536\n",
      "Threshold: 0.5, Tracking Error: 0.046936322767820254, Adj Tracking Error: 0.04764247781644839\n",
      "----------Starting threshold: 0.4-------------\n",
      "Features to drop (correlation > 0.4): [15, 20, 25, 26, 38, 48, 52, 55, 64, 66, 71]\n",
      "Best Alpha for this fold: 0.0001, Best Fold Score: 0.037646059065127774\n",
      "Features to drop (correlation > 0.4): [15, 25, 26, 38, 48, 55, 63, 64, 66, 68, 71]\n",
      "Best Alpha for this fold: 0.0001, Best Fold Score: 0.050052152771149765\n",
      "Features to drop (correlation > 0.4): [15, 25, 26, 33, 34, 38, 48, 55, 61, 64, 68, 71, 78, 85]\n",
      "Best Alpha for this fold: 0.0001, Best Fold Score: 0.02810266634923738\n",
      "Features to drop (correlation > 0.4): [15, 25, 26, 30, 33, 34, 38, 48, 55, 61, 64, 74, 85]\n",
      "Best Alpha for this fold: 0.0001, Best Fold Score: 0.026604051651679436\n",
      "Features to drop (correlation > 0.4): [15, 26, 30, 34, 38, 48, 55, 61, 64, 78]\n",
      "Best Alpha for this fold: 0.0001, Best Fold Score: 0.030224437469256484\n",
      "Features to drop (correlation > 0.4): [15, 26, 38, 48, 55, 61, 64]\n",
      "Best Alpha for this fold: 0.0001, Best Fold Score: 0.04078137934316006\n",
      "Features to drop (correlation > 0.4): [15, 26, 33, 34, 38, 48, 55, 64, 78, 84]\n",
      "Best Alpha for this fold: 0.0001, Best Fold Score: 0.031743862178191494\n",
      "Features to drop (correlation > 0.4): [15, 26, 33, 34, 38, 48, 51, 55, 61, 64, 78, 84, 85]\n",
      "Best Alpha for this fold: 0.0001, Best Fold Score: 0.04880686553470392\n",
      "Features to drop (correlation > 0.4): [15, 26, 33, 34, 38, 48, 50, 51, 55, 61, 64, 67, 70, 78, 84, 85]\n",
      "Best Alpha for this fold: 0.0001, Best Fold Score: 0.038223830200232164\n",
      "Features to drop (correlation > 0.4): [15, 26, 33, 34, 38, 48, 51, 55, 61, 64, 70, 78, 84, 85]\n",
      "Best Alpha for this fold: 0.0001, Best Fold Score: 0.04428822046453384\n",
      "Features to drop (correlation > 0.4): [15, 26, 33, 34, 38, 48, 51, 55, 61, 64, 70, 71, 78, 84]\n",
      "Best Alpha for this fold: 0.0001, Best Fold Score: 0.13202275212572043\n",
      "Features to drop (correlation > 0.4): [7, 9, 11, 12, 13, 14, 15, 16, 17, 19, 20, 21, 22, 23, 24, 26, 30, 31, 33, 34, 35, 36, 38, 39, 41, 43, 44, 48, 49, 51, 52, 53, 55, 57, 60, 61, 62, 63, 64, 65, 67, 68, 69, 70, 71, 72, 73, 74, 75, 77, 78, 79, 80, 81, 82, 83, 84, 85]\n",
      "Best Alpha for this fold: 0.0001, Best Fold Score: 0.06105596907549283\n",
      "Features to drop (correlation > 0.4): [5, 7, 9, 12, 13, 14, 15, 16, 17, 19, 20, 21, 22, 23, 24, 26, 30, 31, 33, 34, 35, 36, 37, 38, 39, 41, 42, 43, 44, 45, 48, 49, 51, 52, 53, 55, 56, 57, 58, 60, 61, 62, 63, 64, 65, 67, 68, 69, 70, 71, 72, 73, 74, 75, 77, 78, 79, 80, 81, 82, 83, 84, 85]\n",
      "Best Alpha for this fold: 0.0001, Best Fold Score: 0.04508700255512582\n",
      "Features to drop (correlation > 0.4): [5, 7, 9, 12, 13, 14, 15, 16, 17, 18, 19, 20, 21, 22, 23, 24, 26, 30, 31, 33, 34, 35, 36, 37, 38, 39, 41, 42, 43, 44, 45, 48, 49, 50, 51, 52, 53, 55, 56, 57, 58, 60, 61, 62, 63, 64, 65, 66, 67, 68, 69, 70, 71, 72, 73, 74, 75, 76, 77, 78, 79, 80, 81, 82, 83, 84, 85]\n",
      "Best Alpha for this fold: 0.0001, Best Fold Score: 0.052427658652154645\n",
      "Features to drop (correlation > 0.4): [14, 15, 17, 20, 22, 23, 26, 30, 33, 34, 38, 42, 45, 48, 49, 50, 51, 55, 56, 57, 58, 61, 62, 63, 64, 67, 68, 69, 70, 71, 74, 75, 78, 81, 82, 83, 84, 85]\n",
      "Best Alpha for this fold: 0.0001, Best Fold Score: 0.03086729801051058\n",
      "Features to drop (correlation > 0.4): [14, 15, 17, 20, 22, 23, 26, 30, 33, 34, 38, 45, 48, 49, 50, 51, 55, 56, 57, 58, 61, 63, 64, 66, 67, 68, 69, 70, 71, 78, 80, 81, 82, 83, 84, 85]\n",
      "Best Alpha for this fold: 0.0001, Best Fold Score: 0.04607692070100949\n",
      "Features to drop (correlation > 0.4): [14, 15, 17, 20, 22, 23, 26, 30, 33, 34, 38, 48, 49, 51, 55, 56, 57, 61, 62, 63, 64, 67, 68, 69, 70, 71, 78, 80, 81, 83, 84, 85]\n",
      "Best Alpha for this fold: 0.0001, Best Fold Score: 0.06082203543093469\n",
      "Features to drop (correlation > 0.4): [11, 14, 15, 17, 20, 22, 23, 26, 30, 33, 34, 38, 48, 49, 51, 52, 53, 55, 57, 58, 61, 62, 63, 64, 67, 68, 69, 70, 71, 72, 74, 75, 78, 80, 82, 83, 84, 85]\n",
      "Best Alpha for this fold: 0.0001, Best Fold Score: 0.045728407520749345\n",
      "Threshold: 0.4, Tracking Error: 0.04725342050549834, Adj Tracking Error: 0.047967559519301387\n",
      "----------Starting threshold: 0.3-------------\n",
      "Features to drop (correlation > 0.3): [12, 14, 15, 17, 20, 22, 25, 26, 30, 33, 34, 38, 48, 52, 53, 55, 61, 63, 64, 66, 68, 70, 71, 74, 75, 78, 80, 85]\n",
      "Best Alpha for this fold: 0.0001, Best Fold Score: 0.037853116215832\n",
      "Features to drop (correlation > 0.3): [11, 12, 14, 15, 17, 20, 22, 25, 26, 33, 34, 35, 38, 48, 52, 53, 55, 61, 63, 64, 66, 68, 70, 71, 74, 75, 78, 80, 81, 84, 85]\n",
      "Best Alpha for this fold: 0.0001, Best Fold Score: 0.049713585852395145\n",
      "Features to drop (correlation > 0.3): [11, 12, 14, 15, 17, 20, 22, 25, 26, 30, 33, 34, 35, 37, 38, 41, 42, 45, 48, 50, 52, 53, 55, 57, 61, 63, 64, 67, 68, 69, 70, 71, 72, 74, 75, 78, 80, 81, 82, 84, 85]\n",
      "Best Alpha for this fold: 0.0001, Best Fold Score: 0.02830523225919352\n",
      "Features to drop (correlation > 0.3): [11, 14, 15, 20, 25, 26, 30, 33, 34, 37, 38, 45, 48, 49, 50, 52, 55, 57, 61, 63, 64, 67, 68, 69, 70, 71, 72, 74, 75, 78, 80, 81, 82, 84, 85]\n",
      "Best Alpha for this fold: 0.0001, Best Fold Score: 0.02670823568777357\n",
      "Features to drop (correlation > 0.3): [15, 25, 26, 30, 33, 34, 38, 45, 48, 49, 50, 52, 55, 61, 64, 68, 70, 71, 72, 74, 75, 78, 80, 82, 84, 85]\n",
      "Best Alpha for this fold: 0.0001, Best Fold Score: 0.03013839245101599\n",
      "Features to drop (correlation > 0.3): [15, 26, 33, 34, 38, 48, 55, 61, 64, 71, 78, 84]\n",
      "Best Alpha for this fold: 0.0001, Best Fold Score: 0.040872114288176296\n",
      "Features to drop (correlation > 0.3): [15, 19, 22, 26, 33, 34, 35, 38, 41, 45, 48, 50, 51, 52, 55, 56, 61, 64, 66, 68, 70, 71, 74, 78, 80, 84]\n",
      "Best Alpha for this fold: 0.0001, Best Fold Score: 0.0318977624180286\n",
      "Features to drop (correlation > 0.3): [15, 22, 24, 26, 30, 33, 34, 38, 41, 42, 45, 48, 50, 51, 52, 55, 56, 61, 64, 66, 68, 69, 70, 71, 72, 74, 76, 78, 80, 82, 84, 85]\n",
      "Best Alpha for this fold: 0.0001, Best Fold Score: 0.048903964490831425\n",
      "Features to drop (correlation > 0.3): [15, 22, 24, 26, 30, 33, 34, 36, 38, 41, 45, 48, 49, 50, 51, 52, 53, 55, 56, 57, 61, 62, 64, 67, 68, 69, 70, 71, 72, 73, 74, 76, 78, 80, 82, 84, 85]\n",
      "Best Alpha for this fold: 0.0001, Best Fold Score: 0.03838284127732221\n",
      "Features to drop (correlation > 0.3): [15, 22, 26, 30, 33, 34, 38, 45, 48, 49, 50, 51, 53, 55, 56, 58, 61, 62, 64, 67, 68, 69, 70, 71, 72, 73, 74, 78, 81, 82, 84, 85]\n",
      "Best Alpha for this fold: 0.0001, Best Fold Score: 0.04432098089934397\n",
      "Features to drop (correlation > 0.3): [15, 17, 20, 22, 26, 30, 33, 34, 35, 38, 48, 49, 51, 52, 53, 55, 61, 63, 64, 68, 70, 71, 72, 73, 74, 75, 78, 79, 84, 85]\n",
      "Best Alpha for this fold: 0.0001, Best Fold Score: 0.13230200641365564\n",
      "Features to drop (correlation > 0.3): [5, 6, 7, 8, 9, 10, 11, 12, 13, 14, 15, 16, 17, 18, 19, 20, 21, 22, 23, 24, 26, 27, 30, 31, 33, 34, 35, 36, 37, 38, 39, 40, 41, 42, 43, 44, 45, 46, 47, 48, 49, 50, 51, 52, 53, 55, 56, 57, 58, 60, 61, 62, 63, 64, 65, 66, 67, 68, 69, 70, 71, 72, 73, 74, 75, 76, 77, 78, 79, 80, 81, 82, 83, 84, 85]\n",
      "Best Alpha for this fold: 0.0001, Best Fold Score: 0.0627448916956519\n",
      "Features to drop (correlation > 0.3): [5, 6, 7, 8, 9, 10, 11, 12, 13, 14, 15, 16, 17, 18, 19, 20, 21, 22, 23, 24, 26, 27, 30, 31, 33, 34, 35, 36, 37, 38, 39, 40, 41, 42, 43, 44, 45, 46, 47, 48, 49, 50, 51, 52, 53, 55, 56, 57, 58, 60, 61, 62, 63, 64, 65, 66, 67, 68, 69, 70, 71, 72, 73, 74, 75, 76, 77, 78, 79, 80, 81, 82, 83, 84, 85]\n",
      "Best Alpha for this fold: 0.0001, Best Fold Score: 0.0461791342377828\n",
      "Features to drop (correlation > 0.3): [5, 6, 7, 8, 9, 10, 11, 12, 13, 14, 15, 16, 17, 18, 19, 20, 21, 22, 23, 24, 26, 27, 28, 30, 31, 32, 33, 34, 35, 36, 37, 38, 39, 40, 41, 42, 43, 44, 45, 46, 47, 48, 49, 50, 51, 52, 53, 55, 56, 57, 58, 60, 61, 62, 63, 64, 65, 66, 67, 68, 69, 70, 71, 72, 73, 74, 75, 76, 77, 78, 79, 80, 81, 82, 83, 84, 85]\n",
      "Best Alpha for this fold: 0.0001, Best Fold Score: 0.05350262418389018\n",
      "Features to drop (correlation > 0.3): [5, 7, 12, 13, 14, 15, 16, 17, 18, 19, 20, 21, 22, 23, 24, 26, 28, 30, 31, 33, 34, 35, 36, 37, 38, 39, 40, 41, 42, 43, 45, 46, 48, 49, 50, 51, 52, 53, 55, 56, 57, 58, 60, 61, 62, 63, 64, 66, 67, 68, 69, 70, 71, 72, 73, 74, 75, 76, 78, 80, 81, 82, 83, 84, 85]\n",
      "Best Alpha for this fold: 0.0001, Best Fold Score: 0.03214367737764258\n",
      "Features to drop (correlation > 0.3): [7, 13, 14, 15, 16, 17, 19, 20, 21, 22, 23, 24, 26, 28, 30, 31, 33, 34, 35, 38, 39, 40, 41, 42, 45, 46, 48, 49, 50, 51, 52, 53, 55, 56, 57, 58, 61, 62, 63, 64, 66, 67, 68, 69, 70, 71, 72, 73, 74, 75, 76, 78, 80, 81, 82, 83, 84, 85]\n",
      "Best Alpha for this fold: 0.0001, Best Fold Score: 0.04632748120585534\n",
      "Features to drop (correlation > 0.3): [11, 12, 14, 15, 16, 17, 19, 20, 21, 22, 23, 24, 26, 30, 31, 33, 34, 38, 39, 40, 42, 44, 45, 46, 48, 49, 50, 51, 52, 53, 55, 56, 57, 58, 60, 61, 62, 63, 64, 66, 67, 68, 69, 70, 71, 72, 74, 75, 76, 78, 80, 81, 82, 83, 84, 85]\n",
      "Best Alpha for this fold: 0.0001, Best Fold Score: 0.06094687667083407\n",
      "Features to drop (correlation > 0.3): [5, 8, 11, 12, 13, 14, 15, 16, 17, 18, 19, 20, 21, 22, 23, 24, 26, 29, 30, 31, 33, 34, 35, 36, 37, 38, 39, 40, 41, 42, 43, 44, 45, 46, 48, 49, 50, 51, 52, 53, 55, 56, 57, 58, 60, 61, 62, 63, 64, 66, 67, 68, 69, 70, 71, 72, 73, 74, 75, 76, 77, 78, 80, 81, 82, 83, 84, 85]\n",
      "Best Alpha for this fold: 0.0001, Best Fold Score: 0.046560276830841525\n",
      "Threshold: 0.3, Tracking Error: 0.04765573302533704, Adj Tracking Error: 0.04838628315284264\n",
      "----------Starting threshold: 0.2-------------\n",
      "Features to drop (correlation > 0.2): [5, 6, 7, 9, 11, 12, 13, 14, 15, 16, 17, 19, 20, 21, 22, 23, 24, 25, 26, 30, 33, 34, 35, 37, 38, 39, 41, 42, 44, 45, 46, 48, 52, 53, 55, 56, 61, 63, 64, 65, 66, 67, 68, 69, 70, 71, 72, 73, 74, 75, 76, 78, 80, 81, 82, 84, 85]\n",
      "Best Alpha for this fold: 0.0001, Best Fold Score: 0.039243412806385686\n",
      "Features to drop (correlation > 0.2): [5, 6, 7, 9, 11, 12, 13, 14, 15, 16, 17, 18, 19, 20, 21, 22, 23, 24, 25, 26, 30, 31, 33, 34, 35, 37, 38, 39, 41, 42, 45, 46, 48, 52, 53, 55, 56, 57, 60, 61, 63, 64, 65, 66, 67, 68, 69, 70, 71, 72, 73, 74, 75, 76, 78, 79, 80, 81, 82, 83, 84, 85]\n",
      "Best Alpha for this fold: 0.0001, Best Fold Score: 0.05040241543214197\n",
      "Features to drop (correlation > 0.2): [5, 6, 7, 9, 11, 12, 13, 14, 15, 16, 17, 19, 20, 21, 22, 23, 24, 25, 26, 28, 30, 31, 33, 34, 35, 36, 37, 38, 39, 41, 42, 43, 44, 45, 46, 47, 48, 49, 50, 51, 52, 53, 55, 56, 57, 60, 61, 63, 64, 65, 66, 67, 68, 69, 70, 71, 72, 73, 74, 75, 76, 77, 78, 79, 80, 81, 82, 83, 84, 85]\n",
      "Best Alpha for this fold: 0.0001, Best Fold Score: 0.02899427877161978\n",
      "Features to drop (correlation > 0.2): [5, 6, 7, 9, 11, 12, 13, 14, 15, 16, 17, 18, 19, 20, 21, 22, 23, 24, 25, 26, 30, 31, 33, 34, 35, 36, 37, 38, 39, 40, 41, 42, 43, 44, 45, 46, 47, 48, 49, 50, 51, 52, 53, 54, 55, 56, 57, 60, 61, 62, 63, 64, 65, 66, 67, 68, 69, 70, 71, 72, 73, 74, 75, 76, 77, 78, 79, 80, 81, 82, 83, 84, 85]\n",
      "Best Alpha for this fold: 0.0001, Best Fold Score: 0.028048307902189762\n",
      "Features to drop (correlation > 0.2): [6, 7, 9, 11, 12, 13, 14, 15, 17, 19, 20, 22, 23, 24, 25, 26, 30, 31, 33, 34, 35, 36, 37, 38, 39, 40, 41, 42, 43, 45, 46, 48, 49, 50, 51, 52, 53, 54, 55, 56, 57, 60, 61, 62, 63, 64, 65, 66, 67, 68, 69, 70, 71, 72, 73, 74, 75, 76, 77, 78, 79, 80, 81, 82, 83, 84, 85]\n",
      "Best Alpha for this fold: 0.0001, Best Fold Score: 0.030794740120651906\n",
      "Features to drop (correlation > 0.2): [14, 15, 19, 20, 22, 26, 30, 33, 34, 35, 37, 38, 41, 45, 48, 49, 50, 51, 52, 53, 55, 56, 60, 61, 62, 63, 64, 66, 67, 68, 70, 71, 72, 74, 76, 78, 80, 81, 82, 84, 85]\n",
      "Best Alpha for this fold: 0.0001, Best Fold Score: 0.0412437090548932\n",
      "Features to drop (correlation > 0.2): [11, 14, 15, 16, 17, 19, 20, 22, 23, 24, 25, 26, 30, 31, 33, 34, 35, 36, 37, 38, 41, 42, 43, 45, 46, 48, 49, 50, 51, 52, 53, 55, 56, 57, 60, 61, 62, 63, 64, 65, 66, 67, 68, 69, 70, 71, 72, 73, 74, 75, 76, 78, 80, 81, 82, 83, 84, 85]\n",
      "Best Alpha for this fold: 0.0001, Best Fold Score: 0.03242231979609475\n",
      "Features to drop (correlation > 0.2): [11, 14, 15, 17, 18, 19, 20, 22, 23, 24, 25, 26, 30, 31, 33, 34, 35, 36, 37, 38, 39, 41, 42, 43, 44, 45, 46, 48, 49, 50, 51, 52, 53, 55, 56, 57, 58, 60, 61, 62, 63, 64, 65, 66, 67, 68, 69, 70, 71, 72, 73, 74, 75, 76, 78, 80, 81, 82, 83, 84, 85]\n",
      "Best Alpha for this fold: 0.0001, Best Fold Score: 0.05046828315177884\n",
      "Features to drop (correlation > 0.2): [5, 6, 11, 14, 15, 16, 17, 18, 19, 20, 22, 23, 24, 25, 26, 30, 31, 33, 34, 35, 36, 37, 38, 39, 41, 42, 43, 44, 45, 46, 48, 49, 50, 51, 52, 53, 55, 56, 57, 58, 60, 61, 62, 63, 64, 65, 66, 67, 68, 69, 70, 71, 72, 73, 74, 75, 76, 77, 78, 79, 80, 81, 82, 83, 84, 85]\n",
      "Best Alpha for this fold: 0.0001, Best Fold Score: 0.039896347515187225\n",
      "Features to drop (correlation > 0.2): [5, 11, 14, 15, 16, 17, 18, 19, 20, 22, 23, 24, 25, 26, 30, 31, 33, 34, 35, 36, 37, 38, 39, 40, 41, 42, 43, 44, 45, 46, 48, 49, 50, 51, 52, 53, 55, 56, 57, 58, 60, 61, 62, 63, 64, 65, 66, 67, 68, 69, 70, 71, 72, 73, 74, 75, 76, 77, 78, 79, 80, 81, 82, 83, 84, 85]\n",
      "Best Alpha for this fold: 0.0001, Best Fold Score: 0.04625532111504871\n",
      "Features to drop (correlation > 0.2): [9, 11, 12, 13, 14, 15, 16, 17, 18, 19, 20, 22, 23, 24, 25, 26, 30, 31, 33, 34, 35, 36, 37, 38, 39, 41, 43, 44, 45, 46, 47, 48, 49, 50, 51, 52, 53, 55, 56, 57, 58, 60, 61, 62, 63, 64, 65, 66, 67, 68, 69, 70, 71, 72, 73, 74, 75, 76, 77, 78, 79, 80, 81, 82, 83, 84, 85]\n",
      "Best Alpha for this fold: 0.0001, Best Fold Score: 0.13644160959891347\n",
      "Features to drop (correlation > 0.2): [1, 3, 4, 5, 6, 7, 8, 9, 10, 11, 12, 13, 14, 15, 16, 17, 18, 19, 20, 21, 22, 23, 24, 25, 26, 27, 28, 29, 30, 31, 32, 33, 34, 35, 36, 37, 38, 39, 40, 41, 42, 43, 44, 45, 46, 47, 48, 49, 50, 51, 52, 53, 54, 55, 56, 57, 58, 60, 61, 62, 63, 64, 65, 66, 67, 68, 69, 70, 71, 72, 73, 74, 75, 76, 77, 78, 79, 80, 81, 82, 83, 84, 85]\n",
      "Best Alpha for this fold: 0.0001, Best Fold Score: 0.06638104277907123\n",
      "Features to drop (correlation > 0.2): [1, 3, 4, 5, 6, 7, 8, 9, 10, 11, 12, 13, 14, 15, 16, 17, 18, 19, 20, 21, 22, 23, 24, 26, 27, 28, 29, 30, 31, 32, 33, 34, 35, 36, 37, 38, 39, 40, 41, 42, 43, 44, 45, 46, 47, 48, 49, 50, 51, 52, 53, 54, 55, 56, 57, 58, 60, 61, 62, 63, 64, 65, 66, 67, 68, 69, 70, 71, 72, 73, 74, 75, 76, 77, 78, 79, 80, 81, 82, 83, 84, 85]\n",
      "Best Alpha for this fold: 0.0001, Best Fold Score: 0.0489098981147428\n",
      "Features to drop (correlation > 0.2): [1, 2, 3, 4, 5, 6, 7, 8, 9, 10, 11, 12, 13, 14, 15, 16, 17, 18, 19, 20, 21, 22, 23, 24, 26, 27, 28, 29, 30, 31, 32, 33, 34, 35, 36, 37, 38, 39, 40, 41, 42, 43, 44, 45, 46, 47, 48, 49, 50, 51, 52, 53, 54, 55, 56, 57, 58, 60, 61, 62, 63, 64, 65, 66, 67, 68, 69, 70, 71, 72, 73, 74, 75, 76, 77, 78, 79, 80, 81, 82, 83, 84, 85]\n",
      "Best Alpha for this fold: 0.0001, Best Fold Score: 0.057482521884012074\n",
      "Features to drop (correlation > 0.2): [4, 5, 6, 7, 8, 9, 10, 11, 12, 13, 14, 15, 16, 17, 18, 19, 20, 21, 22, 23, 24, 26, 28, 29, 30, 31, 32, 33, 34, 35, 36, 37, 38, 39, 40, 41, 42, 43, 44, 45, 46, 47, 48, 49, 50, 51, 52, 53, 54, 55, 56, 57, 58, 60, 61, 62, 63, 64, 65, 66, 67, 68, 69, 70, 71, 72, 73, 74, 75, 76, 77, 78, 79, 80, 81, 82, 83, 84, 85]\n",
      "Best Alpha for this fold: 0.0001, Best Fold Score: 0.03346892538708952\n",
      "Features to drop (correlation > 0.2): [5, 6, 7, 8, 9, 10, 11, 12, 13, 14, 15, 16, 17, 18, 19, 20, 21, 22, 23, 24, 26, 28, 29, 30, 31, 33, 34, 35, 36, 37, 38, 39, 40, 41, 42, 43, 44, 45, 46, 47, 48, 49, 50, 51, 52, 53, 54, 55, 56, 57, 58, 60, 61, 62, 63, 64, 65, 66, 67, 68, 69, 70, 71, 72, 73, 74, 75, 76, 77, 78, 79, 80, 81, 82, 83, 84, 85]\n",
      "Best Alpha for this fold: 0.0001, Best Fold Score: 0.04805731776000139\n",
      "Features to drop (correlation > 0.2): [5, 6, 7, 8, 9, 10, 11, 12, 13, 14, 15, 16, 17, 18, 19, 20, 21, 22, 23, 24, 26, 28, 29, 30, 31, 33, 34, 35, 36, 37, 38, 39, 40, 41, 42, 43, 44, 45, 46, 47, 48, 49, 50, 51, 52, 53, 54, 55, 56, 57, 58, 60, 61, 62, 63, 64, 65, 66, 67, 68, 69, 70, 71, 72, 73, 74, 75, 76, 77, 78, 79, 80, 81, 82, 83, 84, 85]\n",
      "Best Alpha for this fold: 0.0001, Best Fold Score: 0.06295546487261401\n",
      "Features to drop (correlation > 0.2): [3, 4, 5, 6, 7, 8, 9, 10, 11, 12, 13, 14, 15, 16, 17, 18, 19, 20, 21, 22, 23, 24, 26, 28, 29, 30, 31, 33, 34, 35, 36, 37, 38, 39, 40, 41, 42, 43, 44, 45, 46, 47, 48, 49, 50, 51, 52, 53, 54, 55, 56, 57, 58, 60, 61, 62, 63, 64, 65, 66, 67, 68, 69, 70, 71, 72, 73, 74, 75, 76, 77, 78, 79, 80, 81, 82, 83, 84, 85]\n",
      "Best Alpha for this fold: 0.0001, Best Fold Score: 0.04778734202023394\n",
      "Threshold: 0.2, Tracking Error: 0.04940295878237057, Adj Tracking Error: 0.04999941235665962\n"
     ]
    },
    {
     "data": {
      "image/png": "[encoded data removed]",
      "text/plain": [
       "<Figure size 640x480 with 2 Axes>"
      ]
     },
     "metadata": {},
     "output_type": "display_data"
    }
   ],
   "source": [
    "Corr_Lasso_plot(X,y)"
   ]
  },
  {
   "cell_type": "code",
   "execution_count": 27,
   "id": "350dc45e",
   "metadata": {
    "execution": {
     "iopub.execute_input": "2024-12-07T12:34:03.544126Z",
     "iopub.status.busy": "2024-12-07T12:34:03.543677Z",
     "iopub.status.idle": "2024-12-07T12:46:36.735823Z",
     "shell.execute_reply": "2024-12-07T12:46:36.734600Z"
    },
    "papermill": {
     "duration": 753.225592,
     "end_time": "2024-12-07T12:46:36.738749",
     "exception": false,
     "start_time": "2024-12-07T12:34:03.513157",
     "status": "completed"
    },
    "tags": []
   },
   "outputs": [
    {
     "name": "stdout",
     "output_type": "stream",
     "text": [
      "----------Starting alpha 0.001-------------\n",
      "Train period: 2015-02-19 15:12:00 to 2016-04-07 11:40:00\n",
      "Test period: 2016-04-07 11:41:00 to 2016-08-16 10:27:00\n",
      "Selected 72 stocks\n",
      "Best Alpha for this fold: 0.0001, Best Fold Score: 0.037633181024703796\n",
      "Train period: 2015-06-29 13:49:00 to 2016-08-16 10:27:00\n",
      "Test period: 2016-08-16 10:28:00 to 2016-12-22 13:19:00\n",
      "Selected 73 stocks\n",
      "Best Alpha for this fold: 0.0001, Best Fold Score: 0.05002580777829724\n",
      "Train period: 2015-12-17 14:02:00 to 2016-12-22 13:19:00\n",
      "Test period: 2016-12-22 13:20:00 to 2017-05-02 12:41:00\n",
      "Selected 77 stocks\n",
      "Best Alpha for this fold: 0.0001, Best Fold Score: 0.027979556706381723\n",
      "Train period: 2016-04-29 14:28:00 to 2017-05-02 12:41:00\n",
      "Test period: 2017-05-02 12:42:00 to 2017-09-06 14:52:00\n",
      "Selected 78 stocks\n",
      "Best Alpha for this fold: 0.0001, Best Fold Score: 0.026597014791040915\n",
      "Train period: 2016-09-02 13:10:00 to 2017-09-06 14:52:00\n",
      "Test period: 2017-09-06 14:53:00 to 2018-01-11 12:46:00\n",
      "Selected 77 stocks\n",
      "Best Alpha for this fold: 0.0001, Best Fold Score: 0.030156599637927994\n",
      "Train period: 2017-01-11 09:49:00 to 2018-01-11 12:46:00\n",
      "Test period: 2018-01-11 12:47:00 to 2018-05-24 10:55:00\n",
      "Selected 72 stocks\n",
      "Best Alpha for this fold: 0.0001, Best Fold Score: 0.04074813067080073\n",
      "Train period: 2017-05-22 09:20:00 to 2018-05-24 10:55:00\n",
      "Test period: 2018-05-24 10:56:00 to 2018-09-28 13:36:00\n",
      "Selected 71 stocks\n",
      "Best Alpha for this fold: 0.0001, Best Fold Score: 0.03165337561806274\n",
      "Train period: 2017-09-26 11:50:00 to 2018-09-28 13:36:00\n",
      "Test period: 2018-09-28 13:37:00 to 2019-02-14 10:42:00\n",
      "Selected 72 stocks\n",
      "Best Alpha for this fold: 0.0001, Best Fold Score: 0.04881098997346459\n",
      "Train period: 2018-01-31 15:22:00 to 2019-02-14 10:42:00\n",
      "Test period: 2019-02-14 10:43:00 to 2019-07-17 10:21:00\n",
      "Selected 74 stocks\n",
      "Best Alpha for this fold: 0.0001, Best Fold Score: 0.03809597910380786\n",
      "Train period: 2018-06-12 13:54:00 to 2019-07-17 10:21:00\n",
      "Test period: 2019-07-17 10:24:00 to 2019-12-06 13:21:00\n",
      "Selected 74 stocks\n",
      "Best Alpha for this fold: 0.0001, Best Fold Score: 0.04417507994259364\n",
      "Train period: 2018-10-22 09:40:00 to 2019-12-06 13:21:00\n",
      "Test period: 2019-12-06 13:23:00 to 2020-04-24 15:02:00\n",
      "Selected 74 stocks\n",
      "Best Alpha for this fold: 0.0001, Best Fold Score: 0.13190118559047206\n",
      "Train period: 2019-03-08 12:01:00 to 2020-04-24 15:02:00\n",
      "Test period: 2020-04-24 15:03:00 to 2020-09-01 12:07:00\n"
     ]
    },
    {
     "name": "stderr",
     "output_type": "stream",
     "text": [
      "/opt/conda/lib/python3.10/site-packages/sklearn/linear_model/_coordinate_descent.py:631: ConvergenceWarning: Objective did not converge. You might want to increase the number of iterations, check the scale of the features or consider increasing regularisation. Duality gap: 6.355e-01, tolerance: 7.712e-02\n",
      "  model = cd_fast.enet_coordinate_descent(\n"
     ]
    },
    {
     "name": "stdout",
     "output_type": "stream",
     "text": [
      "Selected 82 stocks\n",
      "Best Alpha for this fold: 0.0001, Best Fold Score: 0.05863145944155975\n",
      "Train period: 2019-08-07 14:46:00 to 2020-09-01 12:07:00\n",
      "Test period: 2020-09-01 12:08:00 to 2021-01-11 09:37:00\n"
     ]
    },
    {
     "name": "stderr",
     "output_type": "stream",
     "text": [
      "/opt/conda/lib/python3.10/site-packages/sklearn/linear_model/_coordinate_descent.py:631: ConvergenceWarning: Objective did not converge. You might want to increase the number of iterations, check the scale of the features or consider increasing regularisation. Duality gap: 7.647e-01, tolerance: 8.593e-02\n",
      "  model = cd_fast.enet_coordinate_descent(\n"
     ]
    },
    {
     "name": "stdout",
     "output_type": "stream",
     "text": [
      "Selected 80 stocks\n",
      "Best Alpha for this fold: 0.0001, Best Fold Score: 0.044096700259039646\n",
      "Train period: 2020-01-03 15:00:00 to 2021-01-11 09:37:00\n",
      "Test period: 2021-01-11 09:38:00 to 2021-05-24 12:49:00\n"
     ]
    },
    {
     "name": "stderr",
     "output_type": "stream",
     "text": [
      "/opt/conda/lib/python3.10/site-packages/sklearn/linear_model/_coordinate_descent.py:631: ConvergenceWarning: Objective did not converge. You might want to increase the number of iterations, check the scale of the features or consider increasing regularisation. Duality gap: 7.981e-01, tolerance: 8.769e-02\n",
      "  model = cd_fast.enet_coordinate_descent(\n"
     ]
    },
    {
     "name": "stdout",
     "output_type": "stream",
     "text": [
      "Selected 83 stocks\n",
      "Best Alpha for this fold: 0.0001, Best Fold Score: 0.050086035190358896\n",
      "Train period: 2020-05-19 14:50:00 to 2021-05-24 12:49:00\n",
      "Test period: 2021-05-24 12:50:00 to 2021-09-28 14:42:00\n",
      "Selected 82 stocks\n",
      "Best Alpha for this fold: 0.0001, Best Fold Score: 0.030757340205887607\n",
      "Train period: 2020-09-28 10:52:00 to 2021-09-28 14:42:00\n",
      "Test period: 2021-09-28 14:43:00 to 2022-02-07 13:31:00\n",
      "Selected 81 stocks\n",
      "Best Alpha for this fold: 0.0001, Best Fold Score: 0.04579371958235278\n",
      "Train period: 2021-02-03 12:09:00 to 2022-02-07 13:31:00\n",
      "Test period: 2022-02-07 13:32:00 to 2022-06-14 14:33:00\n",
      "Selected 79 stocks\n",
      "Best Alpha for this fold: 0.0001, Best Fold Score: 0.060257209593759534\n",
      "Train period: 2021-06-17 10:05:00 to 2022-06-14 14:33:00\n",
      "Test period: 2022-06-14 14:34:00 to 2022-10-24 19:14:00\n",
      "Selected 81 stocks\n",
      "Best Alpha for this fold: 0.0001, Best Fold Score: 0.04524760929993786\n",
      "Alpha: 0.001, Average Tracking Error: 0.04681372080058052\n",
      "----------Starting alpha 0.002-------------\n",
      "Train period: 2015-02-19 15:12:00 to 2016-04-07 11:40:00\n",
      "Test period: 2016-04-07 11:41:00 to 2016-08-16 10:27:00\n",
      "Selected 58 stocks\n",
      "Best Alpha for this fold: 0.0001, Best Fold Score: 0.03773304526456323\n",
      "Train period: 2015-06-29 13:49:00 to 2016-08-16 10:27:00\n",
      "Test period: 2016-08-16 10:28:00 to 2016-12-22 13:19:00\n",
      "Selected 64 stocks\n",
      "Best Alpha for this fold: 0.0001, Best Fold Score: 0.05016781900378956\n",
      "Train period: 2015-12-17 14:02:00 to 2016-12-22 13:19:00\n",
      "Test period: 2016-12-22 13:20:00 to 2017-05-02 12:41:00\n",
      "Selected 70 stocks\n",
      "Best Alpha for this fold: 0.0001, Best Fold Score: 0.027991265936109146\n",
      "Train period: 2016-04-29 14:28:00 to 2017-05-02 12:41:00\n",
      "Test period: 2017-05-02 12:42:00 to 2017-09-06 14:52:00\n",
      "Selected 66 stocks\n",
      "Best Alpha for this fold: 0.0001, Best Fold Score: 0.02664256200025259\n",
      "Train period: 2016-09-02 13:10:00 to 2017-09-06 14:52:00\n",
      "Test period: 2017-09-06 14:53:00 to 2018-01-11 12:46:00\n",
      "Selected 67 stocks\n",
      "Best Alpha for this fold: 0.0001, Best Fold Score: 0.03017900395041294\n",
      "Train period: 2017-01-11 09:49:00 to 2018-01-11 12:46:00\n",
      "Test period: 2018-01-11 12:47:00 to 2018-05-24 10:55:00\n",
      "Selected 58 stocks\n",
      "Best Alpha for this fold: 0.0001, Best Fold Score: 0.04077077328850888\n",
      "Train period: 2017-05-22 09:20:00 to 2018-05-24 10:55:00\n",
      "Test period: 2018-05-24 10:56:00 to 2018-09-28 13:36:00\n",
      "Selected 58 stocks\n",
      "Best Alpha for this fold: 0.0001, Best Fold Score: 0.03166505296350009\n",
      "Train period: 2017-09-26 11:50:00 to 2018-09-28 13:36:00\n",
      "Test period: 2018-09-28 13:37:00 to 2019-02-14 10:42:00\n",
      "Selected 64 stocks\n",
      "Best Alpha for this fold: 0.0001, Best Fold Score: 0.04882626595754793\n",
      "Train period: 2018-01-31 15:22:00 to 2019-02-14 10:42:00\n",
      "Test period: 2019-02-14 10:43:00 to 2019-07-17 10:21:00\n",
      "Selected 68 stocks\n",
      "Best Alpha for this fold: 0.0001, Best Fold Score: 0.03811257779129611\n",
      "Train period: 2018-06-12 13:54:00 to 2019-07-17 10:21:00\n",
      "Test period: 2019-07-17 10:24:00 to 2019-12-06 13:21:00\n",
      "Selected 65 stocks\n",
      "Best Alpha for this fold: 0.0001, Best Fold Score: 0.044218795401792244\n",
      "Train period: 2018-10-22 09:40:00 to 2019-12-06 13:21:00\n",
      "Test period: 2019-12-06 13:23:00 to 2020-04-24 15:02:00\n",
      "Selected 63 stocks\n",
      "Best Alpha for this fold: 0.0001, Best Fold Score: 0.13202622441927014\n",
      "Train period: 2019-03-08 12:01:00 to 2020-04-24 15:02:00\n",
      "Test period: 2020-04-24 15:03:00 to 2020-09-01 12:07:00\n"
     ]
    },
    {
     "name": "stderr",
     "output_type": "stream",
     "text": [
      "/opt/conda/lib/python3.10/site-packages/sklearn/linear_model/_coordinate_descent.py:631: ConvergenceWarning: Objective did not converge. You might want to increase the number of iterations, check the scale of the features or consider increasing regularisation. Duality gap: 4.055e-01, tolerance: 7.712e-02\n",
      "  model = cd_fast.enet_coordinate_descent(\n"
     ]
    },
    {
     "name": "stdout",
     "output_type": "stream",
     "text": [
      "Selected 77 stocks\n",
      "Best Alpha for this fold: 0.0001, Best Fold Score: 0.058666363474652476\n",
      "Train period: 2019-08-07 14:46:00 to 2020-09-01 12:07:00\n",
      "Test period: 2020-09-01 12:08:00 to 2021-01-11 09:37:00\n"
     ]
    },
    {
     "name": "stderr",
     "output_type": "stream",
     "text": [
      "/opt/conda/lib/python3.10/site-packages/sklearn/linear_model/_coordinate_descent.py:631: ConvergenceWarning: Objective did not converge. You might want to increase the number of iterations, check the scale of the features or consider increasing regularisation. Duality gap: 6.081e-01, tolerance: 8.593e-02\n",
      "  model = cd_fast.enet_coordinate_descent(\n"
     ]
    },
    {
     "name": "stdout",
     "output_type": "stream",
     "text": [
      "Selected 78 stocks\n",
      "Best Alpha for this fold: 0.0001, Best Fold Score: 0.04410105441920642\n",
      "Train period: 2020-01-03 15:00:00 to 2021-01-11 09:37:00\n",
      "Test period: 2021-01-11 09:38:00 to 2021-05-24 12:49:00\n"
     ]
    },
    {
     "name": "stderr",
     "output_type": "stream",
     "text": [
      "/opt/conda/lib/python3.10/site-packages/sklearn/linear_model/_coordinate_descent.py:631: ConvergenceWarning: Objective did not converge. You might want to increase the number of iterations, check the scale of the features or consider increasing regularisation. Duality gap: 6.334e-01, tolerance: 8.769e-02\n",
      "  model = cd_fast.enet_coordinate_descent(\n"
     ]
    },
    {
     "name": "stdout",
     "output_type": "stream",
     "text": [
      "Selected 78 stocks\n",
      "Best Alpha for this fold: 0.0001, Best Fold Score: 0.05011654225189297\n",
      "Train period: 2020-05-19 14:50:00 to 2021-05-24 12:49:00\n",
      "Test period: 2021-05-24 12:50:00 to 2021-09-28 14:42:00\n",
      "Selected 74 stocks\n",
      "Best Alpha for this fold: 0.0001, Best Fold Score: 0.03077426850558198\n",
      "Train period: 2020-09-28 10:52:00 to 2021-09-28 14:42:00\n",
      "Test period: 2021-09-28 14:43:00 to 2022-02-07 13:31:00\n",
      "Selected 69 stocks\n",
      "Best Alpha for this fold: 0.0001, Best Fold Score: 0.045817492972453654\n",
      "Train period: 2021-02-03 12:09:00 to 2022-02-07 13:31:00\n",
      "Test period: 2022-02-07 13:32:00 to 2022-06-14 14:33:00\n",
      "Selected 70 stocks\n",
      "Best Alpha for this fold: 0.0001, Best Fold Score: 0.06029364138747186\n",
      "Train period: 2021-06-17 10:05:00 to 2022-06-14 14:33:00\n",
      "Test period: 2022-06-14 14:34:00 to 2022-10-24 19:14:00\n",
      "Selected 72 stocks\n",
      "Best Alpha for this fold: 0.0001, Best Fold Score: 0.045265389005964045\n",
      "Alpha: 0.002, Average Tracking Error: 0.046853785444125905\n",
      "----------Starting alpha 0.003-------------\n",
      "Train period: 2015-02-19 15:12:00 to 2016-04-07 11:40:00\n",
      "Test period: 2016-04-07 11:41:00 to 2016-08-16 10:27:00\n",
      "Selected 52 stocks\n",
      "Best Alpha for this fold: 0.0001, Best Fold Score: 0.03778122380333653\n",
      "Train period: 2015-06-29 13:49:00 to 2016-08-16 10:27:00\n",
      "Test period: 2016-08-16 10:28:00 to 2016-12-22 13:19:00\n",
      "Selected 57 stocks\n",
      "Best Alpha for this fold: 0.0001, Best Fold Score: 0.05029346780169003\n",
      "Train period: 2015-12-17 14:02:00 to 2016-12-22 13:19:00\n",
      "Test period: 2016-12-22 13:20:00 to 2017-05-02 12:41:00\n",
      "Selected 62 stocks\n",
      "Best Alpha for this fold: 0.0001, Best Fold Score: 0.028033719640758296\n",
      "Train period: 2016-04-29 14:28:00 to 2017-05-02 12:41:00\n",
      "Test period: 2017-05-02 12:42:00 to 2017-09-06 14:52:00\n",
      "Selected 58 stocks\n",
      "Best Alpha for this fold: 0.0001, Best Fold Score: 0.026657666738886903\n",
      "Train period: 2016-09-02 13:10:00 to 2017-09-06 14:52:00\n",
      "Test period: 2017-09-06 14:53:00 to 2018-01-11 12:46:00\n",
      "Selected 58 stocks\n",
      "Best Alpha for this fold: 0.0001, Best Fold Score: 0.03018257645481638\n",
      "Train period: 2017-01-11 09:49:00 to 2018-01-11 12:46:00\n",
      "Test period: 2018-01-11 12:47:00 to 2018-05-24 10:55:00\n",
      "Selected 50 stocks\n",
      "Best Alpha for this fold: 0.0001, Best Fold Score: 0.04080868082604097\n",
      "Train period: 2017-05-22 09:20:00 to 2018-05-24 10:55:00\n",
      "Test period: 2018-05-24 10:56:00 to 2018-09-28 13:36:00\n",
      "Selected 44 stocks\n",
      "Best Alpha for this fold: 0.0001, Best Fold Score: 0.03169368626868943\n",
      "Train period: 2017-09-26 11:50:00 to 2018-09-28 13:36:00\n",
      "Test period: 2018-09-28 13:37:00 to 2019-02-14 10:42:00\n",
      "Selected 48 stocks\n",
      "Best Alpha for this fold: 0.0001, Best Fold Score: 0.04893993013869589\n",
      "Train period: 2018-01-31 15:22:00 to 2019-02-14 10:42:00\n",
      "Test period: 2019-02-14 10:43:00 to 2019-07-17 10:21:00\n",
      "Selected 58 stocks\n",
      "Best Alpha for this fold: 0.0001, Best Fold Score: 0.03812179439814543\n",
      "Train period: 2018-06-12 13:54:00 to 2019-07-17 10:21:00\n",
      "Test period: 2019-07-17 10:24:00 to 2019-12-06 13:21:00\n",
      "Selected 48 stocks\n",
      "Best Alpha for this fold: 0.0001, Best Fold Score: 0.04427700247233578\n",
      "Train period: 2018-10-22 09:40:00 to 2019-12-06 13:21:00\n",
      "Test period: 2019-12-06 13:23:00 to 2020-04-24 15:02:00\n",
      "Selected 49 stocks\n",
      "Best Alpha for this fold: 0.0001, Best Fold Score: 0.13228140995774657\n",
      "Train period: 2019-03-08 12:01:00 to 2020-04-24 15:02:00\n",
      "Test period: 2020-04-24 15:03:00 to 2020-09-01 12:07:00\n"
     ]
    },
    {
     "name": "stderr",
     "output_type": "stream",
     "text": [
      "/opt/conda/lib/python3.10/site-packages/sklearn/linear_model/_coordinate_descent.py:631: ConvergenceWarning: Objective did not converge. You might want to increase the number of iterations, check the scale of the features or consider increasing regularisation. Duality gap: 2.315e-01, tolerance: 7.712e-02\n",
      "  model = cd_fast.enet_coordinate_descent(\n"
     ]
    },
    {
     "name": "stdout",
     "output_type": "stream",
     "text": [
      "Selected 68 stocks\n",
      "Best Alpha for this fold: 0.0001, Best Fold Score: 0.0587350365585386\n",
      "Train period: 2019-08-07 14:46:00 to 2020-09-01 12:07:00\n",
      "Test period: 2020-09-01 12:08:00 to 2021-01-11 09:37:00\n"
     ]
    },
    {
     "name": "stderr",
     "output_type": "stream",
     "text": [
      "/opt/conda/lib/python3.10/site-packages/sklearn/linear_model/_coordinate_descent.py:631: ConvergenceWarning: Objective did not converge. You might want to increase the number of iterations, check the scale of the features or consider increasing regularisation. Duality gap: 3.741e-01, tolerance: 8.593e-02\n",
      "  model = cd_fast.enet_coordinate_descent(\n"
     ]
    },
    {
     "name": "stdout",
     "output_type": "stream",
     "text": [
      "Selected 74 stocks\n",
      "Best Alpha for this fold: 0.0001, Best Fold Score: 0.044126474629450116\n",
      "Train period: 2020-01-03 15:00:00 to 2021-01-11 09:37:00\n",
      "Test period: 2021-01-11 09:38:00 to 2021-05-24 12:49:00\n"
     ]
    },
    {
     "name": "stderr",
     "output_type": "stream",
     "text": [
      "/opt/conda/lib/python3.10/site-packages/sklearn/linear_model/_coordinate_descent.py:631: ConvergenceWarning: Objective did not converge. You might want to increase the number of iterations, check the scale of the features or consider increasing regularisation. Duality gap: 4.978e-01, tolerance: 8.769e-02\n",
      "  model = cd_fast.enet_coordinate_descent(\n"
     ]
    },
    {
     "name": "stdout",
     "output_type": "stream",
     "text": [
      "Selected 73 stocks\n",
      "Best Alpha for this fold: 0.0001, Best Fold Score: 0.050151999546022355\n",
      "Train period: 2020-05-19 14:50:00 to 2021-05-24 12:49:00\n",
      "Test period: 2021-05-24 12:50:00 to 2021-09-28 14:42:00\n",
      "Selected 66 stocks\n",
      "Best Alpha for this fold: 0.0001, Best Fold Score: 0.030782576316807985\n",
      "Train period: 2020-09-28 10:52:00 to 2021-09-28 14:42:00\n",
      "Test period: 2021-09-28 14:43:00 to 2022-02-07 13:31:00\n",
      "Selected 60 stocks\n",
      "Best Alpha for this fold: 0.0001, Best Fold Score: 0.045841223012119785\n",
      "Train period: 2021-02-03 12:09:00 to 2022-02-07 13:31:00\n",
      "Test period: 2022-02-07 13:32:00 to 2022-06-14 14:33:00\n",
      "Selected 57 stocks\n",
      "Best Alpha for this fold: 0.0001, Best Fold Score: 0.060353401770396775\n",
      "Train period: 2021-06-17 10:05:00 to 2022-06-14 14:33:00\n",
      "Test period: 2022-06-14 14:34:00 to 2022-10-24 19:14:00\n",
      "Selected 59 stocks\n",
      "Best Alpha for this fold: 0.0001, Best Fold Score: 0.04528875700686836\n",
      "Alpha: 0.003, Average Tracking Error: 0.04690836818563035\n",
      "----------Starting alpha 0.004-------------\n",
      "Train period: 2015-02-19 15:12:00 to 2016-04-07 11:40:00\n",
      "Test period: 2016-04-07 11:41:00 to 2016-08-16 10:27:00\n",
      "Selected 49 stocks\n",
      "Best Alpha for this fold: 0.0001, Best Fold Score: 0.037792718408625\n",
      "Train period: 2015-06-29 13:49:00 to 2016-08-16 10:27:00\n",
      "Test period: 2016-08-16 10:28:00 to 2016-12-22 13:19:00\n",
      "Selected 53 stocks\n",
      "Best Alpha for this fold: 0.0001, Best Fold Score: 0.050353385918230555\n",
      "Train period: 2015-12-17 14:02:00 to 2016-12-22 13:19:00\n",
      "Test period: 2016-12-22 13:20:00 to 2017-05-02 12:41:00\n",
      "Selected 53 stocks\n",
      "Best Alpha for this fold: 0.0001, Best Fold Score: 0.028070006421712528\n",
      "Train period: 2016-04-29 14:28:00 to 2017-05-02 12:41:00\n",
      "Test period: 2017-05-02 12:42:00 to 2017-09-06 14:52:00\n",
      "Selected 51 stocks\n",
      "Best Alpha for this fold: 0.0001, Best Fold Score: 0.02665165118168378\n",
      "Train period: 2016-09-02 13:10:00 to 2017-09-06 14:52:00\n",
      "Test period: 2017-09-06 14:53:00 to 2018-01-11 12:46:00\n",
      "Selected 47 stocks\n",
      "Best Alpha for this fold: 0.0001, Best Fold Score: 0.03022428400677277\n",
      "Train period: 2017-01-11 09:49:00 to 2018-01-11 12:46:00\n",
      "Test period: 2018-01-11 12:47:00 to 2018-05-24 10:55:00\n",
      "Selected 41 stocks\n",
      "Best Alpha for this fold: 0.0001, Best Fold Score: 0.04080532912711756\n",
      "Train period: 2017-05-22 09:20:00 to 2018-05-24 10:55:00\n",
      "Test period: 2018-05-24 10:56:00 to 2018-09-28 13:36:00\n",
      "Selected 40 stocks\n",
      "Best Alpha for this fold: 0.0001, Best Fold Score: 0.03168228890671457\n",
      "Train period: 2017-09-26 11:50:00 to 2018-09-28 13:36:00\n",
      "Test period: 2018-09-28 13:37:00 to 2019-02-14 10:42:00\n",
      "Selected 38 stocks\n",
      "Best Alpha for this fold: 0.0001, Best Fold Score: 0.04905376751556371\n",
      "Train period: 2018-01-31 15:22:00 to 2019-02-14 10:42:00\n",
      "Test period: 2019-02-14 10:43:00 to 2019-07-17 10:21:00\n",
      "Selected 47 stocks\n",
      "Best Alpha for this fold: 0.0001, Best Fold Score: 0.03817802889282709\n",
      "Train period: 2018-06-12 13:54:00 to 2019-07-17 10:21:00\n",
      "Test period: 2019-07-17 10:24:00 to 2019-12-06 13:21:00\n",
      "Selected 43 stocks\n",
      "Best Alpha for this fold: 0.0001, Best Fold Score: 0.04434271701791559\n",
      "Train period: 2018-10-22 09:40:00 to 2019-12-06 13:21:00\n",
      "Test period: 2019-12-06 13:23:00 to 2020-04-24 15:02:00\n",
      "Selected 38 stocks\n",
      "Best Alpha for this fold: 0.0001, Best Fold Score: 0.13288035984294122\n",
      "Train period: 2019-03-08 12:01:00 to 2020-04-24 15:02:00\n",
      "Test period: 2020-04-24 15:03:00 to 2020-09-01 12:07:00\n"
     ]
    },
    {
     "name": "stderr",
     "output_type": "stream",
     "text": [
      "/opt/conda/lib/python3.10/site-packages/sklearn/linear_model/_coordinate_descent.py:631: ConvergenceWarning: Objective did not converge. You might want to increase the number of iterations, check the scale of the features or consider increasing regularisation. Duality gap: 1.843e-01, tolerance: 7.712e-02\n",
      "  model = cd_fast.enet_coordinate_descent(\n"
     ]
    },
    {
     "name": "stdout",
     "output_type": "stream",
     "text": [
      "Selected 64 stocks\n",
      "Best Alpha for this fold: 0.0001, Best Fold Score: 0.058734819964909105\n",
      "Train period: 2019-08-07 14:46:00 to 2020-09-01 12:07:00\n",
      "Test period: 2020-09-01 12:08:00 to 2021-01-11 09:37:00\n"
     ]
    },
    {
     "name": "stderr",
     "output_type": "stream",
     "text": [
      "/opt/conda/lib/python3.10/site-packages/sklearn/linear_model/_coordinate_descent.py:631: ConvergenceWarning: Objective did not converge. You might want to increase the number of iterations, check the scale of the features or consider increasing regularisation. Duality gap: 2.244e-01, tolerance: 8.593e-02\n",
      "  model = cd_fast.enet_coordinate_descent(\n"
     ]
    },
    {
     "name": "stdout",
     "output_type": "stream",
     "text": [
      "Selected 66 stocks\n",
      "Best Alpha for this fold: 0.0001, Best Fold Score: 0.044143758060400065\n",
      "Train period: 2020-01-03 15:00:00 to 2021-01-11 09:37:00\n",
      "Test period: 2021-01-11 09:38:00 to 2021-05-24 12:49:00\n"
     ]
    },
    {
     "name": "stderr",
     "output_type": "stream",
     "text": [
      "/opt/conda/lib/python3.10/site-packages/sklearn/linear_model/_coordinate_descent.py:631: ConvergenceWarning: Objective did not converge. You might want to increase the number of iterations, check the scale of the features or consider increasing regularisation. Duality gap: 3.062e-01, tolerance: 8.769e-02\n",
      "  model = cd_fast.enet_coordinate_descent(\n"
     ]
    },
    {
     "name": "stdout",
     "output_type": "stream",
     "text": [
      "Selected 68 stocks\n",
      "Best Alpha for this fold: 0.0001, Best Fold Score: 0.05016769894271749\n",
      "Train period: 2020-05-19 14:50:00 to 2021-05-24 12:49:00\n",
      "Test period: 2021-05-24 12:50:00 to 2021-09-28 14:42:00\n",
      "Selected 56 stocks\n",
      "Best Alpha for this fold: 0.0001, Best Fold Score: 0.03079457274664715\n",
      "Train period: 2020-09-28 10:52:00 to 2021-09-28 14:42:00\n",
      "Test period: 2021-09-28 14:43:00 to 2022-02-07 13:31:00\n",
      "Selected 54 stocks\n",
      "Best Alpha for this fold: 0.0001, Best Fold Score: 0.04586312198584476\n",
      "Train period: 2021-02-03 12:09:00 to 2022-02-07 13:31:00\n",
      "Test period: 2022-02-07 13:32:00 to 2022-06-14 14:33:00\n",
      "Selected 51 stocks\n",
      "Best Alpha for this fold: 0.0001, Best Fold Score: 0.06037175430260273\n",
      "Train period: 2021-06-17 10:05:00 to 2022-06-14 14:33:00\n",
      "Test period: 2022-06-14 14:34:00 to 2022-10-24 19:14:00\n",
      "Selected 50 stocks\n",
      "Best Alpha for this fold: 0.0001, Best Fold Score: 0.04527338906600026\n",
      "Alpha: 0.004, Average Tracking Error: 0.046965758461623666\n",
      "----------Starting alpha 0.005-------------\n",
      "Train period: 2015-02-19 15:12:00 to 2016-04-07 11:40:00\n",
      "Test period: 2016-04-07 11:41:00 to 2016-08-16 10:27:00\n",
      "Selected 43 stocks\n",
      "Best Alpha for this fold: 0.0001, Best Fold Score: 0.037806701119487404\n",
      "Train period: 2015-06-29 13:49:00 to 2016-08-16 10:27:00\n",
      "Test period: 2016-08-16 10:28:00 to 2016-12-22 13:19:00\n",
      "Selected 44 stocks\n",
      "Best Alpha for this fold: 0.0001, Best Fold Score: 0.05047176571557149\n",
      "Train period: 2015-12-17 14:02:00 to 2016-12-22 13:19:00\n",
      "Test period: 2016-12-22 13:20:00 to 2017-05-02 12:41:00\n",
      "Selected 46 stocks\n",
      "Best Alpha for this fold: 0.0001, Best Fold Score: 0.028112283044219158\n",
      "Train period: 2016-04-29 14:28:00 to 2017-05-02 12:41:00\n",
      "Test period: 2017-05-02 12:42:00 to 2017-09-06 14:52:00\n",
      "Selected 41 stocks\n",
      "Best Alpha for this fold: 0.0001, Best Fold Score: 0.02667469004964471\n",
      "Train period: 2016-09-02 13:10:00 to 2017-09-06 14:52:00\n",
      "Test period: 2017-09-06 14:53:00 to 2018-01-11 12:46:00\n",
      "Selected 41 stocks\n",
      "Best Alpha for this fold: 0.0001, Best Fold Score: 0.03023741785376571\n",
      "Train period: 2017-01-11 09:49:00 to 2018-01-11 12:46:00\n",
      "Test period: 2018-01-11 12:47:00 to 2018-05-24 10:55:00\n",
      "Selected 35 stocks\n",
      "Best Alpha for this fold: 0.0001, Best Fold Score: 0.04086908983755893\n",
      "Train period: 2017-05-22 09:20:00 to 2018-05-24 10:55:00\n",
      "Test period: 2018-05-24 10:56:00 to 2018-09-28 13:36:00\n",
      "Selected 33 stocks\n",
      "Best Alpha for this fold: 0.0001, Best Fold Score: 0.031755868788687525\n",
      "Train period: 2017-09-26 11:50:00 to 2018-09-28 13:36:00\n",
      "Test period: 2018-09-28 13:37:00 to 2019-02-14 10:42:00\n",
      "Selected 32 stocks\n",
      "Best Alpha for this fold: 0.0001, Best Fold Score: 0.04918254723108153\n",
      "Train period: 2018-01-31 15:22:00 to 2019-02-14 10:42:00\n",
      "Test period: 2019-02-14 10:43:00 to 2019-07-17 10:21:00\n",
      "Selected 37 stocks\n",
      "Best Alpha for this fold: 0.0001, Best Fold Score: 0.0383094120062327\n",
      "Train period: 2018-06-12 13:54:00 to 2019-07-17 10:21:00\n",
      "Test period: 2019-07-17 10:24:00 to 2019-12-06 13:21:00\n",
      "Selected 36 stocks\n",
      "Best Alpha for this fold: 0.0001, Best Fold Score: 0.0444688329354387\n",
      "Train period: 2018-10-22 09:40:00 to 2019-12-06 13:21:00\n",
      "Test period: 2019-12-06 13:23:00 to 2020-04-24 15:02:00\n",
      "Selected 30 stocks\n",
      "Best Alpha for this fold: 0.0001, Best Fold Score: 0.13335664540433734\n",
      "Train period: 2019-03-08 12:01:00 to 2020-04-24 15:02:00\n",
      "Test period: 2020-04-24 15:03:00 to 2020-09-01 12:07:00\n"
     ]
    },
    {
     "name": "stderr",
     "output_type": "stream",
     "text": [
      "/opt/conda/lib/python3.10/site-packages/sklearn/linear_model/_coordinate_descent.py:631: ConvergenceWarning: Objective did not converge. You might want to increase the number of iterations, check the scale of the features or consider increasing regularisation. Duality gap: 1.526e-01, tolerance: 7.712e-02\n",
      "  model = cd_fast.enet_coordinate_descent(\n"
     ]
    },
    {
     "name": "stdout",
     "output_type": "stream",
     "text": [
      "Selected 59 stocks\n",
      "Best Alpha for this fold: 0.0001, Best Fold Score: 0.05872665169631603\n",
      "Train period: 2019-08-07 14:46:00 to 2020-09-01 12:07:00\n",
      "Test period: 2020-09-01 12:08:00 to 2021-01-11 09:37:00\n"
     ]
    },
    {
     "name": "stderr",
     "output_type": "stream",
     "text": [
      "/opt/conda/lib/python3.10/site-packages/sklearn/linear_model/_coordinate_descent.py:631: ConvergenceWarning: Objective did not converge. You might want to increase the number of iterations, check the scale of the features or consider increasing regularisation. Duality gap: 1.885e-01, tolerance: 8.593e-02\n",
      "  model = cd_fast.enet_coordinate_descent(\n"
     ]
    },
    {
     "name": "stdout",
     "output_type": "stream",
     "text": [
      "Selected 60 stocks\n",
      "Best Alpha for this fold: 0.0001, Best Fold Score: 0.04416359245863733\n",
      "Train period: 2020-01-03 15:00:00 to 2021-01-11 09:37:00\n",
      "Test period: 2021-01-11 09:38:00 to 2021-05-24 12:49:00\n"
     ]
    },
    {
     "name": "stderr",
     "output_type": "stream",
     "text": [
      "/opt/conda/lib/python3.10/site-packages/sklearn/linear_model/_coordinate_descent.py:631: ConvergenceWarning: Objective did not converge. You might want to increase the number of iterations, check the scale of the features or consider increasing regularisation. Duality gap: 2.105e-01, tolerance: 8.769e-02\n",
      "  model = cd_fast.enet_coordinate_descent(\n"
     ]
    },
    {
     "name": "stdout",
     "output_type": "stream",
     "text": [
      "Selected 62 stocks\n",
      "Best Alpha for this fold: 0.0001, Best Fold Score: 0.05019783268569499\n",
      "Train period: 2020-05-19 14:50:00 to 2021-05-24 12:49:00\n",
      "Test period: 2021-05-24 12:50:00 to 2021-09-28 14:42:00\n",
      "Selected 50 stocks\n",
      "Best Alpha for this fold: 0.0001, Best Fold Score: 0.030824610014860244\n",
      "Train period: 2020-09-28 10:52:00 to 2021-09-28 14:42:00\n",
      "Test period: 2021-09-28 14:43:00 to 2022-02-07 13:31:00\n",
      "Selected 46 stocks\n",
      "Best Alpha for this fold: 0.0001, Best Fold Score: 0.04588456622818864\n",
      "Train period: 2021-02-03 12:09:00 to 2022-02-07 13:31:00\n",
      "Test period: 2022-02-07 13:32:00 to 2022-06-14 14:33:00\n",
      "Selected 43 stocks\n",
      "Best Alpha for this fold: 0.0001, Best Fold Score: 0.060466337803125506\n",
      "Train period: 2021-06-17 10:05:00 to 2022-06-14 14:33:00\n",
      "Test period: 2022-06-14 14:34:00 to 2022-10-24 19:14:00\n",
      "Selected 46 stocks\n",
      "Best Alpha for this fold: 0.0001, Best Fold Score: 0.045288587705489804\n",
      "Alpha: 0.005, Average Tracking Error: 0.04704430180990765\n",
      "----------Starting alpha 0.006-------------\n",
      "Train period: 2015-02-19 15:12:00 to 2016-04-07 11:40:00\n",
      "Test period: 2016-04-07 11:41:00 to 2016-08-16 10:27:00\n",
      "Selected 40 stocks\n",
      "Best Alpha for this fold: 0.0001, Best Fold Score: 0.03783380513369076\n",
      "Train period: 2015-06-29 13:49:00 to 2016-08-16 10:27:00\n",
      "Test period: 2016-08-16 10:28:00 to 2016-12-22 13:19:00\n",
      "Selected 37 stocks\n",
      "Best Alpha for this fold: 0.0001, Best Fold Score: 0.050467350035232096\n",
      "Train period: 2015-12-17 14:02:00 to 2016-12-22 13:19:00\n",
      "Test period: 2016-12-22 13:20:00 to 2017-05-02 12:41:00\n",
      "Selected 42 stocks\n",
      "Best Alpha for this fold: 0.0001, Best Fold Score: 0.028105766285866814\n",
      "Train period: 2016-04-29 14:28:00 to 2017-05-02 12:41:00\n",
      "Test period: 2017-05-02 12:42:00 to 2017-09-06 14:52:00\n",
      "Selected 39 stocks\n",
      "Best Alpha for this fold: 0.0001, Best Fold Score: 0.026659302622232053\n",
      "Train period: 2016-09-02 13:10:00 to 2017-09-06 14:52:00\n",
      "Test period: 2017-09-06 14:53:00 to 2018-01-11 12:46:00\n",
      "Selected 37 stocks\n",
      "Best Alpha for this fold: 0.0001, Best Fold Score: 0.03024361681024226\n",
      "Train period: 2017-01-11 09:49:00 to 2018-01-11 12:46:00\n",
      "Test period: 2018-01-11 12:47:00 to 2018-05-24 10:55:00\n",
      "Selected 25 stocks\n",
      "Best Alpha for this fold: 0.0001, Best Fold Score: 0.04094995134673056\n",
      "Train period: 2017-05-22 09:20:00 to 2018-05-24 10:55:00\n",
      "Test period: 2018-05-24 10:56:00 to 2018-09-28 13:36:00\n",
      "Selected 26 stocks\n",
      "Best Alpha for this fold: 0.0001, Best Fold Score: 0.031715790744397766\n",
      "Train period: 2017-09-26 11:50:00 to 2018-09-28 13:36:00\n",
      "Test period: 2018-09-28 13:37:00 to 2019-02-14 10:42:00\n",
      "Selected 28 stocks\n",
      "Best Alpha for this fold: 0.0001, Best Fold Score: 0.049215660432264614\n",
      "Train period: 2018-01-31 15:22:00 to 2019-02-14 10:42:00\n",
      "Test period: 2019-02-14 10:43:00 to 2019-07-17 10:21:00\n",
      "Selected 29 stocks\n",
      "Best Alpha for this fold: 0.0001, Best Fold Score: 0.03837592150588575\n",
      "Train period: 2018-06-12 13:54:00 to 2019-07-17 10:21:00\n",
      "Test period: 2019-07-17 10:24:00 to 2019-12-06 13:21:00\n",
      "Selected 32 stocks\n",
      "Best Alpha for this fold: 0.0001, Best Fold Score: 0.044468262177442784\n",
      "Train period: 2018-10-22 09:40:00 to 2019-12-06 13:21:00\n",
      "Test period: 2019-12-06 13:23:00 to 2020-04-24 15:02:00\n",
      "Selected 25 stocks\n",
      "Best Alpha for this fold: 0.0001, Best Fold Score: 0.13359593982862702\n",
      "Train period: 2019-03-08 12:01:00 to 2020-04-24 15:02:00\n",
      "Test period: 2020-04-24 15:03:00 to 2020-09-01 12:07:00\n",
      "Selected 52 stocks\n",
      "Best Alpha for this fold: 0.0001, Best Fold Score: 0.05870304212720963\n",
      "Train period: 2019-08-07 14:46:00 to 2020-09-01 12:07:00\n",
      "Test period: 2020-09-01 12:08:00 to 2021-01-11 09:37:00\n"
     ]
    },
    {
     "name": "stderr",
     "output_type": "stream",
     "text": [
      "/opt/conda/lib/python3.10/site-packages/sklearn/linear_model/_coordinate_descent.py:631: ConvergenceWarning: Objective did not converge. You might want to increase the number of iterations, check the scale of the features or consider increasing regularisation. Duality gap: 1.228e-01, tolerance: 8.593e-02\n",
      "  model = cd_fast.enet_coordinate_descent(\n"
     ]
    },
    {
     "name": "stdout",
     "output_type": "stream",
     "text": [
      "Selected 55 stocks\n",
      "Best Alpha for this fold: 0.0001, Best Fold Score: 0.044214010196217894\n",
      "Train period: 2020-01-03 15:00:00 to 2021-01-11 09:37:00\n",
      "Test period: 2021-01-11 09:38:00 to 2021-05-24 12:49:00\n"
     ]
    },
    {
     "name": "stderr",
     "output_type": "stream",
     "text": [
      "/opt/conda/lib/python3.10/site-packages/sklearn/linear_model/_coordinate_descent.py:631: ConvergenceWarning: Objective did not converge. You might want to increase the number of iterations, check the scale of the features or consider increasing regularisation. Duality gap: 1.626e-01, tolerance: 8.769e-02\n",
      "  model = cd_fast.enet_coordinate_descent(\n"
     ]
    },
    {
     "name": "stdout",
     "output_type": "stream",
     "text": [
      "Selected 55 stocks\n",
      "Best Alpha for this fold: 0.0001, Best Fold Score: 0.05026100511808419\n",
      "Train period: 2020-05-19 14:50:00 to 2021-05-24 12:49:00\n",
      "Test period: 2021-05-24 12:50:00 to 2021-09-28 14:42:00\n",
      "Selected 43 stocks\n",
      "Best Alpha for this fold: 0.0001, Best Fold Score: 0.03081008576802596\n",
      "Train period: 2020-09-28 10:52:00 to 2021-09-28 14:42:00\n",
      "Test period: 2021-09-28 14:43:00 to 2022-02-07 13:31:00\n",
      "Selected 36 stocks\n",
      "Best Alpha for this fold: 0.0001, Best Fold Score: 0.04589270724098062\n",
      "Train period: 2021-02-03 12:09:00 to 2022-02-07 13:31:00\n",
      "Test period: 2022-02-07 13:32:00 to 2022-06-14 14:33:00\n",
      "Selected 35 stocks\n",
      "Best Alpha for this fold: 0.0001, Best Fold Score: 0.06043008103504899\n",
      "Train period: 2021-06-17 10:05:00 to 2022-06-14 14:33:00\n",
      "Test period: 2022-06-14 14:34:00 to 2022-10-24 19:14:00\n",
      "Selected 42 stocks\n",
      "Best Alpha for this fold: 0.0001, Best Fold Score: 0.04530097270375028\n",
      "Alpha: 0.006, Average Tracking Error: 0.04706907061732945\n",
      "----------Starting alpha 0.007-------------\n",
      "Train period: 2015-02-19 15:12:00 to 2016-04-07 11:40:00\n",
      "Test period: 2016-04-07 11:41:00 to 2016-08-16 10:27:00\n",
      "Selected 35 stocks\n",
      "Best Alpha for this fold: 0.0001, Best Fold Score: 0.03789364983759993\n",
      "Train period: 2015-06-29 13:49:00 to 2016-08-16 10:27:00\n",
      "Test period: 2016-08-16 10:28:00 to 2016-12-22 13:19:00\n",
      "Selected 34 stocks\n",
      "Best Alpha for this fold: 0.0001, Best Fold Score: 0.05050399078955204\n",
      "Train period: 2015-12-17 14:02:00 to 2016-12-22 13:19:00\n",
      "Test period: 2016-12-22 13:20:00 to 2017-05-02 12:41:00\n",
      "Selected 37 stocks\n",
      "Best Alpha for this fold: 0.0001, Best Fold Score: 0.02808934309712872\n",
      "Train period: 2016-04-29 14:28:00 to 2017-05-02 12:41:00\n",
      "Test period: 2017-05-02 12:42:00 to 2017-09-06 14:52:00\n",
      "Selected 36 stocks\n",
      "Best Alpha for this fold: 0.0001, Best Fold Score: 0.026658140261868128\n",
      "Train period: 2016-09-02 13:10:00 to 2017-09-06 14:52:00\n",
      "Test period: 2017-09-06 14:53:00 to 2018-01-11 12:46:00\n",
      "Selected 33 stocks\n",
      "Best Alpha for this fold: 0.0001, Best Fold Score: 0.030276334708087962\n",
      "Train period: 2017-01-11 09:49:00 to 2018-01-11 12:46:00\n",
      "Test period: 2018-01-11 12:47:00 to 2018-05-24 10:55:00\n",
      "Selected 20 stocks\n",
      "Best Alpha for this fold: 0.0001, Best Fold Score: 0.04102716859248477\n",
      "Train period: 2017-05-22 09:20:00 to 2018-05-24 10:55:00\n",
      "Test period: 2018-05-24 10:56:00 to 2018-09-28 13:36:00\n",
      "Selected 25 stocks\n",
      "Best Alpha for this fold: 0.0001, Best Fold Score: 0.031695161340362626\n",
      "Train period: 2017-09-26 11:50:00 to 2018-09-28 13:36:00\n",
      "Test period: 2018-09-28 13:37:00 to 2019-02-14 10:42:00\n",
      "Selected 26 stocks\n",
      "Best Alpha for this fold: 0.0001, Best Fold Score: 0.04929956597094759\n",
      "Train period: 2018-01-31 15:22:00 to 2019-02-14 10:42:00\n",
      "Test period: 2019-02-14 10:43:00 to 2019-07-17 10:21:00\n",
      "Selected 28 stocks\n",
      "Best Alpha for this fold: 0.0001, Best Fold Score: 0.03839659600674989\n",
      "Train period: 2018-06-12 13:54:00 to 2019-07-17 10:21:00\n",
      "Test period: 2019-07-17 10:24:00 to 2019-12-06 13:21:00\n",
      "Selected 27 stocks\n",
      "Best Alpha for this fold: 0.0001, Best Fold Score: 0.044529475787854135\n",
      "Train period: 2018-10-22 09:40:00 to 2019-12-06 13:21:00\n",
      "Test period: 2019-12-06 13:23:00 to 2020-04-24 15:02:00\n",
      "Selected 22 stocks\n",
      "Best Alpha for this fold: 0.0001, Best Fold Score: 0.13394020927161768\n",
      "Train period: 2019-03-08 12:01:00 to 2020-04-24 15:02:00\n",
      "Test period: 2020-04-24 15:03:00 to 2020-09-01 12:07:00\n",
      "Selected 45 stocks\n",
      "Best Alpha for this fold: 0.0001, Best Fold Score: 0.05861300899435357\n",
      "Train period: 2019-08-07 14:46:00 to 2020-09-01 12:07:00\n",
      "Test period: 2020-09-01 12:08:00 to 2021-01-11 09:37:00\n",
      "Selected 49 stocks\n",
      "Best Alpha for this fold: 0.0001, Best Fold Score: 0.04431443776776615\n",
      "Train period: 2020-01-03 15:00:00 to 2021-01-11 09:37:00\n",
      "Test period: 2021-01-11 09:38:00 to 2021-05-24 12:49:00\n"
     ]
    },
    {
     "name": "stderr",
     "output_type": "stream",
     "text": [
      "/opt/conda/lib/python3.10/site-packages/sklearn/linear_model/_coordinate_descent.py:631: ConvergenceWarning: Objective did not converge. You might want to increase the number of iterations, check the scale of the features or consider increasing regularisation. Duality gap: 9.664e-02, tolerance: 8.769e-02\n",
      "  model = cd_fast.enet_coordinate_descent(\n"
     ]
    },
    {
     "name": "stdout",
     "output_type": "stream",
     "text": [
      "Selected 50 stocks\n",
      "Best Alpha for this fold: 0.0001, Best Fold Score: 0.05027666017891358\n",
      "Train period: 2020-05-19 14:50:00 to 2021-05-24 12:49:00\n",
      "Test period: 2021-05-24 12:50:00 to 2021-09-28 14:42:00\n",
      "Selected 38 stocks\n",
      "Best Alpha for this fold: 0.0001, Best Fold Score: 0.030853579756827353\n",
      "Train period: 2020-09-28 10:52:00 to 2021-09-28 14:42:00\n",
      "Test period: 2021-09-28 14:43:00 to 2022-02-07 13:31:00\n",
      "Selected 31 stocks\n",
      "Best Alpha for this fold: 0.0001, Best Fold Score: 0.045855704256214956\n",
      "Train period: 2021-02-03 12:09:00 to 2022-02-07 13:31:00\n",
      "Test period: 2022-02-07 13:32:00 to 2022-06-14 14:33:00\n",
      "Selected 32 stocks\n",
      "Best Alpha for this fold: 0.0001, Best Fold Score: 0.06044191228815577\n",
      "Train period: 2021-06-17 10:05:00 to 2022-06-14 14:33:00\n",
      "Test period: 2022-06-14 14:34:00 to 2022-10-24 19:14:00\n",
      "Selected 38 stocks\n",
      "Best Alpha for this fold: 0.0001, Best Fold Score: 0.04532791959516311\n",
      "Alpha: 0.007, Average Tracking Error: 0.04711071436120266\n",
      "----------Starting alpha 0.008-------------\n",
      "Train period: 2015-02-19 15:12:00 to 2016-04-07 11:40:00\n",
      "Test period: 2016-04-07 11:41:00 to 2016-08-16 10:27:00\n",
      "Selected 30 stocks\n",
      "Best Alpha for this fold: 0.0001, Best Fold Score: 0.03791935438305251\n",
      "Train period: 2015-06-29 13:49:00 to 2016-08-16 10:27:00\n",
      "Test period: 2016-08-16 10:28:00 to 2016-12-22 13:19:00\n",
      "Selected 31 stocks\n",
      "Best Alpha for this fold: 0.0001, Best Fold Score: 0.050579496861728544\n",
      "Train period: 2015-12-17 14:02:00 to 2016-12-22 13:19:00\n",
      "Test period: 2016-12-22 13:20:00 to 2017-05-02 12:41:00\n",
      "Selected 35 stocks\n",
      "Best Alpha for this fold: 0.0001, Best Fold Score: 0.028052709284397667\n",
      "Train period: 2016-04-29 14:28:00 to 2017-05-02 12:41:00\n",
      "Test period: 2017-05-02 12:42:00 to 2017-09-06 14:52:00\n",
      "Selected 36 stocks\n",
      "Best Alpha for this fold: 0.0001, Best Fold Score: 0.026658140261868128\n",
      "Train period: 2016-09-02 13:10:00 to 2017-09-06 14:52:00\n",
      "Test period: 2017-09-06 14:53:00 to 2018-01-11 12:46:00\n",
      "Selected 31 stocks\n",
      "Best Alpha for this fold: 0.0001, Best Fold Score: 0.030283824309021004\n",
      "Train period: 2017-01-11 09:49:00 to 2018-01-11 12:46:00\n",
      "Test period: 2018-01-11 12:47:00 to 2018-05-24 10:55:00\n",
      "Selected 18 stocks\n",
      "Best Alpha for this fold: 0.0001, Best Fold Score: 0.041136056982965345\n",
      "Train period: 2017-05-22 09:20:00 to 2018-05-24 10:55:00\n",
      "Test period: 2018-05-24 10:56:00 to 2018-09-28 13:36:00\n",
      "Selected 23 stocks\n",
      "Best Alpha for this fold: 0.0001, Best Fold Score: 0.031812164935361466\n",
      "Train period: 2017-09-26 11:50:00 to 2018-09-28 13:36:00\n",
      "Test period: 2018-09-28 13:37:00 to 2019-02-14 10:42:00\n",
      "Selected 22 stocks\n",
      "Best Alpha for this fold: 0.0001, Best Fold Score: 0.049311644713223475\n",
      "Train period: 2018-01-31 15:22:00 to 2019-02-14 10:42:00\n",
      "Test period: 2019-02-14 10:43:00 to 2019-07-17 10:21:00\n",
      "Selected 23 stocks\n",
      "Best Alpha for this fold: 0.0001, Best Fold Score: 0.03850049580389116\n",
      "Train period: 2018-06-12 13:54:00 to 2019-07-17 10:21:00\n",
      "Test period: 2019-07-17 10:24:00 to 2019-12-06 13:21:00\n",
      "Selected 22 stocks\n",
      "Best Alpha for this fold: 0.0001, Best Fold Score: 0.04456336733992677\n",
      "Train period: 2018-10-22 09:40:00 to 2019-12-06 13:21:00\n",
      "Test period: 2019-12-06 13:23:00 to 2020-04-24 15:02:00\n",
      "Selected 20 stocks\n",
      "Best Alpha for this fold: 0.0001, Best Fold Score: 0.13446078001977296\n",
      "Train period: 2019-03-08 12:01:00 to 2020-04-24 15:02:00\n",
      "Test period: 2020-04-24 15:03:00 to 2020-09-01 12:07:00\n",
      "Selected 41 stocks\n",
      "Best Alpha for this fold: 0.0001, Best Fold Score: 0.058825958027824594\n",
      "Train period: 2019-08-07 14:46:00 to 2020-09-01 12:07:00\n",
      "Test period: 2020-09-01 12:08:00 to 2021-01-11 09:37:00\n",
      "Selected 45 stocks\n",
      "Best Alpha for this fold: 0.0001, Best Fold Score: 0.044356109282717514\n",
      "Train period: 2020-01-03 15:00:00 to 2021-01-11 09:37:00\n",
      "Test period: 2021-01-11 09:38:00 to 2021-05-24 12:49:00\n",
      "Selected 47 stocks\n",
      "Best Alpha for this fold: 0.0001, Best Fold Score: 0.05028794563495308\n",
      "Train period: 2020-05-19 14:50:00 to 2021-05-24 12:49:00\n",
      "Test period: 2021-05-24 12:50:00 to 2021-09-28 14:42:00\n",
      "Selected 33 stocks\n",
      "Best Alpha for this fold: 0.0001, Best Fold Score: 0.03083104742159967\n",
      "Train period: 2020-09-28 10:52:00 to 2021-09-28 14:42:00\n",
      "Test period: 2021-09-28 14:43:00 to 2022-02-07 13:31:00\n",
      "Selected 27 stocks\n",
      "Best Alpha for this fold: 0.0001, Best Fold Score: 0.045881750523868704\n",
      "Train period: 2021-02-03 12:09:00 to 2022-02-07 13:31:00\n",
      "Test period: 2022-02-07 13:32:00 to 2022-06-14 14:33:00\n",
      "Selected 27 stocks\n",
      "Best Alpha for this fold: 0.0001, Best Fold Score: 0.06054289106184967\n",
      "Train period: 2021-06-17 10:05:00 to 2022-06-14 14:33:00\n",
      "Test period: 2022-06-14 14:34:00 to 2022-10-24 19:14:00\n",
      "Selected 32 stocks\n",
      "Best Alpha for this fold: 0.0001, Best Fold Score: 0.045438765899299315\n",
      "Alpha: 0.008, Average Tracking Error: 0.047191250152628976\n",
      "----------Starting alpha 0.009-------------\n",
      "Train period: 2015-02-19 15:12:00 to 2016-04-07 11:40:00\n",
      "Test period: 2016-04-07 11:41:00 to 2016-08-16 10:27:00\n",
      "Selected 26 stocks\n",
      "Best Alpha for this fold: 0.0001, Best Fold Score: 0.037978579050549945\n",
      "Train period: 2015-06-29 13:49:00 to 2016-08-16 10:27:00\n",
      "Test period: 2016-08-16 10:28:00 to 2016-12-22 13:19:00\n",
      "Selected 26 stocks\n",
      "Best Alpha for this fold: 0.0001, Best Fold Score: 0.05074972545575354\n",
      "Train period: 2015-12-17 14:02:00 to 2016-12-22 13:19:00\n",
      "Test period: 2016-12-22 13:20:00 to 2017-05-02 12:41:00\n",
      "Selected 33 stocks\n",
      "Best Alpha for this fold: 0.0001, Best Fold Score: 0.02804677946125949\n",
      "Train period: 2016-04-29 14:28:00 to 2017-05-02 12:41:00\n",
      "Test period: 2017-05-02 12:42:00 to 2017-09-06 14:52:00\n",
      "Selected 30 stocks\n",
      "Best Alpha for this fold: 0.0001, Best Fold Score: 0.026715707325905176\n",
      "Train period: 2016-09-02 13:10:00 to 2017-09-06 14:52:00\n",
      "Test period: 2017-09-06 14:53:00 to 2018-01-11 12:46:00\n",
      "Selected 28 stocks\n",
      "Best Alpha for this fold: 0.0001, Best Fold Score: 0.03023801959565488\n",
      "Train period: 2017-01-11 09:49:00 to 2018-01-11 12:46:00\n",
      "Test period: 2018-01-11 12:47:00 to 2018-05-24 10:55:00\n",
      "Selected 14 stocks\n",
      "Best Alpha for this fold: 0.0001, Best Fold Score: 0.04125451511516115\n",
      "Train period: 2017-05-22 09:20:00 to 2018-05-24 10:55:00\n",
      "Test period: 2018-05-24 10:56:00 to 2018-09-28 13:36:00\n",
      "Selected 21 stocks\n",
      "Best Alpha for this fold: 0.0001, Best Fold Score: 0.03186324849394373\n",
      "Train period: 2017-09-26 11:50:00 to 2018-09-28 13:36:00\n",
      "Test period: 2018-09-28 13:37:00 to 2019-02-14 10:42:00\n",
      "Selected 20 stocks\n",
      "Best Alpha for this fold: 0.0001, Best Fold Score: 0.04948103636212983\n",
      "Train period: 2018-01-31 15:22:00 to 2019-02-14 10:42:00\n",
      "Test period: 2019-02-14 10:43:00 to 2019-07-17 10:21:00\n",
      "Selected 21 stocks\n",
      "Best Alpha for this fold: 0.0001, Best Fold Score: 0.038529244458219945\n",
      "Train period: 2018-06-12 13:54:00 to 2019-07-17 10:21:00\n",
      "Test period: 2019-07-17 10:24:00 to 2019-12-06 13:21:00\n",
      "Selected 21 stocks\n",
      "Best Alpha for this fold: 0.0001, Best Fold Score: 0.044630492158885295\n",
      "Train period: 2018-10-22 09:40:00 to 2019-12-06 13:21:00\n",
      "Test period: 2019-12-06 13:23:00 to 2020-04-24 15:02:00\n",
      "Selected 18 stocks\n",
      "Best Alpha for this fold: 0.0001, Best Fold Score: 0.1345337450909464\n",
      "Train period: 2019-03-08 12:01:00 to 2020-04-24 15:02:00\n",
      "Test period: 2020-04-24 15:03:00 to 2020-09-01 12:07:00\n",
      "Selected 38 stocks\n",
      "Best Alpha for this fold: 0.0001, Best Fold Score: 0.05880378271707594\n",
      "Train period: 2019-08-07 14:46:00 to 2020-09-01 12:07:00\n",
      "Test period: 2020-09-01 12:08:00 to 2021-01-11 09:37:00\n",
      "Selected 43 stocks\n",
      "Best Alpha for this fold: 0.0001, Best Fold Score: 0.04437842319173111\n",
      "Train period: 2020-01-03 15:00:00 to 2021-01-11 09:37:00\n",
      "Test period: 2021-01-11 09:38:00 to 2021-05-24 12:49:00\n",
      "Selected 44 stocks\n",
      "Best Alpha for this fold: 0.0001, Best Fold Score: 0.05029759995444622\n",
      "Train period: 2020-05-19 14:50:00 to 2021-05-24 12:49:00\n",
      "Test period: 2021-05-24 12:50:00 to 2021-09-28 14:42:00\n",
      "Selected 27 stocks\n",
      "Best Alpha for this fold: 0.0001, Best Fold Score: 0.030806493388598845\n",
      "Train period: 2020-09-28 10:52:00 to 2021-09-28 14:42:00\n",
      "Test period: 2021-09-28 14:43:00 to 2022-02-07 13:31:00\n",
      "Selected 24 stocks\n",
      "Best Alpha for this fold: 0.0001, Best Fold Score: 0.04586960667334836\n",
      "Train period: 2021-02-03 12:09:00 to 2022-02-07 13:31:00\n",
      "Test period: 2022-02-07 13:32:00 to 2022-06-14 14:33:00\n",
      "Selected 21 stocks\n",
      "Best Alpha for this fold: 0.0001, Best Fold Score: 0.06055566064225225\n",
      "Train period: 2021-06-17 10:05:00 to 2022-06-14 14:33:00\n",
      "Test period: 2022-06-14 14:34:00 to 2022-10-24 19:14:00\n",
      "Selected 28 stocks\n",
      "Best Alpha for this fold: 0.0001, Best Fold Score: 0.04542171360470274\n",
      "Alpha: 0.009, Average Tracking Error: 0.047230798485586936\n"
     ]
    },
    {
     "data": {
      "image/png": "[encoded data removed]",
      "text/plain": [
       "<Figure size 640x480 with 2 Axes>"
      ]
     },
     "metadata": {},
     "output_type": "display_data"
    }
   ],
   "source": [
    "Lasso_Lasso_plot(X,y)"
   ]
  },
  {
   "cell_type": "code",
   "execution_count": 28,
   "id": "eb575590",
   "metadata": {
    "execution": {
     "iopub.execute_input": "2024-12-07T12:46:36.830990Z",
     "iopub.status.busy": "2024-12-07T12:46:36.830577Z",
     "iopub.status.idle": "2024-12-07T15:04:21.015115Z",
     "shell.execute_reply": "2024-12-07T15:04:21.013705Z"
    },
    "papermill": {
     "duration": 8264.234707,
     "end_time": "2024-12-07T15:04:21.017485",
     "exception": false,
     "start_time": "2024-12-07T12:46:36.782778",
     "status": "completed"
    },
    "tags": []
   },
   "outputs": [
    {
     "name": "stdout",
     "output_type": "stream",
     "text": [
      "Starting percentile: 0.0\n",
      "Percentile: 0.0, Tracking Error: 0.04679589464990211, Adj Tracking Error: 0.04679589472731506\n",
      "Starting percentile: 0.1\n",
      "Percentile: 0.1, Tracking Error: 0.04680866952233876, Adj Tracking Error: 0.04680866959562561\n",
      "Starting percentile: 0.2\n",
      "Percentile: 0.2, Tracking Error: 0.04683542010734357, Adj Tracking Error: 0.046835420175145887\n",
      "Starting percentile: 0.3\n",
      "Percentile: 0.3, Tracking Error: 0.046856546713352126, Adj Tracking Error: 0.04685654678032103\n",
      "Starting percentile: 0.4\n",
      "Percentile: 0.4, Tracking Error: 0.04687143273349747, Adj Tracking Error: 0.0468714327985151\n",
      "Starting percentile: 0.5\n",
      "Percentile: 0.5, Tracking Error: 0.04688241278624978, Adj Tracking Error: 0.04688241284471248\n",
      "Starting percentile: 0.6\n",
      "Percentile: 0.6, Tracking Error: 0.04697911623003832, Adj Tracking Error: 0.04697911628831675\n"
     ]
    },
    {
     "data": {
      "image/png": "[encoded data removed]",
      "text/plain": [
       "<Figure size 640x480 with 1 Axes>"
      ]
     },
     "metadata": {},
     "output_type": "display_data"
    }
   ],
   "source": [
    "MI_Lasso_plot(X,y)"
   ]
  }
 ],
 "metadata": {
  "kaggle": {
   "accelerator": "none",
   "dataSources": [
    {
     "datasetId": 6024843,
     "sourceId": 9824880,
     "sourceType": "datasetVersion"
    },
    {
     "datasetId": 2401195,
     "sourceId": 9867252,
     "sourceType": "datasetVersion"
    },
    {
     "datasetId": 2490157,
     "sourceId": 9876776,
     "sourceType": "datasetVersion"
    }
   ],
   "dockerImageVersionId": 30786,
   "isGpuEnabled": false,
   "isInternetEnabled": true,
   "language": "python",
   "sourceType": "notebook"
  },
  "kernelspec": {
   "display_name": "Python 3",
   "language": "python",
   "name": "python3"
  },
  "language_info": {
   "codemirror_mode": {
    "name": "ipython",
    "version": 3
   },
   "file_extension": ".py",
   "mimetype": "text/x-python",
   "name": "python",
   "nbconvert_exporter": "python",
   "pygments_lexer": "ipython3",
   "version": "3.10.14"
  },
  "papermill": {
   "default_parameters": {},
   "duration": 11042.336879,
   "end_time": "2024-12-07T15:04:21.886040",
   "environment_variables": {},
   "exception": null,
   "input_path": "__notebook__.ipynb",
   "output_path": "__notebook__.ipynb",
   "parameters": {},
   "start_time": "2024-12-07T12:00:19.549161",
   "version": "2.6.0"
  }
 },
 "nbformat": 4,
 "nbformat_minor": 5
}
