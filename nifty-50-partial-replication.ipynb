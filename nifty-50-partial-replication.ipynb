{
 "cells": [
  {
   "cell_type": "markdown",
   "id": "cdcce15d",
   "metadata": {
    "_cell_guid": "b1076dfc-b9ad-4769-8c92-a6c4dae69d19",
    "_uuid": "8f2839f25d086af736a60e9eeb907d3b93b6e0e5",
    "papermill": {
     "duration": 0.007312,
     "end_time": "2024-11-08T08:03:36.164565",
     "exception": false,
     "start_time": "2024-11-08T08:03:36.157253",
     "status": "completed"
    },
    "tags": []
   },
   "source": [
    "# Nifty 50 Partial Replication"
   ]
  },
  {
   "cell_type": "code",
   "execution_count": 1,
   "id": "59def199",
   "metadata": {
    "execution": {
     "iopub.execute_input": "2024-11-08T08:03:36.179424Z",
     "iopub.status.busy": "2024-11-08T08:03:36.178853Z",
     "iopub.status.idle": "2024-11-08T08:03:39.398914Z",
     "shell.execute_reply": "2024-11-08T08:03:39.397850Z"
    },
    "papermill": {
     "duration": 3.230518,
     "end_time": "2024-11-08T08:03:39.401753",
     "exception": false,
     "start_time": "2024-11-08T08:03:36.171235",
     "status": "completed"
    },
    "tags": []
   },
   "outputs": [],
   "source": [
    "import pandas as pd\n",
    "import numpy as np\n",
    "from sklearn.model_selection import train_test_split\n",
    "from sklearn.linear_model import Lasso\n",
    "from sklearn.metrics import mean_squared_error, r2_score\n",
    "import matplotlib.pyplot as plt\n",
    "import os\n",
    "import glob\n",
    "from tqdm import tqdm\n",
    "import warnings\n",
    "warnings.filterwarnings(\"ignore\")\n"
   ]
  },
  {
   "cell_type": "code",
   "execution_count": 2,
   "id": "cd3878a0",
   "metadata": {
    "execution": {
     "iopub.execute_input": "2024-11-08T08:03:39.415914Z",
     "iopub.status.busy": "2024-11-08T08:03:39.415298Z",
     "iopub.status.idle": "2024-11-08T08:03:39.421599Z",
     "shell.execute_reply": "2024-11-08T08:03:39.420295Z"
    },
    "papermill": {
     "duration": 0.016304,
     "end_time": "2024-11-08T08:03:39.424212",
     "exception": false,
     "start_time": "2024-11-08T08:03:39.407908",
     "status": "completed"
    },
    "tags": []
   },
   "outputs": [],
   "source": [
    "def tracking_error(index, predictions):\n",
    "    return np.std(pd.Series(index).pct_change()*100 - pd.Series(predictions).pct_change()*100)"
   ]
  },
  {
   "cell_type": "markdown",
   "id": "e1091216",
   "metadata": {
    "papermill": {
     "duration": 0.005709,
     "end_time": "2024-11-08T08:03:39.436035",
     "exception": false,
     "start_time": "2024-11-08T08:03:39.430326",
     "status": "completed"
    },
    "tags": []
   },
   "source": [
    "## Data"
   ]
  },
  {
   "cell_type": "code",
   "execution_count": 3,
   "id": "db473fe2",
   "metadata": {
    "execution": {
     "iopub.execute_input": "2024-11-08T08:03:39.449930Z",
     "iopub.status.busy": "2024-11-08T08:03:39.449492Z",
     "iopub.status.idle": "2024-11-08T08:03:39.454704Z",
     "shell.execute_reply": "2024-11-08T08:03:39.453588Z"
    },
    "papermill": {
     "duration": 0.014966,
     "end_time": "2024-11-08T08:03:39.457063",
     "exception": false,
     "start_time": "2024-11-08T08:03:39.442097",
     "status": "completed"
    },
    "tags": []
   },
   "outputs": [],
   "source": [
    "# directory_path = '/kaggle/input/stock-market-data-nifty-50-stocks-1-min-data'\n",
    "# pattern = os.path.join(directory_path, \"*.csv\")  # Change \"*.csv\" to match other patterns if needed\n",
    "\n",
    "# Get the list of files that match the pattern\n",
    "# file_list = glob.glob(pattern)"
   ]
  },
  {
   "cell_type": "code",
   "execution_count": 4,
   "id": "b845fd9f",
   "metadata": {
    "execution": {
     "iopub.execute_input": "2024-11-08T08:03:39.471589Z",
     "iopub.status.busy": "2024-11-08T08:03:39.470471Z",
     "iopub.status.idle": "2024-11-08T08:03:39.478308Z",
     "shell.execute_reply": "2024-11-08T08:03:39.477104Z"
    },
    "papermill": {
     "duration": 0.017897,
     "end_time": "2024-11-08T08:03:39.480964",
     "exception": false,
     "start_time": "2024-11-08T08:03:39.463067",
     "status": "completed"
    },
    "tags": []
   },
   "outputs": [],
   "source": [
    "def fetch_data(cols):\n",
    "    df_list = []\n",
    "    for file in tqdm(file_list):\n",
    "        stock_name = os.path.basename(file).split(\"_\")[0]\n",
    "        file_df = pd.read_csv(file, index_col=0)\n",
    "        file_df = file_df[[cols]]\n",
    "        file_df.columns = pd.MultiIndex.from_product([[stock_name], file_df.columns])\n",
    "        df_list.append(file_df)\n",
    "    return pd.concat(df_list, axis=1)"
   ]
  },
  {
   "cell_type": "code",
   "execution_count": 5,
   "id": "56c6d20f",
   "metadata": {
    "execution": {
     "iopub.execute_input": "2024-11-08T08:03:39.495266Z",
     "iopub.status.busy": "2024-11-08T08:03:39.494865Z",
     "iopub.status.idle": "2024-11-08T08:03:39.500012Z",
     "shell.execute_reply": "2024-11-08T08:03:39.498699Z"
    },
    "papermill": {
     "duration": 0.015026,
     "end_time": "2024-11-08T08:03:39.502409",
     "exception": false,
     "start_time": "2024-11-08T08:03:39.487383",
     "status": "completed"
    },
    "tags": []
   },
   "outputs": [],
   "source": [
    "# df = fetch_data('close')\n",
    "# df.to_csv('/kaggle/input/nifty_50_closing.csv')"
   ]
  },
  {
   "cell_type": "code",
   "execution_count": 6,
   "id": "2f91dbd8",
   "metadata": {
    "execution": {
     "iopub.execute_input": "2024-11-08T08:03:39.516024Z",
     "iopub.status.busy": "2024-11-08T08:03:39.515589Z",
     "iopub.status.idle": "2024-11-08T08:04:07.087677Z",
     "shell.execute_reply": "2024-11-08T08:04:07.086653Z"
    },
    "papermill": {
     "duration": 27.582261,
     "end_time": "2024-11-08T08:04:07.090655",
     "exception": false,
     "start_time": "2024-11-08T08:03:39.508394",
     "status": "completed"
    },
    "tags": []
   },
   "outputs": [],
   "source": [
    "df = pd.read_csv('/kaggle/input/nifty-50-closing-data/nifty_50_closing.csv', index_col=0, header=[0, 1])\n",
    "df = df.xs('close', level=1, axis=1)\n",
    "df.index = pd.to_datetime(df.index)"
   ]
  },
  {
   "cell_type": "code",
   "execution_count": 7,
   "id": "c97b950a",
   "metadata": {
    "execution": {
     "iopub.execute_input": "2024-11-08T08:04:07.105568Z",
     "iopub.status.busy": "2024-11-08T08:04:07.105078Z",
     "iopub.status.idle": "2024-11-08T08:04:09.516669Z",
     "shell.execute_reply": "2024-11-08T08:04:09.515426Z"
    },
    "papermill": {
     "duration": 2.421831,
     "end_time": "2024-11-08T08:04:09.519517",
     "exception": false,
     "start_time": "2024-11-08T08:04:07.097686",
     "status": "completed"
    },
    "tags": []
   },
   "outputs": [],
   "source": [
    "nifty_100_closing = pd.read_csv('/kaggle/input/nifty-50-minute-data/NIFTY 100_minute.csv', index_col=0)[['close']]\n",
    "nifty_100_closing.index = pd.to_datetime(nifty_100_closing.index)\n",
    "nifty_100_closing.rename(columns={'close': 'NIFTY_100'}, inplace=True)"
   ]
  },
  {
   "cell_type": "code",
   "execution_count": 8,
   "id": "d43e146d",
   "metadata": {
    "execution": {
     "iopub.execute_input": "2024-11-08T08:04:09.533282Z",
     "iopub.status.busy": "2024-11-08T08:04:09.532829Z",
     "iopub.status.idle": "2024-11-08T08:04:09.539595Z",
     "shell.execute_reply": "2024-11-08T08:04:09.538395Z"
    },
    "papermill": {
     "duration": 0.016541,
     "end_time": "2024-11-08T08:04:09.542102",
     "exception": false,
     "start_time": "2024-11-08T08:04:09.525561",
     "status": "completed"
    },
    "tags": []
   },
   "outputs": [
    {
     "name": "stdout",
     "output_type": "stream",
     "text": [
      "Index type for df1: <class 'pandas.core.indexes.datetimes.DatetimeIndex'>\n",
      "Index type for df2: <class 'pandas.core.indexes.datetimes.DatetimeIndex'>\n"
     ]
    }
   ],
   "source": [
    "print(f\"Index type for df1: {type(df.index)}\")\n",
    "print(f\"Index type for df2: {type(nifty_100_closing.index)}\")"
   ]
  },
  {
   "cell_type": "code",
   "execution_count": 9,
   "id": "ecc2e126",
   "metadata": {
    "execution": {
     "iopub.execute_input": "2024-11-08T08:04:09.556536Z",
     "iopub.status.busy": "2024-11-08T08:04:09.556075Z",
     "iopub.status.idle": "2024-11-08T08:04:10.870570Z",
     "shell.execute_reply": "2024-11-08T08:04:10.869316Z"
    },
    "papermill": {
     "duration": 1.324586,
     "end_time": "2024-11-08T08:04:10.873176",
     "exception": false,
     "start_time": "2024-11-08T08:04:09.548590",
     "status": "completed"
    },
    "tags": []
   },
   "outputs": [
    {
     "data": {
      "text/html": [
       "<div>\n",
       "<style scoped>\n",
       "    .dataframe tbody tr th:only-of-type {\n",
       "        vertical-align: middle;\n",
       "    }\n",
       "\n",
       "    .dataframe tbody tr th {\n",
       "        vertical-align: top;\n",
       "    }\n",
       "\n",
       "    .dataframe thead th {\n",
       "        text-align: right;\n",
       "    }\n",
       "</style>\n",
       "<table border=\"1\" class=\"dataframe\">\n",
       "  <thead>\n",
       "    <tr style=\"text-align: right;\">\n",
       "      <th></th>\n",
       "      <th>HDFCAMC</th>\n",
       "      <th>APOLLOHOSP</th>\n",
       "      <th>BOSCHLTD</th>\n",
       "      <th>INDUSTOWER</th>\n",
       "      <th>BERGEPAINT</th>\n",
       "      <th>MARICO</th>\n",
       "      <th>ICICIPRULI</th>\n",
       "      <th>HDFCLIFE</th>\n",
       "      <th>SBIN</th>\n",
       "      <th>SUNPHARMA</th>\n",
       "      <th>...</th>\n",
       "      <th>SBICARD</th>\n",
       "      <th>DABUR</th>\n",
       "      <th>SAIL</th>\n",
       "      <th>BRITANNIA</th>\n",
       "      <th>ADANIPORTS</th>\n",
       "      <th>ONGC</th>\n",
       "      <th>EICHERMOT</th>\n",
       "      <th>TECHM</th>\n",
       "      <th>JINDALSTEL</th>\n",
       "      <th>HEROMOTOCO</th>\n",
       "    </tr>\n",
       "    <tr>\n",
       "      <th>date</th>\n",
       "      <th></th>\n",
       "      <th></th>\n",
       "      <th></th>\n",
       "      <th></th>\n",
       "      <th></th>\n",
       "      <th></th>\n",
       "      <th></th>\n",
       "      <th></th>\n",
       "      <th></th>\n",
       "      <th></th>\n",
       "      <th></th>\n",
       "      <th></th>\n",
       "      <th></th>\n",
       "      <th></th>\n",
       "      <th></th>\n",
       "      <th></th>\n",
       "      <th></th>\n",
       "      <th></th>\n",
       "      <th></th>\n",
       "      <th></th>\n",
       "      <th></th>\n",
       "    </tr>\n",
       "  </thead>\n",
       "  <tbody>\n",
       "    <tr>\n",
       "      <th>2018-08-06 10:47:00</th>\n",
       "      <td>1803.95</td>\n",
       "      <td>974.3</td>\n",
       "      <td>19187.45</td>\n",
       "      <td>290.0</td>\n",
       "      <td>316.85</td>\n",
       "      <td>357.95</td>\n",
       "      <td>408.50</td>\n",
       "      <td>485.00</td>\n",
       "      <td>306.70</td>\n",
       "      <td>579.65</td>\n",
       "      <td>...</td>\n",
       "      <td>0.0</td>\n",
       "      <td>435.30</td>\n",
       "      <td>79.35</td>\n",
       "      <td>3194.92</td>\n",
       "      <td>400.70</td>\n",
       "      <td>167.75</td>\n",
       "      <td>2711.3</td>\n",
       "      <td>670.45</td>\n",
       "      <td>207.65</td>\n",
       "      <td>3259.0</td>\n",
       "    </tr>\n",
       "    <tr>\n",
       "      <th>2018-08-06 10:48:00</th>\n",
       "      <td>1803.90</td>\n",
       "      <td>973.7</td>\n",
       "      <td>19187.45</td>\n",
       "      <td>290.0</td>\n",
       "      <td>316.50</td>\n",
       "      <td>357.55</td>\n",
       "      <td>408.10</td>\n",
       "      <td>484.95</td>\n",
       "      <td>306.70</td>\n",
       "      <td>579.30</td>\n",
       "      <td>...</td>\n",
       "      <td>0.0</td>\n",
       "      <td>435.15</td>\n",
       "      <td>79.30</td>\n",
       "      <td>3193.02</td>\n",
       "      <td>400.55</td>\n",
       "      <td>167.55</td>\n",
       "      <td>2710.6</td>\n",
       "      <td>670.55</td>\n",
       "      <td>207.80</td>\n",
       "      <td>3260.6</td>\n",
       "    </tr>\n",
       "    <tr>\n",
       "      <th>2018-08-06 10:49:00</th>\n",
       "      <td>1806.00</td>\n",
       "      <td>973.7</td>\n",
       "      <td>19187.45</td>\n",
       "      <td>290.0</td>\n",
       "      <td>316.85</td>\n",
       "      <td>357.20</td>\n",
       "      <td>408.85</td>\n",
       "      <td>485.00</td>\n",
       "      <td>306.75</td>\n",
       "      <td>579.45</td>\n",
       "      <td>...</td>\n",
       "      <td>0.0</td>\n",
       "      <td>435.70</td>\n",
       "      <td>79.30</td>\n",
       "      <td>3192.50</td>\n",
       "      <td>400.30</td>\n",
       "      <td>167.55</td>\n",
       "      <td>2709.8</td>\n",
       "      <td>670.65</td>\n",
       "      <td>207.55</td>\n",
       "      <td>3259.5</td>\n",
       "    </tr>\n",
       "  </tbody>\n",
       "</table>\n",
       "<p>3 rows × 101 columns</p>\n",
       "</div>"
      ],
      "text/plain": [
       "                     HDFCAMC  APOLLOHOSP  BOSCHLTD  INDUSTOWER  BERGEPAINT  \\\n",
       "date                                                                         \n",
       "2018-08-06 10:47:00  1803.95       974.3  19187.45       290.0      316.85   \n",
       "2018-08-06 10:48:00  1803.90       973.7  19187.45       290.0      316.50   \n",
       "2018-08-06 10:49:00  1806.00       973.7  19187.45       290.0      316.85   \n",
       "\n",
       "                     MARICO  ICICIPRULI  HDFCLIFE    SBIN  SUNPHARMA  ...  \\\n",
       "date                                                                  ...   \n",
       "2018-08-06 10:47:00  357.95      408.50    485.00  306.70     579.65  ...   \n",
       "2018-08-06 10:48:00  357.55      408.10    484.95  306.70     579.30  ...   \n",
       "2018-08-06 10:49:00  357.20      408.85    485.00  306.75     579.45  ...   \n",
       "\n",
       "                     SBICARD   DABUR   SAIL  BRITANNIA  ADANIPORTS    ONGC  \\\n",
       "date                                                                         \n",
       "2018-08-06 10:47:00      0.0  435.30  79.35    3194.92      400.70  167.75   \n",
       "2018-08-06 10:48:00      0.0  435.15  79.30    3193.02      400.55  167.55   \n",
       "2018-08-06 10:49:00      0.0  435.70  79.30    3192.50      400.30  167.55   \n",
       "\n",
       "                     EICHERMOT   TECHM  JINDALSTEL  HEROMOTOCO  \n",
       "date                                                            \n",
       "2018-08-06 10:47:00     2711.3  670.45      207.65      3259.0  \n",
       "2018-08-06 10:48:00     2710.6  670.55      207.80      3260.6  \n",
       "2018-08-06 10:49:00     2709.8  670.65      207.55      3259.5  \n",
       "\n",
       "[3 rows x 101 columns]"
      ]
     },
     "execution_count": 9,
     "metadata": {},
     "output_type": "execute_result"
    }
   ],
   "source": [
    "# df.interpolate(method='linear', inplace=True)\n",
    "# To fill the first row NaN with the value from the next minute\n",
    "df.fillna(0, inplace=True)\n",
    "df.index = df.index.tz_localize(None)\n",
    "df.head(3)"
   ]
  },
  {
   "cell_type": "code",
   "execution_count": 10,
   "id": "9c73029d",
   "metadata": {
    "execution": {
     "iopub.execute_input": "2024-11-08T08:04:10.888360Z",
     "iopub.status.busy": "2024-11-08T08:04:10.887880Z",
     "iopub.status.idle": "2024-11-08T08:04:11.249024Z",
     "shell.execute_reply": "2024-11-08T08:04:11.247817Z"
    },
    "papermill": {
     "duration": 0.372041,
     "end_time": "2024-11-08T08:04:11.251838",
     "exception": false,
     "start_time": "2024-11-08T08:04:10.879797",
     "status": "completed"
    },
    "tags": []
   },
   "outputs": [],
   "source": [
    "df_total = df.join(nifty_100_closing, how='left')"
   ]
  },
  {
   "cell_type": "code",
   "execution_count": 11,
   "id": "a29d088a",
   "metadata": {
    "execution": {
     "iopub.execute_input": "2024-11-08T08:04:11.266764Z",
     "iopub.status.busy": "2024-11-08T08:04:11.266287Z",
     "iopub.status.idle": "2024-11-08T08:04:11.667576Z",
     "shell.execute_reply": "2024-11-08T08:04:11.665445Z"
    },
    "papermill": {
     "duration": 0.412424,
     "end_time": "2024-11-08T08:04:11.670899",
     "exception": false,
     "start_time": "2024-11-08T08:04:11.258475",
     "status": "completed"
    },
    "tags": []
   },
   "outputs": [],
   "source": [
    "df_total.dropna(inplace=True)"
   ]
  },
  {
   "cell_type": "code",
   "execution_count": 12,
   "id": "4d45f0d1",
   "metadata": {
    "execution": {
     "iopub.execute_input": "2024-11-08T08:04:11.685904Z",
     "iopub.status.busy": "2024-11-08T08:04:11.685441Z",
     "iopub.status.idle": "2024-11-08T08:04:11.695786Z",
     "shell.execute_reply": "2024-11-08T08:04:11.694586Z"
    },
    "papermill": {
     "duration": 0.020712,
     "end_time": "2024-11-08T08:04:11.698300",
     "exception": false,
     "start_time": "2024-11-08T08:04:11.677588",
     "status": "completed"
    },
    "tags": []
   },
   "outputs": [],
   "source": [
    "def train_lasso(alpha, X_train, y_train, X_test, y_test):\n",
    "    lasso = Lasso(alpha=alpha, max_iter=25000)\n",
    "    lasso.fit(X_train, y_train)\n",
    "    coef = lasso.coef_\n",
    "    features = X.columns\n",
    "\n",
    "    print(f\"-------alpha: {alpha}-------\")\n",
    "    print(f\"Train Score: {lasso.score(X_train, y_train)}\")\n",
    "    print(f\"Test Score: {lasso.score(X_test, y_test)}\")\n",
    "    \n",
    "    # Create a DataFrame for the coefficients\n",
    "    coef_df = pd.DataFrame({'Stock': features, 'Coefficient': coef})\n",
    "\n",
    "    # Filter for non-zero coefficients\n",
    "    chosen_stocks = coef_df[coef_df['Coefficient'] != 0]['Stock'].values\n",
    "\n",
    "    predicted = lasso.predict(X_test)\n",
    "\n",
    "    track_err = tracking_error(predicted, y_test.values)  \n",
    "\n",
    "    # Get non-zero coefficients\n",
    "    coef = lasso.coef_\n",
    "    features = X.columns\n",
    "    coef_df = pd.DataFrame({'Stock': features, 'Coefficient': coef})    \n",
    "    chosen_stocks = coef_df[coef_df['Coefficient'] != 0]\n",
    "    print(f\"Number of Stocks Chosen: {len(chosen_stocks)}/50\")\n",
    "\n",
    "    return (chosen_stocks, track_err)"
   ]
  },
  {
   "cell_type": "code",
   "execution_count": 13,
   "id": "90a3df9d",
   "metadata": {
    "execution": {
     "iopub.execute_input": "2024-11-08T08:04:11.713771Z",
     "iopub.status.busy": "2024-11-08T08:04:11.712795Z",
     "iopub.status.idle": "2024-11-08T11:41:07.823902Z",
     "shell.execute_reply": "2024-11-08T11:41:07.821953Z"
    },
    "papermill": {
     "duration": 13016.122238,
     "end_time": "2024-11-08T11:41:07.827055",
     "exception": false,
     "start_time": "2024-11-08T08:04:11.704817",
     "status": "completed"
    },
    "tags": []
   },
   "outputs": [
    {
     "name": "stdout",
     "output_type": "stream",
     "text": [
      "-------alpha: 0.05-------\n",
      "Train Score: 0.9972385369554938\n",
      "Test Score: 0.9970756659244588\n",
      "Number of Stocks Chosen: 99/50\n",
      "-------alpha: 0.1-------\n",
      "Train Score: 0.9972385301722438\n",
      "Test Score: 0.9970756933983768\n",
      "Number of Stocks Chosen: 99/50\n",
      "-------alpha: 0.5-------\n",
      "Train Score: 0.9972384700282269\n",
      "Test Score: 0.9970759042936485\n",
      "Number of Stocks Chosen: 99/50\n",
      "-------alpha: 1-------\n",
      "Train Score: 0.9972383716754227\n",
      "Test Score: 0.9970761375209187\n",
      "Number of Stocks Chosen: 99/50\n",
      "-------alpha: 10-------\n",
      "Train Score: 0.9972308401412935\n",
      "Test Score: 0.9970726347012127\n",
      "Number of Stocks Chosen: 96/50\n",
      "-------alpha: 25-------\n",
      "Train Score: 0.9972042919026053\n",
      "Test Score: 0.9970493625208339\n",
      "Number of Stocks Chosen: 93/50\n",
      "-------alpha: 50-------\n",
      "Train Score: 0.99713874392058\n",
      "Test Score: 0.9969890924903365\n",
      "Number of Stocks Chosen: 91/50\n"
     ]
    },
    {
     "data": {
      "image/png": "[encoded data removed]",
      "text/plain": [
       "<Figure size 800x600 with 1 Axes>"
      ]
     },
     "metadata": {},
     "output_type": "display_data"
    }
   ],
   "source": [
    "X = df_total.drop(columns=['NIFTY 50', 'NIFTY BANK', 'NIFTY_100'])\n",
    "y = df_total['NIFTY_100']\n",
    "\n",
    "X_train, X_test, y_train, y_test = train_test_split(X, y, test_size=0.25, random_state=42)\n",
    "\n",
    "\n",
    "alphas = [0.05, 0.1, 0.5, 1, 10, 25, 50]\n",
    "tracking_errs = []\n",
    "chosen_stocks = []\n",
    "for alpha in alphas:\n",
    "    (stocks, err) = train_lasso(alpha, X_train, y_train, X_test, y_test)\n",
    "    tracking_errs.append(err)\n",
    "    chosen_stocks.append(stocks)\n",
    "\n",
    "plt.figure(figsize=(8, 6))\n",
    "plt.plot(alphas, tracking_errs, marker='o', linestyle='-', color='b')\n",
    "plt.xscale('log')  # Use logarithmic scale for alpha\n",
    "plt.xlabel('Alpha')\n",
    "plt.ylabel('Tracking Error')\n",
    "plt.title('Tracking Error vs Alpha for Lasso Regression')\n",
    "plt.grid(True)\n",
    "plt.show()"
   ]
  },
  {
   "cell_type": "code",
   "execution_count": null,
   "id": "4f138ad5",
   "metadata": {
    "papermill": {
     "duration": 0.007535,
     "end_time": "2024-11-08T11:41:07.843119",
     "exception": false,
     "start_time": "2024-11-08T11:41:07.835584",
     "status": "completed"
    },
    "tags": []
   },
   "outputs": [],
   "source": []
  }
 ],
 "metadata": {
  "kaggle": {
   "accelerator": "none",
   "dataSources": [
    {
     "datasetId": 2490157,
     "sourceId": 5846986,
     "sourceType": "datasetVersion"
    },
    {
     "datasetId": 6024843,
     "sourceId": 9824880,
     "sourceType": "datasetVersion"
    },
    {
     "datasetId": 2401195,
     "sourceId": 9515685,
     "sourceType": "datasetVersion"
    }
   ],
   "dockerImageVersionId": 30786,
   "isGpuEnabled": false,
   "isInternetEnabled": true,
   "language": "python",
   "sourceType": "notebook"
  },
  "kernelspec": {
   "display_name": "Python 3",
   "language": "python",
   "name": "python3"
  },
  "language_info": {
   "codemirror_mode": {
    "name": "ipython",
    "version": 3
   },
   "file_extension": ".py",
   "mimetype": "text/x-python",
   "name": "python",
   "nbconvert_exporter": "python",
   "pygments_lexer": "ipython3",
   "version": "3.10.14"
  },
  "papermill": {
   "default_parameters": {},
   "duration": 13056.264611,
   "end_time": "2024-11-08T11:41:08.982418",
   "environment_variables": {},
   "exception": null,
   "input_path": "__notebook__.ipynb",
   "output_path": "__notebook__.ipynb",
   "parameters": {},
   "start_time": "2024-11-08T08:03:32.717807",
   "version": "2.6.0"
  }
 },
 "nbformat": 4,
 "nbformat_minor": 5
}
