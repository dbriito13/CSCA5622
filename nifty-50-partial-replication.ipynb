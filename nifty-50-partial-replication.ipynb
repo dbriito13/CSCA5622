{
 "cells": [
  {
   "cell_type": "markdown",
   "id": "c0cd0812",
   "metadata": {
    "_cell_guid": "b1076dfc-b9ad-4769-8c92-a6c4dae69d19",
    "_uuid": "8f2839f25d086af736a60e9eeb907d3b93b6e0e5",
    "papermill": {
     "duration": 0.007416,
     "end_time": "2024-11-09T10:51:33.205690",
     "exception": false,
     "start_time": "2024-11-09T10:51:33.198274",
     "status": "completed"
    },
    "tags": []
   },
   "source": [
    "# Nifty 50 Partial Replication"
   ]
  },
  {
   "cell_type": "code",
   "execution_count": 1,
   "id": "36b74071",
   "metadata": {
    "execution": {
     "iopub.execute_input": "2024-11-09T10:51:33.222118Z",
     "iopub.status.busy": "2024-11-09T10:51:33.221397Z",
     "iopub.status.idle": "2024-11-09T10:51:35.836375Z",
     "shell.execute_reply": "2024-11-09T10:51:35.834924Z"
    },
    "papermill": {
     "duration": 2.627232,
     "end_time": "2024-11-09T10:51:35.839703",
     "exception": false,
     "start_time": "2024-11-09T10:51:33.212471",
     "status": "completed"
    },
    "tags": []
   },
   "outputs": [],
   "source": [
    "import pandas as pd\n",
    "import numpy as np\n",
    "from sklearn.model_selection import train_test_split\n",
    "from sklearn.linear_model import Lasso\n",
    "from sklearn.metrics import mean_squared_error, r2_score, make_scorer\n",
    "from sklearn.model_selection import cross_val_score, TimeSeriesSplit\n",
    "from sklearn.linear_model import LassoCV\n",
    "import matplotlib.pyplot as plt\n",
    "import os\n",
    "import glob\n",
    "from tqdm import tqdm\n",
    "import warnings\n",
    "warnings.filterwarnings(\"ignore\")"
   ]
  },
  {
   "cell_type": "code",
   "execution_count": 2,
   "id": "e3f95a6a",
   "metadata": {
    "execution": {
     "iopub.execute_input": "2024-11-09T10:51:35.855109Z",
     "iopub.status.busy": "2024-11-09T10:51:35.854407Z",
     "iopub.status.idle": "2024-11-09T10:51:35.862407Z",
     "shell.execute_reply": "2024-11-09T10:51:35.861139Z"
    },
    "papermill": {
     "duration": 0.018946,
     "end_time": "2024-11-09T10:51:35.865269",
     "exception": false,
     "start_time": "2024-11-09T10:51:35.846323",
     "status": "completed"
    },
    "tags": []
   },
   "outputs": [],
   "source": [
    "def tracking_error(y_true, y_pred):\n",
    "    # Convert y_true and y_pred to pandas Series for easy handling of pct_change()\n",
    "    y_true = pd.Series(y_true)\n",
    "    y_pred = pd.Series(y_pred)\n",
    "    \n",
    "    # Calculate percentage change for true values and predictions\n",
    "    pct_change_true = y_true.pct_change() * 100\n",
    "    pct_change_pred = y_pred.pct_change() * 100\n",
    "    \n",
    "    # Calculate the difference between the percentage changes\n",
    "    diff_pct_change = pct_change_true - pct_change_pred    \n",
    "    \n",
    "    # Return the standard deviation of the differences (tracking error)\n",
    "    return np.std(diff_pct_change.dropna())  # dropna() to avoid NaN values in pct_change"
   ]
  },
  {
   "cell_type": "markdown",
   "id": "bb9e7042",
   "metadata": {
    "papermill": {
     "duration": 0.006186,
     "end_time": "2024-11-09T10:51:35.878098",
     "exception": false,
     "start_time": "2024-11-09T10:51:35.871912",
     "status": "completed"
    },
    "tags": []
   },
   "source": [
    "## Data"
   ]
  },
  {
   "cell_type": "code",
   "execution_count": 3,
   "id": "15b03395",
   "metadata": {
    "execution": {
     "iopub.execute_input": "2024-11-09T10:51:35.893135Z",
     "iopub.status.busy": "2024-11-09T10:51:35.892611Z",
     "iopub.status.idle": "2024-11-09T10:51:35.898320Z",
     "shell.execute_reply": "2024-11-09T10:51:35.897148Z"
    },
    "papermill": {
     "duration": 0.016417,
     "end_time": "2024-11-09T10:51:35.901076",
     "exception": false,
     "start_time": "2024-11-09T10:51:35.884659",
     "status": "completed"
    },
    "tags": []
   },
   "outputs": [],
   "source": [
    "# directory_path = '/kaggle/input/stock-market-data-nifty-50-stocks-1-min-data'\n",
    "# pattern = os.path.join(directory_path, \"*.csv\")  # Change \"*.csv\" to match other patterns if needed\n",
    "\n",
    "# Get the list of files that match the pattern\n",
    "# file_list = glob.glob(pattern)"
   ]
  },
  {
   "cell_type": "code",
   "execution_count": 4,
   "id": "53bb13d8",
   "metadata": {
    "execution": {
     "iopub.execute_input": "2024-11-09T10:51:35.916405Z",
     "iopub.status.busy": "2024-11-09T10:51:35.915977Z",
     "iopub.status.idle": "2024-11-09T10:51:35.924107Z",
     "shell.execute_reply": "2024-11-09T10:51:35.922659Z"
    },
    "papermill": {
     "duration": 0.019484,
     "end_time": "2024-11-09T10:51:35.927351",
     "exception": false,
     "start_time": "2024-11-09T10:51:35.907867",
     "status": "completed"
    },
    "tags": []
   },
   "outputs": [],
   "source": [
    "def fetch_data(cols):\n",
    "    df_list = []\n",
    "    for file in tqdm(file_list):\n",
    "        stock_name = os.path.basename(file).split(\"_\")[0]\n",
    "        file_df = pd.read_csv(file, index_col=0)\n",
    "        file_df = file_df[[cols]]\n",
    "        file_df.columns = pd.MultiIndex.from_product([[stock_name], file_df.columns])\n",
    "        df_list.append(file_df)\n",
    "    return pd.concat(df_list, axis=1)"
   ]
  },
  {
   "cell_type": "code",
   "execution_count": 5,
   "id": "e3163e66",
   "metadata": {
    "execution": {
     "iopub.execute_input": "2024-11-09T10:51:35.942817Z",
     "iopub.status.busy": "2024-11-09T10:51:35.942304Z",
     "iopub.status.idle": "2024-11-09T10:51:35.948028Z",
     "shell.execute_reply": "2024-11-09T10:51:35.946691Z"
    },
    "papermill": {
     "duration": 0.016803,
     "end_time": "2024-11-09T10:51:35.951004",
     "exception": false,
     "start_time": "2024-11-09T10:51:35.934201",
     "status": "completed"
    },
    "tags": []
   },
   "outputs": [],
   "source": [
    "# df = fetch_data('close')\n",
    "# df.to_csv('/kaggle/input/nifty_50_closing.csv')"
   ]
  },
  {
   "cell_type": "code",
   "execution_count": 6,
   "id": "d921222f",
   "metadata": {
    "execution": {
     "iopub.execute_input": "2024-11-09T10:51:35.965536Z",
     "iopub.status.busy": "2024-11-09T10:51:35.965087Z",
     "iopub.status.idle": "2024-11-09T10:52:03.181597Z",
     "shell.execute_reply": "2024-11-09T10:52:03.180202Z"
    },
    "papermill": {
     "duration": 27.227585,
     "end_time": "2024-11-09T10:52:03.184952",
     "exception": false,
     "start_time": "2024-11-09T10:51:35.957367",
     "status": "completed"
    },
    "tags": []
   },
   "outputs": [],
   "source": [
    "df = pd.read_csv('/kaggle/input/nifty-50-closing-data/nifty_50_closing.csv', index_col=0, header=[0, 1])\n",
    "df = df.xs('close', level=1, axis=1)\n",
    "df.index = pd.to_datetime(df.index)"
   ]
  },
  {
   "cell_type": "code",
   "execution_count": 7,
   "id": "e28c7583",
   "metadata": {
    "execution": {
     "iopub.execute_input": "2024-11-09T10:52:03.202116Z",
     "iopub.status.busy": "2024-11-09T10:52:03.201071Z",
     "iopub.status.idle": "2024-11-09T10:52:05.515851Z",
     "shell.execute_reply": "2024-11-09T10:52:05.514643Z"
    },
    "papermill": {
     "duration": 2.326237,
     "end_time": "2024-11-09T10:52:05.519045",
     "exception": false,
     "start_time": "2024-11-09T10:52:03.192808",
     "status": "completed"
    },
    "tags": []
   },
   "outputs": [],
   "source": [
    "nifty_100_closing = pd.read_csv('/kaggle/input/nifty-50-minute-data/NIFTY 100_minute.csv', index_col=0)[['close']]\n",
    "nifty_100_closing.index = pd.to_datetime(nifty_100_closing.index)\n",
    "nifty_100_closing.rename(columns={'close': 'NIFTY_100'}, inplace=True)"
   ]
  },
  {
   "cell_type": "code",
   "execution_count": 8,
   "id": "3f506031",
   "metadata": {
    "execution": {
     "iopub.execute_input": "2024-11-09T10:52:05.534345Z",
     "iopub.status.busy": "2024-11-09T10:52:05.533877Z",
     "iopub.status.idle": "2024-11-09T10:52:05.541393Z",
     "shell.execute_reply": "2024-11-09T10:52:05.539876Z"
    },
    "papermill": {
     "duration": 0.018289,
     "end_time": "2024-11-09T10:52:05.544005",
     "exception": false,
     "start_time": "2024-11-09T10:52:05.525716",
     "status": "completed"
    },
    "tags": []
   },
   "outputs": [
    {
     "name": "stdout",
     "output_type": "stream",
     "text": [
      "Index type for df1: <class 'pandas.core.indexes.datetimes.DatetimeIndex'>\n",
      "Index type for df2: <class 'pandas.core.indexes.datetimes.DatetimeIndex'>\n"
     ]
    }
   ],
   "source": [
    "print(f\"Index type for df1: {type(df.index)}\")\n",
    "print(f\"Index type for df2: {type(nifty_100_closing.index)}\")"
   ]
  },
  {
   "cell_type": "code",
   "execution_count": 9,
   "id": "f6ed5145",
   "metadata": {
    "execution": {
     "iopub.execute_input": "2024-11-09T10:52:05.559348Z",
     "iopub.status.busy": "2024-11-09T10:52:05.558770Z",
     "iopub.status.idle": "2024-11-09T10:52:07.079871Z",
     "shell.execute_reply": "2024-11-09T10:52:07.078454Z"
    },
    "papermill": {
     "duration": 1.532021,
     "end_time": "2024-11-09T10:52:07.082555",
     "exception": false,
     "start_time": "2024-11-09T10:52:05.550534",
     "status": "completed"
    },
    "tags": []
   },
   "outputs": [
    {
     "data": {
      "text/html": [
       "<div>\n",
       "<style scoped>\n",
       "    .dataframe tbody tr th:only-of-type {\n",
       "        vertical-align: middle;\n",
       "    }\n",
       "\n",
       "    .dataframe tbody tr th {\n",
       "        vertical-align: top;\n",
       "    }\n",
       "\n",
       "    .dataframe thead th {\n",
       "        text-align: right;\n",
       "    }\n",
       "</style>\n",
       "<table border=\"1\" class=\"dataframe\">\n",
       "  <thead>\n",
       "    <tr style=\"text-align: right;\">\n",
       "      <th></th>\n",
       "      <th>HDFCAMC</th>\n",
       "      <th>APOLLOHOSP</th>\n",
       "      <th>BOSCHLTD</th>\n",
       "      <th>INDUSTOWER</th>\n",
       "      <th>BERGEPAINT</th>\n",
       "      <th>MARICO</th>\n",
       "      <th>ICICIPRULI</th>\n",
       "      <th>HDFCLIFE</th>\n",
       "      <th>SBIN</th>\n",
       "      <th>SUNPHARMA</th>\n",
       "      <th>...</th>\n",
       "      <th>SBICARD</th>\n",
       "      <th>DABUR</th>\n",
       "      <th>SAIL</th>\n",
       "      <th>BRITANNIA</th>\n",
       "      <th>ADANIPORTS</th>\n",
       "      <th>ONGC</th>\n",
       "      <th>EICHERMOT</th>\n",
       "      <th>TECHM</th>\n",
       "      <th>JINDALSTEL</th>\n",
       "      <th>HEROMOTOCO</th>\n",
       "    </tr>\n",
       "    <tr>\n",
       "      <th>date</th>\n",
       "      <th></th>\n",
       "      <th></th>\n",
       "      <th></th>\n",
       "      <th></th>\n",
       "      <th></th>\n",
       "      <th></th>\n",
       "      <th></th>\n",
       "      <th></th>\n",
       "      <th></th>\n",
       "      <th></th>\n",
       "      <th></th>\n",
       "      <th></th>\n",
       "      <th></th>\n",
       "      <th></th>\n",
       "      <th></th>\n",
       "      <th></th>\n",
       "      <th></th>\n",
       "      <th></th>\n",
       "      <th></th>\n",
       "      <th></th>\n",
       "      <th></th>\n",
       "    </tr>\n",
       "  </thead>\n",
       "  <tbody>\n",
       "    <tr>\n",
       "      <th>2018-08-06 10:47:00</th>\n",
       "      <td>1803.95</td>\n",
       "      <td>974.3</td>\n",
       "      <td>19187.45</td>\n",
       "      <td>290.0</td>\n",
       "      <td>316.85</td>\n",
       "      <td>357.95</td>\n",
       "      <td>408.50</td>\n",
       "      <td>485.00</td>\n",
       "      <td>306.70</td>\n",
       "      <td>579.65</td>\n",
       "      <td>...</td>\n",
       "      <td>0.0</td>\n",
       "      <td>435.30</td>\n",
       "      <td>79.35</td>\n",
       "      <td>3194.92</td>\n",
       "      <td>400.70</td>\n",
       "      <td>167.75</td>\n",
       "      <td>2711.3</td>\n",
       "      <td>670.45</td>\n",
       "      <td>207.65</td>\n",
       "      <td>3259.0</td>\n",
       "    </tr>\n",
       "    <tr>\n",
       "      <th>2018-08-06 10:48:00</th>\n",
       "      <td>1803.90</td>\n",
       "      <td>973.7</td>\n",
       "      <td>19187.45</td>\n",
       "      <td>290.0</td>\n",
       "      <td>316.50</td>\n",
       "      <td>357.55</td>\n",
       "      <td>408.10</td>\n",
       "      <td>484.95</td>\n",
       "      <td>306.70</td>\n",
       "      <td>579.30</td>\n",
       "      <td>...</td>\n",
       "      <td>0.0</td>\n",
       "      <td>435.15</td>\n",
       "      <td>79.30</td>\n",
       "      <td>3193.02</td>\n",
       "      <td>400.55</td>\n",
       "      <td>167.55</td>\n",
       "      <td>2710.6</td>\n",
       "      <td>670.55</td>\n",
       "      <td>207.80</td>\n",
       "      <td>3260.6</td>\n",
       "    </tr>\n",
       "    <tr>\n",
       "      <th>2018-08-06 10:49:00</th>\n",
       "      <td>1806.00</td>\n",
       "      <td>973.7</td>\n",
       "      <td>19187.45</td>\n",
       "      <td>290.0</td>\n",
       "      <td>316.85</td>\n",
       "      <td>357.20</td>\n",
       "      <td>408.85</td>\n",
       "      <td>485.00</td>\n",
       "      <td>306.75</td>\n",
       "      <td>579.45</td>\n",
       "      <td>...</td>\n",
       "      <td>0.0</td>\n",
       "      <td>435.70</td>\n",
       "      <td>79.30</td>\n",
       "      <td>3192.50</td>\n",
       "      <td>400.30</td>\n",
       "      <td>167.55</td>\n",
       "      <td>2709.8</td>\n",
       "      <td>670.65</td>\n",
       "      <td>207.55</td>\n",
       "      <td>3259.5</td>\n",
       "    </tr>\n",
       "  </tbody>\n",
       "</table>\n",
       "<p>3 rows × 101 columns</p>\n",
       "</div>"
      ],
      "text/plain": [
       "                     HDFCAMC  APOLLOHOSP  BOSCHLTD  INDUSTOWER  BERGEPAINT  \\\n",
       "date                                                                         \n",
       "2018-08-06 10:47:00  1803.95       974.3  19187.45       290.0      316.85   \n",
       "2018-08-06 10:48:00  1803.90       973.7  19187.45       290.0      316.50   \n",
       "2018-08-06 10:49:00  1806.00       973.7  19187.45       290.0      316.85   \n",
       "\n",
       "                     MARICO  ICICIPRULI  HDFCLIFE    SBIN  SUNPHARMA  ...  \\\n",
       "date                                                                  ...   \n",
       "2018-08-06 10:47:00  357.95      408.50    485.00  306.70     579.65  ...   \n",
       "2018-08-06 10:48:00  357.55      408.10    484.95  306.70     579.30  ...   \n",
       "2018-08-06 10:49:00  357.20      408.85    485.00  306.75     579.45  ...   \n",
       "\n",
       "                     SBICARD   DABUR   SAIL  BRITANNIA  ADANIPORTS    ONGC  \\\n",
       "date                                                                         \n",
       "2018-08-06 10:47:00      0.0  435.30  79.35    3194.92      400.70  167.75   \n",
       "2018-08-06 10:48:00      0.0  435.15  79.30    3193.02      400.55  167.55   \n",
       "2018-08-06 10:49:00      0.0  435.70  79.30    3192.50      400.30  167.55   \n",
       "\n",
       "                     EICHERMOT   TECHM  JINDALSTEL  HEROMOTOCO  \n",
       "date                                                            \n",
       "2018-08-06 10:47:00     2711.3  670.45      207.65      3259.0  \n",
       "2018-08-06 10:48:00     2710.6  670.55      207.80      3260.6  \n",
       "2018-08-06 10:49:00     2709.8  670.65      207.55      3259.5  \n",
       "\n",
       "[3 rows x 101 columns]"
      ]
     },
     "execution_count": 9,
     "metadata": {},
     "output_type": "execute_result"
    }
   ],
   "source": [
    "# df.interpolate(method='linear', inplace=True)\n",
    "# To fill the first row NaN with the value from the next minute\n",
    "df.fillna(0, inplace=True)\n",
    "df.index = df.index.tz_localize(None)\n",
    "df.head(3)"
   ]
  },
  {
   "cell_type": "code",
   "execution_count": 10,
   "id": "8bbca564",
   "metadata": {
    "execution": {
     "iopub.execute_input": "2024-11-09T10:52:07.099390Z",
     "iopub.status.busy": "2024-11-09T10:52:07.098013Z",
     "iopub.status.idle": "2024-11-09T10:52:07.672908Z",
     "shell.execute_reply": "2024-11-09T10:52:07.671494Z"
    },
    "papermill": {
     "duration": 0.586465,
     "end_time": "2024-11-09T10:52:07.675828",
     "exception": false,
     "start_time": "2024-11-09T10:52:07.089363",
     "status": "completed"
    },
    "tags": []
   },
   "outputs": [],
   "source": [
    "df_total = df.join(nifty_100_closing, how='left')"
   ]
  },
  {
   "cell_type": "code",
   "execution_count": 11,
   "id": "c700f5fc",
   "metadata": {
    "execution": {
     "iopub.execute_input": "2024-11-09T10:52:07.691786Z",
     "iopub.status.busy": "2024-11-09T10:52:07.691272Z",
     "iopub.status.idle": "2024-11-09T10:52:08.080092Z",
     "shell.execute_reply": "2024-11-09T10:52:08.078891Z"
    },
    "papermill": {
     "duration": 0.40087,
     "end_time": "2024-11-09T10:52:08.083606",
     "exception": false,
     "start_time": "2024-11-09T10:52:07.682736",
     "status": "completed"
    },
    "tags": []
   },
   "outputs": [],
   "source": [
    "df_total.dropna(inplace=True)"
   ]
  },
  {
   "cell_type": "markdown",
   "id": "4e80d731",
   "metadata": {
    "papermill": {
     "duration": 0.006938,
     "end_time": "2024-11-09T10:52:08.098126",
     "exception": false,
     "start_time": "2024-11-09T10:52:08.091188",
     "status": "completed"
    },
    "tags": []
   },
   "source": [
    "# Models"
   ]
  },
  {
   "cell_type": "markdown",
   "id": "0a882282",
   "metadata": {
    "papermill": {
     "duration": 0.00673,
     "end_time": "2024-11-09T10:52:08.112076",
     "exception": false,
     "start_time": "2024-11-09T10:52:08.105346",
     "status": "completed"
    },
    "tags": []
   },
   "source": [
    "# Lasso Regression"
   ]
  },
  {
   "cell_type": "code",
   "execution_count": 12,
   "id": "87ac7211",
   "metadata": {
    "execution": {
     "iopub.execute_input": "2024-11-09T10:52:08.128939Z",
     "iopub.status.busy": "2024-11-09T10:52:08.128400Z",
     "iopub.status.idle": "2024-11-09T10:52:08.139909Z",
     "shell.execute_reply": "2024-11-09T10:52:08.138447Z"
    },
    "papermill": {
     "duration": 0.023176,
     "end_time": "2024-11-09T10:52:08.142615",
     "exception": false,
     "start_time": "2024-11-09T10:52:08.119439",
     "status": "completed"
    },
    "tags": []
   },
   "outputs": [],
   "source": [
    "def train_lasso(alpha, tscv, X, y):\n",
    "    lasso = Lasso(alpha=alpha, max_iter=30000)\n",
    "    scores = []\n",
    "    coefficients = []\n",
    "    \n",
    "    for train_index, test_index in tscv.split(X):\n",
    "        X_train_cv, X_test_cv = X.iloc[train_index], X.iloc[test_index]\n",
    "        y_train_cv, y_test_cv = y.iloc[train_index], y.iloc[test_index]\n",
    "        \n",
    "        # Fit Lasso model on the training data\n",
    "        lasso.fit(X_train_cv, y_train_cv)\n",
    "        \n",
    "        # Append the coefficients for this fold\n",
    "        coefficients.append(lasso.coef_)\n",
    "        \n",
    "        # Get predictions and calculate the custom score for this fold\n",
    "        y_pred = lasso.predict(X_test_cv)\n",
    "        fold_score = tracking_error(y_test_cv.values, y_pred)  # Replace with your custom metric\n",
    "        print(f\"Fold Score {fold_score}\")\n",
    "        scores.append(fold_score)\n",
    "    \n",
    "    # Calculate the average coefficients across all folds\n",
    "    average_coefficients = np.mean(coefficients, axis=0)\n",
    "    \n",
    "    # Calculate the average score across all folds\n",
    "    average_score = np.mean(scores)\n",
    "\n",
    "    print(f\"-------alpha: {alpha}-------\")\n",
    "    print(f\"CV Score: {average_score}\")\n",
    "    \n",
    "    selected_stocks = np.where(abs(average_coefficients) > 1e-5)[0]\n",
    "\n",
    "    return (selected_stocks, average_score)"
   ]
  },
  {
   "cell_type": "code",
   "execution_count": 13,
   "id": "1f71dbcf",
   "metadata": {
    "execution": {
     "iopub.execute_input": "2024-11-09T10:52:08.159212Z",
     "iopub.status.busy": "2024-11-09T10:52:08.158165Z",
     "iopub.status.idle": "2024-11-09T15:13:21.268128Z",
     "shell.execute_reply": "2024-11-09T15:13:21.266358Z"
    },
    "papermill": {
     "duration": 15673.121218,
     "end_time": "2024-11-09T15:13:21.270927",
     "exception": false,
     "start_time": "2024-11-09T10:52:08.149709",
     "status": "completed"
    },
    "tags": []
   },
   "outputs": [
    {
     "name": "stdout",
     "output_type": "stream",
     "text": [
      "Fold Score 0.014591880126020274\n",
      "Fold Score 0.3572804332574863\n",
      "Fold Score 1.1071145499001587\n",
      "-------alpha: 5-------\n",
      "CV Score: 0.49299562109455514\n",
      "Fold Score 0.012519136774740092\n",
      "Fold Score 0.38971862950613695\n",
      "Fold Score 1.0963922347445962\n",
      "-------alpha: 10-------\n",
      "CV Score: 0.4995433336751578\n",
      "Fold Score 0.012109612050293287\n",
      "Fold Score 0.335946583397948\n",
      "Fold Score 0.9913390272992725\n",
      "-------alpha: 25-------\n",
      "CV Score: 0.4464650742491712\n",
      "Fold Score 0.013060651526248964\n",
      "Fold Score 0.3118773907288767\n",
      "Fold Score 0.8211651986960208\n",
      "-------alpha: 50-------\n",
      "CV Score: 0.38203441365038215\n",
      "Fold Score 0.014571130721140066\n",
      "Fold Score 0.29849463693694117\n",
      "Fold Score 0.776845445854182\n",
      "-------alpha: 75-------\n",
      "CV Score: 0.3633037378374211\n",
      "Fold Score 0.01618813168093935\n",
      "Fold Score 0.29355792024500466\n",
      "Fold Score 0.7552486845876754\n",
      "-------alpha: 100-------\n",
      "CV Score: 0.3549982455045398\n"
     ]
    },
    {
     "data": {
      "image/png": "[encoded data removed]",
      "text/plain": [
       "<Figure size 800x600 with 1 Axes>"
      ]
     },
     "metadata": {},
     "output_type": "display_data"
    }
   ],
   "source": [
    "X = df_total.drop(columns=['NIFTY 50', 'NIFTY BANK', 'NIFTY_100'])\n",
    "y = df_total['NIFTY_100']\n",
    "\n",
    "# TimeSeriesSplit to conserve the order of the data\n",
    "tscv = TimeSeriesSplit(n_splits=3)\n",
    "\n",
    "alphas = [5, 10, 25, 50, 75, 100]\n",
    "tracking_errs = []\n",
    "chosen_stocks = []\n",
    "for alpha in alphas:\n",
    "    (stocks, err) = train_lasso(alpha, tscv, X, y)\n",
    "    tracking_errs.append(err)\n",
    "    chosen_stocks.append(stocks)\n",
    "\n",
    "plt.figure(figsize=(8, 6))\n",
    "plt.plot(alphas, tracking_errs, marker='o', linestyle='-', color='b')\n",
    "plt.xscale('log')  # Use logarithmic scale for alpha\n",
    "plt.xlabel('Alpha')\n",
    "plt.ylabel('Tracking Error')\n",
    "plt.title('Tracking Error vs Alpha for Lasso Regression')\n",
    "plt.grid(True)\n",
    "plt.show()"
   ]
  },
  {
   "cell_type": "markdown",
   "id": "d2313a05",
   "metadata": {
    "papermill": {
     "duration": 0.009521,
     "end_time": "2024-11-09T15:13:21.290135",
     "exception": false,
     "start_time": "2024-11-09T15:13:21.280614",
     "status": "completed"
    },
    "tags": []
   },
   "source": [
    "# Random Forest"
   ]
  }
 ],
 "metadata": {
  "kaggle": {
   "accelerator": "none",
   "dataSources": [
    {
     "datasetId": 2401195,
     "sourceId": 9515685,
     "sourceType": "datasetVersion"
    },
    {
     "datasetId": 6024843,
     "sourceId": 9824880,
     "sourceType": "datasetVersion"
    },
    {
     "datasetId": 2490157,
     "sourceId": 5846986,
     "sourceType": "datasetVersion"
    }
   ],
   "dockerImageVersionId": 30786,
   "isGpuEnabled": false,
   "isInternetEnabled": true,
   "language": "python",
   "sourceType": "notebook"
  },
  "kernelspec": {
   "display_name": "Python 3",
   "language": "python",
   "name": "python3"
  },
  "language_info": {
   "codemirror_mode": {
    "name": "ipython",
    "version": 3
   },
   "file_extension": ".py",
   "mimetype": "text/x-python",
   "name": "python",
   "nbconvert_exporter": "python",
   "pygments_lexer": "ipython3",
   "version": "3.10.14"
  },
  "papermill": {
   "default_parameters": {},
   "duration": 15712.368377,
   "end_time": "2024-11-09T15:13:22.426207",
   "environment_variables": {},
   "exception": null,
   "input_path": "__notebook__.ipynb",
   "output_path": "__notebook__.ipynb",
   "parameters": {},
   "start_time": "2024-11-09T10:51:30.057830",
   "version": "2.6.0"
  }
 },
 "nbformat": 4,
 "nbformat_minor": 5
}
