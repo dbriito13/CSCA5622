{
 "cells": [
  {
   "cell_type": "markdown",
   "id": "f222968f",
   "metadata": {
    "_cell_guid": "b1076dfc-b9ad-4769-8c92-a6c4dae69d19",
    "_uuid": "8f2839f25d086af736a60e9eeb907d3b93b6e0e5",
    "papermill": {
     "duration": 0.008539,
     "end_time": "2024-11-12T14:52:48.976937",
     "exception": false,
     "start_time": "2024-11-12T14:52:48.968398",
     "status": "completed"
    },
    "tags": []
   },
   "source": [
    "# Nifty 50 Partial Replication"
   ]
  },
  {
   "cell_type": "code",
   "execution_count": 1,
   "id": "fc544cc9",
   "metadata": {
    "execution": {
     "iopub.execute_input": "2024-11-12T14:52:48.994010Z",
     "iopub.status.busy": "2024-11-12T14:52:48.993571Z",
     "iopub.status.idle": "2024-11-12T14:52:51.747309Z",
     "shell.execute_reply": "2024-11-12T14:52:51.746022Z"
    },
    "papermill": {
     "duration": 2.765108,
     "end_time": "2024-11-12T14:52:51.750090",
     "exception": false,
     "start_time": "2024-11-12T14:52:48.984982",
     "status": "completed"
    },
    "tags": []
   },
   "outputs": [],
   "source": [
    "import pandas as pd\n",
    "import numpy as np\n",
    "from sklearn.model_selection import train_test_split\n",
    "from sklearn.linear_model import Lasso\n",
    "from sklearn.metrics import mean_squared_error, r2_score, make_scorer\n",
    "from sklearn.model_selection import cross_val_score, TimeSeriesSplit\n",
    "from sklearn.linear_model import LassoCV\n",
    "import matplotlib.pyplot as plt\n",
    "import os\n",
    "import glob\n",
    "from tqdm import tqdm\n",
    "import warnings\n",
    "from sklearn.ensemble import RandomForestRegressor\n",
    "warnings.filterwarnings(\"ignore\")\n",
    "import xgboost as xgb\n",
    "from sklearn.feature_selection import SelectFromModel"
   ]
  },
  {
   "cell_type": "code",
   "execution_count": 2,
   "id": "beabf271",
   "metadata": {
    "execution": {
     "iopub.execute_input": "2024-11-12T14:52:51.767180Z",
     "iopub.status.busy": "2024-11-12T14:52:51.766628Z",
     "iopub.status.idle": "2024-11-12T14:52:51.773605Z",
     "shell.execute_reply": "2024-11-12T14:52:51.772372Z"
    },
    "papermill": {
     "duration": 0.01803,
     "end_time": "2024-11-12T14:52:51.775950",
     "exception": false,
     "start_time": "2024-11-12T14:52:51.757920",
     "status": "completed"
    },
    "tags": []
   },
   "outputs": [],
   "source": [
    "def tracking_error(y_true, y_pred):\n",
    "    # Convert y_true and y_pred to pandas Series for easy handling of pct_change()\n",
    "    y_true = pd.Series(y_true)\n",
    "    y_pred = pd.Series(y_pred)\n",
    "    \n",
    "    # Calculate percentage change for true values and predictions\n",
    "    pct_change_true = y_true.pct_change() * 100\n",
    "    pct_change_pred = y_pred.pct_change() * 100\n",
    "    \n",
    "    # Calculate the difference between the percentage changes\n",
    "    diff_pct_change = pct_change_true - pct_change_pred    \n",
    "    \n",
    "    # Return the standard deviation of the differences (tracking error)\n",
    "    return np.std(diff_pct_change.dropna())  # dropna() to avoid NaN values in pct_change"
   ]
  },
  {
   "cell_type": "markdown",
   "id": "23506ea1",
   "metadata": {
    "papermill": {
     "duration": 0.007006,
     "end_time": "2024-11-12T14:52:51.790779",
     "exception": false,
     "start_time": "2024-11-12T14:52:51.783773",
     "status": "completed"
    },
    "tags": []
   },
   "source": [
    "## Data"
   ]
  },
  {
   "cell_type": "code",
   "execution_count": 3,
   "id": "b3519d5c",
   "metadata": {
    "execution": {
     "iopub.execute_input": "2024-11-12T14:52:51.807953Z",
     "iopub.status.busy": "2024-11-12T14:52:51.807468Z",
     "iopub.status.idle": "2024-11-12T14:52:51.812519Z",
     "shell.execute_reply": "2024-11-12T14:52:51.811435Z"
    },
    "papermill": {
     "duration": 0.01599,
     "end_time": "2024-11-12T14:52:51.814971",
     "exception": false,
     "start_time": "2024-11-12T14:52:51.798981",
     "status": "completed"
    },
    "tags": []
   },
   "outputs": [],
   "source": [
    "# directory_path = '/kaggle/input/stock-market-data-nifty-50-stocks-1-min-data'\n",
    "# pattern = os.path.join(directory_path, \"*.csv\")  # Change \"*.csv\" to match other patterns if needed\n",
    "\n",
    "# Get the list of files that match the pattern\n",
    "# file_list = glob.glob(pattern)"
   ]
  },
  {
   "cell_type": "code",
   "execution_count": 4,
   "id": "fb242bdc",
   "metadata": {
    "execution": {
     "iopub.execute_input": "2024-11-12T14:52:51.831556Z",
     "iopub.status.busy": "2024-11-12T14:52:51.831106Z",
     "iopub.status.idle": "2024-11-12T14:52:51.838225Z",
     "shell.execute_reply": "2024-11-12T14:52:51.836805Z"
    },
    "papermill": {
     "duration": 0.018081,
     "end_time": "2024-11-12T14:52:51.840644",
     "exception": false,
     "start_time": "2024-11-12T14:52:51.822563",
     "status": "completed"
    },
    "tags": []
   },
   "outputs": [],
   "source": [
    "def fetch_data(cols):\n",
    "    df_list = []\n",
    "    for file in tqdm(file_list):\n",
    "        stock_name = os.path.basename(file).split(\"_\")[0]\n",
    "        file_df = pd.read_csv(file, index_col=0)\n",
    "        file_df = file_df[[cols]]\n",
    "        file_df.columns = pd.MultiIndex.from_product([[stock_name], file_df.columns])\n",
    "        df_list.append(file_df)\n",
    "    return pd.concat(df_list, axis=1)"
   ]
  },
  {
   "cell_type": "code",
   "execution_count": 5,
   "id": "617e3db4",
   "metadata": {
    "execution": {
     "iopub.execute_input": "2024-11-12T14:52:51.857134Z",
     "iopub.status.busy": "2024-11-12T14:52:51.856694Z",
     "iopub.status.idle": "2024-11-12T14:52:51.861777Z",
     "shell.execute_reply": "2024-11-12T14:52:51.860629Z"
    },
    "papermill": {
     "duration": 0.016429,
     "end_time": "2024-11-12T14:52:51.864414",
     "exception": false,
     "start_time": "2024-11-12T14:52:51.847985",
     "status": "completed"
    },
    "tags": []
   },
   "outputs": [],
   "source": [
    "# df = fetch_data('close')\n",
    "# df.to_csv('/kaggle/input/nifty_50_closing.csv')"
   ]
  },
  {
   "cell_type": "code",
   "execution_count": 6,
   "id": "4add69ea",
   "metadata": {
    "execution": {
     "iopub.execute_input": "2024-11-12T14:52:51.881452Z",
     "iopub.status.busy": "2024-11-12T14:52:51.880274Z",
     "iopub.status.idle": "2024-11-12T14:53:11.015888Z",
     "shell.execute_reply": "2024-11-12T14:53:11.014768Z"
    },
    "papermill": {
     "duration": 19.147039,
     "end_time": "2024-11-12T14:53:11.018851",
     "exception": false,
     "start_time": "2024-11-12T14:52:51.871812",
     "status": "completed"
    },
    "tags": []
   },
   "outputs": [],
   "source": [
    "df = pd.read_csv('/kaggle/input/nifty-50-closing-data/nifty_50_closing.csv', index_col=0, header=[0, 1])\n",
    "df = df.xs('close', level=1, axis=1)\n",
    "df.index = pd.to_datetime(df.index)"
   ]
  },
  {
   "cell_type": "code",
   "execution_count": 7,
   "id": "60c2cd25",
   "metadata": {
    "execution": {
     "iopub.execute_input": "2024-11-12T14:53:11.035047Z",
     "iopub.status.busy": "2024-11-12T14:53:11.034624Z",
     "iopub.status.idle": "2024-11-12T14:53:13.078701Z",
     "shell.execute_reply": "2024-11-12T14:53:13.077425Z"
    },
    "papermill": {
     "duration": 2.055267,
     "end_time": "2024-11-12T14:53:13.081441",
     "exception": false,
     "start_time": "2024-11-12T14:53:11.026174",
     "status": "completed"
    },
    "tags": []
   },
   "outputs": [],
   "source": [
    "nifty_100_closing = pd.read_csv('/kaggle/input/nifty-50-minute-data/NIFTY 100_minute.csv', index_col=0)[['close']]\n",
    "nifty_100_closing.index = pd.to_datetime(nifty_100_closing.index)\n",
    "nifty_100_closing.rename(columns={'close': 'NIFTY_100'}, inplace=True)"
   ]
  },
  {
   "cell_type": "code",
   "execution_count": 8,
   "id": "45cd3841",
   "metadata": {
    "execution": {
     "iopub.execute_input": "2024-11-12T14:53:13.098341Z",
     "iopub.status.busy": "2024-11-12T14:53:13.097927Z",
     "iopub.status.idle": "2024-11-12T14:53:13.104322Z",
     "shell.execute_reply": "2024-11-12T14:53:13.103127Z"
    },
    "papermill": {
     "duration": 0.018235,
     "end_time": "2024-11-12T14:53:13.106987",
     "exception": false,
     "start_time": "2024-11-12T14:53:13.088752",
     "status": "completed"
    },
    "tags": []
   },
   "outputs": [
    {
     "name": "stdout",
     "output_type": "stream",
     "text": [
      "Index type for df1: <class 'pandas.core.indexes.datetimes.DatetimeIndex'>\n",
      "Index type for df2: <class 'pandas.core.indexes.datetimes.DatetimeIndex'>\n"
     ]
    }
   ],
   "source": [
    "print(f\"Index type for df1: {type(df.index)}\")\n",
    "print(f\"Index type for df2: {type(nifty_100_closing.index)}\")"
   ]
  },
  {
   "cell_type": "code",
   "execution_count": 9,
   "id": "4d3c455d",
   "metadata": {
    "execution": {
     "iopub.execute_input": "2024-11-12T14:53:13.124116Z",
     "iopub.status.busy": "2024-11-12T14:53:13.123671Z",
     "iopub.status.idle": "2024-11-12T14:53:14.388624Z",
     "shell.execute_reply": "2024-11-12T14:53:14.387234Z"
    },
    "papermill": {
     "duration": 1.27616,
     "end_time": "2024-11-12T14:53:14.391050",
     "exception": false,
     "start_time": "2024-11-12T14:53:13.114890",
     "status": "completed"
    },
    "tags": []
   },
   "outputs": [
    {
     "data": {
      "text/html": [
       "<div>\n",
       "<style scoped>\n",
       "    .dataframe tbody tr th:only-of-type {\n",
       "        vertical-align: middle;\n",
       "    }\n",
       "\n",
       "    .dataframe tbody tr th {\n",
       "        vertical-align: top;\n",
       "    }\n",
       "\n",
       "    .dataframe thead th {\n",
       "        text-align: right;\n",
       "    }\n",
       "</style>\n",
       "<table border=\"1\" class=\"dataframe\">\n",
       "  <thead>\n",
       "    <tr style=\"text-align: right;\">\n",
       "      <th></th>\n",
       "      <th>HDFCAMC</th>\n",
       "      <th>APOLLOHOSP</th>\n",
       "      <th>BOSCHLTD</th>\n",
       "      <th>INDUSTOWER</th>\n",
       "      <th>BERGEPAINT</th>\n",
       "      <th>MARICO</th>\n",
       "      <th>ICICIPRULI</th>\n",
       "      <th>HDFCLIFE</th>\n",
       "      <th>SBIN</th>\n",
       "      <th>SUNPHARMA</th>\n",
       "      <th>...</th>\n",
       "      <th>SBICARD</th>\n",
       "      <th>DABUR</th>\n",
       "      <th>SAIL</th>\n",
       "      <th>BRITANNIA</th>\n",
       "      <th>ADANIPORTS</th>\n",
       "      <th>ONGC</th>\n",
       "      <th>EICHERMOT</th>\n",
       "      <th>TECHM</th>\n",
       "      <th>JINDALSTEL</th>\n",
       "      <th>HEROMOTOCO</th>\n",
       "    </tr>\n",
       "    <tr>\n",
       "      <th>date</th>\n",
       "      <th></th>\n",
       "      <th></th>\n",
       "      <th></th>\n",
       "      <th></th>\n",
       "      <th></th>\n",
       "      <th></th>\n",
       "      <th></th>\n",
       "      <th></th>\n",
       "      <th></th>\n",
       "      <th></th>\n",
       "      <th></th>\n",
       "      <th></th>\n",
       "      <th></th>\n",
       "      <th></th>\n",
       "      <th></th>\n",
       "      <th></th>\n",
       "      <th></th>\n",
       "      <th></th>\n",
       "      <th></th>\n",
       "      <th></th>\n",
       "      <th></th>\n",
       "    </tr>\n",
       "  </thead>\n",
       "  <tbody>\n",
       "    <tr>\n",
       "      <th>2018-08-06 10:47:00</th>\n",
       "      <td>1803.95</td>\n",
       "      <td>974.3</td>\n",
       "      <td>19187.45</td>\n",
       "      <td>290.0</td>\n",
       "      <td>316.85</td>\n",
       "      <td>357.95</td>\n",
       "      <td>408.50</td>\n",
       "      <td>485.00</td>\n",
       "      <td>306.70</td>\n",
       "      <td>579.65</td>\n",
       "      <td>...</td>\n",
       "      <td>0.0</td>\n",
       "      <td>435.30</td>\n",
       "      <td>79.35</td>\n",
       "      <td>3194.92</td>\n",
       "      <td>400.70</td>\n",
       "      <td>167.75</td>\n",
       "      <td>2711.3</td>\n",
       "      <td>670.45</td>\n",
       "      <td>207.65</td>\n",
       "      <td>3259.0</td>\n",
       "    </tr>\n",
       "    <tr>\n",
       "      <th>2018-08-06 10:48:00</th>\n",
       "      <td>1803.90</td>\n",
       "      <td>973.7</td>\n",
       "      <td>19187.45</td>\n",
       "      <td>290.0</td>\n",
       "      <td>316.50</td>\n",
       "      <td>357.55</td>\n",
       "      <td>408.10</td>\n",
       "      <td>484.95</td>\n",
       "      <td>306.70</td>\n",
       "      <td>579.30</td>\n",
       "      <td>...</td>\n",
       "      <td>0.0</td>\n",
       "      <td>435.15</td>\n",
       "      <td>79.30</td>\n",
       "      <td>3193.02</td>\n",
       "      <td>400.55</td>\n",
       "      <td>167.55</td>\n",
       "      <td>2710.6</td>\n",
       "      <td>670.55</td>\n",
       "      <td>207.80</td>\n",
       "      <td>3260.6</td>\n",
       "    </tr>\n",
       "    <tr>\n",
       "      <th>2018-08-06 10:49:00</th>\n",
       "      <td>1806.00</td>\n",
       "      <td>973.7</td>\n",
       "      <td>19187.45</td>\n",
       "      <td>290.0</td>\n",
       "      <td>316.85</td>\n",
       "      <td>357.20</td>\n",
       "      <td>408.85</td>\n",
       "      <td>485.00</td>\n",
       "      <td>306.75</td>\n",
       "      <td>579.45</td>\n",
       "      <td>...</td>\n",
       "      <td>0.0</td>\n",
       "      <td>435.70</td>\n",
       "      <td>79.30</td>\n",
       "      <td>3192.50</td>\n",
       "      <td>400.30</td>\n",
       "      <td>167.55</td>\n",
       "      <td>2709.8</td>\n",
       "      <td>670.65</td>\n",
       "      <td>207.55</td>\n",
       "      <td>3259.5</td>\n",
       "    </tr>\n",
       "  </tbody>\n",
       "</table>\n",
       "<p>3 rows × 101 columns</p>\n",
       "</div>"
      ],
      "text/plain": [
       "                     HDFCAMC  APOLLOHOSP  BOSCHLTD  INDUSTOWER  BERGEPAINT  \\\n",
       "date                                                                         \n",
       "2018-08-06 10:47:00  1803.95       974.3  19187.45       290.0      316.85   \n",
       "2018-08-06 10:48:00  1803.90       973.7  19187.45       290.0      316.50   \n",
       "2018-08-06 10:49:00  1806.00       973.7  19187.45       290.0      316.85   \n",
       "\n",
       "                     MARICO  ICICIPRULI  HDFCLIFE    SBIN  SUNPHARMA  ...  \\\n",
       "date                                                                  ...   \n",
       "2018-08-06 10:47:00  357.95      408.50    485.00  306.70     579.65  ...   \n",
       "2018-08-06 10:48:00  357.55      408.10    484.95  306.70     579.30  ...   \n",
       "2018-08-06 10:49:00  357.20      408.85    485.00  306.75     579.45  ...   \n",
       "\n",
       "                     SBICARD   DABUR   SAIL  BRITANNIA  ADANIPORTS    ONGC  \\\n",
       "date                                                                         \n",
       "2018-08-06 10:47:00      0.0  435.30  79.35    3194.92      400.70  167.75   \n",
       "2018-08-06 10:48:00      0.0  435.15  79.30    3193.02      400.55  167.55   \n",
       "2018-08-06 10:49:00      0.0  435.70  79.30    3192.50      400.30  167.55   \n",
       "\n",
       "                     EICHERMOT   TECHM  JINDALSTEL  HEROMOTOCO  \n",
       "date                                                            \n",
       "2018-08-06 10:47:00     2711.3  670.45      207.65      3259.0  \n",
       "2018-08-06 10:48:00     2710.6  670.55      207.80      3260.6  \n",
       "2018-08-06 10:49:00     2709.8  670.65      207.55      3259.5  \n",
       "\n",
       "[3 rows x 101 columns]"
      ]
     },
     "execution_count": 9,
     "metadata": {},
     "output_type": "execute_result"
    }
   ],
   "source": [
    "# df.interpolate(method='linear', inplace=True)\n",
    "# To fill the first row NaN with the value from the next minute\n",
    "df.fillna(0, inplace=True)\n",
    "df.index = df.index.tz_localize(None)\n",
    "df.head(3)"
   ]
  },
  {
   "cell_type": "code",
   "execution_count": 10,
   "id": "bc393056",
   "metadata": {
    "execution": {
     "iopub.execute_input": "2024-11-12T14:53:14.408193Z",
     "iopub.status.busy": "2024-11-12T14:53:14.407812Z",
     "iopub.status.idle": "2024-11-12T14:53:14.764840Z",
     "shell.execute_reply": "2024-11-12T14:53:14.763559Z"
    },
    "papermill": {
     "duration": 0.368702,
     "end_time": "2024-11-12T14:53:14.767540",
     "exception": false,
     "start_time": "2024-11-12T14:53:14.398838",
     "status": "completed"
    },
    "tags": []
   },
   "outputs": [],
   "source": [
    "df_total = df.join(nifty_100_closing, how='left')"
   ]
  },
  {
   "cell_type": "code",
   "execution_count": 11,
   "id": "b95d281e",
   "metadata": {
    "execution": {
     "iopub.execute_input": "2024-11-12T14:53:14.785233Z",
     "iopub.status.busy": "2024-11-12T14:53:14.784220Z",
     "iopub.status.idle": "2024-11-12T14:53:15.158636Z",
     "shell.execute_reply": "2024-11-12T14:53:15.157327Z"
    },
    "papermill": {
     "duration": 0.386207,
     "end_time": "2024-11-12T14:53:15.161418",
     "exception": false,
     "start_time": "2024-11-12T14:53:14.775211",
     "status": "completed"
    },
    "tags": []
   },
   "outputs": [],
   "source": [
    "df_total.dropna(inplace=True)"
   ]
  },
  {
   "cell_type": "markdown",
   "id": "2fbc19e5",
   "metadata": {
    "papermill": {
     "duration": 0.007331,
     "end_time": "2024-11-12T14:53:15.176774",
     "exception": false,
     "start_time": "2024-11-12T14:53:15.169443",
     "status": "completed"
    },
    "tags": []
   },
   "source": [
    "# Models"
   ]
  },
  {
   "cell_type": "markdown",
   "id": "a91e4550",
   "metadata": {
    "papermill": {
     "duration": 0.007752,
     "end_time": "2024-11-12T14:53:15.192676",
     "exception": false,
     "start_time": "2024-11-12T14:53:15.184924",
     "status": "completed"
    },
    "tags": []
   },
   "source": [
    "# Lasso Regression"
   ]
  },
  {
   "cell_type": "code",
   "execution_count": 12,
   "id": "aca825e7",
   "metadata": {
    "execution": {
     "iopub.execute_input": "2024-11-12T14:53:15.210180Z",
     "iopub.status.busy": "2024-11-12T14:53:15.209779Z",
     "iopub.status.idle": "2024-11-12T14:53:15.219368Z",
     "shell.execute_reply": "2024-11-12T14:53:15.218189Z"
    },
    "papermill": {
     "duration": 0.021369,
     "end_time": "2024-11-12T14:53:15.221789",
     "exception": false,
     "start_time": "2024-11-12T14:53:15.200420",
     "status": "completed"
    },
    "tags": []
   },
   "outputs": [],
   "source": [
    "def train_lasso(alpha, tscv, X, y):\n",
    "    lasso = Lasso(alpha=alpha, max_iter=30000)\n",
    "    scores = []\n",
    "    coefficients = []\n",
    "    \n",
    "    for train_index, test_index in tscv.split(X):\n",
    "        X_train_cv, X_test_cv = X.iloc[train_index], X.iloc[test_index]\n",
    "        y_train_cv, y_test_cv = y.iloc[train_index], y.iloc[test_index]\n",
    "        \n",
    "        # Fit Lasso model on the training data\n",
    "        lasso.fit(X_train_cv, y_train_cv)\n",
    "        w\n",
    "        # Append the coefficients for this fold\n",
    "        coefficients.append(lasso.coef_)\n",
    "        \n",
    "        # Get predictions and calculate the custom score for this fold\n",
    "        y_pred = lasso.predict(X_test_cv)\n",
    "        fold_score = tracking_error(y_test_cv.values, y_pred)  # Replace with your custom metric\n",
    "        print(f\"Fold Score {fold_score}\")\n",
    "        scores.append(fold_score)\n",
    "    \n",
    "    # Calculate the average coefficients across all folds\n",
    "    average_coefficients = np.mean(coefficients, axis=0)\n",
    "    \n",
    "    # Calculate the average score across all folds\n",
    "    average_score = np.mean(scores)\n",
    "\n",
    "    selected_stocks = np.where(abs(average_coefficients) > 1e-5)[0]\n",
    "\n",
    "    print(f\"-------alpha: {alpha}-------\")\n",
    "    print(f\"CV Score: {average_score}\")\n",
    "    print(f\"Number of Stocks: {len(selected_stocks)}\")\n",
    "\n",
    "    return (selected_stocks, average_score)"
   ]
  },
  {
   "cell_type": "markdown",
   "id": "79261c38",
   "metadata": {
    "papermill": {
     "duration": 0.007208,
     "end_time": "2024-11-12T14:53:15.236976",
     "exception": false,
     "start_time": "2024-11-12T14:53:15.229768",
     "status": "completed"
    },
    "tags": []
   },
   "source": [
    "## Combined Approach\n",
    "In this section, we will utilize a combined approach to limit the number of features (stocks) and train our models.\n",
    "\n",
    "1. Feature Selection (using Lasso w/ high alpha, Mutual Info, ANOVA, RFE)\n",
    "2. Define threshold to drop features\n",
    "3. Train model on reduced feature space (Hyperparameter tuned)\n",
    "4. Get tracking error\n",
    "5. Save pair (number of stocks, tracking error) for plotting"
   ]
  },
  {
   "cell_type": "markdown",
   "id": "bbe5590e",
   "metadata": {
    "papermill": {
     "duration": 0.007325,
     "end_time": "2024-11-12T14:53:15.251847",
     "exception": false,
     "start_time": "2024-11-12T14:53:15.244522",
     "status": "completed"
    },
    "tags": []
   },
   "source": [
    "### Lasso - Lasso\n",
    "We will utilize a Lasso model with a high alpha value to perform feature selection, this will drop the coefficients for less important features to 0. After that we retrain a Lasso model with hyperparameter tuning."
   ]
  },
  {
   "cell_type": "code",
   "execution_count": 13,
   "id": "3d9369ca",
   "metadata": {
    "execution": {
     "iopub.execute_input": "2024-11-12T14:53:15.269642Z",
     "iopub.status.busy": "2024-11-12T14:53:15.268482Z",
     "iopub.status.idle": "2024-11-12T14:53:15.279072Z",
     "shell.execute_reply": "2024-11-12T14:53:15.278000Z"
    },
    "papermill": {
     "duration": 0.022012,
     "end_time": "2024-11-12T14:53:15.281298",
     "exception": false,
     "start_time": "2024-11-12T14:53:15.259286",
     "status": "completed"
    },
    "tags": []
   },
   "outputs": [],
   "source": [
    "def Lasso_Lasso(alpha, X, y):    \n",
    "    tscv = TimeSeriesSplit(n_splits=3)\n",
    "    stocks = []\n",
    "    num_stocks = []\n",
    "    fold_scores = []\n",
    "    \n",
    "    for train_index, test_index in tscv.split(X):\n",
    "        X_train_cv, X_test_cv = X.iloc[train_index], X.iloc[test_index]\n",
    "        y_train_cv, y_test_cv = y.iloc[train_index], y.iloc[test_index]\n",
    "\n",
    "        # Feature selection with alpha from list\n",
    "        lasso_fs = Lasso(alpha=alpha, max_iter=15000)\n",
    "        lasso_fs.fit(X_train_cv, y_train_cv)\n",
    "\n",
    "        selector = SelectFromModel(lasso_fs, threshold=0.05, max_features=None)  # Adjust threshold as needed\n",
    "        X_selected_train = selector.transform(X_train_cv)\n",
    "        X_selected_test = selector.transform(X_test_cv)\n",
    "\n",
    "        selected_features = np.where(selector.get_support())[0] \n",
    "        print(f\"Selected {len(selected_features)} stocks\")\n",
    "        num_stocks.append(len(selected_features))\n",
    "        stocks.append(selected_features)\n",
    "\n",
    "        # Train model on the fold with reduced feature space\n",
    "        lasso = LassoCV(alphas=[0.1, 0.25, 0.5, 1, 2.5, 5], max_iter=15000)\n",
    "        lasso.fit(X_selected_train, y_train_cv)\n",
    "\n",
    "        y_pred = lasso.predict(X_selected_test)\n",
    "\n",
    "        # Evaluate the model using the custom metric (e.g., tracking error)\n",
    "        fold_score = tracking_error(y_test_cv.values, y_pred)\n",
    "        fold_scores.append(fold_score)\n",
    "        print(f\"Fold Score: {fold_score}\")\n",
    "        \n",
    "    # Calculate the average score across all folds\n",
    "    average_score = np.mean(fold_scores)\n",
    "\n",
    "    # Get average stocks chosen over all folds\n",
    "    average_selected_features = np.mean(num_stocks)\n",
    "    \n",
    "    # Print the tracking error for this alpha\n",
    "    print(f\"Alpha: {alpha}, Average Tracking Error: {average_score}\")\n",
    " \n",
    "    return stocks, average_selected_features, average_score"
   ]
  },
  {
   "cell_type": "code",
   "execution_count": 14,
   "id": "3b3cf905",
   "metadata": {
    "execution": {
     "iopub.execute_input": "2024-11-12T14:53:15.299237Z",
     "iopub.status.busy": "2024-11-12T14:53:15.298823Z",
     "iopub.status.idle": "2024-11-12T18:48:52.688781Z",
     "shell.execute_reply": "2024-11-12T18:48:52.687425Z"
    },
    "papermill": {
     "duration": 14137.40225,
     "end_time": "2024-11-12T18:48:52.691673",
     "exception": false,
     "start_time": "2024-11-12T14:53:15.289423",
     "status": "completed"
    },
    "tags": []
   },
   "outputs": [
    {
     "name": "stdout",
     "output_type": "stream",
     "text": [
      "Selected 43 stocks\n",
      "Fold Score: 0.012326835394855143\n",
      "Selected 57 stocks\n",
      "Fold Score: 0.33577219687919846\n",
      "Selected 52 stocks\n",
      "Fold Score: 0.9849560220474636\n",
      "Alpha: 30, Average Tracking Error: 0.4443516847738391\n",
      "Selected 40 stocks\n",
      "Fold Score: 0.012467859362264246\n",
      "Selected 47 stocks\n",
      "Fold Score: 0.28079141846984906\n",
      "Selected 46 stocks\n",
      "Fold Score: 1.2291368687896098\n",
      "Alpha: 45, Average Tracking Error: 0.507465382207241\n",
      "Selected 37 stocks\n",
      "Fold Score: 0.013992799570664743\n",
      "Selected 46 stocks\n",
      "Fold Score: 0.3051997621550484\n",
      "Selected 46 stocks\n",
      "Fold Score: 1.0431892759435628\n",
      "Alpha: 60, Average Tracking Error: 0.454127279223092\n",
      "Selected 34 stocks\n",
      "Fold Score: 0.012562323752748171\n",
      "Selected 45 stocks\n",
      "Fold Score: 0.30065151364046244\n",
      "Selected 45 stocks\n",
      "Fold Score: 1.1436123632555866\n",
      "Alpha: 75, Average Tracking Error: 0.48560873354959905\n",
      "Selected 34 stocks\n",
      "Fold Score: 0.012041805979586987\n",
      "Selected 40 stocks\n",
      "Fold Score: 0.2739921864336014\n",
      "Selected 45 stocks\n",
      "Fold Score: 1.133071199177939\n",
      "Alpha: 90, Average Tracking Error: 0.47303506386370914\n",
      "Selected 34 stocks\n",
      "Fold Score: 0.011933782593217623\n",
      "Selected 43 stocks\n",
      "Fold Score: 0.27189288255924127\n",
      "Selected 38 stocks\n",
      "Fold Score: 0.8433286194312838\n",
      "Alpha: 105, Average Tracking Error: 0.3757184281945809\n",
      "Selected 32 stocks\n",
      "Fold Score: 0.012666350355058698\n",
      "Selected 41 stocks\n",
      "Fold Score: 0.2715523241897203\n",
      "Selected 40 stocks\n",
      "Fold Score: 0.8340824406989902\n",
      "Alpha: 120, Average Tracking Error: 0.37276703841458975\n",
      "Selected 31 stocks\n",
      "Fold Score: 0.012847735046041675\n",
      "Selected 38 stocks\n",
      "Fold Score: 0.2875156139623612\n",
      "Selected 40 stocks\n",
      "Fold Score: 0.8310056565776218\n",
      "Alpha: 135, Average Tracking Error: 0.37712300186200826\n",
      "[50.666666666666664, 44.333333333333336, 43.0, 41.333333333333336, 39.666666666666664, 38.333333333333336, 37.666666666666664, 36.333333333333336] [0.4443516847738391, 0.507465382207241, 0.454127279223092, 0.48560873354959905, 0.47303506386370914, 0.3757184281945809, 0.37276703841458975, 0.37712300186200826]\n"
     ]
    },
    {
     "data": {
      "image/png": "[encoded data removed]",
      "text/plain": [
       "<Figure size 640x480 with 2 Axes>"
      ]
     },
     "metadata": {},
     "output_type": "display_data"
    }
   ],
   "source": [
    "X = df_total.drop(columns=['NIFTY 50', 'NIFTY BANK', 'NIFTY_100'])\n",
    "y = df_total['NIFTY_100']\n",
    "\n",
    "alphas = [30, 45, 60, 75, 90, 105, 120, 135]\n",
    "tracking_errors = []\n",
    "num_stocks_list = []\n",
    "\n",
    "for alpha in alphas:\n",
    "    _, num_stocks, tracking_err = Lasso_Lasso(alpha, X, y)\n",
    "    num_stocks_list.append(num_stocks)\n",
    "    tracking_errors.append(tracking_err)\n",
    "\n",
    "print(num_stocks_list, tracking_errors)\n",
    "\n",
    "# Plotting the results\n",
    "fig, ax1 = plt.subplots()\n",
    "\n",
    "# Plotting number of stocks on the primary y-axis\n",
    "color = 'tab:blue'\n",
    "ax1.set_xlabel('Alpha')\n",
    "ax1.set_ylabel('Number of Stocks', color=color)\n",
    "ax1.plot(alphas, num_stocks_list, color=color, marker='o', label='Number of Stocks')\n",
    "ax1.tick_params(axis='y', labelcolor=color)\n",
    "\n",
    "# Creating a second y-axis for tracking error\n",
    "ax2 = ax1.twinx()\n",
    "color = 'tab:red'\n",
    "ax2.set_ylabel('Tracking Error', color=color)\n",
    "ax2.plot(alphas, tracking_errors, color=color, marker='x', linestyle='--', label='Tracking Error')\n",
    "ax2.tick_params(axis='y', labelcolor=color)\n",
    "\n",
    "# Adding a title and legend\n",
    "plt.title('Number of Stocks and Tracking Error vs. Alpha')\n",
    "fig.tight_layout()  # Adjust layout to prevent overlap\n",
    "plt.show()"
   ]
  },
  {
   "cell_type": "markdown",
   "id": "d683636e",
   "metadata": {
    "papermill": {
     "duration": 0.011792,
     "end_time": "2024-11-12T18:48:52.715331",
     "exception": false,
     "start_time": "2024-11-12T18:48:52.703539",
     "status": "completed"
    },
    "tags": []
   },
   "source": [
    "# Mutual Info - Lasso\n",
    "Using mutual information between variables, which measures the dependency between them, 0 value being independence. By getting the mutual information between the features (stocks) and the target (NIFTY 100) we can \"discard\" the variables with lower dependencies. After feature selection, we traing a Lasso model with CV."
   ]
  },
  {
   "cell_type": "code",
   "execution_count": 15,
   "id": "fb469752",
   "metadata": {
    "execution": {
     "iopub.execute_input": "2024-11-12T18:48:52.741758Z",
     "iopub.status.busy": "2024-11-12T18:48:52.740662Z",
     "iopub.status.idle": "2024-11-12T18:48:52.748084Z",
     "shell.execute_reply": "2024-11-12T18:48:52.746933Z"
    },
    "papermill": {
     "duration": 0.023261,
     "end_time": "2024-11-12T18:48:52.750276",
     "exception": false,
     "start_time": "2024-11-12T18:48:52.727015",
     "status": "completed"
    },
    "tags": []
   },
   "outputs": [],
   "source": [
    "def MI_feature_selection(X, y, tscv):\n",
    "    mi_scores_accumulated = np.zeros(X.shape[1])\n",
    "    for train_index, val_index in tscv.split(X):\n",
    "        X_train, y_train = X.iloc[train_index], y.iloc[train_index]\n",
    "        \n",
    "        # Calculate MI scores for the training fold\n",
    "        mi_scores = mutual_info_regression(X_train, y_train)\n",
    "        \n",
    "        # Accumulate MI scores\n",
    "        mi_scores_accumulated += mi_scores\n",
    "    \n",
    "    # Step 3: Calculate the average MI score across folds\n",
    "    average_mi_scores = mi_scores_accumulated / num_folds\n",
    "    \n",
    "    # Step 4: Select features based on the average MI score\n",
    "    threshold = 0.1  # Adjust threshold as needed\n",
    "    selected_features = X.columns[average_mi_scores > threshold]\n"
   ]
  },
  {
   "cell_type": "code",
   "execution_count": 16,
   "id": "7d01f999",
   "metadata": {
    "execution": {
     "iopub.execute_input": "2024-11-12T18:48:52.775979Z",
     "iopub.status.busy": "2024-11-12T18:48:52.775532Z",
     "iopub.status.idle": "2024-11-12T18:48:52.786957Z",
     "shell.execute_reply": "2024-11-12T18:48:52.785780Z"
    },
    "papermill": {
     "duration": 0.027461,
     "end_time": "2024-11-12T18:48:52.789398",
     "exception": false,
     "start_time": "2024-11-12T18:48:52.761937",
     "status": "completed"
    },
    "tags": []
   },
   "outputs": [],
   "source": [
    "def MI_Lasso(alpha, X, y):\n",
    "    tscv = TimeSeriesSplit(n_splits=3)\n",
    "    lasso_cv = LassoCV(alphas=[alpha], cv=tscv, max_iter=10000, random_state=42)\n",
    "    lasso_cv.fit(X, y)\n",
    "\n",
    "    # Get selected features    \n",
    "    selector = SelectFromModel(lasso_cv, threshold=0.05, max_features=None)  # Adjust threshold as needed\n",
    "    X_selected = selector.transform(X)\n",
    "    selected_features = np.where(selector.get_support())[0] \n",
    "    X_selected_df = pd.DataFrame(X_selected, index=X.index, columns=X.columns[selected_features])\n",
    "    print(f\"Selected {len(selected_features)} stocks\")\n",
    "\n",
    "    alphas = [0.1, 0.5, 1, 5, 10]\n",
    "    best_alpha = None\n",
    "    best_score = np.inf  # Initialize with a high value, so any result will be better\n",
    "    \n",
    "    for alpha in alphas:\n",
    "        lasso = Lasso(alpha=alpha, max_iter=10000)\n",
    "        fold_scores = []  # Store the tracking error for each fold\n",
    "\n",
    "        # Loop over each fold in the TimeSeriesSplit\n",
    "        for train_index, test_index in tscv.split(X_selected_df):\n",
    "            X_train_cv, X_test_cv = X_selected_df.iloc[train_index], X_selected_df.iloc[test_index]\n",
    "            y_train_cv, y_test_cv = y.iloc[train_index], y.iloc[test_index]\n",
    "            \n",
    "            # Fit the Lasso model on the training data\n",
    "            lasso.fit(X_train_cv, y_train_cv)\n",
    "            \n",
    "            # Predict on the test data\n",
    "            y_pred = lasso.predict(X_test_cv)\n",
    "    \n",
    "            # Evaluate the model using the custom metric (e.g., tracking error)\n",
    "            fold_score = tracking_error(y_test_cv.values, y_pred)\n",
    "            fold_scores.append(fold_score)\n",
    "        \n",
    "        # Calculate the average score across all folds\n",
    "        average_score = np.mean(fold_scores)\n",
    "        \n",
    "        # Print the tracking error for this alpha\n",
    "        print(f\"Alpha: {alpha}, Average Tracking Error: {average_score}\")\n",
    "    \n",
    "        # Track the best alpha (with the lowest tracking error)\n",
    "        if average_score < best_score:\n",
    "            best_score = average_score\n",
    "            best_alpha = alpha\n",
    "    \n",
    "    print(f\"\\nBest Alpha: {best_alpha} with Tracking Error: {best_score}\")    \n",
    "    return len(selected_features), best_score"
   ]
  },
  {
   "cell_type": "markdown",
   "id": "be19a60f",
   "metadata": {
    "papermill": {
     "duration": 0.011951,
     "end_time": "2024-11-12T18:48:52.814383",
     "exception": false,
     "start_time": "2024-11-12T18:48:52.802432",
     "status": "completed"
    },
    "tags": []
   },
   "source": [
    "# Random Forest"
   ]
  },
  {
   "cell_type": "code",
   "execution_count": 17,
   "id": "8603c931",
   "metadata": {
    "execution": {
     "iopub.execute_input": "2024-11-12T18:48:52.841106Z",
     "iopub.status.busy": "2024-11-12T18:48:52.840681Z",
     "iopub.status.idle": "2024-11-12T18:48:52.851686Z",
     "shell.execute_reply": "2024-11-12T18:48:52.850633Z"
    },
    "papermill": {
     "duration": 0.027925,
     "end_time": "2024-11-12T18:48:52.854181",
     "exception": false,
     "start_time": "2024-11-12T18:48:52.826256",
     "status": "completed"
    },
    "tags": []
   },
   "outputs": [],
   "source": [
    "def train_random_forest(tscv, depth, samples, estimators, X, y):\n",
    "    rf = RandomForestRegressor(max_features=\"log2\", max_depth=depth, min_samples_split=samples, n_estimators=estimators, random_state=42)\n",
    "    scores = []\n",
    "    importances = []\n",
    "    \n",
    "    for train_index, test_index in tscv.split(X):\n",
    "        X_train_cv, X_test_cv = X.iloc[train_index], X.iloc[test_index]\n",
    "        y_train_cv, y_test_cv = y.iloc[train_index], y.iloc[test_index]\n",
    "        \n",
    "        # Fit Lasso model on the training data\n",
    "        rf.fit(X_train_cv, y_train_cv)\n",
    "        \n",
    "        # Get feature importance scores\n",
    "        importances.append(rf.feature_importances_)\n",
    "        \n",
    "        # Get predictions and calculate the custom score for this fold\n",
    "        y_pred = rf.predict(X_test_cv)\n",
    "        fold_score = tracking_error(y_test_cv.values, y_pred)  # Replace with your custom metric\n",
    "        print(f\"Fold Score {fold_score}\")\n",
    "        scores.append(fold_score)\n",
    "    \n",
    "    # Calculate the average coefficients across all folds\n",
    "    average_importances = np.mean(importances, axis=0)\n",
    "    \n",
    "    # Calculate the average score across all folds\n",
    "    average_score = np.mean(scores)\n",
    "\n",
    "    selected_stocks = np.where(abs(average_importances) > 1e-5)[0]\n",
    "\n",
    "    print(len(np.where(abs(average_importances) == 0.0)[0]))\n",
    "\n",
    "    print(selected_stocks)\n",
    "\n",
    "    print(\"-------Avg Scores-------\")\n",
    "    print(f\"CV Score: {average_score}\")\n",
    "    print(f\"Number of Stocks: {len(selected_stocks)}\")\n",
    "\n",
    "    return (selected_stocks, average_score)"
   ]
  },
  {
   "cell_type": "code",
   "execution_count": 18,
   "id": "4dc9348a",
   "metadata": {
    "execution": {
     "iopub.execute_input": "2024-11-12T18:48:52.879162Z",
     "iopub.status.busy": "2024-11-12T18:48:52.878439Z",
     "iopub.status.idle": "2024-11-12T18:48:53.427739Z",
     "shell.execute_reply": "2024-11-12T18:48:53.426728Z"
    },
    "papermill": {
     "duration": 0.564846,
     "end_time": "2024-11-12T18:48:53.430444",
     "exception": false,
     "start_time": "2024-11-12T18:48:52.865598",
     "status": "completed"
    },
    "tags": []
   },
   "outputs": [],
   "source": [
    "X = df_total.drop(columns=['NIFTY 50', 'NIFTY BANK', 'NIFTY_100'])\n",
    "y = df_total['NIFTY_100']\n",
    "\n",
    "tscv = TimeSeriesSplit(n_splits=3)\n",
    "\n",
    "#train_random_forest(tscv, 2, 5, 15, X, y)"
   ]
  },
  {
   "cell_type": "markdown",
   "id": "bbd5a984",
   "metadata": {
    "papermill": {
     "duration": 0.011186,
     "end_time": "2024-11-12T18:48:53.453267",
     "exception": false,
     "start_time": "2024-11-12T18:48:53.442081",
     "status": "completed"
    },
    "tags": []
   },
   "source": [
    "X = df_total.drop(columns=['NIFTY 50', 'NIFTY BANK', 'NIFTY_100'])\n",
    "y = df_total['NIFTY_100']\n",
    "\n",
    "tscv = TimeSeriesSplit(n_splits=3)\n",
    "\n",
    "param_grid = {\n",
    "    'n_estimators': [15, 20, 25, 30, 35],\n",
    "    'max_depth': [2, 3, 4],\n",
    "    'min_samples_split': [5, 10, 15, 20]\n",
    "}\n",
    "\n",
    "results = []\n",
    "\n",
    "for n_estimators in param_grid['n_estimators']:\n",
    "    for max_depth in param_grid['max_depth']:\n",
    "        for samples in param_grid['min_samples_split']:\n",
    "            (stocks, err) = train_random_forest(tscv, max_depth, samples, n_estimators, X, y)\n",
    "            results.append({\n",
    "                'n_estimators': n_estimators,\n",
    "                'max_depth': max_depth,\n",
    "                'min_samples_split': samples,\n",
    "                'tracking_error': err,\n",
    "                'num_selected_stocks': len(stocks)\n",
    "            })\n",
    "\n",
    "\n",
    "with open(\"/kaggle/working/rf_results.json\", \"w\") as file:\n",
    "    json.dump(results, file, indent=4)  # `indent=4` for pretty formatting"
   ]
  },
  {
   "cell_type": "markdown",
   "id": "60c90c6d",
   "metadata": {
    "papermill": {
     "duration": 0.011512,
     "end_time": "2024-11-12T18:48:53.476058",
     "exception": false,
     "start_time": "2024-11-12T18:48:53.464546",
     "status": "completed"
    },
    "tags": []
   },
   "source": [
    "For the random forest model, only models with a very low number of estimators (n_estimators) 10 - 20, achieve feature selection, but those models probably suffer from high variance and won't be good enough to generalize. "
   ]
  },
  {
   "cell_type": "markdown",
   "id": "441950d7",
   "metadata": {
    "papermill": {
     "duration": 0.011921,
     "end_time": "2024-11-12T18:48:53.499196",
     "exception": false,
     "start_time": "2024-11-12T18:48:53.487275",
     "status": "completed"
    },
    "tags": []
   },
   "source": [
    "## Gradient Boosting"
   ]
  },
  {
   "cell_type": "markdown",
   "id": "988063fa",
   "metadata": {
    "papermill": {
     "duration": 0.011151,
     "end_time": "2024-11-12T18:48:53.521860",
     "exception": false,
     "start_time": "2024-11-12T18:48:53.510709",
     "status": "completed"
    },
    "tags": []
   },
   "source": [
    "### XGBoost"
   ]
  },
  {
   "cell_type": "code",
   "execution_count": 19,
   "id": "df4163b6",
   "metadata": {
    "execution": {
     "iopub.execute_input": "2024-11-12T18:48:53.546228Z",
     "iopub.status.busy": "2024-11-12T18:48:53.545849Z",
     "iopub.status.idle": "2024-11-12T18:48:53.555857Z",
     "shell.execute_reply": "2024-11-12T18:48:53.554559Z"
    },
    "papermill": {
     "duration": 0.025198,
     "end_time": "2024-11-12T18:48:53.558400",
     "exception": false,
     "start_time": "2024-11-12T18:48:53.533202",
     "status": "completed"
    },
    "tags": []
   },
   "outputs": [],
   "source": [
    "def train_xgboost(tscv, X, y):\n",
    "    xgbr = xgb.XGBRegressor(\n",
    "        n_estimators=100,\n",
    "        max_depth=2,\n",
    "        min_child_weight=5,\n",
    "        gamma=5,\n",
    "        subsample=0.5,\n",
    "        colsample_bytree=0.3,\n",
    "        alpha=100,\n",
    "        learning_rate=0.1,\n",
    "        random_state=42\n",
    "    )\n",
    "\n",
    "    scores = []\n",
    "    importances = []\n",
    "\n",
    "    for train_index, test_index in tscv.split(X):\n",
    "        X_train_cv, X_test_cv = X.iloc[train_index], X.iloc[test_index]\n",
    "        y_train_cv, y_test_cv = y.iloc[train_index], y.iloc[test_index]\n",
    "        \n",
    "        # Fit XGBR model on the training data\n",
    "        xgbr.fit(X_train_cv, y_train_cv)\n",
    "        \n",
    "        # Get predictions and calculate the custom score for this fold\n",
    "        y_pred = xgbr.predict(X_test_cv)\n",
    "        fold_score = tracking_error(y_test_cv.values, y_pred)  # Replace with your custom metric\n",
    "        print(f\"Fold Score {fold_score}\")\n",
    "        scores.append(fold_score)\n",
    "\n",
    "        importances.append(xgbr.feature_importances_)\n",
    "\n",
    "    # Calculate the average score across all folds\n",
    "    average_score = np.mean(scores)\n",
    "    average_importances = np.mean(importances, axis=0)\n",
    "\n",
    "    selected_stocks = np.where(average_importances > 0.0)[0]\n",
    "    num_zero_importance_stocks = len(np.where(average_importances == 0.0)[0])\n",
    "    \n",
    "    print(\"-------Avg Scores-------\")\n",
    "    print(f\"CV Score: {average_score}\")\n",
    "    print(f\"Number of Stocks: {len(selected_stocks)} - Number of 0 importance stocks {num_zero_importance_stocks}\")\n"
   ]
  },
  {
   "cell_type": "code",
   "execution_count": 20,
   "id": "f0c9031f",
   "metadata": {
    "execution": {
     "iopub.execute_input": "2024-11-12T18:48:53.583004Z",
     "iopub.status.busy": "2024-11-12T18:48:53.582623Z",
     "iopub.status.idle": "2024-11-12T18:49:18.256448Z",
     "shell.execute_reply": "2024-11-12T18:49:18.255216Z"
    },
    "papermill": {
     "duration": 24.688845,
     "end_time": "2024-11-12T18:49:18.258758",
     "exception": false,
     "start_time": "2024-11-12T18:48:53.569913",
     "status": "completed"
    },
    "tags": []
   },
   "outputs": [
    {
     "name": "stdout",
     "output_type": "stream",
     "text": [
      "Fold Score 0.11451923678371398\n",
      "Fold Score 0.2242370085460745\n",
      "Fold Score 0.36494057358377446\n",
      "-------Avg Scores-------\n",
      "CV Score: 0.23456560630452097\n",
      "Number of Stocks: 94 - Number of 0 importance stocks 5\n"
     ]
    }
   ],
   "source": [
    "train_xgboost(tscv, X, y)"
   ]
  },
  {
   "cell_type": "code",
   "execution_count": null,
   "id": "b93b1ca3",
   "metadata": {
    "papermill": {
     "duration": 0.0116,
     "end_time": "2024-11-12T18:49:18.282728",
     "exception": false,
     "start_time": "2024-11-12T18:49:18.271128",
     "status": "completed"
    },
    "tags": []
   },
   "outputs": [],
   "source": []
  }
 ],
 "metadata": {
  "kaggle": {
   "accelerator": "none",
   "dataSources": [
    {
     "databundleVersionId": 10072768,
     "datasetId": 6024843,
     "sourceId": 9824880,
     "sourceType": "datasetVersion"
    },
    {
     "databundleVersionId": 10119895,
     "datasetId": 2401195,
     "sourceId": 9867252,
     "sourceType": "datasetVersion"
    },
    {
     "databundleVersionId": 10130483,
     "datasetId": 2490157,
     "sourceId": 9876776,
     "sourceType": "datasetVersion"
    }
   ],
   "dockerImageVersionId": 30786,
   "isGpuEnabled": false,
   "isInternetEnabled": true,
   "language": "python",
   "sourceType": "notebook"
  },
  "kernelspec": {
   "display_name": "Python 3",
   "language": "python",
   "name": "python3"
  },
  "language_info": {
   "codemirror_mode": {
    "name": "ipython",
    "version": 3
   },
   "file_extension": ".py",
   "mimetype": "text/x-python",
   "name": "python",
   "nbconvert_exporter": "python",
   "pygments_lexer": "ipython3",
   "version": "3.10.14"
  },
  "papermill": {
   "default_parameters": {},
   "duration": 14192.858106,
   "end_time": "2024-11-12T18:49:19.018205",
   "environment_variables": {},
   "exception": null,
   "input_path": "__notebook__.ipynb",
   "output_path": "__notebook__.ipynb",
   "parameters": {},
   "start_time": "2024-11-12T14:52:46.160099",
   "version": "2.6.0"
  }
 },
 "nbformat": 4,
 "nbformat_minor": 5
}
