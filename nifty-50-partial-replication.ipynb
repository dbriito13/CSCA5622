{
 "cells": [
  {
   "cell_type": "markdown",
   "id": "c0639b44",
   "metadata": {
    "_cell_guid": "b1076dfc-b9ad-4769-8c92-a6c4dae69d19",
    "_uuid": "8f2839f25d086af736a60e9eeb907d3b93b6e0e5",
    "papermill": {
     "duration": 0.005777,
     "end_time": "2024-11-09T17:46:21.955846",
     "exception": false,
     "start_time": "2024-11-09T17:46:21.950069",
     "status": "completed"
    },
    "tags": []
   },
   "source": [
    "# Nifty 50 Partial Replication"
   ]
  },
  {
   "cell_type": "code",
   "execution_count": 1,
   "id": "96926013",
   "metadata": {
    "execution": {
     "iopub.execute_input": "2024-11-09T17:46:21.967620Z",
     "iopub.status.busy": "2024-11-09T17:46:21.967226Z",
     "iopub.status.idle": "2024-11-09T17:46:24.399598Z",
     "shell.execute_reply": "2024-11-09T17:46:24.398510Z"
    },
    "papermill": {
     "duration": 2.440971,
     "end_time": "2024-11-09T17:46:24.401989",
     "exception": false,
     "start_time": "2024-11-09T17:46:21.961018",
     "status": "completed"
    },
    "tags": []
   },
   "outputs": [],
   "source": [
    "import pandas as pd\n",
    "import numpy as np\n",
    "from sklearn.model_selection import train_test_split\n",
    "from sklearn.linear_model import Lasso\n",
    "from sklearn.metrics import mean_squared_error, r2_score, make_scorer\n",
    "from sklearn.model_selection import cross_val_score, TimeSeriesSplit\n",
    "from sklearn.linear_model import LassoCV\n",
    "import matplotlib.pyplot as plt\n",
    "import os\n",
    "import glob\n",
    "from tqdm import tqdm\n",
    "import warnings\n",
    "from sklearn.ensemble import RandomForestRegressor\n",
    "warnings.filterwarnings(\"ignore\")"
   ]
  },
  {
   "cell_type": "code",
   "execution_count": 2,
   "id": "cbc271ac",
   "metadata": {
    "execution": {
     "iopub.execute_input": "2024-11-09T17:46:24.414281Z",
     "iopub.status.busy": "2024-11-09T17:46:24.413744Z",
     "iopub.status.idle": "2024-11-09T17:46:24.419620Z",
     "shell.execute_reply": "2024-11-09T17:46:24.418651Z"
    },
    "papermill": {
     "duration": 0.014354,
     "end_time": "2024-11-09T17:46:24.421685",
     "exception": false,
     "start_time": "2024-11-09T17:46:24.407331",
     "status": "completed"
    },
    "tags": []
   },
   "outputs": [],
   "source": [
    "def tracking_error(y_true, y_pred):\n",
    "    # Convert y_true and y_pred to pandas Series for easy handling of pct_change()\n",
    "    y_true = pd.Series(y_true)\n",
    "    y_pred = pd.Series(y_pred)\n",
    "    \n",
    "    # Calculate percentage change for true values and predictions\n",
    "    pct_change_true = y_true.pct_change() * 100\n",
    "    pct_change_pred = y_pred.pct_change() * 100\n",
    "    \n",
    "    # Calculate the difference between the percentage changes\n",
    "    diff_pct_change = pct_change_true - pct_change_pred    \n",
    "    \n",
    "    # Return the standard deviation of the differences (tracking error)\n",
    "    return np.std(diff_pct_change.dropna())  # dropna() to avoid NaN values in pct_change"
   ]
  },
  {
   "cell_type": "markdown",
   "id": "0388981f",
   "metadata": {
    "papermill": {
     "duration": 0.004767,
     "end_time": "2024-11-09T17:46:24.431647",
     "exception": false,
     "start_time": "2024-11-09T17:46:24.426880",
     "status": "completed"
    },
    "tags": []
   },
   "source": [
    "## Data"
   ]
  },
  {
   "cell_type": "code",
   "execution_count": 3,
   "id": "a1a568a0",
   "metadata": {
    "execution": {
     "iopub.execute_input": "2024-11-09T17:46:24.443217Z",
     "iopub.status.busy": "2024-11-09T17:46:24.442803Z",
     "iopub.status.idle": "2024-11-09T17:46:24.447004Z",
     "shell.execute_reply": "2024-11-09T17:46:24.446072Z"
    },
    "papermill": {
     "duration": 0.012632,
     "end_time": "2024-11-09T17:46:24.449191",
     "exception": false,
     "start_time": "2024-11-09T17:46:24.436559",
     "status": "completed"
    },
    "tags": []
   },
   "outputs": [],
   "source": [
    "# directory_path = '/kaggle/input/stock-market-data-nifty-50-stocks-1-min-data'\n",
    "# pattern = os.path.join(directory_path, \"*.csv\")  # Change \"*.csv\" to match other patterns if needed\n",
    "\n",
    "# Get the list of files that match the pattern\n",
    "# file_list = glob.glob(pattern)"
   ]
  },
  {
   "cell_type": "code",
   "execution_count": 4,
   "id": "f62490f9",
   "metadata": {
    "execution": {
     "iopub.execute_input": "2024-11-09T17:46:24.461158Z",
     "iopub.status.busy": "2024-11-09T17:46:24.460484Z",
     "iopub.status.idle": "2024-11-09T17:46:24.466523Z",
     "shell.execute_reply": "2024-11-09T17:46:24.465551Z"
    },
    "papermill": {
     "duration": 0.014334,
     "end_time": "2024-11-09T17:46:24.468675",
     "exception": false,
     "start_time": "2024-11-09T17:46:24.454341",
     "status": "completed"
    },
    "tags": []
   },
   "outputs": [],
   "source": [
    "def fetch_data(cols):\n",
    "    df_list = []\n",
    "    for file in tqdm(file_list):\n",
    "        stock_name = os.path.basename(file).split(\"_\")[0]\n",
    "        file_df = pd.read_csv(file, index_col=0)\n",
    "        file_df = file_df[[cols]]\n",
    "        file_df.columns = pd.MultiIndex.from_product([[stock_name], file_df.columns])\n",
    "        df_list.append(file_df)\n",
    "    return pd.concat(df_list, axis=1)"
   ]
  },
  {
   "cell_type": "code",
   "execution_count": 5,
   "id": "61f621ef",
   "metadata": {
    "execution": {
     "iopub.execute_input": "2024-11-09T17:46:24.481306Z",
     "iopub.status.busy": "2024-11-09T17:46:24.480836Z",
     "iopub.status.idle": "2024-11-09T17:46:24.484928Z",
     "shell.execute_reply": "2024-11-09T17:46:24.483997Z"
    },
    "papermill": {
     "duration": 0.012166,
     "end_time": "2024-11-09T17:46:24.486910",
     "exception": false,
     "start_time": "2024-11-09T17:46:24.474744",
     "status": "completed"
    },
    "tags": []
   },
   "outputs": [],
   "source": [
    "# df = fetch_data('close')\n",
    "# df.to_csv('/kaggle/input/nifty_50_closing.csv')"
   ]
  },
  {
   "cell_type": "code",
   "execution_count": 6,
   "id": "84f746c6",
   "metadata": {
    "execution": {
     "iopub.execute_input": "2024-11-09T17:46:24.498599Z",
     "iopub.status.busy": "2024-11-09T17:46:24.498222Z",
     "iopub.status.idle": "2024-11-09T17:46:43.395208Z",
     "shell.execute_reply": "2024-11-09T17:46:43.394000Z"
    },
    "papermill": {
     "duration": 18.905819,
     "end_time": "2024-11-09T17:46:43.397849",
     "exception": false,
     "start_time": "2024-11-09T17:46:24.492030",
     "status": "completed"
    },
    "tags": []
   },
   "outputs": [],
   "source": [
    "df = pd.read_csv('/kaggle/input/nifty-50-closing-data/nifty_50_closing.csv', index_col=0, header=[0, 1])\n",
    "df = df.xs('close', level=1, axis=1)\n",
    "df.index = pd.to_datetime(df.index)"
   ]
  },
  {
   "cell_type": "code",
   "execution_count": 7,
   "id": "d91af9bd",
   "metadata": {
    "execution": {
     "iopub.execute_input": "2024-11-09T17:46:43.410313Z",
     "iopub.status.busy": "2024-11-09T17:46:43.409598Z",
     "iopub.status.idle": "2024-11-09T17:46:45.246296Z",
     "shell.execute_reply": "2024-11-09T17:46:45.245230Z"
    },
    "papermill": {
     "duration": 1.845503,
     "end_time": "2024-11-09T17:46:45.248872",
     "exception": false,
     "start_time": "2024-11-09T17:46:43.403369",
     "status": "completed"
    },
    "tags": []
   },
   "outputs": [],
   "source": [
    "nifty_100_closing = pd.read_csv('/kaggle/input/nifty-50-minute-data/NIFTY 100_minute.csv', index_col=0)[['close']]\n",
    "nifty_100_closing.index = pd.to_datetime(nifty_100_closing.index)\n",
    "nifty_100_closing.rename(columns={'close': 'NIFTY_100'}, inplace=True)"
   ]
  },
  {
   "cell_type": "code",
   "execution_count": 8,
   "id": "6172f781",
   "metadata": {
    "execution": {
     "iopub.execute_input": "2024-11-09T17:46:45.261676Z",
     "iopub.status.busy": "2024-11-09T17:46:45.260721Z",
     "iopub.status.idle": "2024-11-09T17:46:45.266514Z",
     "shell.execute_reply": "2024-11-09T17:46:45.265467Z"
    },
    "papermill": {
     "duration": 0.014656,
     "end_time": "2024-11-09T17:46:45.268934",
     "exception": false,
     "start_time": "2024-11-09T17:46:45.254278",
     "status": "completed"
    },
    "tags": []
   },
   "outputs": [
    {
     "name": "stdout",
     "output_type": "stream",
     "text": [
      "Index type for df1: <class 'pandas.core.indexes.datetimes.DatetimeIndex'>\n",
      "Index type for df2: <class 'pandas.core.indexes.datetimes.DatetimeIndex'>\n"
     ]
    }
   ],
   "source": [
    "print(f\"Index type for df1: {type(df.index)}\")\n",
    "print(f\"Index type for df2: {type(nifty_100_closing.index)}\")"
   ]
  },
  {
   "cell_type": "code",
   "execution_count": 9,
   "id": "3a1b55de",
   "metadata": {
    "execution": {
     "iopub.execute_input": "2024-11-09T17:46:45.282352Z",
     "iopub.status.busy": "2024-11-09T17:46:45.281425Z",
     "iopub.status.idle": "2024-11-09T17:46:46.492035Z",
     "shell.execute_reply": "2024-11-09T17:46:46.491056Z"
    },
    "papermill": {
     "duration": 1.219318,
     "end_time": "2024-11-09T17:46:46.494222",
     "exception": false,
     "start_time": "2024-11-09T17:46:45.274904",
     "status": "completed"
    },
    "tags": []
   },
   "outputs": [
    {
     "data": {
      "text/html": [
       "<div>\n",
       "<style scoped>\n",
       "    .dataframe tbody tr th:only-of-type {\n",
       "        vertical-align: middle;\n",
       "    }\n",
       "\n",
       "    .dataframe tbody tr th {\n",
       "        vertical-align: top;\n",
       "    }\n",
       "\n",
       "    .dataframe thead th {\n",
       "        text-align: right;\n",
       "    }\n",
       "</style>\n",
       "<table border=\"1\" class=\"dataframe\">\n",
       "  <thead>\n",
       "    <tr style=\"text-align: right;\">\n",
       "      <th></th>\n",
       "      <th>HDFCAMC</th>\n",
       "      <th>APOLLOHOSP</th>\n",
       "      <th>BOSCHLTD</th>\n",
       "      <th>INDUSTOWER</th>\n",
       "      <th>BERGEPAINT</th>\n",
       "      <th>MARICO</th>\n",
       "      <th>ICICIPRULI</th>\n",
       "      <th>HDFCLIFE</th>\n",
       "      <th>SBIN</th>\n",
       "      <th>SUNPHARMA</th>\n",
       "      <th>...</th>\n",
       "      <th>SBICARD</th>\n",
       "      <th>DABUR</th>\n",
       "      <th>SAIL</th>\n",
       "      <th>BRITANNIA</th>\n",
       "      <th>ADANIPORTS</th>\n",
       "      <th>ONGC</th>\n",
       "      <th>EICHERMOT</th>\n",
       "      <th>TECHM</th>\n",
       "      <th>JINDALSTEL</th>\n",
       "      <th>HEROMOTOCO</th>\n",
       "    </tr>\n",
       "    <tr>\n",
       "      <th>date</th>\n",
       "      <th></th>\n",
       "      <th></th>\n",
       "      <th></th>\n",
       "      <th></th>\n",
       "      <th></th>\n",
       "      <th></th>\n",
       "      <th></th>\n",
       "      <th></th>\n",
       "      <th></th>\n",
       "      <th></th>\n",
       "      <th></th>\n",
       "      <th></th>\n",
       "      <th></th>\n",
       "      <th></th>\n",
       "      <th></th>\n",
       "      <th></th>\n",
       "      <th></th>\n",
       "      <th></th>\n",
       "      <th></th>\n",
       "      <th></th>\n",
       "      <th></th>\n",
       "    </tr>\n",
       "  </thead>\n",
       "  <tbody>\n",
       "    <tr>\n",
       "      <th>2018-08-06 10:47:00</th>\n",
       "      <td>1803.95</td>\n",
       "      <td>974.3</td>\n",
       "      <td>19187.45</td>\n",
       "      <td>290.0</td>\n",
       "      <td>316.85</td>\n",
       "      <td>357.95</td>\n",
       "      <td>408.50</td>\n",
       "      <td>485.00</td>\n",
       "      <td>306.70</td>\n",
       "      <td>579.65</td>\n",
       "      <td>...</td>\n",
       "      <td>0.0</td>\n",
       "      <td>435.30</td>\n",
       "      <td>79.35</td>\n",
       "      <td>3194.92</td>\n",
       "      <td>400.70</td>\n",
       "      <td>167.75</td>\n",
       "      <td>2711.3</td>\n",
       "      <td>670.45</td>\n",
       "      <td>207.65</td>\n",
       "      <td>3259.0</td>\n",
       "    </tr>\n",
       "    <tr>\n",
       "      <th>2018-08-06 10:48:00</th>\n",
       "      <td>1803.90</td>\n",
       "      <td>973.7</td>\n",
       "      <td>19187.45</td>\n",
       "      <td>290.0</td>\n",
       "      <td>316.50</td>\n",
       "      <td>357.55</td>\n",
       "      <td>408.10</td>\n",
       "      <td>484.95</td>\n",
       "      <td>306.70</td>\n",
       "      <td>579.30</td>\n",
       "      <td>...</td>\n",
       "      <td>0.0</td>\n",
       "      <td>435.15</td>\n",
       "      <td>79.30</td>\n",
       "      <td>3193.02</td>\n",
       "      <td>400.55</td>\n",
       "      <td>167.55</td>\n",
       "      <td>2710.6</td>\n",
       "      <td>670.55</td>\n",
       "      <td>207.80</td>\n",
       "      <td>3260.6</td>\n",
       "    </tr>\n",
       "    <tr>\n",
       "      <th>2018-08-06 10:49:00</th>\n",
       "      <td>1806.00</td>\n",
       "      <td>973.7</td>\n",
       "      <td>19187.45</td>\n",
       "      <td>290.0</td>\n",
       "      <td>316.85</td>\n",
       "      <td>357.20</td>\n",
       "      <td>408.85</td>\n",
       "      <td>485.00</td>\n",
       "      <td>306.75</td>\n",
       "      <td>579.45</td>\n",
       "      <td>...</td>\n",
       "      <td>0.0</td>\n",
       "      <td>435.70</td>\n",
       "      <td>79.30</td>\n",
       "      <td>3192.50</td>\n",
       "      <td>400.30</td>\n",
       "      <td>167.55</td>\n",
       "      <td>2709.8</td>\n",
       "      <td>670.65</td>\n",
       "      <td>207.55</td>\n",
       "      <td>3259.5</td>\n",
       "    </tr>\n",
       "  </tbody>\n",
       "</table>\n",
       "<p>3 rows × 101 columns</p>\n",
       "</div>"
      ],
      "text/plain": [
       "                     HDFCAMC  APOLLOHOSP  BOSCHLTD  INDUSTOWER  BERGEPAINT  \\\n",
       "date                                                                         \n",
       "2018-08-06 10:47:00  1803.95       974.3  19187.45       290.0      316.85   \n",
       "2018-08-06 10:48:00  1803.90       973.7  19187.45       290.0      316.50   \n",
       "2018-08-06 10:49:00  1806.00       973.7  19187.45       290.0      316.85   \n",
       "\n",
       "                     MARICO  ICICIPRULI  HDFCLIFE    SBIN  SUNPHARMA  ...  \\\n",
       "date                                                                  ...   \n",
       "2018-08-06 10:47:00  357.95      408.50    485.00  306.70     579.65  ...   \n",
       "2018-08-06 10:48:00  357.55      408.10    484.95  306.70     579.30  ...   \n",
       "2018-08-06 10:49:00  357.20      408.85    485.00  306.75     579.45  ...   \n",
       "\n",
       "                     SBICARD   DABUR   SAIL  BRITANNIA  ADANIPORTS    ONGC  \\\n",
       "date                                                                         \n",
       "2018-08-06 10:47:00      0.0  435.30  79.35    3194.92      400.70  167.75   \n",
       "2018-08-06 10:48:00      0.0  435.15  79.30    3193.02      400.55  167.55   \n",
       "2018-08-06 10:49:00      0.0  435.70  79.30    3192.50      400.30  167.55   \n",
       "\n",
       "                     EICHERMOT   TECHM  JINDALSTEL  HEROMOTOCO  \n",
       "date                                                            \n",
       "2018-08-06 10:47:00     2711.3  670.45      207.65      3259.0  \n",
       "2018-08-06 10:48:00     2710.6  670.55      207.80      3260.6  \n",
       "2018-08-06 10:49:00     2709.8  670.65      207.55      3259.5  \n",
       "\n",
       "[3 rows x 101 columns]"
      ]
     },
     "execution_count": 9,
     "metadata": {},
     "output_type": "execute_result"
    }
   ],
   "source": [
    "# df.interpolate(method='linear', inplace=True)\n",
    "# To fill the first row NaN with the value from the next minute\n",
    "df.fillna(0, inplace=True)\n",
    "df.index = df.index.tz_localize(None)\n",
    "df.head(3)"
   ]
  },
  {
   "cell_type": "code",
   "execution_count": 10,
   "id": "571d47f4",
   "metadata": {
    "execution": {
     "iopub.execute_input": "2024-11-09T17:46:46.507303Z",
     "iopub.status.busy": "2024-11-09T17:46:46.506590Z",
     "iopub.status.idle": "2024-11-09T17:46:46.841762Z",
     "shell.execute_reply": "2024-11-09T17:46:46.840711Z"
    },
    "papermill": {
     "duration": 0.344416,
     "end_time": "2024-11-09T17:46:46.844333",
     "exception": false,
     "start_time": "2024-11-09T17:46:46.499917",
     "status": "completed"
    },
    "tags": []
   },
   "outputs": [],
   "source": [
    "df_total = df.join(nifty_100_closing, how='left')"
   ]
  },
  {
   "cell_type": "code",
   "execution_count": 11,
   "id": "4d0597df",
   "metadata": {
    "execution": {
     "iopub.execute_input": "2024-11-09T17:46:46.856895Z",
     "iopub.status.busy": "2024-11-09T17:46:46.856536Z",
     "iopub.status.idle": "2024-11-09T17:46:47.201412Z",
     "shell.execute_reply": "2024-11-09T17:46:47.200431Z"
    },
    "papermill": {
     "duration": 0.354005,
     "end_time": "2024-11-09T17:46:47.203952",
     "exception": false,
     "start_time": "2024-11-09T17:46:46.849947",
     "status": "completed"
    },
    "tags": []
   },
   "outputs": [],
   "source": [
    "df_total.dropna(inplace=True)"
   ]
  },
  {
   "cell_type": "markdown",
   "id": "d8b535a1",
   "metadata": {
    "papermill": {
     "duration": 0.00523,
     "end_time": "2024-11-09T17:46:47.215026",
     "exception": false,
     "start_time": "2024-11-09T17:46:47.209796",
     "status": "completed"
    },
    "tags": []
   },
   "source": [
    "# Models"
   ]
  },
  {
   "cell_type": "markdown",
   "id": "194c5805",
   "metadata": {
    "papermill": {
     "duration": 0.005161,
     "end_time": "2024-11-09T17:46:47.225582",
     "exception": false,
     "start_time": "2024-11-09T17:46:47.220421",
     "status": "completed"
    },
    "tags": []
   },
   "source": [
    "# Lasso Regression"
   ]
  },
  {
   "cell_type": "code",
   "execution_count": 12,
   "id": "c56d2da9",
   "metadata": {
    "execution": {
     "iopub.execute_input": "2024-11-09T17:46:47.238299Z",
     "iopub.status.busy": "2024-11-09T17:46:47.237528Z",
     "iopub.status.idle": "2024-11-09T17:46:47.245795Z",
     "shell.execute_reply": "2024-11-09T17:46:47.244725Z"
    },
    "papermill": {
     "duration": 0.016979,
     "end_time": "2024-11-09T17:46:47.247898",
     "exception": false,
     "start_time": "2024-11-09T17:46:47.230919",
     "status": "completed"
    },
    "tags": []
   },
   "outputs": [],
   "source": [
    "def train_lasso(alpha, tscv, X, y):\n",
    "    lasso = Lasso(alpha=alpha, max_iter=30000)\n",
    "    scores = []\n",
    "    coefficients = []\n",
    "    \n",
    "    for train_index, test_index in tscv.split(X):\n",
    "        X_train_cv, X_test_cv = X.iloc[train_index], X.iloc[test_index]\n",
    "        y_train_cv, y_test_cv = y.iloc[train_index], y.iloc[test_index]\n",
    "        \n",
    "        # Fit Lasso model on the training data\n",
    "        lasso.fit(X_train_cv, y_train_cv)\n",
    "        \n",
    "        # Append the coefficients for this fold\n",
    "        coefficients.append(lasso.coef_)\n",
    "        \n",
    "        # Get predictions and calculate the custom score for this fold\n",
    "        y_pred = lasso.predict(X_test_cv)\n",
    "        fold_score = tracking_error(y_test_cv.values, y_pred)  # Replace with your custom metric\n",
    "        print(f\"Fold Score {fold_score}\")\n",
    "        scores.append(fold_score)\n",
    "    \n",
    "    # Calculate the average coefficients across all folds\n",
    "    average_coefficients = np.mean(coefficients, axis=0)\n",
    "    \n",
    "    # Calculate the average score across all folds\n",
    "    average_score = np.mean(scores)\n",
    "\n",
    "    selected_stocks = np.where(abs(average_coefficients) > 1e-5)[0]\n",
    "\n",
    "    print(f\"-------alpha: {alpha}-------\")\n",
    "    print(f\"CV Score: {average_score}\")\n",
    "    print(f\"Number of Stocks: {len(selected_stocks)}\")\n",
    "\n",
    "    return (selected_stocks, average_score)"
   ]
  },
  {
   "cell_type": "code",
   "execution_count": 13,
   "id": "d255d2b6",
   "metadata": {
    "execution": {
     "iopub.execute_input": "2024-11-09T17:46:47.260808Z",
     "iopub.status.busy": "2024-11-09T17:46:47.260413Z",
     "iopub.status.idle": "2024-11-09T17:46:47.421002Z",
     "shell.execute_reply": "2024-11-09T17:46:47.419965Z"
    },
    "papermill": {
     "duration": 0.169969,
     "end_time": "2024-11-09T17:46:47.423555",
     "exception": false,
     "start_time": "2024-11-09T17:46:47.253586",
     "status": "completed"
    },
    "tags": []
   },
   "outputs": [],
   "source": [
    "X = df_total.drop(columns=['NIFTY 50', 'NIFTY BANK', 'NIFTY_100'])\n",
    "y = df_total['NIFTY_100']\n",
    "\n",
    "# TimeSeriesSplit to conserve the order of the data\n",
    "tscv = TimeSeriesSplit(n_splits=3)\n",
    "\n",
    "alphas = [5, 10, 25, 50, 75, 100]\n",
    "#tracking_errs = []\n",
    "#chosen_stocks = []\n",
    "#for alpha in alphas:\n",
    "#    (stocks, err) = train_lasso(alpha, tscv, X, y)\n",
    "#    tracking_errs.append(err)\n",
    "#    chosen_stocks.append(stocks)\n",
    "\n",
    "#plt.figure(figsize=(8, 6))\n",
    "#plt.plot(alphas, tracking_errs, marker='o', linestyle='-', color='b')\n",
    "#plt.xscale('log')  # Use logarithmic scale for alpha\n",
    "#plt.xlabel('Alpha')\n",
    "#plt.ylabel('Tracking Error')\n",
    "#plt.title('Tracking Error vs Alpha for Lasso Regression')\n",
    "#plt.grid(True)\n",
    "#plt.show()"
   ]
  },
  {
   "cell_type": "markdown",
   "id": "e5187000",
   "metadata": {
    "papermill": {
     "duration": 0.005242,
     "end_time": "2024-11-09T17:46:47.434446",
     "exception": false,
     "start_time": "2024-11-09T17:46:47.429204",
     "status": "completed"
    },
    "tags": []
   },
   "source": [
    "# Random Forest"
   ]
  },
  {
   "cell_type": "code",
   "execution_count": 14,
   "id": "e4a59374",
   "metadata": {
    "execution": {
     "iopub.execute_input": "2024-11-09T17:46:47.447019Z",
     "iopub.status.busy": "2024-11-09T17:46:47.446624Z",
     "iopub.status.idle": "2024-11-09T17:46:47.455274Z",
     "shell.execute_reply": "2024-11-09T17:46:47.454400Z"
    },
    "papermill": {
     "duration": 0.017363,
     "end_time": "2024-11-09T17:46:47.457348",
     "exception": false,
     "start_time": "2024-11-09T17:46:47.439985",
     "status": "completed"
    },
    "tags": []
   },
   "outputs": [],
   "source": [
    "def train_random_forest(tscv, depth, samples, estimators, X, y):\n",
    "    rf = RandomForestRegressor(max_features=\"log2\", max_depth=depth, min_samples_split=samples, n_estimators=estimators)\n",
    "    rf.fit(X, y)\n",
    "    scores = []\n",
    "    importances = []\n",
    "    \n",
    "    for train_index, test_index in tscv.split(X):\n",
    "        X_train_cv, X_test_cv = X.iloc[train_index], X.iloc[test_index]\n",
    "        y_train_cv, y_test_cv = y.iloc[train_index], y.iloc[test_index]\n",
    "        \n",
    "        # Fit Lasso model on the training data\n",
    "        rf.fit(X_train_cv, y_train_cv)\n",
    "        \n",
    "        # Get feature importance scores\n",
    "        importances.append(rf.feature_importances_)\n",
    "        \n",
    "        # Get predictions and calculate the custom score for this fold\n",
    "        y_pred = rf.predict(X_test_cv)\n",
    "        fold_score = tracking_error(y_test_cv.values, y_pred)  # Replace with your custom metric\n",
    "        print(f\"Fold Score {fold_score}\")\n",
    "        scores.append(fold_score)\n",
    "    \n",
    "    # Calculate the average coefficients across all folds\n",
    "    average_importances = np.mean(importances, axis=0)\n",
    "    \n",
    "    # Calculate the average score across all folds\n",
    "    average_score = np.mean(scores)\n",
    "\n",
    "    selected_stocks = np.where(abs(average_importances) > 1e-5)[0]\n",
    "\n",
    "    #print(\"-------Avg Scores-------\")\n",
    "    #print(f\"CV Score: {average_score}\")\n",
    "    #print(f\"Number of Stocks: {len(selected_stocks)}\")\n",
    "\n",
    "    return (selected_stocks, average_score)"
   ]
  },
  {
   "cell_type": "code",
   "execution_count": 15,
   "id": "e85f9dc7",
   "metadata": {
    "execution": {
     "iopub.execute_input": "2024-11-09T17:46:47.470195Z",
     "iopub.status.busy": "2024-11-09T17:46:47.469777Z",
     "iopub.status.idle": "2024-11-09T19:07:59.170005Z",
     "shell.execute_reply": "2024-11-09T19:07:59.168787Z"
    },
    "papermill": {
     "duration": 4871.735808,
     "end_time": "2024-11-09T19:07:59.198845",
     "exception": false,
     "start_time": "2024-11-09T17:46:47.463037",
     "status": "completed"
    },
    "tags": []
   },
   "outputs": [
    {
     "name": "stdout",
     "output_type": "stream",
     "text": [
      "Fold Score 0.14259245281409777\n",
      "Fold Score 0.18452847352803456\n",
      "Fold Score 0.36553580773894023\n",
      "Fold Score 0.12333891930409197\n",
      "Fold Score 0.12189355563980732\n",
      "Fold Score 0.37477773603431536\n",
      "Fold Score 0.15335229492288394\n",
      "Fold Score 0.12740210737781846\n",
      "Fold Score 0.4216788341992613\n",
      "Fold Score 0.12039038110985907\n",
      "Fold Score 0.12775743552298682\n",
      "Fold Score 0.43082928400581216\n",
      "Fold Score 0.1088336555121673\n",
      "Fold Score 0.15705091797465118\n",
      "Fold Score 0.3869030559050294\n",
      "Fold Score 0.13319212203350728\n",
      "Fold Score 0.1333179748756954\n",
      "Fold Score 0.38341252999909325\n",
      "Fold Score 0.10538739100770823\n",
      "Fold Score 0.1957875155789326\n",
      "Fold Score 0.4038195867080361\n",
      "Fold Score 0.12397055383999678\n",
      "Fold Score 0.20560106026916522\n",
      "Fold Score 0.3840353568108687\n",
      "Fold Score 0.12001645248700822\n",
      "Fold Score 0.18895482207899006\n",
      "Fold Score 0.35843992019389925\n",
      "Fold Score 0.11111734050139425\n",
      "Fold Score 0.20166287500700036\n",
      "Fold Score 0.3307297920797045\n",
      "Fold Score 0.12806054455637214\n",
      "Fold Score 0.17465063576849166\n",
      "Fold Score 0.36431382330128914\n",
      "Fold Score 0.09258308227754448\n",
      "Fold Score 0.1409379347406127\n",
      "Fold Score 0.35513777954279774\n",
      "Fold Score 0.10408957768911196\n",
      "Fold Score 0.12124975231148055\n",
      "Fold Score 0.35280798059536495\n",
      "Fold Score 0.11270679232544721\n",
      "Fold Score 0.14217441699096997\n",
      "Fold Score 0.39447556260091904\n",
      "Fold Score 0.0843010715685479\n",
      "Fold Score 0.14996470129510647\n",
      "Fold Score 0.37783767267595963\n",
      "Fold Score 0.08245991137943352\n",
      "Fold Score 0.16333315120809566\n",
      "Fold Score 0.3861051100944406\n",
      "Fold Score 0.12047990179860926\n",
      "Fold Score 0.23165092923056818\n",
      "Fold Score 0.3317023799796393\n",
      "Fold Score 0.10840712494881119\n",
      "Fold Score 0.13735474128145395\n",
      "Fold Score 0.3816154992412547\n",
      "Fold Score 0.10477135179246688\n",
      "Fold Score 0.15752470594362192\n",
      "Fold Score 0.3601320383676598\n",
      "Fold Score 0.11841545627990047\n",
      "Fold Score 0.15485938755656595\n",
      "Fold Score 0.36846063672445845\n",
      "Fold Score 0.1026241019158103\n",
      "Fold Score 0.15283625361209313\n",
      "Fold Score 0.35520366259057007\n",
      "Fold Score 0.12326098396772771\n",
      "Fold Score 0.15744169084521478\n",
      "Fold Score 0.3571876571053319\n",
      "Fold Score 0.08679409173988441\n",
      "Fold Score 0.2618877719769065\n",
      "Fold Score 0.3466337364803068\n",
      "Fold Score 0.09212204308114379\n",
      "Fold Score 0.19558588935550864\n",
      "Fold Score 0.35421499233738957\n",
      "Fold Score 0.1074637113385586\n",
      "Fold Score 0.15077454520653483\n",
      "Fold Score 0.3591299790238257\n",
      "Fold Score 0.10226593287152448\n",
      "Fold Score 0.14011918176944915\n",
      "Fold Score 0.3564562742568656\n",
      "Fold Score 0.09611956414355606\n",
      "Fold Score 0.19129722962271056\n",
      "Fold Score 0.35761419985602144\n",
      "Fold Score 0.12072341894280057\n",
      "Fold Score 0.13558011667767392\n",
      "Fold Score 0.38057364005433725\n",
      "Fold Score 0.10129581484425741\n",
      "Fold Score 0.11461159322457747\n",
      "Fold Score 0.42458319376552467\n",
      "Fold Score 0.08983170160798913\n",
      "Fold Score 0.14748068526381983\n",
      "Fold Score 0.3915196179307314\n",
      "Fold Score 0.08654657186426483\n",
      "Fold Score 0.1403502215980523\n",
      "Fold Score 0.35688462709840396\n",
      "Fold Score 0.106796884163078\n",
      "Fold Score 0.16495996546601588\n",
      "Fold Score 0.33910621903524807\n",
      "Fold Score 0.09300719835908952\n",
      "Fold Score 0.14923806102999754\n",
      "Fold Score 0.37546648945511907\n",
      "Fold Score 0.12546974242205194\n",
      "Fold Score 0.21782774864731838\n",
      "Fold Score 0.355540522871604\n",
      "Fold Score 0.10936528920558856\n",
      "Fold Score 0.1993615766555548\n",
      "Fold Score 0.37579099601870336\n",
      "Fold Score 0.09211740820108062\n",
      "Fold Score 0.12500976504410105\n",
      "Fold Score 0.36349979211843525\n",
      "Fold Score 0.09870883358707346\n",
      "Fold Score 0.1443717028332376\n",
      "Fold Score 0.37324254139108315\n",
      "Fold Score 0.07639206640424509\n",
      "Fold Score 0.11693450617365554\n",
      "Fold Score 0.4678832455892203\n",
      "Fold Score 0.0979258361987283\n",
      "Fold Score 0.16161208911154082\n",
      "Fold Score 0.4006661944434818\n",
      "Fold Score 0.08842796549537599\n",
      "Fold Score 0.1607391447474687\n",
      "Fold Score 0.3501300995224475\n",
      "Fold Score 0.0867681562375288\n",
      "Fold Score 0.1417969911510141\n",
      "Fold Score 0.33730047517609585\n",
      "Fold Score 0.08284289047831403\n",
      "Fold Score 0.16072408338624358\n",
      "Fold Score 0.36676834586903884\n",
      "Fold Score 0.09392826553710308\n",
      "Fold Score 0.12302100924856897\n",
      "Fold Score 0.33898892453139295\n",
      "Fold Score 0.09216728406789708\n",
      "Fold Score 0.11855760972875722\n",
      "Fold Score 0.33060360962946705\n",
      "Fold Score 0.09545550634307406\n",
      "Fold Score 0.18248029884895622\n",
      "Fold Score 0.33411885568609134\n",
      "Fold Score 0.08582674263709417\n",
      "Fold Score 0.13350757830517557\n",
      "Fold Score 0.3616028499642931\n",
      "Fold Score 0.09579291572370434\n",
      "Fold Score 0.13915546365756964\n",
      "Fold Score 0.36605976768401893\n",
      "Fold Score 0.09322831346401601\n",
      "Fold Score 0.1464942519483833\n",
      "Fold Score 0.3369698201158415\n",
      "Fold Score 0.09175712250122223\n",
      "Fold Score 0.13925702879387172\n",
      "Fold Score 0.39482830861303264\n",
      "Fold Score 0.08949930044639713\n",
      "Fold Score 0.12259722102145239\n",
      "Fold Score 0.3689043699627716\n",
      "Fold Score 0.07645796594466436\n",
      "Fold Score 0.12156683284540215\n",
      "Fold Score 0.37711349018983287\n",
      "Fold Score 0.09121810147274645\n",
      "Fold Score 0.11832737340689274\n",
      "Fold Score 0.3506236297502828\n",
      "Fold Score 0.0914135895383613\n",
      "Fold Score 0.13055760057481136\n",
      "Fold Score 0.34524881556253323\n",
      "Fold Score 0.08996765637963555\n",
      "Fold Score 0.1833709776374327\n",
      "Fold Score 0.3175876216857457\n",
      "Fold Score 0.08497916877575114\n",
      "Fold Score 0.14242112974863275\n",
      "Fold Score 0.3502497783339047\n",
      "Fold Score 0.11121421315542891\n",
      "Fold Score 0.12351479928475681\n",
      "Fold Score 0.32593728570085123\n",
      "Fold Score 0.08928032653699158\n",
      "Fold Score 0.11069055863751602\n",
      "Fold Score 0.34479881565394266\n",
      "Fold Score 0.08722032376188472\n",
      "Fold Score 0.13136147871915219\n",
      "Fold Score 0.32939229140795073\n",
      "Fold Score 0.0768597588238295\n",
      "Fold Score 0.13433340346943257\n",
      "Fold Score 0.3544197164741131\n",
      "Fold Score 0.08863778954976313\n",
      "Fold Score 0.13755378382664235\n",
      "Fold Score 0.39760646971738073\n",
      "Fold Score 0.09910029092022711\n",
      "Fold Score 0.12162999667501583\n",
      "Fold Score 0.36556164518846335\n",
      "Fold Score 0.10271348070541783\n",
      "Fold Score 0.10690146296148206\n",
      "Fold Score 0.3643224076260818\n",
      "Fold Score 0.0803591734136223\n",
      "Fold Score 0.13512832757703916\n",
      "Fold Score 0.32068850143696537\n",
      "Fold Score 0.10975148081790305\n",
      "Fold Score 0.09996937795011064\n",
      "Fold Score 0.34894951655573586\n",
      "Fold Score 0.09504207533036035\n",
      "Fold Score 0.13974879938108695\n",
      "Fold Score 0.35337997579089553\n",
      "Fold Score 0.08234219741257935\n",
      "Fold Score 0.1960967260645798\n",
      "Fold Score 0.3404182174375687\n",
      "Fold Score 0.07858376238536577\n",
      "Fold Score 0.14102612630751027\n",
      "Fold Score 0.35644416333999424\n",
      "Fold Score 0.07764203257794701\n",
      "Fold Score 0.14426636732409365\n",
      "Fold Score 0.3597415969270829\n",
      "Fold Score 0.10184480789390081\n",
      "Fold Score 0.12099976953804721\n",
      "Fold Score 0.32290148885071546\n",
      "Fold Score 0.10450322857115268\n",
      "Fold Score 0.12375822849206035\n",
      "Fold Score 0.34473765833912673\n",
      "Fold Score 0.07780239231416411\n",
      "Fold Score 0.12094549110097544\n",
      "Fold Score 0.33689701448246756\n",
      "Fold Score 0.09006600455440315\n",
      "Fold Score 0.13981534939799983\n",
      "Fold Score 0.34791282153109526\n",
      "[{'n_estimators': 20, 'max_depth': 2, 'min_samples_split': 5, 'tracking_error': 0.23088557802702417, 'num_selected_stocks': 69}, {'n_estimators': 20, 'max_depth': 2, 'min_samples_split': 10, 'tracking_error': 0.20667007032607154, 'num_selected_stocks': 72}, {'n_estimators': 20, 'max_depth': 2, 'min_samples_split': 15, 'tracking_error': 0.23414441216665458, 'num_selected_stocks': 68}, {'n_estimators': 20, 'max_depth': 2, 'min_samples_split': 20, 'tracking_error': 0.226325700212886, 'num_selected_stocks': 74}, {'n_estimators': 20, 'max_depth': 3, 'min_samples_split': 5, 'tracking_error': 0.2175958764639493, 'num_selected_stocks': 87}, {'n_estimators': 20, 'max_depth': 3, 'min_samples_split': 10, 'tracking_error': 0.21664087563609866, 'num_selected_stocks': 91}, {'n_estimators': 20, 'max_depth': 3, 'min_samples_split': 15, 'tracking_error': 0.23499816443155896, 'num_selected_stocks': 92}, {'n_estimators': 20, 'max_depth': 3, 'min_samples_split': 20, 'tracking_error': 0.23786899030667694, 'num_selected_stocks': 89}, {'n_estimators': 20, 'max_depth': 4, 'min_samples_split': 5, 'tracking_error': 0.22247039825329917, 'num_selected_stocks': 98}, {'n_estimators': 20, 'max_depth': 4, 'min_samples_split': 10, 'tracking_error': 0.21450333586269968, 'num_selected_stocks': 96}, {'n_estimators': 20, 'max_depth': 4, 'min_samples_split': 15, 'tracking_error': 0.2223416678753843, 'num_selected_stocks': 97}, {'n_estimators': 20, 'max_depth': 4, 'min_samples_split': 20, 'tracking_error': 0.19621959885365162, 'num_selected_stocks': 97}, {'n_estimators': 25, 'max_depth': 2, 'min_samples_split': 5, 'tracking_error': 0.1927157701986525, 'num_selected_stocks': 77}, {'n_estimators': 25, 'max_depth': 2, 'min_samples_split': 10, 'tracking_error': 0.21645225730577874, 'num_selected_stocks': 75}, {'n_estimators': 25, 'max_depth': 2, 'min_samples_split': 15, 'tracking_error': 0.20403448184653797, 'num_selected_stocks': 73}, {'n_estimators': 25, 'max_depth': 2, 'min_samples_split': 20, 'tracking_error': 0.21063272422732326, 'num_selected_stocks': 79}, {'n_estimators': 25, 'max_depth': 3, 'min_samples_split': 5, 'tracking_error': 0.22794440366960558, 'num_selected_stocks': 92}, {'n_estimators': 25, 'max_depth': 3, 'min_samples_split': 10, 'tracking_error': 0.2091257884905066, 'num_selected_stocks': 91}, {'n_estimators': 25, 'max_depth': 3, 'min_samples_split': 15, 'tracking_error': 0.20747603203458284, 'num_selected_stocks': 96}, {'n_estimators': 25, 'max_depth': 3, 'min_samples_split': 20, 'tracking_error': 0.2139118268536416, 'num_selected_stocks': 94}, {'n_estimators': 25, 'max_depth': 4, 'min_samples_split': 5, 'tracking_error': 0.20355467270615782, 'num_selected_stocks': 98}, {'n_estimators': 25, 'max_depth': 4, 'min_samples_split': 10, 'tracking_error': 0.2126301106394248, 'num_selected_stocks': 96}, {'n_estimators': 25, 'max_depth': 4, 'min_samples_split': 15, 'tracking_error': 0.2317718667323659, 'num_selected_stocks': 97}, {'n_estimators': 25, 'max_depth': 4, 'min_samples_split': 20, 'tracking_error': 0.213974308258014, 'num_selected_stocks': 98}, {'n_estimators': 30, 'max_depth': 2, 'min_samples_split': 5, 'tracking_error': 0.2057894118563064, 'num_selected_stocks': 72}, {'n_estimators': 30, 'max_depth': 2, 'min_samples_split': 10, 'tracking_error': 0.19961379629927975, 'num_selected_stocks': 75}, {'n_estimators': 30, 'max_depth': 2, 'min_samples_split': 15, 'tracking_error': 0.21501033120742932, 'num_selected_stocks': 79}, {'n_estimators': 30, 'max_depth': 2, 'min_samples_split': 20, 'tracking_error': 0.2122923918916039, 'num_selected_stocks': 76}, {'n_estimators': 30, 'max_depth': 3, 'min_samples_split': 5, 'tracking_error': 0.21349686727811987, 'num_selected_stocks': 93}, {'n_estimators': 30, 'max_depth': 3, 'min_samples_split': 10, 'tracking_error': 0.20961066826751348, 'num_selected_stocks': 95}, {'n_estimators': 30, 'max_depth': 3, 'min_samples_split': 15, 'tracking_error': 0.19459380685357366, 'num_selected_stocks': 92}, {'n_estimators': 30, 'max_depth': 3, 'min_samples_split': 20, 'tracking_error': 0.20362102288811398, 'num_selected_stocks': 95}, {'n_estimators': 30, 'max_depth': 4, 'min_samples_split': 5, 'tracking_error': 0.20590391628140203, 'num_selected_stocks': 98}, {'n_estimators': 30, 'max_depth': 4, 'min_samples_split': 10, 'tracking_error': 0.23294600464699144, 'num_selected_stocks': 98}, {'n_estimators': 30, 'max_depth': 4, 'min_samples_split': 15, 'tracking_error': 0.22817262062661556, 'num_selected_stocks': 98}, {'n_estimators': 30, 'max_depth': 4, 'min_samples_split': 20, 'tracking_error': 0.1935423217878723, 'num_selected_stocks': 98}, {'n_estimators': 35, 'max_depth': 2, 'min_samples_split': 5, 'tracking_error': 0.2054410259371314, 'num_selected_stocks': 85}, {'n_estimators': 35, 'max_depth': 2, 'min_samples_split': 10, 'tracking_error': 0.22040327272237362, 'num_selected_stocks': 83}, {'n_estimators': 35, 'max_depth': 2, 'min_samples_split': 15, 'tracking_error': 0.22006803991791699, 'num_selected_stocks': 80}, {'n_estimators': 35, 'max_depth': 2, 'min_samples_split': 20, 'tracking_error': 0.19976573658843075, 'num_selected_stocks': 79}, {'n_estimators': 35, 'max_depth': 3, 'min_samples_split': 5, 'tracking_error': 0.18862187418821294, 'num_selected_stocks': 95}, {'n_estimators': 35, 'max_depth': 3, 'min_samples_split': 10, 'tracking_error': 0.2034451065778655, 'num_selected_stocks': 97}, {'n_estimators': 35, 'max_depth': 3, 'min_samples_split': 15, 'tracking_error': 0.18531273310568833, 'num_selected_stocks': 95}, {'n_estimators': 35, 'max_depth': 3, 'min_samples_split': 20, 'tracking_error': 0.1804428344753738, 'num_selected_stocks': 95}, {'n_estimators': 35, 'max_depth': 4, 'min_samples_split': 5, 'tracking_error': 0.20401822029270722, 'num_selected_stocks': 98}, {'n_estimators': 35, 'max_depth': 4, 'min_samples_split': 10, 'tracking_error': 0.19364572363552093, 'num_selected_stocks': 97}, {'n_estimators': 35, 'max_depth': 4, 'min_samples_split': 15, 'tracking_error': 0.2003360490217643, 'num_selected_stocks': 98}, {'n_estimators': 35, 'max_depth': 4, 'min_samples_split': 20, 'tracking_error': 0.1922307951760803, 'num_selected_stocks': 99}, {'n_estimators': 45, 'max_depth': 2, 'min_samples_split': 5, 'tracking_error': 0.20861415330270885, 'num_selected_stocks': 84}, {'n_estimators': 45, 'max_depth': 2, 'min_samples_split': 10, 'tracking_error': 0.193666963810207, 'num_selected_stocks': 83}, {'n_estimators': 45, 'max_depth': 2, 'min_samples_split': 15, 'tracking_error': 0.19171276299329978, 'num_selected_stocks': 87}, {'n_estimators': 45, 'max_depth': 2, 'min_samples_split': 20, 'tracking_error': 0.18672303487664066, 'num_selected_stocks': 84}, {'n_estimators': 45, 'max_depth': 3, 'min_samples_split': 5, 'tracking_error': 0.1890733352252353, 'num_selected_stocks': 98}, {'n_estimators': 45, 'max_depth': 3, 'min_samples_split': 10, 'tracking_error': 0.19697541856760467, 'num_selected_stocks': 97}, {'n_estimators': 45, 'max_depth': 3, 'min_samples_split': 15, 'tracking_error': 0.19255002561942955, 'num_selected_stocks': 96}, {'n_estimators': 45, 'max_depth': 3, 'min_samples_split': 20, 'tracking_error': 0.18688876604701232, 'num_selected_stocks': 97}, {'n_estimators': 45, 'max_depth': 4, 'min_samples_split': 5, 'tracking_error': 0.18158990027615007, 'num_selected_stocks': 98}, {'n_estimators': 45, 'max_depth': 4, 'min_samples_split': 10, 'tracking_error': 0.1826580312963292, 'num_selected_stocks': 98}, {'n_estimators': 45, 'max_depth': 4, 'min_samples_split': 15, 'tracking_error': 0.1885376262557917, 'num_selected_stocks': 98}, {'n_estimators': 45, 'max_depth': 4, 'min_samples_split': 20, 'tracking_error': 0.20793268103126206, 'num_selected_stocks': 98}, {'n_estimators': 50, 'max_depth': 2, 'min_samples_split': 5, 'tracking_error': 0.19543064426123544, 'num_selected_stocks': 85}, {'n_estimators': 50, 'max_depth': 2, 'min_samples_split': 10, 'tracking_error': 0.1913124504309939, 'num_selected_stocks': 87}, {'n_estimators': 50, 'max_depth': 2, 'min_samples_split': 15, 'tracking_error': 0.17872533414254224, 'num_selected_stocks': 86}, {'n_estimators': 50, 'max_depth': 2, 'min_samples_split': 20, 'tracking_error': 0.18622345844124985, 'num_selected_stocks': 87}, {'n_estimators': 50, 'max_depth': 3, 'min_samples_split': 5, 'tracking_error': 0.19605695016744762, 'num_selected_stocks': 97}, {'n_estimators': 50, 'max_depth': 3, 'min_samples_split': 10, 'tracking_error': 0.20628571363824263, 'num_selected_stocks': 98}, {'n_estimators': 50, 'max_depth': 3, 'min_samples_split': 15, 'tracking_error': 0.1920180173442901, 'num_selected_stocks': 97}, {'n_estimators': 50, 'max_depth': 3, 'min_samples_split': 20, 'tracking_error': 0.19388333227637453, 'num_selected_stocks': 96}, {'n_estimators': 50, 'max_depth': 4, 'min_samples_split': 5, 'tracking_error': 0.18191535542755446, 'num_selected_stocks': 98}, {'n_estimators': 50, 'max_depth': 4, 'min_samples_split': 10, 'tracking_error': 0.19099970513411324, 'num_selected_stocks': 98}, {'n_estimators': 50, 'max_depth': 4, 'min_samples_split': 15, 'tracking_error': 0.17854829929920238, 'num_selected_stocks': 98}, {'n_estimators': 50, 'max_depth': 4, 'min_samples_split': 20, 'tracking_error': 0.19259805849449943, 'num_selected_stocks': 98}]\n"
     ]
    }
   ],
   "source": [
    "X = df_total.drop(columns=['NIFTY 50', 'NIFTY BANK', 'NIFTY_100'])\n",
    "y = df_total['NIFTY_100']\n",
    "\n",
    "tscv = TimeSeriesSplit(n_splits=3)\n",
    "\n",
    "param_grid = {\n",
    "    'n_estimators': [20, 25, 30, 35, 45, 50],\n",
    "    'max_depth': [2, 3, 4],\n",
    "    'min_samples_split': [5, 10, 15, 20]\n",
    "}\n",
    "\n",
    "results = []\n",
    "\n",
    "for n_estimators in param_grid['n_estimators']:\n",
    "    for max_depth in param_grid['max_depth']:\n",
    "        for samples in param_grid['min_samples_split']:\n",
    "            (stocks, err) = train_random_forest(tscv, max_depth, samples, n_estimators, X, y)\n",
    "            results.append({\n",
    "                'n_estimators': n_estimators,\n",
    "                'max_depth': max_depth,\n",
    "                'min_samples_split': samples,\n",
    "                'tracking_error': err,\n",
    "                'num_selected_stocks': len(stocks)\n",
    "            })\n",
    "\n",
    "\n",
    "print(results)"
   ]
  },
  {
   "cell_type": "code",
   "execution_count": 16,
   "id": "d819a9f6",
   "metadata": {
    "execution": {
     "iopub.execute_input": "2024-11-09T19:07:59.243608Z",
     "iopub.status.busy": "2024-11-09T19:07:59.243204Z",
     "iopub.status.idle": "2024-11-09T19:07:59.248421Z",
     "shell.execute_reply": "2024-11-09T19:07:59.247369Z"
    },
    "papermill": {
     "duration": 0.029301,
     "end_time": "2024-11-09T19:07:59.250663",
     "exception": false,
     "start_time": "2024-11-09T19:07:59.221362",
     "status": "completed"
    },
    "tags": []
   },
   "outputs": [
    {
     "name": "stdout",
     "output_type": "stream",
     "text": [
      "99\n"
     ]
    }
   ],
   "source": [
    "print(len(X.columns))"
   ]
  },
  {
   "cell_type": "code",
   "execution_count": null,
   "id": "092d7f9a",
   "metadata": {
    "papermill": {
     "duration": 0.018157,
     "end_time": "2024-11-09T19:07:59.287799",
     "exception": false,
     "start_time": "2024-11-09T19:07:59.269642",
     "status": "completed"
    },
    "tags": []
   },
   "outputs": [],
   "source": []
  }
 ],
 "metadata": {
  "kaggle": {
   "accelerator": "none",
   "dataSources": [
    {
     "datasetId": 2401195,
     "sourceId": 9515685,
     "sourceType": "datasetVersion"
    },
    {
     "datasetId": 6024843,
     "sourceId": 9824880,
     "sourceType": "datasetVersion"
    },
    {
     "datasetId": 2490157,
     "sourceId": 5846986,
     "sourceType": "datasetVersion"
    }
   ],
   "dockerImageVersionId": 30786,
   "isGpuEnabled": false,
   "isInternetEnabled": true,
   "language": "python",
   "sourceType": "notebook"
  },
  "kernelspec": {
   "display_name": "Python 3",
   "language": "python",
   "name": "python3"
  },
  "language_info": {
   "codemirror_mode": {
    "name": "ipython",
    "version": 3
   },
   "file_extension": ".py",
   "mimetype": "text/x-python",
   "name": "python",
   "nbconvert_exporter": "python",
   "pygments_lexer": "ipython3",
   "version": "3.10.14"
  },
  "papermill": {
   "default_parameters": {},
   "duration": 4900.719405,
   "end_time": "2024-11-09T19:08:00.026711",
   "environment_variables": {},
   "exception": null,
   "input_path": "__notebook__.ipynb",
   "output_path": "__notebook__.ipynb",
   "parameters": {},
   "start_time": "2024-11-09T17:46:19.307306",
   "version": "2.6.0"
  }
 },
 "nbformat": 4,
 "nbformat_minor": 5
}
