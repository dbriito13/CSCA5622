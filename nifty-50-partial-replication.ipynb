{
 "cells": [
  {
   "cell_type": "markdown",
   "id": "1f6d34ba",
   "metadata": {
    "_cell_guid": "b1076dfc-b9ad-4769-8c92-a6c4dae69d19",
    "_uuid": "8f2839f25d086af736a60e9eeb907d3b93b6e0e5",
    "papermill": {
     "duration": 0.008689,
     "end_time": "2024-12-11T18:56:16.961248",
     "exception": false,
     "start_time": "2024-12-11T18:56:16.952559",
     "status": "completed"
    },
    "tags": []
   },
   "source": [
    "# Nifty 50 Partial Replication \n",
    "Index funds have become a household occurence in the financial sphere, especially for retail investors, due to their simplicity, diversification and low cost compared to actively managed funds. Following an index can be done in one of two ways:\n",
    "- **Full replication:** The most common approach, where a fund holds all constituent stocks present in the index, with the same weights as the index.\n",
    "- **Partial Replication:** With this approach, only a subset of the index's constituents is selected, which should aim to approximate the overall index performance.\n",
    "\n",
    "Partial replication can offer a number of benefits over full replication, but mainly:\n",
    "- Lower transaction costs: Reducing the number of stocks traded minimizes fees such as brokerage fees.\n",
    "- Reduced Trading fees: By potentially avoiding low-liquidity stocks, we avoid have wider bid-ask spreads, as well as having less market impact.\n",
    "- Higher flexibility: Funds can add other constraints on top of avoiding low-liquidity stocks, such as those on sectors or specific stocks, giving them better control over their risk management.\n",
    "Our project's goal is to apply supervised learning techniques to develop a partial replication strategy, minimizing the tracking error of our portfolio."
   ]
  },
  {
   "cell_type": "markdown",
   "id": "ba4df5a7",
   "metadata": {
    "papermill": {
     "duration": 0.00737,
     "end_time": "2024-12-11T18:56:16.977940",
     "exception": false,
     "start_time": "2024-12-11T18:56:16.970570",
     "status": "completed"
    },
    "tags": []
   },
   "source": [
    "## Methodology\n",
    "The project will focus on the NIFTY 100 index, which includes the top 100 companies in the National Stock Exchange of India (NSE) based on market capitalization. \n",
    "\n",
    "We will begin by gathering the minute-level data for both the index as well as the constituents data. Combining the data into a single dataframe, and perform some basic cleaning tasks, removing certain columns with a large number of empty values, as well as rows without target value, etc. Our target variable will be the **NIFTY 100 index price**.\n",
    "\n",
    "Since our goal is to reduce the number of constituents to use only a subset of the total 100 stocks, our models will follow a 2 step approach:\n",
    "1. Feature Selection: We will first apply different feature selection techniques, (Lasso regression, Correlation matrix, Mutual information) to identify the most relevant stocks for our model.\n",
    "2. Model Training: Once the most relevant features (stocks) are selected, we will train different supervised learning models on the reduced dataset, these models will predict the weights for each of the relevant stocks.\n",
    "To ensure the robustness of the test results, while accounting for the nature of the data (ordered time series) we will use a **sliding window approach**, where:\n",
    "* A fixed-size window (roughly 1-year) is used to train the model.\n",
    "* The model will be tested on roughly the next 3 months.\n",
    "* The window will slide forward, repeating until we use all available data.\n",
    "\n",
    "For a certain model, the overall out-of-sample error will be the average error over all the windows. The error we will aim to minimize is the **tracking error**, for simplicity models will minimize MSE. Finally, we will compare models by plotting the error vs the number of stocks, to visualize how it evolves as we reduce the size of the subset of constituents chosen.\n",
    "\n"
   ]
  },
  {
   "cell_type": "code",
   "execution_count": 1,
   "id": "2a971f8c",
   "metadata": {
    "execution": {
     "iopub.execute_input": "2024-12-11T18:56:16.995229Z",
     "iopub.status.busy": "2024-12-11T18:56:16.994838Z",
     "iopub.status.idle": "2024-12-11T18:56:19.910997Z",
     "shell.execute_reply": "2024-12-11T18:56:19.909887Z"
    },
    "papermill": {
     "duration": 2.927714,
     "end_time": "2024-12-11T18:56:19.913512",
     "exception": false,
     "start_time": "2024-12-11T18:56:16.985798",
     "status": "completed"
    },
    "tags": []
   },
   "outputs": [],
   "source": [
    "import pandas as pd\n",
    "import numpy as np\n",
    "from sklearn.model_selection import train_test_split\n",
    "from sklearn.linear_model import Lasso, ElasticNet\n",
    "from sklearn.metrics import mean_squared_error, r2_score, make_scorer\n",
    "from sklearn.model_selection import cross_val_score, TimeSeriesSplit, ParameterGrid\n",
    "from sklearn.linear_model import LassoCV\n",
    "import matplotlib.pyplot as plt\n",
    "import os\n",
    "import glob\n",
    "from tqdm import tqdm\n",
    "import warnings\n",
    "from sklearn.ensemble import RandomForestRegressor\n",
    "from sklearn.exceptions import ConvergenceWarning\n",
    "warnings.filterwarnings(\"ignore\")\n",
    "warnings.filterwarnings(\"always\", category=ConvergenceWarning)\n",
    "import seaborn as sns\n",
    "from sklearn.pipeline import Pipeline\n",
    "from mpl_toolkits.mplot3d import Axes3D\n",
    "from sklearn.linear_model import LinearRegression\n",
    "from sklearn.preprocessing import PolynomialFeatures\n",
    "import xgboost as xgb\n",
    "from sklearn.feature_selection import SelectFromModel,mutual_info_regression"
   ]
  },
  {
   "cell_type": "markdown",
   "id": "c530d1ad",
   "metadata": {
    "papermill": {
     "duration": 0.007824,
     "end_time": "2024-12-11T18:56:19.929752",
     "exception": false,
     "start_time": "2024-12-11T18:56:19.921928",
     "status": "completed"
    },
    "tags": []
   },
   "source": [
    "## Tracking Error\n",
    "Tracking error is the metric most commonly used to judge how well a replicating portfolio tracks the benchmark index, for full replication we would expect this to be close to 0 (slightly higher than 0 due to transaction costs or rebalancing delays).\n",
    "\n",
    "The tracking error is defined as the standard deviation of the differences between the index and replicating portfolio over a specified time period.\n",
    "\n",
    "$$\n",
    "\\text{Tracking Error} = \\sqrt{\\frac{\\sum_{t=1}^T \\left( R_{portfolio}(t) - R_{index}(t) \\right)^2}{T}}\n",
    "$$\n",
    "\n",
    "Where: \n",
    "*  $R_{portfolio}(t)$ is the portfolio return at time $t$,  \n",
    "*  $R_{index}(t)$ is the index's return at time $t$,  \n",
    "*  $T$  is the total number of time periods.\n",
    "\n",
    "We base ourselves on this metric, and add a small adjustment, where from the first return of the portfolio, the trading cost is subtracted, this is a simulated trading cost, which we will simply set to 0.2%."
   ]
  },
  {
   "cell_type": "code",
   "execution_count": 2,
   "id": "1d5d5d0c",
   "metadata": {
    "execution": {
     "iopub.execute_input": "2024-12-11T18:56:19.947474Z",
     "iopub.status.busy": "2024-12-11T18:56:19.946967Z",
     "iopub.status.idle": "2024-12-11T18:56:19.952405Z",
     "shell.execute_reply": "2024-12-11T18:56:19.951435Z"
    },
    "papermill": {
     "duration": 0.016775,
     "end_time": "2024-12-11T18:56:19.954453",
     "exception": false,
     "start_time": "2024-12-11T18:56:19.937678",
     "status": "completed"
    },
    "tags": []
   },
   "outputs": [],
   "source": [
    "def tracking_error(y_true, y_pred):\n",
    "\n",
    "    # Convert y_true and y_pred to pandas Series for easy handling of pct_change()\n",
    "    y_true = pd.Series(y_true)\n",
    "    y_pred = pd.Series(y_pred)\n",
    "    \n",
    "    # Calculate the difference between the percentage changes\n",
    "    diff_pct_change = y_true - y_pred    \n",
    "\n",
    "    # Return the standard deviation of the differences (tracking error)\n",
    "    return np.std(diff_pct_change.dropna())  # dropna() to avoid NaN values in pct_change"
   ]
  },
  {
   "cell_type": "code",
   "execution_count": 3,
   "id": "ce0b2d91",
   "metadata": {
    "execution": {
     "iopub.execute_input": "2024-12-11T18:56:19.971766Z",
     "iopub.status.busy": "2024-12-11T18:56:19.971325Z",
     "iopub.status.idle": "2024-12-11T18:56:19.976257Z",
     "shell.execute_reply": "2024-12-11T18:56:19.975402Z"
    },
    "papermill": {
     "duration": 0.015556,
     "end_time": "2024-12-11T18:56:19.978068",
     "exception": false,
     "start_time": "2024-12-11T18:56:19.962512",
     "status": "completed"
    },
    "tags": []
   },
   "outputs": [],
   "source": [
    "def adj_tracking_error(y_true, X_test, model):\n",
    "    cost = 0.002  # 0.1% cost\n",
    "    X_test_adjusted = X_test.copy()\n",
    "    X_test_adjusted[0, :] -= cost  # Subtract cost from the first return of each stock\n",
    "\n",
    "    # Predict with adjustment\n",
    "    y_pred_adjusted = model.predict(X_test_adjusted)\n",
    "    return tracking_error(y_true, y_pred_adjusted)"
   ]
  },
  {
   "cell_type": "markdown",
   "id": "5ce78f21",
   "metadata": {
    "papermill": {
     "duration": 0.007372,
     "end_time": "2024-12-11T18:56:19.993045",
     "exception": false,
     "start_time": "2024-12-11T18:56:19.985673",
     "status": "completed"
    },
    "tags": []
   },
   "source": [
    "# Data\n",
    "The data for this project will be taken from 2 Kaggle datasets:\n",
    "\n",
    "* [Nifty 100 Constituents](https://www.kaggle.com/datasets/debashis74017/stock-market-data-nifty-50-stocks-1-min-data): This data set will be used to gather price data for all constituents for the NIFTY 100 index. The dataset contains a file per stock, which contains OHLC (Open, High, Low, Close) as well as Volume data.\n",
    "* [Nifty 100 Index Data](https://www.kaggle.com/datasets/debashis74017/nifty-50-minute-data): This data set will be used to get the price data for the NIFTY 100 index price.\n",
    "\n",
    "In order to speed up the execution, an intermediate dataset is created where we keep only closing prices for all stocks, in one single file. This dataset is [Nifty 100 Closing Only Data](https://www.kaggle.com/datasets/danielbrito99/nifty-50-closing-data). The script used to extract this intermediate data, is described in the cell below.\n",
    "\n",
    "As was mentioned before our target variable will be the **NIFTY 100 Index Price**, by training the model with a reduced number of constituents to predict the index price based on that reduced subset, we will obtain weights for each of them. During the testing phase, we will use these weights to evaluate the model's performance and verify how well the selected subset mimics the index price. "
   ]
  },
  {
   "cell_type": "markdown",
   "id": "150e7a02",
   "metadata": {
    "execution": {
     "iopub.execute_input": "2024-12-09T13:33:03.408909Z",
     "iopub.status.busy": "2024-12-09T13:33:03.408616Z",
     "iopub.status.idle": "2024-12-09T13:33:03.420882Z",
     "shell.execute_reply": "2024-12-09T13:33:03.419748Z",
     "shell.execute_reply.started": "2024-12-09T13:33:03.408879Z"
    },
    "papermill": {
     "duration": 0.007083,
     "end_time": "2024-12-11T18:56:20.007652",
     "exception": false,
     "start_time": "2024-12-11T18:56:20.000569",
     "status": "completed"
    },
    "tags": []
   },
   "source": [
    "directory_path = '/kaggle/input/stock-market-data-nifty-50-stocks-1-min-data'\n",
    "pattern = os.path.join(directory_path, \"*.csv\")  # Change \"*.csv\" to match other patterns if needed\n",
    "Get the list of files that match the pattern\n",
    "file_list = glob.glob(pattern)\n",
    "\n",
    "def fetch_data(cols, file_list):\n",
    "    df_list = []\n",
    "    for file in tqdm(file_list):\n",
    "        stock_name = os.path.basename(file).split(\"_\")[0]\n",
    "        file_df = pd.read_csv(file, index_col=0)\n",
    "        file_df = file_df[[cols]]\n",
    "        file_df.columns = pd.MultiIndex.from_product([[stock_name], file_df.columns])\n",
    "        df_list.append(file_df)\n",
    "    return pd.concat(df_list, axis=1)\n",
    "\n",
    "df = fetch_data('close')\n",
    "df.to_csv('/kaggle/input/nifty_50_closing.csv')"
   ]
  },
  {
   "cell_type": "code",
   "execution_count": 4,
   "id": "b3272973",
   "metadata": {
    "execution": {
     "iopub.execute_input": "2024-12-11T18:56:20.024308Z",
     "iopub.status.busy": "2024-12-11T18:56:20.023922Z",
     "iopub.status.idle": "2024-12-11T18:56:40.526638Z",
     "shell.execute_reply": "2024-12-11T18:56:40.525468Z"
    },
    "papermill": {
     "duration": 20.514234,
     "end_time": "2024-12-11T18:56:40.529264",
     "exception": false,
     "start_time": "2024-12-11T18:56:20.015030",
     "status": "completed"
    },
    "tags": []
   },
   "outputs": [
    {
     "name": "stdout",
     "output_type": "stream",
     "text": [
      "Number of rows with NaN values: 639555\n"
     ]
    }
   ],
   "source": [
    "df = pd.read_csv('/kaggle/input/nifty-50-closing-data/nifty_50_closing.csv', index_col=0, header=[0, 1])\n",
    "df = df.xs('close', level=1, axis=1)\n",
    "df.index = pd.to_datetime(df.index)\n",
    "nan_rows = df.isna().any(axis=1)\n",
    "\n",
    "# Get the number of rows with NaN value\n",
    "num_nan_rows = nan_rows.sum()\n",
    "\n",
    "\n",
    "print(f\"Number of rows with NaN values: {num_nan_rows}\")\n",
    "\n",
    "nifty_100_closing = pd.read_csv('/kaggle/input/nifty-50-minute-data/NIFTY 100_minute.csv', index_col=0)[['close']]\n",
    "nifty_100_closing.index = pd.to_datetime(nifty_100_closing.index)\n",
    "nifty_100_closing.rename(columns={'close': 'NIFTY_100'}, inplace=True)"
   ]
  },
  {
   "cell_type": "markdown",
   "id": "d91bc1ca",
   "metadata": {
    "papermill": {
     "duration": 0.007526,
     "end_time": "2024-12-11T18:56:40.545053",
     "exception": false,
     "start_time": "2024-12-11T18:56:40.537527",
     "status": "completed"
    },
    "tags": []
   },
   "source": [
    "## Data Cleaning\n",
    "Our data cleaning will be simple, we will focus on remediating the high number of NaN's present in the dataset.\n",
    "Most importantly, we will focus on sequences of NaN values, which are problematic for our problem, as conventional techniques such as forward fill or interpolation become less effective the longer the period of missing data. Conversely, sparse or isolated NaNs are less of an issue, as they can be effectively substituted using these techniques with minimal loss of information. \n",
    "\n",
    "\n",
    "With this in mind, we perform the following steps:\n",
    "\n",
    "* Remove NIFTY 50 and NIFTY BANK stocks, as they represent indices, not stocks.\n",
    "* To get rid of periods where a large number of stocks all are missing data, we remove the rows with higher than 25 NaNs.\n",
    "* Inspecting the longest NaN period for each column, we will get rid of those columns where the value is large:\n",
    "    * HDFCAMC\n",
    "    * ICICIPRULI\n",
    "    * HDFCLIFE\n",
    "    * GLAND\n",
    "    * ADANIGREEN\n",
    "    * DMART\n",
    "    * ICICIGI\n",
    "    * BANDHANBNK\n",
    "    * INDIGO\n",
    "    * SBILIFE\n",
    "    * LICI\n",
    "    * SBICARD\n",
    "    * LTI\n",
    "*  At this point the number of NaN rows and consecutive NaNs is much lower, so we can use forward fill to populate them with the last know values."
   ]
  },
  {
   "cell_type": "code",
   "execution_count": 5,
   "id": "868cdc29",
   "metadata": {
    "execution": {
     "iopub.execute_input": "2024-12-11T18:56:40.561948Z",
     "iopub.status.busy": "2024-12-11T18:56:40.561599Z",
     "iopub.status.idle": "2024-12-11T18:56:40.566909Z",
     "shell.execute_reply": "2024-12-11T18:56:40.566041Z"
    },
    "papermill": {
     "duration": 0.016192,
     "end_time": "2024-12-11T18:56:40.568943",
     "exception": false,
     "start_time": "2024-12-11T18:56:40.552751",
     "status": "completed"
    },
    "tags": []
   },
   "outputs": [],
   "source": [
    "def longest_nan_period(series):\n",
    "    max_nan_period = 0\n",
    "    current_nan_period = 0\n",
    "    for value in series:\n",
    "        if pd.isna(value):\n",
    "            current_nan_period += 1\n",
    "            max_nan_period = max(max_nan_period, current_nan_period)\n",
    "        else:\n",
    "            current_nan_period = 0\n",
    "    return max_nan_period"
   ]
  },
  {
   "cell_type": "code",
   "execution_count": 6,
   "id": "0baaa18d",
   "metadata": {
    "execution": {
     "iopub.execute_input": "2024-12-11T18:56:40.586055Z",
     "iopub.status.busy": "2024-12-11T18:56:40.585675Z",
     "iopub.status.idle": "2024-12-11T18:56:40.669430Z",
     "shell.execute_reply": "2024-12-11T18:56:40.668444Z"
    },
    "papermill": {
     "duration": 0.094578,
     "end_time": "2024-12-11T18:56:40.671475",
     "exception": false,
     "start_time": "2024-12-11T18:56:40.576897",
     "status": "completed"
    },
    "tags": []
   },
   "outputs": [
    {
     "data": {
      "text/html": [
       "<div>\n",
       "<style scoped>\n",
       "    .dataframe tbody tr th:only-of-type {\n",
       "        vertical-align: middle;\n",
       "    }\n",
       "\n",
       "    .dataframe tbody tr th {\n",
       "        vertical-align: top;\n",
       "    }\n",
       "\n",
       "    .dataframe thead th {\n",
       "        text-align: right;\n",
       "    }\n",
       "</style>\n",
       "<table border=\"1\" class=\"dataframe\">\n",
       "  <thead>\n",
       "    <tr style=\"text-align: right;\">\n",
       "      <th></th>\n",
       "      <th>HDFCAMC</th>\n",
       "      <th>APOLLOHOSP</th>\n",
       "      <th>BOSCHLTD</th>\n",
       "      <th>INDUSTOWER</th>\n",
       "      <th>BERGEPAINT</th>\n",
       "      <th>MARICO</th>\n",
       "      <th>ICICIPRULI</th>\n",
       "      <th>HDFCLIFE</th>\n",
       "      <th>SBIN</th>\n",
       "      <th>SUNPHARMA</th>\n",
       "      <th>...</th>\n",
       "      <th>SBICARD</th>\n",
       "      <th>DABUR</th>\n",
       "      <th>SAIL</th>\n",
       "      <th>BRITANNIA</th>\n",
       "      <th>ADANIPORTS</th>\n",
       "      <th>ONGC</th>\n",
       "      <th>EICHERMOT</th>\n",
       "      <th>TECHM</th>\n",
       "      <th>JINDALSTEL</th>\n",
       "      <th>HEROMOTOCO</th>\n",
       "    </tr>\n",
       "    <tr>\n",
       "      <th>date</th>\n",
       "      <th></th>\n",
       "      <th></th>\n",
       "      <th></th>\n",
       "      <th></th>\n",
       "      <th></th>\n",
       "      <th></th>\n",
       "      <th></th>\n",
       "      <th></th>\n",
       "      <th></th>\n",
       "      <th></th>\n",
       "      <th></th>\n",
       "      <th></th>\n",
       "      <th></th>\n",
       "      <th></th>\n",
       "      <th></th>\n",
       "      <th></th>\n",
       "      <th></th>\n",
       "      <th></th>\n",
       "      <th></th>\n",
       "      <th></th>\n",
       "      <th></th>\n",
       "    </tr>\n",
       "  </thead>\n",
       "  <tbody>\n",
       "    <tr>\n",
       "      <th>2018-08-06 10:47:00+05:30</th>\n",
       "      <td>1803.95</td>\n",
       "      <td>974.30</td>\n",
       "      <td>19187.45</td>\n",
       "      <td>290.0</td>\n",
       "      <td>316.85</td>\n",
       "      <td>357.95</td>\n",
       "      <td>408.50</td>\n",
       "      <td>485.00</td>\n",
       "      <td>306.70</td>\n",
       "      <td>579.65</td>\n",
       "      <td>...</td>\n",
       "      <td>NaN</td>\n",
       "      <td>435.30</td>\n",
       "      <td>79.35</td>\n",
       "      <td>3194.92</td>\n",
       "      <td>400.70</td>\n",
       "      <td>167.75</td>\n",
       "      <td>2711.30</td>\n",
       "      <td>670.45</td>\n",
       "      <td>207.65</td>\n",
       "      <td>3259.00</td>\n",
       "    </tr>\n",
       "    <tr>\n",
       "      <th>2018-08-06 10:48:00+05:30</th>\n",
       "      <td>1803.90</td>\n",
       "      <td>973.70</td>\n",
       "      <td>19187.45</td>\n",
       "      <td>290.0</td>\n",
       "      <td>316.50</td>\n",
       "      <td>357.55</td>\n",
       "      <td>408.10</td>\n",
       "      <td>484.95</td>\n",
       "      <td>306.70</td>\n",
       "      <td>579.30</td>\n",
       "      <td>...</td>\n",
       "      <td>NaN</td>\n",
       "      <td>435.15</td>\n",
       "      <td>79.30</td>\n",
       "      <td>3193.02</td>\n",
       "      <td>400.55</td>\n",
       "      <td>167.55</td>\n",
       "      <td>2710.60</td>\n",
       "      <td>670.55</td>\n",
       "      <td>207.80</td>\n",
       "      <td>3260.60</td>\n",
       "    </tr>\n",
       "    <tr>\n",
       "      <th>2018-08-06 10:49:00+05:30</th>\n",
       "      <td>1806.00</td>\n",
       "      <td>973.70</td>\n",
       "      <td>19187.45</td>\n",
       "      <td>290.0</td>\n",
       "      <td>316.85</td>\n",
       "      <td>357.20</td>\n",
       "      <td>408.85</td>\n",
       "      <td>485.00</td>\n",
       "      <td>306.75</td>\n",
       "      <td>579.45</td>\n",
       "      <td>...</td>\n",
       "      <td>NaN</td>\n",
       "      <td>435.70</td>\n",
       "      <td>79.30</td>\n",
       "      <td>3192.50</td>\n",
       "      <td>400.30</td>\n",
       "      <td>167.55</td>\n",
       "      <td>2709.80</td>\n",
       "      <td>670.65</td>\n",
       "      <td>207.55</td>\n",
       "      <td>3259.50</td>\n",
       "    </tr>\n",
       "    <tr>\n",
       "      <th>2018-08-06 10:50:00+05:30</th>\n",
       "      <td>1806.35</td>\n",
       "      <td>974.00</td>\n",
       "      <td>19174.90</td>\n",
       "      <td>290.0</td>\n",
       "      <td>316.80</td>\n",
       "      <td>357.65</td>\n",
       "      <td>408.90</td>\n",
       "      <td>484.10</td>\n",
       "      <td>306.75</td>\n",
       "      <td>578.10</td>\n",
       "      <td>...</td>\n",
       "      <td>NaN</td>\n",
       "      <td>435.65</td>\n",
       "      <td>79.30</td>\n",
       "      <td>3192.67</td>\n",
       "      <td>399.80</td>\n",
       "      <td>167.50</td>\n",
       "      <td>2708.05</td>\n",
       "      <td>670.90</td>\n",
       "      <td>207.90</td>\n",
       "      <td>3258.50</td>\n",
       "    </tr>\n",
       "    <tr>\n",
       "      <th>2018-08-06 10:51:00+05:30</th>\n",
       "      <td>1809.00</td>\n",
       "      <td>975.15</td>\n",
       "      <td>19190.00</td>\n",
       "      <td>290.0</td>\n",
       "      <td>316.80</td>\n",
       "      <td>357.75</td>\n",
       "      <td>408.85</td>\n",
       "      <td>484.20</td>\n",
       "      <td>306.85</td>\n",
       "      <td>578.50</td>\n",
       "      <td>...</td>\n",
       "      <td>NaN</td>\n",
       "      <td>436.00</td>\n",
       "      <td>79.30</td>\n",
       "      <td>3194.02</td>\n",
       "      <td>400.30</td>\n",
       "      <td>167.40</td>\n",
       "      <td>2709.95</td>\n",
       "      <td>671.20</td>\n",
       "      <td>207.80</td>\n",
       "      <td>3258.00</td>\n",
       "    </tr>\n",
       "    <tr>\n",
       "      <th>...</th>\n",
       "      <td>...</td>\n",
       "      <td>...</td>\n",
       "      <td>...</td>\n",
       "      <td>...</td>\n",
       "      <td>...</td>\n",
       "      <td>...</td>\n",
       "      <td>...</td>\n",
       "      <td>...</td>\n",
       "      <td>...</td>\n",
       "      <td>...</td>\n",
       "      <td>...</td>\n",
       "      <td>...</td>\n",
       "      <td>...</td>\n",
       "      <td>...</td>\n",
       "      <td>...</td>\n",
       "      <td>...</td>\n",
       "      <td>...</td>\n",
       "      <td>...</td>\n",
       "      <td>...</td>\n",
       "      <td>...</td>\n",
       "      <td>...</td>\n",
       "    </tr>\n",
       "    <tr>\n",
       "      <th>2022-10-25 12:27:00+05:30</th>\n",
       "      <td>NaN</td>\n",
       "      <td>NaN</td>\n",
       "      <td>NaN</td>\n",
       "      <td>NaN</td>\n",
       "      <td>NaN</td>\n",
       "      <td>NaN</td>\n",
       "      <td>NaN</td>\n",
       "      <td>NaN</td>\n",
       "      <td>NaN</td>\n",
       "      <td>NaN</td>\n",
       "      <td>...</td>\n",
       "      <td>NaN</td>\n",
       "      <td>NaN</td>\n",
       "      <td>NaN</td>\n",
       "      <td>NaN</td>\n",
       "      <td>NaN</td>\n",
       "      <td>NaN</td>\n",
       "      <td>NaN</td>\n",
       "      <td>NaN</td>\n",
       "      <td>NaN</td>\n",
       "      <td>2589.95</td>\n",
       "    </tr>\n",
       "    <tr>\n",
       "      <th>2022-10-25 12:28:00+05:30</th>\n",
       "      <td>NaN</td>\n",
       "      <td>NaN</td>\n",
       "      <td>NaN</td>\n",
       "      <td>NaN</td>\n",
       "      <td>NaN</td>\n",
       "      <td>NaN</td>\n",
       "      <td>NaN</td>\n",
       "      <td>NaN</td>\n",
       "      <td>NaN</td>\n",
       "      <td>NaN</td>\n",
       "      <td>...</td>\n",
       "      <td>NaN</td>\n",
       "      <td>NaN</td>\n",
       "      <td>NaN</td>\n",
       "      <td>NaN</td>\n",
       "      <td>NaN</td>\n",
       "      <td>NaN</td>\n",
       "      <td>NaN</td>\n",
       "      <td>NaN</td>\n",
       "      <td>NaN</td>\n",
       "      <td>2589.30</td>\n",
       "    </tr>\n",
       "    <tr>\n",
       "      <th>2022-10-25 12:29:00+05:30</th>\n",
       "      <td>NaN</td>\n",
       "      <td>NaN</td>\n",
       "      <td>NaN</td>\n",
       "      <td>NaN</td>\n",
       "      <td>NaN</td>\n",
       "      <td>NaN</td>\n",
       "      <td>NaN</td>\n",
       "      <td>NaN</td>\n",
       "      <td>NaN</td>\n",
       "      <td>NaN</td>\n",
       "      <td>...</td>\n",
       "      <td>NaN</td>\n",
       "      <td>NaN</td>\n",
       "      <td>NaN</td>\n",
       "      <td>NaN</td>\n",
       "      <td>NaN</td>\n",
       "      <td>NaN</td>\n",
       "      <td>NaN</td>\n",
       "      <td>NaN</td>\n",
       "      <td>NaN</td>\n",
       "      <td>2590.20</td>\n",
       "    </tr>\n",
       "    <tr>\n",
       "      <th>2022-10-25 12:30:00+05:30</th>\n",
       "      <td>NaN</td>\n",
       "      <td>NaN</td>\n",
       "      <td>NaN</td>\n",
       "      <td>NaN</td>\n",
       "      <td>NaN</td>\n",
       "      <td>NaN</td>\n",
       "      <td>NaN</td>\n",
       "      <td>NaN</td>\n",
       "      <td>NaN</td>\n",
       "      <td>NaN</td>\n",
       "      <td>...</td>\n",
       "      <td>NaN</td>\n",
       "      <td>NaN</td>\n",
       "      <td>NaN</td>\n",
       "      <td>NaN</td>\n",
       "      <td>NaN</td>\n",
       "      <td>NaN</td>\n",
       "      <td>NaN</td>\n",
       "      <td>NaN</td>\n",
       "      <td>NaN</td>\n",
       "      <td>2591.00</td>\n",
       "    </tr>\n",
       "    <tr>\n",
       "      <th>2022-10-25 12:31:00+05:30</th>\n",
       "      <td>NaN</td>\n",
       "      <td>NaN</td>\n",
       "      <td>NaN</td>\n",
       "      <td>NaN</td>\n",
       "      <td>NaN</td>\n",
       "      <td>NaN</td>\n",
       "      <td>NaN</td>\n",
       "      <td>NaN</td>\n",
       "      <td>NaN</td>\n",
       "      <td>NaN</td>\n",
       "      <td>...</td>\n",
       "      <td>NaN</td>\n",
       "      <td>NaN</td>\n",
       "      <td>NaN</td>\n",
       "      <td>NaN</td>\n",
       "      <td>NaN</td>\n",
       "      <td>NaN</td>\n",
       "      <td>NaN</td>\n",
       "      <td>NaN</td>\n",
       "      <td>NaN</td>\n",
       "      <td>2591.00</td>\n",
       "    </tr>\n",
       "  </tbody>\n",
       "</table>\n",
       "<p>677188 rows × 101 columns</p>\n",
       "</div>"
      ],
      "text/plain": [
       "                           HDFCAMC  APOLLOHOSP  BOSCHLTD  INDUSTOWER  \\\n",
       "date                                                                   \n",
       "2018-08-06 10:47:00+05:30  1803.95      974.30  19187.45       290.0   \n",
       "2018-08-06 10:48:00+05:30  1803.90      973.70  19187.45       290.0   \n",
       "2018-08-06 10:49:00+05:30  1806.00      973.70  19187.45       290.0   \n",
       "2018-08-06 10:50:00+05:30  1806.35      974.00  19174.90       290.0   \n",
       "2018-08-06 10:51:00+05:30  1809.00      975.15  19190.00       290.0   \n",
       "...                            ...         ...       ...         ...   \n",
       "2022-10-25 12:27:00+05:30      NaN         NaN       NaN         NaN   \n",
       "2022-10-25 12:28:00+05:30      NaN         NaN       NaN         NaN   \n",
       "2022-10-25 12:29:00+05:30      NaN         NaN       NaN         NaN   \n",
       "2022-10-25 12:30:00+05:30      NaN         NaN       NaN         NaN   \n",
       "2022-10-25 12:31:00+05:30      NaN         NaN       NaN         NaN   \n",
       "\n",
       "                           BERGEPAINT  MARICO  ICICIPRULI  HDFCLIFE    SBIN  \\\n",
       "date                                                                          \n",
       "2018-08-06 10:47:00+05:30      316.85  357.95      408.50    485.00  306.70   \n",
       "2018-08-06 10:48:00+05:30      316.50  357.55      408.10    484.95  306.70   \n",
       "2018-08-06 10:49:00+05:30      316.85  357.20      408.85    485.00  306.75   \n",
       "2018-08-06 10:50:00+05:30      316.80  357.65      408.90    484.10  306.75   \n",
       "2018-08-06 10:51:00+05:30      316.80  357.75      408.85    484.20  306.85   \n",
       "...                               ...     ...         ...       ...     ...   \n",
       "2022-10-25 12:27:00+05:30         NaN     NaN         NaN       NaN     NaN   \n",
       "2022-10-25 12:28:00+05:30         NaN     NaN         NaN       NaN     NaN   \n",
       "2022-10-25 12:29:00+05:30         NaN     NaN         NaN       NaN     NaN   \n",
       "2022-10-25 12:30:00+05:30         NaN     NaN         NaN       NaN     NaN   \n",
       "2022-10-25 12:31:00+05:30         NaN     NaN         NaN       NaN     NaN   \n",
       "\n",
       "                           SUNPHARMA  ...  SBICARD   DABUR   SAIL  BRITANNIA  \\\n",
       "date                                  ...                                      \n",
       "2018-08-06 10:47:00+05:30     579.65  ...      NaN  435.30  79.35    3194.92   \n",
       "2018-08-06 10:48:00+05:30     579.30  ...      NaN  435.15  79.30    3193.02   \n",
       "2018-08-06 10:49:00+05:30     579.45  ...      NaN  435.70  79.30    3192.50   \n",
       "2018-08-06 10:50:00+05:30     578.10  ...      NaN  435.65  79.30    3192.67   \n",
       "2018-08-06 10:51:00+05:30     578.50  ...      NaN  436.00  79.30    3194.02   \n",
       "...                              ...  ...      ...     ...    ...        ...   \n",
       "2022-10-25 12:27:00+05:30        NaN  ...      NaN     NaN    NaN        NaN   \n",
       "2022-10-25 12:28:00+05:30        NaN  ...      NaN     NaN    NaN        NaN   \n",
       "2022-10-25 12:29:00+05:30        NaN  ...      NaN     NaN    NaN        NaN   \n",
       "2022-10-25 12:30:00+05:30        NaN  ...      NaN     NaN    NaN        NaN   \n",
       "2022-10-25 12:31:00+05:30        NaN  ...      NaN     NaN    NaN        NaN   \n",
       "\n",
       "                           ADANIPORTS    ONGC  EICHERMOT   TECHM  JINDALSTEL  \\\n",
       "date                                                                           \n",
       "2018-08-06 10:47:00+05:30      400.70  167.75    2711.30  670.45      207.65   \n",
       "2018-08-06 10:48:00+05:30      400.55  167.55    2710.60  670.55      207.80   \n",
       "2018-08-06 10:49:00+05:30      400.30  167.55    2709.80  670.65      207.55   \n",
       "2018-08-06 10:50:00+05:30      399.80  167.50    2708.05  670.90      207.90   \n",
       "2018-08-06 10:51:00+05:30      400.30  167.40    2709.95  671.20      207.80   \n",
       "...                               ...     ...        ...     ...         ...   \n",
       "2022-10-25 12:27:00+05:30         NaN     NaN        NaN     NaN         NaN   \n",
       "2022-10-25 12:28:00+05:30         NaN     NaN        NaN     NaN         NaN   \n",
       "2022-10-25 12:29:00+05:30         NaN     NaN        NaN     NaN         NaN   \n",
       "2022-10-25 12:30:00+05:30         NaN     NaN        NaN     NaN         NaN   \n",
       "2022-10-25 12:31:00+05:30         NaN     NaN        NaN     NaN         NaN   \n",
       "\n",
       "                           HEROMOTOCO  \n",
       "date                                   \n",
       "2018-08-06 10:47:00+05:30     3259.00  \n",
       "2018-08-06 10:48:00+05:30     3260.60  \n",
       "2018-08-06 10:49:00+05:30     3259.50  \n",
       "2018-08-06 10:50:00+05:30     3258.50  \n",
       "2018-08-06 10:51:00+05:30     3258.00  \n",
       "...                               ...  \n",
       "2022-10-25 12:27:00+05:30     2589.95  \n",
       "2022-10-25 12:28:00+05:30     2589.30  \n",
       "2022-10-25 12:29:00+05:30     2590.20  \n",
       "2022-10-25 12:30:00+05:30     2591.00  \n",
       "2022-10-25 12:31:00+05:30     2591.00  \n",
       "\n",
       "[677188 rows x 101 columns]"
      ]
     },
     "execution_count": 6,
     "metadata": {},
     "output_type": "execute_result"
    }
   ],
   "source": [
    "df"
   ]
  },
  {
   "cell_type": "code",
   "execution_count": 7,
   "id": "97188404",
   "metadata": {
    "execution": {
     "iopub.execute_input": "2024-12-11T18:56:40.689964Z",
     "iopub.status.busy": "2024-12-11T18:56:40.689600Z",
     "iopub.status.idle": "2024-12-11T18:56:40.855113Z",
     "shell.execute_reply": "2024-12-11T18:56:40.854233Z"
    },
    "papermill": {
     "duration": 0.177072,
     "end_time": "2024-12-11T18:56:40.857335",
     "exception": false,
     "start_time": "2024-12-11T18:56:40.680263",
     "status": "completed"
    },
    "tags": []
   },
   "outputs": [],
   "source": [
    "df.drop(columns=['NIFTY 50', 'NIFTY BANK'], inplace=True)"
   ]
  },
  {
   "cell_type": "code",
   "execution_count": 8,
   "id": "23cbadd9",
   "metadata": {
    "execution": {
     "iopub.execute_input": "2024-12-11T18:56:40.875808Z",
     "iopub.status.busy": "2024-12-11T18:56:40.875446Z",
     "iopub.status.idle": "2024-12-11T18:56:41.263618Z",
     "shell.execute_reply": "2024-12-11T18:56:41.262526Z"
    },
    "papermill": {
     "duration": 0.399868,
     "end_time": "2024-12-11T18:56:41.266007",
     "exception": false,
     "start_time": "2024-12-11T18:56:40.866139",
     "status": "completed"
    },
    "tags": []
   },
   "outputs": [],
   "source": [
    "# Removing rows with more than 25 stocks without data\n",
    "nan_counts = df.isna().sum(axis=1)\n",
    "df = df[nan_counts <= 25]"
   ]
  },
  {
   "cell_type": "code",
   "execution_count": 9,
   "id": "b0e46729",
   "metadata": {
    "execution": {
     "iopub.execute_input": "2024-12-11T18:56:41.284999Z",
     "iopub.status.busy": "2024-12-11T18:56:41.284013Z",
     "iopub.status.idle": "2024-12-11T18:57:08.326471Z",
     "shell.execute_reply": "2024-12-11T18:57:08.325424Z"
    },
    "papermill": {
     "duration": 27.054371,
     "end_time": "2024-12-11T18:57:08.328963",
     "exception": false,
     "start_time": "2024-12-11T18:56:41.274592",
     "status": "completed"
    },
    "tags": []
   },
   "outputs": [
    {
     "name": "stdout",
     "output_type": "stream",
     "text": [
      "Longest period of NaN values in column HDFCAMC: 305198 periods\n",
      "Longest period of NaN values in column APOLLOHOSP: 1 periods\n",
      "Longest period of NaN values in column BOSCHLTD: 3 periods\n",
      "Longest period of NaN values in column INDUSTOWER: 1 periods\n",
      "Longest period of NaN values in column BERGEPAINT: 1 periods\n",
      "Longest period of NaN values in column MARICO: 0 periods\n",
      "Longest period of NaN values in column ICICIPRULI: 144000 periods\n",
      "Longest period of NaN values in column HDFCLIFE: 242175 periods\n",
      "Longest period of NaN values in column SBIN: 0 periods\n",
      "Longest period of NaN values in column SUNPHARMA: 0 periods\n",
      "Longest period of NaN values in column COALINDIA: 0 periods\n",
      "Longest period of NaN values in column WIPRO: 1 periods\n",
      "Longest period of NaN values in column BAJAJ-AUTO: 1 periods\n",
      "Longest period of NaN values in column GODREJCP: 1 periods\n",
      "Longest period of NaN values in column UPL: 0 periods\n",
      "Longest period of NaN values in column SIEMENS: 0 periods\n",
      "Longest period of NaN values in column BPCL: 0 periods\n",
      "Longest period of NaN values in column TATAMOTORS: 0 periods\n",
      "Longest period of NaN values in column BANKBARODA: 0 periods\n",
      "Longest period of NaN values in column GAIL: 0 periods\n",
      "Longest period of NaN values in column HDFCBANK: 0 periods\n",
      "Longest period of NaN values in column BHARTIARTL: 1 periods\n",
      "Longest period of NaN values in column NMDC: 1 periods\n",
      "Longest period of NaN values in column INDUSINDBK: 1 periods\n",
      "Longest period of NaN values in column NTPC: 0 periods\n",
      "Longest period of NaN values in column JSWSTEEL: 375 periods\n",
      "Longest period of NaN values in column HCLTECH: 0 periods\n",
      "Longest period of NaN values in column AMBUJACEM: 375 periods\n",
      "Longest period of NaN values in column YESBANK: 7 periods\n",
      "Longest period of NaN values in column PNB: 0 periods\n",
      "Longest period of NaN values in column NESTLEIND: 2 periods\n",
      "Longest period of NaN values in column TORNTPHARM: 2 periods\n",
      "Longest period of NaN values in column NAUKRI: 11 periods\n",
      "Longest period of NaN values in column ULTRACEMCO: 0 periods\n",
      "Longest period of NaN values in column PIDILITIND: 1 periods\n",
      "Longest period of NaN values in column BAJAJHLDNG: 9 periods\n",
      "Longest period of NaN values in column HINDALCO: 0 periods\n",
      "Longest period of NaN values in column IOC: 375 periods\n",
      "Longest period of NaN values in column ADANIENT: 375 periods\n",
      "Longest period of NaN values in column MUTHOOTFIN: 6 periods\n",
      "Longest period of NaN values in column TATACONSUM: 1 periods\n",
      "Longest period of NaN values in column ICICIBANK: 1 periods\n",
      "Longest period of NaN values in column POWERGRID: 0 periods\n",
      "Longest period of NaN values in column SHREECEM: 5 periods\n",
      "Longest period of NaN values in column HAVELLS: 0 periods\n",
      "Longest period of NaN values in column GLAND: 305198 periods\n",
      "Longest period of NaN values in column DRREDDY: 0 periods\n",
      "Longest period of NaN values in column MCDOWELL-N: 1 periods\n",
      "Longest period of NaN values in column ITC: 375 periods\n",
      "Longest period of NaN values in column LUPIN: 1 periods\n",
      "Longest period of NaN values in column IGL: 375 periods\n",
      "Longest period of NaN values in column COLPAL: 1 periods\n",
      "Longest period of NaN values in column VEDL: 1 periods\n",
      "Longest period of NaN values in column BAJFINANCE: 2 periods\n",
      "Longest period of NaN values in column AUROPHARMA: 1 periods\n",
      "Longest period of NaN values in column ADANIGREEN: 292800 periods\n",
      "Longest period of NaN values in column BAJAJFINSV: 2 periods\n",
      "Longest period of NaN values in column LT: 375 periods\n",
      "Longest period of NaN values in column RELIANCE: 0 periods\n",
      "Longest period of NaN values in column PIIND: 7 periods\n",
      "Longest period of NaN values in column HINDPETRO: 375 periods\n",
      "Longest period of NaN values in column CIPLA: 1 periods\n",
      "Longest period of NaN values in column INFY: 0 periods\n",
      "Longest period of NaN values in column CHOLAFIN: 18 periods\n",
      "Longest period of NaN values in column PGHH: 43 periods\n",
      "Longest period of NaN values in column TITAN: 0 periods\n",
      "Longest period of NaN values in column ACC: 375 periods\n",
      "Longest period of NaN values in column PEL: 28 periods\n",
      "Longest period of NaN values in column KOTAKBANK: 375 periods\n",
      "Longest period of NaN values in column DMART: 184560 periods\n",
      "Longest period of NaN values in column TATASTEEL: 0 periods\n",
      "Longest period of NaN values in column HINDUNILVR: 0 periods\n",
      "Longest period of NaN values in column DIVISLAB: 1 periods\n",
      "Longest period of NaN values in column TCS: 0 periods\n",
      "Longest period of NaN values in column DLF: 0 periods\n",
      "Longest period of NaN values in column ICICIGI: 230115 periods\n",
      "Longest period of NaN values in column MM: 375 periods\n",
      "Longest period of NaN values in column HDFC: 0 periods\n",
      "Longest period of NaN values in column INDIGO: 68212 periods\n",
      "Longest period of NaN values in column BANDHANBNK: 272925 periods\n",
      "Longest period of NaN values in column AXISBANK: 1 periods\n",
      "Longest period of NaN values in column LTI: 127125 periods\n",
      "Longest period of NaN values in column GRASIM: 29 periods\n",
      "Longest period of NaN values in column JUBLFOOD: 1 periods\n",
      "Longest period of NaN values in column SBILIFE: 231240 periods\n",
      "Longest period of NaN values in column MARUTI: 0 periods\n",
      "Longest period of NaN values in column ASIANPAINT: 0 periods\n",
      "Longest period of NaN values in column BIOCON: 0 periods\n",
      "Longest period of NaN values in column LICI: 327223 periods\n",
      "Longest period of NaN values in column SBICARD: 305197 periods\n",
      "Longest period of NaN values in column DABUR: 1 periods\n",
      "Longest period of NaN values in column SAIL: 1 periods\n",
      "Longest period of NaN values in column BRITANNIA: 1 periods\n",
      "Longest period of NaN values in column ADANIPORTS: 0 periods\n",
      "Longest period of NaN values in column ONGC: 0 periods\n",
      "Longest period of NaN values in column EICHERMOT: 0 periods\n",
      "Longest period of NaN values in column TECHM: 0 periods\n",
      "Longest period of NaN values in column JINDALSTEL: 0 periods\n",
      "Longest period of NaN values in column HEROMOTOCO: 1 periods\n"
     ]
    }
   ],
   "source": [
    "# Now we observe per column, the longest period with NaN values\n",
    "longest_nan_periods = {column: longest_nan_period(df[column]) for column in df.columns}\n",
    "\n",
    "# Print the longest NaN period for each column\n",
    "for column, period in longest_nan_periods.items():\n",
    "    print(f\"Longest period of NaN values in column {column}: {period} periods\")"
   ]
  },
  {
   "cell_type": "code",
   "execution_count": 10,
   "id": "0e0d3369",
   "metadata": {
    "execution": {
     "iopub.execute_input": "2024-12-11T18:57:08.348852Z",
     "iopub.status.busy": "2024-12-11T18:57:08.347960Z",
     "iopub.status.idle": "2024-12-11T18:57:08.493971Z",
     "shell.execute_reply": "2024-12-11T18:57:08.493149Z"
    },
    "papermill": {
     "duration": 0.158328,
     "end_time": "2024-12-11T18:57:08.496346",
     "exception": false,
     "start_time": "2024-12-11T18:57:08.338018",
     "status": "completed"
    },
    "tags": []
   },
   "outputs": [],
   "source": [
    "df.drop(columns=['HDFCAMC', 'ICICIPRULI', 'HDFCLIFE', 'GLAND', 'ADANIGREEN', 'LTI', 'SBICARD',\n",
    "                 'DMART','ICICIGI','BANDHANBNK','INDIGO','SBILIFE','LICI'], inplace=True)"
   ]
  },
  {
   "cell_type": "code",
   "execution_count": 11,
   "id": "83a433f6",
   "metadata": {
    "execution": {
     "iopub.execute_input": "2024-12-11T18:57:08.515673Z",
     "iopub.status.busy": "2024-12-11T18:57:08.515260Z",
     "iopub.status.idle": "2024-12-11T18:57:08.579444Z",
     "shell.execute_reply": "2024-12-11T18:57:08.578425Z"
    },
    "papermill": {
     "duration": 0.076401,
     "end_time": "2024-12-11T18:57:08.581902",
     "exception": false,
     "start_time": "2024-12-11T18:57:08.505501",
     "status": "completed"
    },
    "tags": []
   },
   "outputs": [
    {
     "name": "stdout",
     "output_type": "stream",
     "text": [
      "Number of rows with NaN values: 30836\n"
     ]
    }
   ],
   "source": [
    "# Get the number of rows with NaN values\n",
    "nan_rows = df.isna().any(axis=1)\n",
    "num_nan_rows = nan_rows.sum()\n",
    "print(f\"Number of rows with NaN values: {num_nan_rows}\")"
   ]
  },
  {
   "cell_type": "code",
   "execution_count": 12,
   "id": "76afe53e",
   "metadata": {
    "execution": {
     "iopub.execute_input": "2024-12-11T18:57:08.602340Z",
     "iopub.status.busy": "2024-12-11T18:57:08.601965Z",
     "iopub.status.idle": "2024-12-11T18:57:08.846330Z",
     "shell.execute_reply": "2024-12-11T18:57:08.845599Z"
    },
    "papermill": {
     "duration": 0.256772,
     "end_time": "2024-12-11T18:57:08.848620",
     "exception": false,
     "start_time": "2024-12-11T18:57:08.591848",
     "status": "completed"
    },
    "tags": []
   },
   "outputs": [],
   "source": [
    "\n",
    "# Drop rows that still have NaNs in place\n",
    "df.dropna(inplace=True)"
   ]
  },
  {
   "cell_type": "code",
   "execution_count": 13,
   "id": "628b5075",
   "metadata": {
    "execution": {
     "iopub.execute_input": "2024-12-11T18:57:08.866787Z",
     "iopub.status.busy": "2024-12-11T18:57:08.866089Z",
     "iopub.status.idle": "2024-12-11T18:57:09.138731Z",
     "shell.execute_reply": "2024-12-11T18:57:09.137962Z"
    },
    "papermill": {
     "duration": 0.28386,
     "end_time": "2024-12-11T18:57:09.140871",
     "exception": false,
     "start_time": "2024-12-11T18:57:08.857011",
     "status": "completed"
    },
    "tags": []
   },
   "outputs": [],
   "source": [
    "df.index = df.index.tz_localize(None)\n",
    "df_total = df.join(nifty_100_closing, how='left')"
   ]
  },
  {
   "cell_type": "code",
   "execution_count": 14,
   "id": "80a6bab4",
   "metadata": {
    "execution": {
     "iopub.execute_input": "2024-12-11T18:57:09.159265Z",
     "iopub.status.busy": "2024-12-11T18:57:09.158579Z",
     "iopub.status.idle": "2024-12-11T18:57:09.388938Z",
     "shell.execute_reply": "2024-12-11T18:57:09.388178Z"
    },
    "papermill": {
     "duration": 0.241662,
     "end_time": "2024-12-11T18:57:09.391167",
     "exception": false,
     "start_time": "2024-12-11T18:57:09.149505",
     "status": "completed"
    },
    "tags": []
   },
   "outputs": [],
   "source": [
    "df_total.dropna(inplace=True)"
   ]
  },
  {
   "cell_type": "code",
   "execution_count": 15,
   "id": "6b0455b2",
   "metadata": {
    "execution": {
     "iopub.execute_input": "2024-12-11T18:57:09.409867Z",
     "iopub.status.busy": "2024-12-11T18:57:09.409527Z",
     "iopub.status.idle": "2024-12-11T18:57:11.082363Z",
     "shell.execute_reply": "2024-12-11T18:57:11.081155Z"
    },
    "papermill": {
     "duration": 1.684522,
     "end_time": "2024-12-11T18:57:11.084648",
     "exception": false,
     "start_time": "2024-12-11T18:57:09.400126",
     "status": "completed"
    },
    "tags": []
   },
   "outputs": [
    {
     "name": "stdout",
     "output_type": "stream",
     "text": [
      "Number of rows with large changes (>100.0%): 42\n"
     ]
    }
   ],
   "source": [
    "# Calculate the percentage change\n",
    "X_pct_change = df_total.pct_change()\n",
    "\n",
    "# Define the threshold for large changes (e.g., 100% change)\n",
    "threshold = 1.0  # 1.0 corresponds to 100% when working with pct_change()\n",
    "\n",
    "# Find rows with any column having a percentage change greater than the threshold\n",
    "large_change_rows = X_pct_change[(X_pct_change.abs() > threshold).any(axis=1)]\n",
    "\n",
    "# Get the number of rows where there are large percentage changes\n",
    "num_large_changes = large_change_rows.shape[0]\n",
    "\n",
    "print(f\"Number of rows with large changes (>{threshold * 100}%): {num_large_changes}\")"
   ]
  },
  {
   "cell_type": "code",
   "execution_count": 16,
   "id": "a5e742be",
   "metadata": {
    "execution": {
     "iopub.execute_input": "2024-12-11T18:57:11.104136Z",
     "iopub.status.busy": "2024-12-11T18:57:11.103801Z",
     "iopub.status.idle": "2024-12-11T18:57:11.108629Z",
     "shell.execute_reply": "2024-12-11T18:57:11.107700Z"
    },
    "papermill": {
     "duration": 0.016075,
     "end_time": "2024-12-11T18:57:11.110406",
     "exception": false,
     "start_time": "2024-12-11T18:57:11.094331",
     "status": "completed"
    },
    "tags": []
   },
   "outputs": [
    {
     "name": "stdout",
     "output_type": "stream",
     "text": [
      "629791\n"
     ]
    }
   ],
   "source": [
    "print(len(df_total))"
   ]
  },
  {
   "cell_type": "code",
   "execution_count": 17,
   "id": "389f4c48",
   "metadata": {
    "execution": {
     "iopub.execute_input": "2024-12-11T18:57:11.128191Z",
     "iopub.status.busy": "2024-12-11T18:57:11.127932Z",
     "iopub.status.idle": "2024-12-11T18:57:11.328405Z",
     "shell.execute_reply": "2024-12-11T18:57:11.327644Z"
    },
    "papermill": {
     "duration": 0.211584,
     "end_time": "2024-12-11T18:57:11.330544",
     "exception": false,
     "start_time": "2024-12-11T18:57:11.118960",
     "status": "completed"
    },
    "tags": []
   },
   "outputs": [],
   "source": [
    "df_total.sort_index(inplace=True)"
   ]
  },
  {
   "cell_type": "markdown",
   "id": "688ea1a7",
   "metadata": {
    "papermill": {
     "duration": 0.007797,
     "end_time": "2024-12-11T18:57:11.347289",
     "exception": false,
     "start_time": "2024-12-11T18:57:11.339492",
     "status": "completed"
    },
    "tags": []
   },
   "source": [
    "# Models\n",
    "\n",
    "Firstly, let's explain the general architecture of the model, firstly, we must understand the pitfalls of using time series data, and how it affects our choice of cross validation strategy. Since the order of data must be preserved, we cannot use a conventional cross validation, and rather opt for a TimeSeriesSplit, specifically, we set the training and test sizes of the window, to get the desired sliding window result, where the training window is roughly 1 year, and the testing widnow around 3 months, this yields a total of 18 windows.\n",
    "\n",
    "Knowing this, we propose the following general architecture, for a given model and threshold:\n",
    "\n",
    "For each fold:\n",
    "\n",
    "1. Perform feature selection (ex: Lasso with high alpha, Dropping Correlated variables, Mutual Information) using the threshold.\n",
    "2. Train model on reduced feature space, with hyperparameter tuning to choose best parameters.\n",
    "3. Save the tracking error and number of features (stocks) used in training\n",
    "\n",
    "Finally, we return the following averages over the folds\n",
    "* Average number of stocks.\n",
    "* Average tracking error.\n",
    "\n",
    "We will observe how different models (LinearRegression, ElasticNet, XGBRegressor and RandomForestRegressor) produce predictions and produce a plot for the average tracking error against the average number of stocks."
   ]
  },
  {
   "cell_type": "markdown",
   "id": "28389414",
   "metadata": {
    "papermill": {
     "duration": 0.008033,
     "end_time": "2024-12-11T18:57:11.363270",
     "exception": false,
     "start_time": "2024-12-11T18:57:11.355237",
     "status": "completed"
    },
    "tags": []
   },
   "source": [
    "## Correlation - Lasso"
   ]
  },
  {
   "cell_type": "code",
   "execution_count": 18,
   "id": "74b4fb5e",
   "metadata": {
    "execution": {
     "iopub.execute_input": "2024-12-11T18:57:11.389212Z",
     "iopub.status.busy": "2024-12-11T18:57:11.388287Z",
     "iopub.status.idle": "2024-12-11T18:57:11.398458Z",
     "shell.execute_reply": "2024-12-11T18:57:11.397114Z"
    },
    "papermill": {
     "duration": 0.02298,
     "end_time": "2024-12-11T18:57:11.400939",
     "exception": false,
     "start_time": "2024-12-11T18:57:11.377959",
     "status": "completed"
    },
    "tags": []
   },
   "outputs": [],
   "source": [
    "def remove_correlated_features(X_train, threshold):\n",
    "    X_train = pd.DataFrame(X_train)\n",
    "    \n",
    "    # Compute the correlation matrix (absolute values)\n",
    "    corr_matrix = X_train.corr().abs()\n",
    "    \n",
    "    # Create a mask to select only the upper triangle of the correlation matrix\n",
    "    upper_triangle = corr_matrix.where(np.triu(np.ones(corr_matrix.shape), k=1).astype(bool))\n",
    "    \n",
    "    # Find features with correlation greater than the threshold\n",
    "    to_drop = [column for column in upper_triangle.columns if any(upper_triangle[column] > threshold)]\n",
    "    print(f\"Features to drop (correlation > {threshold}): {to_drop}\")\n",
    "    selected_features = [i for i in range(X_train.shape[1]) if i not in to_drop]\n",
    "    \n",
    "    return selected_features\n",
    "    "
   ]
  },
  {
   "cell_type": "code",
   "execution_count": 19,
   "id": "8ba6cebe",
   "metadata": {
    "execution": {
     "iopub.execute_input": "2024-12-11T18:57:11.422970Z",
     "iopub.status.busy": "2024-12-11T18:57:11.422030Z",
     "iopub.status.idle": "2024-12-11T18:57:11.432267Z",
     "shell.execute_reply": "2024-12-11T18:57:11.431291Z"
    },
    "papermill": {
     "duration": 0.022427,
     "end_time": "2024-12-11T18:57:11.435484",
     "exception": false,
     "start_time": "2024-12-11T18:57:11.413057",
     "status": "completed"
    },
    "tags": []
   },
   "outputs": [],
   "source": [
    "from sklearn.preprocessing import StandardScaler\n",
    "\n",
    "\n",
    "def Corr_Lasso(threshold, X, y, debug=False):\n",
    "    tscv = TimeSeriesSplit(n_splits=13, max_train_size=85000, test_size=45000)\n",
    "    stocks = []\n",
    "    num_stocks = []\n",
    "    fold_scores = []\n",
    "    adj_fold_scores = []\n",
    "\n",
    "    for train_index, test_index in tscv.split(X):\n",
    "        X_train_cv, X_test_cv = X.iloc[train_index], X.iloc[test_index]\n",
    "        y_train_cv, y_test_cv = y.iloc[train_index], y.iloc[test_index]\n",
    "        scaler = StandardScaler()\n",
    "        X_scaled = scaler.fit_transform(X_train_cv)\n",
    "\n",
    "        # Feature selection using correlation matrix\n",
    "        selected_indices = remove_correlated_features(X_scaled, threshold)\n",
    "\n",
    "        X_train_selected = X_scaled[:, selected_indices]\n",
    "        X_test_selected = X_test_cv.to_numpy()[:, selected_indices]\n",
    "        if debug == True:\n",
    "            print(f\"Selected {len(selected_indices)} stocks\")\n",
    "        num_stocks.append(len(selected_indices))\n",
    "        stocks.append(selected_indices)\n",
    "\n",
    "        best_alpha = None\n",
    "        best_score = float('inf')  # Assuming lower is better for your metric\n",
    "        for alph in [0.0001, 0.00025, 0.0005, 0.00075, 0.001, 0.002, 0.0025]:\n",
    "            lasso = Lasso(alpha=alph, max_iter=15000)\n",
    "            lasso.fit(X_train_selected, y_train_cv)\n",
    "            y_pred = lasso.predict(X_test_selected)\n",
    "            fold_score = tracking_error(y_test_cv.values, y_pred)\n",
    "            adj_fold_score = adj_tracking_error(y_test_cv.values, X_test_selected, lasso)\n",
    "            \n",
    "            if fold_score < best_score:\n",
    "                best_score = fold_score\n",
    "                best_alpha = alph\n",
    "\n",
    "        print(f\"Best Alpha for this fold: {best_alpha}, Best Fold Score: {best_score}\")\n",
    "        fold_scores.append(best_score)\n",
    "        adj_fold_scores.append(adj_fold_score)\n",
    "\n",
    "    # Calculate the average score across all folds\n",
    "    average_score = np.mean(fold_scores)\n",
    "    average_adj_score = np.mean(adj_fold_scores)\n",
    "\n",
    "    # Get average stocks chosen over all folds\n",
    "    average_selected_features = np.mean(num_stocks)\n",
    "\n",
    "    # Print the tracking error for this alpha\n",
    "    print(f\"Threshold: {threshold}, Tracking Error: {average_score}, Adj Tracking Error: {average_adj_score}\")\n",
    "    return stocks, average_selected_features, average_score, average_adj_score"
   ]
  },
  {
   "cell_type": "code",
   "execution_count": 20,
   "id": "71500fa7",
   "metadata": {
    "execution": {
     "iopub.execute_input": "2024-12-11T18:57:11.458723Z",
     "iopub.status.busy": "2024-12-11T18:57:11.457810Z",
     "iopub.status.idle": "2024-12-11T18:57:11.465477Z",
     "shell.execute_reply": "2024-12-11T18:57:11.464770Z"
    },
    "papermill": {
     "duration": 0.019081,
     "end_time": "2024-12-11T18:57:11.467242",
     "exception": false,
     "start_time": "2024-12-11T18:57:11.448161",
     "status": "completed"
    },
    "tags": []
   },
   "outputs": [],
   "source": [
    "def Corr_Lasso_plot(X,y):\n",
    "    thresholds = [0.9, 0.8, 0.7, 0.6, 0.5, 0.4, 0.3, 0.2]\n",
    "    tracking_errors = []\n",
    "    adj_tracking_errors = []\n",
    "    num_stocks_list = []\n",
    "    \n",
    "    for threshold in thresholds:\n",
    "        print(f\"----------Starting threshold: {threshold}-------------\")\n",
    "        _, num_stocks, tracking_err, adj_tracking_err = Corr_Lasso(threshold, X, y, debug=False)\n",
    "        num_stocks_list.append(num_stocks)\n",
    "        tracking_errors.append(tracking_err)\n",
    "        adj_tracking_errors.append(adj_tracking_err)\n",
    "    \n",
    "    # Plotting the results\n",
    "    fig, ax1 = plt.subplots()\n",
    "    \n",
    "    # Plotting number of stocks on the primary y-axis\n",
    "    color = 'tab:blue'    \n",
    "    ax1.set_xlabel('Alpha')\n",
    "    ax1.set_ylabel('Number of Stocks', color=color)    \n",
    "    ax1.plot(thresholds, num_stocks_list, color=color, marker='o', label='Number of Stocks')\n",
    "    ax1.tick_params(axis='y', labelcolor=color)\n",
    "    \n",
    "    # Creating a second y-axis for tracking error\n",
    "    ax2 = ax1.twinx()\n",
    "    color = 'tab:red'\n",
    "    ax2.set_ylabel('Tracking Error', color=color)\n",
    "    #ax2.plot(alphas, tracking_errors, color='tab:green', marker='o', linestyle='--', label='Tracking Error')\n",
    "    ax2.plot(thresholds, adj_tracking_errors, color=color, marker='x', linestyle='--', label='Adjusted Tracking Error')\n",
    "    ax2.tick_params(axis='y', labelcolor=color)\n",
    "    \n",
    "    # Adding a title and legend\n",
    "    plt.title('Number of Stocks and Tracking Error vs. Alpha')    \n",
    "    fig.tight_layout()  # Adjust layout to prevent overlap\n",
    "    plt.savefig('Corr-Lasso.png')\n",
    "    plt.show()"
   ]
  },
  {
   "cell_type": "markdown",
   "id": "6aea1627",
   "metadata": {
    "papermill": {
     "duration": 0.007904,
     "end_time": "2024-12-11T18:57:11.483225",
     "exception": false,
     "start_time": "2024-12-11T18:57:11.475321",
     "status": "completed"
    },
    "tags": []
   },
   "source": [
    "## Lasso - Lasso\n",
    "\n",
    "\n",
    "\n",
    "We will utilize a Lasso model with a high alpha value to perform feature selection, this will drop the coefficients for less important features to 0. After that we retrain a Lasso model with hyperparameter tuning."
   ]
  },
  {
   "cell_type": "code",
   "execution_count": 21,
   "id": "7484febc",
   "metadata": {
    "_kg_hide-input": true,
    "execution": {
     "iopub.execute_input": "2024-12-11T18:57:11.501893Z",
     "iopub.status.busy": "2024-12-11T18:57:11.501550Z",
     "iopub.status.idle": "2024-12-11T18:57:11.512184Z",
     "shell.execute_reply": "2024-12-11T18:57:11.511433Z"
    },
    "papermill": {
     "duration": 0.022353,
     "end_time": "2024-12-11T18:57:11.513999",
     "exception": false,
     "start_time": "2024-12-11T18:57:11.491646",
     "status": "completed"
    },
    "tags": []
   },
   "outputs": [],
   "source": [
    "from sklearn.preprocessing import StandardScaler\n",
    "\n",
    "\n",
    "\n",
    "def Lasso_Lasso(alpha, X, y):    \n",
    "    tscv = TimeSeriesSplit(n_splits=13, max_train_size=85000, test_size=45000)\n",
    "    stocks = []\n",
    "    num_stocks = []\n",
    "    fold_scores = []\n",
    "    adj_fold_scores = []\n",
    "\n",
    "    for train_index, test_index in tscv.split(X):\n",
    "        X_train_cv, X_test_cv = X.iloc[train_index], X.iloc[test_index]\n",
    "        y_train_cv, y_test_cv = y.iloc[train_index], y.iloc[test_index]\n",
    "        train_period = X.iloc[train_index].index\n",
    "        test_period = X.iloc[test_index].index\n",
    "\n",
    "        # Convert to date format\n",
    "        train_start_date, train_end_date = train_period.min(), train_period.max()\n",
    "        test_start_date, test_end_date = test_period.min(), test_period.max()\n",
    "\n",
    "        print(f\"Train period: {train_start_date} to {train_end_date}\")\n",
    "        print(f\"Test period: {test_start_date} to {test_end_date}\")\n",
    "        scaler = StandardScaler()\n",
    "        X_scaled = scaler.fit_transform(X_train_cv)\n",
    "\n",
    "        # Feature selection with alpha from list\n",
    "        lasso_fs = Lasso(alpha=alpha, max_iter=200)\n",
    "        lasso_fs.fit(X_scaled, y_train_cv)\n",
    "\n",
    "        #for feature, coef in zip(X_train_cv.columns, lasso_fs.coef_)\n",
    "        #    print(f\"{feature}: {coef}\")\n",
    "\n",
    "        selector = SelectFromModel(lasso_fs, threshold=10e-10, max_features=None)  # Adjust threshold as needed\n",
    "        X_selected_train = selector.transform(X_scaled)\n",
    "        X_selected_test = selector.transform(X_test_cv)\n",
    "\n",
    "        selected_features = np.where(selector.get_support())[0] \n",
    "        print(f\"Selected {len(selected_features)} stocks\")\n",
    "        num_stocks.append(len(selected_features))\n",
    "        stocks.append(selected_features)\n",
    "\n",
    "        best_alpha = None\n",
    "        best_score = float('inf')  # Assuming lower is better for your metric\n",
    "        for alph in [0.0001, 0.00025, 0.0005, 0.00075, 0.001, 0.002, 0.0025]:\n",
    "            lasso = Lasso(alpha=alph, max_iter=15000)\n",
    "            lasso.fit(X_selected_train, y_train_cv)\n",
    "            y_pred = lasso.predict(X_selected_test)\n",
    "            fold_score = tracking_error(y_test_cv.values, y_pred)\n",
    "            adj_fold_score = adj_tracking_error(y_test_cv.values, X_selected_test, lasso)\n",
    "            # print(f\"Alpha: {alpha}, Fold Score: {fold_score}\"\n",
    "            \n",
    "            if fold_score < best_score:\n",
    "                best_score = fold_score\n",
    "                best_alpha = alph\n",
    "\n",
    "        print(f\"Best Alpha for this fold: {best_alpha}, Best Fold Score: {best_score}\")\n",
    "        fold_scores.append(best_score)\n",
    "        adj_fold_scores.append(adj_fold_score)\n",
    "\n",
    "    # Calculate the average score across all folds\n",
    "    average_score = np.mean(fold_scores)\n",
    "    average_adj_score = np.mean(adj_fold_scores)\n",
    "\n",
    "    # Get average stocks chosen over all folds\n",
    "    average_selected_features = np.mean(num_stocks)\n",
    "\n",
    "    # Print the tracking error for this alpha\n",
    "    print(f\"Alpha: {alpha}, Average Tracking Error: {average_score}\")\n",
    "    return stocks, average_selected_features, average_score, average_adj_score"
   ]
  },
  {
   "cell_type": "code",
   "execution_count": 22,
   "id": "98bb4c0b",
   "metadata": {
    "execution": {
     "iopub.execute_input": "2024-12-11T18:57:11.532359Z",
     "iopub.status.busy": "2024-12-11T18:57:11.532069Z",
     "iopub.status.idle": "2024-12-11T18:57:11.539637Z",
     "shell.execute_reply": "2024-12-11T18:57:11.538850Z"
    },
    "papermill": {
     "duration": 0.018701,
     "end_time": "2024-12-11T18:57:11.541344",
     "exception": false,
     "start_time": "2024-12-11T18:57:11.522643",
     "status": "completed"
    },
    "tags": []
   },
   "outputs": [],
   "source": [
    "def Lasso_Lasso_plot(X,y):\n",
    "    alphas = [0.001, 0.002, 0.003, 0.004, 0.005, 0.006, 0.007, 0.008, 0.009]\n",
    "    tracking_errors = []\n",
    "    adj_tracking_errors = []\n",
    "    num_stocks_list = []\n",
    "    \n",
    "    for alpha in alphas:\n",
    "        print(f\"----------Starting alpha {alpha}-------------\")\n",
    "        _, num_stocks, tracking_err, adj_tracking_err = Lasso_Lasso(alpha, X, y)\n",
    "        num_stocks_list.append(num_stocks)\n",
    "        tracking_errors.append(tracking_err)\n",
    "        adj_tracking_errors.append(adj_tracking_err)\n",
    "    \n",
    "    # Plotting the results\n",
    "    fig, ax1 = plt.subplots()\n",
    "    \n",
    "    # Plotting number of stocks on the primary y-axis\n",
    "    color = 'tab:blue'    \n",
    "    ax1.set_xlabel('Alpha')\n",
    "    ax1.set_ylabel('Number of Stocks', color=color)    \n",
    "    ax1.plot(alphas, num_stocks_list, color=color, marker='o', label='Number of Stocks')\n",
    "    ax1.tick_params(axis='y', labelcolor=color)\n",
    "    \n",
    "    # Creating a second y-axis for tracking error\n",
    "    ax2 = ax1.twinx()\n",
    "    color = 'tab:red'\n",
    "    ax2.set_ylabel('Tracking Error', color=color)\n",
    "    #ax2.plot(alphas, tracking_errors, color='tab:green', marker='o', linestyle='--', label='Tracking Error')\n",
    "    ax2.plot(alphas, adj_tracking_errors, color=color, marker='x', linestyle='--', label='Adjusted Tracking Error')\n",
    "    ax2.tick_params(axis='y', labelcolor=color)\n",
    "    \n",
    "    # Adding a title and legend\n",
    "    plt.title('Number of Stocks and Tracking Error vs. Alpha')    \n",
    "    fig.tight_layout()  # Adjust layout to prevent overlap\n",
    "    plt.savefig('Lasso-Lasso.png')\n",
    "    plt.show()"
   ]
  },
  {
   "cell_type": "markdown",
   "id": "2e81b008",
   "metadata": {
    "papermill": {
     "duration": 0.007764,
     "end_time": "2024-12-11T18:57:11.557352",
     "exception": false,
     "start_time": "2024-12-11T18:57:11.549588",
     "status": "completed"
    },
    "tags": []
   },
   "source": [
    "### Mutual Info - Lasso\n",
    "\n",
    "Using mutual information between variables, which measures the dependency between them, 0 value being independence. By getting the mutual information between the features (stocks) and the target (NIFTY 100) we can \"discard\" the variables with lower dependencies. After feature selection, we traing a Lasso model with CV."
   ]
  },
  {
   "cell_type": "code",
   "execution_count": 23,
   "id": "a2d071b3",
   "metadata": {
    "execution": {
     "iopub.execute_input": "2024-12-11T18:57:11.575568Z",
     "iopub.status.busy": "2024-12-11T18:57:11.575056Z",
     "iopub.status.idle": "2024-12-11T18:57:11.585024Z",
     "shell.execute_reply": "2024-12-11T18:57:11.584135Z"
    },
    "papermill": {
     "duration": 0.021009,
     "end_time": "2024-12-11T18:57:11.586825",
     "exception": false,
     "start_time": "2024-12-11T18:57:11.565816",
     "status": "completed"
    },
    "tags": []
   },
   "outputs": [],
   "source": [
    "from sklearn.preprocessing import StandardScaler\n",
    "\n",
    "\n",
    "def MI_Experiment(percentile, X, y, model_class, params, debug=False):\n",
    "    tscv = TimeSeriesSplit(n_splits=13, max_train_size=85000, test_size=45000)\n",
    "    stocks = []\n",
    "    num_stocks = []\n",
    "    fold_scores = []\n",
    "    adj_fold_scores = []\n",
    "\n",
    "    for train_index, test_index in tscv.split(X):\n",
    "        X_train_cv, X_test_cv = X.iloc[train_index], X.iloc[test_index]\n",
    "        y_train_cv, y_test_cv = y.iloc[train_index], y.iloc[test_index]\n",
    "        scaler = StandardScaler()\n",
    "        X_scaled = scaler.fit_transform(X_train_cv)\n",
    "\n",
    "        # Feature selection with alpha from list\n",
    "        mi_scores = mutual_info_regression(X_train_cv, y_train_cv)\n",
    "        mi_scores_series = pd.Series(mi_scores, index=X_train_cv.columns)\n",
    "\n",
    "        threshold_value = mi_scores_series.quantile(percentile)        \n",
    "\n",
    "        selected_features = mi_scores_series[mi_scores_series > threshold_value].index\n",
    "        selected_indices = [X_train_cv.columns.get_loc(feature) for feature in selected_features]\n",
    "\n",
    "        # Filter the NumPy arrays based on the selected feature indices\n",
    "        X_train_selected = X_scaled[:, selected_indices]\n",
    "        X_test_selected = X_test_cv.to_numpy()[:, selected_indices]\n",
    "\n",
    "        if debug == True:\n",
    "            print(f\"Selected {len(selected_features)} stocks\")\n",
    "        num_stocks.append(len(selected_features))\n",
    "        stocks.append(selected_features)\n",
    "\n",
    "        best_params = None\n",
    "        best_score = float('inf')  # Assuming lower is better for your metric\n",
    "        best_adj_score = float('inf')\n",
    "        for param in ParameterGrid(params):\n",
    "            if debug == True:\n",
    "                print(f\"Trying combination {param}\")\n",
    "            model = model_class(**param)\n",
    "            model.fit(X_train_selected, y_train_cv)\n",
    "\n",
    "            y_pred = model.predict(X_test_selected)\n",
    "            fold_score = tracking_error(y_test_cv.values, y_pred)\n",
    "            adj_fold_score = adj_tracking_error(y_test_cv.values, X_test_selected, model)\n",
    "\n",
    "            if adj_fold_score < best_adj_score:\n",
    "                best_score = fold_score\n",
    "                best_adj_score = adj_fold_score\n",
    "                best_params = param\n",
    "        if debug == True:\n",
    "            print(f\"Best Params for this fold: {best_params}, Best Fold Score: {best_score}\")\n",
    "        fold_scores.append(best_score)\n",
    "        adj_fold_scores.append(best_adj_score)\n",
    "\n",
    "    # Calculate the average score across all folds\n",
    "    average_score = np.mean(fold_scores)\n",
    "    average_adj_score = np.mean(adj_fold_scores)\n",
    "\n",
    "    # Get average stocks chosen over all folds\n",
    "    average_selected_features = np.mean(num_stocks)\n",
    "\n",
    "    # Print the tracking error for this alpha\n",
    "    print(f\"Percentile: {percentile}, Tracking Error: {average_score}, Adj Tracking Error: {average_adj_score}\")\n",
    "    return stocks, average_selected_features, average_score, average_adj_score"
   ]
  },
  {
   "cell_type": "markdown",
   "id": "dec3a702",
   "metadata": {
    "papermill": {
     "duration": 0.007861,
     "end_time": "2024-12-11T18:57:11.602799",
     "exception": false,
     "start_time": "2024-12-11T18:57:11.594938",
     "status": "completed"
    },
    "tags": []
   },
   "source": [
    "### MI - Lasso"
   ]
  },
  {
   "cell_type": "code",
   "execution_count": 24,
   "id": "66871113",
   "metadata": {
    "execution": {
     "iopub.execute_input": "2024-12-11T18:57:11.619514Z",
     "iopub.status.busy": "2024-12-11T18:57:11.619193Z",
     "iopub.status.idle": "2024-12-11T18:57:11.625565Z",
     "shell.execute_reply": "2024-12-11T18:57:11.624882Z"
    },
    "papermill": {
     "duration": 0.016801,
     "end_time": "2024-12-11T18:57:11.627458",
     "exception": false,
     "start_time": "2024-12-11T18:57:11.610657",
     "status": "completed"
    },
    "tags": []
   },
   "outputs": [],
   "source": [
    "def MI_Lasso_plot(X,y):\n",
    "    tracking_errors = []\n",
    "    adj_tracking_errors = []\n",
    "    num_stocks_list = []\n",
    "    \n",
    "    percentiles = [0.0, 0.1, 0.2, 0.3, 0.4, 0.5, 0.6]\n",
    "    param_grid = {\n",
    "        'alpha': [0.0001, 0.00025, 0.0005, 0.00075, 0.001, 0.002, 0.0025],\n",
    "        'max_iter': [15000]\n",
    "    }\n",
    "    \n",
    "    for percentile in percentiles:\n",
    "        print(f\"Starting percentile: {percentile}\")\n",
    "        _, num_stocks, tracking_err, adj_tracking_err = MI_Experiment(percentile, X, y, Lasso, param_grid)\n",
    "        num_stocks_list.append(num_stocks)\n",
    "        tracking_errors.append(tracking_err)\n",
    "        adj_tracking_errors.append(adj_tracking_err)\n",
    "    \n",
    "    # Plotting the results\n",
    "    fig, ax1 = plt.subplots()\n",
    "    \n",
    "    # Plotting number of stocks on the primary y-axis\n",
    "    plt.plot(num_stocks_list, adj_tracking_errors, marker='x')\n",
    "    plt.xlabel('Number of Stocks')\n",
    "    plt.ylabel('Tracking Error')\n",
    "    plt.title('Lasso - Tracking Errors vs Number of Stocks')\n",
    "    plt.grid(True)\n",
    "    plt.savefig(\"MI-Lasso.png\")\n",
    "    plt.show()"
   ]
  },
  {
   "cell_type": "markdown",
   "id": "2f7c4c86",
   "metadata": {
    "papermill": {
     "duration": 0.007621,
     "end_time": "2024-12-11T18:57:11.643050",
     "exception": false,
     "start_time": "2024-12-11T18:57:11.635429",
     "status": "completed"
    },
    "tags": []
   },
   "source": [
    "### MI - ElasticNet"
   ]
  },
  {
   "cell_type": "code",
   "execution_count": 25,
   "id": "4f847e5a",
   "metadata": {
    "execution": {
     "iopub.execute_input": "2024-12-11T18:57:11.659913Z",
     "iopub.status.busy": "2024-12-11T18:57:11.659622Z",
     "iopub.status.idle": "2024-12-11T18:57:11.665929Z",
     "shell.execute_reply": "2024-12-11T18:57:11.665283Z"
    },
    "papermill": {
     "duration": 0.016506,
     "end_time": "2024-12-11T18:57:11.667398",
     "exception": false,
     "start_time": "2024-12-11T18:57:11.650892",
     "status": "completed"
    },
    "tags": []
   },
   "outputs": [],
   "source": [
    "def MI_ElasticNet_plot(X,y):\n",
    "    tracking_errors = []\n",
    "    adj_tracking_errors = []\n",
    "    num_stocks_list = []\n",
    "    \n",
    "    percentiles = [0.0, 0.1, 0.2, 0.3, 0.4, 0.5, 0.6]\n",
    "    param_grid = {\n",
    "        'alpha': [0.0001, 0.00025, 0.0005, 0.00075, 0.001, 0.002, 0.0025],\n",
    "        'l1_ratio': [0.1, 0.5, 0.7, 0.9]\n",
    "    }\n",
    "    \n",
    "    for percentile in percentiles:\n",
    "        print(f\"Starting percentile: {percentile}\")\n",
    "        _, num_stocks, tracking_err, adj_tracking_err = MI_Experiment(percentile, X, y, ElasticNet, param_grid)\n",
    "        num_stocks_list.append(num_stocks)\n",
    "        tracking_errors.append(tracking_err)\n",
    "        adj_tracking_errors.append(adj_tracking_err)\n",
    "    \n",
    "    # Plotting the results\n",
    "    fig, ax1 = plt.subplots()\n",
    "    \n",
    "    # Plotting number of stocks on the primary y-axis\n",
    "    plt.plot(num_stocks_list, adj_tracking_errors, marker='x')\n",
    "    plt.xlabel('Number of Stocks')\n",
    "    plt.ylabel('Tracking Error')\n",
    "    plt.title('ElasticNet - Tracking Errors vs Number of Stocks ')\n",
    "    plt.grid(True)\n",
    "    plt.savefig(\"MI-ElasticNet.png\")\n",
    "    plt.show()"
   ]
  },
  {
   "cell_type": "markdown",
   "id": "45353f5d",
   "metadata": {
    "execution": {
     "iopub.execute_input": "2024-11-12T21:50:37.572889Z",
     "iopub.status.busy": "2024-11-12T21:50:37.570440Z"
    },
    "papermill": {
     "duration": 0.007485,
     "end_time": "2024-12-11T18:57:11.683345",
     "exception": false,
     "start_time": "2024-12-11T18:57:11.675860",
     "status": "completed"
    },
    "tags": []
   },
   "source": [
    "TODO: Theil-Sein Linear Regression"
   ]
  },
  {
   "cell_type": "markdown",
   "id": "6918e3b4",
   "metadata": {
    "papermill": {
     "duration": 0.007956,
     "end_time": "2024-12-11T18:57:11.699076",
     "exception": false,
     "start_time": "2024-12-11T18:57:11.691120",
     "status": "completed"
    },
    "tags": []
   },
   "source": [
    "### MI-RandomForestRegressor"
   ]
  },
  {
   "cell_type": "code",
   "execution_count": 26,
   "id": "764e7fc0",
   "metadata": {
    "execution": {
     "iopub.execute_input": "2024-12-11T18:57:11.715802Z",
     "iopub.status.busy": "2024-12-11T18:57:11.715530Z",
     "iopub.status.idle": "2024-12-11T18:57:11.722239Z",
     "shell.execute_reply": "2024-12-11T18:57:11.721564Z"
    },
    "papermill": {
     "duration": 0.016845,
     "end_time": "2024-12-11T18:57:11.723929",
     "exception": false,
     "start_time": "2024-12-11T18:57:11.707084",
     "status": "completed"
    },
    "tags": []
   },
   "outputs": [],
   "source": [
    "def MI_RF_plot(X,y):\n",
    "    tracking_errors = []\n",
    "    adj_tracking_errors = []\n",
    "    num_stocks_list = []\n",
    "    \n",
    "    percentiles = [0.0, 0.1, 0.2, 0.3, 0.4, 0.5, 0.6, 0.7, 0.8]\n",
    "    param_grid = {\n",
    "        'n_estimators': [10, 20, 30, 40, 50],       # Number of trees in the forest\n",
    "        'max_depth': [5, 10, 15],      # Maximum depth of the tree\n",
    "        'max_samples': [0.5],\n",
    "        'min_samples_split': [0.05],\n",
    "        'bootstrap': [True],\n",
    "        'n_jobs': [-1],\n",
    "        'max_features': ['sqrt']\n",
    "    }\n",
    "    \n",
    "    for percentile in percentiles:\n",
    "        print(f\"Starting percentile: {percentile}\")\n",
    "        _, num_stocks, tracking_err, adj_tracking_err = MI_Experiment(percentile, X, y, RandomForestRegressor, param_grid)\n",
    "        num_stocks_list.append(num_stocks)\n",
    "        tracking_errors.append(tracking_err)\n",
    "        adj_tracking_errors.append(adj_tracking_err)\n",
    "    \n",
    "    # Plotting the results\n",
    "    fig, ax1 = plt.subplots()\n",
    "    \n",
    "    # Plotting number of stocks on the primary y-axis\n",
    "    plt.plot(num_stocks_list, adj_tracking_errors, marker='x')\n",
    "    plt.xlabel('Number of Stocks')\n",
    "    plt.ylabel('Tracking Error')\n",
    "    plt.title('RandomForestRegressor - Tracking Errors vs Number of Stocks ')\n",
    "    plt.grid(True)\n",
    "    plt.savefig(\"MI-RandomForestRegressor.png\")\n",
    "    plt.show()"
   ]
  },
  {
   "cell_type": "markdown",
   "id": "86d6a350",
   "metadata": {
    "papermill": {
     "duration": 0.007502,
     "end_time": "2024-12-11T18:57:11.739310",
     "exception": false,
     "start_time": "2024-12-11T18:57:11.731808",
     "status": "completed"
    },
    "tags": []
   },
   "source": [
    "### MI - XGBoost"
   ]
  },
  {
   "cell_type": "code",
   "execution_count": 27,
   "id": "ae836ad1",
   "metadata": {
    "execution": {
     "iopub.execute_input": "2024-12-11T18:57:11.756716Z",
     "iopub.status.busy": "2024-12-11T18:57:11.756410Z",
     "iopub.status.idle": "2024-12-11T18:57:11.763038Z",
     "shell.execute_reply": "2024-12-11T18:57:11.762319Z"
    },
    "papermill": {
     "duration": 0.01738,
     "end_time": "2024-12-11T18:57:11.764857",
     "exception": false,
     "start_time": "2024-12-11T18:57:11.747477",
     "status": "completed"
    },
    "tags": []
   },
   "outputs": [],
   "source": [
    "def MI_XGBoost_plot(X,y):\n",
    "    tracking_errors = []\n",
    "    adj_tracking_errors = []\n",
    "    num_stocks_list = []\n",
    "    \n",
    "    percentiles = [0.1, 0.2, 0.3, 0.4, 0.5, 0.6, 0.7, 0.8]\n",
    "    param_grid = {\n",
    "        'n_estimators': [50, 100, 200, 250],  # Number of boosting rounds\n",
    "        'learning_rate': [0.01, 0.1, 0.2, 0.25],  # Step size shrinkage\n",
    "        'max_depth': [3, 5, 7, 10],  # Maximum depth of a tree\n",
    "        'n_jobs': [-1],\n",
    "        'tree_method': ['gpu_hist'],\n",
    "    }\n",
    "    \n",
    "    for percentile in percentiles:\n",
    "        print(f\"Starting percentile: {percentile}\")\n",
    "        _, num_stocks, tracking_err, adj_tracking_err = MI_Experiment(percentile, X, y, xgb.XGBRegressor, param_grid)\n",
    "        num_stocks_list.append(num_stocks)\n",
    "        tracking_errors.append(tracking_err)\n",
    "        adj_tracking_errors.append(adj_tracking_err)\n",
    "    \n",
    "    # Plotting the results\n",
    "    fig, ax1 = plt.subplots()\n",
    "    \n",
    "    # Plotting number of stocks on the primary y-axis\n",
    "    plt.plot(num_stocks_list, adj_tracking_errors, marker='x')\n",
    "    plt.xlabel('Number of Stocks')\n",
    "    plt.ylabel('Tracking Error')\n",
    "    plt.title('XGBRegressor - Tracking Errors vs Number of Stocks ')\n",
    "    plt.grid(True)\n",
    "    plt.savefig(\"MI-XGBRegressor.png\")\n",
    "    plt.show()"
   ]
  },
  {
   "cell_type": "code",
   "execution_count": 28,
   "id": "5738698d",
   "metadata": {
    "execution": {
     "iopub.execute_input": "2024-12-11T18:57:11.781002Z",
     "iopub.status.busy": "2024-12-11T18:57:11.780734Z",
     "iopub.status.idle": "2024-12-11T18:57:13.959712Z",
     "shell.execute_reply": "2024-12-11T18:57:13.958814Z"
    },
    "papermill": {
     "duration": 2.189765,
     "end_time": "2024-12-11T18:57:13.962181",
     "exception": false,
     "start_time": "2024-12-11T18:57:11.772416",
     "status": "completed"
    },
    "tags": []
   },
   "outputs": [],
   "source": [
    "df_total_z = df_total.replace(0, np.nan)  # Convert zeroes back to NaNs\n",
    "df_total_returns = df_total_z.pct_change().dropna()\n",
    "df_total_returns = 100*df_total_returns\n",
    "X = df_total_returns.drop(columns=['NIFTY_100'])\n",
    "y = df_total_returns['NIFTY_100']"
   ]
  },
  {
   "cell_type": "code",
   "execution_count": 29,
   "id": "f135cd66",
   "metadata": {
    "execution": {
     "iopub.execute_input": "2024-12-11T18:57:13.984122Z",
     "iopub.status.busy": "2024-12-11T18:57:13.983732Z",
     "iopub.status.idle": "2024-12-11T19:05:33.273557Z",
     "shell.execute_reply": "2024-12-11T19:05:33.272610Z"
    },
    "papermill": {
     "duration": 499.302861,
     "end_time": "2024-12-11T19:05:33.276056",
     "exception": false,
     "start_time": "2024-12-11T18:57:13.973195",
     "status": "completed"
    },
    "tags": []
   },
   "outputs": [
    {
     "name": "stdout",
     "output_type": "stream",
     "text": [
      "----------Starting alpha 0.001-------------\n",
      "Train period: 2015-02-02 10:19:00 to 2015-08-25 14:20:00\n",
      "Test period: 2015-08-25 14:21:00 to 2016-04-07 11:40:00\n",
      "Selected 70 stocks\n",
      "Best Alpha for this fold: 0.0001, Best Fold Score: 0.04757327527243649\n",
      "Train period: 2015-02-19 15:12:00 to 2016-04-07 11:40:00\n",
      "Test period: 2016-04-07 11:41:00 to 2016-10-18 12:52:00\n",
      "Selected 72 stocks\n",
      "Best Alpha for this fold: 0.0001, Best Fold Score: 0.035880639079479804\n",
      "Train period: 2015-09-29 11:53:00 to 2016-10-18 12:52:00\n",
      "Test period: 2016-10-18 12:53:00 to 2017-05-02 12:41:00\n",
      "Selected 76 stocks\n",
      "Best Alpha for this fold: 0.0001, Best Fold Score: 0.043346668200988536\n",
      "Train period: 2016-04-29 14:28:00 to 2017-05-02 12:41:00\n",
      "Test period: 2017-05-02 12:42:00 to 2017-11-10 11:24:00\n",
      "Selected 78 stocks\n",
      "Best Alpha for this fold: 0.0001, Best Fold Score: 0.027371671944238556\n",
      "Train period: 2016-11-07 14:17:00 to 2017-11-10 11:24:00\n",
      "Test period: 2017-11-10 11:25:00 to 2018-05-24 10:55:00\n",
      "Selected 76 stocks\n",
      "Best Alpha for this fold: 0.0001, Best Fold Score: 0.03759571944596773\n",
      "Train period: 2017-05-22 09:20:00 to 2018-05-24 10:55:00\n",
      "Test period: 2018-05-24 10:56:00 to 2018-12-06 13:19:00\n",
      "Selected 71 stocks\n",
      "Best Alpha for this fold: 0.0001, Best Fold Score: 0.04169173647222751\n",
      "Train period: 2017-11-29 14:13:00 to 2018-12-06 13:19:00\n",
      "Test period: 2018-12-06 13:20:00 to 2019-07-17 10:21:00\n",
      "Selected 74 stocks\n",
      "Best Alpha for this fold: 0.0001, Best Fold Score: 0.03861926344815508\n",
      "Train period: 2018-06-12 13:54:00 to 2019-07-17 10:21:00\n",
      "Test period: 2019-07-17 10:24:00 to 2020-02-13 11:53:00\n",
      "Selected 74 stocks\n",
      "Best Alpha for this fold: 0.0001, Best Fold Score: 0.04109652937878581\n",
      "Train period: 2018-12-27 13:54:00 to 2020-02-13 11:53:00\n",
      "Test period: 2020-02-13 11:54:00 to 2020-09-01 12:07:00\n",
      "Selected 73 stocks\n",
      "Best Alpha for this fold: 0.0001, Best Fold Score: 0.11798457671786303\n",
      "Train period: 2019-08-07 14:46:00 to 2020-09-01 12:07:00\n",
      "Test period: 2020-09-01 12:08:00 to 2021-03-16 09:33:00\n"
     ]
    },
    {
     "name": "stderr",
     "output_type": "stream",
     "text": [
      "/opt/conda/lib/python3.10/site-packages/sklearn/linear_model/_coordinate_descent.py:631: ConvergenceWarning: Objective did not converge. You might want to increase the number of iterations, check the scale of the features or consider increasing regularisation. Duality gap: 7.647e-01, tolerance: 8.593e-02\n",
      "  model = cd_fast.enet_coordinate_descent(\n"
     ]
    },
    {
     "name": "stdout",
     "output_type": "stream",
     "text": [
      "Selected 80 stocks\n",
      "Best Alpha for this fold: 0.0001, Best Fold Score: 0.04667040117914395\n",
      "Train period: 2020-03-12 11:54:00 to 2021-03-16 09:33:00\n",
      "Test period: 2021-03-16 09:34:00 to 2021-09-28 14:42:00\n"
     ]
    },
    {
     "name": "stderr",
     "output_type": "stream",
     "text": [
      "/opt/conda/lib/python3.10/site-packages/sklearn/linear_model/_coordinate_descent.py:631: ConvergenceWarning: Objective did not converge. You might want to increase the number of iterations, check the scale of the features or consider increasing regularisation. Duality gap: 6.302e-01, tolerance: 8.393e-02\n",
      "  model = cd_fast.enet_coordinate_descent(\n"
     ]
    },
    {
     "name": "stdout",
     "output_type": "stream",
     "text": [
      "Selected 81 stocks\n",
      "Best Alpha for this fold: 0.0001, Best Fold Score: 0.03690028475098253\n",
      "Train period: 2020-09-28 10:52:00 to 2021-09-28 14:42:00\n",
      "Test period: 2021-09-28 14:43:00 to 2022-04-12 10:57:00\n",
      "Selected 81 stocks\n",
      "Best Alpha for this fold: 0.0001, Best Fold Score: 0.051603177392449136\n",
      "Train period: 2021-04-12 11:55:00 to 2022-04-12 10:57:00\n",
      "Test period: 2022-04-12 10:58:00 to 2022-10-24 19:14:00\n",
      "Selected 79 stocks\n",
      "Best Alpha for this fold: 0.0001, Best Fold Score: 0.05020158494112576\n",
      "Alpha: 0.001, Average Tracking Error: 0.04742580986337261\n",
      "----------Starting alpha 0.002-------------\n",
      "Train period: 2015-02-02 10:19:00 to 2015-08-25 14:20:00\n",
      "Test period: 2015-08-25 14:21:00 to 2016-04-07 11:40:00\n",
      "Selected 57 stocks\n",
      "Best Alpha for this fold: 0.0001, Best Fold Score: 0.04776546826460951\n",
      "Train period: 2015-02-19 15:12:00 to 2016-04-07 11:40:00\n",
      "Test period: 2016-04-07 11:41:00 to 2016-10-18 12:52:00\n",
      "Selected 58 stocks\n",
      "Best Alpha for this fold: 0.0001, Best Fold Score: 0.03597973120357439\n",
      "Train period: 2015-09-29 11:53:00 to 2016-10-18 12:52:00\n",
      "Test period: 2016-10-18 12:53:00 to 2017-05-02 12:41:00\n",
      "Selected 63 stocks\n",
      "Best Alpha for this fold: 0.0001, Best Fold Score: 0.043494874365269304\n",
      "Train period: 2016-04-29 14:28:00 to 2017-05-02 12:41:00\n",
      "Test period: 2017-05-02 12:42:00 to 2017-11-10 11:24:00\n",
      "Selected 66 stocks\n",
      "Best Alpha for this fold: 0.0001, Best Fold Score: 0.027419066789294753\n",
      "Train period: 2016-11-07 14:17:00 to 2017-11-10 11:24:00\n",
      "Test period: 2017-11-10 11:25:00 to 2018-05-24 10:55:00\n",
      "Selected 68 stocks\n",
      "Best Alpha for this fold: 0.0001, Best Fold Score: 0.037619277749062756\n",
      "Train period: 2017-05-22 09:20:00 to 2018-05-24 10:55:00\n",
      "Test period: 2018-05-24 10:56:00 to 2018-12-06 13:19:00\n",
      "Selected 58 stocks\n",
      "Best Alpha for this fold: 0.0001, Best Fold Score: 0.041699890709231024\n",
      "Train period: 2017-11-29 14:13:00 to 2018-12-06 13:19:00\n",
      "Test period: 2018-12-06 13:20:00 to 2019-07-17 10:21:00\n",
      "Selected 66 stocks\n",
      "Best Alpha for this fold: 0.0001, Best Fold Score: 0.03864514682703148\n",
      "Train period: 2018-06-12 13:54:00 to 2019-07-17 10:21:00\n",
      "Test period: 2019-07-17 10:24:00 to 2020-02-13 11:53:00\n",
      "Selected 65 stocks\n",
      "Best Alpha for this fold: 0.0001, Best Fold Score: 0.0411379078357839\n",
      "Train period: 2018-12-27 13:54:00 to 2020-02-13 11:53:00\n",
      "Test period: 2020-02-13 11:54:00 to 2020-09-01 12:07:00\n",
      "Selected 62 stocks\n",
      "Best Alpha for this fold: 0.0001, Best Fold Score: 0.11807424635354069\n",
      "Train period: 2019-08-07 14:46:00 to 2020-09-01 12:07:00\n",
      "Test period: 2020-09-01 12:08:00 to 2021-03-16 09:33:00\n"
     ]
    },
    {
     "name": "stderr",
     "output_type": "stream",
     "text": [
      "/opt/conda/lib/python3.10/site-packages/sklearn/linear_model/_coordinate_descent.py:631: ConvergenceWarning: Objective did not converge. You might want to increase the number of iterations, check the scale of the features or consider increasing regularisation. Duality gap: 6.081e-01, tolerance: 8.593e-02\n",
      "  model = cd_fast.enet_coordinate_descent(\n"
     ]
    },
    {
     "name": "stdout",
     "output_type": "stream",
     "text": [
      "Selected 78 stocks\n",
      "Best Alpha for this fold: 0.0001, Best Fold Score: 0.04667402305322088\n",
      "Train period: 2020-03-12 11:54:00 to 2021-03-16 09:33:00\n",
      "Test period: 2021-03-16 09:34:00 to 2021-09-28 14:42:00\n"
     ]
    },
    {
     "name": "stderr",
     "output_type": "stream",
     "text": [
      "/opt/conda/lib/python3.10/site-packages/sklearn/linear_model/_coordinate_descent.py:631: ConvergenceWarning: Objective did not converge. You might want to increase the number of iterations, check the scale of the features or consider increasing regularisation. Duality gap: 4.758e-01, tolerance: 8.393e-02\n",
      "  model = cd_fast.enet_coordinate_descent(\n"
     ]
    },
    {
     "name": "stdout",
     "output_type": "stream",
     "text": [
      "Selected 77 stocks\n",
      "Best Alpha for this fold: 0.0001, Best Fold Score: 0.03692992713374181\n",
      "Train period: 2020-09-28 10:52:00 to 2021-09-28 14:42:00\n",
      "Test period: 2021-09-28 14:43:00 to 2022-04-12 10:57:00\n",
      "Selected 69 stocks\n",
      "Best Alpha for this fold: 0.0001, Best Fold Score: 0.051635628024536376\n",
      "Train period: 2021-04-12 11:55:00 to 2022-04-12 10:57:00\n",
      "Test period: 2022-04-12 10:58:00 to 2022-10-24 19:14:00\n",
      "Selected 72 stocks\n",
      "Best Alpha for this fold: 0.0001, Best Fold Score: 0.05022234498769072\n",
      "Alpha: 0.002, Average Tracking Error: 0.04748442563819904\n",
      "----------Starting alpha 0.003-------------\n",
      "Train period: 2015-02-02 10:19:00 to 2015-08-25 14:20:00\n",
      "Test period: 2015-08-25 14:21:00 to 2016-04-07 11:40:00\n",
      "Selected 52 stocks\n",
      "Best Alpha for this fold: 0.0001, Best Fold Score: 0.04783079662342577\n",
      "Train period: 2015-02-19 15:12:00 to 2016-04-07 11:40:00\n",
      "Test period: 2016-04-07 11:41:00 to 2016-10-18 12:52:00\n",
      "Selected 52 stocks\n",
      "Best Alpha for this fold: 0.0001, Best Fold Score: 0.03603424831437792\n",
      "Train period: 2015-09-29 11:53:00 to 2016-10-18 12:52:00\n",
      "Test period: 2016-10-18 12:53:00 to 2017-05-02 12:41:00\n",
      "Selected 56 stocks\n",
      "Best Alpha for this fold: 0.0001, Best Fold Score: 0.043561401775289166\n",
      "Train period: 2016-04-29 14:28:00 to 2017-05-02 12:41:00\n",
      "Test period: 2017-05-02 12:42:00 to 2017-11-10 11:24:00\n",
      "Selected 58 stocks\n",
      "Best Alpha for this fold: 0.0001, Best Fold Score: 0.02743560919280371\n",
      "Train period: 2016-11-07 14:17:00 to 2017-11-10 11:24:00\n",
      "Test period: 2017-11-10 11:25:00 to 2018-05-24 10:55:00\n",
      "Selected 56 stocks\n",
      "Best Alpha for this fold: 0.0001, Best Fold Score: 0.03763348356833777\n",
      "Train period: 2017-05-22 09:20:00 to 2018-05-24 10:55:00\n",
      "Test period: 2018-05-24 10:56:00 to 2018-12-06 13:19:00\n",
      "Selected 44 stocks\n",
      "Best Alpha for this fold: 0.0001, Best Fold Score: 0.04178656278963265\n",
      "Train period: 2017-11-29 14:13:00 to 2018-12-06 13:19:00\n",
      "Test period: 2018-12-06 13:20:00 to 2019-07-17 10:21:00\n",
      "Selected 54 stocks\n",
      "Best Alpha for this fold: 0.0001, Best Fold Score: 0.038665934155587535\n",
      "Train period: 2018-06-12 13:54:00 to 2019-07-17 10:21:00\n",
      "Test period: 2019-07-17 10:24:00 to 2020-02-13 11:53:00\n",
      "Selected 48 stocks\n",
      "Best Alpha for this fold: 0.0001, Best Fold Score: 0.04119612471880974\n",
      "Train period: 2018-12-27 13:54:00 to 2020-02-13 11:53:00\n",
      "Test period: 2020-02-13 11:54:00 to 2020-09-01 12:07:00\n",
      "Selected 47 stocks\n",
      "Best Alpha for this fold: 0.0001, Best Fold Score: 0.11840006857008956\n",
      "Train period: 2019-08-07 14:46:00 to 2020-09-01 12:07:00\n",
      "Test period: 2020-09-01 12:08:00 to 2021-03-16 09:33:00\n"
     ]
    },
    {
     "name": "stderr",
     "output_type": "stream",
     "text": [
      "/opt/conda/lib/python3.10/site-packages/sklearn/linear_model/_coordinate_descent.py:631: ConvergenceWarning: Objective did not converge. You might want to increase the number of iterations, check the scale of the features or consider increasing regularisation. Duality gap: 3.741e-01, tolerance: 8.593e-02\n",
      "  model = cd_fast.enet_coordinate_descent(\n"
     ]
    },
    {
     "name": "stdout",
     "output_type": "stream",
     "text": [
      "Selected 74 stocks\n",
      "Best Alpha for this fold: 0.0001, Best Fold Score: 0.046699310187424146\n",
      "Train period: 2020-03-12 11:54:00 to 2021-03-16 09:33:00\n",
      "Test period: 2021-03-16 09:34:00 to 2021-09-28 14:42:00\n"
     ]
    },
    {
     "name": "stderr",
     "output_type": "stream",
     "text": [
      "/opt/conda/lib/python3.10/site-packages/sklearn/linear_model/_coordinate_descent.py:631: ConvergenceWarning: Objective did not converge. You might want to increase the number of iterations, check the scale of the features or consider increasing regularisation. Duality gap: 3.175e-01, tolerance: 8.393e-02\n",
      "  model = cd_fast.enet_coordinate_descent(\n"
     ]
    },
    {
     "name": "stdout",
     "output_type": "stream",
     "text": [
      "Selected 73 stocks\n",
      "Best Alpha for this fold: 0.0001, Best Fold Score: 0.036941773492465795\n",
      "Train period: 2020-09-28 10:52:00 to 2021-09-28 14:42:00\n",
      "Test period: 2021-09-28 14:43:00 to 2022-04-12 10:57:00\n",
      "Selected 60 stocks\n",
      "Best Alpha for this fold: 0.0001, Best Fold Score: 0.0516570483413082\n",
      "Train period: 2021-04-12 11:55:00 to 2022-04-12 10:57:00\n",
      "Test period: 2022-04-12 10:58:00 to 2022-10-24 19:14:00\n",
      "Selected 58 stocks\n",
      "Best Alpha for this fold: 0.0001, Best Fold Score: 0.05025730966610247\n",
      "Alpha: 0.003, Average Tracking Error: 0.04754612856889649\n",
      "----------Starting alpha 0.004-------------\n",
      "Train period: 2015-02-02 10:19:00 to 2015-08-25 14:20:00\n",
      "Test period: 2015-08-25 14:21:00 to 2016-04-07 11:40:00\n",
      "Selected 44 stocks\n",
      "Best Alpha for this fold: 0.0001, Best Fold Score: 0.047955160179843616\n",
      "Train period: 2015-02-19 15:12:00 to 2016-04-07 11:40:00\n",
      "Test period: 2016-04-07 11:41:00 to 2016-10-18 12:52:00\n",
      "Selected 49 stocks\n",
      "Best Alpha for this fold: 0.0001, Best Fold Score: 0.03604561464211977\n",
      "Train period: 2015-09-29 11:53:00 to 2016-10-18 12:52:00\n",
      "Test period: 2016-10-18 12:53:00 to 2017-05-02 12:41:00\n",
      "Selected 46 stocks\n",
      "Best Alpha for this fold: 0.0001, Best Fold Score: 0.04368300312068551\n",
      "Train period: 2016-04-29 14:28:00 to 2017-05-02 12:41:00\n",
      "Test period: 2017-05-02 12:42:00 to 2017-11-10 11:24:00\n",
      "Selected 51 stocks\n",
      "Best Alpha for this fold: 0.0001, Best Fold Score: 0.027441470528563675\n",
      "Train period: 2016-11-07 14:17:00 to 2017-11-10 11:24:00\n",
      "Test period: 2017-11-10 11:25:00 to 2018-05-24 10:55:00\n",
      "Selected 45 stocks\n",
      "Best Alpha for this fold: 0.0001, Best Fold Score: 0.037667255197283166\n",
      "Train period: 2017-05-22 09:20:00 to 2018-05-24 10:55:00\n",
      "Test period: 2018-05-24 10:56:00 to 2018-12-06 13:19:00\n",
      "Selected 40 stocks\n",
      "Best Alpha for this fold: 0.0001, Best Fold Score: 0.04179112737338712\n",
      "Train period: 2017-11-29 14:13:00 to 2018-12-06 13:19:00\n",
      "Test period: 2018-12-06 13:20:00 to 2019-07-17 10:21:00\n",
      "Selected 44 stocks\n",
      "Best Alpha for this fold: 0.0001, Best Fold Score: 0.038741654965871494\n",
      "Train period: 2018-06-12 13:54:00 to 2019-07-17 10:21:00\n",
      "Test period: 2019-07-17 10:24:00 to 2020-02-13 11:53:00\n",
      "Selected 43 stocks\n",
      "Best Alpha for this fold: 0.0001, Best Fold Score: 0.041250632132103456\n",
      "Train period: 2018-12-27 13:54:00 to 2020-02-13 11:53:00\n",
      "Test period: 2020-02-13 11:54:00 to 2020-09-01 12:07:00\n",
      "Selected 37 stocks\n",
      "Best Alpha for this fold: 0.0001, Best Fold Score: 0.11881643533552291\n",
      "Train period: 2019-08-07 14:46:00 to 2020-09-01 12:07:00\n",
      "Test period: 2020-09-01 12:08:00 to 2021-03-16 09:33:00\n"
     ]
    },
    {
     "name": "stderr",
     "output_type": "stream",
     "text": [
      "/opt/conda/lib/python3.10/site-packages/sklearn/linear_model/_coordinate_descent.py:631: ConvergenceWarning: Objective did not converge. You might want to increase the number of iterations, check the scale of the features or consider increasing regularisation. Duality gap: 2.244e-01, tolerance: 8.593e-02\n",
      "  model = cd_fast.enet_coordinate_descent(\n"
     ]
    },
    {
     "name": "stdout",
     "output_type": "stream",
     "text": [
      "Selected 66 stocks\n",
      "Best Alpha for this fold: 0.0001, Best Fold Score: 0.046711417967603204\n",
      "Train period: 2020-03-12 11:54:00 to 2021-03-16 09:33:00\n",
      "Test period: 2021-03-16 09:34:00 to 2021-09-28 14:42:00\n"
     ]
    },
    {
     "name": "stderr",
     "output_type": "stream",
     "text": [
      "/opt/conda/lib/python3.10/site-packages/sklearn/linear_model/_coordinate_descent.py:631: ConvergenceWarning: Objective did not converge. You might want to increase the number of iterations, check the scale of the features or consider increasing regularisation. Duality gap: 2.306e-01, tolerance: 8.393e-02\n",
      "  model = cd_fast.enet_coordinate_descent(\n"
     ]
    },
    {
     "name": "stdout",
     "output_type": "stream",
     "text": [
      "Selected 69 stocks\n",
      "Best Alpha for this fold: 0.0001, Best Fold Score: 0.03695230472016438\n",
      "Train period: 2020-09-28 10:52:00 to 2021-09-28 14:42:00\n",
      "Test period: 2021-09-28 14:43:00 to 2022-04-12 10:57:00\n",
      "Selected 54 stocks\n",
      "Best Alpha for this fold: 0.0001, Best Fold Score: 0.05168352591239511\n",
      "Train period: 2021-04-12 11:55:00 to 2022-04-12 10:57:00\n",
      "Test period: 2022-04-12 10:58:00 to 2022-10-24 19:14:00\n",
      "Selected 52 stocks\n",
      "Best Alpha for this fold: 0.0001, Best Fold Score: 0.05027888129315549\n",
      "Alpha: 0.004, Average Tracking Error: 0.04761680641297684\n",
      "----------Starting alpha 0.005-------------\n",
      "Train period: 2015-02-02 10:19:00 to 2015-08-25 14:20:00\n",
      "Test period: 2015-08-25 14:21:00 to 2016-04-07 11:40:00\n",
      "Selected 41 stocks\n",
      "Best Alpha for this fold: 0.0001, Best Fold Score: 0.048012472367989376\n",
      "Train period: 2015-02-19 15:12:00 to 2016-04-07 11:40:00\n",
      "Test period: 2016-04-07 11:41:00 to 2016-10-18 12:52:00\n",
      "Selected 43 stocks\n",
      "Best Alpha for this fold: 0.0001, Best Fold Score: 0.03606366311718675\n",
      "Train period: 2015-09-29 11:53:00 to 2016-10-18 12:52:00\n",
      "Test period: 2016-10-18 12:53:00 to 2017-05-02 12:41:00\n",
      "Selected 42 stocks\n",
      "Best Alpha for this fold: 0.0001, Best Fold Score: 0.04368575873256715\n",
      "Train period: 2016-04-29 14:28:00 to 2017-05-02 12:41:00\n",
      "Test period: 2017-05-02 12:42:00 to 2017-11-10 11:24:00\n",
      "Selected 41 stocks\n",
      "Best Alpha for this fold: 0.0001, Best Fold Score: 0.027477693035913006\n",
      "Train period: 2016-11-07 14:17:00 to 2017-11-10 11:24:00\n",
      "Test period: 2017-11-10 11:25:00 to 2018-05-24 10:55:00\n",
      "Selected 42 stocks\n",
      "Best Alpha for this fold: 0.0001, Best Fold Score: 0.03766743765816076\n",
      "Train period: 2017-05-22 09:20:00 to 2018-05-24 10:55:00\n",
      "Test period: 2018-05-24 10:56:00 to 2018-12-06 13:19:00\n",
      "Selected 33 stocks\n",
      "Best Alpha for this fold: 0.0001, Best Fold Score: 0.04186962210112072\n",
      "Train period: 2017-11-29 14:13:00 to 2018-12-06 13:19:00\n",
      "Test period: 2018-12-06 13:20:00 to 2019-07-17 10:21:00\n",
      "Selected 36 stocks\n",
      "Best Alpha for this fold: 0.0001, Best Fold Score: 0.0387981497161418\n",
      "Train period: 2018-06-12 13:54:00 to 2019-07-17 10:21:00\n",
      "Test period: 2019-07-17 10:24:00 to 2020-02-13 11:53:00\n",
      "Selected 36 stocks\n",
      "Best Alpha for this fold: 0.0001, Best Fold Score: 0.041362859262556055\n",
      "Train period: 2018-12-27 13:54:00 to 2020-02-13 11:53:00\n",
      "Test period: 2020-02-13 11:54:00 to 2020-09-01 12:07:00\n",
      "Selected 29 stocks\n",
      "Best Alpha for this fold: 0.0001, Best Fold Score: 0.11901509391415571\n",
      "Train period: 2019-08-07 14:46:00 to 2020-09-01 12:07:00\n",
      "Test period: 2020-09-01 12:08:00 to 2021-03-16 09:33:00\n"
     ]
    },
    {
     "name": "stderr",
     "output_type": "stream",
     "text": [
      "/opt/conda/lib/python3.10/site-packages/sklearn/linear_model/_coordinate_descent.py:631: ConvergenceWarning: Objective did not converge. You might want to increase the number of iterations, check the scale of the features or consider increasing regularisation. Duality gap: 1.885e-01, tolerance: 8.593e-02\n",
      "  model = cd_fast.enet_coordinate_descent(\n"
     ]
    },
    {
     "name": "stdout",
     "output_type": "stream",
     "text": [
      "Selected 60 stocks\n",
      "Best Alpha for this fold: 0.0001, Best Fold Score: 0.04673099392087022\n",
      "Train period: 2020-03-12 11:54:00 to 2021-03-16 09:33:00\n",
      "Test period: 2021-03-16 09:34:00 to 2021-09-28 14:42:00\n"
     ]
    },
    {
     "name": "stderr",
     "output_type": "stream",
     "text": [
      "/opt/conda/lib/python3.10/site-packages/sklearn/linear_model/_coordinate_descent.py:631: ConvergenceWarning: Objective did not converge. You might want to increase the number of iterations, check the scale of the features or consider increasing regularisation. Duality gap: 1.973e-01, tolerance: 8.393e-02\n",
      "  model = cd_fast.enet_coordinate_descent(\n"
     ]
    },
    {
     "name": "stdout",
     "output_type": "stream",
     "text": [
      "Selected 62 stocks\n",
      "Best Alpha for this fold: 0.0001, Best Fold Score: 0.03697537962177761\n",
      "Train period: 2020-09-28 10:52:00 to 2021-09-28 14:42:00\n",
      "Test period: 2021-09-28 14:43:00 to 2022-04-12 10:57:00\n",
      "Selected 46 stocks\n",
      "Best Alpha for this fold: 0.0001, Best Fold Score: 0.05170811910494671\n",
      "Train period: 2021-04-12 11:55:00 to 2022-04-12 10:57:00\n",
      "Test period: 2022-04-12 10:58:00 to 2022-10-24 19:14:00\n",
      "Selected 45 stocks\n",
      "Best Alpha for this fold: 0.0001, Best Fold Score: 0.050282910620942416\n",
      "Alpha: 0.005, Average Tracking Error: 0.047665396398025243\n",
      "----------Starting alpha 0.006-------------\n",
      "Train period: 2015-02-02 10:19:00 to 2015-08-25 14:20:00\n",
      "Test period: 2015-08-25 14:21:00 to 2016-04-07 11:40:00\n",
      "Selected 36 stocks\n",
      "Best Alpha for this fold: 0.0001, Best Fold Score: 0.048067031835883386\n",
      "Train period: 2015-02-19 15:12:00 to 2016-04-07 11:40:00\n",
      "Test period: 2016-04-07 11:41:00 to 2016-10-18 12:52:00\n",
      "Selected 40 stocks\n",
      "Best Alpha for this fold: 0.0001, Best Fold Score: 0.03608426723735256\n",
      "Train period: 2015-09-29 11:53:00 to 2016-10-18 12:52:00\n",
      "Test period: 2016-10-18 12:53:00 to 2017-05-02 12:41:00\n",
      "Selected 35 stocks\n",
      "Best Alpha for this fold: 0.0001, Best Fold Score: 0.04373237897403887\n",
      "Train period: 2016-04-29 14:28:00 to 2017-05-02 12:41:00\n",
      "Test period: 2017-05-02 12:42:00 to 2017-11-10 11:24:00\n",
      "Selected 39 stocks\n",
      "Best Alpha for this fold: 0.0001, Best Fold Score: 0.02745944093969368\n",
      "Train period: 2016-11-07 14:17:00 to 2017-11-10 11:24:00\n",
      "Test period: 2017-11-10 11:25:00 to 2018-05-24 10:55:00\n",
      "Selected 38 stocks\n",
      "Best Alpha for this fold: 0.0001, Best Fold Score: 0.037661530451060556\n",
      "Train period: 2017-05-22 09:20:00 to 2018-05-24 10:55:00\n",
      "Test period: 2018-05-24 10:56:00 to 2018-12-06 13:19:00\n",
      "Selected 26 stocks\n",
      "Best Alpha for this fold: 0.0001, Best Fold Score: 0.04193847146067463\n",
      "Train period: 2017-11-29 14:13:00 to 2018-12-06 13:19:00\n",
      "Test period: 2018-12-06 13:20:00 to 2019-07-17 10:21:00\n",
      "Selected 30 stocks\n",
      "Best Alpha for this fold: 0.0001, Best Fold Score: 0.03890129401175866\n",
      "Train period: 2018-06-12 13:54:00 to 2019-07-17 10:21:00\n",
      "Test period: 2019-07-17 10:24:00 to 2020-02-13 11:53:00\n",
      "Selected 32 stocks\n",
      "Best Alpha for this fold: 0.0001, Best Fold Score: 0.04136478057769782\n",
      "Train period: 2018-12-27 13:54:00 to 2020-02-13 11:53:00\n",
      "Test period: 2020-02-13 11:54:00 to 2020-09-01 12:07:00\n",
      "Selected 26 stocks\n",
      "Best Alpha for this fold: 0.0001, Best Fold Score: 0.11933488821244666\n",
      "Train period: 2019-08-07 14:46:00 to 2020-09-01 12:07:00\n",
      "Test period: 2020-09-01 12:08:00 to 2021-03-16 09:33:00\n"
     ]
    },
    {
     "name": "stderr",
     "output_type": "stream",
     "text": [
      "/opt/conda/lib/python3.10/site-packages/sklearn/linear_model/_coordinate_descent.py:631: ConvergenceWarning: Objective did not converge. You might want to increase the number of iterations, check the scale of the features or consider increasing regularisation. Duality gap: 1.228e-01, tolerance: 8.593e-02\n",
      "  model = cd_fast.enet_coordinate_descent(\n"
     ]
    },
    {
     "name": "stdout",
     "output_type": "stream",
     "text": [
      "Selected 55 stocks\n",
      "Best Alpha for this fold: 0.0001, Best Fold Score: 0.04676650965822674\n",
      "Train period: 2020-03-12 11:54:00 to 2021-03-16 09:33:00\n",
      "Test period: 2021-03-16 09:34:00 to 2021-09-28 14:42:00\n"
     ]
    },
    {
     "name": "stderr",
     "output_type": "stream",
     "text": [
      "/opt/conda/lib/python3.10/site-packages/sklearn/linear_model/_coordinate_descent.py:631: ConvergenceWarning: Objective did not converge. You might want to increase the number of iterations, check the scale of the features or consider increasing regularisation. Duality gap: 1.092e-01, tolerance: 8.393e-02\n",
      "  model = cd_fast.enet_coordinate_descent(\n"
     ]
    },
    {
     "name": "stdout",
     "output_type": "stream",
     "text": [
      "Selected 55 stocks\n",
      "Best Alpha for this fold: 0.0001, Best Fold Score: 0.03703545298640226\n",
      "Train period: 2020-09-28 10:52:00 to 2021-09-28 14:42:00\n",
      "Test period: 2021-09-28 14:43:00 to 2022-04-12 10:57:00\n",
      "Selected 36 stocks\n",
      "Best Alpha for this fold: 0.0001, Best Fold Score: 0.0517360443477266\n",
      "Train period: 2021-04-12 11:55:00 to 2022-04-12 10:57:00\n",
      "Test period: 2022-04-12 10:58:00 to 2022-10-24 19:14:00\n",
      "Selected 39 stocks\n",
      "Best Alpha for this fold: 0.0001, Best Fold Score: 0.050338523380531984\n",
      "Alpha: 0.006, Average Tracking Error: 0.047724662621038035\n",
      "----------Starting alpha 0.007-------------\n",
      "Train period: 2015-02-02 10:19:00 to 2015-08-25 14:20:00\n",
      "Test period: 2015-08-25 14:21:00 to 2016-04-07 11:40:00\n",
      "Selected 33 stocks\n",
      "Best Alpha for this fold: 0.0001, Best Fold Score: 0.04809380168014003\n",
      "Train period: 2015-02-19 15:12:00 to 2016-04-07 11:40:00\n",
      "Test period: 2016-04-07 11:41:00 to 2016-10-18 12:52:00\n",
      "Selected 35 stocks\n",
      "Best Alpha for this fold: 0.0001, Best Fold Score: 0.036144576223624436\n",
      "Train period: 2015-09-29 11:53:00 to 2016-10-18 12:52:00\n",
      "Test period: 2016-10-18 12:53:00 to 2017-05-02 12:41:00\n",
      "Selected 30 stocks\n",
      "Best Alpha for this fold: 0.0001, Best Fold Score: 0.04389049695458249\n",
      "Train period: 2016-04-29 14:28:00 to 2017-05-02 12:41:00\n",
      "Test period: 2017-05-02 12:42:00 to 2017-11-10 11:24:00\n",
      "Selected 36 stocks\n",
      "Best Alpha for this fold: 0.0001, Best Fold Score: 0.027458557743456014\n",
      "Train period: 2016-11-07 14:17:00 to 2017-11-10 11:24:00\n",
      "Test period: 2017-11-10 11:25:00 to 2018-05-24 10:55:00\n",
      "Selected 35 stocks\n",
      "Best Alpha for this fold: 0.0001, Best Fold Score: 0.037682484831205565\n",
      "Train period: 2017-05-22 09:20:00 to 2018-05-24 10:55:00\n",
      "Test period: 2018-05-24 10:56:00 to 2018-12-06 13:19:00\n",
      "Selected 25 stocks\n",
      "Best Alpha for this fold: 0.0001, Best Fold Score: 0.041921274422554965\n",
      "Train period: 2017-11-29 14:13:00 to 2018-12-06 13:19:00\n",
      "Test period: 2018-12-06 13:20:00 to 2019-07-17 10:21:00\n",
      "Selected 28 stocks\n",
      "Best Alpha for this fold: 0.0001, Best Fold Score: 0.03892873090128595\n",
      "Train period: 2018-06-12 13:54:00 to 2019-07-17 10:21:00\n",
      "Test period: 2019-07-17 10:24:00 to 2020-02-13 11:53:00\n",
      "Selected 27 stocks\n",
      "Best Alpha for this fold: 0.0001, Best Fold Score: 0.04143536226022787\n",
      "Train period: 2018-12-27 13:54:00 to 2020-02-13 11:53:00\n",
      "Test period: 2020-02-13 11:54:00 to 2020-09-01 12:07:00\n",
      "Selected 22 stocks\n",
      "Best Alpha for this fold: 0.0001, Best Fold Score: 0.11992150523282943\n",
      "Train period: 2019-08-07 14:46:00 to 2020-09-01 12:07:00\n",
      "Test period: 2020-09-01 12:08:00 to 2021-03-16 09:33:00\n",
      "Selected 49 stocks\n",
      "Best Alpha for this fold: 0.0001, Best Fold Score: 0.046877097914372515\n",
      "Train period: 2020-03-12 11:54:00 to 2021-03-16 09:33:00\n",
      "Test period: 2021-03-16 09:34:00 to 2021-09-28 14:42:00\n",
      "Selected 52 stocks\n",
      "Best Alpha for this fold: 0.0001, Best Fold Score: 0.037042668597137694\n",
      "Train period: 2020-09-28 10:52:00 to 2021-09-28 14:42:00\n",
      "Test period: 2021-09-28 14:43:00 to 2022-04-12 10:57:00\n",
      "Selected 31 stocks\n",
      "Best Alpha for this fold: 0.0001, Best Fold Score: 0.051718653936884684\n",
      "Train period: 2021-04-12 11:55:00 to 2022-04-12 10:57:00\n",
      "Test period: 2022-04-12 10:58:00 to 2022-10-24 19:14:00\n",
      "Selected 35 stocks\n",
      "Best Alpha for this fold: 0.0001, Best Fold Score: 0.05037590507224798\n",
      "Alpha: 0.007, Average Tracking Error: 0.04780700890542689\n",
      "----------Starting alpha 0.008-------------\n",
      "Train period: 2015-02-02 10:19:00 to 2015-08-25 14:20:00\n",
      "Test period: 2015-08-25 14:21:00 to 2016-04-07 11:40:00\n",
      "Selected 30 stocks\n",
      "Best Alpha for this fold: 0.0001, Best Fold Score: 0.048146312414136576\n",
      "Train period: 2015-02-19 15:12:00 to 2016-04-07 11:40:00\n",
      "Test period: 2016-04-07 11:41:00 to 2016-10-18 12:52:00\n",
      "Selected 30 stocks\n",
      "Best Alpha for this fold: 0.0001, Best Fold Score: 0.03618371905598852\n",
      "Train period: 2015-09-29 11:53:00 to 2016-10-18 12:52:00\n",
      "Test period: 2016-10-18 12:53:00 to 2017-05-02 12:41:00\n",
      "Selected 27 stocks\n",
      "Best Alpha for this fold: 0.0001, Best Fold Score: 0.04398883734235232\n",
      "Train period: 2016-04-29 14:28:00 to 2017-05-02 12:41:00\n",
      "Test period: 2017-05-02 12:42:00 to 2017-11-10 11:24:00\n",
      "Selected 36 stocks\n",
      "Best Alpha for this fold: 0.0001, Best Fold Score: 0.027458557743456014\n",
      "Train period: 2016-11-07 14:17:00 to 2017-11-10 11:24:00\n",
      "Test period: 2017-11-10 11:25:00 to 2018-05-24 10:55:00\n",
      "Selected 31 stocks\n",
      "Best Alpha for this fold: 0.0001, Best Fold Score: 0.03772218397491842\n",
      "Train period: 2017-05-22 09:20:00 to 2018-05-24 10:55:00\n",
      "Test period: 2018-05-24 10:56:00 to 2018-12-06 13:19:00\n",
      "Selected 23 stocks\n",
      "Best Alpha for this fold: 0.0001, Best Fold Score: 0.04210309519721929\n",
      "Train period: 2017-11-29 14:13:00 to 2018-12-06 13:19:00\n",
      "Test period: 2018-12-06 13:20:00 to 2019-07-17 10:21:00\n",
      "Selected 26 stocks\n",
      "Best Alpha for this fold: 0.0001, Best Fold Score: 0.03893355765234793\n",
      "Train period: 2018-06-12 13:54:00 to 2019-07-17 10:21:00\n",
      "Test period: 2019-07-17 10:24:00 to 2020-02-13 11:53:00\n",
      "Selected 22 stocks\n",
      "Best Alpha for this fold: 0.0001, Best Fold Score: 0.0414737298303441\n",
      "Train period: 2018-12-27 13:54:00 to 2020-02-13 11:53:00\n",
      "Test period: 2020-02-13 11:54:00 to 2020-09-01 12:07:00\n",
      "Selected 20 stocks\n",
      "Best Alpha for this fold: 0.0001, Best Fold Score: 0.11996516977074914\n",
      "Train period: 2019-08-07 14:46:00 to 2020-09-01 12:07:00\n",
      "Test period: 2020-09-01 12:08:00 to 2021-03-16 09:33:00\n",
      "Selected 45 stocks\n",
      "Best Alpha for this fold: 0.0001, Best Fold Score: 0.04692781539496452\n",
      "Train period: 2020-03-12 11:54:00 to 2021-03-16 09:33:00\n",
      "Test period: 2021-03-16 09:34:00 to 2021-09-28 14:42:00\n",
      "Selected 50 stocks\n",
      "Best Alpha for this fold: 0.0001, Best Fold Score: 0.037052163327936136\n",
      "Train period: 2020-09-28 10:52:00 to 2021-09-28 14:42:00\n",
      "Test period: 2021-09-28 14:43:00 to 2022-04-12 10:57:00\n",
      "Selected 27 stocks\n",
      "Best Alpha for this fold: 0.0001, Best Fold Score: 0.05180909940370756\n",
      "Train period: 2021-04-12 11:55:00 to 2022-04-12 10:57:00\n",
      "Test period: 2022-04-12 10:58:00 to 2022-10-24 19:14:00\n",
      "Selected 33 stocks\n",
      "Best Alpha for this fold: 0.0001, Best Fold Score: 0.05037577359030235\n",
      "Alpha: 0.008, Average Tracking Error: 0.04785692420757099\n",
      "----------Starting alpha 0.009-------------\n",
      "Train period: 2015-02-02 10:19:00 to 2015-08-25 14:20:00\n",
      "Test period: 2015-08-25 14:21:00 to 2016-04-07 11:40:00\n",
      "Selected 25 stocks\n",
      "Best Alpha for this fold: 0.0001, Best Fold Score: 0.048315909135615134\n",
      "Train period: 2015-02-19 15:12:00 to 2016-04-07 11:40:00\n",
      "Test period: 2016-04-07 11:41:00 to 2016-10-18 12:52:00\n",
      "Selected 26 stocks\n",
      "Best Alpha for this fold: 0.0001, Best Fold Score: 0.03624051679341168\n",
      "Train period: 2015-09-29 11:53:00 to 2016-10-18 12:52:00\n",
      "Test period: 2016-10-18 12:53:00 to 2017-05-02 12:41:00\n",
      "Selected 25 stocks\n",
      "Best Alpha for this fold: 0.0001, Best Fold Score: 0.04400506420195082\n",
      "Train period: 2016-04-29 14:28:00 to 2017-05-02 12:41:00\n",
      "Test period: 2017-05-02 12:42:00 to 2017-11-10 11:24:00\n",
      "Selected 30 stocks\n",
      "Best Alpha for this fold: 0.0001, Best Fold Score: 0.027512699196346083\n",
      "Train period: 2016-11-07 14:17:00 to 2017-11-10 11:24:00\n",
      "Test period: 2017-11-10 11:25:00 to 2018-05-24 10:55:00\n",
      "Selected 25 stocks\n",
      "Best Alpha for this fold: 0.0001, Best Fold Score: 0.037774364971962855\n",
      "Train period: 2017-05-22 09:20:00 to 2018-05-24 10:55:00\n",
      "Test period: 2018-05-24 10:56:00 to 2018-12-06 13:19:00\n",
      "Selected 21 stocks\n",
      "Best Alpha for this fold: 0.0001, Best Fold Score: 0.0422589929207411\n",
      "Train period: 2017-11-29 14:13:00 to 2018-12-06 13:19:00\n",
      "Test period: 2018-12-06 13:20:00 to 2019-07-17 10:21:00\n",
      "Selected 26 stocks\n",
      "Best Alpha for this fold: 0.0001, Best Fold Score: 0.03893355765234793\n",
      "Train period: 2018-06-12 13:54:00 to 2019-07-17 10:21:00\n",
      "Test period: 2019-07-17 10:24:00 to 2020-02-13 11:53:00\n",
      "Selected 21 stocks\n",
      "Best Alpha for this fold: 0.0001, Best Fold Score: 0.0415389687919847\n",
      "Train period: 2018-12-27 13:54:00 to 2020-02-13 11:53:00\n",
      "Test period: 2020-02-13 11:54:00 to 2020-09-01 12:07:00\n",
      "Selected 20 stocks\n",
      "Best Alpha for this fold: 0.0001, Best Fold Score: 0.11996516977074914\n",
      "Train period: 2019-08-07 14:46:00 to 2020-09-01 12:07:00\n",
      "Test period: 2020-09-01 12:08:00 to 2021-03-16 09:33:00\n",
      "Selected 43 stocks\n",
      "Best Alpha for this fold: 0.0001, Best Fold Score: 0.04695150920384311\n",
      "Train period: 2020-03-12 11:54:00 to 2021-03-16 09:33:00\n",
      "Test period: 2021-03-16 09:34:00 to 2021-09-28 14:42:00\n",
      "Selected 44 stocks\n",
      "Best Alpha for this fold: 0.0001, Best Fold Score: 0.037073551705000304\n",
      "Train period: 2020-09-28 10:52:00 to 2021-09-28 14:42:00\n",
      "Test period: 2021-09-28 14:43:00 to 2022-04-12 10:57:00\n",
      "Selected 24 stocks\n",
      "Best Alpha for this fold: 0.0001, Best Fold Score: 0.05178946780692281\n",
      "Train period: 2021-04-12 11:55:00 to 2022-04-12 10:57:00\n",
      "Test period: 2022-04-12 10:58:00 to 2022-10-24 19:14:00\n",
      "Selected 27 stocks\n",
      "Best Alpha for this fold: 0.0001, Best Fold Score: 0.050384114112394775\n",
      "Alpha: 0.009, Average Tracking Error: 0.047903375866405425\n"
     ]
    },
    {
     "data": {
      "image/png": "[encoded data removed]",
      "text/plain": [
       "<Figure size 640x480 with 2 Axes>"
      ]
     },
     "metadata": {},
     "output_type": "display_data"
    }
   ],
   "source": [
    "Lasso_Lasso_plot(X,y)"
   ]
  },
  {
   "cell_type": "code",
   "execution_count": 30,
   "id": "cab2f3d9",
   "metadata": {
    "execution": {
     "iopub.execute_input": "2024-12-11T19:05:33.321095Z",
     "iopub.status.busy": "2024-12-11T19:05:33.320222Z",
     "iopub.status.idle": "2024-12-11T20:29:07.339657Z",
     "shell.execute_reply": "2024-12-11T20:29:07.338645Z"
    },
    "papermill": {
     "duration": 5014.044002,
     "end_time": "2024-12-11T20:29:07.341846",
     "exception": false,
     "start_time": "2024-12-11T19:05:33.297844",
     "status": "completed"
    },
    "tags": []
   },
   "outputs": [
    {
     "name": "stdout",
     "output_type": "stream",
     "text": [
      "Starting percentile: 0.0\n",
      "Percentile: 0.0, Tracking Error: 0.04740712818342317, Adj Tracking Error: 0.04740712895294234\n",
      "Starting percentile: 0.1\n",
      "Percentile: 0.1, Tracking Error: 0.047421628731609565, Adj Tracking Error: 0.0474216294977287\n",
      "Starting percentile: 0.2\n",
      "Percentile: 0.2, Tracking Error: 0.047449108854724455, Adj Tracking Error: 0.047449109611777854\n",
      "Starting percentile: 0.3\n",
      "Percentile: 0.3, Tracking Error: 0.04749179663664328, Adj Tracking Error: 0.04749179738461939\n",
      "Starting percentile: 0.4\n",
      "Percentile: 0.4, Tracking Error: 0.04750605496267556, Adj Tracking Error: 0.04750605566788162\n",
      "Starting percentile: 0.5\n",
      "Percentile: 0.5, Tracking Error: 0.047526576361481686, Adj Tracking Error: 0.047526577032892266\n",
      "Starting percentile: 0.6\n",
      "Percentile: 0.6, Tracking Error: 0.04764529333910721, Adj Tracking Error: 0.047645293970003916\n"
     ]
    },
    {
     "data": {
      "image/png": "[encoded data removed]",
      "text/plain": [
       "<Figure size 640x480 with 1 Axes>"
      ]
     },
     "metadata": {},
     "output_type": "display_data"
    }
   ],
   "source": [
    "MI_Lasso_plot(X,y)"
   ]
  },
  {
   "cell_type": "code",
   "execution_count": 31,
   "id": "ecac90bf",
   "metadata": {
    "execution": {
     "iopub.execute_input": "2024-12-11T20:29:07.389647Z",
     "iopub.status.busy": "2024-12-11T20:29:07.389255Z",
     "iopub.status.idle": "2024-12-11T22:13:54.346688Z",
     "shell.execute_reply": "2024-12-11T22:13:54.345656Z"
    },
    "papermill": {
     "duration": 6286.984413,
     "end_time": "2024-12-11T22:13:54.348828",
     "exception": false,
     "start_time": "2024-12-11T20:29:07.364415",
     "status": "completed"
    },
    "tags": []
   },
   "outputs": [
    {
     "name": "stdout",
     "output_type": "stream",
     "text": [
      "Starting percentile: 0.0\n",
      "Percentile: 0.0, Tracking Error: 0.04737310293178804, Adj Tracking Error: 0.04737310370978785\n",
      "Starting percentile: 0.1\n",
      "Percentile: 0.1, Tracking Error: 0.04739030059444378, Adj Tracking Error: 0.04739030136609583\n",
      "Starting percentile: 0.2\n",
      "Percentile: 0.2, Tracking Error: 0.04741759150368855, Adj Tracking Error: 0.04741759226825459\n",
      "Starting percentile: 0.3\n",
      "Percentile: 0.3, Tracking Error: 0.04746567544934325, Adj Tracking Error: 0.04746567620245705\n",
      "Starting percentile: 0.4\n",
      "Percentile: 0.4, Tracking Error: 0.0474787405669045, Adj Tracking Error: 0.04747874127702338\n",
      "Starting percentile: 0.5\n",
      "Percentile: 0.5, Tracking Error: 0.04750185969991523, Adj Tracking Error: 0.047501860376180885\n",
      "Starting percentile: 0.6\n",
      "Percentile: 0.6, Tracking Error: 0.047622437861658456, Adj Tracking Error: 0.047622438496416154\n"
     ]
    },
    {
     "data": {
      "image/png": "[encoded data removed]",
      "text/plain": [
       "<Figure size 640x480 with 1 Axes>"
      ]
     },
     "metadata": {},
     "output_type": "display_data"
    }
   ],
   "source": [
    "MI_ElasticNet_plot(X,y)"
   ]
  },
  {
   "cell_type": "code",
   "execution_count": 32,
   "id": "a20749b8",
   "metadata": {
    "execution": {
     "iopub.execute_input": "2024-12-11T22:13:54.397408Z",
     "iopub.status.busy": "2024-12-11T22:13:54.396657Z",
     "iopub.status.idle": "2024-12-12T01:55:46.688311Z",
     "shell.execute_reply": "2024-12-12T01:55:46.687451Z"
    },
    "papermill": {
     "duration": 13312.318245,
     "end_time": "2024-12-12T01:55:46.690614",
     "exception": false,
     "start_time": "2024-12-11T22:13:54.372369",
     "status": "completed"
    },
    "tags": []
   },
   "outputs": [
    {
     "name": "stdout",
     "output_type": "stream",
     "text": [
      "Starting percentile: 0.1\n",
      "Percentile: 0.1, Tracking Error: 0.04658781853638328, Adj Tracking Error: 0.04658781863173941\n",
      "Starting percentile: 0.2\n",
      "Percentile: 0.2, Tracking Error: 0.046671562707594205, Adj Tracking Error: 0.046671564432531634\n",
      "Starting percentile: 0.3\n",
      "Percentile: 0.3, Tracking Error: 0.04679329667870978, Adj Tracking Error: 0.046793298078263344\n",
      "Starting percentile: 0.4\n",
      "Percentile: 0.4, Tracking Error: 0.04676531589731216, Adj Tracking Error: 0.04676531654782294\n",
      "Starting percentile: 0.5\n",
      "Percentile: 0.5, Tracking Error: 0.046840162208161354, Adj Tracking Error: 0.04684016303137713\n",
      "Starting percentile: 0.6\n",
      "Percentile: 0.6, Tracking Error: 0.04698358273738501, Adj Tracking Error: 0.04698358369990541\n",
      "Starting percentile: 0.7\n",
      "Percentile: 0.7, Tracking Error: 0.04716724466052576, Adj Tracking Error: 0.04716724515036868\n",
      "Starting percentile: 0.8\n",
      "Percentile: 0.8, Tracking Error: 0.04723675433671101, Adj Tracking Error: 0.04723675659567639\n"
     ]
    },
    {
     "data": {
      "image/png": "[encoded data removed]",
      "text/plain": [
       "<Figure size 640x480 with 1 Axes>"
      ]
     },
     "metadata": {},
     "output_type": "display_data"
    }
   ],
   "source": [
    "MI_XGBoost_plot(X,y)"
   ]
  }
 ],
 "metadata": {
  "kaggle": {
   "accelerator": "none",
   "dataSources": [
    {
     "datasetId": 6024843,
     "sourceId": 9824880,
     "sourceType": "datasetVersion"
    },
    {
     "datasetId": 2401195,
     "sourceId": 9867252,
     "sourceType": "datasetVersion"
    },
    {
     "datasetId": 2490157,
     "sourceId": 9876776,
     "sourceType": "datasetVersion"
    }
   ],
   "dockerImageVersionId": 30786,
   "isGpuEnabled": false,
   "isInternetEnabled": true,
   "language": "python",
   "sourceType": "notebook"
  },
  "kernelspec": {
   "display_name": "Python 3",
   "language": "python",
   "name": "python3"
  },
  "language_info": {
   "codemirror_mode": {
    "name": "ipython",
    "version": 3
   },
   "file_extension": ".py",
   "mimetype": "text/x-python",
   "name": "python",
   "nbconvert_exporter": "python",
   "pygments_lexer": "ipython3",
   "version": "3.10.14"
  },
  "papermill": {
   "default_parameters": {},
   "duration": 25173.283995,
   "end_time": "2024-12-12T01:55:47.475001",
   "environment_variables": {},
   "exception": null,
   "input_path": "__notebook__.ipynb",
   "output_path": "__notebook__.ipynb",
   "parameters": {},
   "start_time": "2024-12-11T18:56:14.191006",
   "version": "2.6.0"
  }
 },
 "nbformat": 4,
 "nbformat_minor": 5
}
