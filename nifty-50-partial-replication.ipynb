{
 "cells": [
  {
   "cell_type": "markdown",
   "id": "81b17750",
   "metadata": {
    "_cell_guid": "b1076dfc-b9ad-4769-8c92-a6c4dae69d19",
    "_uuid": "8f2839f25d086af736a60e9eeb907d3b93b6e0e5",
    "papermill": {
     "duration": 0.00615,
     "end_time": "2024-11-23T20:07:36.395716",
     "exception": false,
     "start_time": "2024-11-23T20:07:36.389566",
     "status": "completed"
    },
    "tags": []
   },
   "source": [
    "# Nifty 50 Partial Replication"
   ]
  },
  {
   "cell_type": "code",
   "execution_count": 1,
   "id": "04e2223d",
   "metadata": {
    "execution": {
     "iopub.execute_input": "2024-11-23T20:07:36.408269Z",
     "iopub.status.busy": "2024-11-23T20:07:36.407468Z",
     "iopub.status.idle": "2024-11-23T20:07:39.213902Z",
     "shell.execute_reply": "2024-11-23T20:07:39.213092Z"
    },
    "papermill": {
     "duration": 2.814994,
     "end_time": "2024-11-23T20:07:39.216082",
     "exception": false,
     "start_time": "2024-11-23T20:07:36.401088",
     "status": "completed"
    },
    "tags": []
   },
   "outputs": [],
   "source": [
    "import pandas as pd\n",
    "import numpy as np\n",
    "from sklearn.model_selection import train_test_split\n",
    "from sklearn.linear_model import Lasso\n",
    "from sklearn.metrics import mean_squared_error, r2_score, make_scorer\n",
    "from sklearn.model_selection import cross_val_score, TimeSeriesSplit\n",
    "from sklearn.linear_model import LassoCV\n",
    "import matplotlib.pyplot as plt\n",
    "import os\n",
    "import glob\n",
    "from tqdm import tqdm\n",
    "import warnings\n",
    "from sklearn.ensemble import RandomForestRegressor\n",
    "from sklearn.exceptions import ConvergenceWarning\n",
    "warnings.filterwarnings(\"ignore\")\n",
    "warnings.filterwarnings(\"always\", category=ConvergenceWarning)\n",
    "import seaborn as sns\n",
    "\n",
    "import xgboost as xgb\n",
    "from sklearn.feature_selection import SelectFromModel,mutual_info_regression"
   ]
  },
  {
   "cell_type": "code",
   "execution_count": 2,
   "id": "d704f128",
   "metadata": {
    "execution": {
     "iopub.execute_input": "2024-11-23T20:07:39.227756Z",
     "iopub.status.busy": "2024-11-23T20:07:39.227287Z",
     "iopub.status.idle": "2024-11-23T20:07:39.232452Z",
     "shell.execute_reply": "2024-11-23T20:07:39.231533Z"
    },
    "papermill": {
     "duration": 0.013159,
     "end_time": "2024-11-23T20:07:39.234466",
     "exception": false,
     "start_time": "2024-11-23T20:07:39.221307",
     "status": "completed"
    },
    "tags": []
   },
   "outputs": [],
   "source": [
    "def tracking_error(y_true, y_pred):\n",
    "    # Convert y_true and y_pred to pandas Series for easy handling of pct_change()\n",
    "    y_true = pd.Series(y_true)\n",
    "    y_pred = pd.Series(y_pred)\n",
    "    \n",
    "    # Calculate percentage change for true values and predictions\n",
    "    # pct_change_true = y_true.pct_change() * 100\n",
    "    # pct_change_pred = y_pred.pct_change() * 100\n",
    "    \n",
    "    # Calculate the difference between the percentage changes\n",
    "    diff_pct_change = y_true - y_pred    \n",
    "    \n",
    "    # Return the standard deviation of the differences (tracking error)\n",
    "    return np.std(diff_pct_change.dropna())  # dropna() to avoid NaN values in pct_change"
   ]
  },
  {
   "cell_type": "code",
   "execution_count": 3,
   "id": "fb53de23",
   "metadata": {
    "execution": {
     "iopub.execute_input": "2024-11-23T20:07:39.246019Z",
     "iopub.status.busy": "2024-11-23T20:07:39.245662Z",
     "iopub.status.idle": "2024-11-23T20:07:39.250704Z",
     "shell.execute_reply": "2024-11-23T20:07:39.249740Z"
    },
    "papermill": {
     "duration": 0.013057,
     "end_time": "2024-11-23T20:07:39.252623",
     "exception": false,
     "start_time": "2024-11-23T20:07:39.239566",
     "status": "completed"
    },
    "tags": []
   },
   "outputs": [],
   "source": [
    "def adj_tracking_error(y_true, X_test, model):\n",
    "    cost = 0.001  # 0.1% cost\n",
    "    X_test_adjusted = X_test.copy()\n",
    "    X_test_adjusted[0, :] -= cost  # Subtract cost from the first return of each stock\n",
    "\n",
    "    # Predict with adjustment\n",
    "    y_pred_adjusted = model.predict(X_test_adjusted)\n",
    "    return tracking_error(y_true, y_pred_adjusted)"
   ]
  },
  {
   "cell_type": "markdown",
   "id": "936dd517",
   "metadata": {
    "papermill": {
     "duration": 0.004667,
     "end_time": "2024-11-23T20:07:39.262412",
     "exception": false,
     "start_time": "2024-11-23T20:07:39.257745",
     "status": "completed"
    },
    "tags": []
   },
   "source": [
    "## Data"
   ]
  },
  {
   "cell_type": "code",
   "execution_count": 4,
   "id": "df1e444b",
   "metadata": {
    "execution": {
     "iopub.execute_input": "2024-11-23T20:07:39.274922Z",
     "iopub.status.busy": "2024-11-23T20:07:39.274106Z",
     "iopub.status.idle": "2024-11-23T20:07:39.278275Z",
     "shell.execute_reply": "2024-11-23T20:07:39.277376Z"
    },
    "papermill": {
     "duration": 0.012107,
     "end_time": "2024-11-23T20:07:39.280319",
     "exception": false,
     "start_time": "2024-11-23T20:07:39.268212",
     "status": "completed"
    },
    "tags": []
   },
   "outputs": [],
   "source": [
    "# directory_path = '/kaggle/input/stock-market-data-nifty-50-stocks-1-min-data'\n",
    "# pattern = os.path.join(directory_path, \"*.csv\")  # Change \"*.csv\" to match other patterns if needed\n",
    "\n",
    "# Get the list of files that match the pattern\n",
    "# file_list = glob.glob(pattern)"
   ]
  },
  {
   "cell_type": "code",
   "execution_count": 5,
   "id": "7baa0e01",
   "metadata": {
    "execution": {
     "iopub.execute_input": "2024-11-23T20:07:39.291745Z",
     "iopub.status.busy": "2024-11-23T20:07:39.290894Z",
     "iopub.status.idle": "2024-11-23T20:07:39.296383Z",
     "shell.execute_reply": "2024-11-23T20:07:39.295481Z"
    },
    "papermill": {
     "duration": 0.012945,
     "end_time": "2024-11-23T20:07:39.298145",
     "exception": false,
     "start_time": "2024-11-23T20:07:39.285200",
     "status": "completed"
    },
    "tags": []
   },
   "outputs": [],
   "source": [
    "def fetch_data(cols):\n",
    "    df_list = []\n",
    "    for file in tqdm(file_list):\n",
    "        stock_name = os.path.basename(file).split(\"_\")[0]\n",
    "        file_df = pd.read_csv(file, index_col=0)\n",
    "        file_df = file_df[[cols]]\n",
    "        file_df.columns = pd.MultiIndex.from_product([[stock_name], file_df.columns])\n",
    "        df_list.append(file_df)\n",
    "    return pd.concat(df_list, axis=1)"
   ]
  },
  {
   "cell_type": "code",
   "execution_count": 6,
   "id": "6f46817c",
   "metadata": {
    "execution": {
     "iopub.execute_input": "2024-11-23T20:07:39.309258Z",
     "iopub.status.busy": "2024-11-23T20:07:39.308640Z",
     "iopub.status.idle": "2024-11-23T20:07:39.312583Z",
     "shell.execute_reply": "2024-11-23T20:07:39.311606Z"
    },
    "papermill": {
     "duration": 0.011434,
     "end_time": "2024-11-23T20:07:39.314353",
     "exception": false,
     "start_time": "2024-11-23T20:07:39.302919",
     "status": "completed"
    },
    "tags": []
   },
   "outputs": [],
   "source": [
    "# df = fetch_data('close')\n",
    "# df.to_csv('/kaggle/input/nifty_50_closing.csv')"
   ]
  },
  {
   "cell_type": "code",
   "execution_count": 7,
   "id": "25a1a0e2",
   "metadata": {
    "execution": {
     "iopub.execute_input": "2024-11-23T20:07:39.325437Z",
     "iopub.status.busy": "2024-11-23T20:07:39.324893Z",
     "iopub.status.idle": "2024-11-23T20:07:57.199001Z",
     "shell.execute_reply": "2024-11-23T20:07:57.197799Z"
    },
    "papermill": {
     "duration": 17.88188,
     "end_time": "2024-11-23T20:07:57.201154",
     "exception": false,
     "start_time": "2024-11-23T20:07:39.319274",
     "status": "completed"
    },
    "tags": []
   },
   "outputs": [
    {
     "name": "stdout",
     "output_type": "stream",
     "text": [
      "Number of rows with NaN values: 639555\n"
     ]
    }
   ],
   "source": [
    "df = pd.read_csv('/kaggle/input/nifty-50-closing-data/nifty_50_closing.csv', index_col=0, header=[0, 1])\n",
    "df = df.xs('close', level=1, axis=1)\n",
    "df.index = pd.to_datetime(df.index)\n",
    "\n",
    "nan_rows = df.isna().any(axis=1)\n",
    "\n",
    "# Get the number of rows with NaN values\n",
    "num_nan_rows = nan_rows.sum()\n",
    "\n",
    "print(f\"Number of rows with NaN values: {num_nan_rows}\")"
   ]
  },
  {
   "cell_type": "code",
   "execution_count": 8,
   "id": "8e93c90f",
   "metadata": {
    "execution": {
     "iopub.execute_input": "2024-11-23T20:07:57.213511Z",
     "iopub.status.busy": "2024-11-23T20:07:57.212807Z",
     "iopub.status.idle": "2024-11-23T20:07:58.972442Z",
     "shell.execute_reply": "2024-11-23T20:07:58.971372Z"
    },
    "papermill": {
     "duration": 1.768445,
     "end_time": "2024-11-23T20:07:58.974934",
     "exception": false,
     "start_time": "2024-11-23T20:07:57.206489",
     "status": "completed"
    },
    "tags": []
   },
   "outputs": [],
   "source": [
    "nifty_100_closing = pd.read_csv('/kaggle/input/nifty-50-minute-data/NIFTY 100_minute.csv', index_col=0)[['close']]\n",
    "nifty_100_closing.index = pd.to_datetime(nifty_100_closing.index)\n",
    "nifty_100_closing.rename(columns={'close': 'NIFTY_100'}, inplace=True)"
   ]
  },
  {
   "cell_type": "code",
   "execution_count": 9,
   "id": "19238136",
   "metadata": {
    "execution": {
     "iopub.execute_input": "2024-11-23T20:07:58.987006Z",
     "iopub.status.busy": "2024-11-23T20:07:58.986607Z",
     "iopub.status.idle": "2024-11-23T20:07:58.991689Z",
     "shell.execute_reply": "2024-11-23T20:07:58.990609Z"
    },
    "papermill": {
     "duration": 0.013528,
     "end_time": "2024-11-23T20:07:58.993811",
     "exception": false,
     "start_time": "2024-11-23T20:07:58.980283",
     "status": "completed"
    },
    "tags": []
   },
   "outputs": [
    {
     "name": "stdout",
     "output_type": "stream",
     "text": [
      "Index type for df1: <class 'pandas.core.indexes.datetimes.DatetimeIndex'>\n",
      "Index type for df2: <class 'pandas.core.indexes.datetimes.DatetimeIndex'>\n"
     ]
    }
   ],
   "source": [
    "print(f\"Index type for df1: {type(df.index)}\")\n",
    "print(f\"Index type for df2: {type(nifty_100_closing.index)}\")"
   ]
  },
  {
   "cell_type": "code",
   "execution_count": 10,
   "id": "9483c9c4",
   "metadata": {
    "execution": {
     "iopub.execute_input": "2024-11-23T20:07:59.005540Z",
     "iopub.status.busy": "2024-11-23T20:07:59.005005Z",
     "iopub.status.idle": "2024-11-23T20:08:00.313980Z",
     "shell.execute_reply": "2024-11-23T20:08:00.313023Z"
    },
    "papermill": {
     "duration": 1.316969,
     "end_time": "2024-11-23T20:08:00.315910",
     "exception": false,
     "start_time": "2024-11-23T20:07:58.998941",
     "status": "completed"
    },
    "tags": []
   },
   "outputs": [
    {
     "name": "stdout",
     "output_type": "stream",
     "text": [
      "Number of rows with 0.0 values: 37286\n",
      "Total rows 677188\n"
     ]
    },
    {
     "data": {
      "text/html": [
       "<div>\n",
       "<style scoped>\n",
       "    .dataframe tbody tr th:only-of-type {\n",
       "        vertical-align: middle;\n",
       "    }\n",
       "\n",
       "    .dataframe tbody tr th {\n",
       "        vertical-align: top;\n",
       "    }\n",
       "\n",
       "    .dataframe thead th {\n",
       "        text-align: right;\n",
       "    }\n",
       "</style>\n",
       "<table border=\"1\" class=\"dataframe\">\n",
       "  <thead>\n",
       "    <tr style=\"text-align: right;\">\n",
       "      <th></th>\n",
       "      <th>APOLLOHOSP</th>\n",
       "      <th>BOSCHLTD</th>\n",
       "      <th>INDUSTOWER</th>\n",
       "      <th>BERGEPAINT</th>\n",
       "      <th>MARICO</th>\n",
       "      <th>SBIN</th>\n",
       "      <th>SUNPHARMA</th>\n",
       "      <th>COALINDIA</th>\n",
       "      <th>WIPRO</th>\n",
       "      <th>BAJAJ-AUTO</th>\n",
       "      <th>...</th>\n",
       "      <th>BIOCON</th>\n",
       "      <th>DABUR</th>\n",
       "      <th>SAIL</th>\n",
       "      <th>BRITANNIA</th>\n",
       "      <th>ADANIPORTS</th>\n",
       "      <th>ONGC</th>\n",
       "      <th>EICHERMOT</th>\n",
       "      <th>TECHM</th>\n",
       "      <th>JINDALSTEL</th>\n",
       "      <th>HEROMOTOCO</th>\n",
       "    </tr>\n",
       "    <tr>\n",
       "      <th>date</th>\n",
       "      <th></th>\n",
       "      <th></th>\n",
       "      <th></th>\n",
       "      <th></th>\n",
       "      <th></th>\n",
       "      <th></th>\n",
       "      <th></th>\n",
       "      <th></th>\n",
       "      <th></th>\n",
       "      <th></th>\n",
       "      <th></th>\n",
       "      <th></th>\n",
       "      <th></th>\n",
       "      <th></th>\n",
       "      <th></th>\n",
       "      <th></th>\n",
       "      <th></th>\n",
       "      <th></th>\n",
       "      <th></th>\n",
       "      <th></th>\n",
       "      <th></th>\n",
       "    </tr>\n",
       "  </thead>\n",
       "  <tbody>\n",
       "    <tr>\n",
       "      <th>2018-08-06 10:47:00</th>\n",
       "      <td>974.3</td>\n",
       "      <td>19187.45</td>\n",
       "      <td>290.0</td>\n",
       "      <td>316.85</td>\n",
       "      <td>357.95</td>\n",
       "      <td>306.70</td>\n",
       "      <td>579.65</td>\n",
       "      <td>282.05</td>\n",
       "      <td>207.93</td>\n",
       "      <td>2695.00</td>\n",
       "      <td>...</td>\n",
       "      <td>287.40</td>\n",
       "      <td>435.30</td>\n",
       "      <td>79.35</td>\n",
       "      <td>3194.92</td>\n",
       "      <td>400.70</td>\n",
       "      <td>167.75</td>\n",
       "      <td>2711.3</td>\n",
       "      <td>670.45</td>\n",
       "      <td>207.65</td>\n",
       "      <td>3259.0</td>\n",
       "    </tr>\n",
       "    <tr>\n",
       "      <th>2018-08-06 10:48:00</th>\n",
       "      <td>973.7</td>\n",
       "      <td>19187.45</td>\n",
       "      <td>290.0</td>\n",
       "      <td>316.50</td>\n",
       "      <td>357.55</td>\n",
       "      <td>306.70</td>\n",
       "      <td>579.30</td>\n",
       "      <td>282.05</td>\n",
       "      <td>207.93</td>\n",
       "      <td>2695.00</td>\n",
       "      <td>...</td>\n",
       "      <td>287.75</td>\n",
       "      <td>435.15</td>\n",
       "      <td>79.30</td>\n",
       "      <td>3193.02</td>\n",
       "      <td>400.55</td>\n",
       "      <td>167.55</td>\n",
       "      <td>2710.6</td>\n",
       "      <td>670.55</td>\n",
       "      <td>207.80</td>\n",
       "      <td>3260.6</td>\n",
       "    </tr>\n",
       "    <tr>\n",
       "      <th>2018-08-06 10:49:00</th>\n",
       "      <td>973.7</td>\n",
       "      <td>19187.45</td>\n",
       "      <td>290.0</td>\n",
       "      <td>316.85</td>\n",
       "      <td>357.20</td>\n",
       "      <td>306.75</td>\n",
       "      <td>579.45</td>\n",
       "      <td>282.00</td>\n",
       "      <td>207.97</td>\n",
       "      <td>2697.95</td>\n",
       "      <td>...</td>\n",
       "      <td>287.95</td>\n",
       "      <td>435.70</td>\n",
       "      <td>79.30</td>\n",
       "      <td>3192.50</td>\n",
       "      <td>400.30</td>\n",
       "      <td>167.55</td>\n",
       "      <td>2709.8</td>\n",
       "      <td>670.65</td>\n",
       "      <td>207.55</td>\n",
       "      <td>3259.5</td>\n",
       "    </tr>\n",
       "  </tbody>\n",
       "</table>\n",
       "<p>3 rows × 88 columns</p>\n",
       "</div>"
      ],
      "text/plain": [
       "                     APOLLOHOSP  BOSCHLTD  INDUSTOWER  BERGEPAINT  MARICO  \\\n",
       "date                                                                        \n",
       "2018-08-06 10:47:00       974.3  19187.45       290.0      316.85  357.95   \n",
       "2018-08-06 10:48:00       973.7  19187.45       290.0      316.50  357.55   \n",
       "2018-08-06 10:49:00       973.7  19187.45       290.0      316.85  357.20   \n",
       "\n",
       "                       SBIN  SUNPHARMA  COALINDIA   WIPRO  BAJAJ-AUTO  ...  \\\n",
       "date                                                                   ...   \n",
       "2018-08-06 10:47:00  306.70     579.65     282.05  207.93     2695.00  ...   \n",
       "2018-08-06 10:48:00  306.70     579.30     282.05  207.93     2695.00  ...   \n",
       "2018-08-06 10:49:00  306.75     579.45     282.00  207.97     2697.95  ...   \n",
       "\n",
       "                     BIOCON   DABUR   SAIL  BRITANNIA  ADANIPORTS    ONGC  \\\n",
       "date                                                                        \n",
       "2018-08-06 10:47:00  287.40  435.30  79.35    3194.92      400.70  167.75   \n",
       "2018-08-06 10:48:00  287.75  435.15  79.30    3193.02      400.55  167.55   \n",
       "2018-08-06 10:49:00  287.95  435.70  79.30    3192.50      400.30  167.55   \n",
       "\n",
       "                     EICHERMOT   TECHM  JINDALSTEL  HEROMOTOCO  \n",
       "date                                                            \n",
       "2018-08-06 10:47:00     2711.3  670.45      207.65      3259.0  \n",
       "2018-08-06 10:48:00     2710.6  670.55      207.80      3260.6  \n",
       "2018-08-06 10:49:00     2709.8  670.65      207.55      3259.5  \n",
       "\n",
       "[3 rows x 88 columns]"
      ]
     },
     "execution_count": 10,
     "metadata": {},
     "output_type": "execute_result"
    }
   ],
   "source": [
    "# df.interpolate(method='linear', inplace=True)\n",
    "# To fill the first row NaN with the value from the next minute\n",
    "threshold = 0.10\n",
    "\n",
    "# Drop columns with more than the threshold percentage of missing values\n",
    "df = df.dropna(thresh=int((1-threshold) * len(df)), axis=1)\n",
    "\n",
    "# Get the number of rows with any 0.0 values\n",
    "\n",
    "df.fillna(0, inplace=True)\n",
    "df.index = df.index.tz_localize(None)\n",
    "\n",
    "zero_rows = (df == 0.0).any(axis=1)\n",
    "\n",
    "\n",
    "num_zero_rows = zero_rows.sum()\n",
    "\n",
    "print(f\"Number of rows with 0.0 values: {num_zero_rows}\")\n",
    "print(f\"Total rows {len(df)}\")\n",
    "df.head(3)"
   ]
  },
  {
   "cell_type": "code",
   "execution_count": 11,
   "id": "87db1fee",
   "metadata": {
    "execution": {
     "iopub.execute_input": "2024-11-23T20:08:00.328422Z",
     "iopub.status.busy": "2024-11-23T20:08:00.327822Z",
     "iopub.status.idle": "2024-11-23T20:08:00.333796Z",
     "shell.execute_reply": "2024-11-23T20:08:00.332597Z"
    },
    "papermill": {
     "duration": 0.014029,
     "end_time": "2024-11-23T20:08:00.335586",
     "exception": false,
     "start_time": "2024-11-23T20:08:00.321557",
     "status": "completed"
    },
    "tags": []
   },
   "outputs": [
    {
     "data": {
      "text/plain": [
       "88"
      ]
     },
     "execution_count": 11,
     "metadata": {},
     "output_type": "execute_result"
    }
   ],
   "source": [
    "len(df.columns)"
   ]
  },
  {
   "cell_type": "code",
   "execution_count": 12,
   "id": "59da0666",
   "metadata": {
    "execution": {
     "iopub.execute_input": "2024-11-23T20:08:00.347723Z",
     "iopub.status.busy": "2024-11-23T20:08:00.347141Z",
     "iopub.status.idle": "2024-11-23T20:08:00.638100Z",
     "shell.execute_reply": "2024-11-23T20:08:00.637338Z"
    },
    "papermill": {
     "duration": 0.299295,
     "end_time": "2024-11-23T20:08:00.640310",
     "exception": false,
     "start_time": "2024-11-23T20:08:00.341015",
     "status": "completed"
    },
    "tags": []
   },
   "outputs": [],
   "source": [
    "df_total = df.join(nifty_100_closing, how='left')"
   ]
  },
  {
   "cell_type": "code",
   "execution_count": 13,
   "id": "8d9ea0cb",
   "metadata": {
    "execution": {
     "iopub.execute_input": "2024-11-23T20:08:00.653348Z",
     "iopub.status.busy": "2024-11-23T20:08:00.652660Z",
     "iopub.status.idle": "2024-11-23T20:08:00.948673Z",
     "shell.execute_reply": "2024-11-23T20:08:00.947802Z"
    },
    "papermill": {
     "duration": 0.304838,
     "end_time": "2024-11-23T20:08:00.950776",
     "exception": false,
     "start_time": "2024-11-23T20:08:00.645938",
     "status": "completed"
    },
    "tags": []
   },
   "outputs": [],
   "source": [
    "df_total.dropna(inplace=True)"
   ]
  },
  {
   "cell_type": "code",
   "execution_count": 14,
   "id": "a4bddf0a",
   "metadata": {
    "execution": {
     "iopub.execute_input": "2024-11-23T20:08:00.963954Z",
     "iopub.status.busy": "2024-11-23T20:08:00.963317Z",
     "iopub.status.idle": "2024-11-23T20:08:02.913231Z",
     "shell.execute_reply": "2024-11-23T20:08:02.912025Z"
    },
    "papermill": {
     "duration": 1.95879,
     "end_time": "2024-11-23T20:08:02.915413",
     "exception": false,
     "start_time": "2024-11-23T20:08:00.956623",
     "status": "completed"
    },
    "tags": []
   },
   "outputs": [
    {
     "name": "stdout",
     "output_type": "stream",
     "text": [
      "Number of rows with large changes (>100.0%): 14551\n"
     ]
    }
   ],
   "source": [
    "# Calculate the percentage change\n",
    "X_pct_change = df_total.pct_change()\n",
    "\n",
    "# Define the threshold for large changes (e.g., 100% change)\n",
    "threshold = 1.0  # 1.0 corresponds to 100% when working with pct_change()\n",
    "\n",
    "# Find rows with any column having a percentage change greater than the threshold\n",
    "large_change_rows = X_pct_change[(X_pct_change.abs() > threshold).any(axis=1)]\n",
    "\n",
    "# Get the number of rows where there are large percentage changes\n",
    "num_large_changes = large_change_rows.shape[0]\n",
    "\n",
    "print(f\"Number of rows with large changes (>{threshold * 100}%): {num_large_changes}\")"
   ]
  },
  {
   "cell_type": "code",
   "execution_count": 15,
   "id": "82fe8387",
   "metadata": {
    "execution": {
     "iopub.execute_input": "2024-11-23T20:08:02.927905Z",
     "iopub.status.busy": "2024-11-23T20:08:02.927587Z",
     "iopub.status.idle": "2024-11-23T20:08:02.932514Z",
     "shell.execute_reply": "2024-11-23T20:08:02.931500Z"
    },
    "papermill": {
     "duration": 0.013583,
     "end_time": "2024-11-23T20:08:02.934652",
     "exception": false,
     "start_time": "2024-11-23T20:08:02.921069",
     "status": "completed"
    },
    "tags": []
   },
   "outputs": [
    {
     "name": "stdout",
     "output_type": "stream",
     "text": [
      "666554\n"
     ]
    }
   ],
   "source": [
    "print(len(df_total))"
   ]
  },
  {
   "cell_type": "markdown",
   "id": "bd3864d1",
   "metadata": {
    "papermill": {
     "duration": 0.005259,
     "end_time": "2024-11-23T20:08:02.945519",
     "exception": false,
     "start_time": "2024-11-23T20:08:02.940260",
     "status": "completed"
    },
    "tags": []
   },
   "source": [
    "# Models"
   ]
  },
  {
   "cell_type": "markdown",
   "id": "2e279267",
   "metadata": {
    "papermill": {
     "duration": 0.005206,
     "end_time": "2024-11-23T20:08:02.956108",
     "exception": false,
     "start_time": "2024-11-23T20:08:02.950902",
     "status": "completed"
    },
    "tags": []
   },
   "source": [
    "## Combined Approach\n",
    "In this section, we will utilize a combined approach to limit the number of features (stocks) and train our models.\n",
    "\n",
    "1. Feature Selection (using Lasso w/ high alpha, Mutual Info, ANOVA, RFE)\n",
    "2. Define threshold to drop features\n",
    "3. Train model on reduced feature space (Hyperparameter tuned)\n",
    "4. Get tracking error\n",
    "5. Save pair (number of stocks, tracking error) for plotting"
   ]
  },
  {
   "cell_type": "markdown",
   "id": "8fb42fd0",
   "metadata": {
    "papermill": {
     "duration": 0.005131,
     "end_time": "2024-11-23T20:08:02.966691",
     "exception": false,
     "start_time": "2024-11-23T20:08:02.961560",
     "status": "completed"
    },
    "tags": []
   },
   "source": [
    "### Lasso - Lasso\n",
    "\n",
    "We will utilize a Lasso model with a high alpha value to perform feature selection, this will drop the coefficients for less important features to 0. After that we retrain a Lasso model with hyperparameter tuning."
   ]
  },
  {
   "cell_type": "code",
   "execution_count": 16,
   "id": "b754efdc",
   "metadata": {
    "_kg_hide-input": true,
    "execution": {
     "iopub.execute_input": "2024-11-23T20:08:02.979742Z",
     "iopub.status.busy": "2024-11-23T20:08:02.979283Z",
     "iopub.status.idle": "2024-11-23T20:08:02.995410Z",
     "shell.execute_reply": "2024-11-23T20:08:02.994325Z"
    },
    "papermill": {
     "duration": 0.025437,
     "end_time": "2024-11-23T20:08:02.997483",
     "exception": false,
     "start_time": "2024-11-23T20:08:02.972046",
     "status": "completed"
    },
    "tags": []
   },
   "outputs": [],
   "source": [
    "from sklearn.preprocessing import StandardScaler\n",
    "\n",
    "def Lasso_Lasso(alpha, X, y):    \n",
    "    tscv = TimeSeriesSplit(n_splits=5)\n",
    "    stocks = []\n",
    "    num_stocks = []\n",
    "    fold_scores = []\n",
    "    adj_fold_scores = []\n",
    "    \n",
    "    for train_index, test_index in tscv.split(X):\n",
    "        X_train_cv, X_test_cv = X.iloc[train_index], X.iloc[test_index]\n",
    "        y_train_cv, y_test_cv = y.iloc[train_index], y.iloc[test_index]\n",
    "\n",
    "        scaler = StandardScaler()\n",
    "        X_scaled = scaler.fit_transform(X_train_cv)\n",
    "        \n",
    "        # Feature selection with alpha from list\n",
    "        lasso_fs = Lasso(alpha=alpha, max_iter=200)\n",
    "        lasso_fs.fit(X_scaled, y_train_cv)\n",
    "\n",
    "        #for feature, coef in zip(X_train_cv.columns, lasso_fs.coef_):\n",
    "        #    print(f\"{feature}: {coef}\")\n",
    "\n",
    "        selector = SelectFromModel(lasso_fs, threshold=10e-10, max_features=None)  # Adjust threshold as needed\n",
    "        X_selected_train = selector.transform(X_scaled)\n",
    "        X_selected_test = selector.transform(X_test_cv)\n",
    "\n",
    "        selected_features = np.where(selector.get_support())[0] \n",
    "        print(f\"Selected {len(selected_features)} stocks\")\n",
    "        num_stocks.append(len(selected_features))\n",
    "        stocks.append(selected_features)\n",
    "\n",
    "        best_alpha = None\n",
    "        best_score = float('inf')  # Assuming lower is better for your metric\n",
    "        for alph in [0.0001, 0.00025, 0.0005, 0.00075, 0.001, 0.002, 0.0025]:\n",
    "            lasso = Lasso(alpha=alph, max_iter=15000)\n",
    "            lasso.fit(X_selected_train, y_train_cv)\n",
    "    \n",
    "            y_pred = lasso.predict(X_selected_test)\n",
    "            fold_score = tracking_error(y_test_cv.values, y_pred)\n",
    "            adj_fold_score = adj_tracking_error(y_test_cv.values, X_selected_test, lasso)\n",
    "            # print(f\"Alpha: {alpha}, Fold Score: {fold_score}\")\n",
    "    \n",
    "            if fold_score < best_score:\n",
    "                best_score = fold_score\n",
    "                best_alpha = alpha\n",
    "    \n",
    "        print(f\"Best Alpha for this fold: {best_alpha}, Best Fold Score: {best_score}\")\n",
    "        fold_scores.append(best_score)\n",
    "        adj_fold_scores.append(adj_fold_score)\n",
    "        \n",
    "    # Calculate the average score across all folds\n",
    "    average_score = np.mean(fold_scores)\n",
    "    average_adj_score = np.mean(adj_fold_scores)\n",
    "\n",
    "    # Get average stocks chosen over all folds\n",
    "    average_selected_features = np.mean(num_stocks)\n",
    "    \n",
    "    # Print the tracking error for this alpha\n",
    "    print(f\"Alpha: {alpha}, Average Tracking Error: {average_score}\")\n",
    " \n",
    "    return stocks, average_selected_features, average_score, average_adj_score"
   ]
  },
  {
   "cell_type": "code",
   "execution_count": 17,
   "id": "aa1d5c33",
   "metadata": {
    "execution": {
     "iopub.execute_input": "2024-11-23T20:08:03.010798Z",
     "iopub.status.busy": "2024-11-23T20:08:03.010458Z",
     "iopub.status.idle": "2024-11-23T20:53:54.108369Z",
     "shell.execute_reply": "2024-11-23T20:53:54.107386Z"
    },
    "papermill": {
     "duration": 2751.107055,
     "end_time": "2024-11-23T20:53:54.110487",
     "exception": false,
     "start_time": "2024-11-23T20:08:03.003432",
     "status": "completed"
    },
    "tags": []
   },
   "outputs": [
    {
     "name": "stdout",
     "output_type": "stream",
     "text": [
      "Starting alpha 0.001\n",
      "Selected 76 stocks\n",
      "Best Alpha for this fold: 0.001, Best Fold Score: 0.081909105203533\n"
     ]
    },
    {
     "name": "stderr",
     "output_type": "stream",
     "text": [
      "/opt/conda/lib/python3.10/site-packages/sklearn/linear_model/_coordinate_descent.py:631: ConvergenceWarning: Objective did not converge. You might want to increase the number of iterations, check the scale of the features or consider increasing regularisation. Duality gap: 1.757e-01, tolerance: 1.155e-01\n",
      "  model = cd_fast.enet_coordinate_descent(\n"
     ]
    },
    {
     "name": "stdout",
     "output_type": "stream",
     "text": [
      "Selected 81 stocks\n",
      "Best Alpha for this fold: 0.001, Best Fold Score: 0.046037244453767584\n"
     ]
    },
    {
     "name": "stderr",
     "output_type": "stream",
     "text": [
      "/opt/conda/lib/python3.10/site-packages/sklearn/linear_model/_coordinate_descent.py:631: ConvergenceWarning: Objective did not converge. You might want to increase the number of iterations, check the scale of the features or consider increasing regularisation. Duality gap: 2.015e-01, tolerance: 1.462e-01\n",
      "  model = cd_fast.enet_coordinate_descent(\n"
     ]
    },
    {
     "name": "stdout",
     "output_type": "stream",
     "text": [
      "Selected 83 stocks\n",
      "Best Alpha for this fold: 0.001, Best Fold Score: 0.14422887657558622\n"
     ]
    },
    {
     "name": "stderr",
     "output_type": "stream",
     "text": [
      "/opt/conda/lib/python3.10/site-packages/sklearn/linear_model/_coordinate_descent.py:631: ConvergenceWarning: Objective did not converge. You might want to increase the number of iterations, check the scale of the features or consider increasing regularisation. Duality gap: 7.557e+00, tolerance: 4.375e-01\n",
      "  model = cd_fast.enet_coordinate_descent(\n"
     ]
    },
    {
     "name": "stdout",
     "output_type": "stream",
     "text": [
      "Selected 74 stocks\n",
      "Best Alpha for this fold: 0.001, Best Fold Score: 0.0383524818658657\n"
     ]
    },
    {
     "name": "stderr",
     "output_type": "stream",
     "text": [
      "/opt/conda/lib/python3.10/site-packages/sklearn/linear_model/_coordinate_descent.py:631: ConvergenceWarning: Objective did not converge. You might want to increase the number of iterations, check the scale of the features or consider increasing regularisation. Duality gap: 5.174e+00, tolerance: 4.596e-01\n",
      "  model = cd_fast.enet_coordinate_descent(\n"
     ]
    },
    {
     "name": "stdout",
     "output_type": "stream",
     "text": [
      "Selected 75 stocks\n",
      "Best Alpha for this fold: 0.001, Best Fold Score: 0.3565449495774766\n",
      "Alpha: 0.001, Average Tracking Error: 0.13341453153524582\n",
      "Starting alpha 0.002\n",
      "Selected 66 stocks\n",
      "Best Alpha for this fold: 0.002, Best Fold Score: 0.081967866586919\n",
      "Selected 74 stocks\n",
      "Best Alpha for this fold: 0.002, Best Fold Score: 0.04606473569976823\n",
      "Selected 77 stocks\n",
      "Best Alpha for this fold: 0.002, Best Fold Score: 0.14399135618974615\n"
     ]
    },
    {
     "name": "stderr",
     "output_type": "stream",
     "text": [
      "/opt/conda/lib/python3.10/site-packages/sklearn/linear_model/_coordinate_descent.py:631: ConvergenceWarning: Objective did not converge. You might want to increase the number of iterations, check the scale of the features or consider increasing regularisation. Duality gap: 5.950e+00, tolerance: 4.375e-01\n",
      "  model = cd_fast.enet_coordinate_descent(\n"
     ]
    },
    {
     "name": "stdout",
     "output_type": "stream",
     "text": [
      "Selected 64 stocks\n",
      "Best Alpha for this fold: 0.002, Best Fold Score: 0.03837519106221485\n"
     ]
    },
    {
     "name": "stderr",
     "output_type": "stream",
     "text": [
      "/opt/conda/lib/python3.10/site-packages/sklearn/linear_model/_coordinate_descent.py:631: ConvergenceWarning: Objective did not converge. You might want to increase the number of iterations, check the scale of the features or consider increasing regularisation. Duality gap: 4.450e+00, tolerance: 4.596e-01\n",
      "  model = cd_fast.enet_coordinate_descent(\n"
     ]
    },
    {
     "name": "stdout",
     "output_type": "stream",
     "text": [
      "Selected 64 stocks\n",
      "Best Alpha for this fold: 0.002, Best Fold Score: 0.35637819505785867\n",
      "Alpha: 0.002, Average Tracking Error: 0.13335546891930136\n",
      "Starting alpha 0.003\n",
      "Selected 56 stocks\n",
      "Best Alpha for this fold: 0.003, Best Fold Score: 0.08210486980390885\n",
      "Selected 69 stocks\n",
      "Best Alpha for this fold: 0.003, Best Fold Score: 0.04608800889113797\n",
      "Selected 67 stocks\n",
      "Best Alpha for this fold: 0.003, Best Fold Score: 0.14327933052165037\n"
     ]
    },
    {
     "name": "stderr",
     "output_type": "stream",
     "text": [
      "/opt/conda/lib/python3.10/site-packages/sklearn/linear_model/_coordinate_descent.py:631: ConvergenceWarning: Objective did not converge. You might want to increase the number of iterations, check the scale of the features or consider increasing regularisation. Duality gap: 4.406e+00, tolerance: 4.375e-01\n",
      "  model = cd_fast.enet_coordinate_descent(\n"
     ]
    },
    {
     "name": "stdout",
     "output_type": "stream",
     "text": [
      "Selected 57 stocks\n",
      "Best Alpha for this fold: 0.003, Best Fold Score: 0.038480376789333796\n"
     ]
    },
    {
     "name": "stderr",
     "output_type": "stream",
     "text": [
      "/opt/conda/lib/python3.10/site-packages/sklearn/linear_model/_coordinate_descent.py:631: ConvergenceWarning: Objective did not converge. You might want to increase the number of iterations, check the scale of the features or consider increasing regularisation. Duality gap: 3.592e+00, tolerance: 4.596e-01\n",
      "  model = cd_fast.enet_coordinate_descent(\n"
     ]
    },
    {
     "name": "stdout",
     "output_type": "stream",
     "text": [
      "Selected 59 stocks\n",
      "Best Alpha for this fold: 0.003, Best Fold Score: 0.35649484651488567\n",
      "Alpha: 0.003, Average Tracking Error: 0.13328948650418332\n",
      "Starting alpha 0.004\n",
      "Selected 44 stocks\n",
      "Best Alpha for this fold: 0.004, Best Fold Score: 0.08233188045251498\n",
      "Selected 60 stocks\n",
      "Best Alpha for this fold: 0.004, Best Fold Score: 0.04611325065902526\n",
      "Selected 60 stocks\n",
      "Best Alpha for this fold: 0.004, Best Fold Score: 0.14356065245140887\n"
     ]
    },
    {
     "name": "stderr",
     "output_type": "stream",
     "text": [
      "/opt/conda/lib/python3.10/site-packages/sklearn/linear_model/_coordinate_descent.py:631: ConvergenceWarning: Objective did not converge. You might want to increase the number of iterations, check the scale of the features or consider increasing regularisation. Duality gap: 3.120e+00, tolerance: 4.375e-01\n",
      "  model = cd_fast.enet_coordinate_descent(\n"
     ]
    },
    {
     "name": "stdout",
     "output_type": "stream",
     "text": [
      "Selected 51 stocks\n",
      "Best Alpha for this fold: 0.004, Best Fold Score: 0.038514680186667795\n"
     ]
    },
    {
     "name": "stderr",
     "output_type": "stream",
     "text": [
      "/opt/conda/lib/python3.10/site-packages/sklearn/linear_model/_coordinate_descent.py:631: ConvergenceWarning: Objective did not converge. You might want to increase the number of iterations, check the scale of the features or consider increasing regularisation. Duality gap: 2.612e+00, tolerance: 4.596e-01\n",
      "  model = cd_fast.enet_coordinate_descent(\n"
     ]
    },
    {
     "name": "stdout",
     "output_type": "stream",
     "text": [
      "Selected 49 stocks\n",
      "Best Alpha for this fold: 0.004, Best Fold Score: 0.3572116969907556\n",
      "Alpha: 0.004, Average Tracking Error: 0.13354643214807452\n",
      "Starting alpha 0.005\n",
      "Selected 37 stocks\n",
      "Best Alpha for this fold: 0.005, Best Fold Score: 0.08246575545463884\n",
      "Selected 53 stocks\n",
      "Best Alpha for this fold: 0.005, Best Fold Score: 0.046092955003324845\n",
      "Selected 53 stocks\n",
      "Best Alpha for this fold: 0.005, Best Fold Score: 0.14361783756516072\n"
     ]
    },
    {
     "name": "stderr",
     "output_type": "stream",
     "text": [
      "/opt/conda/lib/python3.10/site-packages/sklearn/linear_model/_coordinate_descent.py:631: ConvergenceWarning: Objective did not converge. You might want to increase the number of iterations, check the scale of the features or consider increasing regularisation. Duality gap: 2.659e+00, tolerance: 4.375e-01\n",
      "  model = cd_fast.enet_coordinate_descent(\n"
     ]
    },
    {
     "name": "stdout",
     "output_type": "stream",
     "text": [
      "Selected 47 stocks\n",
      "Best Alpha for this fold: 0.005, Best Fold Score: 0.03857262394898608\n"
     ]
    },
    {
     "name": "stderr",
     "output_type": "stream",
     "text": [
      "/opt/conda/lib/python3.10/site-packages/sklearn/linear_model/_coordinate_descent.py:631: ConvergenceWarning: Objective did not converge. You might want to increase the number of iterations, check the scale of the features or consider increasing regularisation. Duality gap: 2.066e+00, tolerance: 4.596e-01\n",
      "  model = cd_fast.enet_coordinate_descent(\n"
     ]
    },
    {
     "name": "stdout",
     "output_type": "stream",
     "text": [
      "Selected 48 stocks\n",
      "Best Alpha for this fold: 0.005, Best Fold Score: 0.35715728029271204\n",
      "Alpha: 0.005, Average Tracking Error: 0.13358129045296452\n",
      "Starting alpha 0.006\n",
      "Selected 30 stocks\n",
      "Best Alpha for this fold: 0.006, Best Fold Score: 0.0825208924094347\n",
      "Selected 48 stocks\n",
      "Best Alpha for this fold: 0.006, Best Fold Score: 0.046140596679281685\n",
      "Selected 48 stocks\n",
      "Best Alpha for this fold: 0.006, Best Fold Score: 0.14338597079294838\n"
     ]
    },
    {
     "name": "stderr",
     "output_type": "stream",
     "text": [
      "/opt/conda/lib/python3.10/site-packages/sklearn/linear_model/_coordinate_descent.py:631: ConvergenceWarning: Objective did not converge. You might want to increase the number of iterations, check the scale of the features or consider increasing regularisation. Duality gap: 2.403e+00, tolerance: 4.375e-01\n",
      "  model = cd_fast.enet_coordinate_descent(\n"
     ]
    },
    {
     "name": "stdout",
     "output_type": "stream",
     "text": [
      "Selected 43 stocks\n",
      "Best Alpha for this fold: 0.006, Best Fold Score: 0.038640205725251564\n"
     ]
    },
    {
     "name": "stderr",
     "output_type": "stream",
     "text": [
      "/opt/conda/lib/python3.10/site-packages/sklearn/linear_model/_coordinate_descent.py:631: ConvergenceWarning: Objective did not converge. You might want to increase the number of iterations, check the scale of the features or consider increasing regularisation. Duality gap: 1.302e+00, tolerance: 4.596e-01\n",
      "  model = cd_fast.enet_coordinate_descent(\n"
     ]
    },
    {
     "name": "stdout",
     "output_type": "stream",
     "text": [
      "Selected 41 stocks\n",
      "Best Alpha for this fold: 0.006, Best Fold Score: 0.35708717471453105\n",
      "Alpha: 0.006, Average Tracking Error: 0.1335549680642895\n",
      "Starting alpha 0.007\n",
      "Selected 24 stocks\n",
      "Best Alpha for this fold: 0.007, Best Fold Score: 0.08266331200365212\n",
      "Selected 41 stocks\n",
      "Best Alpha for this fold: 0.007, Best Fold Score: 0.046187531388854924\n",
      "Selected 40 stocks\n",
      "Best Alpha for this fold: 0.007, Best Fold Score: 0.14340692496266386\n"
     ]
    },
    {
     "name": "stderr",
     "output_type": "stream",
     "text": [
      "/opt/conda/lib/python3.10/site-packages/sklearn/linear_model/_coordinate_descent.py:631: ConvergenceWarning: Objective did not converge. You might want to increase the number of iterations, check the scale of the features or consider increasing regularisation. Duality gap: 2.098e+00, tolerance: 4.375e-01\n",
      "  model = cd_fast.enet_coordinate_descent(\n"
     ]
    },
    {
     "name": "stdout",
     "output_type": "stream",
     "text": [
      "Selected 40 stocks\n",
      "Best Alpha for this fold: 0.007, Best Fold Score: 0.03861779160285179\n"
     ]
    },
    {
     "name": "stderr",
     "output_type": "stream",
     "text": [
      "/opt/conda/lib/python3.10/site-packages/sklearn/linear_model/_coordinate_descent.py:631: ConvergenceWarning: Objective did not converge. You might want to increase the number of iterations, check the scale of the features or consider increasing regularisation. Duality gap: 8.008e-01, tolerance: 4.596e-01\n",
      "  model = cd_fast.enet_coordinate_descent(\n"
     ]
    },
    {
     "name": "stdout",
     "output_type": "stream",
     "text": [
      "Selected 38 stocks\n",
      "Best Alpha for this fold: 0.007, Best Fold Score: 0.35732481482317086\n",
      "Alpha: 0.007, Average Tracking Error: 0.1336400749562387\n",
      "Starting alpha 0.008\n",
      "Selected 21 stocks\n",
      "Best Alpha for this fold: 0.008, Best Fold Score: 0.0829232139459467\n",
      "Selected 36 stocks\n",
      "Best Alpha for this fold: 0.008, Best Fold Score: 0.046209090142064924\n",
      "Selected 37 stocks\n",
      "Best Alpha for this fold: 0.008, Best Fold Score: 0.14368580630065705\n"
     ]
    },
    {
     "name": "stderr",
     "output_type": "stream",
     "text": [
      "/opt/conda/lib/python3.10/site-packages/sklearn/linear_model/_coordinate_descent.py:631: ConvergenceWarning: Objective did not converge. You might want to increase the number of iterations, check the scale of the features or consider increasing regularisation. Duality gap: 1.665e+00, tolerance: 4.375e-01\n",
      "  model = cd_fast.enet_coordinate_descent(\n"
     ]
    },
    {
     "name": "stdout",
     "output_type": "stream",
     "text": [
      "Selected 39 stocks\n",
      "Best Alpha for this fold: 0.008, Best Fold Score: 0.03861370764104398\n"
     ]
    },
    {
     "name": "stderr",
     "output_type": "stream",
     "text": [
      "/opt/conda/lib/python3.10/site-packages/sklearn/linear_model/_coordinate_descent.py:631: ConvergenceWarning: Objective did not converge. You might want to increase the number of iterations, check the scale of the features or consider increasing regularisation. Duality gap: 6.697e-01, tolerance: 4.596e-01\n",
      "  model = cd_fast.enet_coordinate_descent(\n"
     ]
    },
    {
     "name": "stdout",
     "output_type": "stream",
     "text": [
      "Selected 38 stocks\n",
      "Best Alpha for this fold: 0.008, Best Fold Score: 0.35732481482317086\n",
      "Alpha: 0.008, Average Tracking Error: 0.1337513265705767\n",
      "Starting alpha 0.009\n",
      "Selected 19 stocks\n",
      "Best Alpha for this fold: 0.009, Best Fold Score: 0.0831815533631772\n",
      "Selected 33 stocks\n",
      "Best Alpha for this fold: 0.009, Best Fold Score: 0.04625449885301737\n",
      "Selected 32 stocks\n",
      "Best Alpha for this fold: 0.009, Best Fold Score: 0.14380290717850114\n"
     ]
    },
    {
     "name": "stderr",
     "output_type": "stream",
     "text": [
      "/opt/conda/lib/python3.10/site-packages/sklearn/linear_model/_coordinate_descent.py:631: ConvergenceWarning: Objective did not converge. You might want to increase the number of iterations, check the scale of the features or consider increasing regularisation. Duality gap: 1.168e+00, tolerance: 4.375e-01\n",
      "  model = cd_fast.enet_coordinate_descent(\n"
     ]
    },
    {
     "name": "stdout",
     "output_type": "stream",
     "text": [
      "Selected 36 stocks\n",
      "Best Alpha for this fold: 0.009, Best Fold Score: 0.038700665766585075\n"
     ]
    },
    {
     "name": "stderr",
     "output_type": "stream",
     "text": [
      "/opt/conda/lib/python3.10/site-packages/sklearn/linear_model/_coordinate_descent.py:631: ConvergenceWarning: Objective did not converge. You might want to increase the number of iterations, check the scale of the features or consider increasing regularisation. Duality gap: 6.150e-01, tolerance: 4.596e-01\n",
      "  model = cd_fast.enet_coordinate_descent(\n"
     ]
    },
    {
     "name": "stdout",
     "output_type": "stream",
     "text": [
      "Selected 36 stocks\n",
      "Best Alpha for this fold: 0.009, Best Fold Score: 0.3572410680403312\n",
      "Alpha: 0.009, Average Tracking Error: 0.1338361386403224\n",
      "Starting alpha 0.01\n",
      "Selected 18 stocks\n",
      "Best Alpha for this fold: 0.01, Best Fold Score: 0.08322095681811198\n",
      "Selected 28 stocks\n",
      "Best Alpha for this fold: 0.01, Best Fold Score: 0.0463170832242172\n",
      "Selected 31 stocks\n",
      "Best Alpha for this fold: 0.01, Best Fold Score: 0.14320508563757445\n"
     ]
    },
    {
     "name": "stderr",
     "output_type": "stream",
     "text": [
      "/opt/conda/lib/python3.10/site-packages/sklearn/linear_model/_coordinate_descent.py:631: ConvergenceWarning: Objective did not converge. You might want to increase the number of iterations, check the scale of the features or consider increasing regularisation. Duality gap: 7.834e-01, tolerance: 4.375e-01\n",
      "  model = cd_fast.enet_coordinate_descent(\n"
     ]
    },
    {
     "name": "stdout",
     "output_type": "stream",
     "text": [
      "Selected 35 stocks\n",
      "Best Alpha for this fold: 0.01, Best Fold Score: 0.038724908292294434\n"
     ]
    },
    {
     "name": "stderr",
     "output_type": "stream",
     "text": [
      "/opt/conda/lib/python3.10/site-packages/sklearn/linear_model/_coordinate_descent.py:631: ConvergenceWarning: Objective did not converge. You might want to increase the number of iterations, check the scale of the features or consider increasing regularisation. Duality gap: 4.735e-01, tolerance: 4.596e-01\n",
      "  model = cd_fast.enet_coordinate_descent(\n"
     ]
    },
    {
     "name": "stdout",
     "output_type": "stream",
     "text": [
      "Selected 34 stocks\n",
      "Best Alpha for this fold: 0.01, Best Fold Score: 0.3573771084531077\n",
      "Alpha: 0.01, Average Tracking Error: 0.13376902848506117\n",
      "Starting alpha 0.011\n",
      "Selected 17 stocks\n",
      "Best Alpha for this fold: 0.011, Best Fold Score: 0.08320520498079921\n",
      "Selected 28 stocks\n",
      "Best Alpha for this fold: 0.011, Best Fold Score: 0.0463170832242172\n",
      "Selected 24 stocks\n",
      "Best Alpha for this fold: 0.011, Best Fold Score: 0.14345719003603022\n"
     ]
    },
    {
     "name": "stderr",
     "output_type": "stream",
     "text": [
      "/opt/conda/lib/python3.10/site-packages/sklearn/linear_model/_coordinate_descent.py:631: ConvergenceWarning: Objective did not converge. You might want to increase the number of iterations, check the scale of the features or consider increasing regularisation. Duality gap: 4.855e-01, tolerance: 4.375e-01\n",
      "  model = cd_fast.enet_coordinate_descent(\n"
     ]
    },
    {
     "name": "stdout",
     "output_type": "stream",
     "text": [
      "Selected 33 stocks\n",
      "Best Alpha for this fold: 0.011, Best Fold Score: 0.038723784809585104\n",
      "Selected 33 stocks\n",
      "Best Alpha for this fold: 0.011, Best Fold Score: 0.357351363580298\n",
      "Alpha: 0.011, Average Tracking Error: 0.13381092532618594\n",
      "Starting alpha 0.012\n",
      "Selected 15 stocks\n",
      "Best Alpha for this fold: 0.012, Best Fold Score: 0.08350457886653427\n",
      "Selected 25 stocks\n",
      "Best Alpha for this fold: 0.012, Best Fold Score: 0.046410775660491115\n",
      "Selected 24 stocks\n",
      "Best Alpha for this fold: 0.012, Best Fold Score: 0.14345719003603022\n",
      "Selected 30 stocks\n",
      "Best Alpha for this fold: 0.012, Best Fold Score: 0.038709678096388686\n",
      "Selected 29 stocks\n",
      "Best Alpha for this fold: 0.012, Best Fold Score: 0.3573471145912843\n",
      "Alpha: 0.012, Average Tracking Error: 0.13388586745014572\n"
     ]
    },
    {
     "data": {
      "image/png": "[encoded data removed]",
      "text/plain": [
       "<Figure size 640x480 with 2 Axes>"
      ]
     },
     "metadata": {},
     "output_type": "display_data"
    }
   ],
   "source": [
    "df_total_z = df_total.replace(0, np.nan)  # Convert zeroes back to NaNs\n",
    "df_total_returns = df_total_z.pct_change().dropna()\n",
    "df_total_returns = 100*df_total_returns\n",
    "X = df_total_returns.drop(columns=['NIFTY 50', 'NIFTY BANK', 'NIFTY_100'])\n",
    "y = df_total_returns['NIFTY_100']\n",
    "\n",
    "alphas = [0.001, 0.002, 0.003, 0.004, 0.005, 0.006, 0.007, 0.008, 0.009, 0.01, 0.011, 0.012]\n",
    "tracking_errors = []\n",
    "adj_tracking_errors = []\n",
    "num_stocks_list = []\n",
    "\n",
    "for alpha in alphas:\n",
    "    print(f\"Starting alpha {alpha}\")\n",
    "    _, num_stocks, tracking_err, adj_tracking_err = Lasso_Lasso(alpha, X, y)\n",
    "    num_stocks_list.append(num_stocks)\n",
    "    tracking_errors.append(tracking_err)\n",
    "    adj_tracking_errors.append(adj_tracking_err)\n",
    "\n",
    "# Plotting the results\n",
    "fig, ax1 = plt.subplots()\n",
    "\n",
    "# Plotting number of stocks on the primary y-axis\n",
    "color = 'tab:blue'\n",
    "ax1.set_xlabel('Alpha')\n",
    "ax1.set_ylabel('Number of Stocks', color=color)\n",
    "ax1.plot(alphas, num_stocks_list, color=color, marker='o', label='Number of Stocks')\n",
    "ax1.tick_params(axis='y', labelcolor=color)\n",
    "\n",
    "# Creating a second y-axis for tracking error\n",
    "ax2 = ax1.twinx()\n",
    "color = 'tab:red'\n",
    "ax2.set_ylabel('Tracking Error', color=color)\n",
    "#ax2.plot(alphas, tracking_errors, color='tab:green', marker='o', linestyle='--', label='Tracking Error')\n",
    "ax2.plot(alphas, adj_tracking_errors, color=color, marker='x', linestyle='--', label='Adjusted Tracking Error')\n",
    "ax2.tick_params(axis='y', labelcolor=color)\n",
    "\n",
    "# Adding a title and legend\n",
    "plt.title('Number of Stocks and Tracking Error vs. Alpha')\n",
    "fig.tight_layout()  # Adjust layout to prevent overlap\n",
    "plt.show()"
   ]
  },
  {
   "cell_type": "markdown",
   "id": "9cf37d9d",
   "metadata": {
    "papermill": {
     "duration": 0.013365,
     "end_time": "2024-11-23T20:53:54.137635",
     "exception": false,
     "start_time": "2024-11-23T20:53:54.124270",
     "status": "completed"
    },
    "tags": []
   },
   "source": [
    "# Mutual Info - Lasso\n",
    "Using mutual information between variables, which measures the dependency between them, 0 value being independence. By getting the mutual information between the features (stocks) and the target (NIFTY 100) we can \"discard\" the variables with lower dependencies. After feature selection, we traing a Lasso model with CV."
   ]
  },
  {
   "cell_type": "code",
   "execution_count": 18,
   "id": "f36cab10",
   "metadata": {
    "execution": {
     "iopub.execute_input": "2024-11-23T20:53:54.166535Z",
     "iopub.status.busy": "2024-11-23T20:53:54.166148Z",
     "iopub.status.idle": "2024-11-23T20:53:54.177307Z",
     "shell.execute_reply": "2024-11-23T20:53:54.176310Z"
    },
    "papermill": {
     "duration": 0.027946,
     "end_time": "2024-11-23T20:53:54.179257",
     "exception": false,
     "start_time": "2024-11-23T20:53:54.151311",
     "status": "completed"
    },
    "tags": []
   },
   "outputs": [],
   "source": [
    "from sklearn.preprocessing import StandardScaler\n",
    "\n",
    "def MI_Lasso(percentile, X, y):\n",
    "    tscv = TimeSeriesSplit(n_splits=5)\n",
    "    stocks = []\n",
    "    num_stocks = []\n",
    "    fold_scores = []\n",
    "    adj_fold_scores = []\n",
    "    \n",
    "    for train_index, test_index in tscv.split(X):\n",
    "        X_train_cv, X_test_cv = X.iloc[train_index], X.iloc[test_index]\n",
    "        y_train_cv, y_test_cv = y.iloc[train_index], y.iloc[test_index]\n",
    "\n",
    "        scaler = StandardScaler()\n",
    "        X_scaled = scaler.fit_transform(X_train_cv)\n",
    "\n",
    "        # Feature selection with alpha from list\n",
    "        mi_scores = mutual_info_regression(X_train_cv, y_train_cv)\n",
    "        mi_scores_series = pd.Series(mi_scores, index=X_train_cv.columns)\n",
    "\n",
    "        threshold_value = mi_scores_series.quantile(percentile)\n",
    "        \n",
    "        selected_features = mi_scores_series[mi_scores_series > threshold_value].index\n",
    "        selected_indices = [X_train_cv.columns.get_loc(feature) for feature in selected_features]\n",
    "\n",
    "        # Filter the NumPy arrays based on the selected feature indices\n",
    "        X_train_selected = X_scaled[:, selected_indices]\n",
    "        X_test_selected = X_test_cv.to_numpy()[:, selected_indices]\n",
    "    \n",
    "        print(f\"Selected {len(selected_features)} stocks\")\n",
    "        num_stocks.append(len(selected_features))\n",
    "        stocks.append(selected_features)\n",
    "\n",
    "        best_alpha = None\n",
    "        best_score = float('inf')  # Assuming lower is better for your metric\n",
    "        for alph in [0.0001, 0.00025, 0.0005, 0.00075, 0.001, 0.002, 0.0025]:\n",
    "            lasso = Lasso(alpha=alph, max_iter=15000)\n",
    "            lasso.fit(X_train_selected, y_train_cv)\n",
    "    \n",
    "            y_pred = lasso.predict(X_test_selected)\n",
    "            fold_score = tracking_error(y_test_cv.values, y_pred)\n",
    "            adj_fold_score = adj_tracking_error(y_test_cv.values, X_test_selected, lasso)\n",
    "            # print(f\"Alpha: {alpha}, Fold Score: {fold_score}\")\n",
    "    \n",
    "            if fold_score < best_score:\n",
    "                best_score = fold_score\n",
    "                best_alpha = alpha\n",
    "    \n",
    "        print(f\"Best Alpha for this fold: {best_alpha}, Best Fold Score: {best_score}\")\n",
    "        fold_scores.append(best_score)\n",
    "        adj_fold_scores.append(adj_fold_score)\n",
    "        \n",
    "    # Calculate the average score across all folds\n",
    "    average_score = np.mean(fold_scores)\n",
    "    average_adj_score = np.mean(adj_fold_scores)\n",
    "\n",
    "    # Get average stocks chosen over all folds\n",
    "    average_selected_features = np.mean(num_stocks)\n",
    "    \n",
    "    # Print the tracking error for this alpha\n",
    "    print(f\"Alpha: {alpha}, Average Tracking Error: {average_score}\")\n",
    " \n",
    "    return stocks, average_selected_features, average_score, average_adj_score"
   ]
  },
  {
   "cell_type": "code",
   "execution_count": 19,
   "id": "78c2a9e5",
   "metadata": {
    "execution": {
     "iopub.execute_input": "2024-11-23T20:53:54.209361Z",
     "iopub.status.busy": "2024-11-23T20:53:54.208942Z",
     "iopub.status.idle": "2024-11-24T00:21:03.822237Z",
     "shell.execute_reply": "2024-11-24T00:21:03.818764Z"
    },
    "papermill": {
     "duration": 12429.633929,
     "end_time": "2024-11-24T00:21:03.826907",
     "exception": false,
     "start_time": "2024-11-23T20:53:54.192978",
     "status": "completed"
    },
    "tags": []
   },
   "outputs": [
    {
     "name": "stdout",
     "output_type": "stream",
     "text": [
      "Starting percentile: 0.0\n",
      "Selected 85 stocks\n",
      "Best Alpha for this fold: 0.012, Best Fold Score: 0.08188559257044299\n",
      "Selected 85 stocks\n",
      "Best Alpha for this fold: 0.012, Best Fold Score: 0.04602493200009013\n",
      "Selected 85 stocks\n",
      "Best Alpha for this fold: 0.012, Best Fold Score: 0.14422903399979942\n",
      "Selected 85 stocks\n",
      "Best Alpha for this fold: 0.012, Best Fold Score: 0.03827165938844949\n",
      "Selected 85 stocks\n",
      "Best Alpha for this fold: 0.012, Best Fold Score: 0.35639557847855263\n",
      "Alpha: 0.012, Average Tracking Error: 0.13336135928746695\n",
      "Starting percentile: 0.1\n",
      "Selected 77 stocks\n",
      "Best Alpha for this fold: 0.012, Best Fold Score: 0.08192350470222762\n",
      "Selected 77 stocks\n",
      "Best Alpha for this fold: 0.012, Best Fold Score: 0.046038646979394894\n",
      "Selected 77 stocks\n",
      "Best Alpha for this fold: 0.012, Best Fold Score: 0.14422132585040384\n",
      "Selected 77 stocks\n",
      "Best Alpha for this fold: 0.012, Best Fold Score: 0.03826250367215357\n",
      "Selected 77 stocks\n",
      "Best Alpha for this fold: 0.012, Best Fold Score: 0.35633760664763725\n",
      "Alpha: 0.012, Average Tracking Error: 0.13335671757036344\n",
      "Starting percentile: 0.2\n",
      "Selected 68 stocks\n",
      "Best Alpha for this fold: 0.012, Best Fold Score: 0.08192961370505607\n",
      "Selected 68 stocks\n",
      "Best Alpha for this fold: 0.012, Best Fold Score: 0.046042321809734464\n",
      "Selected 68 stocks\n",
      "Best Alpha for this fold: 0.012, Best Fold Score: 0.1441472086297855\n",
      "Selected 68 stocks\n",
      "Best Alpha for this fold: 0.012, Best Fold Score: 0.03827163032997776\n",
      "Selected 68 stocks\n",
      "Best Alpha for this fold: 0.012, Best Fold Score: 0.35628151427518673\n",
      "Alpha: 0.012, Average Tracking Error: 0.1333344577499481\n",
      "Starting percentile: 0.3\n",
      "Selected 60 stocks\n",
      "Best Alpha for this fold: 0.012, Best Fold Score: 0.08208748641203582\n",
      "Selected 60 stocks\n",
      "Best Alpha for this fold: 0.012, Best Fold Score: 0.04606050103110484\n",
      "Selected 60 stocks\n",
      "Best Alpha for this fold: 0.012, Best Fold Score: 0.14428443387550383\n",
      "Selected 60 stocks\n",
      "Best Alpha for this fold: 0.012, Best Fold Score: 0.038267267427377565\n",
      "Selected 60 stocks\n",
      "Best Alpha for this fold: 0.012, Best Fold Score: 0.3558717245602045\n",
      "Alpha: 0.012, Average Tracking Error: 0.13331428266124531\n",
      "Starting percentile: 0.4\n",
      "Selected 51 stocks\n",
      "Best Alpha for this fold: 0.012, Best Fold Score: 0.08222195488120793\n",
      "Selected 51 stocks\n",
      "Best Alpha for this fold: 0.012, Best Fold Score: 0.04606520335844551\n",
      "Selected 51 stocks\n",
      "Best Alpha for this fold: 0.012, Best Fold Score: 0.14431165989477882\n",
      "Selected 51 stocks\n",
      "Best Alpha for this fold: 0.012, Best Fold Score: 0.03835213362534231\n",
      "Selected 51 stocks\n",
      "Best Alpha for this fold: 0.012, Best Fold Score: 0.3547504468268333\n",
      "Alpha: 0.012, Average Tracking Error: 0.13314027971732156\n",
      "Starting percentile: 0.5\n",
      "Selected 43 stocks\n",
      "Best Alpha for this fold: 0.012, Best Fold Score: 0.08231136372211269\n",
      "Selected 43 stocks\n",
      "Best Alpha for this fold: 0.012, Best Fold Score: 0.04605199148883542\n",
      "Selected 43 stocks\n",
      "Best Alpha for this fold: 0.012, Best Fold Score: 0.1450581125531032\n",
      "Selected 43 stocks\n",
      "Best Alpha for this fold: 0.012, Best Fold Score: 0.038432808411366606\n",
      "Selected 43 stocks\n",
      "Best Alpha for this fold: 0.012, Best Fold Score: 0.35293783129163653\n",
      "Alpha: 0.012, Average Tracking Error: 0.1329584214934109\n",
      "Starting percentile: 0.6\n",
      "Selected 34 stocks\n",
      "Best Alpha for this fold: 0.012, Best Fold Score: 0.08280894430706662\n",
      "Selected 34 stocks\n",
      "Best Alpha for this fold: 0.012, Best Fold Score: 0.04607195140832735\n",
      "Selected 34 stocks\n",
      "Best Alpha for this fold: 0.012, Best Fold Score: 0.14471480634684453\n",
      "Selected 34 stocks\n",
      "Best Alpha for this fold: 0.012, Best Fold Score: 0.03851938471449819\n",
      "Selected 34 stocks\n",
      "Best Alpha for this fold: 0.012, Best Fold Score: 0.35116597508457953\n",
      "Alpha: 0.012, Average Tracking Error: 0.13265621237226324\n"
     ]
    },
    {
     "data": {
      "image/png": "[encoded data removed]",
      "text/plain": [
       "<Figure size 640x480 with 1 Axes>"
      ]
     },
     "metadata": {},
     "output_type": "display_data"
    }
   ],
   "source": [
    "df_total_z = df_total.replace(0, np.nan)  # Convert zeroes back to NaNs\n",
    "df_total_returns = df_total_z.pct_change().dropna()\n",
    "df_total_returns = 100*df_total_returns\n",
    "X = df_total_returns.drop(columns=['NIFTY 50', 'NIFTY BANK', 'NIFTY_100'])\n",
    "y = df_total_returns['NIFTY_100']\n",
    "\n",
    "alphas = [0.001, 0.002, 0.003, 0.004, 0.005, 0.006, 0.007, 0.008, 0.009, 0.01, 0.011, 0.012]\n",
    "tracking_errors = []\n",
    "adj_tracking_errors = []\n",
    "num_stocks_list = []\n",
    "\n",
    "percentiles = [0.0, 0.1, 0.2, 0.3, 0.4, 0.5, 0.6]\n",
    "\n",
    "for percentile in percentiles:\n",
    "    print(f\"Starting percentile: {percentile}\")\n",
    "    _, num_stocks, tracking_err, adj_tracking_err = MI_Lasso(percentile, X, y)\n",
    "    num_stocks_list.append(num_stocks)\n",
    "    tracking_errors.append(tracking_err)\n",
    "    adj_tracking_errors.append(adj_tracking_err)\n",
    "\n",
    "# Plotting the results\n",
    "fig, ax1 = plt.subplots()\n",
    "\n",
    "# Plotting number of stocks on the primary y-axis\n",
    "plt.plot(num_stocks_list, adj_tracking_errors, marker='x')\n",
    "plt.xlabel('Number of Stocks')\n",
    "plt.ylabel('Tracking Error')\n",
    "plt.title('Tracking Errors vs Number of Stocks')\n",
    "plt.grid(True)\n",
    "plt.show()"
   ]
  },
  {
   "cell_type": "markdown",
   "id": "d602f6d2",
   "metadata": {
    "execution": {
     "iopub.execute_input": "2024-11-12T21:50:37.572889Z",
     "iopub.status.busy": "2024-11-12T21:50:37.570440Z"
    },
    "papermill": {
     "duration": 0.018914,
     "end_time": "2024-11-24T00:21:03.865486",
     "exception": false,
     "start_time": "2024-11-24T00:21:03.846572",
     "status": "completed"
    },
    "tags": []
   },
   "source": [
    "TODO: Theil-Sein Linear Regression"
   ]
  },
  {
   "cell_type": "code",
   "execution_count": null,
   "id": "58fcc3cb",
   "metadata": {
    "papermill": {
     "duration": 0.017101,
     "end_time": "2024-11-24T00:21:03.900512",
     "exception": false,
     "start_time": "2024-11-24T00:21:03.883411",
     "status": "completed"
    },
    "tags": []
   },
   "outputs": [],
   "source": []
  }
 ],
 "metadata": {
  "kaggle": {
   "accelerator": "none",
   "dataSources": [
    {
     "datasetId": 6024843,
     "sourceId": 9824880,
     "sourceType": "datasetVersion"
    },
    {
     "datasetId": 2401195,
     "sourceId": 9867252,
     "sourceType": "datasetVersion"
    },
    {
     "datasetId": 2490157,
     "sourceId": 9876776,
     "sourceType": "datasetVersion"
    }
   ],
   "dockerImageVersionId": 30786,
   "isGpuEnabled": false,
   "isInternetEnabled": true,
   "language": "python",
   "sourceType": "notebook"
  },
  "kernelspec": {
   "display_name": "Python 3",
   "language": "python",
   "name": "python3"
  },
  "language_info": {
   "codemirror_mode": {
    "name": "ipython",
    "version": 3
   },
   "file_extension": ".py",
   "mimetype": "text/x-python",
   "name": "python",
   "nbconvert_exporter": "python",
   "pygments_lexer": "ipython3",
   "version": "3.10.14"
  },
  "papermill": {
   "default_parameters": {},
   "duration": 15211.140267,
   "end_time": "2024-11-24T00:21:05.054851",
   "environment_variables": {},
   "exception": null,
   "input_path": "__notebook__.ipynb",
   "output_path": "__notebook__.ipynb",
   "parameters": {},
   "start_time": "2024-11-23T20:07:33.914584",
   "version": "2.6.0"
  }
 },
 "nbformat": 4,
 "nbformat_minor": 5
}
