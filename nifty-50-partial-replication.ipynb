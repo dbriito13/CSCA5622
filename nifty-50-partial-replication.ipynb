{
 "cells": [
  {
   "cell_type": "markdown",
   "id": "7b6ca15f",
   "metadata": {
    "_cell_guid": "b1076dfc-b9ad-4769-8c92-a6c4dae69d19",
    "_uuid": "8f2839f25d086af736a60e9eeb907d3b93b6e0e5",
    "papermill": {
     "duration": 0.007377,
     "end_time": "2024-11-08T22:28:12.424657",
     "exception": false,
     "start_time": "2024-11-08T22:28:12.417280",
     "status": "completed"
    },
    "tags": []
   },
   "source": [
    "# Nifty 50 Partial Replication"
   ]
  },
  {
   "cell_type": "code",
   "execution_count": 1,
   "id": "b3bf0ea5",
   "metadata": {
    "execution": {
     "iopub.execute_input": "2024-11-08T22:28:12.439655Z",
     "iopub.status.busy": "2024-11-08T22:28:12.439181Z",
     "iopub.status.idle": "2024-11-08T22:28:15.140639Z",
     "shell.execute_reply": "2024-11-08T22:28:15.139333Z"
    },
    "papermill": {
     "duration": 2.712528,
     "end_time": "2024-11-08T22:28:15.143781",
     "exception": false,
     "start_time": "2024-11-08T22:28:12.431253",
     "status": "completed"
    },
    "tags": []
   },
   "outputs": [],
   "source": [
    "import pandas as pd\n",
    "import numpy as np\n",
    "from sklearn.model_selection import train_test_split\n",
    "from sklearn.linear_model import Lasso\n",
    "from sklearn.metrics import mean_squared_error, r2_score, make_scorer\n",
    "from sklearn.model_selection import cross_val_score, TimeSeriesSplit\n",
    "from sklearn.linear_model import LassoCV\n",
    "import matplotlib.pyplot as plt\n",
    "import os\n",
    "import glob\n",
    "from tqdm import tqdm\n",
    "import warnings\n",
    "warnings.filterwarnings(\"ignore\")"
   ]
  },
  {
   "cell_type": "code",
   "execution_count": 2,
   "id": "4a438660",
   "metadata": {
    "execution": {
     "iopub.execute_input": "2024-11-08T22:28:15.159421Z",
     "iopub.status.busy": "2024-11-08T22:28:15.158721Z",
     "iopub.status.idle": "2024-11-08T22:28:15.166398Z",
     "shell.execute_reply": "2024-11-08T22:28:15.165234Z"
    },
    "papermill": {
     "duration": 0.018866,
     "end_time": "2024-11-08T22:28:15.169544",
     "exception": false,
     "start_time": "2024-11-08T22:28:15.150678",
     "status": "completed"
    },
    "tags": []
   },
   "outputs": [],
   "source": [
    "def tracking_error(y_true, y_pred):\n",
    "    # Convert y_true and y_pred to pandas Series for easy handling of pct_change()\n",
    "    y_true = pd.Series(y_true)\n",
    "    y_pred = pd.Series(y_pred)\n",
    "    \n",
    "    # Calculate percentage change for true values and predictions\n",
    "    pct_change_true = y_true.pct_change() * 100\n",
    "    pct_change_pred = y_pred.pct_change() * 100\n",
    "    \n",
    "    # Calculate the difference between the percentage changes\n",
    "    diff_pct_change = pct_change_true - pct_change_pred    \n",
    "    \n",
    "    # Return the standard deviation of the differences (tracking error)\n",
    "    return np.std(diff_pct_change.dropna())  # dropna() to avoid NaN values in pct_change"
   ]
  },
  {
   "cell_type": "markdown",
   "id": "01acafb5",
   "metadata": {
    "papermill": {
     "duration": 0.00606,
     "end_time": "2024-11-08T22:28:15.182179",
     "exception": false,
     "start_time": "2024-11-08T22:28:15.176119",
     "status": "completed"
    },
    "tags": []
   },
   "source": [
    "## Data"
   ]
  },
  {
   "cell_type": "code",
   "execution_count": 3,
   "id": "ec7808f1",
   "metadata": {
    "execution": {
     "iopub.execute_input": "2024-11-08T22:28:15.196840Z",
     "iopub.status.busy": "2024-11-08T22:28:15.196425Z",
     "iopub.status.idle": "2024-11-08T22:28:15.202088Z",
     "shell.execute_reply": "2024-11-08T22:28:15.200679Z"
    },
    "papermill": {
     "duration": 0.016044,
     "end_time": "2024-11-08T22:28:15.204672",
     "exception": false,
     "start_time": "2024-11-08T22:28:15.188628",
     "status": "completed"
    },
    "tags": []
   },
   "outputs": [],
   "source": [
    "# directory_path = '/kaggle/input/stock-market-data-nifty-50-stocks-1-min-data'\n",
    "# pattern = os.path.join(directory_path, \"*.csv\")  # Change \"*.csv\" to match other patterns if needed\n",
    "\n",
    "# Get the list of files that match the pattern\n",
    "# file_list = glob.glob(pattern)"
   ]
  },
  {
   "cell_type": "code",
   "execution_count": 4,
   "id": "0e444b0a",
   "metadata": {
    "execution": {
     "iopub.execute_input": "2024-11-08T22:28:15.219723Z",
     "iopub.status.busy": "2024-11-08T22:28:15.219265Z",
     "iopub.status.idle": "2024-11-08T22:28:15.227124Z",
     "shell.execute_reply": "2024-11-08T22:28:15.225817Z"
    },
    "papermill": {
     "duration": 0.019094,
     "end_time": "2024-11-08T22:28:15.230388",
     "exception": false,
     "start_time": "2024-11-08T22:28:15.211294",
     "status": "completed"
    },
    "tags": []
   },
   "outputs": [],
   "source": [
    "def fetch_data(cols):\n",
    "    df_list = []\n",
    "    for file in tqdm(file_list):\n",
    "        stock_name = os.path.basename(file).split(\"_\")[0]\n",
    "        file_df = pd.read_csv(file, index_col=0)\n",
    "        file_df = file_df[[cols]]\n",
    "        file_df.columns = pd.MultiIndex.from_product([[stock_name], file_df.columns])\n",
    "        df_list.append(file_df)\n",
    "    return pd.concat(df_list, axis=1)"
   ]
  },
  {
   "cell_type": "code",
   "execution_count": 5,
   "id": "831002f5",
   "metadata": {
    "execution": {
     "iopub.execute_input": "2024-11-08T22:28:15.245603Z",
     "iopub.status.busy": "2024-11-08T22:28:15.245100Z",
     "iopub.status.idle": "2024-11-08T22:28:15.250737Z",
     "shell.execute_reply": "2024-11-08T22:28:15.249437Z"
    },
    "papermill": {
     "duration": 0.01624,
     "end_time": "2024-11-08T22:28:15.253344",
     "exception": false,
     "start_time": "2024-11-08T22:28:15.237104",
     "status": "completed"
    },
    "tags": []
   },
   "outputs": [],
   "source": [
    "# df = fetch_data('close')\n",
    "# df.to_csv('/kaggle/input/nifty_50_closing.csv')"
   ]
  },
  {
   "cell_type": "code",
   "execution_count": 6,
   "id": "12eab099",
   "metadata": {
    "execution": {
     "iopub.execute_input": "2024-11-08T22:28:15.268370Z",
     "iopub.status.busy": "2024-11-08T22:28:15.267864Z",
     "iopub.status.idle": "2024-11-08T22:28:41.434025Z",
     "shell.execute_reply": "2024-11-08T22:28:41.432780Z"
    },
    "papermill": {
     "duration": 26.17699,
     "end_time": "2024-11-08T22:28:41.436900",
     "exception": false,
     "start_time": "2024-11-08T22:28:15.259910",
     "status": "completed"
    },
    "tags": []
   },
   "outputs": [],
   "source": [
    "df = pd.read_csv('/kaggle/input/nifty-50-closing-data/nifty_50_closing.csv', index_col=0, header=[0, 1])\n",
    "df = df.xs('close', level=1, axis=1)\n",
    "df.index = pd.to_datetime(df.index)"
   ]
  },
  {
   "cell_type": "code",
   "execution_count": 7,
   "id": "b2f039aa",
   "metadata": {
    "execution": {
     "iopub.execute_input": "2024-11-08T22:28:41.453119Z",
     "iopub.status.busy": "2024-11-08T22:28:41.452275Z",
     "iopub.status.idle": "2024-11-08T22:28:43.771499Z",
     "shell.execute_reply": "2024-11-08T22:28:43.770225Z"
    },
    "papermill": {
     "duration": 2.330169,
     "end_time": "2024-11-08T22:28:43.774640",
     "exception": false,
     "start_time": "2024-11-08T22:28:41.444471",
     "status": "completed"
    },
    "tags": []
   },
   "outputs": [],
   "source": [
    "nifty_100_closing = pd.read_csv('/kaggle/input/nifty-50-minute-data/NIFTY 100_minute.csv', index_col=0)[['close']]\n",
    "nifty_100_closing.index = pd.to_datetime(nifty_100_closing.index)\n",
    "nifty_100_closing.rename(columns={'close': 'NIFTY_100'}, inplace=True)"
   ]
  },
  {
   "cell_type": "code",
   "execution_count": 8,
   "id": "1a26b737",
   "metadata": {
    "execution": {
     "iopub.execute_input": "2024-11-08T22:28:43.791253Z",
     "iopub.status.busy": "2024-11-08T22:28:43.790842Z",
     "iopub.status.idle": "2024-11-08T22:28:43.797792Z",
     "shell.execute_reply": "2024-11-08T22:28:43.796392Z"
    },
    "papermill": {
     "duration": 0.019179,
     "end_time": "2024-11-08T22:28:43.801070",
     "exception": false,
     "start_time": "2024-11-08T22:28:43.781891",
     "status": "completed"
    },
    "tags": []
   },
   "outputs": [
    {
     "name": "stdout",
     "output_type": "stream",
     "text": [
      "Index type for df1: <class 'pandas.core.indexes.datetimes.DatetimeIndex'>\n",
      "Index type for df2: <class 'pandas.core.indexes.datetimes.DatetimeIndex'>\n"
     ]
    }
   ],
   "source": [
    "print(f\"Index type for df1: {type(df.index)}\")\n",
    "print(f\"Index type for df2: {type(nifty_100_closing.index)}\")"
   ]
  },
  {
   "cell_type": "code",
   "execution_count": 9,
   "id": "9d941f08",
   "metadata": {
    "execution": {
     "iopub.execute_input": "2024-11-08T22:28:43.816353Z",
     "iopub.status.busy": "2024-11-08T22:28:43.815832Z",
     "iopub.status.idle": "2024-11-08T22:28:45.701767Z",
     "shell.execute_reply": "2024-11-08T22:28:45.700336Z"
    },
    "papermill": {
     "duration": 1.89728,
     "end_time": "2024-11-08T22:28:45.705126",
     "exception": false,
     "start_time": "2024-11-08T22:28:43.807846",
     "status": "completed"
    },
    "tags": []
   },
   "outputs": [
    {
     "data": {
      "text/html": [
       "<div>\n",
       "<style scoped>\n",
       "    .dataframe tbody tr th:only-of-type {\n",
       "        vertical-align: middle;\n",
       "    }\n",
       "\n",
       "    .dataframe tbody tr th {\n",
       "        vertical-align: top;\n",
       "    }\n",
       "\n",
       "    .dataframe thead th {\n",
       "        text-align: right;\n",
       "    }\n",
       "</style>\n",
       "<table border=\"1\" class=\"dataframe\">\n",
       "  <thead>\n",
       "    <tr style=\"text-align: right;\">\n",
       "      <th></th>\n",
       "      <th>HDFCAMC</th>\n",
       "      <th>APOLLOHOSP</th>\n",
       "      <th>BOSCHLTD</th>\n",
       "      <th>INDUSTOWER</th>\n",
       "      <th>BERGEPAINT</th>\n",
       "      <th>MARICO</th>\n",
       "      <th>ICICIPRULI</th>\n",
       "      <th>HDFCLIFE</th>\n",
       "      <th>SBIN</th>\n",
       "      <th>SUNPHARMA</th>\n",
       "      <th>...</th>\n",
       "      <th>SBICARD</th>\n",
       "      <th>DABUR</th>\n",
       "      <th>SAIL</th>\n",
       "      <th>BRITANNIA</th>\n",
       "      <th>ADANIPORTS</th>\n",
       "      <th>ONGC</th>\n",
       "      <th>EICHERMOT</th>\n",
       "      <th>TECHM</th>\n",
       "      <th>JINDALSTEL</th>\n",
       "      <th>HEROMOTOCO</th>\n",
       "    </tr>\n",
       "    <tr>\n",
       "      <th>date</th>\n",
       "      <th></th>\n",
       "      <th></th>\n",
       "      <th></th>\n",
       "      <th></th>\n",
       "      <th></th>\n",
       "      <th></th>\n",
       "      <th></th>\n",
       "      <th></th>\n",
       "      <th></th>\n",
       "      <th></th>\n",
       "      <th></th>\n",
       "      <th></th>\n",
       "      <th></th>\n",
       "      <th></th>\n",
       "      <th></th>\n",
       "      <th></th>\n",
       "      <th></th>\n",
       "      <th></th>\n",
       "      <th></th>\n",
       "      <th></th>\n",
       "      <th></th>\n",
       "    </tr>\n",
       "  </thead>\n",
       "  <tbody>\n",
       "    <tr>\n",
       "      <th>2018-08-06 10:47:00</th>\n",
       "      <td>1803.95</td>\n",
       "      <td>974.3</td>\n",
       "      <td>19187.45</td>\n",
       "      <td>290.0</td>\n",
       "      <td>316.85</td>\n",
       "      <td>357.95</td>\n",
       "      <td>408.50</td>\n",
       "      <td>485.00</td>\n",
       "      <td>306.70</td>\n",
       "      <td>579.65</td>\n",
       "      <td>...</td>\n",
       "      <td>0.0</td>\n",
       "      <td>435.30</td>\n",
       "      <td>79.35</td>\n",
       "      <td>3194.92</td>\n",
       "      <td>400.70</td>\n",
       "      <td>167.75</td>\n",
       "      <td>2711.3</td>\n",
       "      <td>670.45</td>\n",
       "      <td>207.65</td>\n",
       "      <td>3259.0</td>\n",
       "    </tr>\n",
       "    <tr>\n",
       "      <th>2018-08-06 10:48:00</th>\n",
       "      <td>1803.90</td>\n",
       "      <td>973.7</td>\n",
       "      <td>19187.45</td>\n",
       "      <td>290.0</td>\n",
       "      <td>316.50</td>\n",
       "      <td>357.55</td>\n",
       "      <td>408.10</td>\n",
       "      <td>484.95</td>\n",
       "      <td>306.70</td>\n",
       "      <td>579.30</td>\n",
       "      <td>...</td>\n",
       "      <td>0.0</td>\n",
       "      <td>435.15</td>\n",
       "      <td>79.30</td>\n",
       "      <td>3193.02</td>\n",
       "      <td>400.55</td>\n",
       "      <td>167.55</td>\n",
       "      <td>2710.6</td>\n",
       "      <td>670.55</td>\n",
       "      <td>207.80</td>\n",
       "      <td>3260.6</td>\n",
       "    </tr>\n",
       "    <tr>\n",
       "      <th>2018-08-06 10:49:00</th>\n",
       "      <td>1806.00</td>\n",
       "      <td>973.7</td>\n",
       "      <td>19187.45</td>\n",
       "      <td>290.0</td>\n",
       "      <td>316.85</td>\n",
       "      <td>357.20</td>\n",
       "      <td>408.85</td>\n",
       "      <td>485.00</td>\n",
       "      <td>306.75</td>\n",
       "      <td>579.45</td>\n",
       "      <td>...</td>\n",
       "      <td>0.0</td>\n",
       "      <td>435.70</td>\n",
       "      <td>79.30</td>\n",
       "      <td>3192.50</td>\n",
       "      <td>400.30</td>\n",
       "      <td>167.55</td>\n",
       "      <td>2709.8</td>\n",
       "      <td>670.65</td>\n",
       "      <td>207.55</td>\n",
       "      <td>3259.5</td>\n",
       "    </tr>\n",
       "  </tbody>\n",
       "</table>\n",
       "<p>3 rows × 101 columns</p>\n",
       "</div>"
      ],
      "text/plain": [
       "                     HDFCAMC  APOLLOHOSP  BOSCHLTD  INDUSTOWER  BERGEPAINT  \\\n",
       "date                                                                         \n",
       "2018-08-06 10:47:00  1803.95       974.3  19187.45       290.0      316.85   \n",
       "2018-08-06 10:48:00  1803.90       973.7  19187.45       290.0      316.50   \n",
       "2018-08-06 10:49:00  1806.00       973.7  19187.45       290.0      316.85   \n",
       "\n",
       "                     MARICO  ICICIPRULI  HDFCLIFE    SBIN  SUNPHARMA  ...  \\\n",
       "date                                                                  ...   \n",
       "2018-08-06 10:47:00  357.95      408.50    485.00  306.70     579.65  ...   \n",
       "2018-08-06 10:48:00  357.55      408.10    484.95  306.70     579.30  ...   \n",
       "2018-08-06 10:49:00  357.20      408.85    485.00  306.75     579.45  ...   \n",
       "\n",
       "                     SBICARD   DABUR   SAIL  BRITANNIA  ADANIPORTS    ONGC  \\\n",
       "date                                                                         \n",
       "2018-08-06 10:47:00      0.0  435.30  79.35    3194.92      400.70  167.75   \n",
       "2018-08-06 10:48:00      0.0  435.15  79.30    3193.02      400.55  167.55   \n",
       "2018-08-06 10:49:00      0.0  435.70  79.30    3192.50      400.30  167.55   \n",
       "\n",
       "                     EICHERMOT   TECHM  JINDALSTEL  HEROMOTOCO  \n",
       "date                                                            \n",
       "2018-08-06 10:47:00     2711.3  670.45      207.65      3259.0  \n",
       "2018-08-06 10:48:00     2710.6  670.55      207.80      3260.6  \n",
       "2018-08-06 10:49:00     2709.8  670.65      207.55      3259.5  \n",
       "\n",
       "[3 rows x 101 columns]"
      ]
     },
     "execution_count": 9,
     "metadata": {},
     "output_type": "execute_result"
    }
   ],
   "source": [
    "# df.interpolate(method='linear', inplace=True)\n",
    "# To fill the first row NaN with the value from the next minute\n",
    "df.fillna(0, inplace=True)\n",
    "df.index = df.index.tz_localize(None)\n",
    "df.head(3)"
   ]
  },
  {
   "cell_type": "code",
   "execution_count": 10,
   "id": "75aac33f",
   "metadata": {
    "execution": {
     "iopub.execute_input": "2024-11-08T22:28:45.721495Z",
     "iopub.status.busy": "2024-11-08T22:28:45.721024Z",
     "iopub.status.idle": "2024-11-08T22:28:46.099206Z",
     "shell.execute_reply": "2024-11-08T22:28:46.097865Z"
    },
    "papermill": {
     "duration": 0.389897,
     "end_time": "2024-11-08T22:28:46.102340",
     "exception": false,
     "start_time": "2024-11-08T22:28:45.712443",
     "status": "completed"
    },
    "tags": []
   },
   "outputs": [],
   "source": [
    "df_total = df.join(nifty_100_closing, how='left')"
   ]
  },
  {
   "cell_type": "code",
   "execution_count": 11,
   "id": "3bb16c3d",
   "metadata": {
    "execution": {
     "iopub.execute_input": "2024-11-08T22:28:46.118986Z",
     "iopub.status.busy": "2024-11-08T22:28:46.118562Z",
     "iopub.status.idle": "2024-11-08T22:28:46.497612Z",
     "shell.execute_reply": "2024-11-08T22:28:46.496458Z"
    },
    "papermill": {
     "duration": 0.391001,
     "end_time": "2024-11-08T22:28:46.500676",
     "exception": false,
     "start_time": "2024-11-08T22:28:46.109675",
     "status": "completed"
    },
    "tags": []
   },
   "outputs": [],
   "source": [
    "df_total.dropna(inplace=True)"
   ]
  },
  {
   "cell_type": "markdown",
   "id": "25576d69",
   "metadata": {
    "papermill": {
     "duration": 0.007027,
     "end_time": "2024-11-08T22:28:46.515053",
     "exception": false,
     "start_time": "2024-11-08T22:28:46.508026",
     "status": "completed"
    },
    "tags": []
   },
   "source": [
    "# Models"
   ]
  },
  {
   "cell_type": "markdown",
   "id": "d5a2c784",
   "metadata": {
    "papermill": {
     "duration": 0.006291,
     "end_time": "2024-11-08T22:28:46.527932",
     "exception": false,
     "start_time": "2024-11-08T22:28:46.521641",
     "status": "completed"
    },
    "tags": []
   },
   "source": [
    "# Lasso Regression"
   ]
  },
  {
   "cell_type": "code",
   "execution_count": 12,
   "id": "4dae1b71",
   "metadata": {
    "execution": {
     "iopub.execute_input": "2024-11-08T22:28:46.543420Z",
     "iopub.status.busy": "2024-11-08T22:28:46.542934Z",
     "iopub.status.idle": "2024-11-08T22:28:46.554305Z",
     "shell.execute_reply": "2024-11-08T22:28:46.552984Z"
    },
    "papermill": {
     "duration": 0.022206,
     "end_time": "2024-11-08T22:28:46.556851",
     "exception": false,
     "start_time": "2024-11-08T22:28:46.534645",
     "status": "completed"
    },
    "tags": []
   },
   "outputs": [],
   "source": [
    "def train_lasso(alpha, tscv, X, y):\n",
    "    lasso = Lasso(alpha=alpha, max_iter=25000)\n",
    "    scores = []\n",
    "    coefficients = []\n",
    "    \n",
    "    for train_index, test_index in tscv.split(X):\n",
    "        X_train_cv, X_test_cv = X.iloc[train_index], X.iloc[test_index]\n",
    "        y_train_cv, y_test_cv = y.iloc[train_index], y.iloc[test_index]\n",
    "        \n",
    "        # Fit Lasso model on the training data\n",
    "        lasso.fit(X_train_cv, y_train_cv)\n",
    "        \n",
    "        # Append the coefficients for this fold\n",
    "        coefficients.append(lasso.coef_)\n",
    "        \n",
    "        # Get predictions and calculate the custom score for this fold\n",
    "        y_pred = lasso.predict(X_test_cv)\n",
    "        fold_score = tracking_error(y_test_cv.values, y_pred)  # Replace with your custom metric\n",
    "        print(f\"Fold Score {fold_score}\")\n",
    "        scores.append(fold_score)\n",
    "    \n",
    "    # Calculate the average coefficients across all folds\n",
    "    average_coefficients = np.mean(coefficients, axis=0)\n",
    "    \n",
    "    # Calculate the average score across all folds\n",
    "    average_score = np.mean(scores)\n",
    "\n",
    "    print(f\"-------alpha: {alpha}-------\")\n",
    "    print(f\"CV Score: {average_score}\")\n",
    "    \n",
    "    selected_stocks = np.where(abs(average_coefficients) > 1e-5)[0]\n",
    "\n",
    "    return (selected_stocks, average_score)"
   ]
  },
  {
   "cell_type": "code",
   "execution_count": 13,
   "id": "3b2cbb7a",
   "metadata": {
    "execution": {
     "iopub.execute_input": "2024-11-08T22:28:46.573251Z",
     "iopub.status.busy": "2024-11-08T22:28:46.572140Z",
     "iopub.status.idle": "2024-11-09T05:11:33.940482Z",
     "shell.execute_reply": "2024-11-09T05:11:33.939189Z"
    },
    "papermill": {
     "duration": 24167.379664,
     "end_time": "2024-11-09T05:11:33.943509",
     "exception": false,
     "start_time": "2024-11-08T22:28:46.563845",
     "status": "completed"
    },
    "tags": []
   },
   "outputs": [
    {
     "name": "stdout",
     "output_type": "stream",
     "text": [
      "Fold Score 0.016407506109591588\n",
      "Fold Score 0.0211227393589968\n",
      "Fold Score 0.5603586284982243\n",
      "Fold Score 0.028295464482319264\n",
      "Fold Score 1.24676464649515\n",
      "-------alpha: 5-------\n",
      "CV Score: 0.3745897969888564\n",
      "Fold Score 0.018037045898346246\n",
      "Fold Score 0.017347658385069378\n",
      "Fold Score 0.4768168694906142\n",
      "Fold Score 0.028728517812315512\n",
      "Fold Score 1.2230798132556449\n",
      "-------alpha: 10-------\n",
      "CV Score: 0.3528019809683981\n",
      "Fold Score 0.023231487301974336\n",
      "Fold Score 0.016793553136484406\n",
      "Fold Score 0.410968358867356\n",
      "Fold Score 0.031623040395841774\n",
      "Fold Score 1.2414787633429885\n",
      "-------alpha: 25-------\n",
      "CV Score: 0.344819040608929\n",
      "Fold Score 0.029617067790998423\n",
      "Fold Score 0.017888125256666706\n",
      "Fold Score 0.38126057677016967\n",
      "Fold Score 0.027799887877839994\n",
      "Fold Score 1.024786391874147\n",
      "-------alpha: 50-------\n",
      "CV Score: 0.29627040991396436\n",
      "Fold Score 0.034392506374412886\n",
      "Fold Score 0.019211394299495855\n",
      "Fold Score 0.36481038506592867\n",
      "Fold Score 0.041526321074020746\n",
      "Fold Score 0.9233348082664106\n",
      "-------alpha: 75-------\n",
      "CV Score: 0.27665508301605374\n",
      "Fold Score 0.03953997372263953\n",
      "Fold Score 0.02117253840684429\n",
      "Fold Score 0.3586945902003784\n",
      "Fold Score 0.03685216847521684\n",
      "Fold Score 0.9192575775100045\n",
      "-------alpha: 100-------\n",
      "CV Score: 0.2751033696630167\n"
     ]
    },
    {
     "data": {
      "image/png": "[encoded data removed]",
      "text/plain": [
       "<Figure size 800x600 with 1 Axes>"
      ]
     },
     "metadata": {},
     "output_type": "display_data"
    }
   ],
   "source": [
    "X = df_total.drop(columns=['NIFTY 50', 'NIFTY BANK', 'NIFTY_100'])\n",
    "y = df_total['NIFTY_100']\n",
    "\n",
    "# TimeSeriesSplit to conserve the order of the data\n",
    "tscv = TimeSeriesSplit(n_splits=5)\n",
    "\n",
    "alphas = [5, 10, 25, 50, 75, 100]\n",
    "tracking_errs = []\n",
    "chosen_stocks = []\n",
    "for alpha in alphas:\n",
    "    (stocks, err) = train_lasso(alpha, tscv, X, y)\n",
    "    tracking_errs.append(err)\n",
    "    chosen_stocks.append(stocks)\n",
    "\n",
    "plt.figure(figsize=(8, 6))\n",
    "plt.plot(alphas, tracking_errs, marker='o', linestyle='-', color='b')\n",
    "plt.xscale('log')  # Use logarithmic scale for alpha\n",
    "plt.xlabel('Alpha')\n",
    "plt.ylabel('Tracking Error')\n",
    "plt.title('Tracking Error vs Alpha for Lasso Regression')\n",
    "plt.grid(True)\n",
    "plt.show()"
   ]
  },
  {
   "cell_type": "markdown",
   "id": "4cefe8db",
   "metadata": {
    "papermill": {
     "duration": 0.00979,
     "end_time": "2024-11-09T05:11:33.963539",
     "exception": false,
     "start_time": "2024-11-09T05:11:33.953749",
     "status": "completed"
    },
    "tags": []
   },
   "source": [
    "# Random Forest"
   ]
  }
 ],
 "metadata": {
  "kaggle": {
   "accelerator": "none",
   "dataSources": [
    {
     "datasetId": 2401195,
     "sourceId": 9515685,
     "sourceType": "datasetVersion"
    },
    {
     "datasetId": 6024843,
     "sourceId": 9824880,
     "sourceType": "datasetVersion"
    },
    {
     "datasetId": 2490157,
     "sourceId": 5846986,
     "sourceType": "datasetVersion"
    }
   ],
   "dockerImageVersionId": 30786,
   "isGpuEnabled": false,
   "isInternetEnabled": true,
   "language": "python",
   "sourceType": "notebook"
  },
  "kernelspec": {
   "display_name": "Python 3",
   "language": "python",
   "name": "python3"
  },
  "language_info": {
   "codemirror_mode": {
    "name": "ipython",
    "version": 3
   },
   "file_extension": ".py",
   "mimetype": "text/x-python",
   "name": "python",
   "nbconvert_exporter": "python",
   "pygments_lexer": "ipython3",
   "version": "3.10.14"
  },
  "papermill": {
   "default_parameters": {},
   "duration": 24205.57898,
   "end_time": "2024-11-09T05:11:34.796872",
   "environment_variables": {},
   "exception": null,
   "input_path": "__notebook__.ipynb",
   "output_path": "__notebook__.ipynb",
   "parameters": {},
   "start_time": "2024-11-08T22:28:09.217892",
   "version": "2.6.0"
  }
 },
 "nbformat": 4,
 "nbformat_minor": 5
}
