{
 "cells": [
  {
   "cell_type": "markdown",
   "id": "5e1fe436",
   "metadata": {
    "_cell_guid": "b1076dfc-b9ad-4769-8c92-a6c4dae69d19",
    "_uuid": "8f2839f25d086af736a60e9eeb907d3b93b6e0e5",
    "papermill": {
     "duration": 0.006549,
     "end_time": "2024-11-27T14:42:13.436058",
     "exception": false,
     "start_time": "2024-11-27T14:42:13.429509",
     "status": "completed"
    },
    "tags": []
   },
   "source": [
    "# Nifty 50 Partial Replication"
   ]
  },
  {
   "cell_type": "code",
   "execution_count": 1,
   "id": "4cfaa92c",
   "metadata": {
    "execution": {
     "iopub.execute_input": "2024-11-27T14:42:13.450147Z",
     "iopub.status.busy": "2024-11-27T14:42:13.449722Z",
     "iopub.status.idle": "2024-11-27T14:42:17.257632Z",
     "shell.execute_reply": "2024-11-27T14:42:17.256470Z"
    },
    "papermill": {
     "duration": 3.817628,
     "end_time": "2024-11-27T14:42:17.260155",
     "exception": false,
     "start_time": "2024-11-27T14:42:13.442527",
     "status": "completed"
    },
    "tags": []
   },
   "outputs": [],
   "source": [
    "import pandas as pd\n",
    "import numpy as np\n",
    "from sklearn.model_selection import train_test_split\n",
    "from sklearn.linear_model import Lasso\n",
    "from sklearn.metrics import mean_squared_error, r2_score, make_scorer\n",
    "from sklearn.model_selection import cross_val_score, TimeSeriesSplit, ParameterGrid\n",
    "from sklearn.linear_model import LassoCV\n",
    "import matplotlib.pyplot as plt\n",
    "import os\n",
    "import glob\n",
    "from tqdm import tqdm\n",
    "import warnings\n",
    "from sklearn.ensemble import RandomForestRegressor\n",
    "from sklearn.exceptions import ConvergenceWarning\n",
    "warnings.filterwarnings(\"ignore\")\n",
    "warnings.filterwarnings(\"always\", category=ConvergenceWarning)\n",
    "import seaborn as sns\n",
    "from sklearn.pipeline import Pipeline\n",
    "from mpl_toolkits.mplot3d import Axes3D\n",
    "from sklearn.linear_model import LinearRegression\n",
    "from sklearn.preprocessing import PolynomialFeatures\n",
    "import xgboost as xgb\n",
    "from sklearn.feature_selection import SelectFromModel,mutual_info_regression"
   ]
  },
  {
   "cell_type": "code",
   "execution_count": 2,
   "id": "e184cbfc",
   "metadata": {
    "execution": {
     "iopub.execute_input": "2024-11-27T14:42:17.273787Z",
     "iopub.status.busy": "2024-11-27T14:42:17.273231Z",
     "iopub.status.idle": "2024-11-27T14:42:17.279436Z",
     "shell.execute_reply": "2024-11-27T14:42:17.278050Z"
    },
    "papermill": {
     "duration": 0.0157,
     "end_time": "2024-11-27T14:42:17.281833",
     "exception": false,
     "start_time": "2024-11-27T14:42:17.266133",
     "status": "completed"
    },
    "tags": []
   },
   "outputs": [],
   "source": [
    "def tracking_error(y_true, y_pred):\n",
    "    # Convert y_true and y_pred to pandas Series for easy handling of pct_change()\n",
    "    y_true = pd.Series(y_true)\n",
    "    y_pred = pd.Series(y_pred)\n",
    "    \n",
    "    # Calculate percentage change for true values and predictions\n",
    "    # pct_change_true = y_true.pct_change() * 100\n",
    "    # pct_change_pred = y_pred.pct_change() * 100\n",
    "    \n",
    "    # Calculate the difference between the percentage changes\n",
    "    diff_pct_change = y_true - y_pred    \n",
    "    \n",
    "    # Return the standard deviation of the differences (tracking error)\n",
    "    return np.std(diff_pct_change.dropna())  # dropna() to avoid NaN values in pct_change"
   ]
  },
  {
   "cell_type": "code",
   "execution_count": 3,
   "id": "c40d2939",
   "metadata": {
    "execution": {
     "iopub.execute_input": "2024-11-27T14:42:17.295675Z",
     "iopub.status.busy": "2024-11-27T14:42:17.295276Z",
     "iopub.status.idle": "2024-11-27T14:42:17.301025Z",
     "shell.execute_reply": "2024-11-27T14:42:17.299930Z"
    },
    "papermill": {
     "duration": 0.015001,
     "end_time": "2024-11-27T14:42:17.303287",
     "exception": false,
     "start_time": "2024-11-27T14:42:17.288286",
     "status": "completed"
    },
    "tags": []
   },
   "outputs": [],
   "source": [
    "def adj_tracking_error(y_true, X_test, model):\n",
    "    cost = 0.001  # 0.1% cost\n",
    "    X_test_adjusted = X_test.copy()\n",
    "    X_test_adjusted[0, :] -= cost  # Subtract cost from the first return of each stock\n",
    "\n",
    "    # Predict with adjustment\n",
    "    y_pred_adjusted = model.predict(X_test_adjusted)\n",
    "    return tracking_error(y_true, y_pred_adjusted)"
   ]
  },
  {
   "cell_type": "markdown",
   "id": "4ec6982d",
   "metadata": {
    "papermill": {
     "duration": 0.005359,
     "end_time": "2024-11-27T14:42:17.315520",
     "exception": false,
     "start_time": "2024-11-27T14:42:17.310161",
     "status": "completed"
    },
    "tags": []
   },
   "source": [
    "# Data"
   ]
  },
  {
   "cell_type": "code",
   "execution_count": 4,
   "id": "c09910b9",
   "metadata": {
    "execution": {
     "iopub.execute_input": "2024-11-27T14:42:17.328730Z",
     "iopub.status.busy": "2024-11-27T14:42:17.328315Z",
     "iopub.status.idle": "2024-11-27T14:42:17.333040Z",
     "shell.execute_reply": "2024-11-27T14:42:17.331884Z"
    },
    "papermill": {
     "duration": 0.014042,
     "end_time": "2024-11-27T14:42:17.335334",
     "exception": false,
     "start_time": "2024-11-27T14:42:17.321292",
     "status": "completed"
    },
    "tags": []
   },
   "outputs": [],
   "source": [
    "# directory_path = '/kaggle/input/stock-market-data-nifty-50-stocks-1-min-data'\n",
    "# pattern = os.path.join(directory_path, \"*.csv\")  # Change \"*.csv\" to match other patterns if needed\n",
    "\n",
    "# Get the list of files that match the pattern\n",
    "# file_list = glob.glob(pattern)"
   ]
  },
  {
   "cell_type": "code",
   "execution_count": 5,
   "id": "a70f2d0f",
   "metadata": {
    "execution": {
     "iopub.execute_input": "2024-11-27T14:42:17.348783Z",
     "iopub.status.busy": "2024-11-27T14:42:17.348383Z",
     "iopub.status.idle": "2024-11-27T14:42:17.354915Z",
     "shell.execute_reply": "2024-11-27T14:42:17.353817Z"
    },
    "papermill": {
     "duration": 0.015754,
     "end_time": "2024-11-27T14:42:17.357045",
     "exception": false,
     "start_time": "2024-11-27T14:42:17.341291",
     "status": "completed"
    },
    "tags": []
   },
   "outputs": [],
   "source": [
    "def fetch_data(cols):\n",
    "    df_list = []\n",
    "    for file in tqdm(file_list):\n",
    "        stock_name = os.path.basename(file).split(\"_\")[0]\n",
    "        file_df = pd.read_csv(file, index_col=0)\n",
    "        file_df = file_df[[cols]]\n",
    "        file_df.columns = pd.MultiIndex.from_product([[stock_name], file_df.columns])\n",
    "        df_list.append(file_df)\n",
    "    return pd.concat(df_list, axis=1)"
   ]
  },
  {
   "cell_type": "code",
   "execution_count": 6,
   "id": "2c8851bb",
   "metadata": {
    "execution": {
     "iopub.execute_input": "2024-11-27T14:42:17.370788Z",
     "iopub.status.busy": "2024-11-27T14:42:17.370394Z",
     "iopub.status.idle": "2024-11-27T14:42:17.375420Z",
     "shell.execute_reply": "2024-11-27T14:42:17.374288Z"
    },
    "papermill": {
     "duration": 0.014426,
     "end_time": "2024-11-27T14:42:17.377682",
     "exception": false,
     "start_time": "2024-11-27T14:42:17.363256",
     "status": "completed"
    },
    "tags": []
   },
   "outputs": [],
   "source": [
    "# df = fetch_data('close')\n",
    "# df.to_csv('/kaggle/input/nifty_50_closing.csv')"
   ]
  },
  {
   "cell_type": "code",
   "execution_count": 7,
   "id": "fb58fc1b",
   "metadata": {
    "execution": {
     "iopub.execute_input": "2024-11-27T14:42:17.391062Z",
     "iopub.status.busy": "2024-11-27T14:42:17.390643Z",
     "iopub.status.idle": "2024-11-27T14:42:38.713273Z",
     "shell.execute_reply": "2024-11-27T14:42:38.711941Z"
    },
    "papermill": {
     "duration": 21.332139,
     "end_time": "2024-11-27T14:42:38.715698",
     "exception": false,
     "start_time": "2024-11-27T14:42:17.383559",
     "status": "completed"
    },
    "tags": []
   },
   "outputs": [
    {
     "name": "stdout",
     "output_type": "stream",
     "text": [
      "Number of rows with NaN values: 639555\n"
     ]
    }
   ],
   "source": [
    "df = pd.read_csv('/kaggle/input/nifty-50-closing-data/nifty_50_closing.csv', index_col=0, header=[0, 1])\n",
    "df = df.xs('close', level=1, axis=1)\n",
    "df.index = pd.to_datetime(df.index)\n",
    "\n",
    "nan_rows = df.isna().any(axis=1)\n",
    "\n",
    "# Get the number of rows with NaN values\n",
    "num_nan_rows = nan_rows.sum()\n",
    "\n",
    "print(f\"Number of rows with NaN values: {num_nan_rows}\")"
   ]
  },
  {
   "cell_type": "code",
   "execution_count": 8,
   "id": "446be7cf",
   "metadata": {
    "execution": {
     "iopub.execute_input": "2024-11-27T14:42:38.730141Z",
     "iopub.status.busy": "2024-11-27T14:42:38.729663Z",
     "iopub.status.idle": "2024-11-27T14:42:40.930777Z",
     "shell.execute_reply": "2024-11-27T14:42:40.929874Z"
    },
    "papermill": {
     "duration": 2.211238,
     "end_time": "2024-11-27T14:42:40.933335",
     "exception": false,
     "start_time": "2024-11-27T14:42:38.722097",
     "status": "completed"
    },
    "tags": []
   },
   "outputs": [],
   "source": [
    "nifty_100_closing = pd.read_csv('/kaggle/input/nifty-50-minute-data/NIFTY 100_minute.csv', index_col=0)[['close']]\n",
    "nifty_100_closing.index = pd.to_datetime(nifty_100_closing.index)\n",
    "nifty_100_closing.rename(columns={'close': 'NIFTY_100'}, inplace=True)"
   ]
  },
  {
   "cell_type": "code",
   "execution_count": 9,
   "id": "c9adeb1c",
   "metadata": {
    "execution": {
     "iopub.execute_input": "2024-11-27T14:42:40.946689Z",
     "iopub.status.busy": "2024-11-27T14:42:40.946323Z",
     "iopub.status.idle": "2024-11-27T14:42:40.952346Z",
     "shell.execute_reply": "2024-11-27T14:42:40.951092Z"
    },
    "papermill": {
     "duration": 0.015341,
     "end_time": "2024-11-27T14:42:40.954587",
     "exception": false,
     "start_time": "2024-11-27T14:42:40.939246",
     "status": "completed"
    },
    "tags": []
   },
   "outputs": [
    {
     "name": "stdout",
     "output_type": "stream",
     "text": [
      "Index type for df1: <class 'pandas.core.indexes.datetimes.DatetimeIndex'>\n",
      "Index type for df2: <class 'pandas.core.indexes.datetimes.DatetimeIndex'>\n"
     ]
    }
   ],
   "source": [
    "print(f\"Index type for df1: {type(df.index)}\")\n",
    "print(f\"Index type for df2: {type(nifty_100_closing.index)}\")"
   ]
  },
  {
   "cell_type": "code",
   "execution_count": 10,
   "id": "53c34244",
   "metadata": {
    "execution": {
     "iopub.execute_input": "2024-11-27T14:42:40.968250Z",
     "iopub.status.busy": "2024-11-27T14:42:40.967795Z",
     "iopub.status.idle": "2024-11-27T14:42:41.643217Z",
     "shell.execute_reply": "2024-11-27T14:42:41.641837Z"
    },
    "papermill": {
     "duration": 0.685214,
     "end_time": "2024-11-27T14:42:41.645801",
     "exception": false,
     "start_time": "2024-11-27T14:42:40.960587",
     "status": "completed"
    },
    "tags": []
   },
   "outputs": [
    {
     "name": "stdout",
     "output_type": "stream",
     "text": [
      "Number of rows with NaN values: 37207\n",
      "Number of rows with 0.0 values: 79\n",
      "Total rows 639981\n"
     ]
    }
   ],
   "source": [
    "threshold = 0.10\n",
    "# Drop columns with more than the threshold percentage of missing values\n",
    "df = df.dropna(thresh=int((1-threshold) * len(df)), axis=1)\n",
    "\n",
    "nan_rows = df.isna().any(axis=1)\n",
    "\n",
    "# Get the number of rows with NaN values\n",
    "num_nan_rows = nan_rows.sum()\n",
    "\n",
    "print(f\"Number of rows with NaN values: {num_nan_rows}\")\n",
    "\n",
    "df.dropna(axis=0, inplace=True)\n",
    "\n",
    "df.index = df.index.tz_localize(None)\n",
    "\n",
    "zero_rows = (df == 0.0).any(axis=1)\n",
    "\n",
    "num_zero_rows = zero_rows.sum()\n",
    "\n",
    "print(f\"Number of rows with 0.0 values: {num_zero_rows}\")\n",
    "print(f\"Total rows {len(df)}\")"
   ]
  },
  {
   "cell_type": "code",
   "execution_count": 11,
   "id": "1d07d745",
   "metadata": {
    "execution": {
     "iopub.execute_input": "2024-11-27T14:42:41.659919Z",
     "iopub.status.busy": "2024-11-27T14:42:41.659517Z",
     "iopub.status.idle": "2024-11-27T14:42:41.666999Z",
     "shell.execute_reply": "2024-11-27T14:42:41.665963Z"
    },
    "papermill": {
     "duration": 0.017078,
     "end_time": "2024-11-27T14:42:41.669324",
     "exception": false,
     "start_time": "2024-11-27T14:42:41.652246",
     "status": "completed"
    },
    "tags": []
   },
   "outputs": [
    {
     "data": {
      "text/plain": [
       "88"
      ]
     },
     "execution_count": 11,
     "metadata": {},
     "output_type": "execute_result"
    }
   ],
   "source": [
    "len(df.columns)"
   ]
  },
  {
   "cell_type": "code",
   "execution_count": 12,
   "id": "274a73c1",
   "metadata": {
    "execution": {
     "iopub.execute_input": "2024-11-27T14:42:41.683454Z",
     "iopub.status.busy": "2024-11-27T14:42:41.683047Z",
     "iopub.status.idle": "2024-11-27T14:42:41.992120Z",
     "shell.execute_reply": "2024-11-27T14:42:41.990973Z"
    },
    "papermill": {
     "duration": 0.319178,
     "end_time": "2024-11-27T14:42:41.994677",
     "exception": false,
     "start_time": "2024-11-27T14:42:41.675499",
     "status": "completed"
    },
    "tags": []
   },
   "outputs": [],
   "source": [
    "df_total = df.join(nifty_100_closing, how='left')"
   ]
  },
  {
   "cell_type": "code",
   "execution_count": 13,
   "id": "7071c9dc",
   "metadata": {
    "execution": {
     "iopub.execute_input": "2024-11-27T14:42:42.008434Z",
     "iopub.status.busy": "2024-11-27T14:42:42.008022Z",
     "iopub.status.idle": "2024-11-27T14:42:42.301109Z",
     "shell.execute_reply": "2024-11-27T14:42:42.299769Z"
    },
    "papermill": {
     "duration": 0.303008,
     "end_time": "2024-11-27T14:42:42.303788",
     "exception": false,
     "start_time": "2024-11-27T14:42:42.000780",
     "status": "completed"
    },
    "tags": []
   },
   "outputs": [],
   "source": [
    "df_total.dropna(inplace=True)"
   ]
  },
  {
   "cell_type": "code",
   "execution_count": 14,
   "id": "23d5aa6f",
   "metadata": {
    "execution": {
     "iopub.execute_input": "2024-11-27T14:42:42.318021Z",
     "iopub.status.busy": "2024-11-27T14:42:42.317621Z",
     "iopub.status.idle": "2024-11-27T14:42:44.250174Z",
     "shell.execute_reply": "2024-11-27T14:42:44.248656Z"
    },
    "papermill": {
     "duration": 1.942489,
     "end_time": "2024-11-27T14:42:44.252654",
     "exception": false,
     "start_time": "2024-11-27T14:42:42.310165",
     "status": "completed"
    },
    "tags": []
   },
   "outputs": [
    {
     "name": "stdout",
     "output_type": "stream",
     "text": [
      "Number of rows with large changes (>100.0%): 42\n"
     ]
    }
   ],
   "source": [
    "# Calculate the percentage change\n",
    "X_pct_change = df_total.pct_change()\n",
    "\n",
    "# Define the threshold for large changes (e.g., 100% change)\n",
    "threshold = 1.0  # 1.0 corresponds to 100% when working with pct_change()\n",
    "\n",
    "# Find rows with any column having a percentage change greater than the threshold\n",
    "large_change_rows = X_pct_change[(X_pct_change.abs() > threshold).any(axis=1)]\n",
    "\n",
    "# Get the number of rows where there are large percentage changes\n",
    "num_large_changes = large_change_rows.shape[0]\n",
    "\n",
    "print(f\"Number of rows with large changes (>{threshold * 100}%): {num_large_changes}\")"
   ]
  },
  {
   "cell_type": "code",
   "execution_count": 15,
   "id": "309a4b56",
   "metadata": {
    "execution": {
     "iopub.execute_input": "2024-11-27T14:42:44.267290Z",
     "iopub.status.busy": "2024-11-27T14:42:44.266924Z",
     "iopub.status.idle": "2024-11-27T14:42:44.272429Z",
     "shell.execute_reply": "2024-11-27T14:42:44.271116Z"
    },
    "papermill": {
     "duration": 0.01549,
     "end_time": "2024-11-27T14:42:44.274878",
     "exception": false,
     "start_time": "2024-11-27T14:42:44.259388",
     "status": "completed"
    },
    "tags": []
   },
   "outputs": [
    {
     "name": "stdout",
     "output_type": "stream",
     "text": [
      "629791\n"
     ]
    }
   ],
   "source": [
    "print(len(df_total))"
   ]
  },
  {
   "cell_type": "code",
   "execution_count": 16,
   "id": "55ab920a",
   "metadata": {
    "execution": {
     "iopub.execute_input": "2024-11-27T14:42:44.289130Z",
     "iopub.status.busy": "2024-11-27T14:42:44.288715Z",
     "iopub.status.idle": "2024-11-27T14:42:44.514749Z",
     "shell.execute_reply": "2024-11-27T14:42:44.513533Z"
    },
    "papermill": {
     "duration": 0.236085,
     "end_time": "2024-11-27T14:42:44.517241",
     "exception": false,
     "start_time": "2024-11-27T14:42:44.281156",
     "status": "completed"
    },
    "tags": []
   },
   "outputs": [],
   "source": [
    "df_total.sort_index(inplace=True)"
   ]
  },
  {
   "cell_type": "markdown",
   "id": "e27eab49",
   "metadata": {
    "papermill": {
     "duration": 0.005844,
     "end_time": "2024-11-27T14:42:44.529388",
     "exception": false,
     "start_time": "2024-11-27T14:42:44.523544",
     "status": "completed"
    },
    "tags": []
   },
   "source": [
    "# Models"
   ]
  },
  {
   "cell_type": "markdown",
   "id": "aa03432e",
   "metadata": {
    "papermill": {
     "duration": 0.005912,
     "end_time": "2024-11-27T14:42:44.541373",
     "exception": false,
     "start_time": "2024-11-27T14:42:44.535461",
     "status": "completed"
    },
    "tags": []
   },
   "source": [
    "## Combined Approach\n",
    "In this section, we will utilize a combined approach to limit the number of features (stocks) and train our models.\n",
    "\n",
    "1. Feature Selection (using Lasso w/ high alpha, Mutual Info, ANOVA, RFE)\n",
    "2. Define threshold to drop features\n",
    "3. Train model on reduced feature space (Hyperparameter tuned)\n",
    "4. Get tracking error\n",
    "5. Save pair (number of stocks, tracking error) for plotting"
   ]
  },
  {
   "cell_type": "markdown",
   "id": "608e9728",
   "metadata": {
    "papermill": {
     "duration": 0.00607,
     "end_time": "2024-11-27T14:42:44.553502",
     "exception": false,
     "start_time": "2024-11-27T14:42:44.547432",
     "status": "completed"
    },
    "tags": []
   },
   "source": [
    "### Lasso - Lasso\n",
    "\n",
    "We will utilize a Lasso model with a high alpha value to perform feature selection, this will drop the coefficients for less important features to 0. After that we retrain a Lasso model with hyperparameter tuning."
   ]
  },
  {
   "cell_type": "code",
   "execution_count": 17,
   "id": "01b74d23",
   "metadata": {
    "_kg_hide-input": true,
    "execution": {
     "iopub.execute_input": "2024-11-27T14:42:44.567714Z",
     "iopub.status.busy": "2024-11-27T14:42:44.567351Z",
     "iopub.status.idle": "2024-11-27T14:42:44.581295Z",
     "shell.execute_reply": "2024-11-27T14:42:44.579899Z"
    },
    "papermill": {
     "duration": 0.023613,
     "end_time": "2024-11-27T14:42:44.583308",
     "exception": false,
     "start_time": "2024-11-27T14:42:44.559695",
     "status": "completed"
    },
    "tags": []
   },
   "outputs": [],
   "source": [
    "from sklearn.preprocessing import StandardScaler\n",
    "\n",
    "def Lasso_Lasso(alpha, X, y):    \n",
    "    tscv = TimeSeriesSplit(n_splits=5)\n",
    "    stocks = []\n",
    "    num_stocks = []\n",
    "    fold_scores = []\n",
    "    adj_fold_scores = []\n",
    "    \n",
    "    for train_index, test_index in tscv.split(X):\n",
    "        X_train_cv, X_test_cv = X.iloc[train_index], X.iloc[test_index]\n",
    "        y_train_cv, y_test_cv = y.iloc[train_index], y.iloc[test_index]\n",
    "        train_period = X.iloc[train_index].index\n",
    "        test_period = X.iloc[test_index].index\n",
    "        \n",
    "        # Convert to date format\n",
    "        train_start_date, train_end_date = train_period.min(), train_period.max()\n",
    "        test_start_date, test_end_date = test_period.min(), test_period.max()\n",
    "        \n",
    "        print(f\"Train period: {train_start_date} to {train_end_date}\")\n",
    "        print(f\"Test period: {test_start_date} to {test_end_date}\")\n",
    "        scaler = StandardScaler()\n",
    "        X_scaled = scaler.fit_transform(X_train_cv)\n",
    "        \n",
    "        # Feature selection with alpha from list\n",
    "        lasso_fs = Lasso(alpha=alpha, max_iter=200)\n",
    "        lasso_fs.fit(X_scaled, y_train_cv)\n",
    "\n",
    "        #for feature, coef in zip(X_train_cv.columns, lasso_fs.coef_):\n",
    "        #    print(f\"{feature}: {coef}\")\n",
    "\n",
    "        selector = SelectFromModel(lasso_fs, threshold=10e-10, max_features=None)  # Adjust threshold as needed\n",
    "        X_selected_train = selector.transform(X_scaled)\n",
    "        X_selected_test = selector.transform(X_test_cv)\n",
    "\n",
    "        selected_features = np.where(selector.get_support())[0] \n",
    "        print(f\"Selected {len(selected_features)} stocks\")\n",
    "        num_stocks.append(len(selected_features))\n",
    "        stocks.append(selected_features)\n",
    "\n",
    "        best_alpha = None\n",
    "        best_score = float('inf')  # Assuming lower is better for your metric\n",
    "        for alph in [0.0001, 0.00025, 0.0005, 0.00075, 0.001, 0.002, 0.0025]:\n",
    "            lasso = Lasso(alpha=alph, max_iter=15000)\n",
    "            lasso.fit(X_selected_train, y_train_cv)\n",
    "    \n",
    "            y_pred = lasso.predict(X_selected_test)\n",
    "            fold_score = tracking_error(y_test_cv.values, y_pred)\n",
    "            adj_fold_score = adj_tracking_error(y_test_cv.values, X_selected_test, lasso)\n",
    "            # print(f\"Alpha: {alpha}, Fold Score: {fold_score}\")\n",
    "    \n",
    "            if fold_score < best_score:\n",
    "                best_score = fold_score\n",
    "                best_alpha = alpha\n",
    "    \n",
    "        print(f\"Best Alpha for this fold: {best_alpha}, Best Fold Score: {best_score}\")\n",
    "        fold_scores.append(best_score)\n",
    "        adj_fold_scores.append(adj_fold_score)\n",
    "        \n",
    "    # Calculate the average score across all folds\n",
    "    average_score = np.mean(fold_scores)\n",
    "    average_adj_score = np.mean(adj_fold_scores)\n",
    "\n",
    "    # Get average stocks chosen over all folds\n",
    "    average_selected_features = np.mean(num_stocks)\n",
    "    \n",
    "    # Print the tracking error for this alpha\n",
    "    print(f\"Alpha: {alpha}, Average Tracking Error: {average_score}\")\n",
    " \n",
    "    return stocks, average_selected_features, average_score, average_adj_score"
   ]
  },
  {
   "cell_type": "code",
   "execution_count": 18,
   "id": "914d4b60",
   "metadata": {
    "execution": {
     "iopub.execute_input": "2024-11-27T14:42:44.598168Z",
     "iopub.status.busy": "2024-11-27T14:42:44.597012Z",
     "iopub.status.idle": "2024-11-27T14:58:44.888467Z",
     "shell.execute_reply": "2024-11-27T14:58:44.887366Z"
    },
    "papermill": {
     "duration": 960.30106,
     "end_time": "2024-11-27T14:58:44.890628",
     "exception": false,
     "start_time": "2024-11-27T14:42:44.589568",
     "status": "completed"
    },
    "tags": []
   },
   "outputs": [
    {
     "name": "stdout",
     "output_type": "stream",
     "text": [
      "----------Starting alpha 0.001-------------\n",
      "Train period: 2015-02-02 10:19:00 to 2016-06-14 11:27:00\n",
      "Test period: 2016-06-14 11:28:00 to 2017-09-07 11:02:00\n",
      "Selected 71 stocks\n",
      "Best Alpha for this fold: 0.001, Best Fold Score: 0.037162753753355905\n",
      "Train period: 2015-02-02 10:19:00 to 2017-09-07 11:02:00\n",
      "Test period: 2017-09-07 11:03:00 to 2018-12-06 15:04:00\n",
      "Selected 74 stocks\n",
      "Best Alpha for this fold: 0.001, Best Fold Score: 0.03788367845018229\n",
      "Train period: 2015-02-02 10:19:00 to 2018-12-06 15:04:00\n",
      "Test period: 2018-12-06 15:05:00 to 2020-04-27 09:57:00\n",
      "Selected 75 stocks\n",
      "Best Alpha for this fold: 0.001, Best Fold Score: 0.0789119392269766\n",
      "Train period: 2015-02-02 10:19:00 to 2020-04-27 09:57:00\n",
      "Test period: 2020-04-27 09:58:00 to 2021-07-27 12:26:00\n",
      "Selected 75 stocks\n",
      "Best Alpha for this fold: 0.001, Best Fold Score: 0.05117952341278683\n",
      "Train period: 2015-02-02 10:19:00 to 2021-07-27 12:26:00\n",
      "Test period: 2021-07-27 12:27:00 to 2022-10-24 19:14:00\n",
      "Selected 77 stocks\n",
      "Best Alpha for this fold: 0.001, Best Fold Score: 0.04786536905873381\n",
      "Alpha: 0.001, Average Tracking Error: 0.05060065278040708\n",
      "----------Starting alpha 0.002-------------\n",
      "Train period: 2015-02-02 10:19:00 to 2016-06-14 11:27:00\n",
      "Test period: 2016-06-14 11:28:00 to 2017-09-07 11:02:00\n",
      "Selected 60 stocks\n",
      "Best Alpha for this fold: 0.002, Best Fold Score: 0.03727236242944657\n",
      "Train period: 2015-02-02 10:19:00 to 2017-09-07 11:02:00\n",
      "Test period: 2017-09-07 11:03:00 to 2018-12-06 15:04:00\n",
      "Selected 65 stocks\n",
      "Best Alpha for this fold: 0.002, Best Fold Score: 0.037955307792593034\n",
      "Train period: 2015-02-02 10:19:00 to 2018-12-06 15:04:00\n",
      "Test period: 2018-12-06 15:05:00 to 2020-04-27 09:57:00\n",
      "Selected 66 stocks\n",
      "Best Alpha for this fold: 0.002, Best Fold Score: 0.07899104538408343\n",
      "Train period: 2015-02-02 10:19:00 to 2020-04-27 09:57:00\n",
      "Test period: 2020-04-27 09:58:00 to 2021-07-27 12:26:00\n",
      "Selected 67 stocks\n",
      "Best Alpha for this fold: 0.002, Best Fold Score: 0.05119982607087828\n",
      "Train period: 2015-02-02 10:19:00 to 2021-07-27 12:26:00\n",
      "Test period: 2021-07-27 12:27:00 to 2022-10-24 19:14:00\n",
      "Selected 69 stocks\n",
      "Best Alpha for this fold: 0.002, Best Fold Score: 0.04788771245825526\n",
      "Alpha: 0.002, Average Tracking Error: 0.05066125082705132\n",
      "----------Starting alpha 0.003-------------\n",
      "Train period: 2015-02-02 10:19:00 to 2016-06-14 11:27:00\n",
      "Test period: 2016-06-14 11:28:00 to 2017-09-07 11:02:00\n",
      "Selected 53 stocks\n",
      "Best Alpha for this fold: 0.003, Best Fold Score: 0.03739408551894171\n",
      "Train period: 2015-02-02 10:19:00 to 2017-09-07 11:02:00\n",
      "Test period: 2017-09-07 11:03:00 to 2018-12-06 15:04:00\n",
      "Selected 54 stocks\n",
      "Best Alpha for this fold: 0.003, Best Fold Score: 0.03811876433435742\n",
      "Train period: 2015-02-02 10:19:00 to 2018-12-06 15:04:00\n",
      "Test period: 2018-12-06 15:05:00 to 2020-04-27 09:57:00\n",
      "Selected 56 stocks\n",
      "Best Alpha for this fold: 0.003, Best Fold Score: 0.07913820607056689\n",
      "Train period: 2015-02-02 10:19:00 to 2020-04-27 09:57:00\n",
      "Test period: 2020-04-27 09:58:00 to 2021-07-27 12:26:00\n",
      "Selected 58 stocks\n",
      "Best Alpha for this fold: 0.003, Best Fold Score: 0.051241962905543274\n",
      "Train period: 2015-02-02 10:19:00 to 2021-07-27 12:26:00\n",
      "Test period: 2021-07-27 12:27:00 to 2022-10-24 19:14:00\n",
      "Selected 58 stocks\n",
      "Best Alpha for this fold: 0.003, Best Fold Score: 0.04794300553913181\n",
      "Alpha: 0.003, Average Tracking Error: 0.05076720487370823\n",
      "----------Starting alpha 0.004-------------\n",
      "Train period: 2015-02-02 10:19:00 to 2016-06-14 11:27:00\n",
      "Test period: 2016-06-14 11:28:00 to 2017-09-07 11:02:00\n",
      "Selected 48 stocks\n",
      "Best Alpha for this fold: 0.004, Best Fold Score: 0.03743828777391885\n",
      "Train period: 2015-02-02 10:19:00 to 2017-09-07 11:02:00\n",
      "Test period: 2017-09-07 11:03:00 to 2018-12-06 15:04:00\n",
      "Selected 47 stocks\n",
      "Best Alpha for this fold: 0.004, Best Fold Score: 0.03812397754885566\n",
      "Train period: 2015-02-02 10:19:00 to 2018-12-06 15:04:00\n",
      "Test period: 2018-12-06 15:05:00 to 2020-04-27 09:57:00\n",
      "Selected 50 stocks\n",
      "Best Alpha for this fold: 0.004, Best Fold Score: 0.07921217703523542\n",
      "Train period: 2015-02-02 10:19:00 to 2020-04-27 09:57:00\n",
      "Test period: 2020-04-27 09:58:00 to 2021-07-27 12:26:00\n",
      "Selected 54 stocks\n",
      "Best Alpha for this fold: 0.004, Best Fold Score: 0.051312715710280135\n",
      "Train period: 2015-02-02 10:19:00 to 2021-07-27 12:26:00\n",
      "Test period: 2021-07-27 12:27:00 to 2022-10-24 19:14:00\n",
      "Selected 56 stocks\n",
      "Best Alpha for this fold: 0.004, Best Fold Score: 0.04795184986817281\n",
      "Alpha: 0.004, Average Tracking Error: 0.050807801587292575\n",
      "----------Starting alpha 0.005-------------\n",
      "Train period: 2015-02-02 10:19:00 to 2016-06-14 11:27:00\n",
      "Test period: 2016-06-14 11:28:00 to 2017-09-07 11:02:00\n",
      "Selected 42 stocks\n",
      "Best Alpha for this fold: 0.005, Best Fold Score: 0.037492997298306276\n",
      "Train period: 2015-02-02 10:19:00 to 2017-09-07 11:02:00\n",
      "Test period: 2017-09-07 11:03:00 to 2018-12-06 15:04:00\n",
      "Selected 44 stocks\n",
      "Best Alpha for this fold: 0.005, Best Fold Score: 0.03816262666696121\n",
      "Train period: 2015-02-02 10:19:00 to 2018-12-06 15:04:00\n",
      "Test period: 2018-12-06 15:05:00 to 2020-04-27 09:57:00\n",
      "Selected 43 stocks\n",
      "Best Alpha for this fold: 0.005, Best Fold Score: 0.07942535664042327\n",
      "Train period: 2015-02-02 10:19:00 to 2020-04-27 09:57:00\n",
      "Test period: 2020-04-27 09:58:00 to 2021-07-27 12:26:00\n",
      "Selected 46 stocks\n",
      "Best Alpha for this fold: 0.005, Best Fold Score: 0.05129864528401537\n",
      "Train period: 2015-02-02 10:19:00 to 2021-07-27 12:26:00\n",
      "Test period: 2021-07-27 12:27:00 to 2022-10-24 19:14:00\n",
      "Selected 49 stocks\n",
      "Best Alpha for this fold: 0.005, Best Fold Score: 0.048041929115934474\n",
      "Alpha: 0.005, Average Tracking Error: 0.05088431100112813\n",
      "----------Starting alpha 0.006-------------\n",
      "Train period: 2015-02-02 10:19:00 to 2016-06-14 11:27:00\n",
      "Test period: 2016-06-14 11:28:00 to 2017-09-07 11:02:00\n",
      "Selected 39 stocks\n",
      "Best Alpha for this fold: 0.006, Best Fold Score: 0.03751535491815237\n",
      "Train period: 2015-02-02 10:19:00 to 2017-09-07 11:02:00\n",
      "Test period: 2017-09-07 11:03:00 to 2018-12-06 15:04:00\n",
      "Selected 37 stocks\n",
      "Best Alpha for this fold: 0.006, Best Fold Score: 0.03825247409517249\n",
      "Train period: 2015-02-02 10:19:00 to 2018-12-06 15:04:00\n",
      "Test period: 2018-12-06 15:05:00 to 2020-04-27 09:57:00\n",
      "Selected 34 stocks\n",
      "Best Alpha for this fold: 0.006, Best Fold Score: 0.0796739410133596\n",
      "Train period: 2015-02-02 10:19:00 to 2020-04-27 09:57:00\n",
      "Test period: 2020-04-27 09:58:00 to 2021-07-27 12:26:00\n",
      "Selected 43 stocks\n",
      "Best Alpha for this fold: 0.006, Best Fold Score: 0.0512841315430149\n",
      "Train period: 2015-02-02 10:19:00 to 2021-07-27 12:26:00\n",
      "Test period: 2021-07-27 12:27:00 to 2022-10-24 19:14:00\n",
      "Selected 42 stocks\n",
      "Best Alpha for this fold: 0.006, Best Fold Score: 0.04804449507483369\n",
      "Alpha: 0.006, Average Tracking Error: 0.05095407932890661\n",
      "----------Starting alpha 0.007-------------\n",
      "Train period: 2015-02-02 10:19:00 to 2016-06-14 11:27:00\n",
      "Test period: 2016-06-14 11:28:00 to 2017-09-07 11:02:00\n",
      "Selected 37 stocks\n",
      "Best Alpha for this fold: 0.007, Best Fold Score: 0.037506470120982544\n",
      "Train period: 2015-02-02 10:19:00 to 2017-09-07 11:02:00\n",
      "Test period: 2017-09-07 11:03:00 to 2018-12-06 15:04:00\n",
      "Selected 32 stocks\n",
      "Best Alpha for this fold: 0.007, Best Fold Score: 0.03821035319569404\n",
      "Train period: 2015-02-02 10:19:00 to 2018-12-06 15:04:00\n",
      "Test period: 2018-12-06 15:05:00 to 2020-04-27 09:57:00\n",
      "Selected 30 stocks\n",
      "Best Alpha for this fold: 0.007, Best Fold Score: 0.07971797896995465\n",
      "Train period: 2015-02-02 10:19:00 to 2020-04-27 09:57:00\n",
      "Test period: 2020-04-27 09:58:00 to 2021-07-27 12:26:00\n",
      "Selected 37 stocks\n",
      "Best Alpha for this fold: 0.007, Best Fold Score: 0.05131518606087641\n",
      "Train period: 2015-02-02 10:19:00 to 2021-07-27 12:26:00\n",
      "Test period: 2021-07-27 12:27:00 to 2022-10-24 19:14:00\n",
      "Selected 37 stocks\n",
      "Best Alpha for this fold: 0.007, Best Fold Score: 0.048094068460142005\n",
      "Alpha: 0.007, Average Tracking Error: 0.050968811361529934\n",
      "----------Starting alpha 0.008-------------\n",
      "Train period: 2015-02-02 10:19:00 to 2016-06-14 11:27:00\n",
      "Test period: 2016-06-14 11:28:00 to 2017-09-07 11:02:00\n",
      "Selected 30 stocks\n",
      "Best Alpha for this fold: 0.008, Best Fold Score: 0.037617903382734366\n",
      "Train period: 2015-02-02 10:19:00 to 2017-09-07 11:02:00\n",
      "Test period: 2017-09-07 11:03:00 to 2018-12-06 15:04:00\n",
      "Selected 29 stocks\n",
      "Best Alpha for this fold: 0.008, Best Fold Score: 0.03826257819697936\n",
      "Train period: 2015-02-02 10:19:00 to 2018-12-06 15:04:00\n",
      "Test period: 2018-12-06 15:05:00 to 2020-04-27 09:57:00\n",
      "Selected 28 stocks\n",
      "Best Alpha for this fold: 0.008, Best Fold Score: 0.07974525469070899\n",
      "Train period: 2015-02-02 10:19:00 to 2020-04-27 09:57:00\n",
      "Test period: 2020-04-27 09:58:00 to 2021-07-27 12:26:00\n",
      "Selected 33 stocks\n",
      "Best Alpha for this fold: 0.008, Best Fold Score: 0.05137546889173795\n",
      "Train period: 2015-02-02 10:19:00 to 2021-07-27 12:26:00\n",
      "Test period: 2021-07-27 12:27:00 to 2022-10-24 19:14:00\n",
      "Selected 33 stocks\n",
      "Best Alpha for this fold: 0.008, Best Fold Score: 0.04810277314699157\n",
      "Alpha: 0.008, Average Tracking Error: 0.051020795661830445\n",
      "----------Starting alpha 0.009-------------\n",
      "Train period: 2015-02-02 10:19:00 to 2016-06-14 11:27:00\n",
      "Test period: 2016-06-14 11:28:00 to 2017-09-07 11:02:00\n",
      "Selected 24 stocks\n",
      "Best Alpha for this fold: 0.009, Best Fold Score: 0.037789523754328376\n",
      "Train period: 2015-02-02 10:19:00 to 2017-09-07 11:02:00\n",
      "Test period: 2017-09-07 11:03:00 to 2018-12-06 15:04:00\n",
      "Selected 28 stocks\n",
      "Best Alpha for this fold: 0.009, Best Fold Score: 0.03825841663619915\n",
      "Train period: 2015-02-02 10:19:00 to 2018-12-06 15:04:00\n",
      "Test period: 2018-12-06 15:05:00 to 2020-04-27 09:57:00\n",
      "Selected 24 stocks\n",
      "Best Alpha for this fold: 0.009, Best Fold Score: 0.07982562537906789\n",
      "Train period: 2015-02-02 10:19:00 to 2020-04-27 09:57:00\n",
      "Test period: 2020-04-27 09:58:00 to 2021-07-27 12:26:00\n",
      "Selected 27 stocks\n",
      "Best Alpha for this fold: 0.009, Best Fold Score: 0.051445163253378924\n",
      "Train period: 2015-02-02 10:19:00 to 2021-07-27 12:26:00\n",
      "Test period: 2021-07-27 12:27:00 to 2022-10-24 19:14:00\n",
      "Selected 29 stocks\n",
      "Best Alpha for this fold: 0.009, Best Fold Score: 0.04818485360791449\n",
      "Alpha: 0.009, Average Tracking Error: 0.05110071652617777\n",
      "----------Starting alpha 0.01-------------\n",
      "Train period: 2015-02-02 10:19:00 to 2016-06-14 11:27:00\n",
      "Test period: 2016-06-14 11:28:00 to 2017-09-07 11:02:00\n",
      "Selected 21 stocks\n",
      "Best Alpha for this fold: 0.01, Best Fold Score: 0.037861420810532724\n",
      "Train period: 2015-02-02 10:19:00 to 2017-09-07 11:02:00\n",
      "Test period: 2017-09-07 11:03:00 to 2018-12-06 15:04:00\n",
      "Selected 24 stocks\n",
      "Best Alpha for this fold: 0.01, Best Fold Score: 0.03836209279483645\n",
      "Train period: 2015-02-02 10:19:00 to 2018-12-06 15:04:00\n",
      "Test period: 2018-12-06 15:05:00 to 2020-04-27 09:57:00\n",
      "Selected 22 stocks\n",
      "Best Alpha for this fold: 0.01, Best Fold Score: 0.07992692568621305\n",
      "Train period: 2015-02-02 10:19:00 to 2020-04-27 09:57:00\n",
      "Test period: 2020-04-27 09:58:00 to 2021-07-27 12:26:00\n",
      "Selected 26 stocks\n",
      "Best Alpha for this fold: 0.01, Best Fold Score: 0.05145680495019022\n",
      "Train period: 2015-02-02 10:19:00 to 2021-07-27 12:26:00\n",
      "Test period: 2021-07-27 12:27:00 to 2022-10-24 19:14:00\n",
      "Selected 24 stocks\n",
      "Best Alpha for this fold: 0.01, Best Fold Score: 0.048275789225725244\n",
      "Alpha: 0.01, Average Tracking Error: 0.051176606693499535\n",
      "----------Starting alpha 0.011-------------\n",
      "Train period: 2015-02-02 10:19:00 to 2016-06-14 11:27:00\n",
      "Test period: 2016-06-14 11:28:00 to 2017-09-07 11:02:00\n",
      "Selected 20 stocks\n",
      "Best Alpha for this fold: 0.011, Best Fold Score: 0.037864165084792366\n",
      "Train period: 2015-02-02 10:19:00 to 2017-09-07 11:02:00\n",
      "Test period: 2017-09-07 11:03:00 to 2018-12-06 15:04:00\n",
      "Selected 20 stocks\n",
      "Best Alpha for this fold: 0.011, Best Fold Score: 0.03845123509761467\n",
      "Train period: 2015-02-02 10:19:00 to 2018-12-06 15:04:00\n",
      "Test period: 2018-12-06 15:05:00 to 2020-04-27 09:57:00\n",
      "Selected 20 stocks\n",
      "Best Alpha for this fold: 0.011, Best Fold Score: 0.08002858364248394\n",
      "Train period: 2015-02-02 10:19:00 to 2020-04-27 09:57:00\n",
      "Test period: 2020-04-27 09:58:00 to 2021-07-27 12:26:00\n",
      "Selected 23 stocks\n",
      "Best Alpha for this fold: 0.011, Best Fold Score: 0.05151242098845126\n",
      "Train period: 2015-02-02 10:19:00 to 2021-07-27 12:26:00\n",
      "Test period: 2021-07-27 12:27:00 to 2022-10-24 19:14:00\n",
      "Selected 22 stocks\n",
      "Best Alpha for this fold: 0.011, Best Fold Score: 0.04837999359245699\n",
      "Alpha: 0.011, Average Tracking Error: 0.05124727968115985\n",
      "----------Starting alpha 0.012-------------\n",
      "Train period: 2015-02-02 10:19:00 to 2016-06-14 11:27:00\n",
      "Test period: 2016-06-14 11:28:00 to 2017-09-07 11:02:00\n",
      "Selected 16 stocks\n",
      "Best Alpha for this fold: 0.012, Best Fold Score: 0.038045488783736044\n",
      "Train period: 2015-02-02 10:19:00 to 2017-09-07 11:02:00\n",
      "Test period: 2017-09-07 11:03:00 to 2018-12-06 15:04:00\n",
      "Selected 18 stocks\n",
      "Best Alpha for this fold: 0.012, Best Fold Score: 0.03844872195101009\n",
      "Train period: 2015-02-02 10:19:00 to 2018-12-06 15:04:00\n",
      "Test period: 2018-12-06 15:05:00 to 2020-04-27 09:57:00\n",
      "Selected 17 stocks\n",
      "Best Alpha for this fold: 0.012, Best Fold Score: 0.0801440685199051\n",
      "Train period: 2015-02-02 10:19:00 to 2020-04-27 09:57:00\n",
      "Test period: 2020-04-27 09:58:00 to 2021-07-27 12:26:00\n",
      "Selected 21 stocks\n",
      "Best Alpha for this fold: 0.012, Best Fold Score: 0.05150819587750012\n",
      "Train period: 2015-02-02 10:19:00 to 2021-07-27 12:26:00\n",
      "Test period: 2021-07-27 12:27:00 to 2022-10-24 19:14:00\n",
      "Selected 20 stocks\n",
      "Best Alpha for this fold: 0.012, Best Fold Score: 0.048451938475321685\n",
      "Alpha: 0.012, Average Tracking Error: 0.051319682721494606\n"
     ]
    },
    {
     "data": {
      "image/png": "[encoded data removed]",
      "text/plain": [
       "<Figure size 640x480 with 2 Axes>"
      ]
     },
     "metadata": {},
     "output_type": "display_data"
    }
   ],
   "source": [
    "df_total_z = df_total.replace(0, np.nan)  # Convert zeroes back to NaNs\n",
    "df_total_returns = df_total_z.pct_change().dropna()\n",
    "df_total_returns = 100*df_total_returns\n",
    "X = df_total_returns.drop(columns=['NIFTY 50', 'NIFTY BANK', 'NIFTY_100'])\n",
    "y = df_total_returns['NIFTY_100']\n",
    "\n",
    "alphas = [0.001, 0.002, 0.003, 0.004, 0.005, 0.006, 0.007, 0.008, 0.009, 0.01, 0.011, 0.012]\n",
    "tracking_errors = []\n",
    "adj_tracking_errors = []\n",
    "num_stocks_list = []\n",
    "\n",
    "for alpha in alphas:\n",
    "    print(f\"----------Starting alpha {alpha}-------------\")\n",
    "    _, num_stocks, tracking_err, adj_tracking_err = Lasso_Lasso(alpha, X, y)\n",
    "    num_stocks_list.append(num_stocks)\n",
    "    tracking_errors.append(tracking_err)\n",
    "    adj_tracking_errors.append(adj_tracking_err)\n",
    "\n",
    "# Plotting the results\n",
    "fig, ax1 = plt.subplots()\n",
    "\n",
    "# Plotting number of stocks on the primary y-axis\n",
    "color = 'tab:blue'\n",
    "ax1.set_xlabel('Alpha')\n",
    "ax1.set_ylabel('Number of Stocks', color=color)\n",
    "ax1.plot(alphas, num_stocks_list, color=color, marker='o', label='Number of Stocks')\n",
    "ax1.tick_params(axis='y', labelcolor=color)\n",
    "\n",
    "# Creating a second y-axis for tracking error\n",
    "ax2 = ax1.twinx()\n",
    "color = 'tab:red'\n",
    "ax2.set_ylabel('Tracking Error', color=color)\n",
    "#ax2.plot(alphas, tracking_errors, color='tab:green', marker='o', linestyle='--', label='Tracking Error')\n",
    "ax2.plot(alphas, adj_tracking_errors, color=color, marker='x', linestyle='--', label='Adjusted Tracking Error')\n",
    "ax2.tick_params(axis='y', labelcolor=color)\n",
    "\n",
    "# Adding a title and legend\n",
    "plt.title('Number of Stocks and Tracking Error vs. Alpha')\n",
    "fig.tight_layout()  # Adjust layout to prevent overlap\n",
    "plt.show()"
   ]
  },
  {
   "cell_type": "markdown",
   "id": "2f703b16",
   "metadata": {
    "papermill": {
     "duration": 0.014713,
     "end_time": "2024-11-27T14:58:44.920707",
     "exception": false,
     "start_time": "2024-11-27T14:58:44.905994",
     "status": "completed"
    },
    "tags": []
   },
   "source": [
    "### Mutual Info - Lasso\n",
    "Using mutual information between variables, which measures the dependency between them, 0 value being independence. By getting the mutual information between the features (stocks) and the target (NIFTY 100) we can \"discard\" the variables with lower dependencies. After feature selection, we traing a Lasso model with CV."
   ]
  },
  {
   "cell_type": "code",
   "execution_count": 19,
   "id": "58e980e0",
   "metadata": {
    "execution": {
     "iopub.execute_input": "2024-11-27T14:58:44.952602Z",
     "iopub.status.busy": "2024-11-27T14:58:44.952202Z",
     "iopub.status.idle": "2024-11-27T14:58:44.963766Z",
     "shell.execute_reply": "2024-11-27T14:58:44.962820Z"
    },
    "papermill": {
     "duration": 0.030194,
     "end_time": "2024-11-27T14:58:44.965968",
     "exception": false,
     "start_time": "2024-11-27T14:58:44.935774",
     "status": "completed"
    },
    "tags": []
   },
   "outputs": [],
   "source": [
    "from sklearn.preprocessing import StandardScaler\n",
    "\n",
    "def MI_Experiment(percentile, X, y, model_class, params):\n",
    "    tscv = TimeSeriesSplit(n_splits=5)\n",
    "    stocks = []\n",
    "    num_stocks = []\n",
    "    fold_scores = []\n",
    "    adj_fold_scores = []\n",
    "    \n",
    "    for train_index, test_index in tscv.split(X):\n",
    "        X_train_cv, X_test_cv = X.iloc[train_index], X.iloc[test_index]\n",
    "        y_train_cv, y_test_cv = y.iloc[train_index], y.iloc[test_index]\n",
    "\n",
    "        scaler = StandardScaler()\n",
    "        X_scaled = scaler.fit_transform(X_train_cv)\n",
    "\n",
    "        # Feature selection with alpha from list\n",
    "        mi_scores = mutual_info_regression(X_train_cv, y_train_cv)\n",
    "        mi_scores_series = pd.Series(mi_scores, index=X_train_cv.columns)\n",
    "\n",
    "        threshold_value = mi_scores_series.quantile(percentile)\n",
    "        \n",
    "        selected_features = mi_scores_series[mi_scores_series > threshold_value].index\n",
    "        selected_indices = [X_train_cv.columns.get_loc(feature) for feature in selected_features]\n",
    "\n",
    "        # Filter the NumPy arrays based on the selected feature indices\n",
    "        X_train_selected = X_scaled[:, selected_indices]\n",
    "        X_test_selected = X_test_cv.to_numpy()[:, selected_indices]\n",
    "    \n",
    "        print(f\"Selected {len(selected_features)} stocks\")\n",
    "        num_stocks.append(len(selected_features))\n",
    "        stocks.append(selected_features)\n",
    "\n",
    "        best_params = None\n",
    "        best_score = float('inf')  # Assuming lower is better for your metric\n",
    "        for param in ParameterGrid(params):\n",
    "            model = model_class(**param)\n",
    "            model.fit(X_train_selected, y_train_cv)\n",
    "    \n",
    "            y_pred = model.predict(X_test_selected)\n",
    "            fold_score = tracking_error(y_test_cv.values, y_pred)\n",
    "            adj_fold_score = adj_tracking_error(y_test_cv.values, X_test_selected, model)\n",
    "            # print(f\"Alpha: {alpha}, Fold Score: {fold_score}\")\n",
    "    \n",
    "            if fold_score < best_score:\n",
    "                best_score = fold_score\n",
    "                best_params = param\n",
    "    \n",
    "        print(f\"Best Params for this fold: {best_params}, Best Fold Score: {best_score}\")\n",
    "        fold_scores.append(best_score)\n",
    "        adj_fold_scores.append(adj_fold_score)\n",
    "        \n",
    "    # Calculate the average score across all folds\n",
    "    average_score = np.mean(fold_scores)\n",
    "    average_adj_score = np.mean(adj_fold_scores)\n",
    "\n",
    "    # Get average stocks chosen over all folds\n",
    "    average_selected_features = np.mean(num_stocks)\n",
    "    \n",
    "    # Print the tracking error for this alpha\n",
    "    print(f\"Percentile: {percentile}, Average Tracking Error: {average_score}\")\n",
    " \n",
    "    return stocks, average_selected_features, average_score, average_adj_score"
   ]
  },
  {
   "cell_type": "code",
   "execution_count": 20,
   "id": "9d687b37",
   "metadata": {
    "execution": {
     "iopub.execute_input": "2024-11-27T14:58:44.998171Z",
     "iopub.status.busy": "2024-11-27T14:58:44.997741Z",
     "iopub.status.idle": "2024-11-27T18:50:23.244845Z",
     "shell.execute_reply": "2024-11-27T18:50:23.241564Z"
    },
    "papermill": {
     "duration": 13898.267972,
     "end_time": "2024-11-27T18:50:23.249250",
     "exception": false,
     "start_time": "2024-11-27T14:58:44.981278",
     "status": "completed"
    },
    "tags": []
   },
   "outputs": [
    {
     "name": "stdout",
     "output_type": "stream",
     "text": [
      "Starting percentile: 0.0\n",
      "Selected 85 stocks\n",
      "Best Params for this fold: {'alpha': 0.0001, 'max_iter': 15000}, Best Fold Score: 0.03711004575155275\n",
      "Selected 85 stocks\n",
      "Best Params for this fold: {'alpha': 0.0001, 'max_iter': 15000}, Best Fold Score: 0.03786548963142361\n",
      "Selected 85 stocks\n",
      "Best Params for this fold: {'alpha': 0.0001, 'max_iter': 15000}, Best Fold Score: 0.07887967392419576\n",
      "Selected 85 stocks\n",
      "Best Params for this fold: {'alpha': 0.0001, 'max_iter': 15000}, Best Fold Score: 0.05115319071879367\n",
      "Selected 85 stocks\n",
      "Best Params for this fold: {'alpha': 0.0001, 'max_iter': 15000}, Best Fold Score: 0.04783309931005052\n",
      "Percentile: 0.0, Average Tracking Error: 0.05056829986720326\n",
      "Starting percentile: 0.1\n",
      "Selected 77 stocks\n",
      "Best Params for this fold: {'alpha': 0.0001, 'max_iter': 15000}, Best Fold Score: 0.03712650912196169\n",
      "Selected 77 stocks\n",
      "Best Params for this fold: {'alpha': 0.0001, 'max_iter': 15000}, Best Fold Score: 0.03787101852297473\n",
      "Selected 77 stocks\n",
      "Best Params for this fold: {'alpha': 0.0001, 'max_iter': 15000}, Best Fold Score: 0.07893567992809461\n",
      "Selected 77 stocks\n",
      "Best Params for this fold: {'alpha': 0.0001, 'max_iter': 15000}, Best Fold Score: 0.05116791991676884\n",
      "Selected 77 stocks\n",
      "Best Params for this fold: {'alpha': 0.0001, 'max_iter': 15000}, Best Fold Score: 0.04785834218217817\n",
      "Percentile: 0.1, Average Tracking Error: 0.0505918939343956\n",
      "Starting percentile: 0.2\n",
      "Selected 68 stocks\n",
      "Best Params for this fold: {'alpha': 0.0001, 'max_iter': 15000}, Best Fold Score: 0.03720404420840439\n",
      "Selected 68 stocks\n",
      "Best Params for this fold: {'alpha': 0.0001, 'max_iter': 15000}, Best Fold Score: 0.03791812399938034\n",
      "Selected 68 stocks\n",
      "Best Params for this fold: {'alpha': 0.0001, 'max_iter': 15000}, Best Fold Score: 0.07897509166757395\n",
      "Selected 68 stocks\n",
      "Best Params for this fold: {'alpha': 0.0001, 'max_iter': 15000}, Best Fold Score: 0.051196262018607185\n",
      "Selected 68 stocks\n",
      "Best Params for this fold: {'alpha': 0.0001, 'max_iter': 15000}, Best Fold Score: 0.047885616721718316\n",
      "Percentile: 0.2, Average Tracking Error: 0.050635827723136836\n",
      "Starting percentile: 0.3\n",
      "Selected 60 stocks\n",
      "Best Params for this fold: {'alpha': 0.0001, 'max_iter': 15000}, Best Fold Score: 0.03728714064567255\n",
      "Selected 60 stocks\n",
      "Best Params for this fold: {'alpha': 0.0001, 'max_iter': 15000}, Best Fold Score: 0.03797022172955456\n",
      "Selected 60 stocks\n",
      "Best Params for this fold: {'alpha': 0.0001, 'max_iter': 15000}, Best Fold Score: 0.07913469943795315\n",
      "Selected 60 stocks\n",
      "Best Params for this fold: {'alpha': 0.0001, 'max_iter': 15000}, Best Fold Score: 0.0511544337662939\n",
      "Selected 60 stocks\n",
      "Best Params for this fold: {'alpha': 0.0001, 'max_iter': 15000}, Best Fold Score: 0.047919435423520784\n",
      "Percentile: 0.3, Average Tracking Error: 0.050693186200599\n",
      "Starting percentile: 0.4\n",
      "Selected 51 stocks\n",
      "Best Params for this fold: {'alpha': 0.0001, 'max_iter': 15000}, Best Fold Score: 0.03733148979173012\n",
      "Selected 51 stocks\n",
      "Best Params for this fold: {'alpha': 0.0001, 'max_iter': 15000}, Best Fold Score: 0.037916416935428895\n",
      "Selected 51 stocks\n",
      "Best Params for this fold: {'alpha': 0.0001, 'max_iter': 15000}, Best Fold Score: 0.07920368483296046\n",
      "Selected 51 stocks\n",
      "Best Params for this fold: {'alpha': 0.0001, 'max_iter': 15000}, Best Fold Score: 0.051258967988168216\n",
      "Selected 51 stocks\n",
      "Best Params for this fold: {'alpha': 0.0001, 'max_iter': 15000}, Best Fold Score: 0.04795439400891279\n",
      "Percentile: 0.4, Average Tracking Error: 0.05073299071144009\n",
      "Starting percentile: 0.5\n",
      "Selected 43 stocks\n",
      "Best Params for this fold: {'alpha': 0.0001, 'max_iter': 15000}, Best Fold Score: 0.037326885000390914\n",
      "Selected 43 stocks\n",
      "Best Params for this fold: {'alpha': 0.0001, 'max_iter': 15000}, Best Fold Score: 0.03790675680719705\n",
      "Selected 43 stocks\n",
      "Best Params for this fold: {'alpha': 0.0001, 'max_iter': 15000}, Best Fold Score: 0.07936516921706296\n",
      "Selected 43 stocks\n",
      "Best Params for this fold: {'alpha': 0.0001, 'max_iter': 15000}, Best Fold Score: 0.05118063026022665\n",
      "Selected 43 stocks\n",
      "Best Params for this fold: {'alpha': 0.0001, 'max_iter': 15000}, Best Fold Score: 0.04808013569199707\n",
      "Percentile: 0.5, Average Tracking Error: 0.050771915395374935\n",
      "Starting percentile: 0.6\n",
      "Selected 34 stocks\n",
      "Best Params for this fold: {'alpha': 0.0001, 'max_iter': 15000}, Best Fold Score: 0.03741866233329943\n",
      "Selected 34 stocks\n",
      "Best Params for this fold: {'alpha': 0.0001, 'max_iter': 15000}, Best Fold Score: 0.03804687835941994\n",
      "Selected 34 stocks\n",
      "Best Params for this fold: {'alpha': 0.0001, 'max_iter': 15000}, Best Fold Score: 0.07949877192436978\n",
      "Selected 34 stocks\n",
      "Best Params for this fold: {'alpha': 0.0001, 'max_iter': 15000}, Best Fold Score: 0.05110069930796639\n",
      "Selected 34 stocks\n",
      "Best Params for this fold: {'alpha': 0.0001, 'max_iter': 15000}, Best Fold Score: 0.04815547317374424\n",
      "Percentile: 0.6, Average Tracking Error: 0.05084409701975996\n"
     ]
    },
    {
     "data": {
      "image/png": "[encoded data removed]",
      "text/plain": [
       "<Figure size 640x480 with 1 Axes>"
      ]
     },
     "metadata": {},
     "output_type": "display_data"
    }
   ],
   "source": [
    "df_total_z = df_total.replace(0, np.nan)  # Convert zeroes back to NaNs\n",
    "df_total_returns = df_total_z.pct_change().dropna()\n",
    "df_total_returns = 100*df_total_returns\n",
    "X = df_total_returns.drop(columns=['NIFTY 50', 'NIFTY BANK', 'NIFTY_100'])\n",
    "y = df_total_returns['NIFTY_100']\n",
    "\n",
    "tracking_errors = []\n",
    "adj_tracking_errors = []\n",
    "num_stocks_list = []\n",
    "\n",
    "percentiles = [0.0, 0.1, 0.2, 0.3, 0.4, 0.5, 0.6]\n",
    "param_grid = {\n",
    "    'alpha': [0.0001, 0.00025, 0.0005, 0.00075, 0.001, 0.002, 0.0025],\n",
    "    'max_iter': [15000]\n",
    "}\n",
    "\n",
    "\n",
    "for percentile in percentiles:\n",
    "    print(f\"Starting percentile: {percentile}\")\n",
    "    _, num_stocks, tracking_err, adj_tracking_err = MI_Experiment(percentile, X, y, Lasso, param_grid)\n",
    "    num_stocks_list.append(num_stocks)\n",
    "    tracking_errors.append(tracking_err)\n",
    "    adj_tracking_errors.append(adj_tracking_err)\n",
    "\n",
    "# Plotting the results\n",
    "fig, ax1 = plt.subplots()\n",
    "\n",
    "# Plotting number of stocks on the primary y-axis\n",
    "plt.plot(num_stocks_list, adj_tracking_errors, marker='x')\n",
    "plt.xlabel('Number of Stocks')\n",
    "plt.ylabel('Tracking Error')\n",
    "plt.title('Tracking Errors vs Number of Stocks')\n",
    "plt.grid(True)\n",
    "plt.show()"
   ]
  },
  {
   "cell_type": "markdown",
   "id": "eb71b4dd",
   "metadata": {
    "papermill": {
     "duration": 0.020777,
     "end_time": "2024-11-27T18:50:23.290328",
     "exception": false,
     "start_time": "2024-11-27T18:50:23.269551",
     "status": "completed"
    },
    "tags": []
   },
   "source": [
    "### MI - Polynomial Regression"
   ]
  },
  {
   "cell_type": "markdown",
   "id": "f64b7ac5",
   "metadata": {
    "execution": {
     "iopub.execute_input": "2024-11-12T21:50:37.572889Z",
     "iopub.status.busy": "2024-11-12T21:50:37.570440Z"
    },
    "papermill": {
     "duration": 0.019401,
     "end_time": "2024-11-27T18:50:23.329083",
     "exception": false,
     "start_time": "2024-11-27T18:50:23.309682",
     "status": "completed"
    },
    "tags": []
   },
   "source": [
    "TODO: Theil-Sein Linear Regression"
   ]
  },
  {
   "cell_type": "code",
   "execution_count": null,
   "id": "57ab1897",
   "metadata": {
    "papermill": {
     "duration": 0.019299,
     "end_time": "2024-11-27T18:50:23.367656",
     "exception": false,
     "start_time": "2024-11-27T18:50:23.348357",
     "status": "completed"
    },
    "tags": []
   },
   "outputs": [],
   "source": []
  }
 ],
 "metadata": {
  "kaggle": {
   "accelerator": "none",
   "dataSources": [
    {
     "datasetId": 6024843,
     "sourceId": 9824880,
     "sourceType": "datasetVersion"
    },
    {
     "datasetId": 2401195,
     "sourceId": 9867252,
     "sourceType": "datasetVersion"
    },
    {
     "datasetId": 2490157,
     "sourceId": 9876776,
     "sourceType": "datasetVersion"
    }
   ],
   "dockerImageVersionId": 30786,
   "isGpuEnabled": false,
   "isInternetEnabled": true,
   "language": "python",
   "sourceType": "notebook"
  },
  "kernelspec": {
   "display_name": "Python 3",
   "language": "python",
   "name": "python3"
  },
  "language_info": {
   "codemirror_mode": {
    "name": "ipython",
    "version": 3
   },
   "file_extension": ".py",
   "mimetype": "text/x-python",
   "name": "python",
   "nbconvert_exporter": "python",
   "pygments_lexer": "ipython3",
   "version": "3.10.14"
  },
  "papermill": {
   "default_parameters": {},
   "duration": 14894.022909,
   "end_time": "2024-11-27T18:50:24.622468",
   "environment_variables": {},
   "exception": null,
   "input_path": "__notebook__.ipynb",
   "output_path": "__notebook__.ipynb",
   "parameters": {},
   "start_time": "2024-11-27T14:42:10.599559",
   "version": "2.6.0"
  }
 },
 "nbformat": 4,
 "nbformat_minor": 5
}
