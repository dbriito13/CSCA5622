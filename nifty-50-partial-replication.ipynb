{
 "cells": [
  {
   "cell_type": "markdown",
   "id": "25bca20d",
   "metadata": {
    "_cell_guid": "b1076dfc-b9ad-4769-8c92-a6c4dae69d19",
    "_uuid": "8f2839f25d086af736a60e9eeb907d3b93b6e0e5",
    "papermill": {
     "duration": 0.006627,
     "end_time": "2024-11-27T10:40:26.445759",
     "exception": false,
     "start_time": "2024-11-27T10:40:26.439132",
     "status": "completed"
    },
    "tags": []
   },
   "source": [
    "# Nifty 50 Partial Replication"
   ]
  },
  {
   "cell_type": "code",
   "execution_count": 1,
   "id": "57837b9f",
   "metadata": {
    "execution": {
     "iopub.execute_input": "2024-11-27T10:40:26.459458Z",
     "iopub.status.busy": "2024-11-27T10:40:26.458560Z",
     "iopub.status.idle": "2024-11-27T10:40:29.800345Z",
     "shell.execute_reply": "2024-11-27T10:40:29.799347Z"
    },
    "papermill": {
     "duration": 3.351127,
     "end_time": "2024-11-27T10:40:29.802805",
     "exception": false,
     "start_time": "2024-11-27T10:40:26.451678",
     "status": "completed"
    },
    "tags": []
   },
   "outputs": [],
   "source": [
    "import pandas as pd\n",
    "import numpy as np\n",
    "from sklearn.model_selection import train_test_split\n",
    "from sklearn.linear_model import Lasso\n",
    "from sklearn.metrics import mean_squared_error, r2_score, make_scorer\n",
    "from sklearn.model_selection import cross_val_score, TimeSeriesSplit, ParameterGrid\n",
    "from sklearn.linear_model import LassoCV\n",
    "import matplotlib.pyplot as plt\n",
    "import os\n",
    "import glob\n",
    "from tqdm import tqdm\n",
    "import warnings\n",
    "from sklearn.ensemble import RandomForestRegressor\n",
    "from sklearn.exceptions import ConvergenceWarning\n",
    "warnings.filterwarnings(\"ignore\")\n",
    "warnings.filterwarnings(\"always\", category=ConvergenceWarning)\n",
    "import seaborn as sns\n",
    "from sklearn.pipeline import Pipeline\n",
    "from mpl_toolkits.mplot3d import Axes3D\n",
    "from sklearn.linear_model import LinearRegression\n",
    "from sklearn.preprocessing import PolynomialFeatures\n",
    "import xgboost as xgb\n",
    "from sklearn.feature_selection import SelectFromModel,mutual_info_regression"
   ]
  },
  {
   "cell_type": "code",
   "execution_count": 2,
   "id": "c62de9ff",
   "metadata": {
    "execution": {
     "iopub.execute_input": "2024-11-27T10:40:29.815920Z",
     "iopub.status.busy": "2024-11-27T10:40:29.815375Z",
     "iopub.status.idle": "2024-11-27T10:40:29.821405Z",
     "shell.execute_reply": "2024-11-27T10:40:29.820164Z"
    },
    "papermill": {
     "duration": 0.015193,
     "end_time": "2024-11-27T10:40:29.823793",
     "exception": false,
     "start_time": "2024-11-27T10:40:29.808600",
     "status": "completed"
    },
    "tags": []
   },
   "outputs": [],
   "source": [
    "def tracking_error(y_true, y_pred):\n",
    "    # Convert y_true and y_pred to pandas Series for easy handling of pct_change()\n",
    "    y_true = pd.Series(y_true)\n",
    "    y_pred = pd.Series(y_pred)\n",
    "    \n",
    "    # Calculate percentage change for true values and predictions\n",
    "    # pct_change_true = y_true.pct_change() * 100\n",
    "    # pct_change_pred = y_pred.pct_change() * 100\n",
    "    \n",
    "    # Calculate the difference between the percentage changes\n",
    "    diff_pct_change = y_true - y_pred    \n",
    "    \n",
    "    # Return the standard deviation of the differences (tracking error)\n",
    "    return np.std(diff_pct_change.dropna())  # dropna() to avoid NaN values in pct_change"
   ]
  },
  {
   "cell_type": "code",
   "execution_count": 3,
   "id": "9963051e",
   "metadata": {
    "execution": {
     "iopub.execute_input": "2024-11-27T10:40:29.836775Z",
     "iopub.status.busy": "2024-11-27T10:40:29.836384Z",
     "iopub.status.idle": "2024-11-27T10:40:29.841972Z",
     "shell.execute_reply": "2024-11-27T10:40:29.840861Z"
    },
    "papermill": {
     "duration": 0.014459,
     "end_time": "2024-11-27T10:40:29.844110",
     "exception": false,
     "start_time": "2024-11-27T10:40:29.829651",
     "status": "completed"
    },
    "tags": []
   },
   "outputs": [],
   "source": [
    "def adj_tracking_error(y_true, X_test, model):\n",
    "    cost = 0.001  # 0.1% cost\n",
    "    X_test_adjusted = X_test.copy()\n",
    "    X_test_adjusted[0, :] -= cost  # Subtract cost from the first return of each stock\n",
    "\n",
    "    # Predict with adjustment\n",
    "    y_pred_adjusted = model.predict(X_test_adjusted)\n",
    "    return tracking_error(y_true, y_pred_adjusted)"
   ]
  },
  {
   "cell_type": "markdown",
   "id": "0835e2ec",
   "metadata": {
    "papermill": {
     "duration": 0.005478,
     "end_time": "2024-11-27T10:40:29.856198",
     "exception": false,
     "start_time": "2024-11-27T10:40:29.850720",
     "status": "completed"
    },
    "tags": []
   },
   "source": [
    "# Data"
   ]
  },
  {
   "cell_type": "code",
   "execution_count": 4,
   "id": "39e4e699",
   "metadata": {
    "execution": {
     "iopub.execute_input": "2024-11-27T10:40:29.869056Z",
     "iopub.status.busy": "2024-11-27T10:40:29.868624Z",
     "iopub.status.idle": "2024-11-27T10:40:29.873355Z",
     "shell.execute_reply": "2024-11-27T10:40:29.872293Z"
    },
    "papermill": {
     "duration": 0.013771,
     "end_time": "2024-11-27T10:40:29.875544",
     "exception": false,
     "start_time": "2024-11-27T10:40:29.861773",
     "status": "completed"
    },
    "tags": []
   },
   "outputs": [],
   "source": [
    "# directory_path = '/kaggle/input/stock-market-data-nifty-50-stocks-1-min-data'\n",
    "# pattern = os.path.join(directory_path, \"*.csv\")  # Change \"*.csv\" to match other patterns if needed\n",
    "\n",
    "# Get the list of files that match the pattern\n",
    "# file_list = glob.glob(pattern)"
   ]
  },
  {
   "cell_type": "code",
   "execution_count": 5,
   "id": "91f58773",
   "metadata": {
    "execution": {
     "iopub.execute_input": "2024-11-27T10:40:29.888927Z",
     "iopub.status.busy": "2024-11-27T10:40:29.888555Z",
     "iopub.status.idle": "2024-11-27T10:40:29.895227Z",
     "shell.execute_reply": "2024-11-27T10:40:29.893888Z"
    },
    "papermill": {
     "duration": 0.016067,
     "end_time": "2024-11-27T10:40:29.897568",
     "exception": false,
     "start_time": "2024-11-27T10:40:29.881501",
     "status": "completed"
    },
    "tags": []
   },
   "outputs": [],
   "source": [
    "def fetch_data(cols):\n",
    "    df_list = []\n",
    "    for file in tqdm(file_list):\n",
    "        stock_name = os.path.basename(file).split(\"_\")[0]\n",
    "        file_df = pd.read_csv(file, index_col=0)\n",
    "        file_df = file_df[[cols]]\n",
    "        file_df.columns = pd.MultiIndex.from_product([[stock_name], file_df.columns])\n",
    "        df_list.append(file_df)\n",
    "    return pd.concat(df_list, axis=1)"
   ]
  },
  {
   "cell_type": "code",
   "execution_count": 6,
   "id": "b6a9cba0",
   "metadata": {
    "execution": {
     "iopub.execute_input": "2024-11-27T10:40:29.911041Z",
     "iopub.status.busy": "2024-11-27T10:40:29.910620Z",
     "iopub.status.idle": "2024-11-27T10:40:29.915047Z",
     "shell.execute_reply": "2024-11-27T10:40:29.914030Z"
    },
    "papermill": {
     "duration": 0.013389,
     "end_time": "2024-11-27T10:40:29.917056",
     "exception": false,
     "start_time": "2024-11-27T10:40:29.903667",
     "status": "completed"
    },
    "tags": []
   },
   "outputs": [],
   "source": [
    "# df = fetch_data('close')\n",
    "# df.to_csv('/kaggle/input/nifty_50_closing.csv')"
   ]
  },
  {
   "cell_type": "code",
   "execution_count": 7,
   "id": "1b2c0b6a",
   "metadata": {
    "execution": {
     "iopub.execute_input": "2024-11-27T10:40:29.930903Z",
     "iopub.status.busy": "2024-11-27T10:40:29.930526Z",
     "iopub.status.idle": "2024-11-27T10:40:49.709420Z",
     "shell.execute_reply": "2024-11-27T10:40:49.708205Z"
    },
    "papermill": {
     "duration": 19.788671,
     "end_time": "2024-11-27T10:40:49.711647",
     "exception": false,
     "start_time": "2024-11-27T10:40:29.922976",
     "status": "completed"
    },
    "tags": []
   },
   "outputs": [
    {
     "name": "stdout",
     "output_type": "stream",
     "text": [
      "Number of rows with NaN values: 639555\n"
     ]
    }
   ],
   "source": [
    "df = pd.read_csv('/kaggle/input/nifty-50-closing-data/nifty_50_closing.csv', index_col=0, header=[0, 1])\n",
    "df = df.xs('close', level=1, axis=1)\n",
    "df.index = pd.to_datetime(df.index)\n",
    "\n",
    "nan_rows = df.isna().any(axis=1)\n",
    "\n",
    "# Get the number of rows with NaN values\n",
    "num_nan_rows = nan_rows.sum()\n",
    "\n",
    "print(f\"Number of rows with NaN values: {num_nan_rows}\")"
   ]
  },
  {
   "cell_type": "code",
   "execution_count": 8,
   "id": "417e0978",
   "metadata": {
    "execution": {
     "iopub.execute_input": "2024-11-27T10:40:49.725003Z",
     "iopub.status.busy": "2024-11-27T10:40:49.724587Z",
     "iopub.status.idle": "2024-11-27T10:40:51.665991Z",
     "shell.execute_reply": "2024-11-27T10:40:51.664860Z"
    },
    "papermill": {
     "duration": 1.951103,
     "end_time": "2024-11-27T10:40:51.668474",
     "exception": false,
     "start_time": "2024-11-27T10:40:49.717371",
     "status": "completed"
    },
    "tags": []
   },
   "outputs": [],
   "source": [
    "nifty_100_closing = pd.read_csv('/kaggle/input/nifty-50-minute-data/NIFTY 100_minute.csv', index_col=0)[['close']]\n",
    "nifty_100_closing.index = pd.to_datetime(nifty_100_closing.index)\n",
    "nifty_100_closing.rename(columns={'close': 'NIFTY_100'}, inplace=True)"
   ]
  },
  {
   "cell_type": "code",
   "execution_count": 9,
   "id": "30d986af",
   "metadata": {
    "execution": {
     "iopub.execute_input": "2024-11-27T10:40:51.681827Z",
     "iopub.status.busy": "2024-11-27T10:40:51.681436Z",
     "iopub.status.idle": "2024-11-27T10:40:51.686979Z",
     "shell.execute_reply": "2024-11-27T10:40:51.685795Z"
    },
    "papermill": {
     "duration": 0.014796,
     "end_time": "2024-11-27T10:40:51.689230",
     "exception": false,
     "start_time": "2024-11-27T10:40:51.674434",
     "status": "completed"
    },
    "tags": []
   },
   "outputs": [
    {
     "name": "stdout",
     "output_type": "stream",
     "text": [
      "Index type for df1: <class 'pandas.core.indexes.datetimes.DatetimeIndex'>\n",
      "Index type for df2: <class 'pandas.core.indexes.datetimes.DatetimeIndex'>\n"
     ]
    }
   ],
   "source": [
    "print(f\"Index type for df1: {type(df.index)}\")\n",
    "print(f\"Index type for df2: {type(nifty_100_closing.index)}\")"
   ]
  },
  {
   "cell_type": "code",
   "execution_count": 10,
   "id": "b7acec4a",
   "metadata": {
    "execution": {
     "iopub.execute_input": "2024-11-27T10:40:51.702874Z",
     "iopub.status.busy": "2024-11-27T10:40:51.702503Z",
     "iopub.status.idle": "2024-11-27T10:40:52.371456Z",
     "shell.execute_reply": "2024-11-27T10:40:52.370295Z"
    },
    "papermill": {
     "duration": 0.678651,
     "end_time": "2024-11-27T10:40:52.373811",
     "exception": false,
     "start_time": "2024-11-27T10:40:51.695160",
     "status": "completed"
    },
    "tags": []
   },
   "outputs": [
    {
     "name": "stdout",
     "output_type": "stream",
     "text": [
      "Number of rows with NaN values: 37207\n",
      "Number of rows with 0.0 values: 79\n",
      "Total rows 639981\n"
     ]
    }
   ],
   "source": [
    "threshold = 0.10\n",
    "# Drop columns with more than the threshold percentage of missing values\n",
    "df = df.dropna(thresh=int((1-threshold) * len(df)), axis=1)\n",
    "\n",
    "nan_rows = df.isna().any(axis=1)\n",
    "\n",
    "# Get the number of rows with NaN values\n",
    "num_nan_rows = nan_rows.sum()\n",
    "\n",
    "print(f\"Number of rows with NaN values: {num_nan_rows}\")\n",
    "\n",
    "df.dropna(axis=0, inplace=True)\n",
    "\n",
    "df.index = df.index.tz_localize(None)\n",
    "\n",
    "zero_rows = (df == 0.0).any(axis=1)\n",
    "\n",
    "num_zero_rows = zero_rows.sum()\n",
    "\n",
    "print(f\"Number of rows with 0.0 values: {num_zero_rows}\")\n",
    "print(f\"Total rows {len(df)}\")"
   ]
  },
  {
   "cell_type": "code",
   "execution_count": 11,
   "id": "4e8395e2",
   "metadata": {
    "execution": {
     "iopub.execute_input": "2024-11-27T10:40:52.387434Z",
     "iopub.status.busy": "2024-11-27T10:40:52.387064Z",
     "iopub.status.idle": "2024-11-27T10:40:52.394415Z",
     "shell.execute_reply": "2024-11-27T10:40:52.393348Z"
    },
    "papermill": {
     "duration": 0.016687,
     "end_time": "2024-11-27T10:40:52.396591",
     "exception": false,
     "start_time": "2024-11-27T10:40:52.379904",
     "status": "completed"
    },
    "tags": []
   },
   "outputs": [
    {
     "data": {
      "text/plain": [
       "88"
      ]
     },
     "execution_count": 11,
     "metadata": {},
     "output_type": "execute_result"
    }
   ],
   "source": [
    "len(df.columns)"
   ]
  },
  {
   "cell_type": "code",
   "execution_count": 12,
   "id": "f24cec3c",
   "metadata": {
    "execution": {
     "iopub.execute_input": "2024-11-27T10:40:52.411764Z",
     "iopub.status.busy": "2024-11-27T10:40:52.411328Z",
     "iopub.status.idle": "2024-11-27T10:40:52.714167Z",
     "shell.execute_reply": "2024-11-27T10:40:52.712932Z"
    },
    "papermill": {
     "duration": 0.313536,
     "end_time": "2024-11-27T10:40:52.716614",
     "exception": false,
     "start_time": "2024-11-27T10:40:52.403078",
     "status": "completed"
    },
    "tags": []
   },
   "outputs": [],
   "source": [
    "df_total = df.join(nifty_100_closing, how='left')"
   ]
  },
  {
   "cell_type": "code",
   "execution_count": 13,
   "id": "f40abc7b",
   "metadata": {
    "execution": {
     "iopub.execute_input": "2024-11-27T10:40:52.730467Z",
     "iopub.status.busy": "2024-11-27T10:40:52.729683Z",
     "iopub.status.idle": "2024-11-27T10:40:53.006404Z",
     "shell.execute_reply": "2024-11-27T10:40:53.005262Z"
    },
    "papermill": {
     "duration": 0.2863,
     "end_time": "2024-11-27T10:40:53.009012",
     "exception": false,
     "start_time": "2024-11-27T10:40:52.722712",
     "status": "completed"
    },
    "tags": []
   },
   "outputs": [],
   "source": [
    "df_total.dropna(inplace=True)"
   ]
  },
  {
   "cell_type": "code",
   "execution_count": 14,
   "id": "c29755a3",
   "metadata": {
    "execution": {
     "iopub.execute_input": "2024-11-27T10:40:53.024168Z",
     "iopub.status.busy": "2024-11-27T10:40:53.023768Z",
     "iopub.status.idle": "2024-11-27T10:40:54.993630Z",
     "shell.execute_reply": "2024-11-27T10:40:54.992420Z"
    },
    "papermill": {
     "duration": 1.979833,
     "end_time": "2024-11-27T10:40:54.995996",
     "exception": false,
     "start_time": "2024-11-27T10:40:53.016163",
     "status": "completed"
    },
    "tags": []
   },
   "outputs": [
    {
     "name": "stdout",
     "output_type": "stream",
     "text": [
      "Number of rows with large changes (>100.0%): 42\n"
     ]
    }
   ],
   "source": [
    "# Calculate the percentage change\n",
    "X_pct_change = df_total.pct_change()\n",
    "\n",
    "# Define the threshold for large changes (e.g., 100% change)\n",
    "threshold = 1.0  # 1.0 corresponds to 100% when working with pct_change()\n",
    "\n",
    "# Find rows with any column having a percentage change greater than the threshold\n",
    "large_change_rows = X_pct_change[(X_pct_change.abs() > threshold).any(axis=1)]\n",
    "\n",
    "# Get the number of rows where there are large percentage changes\n",
    "num_large_changes = large_change_rows.shape[0]\n",
    "\n",
    "print(f\"Number of rows with large changes (>{threshold * 100}%): {num_large_changes}\")"
   ]
  },
  {
   "cell_type": "code",
   "execution_count": 15,
   "id": "745a1569",
   "metadata": {
    "execution": {
     "iopub.execute_input": "2024-11-27T10:40:55.009983Z",
     "iopub.status.busy": "2024-11-27T10:40:55.009613Z",
     "iopub.status.idle": "2024-11-27T10:40:55.015321Z",
     "shell.execute_reply": "2024-11-27T10:40:55.014156Z"
    },
    "papermill": {
     "duration": 0.015361,
     "end_time": "2024-11-27T10:40:55.017531",
     "exception": false,
     "start_time": "2024-11-27T10:40:55.002170",
     "status": "completed"
    },
    "tags": []
   },
   "outputs": [
    {
     "name": "stdout",
     "output_type": "stream",
     "text": [
      "629791\n"
     ]
    }
   ],
   "source": [
    "print(len(df_total))"
   ]
  },
  {
   "cell_type": "code",
   "execution_count": 16,
   "id": "12dc959c",
   "metadata": {
    "execution": {
     "iopub.execute_input": "2024-11-27T10:40:55.032116Z",
     "iopub.status.busy": "2024-11-27T10:40:55.031685Z",
     "iopub.status.idle": "2024-11-27T10:40:55.242619Z",
     "shell.execute_reply": "2024-11-27T10:40:55.241566Z"
    },
    "papermill": {
     "duration": 0.221457,
     "end_time": "2024-11-27T10:40:55.245165",
     "exception": false,
     "start_time": "2024-11-27T10:40:55.023708",
     "status": "completed"
    },
    "tags": []
   },
   "outputs": [],
   "source": [
    "df_total.sort_index(inplace=True)"
   ]
  },
  {
   "cell_type": "markdown",
   "id": "755b7b4f",
   "metadata": {
    "papermill": {
     "duration": 0.005892,
     "end_time": "2024-11-27T10:40:55.257362",
     "exception": false,
     "start_time": "2024-11-27T10:40:55.251470",
     "status": "completed"
    },
    "tags": []
   },
   "source": [
    "# Models"
   ]
  },
  {
   "cell_type": "markdown",
   "id": "00b09e48",
   "metadata": {
    "papermill": {
     "duration": 0.005835,
     "end_time": "2024-11-27T10:40:55.269216",
     "exception": false,
     "start_time": "2024-11-27T10:40:55.263381",
     "status": "completed"
    },
    "tags": []
   },
   "source": [
    "## Combined Approach\n",
    "In this section, we will utilize a combined approach to limit the number of features (stocks) and train our models.\n",
    "\n",
    "1. Feature Selection (using Lasso w/ high alpha, Mutual Info, ANOVA, RFE)\n",
    "2. Define threshold to drop features\n",
    "3. Train model on reduced feature space (Hyperparameter tuned)\n",
    "4. Get tracking error\n",
    "5. Save pair (number of stocks, tracking error) for plotting"
   ]
  },
  {
   "cell_type": "markdown",
   "id": "09883b1e",
   "metadata": {
    "papermill": {
     "duration": 0.005527,
     "end_time": "2024-11-27T10:40:55.280802",
     "exception": false,
     "start_time": "2024-11-27T10:40:55.275275",
     "status": "completed"
    },
    "tags": []
   },
   "source": [
    "### Lasso - Lasso\n",
    "\n",
    "We will utilize a Lasso model with a high alpha value to perform feature selection, this will drop the coefficients for less important features to 0. After that we retrain a Lasso model with hyperparameter tuning."
   ]
  },
  {
   "cell_type": "code",
   "execution_count": 17,
   "id": "bbc167c9",
   "metadata": {
    "_kg_hide-input": true,
    "execution": {
     "iopub.execute_input": "2024-11-27T10:40:55.294316Z",
     "iopub.status.busy": "2024-11-27T10:40:55.293913Z",
     "iopub.status.idle": "2024-11-27T10:40:55.307080Z",
     "shell.execute_reply": "2024-11-27T10:40:55.305896Z"
    },
    "papermill": {
     "duration": 0.022473,
     "end_time": "2024-11-27T10:40:55.309106",
     "exception": false,
     "start_time": "2024-11-27T10:40:55.286633",
     "status": "completed"
    },
    "tags": []
   },
   "outputs": [],
   "source": [
    "from sklearn.preprocessing import StandardScaler\n",
    "\n",
    "def Lasso_Lasso(alpha, X, y):    \n",
    "    tscv = TimeSeriesSplit(n_splits=5)\n",
    "    stocks = []\n",
    "    num_stocks = []\n",
    "    fold_scores = []\n",
    "    adj_fold_scores = []\n",
    "    \n",
    "    for train_index, test_index in tscv.split(X):\n",
    "        X_train_cv, X_test_cv = X.iloc[train_index], X.iloc[test_index]\n",
    "        y_train_cv, y_test_cv = y.iloc[train_index], y.iloc[test_index]\n",
    "        train_period = X.iloc[train_index].index\n",
    "        test_period = X.iloc[test_index].index\n",
    "        \n",
    "        # Convert to date format\n",
    "        train_start_date, train_end_date = train_period.min(), train_period.max()\n",
    "        test_start_date, test_end_date = test_period.min(), test_period.max()\n",
    "        \n",
    "        print(f\"Train period: {train_start_date} to {train_end_date}\")\n",
    "        print(f\"Test period: {test_start_date} to {test_end_date}\")\n",
    "        scaler = StandardScaler()\n",
    "        X_scaled = scaler.fit_transform(X_train_cv)\n",
    "        \n",
    "        # Feature selection with alpha from list\n",
    "        lasso_fs = Lasso(alpha=alpha, max_iter=200)\n",
    "        lasso_fs.fit(X_scaled, y_train_cv)\n",
    "\n",
    "        #for feature, coef in zip(X_train_cv.columns, lasso_fs.coef_):\n",
    "        #    print(f\"{feature}: {coef}\")\n",
    "\n",
    "        selector = SelectFromModel(lasso_fs, threshold=10e-10, max_features=None)  # Adjust threshold as needed\n",
    "        X_selected_train = selector.transform(X_scaled)\n",
    "        X_selected_test = selector.transform(X_test_cv)\n",
    "\n",
    "        selected_features = np.where(selector.get_support())[0] \n",
    "        print(f\"Selected {len(selected_features)} stocks\")\n",
    "        num_stocks.append(len(selected_features))\n",
    "        stocks.append(selected_features)\n",
    "\n",
    "        best_alpha = None\n",
    "        best_score = float('inf')  # Assuming lower is better for your metric\n",
    "        for alph in [0.0001, 0.00025, 0.0005, 0.00075, 0.001, 0.002, 0.0025]:\n",
    "            lasso = Lasso(alpha=alph, max_iter=15000)\n",
    "            lasso.fit(X_selected_train, y_train_cv)\n",
    "    \n",
    "            y_pred = lasso.predict(X_selected_test)\n",
    "            fold_score = tracking_error(y_test_cv.values, y_pred)\n",
    "            adj_fold_score = adj_tracking_error(y_test_cv.values, X_selected_test, lasso)\n",
    "            # print(f\"Alpha: {alpha}, Fold Score: {fold_score}\")\n",
    "    \n",
    "            if fold_score < best_score:\n",
    "                best_score = fold_score\n",
    "                best_alpha = alpha\n",
    "    \n",
    "        print(f\"Best Alpha for this fold: {best_alpha}, Best Fold Score: {best_score}\")\n",
    "        fold_scores.append(best_score)\n",
    "        adj_fold_scores.append(adj_fold_score)\n",
    "        \n",
    "    # Calculate the average score across all folds\n",
    "    average_score = np.mean(fold_scores)\n",
    "    average_adj_score = np.mean(adj_fold_scores)\n",
    "\n",
    "    # Get average stocks chosen over all folds\n",
    "    average_selected_features = np.mean(num_stocks)\n",
    "    \n",
    "    # Print the tracking error for this alpha\n",
    "    print(f\"Alpha: {alpha}, Average Tracking Error: {average_score}\")\n",
    " \n",
    "    return stocks, average_selected_features, average_score, average_adj_score"
   ]
  },
  {
   "cell_type": "code",
   "execution_count": 18,
   "id": "dce7a2c7",
   "metadata": {
    "execution": {
     "iopub.execute_input": "2024-11-27T10:40:55.322931Z",
     "iopub.status.busy": "2024-11-27T10:40:55.322564Z",
     "iopub.status.idle": "2024-11-27T10:57:09.137441Z",
     "shell.execute_reply": "2024-11-27T10:57:09.136261Z"
    },
    "papermill": {
     "duration": 973.824541,
     "end_time": "2024-11-27T10:57:09.139691",
     "exception": false,
     "start_time": "2024-11-27T10:40:55.315150",
     "status": "completed"
    },
    "tags": []
   },
   "outputs": [
    {
     "name": "stdout",
     "output_type": "stream",
     "text": [
      "----------Starting alpha 0.001-------------\n",
      "Train period: 2015-02-02 10:19:00 to 2016-06-14 11:27:00\n",
      "Test period: 2016-06-14 11:28:00 to 2017-09-07 11:02:00\n",
      "Selected 71 stocks\n",
      "Best Alpha for this fold: 0.001, Best Fold Score: 0.037162753753355905\n",
      "Train period: 2015-02-02 10:19:00 to 2017-09-07 11:02:00\n",
      "Test period: 2017-09-07 11:03:00 to 2018-12-06 15:04:00\n",
      "Selected 74 stocks\n",
      "Best Alpha for this fold: 0.001, Best Fold Score: 0.03788367845018229\n",
      "Train period: 2015-02-02 10:19:00 to 2018-12-06 15:04:00\n",
      "Test period: 2018-12-06 15:05:00 to 2020-04-27 09:57:00\n",
      "Selected 75 stocks\n",
      "Best Alpha for this fold: 0.001, Best Fold Score: 0.0789119392269766\n",
      "Train period: 2015-02-02 10:19:00 to 2020-04-27 09:57:00\n",
      "Test period: 2020-04-27 09:58:00 to 2021-07-27 12:26:00\n",
      "Selected 75 stocks\n",
      "Best Alpha for this fold: 0.001, Best Fold Score: 0.05117952341278683\n",
      "Train period: 2015-02-02 10:19:00 to 2021-07-27 12:26:00\n",
      "Test period: 2021-07-27 12:27:00 to 2022-10-24 19:14:00\n",
      "Selected 77 stocks\n",
      "Best Alpha for this fold: 0.001, Best Fold Score: 0.04786536905873381\n",
      "Alpha: 0.001, Average Tracking Error: 0.05060065278040708\n",
      "----------Starting alpha 0.002-------------\n",
      "Train period: 2015-02-02 10:19:00 to 2016-06-14 11:27:00\n",
      "Test period: 2016-06-14 11:28:00 to 2017-09-07 11:02:00\n",
      "Selected 60 stocks\n",
      "Best Alpha for this fold: 0.002, Best Fold Score: 0.03727236242944657\n",
      "Train period: 2015-02-02 10:19:00 to 2017-09-07 11:02:00\n",
      "Test period: 2017-09-07 11:03:00 to 2018-12-06 15:04:00\n",
      "Selected 65 stocks\n",
      "Best Alpha for this fold: 0.002, Best Fold Score: 0.037955307792593034\n",
      "Train period: 2015-02-02 10:19:00 to 2018-12-06 15:04:00\n",
      "Test period: 2018-12-06 15:05:00 to 2020-04-27 09:57:00\n",
      "Selected 66 stocks\n",
      "Best Alpha for this fold: 0.002, Best Fold Score: 0.07899104538408343\n",
      "Train period: 2015-02-02 10:19:00 to 2020-04-27 09:57:00\n",
      "Test period: 2020-04-27 09:58:00 to 2021-07-27 12:26:00\n",
      "Selected 67 stocks\n",
      "Best Alpha for this fold: 0.002, Best Fold Score: 0.05119982607087828\n",
      "Train period: 2015-02-02 10:19:00 to 2021-07-27 12:26:00\n",
      "Test period: 2021-07-27 12:27:00 to 2022-10-24 19:14:00\n",
      "Selected 69 stocks\n",
      "Best Alpha for this fold: 0.002, Best Fold Score: 0.04788771245825526\n",
      "Alpha: 0.002, Average Tracking Error: 0.05066125082705132\n",
      "----------Starting alpha 0.003-------------\n",
      "Train period: 2015-02-02 10:19:00 to 2016-06-14 11:27:00\n",
      "Test period: 2016-06-14 11:28:00 to 2017-09-07 11:02:00\n",
      "Selected 53 stocks\n",
      "Best Alpha for this fold: 0.003, Best Fold Score: 0.03739408551894171\n",
      "Train period: 2015-02-02 10:19:00 to 2017-09-07 11:02:00\n",
      "Test period: 2017-09-07 11:03:00 to 2018-12-06 15:04:00\n",
      "Selected 54 stocks\n",
      "Best Alpha for this fold: 0.003, Best Fold Score: 0.03811876433435742\n",
      "Train period: 2015-02-02 10:19:00 to 2018-12-06 15:04:00\n",
      "Test period: 2018-12-06 15:05:00 to 2020-04-27 09:57:00\n",
      "Selected 56 stocks\n",
      "Best Alpha for this fold: 0.003, Best Fold Score: 0.07913820607056689\n",
      "Train period: 2015-02-02 10:19:00 to 2020-04-27 09:57:00\n",
      "Test period: 2020-04-27 09:58:00 to 2021-07-27 12:26:00\n",
      "Selected 58 stocks\n",
      "Best Alpha for this fold: 0.003, Best Fold Score: 0.051241962905543274\n",
      "Train period: 2015-02-02 10:19:00 to 2021-07-27 12:26:00\n",
      "Test period: 2021-07-27 12:27:00 to 2022-10-24 19:14:00\n",
      "Selected 58 stocks\n",
      "Best Alpha for this fold: 0.003, Best Fold Score: 0.04794300553913181\n",
      "Alpha: 0.003, Average Tracking Error: 0.05076720487370823\n",
      "----------Starting alpha 0.004-------------\n",
      "Train period: 2015-02-02 10:19:00 to 2016-06-14 11:27:00\n",
      "Test period: 2016-06-14 11:28:00 to 2017-09-07 11:02:00\n",
      "Selected 48 stocks\n",
      "Best Alpha for this fold: 0.004, Best Fold Score: 0.03743828777391885\n",
      "Train period: 2015-02-02 10:19:00 to 2017-09-07 11:02:00\n",
      "Test period: 2017-09-07 11:03:00 to 2018-12-06 15:04:00\n",
      "Selected 47 stocks\n",
      "Best Alpha for this fold: 0.004, Best Fold Score: 0.03812397754885566\n",
      "Train period: 2015-02-02 10:19:00 to 2018-12-06 15:04:00\n",
      "Test period: 2018-12-06 15:05:00 to 2020-04-27 09:57:00\n",
      "Selected 50 stocks\n",
      "Best Alpha for this fold: 0.004, Best Fold Score: 0.07921217703523542\n",
      "Train period: 2015-02-02 10:19:00 to 2020-04-27 09:57:00\n",
      "Test period: 2020-04-27 09:58:00 to 2021-07-27 12:26:00\n",
      "Selected 54 stocks\n",
      "Best Alpha for this fold: 0.004, Best Fold Score: 0.051312715710280135\n",
      "Train period: 2015-02-02 10:19:00 to 2021-07-27 12:26:00\n",
      "Test period: 2021-07-27 12:27:00 to 2022-10-24 19:14:00\n",
      "Selected 56 stocks\n",
      "Best Alpha for this fold: 0.004, Best Fold Score: 0.04795184986817281\n",
      "Alpha: 0.004, Average Tracking Error: 0.050807801587292575\n",
      "----------Starting alpha 0.005-------------\n",
      "Train period: 2015-02-02 10:19:00 to 2016-06-14 11:27:00\n",
      "Test period: 2016-06-14 11:28:00 to 2017-09-07 11:02:00\n",
      "Selected 42 stocks\n",
      "Best Alpha for this fold: 0.005, Best Fold Score: 0.037492997298306276\n",
      "Train period: 2015-02-02 10:19:00 to 2017-09-07 11:02:00\n",
      "Test period: 2017-09-07 11:03:00 to 2018-12-06 15:04:00\n",
      "Selected 44 stocks\n",
      "Best Alpha for this fold: 0.005, Best Fold Score: 0.03816262666696121\n",
      "Train period: 2015-02-02 10:19:00 to 2018-12-06 15:04:00\n",
      "Test period: 2018-12-06 15:05:00 to 2020-04-27 09:57:00\n",
      "Selected 43 stocks\n",
      "Best Alpha for this fold: 0.005, Best Fold Score: 0.07942535664042327\n",
      "Train period: 2015-02-02 10:19:00 to 2020-04-27 09:57:00\n",
      "Test period: 2020-04-27 09:58:00 to 2021-07-27 12:26:00\n",
      "Selected 46 stocks\n",
      "Best Alpha for this fold: 0.005, Best Fold Score: 0.05129864528401537\n",
      "Train period: 2015-02-02 10:19:00 to 2021-07-27 12:26:00\n",
      "Test period: 2021-07-27 12:27:00 to 2022-10-24 19:14:00\n",
      "Selected 49 stocks\n",
      "Best Alpha for this fold: 0.005, Best Fold Score: 0.048041929115934474\n",
      "Alpha: 0.005, Average Tracking Error: 0.05088431100112813\n",
      "----------Starting alpha 0.006-------------\n",
      "Train period: 2015-02-02 10:19:00 to 2016-06-14 11:27:00\n",
      "Test period: 2016-06-14 11:28:00 to 2017-09-07 11:02:00\n",
      "Selected 39 stocks\n",
      "Best Alpha for this fold: 0.006, Best Fold Score: 0.03751535491815237\n",
      "Train period: 2015-02-02 10:19:00 to 2017-09-07 11:02:00\n",
      "Test period: 2017-09-07 11:03:00 to 2018-12-06 15:04:00\n",
      "Selected 37 stocks\n",
      "Best Alpha for this fold: 0.006, Best Fold Score: 0.03825247409517249\n",
      "Train period: 2015-02-02 10:19:00 to 2018-12-06 15:04:00\n",
      "Test period: 2018-12-06 15:05:00 to 2020-04-27 09:57:00\n",
      "Selected 34 stocks\n",
      "Best Alpha for this fold: 0.006, Best Fold Score: 0.0796739410133596\n",
      "Train period: 2015-02-02 10:19:00 to 2020-04-27 09:57:00\n",
      "Test period: 2020-04-27 09:58:00 to 2021-07-27 12:26:00\n",
      "Selected 43 stocks\n",
      "Best Alpha for this fold: 0.006, Best Fold Score: 0.0512841315430149\n",
      "Train period: 2015-02-02 10:19:00 to 2021-07-27 12:26:00\n",
      "Test period: 2021-07-27 12:27:00 to 2022-10-24 19:14:00\n",
      "Selected 42 stocks\n",
      "Best Alpha for this fold: 0.006, Best Fold Score: 0.04804449507483369\n",
      "Alpha: 0.006, Average Tracking Error: 0.05095407932890661\n",
      "----------Starting alpha 0.007-------------\n",
      "Train period: 2015-02-02 10:19:00 to 2016-06-14 11:27:00\n",
      "Test period: 2016-06-14 11:28:00 to 2017-09-07 11:02:00\n",
      "Selected 37 stocks\n",
      "Best Alpha for this fold: 0.007, Best Fold Score: 0.037506470120982544\n",
      "Train period: 2015-02-02 10:19:00 to 2017-09-07 11:02:00\n",
      "Test period: 2017-09-07 11:03:00 to 2018-12-06 15:04:00\n",
      "Selected 32 stocks\n",
      "Best Alpha for this fold: 0.007, Best Fold Score: 0.03821035319569404\n",
      "Train period: 2015-02-02 10:19:00 to 2018-12-06 15:04:00\n",
      "Test period: 2018-12-06 15:05:00 to 2020-04-27 09:57:00\n",
      "Selected 30 stocks\n",
      "Best Alpha for this fold: 0.007, Best Fold Score: 0.07971797896995465\n",
      "Train period: 2015-02-02 10:19:00 to 2020-04-27 09:57:00\n",
      "Test period: 2020-04-27 09:58:00 to 2021-07-27 12:26:00\n",
      "Selected 37 stocks\n",
      "Best Alpha for this fold: 0.007, Best Fold Score: 0.05131518606087641\n",
      "Train period: 2015-02-02 10:19:00 to 2021-07-27 12:26:00\n",
      "Test period: 2021-07-27 12:27:00 to 2022-10-24 19:14:00\n",
      "Selected 37 stocks\n",
      "Best Alpha for this fold: 0.007, Best Fold Score: 0.048094068460142005\n",
      "Alpha: 0.007, Average Tracking Error: 0.050968811361529934\n",
      "----------Starting alpha 0.008-------------\n",
      "Train period: 2015-02-02 10:19:00 to 2016-06-14 11:27:00\n",
      "Test period: 2016-06-14 11:28:00 to 2017-09-07 11:02:00\n",
      "Selected 30 stocks\n",
      "Best Alpha for this fold: 0.008, Best Fold Score: 0.037617903382734366\n",
      "Train period: 2015-02-02 10:19:00 to 2017-09-07 11:02:00\n",
      "Test period: 2017-09-07 11:03:00 to 2018-12-06 15:04:00\n",
      "Selected 29 stocks\n",
      "Best Alpha for this fold: 0.008, Best Fold Score: 0.03826257819697936\n",
      "Train period: 2015-02-02 10:19:00 to 2018-12-06 15:04:00\n",
      "Test period: 2018-12-06 15:05:00 to 2020-04-27 09:57:00\n",
      "Selected 28 stocks\n",
      "Best Alpha for this fold: 0.008, Best Fold Score: 0.07974525469070899\n",
      "Train period: 2015-02-02 10:19:00 to 2020-04-27 09:57:00\n",
      "Test period: 2020-04-27 09:58:00 to 2021-07-27 12:26:00\n",
      "Selected 33 stocks\n",
      "Best Alpha for this fold: 0.008, Best Fold Score: 0.05137546889173795\n",
      "Train period: 2015-02-02 10:19:00 to 2021-07-27 12:26:00\n",
      "Test period: 2021-07-27 12:27:00 to 2022-10-24 19:14:00\n",
      "Selected 33 stocks\n",
      "Best Alpha for this fold: 0.008, Best Fold Score: 0.04810277314699157\n",
      "Alpha: 0.008, Average Tracking Error: 0.051020795661830445\n",
      "----------Starting alpha 0.009-------------\n",
      "Train period: 2015-02-02 10:19:00 to 2016-06-14 11:27:00\n",
      "Test period: 2016-06-14 11:28:00 to 2017-09-07 11:02:00\n",
      "Selected 24 stocks\n",
      "Best Alpha for this fold: 0.009, Best Fold Score: 0.037789523754328376\n",
      "Train period: 2015-02-02 10:19:00 to 2017-09-07 11:02:00\n",
      "Test period: 2017-09-07 11:03:00 to 2018-12-06 15:04:00\n",
      "Selected 28 stocks\n",
      "Best Alpha for this fold: 0.009, Best Fold Score: 0.03825841663619915\n",
      "Train period: 2015-02-02 10:19:00 to 2018-12-06 15:04:00\n",
      "Test period: 2018-12-06 15:05:00 to 2020-04-27 09:57:00\n",
      "Selected 24 stocks\n",
      "Best Alpha for this fold: 0.009, Best Fold Score: 0.07982562537906789\n",
      "Train period: 2015-02-02 10:19:00 to 2020-04-27 09:57:00\n",
      "Test period: 2020-04-27 09:58:00 to 2021-07-27 12:26:00\n",
      "Selected 27 stocks\n",
      "Best Alpha for this fold: 0.009, Best Fold Score: 0.051445163253378924\n",
      "Train period: 2015-02-02 10:19:00 to 2021-07-27 12:26:00\n",
      "Test period: 2021-07-27 12:27:00 to 2022-10-24 19:14:00\n",
      "Selected 29 stocks\n",
      "Best Alpha for this fold: 0.009, Best Fold Score: 0.04818485360791449\n",
      "Alpha: 0.009, Average Tracking Error: 0.05110071652617777\n",
      "----------Starting alpha 0.01-------------\n",
      "Train period: 2015-02-02 10:19:00 to 2016-06-14 11:27:00\n",
      "Test period: 2016-06-14 11:28:00 to 2017-09-07 11:02:00\n",
      "Selected 21 stocks\n",
      "Best Alpha for this fold: 0.01, Best Fold Score: 0.037861420810532724\n",
      "Train period: 2015-02-02 10:19:00 to 2017-09-07 11:02:00\n",
      "Test period: 2017-09-07 11:03:00 to 2018-12-06 15:04:00\n",
      "Selected 24 stocks\n",
      "Best Alpha for this fold: 0.01, Best Fold Score: 0.03836209279483645\n",
      "Train period: 2015-02-02 10:19:00 to 2018-12-06 15:04:00\n",
      "Test period: 2018-12-06 15:05:00 to 2020-04-27 09:57:00\n",
      "Selected 22 stocks\n",
      "Best Alpha for this fold: 0.01, Best Fold Score: 0.07992692568621305\n",
      "Train period: 2015-02-02 10:19:00 to 2020-04-27 09:57:00\n",
      "Test period: 2020-04-27 09:58:00 to 2021-07-27 12:26:00\n",
      "Selected 26 stocks\n",
      "Best Alpha for this fold: 0.01, Best Fold Score: 0.05145680495019022\n",
      "Train period: 2015-02-02 10:19:00 to 2021-07-27 12:26:00\n",
      "Test period: 2021-07-27 12:27:00 to 2022-10-24 19:14:00\n",
      "Selected 24 stocks\n",
      "Best Alpha for this fold: 0.01, Best Fold Score: 0.048275789225725244\n",
      "Alpha: 0.01, Average Tracking Error: 0.051176606693499535\n",
      "----------Starting alpha 0.011-------------\n",
      "Train period: 2015-02-02 10:19:00 to 2016-06-14 11:27:00\n",
      "Test period: 2016-06-14 11:28:00 to 2017-09-07 11:02:00\n",
      "Selected 20 stocks\n",
      "Best Alpha for this fold: 0.011, Best Fold Score: 0.037864165084792366\n",
      "Train period: 2015-02-02 10:19:00 to 2017-09-07 11:02:00\n",
      "Test period: 2017-09-07 11:03:00 to 2018-12-06 15:04:00\n",
      "Selected 20 stocks\n",
      "Best Alpha for this fold: 0.011, Best Fold Score: 0.03845123509761467\n",
      "Train period: 2015-02-02 10:19:00 to 2018-12-06 15:04:00\n",
      "Test period: 2018-12-06 15:05:00 to 2020-04-27 09:57:00\n",
      "Selected 20 stocks\n",
      "Best Alpha for this fold: 0.011, Best Fold Score: 0.08002858364248394\n",
      "Train period: 2015-02-02 10:19:00 to 2020-04-27 09:57:00\n",
      "Test period: 2020-04-27 09:58:00 to 2021-07-27 12:26:00\n",
      "Selected 23 stocks\n",
      "Best Alpha for this fold: 0.011, Best Fold Score: 0.05151242098845126\n",
      "Train period: 2015-02-02 10:19:00 to 2021-07-27 12:26:00\n",
      "Test period: 2021-07-27 12:27:00 to 2022-10-24 19:14:00\n",
      "Selected 22 stocks\n",
      "Best Alpha for this fold: 0.011, Best Fold Score: 0.04837999359245699\n",
      "Alpha: 0.011, Average Tracking Error: 0.05124727968115985\n",
      "----------Starting alpha 0.012-------------\n",
      "Train period: 2015-02-02 10:19:00 to 2016-06-14 11:27:00\n",
      "Test period: 2016-06-14 11:28:00 to 2017-09-07 11:02:00\n",
      "Selected 16 stocks\n",
      "Best Alpha for this fold: 0.012, Best Fold Score: 0.038045488783736044\n",
      "Train period: 2015-02-02 10:19:00 to 2017-09-07 11:02:00\n",
      "Test period: 2017-09-07 11:03:00 to 2018-12-06 15:04:00\n",
      "Selected 18 stocks\n",
      "Best Alpha for this fold: 0.012, Best Fold Score: 0.03844872195101009\n",
      "Train period: 2015-02-02 10:19:00 to 2018-12-06 15:04:00\n",
      "Test period: 2018-12-06 15:05:00 to 2020-04-27 09:57:00\n",
      "Selected 17 stocks\n",
      "Best Alpha for this fold: 0.012, Best Fold Score: 0.0801440685199051\n",
      "Train period: 2015-02-02 10:19:00 to 2020-04-27 09:57:00\n",
      "Test period: 2020-04-27 09:58:00 to 2021-07-27 12:26:00\n",
      "Selected 21 stocks\n",
      "Best Alpha for this fold: 0.012, Best Fold Score: 0.05150819587750012\n",
      "Train period: 2015-02-02 10:19:00 to 2021-07-27 12:26:00\n",
      "Test period: 2021-07-27 12:27:00 to 2022-10-24 19:14:00\n",
      "Selected 20 stocks\n",
      "Best Alpha for this fold: 0.012, Best Fold Score: 0.048451938475321685\n",
      "Alpha: 0.012, Average Tracking Error: 0.051319682721494606\n"
     ]
    },
    {
     "data": {
      "image/png": "[encoded data removed]",
      "text/plain": [
       "<Figure size 640x480 with 2 Axes>"
      ]
     },
     "metadata": {},
     "output_type": "display_data"
    }
   ],
   "source": [
    "df_total_z = df_total.replace(0, np.nan)  # Convert zeroes back to NaNs\n",
    "df_total_returns = df_total_z.pct_change().dropna()\n",
    "df_total_returns = 100*df_total_returns\n",
    "X = df_total_returns.drop(columns=['NIFTY 50', 'NIFTY BANK', 'NIFTY_100'])\n",
    "y = df_total_returns['NIFTY_100']\n",
    "\n",
    "alphas = [0.001, 0.002, 0.003, 0.004, 0.005, 0.006, 0.007, 0.008, 0.009, 0.01, 0.011, 0.012]\n",
    "tracking_errors = []\n",
    "adj_tracking_errors = []\n",
    "num_stocks_list = []\n",
    "\n",
    "for alpha in alphas:\n",
    "    print(f\"----------Starting alpha {alpha}-------------\")\n",
    "    _, num_stocks, tracking_err, adj_tracking_err = Lasso_Lasso(alpha, X, y)\n",
    "    num_stocks_list.append(num_stocks)\n",
    "    tracking_errors.append(tracking_err)\n",
    "    adj_tracking_errors.append(adj_tracking_err)\n",
    "\n",
    "# Plotting the results\n",
    "fig, ax1 = plt.subplots()\n",
    "\n",
    "# Plotting number of stocks on the primary y-axis\n",
    "color = 'tab:blue'\n",
    "ax1.set_xlabel('Alpha')\n",
    "ax1.set_ylabel('Number of Stocks', color=color)\n",
    "ax1.plot(alphas, num_stocks_list, color=color, marker='o', label='Number of Stocks')\n",
    "ax1.tick_params(axis='y', labelcolor=color)\n",
    "\n",
    "# Creating a second y-axis for tracking error\n",
    "ax2 = ax1.twinx()\n",
    "color = 'tab:red'\n",
    "ax2.set_ylabel('Tracking Error', color=color)\n",
    "#ax2.plot(alphas, tracking_errors, color='tab:green', marker='o', linestyle='--', label='Tracking Error')\n",
    "ax2.plot(alphas, adj_tracking_errors, color=color, marker='x', linestyle='--', label='Adjusted Tracking Error')\n",
    "ax2.tick_params(axis='y', labelcolor=color)\n",
    "\n",
    "# Adding a title and legend\n",
    "plt.title('Number of Stocks and Tracking Error vs. Alpha')\n",
    "fig.tight_layout()  # Adjust layout to prevent overlap\n",
    "plt.show()"
   ]
  },
  {
   "cell_type": "markdown",
   "id": "f602c047",
   "metadata": {
    "papermill": {
     "duration": 0.01472,
     "end_time": "2024-11-27T10:57:09.169520",
     "exception": false,
     "start_time": "2024-11-27T10:57:09.154800",
     "status": "completed"
    },
    "tags": []
   },
   "source": [
    "### Mutual Info - Lasso\n",
    "Using mutual information between variables, which measures the dependency between them, 0 value being independence. By getting the mutual information between the features (stocks) and the target (NIFTY 100) we can \"discard\" the variables with lower dependencies. After feature selection, we traing a Lasso model with CV."
   ]
  },
  {
   "cell_type": "code",
   "execution_count": 19,
   "id": "9dc6ac8a",
   "metadata": {
    "execution": {
     "iopub.execute_input": "2024-11-27T10:57:09.200920Z",
     "iopub.status.busy": "2024-11-27T10:57:09.200570Z",
     "iopub.status.idle": "2024-11-27T10:57:09.212404Z",
     "shell.execute_reply": "2024-11-27T10:57:09.211263Z"
    },
    "papermill": {
     "duration": 0.030451,
     "end_time": "2024-11-27T10:57:09.214786",
     "exception": false,
     "start_time": "2024-11-27T10:57:09.184335",
     "status": "completed"
    },
    "tags": []
   },
   "outputs": [],
   "source": [
    "from sklearn.preprocessing import StandardScaler\n",
    "\n",
    "def MI_Experiment(percentile, X, y, model_class, params):\n",
    "    tscv = TimeSeriesSplit(n_splits=5)\n",
    "    stocks = []\n",
    "    num_stocks = []\n",
    "    fold_scores = []\n",
    "    adj_fold_scores = []\n",
    "    \n",
    "    for train_index, test_index in tscv.split(X):\n",
    "        X_train_cv, X_test_cv = X.iloc[train_index], X.iloc[test_index]\n",
    "        y_train_cv, y_test_cv = y.iloc[train_index], y.iloc[test_index]\n",
    "\n",
    "        scaler = StandardScaler()\n",
    "        X_scaled = scaler.fit_transform(X_train_cv)\n",
    "\n",
    "        # Feature selection with alpha from list\n",
    "        mi_scores = mutual_info_regression(X_train_cv, y_train_cv)\n",
    "        mi_scores_series = pd.Series(mi_scores, index=X_train_cv.columns)\n",
    "\n",
    "        threshold_value = mi_scores_series.quantile(percentile)\n",
    "        \n",
    "        selected_features = mi_scores_series[mi_scores_series > threshold_value].index\n",
    "        selected_indices = [X_train_cv.columns.get_loc(feature) for feature in selected_features]\n",
    "\n",
    "        # Filter the NumPy arrays based on the selected feature indices\n",
    "        X_train_selected = X_scaled[:, selected_indices]\n",
    "        X_test_selected = X_test_cv.to_numpy()[:, selected_indices]\n",
    "    \n",
    "        print(f\"Selected {len(selected_features)} stocks\")\n",
    "        num_stocks.append(len(selected_features))\n",
    "        stocks.append(selected_features)\n",
    "\n",
    "        best_params = None\n",
    "        best_score = float('inf')  # Assuming lower is better for your metric\n",
    "        for param in ParameterGrid(params):\n",
    "            model = model_class(**param)\n",
    "            model.fit(X_train_selected, y_train_cv)\n",
    "    \n",
    "            y_pred = model.predict(X_test_selected)\n",
    "            fold_score = tracking_error(y_test_cv.values, y_pred)\n",
    "            adj_fold_score = adj_tracking_error(y_test_cv.values, X_test_selected, model)\n",
    "            # print(f\"Alpha: {alpha}, Fold Score: {fold_score}\")\n",
    "    \n",
    "            if fold_score < best_score:\n",
    "                best_score = fold_score\n",
    "                best_params = param\n",
    "    \n",
    "        print(f\"Best Params for this fold: {best_params}, Best Fold Score: {best_score}\")\n",
    "        fold_scores.append(best_score)\n",
    "        adj_fold_scores.append(adj_fold_score)\n",
    "        \n",
    "    # Calculate the average score across all folds\n",
    "    average_score = np.mean(fold_scores)\n",
    "    average_adj_score = np.mean(adj_fold_scores)\n",
    "\n",
    "    # Get average stocks chosen over all folds\n",
    "    average_selected_features = np.mean(num_stocks)\n",
    "    \n",
    "    # Print the tracking error for this alpha\n",
    "    print(f\"Best_params: {best_params}, Average Tracking Error: {average_score}\")\n",
    " \n",
    "    return stocks, average_selected_features, average_score, average_adj_score"
   ]
  },
  {
   "cell_type": "code",
   "execution_count": 20,
   "id": "a7596c18",
   "metadata": {
    "execution": {
     "iopub.execute_input": "2024-11-27T10:57:09.247166Z",
     "iopub.status.busy": "2024-11-27T10:57:09.246754Z",
     "iopub.status.idle": "2024-11-27T14:29:23.183228Z",
     "shell.execute_reply": "2024-11-27T14:29:23.180291Z"
    },
    "papermill": {
     "duration": 12733.956792,
     "end_time": "2024-11-27T14:29:23.187221",
     "exception": false,
     "start_time": "2024-11-27T10:57:09.230429",
     "status": "completed"
    },
    "tags": []
   },
   "outputs": [
    {
     "name": "stdout",
     "output_type": "stream",
     "text": [
      "Starting percentile: 0.0\n",
      "Selected 85 stocks\n",
      "Best Params for this fold: {'alpha': 0.0001, 'max_iter': 15000}, Best Fold Score: 0.03711004575155275\n",
      "Selected 85 stocks\n",
      "Best Params for this fold: {'alpha': 0.0001, 'max_iter': 15000}, Best Fold Score: 0.03786548963142361\n",
      "Selected 85 stocks\n",
      "Best Params for this fold: {'alpha': 0.0001, 'max_iter': 15000}, Best Fold Score: 0.07887967392419576\n",
      "Selected 85 stocks\n",
      "Best Params for this fold: {'alpha': 0.0001, 'max_iter': 15000}, Best Fold Score: 0.05115319071879367\n",
      "Selected 85 stocks\n",
      "Best Params for this fold: {'alpha': 0.0001, 'max_iter': 15000}, Best Fold Score: 0.04783309931005052\n",
      "Best_params: {'alpha': 0.0001, 'max_iter': 15000}, Average Tracking Error: 0.05056829986720326\n",
      "Starting percentile: 0.1\n",
      "Selected 77 stocks\n",
      "Best Params for this fold: {'alpha': 0.0001, 'max_iter': 15000}, Best Fold Score: 0.03712650912196169\n",
      "Selected 77 stocks\n",
      "Best Params for this fold: {'alpha': 0.0001, 'max_iter': 15000}, Best Fold Score: 0.03787101852297473\n",
      "Selected 77 stocks\n",
      "Best Params for this fold: {'alpha': 0.0001, 'max_iter': 15000}, Best Fold Score: 0.07893567992809461\n",
      "Selected 77 stocks\n",
      "Best Params for this fold: {'alpha': 0.0001, 'max_iter': 15000}, Best Fold Score: 0.05116791991676884\n",
      "Selected 77 stocks\n",
      "Best Params for this fold: {'alpha': 0.0001, 'max_iter': 15000}, Best Fold Score: 0.04785834218217817\n",
      "Best_params: {'alpha': 0.0001, 'max_iter': 15000}, Average Tracking Error: 0.0505918939343956\n",
      "Starting percentile: 0.2\n",
      "Selected 68 stocks\n",
      "Best Params for this fold: {'alpha': 0.0001, 'max_iter': 15000}, Best Fold Score: 0.03720404420840439\n",
      "Selected 68 stocks\n",
      "Best Params for this fold: {'alpha': 0.0001, 'max_iter': 15000}, Best Fold Score: 0.03791812399938034\n",
      "Selected 68 stocks\n",
      "Best Params for this fold: {'alpha': 0.0001, 'max_iter': 15000}, Best Fold Score: 0.07897509166757395\n",
      "Selected 68 stocks\n",
      "Best Params for this fold: {'alpha': 0.0001, 'max_iter': 15000}, Best Fold Score: 0.051196262018607185\n",
      "Selected 68 stocks\n",
      "Best Params for this fold: {'alpha': 0.0001, 'max_iter': 15000}, Best Fold Score: 0.047885616721718316\n",
      "Best_params: {'alpha': 0.0001, 'max_iter': 15000}, Average Tracking Error: 0.050635827723136836\n",
      "Starting percentile: 0.3\n",
      "Selected 60 stocks\n",
      "Best Params for this fold: {'alpha': 0.0001, 'max_iter': 15000}, Best Fold Score: 0.03728714064567255\n",
      "Selected 60 stocks\n",
      "Best Params for this fold: {'alpha': 0.0001, 'max_iter': 15000}, Best Fold Score: 0.03797022172955456\n",
      "Selected 60 stocks\n",
      "Best Params for this fold: {'alpha': 0.0001, 'max_iter': 15000}, Best Fold Score: 0.07913469943795315\n",
      "Selected 60 stocks\n",
      "Best Params for this fold: {'alpha': 0.0001, 'max_iter': 15000}, Best Fold Score: 0.0511544337662939\n",
      "Selected 60 stocks\n",
      "Best Params for this fold: {'alpha': 0.0001, 'max_iter': 15000}, Best Fold Score: 0.047919435423520784\n",
      "Best_params: {'alpha': 0.0001, 'max_iter': 15000}, Average Tracking Error: 0.050693186200599\n",
      "Starting percentile: 0.4\n",
      "Selected 51 stocks\n",
      "Best Params for this fold: {'alpha': 0.0001, 'max_iter': 15000}, Best Fold Score: 0.03733148979173012\n",
      "Selected 51 stocks\n",
      "Best Params for this fold: {'alpha': 0.0001, 'max_iter': 15000}, Best Fold Score: 0.037916416935428895\n",
      "Selected 51 stocks\n",
      "Best Params for this fold: {'alpha': 0.0001, 'max_iter': 15000}, Best Fold Score: 0.07920368483296046\n",
      "Selected 51 stocks\n",
      "Best Params for this fold: {'alpha': 0.0001, 'max_iter': 15000}, Best Fold Score: 0.051258967988168216\n",
      "Selected 51 stocks\n",
      "Best Params for this fold: {'alpha': 0.0001, 'max_iter': 15000}, Best Fold Score: 0.04795439400891279\n",
      "Best_params: {'alpha': 0.0001, 'max_iter': 15000}, Average Tracking Error: 0.05073299071144009\n",
      "Starting percentile: 0.5\n",
      "Selected 43 stocks\n",
      "Best Params for this fold: {'alpha': 0.0001, 'max_iter': 15000}, Best Fold Score: 0.037326885000390914\n",
      "Selected 43 stocks\n",
      "Best Params for this fold: {'alpha': 0.0001, 'max_iter': 15000}, Best Fold Score: 0.03790675680719705\n",
      "Selected 43 stocks\n",
      "Best Params for this fold: {'alpha': 0.0001, 'max_iter': 15000}, Best Fold Score: 0.07936516921706296\n",
      "Selected 43 stocks\n",
      "Best Params for this fold: {'alpha': 0.0001, 'max_iter': 15000}, Best Fold Score: 0.05118063026022665\n",
      "Selected 43 stocks\n",
      "Best Params for this fold: {'alpha': 0.0001, 'max_iter': 15000}, Best Fold Score: 0.04808013569199707\n",
      "Best_params: {'alpha': 0.0001, 'max_iter': 15000}, Average Tracking Error: 0.050771915395374935\n",
      "Starting percentile: 0.6\n",
      "Selected 34 stocks\n",
      "Best Params for this fold: {'alpha': 0.0001, 'max_iter': 15000}, Best Fold Score: 0.03741866233329943\n",
      "Selected 34 stocks\n",
      "Best Params for this fold: {'alpha': 0.0001, 'max_iter': 15000}, Best Fold Score: 0.03804687835941994\n",
      "Selected 34 stocks\n",
      "Best Params for this fold: {'alpha': 0.0001, 'max_iter': 15000}, Best Fold Score: 0.07949877192436978\n",
      "Selected 34 stocks\n",
      "Best Params for this fold: {'alpha': 0.0001, 'max_iter': 15000}, Best Fold Score: 0.05110069930796639\n",
      "Selected 34 stocks\n",
      "Best Params for this fold: {'alpha': 0.0001, 'max_iter': 15000}, Best Fold Score: 0.04815547317374424\n",
      "Best_params: {'alpha': 0.0001, 'max_iter': 15000}, Average Tracking Error: 0.05084409701975996\n"
     ]
    },
    {
     "data": {
      "image/png": "[encoded data removed]",
      "text/plain": [
       "<Figure size 640x480 with 1 Axes>"
      ]
     },
     "metadata": {},
     "output_type": "display_data"
    }
   ],
   "source": [
    "df_total_z = df_total.replace(0, np.nan)  # Convert zeroes back to NaNs\n",
    "df_total_returns = df_total_z.pct_change().dropna()\n",
    "df_total_returns = 100*df_total_returns\n",
    "X = df_total_returns.drop(columns=['NIFTY 50', 'NIFTY BANK', 'NIFTY_100'])\n",
    "y = df_total_returns['NIFTY_100']\n",
    "\n",
    "tracking_errors = []\n",
    "adj_tracking_errors = []\n",
    "num_stocks_list = []\n",
    "\n",
    "percentiles = [0.0, 0.1, 0.2, 0.3, 0.4, 0.5, 0.6]\n",
    "param_grid = {\n",
    "    'alpha': [0.0001, 0.00025, 0.0005, 0.00075, 0.001, 0.0025, 0.005, 0.01],\n",
    "    'max_iter': [15000]\n",
    "}\n",
    "\n",
    "\n",
    "for percentile in percentiles:\n",
    "    print(f\"Starting percentile: {percentile}\")\n",
    "    _, num_stocks, tracking_err, adj_tracking_err = MI_Experiment(percentile, X, y, Lasso, param_grid)\n",
    "    num_stocks_list.append(num_stocks)\n",
    "    tracking_errors.append(tracking_err)\n",
    "    adj_tracking_errors.append(adj_tracking_err)\n",
    "\n",
    "# Plotting the results\n",
    "fig, ax1 = plt.subplots()\n",
    "\n",
    "# Plotting number of stocks on the primary y-axis\n",
    "plt.plot(num_stocks_list, adj_tracking_errors, marker='x')\n",
    "plt.xlabel('Number of Stocks')\n",
    "plt.ylabel('Tracking Error')\n",
    "plt.title('Tracking Errors vs Number of Stocks')\n",
    "plt.grid(True)\n",
    "plt.show()"
   ]
  },
  {
   "cell_type": "markdown",
   "id": "41f04e59",
   "metadata": {
    "papermill": {
     "duration": 0.019731,
     "end_time": "2024-11-27T14:29:23.227163",
     "exception": false,
     "start_time": "2024-11-27T14:29:23.207432",
     "status": "completed"
    },
    "tags": []
   },
   "source": [
    "### MI - Polynomial Regression"
   ]
  },
  {
   "cell_type": "markdown",
   "id": "49f83ff5",
   "metadata": {
    "execution": {
     "iopub.execute_input": "2024-11-12T21:50:37.572889Z",
     "iopub.status.busy": "2024-11-12T21:50:37.570440Z"
    },
    "papermill": {
     "duration": 0.019049,
     "end_time": "2024-11-27T14:29:23.265652",
     "exception": false,
     "start_time": "2024-11-27T14:29:23.246603",
     "status": "completed"
    },
    "tags": []
   },
   "source": [
    "TODO: Theil-Sein Linear Regression"
   ]
  },
  {
   "cell_type": "code",
   "execution_count": null,
   "id": "dd27f865",
   "metadata": {
    "papermill": {
     "duration": 0.018829,
     "end_time": "2024-11-27T14:29:23.303409",
     "exception": false,
     "start_time": "2024-11-27T14:29:23.284580",
     "status": "completed"
    },
    "tags": []
   },
   "outputs": [],
   "source": []
  }
 ],
 "metadata": {
  "kaggle": {
   "accelerator": "none",
   "dataSources": [
    {
     "datasetId": 6024843,
     "sourceId": 9824880,
     "sourceType": "datasetVersion"
    },
    {
     "datasetId": 2401195,
     "sourceId": 9867252,
     "sourceType": "datasetVersion"
    },
    {
     "datasetId": 2490157,
     "sourceId": 9876776,
     "sourceType": "datasetVersion"
    }
   ],
   "dockerImageVersionId": 30786,
   "isGpuEnabled": false,
   "isInternetEnabled": true,
   "language": "python",
   "sourceType": "notebook"
  },
  "kernelspec": {
   "display_name": "Python 3",
   "language": "python",
   "name": "python3"
  },
  "language_info": {
   "codemirror_mode": {
    "name": "ipython",
    "version": 3
   },
   "file_extension": ".py",
   "mimetype": "text/x-python",
   "name": "python",
   "nbconvert_exporter": "python",
   "pygments_lexer": "ipython3",
   "version": "3.10.14"
  },
  "papermill": {
   "default_parameters": {},
   "duration": 13740.732661,
   "end_time": "2024-11-27T14:29:24.455246",
   "environment_variables": {},
   "exception": null,
   "input_path": "__notebook__.ipynb",
   "output_path": "__notebook__.ipynb",
   "parameters": {},
   "start_time": "2024-11-27T10:40:23.722585",
   "version": "2.6.0"
  }
 },
 "nbformat": 4,
 "nbformat_minor": 5
}
