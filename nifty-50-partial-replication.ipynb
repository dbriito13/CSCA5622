{
 "cells": [
  {
   "cell_type": "markdown",
   "id": "8caa126a",
   "metadata": {
    "_cell_guid": "b1076dfc-b9ad-4769-8c92-a6c4dae69d19",
    "_uuid": "8f2839f25d086af736a60e9eeb907d3b93b6e0e5",
    "papermill": {
     "duration": 0.006848,
     "end_time": "2024-11-29T11:49:58.292406",
     "exception": false,
     "start_time": "2024-11-29T11:49:58.285558",
     "status": "completed"
    },
    "tags": []
   },
   "source": [
    "# Nifty 50 Partial Replication"
   ]
  },
  {
   "cell_type": "code",
   "execution_count": 1,
   "id": "a81b233a",
   "metadata": {
    "execution": {
     "iopub.execute_input": "2024-11-29T11:49:58.306639Z",
     "iopub.status.busy": "2024-11-29T11:49:58.306220Z",
     "iopub.status.idle": "2024-11-29T11:50:01.617164Z",
     "shell.execute_reply": "2024-11-29T11:50:01.615716Z"
    },
    "papermill": {
     "duration": 3.321555,
     "end_time": "2024-11-29T11:50:01.620279",
     "exception": false,
     "start_time": "2024-11-29T11:49:58.298724",
     "status": "completed"
    },
    "tags": []
   },
   "outputs": [],
   "source": [
    "import pandas as pd\n",
    "import numpy as np\n",
    "from sklearn.model_selection import train_test_split\n",
    "from sklearn.linear_model import Lasso\n",
    "from sklearn.metrics import mean_squared_error, r2_score, make_scorer\n",
    "from sklearn.model_selection import cross_val_score, TimeSeriesSplit, ParameterGrid\n",
    "from sklearn.linear_model import LassoCV\n",
    "import matplotlib.pyplot as plt\n",
    "import os\n",
    "import glob\n",
    "from tqdm import tqdm\n",
    "import warnings\n",
    "from sklearn.ensemble import RandomForestRegressor\n",
    "from sklearn.exceptions import ConvergenceWarning\n",
    "warnings.filterwarnings(\"ignore\")\n",
    "warnings.filterwarnings(\"always\", category=ConvergenceWarning)\n",
    "import seaborn as sns\n",
    "from sklearn.pipeline import Pipeline\n",
    "from mpl_toolkits.mplot3d import Axes3D\n",
    "from sklearn.linear_model import LinearRegression\n",
    "from sklearn.preprocessing import PolynomialFeatures\n",
    "import xgboost as xgb\n",
    "from sklearn.feature_selection import SelectFromModel,mutual_info_regression"
   ]
  },
  {
   "cell_type": "code",
   "execution_count": 2,
   "id": "10876f3c",
   "metadata": {
    "execution": {
     "iopub.execute_input": "2024-11-29T11:50:01.635498Z",
     "iopub.status.busy": "2024-11-29T11:50:01.634934Z",
     "iopub.status.idle": "2024-11-29T11:50:01.641357Z",
     "shell.execute_reply": "2024-11-29T11:50:01.640105Z"
    },
    "papermill": {
     "duration": 0.016889,
     "end_time": "2024-11-29T11:50:01.643883",
     "exception": false,
     "start_time": "2024-11-29T11:50:01.626994",
     "status": "completed"
    },
    "tags": []
   },
   "outputs": [],
   "source": [
    "def tracking_error(y_true, y_pred):\n",
    "    # Convert y_true and y_pred to pandas Series for easy handling of pct_change()\n",
    "    y_true = pd.Series(y_true)\n",
    "    y_pred = pd.Series(y_pred)\n",
    "    \n",
    "    # Calculate percentage change for true values and predictions\n",
    "    # pct_change_true = y_true.pct_change() * 100\n",
    "    # pct_change_pred = y_pred.pct_change() * 100\n",
    "    \n",
    "    # Calculate the difference between the percentage changes\n",
    "    diff_pct_change = y_true - y_pred    \n",
    "    \n",
    "    # Return the standard deviation of the differences (tracking error)\n",
    "    return np.std(diff_pct_change.dropna())  # dropna() to avoid NaN values in pct_change"
   ]
  },
  {
   "cell_type": "code",
   "execution_count": 3,
   "id": "87448958",
   "metadata": {
    "execution": {
     "iopub.execute_input": "2024-11-29T11:50:01.657657Z",
     "iopub.status.busy": "2024-11-29T11:50:01.657253Z",
     "iopub.status.idle": "2024-11-29T11:50:01.663574Z",
     "shell.execute_reply": "2024-11-29T11:50:01.662247Z"
    },
    "papermill": {
     "duration": 0.016216,
     "end_time": "2024-11-29T11:50:01.666189",
     "exception": false,
     "start_time": "2024-11-29T11:50:01.649973",
     "status": "completed"
    },
    "tags": []
   },
   "outputs": [],
   "source": [
    "def adj_tracking_error(y_true, X_test, model):\n",
    "    cost = 0.001  # 0.1% cost\n",
    "    X_test_adjusted = X_test.copy()\n",
    "    X_test_adjusted[0, :] -= cost  # Subtract cost from the first return of each stock\n",
    "\n",
    "    # Predict with adjustment\n",
    "    y_pred_adjusted = model.predict(X_test_adjusted)\n",
    "    return tracking_error(y_true, y_pred_adjusted)"
   ]
  },
  {
   "cell_type": "markdown",
   "id": "5cc09de4",
   "metadata": {
    "papermill": {
     "duration": 0.00579,
     "end_time": "2024-11-29T11:50:01.679167",
     "exception": false,
     "start_time": "2024-11-29T11:50:01.673377",
     "status": "completed"
    },
    "tags": []
   },
   "source": [
    "# Data"
   ]
  },
  {
   "cell_type": "code",
   "execution_count": 4,
   "id": "d10b1d86",
   "metadata": {
    "execution": {
     "iopub.execute_input": "2024-11-29T11:50:01.693883Z",
     "iopub.status.busy": "2024-11-29T11:50:01.692839Z",
     "iopub.status.idle": "2024-11-29T11:50:01.698259Z",
     "shell.execute_reply": "2024-11-29T11:50:01.696985Z"
    },
    "papermill": {
     "duration": 0.015174,
     "end_time": "2024-11-29T11:50:01.700539",
     "exception": false,
     "start_time": "2024-11-29T11:50:01.685365",
     "status": "completed"
    },
    "tags": []
   },
   "outputs": [],
   "source": [
    "# directory_path = '/kaggle/input/stock-market-data-nifty-50-stocks-1-min-data'\n",
    "# pattern = os.path.join(directory_path, \"*.csv\")  # Change \"*.csv\" to match other patterns if needed\n",
    "\n",
    "# Get the list of files that match the pattern\n",
    "# file_list = glob.glob(pattern)"
   ]
  },
  {
   "cell_type": "code",
   "execution_count": 5,
   "id": "54fa2a92",
   "metadata": {
    "execution": {
     "iopub.execute_input": "2024-11-29T11:50:01.715270Z",
     "iopub.status.busy": "2024-11-29T11:50:01.714776Z",
     "iopub.status.idle": "2024-11-29T11:50:01.721409Z",
     "shell.execute_reply": "2024-11-29T11:50:01.720291Z"
    },
    "papermill": {
     "duration": 0.016873,
     "end_time": "2024-11-29T11:50:01.723917",
     "exception": false,
     "start_time": "2024-11-29T11:50:01.707044",
     "status": "completed"
    },
    "tags": []
   },
   "outputs": [],
   "source": [
    "def fetch_data(cols):\n",
    "    df_list = []\n",
    "    for file in tqdm(file_list):\n",
    "        stock_name = os.path.basename(file).split(\"_\")[0]\n",
    "        file_df = pd.read_csv(file, index_col=0)\n",
    "        file_df = file_df[[cols]]\n",
    "        file_df.columns = pd.MultiIndex.from_product([[stock_name], file_df.columns])\n",
    "        df_list.append(file_df)\n",
    "    return pd.concat(df_list, axis=1)"
   ]
  },
  {
   "cell_type": "code",
   "execution_count": 6,
   "id": "721b65e7",
   "metadata": {
    "execution": {
     "iopub.execute_input": "2024-11-29T11:50:01.738352Z",
     "iopub.status.busy": "2024-11-29T11:50:01.737910Z",
     "iopub.status.idle": "2024-11-29T11:50:01.743171Z",
     "shell.execute_reply": "2024-11-29T11:50:01.741968Z"
    },
    "papermill": {
     "duration": 0.015415,
     "end_time": "2024-11-29T11:50:01.745708",
     "exception": false,
     "start_time": "2024-11-29T11:50:01.730293",
     "status": "completed"
    },
    "tags": []
   },
   "outputs": [],
   "source": [
    "# df = fetch_data('close')\n",
    "# df.to_csv('/kaggle/input/nifty_50_closing.csv')"
   ]
  },
  {
   "cell_type": "code",
   "execution_count": 7,
   "id": "72bf1932",
   "metadata": {
    "execution": {
     "iopub.execute_input": "2024-11-29T11:50:01.760021Z",
     "iopub.status.busy": "2024-11-29T11:50:01.759615Z",
     "iopub.status.idle": "2024-11-29T11:50:21.929225Z",
     "shell.execute_reply": "2024-11-29T11:50:21.927518Z"
    },
    "papermill": {
     "duration": 20.179648,
     "end_time": "2024-11-29T11:50:21.931885",
     "exception": false,
     "start_time": "2024-11-29T11:50:01.752237",
     "status": "completed"
    },
    "tags": []
   },
   "outputs": [
    {
     "name": "stdout",
     "output_type": "stream",
     "text": [
      "Number of rows with NaN values: 639555\n"
     ]
    }
   ],
   "source": [
    "df = pd.read_csv('/kaggle/input/nifty-50-closing-data/nifty_50_closing.csv', index_col=0, header=[0, 1])\n",
    "df = df.xs('close', level=1, axis=1)\n",
    "df.index = pd.to_datetime(df.index)\n",
    "\n",
    "nan_rows = df.isna().any(axis=1)\n",
    "\n",
    "# Get the number of rows with NaN values\n",
    "num_nan_rows = nan_rows.sum()\n",
    "\n",
    "print(f\"Number of rows with NaN values: {num_nan_rows}\")"
   ]
  },
  {
   "cell_type": "code",
   "execution_count": 8,
   "id": "efd2d788",
   "metadata": {
    "execution": {
     "iopub.execute_input": "2024-11-29T11:50:21.946684Z",
     "iopub.status.busy": "2024-11-29T11:50:21.946315Z",
     "iopub.status.idle": "2024-11-29T11:50:24.029190Z",
     "shell.execute_reply": "2024-11-29T11:50:24.027503Z"
    },
    "papermill": {
     "duration": 2.09386,
     "end_time": "2024-11-29T11:50:24.032433",
     "exception": false,
     "start_time": "2024-11-29T11:50:21.938573",
     "status": "completed"
    },
    "tags": []
   },
   "outputs": [],
   "source": [
    "nifty_100_closing = pd.read_csv('/kaggle/input/nifty-50-minute-data/NIFTY 100_minute.csv', index_col=0)[['close']]\n",
    "nifty_100_closing.index = pd.to_datetime(nifty_100_closing.index)\n",
    "nifty_100_closing.rename(columns={'close': 'NIFTY_100'}, inplace=True)"
   ]
  },
  {
   "cell_type": "code",
   "execution_count": 9,
   "id": "081bf827",
   "metadata": {
    "execution": {
     "iopub.execute_input": "2024-11-29T11:50:24.047161Z",
     "iopub.status.busy": "2024-11-29T11:50:24.046767Z",
     "iopub.status.idle": "2024-11-29T11:50:24.052563Z",
     "shell.execute_reply": "2024-11-29T11:50:24.051531Z"
    },
    "papermill": {
     "duration": 0.015635,
     "end_time": "2024-11-29T11:50:24.054890",
     "exception": false,
     "start_time": "2024-11-29T11:50:24.039255",
     "status": "completed"
    },
    "tags": []
   },
   "outputs": [
    {
     "name": "stdout",
     "output_type": "stream",
     "text": [
      "Index type for df1: <class 'pandas.core.indexes.datetimes.DatetimeIndex'>\n",
      "Index type for df2: <class 'pandas.core.indexes.datetimes.DatetimeIndex'>\n"
     ]
    }
   ],
   "source": [
    "print(f\"Index type for df1: {type(df.index)}\")\n",
    "print(f\"Index type for df2: {type(nifty_100_closing.index)}\")"
   ]
  },
  {
   "cell_type": "code",
   "execution_count": 10,
   "id": "b8c23fd6",
   "metadata": {
    "execution": {
     "iopub.execute_input": "2024-11-29T11:50:24.073748Z",
     "iopub.status.busy": "2024-11-29T11:50:24.072867Z",
     "iopub.status.idle": "2024-11-29T11:50:24.780749Z",
     "shell.execute_reply": "2024-11-29T11:50:24.779406Z"
    },
    "papermill": {
     "duration": 0.721487,
     "end_time": "2024-11-29T11:50:24.783300",
     "exception": false,
     "start_time": "2024-11-29T11:50:24.061813",
     "status": "completed"
    },
    "tags": []
   },
   "outputs": [
    {
     "name": "stdout",
     "output_type": "stream",
     "text": [
      "Number of rows with NaN values: 37207\n",
      "Number of rows with 0.0 values: 79\n",
      "Total rows 639981\n"
     ]
    }
   ],
   "source": [
    "threshold = 0.10\n",
    "# Drop columns with more than the threshold percentage of missing values\n",
    "df = df.dropna(thresh=int((1-threshold) * len(df)), axis=1)\n",
    "\n",
    "nan_rows = df.isna().any(axis=1)\n",
    "\n",
    "# Get the number of rows with NaN values\n",
    "num_nan_rows = nan_rows.sum()\n",
    "\n",
    "print(f\"Number of rows with NaN values: {num_nan_rows}\")\n",
    "\n",
    "df.dropna(axis=0, inplace=True)\n",
    "\n",
    "df.index = df.index.tz_localize(None)\n",
    "\n",
    "zero_rows = (df == 0.0).any(axis=1)\n",
    "\n",
    "num_zero_rows = zero_rows.sum()\n",
    "\n",
    "print(f\"Number of rows with 0.0 values: {num_zero_rows}\")\n",
    "print(f\"Total rows {len(df)}\")"
   ]
  },
  {
   "cell_type": "code",
   "execution_count": 11,
   "id": "01420916",
   "metadata": {
    "execution": {
     "iopub.execute_input": "2024-11-29T11:50:24.798883Z",
     "iopub.status.busy": "2024-11-29T11:50:24.798371Z",
     "iopub.status.idle": "2024-11-29T11:50:24.808019Z",
     "shell.execute_reply": "2024-11-29T11:50:24.806852Z"
    },
    "papermill": {
     "duration": 0.020861,
     "end_time": "2024-11-29T11:50:24.810520",
     "exception": false,
     "start_time": "2024-11-29T11:50:24.789659",
     "status": "completed"
    },
    "tags": []
   },
   "outputs": [
    {
     "data": {
      "text/plain": [
       "88"
      ]
     },
     "execution_count": 11,
     "metadata": {},
     "output_type": "execute_result"
    }
   ],
   "source": [
    "len(df.columns)"
   ]
  },
  {
   "cell_type": "code",
   "execution_count": 12,
   "id": "51d755de",
   "metadata": {
    "execution": {
     "iopub.execute_input": "2024-11-29T11:50:24.826078Z",
     "iopub.status.busy": "2024-11-29T11:50:24.825121Z",
     "iopub.status.idle": "2024-11-29T11:50:25.141309Z",
     "shell.execute_reply": "2024-11-29T11:50:25.139824Z"
    },
    "papermill": {
     "duration": 0.326759,
     "end_time": "2024-11-29T11:50:25.143959",
     "exception": false,
     "start_time": "2024-11-29T11:50:24.817200",
     "status": "completed"
    },
    "tags": []
   },
   "outputs": [],
   "source": [
    "df_total = df.join(nifty_100_closing, how='left')"
   ]
  },
  {
   "cell_type": "code",
   "execution_count": 13,
   "id": "17504a6d",
   "metadata": {
    "execution": {
     "iopub.execute_input": "2024-11-29T11:50:25.159236Z",
     "iopub.status.busy": "2024-11-29T11:50:25.158382Z",
     "iopub.status.idle": "2024-11-29T11:50:25.454319Z",
     "shell.execute_reply": "2024-11-29T11:50:25.453178Z"
    },
    "papermill": {
     "duration": 0.306985,
     "end_time": "2024-11-29T11:50:25.457525",
     "exception": false,
     "start_time": "2024-11-29T11:50:25.150540",
     "status": "completed"
    },
    "tags": []
   },
   "outputs": [],
   "source": [
    "df_total.dropna(inplace=True)"
   ]
  },
  {
   "cell_type": "code",
   "execution_count": 14,
   "id": "652771e0",
   "metadata": {
    "execution": {
     "iopub.execute_input": "2024-11-29T11:50:25.481153Z",
     "iopub.status.busy": "2024-11-29T11:50:25.480004Z",
     "iopub.status.idle": "2024-11-29T11:50:27.468651Z",
     "shell.execute_reply": "2024-11-29T11:50:27.467414Z"
    },
    "papermill": {
     "duration": 2.002065,
     "end_time": "2024-11-29T11:50:27.471167",
     "exception": false,
     "start_time": "2024-11-29T11:50:25.469102",
     "status": "completed"
    },
    "tags": []
   },
   "outputs": [
    {
     "name": "stdout",
     "output_type": "stream",
     "text": [
      "Number of rows with large changes (>100.0%): 42\n"
     ]
    }
   ],
   "source": [
    "# Calculate the percentage change\n",
    "X_pct_change = df_total.pct_change()\n",
    "\n",
    "# Define the threshold for large changes (e.g., 100% change)\n",
    "threshold = 1.0  # 1.0 corresponds to 100% when working with pct_change()\n",
    "\n",
    "# Find rows with any column having a percentage change greater than the threshold\n",
    "large_change_rows = X_pct_change[(X_pct_change.abs() > threshold).any(axis=1)]\n",
    "\n",
    "# Get the number of rows where there are large percentage changes\n",
    "num_large_changes = large_change_rows.shape[0]\n",
    "\n",
    "print(f\"Number of rows with large changes (>{threshold * 100}%): {num_large_changes}\")"
   ]
  },
  {
   "cell_type": "code",
   "execution_count": 15,
   "id": "5086f6c6",
   "metadata": {
    "execution": {
     "iopub.execute_input": "2024-11-29T11:50:27.489684Z",
     "iopub.status.busy": "2024-11-29T11:50:27.488134Z",
     "iopub.status.idle": "2024-11-29T11:50:27.496260Z",
     "shell.execute_reply": "2024-11-29T11:50:27.494288Z"
    },
    "papermill": {
     "duration": 0.019363,
     "end_time": "2024-11-29T11:50:27.498941",
     "exception": false,
     "start_time": "2024-11-29T11:50:27.479578",
     "status": "completed"
    },
    "tags": []
   },
   "outputs": [
    {
     "name": "stdout",
     "output_type": "stream",
     "text": [
      "629791\n"
     ]
    }
   ],
   "source": [
    "print(len(df_total))"
   ]
  },
  {
   "cell_type": "code",
   "execution_count": 16,
   "id": "a6c96a4b",
   "metadata": {
    "execution": {
     "iopub.execute_input": "2024-11-29T11:50:27.513686Z",
     "iopub.status.busy": "2024-11-29T11:50:27.513302Z",
     "iopub.status.idle": "2024-11-29T11:50:27.738725Z",
     "shell.execute_reply": "2024-11-29T11:50:27.737702Z"
    },
    "papermill": {
     "duration": 0.235942,
     "end_time": "2024-11-29T11:50:27.741370",
     "exception": false,
     "start_time": "2024-11-29T11:50:27.505428",
     "status": "completed"
    },
    "tags": []
   },
   "outputs": [],
   "source": [
    "df_total.sort_index(inplace=True)"
   ]
  },
  {
   "cell_type": "code",
   "execution_count": 17,
   "id": "2149068e",
   "metadata": {
    "execution": {
     "iopub.execute_input": "2024-11-29T11:50:27.756425Z",
     "iopub.status.busy": "2024-11-29T11:50:27.756017Z",
     "iopub.status.idle": "2024-11-29T11:50:30.168083Z",
     "shell.execute_reply": "2024-11-29T11:50:30.166980Z"
    },
    "papermill": {
     "duration": 2.422447,
     "end_time": "2024-11-29T11:50:30.170563",
     "exception": false,
     "start_time": "2024-11-29T11:50:27.748116",
     "status": "completed"
    },
    "tags": []
   },
   "outputs": [
    {
     "name": "stdout",
     "output_type": "stream",
     "text": [
      "TRAIN: 2015-02-19 15:12:00 to 2016-04-07 11:40:00 (13 months, 18 days)\n",
      "85000\n",
      "TEST: 2016-04-07 11:41:00 to 2016-08-16 10:27:00 (4 months, 8 days)\n",
      "30000\n",
      "TRAIN: 2015-06-29 13:49:00 to 2016-08-16 10:27:00 (13 months, 17 days)\n",
      "85000\n",
      "TEST: 2016-08-16 10:28:00 to 2016-12-22 13:19:00 (4 months, 6 days)\n",
      "30000\n",
      "TRAIN: 2015-12-17 14:02:00 to 2016-12-22 13:19:00 (12 months, 4 days)\n",
      "85000\n",
      "TEST: 2016-12-22 13:20:00 to 2017-05-02 12:41:00 (4 months, 9 days)\n",
      "30000\n",
      "TRAIN: 2016-04-29 14:28:00 to 2017-05-02 12:41:00 (12 months, 2 days)\n",
      "85000\n",
      "TEST: 2017-05-02 12:42:00 to 2017-09-06 14:52:00 (4 months, 4 days)\n",
      "30000\n",
      "TRAIN: 2016-09-02 13:10:00 to 2017-09-06 14:52:00 (12 months, 4 days)\n",
      "85000\n",
      "TEST: 2017-09-06 14:53:00 to 2018-01-11 12:46:00 (4 months, 4 days)\n",
      "30000\n",
      "TRAIN: 2017-01-11 09:49:00 to 2018-01-11 12:46:00 (12 months, 0 days)\n",
      "85000\n",
      "TEST: 2018-01-11 12:47:00 to 2018-05-24 10:55:00 (4 months, 12 days)\n",
      "30000\n",
      "TRAIN: 2017-05-22 09:20:00 to 2018-05-24 10:55:00 (12 months, 2 days)\n",
      "85000\n",
      "TEST: 2018-05-24 10:56:00 to 2018-09-28 13:36:00 (4 months, 4 days)\n",
      "30000\n",
      "TRAIN: 2017-09-26 11:50:00 to 2018-09-28 13:36:00 (12 months, 2 days)\n",
      "85000\n",
      "TEST: 2018-09-28 13:37:00 to 2019-02-14 10:42:00 (4 months, 16 days)\n",
      "30000\n",
      "TRAIN: 2018-01-31 15:22:00 to 2019-02-14 10:42:00 (12 months, 13 days)\n",
      "85000\n",
      "TEST: 2019-02-14 10:43:00 to 2019-07-17 10:21:00 (5 months, 2 days)\n",
      "30000\n",
      "TRAIN: 2018-06-12 13:54:00 to 2019-07-17 10:21:00 (13 months, 4 days)\n",
      "85000\n",
      "TEST: 2019-07-17 10:24:00 to 2019-12-06 13:21:00 (4 months, 19 days)\n",
      "30000\n",
      "TRAIN: 2018-10-22 09:40:00 to 2019-12-06 13:21:00 (13 months, 14 days)\n",
      "85000\n",
      "TEST: 2019-12-06 13:23:00 to 2020-04-24 15:02:00 (4 months, 18 days)\n",
      "30000\n",
      "TRAIN: 2019-03-08 12:01:00 to 2020-04-24 15:02:00 (13 months, 16 days)\n",
      "85000\n",
      "TEST: 2020-04-24 15:03:00 to 2020-09-01 12:07:00 (4 months, 7 days)\n",
      "30000\n",
      "TRAIN: 2019-08-07 14:46:00 to 2020-09-01 12:07:00 (12 months, 24 days)\n",
      "85000\n",
      "TEST: 2020-09-01 12:08:00 to 2021-01-11 09:37:00 (4 months, 9 days)\n",
      "30000\n",
      "TRAIN: 2020-01-03 15:00:00 to 2021-01-11 09:37:00 (12 months, 7 days)\n",
      "85000\n",
      "TEST: 2021-01-11 09:38:00 to 2021-05-24 12:49:00 (4 months, 13 days)\n",
      "30000\n",
      "TRAIN: 2020-05-19 14:50:00 to 2021-05-24 12:49:00 (12 months, 4 days)\n",
      "85000\n",
      "TEST: 2021-05-24 12:50:00 to 2021-09-28 14:42:00 (4 months, 4 days)\n",
      "30000\n",
      "TRAIN: 2020-09-28 10:52:00 to 2021-09-28 14:42:00 (12 months, 0 days)\n",
      "85000\n",
      "TEST: 2021-09-28 14:43:00 to 2022-02-07 13:31:00 (4 months, 9 days)\n",
      "30000\n",
      "TRAIN: 2021-02-03 12:09:00 to 2022-02-07 13:31:00 (12 months, 4 days)\n",
      "85000\n",
      "TEST: 2022-02-07 13:32:00 to 2022-06-14 14:33:00 (4 months, 7 days)\n",
      "30000\n",
      "TRAIN: 2021-06-17 10:05:00 to 2022-06-14 14:33:00 (11 months, 28 days)\n",
      "85000\n",
      "TEST: 2022-06-14 14:34:00 to 2022-10-24 19:14:00 (4 months, 10 days)\n",
      "30000\n"
     ]
    }
   ],
   "source": [
    "from dateutil.relativedelta import relativedelta\n",
    "\n",
    "\n",
    "df_total_z = df_total.replace(0, np.nan)  # Convert zeroes back to NaNs\n",
    "df_total_returns = df_total_z.pct_change().dropna()\n",
    "df_total_returns = 100*df_total_returns\n",
    "X = df_total_returns.drop(columns=['NIFTY 50', 'NIFTY BANK', 'NIFTY_100'])\n",
    "y = df_total_returns['NIFTY_100']\n",
    "\n",
    "tscv = TimeSeriesSplit(n_splits=18, max_train_size=85000, test_size=30000)\n",
    "\n",
    "\n",
    "# Iterate over each split\n",
    "for train_index, test_index in tscv.split(X):\n",
    "    # Get the date ranges for train and test indices\n",
    "    train_dates = X.index[train_index]\n",
    "    test_dates = X.index[test_index]\n",
    "\n",
    "\n",
    "    train_start = train_dates[0]\n",
    "    train_end = train_dates[-1]\n",
    "    test_start = test_dates[0]\n",
    "    test_end = test_dates[-1]\n",
    "    train_length = relativedelta(train_end, train_start)\n",
    "    test_length = relativedelta(test_end, test_start)\n",
    "\n",
    "    \n",
    "    # Print the date ranges\n",
    "    print(f\"TRAIN: {train_start} to {train_end} \"\n",
    "          f\"({train_length.years*12 + train_length.months} months, {train_length.days} days)\")\n",
    "    print(len(train_index))\n",
    "    print(f\"TEST: {test_start} to {test_end} \"\n",
    "          f\"({test_length.years*12 + test_length.months} months, {test_length.days} days)\")\n",
    "    print(len(test_index))"
   ]
  },
  {
   "cell_type": "markdown",
   "id": "8616da1f",
   "metadata": {
    "papermill": {
     "duration": 0.006257,
     "end_time": "2024-11-29T11:50:30.183593",
     "exception": false,
     "start_time": "2024-11-29T11:50:30.177336",
     "status": "completed"
    },
    "tags": []
   },
   "source": [
    "# Models"
   ]
  },
  {
   "cell_type": "markdown",
   "id": "19b4fad2",
   "metadata": {
    "papermill": {
     "duration": 0.006374,
     "end_time": "2024-11-29T11:50:30.196415",
     "exception": false,
     "start_time": "2024-11-29T11:50:30.190041",
     "status": "completed"
    },
    "tags": []
   },
   "source": [
    "## Combined Approach\n",
    "In this section, we will utilize a combined approach to limit the number of features (stocks) and train our models.\n",
    "\n",
    "1. Feature Selection (using Lasso w/ high alpha, Mutual Info, ANOVA, RFE)\n",
    "2. Define threshold to drop features\n",
    "3. Train model on reduced feature space (Hyperparameter tuned)\n",
    "4. Get tracking error\n",
    "5. Save pair (number of stocks, tracking error) for plotting"
   ]
  },
  {
   "cell_type": "markdown",
   "id": "b927d113",
   "metadata": {
    "papermill": {
     "duration": 0.006369,
     "end_time": "2024-11-29T11:50:30.210433",
     "exception": false,
     "start_time": "2024-11-29T11:50:30.204064",
     "status": "completed"
    },
    "tags": []
   },
   "source": [
    "### Lasso - Lasso\n",
    "\n",
    "We will utilize a Lasso model with a high alpha value to perform feature selection, this will drop the coefficients for less important features to 0. After that we retrain a Lasso model with hyperparameter tuning."
   ]
  },
  {
   "cell_type": "code",
   "execution_count": 18,
   "id": "b41491cc",
   "metadata": {
    "_kg_hide-input": true,
    "execution": {
     "iopub.execute_input": "2024-11-29T11:50:30.226143Z",
     "iopub.status.busy": "2024-11-29T11:50:30.225712Z",
     "iopub.status.idle": "2024-11-29T11:50:30.238797Z",
     "shell.execute_reply": "2024-11-29T11:50:30.237450Z"
    },
    "papermill": {
     "duration": 0.023576,
     "end_time": "2024-11-29T11:50:30.241139",
     "exception": false,
     "start_time": "2024-11-29T11:50:30.217563",
     "status": "completed"
    },
    "tags": []
   },
   "outputs": [],
   "source": [
    "from sklearn.preprocessing import StandardScaler\n",
    "\n",
    "def Lasso_Lasso(alpha, X, y):    \n",
    "    tscv = TimeSeriesSplit(n_splits=18, max_train_size=85000, test_size=30000)\n",
    "    stocks = []\n",
    "    num_stocks = []\n",
    "    fold_scores = []\n",
    "    adj_fold_scores = []\n",
    "    \n",
    "    for train_index, test_index in tscv.split(X):\n",
    "        X_train_cv, X_test_cv = X.iloc[train_index], X.iloc[test_index]\n",
    "        y_train_cv, y_test_cv = y.iloc[train_index], y.iloc[test_index]\n",
    "        train_period = X.iloc[train_index].index\n",
    "        test_period = X.iloc[test_index].index\n",
    "        \n",
    "        # Convert to date format\n",
    "        train_start_date, train_end_date = train_period.min(), train_period.max()\n",
    "        test_start_date, test_end_date = test_period.min(), test_period.max()\n",
    "        \n",
    "        print(f\"Train period: {train_start_date} to {train_end_date}\")\n",
    "        print(f\"Test period: {test_start_date} to {test_end_date}\")\n",
    "        scaler = StandardScaler()\n",
    "        X_scaled = scaler.fit_transform(X_train_cv)\n",
    "        \n",
    "        # Feature selection with alpha from list\n",
    "        lasso_fs = Lasso(alpha=alpha, max_iter=200)\n",
    "        lasso_fs.fit(X_scaled, y_train_cv)\n",
    "\n",
    "        #for feature, coef in zip(X_train_cv.columns, lasso_fs.coef_):\n",
    "        #    print(f\"{feature}: {coef}\")\n",
    "\n",
    "        selector = SelectFromModel(lasso_fs, threshold=10e-10, max_features=None)  # Adjust threshold as needed\n",
    "        X_selected_train = selector.transform(X_scaled)\n",
    "        X_selected_test = selector.transform(X_test_cv)\n",
    "\n",
    "        selected_features = np.where(selector.get_support())[0] \n",
    "        print(f\"Selected {len(selected_features)} stocks\")\n",
    "        num_stocks.append(len(selected_features))\n",
    "        stocks.append(selected_features)\n",
    "\n",
    "        best_alpha = None\n",
    "        best_score = float('inf')  # Assuming lower is better for your metric\n",
    "        for alph in [0.0001, 0.00025, 0.0005, 0.00075, 0.001, 0.002, 0.0025]:\n",
    "            lasso = Lasso(alpha=alph, max_iter=15000)\n",
    "            lasso.fit(X_selected_train, y_train_cv)\n",
    "    \n",
    "            y_pred = lasso.predict(X_selected_test)\n",
    "            fold_score = tracking_error(y_test_cv.values, y_pred)\n",
    "            adj_fold_score = adj_tracking_error(y_test_cv.values, X_selected_test, lasso)\n",
    "            # print(f\"Alpha: {alpha}, Fold Score: {fold_score}\")\n",
    "    \n",
    "            if fold_score < best_score:\n",
    "                best_score = fold_score\n",
    "                best_alpha = alpha\n",
    "    \n",
    "        print(f\"Best Alpha for this fold: {best_alpha}, Best Fold Score: {best_score}\")\n",
    "        fold_scores.append(best_score)\n",
    "        adj_fold_scores.append(adj_fold_score)\n",
    "        \n",
    "    # Calculate the average score across all folds\n",
    "    average_score = np.mean(fold_scores)\n",
    "    average_adj_score = np.mean(adj_fold_scores)\n",
    "\n",
    "    # Get average stocks chosen over all folds\n",
    "    average_selected_features = np.mean(num_stocks)\n",
    "    \n",
    "    # Print the tracking error for this alpha\n",
    "    print(f\"Alpha: {alpha}, Average Tracking Error: {average_score}\")\n",
    " \n",
    "    return stocks, average_selected_features, average_score, average_adj_score"
   ]
  },
  {
   "cell_type": "code",
   "execution_count": 19,
   "id": "b05943ec",
   "metadata": {
    "execution": {
     "iopub.execute_input": "2024-11-29T11:50:30.256374Z",
     "iopub.status.busy": "2024-11-29T11:50:30.255935Z",
     "iopub.status.idle": "2024-11-29T11:59:28.644045Z",
     "shell.execute_reply": "2024-11-29T11:59:28.642577Z"
    },
    "papermill": {
     "duration": 538.398865,
     "end_time": "2024-11-29T11:59:28.646733",
     "exception": false,
     "start_time": "2024-11-29T11:50:30.247868",
     "status": "completed"
    },
    "tags": []
   },
   "outputs": [
    {
     "name": "stdout",
     "output_type": "stream",
     "text": [
      "----------Starting alpha 0.001-------------\n",
      "Train period: 2015-02-19 15:12:00 to 2016-04-07 11:40:00\n",
      "Test period: 2016-04-07 11:41:00 to 2016-08-16 10:27:00\n",
      "Selected 72 stocks\n",
      "Best Alpha for this fold: 0.001, Best Fold Score: 0.037633181024703796\n",
      "Train period: 2015-06-29 13:49:00 to 2016-08-16 10:27:00\n",
      "Test period: 2016-08-16 10:28:00 to 2016-12-22 13:19:00\n",
      "Selected 73 stocks\n",
      "Best Alpha for this fold: 0.001, Best Fold Score: 0.05002580777829724\n",
      "Train period: 2015-12-17 14:02:00 to 2016-12-22 13:19:00\n",
      "Test period: 2016-12-22 13:20:00 to 2017-05-02 12:41:00\n",
      "Selected 77 stocks\n",
      "Best Alpha for this fold: 0.001, Best Fold Score: 0.027979556706381723\n",
      "Train period: 2016-04-29 14:28:00 to 2017-05-02 12:41:00\n",
      "Test period: 2017-05-02 12:42:00 to 2017-09-06 14:52:00\n",
      "Selected 78 stocks\n",
      "Best Alpha for this fold: 0.001, Best Fold Score: 0.026597014791040915\n",
      "Train period: 2016-09-02 13:10:00 to 2017-09-06 14:52:00\n",
      "Test period: 2017-09-06 14:53:00 to 2018-01-11 12:46:00\n",
      "Selected 77 stocks\n",
      "Best Alpha for this fold: 0.001, Best Fold Score: 0.030156599637927994\n",
      "Train period: 2017-01-11 09:49:00 to 2018-01-11 12:46:00\n",
      "Test period: 2018-01-11 12:47:00 to 2018-05-24 10:55:00\n",
      "Selected 72 stocks\n",
      "Best Alpha for this fold: 0.001, Best Fold Score: 0.04074813067080073\n",
      "Train period: 2017-05-22 09:20:00 to 2018-05-24 10:55:00\n",
      "Test period: 2018-05-24 10:56:00 to 2018-09-28 13:36:00\n",
      "Selected 71 stocks\n",
      "Best Alpha for this fold: 0.001, Best Fold Score: 0.03165337561806274\n",
      "Train period: 2017-09-26 11:50:00 to 2018-09-28 13:36:00\n",
      "Test period: 2018-09-28 13:37:00 to 2019-02-14 10:42:00\n",
      "Selected 72 stocks\n",
      "Best Alpha for this fold: 0.001, Best Fold Score: 0.04881098997346459\n",
      "Train period: 2018-01-31 15:22:00 to 2019-02-14 10:42:00\n",
      "Test period: 2019-02-14 10:43:00 to 2019-07-17 10:21:00\n",
      "Selected 74 stocks\n",
      "Best Alpha for this fold: 0.001, Best Fold Score: 0.03809597910380786\n",
      "Train period: 2018-06-12 13:54:00 to 2019-07-17 10:21:00\n",
      "Test period: 2019-07-17 10:24:00 to 2019-12-06 13:21:00\n",
      "Selected 74 stocks\n",
      "Best Alpha for this fold: 0.001, Best Fold Score: 0.04417507994259364\n",
      "Train period: 2018-10-22 09:40:00 to 2019-12-06 13:21:00\n",
      "Test period: 2019-12-06 13:23:00 to 2020-04-24 15:02:00\n",
      "Selected 74 stocks\n",
      "Best Alpha for this fold: 0.001, Best Fold Score: 0.13190118559047206\n",
      "Train period: 2019-03-08 12:01:00 to 2020-04-24 15:02:00\n",
      "Test period: 2020-04-24 15:03:00 to 2020-09-01 12:07:00\n"
     ]
    },
    {
     "name": "stderr",
     "output_type": "stream",
     "text": [
      "/opt/conda/lib/python3.10/site-packages/sklearn/linear_model/_coordinate_descent.py:631: ConvergenceWarning: Objective did not converge. You might want to increase the number of iterations, check the scale of the features or consider increasing regularisation. Duality gap: 6.355e-01, tolerance: 7.712e-02\n",
      "  model = cd_fast.enet_coordinate_descent(\n"
     ]
    },
    {
     "name": "stdout",
     "output_type": "stream",
     "text": [
      "Selected 82 stocks\n",
      "Best Alpha for this fold: 0.001, Best Fold Score: 0.05863145944155975\n",
      "Train period: 2019-08-07 14:46:00 to 2020-09-01 12:07:00\n",
      "Test period: 2020-09-01 12:08:00 to 2021-01-11 09:37:00\n"
     ]
    },
    {
     "name": "stderr",
     "output_type": "stream",
     "text": [
      "/opt/conda/lib/python3.10/site-packages/sklearn/linear_model/_coordinate_descent.py:631: ConvergenceWarning: Objective did not converge. You might want to increase the number of iterations, check the scale of the features or consider increasing regularisation. Duality gap: 7.647e-01, tolerance: 8.593e-02\n",
      "  model = cd_fast.enet_coordinate_descent(\n"
     ]
    },
    {
     "name": "stdout",
     "output_type": "stream",
     "text": [
      "Selected 80 stocks\n",
      "Best Alpha for this fold: 0.001, Best Fold Score: 0.044096700259039646\n",
      "Train period: 2020-01-03 15:00:00 to 2021-01-11 09:37:00\n",
      "Test period: 2021-01-11 09:38:00 to 2021-05-24 12:49:00\n"
     ]
    },
    {
     "name": "stderr",
     "output_type": "stream",
     "text": [
      "/opt/conda/lib/python3.10/site-packages/sklearn/linear_model/_coordinate_descent.py:631: ConvergenceWarning: Objective did not converge. You might want to increase the number of iterations, check the scale of the features or consider increasing regularisation. Duality gap: 7.981e-01, tolerance: 8.769e-02\n",
      "  model = cd_fast.enet_coordinate_descent(\n"
     ]
    },
    {
     "name": "stdout",
     "output_type": "stream",
     "text": [
      "Selected 83 stocks\n",
      "Best Alpha for this fold: 0.001, Best Fold Score: 0.050086035190358896\n",
      "Train period: 2020-05-19 14:50:00 to 2021-05-24 12:49:00\n",
      "Test period: 2021-05-24 12:50:00 to 2021-09-28 14:42:00\n",
      "Selected 82 stocks\n",
      "Best Alpha for this fold: 0.001, Best Fold Score: 0.030757340205887607\n",
      "Train period: 2020-09-28 10:52:00 to 2021-09-28 14:42:00\n",
      "Test period: 2021-09-28 14:43:00 to 2022-02-07 13:31:00\n",
      "Selected 81 stocks\n",
      "Best Alpha for this fold: 0.001, Best Fold Score: 0.04579371958235278\n",
      "Train period: 2021-02-03 12:09:00 to 2022-02-07 13:31:00\n",
      "Test period: 2022-02-07 13:32:00 to 2022-06-14 14:33:00\n",
      "Selected 79 stocks\n",
      "Best Alpha for this fold: 0.001, Best Fold Score: 0.060257209593759534\n",
      "Train period: 2021-06-17 10:05:00 to 2022-06-14 14:33:00\n",
      "Test period: 2022-06-14 14:34:00 to 2022-10-24 19:14:00\n",
      "Selected 81 stocks\n",
      "Best Alpha for this fold: 0.001, Best Fold Score: 0.04524760929993786\n",
      "Alpha: 0.001, Average Tracking Error: 0.04681372080058052\n",
      "----------Starting alpha 0.002-------------\n",
      "Train period: 2015-02-19 15:12:00 to 2016-04-07 11:40:00\n",
      "Test period: 2016-04-07 11:41:00 to 2016-08-16 10:27:00\n",
      "Selected 58 stocks\n",
      "Best Alpha for this fold: 0.002, Best Fold Score: 0.03773304526456323\n",
      "Train period: 2015-06-29 13:49:00 to 2016-08-16 10:27:00\n",
      "Test period: 2016-08-16 10:28:00 to 2016-12-22 13:19:00\n",
      "Selected 64 stocks\n",
      "Best Alpha for this fold: 0.002, Best Fold Score: 0.05016781900378956\n",
      "Train period: 2015-12-17 14:02:00 to 2016-12-22 13:19:00\n",
      "Test period: 2016-12-22 13:20:00 to 2017-05-02 12:41:00\n",
      "Selected 70 stocks\n",
      "Best Alpha for this fold: 0.002, Best Fold Score: 0.027991265936109146\n",
      "Train period: 2016-04-29 14:28:00 to 2017-05-02 12:41:00\n",
      "Test period: 2017-05-02 12:42:00 to 2017-09-06 14:52:00\n",
      "Selected 66 stocks\n",
      "Best Alpha for this fold: 0.002, Best Fold Score: 0.02664256200025259\n",
      "Train period: 2016-09-02 13:10:00 to 2017-09-06 14:52:00\n",
      "Test period: 2017-09-06 14:53:00 to 2018-01-11 12:46:00\n",
      "Selected 67 stocks\n",
      "Best Alpha for this fold: 0.002, Best Fold Score: 0.03017900395041294\n",
      "Train period: 2017-01-11 09:49:00 to 2018-01-11 12:46:00\n",
      "Test period: 2018-01-11 12:47:00 to 2018-05-24 10:55:00\n",
      "Selected 58 stocks\n",
      "Best Alpha for this fold: 0.002, Best Fold Score: 0.04077077328850888\n",
      "Train period: 2017-05-22 09:20:00 to 2018-05-24 10:55:00\n",
      "Test period: 2018-05-24 10:56:00 to 2018-09-28 13:36:00\n",
      "Selected 58 stocks\n",
      "Best Alpha for this fold: 0.002, Best Fold Score: 0.03166505296350009\n",
      "Train period: 2017-09-26 11:50:00 to 2018-09-28 13:36:00\n",
      "Test period: 2018-09-28 13:37:00 to 2019-02-14 10:42:00\n",
      "Selected 64 stocks\n",
      "Best Alpha for this fold: 0.002, Best Fold Score: 0.04882626595754793\n",
      "Train period: 2018-01-31 15:22:00 to 2019-02-14 10:42:00\n",
      "Test period: 2019-02-14 10:43:00 to 2019-07-17 10:21:00\n",
      "Selected 68 stocks\n",
      "Best Alpha for this fold: 0.002, Best Fold Score: 0.03811257779129611\n",
      "Train period: 2018-06-12 13:54:00 to 2019-07-17 10:21:00\n",
      "Test period: 2019-07-17 10:24:00 to 2019-12-06 13:21:00\n",
      "Selected 65 stocks\n",
      "Best Alpha for this fold: 0.002, Best Fold Score: 0.044218795401792244\n",
      "Train period: 2018-10-22 09:40:00 to 2019-12-06 13:21:00\n",
      "Test period: 2019-12-06 13:23:00 to 2020-04-24 15:02:00\n",
      "Selected 63 stocks\n",
      "Best Alpha for this fold: 0.002, Best Fold Score: 0.13202622441927014\n",
      "Train period: 2019-03-08 12:01:00 to 2020-04-24 15:02:00\n",
      "Test period: 2020-04-24 15:03:00 to 2020-09-01 12:07:00\n"
     ]
    },
    {
     "name": "stderr",
     "output_type": "stream",
     "text": [
      "/opt/conda/lib/python3.10/site-packages/sklearn/linear_model/_coordinate_descent.py:631: ConvergenceWarning: Objective did not converge. You might want to increase the number of iterations, check the scale of the features or consider increasing regularisation. Duality gap: 4.055e-01, tolerance: 7.712e-02\n",
      "  model = cd_fast.enet_coordinate_descent(\n"
     ]
    },
    {
     "name": "stdout",
     "output_type": "stream",
     "text": [
      "Selected 77 stocks\n",
      "Best Alpha for this fold: 0.002, Best Fold Score: 0.058666363474652476\n",
      "Train period: 2019-08-07 14:46:00 to 2020-09-01 12:07:00\n",
      "Test period: 2020-09-01 12:08:00 to 2021-01-11 09:37:00\n"
     ]
    },
    {
     "name": "stderr",
     "output_type": "stream",
     "text": [
      "/opt/conda/lib/python3.10/site-packages/sklearn/linear_model/_coordinate_descent.py:631: ConvergenceWarning: Objective did not converge. You might want to increase the number of iterations, check the scale of the features or consider increasing regularisation. Duality gap: 6.081e-01, tolerance: 8.593e-02\n",
      "  model = cd_fast.enet_coordinate_descent(\n"
     ]
    },
    {
     "name": "stdout",
     "output_type": "stream",
     "text": [
      "Selected 78 stocks\n",
      "Best Alpha for this fold: 0.002, Best Fold Score: 0.04410105441920642\n",
      "Train period: 2020-01-03 15:00:00 to 2021-01-11 09:37:00\n",
      "Test period: 2021-01-11 09:38:00 to 2021-05-24 12:49:00\n"
     ]
    },
    {
     "name": "stderr",
     "output_type": "stream",
     "text": [
      "/opt/conda/lib/python3.10/site-packages/sklearn/linear_model/_coordinate_descent.py:631: ConvergenceWarning: Objective did not converge. You might want to increase the number of iterations, check the scale of the features or consider increasing regularisation. Duality gap: 6.334e-01, tolerance: 8.769e-02\n",
      "  model = cd_fast.enet_coordinate_descent(\n"
     ]
    },
    {
     "name": "stdout",
     "output_type": "stream",
     "text": [
      "Selected 78 stocks\n",
      "Best Alpha for this fold: 0.002, Best Fold Score: 0.05011654225189297\n",
      "Train period: 2020-05-19 14:50:00 to 2021-05-24 12:49:00\n",
      "Test period: 2021-05-24 12:50:00 to 2021-09-28 14:42:00\n",
      "Selected 74 stocks\n",
      "Best Alpha for this fold: 0.002, Best Fold Score: 0.03077426850558198\n",
      "Train period: 2020-09-28 10:52:00 to 2021-09-28 14:42:00\n",
      "Test period: 2021-09-28 14:43:00 to 2022-02-07 13:31:00\n",
      "Selected 69 stocks\n",
      "Best Alpha for this fold: 0.002, Best Fold Score: 0.045817492972453654\n",
      "Train period: 2021-02-03 12:09:00 to 2022-02-07 13:31:00\n",
      "Test period: 2022-02-07 13:32:00 to 2022-06-14 14:33:00\n",
      "Selected 70 stocks\n",
      "Best Alpha for this fold: 0.002, Best Fold Score: 0.06029364138747186\n",
      "Train period: 2021-06-17 10:05:00 to 2022-06-14 14:33:00\n",
      "Test period: 2022-06-14 14:34:00 to 2022-10-24 19:14:00\n",
      "Selected 72 stocks\n",
      "Best Alpha for this fold: 0.002, Best Fold Score: 0.045265389005964045\n",
      "Alpha: 0.002, Average Tracking Error: 0.046853785444125905\n",
      "----------Starting alpha 0.003-------------\n",
      "Train period: 2015-02-19 15:12:00 to 2016-04-07 11:40:00\n",
      "Test period: 2016-04-07 11:41:00 to 2016-08-16 10:27:00\n",
      "Selected 52 stocks\n",
      "Best Alpha for this fold: 0.003, Best Fold Score: 0.03778122380333653\n",
      "Train period: 2015-06-29 13:49:00 to 2016-08-16 10:27:00\n",
      "Test period: 2016-08-16 10:28:00 to 2016-12-22 13:19:00\n",
      "Selected 57 stocks\n",
      "Best Alpha for this fold: 0.003, Best Fold Score: 0.05029346780169003\n",
      "Train period: 2015-12-17 14:02:00 to 2016-12-22 13:19:00\n",
      "Test period: 2016-12-22 13:20:00 to 2017-05-02 12:41:00\n",
      "Selected 62 stocks\n",
      "Best Alpha for this fold: 0.003, Best Fold Score: 0.028033719640758296\n",
      "Train period: 2016-04-29 14:28:00 to 2017-05-02 12:41:00\n",
      "Test period: 2017-05-02 12:42:00 to 2017-09-06 14:52:00\n",
      "Selected 58 stocks\n",
      "Best Alpha for this fold: 0.003, Best Fold Score: 0.026657666738886903\n",
      "Train period: 2016-09-02 13:10:00 to 2017-09-06 14:52:00\n",
      "Test period: 2017-09-06 14:53:00 to 2018-01-11 12:46:00\n",
      "Selected 58 stocks\n",
      "Best Alpha for this fold: 0.003, Best Fold Score: 0.03018257645481638\n",
      "Train period: 2017-01-11 09:49:00 to 2018-01-11 12:46:00\n",
      "Test period: 2018-01-11 12:47:00 to 2018-05-24 10:55:00\n",
      "Selected 50 stocks\n",
      "Best Alpha for this fold: 0.003, Best Fold Score: 0.04080868082604097\n",
      "Train period: 2017-05-22 09:20:00 to 2018-05-24 10:55:00\n",
      "Test period: 2018-05-24 10:56:00 to 2018-09-28 13:36:00\n",
      "Selected 44 stocks\n",
      "Best Alpha for this fold: 0.003, Best Fold Score: 0.03169368626868943\n",
      "Train period: 2017-09-26 11:50:00 to 2018-09-28 13:36:00\n",
      "Test period: 2018-09-28 13:37:00 to 2019-02-14 10:42:00\n",
      "Selected 48 stocks\n",
      "Best Alpha for this fold: 0.003, Best Fold Score: 0.04893993013869589\n",
      "Train period: 2018-01-31 15:22:00 to 2019-02-14 10:42:00\n",
      "Test period: 2019-02-14 10:43:00 to 2019-07-17 10:21:00\n",
      "Selected 58 stocks\n",
      "Best Alpha for this fold: 0.003, Best Fold Score: 0.03812179439814543\n",
      "Train period: 2018-06-12 13:54:00 to 2019-07-17 10:21:00\n",
      "Test period: 2019-07-17 10:24:00 to 2019-12-06 13:21:00\n",
      "Selected 48 stocks\n",
      "Best Alpha for this fold: 0.003, Best Fold Score: 0.04427700247233578\n",
      "Train period: 2018-10-22 09:40:00 to 2019-12-06 13:21:00\n",
      "Test period: 2019-12-06 13:23:00 to 2020-04-24 15:02:00\n",
      "Selected 49 stocks\n",
      "Best Alpha for this fold: 0.003, Best Fold Score: 0.13228140995774657\n",
      "Train period: 2019-03-08 12:01:00 to 2020-04-24 15:02:00\n",
      "Test period: 2020-04-24 15:03:00 to 2020-09-01 12:07:00\n"
     ]
    },
    {
     "name": "stderr",
     "output_type": "stream",
     "text": [
      "/opt/conda/lib/python3.10/site-packages/sklearn/linear_model/_coordinate_descent.py:631: ConvergenceWarning: Objective did not converge. You might want to increase the number of iterations, check the scale of the features or consider increasing regularisation. Duality gap: 2.315e-01, tolerance: 7.712e-02\n",
      "  model = cd_fast.enet_coordinate_descent(\n"
     ]
    },
    {
     "name": "stdout",
     "output_type": "stream",
     "text": [
      "Selected 68 stocks\n",
      "Best Alpha for this fold: 0.003, Best Fold Score: 0.0587350365585386\n",
      "Train period: 2019-08-07 14:46:00 to 2020-09-01 12:07:00\n",
      "Test period: 2020-09-01 12:08:00 to 2021-01-11 09:37:00\n"
     ]
    },
    {
     "name": "stderr",
     "output_type": "stream",
     "text": [
      "/opt/conda/lib/python3.10/site-packages/sklearn/linear_model/_coordinate_descent.py:631: ConvergenceWarning: Objective did not converge. You might want to increase the number of iterations, check the scale of the features or consider increasing regularisation. Duality gap: 3.741e-01, tolerance: 8.593e-02\n",
      "  model = cd_fast.enet_coordinate_descent(\n"
     ]
    },
    {
     "name": "stdout",
     "output_type": "stream",
     "text": [
      "Selected 74 stocks\n",
      "Best Alpha for this fold: 0.003, Best Fold Score: 0.044126474629450116\n",
      "Train period: 2020-01-03 15:00:00 to 2021-01-11 09:37:00\n",
      "Test period: 2021-01-11 09:38:00 to 2021-05-24 12:49:00\n"
     ]
    },
    {
     "name": "stderr",
     "output_type": "stream",
     "text": [
      "/opt/conda/lib/python3.10/site-packages/sklearn/linear_model/_coordinate_descent.py:631: ConvergenceWarning: Objective did not converge. You might want to increase the number of iterations, check the scale of the features or consider increasing regularisation. Duality gap: 4.978e-01, tolerance: 8.769e-02\n",
      "  model = cd_fast.enet_coordinate_descent(\n"
     ]
    },
    {
     "name": "stdout",
     "output_type": "stream",
     "text": [
      "Selected 73 stocks\n",
      "Best Alpha for this fold: 0.003, Best Fold Score: 0.050151999546022355\n",
      "Train period: 2020-05-19 14:50:00 to 2021-05-24 12:49:00\n",
      "Test period: 2021-05-24 12:50:00 to 2021-09-28 14:42:00\n",
      "Selected 66 stocks\n",
      "Best Alpha for this fold: 0.003, Best Fold Score: 0.030782576316807985\n",
      "Train period: 2020-09-28 10:52:00 to 2021-09-28 14:42:00\n",
      "Test period: 2021-09-28 14:43:00 to 2022-02-07 13:31:00\n",
      "Selected 60 stocks\n",
      "Best Alpha for this fold: 0.003, Best Fold Score: 0.045841223012119785\n",
      "Train period: 2021-02-03 12:09:00 to 2022-02-07 13:31:00\n",
      "Test period: 2022-02-07 13:32:00 to 2022-06-14 14:33:00\n",
      "Selected 57 stocks\n",
      "Best Alpha for this fold: 0.003, Best Fold Score: 0.060353401770396775\n",
      "Train period: 2021-06-17 10:05:00 to 2022-06-14 14:33:00\n",
      "Test period: 2022-06-14 14:34:00 to 2022-10-24 19:14:00\n",
      "Selected 59 stocks\n",
      "Best Alpha for this fold: 0.003, Best Fold Score: 0.04528875700686836\n",
      "Alpha: 0.003, Average Tracking Error: 0.04690836818563035\n",
      "----------Starting alpha 0.004-------------\n",
      "Train period: 2015-02-19 15:12:00 to 2016-04-07 11:40:00\n",
      "Test period: 2016-04-07 11:41:00 to 2016-08-16 10:27:00\n",
      "Selected 49 stocks\n",
      "Best Alpha for this fold: 0.004, Best Fold Score: 0.037792718408625\n",
      "Train period: 2015-06-29 13:49:00 to 2016-08-16 10:27:00\n",
      "Test period: 2016-08-16 10:28:00 to 2016-12-22 13:19:00\n",
      "Selected 53 stocks\n",
      "Best Alpha for this fold: 0.004, Best Fold Score: 0.050353385918230555\n",
      "Train period: 2015-12-17 14:02:00 to 2016-12-22 13:19:00\n",
      "Test period: 2016-12-22 13:20:00 to 2017-05-02 12:41:00\n",
      "Selected 53 stocks\n",
      "Best Alpha for this fold: 0.004, Best Fold Score: 0.028070006421712528\n",
      "Train period: 2016-04-29 14:28:00 to 2017-05-02 12:41:00\n",
      "Test period: 2017-05-02 12:42:00 to 2017-09-06 14:52:00\n",
      "Selected 51 stocks\n",
      "Best Alpha for this fold: 0.004, Best Fold Score: 0.02665165118168378\n",
      "Train period: 2016-09-02 13:10:00 to 2017-09-06 14:52:00\n",
      "Test period: 2017-09-06 14:53:00 to 2018-01-11 12:46:00\n",
      "Selected 47 stocks\n",
      "Best Alpha for this fold: 0.004, Best Fold Score: 0.03022428400677277\n",
      "Train period: 2017-01-11 09:49:00 to 2018-01-11 12:46:00\n",
      "Test period: 2018-01-11 12:47:00 to 2018-05-24 10:55:00\n",
      "Selected 41 stocks\n",
      "Best Alpha for this fold: 0.004, Best Fold Score: 0.04080532912711756\n",
      "Train period: 2017-05-22 09:20:00 to 2018-05-24 10:55:00\n",
      "Test period: 2018-05-24 10:56:00 to 2018-09-28 13:36:00\n",
      "Selected 40 stocks\n",
      "Best Alpha for this fold: 0.004, Best Fold Score: 0.03168228890671457\n",
      "Train period: 2017-09-26 11:50:00 to 2018-09-28 13:36:00\n",
      "Test period: 2018-09-28 13:37:00 to 2019-02-14 10:42:00\n",
      "Selected 38 stocks\n",
      "Best Alpha for this fold: 0.004, Best Fold Score: 0.04905376751556371\n",
      "Train period: 2018-01-31 15:22:00 to 2019-02-14 10:42:00\n",
      "Test period: 2019-02-14 10:43:00 to 2019-07-17 10:21:00\n",
      "Selected 47 stocks\n",
      "Best Alpha for this fold: 0.004, Best Fold Score: 0.03817802889282709\n",
      "Train period: 2018-06-12 13:54:00 to 2019-07-17 10:21:00\n",
      "Test period: 2019-07-17 10:24:00 to 2019-12-06 13:21:00\n",
      "Selected 43 stocks\n",
      "Best Alpha for this fold: 0.004, Best Fold Score: 0.04434271701791559\n",
      "Train period: 2018-10-22 09:40:00 to 2019-12-06 13:21:00\n",
      "Test period: 2019-12-06 13:23:00 to 2020-04-24 15:02:00\n",
      "Selected 38 stocks\n",
      "Best Alpha for this fold: 0.004, Best Fold Score: 0.13288035984294122\n",
      "Train period: 2019-03-08 12:01:00 to 2020-04-24 15:02:00\n",
      "Test period: 2020-04-24 15:03:00 to 2020-09-01 12:07:00\n"
     ]
    },
    {
     "name": "stderr",
     "output_type": "stream",
     "text": [
      "/opt/conda/lib/python3.10/site-packages/sklearn/linear_model/_coordinate_descent.py:631: ConvergenceWarning: Objective did not converge. You might want to increase the number of iterations, check the scale of the features or consider increasing regularisation. Duality gap: 1.843e-01, tolerance: 7.712e-02\n",
      "  model = cd_fast.enet_coordinate_descent(\n"
     ]
    },
    {
     "name": "stdout",
     "output_type": "stream",
     "text": [
      "Selected 64 stocks\n",
      "Best Alpha for this fold: 0.004, Best Fold Score: 0.058734819964909105\n",
      "Train period: 2019-08-07 14:46:00 to 2020-09-01 12:07:00\n",
      "Test period: 2020-09-01 12:08:00 to 2021-01-11 09:37:00\n"
     ]
    },
    {
     "name": "stderr",
     "output_type": "stream",
     "text": [
      "/opt/conda/lib/python3.10/site-packages/sklearn/linear_model/_coordinate_descent.py:631: ConvergenceWarning: Objective did not converge. You might want to increase the number of iterations, check the scale of the features or consider increasing regularisation. Duality gap: 2.244e-01, tolerance: 8.593e-02\n",
      "  model = cd_fast.enet_coordinate_descent(\n"
     ]
    },
    {
     "name": "stdout",
     "output_type": "stream",
     "text": [
      "Selected 66 stocks\n",
      "Best Alpha for this fold: 0.004, Best Fold Score: 0.044143758060400065\n",
      "Train period: 2020-01-03 15:00:00 to 2021-01-11 09:37:00\n",
      "Test period: 2021-01-11 09:38:00 to 2021-05-24 12:49:00\n"
     ]
    },
    {
     "name": "stderr",
     "output_type": "stream",
     "text": [
      "/opt/conda/lib/python3.10/site-packages/sklearn/linear_model/_coordinate_descent.py:631: ConvergenceWarning: Objective did not converge. You might want to increase the number of iterations, check the scale of the features or consider increasing regularisation. Duality gap: 3.062e-01, tolerance: 8.769e-02\n",
      "  model = cd_fast.enet_coordinate_descent(\n"
     ]
    },
    {
     "name": "stdout",
     "output_type": "stream",
     "text": [
      "Selected 68 stocks\n",
      "Best Alpha for this fold: 0.004, Best Fold Score: 0.05016769894271749\n",
      "Train period: 2020-05-19 14:50:00 to 2021-05-24 12:49:00\n",
      "Test period: 2021-05-24 12:50:00 to 2021-09-28 14:42:00\n",
      "Selected 56 stocks\n",
      "Best Alpha for this fold: 0.004, Best Fold Score: 0.03079457274664715\n",
      "Train period: 2020-09-28 10:52:00 to 2021-09-28 14:42:00\n",
      "Test period: 2021-09-28 14:43:00 to 2022-02-07 13:31:00\n",
      "Selected 54 stocks\n",
      "Best Alpha for this fold: 0.004, Best Fold Score: 0.04586312198584476\n",
      "Train period: 2021-02-03 12:09:00 to 2022-02-07 13:31:00\n",
      "Test period: 2022-02-07 13:32:00 to 2022-06-14 14:33:00\n",
      "Selected 51 stocks\n",
      "Best Alpha for this fold: 0.004, Best Fold Score: 0.06037175430260273\n",
      "Train period: 2021-06-17 10:05:00 to 2022-06-14 14:33:00\n",
      "Test period: 2022-06-14 14:34:00 to 2022-10-24 19:14:00\n",
      "Selected 50 stocks\n",
      "Best Alpha for this fold: 0.004, Best Fold Score: 0.04527338906600026\n",
      "Alpha: 0.004, Average Tracking Error: 0.046965758461623666\n",
      "----------Starting alpha 0.005-------------\n",
      "Train period: 2015-02-19 15:12:00 to 2016-04-07 11:40:00\n",
      "Test period: 2016-04-07 11:41:00 to 2016-08-16 10:27:00\n",
      "Selected 43 stocks\n",
      "Best Alpha for this fold: 0.005, Best Fold Score: 0.037806701119487404\n",
      "Train period: 2015-06-29 13:49:00 to 2016-08-16 10:27:00\n",
      "Test period: 2016-08-16 10:28:00 to 2016-12-22 13:19:00\n",
      "Selected 44 stocks\n",
      "Best Alpha for this fold: 0.005, Best Fold Score: 0.05047176571557149\n",
      "Train period: 2015-12-17 14:02:00 to 2016-12-22 13:19:00\n",
      "Test period: 2016-12-22 13:20:00 to 2017-05-02 12:41:00\n",
      "Selected 46 stocks\n",
      "Best Alpha for this fold: 0.005, Best Fold Score: 0.028112283044219158\n",
      "Train period: 2016-04-29 14:28:00 to 2017-05-02 12:41:00\n",
      "Test period: 2017-05-02 12:42:00 to 2017-09-06 14:52:00\n",
      "Selected 41 stocks\n",
      "Best Alpha for this fold: 0.005, Best Fold Score: 0.02667469004964471\n",
      "Train period: 2016-09-02 13:10:00 to 2017-09-06 14:52:00\n",
      "Test period: 2017-09-06 14:53:00 to 2018-01-11 12:46:00\n",
      "Selected 41 stocks\n",
      "Best Alpha for this fold: 0.005, Best Fold Score: 0.03023741785376571\n",
      "Train period: 2017-01-11 09:49:00 to 2018-01-11 12:46:00\n",
      "Test period: 2018-01-11 12:47:00 to 2018-05-24 10:55:00\n",
      "Selected 35 stocks\n",
      "Best Alpha for this fold: 0.005, Best Fold Score: 0.04086908983755893\n",
      "Train period: 2017-05-22 09:20:00 to 2018-05-24 10:55:00\n",
      "Test period: 2018-05-24 10:56:00 to 2018-09-28 13:36:00\n",
      "Selected 33 stocks\n",
      "Best Alpha for this fold: 0.005, Best Fold Score: 0.031755868788687525\n",
      "Train period: 2017-09-26 11:50:00 to 2018-09-28 13:36:00\n",
      "Test period: 2018-09-28 13:37:00 to 2019-02-14 10:42:00\n",
      "Selected 32 stocks\n",
      "Best Alpha for this fold: 0.005, Best Fold Score: 0.04918254723108153\n",
      "Train period: 2018-01-31 15:22:00 to 2019-02-14 10:42:00\n",
      "Test period: 2019-02-14 10:43:00 to 2019-07-17 10:21:00\n",
      "Selected 37 stocks\n",
      "Best Alpha for this fold: 0.005, Best Fold Score: 0.0383094120062327\n",
      "Train period: 2018-06-12 13:54:00 to 2019-07-17 10:21:00\n",
      "Test period: 2019-07-17 10:24:00 to 2019-12-06 13:21:00\n",
      "Selected 36 stocks\n",
      "Best Alpha for this fold: 0.005, Best Fold Score: 0.0444688329354387\n",
      "Train period: 2018-10-22 09:40:00 to 2019-12-06 13:21:00\n",
      "Test period: 2019-12-06 13:23:00 to 2020-04-24 15:02:00\n",
      "Selected 30 stocks\n",
      "Best Alpha for this fold: 0.005, Best Fold Score: 0.13335664540433734\n",
      "Train period: 2019-03-08 12:01:00 to 2020-04-24 15:02:00\n",
      "Test period: 2020-04-24 15:03:00 to 2020-09-01 12:07:00\n"
     ]
    },
    {
     "name": "stderr",
     "output_type": "stream",
     "text": [
      "/opt/conda/lib/python3.10/site-packages/sklearn/linear_model/_coordinate_descent.py:631: ConvergenceWarning: Objective did not converge. You might want to increase the number of iterations, check the scale of the features or consider increasing regularisation. Duality gap: 1.526e-01, tolerance: 7.712e-02\n",
      "  model = cd_fast.enet_coordinate_descent(\n"
     ]
    },
    {
     "name": "stdout",
     "output_type": "stream",
     "text": [
      "Selected 59 stocks\n",
      "Best Alpha for this fold: 0.005, Best Fold Score: 0.05872665169631603\n",
      "Train period: 2019-08-07 14:46:00 to 2020-09-01 12:07:00\n",
      "Test period: 2020-09-01 12:08:00 to 2021-01-11 09:37:00\n"
     ]
    },
    {
     "name": "stderr",
     "output_type": "stream",
     "text": [
      "/opt/conda/lib/python3.10/site-packages/sklearn/linear_model/_coordinate_descent.py:631: ConvergenceWarning: Objective did not converge. You might want to increase the number of iterations, check the scale of the features or consider increasing regularisation. Duality gap: 1.885e-01, tolerance: 8.593e-02\n",
      "  model = cd_fast.enet_coordinate_descent(\n"
     ]
    },
    {
     "name": "stdout",
     "output_type": "stream",
     "text": [
      "Selected 60 stocks\n",
      "Best Alpha for this fold: 0.005, Best Fold Score: 0.04416359245863733\n",
      "Train period: 2020-01-03 15:00:00 to 2021-01-11 09:37:00\n",
      "Test period: 2021-01-11 09:38:00 to 2021-05-24 12:49:00\n"
     ]
    },
    {
     "name": "stderr",
     "output_type": "stream",
     "text": [
      "/opt/conda/lib/python3.10/site-packages/sklearn/linear_model/_coordinate_descent.py:631: ConvergenceWarning: Objective did not converge. You might want to increase the number of iterations, check the scale of the features or consider increasing regularisation. Duality gap: 2.105e-01, tolerance: 8.769e-02\n",
      "  model = cd_fast.enet_coordinate_descent(\n"
     ]
    },
    {
     "name": "stdout",
     "output_type": "stream",
     "text": [
      "Selected 62 stocks\n",
      "Best Alpha for this fold: 0.005, Best Fold Score: 0.05019783268569499\n",
      "Train period: 2020-05-19 14:50:00 to 2021-05-24 12:49:00\n",
      "Test period: 2021-05-24 12:50:00 to 2021-09-28 14:42:00\n",
      "Selected 50 stocks\n",
      "Best Alpha for this fold: 0.005, Best Fold Score: 0.030824610014860244\n",
      "Train period: 2020-09-28 10:52:00 to 2021-09-28 14:42:00\n",
      "Test period: 2021-09-28 14:43:00 to 2022-02-07 13:31:00\n",
      "Selected 46 stocks\n",
      "Best Alpha for this fold: 0.005, Best Fold Score: 0.04588456622818864\n",
      "Train period: 2021-02-03 12:09:00 to 2022-02-07 13:31:00\n",
      "Test period: 2022-02-07 13:32:00 to 2022-06-14 14:33:00\n",
      "Selected 43 stocks\n",
      "Best Alpha for this fold: 0.005, Best Fold Score: 0.060466337803125506\n",
      "Train period: 2021-06-17 10:05:00 to 2022-06-14 14:33:00\n",
      "Test period: 2022-06-14 14:34:00 to 2022-10-24 19:14:00\n",
      "Selected 46 stocks\n",
      "Best Alpha for this fold: 0.005, Best Fold Score: 0.045288587705489804\n",
      "Alpha: 0.005, Average Tracking Error: 0.04704430180990765\n"
     ]
    },
    {
     "data": {
      "image/png": "[encoded data removed]",
      "text/plain": [
       "<Figure size 640x480 with 2 Axes>"
      ]
     },
     "metadata": {},
     "output_type": "display_data"
    }
   ],
   "source": [
    "df_total_z = df_total.replace(0, np.nan)  # Convert zeroes back to NaNs\n",
    "df_total_returns = df_total_z.pct_change().dropna()\n",
    "df_total_returns = 100*df_total_returns\n",
    "X = df_total_returns.drop(columns=['NIFTY 50', 'NIFTY BANK', 'NIFTY_100'])\n",
    "y = df_total_returns['NIFTY_100']\n",
    "\n",
    "alphas = [0.001, 0.002, 0.003, 0.004, 0.005]\n",
    "tracking_errors = []\n",
    "adj_tracking_errors = []\n",
    "num_stocks_list = []\n",
    "\n",
    "for alpha in alphas:\n",
    "    print(f\"----------Starting alpha {alpha}-------------\")\n",
    "    _, num_stocks, tracking_err, adj_tracking_err = Lasso_Lasso(alpha, X, y)\n",
    "    num_stocks_list.append(num_stocks)\n",
    "    tracking_errors.append(tracking_err)\n",
    "    adj_tracking_errors.append(adj_tracking_err)\n",
    "\n",
    "# Plotting the results\n",
    "fig, ax1 = plt.subplots()\n",
    "\n",
    "# Plotting number of stocks on the primary y-axis\n",
    "color = 'tab:blue'\n",
    "ax1.set_xlabel('Alpha')\n",
    "ax1.set_ylabel('Number of Stocks', color=color)\n",
    "ax1.plot(alphas, num_stocks_list, color=color, marker='o', label='Number of Stocks')\n",
    "ax1.tick_params(axis='y', labelcolor=color)\n",
    "\n",
    "# Creating a second y-axis for tracking error\n",
    "ax2 = ax1.twinx()\n",
    "color = 'tab:red'\n",
    "ax2.set_ylabel('Tracking Error', color=color)\n",
    "#ax2.plot(alphas, tracking_errors, color='tab:green', marker='o', linestyle='--', label='Tracking Error')\n",
    "ax2.plot(alphas, adj_tracking_errors, color=color, marker='x', linestyle='--', label='Adjusted Tracking Error')\n",
    "ax2.tick_params(axis='y', labelcolor=color)\n",
    "\n",
    "# Adding a title and legend\n",
    "plt.title('Number of Stocks and Tracking Error vs. Alpha')\n",
    "fig.tight_layout()  # Adjust layout to prevent overlap\n",
    "plt.show()"
   ]
  },
  {
   "cell_type": "markdown",
   "id": "cb5a7744",
   "metadata": {
    "papermill": {
     "duration": 0.017187,
     "end_time": "2024-11-29T11:59:28.682190",
     "exception": false,
     "start_time": "2024-11-29T11:59:28.665003",
     "status": "completed"
    },
    "tags": []
   },
   "source": [
    "0.048"
   ]
  },
  {
   "cell_type": "markdown",
   "id": "f966d6b3",
   "metadata": {
    "papermill": {
     "duration": 0.018172,
     "end_time": "2024-11-29T11:59:28.719786",
     "exception": false,
     "start_time": "2024-11-29T11:59:28.701614",
     "status": "completed"
    },
    "tags": []
   },
   "source": [
    "### Mutual Info - Lasso\n",
    "Using mutual information between variables, which measures the dependency between them, 0 value being independence. By getting the mutual information between the features (stocks) and the target (NIFTY 100) we can \"discard\" the variables with lower dependencies. After feature selection, we traing a Lasso model with CV."
   ]
  },
  {
   "cell_type": "code",
   "execution_count": 20,
   "id": "891b7281",
   "metadata": {
    "execution": {
     "iopub.execute_input": "2024-11-29T11:59:28.757239Z",
     "iopub.status.busy": "2024-11-29T11:59:28.756103Z",
     "iopub.status.idle": "2024-11-29T11:59:28.769247Z",
     "shell.execute_reply": "2024-11-29T11:59:28.767908Z"
    },
    "papermill": {
     "duration": 0.034651,
     "end_time": "2024-11-29T11:59:28.771834",
     "exception": false,
     "start_time": "2024-11-29T11:59:28.737183",
     "status": "completed"
    },
    "tags": []
   },
   "outputs": [],
   "source": [
    "from sklearn.preprocessing import StandardScaler\n",
    "\n",
    "def MI_Experiment(percentile, X, y, model_class, params):\n",
    "    tscv = TimeSeriesSplit(n_splits=18, max_train_size=85000, test_size=30000)\n",
    "    stocks = []\n",
    "    num_stocks = []\n",
    "    fold_scores = []\n",
    "    adj_fold_scores = []\n",
    "    \n",
    "    for train_index, test_index in tscv.split(X):\n",
    "        X_train_cv, X_test_cv = X.iloc[train_index], X.iloc[test_index]\n",
    "        y_train_cv, y_test_cv = y.iloc[train_index], y.iloc[test_index]\n",
    "\n",
    "        scaler = StandardScaler()\n",
    "        X_scaled = scaler.fit_transform(X_train_cv)\n",
    "\n",
    "        # Feature selection with alpha from list\n",
    "        mi_scores = mutual_info_regression(X_train_cv, y_train_cv)\n",
    "        mi_scores_series = pd.Series(mi_scores, index=X_train_cv.columns)\n",
    "\n",
    "        threshold_value = mi_scores_series.quantile(percentile)\n",
    "        \n",
    "        selected_features = mi_scores_series[mi_scores_series > threshold_value].index\n",
    "        selected_indices = [X_train_cv.columns.get_loc(feature) for feature in selected_features]\n",
    "\n",
    "        # Filter the NumPy arrays based on the selected feature indices\n",
    "        X_train_selected = X_scaled[:, selected_indices]\n",
    "        X_test_selected = X_test_cv.to_numpy()[:, selected_indices]\n",
    "    \n",
    "        print(f\"Selected {len(selected_features)} stocks\")\n",
    "        num_stocks.append(len(selected_features))\n",
    "        stocks.append(selected_features)\n",
    "\n",
    "        best_params = None\n",
    "        best_score = float('inf')  # Assuming lower is better for your metric\n",
    "        best_adj_score = float('inf')\n",
    "        for param in ParameterGrid(params):\n",
    "            model = model_class(**param)\n",
    "            model.fit(X_train_selected, y_train_cv)\n",
    "    \n",
    "            y_pred = model.predict(X_test_selected)\n",
    "            fold_score = tracking_error(y_test_cv.values, y_pred)\n",
    "            adj_fold_score = adj_tracking_error(y_test_cv.values, X_test_selected, model)\n",
    "            # print(f\"Alpha: {alpha}, Fold Score: {fold_score}\")\n",
    "    \n",
    "            if adj_fold_score < best_adj_score:\n",
    "                best_score = fold_score\n",
    "                best_adj_score = adj_fold_score\n",
    "                best_params = param\n",
    "    \n",
    "        print(f\"Best Params for this fold: {best_params}, Best Fold Score: {best_score}\")\n",
    "        fold_scores.append(best_score)\n",
    "        adj_fold_scores.append(best_adj_score)\n",
    "        \n",
    "    # Calculate the average score across all folds\n",
    "    average_score = np.mean(fold_scores)\n",
    "    average_adj_score = np.mean(adj_fold_scores)\n",
    "\n",
    "    # Get average stocks chosen over all folds\n",
    "    average_selected_features = np.mean(num_stocks)\n",
    "    \n",
    "    # Print the tracking error for this alpha\n",
    "    print(f\"Percentile: {percentile}, Tracking Error: {average_score}, Adj Tracking Error: {average_adj_score}\")\n",
    " \n",
    "    return stocks, average_selected_features, average_score, average_adj_score"
   ]
  },
  {
   "cell_type": "code",
   "execution_count": 21,
   "id": "a0c09197",
   "metadata": {
    "execution": {
     "iopub.execute_input": "2024-11-29T11:59:28.809886Z",
     "iopub.status.busy": "2024-11-29T11:59:28.809112Z",
     "iopub.status.idle": "2024-11-29T14:15:01.436841Z",
     "shell.execute_reply": "2024-11-29T14:15:01.435611Z"
    },
    "papermill": {
     "duration": 8132.649525,
     "end_time": "2024-11-29T14:15:01.439403",
     "exception": false,
     "start_time": "2024-11-29T11:59:28.789878",
     "status": "completed"
    },
    "tags": []
   },
   "outputs": [
    {
     "name": "stdout",
     "output_type": "stream",
     "text": [
      "Starting percentile: 0.0\n",
      "Selected 85 stocks\n",
      "Best Params for this fold: {'alpha': 0.0001, 'max_iter': 15000}, Best Fold Score: 0.037605575453003165\n",
      "Selected 85 stocks\n",
      "Best Params for this fold: {'alpha': 0.0001, 'max_iter': 15000}, Best Fold Score: 0.049943032869103905\n",
      "Selected 85 stocks\n",
      "Best Params for this fold: {'alpha': 0.0001, 'max_iter': 15000}, Best Fold Score: 0.027966011879780227\n",
      "Selected 85 stocks\n",
      "Best Params for this fold: {'alpha': 0.0001, 'max_iter': 15000}, Best Fold Score: 0.02659630414714923\n",
      "Selected 85 stocks\n",
      "Best Params for this fold: {'alpha': 0.0001, 'max_iter': 15000}, Best Fold Score: 0.030148885940138828\n",
      "Selected 85 stocks\n",
      "Best Params for this fold: {'alpha': 0.0001, 'max_iter': 15000}, Best Fold Score: 0.04072853681866156\n",
      "Selected 85 stocks\n",
      "Best Params for this fold: {'alpha': 0.0001, 'max_iter': 15000}, Best Fold Score: 0.03164341586349938\n",
      "Selected 85 stocks\n",
      "Best Params for this fold: {'alpha': 0.0001, 'max_iter': 15000}, Best Fold Score: 0.04879899238932825\n",
      "Selected 85 stocks\n",
      "Best Params for this fold: {'alpha': 0.0001, 'max_iter': 15000}, Best Fold Score: 0.038080714748332495\n",
      "Selected 85 stocks\n",
      "Best Params for this fold: {'alpha': 0.0001, 'max_iter': 15000}, Best Fold Score: 0.044178225579518074\n",
      "Selected 85 stocks\n",
      "Best Params for this fold: {'alpha': 0.0001, 'max_iter': 15000}, Best Fold Score: 0.13185638985896636\n",
      "Selected 85 stocks\n",
      "Best Params for this fold: {'alpha': 0.0001, 'max_iter': 15000}, Best Fold Score: 0.05862868522165073\n",
      "Selected 85 stocks\n",
      "Best Params for this fold: {'alpha': 0.0001, 'max_iter': 15000}, Best Fold Score: 0.04406861199088031\n",
      "Selected 85 stocks\n",
      "Best Params for this fold: {'alpha': 0.0001, 'max_iter': 15000}, Best Fold Score: 0.05007450132348547\n",
      "Selected 85 stocks\n",
      "Best Params for this fold: {'alpha': 0.0001, 'max_iter': 15000}, Best Fold Score: 0.03075462729995695\n",
      "Selected 85 stocks\n",
      "Best Params for this fold: {'alpha': 0.0001, 'max_iter': 15000}, Best Fold Score: 0.04577639526772541\n",
      "Selected 85 stocks\n",
      "Best Params for this fold: {'alpha': 0.0001, 'max_iter': 15000}, Best Fold Score: 0.06023993216326353\n",
      "Selected 85 stocks\n",
      "Best Params for this fold: {'alpha': 0.0001, 'max_iter': 15000}, Best Fold Score: 0.045237264883794134\n",
      "Percentile: 0.0, Tracking Error: 0.04679589464990211, Adj Tracking Error: 0.04679589472731506\n",
      "Starting percentile: 0.1\n",
      "Selected 77 stocks\n",
      "Best Params for this fold: {'alpha': 0.0001, 'max_iter': 15000}, Best Fold Score: 0.03761660053835676\n",
      "Selected 77 stocks\n",
      "Best Params for this fold: {'alpha': 0.0001, 'max_iter': 15000}, Best Fold Score: 0.04999123328775316\n",
      "Selected 77 stocks\n",
      "Best Params for this fold: {'alpha': 0.0001, 'max_iter': 15000}, Best Fold Score: 0.02798453760045048\n",
      "Selected 77 stocks\n",
      "Best Params for this fold: {'alpha': 0.0001, 'max_iter': 15000}, Best Fold Score: 0.026608244646371897\n",
      "Selected 77 stocks\n",
      "Best Params for this fold: {'alpha': 0.0001, 'max_iter': 15000}, Best Fold Score: 0.030142807480485406\n",
      "Selected 77 stocks\n",
      "Best Params for this fold: {'alpha': 0.0001, 'max_iter': 15000}, Best Fold Score: 0.040733025503560255\n",
      "Selected 77 stocks\n",
      "Best Params for this fold: {'alpha': 0.0001, 'max_iter': 15000}, Best Fold Score: 0.03164728890268264\n",
      "Selected 77 stocks\n",
      "Best Params for this fold: {'alpha': 0.0001, 'max_iter': 15000}, Best Fold Score: 0.04881440172008557\n",
      "Selected 77 stocks\n",
      "Best Params for this fold: {'alpha': 0.0001, 'max_iter': 15000}, Best Fold Score: 0.038081093399505536\n",
      "Selected 77 stocks\n",
      "Best Params for this fold: {'alpha': 0.0001, 'max_iter': 15000}, Best Fold Score: 0.044184705247389364\n",
      "Selected 77 stocks\n",
      "Best Params for this fold: {'alpha': 0.0001, 'max_iter': 15000}, Best Fold Score: 0.13191351226700485\n",
      "Selected 77 stocks\n",
      "Best Params for this fold: {'alpha': 0.0001, 'max_iter': 15000}, Best Fold Score: 0.058618703291469725\n",
      "Selected 77 stocks\n",
      "Best Params for this fold: {'alpha': 0.0001, 'max_iter': 15000}, Best Fold Score: 0.04407704086569596\n",
      "Selected 77 stocks\n",
      "Best Params for this fold: {'alpha': 0.0001, 'max_iter': 15000}, Best Fold Score: 0.050078725561714485\n",
      "Selected 77 stocks\n",
      "Best Params for this fold: {'alpha': 0.0001, 'max_iter': 15000}, Best Fold Score: 0.03074359543510617\n",
      "Selected 77 stocks\n",
      "Best Params for this fold: {'alpha': 0.0001, 'max_iter': 15000}, Best Fold Score: 0.04579053449671676\n",
      "Selected 77 stocks\n",
      "Best Params for this fold: {'alpha': 0.0001, 'max_iter': 15000}, Best Fold Score: 0.06027225110420732\n",
      "Selected 77 stocks\n",
      "Best Params for this fold: {'alpha': 0.0001, 'max_iter': 15000}, Best Fold Score: 0.0452577500535414\n",
      "Percentile: 0.1, Tracking Error: 0.04680866952233876, Adj Tracking Error: 0.04680866959562561\n",
      "Starting percentile: 0.2\n",
      "Selected 68 stocks\n",
      "Best Params for this fold: {'alpha': 0.0001, 'max_iter': 15000}, Best Fold Score: 0.03763474497991623\n",
      "Selected 68 stocks\n",
      "Best Params for this fold: {'alpha': 0.0001, 'max_iter': 15000}, Best Fold Score: 0.05014574157060543\n",
      "Selected 68 stocks\n",
      "Best Params for this fold: {'alpha': 0.0001, 'max_iter': 15000}, Best Fold Score: 0.02801984663513992\n",
      "Selected 68 stocks\n",
      "Best Params for this fold: {'alpha': 0.0001, 'max_iter': 15000}, Best Fold Score: 0.026609741649417082\n",
      "Selected 68 stocks\n",
      "Best Params for this fold: {'alpha': 0.0001, 'max_iter': 15000}, Best Fold Score: 0.030132723754394065\n",
      "Selected 68 stocks\n",
      "Best Params for this fold: {'alpha': 0.0001, 'max_iter': 15000}, Best Fold Score: 0.04072599750839561\n",
      "Selected 68 stocks\n",
      "Best Params for this fold: {'alpha': 0.0001, 'max_iter': 15000}, Best Fold Score: 0.031635756766060306\n",
      "Selected 68 stocks\n",
      "Best Params for this fold: {'alpha': 0.0001, 'max_iter': 15000}, Best Fold Score: 0.04888980672007723\n",
      "Selected 68 stocks\n",
      "Best Params for this fold: {'alpha': 0.0001, 'max_iter': 15000}, Best Fold Score: 0.03810411506592293\n",
      "Selected 68 stocks\n",
      "Best Params for this fold: {'alpha': 0.0001, 'max_iter': 15000}, Best Fold Score: 0.04420200445933862\n",
      "Selected 68 stocks\n",
      "Best Params for this fold: {'alpha': 0.0001, 'max_iter': 15000}, Best Fold Score: 0.13195874218334436\n",
      "Selected 68 stocks\n",
      "Best Params for this fold: {'alpha': 0.0001, 'max_iter': 15000}, Best Fold Score: 0.05864719328512396\n",
      "Selected 68 stocks\n",
      "Best Params for this fold: {'alpha': 0.0001, 'max_iter': 15000}, Best Fold Score: 0.04412795453472857\n",
      "Selected 68 stocks\n",
      "Best Params for this fold: {'alpha': 0.0001, 'max_iter': 15000}, Best Fold Score: 0.05003886726619233\n",
      "Selected 68 stocks\n",
      "Best Params for this fold: {'alpha': 0.0001, 'max_iter': 15000}, Best Fold Score: 0.030719890112349234\n",
      "Selected 68 stocks\n",
      "Best Params for this fold: {'alpha': 0.0001, 'max_iter': 15000}, Best Fold Score: 0.04581178265374722\n",
      "Selected 68 stocks\n",
      "Best Params for this fold: {'alpha': 0.0001, 'max_iter': 15000}, Best Fold Score: 0.06038485112909602\n",
      "Selected 68 stocks\n",
      "Best Params for this fold: {'alpha': 0.0001, 'max_iter': 15000}, Best Fold Score: 0.045247382478086205\n",
      "Percentile: 0.2, Tracking Error: 0.04683539681955197, Adj Tracking Error: 0.046835396886233636\n",
      "Starting percentile: 0.3\n",
      "Selected 60 stocks\n",
      "Best Params for this fold: {'alpha': 0.0001, 'max_iter': 15000}, Best Fold Score: 0.03765752829806048\n",
      "Selected 60 stocks\n",
      "Best Params for this fold: {'alpha': 0.0001, 'max_iter': 15000}, Best Fold Score: 0.05018453907356124\n",
      "Selected 60 stocks\n",
      "Best Params for this fold: {'alpha': 0.0001, 'max_iter': 15000}, Best Fold Score: 0.028090782823679675\n",
      "Selected 60 stocks\n",
      "Best Params for this fold: {'alpha': 0.0001, 'max_iter': 15000}, Best Fold Score: 0.026589211435037258\n",
      "Selected 60 stocks\n",
      "Best Params for this fold: {'alpha': 0.0001, 'max_iter': 15000}, Best Fold Score: 0.030077514859682252\n",
      "Selected 60 stocks\n",
      "Best Params for this fold: {'alpha': 0.0001, 'max_iter': 15000}, Best Fold Score: 0.040704693386111074\n",
      "Selected 60 stocks\n",
      "Best Params for this fold: {'alpha': 0.0001, 'max_iter': 15000}, Best Fold Score: 0.031596527434238346\n",
      "Selected 60 stocks\n",
      "Best Params for this fold: {'alpha': 0.0001, 'max_iter': 15000}, Best Fold Score: 0.048999652374482096\n",
      "Selected 60 stocks\n",
      "Best Params for this fold: {'alpha': 0.0001, 'max_iter': 15000}, Best Fold Score: 0.03811006080021956\n",
      "Selected 60 stocks\n",
      "Best Params for this fold: {'alpha': 0.0001, 'max_iter': 15000}, Best Fold Score: 0.04424392679481367\n",
      "Selected 60 stocks\n",
      "Best Params for this fold: {'alpha': 0.0001, 'max_iter': 15000}, Best Fold Score: 0.13217888257439608\n",
      "Selected 60 stocks\n",
      "Best Params for this fold: {'alpha': 0.0001, 'max_iter': 15000}, Best Fold Score: 0.05857732706157996\n",
      "Selected 60 stocks\n",
      "Best Params for this fold: {'alpha': 0.0001, 'max_iter': 15000}, Best Fold Score: 0.044153839781591445\n",
      "Selected 60 stocks\n",
      "Best Params for this fold: {'alpha': 0.0001, 'max_iter': 15000}, Best Fold Score: 0.05005735002005778\n",
      "Selected 60 stocks\n",
      "Best Params for this fold: {'alpha': 0.0001, 'max_iter': 15000}, Best Fold Score: 0.03069431587273248\n",
      "Selected 60 stocks\n",
      "Best Params for this fold: {'alpha': 0.0001, 'max_iter': 15000}, Best Fold Score: 0.0458287790096847\n",
      "Selected 60 stocks\n",
      "Best Params for this fold: {'alpha': 0.0001, 'max_iter': 15000}, Best Fold Score: 0.06043056398080713\n",
      "Selected 60 stocks\n",
      "Best Params for this fold: {'alpha': 0.0001, 'max_iter': 15000}, Best Fold Score: 0.045282551497888304\n",
      "Percentile: 0.3, Tracking Error: 0.04685878039325686, Adj Tracking Error: 0.046858780457787214\n",
      "Starting percentile: 0.4\n",
      "Selected 51 stocks\n",
      "Best Params for this fold: {'alpha': 0.0001, 'max_iter': 15000}, Best Fold Score: 0.037665033828106494\n",
      "Selected 51 stocks\n",
      "Best Params for this fold: {'alpha': 0.0001, 'max_iter': 15000}, Best Fold Score: 0.050251394309003404\n",
      "Selected 51 stocks\n",
      "Best Params for this fold: {'alpha': 0.0001, 'max_iter': 15000}, Best Fold Score: 0.028040277793909267\n",
      "Selected 51 stocks\n",
      "Best Params for this fold: {'alpha': 0.0001, 'max_iter': 15000}, Best Fold Score: 0.026579397411751048\n",
      "Selected 51 stocks\n",
      "Best Params for this fold: {'alpha': 0.0001, 'max_iter': 15000}, Best Fold Score: 0.03006861100165864\n",
      "Selected 51 stocks\n",
      "Best Params for this fold: {'alpha': 0.0001, 'max_iter': 15000}, Best Fold Score: 0.04069843736780401\n",
      "Selected 51 stocks\n",
      "Best Params for this fold: {'alpha': 0.0001, 'max_iter': 15000}, Best Fold Score: 0.031565049602218606\n",
      "Selected 51 stocks\n",
      "Best Params for this fold: {'alpha': 0.0001, 'max_iter': 15000}, Best Fold Score: 0.04901039291077058\n",
      "Selected 51 stocks\n",
      "Best Params for this fold: {'alpha': 0.0001, 'max_iter': 15000}, Best Fold Score: 0.03809457214221756\n",
      "Selected 51 stocks\n",
      "Best Params for this fold: {'alpha': 0.0001, 'max_iter': 15000}, Best Fold Score: 0.04423837704993359\n",
      "Selected 51 stocks\n",
      "Best Params for this fold: {'alpha': 0.0001, 'max_iter': 15000}, Best Fold Score: 0.13262742129174113\n",
      "Selected 51 stocks\n",
      "Best Params for this fold: {'alpha': 0.0001, 'max_iter': 15000}, Best Fold Score: 0.0584930705194847\n",
      "Selected 51 stocks\n",
      "Best Params for this fold: {'alpha': 0.0001, 'max_iter': 15000}, Best Fold Score: 0.04415685515060163\n",
      "Selected 51 stocks\n",
      "Best Params for this fold: {'alpha': 0.0001, 'max_iter': 15000}, Best Fold Score: 0.04996756333384204\n",
      "Selected 51 stocks\n",
      "Best Params for this fold: {'alpha': 0.0001, 'max_iter': 15000}, Best Fold Score: 0.030659334961354062\n",
      "Selected 51 stocks\n",
      "Best Params for this fold: {'alpha': 0.0001, 'max_iter': 15000}, Best Fold Score: 0.045832272101268334\n",
      "Selected 51 stocks\n",
      "Best Params for this fold: {'alpha': 0.0001, 'max_iter': 15000}, Best Fold Score: 0.060449681696799575\n",
      "Selected 51 stocks\n",
      "Best Params for this fold: {'alpha': 0.0001, 'max_iter': 15000}, Best Fold Score: 0.04530641666097712\n",
      "Percentile: 0.4, Tracking Error: 0.04687245328519121, Adj Tracking Error: 0.046872453350180435\n",
      "Starting percentile: 0.5\n",
      "Selected 43 stocks\n",
      "Best Params for this fold: {'alpha': 0.0001, 'max_iter': 15000}, Best Fold Score: 0.037688701475737864\n",
      "Selected 43 stocks\n",
      "Best Params for this fold: {'alpha': 0.0001, 'max_iter': 15000}, Best Fold Score: 0.05029400061037999\n",
      "Selected 43 stocks\n",
      "Best Params for this fold: {'alpha': 0.0001, 'max_iter': 15000}, Best Fold Score: 0.028102272671428764\n",
      "Selected 43 stocks\n",
      "Best Params for this fold: {'alpha': 0.0001, 'max_iter': 15000}, Best Fold Score: 0.026526122916870204\n",
      "Selected 43 stocks\n",
      "Best Params for this fold: {'alpha': 0.0001, 'max_iter': 15000}, Best Fold Score: 0.030037017208694363\n",
      "Selected 43 stocks\n",
      "Best Params for this fold: {'alpha': 0.0001, 'max_iter': 15000}, Best Fold Score: 0.040739170120318025\n",
      "Selected 43 stocks\n",
      "Best Params for this fold: {'alpha': 0.0001, 'max_iter': 15000}, Best Fold Score: 0.031599792607586365\n",
      "Selected 43 stocks\n",
      "Best Params for this fold: {'alpha': 0.0001, 'max_iter': 15000}, Best Fold Score: 0.049077529659449844\n",
      "Selected 43 stocks\n",
      "Best Params for this fold: {'alpha': 0.0001, 'max_iter': 15000}, Best Fold Score: 0.038197399187693305\n",
      "Selected 43 stocks\n",
      "Best Params for this fold: {'alpha': 0.0001, 'max_iter': 15000}, Best Fold Score: 0.04424507120115848\n",
      "Selected 43 stocks\n",
      "Best Params for this fold: {'alpha': 0.0001, 'max_iter': 15000}, Best Fold Score: 0.13265967317341112\n",
      "Selected 43 stocks\n",
      "Best Params for this fold: {'alpha': 0.0001, 'max_iter': 15000}, Best Fold Score: 0.0583356615791549\n",
      "Selected 43 stocks\n",
      "Best Params for this fold: {'alpha': 0.0001, 'max_iter': 15000}, Best Fold Score: 0.04412464014178383\n",
      "Selected 43 stocks\n",
      "Best Params for this fold: {'alpha': 0.0001, 'max_iter': 15000}, Best Fold Score: 0.04992177164681931\n",
      "Selected 43 stocks\n",
      "Best Params for this fold: {'alpha': 0.0001, 'max_iter': 15000}, Best Fold Score: 0.030679718339291808\n",
      "Selected 43 stocks\n",
      "Best Params for this fold: {'alpha': 0.0001, 'max_iter': 15000}, Best Fold Score: 0.04579093994024233\n",
      "Selected 43 stocks\n",
      "Best Params for this fold: {'alpha': 0.0001, 'max_iter': 15000}, Best Fold Score: 0.060518540272725886\n",
      "Selected 43 stocks\n",
      "Best Params for this fold: {'alpha': 0.0001, 'max_iter': 15000}, Best Fold Score: 0.045345407399749633\n",
      "Percentile: 0.5, Tracking Error: 0.04688241278624978, Adj Tracking Error: 0.04688241284471248\n",
      "Starting percentile: 0.6\n",
      "Selected 34 stocks\n",
      "Best Params for this fold: {'alpha': 0.0001, 'max_iter': 15000}, Best Fold Score: 0.03773058974927406\n",
      "Selected 34 stocks\n",
      "Best Params for this fold: {'alpha': 0.0001, 'max_iter': 15000}, Best Fold Score: 0.050367351814404555\n",
      "Selected 34 stocks\n",
      "Best Params for this fold: {'alpha': 0.0001, 'max_iter': 15000}, Best Fold Score: 0.02805877869304221\n",
      "Selected 34 stocks\n",
      "Best Params for this fold: {'alpha': 0.0001, 'max_iter': 15000}, Best Fold Score: 0.02644877272013796\n",
      "Selected 34 stocks\n",
      "Best Params for this fold: {'alpha': 0.0001, 'max_iter': 15000}, Best Fold Score: 0.02999261206001999\n",
      "Selected 34 stocks\n",
      "Best Params for this fold: {'alpha': 0.0001, 'max_iter': 15000}, Best Fold Score: 0.04071567173877372\n",
      "Selected 34 stocks\n",
      "Best Params for this fold: {'alpha': 0.0001, 'max_iter': 15000}, Best Fold Score: 0.0317072230605201\n",
      "Selected 34 stocks\n",
      "Best Params for this fold: {'alpha': 0.0001, 'max_iter': 15000}, Best Fold Score: 0.04937152631020433\n",
      "Selected 34 stocks\n",
      "Best Params for this fold: {'alpha': 0.0001, 'max_iter': 15000}, Best Fold Score: 0.03821149132835571\n",
      "Selected 34 stocks\n",
      "Best Params for this fold: {'alpha': 0.0001, 'max_iter': 15000}, Best Fold Score: 0.04428174063620562\n",
      "Selected 34 stocks\n",
      "Best Params for this fold: {'alpha': 0.0001, 'max_iter': 15000}, Best Fold Score: 0.13381386065570267\n",
      "Selected 34 stocks\n",
      "Best Params for this fold: {'alpha': 0.0001, 'max_iter': 15000}, Best Fold Score: 0.058249231249226846\n",
      "Selected 34 stocks\n",
      "Best Params for this fold: {'alpha': 0.0001, 'max_iter': 15000}, Best Fold Score: 0.044371133458416805\n",
      "Selected 34 stocks\n",
      "Best Params for this fold: {'alpha': 0.0001, 'max_iter': 15000}, Best Fold Score: 0.04987031244851549\n",
      "Selected 34 stocks\n",
      "Best Params for this fold: {'alpha': 0.0001, 'max_iter': 15000}, Best Fold Score: 0.03070407485584058\n",
      "Selected 34 stocks\n",
      "Best Params for this fold: {'alpha': 0.0001, 'max_iter': 15000}, Best Fold Score: 0.045764722956066595\n",
      "Selected 34 stocks\n",
      "Best Params for this fold: {'alpha': 0.0001, 'max_iter': 15000}, Best Fold Score: 0.06050408210230665\n",
      "Selected 34 stocks\n",
      "Best Params for this fold: {'alpha': 0.0001, 'max_iter': 15000}, Best Fold Score: 0.0454310575854897\n",
      "Percentile: 0.6, Tracking Error: 0.046977457412361305, Adj Tracking Error: 0.046977457464678324\n"
     ]
    },
    {
     "data": {
      "image/png": "[encoded data removed]",
      "text/plain": [
       "<Figure size 640x480 with 1 Axes>"
      ]
     },
     "metadata": {},
     "output_type": "display_data"
    }
   ],
   "source": [
    "df_total_z = df_total.replace(0, np.nan)  # Convert zeroes back to NaNs\n",
    "df_total_returns = df_total_z.pct_change().dropna()\n",
    "df_total_returns = 100*df_total_returns\n",
    "X = df_total_returns.drop(columns=['NIFTY 50', 'NIFTY BANK', 'NIFTY_100'])\n",
    "y = df_total_returns['NIFTY_100']\n",
    "\n",
    "tracking_errors = []\n",
    "adj_tracking_errors = []\n",
    "num_stocks_list = []\n",
    "\n",
    "percentiles = [0.0, 0.1, 0.2, 0.3, 0.4, 0.5, 0.6]\n",
    "param_grid = {\n",
    "    'alpha': [0.0001, 0.00025, 0.0005, 0.00075, 0.001, 0.002, 0.0025],\n",
    "    'max_iter': [15000]\n",
    "}\n",
    "\n",
    "\n",
    "for percentile in percentiles:\n",
    "    print(f\"Starting percentile: {percentile}\")\n",
    "    _, num_stocks, tracking_err, adj_tracking_err = MI_Experiment(percentile, X, y, Lasso, param_grid)\n",
    "    num_stocks_list.append(num_stocks)\n",
    "    tracking_errors.append(tracking_err)\n",
    "    adj_tracking_errors.append(adj_tracking_err)\n",
    "\n",
    "# Plotting the results\n",
    "fig, ax1 = plt.subplots()\n",
    "\n",
    "# Plotting number of stocks on the primary y-axis\n",
    "plt.plot(num_stocks_list, adj_tracking_errors, marker='x')\n",
    "plt.xlabel('Number of Stocks')\n",
    "plt.ylabel('Tracking Error')\n",
    "plt.title('Tracking Errors vs Number of Stocks')\n",
    "plt.grid(True)\n",
    "plt.show()"
   ]
  },
  {
   "cell_type": "markdown",
   "id": "c4970a5e",
   "metadata": {
    "papermill": {
     "duration": 0.031311,
     "end_time": "2024-11-29T14:15:01.504477",
     "exception": false,
     "start_time": "2024-11-29T14:15:01.473166",
     "status": "completed"
    },
    "tags": []
   },
   "source": [
    "### MI - Polynomial Regression"
   ]
  },
  {
   "cell_type": "markdown",
   "id": "783a6e21",
   "metadata": {
    "execution": {
     "iopub.execute_input": "2024-11-12T21:50:37.572889Z",
     "iopub.status.busy": "2024-11-12T21:50:37.570440Z"
    },
    "papermill": {
     "duration": 0.031553,
     "end_time": "2024-11-29T14:15:01.568194",
     "exception": false,
     "start_time": "2024-11-29T14:15:01.536641",
     "status": "completed"
    },
    "tags": []
   },
   "source": [
    "TODO: Theil-Sein Linear Regression"
   ]
  },
  {
   "cell_type": "code",
   "execution_count": null,
   "id": "7df45d31",
   "metadata": {
    "papermill": {
     "duration": 0.030714,
     "end_time": "2024-11-29T14:15:01.632079",
     "exception": false,
     "start_time": "2024-11-29T14:15:01.601365",
     "status": "completed"
    },
    "tags": []
   },
   "outputs": [],
   "source": []
  }
 ],
 "metadata": {
  "kaggle": {
   "accelerator": "none",
   "dataSources": [
    {
     "datasetId": 6024843,
     "sourceId": 9824880,
     "sourceType": "datasetVersion"
    },
    {
     "datasetId": 2401195,
     "sourceId": 9867252,
     "sourceType": "datasetVersion"
    },
    {
     "datasetId": 2490157,
     "sourceId": 9876776,
     "sourceType": "datasetVersion"
    }
   ],
   "dockerImageVersionId": 30786,
   "isGpuEnabled": false,
   "isInternetEnabled": true,
   "language": "python",
   "sourceType": "notebook"
  },
  "kernelspec": {
   "display_name": "Python 3",
   "language": "python",
   "name": "python3"
  },
  "language_info": {
   "codemirror_mode": {
    "name": "ipython",
    "version": 3
   },
   "file_extension": ".py",
   "mimetype": "text/x-python",
   "name": "python",
   "nbconvert_exporter": "python",
   "pygments_lexer": "ipython3",
   "version": "3.10.14"
  },
  "papermill": {
   "default_parameters": {},
   "duration": 8706.95405,
   "end_time": "2024-11-29T14:15:02.486081",
   "environment_variables": {},
   "exception": null,
   "input_path": "__notebook__.ipynb",
   "output_path": "__notebook__.ipynb",
   "parameters": {},
   "start_time": "2024-11-29T11:49:55.532031",
   "version": "2.6.0"
  }
 },
 "nbformat": 4,
 "nbformat_minor": 5
}
