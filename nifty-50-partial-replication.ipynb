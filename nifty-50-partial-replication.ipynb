{
 "cells": [
  {
   "cell_type": "markdown",
   "id": "47cbc91b",
   "metadata": {
    "_cell_guid": "b1076dfc-b9ad-4769-8c92-a6c4dae69d19",
    "_uuid": "8f2839f25d086af736a60e9eeb907d3b93b6e0e5",
    "papermill": {
     "duration": 0.007105,
     "end_time": "2024-11-25T09:34:08.507804",
     "exception": false,
     "start_time": "2024-11-25T09:34:08.500699",
     "status": "completed"
    },
    "tags": []
   },
   "source": [
    "# Nifty 50 Partial Replication"
   ]
  },
  {
   "cell_type": "code",
   "execution_count": 1,
   "id": "78c8b56e",
   "metadata": {
    "execution": {
     "iopub.execute_input": "2024-11-25T09:34:08.522943Z",
     "iopub.status.busy": "2024-11-25T09:34:08.522442Z",
     "iopub.status.idle": "2024-11-25T09:34:11.825997Z",
     "shell.execute_reply": "2024-11-25T09:34:11.824996Z"
    },
    "papermill": {
     "duration": 3.314118,
     "end_time": "2024-11-25T09:34:11.828650",
     "exception": false,
     "start_time": "2024-11-25T09:34:08.514532",
     "status": "completed"
    },
    "tags": []
   },
   "outputs": [],
   "source": [
    "import pandas as pd\n",
    "import numpy as np\n",
    "from sklearn.model_selection import train_test_split\n",
    "from sklearn.linear_model import Lasso\n",
    "from sklearn.metrics import mean_squared_error, r2_score, make_scorer\n",
    "from sklearn.model_selection import cross_val_score, TimeSeriesSplit\n",
    "from sklearn.linear_model import LassoCV\n",
    "import matplotlib.pyplot as plt\n",
    "import os\n",
    "import glob\n",
    "from tqdm import tqdm\n",
    "import warnings\n",
    "from sklearn.ensemble import RandomForestRegressor\n",
    "from sklearn.exceptions import ConvergenceWarning\n",
    "warnings.filterwarnings(\"ignore\")\n",
    "warnings.filterwarnings(\"always\", category=ConvergenceWarning)\n",
    "import seaborn as sns\n",
    "\n",
    "import xgboost as xgb\n",
    "from sklearn.feature_selection import SelectFromModel,mutual_info_regression"
   ]
  },
  {
   "cell_type": "code",
   "execution_count": 2,
   "id": "13dc9280",
   "metadata": {
    "execution": {
     "iopub.execute_input": "2024-11-25T09:34:11.842284Z",
     "iopub.status.busy": "2024-11-25T09:34:11.841761Z",
     "iopub.status.idle": "2024-11-25T09:34:11.847694Z",
     "shell.execute_reply": "2024-11-25T09:34:11.846545Z"
    },
    "papermill": {
     "duration": 0.015457,
     "end_time": "2024-11-25T09:34:11.850043",
     "exception": false,
     "start_time": "2024-11-25T09:34:11.834586",
     "status": "completed"
    },
    "tags": []
   },
   "outputs": [],
   "source": [
    "def tracking_error(y_true, y_pred):\n",
    "    # Convert y_true and y_pred to pandas Series for easy handling of pct_change()\n",
    "    y_true = pd.Series(y_true)\n",
    "    y_pred = pd.Series(y_pred)\n",
    "    \n",
    "    # Calculate percentage change for true values and predictions\n",
    "    # pct_change_true = y_true.pct_change() * 100\n",
    "    # pct_change_pred = y_pred.pct_change() * 100\n",
    "    \n",
    "    # Calculate the difference between the percentage changes\n",
    "    diff_pct_change = y_true - y_pred    \n",
    "    \n",
    "    # Return the standard deviation of the differences (tracking error)\n",
    "    return np.std(diff_pct_change.dropna())  # dropna() to avoid NaN values in pct_change"
   ]
  },
  {
   "cell_type": "code",
   "execution_count": 3,
   "id": "611639bc",
   "metadata": {
    "execution": {
     "iopub.execute_input": "2024-11-25T09:34:11.863307Z",
     "iopub.status.busy": "2024-11-25T09:34:11.862901Z",
     "iopub.status.idle": "2024-11-25T09:34:11.868550Z",
     "shell.execute_reply": "2024-11-25T09:34:11.867523Z"
    },
    "papermill": {
     "duration": 0.014779,
     "end_time": "2024-11-25T09:34:11.870580",
     "exception": false,
     "start_time": "2024-11-25T09:34:11.855801",
     "status": "completed"
    },
    "tags": []
   },
   "outputs": [],
   "source": [
    "def adj_tracking_error(y_true, X_test, model):\n",
    "    cost = 0.001  # 0.1% cost\n",
    "    X_test_adjusted = X_test.copy()\n",
    "    X_test_adjusted[0, :] -= cost  # Subtract cost from the first return of each stock\n",
    "\n",
    "    # Predict with adjustment\n",
    "    y_pred_adjusted = model.predict(X_test_adjusted)\n",
    "    return tracking_error(y_true, y_pred_adjusted)"
   ]
  },
  {
   "cell_type": "markdown",
   "id": "20525816",
   "metadata": {
    "papermill": {
     "duration": 0.005336,
     "end_time": "2024-11-25T09:34:11.881444",
     "exception": false,
     "start_time": "2024-11-25T09:34:11.876108",
     "status": "completed"
    },
    "tags": []
   },
   "source": [
    "## Data"
   ]
  },
  {
   "cell_type": "code",
   "execution_count": 4,
   "id": "eb57b9d7",
   "metadata": {
    "execution": {
     "iopub.execute_input": "2024-11-25T09:34:11.894950Z",
     "iopub.status.busy": "2024-11-25T09:34:11.894559Z",
     "iopub.status.idle": "2024-11-25T09:34:11.899296Z",
     "shell.execute_reply": "2024-11-25T09:34:11.898239Z"
    },
    "papermill": {
     "duration": 0.013446,
     "end_time": "2024-11-25T09:34:11.901330",
     "exception": false,
     "start_time": "2024-11-25T09:34:11.887884",
     "status": "completed"
    },
    "tags": []
   },
   "outputs": [],
   "source": [
    "# directory_path = '/kaggle/input/stock-market-data-nifty-50-stocks-1-min-data'\n",
    "# pattern = os.path.join(directory_path, \"*.csv\")  # Change \"*.csv\" to match other patterns if needed\n",
    "\n",
    "# Get the list of files that match the pattern\n",
    "# file_list = glob.glob(pattern)"
   ]
  },
  {
   "cell_type": "code",
   "execution_count": 5,
   "id": "310ea23c",
   "metadata": {
    "execution": {
     "iopub.execute_input": "2024-11-25T09:34:11.914824Z",
     "iopub.status.busy": "2024-11-25T09:34:11.914415Z",
     "iopub.status.idle": "2024-11-25T09:34:11.920693Z",
     "shell.execute_reply": "2024-11-25T09:34:11.919569Z"
    },
    "papermill": {
     "duration": 0.01584,
     "end_time": "2024-11-25T09:34:11.922979",
     "exception": false,
     "start_time": "2024-11-25T09:34:11.907139",
     "status": "completed"
    },
    "tags": []
   },
   "outputs": [],
   "source": [
    "def fetch_data(cols):\n",
    "    df_list = []\n",
    "    for file in tqdm(file_list):\n",
    "        stock_name = os.path.basename(file).split(\"_\")[0]\n",
    "        file_df = pd.read_csv(file, index_col=0)\n",
    "        file_df = file_df[[cols]]\n",
    "        file_df.columns = pd.MultiIndex.from_product([[stock_name], file_df.columns])\n",
    "        df_list.append(file_df)\n",
    "    return pd.concat(df_list, axis=1)"
   ]
  },
  {
   "cell_type": "code",
   "execution_count": 6,
   "id": "c2df42f5",
   "metadata": {
    "execution": {
     "iopub.execute_input": "2024-11-25T09:34:11.936416Z",
     "iopub.status.busy": "2024-11-25T09:34:11.936026Z",
     "iopub.status.idle": "2024-11-25T09:34:11.940958Z",
     "shell.execute_reply": "2024-11-25T09:34:11.939888Z"
    },
    "papermill": {
     "duration": 0.014469,
     "end_time": "2024-11-25T09:34:11.943270",
     "exception": false,
     "start_time": "2024-11-25T09:34:11.928801",
     "status": "completed"
    },
    "tags": []
   },
   "outputs": [],
   "source": [
    "# df = fetch_data('close')\n",
    "# df.to_csv('/kaggle/input/nifty_50_closing.csv')"
   ]
  },
  {
   "cell_type": "code",
   "execution_count": 7,
   "id": "ef14db5b",
   "metadata": {
    "execution": {
     "iopub.execute_input": "2024-11-25T09:34:11.956537Z",
     "iopub.status.busy": "2024-11-25T09:34:11.956132Z",
     "iopub.status.idle": "2024-11-25T09:34:30.957430Z",
     "shell.execute_reply": "2024-11-25T09:34:30.956295Z"
    },
    "papermill": {
     "duration": 19.010497,
     "end_time": "2024-11-25T09:34:30.959976",
     "exception": false,
     "start_time": "2024-11-25T09:34:11.949479",
     "status": "completed"
    },
    "tags": []
   },
   "outputs": [
    {
     "name": "stdout",
     "output_type": "stream",
     "text": [
      "Number of rows with NaN values: 639555\n"
     ]
    }
   ],
   "source": [
    "df = pd.read_csv('/kaggle/input/nifty-50-closing-data/nifty_50_closing.csv', index_col=0, header=[0, 1])\n",
    "df = df.xs('close', level=1, axis=1)\n",
    "df.index = pd.to_datetime(df.index)\n",
    "\n",
    "nan_rows = df.isna().any(axis=1)\n",
    "\n",
    "# Get the number of rows with NaN values\n",
    "num_nan_rows = nan_rows.sum()\n",
    "\n",
    "print(f\"Number of rows with NaN values: {num_nan_rows}\")"
   ]
  },
  {
   "cell_type": "code",
   "execution_count": 8,
   "id": "cc058b93",
   "metadata": {
    "execution": {
     "iopub.execute_input": "2024-11-25T09:34:30.973501Z",
     "iopub.status.busy": "2024-11-25T09:34:30.973066Z",
     "iopub.status.idle": "2024-11-25T09:34:32.948196Z",
     "shell.execute_reply": "2024-11-25T09:34:32.947107Z"
    },
    "papermill": {
     "duration": 1.984526,
     "end_time": "2024-11-25T09:34:32.950472",
     "exception": false,
     "start_time": "2024-11-25T09:34:30.965946",
     "status": "completed"
    },
    "tags": []
   },
   "outputs": [],
   "source": [
    "nifty_100_closing = pd.read_csv('/kaggle/input/nifty-50-minute-data/NIFTY 100_minute.csv', index_col=0)[['close']]\n",
    "nifty_100_closing.index = pd.to_datetime(nifty_100_closing.index)\n",
    "nifty_100_closing.rename(columns={'close': 'NIFTY_100'}, inplace=True)"
   ]
  },
  {
   "cell_type": "code",
   "execution_count": 9,
   "id": "cfb1b13e",
   "metadata": {
    "execution": {
     "iopub.execute_input": "2024-11-25T09:34:32.963613Z",
     "iopub.status.busy": "2024-11-25T09:34:32.963166Z",
     "iopub.status.idle": "2024-11-25T09:34:32.969537Z",
     "shell.execute_reply": "2024-11-25T09:34:32.968162Z"
    },
    "papermill": {
     "duration": 0.015884,
     "end_time": "2024-11-25T09:34:32.971947",
     "exception": false,
     "start_time": "2024-11-25T09:34:32.956063",
     "status": "completed"
    },
    "tags": []
   },
   "outputs": [
    {
     "name": "stdout",
     "output_type": "stream",
     "text": [
      "Index type for df1: <class 'pandas.core.indexes.datetimes.DatetimeIndex'>\n",
      "Index type for df2: <class 'pandas.core.indexes.datetimes.DatetimeIndex'>\n"
     ]
    }
   ],
   "source": [
    "print(f\"Index type for df1: {type(df.index)}\")\n",
    "print(f\"Index type for df2: {type(nifty_100_closing.index)}\")"
   ]
  },
  {
   "cell_type": "code",
   "execution_count": 10,
   "id": "df261712",
   "metadata": {
    "execution": {
     "iopub.execute_input": "2024-11-25T09:34:32.985637Z",
     "iopub.status.busy": "2024-11-25T09:34:32.985220Z",
     "iopub.status.idle": "2024-11-25T09:34:33.648073Z",
     "shell.execute_reply": "2024-11-25T09:34:33.646990Z"
    },
    "papermill": {
     "duration": 0.672503,
     "end_time": "2024-11-25T09:34:33.650407",
     "exception": false,
     "start_time": "2024-11-25T09:34:32.977904",
     "status": "completed"
    },
    "tags": []
   },
   "outputs": [
    {
     "name": "stdout",
     "output_type": "stream",
     "text": [
      "Number of rows with NaN values: 37207\n",
      "Number of rows with 0.0 values: 79\n",
      "Total rows 639981\n"
     ]
    }
   ],
   "source": [
    "threshold = 0.10\n",
    "# Drop columns with more than the threshold percentage of missing values\n",
    "df = df.dropna(thresh=int((1-threshold) * len(df)), axis=1)\n",
    "\n",
    "nan_rows = df.isna().any(axis=1)\n",
    "\n",
    "# Get the number of rows with NaN values\n",
    "num_nan_rows = nan_rows.sum()\n",
    "\n",
    "print(f\"Number of rows with NaN values: {num_nan_rows}\")\n",
    "\n",
    "df.dropna(axis=0, inplace=True)\n",
    "\n",
    "df.index = df.index.tz_localize(None)\n",
    "\n",
    "zero_rows = (df == 0.0).any(axis=1)\n",
    "\n",
    "num_zero_rows = zero_rows.sum()\n",
    "\n",
    "print(f\"Number of rows with 0.0 values: {num_zero_rows}\")\n",
    "print(f\"Total rows {len(df)}\")"
   ]
  },
  {
   "cell_type": "code",
   "execution_count": 11,
   "id": "befef097",
   "metadata": {
    "execution": {
     "iopub.execute_input": "2024-11-25T09:34:33.663468Z",
     "iopub.status.busy": "2024-11-25T09:34:33.663063Z",
     "iopub.status.idle": "2024-11-25T09:34:33.670563Z",
     "shell.execute_reply": "2024-11-25T09:34:33.669360Z"
    },
    "papermill": {
     "duration": 0.016409,
     "end_time": "2024-11-25T09:34:33.672590",
     "exception": false,
     "start_time": "2024-11-25T09:34:33.656181",
     "status": "completed"
    },
    "tags": []
   },
   "outputs": [
    {
     "data": {
      "text/plain": [
       "88"
      ]
     },
     "execution_count": 11,
     "metadata": {},
     "output_type": "execute_result"
    }
   ],
   "source": [
    "len(df.columns)"
   ]
  },
  {
   "cell_type": "code",
   "execution_count": 12,
   "id": "80cb6075",
   "metadata": {
    "execution": {
     "iopub.execute_input": "2024-11-25T09:34:33.686255Z",
     "iopub.status.busy": "2024-11-25T09:34:33.685877Z",
     "iopub.status.idle": "2024-11-25T09:34:34.008990Z",
     "shell.execute_reply": "2024-11-25T09:34:34.007913Z"
    },
    "papermill": {
     "duration": 0.332692,
     "end_time": "2024-11-25T09:34:34.011438",
     "exception": false,
     "start_time": "2024-11-25T09:34:33.678746",
     "status": "completed"
    },
    "tags": []
   },
   "outputs": [],
   "source": [
    "df_total = df.join(nifty_100_closing, how='left')"
   ]
  },
  {
   "cell_type": "code",
   "execution_count": 13,
   "id": "729b842d",
   "metadata": {
    "execution": {
     "iopub.execute_input": "2024-11-25T09:34:34.025426Z",
     "iopub.status.busy": "2024-11-25T09:34:34.024909Z",
     "iopub.status.idle": "2024-11-25T09:34:34.316136Z",
     "shell.execute_reply": "2024-11-25T09:34:34.314803Z"
    },
    "papermill": {
     "duration": 0.301194,
     "end_time": "2024-11-25T09:34:34.318704",
     "exception": false,
     "start_time": "2024-11-25T09:34:34.017510",
     "status": "completed"
    },
    "tags": []
   },
   "outputs": [],
   "source": [
    "df_total.dropna(inplace=True)"
   ]
  },
  {
   "cell_type": "code",
   "execution_count": 14,
   "id": "b46a3f01",
   "metadata": {
    "execution": {
     "iopub.execute_input": "2024-11-25T09:34:34.333853Z",
     "iopub.status.busy": "2024-11-25T09:34:34.333451Z",
     "iopub.status.idle": "2024-11-25T09:34:36.328758Z",
     "shell.execute_reply": "2024-11-25T09:34:36.327437Z"
    },
    "papermill": {
     "duration": 2.005558,
     "end_time": "2024-11-25T09:34:36.331241",
     "exception": false,
     "start_time": "2024-11-25T09:34:34.325683",
     "status": "completed"
    },
    "tags": []
   },
   "outputs": [
    {
     "name": "stdout",
     "output_type": "stream",
     "text": [
      "Number of rows with large changes (>100.0%): 42\n"
     ]
    }
   ],
   "source": [
    "# Calculate the percentage change\n",
    "X_pct_change = df_total.pct_change()\n",
    "\n",
    "# Define the threshold for large changes (e.g., 100% change)\n",
    "threshold = 1.0  # 1.0 corresponds to 100% when working with pct_change()\n",
    "\n",
    "# Find rows with any column having a percentage change greater than the threshold\n",
    "large_change_rows = X_pct_change[(X_pct_change.abs() > threshold).any(axis=1)]\n",
    "\n",
    "# Get the number of rows where there are large percentage changes\n",
    "num_large_changes = large_change_rows.shape[0]\n",
    "\n",
    "print(f\"Number of rows with large changes (>{threshold * 100}%): {num_large_changes}\")"
   ]
  },
  {
   "cell_type": "code",
   "execution_count": 15,
   "id": "af1b75fd",
   "metadata": {
    "execution": {
     "iopub.execute_input": "2024-11-25T09:34:36.345810Z",
     "iopub.status.busy": "2024-11-25T09:34:36.345421Z",
     "iopub.status.idle": "2024-11-25T09:34:36.350746Z",
     "shell.execute_reply": "2024-11-25T09:34:36.349578Z"
    },
    "papermill": {
     "duration": 0.015467,
     "end_time": "2024-11-25T09:34:36.353108",
     "exception": false,
     "start_time": "2024-11-25T09:34:36.337641",
     "status": "completed"
    },
    "tags": []
   },
   "outputs": [
    {
     "name": "stdout",
     "output_type": "stream",
     "text": [
      "629791\n"
     ]
    }
   ],
   "source": [
    "print(len(df_total))"
   ]
  },
  {
   "cell_type": "code",
   "execution_count": 16,
   "id": "97d8f21b",
   "metadata": {
    "execution": {
     "iopub.execute_input": "2024-11-25T09:34:36.367942Z",
     "iopub.status.busy": "2024-11-25T09:34:36.367517Z",
     "iopub.status.idle": "2024-11-25T09:34:36.588172Z",
     "shell.execute_reply": "2024-11-25T09:34:36.587082Z"
    },
    "papermill": {
     "duration": 0.231247,
     "end_time": "2024-11-25T09:34:36.590669",
     "exception": false,
     "start_time": "2024-11-25T09:34:36.359422",
     "status": "completed"
    },
    "tags": []
   },
   "outputs": [],
   "source": [
    "df_total.sort_index(inplace=True)"
   ]
  },
  {
   "cell_type": "markdown",
   "id": "04d9c0c8",
   "metadata": {
    "papermill": {
     "duration": 0.005721,
     "end_time": "2024-11-25T09:34:36.602429",
     "exception": false,
     "start_time": "2024-11-25T09:34:36.596708",
     "status": "completed"
    },
    "tags": []
   },
   "source": [
    "# Models"
   ]
  },
  {
   "cell_type": "markdown",
   "id": "088514e0",
   "metadata": {
    "papermill": {
     "duration": 0.00613,
     "end_time": "2024-11-25T09:34:36.615352",
     "exception": false,
     "start_time": "2024-11-25T09:34:36.609222",
     "status": "completed"
    },
    "tags": []
   },
   "source": [
    "## Combined Approach\n",
    "In this section, we will utilize a combined approach to limit the number of features (stocks) and train our models.\n",
    "\n",
    "1. Feature Selection (using Lasso w/ high alpha, Mutual Info, ANOVA, RFE)\n",
    "2. Define threshold to drop features\n",
    "3. Train model on reduced feature space (Hyperparameter tuned)\n",
    "4. Get tracking error\n",
    "5. Save pair (number of stocks, tracking error) for plotting"
   ]
  },
  {
   "cell_type": "markdown",
   "id": "a75544f7",
   "metadata": {
    "papermill": {
     "duration": 0.005961,
     "end_time": "2024-11-25T09:34:36.627643",
     "exception": false,
     "start_time": "2024-11-25T09:34:36.621682",
     "status": "completed"
    },
    "tags": []
   },
   "source": [
    "### Lasso - Lasso\n",
    "\n",
    "We will utilize a Lasso model with a high alpha value to perform feature selection, this will drop the coefficients for less important features to 0. After that we retrain a Lasso model with hyperparameter tuning."
   ]
  },
  {
   "cell_type": "code",
   "execution_count": 17,
   "id": "f18aba57",
   "metadata": {
    "_kg_hide-input": true,
    "execution": {
     "iopub.execute_input": "2024-11-25T09:34:36.642502Z",
     "iopub.status.busy": "2024-11-25T09:34:36.641968Z",
     "iopub.status.idle": "2024-11-25T09:34:36.655020Z",
     "shell.execute_reply": "2024-11-25T09:34:36.653821Z"
    },
    "papermill": {
     "duration": 0.023699,
     "end_time": "2024-11-25T09:34:36.657308",
     "exception": false,
     "start_time": "2024-11-25T09:34:36.633609",
     "status": "completed"
    },
    "tags": []
   },
   "outputs": [],
   "source": [
    "from sklearn.preprocessing import StandardScaler\n",
    "\n",
    "def Lasso_Lasso(alpha, X, y):    \n",
    "    tscv = TimeSeriesSplit(n_splits=10)\n",
    "    stocks = []\n",
    "    num_stocks = []\n",
    "    fold_scores = []\n",
    "    adj_fold_scores = []\n",
    "    \n",
    "    for train_index, test_index in tscv.split(X):\n",
    "        X_train_cv, X_test_cv = X.iloc[train_index], X.iloc[test_index]\n",
    "        y_train_cv, y_test_cv = y.iloc[train_index], y.iloc[test_index]\n",
    "        train_period = X.iloc[train_index].index\n",
    "        test_period = X.iloc[test_index].index\n",
    "        \n",
    "        # Convert to date format\n",
    "        train_start_date, train_end_date = train_period.min(), train_period.max()\n",
    "        test_start_date, test_end_date = test_period.min(), test_period.max()\n",
    "        \n",
    "        print(f\"Train period: {train_start_date} to {train_end_date}\")\n",
    "        print(f\"Test period: {test_start_date} to {test_end_date}\")\n",
    "        scaler = StandardScaler()\n",
    "        X_scaled = scaler.fit_transform(X_train_cv)\n",
    "        \n",
    "        # Feature selection with alpha from list\n",
    "        lasso_fs = Lasso(alpha=alpha, max_iter=200)\n",
    "        lasso_fs.fit(X_scaled, y_train_cv)\n",
    "\n",
    "        #for feature, coef in zip(X_train_cv.columns, lasso_fs.coef_):\n",
    "        #    print(f\"{feature}: {coef}\")\n",
    "\n",
    "        selector = SelectFromModel(lasso_fs, threshold=10e-10, max_features=None)  # Adjust threshold as needed\n",
    "        X_selected_train = selector.transform(X_scaled)\n",
    "        X_selected_test = selector.transform(X_test_cv)\n",
    "\n",
    "        selected_features = np.where(selector.get_support())[0] \n",
    "        print(f\"Selected {len(selected_features)} stocks\")\n",
    "        num_stocks.append(len(selected_features))\n",
    "        stocks.append(selected_features)\n",
    "\n",
    "        best_alpha = None\n",
    "        best_score = float('inf')  # Assuming lower is better for your metric\n",
    "        for alph in [0.0001, 0.00025, 0.0005, 0.00075, 0.001, 0.002, 0.0025]:\n",
    "            lasso = Lasso(alpha=alph, max_iter=15000)\n",
    "            lasso.fit(X_selected_train, y_train_cv)\n",
    "    \n",
    "            y_pred = lasso.predict(X_selected_test)\n",
    "            fold_score = tracking_error(y_test_cv.values, y_pred)\n",
    "            adj_fold_score = adj_tracking_error(y_test_cv.values, X_selected_test, lasso)\n",
    "            # print(f\"Alpha: {alpha}, Fold Score: {fold_score}\")\n",
    "    \n",
    "            if fold_score < best_score:\n",
    "                best_score = fold_score\n",
    "                best_alpha = alpha\n",
    "    \n",
    "        print(f\"Best Alpha for this fold: {best_alpha}, Best Fold Score: {best_score}\")\n",
    "        fold_scores.append(best_score)\n",
    "        adj_fold_scores.append(adj_fold_score)\n",
    "        \n",
    "    # Calculate the average score across all folds\n",
    "    average_score = np.mean(fold_scores)\n",
    "    average_adj_score = np.mean(adj_fold_scores)\n",
    "\n",
    "    # Get average stocks chosen over all folds\n",
    "    average_selected_features = np.mean(num_stocks)\n",
    "    \n",
    "    # Print the tracking error for this alpha\n",
    "    print(f\"Alpha: {alpha}, Average Tracking Error: {average_score}\")\n",
    " \n",
    "    return stocks, average_selected_features, average_score, average_adj_score"
   ]
  },
  {
   "cell_type": "code",
   "execution_count": 18,
   "id": "0894b92e",
   "metadata": {
    "execution": {
     "iopub.execute_input": "2024-11-25T09:34:36.672345Z",
     "iopub.status.busy": "2024-11-25T09:34:36.671933Z",
     "iopub.status.idle": "2024-11-25T10:05:40.481984Z",
     "shell.execute_reply": "2024-11-25T10:05:40.480782Z"
    },
    "papermill": {
     "duration": 1863.821347,
     "end_time": "2024-11-25T10:05:40.485007",
     "exception": false,
     "start_time": "2024-11-25T09:34:36.663660",
     "status": "completed"
    },
    "tags": []
   },
   "outputs": [
    {
     "name": "stdout",
     "output_type": "stream",
     "text": [
      "----------Starting alpha 0.001-------------\n",
      "Train period: 2015-02-02 10:19:00 to 2015-11-13 10:53:00\n",
      "Test period: 2015-11-13 10:54:00 to 2016-07-21 09:33:00\n",
      "Selected 68 stocks\n",
      "Best Alpha for this fold: 0.001, Best Fold Score: 0.040804538769732356\n",
      "Train period: 2015-02-02 10:19:00 to 2016-07-21 09:33:00\n",
      "Test period: 2016-07-21 09:34:00 to 2017-03-23 15:12:00\n",
      "Selected 72 stocks\n",
      "Best Alpha for this fold: 0.001, Best Fold Score: 0.04153631496256702\n",
      "Train period: 2015-02-02 10:19:00 to 2017-03-23 15:12:00\n",
      "Test period: 2017-03-23 15:13:00 to 2017-11-27 13:45:00\n",
      "Selected 73 stocks\n",
      "Best Alpha for this fold: 0.001, Best Fold Score: 0.027511003218190413\n",
      "Train period: 2015-02-02 10:19:00 to 2017-11-27 13:45:00\n",
      "Test period: 2017-11-27 13:46:00 to 2018-07-30 12:11:00\n",
      "Selected 74 stocks\n",
      "Best Alpha for this fold: 0.001, Best Fold Score: 0.035862550951815536\n",
      "Train period: 2015-02-02 10:19:00 to 2018-07-30 12:11:00\n",
      "Test period: 2018-07-30 12:12:00 to 2019-04-24 14:00:00\n",
      "Selected 74 stocks\n",
      "Best Alpha for this fold: 0.001, Best Fold Score: 0.04195966231626582\n",
      "Train period: 2015-02-02 10:19:00 to 2019-04-24 14:00:00\n",
      "Test period: 2019-04-24 14:01:00 to 2020-01-30 09:40:00\n",
      "Selected 75 stocks\n",
      "Best Alpha for this fold: 0.001, Best Fold Score: 0.04158335061592731\n",
      "Train period: 2015-02-02 10:19:00 to 2020-01-30 09:40:00\n",
      "Test period: 2020-01-30 09:41:00 to 2020-10-12 12:06:00\n",
      "Selected 75 stocks\n",
      "Best Alpha for this fold: 0.001, Best Fold Score: 0.10711031079711526\n",
      "Train period: 2015-02-02 10:19:00 to 2020-10-12 12:06:00\n",
      "Test period: 2020-10-12 12:07:00 to 2021-06-18 12:05:00\n",
      "Selected 77 stocks\n",
      "Best Alpha for this fold: 0.001, Best Fold Score: 0.04784343034133413\n",
      "Train period: 2015-02-02 10:19:00 to 2021-06-18 12:05:00\n",
      "Test period: 2021-06-18 12:06:00 to 2022-02-22 09:25:00\n",
      "Selected 77 stocks\n",
      "Best Alpha for this fold: 0.001, Best Fold Score: 0.0404854235652503\n",
      "Train period: 2015-02-02 10:19:00 to 2022-02-22 09:25:00\n",
      "Test period: 2022-02-22 09:26:00 to 2022-10-24 19:14:00\n",
      "Selected 77 stocks\n",
      "Best Alpha for this fold: 0.001, Best Fold Score: 0.05197793530431145\n",
      "Alpha: 0.001, Average Tracking Error: 0.04766745208425096\n",
      "----------Starting alpha 0.002-------------\n",
      "Train period: 2015-02-02 10:19:00 to 2015-11-13 10:53:00\n",
      "Test period: 2015-11-13 10:54:00 to 2016-07-21 09:33:00\n",
      "Selected 58 stocks\n",
      "Best Alpha for this fold: 0.002, Best Fold Score: 0.040932868465882365\n",
      "Train period: 2015-02-02 10:19:00 to 2016-07-21 09:33:00\n",
      "Test period: 2016-07-21 09:34:00 to 2017-03-23 15:12:00\n",
      "Selected 60 stocks\n",
      "Best Alpha for this fold: 0.002, Best Fold Score: 0.04167616781302406\n",
      "Train period: 2015-02-02 10:19:00 to 2017-03-23 15:12:00\n",
      "Test period: 2017-03-23 15:13:00 to 2017-11-27 13:45:00\n",
      "Selected 66 stocks\n",
      "Best Alpha for this fold: 0.002, Best Fold Score: 0.027547125654467236\n",
      "Train period: 2015-02-02 10:19:00 to 2017-11-27 13:45:00\n",
      "Test period: 2017-11-27 13:46:00 to 2018-07-30 12:11:00\n",
      "Selected 66 stocks\n",
      "Best Alpha for this fold: 0.002, Best Fold Score: 0.035908625311241296\n",
      "Train period: 2015-02-02 10:19:00 to 2018-07-30 12:11:00\n",
      "Test period: 2018-07-30 12:12:00 to 2019-04-24 14:00:00\n",
      "Selected 66 stocks\n",
      "Best Alpha for this fold: 0.002, Best Fold Score: 0.0420171671001848\n",
      "Train period: 2015-02-02 10:19:00 to 2019-04-24 14:00:00\n",
      "Test period: 2019-04-24 14:01:00 to 2020-01-30 09:40:00\n",
      "Selected 67 stocks\n",
      "Best Alpha for this fold: 0.002, Best Fold Score: 0.04160980865831505\n",
      "Train period: 2015-02-02 10:19:00 to 2020-01-30 09:40:00\n",
      "Test period: 2020-01-30 09:41:00 to 2020-10-12 12:06:00\n",
      "Selected 63 stocks\n",
      "Best Alpha for this fold: 0.002, Best Fold Score: 0.1072650951293939\n",
      "Train period: 2015-02-02 10:19:00 to 2020-10-12 12:06:00\n",
      "Test period: 2020-10-12 12:07:00 to 2021-06-18 12:05:00\n",
      "Selected 70 stocks\n",
      "Best Alpha for this fold: 0.002, Best Fold Score: 0.04785656307892462\n",
      "Train period: 2015-02-02 10:19:00 to 2021-06-18 12:05:00\n",
      "Test period: 2021-06-18 12:06:00 to 2022-02-22 09:25:00\n",
      "Selected 69 stocks\n",
      "Best Alpha for this fold: 0.002, Best Fold Score: 0.040506329683891715\n",
      "Train period: 2015-02-02 10:19:00 to 2022-02-22 09:25:00\n",
      "Test period: 2022-02-22 09:26:00 to 2022-10-24 19:14:00\n",
      "Selected 71 stocks\n",
      "Best Alpha for this fold: 0.002, Best Fold Score: 0.05200134930940308\n",
      "Alpha: 0.002, Average Tracking Error: 0.04773211002047282\n",
      "----------Starting alpha 0.003-------------\n",
      "Train period: 2015-02-02 10:19:00 to 2015-11-13 10:53:00\n",
      "Test period: 2015-11-13 10:54:00 to 2016-07-21 09:33:00\n",
      "Selected 53 stocks\n",
      "Best Alpha for this fold: 0.003, Best Fold Score: 0.040998158203691584\n",
      "Train period: 2015-02-02 10:19:00 to 2016-07-21 09:33:00\n",
      "Test period: 2016-07-21 09:34:00 to 2017-03-23 15:12:00\n",
      "Selected 53 stocks\n",
      "Best Alpha for this fold: 0.003, Best Fold Score: 0.04180252579961292\n",
      "Train period: 2015-02-02 10:19:00 to 2017-03-23 15:12:00\n",
      "Test period: 2017-03-23 15:13:00 to 2017-11-27 13:45:00\n",
      "Selected 55 stocks\n",
      "Best Alpha for this fold: 0.003, Best Fold Score: 0.027669066538284284\n",
      "Train period: 2015-02-02 10:19:00 to 2017-11-27 13:45:00\n",
      "Test period: 2017-11-27 13:46:00 to 2018-07-30 12:11:00\n",
      "Selected 54 stocks\n",
      "Best Alpha for this fold: 0.003, Best Fold Score: 0.036017830543615986\n",
      "Train period: 2015-02-02 10:19:00 to 2018-07-30 12:11:00\n",
      "Test period: 2018-07-30 12:12:00 to 2019-04-24 14:00:00\n",
      "Selected 54 stocks\n",
      "Best Alpha for this fold: 0.003, Best Fold Score: 0.042117408114060596\n",
      "Train period: 2015-02-02 10:19:00 to 2019-04-24 14:00:00\n",
      "Test period: 2019-04-24 14:01:00 to 2020-01-30 09:40:00\n",
      "Selected 55 stocks\n",
      "Best Alpha for this fold: 0.003, Best Fold Score: 0.041653650680588614\n",
      "Train period: 2015-02-02 10:19:00 to 2020-01-30 09:40:00\n",
      "Test period: 2020-01-30 09:41:00 to 2020-10-12 12:06:00\n",
      "Selected 56 stocks\n",
      "Best Alpha for this fold: 0.003, Best Fold Score: 0.10729625875602396\n",
      "Train period: 2015-02-02 10:19:00 to 2020-10-12 12:06:00\n",
      "Test period: 2020-10-12 12:07:00 to 2021-06-18 12:05:00\n",
      "Selected 59 stocks\n",
      "Best Alpha for this fold: 0.003, Best Fold Score: 0.0479024085727978\n",
      "Train period: 2015-02-02 10:19:00 to 2021-06-18 12:05:00\n",
      "Test period: 2021-06-18 12:06:00 to 2022-02-22 09:25:00\n",
      "Selected 58 stocks\n",
      "Best Alpha for this fold: 0.003, Best Fold Score: 0.0405486541307643\n",
      "Train period: 2015-02-02 10:19:00 to 2022-02-22 09:25:00\n",
      "Test period: 2022-02-22 09:26:00 to 2022-10-24 19:14:00\n",
      "Selected 58 stocks\n",
      "Best Alpha for this fold: 0.003, Best Fold Score: 0.05207144585718467\n",
      "Alpha: 0.003, Average Tracking Error: 0.04780774071966247\n",
      "----------Starting alpha 0.004-------------\n",
      "Train period: 2015-02-02 10:19:00 to 2015-11-13 10:53:00\n",
      "Test period: 2015-11-13 10:54:00 to 2016-07-21 09:33:00\n",
      "Selected 48 stocks\n",
      "Best Alpha for this fold: 0.004, Best Fold Score: 0.04102036463316046\n",
      "Train period: 2015-02-02 10:19:00 to 2016-07-21 09:33:00\n",
      "Test period: 2016-07-21 09:34:00 to 2017-03-23 15:12:00\n",
      "Selected 49 stocks\n",
      "Best Alpha for this fold: 0.004, Best Fold Score: 0.04183996229867698\n",
      "Train period: 2015-02-02 10:19:00 to 2017-03-23 15:12:00\n",
      "Test period: 2017-03-23 15:13:00 to 2017-11-27 13:45:00\n",
      "Selected 49 stocks\n",
      "Best Alpha for this fold: 0.004, Best Fold Score: 0.027679614752144567\n",
      "Train period: 2015-02-02 10:19:00 to 2017-11-27 13:45:00\n",
      "Test period: 2017-11-27 13:46:00 to 2018-07-30 12:11:00\n",
      "Selected 47 stocks\n",
      "Best Alpha for this fold: 0.004, Best Fold Score: 0.03605227188919742\n",
      "Train period: 2015-02-02 10:19:00 to 2018-07-30 12:11:00\n",
      "Test period: 2018-07-30 12:12:00 to 2019-04-24 14:00:00\n",
      "Selected 47 stocks\n",
      "Best Alpha for this fold: 0.004, Best Fold Score: 0.04221560630628777\n",
      "Train period: 2015-02-02 10:19:00 to 2019-04-24 14:00:00\n",
      "Test period: 2019-04-24 14:01:00 to 2020-01-30 09:40:00\n",
      "Selected 49 stocks\n",
      "Best Alpha for this fold: 0.004, Best Fold Score: 0.041673840117465416\n",
      "Train period: 2015-02-02 10:19:00 to 2020-01-30 09:40:00\n",
      "Test period: 2020-01-30 09:41:00 to 2020-10-12 12:06:00\n",
      "Selected 48 stocks\n",
      "Best Alpha for this fold: 0.004, Best Fold Score: 0.1075015320431489\n",
      "Train period: 2015-02-02 10:19:00 to 2020-10-12 12:06:00\n",
      "Test period: 2020-10-12 12:07:00 to 2021-06-18 12:05:00\n",
      "Selected 55 stocks\n",
      "Best Alpha for this fold: 0.004, Best Fold Score: 0.04792220543365431\n",
      "Train period: 2015-02-02 10:19:00 to 2021-06-18 12:05:00\n",
      "Test period: 2021-06-18 12:06:00 to 2022-02-22 09:25:00\n",
      "Selected 56 stocks\n",
      "Best Alpha for this fold: 0.004, Best Fold Score: 0.04055878141170466\n",
      "Train period: 2015-02-02 10:19:00 to 2022-02-22 09:25:00\n",
      "Test period: 2022-02-22 09:26:00 to 2022-10-24 19:14:00\n",
      "Selected 56 stocks\n",
      "Best Alpha for this fold: 0.004, Best Fold Score: 0.05207904864878848\n",
      "Alpha: 0.004, Average Tracking Error: 0.0478543227534229\n",
      "----------Starting alpha 0.005-------------\n",
      "Train period: 2015-02-02 10:19:00 to 2015-11-13 10:53:00\n",
      "Test period: 2015-11-13 10:54:00 to 2016-07-21 09:33:00\n",
      "Selected 45 stocks\n",
      "Best Alpha for this fold: 0.005, Best Fold Score: 0.041049825466728265\n",
      "Train period: 2015-02-02 10:19:00 to 2016-07-21 09:33:00\n",
      "Test period: 2016-07-21 09:34:00 to 2017-03-23 15:12:00\n",
      "Selected 42 stocks\n",
      "Best Alpha for this fold: 0.005, Best Fold Score: 0.041925599713147584\n",
      "Train period: 2015-02-02 10:19:00 to 2017-03-23 15:12:00\n",
      "Test period: 2017-03-23 15:13:00 to 2017-11-27 13:45:00\n",
      "Selected 45 stocks\n",
      "Best Alpha for this fold: 0.005, Best Fold Score: 0.02770081593425855\n",
      "Train period: 2015-02-02 10:19:00 to 2017-11-27 13:45:00\n",
      "Test period: 2017-11-27 13:46:00 to 2018-07-30 12:11:00\n",
      "Selected 44 stocks\n",
      "Best Alpha for this fold: 0.005, Best Fold Score: 0.036088502313264194\n",
      "Train period: 2015-02-02 10:19:00 to 2018-07-30 12:11:00\n",
      "Test period: 2018-07-30 12:12:00 to 2019-04-24 14:00:00\n",
      "Selected 40 stocks\n",
      "Best Alpha for this fold: 0.005, Best Fold Score: 0.04228206245341027\n",
      "Train period: 2015-02-02 10:19:00 to 2019-04-24 14:00:00\n",
      "Test period: 2019-04-24 14:01:00 to 2020-01-30 09:40:00\n",
      "Selected 42 stocks\n",
      "Best Alpha for this fold: 0.005, Best Fold Score: 0.0417109140294619\n",
      "Train period: 2015-02-02 10:19:00 to 2020-01-30 09:40:00\n",
      "Test period: 2020-01-30 09:41:00 to 2020-10-12 12:06:00\n",
      "Selected 40 stocks\n",
      "Best Alpha for this fold: 0.005, Best Fold Score: 0.10772724188899027\n",
      "Train period: 2015-02-02 10:19:00 to 2020-10-12 12:06:00\n",
      "Test period: 2020-10-12 12:07:00 to 2021-06-18 12:05:00\n",
      "Selected 47 stocks\n",
      "Best Alpha for this fold: 0.005, Best Fold Score: 0.047973777353231245\n",
      "Train period: 2015-02-02 10:19:00 to 2021-06-18 12:05:00\n",
      "Test period: 2021-06-18 12:06:00 to 2022-02-22 09:25:00\n",
      "Selected 50 stocks\n",
      "Best Alpha for this fold: 0.005, Best Fold Score: 0.040616221691810186\n",
      "Train period: 2015-02-02 10:19:00 to 2022-02-22 09:25:00\n",
      "Test period: 2022-02-22 09:26:00 to 2022-10-24 19:14:00\n",
      "Selected 49 stocks\n",
      "Best Alpha for this fold: 0.005, Best Fold Score: 0.05216401780500642\n",
      "Alpha: 0.005, Average Tracking Error: 0.047923897864930884\n",
      "----------Starting alpha 0.006-------------\n",
      "Train period: 2015-02-02 10:19:00 to 2015-11-13 10:53:00\n",
      "Test period: 2015-11-13 10:54:00 to 2016-07-21 09:33:00\n",
      "Selected 39 stocks\n",
      "Best Alpha for this fold: 0.006, Best Fold Score: 0.041087260749978365\n",
      "Train period: 2015-02-02 10:19:00 to 2016-07-21 09:33:00\n",
      "Test period: 2016-07-21 09:34:00 to 2017-03-23 15:12:00\n",
      "Selected 39 stocks\n",
      "Best Alpha for this fold: 0.006, Best Fold Score: 0.041952287427168666\n",
      "Train period: 2015-02-02 10:19:00 to 2017-03-23 15:12:00\n",
      "Test period: 2017-03-23 15:13:00 to 2017-11-27 13:45:00\n",
      "Selected 41 stocks\n",
      "Best Alpha for this fold: 0.006, Best Fold Score: 0.027740971670352662\n",
      "Train period: 2015-02-02 10:19:00 to 2017-11-27 13:45:00\n",
      "Test period: 2017-11-27 13:46:00 to 2018-07-30 12:11:00\n",
      "Selected 36 stocks\n",
      "Best Alpha for this fold: 0.006, Best Fold Score: 0.03618400161502916\n",
      "Train period: 2015-02-02 10:19:00 to 2018-07-30 12:11:00\n",
      "Test period: 2018-07-30 12:12:00 to 2019-04-24 14:00:00\n",
      "Selected 34 stocks\n",
      "Best Alpha for this fold: 0.006, Best Fold Score: 0.042273450690348956\n",
      "Train period: 2015-02-02 10:19:00 to 2019-04-24 14:00:00\n",
      "Test period: 2019-04-24 14:01:00 to 2020-01-30 09:40:00\n",
      "Selected 35 stocks\n",
      "Best Alpha for this fold: 0.006, Best Fold Score: 0.04171042857604539\n",
      "Train period: 2015-02-02 10:19:00 to 2020-01-30 09:40:00\n",
      "Test period: 2020-01-30 09:41:00 to 2020-10-12 12:06:00\n",
      "Selected 32 stocks\n",
      "Best Alpha for this fold: 0.006, Best Fold Score: 0.10803265594238681\n",
      "Train period: 2015-02-02 10:19:00 to 2020-10-12 12:06:00\n",
      "Test period: 2020-10-12 12:07:00 to 2021-06-18 12:05:00\n",
      "Selected 43 stocks\n",
      "Best Alpha for this fold: 0.006, Best Fold Score: 0.047955877162292465\n",
      "Train period: 2015-02-02 10:19:00 to 2021-06-18 12:05:00\n",
      "Test period: 2021-06-18 12:06:00 to 2022-02-22 09:25:00\n",
      "Selected 42 stocks\n",
      "Best Alpha for this fold: 0.006, Best Fold Score: 0.040628913807937726\n",
      "Train period: 2015-02-02 10:19:00 to 2022-02-22 09:25:00\n",
      "Test period: 2022-02-22 09:26:00 to 2022-10-24 19:14:00\n",
      "Selected 43 stocks\n",
      "Best Alpha for this fold: 0.006, Best Fold Score: 0.052175374907385504\n",
      "Alpha: 0.006, Average Tracking Error: 0.04797412225489257\n",
      "----------Starting alpha 0.007-------------\n",
      "Train period: 2015-02-02 10:19:00 to 2015-11-13 10:53:00\n",
      "Test period: 2015-11-13 10:54:00 to 2016-07-21 09:33:00\n",
      "Selected 33 stocks\n",
      "Best Alpha for this fold: 0.007, Best Fold Score: 0.041174204196949594\n",
      "Train period: 2015-02-02 10:19:00 to 2016-07-21 09:33:00\n",
      "Test period: 2016-07-21 09:34:00 to 2017-03-23 15:12:00\n",
      "Selected 35 stocks\n",
      "Best Alpha for this fold: 0.007, Best Fold Score: 0.0420316487454003\n",
      "Train period: 2015-02-02 10:19:00 to 2017-03-23 15:12:00\n",
      "Test period: 2017-03-23 15:13:00 to 2017-11-27 13:45:00\n",
      "Selected 36 stocks\n",
      "Best Alpha for this fold: 0.007, Best Fold Score: 0.027741678328535888\n",
      "Train period: 2015-02-02 10:19:00 to 2017-11-27 13:45:00\n",
      "Test period: 2017-11-27 13:46:00 to 2018-07-30 12:11:00\n",
      "Selected 31 stocks\n",
      "Best Alpha for this fold: 0.007, Best Fold Score: 0.03617713153765146\n",
      "Train period: 2015-02-02 10:19:00 to 2018-07-30 12:11:00\n",
      "Test period: 2018-07-30 12:12:00 to 2019-04-24 14:00:00\n",
      "Selected 30 stocks\n",
      "Best Alpha for this fold: 0.007, Best Fold Score: 0.04228393414875409\n",
      "Train period: 2015-02-02 10:19:00 to 2019-04-24 14:00:00\n",
      "Test period: 2019-04-24 14:01:00 to 2020-01-30 09:40:00\n",
      "Selected 30 stocks\n",
      "Best Alpha for this fold: 0.007, Best Fold Score: 0.04173895051662239\n",
      "Train period: 2015-02-02 10:19:00 to 2020-01-30 09:40:00\n",
      "Test period: 2020-01-30 09:41:00 to 2020-10-12 12:06:00\n",
      "Selected 29 stocks\n",
      "Best Alpha for this fold: 0.007, Best Fold Score: 0.10805826326540797\n",
      "Train period: 2015-02-02 10:19:00 to 2020-10-12 12:06:00\n",
      "Test period: 2020-10-12 12:07:00 to 2021-06-18 12:05:00\n",
      "Selected 37 stocks\n",
      "Best Alpha for this fold: 0.007, Best Fold Score: 0.04801710283714978\n",
      "Train period: 2015-02-02 10:19:00 to 2021-06-18 12:05:00\n",
      "Test period: 2021-06-18 12:06:00 to 2022-02-22 09:25:00\n",
      "Selected 38 stocks\n",
      "Best Alpha for this fold: 0.007, Best Fold Score: 0.040701800056117496\n",
      "Train period: 2015-02-02 10:19:00 to 2022-02-22 09:25:00\n",
      "Test period: 2022-02-22 09:26:00 to 2022-10-24 19:14:00\n",
      "Selected 37 stocks\n",
      "Best Alpha for this fold: 0.007, Best Fold Score: 0.05222020365335982\n",
      "Alpha: 0.007, Average Tracking Error: 0.048014491728594885\n",
      "----------Starting alpha 0.008-------------\n",
      "Train period: 2015-02-02 10:19:00 to 2015-11-13 10:53:00\n",
      "Test period: 2015-11-13 10:54:00 to 2016-07-21 09:33:00\n",
      "Selected 29 stocks\n",
      "Best Alpha for this fold: 0.008, Best Fold Score: 0.04123944059471858\n",
      "Train period: 2015-02-02 10:19:00 to 2016-07-21 09:33:00\n",
      "Test period: 2016-07-21 09:34:00 to 2017-03-23 15:12:00\n",
      "Selected 28 stocks\n",
      "Best Alpha for this fold: 0.008, Best Fold Score: 0.04221370169480424\n",
      "Train period: 2015-02-02 10:19:00 to 2017-03-23 15:12:00\n",
      "Test period: 2017-03-23 15:13:00 to 2017-11-27 13:45:00\n",
      "Selected 33 stocks\n",
      "Best Alpha for this fold: 0.008, Best Fold Score: 0.02771105106385899\n",
      "Train period: 2015-02-02 10:19:00 to 2017-11-27 13:45:00\n",
      "Test period: 2017-11-27 13:46:00 to 2018-07-30 12:11:00\n",
      "Selected 26 stocks\n",
      "Best Alpha for this fold: 0.008, Best Fold Score: 0.036286236269582495\n",
      "Train period: 2015-02-02 10:19:00 to 2018-07-30 12:11:00\n",
      "Test period: 2018-07-30 12:12:00 to 2019-04-24 14:00:00\n",
      "Selected 28 stocks\n",
      "Best Alpha for this fold: 0.008, Best Fold Score: 0.042316201596179465\n",
      "Train period: 2015-02-02 10:19:00 to 2019-04-24 14:00:00\n",
      "Test period: 2019-04-24 14:01:00 to 2020-01-30 09:40:00\n",
      "Selected 27 stocks\n",
      "Best Alpha for this fold: 0.008, Best Fold Score: 0.04176382594936962\n",
      "Train period: 2015-02-02 10:19:00 to 2020-01-30 09:40:00\n",
      "Test period: 2020-01-30 09:41:00 to 2020-10-12 12:06:00\n",
      "Selected 27 stocks\n",
      "Best Alpha for this fold: 0.008, Best Fold Score: 0.10824419738305474\n",
      "Train period: 2015-02-02 10:19:00 to 2020-10-12 12:06:00\n",
      "Test period: 2020-10-12 12:07:00 to 2021-06-18 12:05:00\n",
      "Selected 32 stocks\n",
      "Best Alpha for this fold: 0.008, Best Fold Score: 0.048111685456521176\n",
      "Train period: 2015-02-02 10:19:00 to 2021-06-18 12:05:00\n",
      "Test period: 2021-06-18 12:06:00 to 2022-02-22 09:25:00\n",
      "Selected 34 stocks\n",
      "Best Alpha for this fold: 0.008, Best Fold Score: 0.040721975550698696\n",
      "Train period: 2015-02-02 10:19:00 to 2022-02-22 09:25:00\n",
      "Test period: 2022-02-22 09:26:00 to 2022-10-24 19:14:00\n",
      "Selected 32 stocks\n",
      "Best Alpha for this fold: 0.008, Best Fold Score: 0.05218974313747099\n",
      "Alpha: 0.008, Average Tracking Error: 0.048079805869625895\n",
      "----------Starting alpha 0.009-------------\n",
      "Train period: 2015-02-02 10:19:00 to 2015-11-13 10:53:00\n",
      "Test period: 2015-11-13 10:54:00 to 2016-07-21 09:33:00\n",
      "Selected 27 stocks\n",
      "Best Alpha for this fold: 0.009, Best Fold Score: 0.041312568600632225\n",
      "Train period: 2015-02-02 10:19:00 to 2016-07-21 09:33:00\n",
      "Test period: 2016-07-21 09:34:00 to 2017-03-23 15:12:00\n",
      "Selected 23 stocks\n",
      "Best Alpha for this fold: 0.009, Best Fold Score: 0.04229294324389442\n",
      "Train period: 2015-02-02 10:19:00 to 2017-03-23 15:12:00\n",
      "Test period: 2017-03-23 15:13:00 to 2017-11-27 13:45:00\n",
      "Selected 28 stocks\n",
      "Best Alpha for this fold: 0.009, Best Fold Score: 0.027762809918220582\n",
      "Train period: 2015-02-02 10:19:00 to 2017-11-27 13:45:00\n",
      "Test period: 2017-11-27 13:46:00 to 2018-07-30 12:11:00\n",
      "Selected 26 stocks\n",
      "Best Alpha for this fold: 0.009, Best Fold Score: 0.036286236269582495\n",
      "Train period: 2015-02-02 10:19:00 to 2018-07-30 12:11:00\n",
      "Test period: 2018-07-30 12:12:00 to 2019-04-24 14:00:00\n",
      "Selected 25 stocks\n",
      "Best Alpha for this fold: 0.009, Best Fold Score: 0.042374930081969193\n",
      "Train period: 2015-02-02 10:19:00 to 2019-04-24 14:00:00\n",
      "Test period: 2019-04-24 14:01:00 to 2020-01-30 09:40:00\n",
      "Selected 26 stocks\n",
      "Best Alpha for this fold: 0.009, Best Fold Score: 0.041869262179044936\n",
      "Train period: 2015-02-02 10:19:00 to 2020-01-30 09:40:00\n",
      "Test period: 2020-01-30 09:41:00 to 2020-10-12 12:06:00\n",
      "Selected 23 stocks\n",
      "Best Alpha for this fold: 0.009, Best Fold Score: 0.10849642339604379\n",
      "Train period: 2015-02-02 10:19:00 to 2020-10-12 12:06:00\n",
      "Test period: 2020-10-12 12:07:00 to 2021-06-18 12:05:00\n",
      "Selected 28 stocks\n",
      "Best Alpha for this fold: 0.009, Best Fold Score: 0.04814535741401105\n",
      "Train period: 2015-02-02 10:19:00 to 2021-06-18 12:05:00\n",
      "Test period: 2021-06-18 12:06:00 to 2022-02-22 09:25:00\n",
      "Selected 29 stocks\n",
      "Best Alpha for this fold: 0.009, Best Fold Score: 0.04079562695152571\n",
      "Train period: 2015-02-02 10:19:00 to 2022-02-22 09:25:00\n",
      "Test period: 2022-02-22 09:26:00 to 2022-10-24 19:14:00\n",
      "Selected 31 stocks\n",
      "Best Alpha for this fold: 0.009, Best Fold Score: 0.0521986779938655\n",
      "Alpha: 0.009, Average Tracking Error: 0.04815348360487899\n",
      "----------Starting alpha 0.01-------------\n",
      "Train period: 2015-02-02 10:19:00 to 2015-11-13 10:53:00\n",
      "Test period: 2015-11-13 10:54:00 to 2016-07-21 09:33:00\n",
      "Selected 27 stocks\n",
      "Best Alpha for this fold: 0.01, Best Fold Score: 0.041312568600632225\n",
      "Train period: 2015-02-02 10:19:00 to 2016-07-21 09:33:00\n",
      "Test period: 2016-07-21 09:34:00 to 2017-03-23 15:12:00\n",
      "Selected 21 stocks\n",
      "Best Alpha for this fold: 0.01, Best Fold Score: 0.04237384686038721\n",
      "Train period: 2015-02-02 10:19:00 to 2017-03-23 15:12:00\n",
      "Test period: 2017-03-23 15:13:00 to 2017-11-27 13:45:00\n",
      "Selected 25 stocks\n",
      "Best Alpha for this fold: 0.01, Best Fold Score: 0.027811138780414208\n",
      "Train period: 2015-02-02 10:19:00 to 2017-11-27 13:45:00\n",
      "Test period: 2017-11-27 13:46:00 to 2018-07-30 12:11:00\n",
      "Selected 22 stocks\n",
      "Best Alpha for this fold: 0.01, Best Fold Score: 0.03634485047421512\n",
      "Train period: 2015-02-02 10:19:00 to 2018-07-30 12:11:00\n",
      "Test period: 2018-07-30 12:12:00 to 2019-04-24 14:00:00\n",
      "Selected 21 stocks\n",
      "Best Alpha for this fold: 0.01, Best Fold Score: 0.0424955773382751\n",
      "Train period: 2015-02-02 10:19:00 to 2019-04-24 14:00:00\n",
      "Test period: 2019-04-24 14:01:00 to 2020-01-30 09:40:00\n",
      "Selected 21 stocks\n",
      "Best Alpha for this fold: 0.01, Best Fold Score: 0.041861251439011676\n",
      "Train period: 2015-02-02 10:19:00 to 2020-01-30 09:40:00\n",
      "Test period: 2020-01-30 09:41:00 to 2020-10-12 12:06:00\n",
      "Selected 21 stocks\n",
      "Best Alpha for this fold: 0.01, Best Fold Score: 0.10846955905304295\n",
      "Train period: 2015-02-02 10:19:00 to 2020-10-12 12:06:00\n",
      "Test period: 2020-10-12 12:07:00 to 2021-06-18 12:05:00\n",
      "Selected 24 stocks\n",
      "Best Alpha for this fold: 0.01, Best Fold Score: 0.048260483456310926\n",
      "Train period: 2015-02-02 10:19:00 to 2021-06-18 12:05:00\n",
      "Test period: 2021-06-18 12:06:00 to 2022-02-22 09:25:00\n",
      "Selected 25 stocks\n",
      "Best Alpha for this fold: 0.01, Best Fold Score: 0.04082881184702015\n",
      "Train period: 2015-02-02 10:19:00 to 2022-02-22 09:25:00\n",
      "Test period: 2022-02-22 09:26:00 to 2022-10-24 19:14:00\n",
      "Selected 26 stocks\n",
      "Best Alpha for this fold: 0.01, Best Fold Score: 0.0523822811298551\n",
      "Alpha: 0.01, Average Tracking Error: 0.048214036897916465\n",
      "----------Starting alpha 0.011-------------\n",
      "Train period: 2015-02-02 10:19:00 to 2015-11-13 10:53:00\n",
      "Test period: 2015-11-13 10:54:00 to 2016-07-21 09:33:00\n",
      "Selected 22 stocks\n",
      "Best Alpha for this fold: 0.011, Best Fold Score: 0.041330180805513955\n",
      "Train period: 2015-02-02 10:19:00 to 2016-07-21 09:33:00\n",
      "Test period: 2016-07-21 09:34:00 to 2017-03-23 15:12:00\n",
      "Selected 20 stocks\n",
      "Best Alpha for this fold: 0.011, Best Fold Score: 0.04237858166806081\n",
      "Train period: 2015-02-02 10:19:00 to 2017-03-23 15:12:00\n",
      "Test period: 2017-03-23 15:13:00 to 2017-11-27 13:45:00\n",
      "Selected 22 stocks\n",
      "Best Alpha for this fold: 0.011, Best Fold Score: 0.02788704613191014\n",
      "Train period: 2015-02-02 10:19:00 to 2017-11-27 13:45:00\n",
      "Test period: 2017-11-27 13:46:00 to 2018-07-30 12:11:00\n",
      "Selected 18 stocks\n",
      "Best Alpha for this fold: 0.011, Best Fold Score: 0.036508680283232786\n",
      "Train period: 2015-02-02 10:19:00 to 2018-07-30 12:11:00\n",
      "Test period: 2018-07-30 12:12:00 to 2019-04-24 14:00:00\n",
      "Selected 19 stocks\n",
      "Best Alpha for this fold: 0.011, Best Fold Score: 0.04256864077610049\n",
      "Train period: 2015-02-02 10:19:00 to 2019-04-24 14:00:00\n",
      "Test period: 2019-04-24 14:01:00 to 2020-01-30 09:40:00\n",
      "Selected 19 stocks\n",
      "Best Alpha for this fold: 0.011, Best Fold Score: 0.04189112111061099\n",
      "Train period: 2015-02-02 10:19:00 to 2020-01-30 09:40:00\n",
      "Test period: 2020-01-30 09:41:00 to 2020-10-12 12:06:00\n",
      "Selected 20 stocks\n",
      "Best Alpha for this fold: 0.011, Best Fold Score: 0.10850073085159033\n",
      "Train period: 2015-02-02 10:19:00 to 2020-10-12 12:06:00\n",
      "Test period: 2020-10-12 12:07:00 to 2021-06-18 12:05:00\n",
      "Selected 23 stocks\n",
      "Best Alpha for this fold: 0.011, Best Fold Score: 0.048241143073215344\n",
      "Train period: 2015-02-02 10:19:00 to 2021-06-18 12:05:00\n",
      "Test period: 2021-06-18 12:06:00 to 2022-02-22 09:25:00\n",
      "Selected 22 stocks\n",
      "Best Alpha for this fold: 0.011, Best Fold Score: 0.0409118083223934\n",
      "Train period: 2015-02-02 10:19:00 to 2022-02-22 09:25:00\n",
      "Test period: 2022-02-22 09:26:00 to 2022-10-24 19:14:00\n",
      "Selected 23 stocks\n",
      "Best Alpha for this fold: 0.011, Best Fold Score: 0.05246496733934163\n",
      "Alpha: 0.011, Average Tracking Error: 0.04826829003619699\n",
      "----------Starting alpha 0.012-------------\n",
      "Train period: 2015-02-02 10:19:00 to 2015-11-13 10:53:00\n",
      "Test period: 2015-11-13 10:54:00 to 2016-07-21 09:33:00\n",
      "Selected 19 stocks\n",
      "Best Alpha for this fold: 0.012, Best Fold Score: 0.041359557755417165\n",
      "Train period: 2015-02-02 10:19:00 to 2016-07-21 09:33:00\n",
      "Test period: 2016-07-21 09:34:00 to 2017-03-23 15:12:00\n",
      "Selected 15 stocks\n",
      "Best Alpha for this fold: 0.012, Best Fold Score: 0.04265687216460556\n",
      "Train period: 2015-02-02 10:19:00 to 2017-03-23 15:12:00\n",
      "Test period: 2017-03-23 15:13:00 to 2017-11-27 13:45:00\n",
      "Selected 19 stocks\n",
      "Best Alpha for this fold: 0.012, Best Fold Score: 0.027873553496452267\n",
      "Train period: 2015-02-02 10:19:00 to 2017-11-27 13:45:00\n",
      "Test period: 2017-11-27 13:46:00 to 2018-07-30 12:11:00\n",
      "Selected 17 stocks\n",
      "Best Alpha for this fold: 0.012, Best Fold Score: 0.0364551148660555\n",
      "Train period: 2015-02-02 10:19:00 to 2018-07-30 12:11:00\n",
      "Test period: 2018-07-30 12:12:00 to 2019-04-24 14:00:00\n",
      "Selected 16 stocks\n",
      "Best Alpha for this fold: 0.012, Best Fold Score: 0.042638193566724075\n",
      "Train period: 2015-02-02 10:19:00 to 2019-04-24 14:00:00\n",
      "Test period: 2019-04-24 14:01:00 to 2020-01-30 09:40:00\n",
      "Selected 16 stocks\n",
      "Best Alpha for this fold: 0.012, Best Fold Score: 0.04192836841516002\n",
      "Train period: 2015-02-02 10:19:00 to 2020-01-30 09:40:00\n",
      "Test period: 2020-01-30 09:41:00 to 2020-10-12 12:06:00\n",
      "Selected 16 stocks\n",
      "Best Alpha for this fold: 0.012, Best Fold Score: 0.10867499555810861\n",
      "Train period: 2015-02-02 10:19:00 to 2020-10-12 12:06:00\n",
      "Test period: 2020-10-12 12:07:00 to 2021-06-18 12:05:00\n",
      "Selected 21 stocks\n",
      "Best Alpha for this fold: 0.012, Best Fold Score: 0.048238276415108604\n",
      "Train period: 2015-02-02 10:19:00 to 2021-06-18 12:05:00\n",
      "Test period: 2021-06-18 12:06:00 to 2022-02-22 09:25:00\n",
      "Selected 20 stocks\n",
      "Best Alpha for this fold: 0.012, Best Fold Score: 0.04095042861259126\n",
      "Train period: 2015-02-02 10:19:00 to 2022-02-22 09:25:00\n",
      "Test period: 2022-02-22 09:26:00 to 2022-10-24 19:14:00\n",
      "Selected 20 stocks\n",
      "Best Alpha for this fold: 0.012, Best Fold Score: 0.0526257127828828\n",
      "Alpha: 0.012, Average Tracking Error: 0.04834010736331058\n"
     ]
    },
    {
     "data": {
      "image/png": "[encoded data removed]",
      "text/plain": [
       "<Figure size 640x480 with 2 Axes>"
      ]
     },
     "metadata": {},
     "output_type": "display_data"
    }
   ],
   "source": [
    "df_total_z = df_total.replace(0, np.nan)  # Convert zeroes back to NaNs\n",
    "df_total_returns = df_total_z.pct_change().dropna()\n",
    "df_total_returns = 100*df_total_returns\n",
    "X = df_total_returns.drop(columns=['NIFTY 50', 'NIFTY BANK', 'NIFTY_100'])\n",
    "y = df_total_returns['NIFTY_100']\n",
    "\n",
    "alphas = [0.001, 0.002, 0.003, 0.004, 0.005, 0.006, 0.007, 0.008, 0.009, 0.01, 0.011, 0.012]\n",
    "tracking_errors = []\n",
    "adj_tracking_errors = []\n",
    "num_stocks_list = []\n",
    "\n",
    "for alpha in alphas:\n",
    "    print(f\"----------Starting alpha {alpha}-------------\")\n",
    "    _, num_stocks, tracking_err, adj_tracking_err = Lasso_Lasso(alpha, X, y)\n",
    "    num_stocks_list.append(num_stocks)\n",
    "    tracking_errors.append(tracking_err)\n",
    "    adj_tracking_errors.append(adj_tracking_err)\n",
    "\n",
    "# Plotting the results\n",
    "fig, ax1 = plt.subplots()\n",
    "\n",
    "# Plotting number of stocks on the primary y-axis\n",
    "color = 'tab:blue'\n",
    "ax1.set_xlabel('Alpha')\n",
    "ax1.set_ylabel('Number of Stocks', color=color)\n",
    "ax1.plot(alphas, num_stocks_list, color=color, marker='o', label='Number of Stocks')\n",
    "ax1.tick_params(axis='y', labelcolor=color)\n",
    "\n",
    "# Creating a second y-axis for tracking error\n",
    "ax2 = ax1.twinx()\n",
    "color = 'tab:red'\n",
    "ax2.set_ylabel('Tracking Error', color=color)\n",
    "#ax2.plot(alphas, tracking_errors, color='tab:green', marker='o', linestyle='--', label='Tracking Error')\n",
    "ax2.plot(alphas, adj_tracking_errors, color=color, marker='x', linestyle='--', label='Adjusted Tracking Error')\n",
    "ax2.tick_params(axis='y', labelcolor=color)\n",
    "\n",
    "# Adding a title and legend\n",
    "plt.title('Number of Stocks and Tracking Error vs. Alpha')\n",
    "fig.tight_layout()  # Adjust layout to prevent overlap\n",
    "plt.show()"
   ]
  },
  {
   "cell_type": "markdown",
   "id": "603d6fc8",
   "metadata": {
    "papermill": {
     "duration": 0.022391,
     "end_time": "2024-11-25T10:05:40.529859",
     "exception": false,
     "start_time": "2024-11-25T10:05:40.507468",
     "status": "completed"
    },
    "tags": []
   },
   "source": [
    "# Mutual Info - Lasso\n",
    "Using mutual information between variables, which measures the dependency between them, 0 value being independence. By getting the mutual information between the features (stocks) and the target (NIFTY 100) we can \"discard\" the variables with lower dependencies. After feature selection, we traing a Lasso model with CV."
   ]
  },
  {
   "cell_type": "code",
   "execution_count": 19,
   "id": "cb92fda4",
   "metadata": {
    "execution": {
     "iopub.execute_input": "2024-11-25T10:05:40.576023Z",
     "iopub.status.busy": "2024-11-25T10:05:40.575657Z",
     "iopub.status.idle": "2024-11-25T10:05:40.587357Z",
     "shell.execute_reply": "2024-11-25T10:05:40.586075Z"
    },
    "papermill": {
     "duration": 0.03732,
     "end_time": "2024-11-25T10:05:40.589602",
     "exception": false,
     "start_time": "2024-11-25T10:05:40.552282",
     "status": "completed"
    },
    "tags": []
   },
   "outputs": [],
   "source": [
    "from sklearn.preprocessing import StandardScaler\n",
    "\n",
    "def MI_Lasso(percentile, X, y):\n",
    "    tscv = TimeSeriesSplit(n_splits=10)\n",
    "    stocks = []\n",
    "    num_stocks = []\n",
    "    fold_scores = []\n",
    "    adj_fold_scores = []\n",
    "    \n",
    "    for train_index, test_index in tscv.split(X):\n",
    "        X_train_cv, X_test_cv = X.iloc[train_index], X.iloc[test_index]\n",
    "        y_train_cv, y_test_cv = y.iloc[train_index], y.iloc[test_index]\n",
    "\n",
    "        scaler = StandardScaler()\n",
    "        X_scaled = scaler.fit_transform(X_train_cv)\n",
    "\n",
    "        # Feature selection with alpha from list\n",
    "        mi_scores = mutual_info_regression(X_train_cv, y_train_cv)\n",
    "        mi_scores_series = pd.Series(mi_scores, index=X_train_cv.columns)\n",
    "\n",
    "        threshold_value = mi_scores_series.quantile(percentile)\n",
    "        \n",
    "        selected_features = mi_scores_series[mi_scores_series > threshold_value].index\n",
    "        selected_indices = [X_train_cv.columns.get_loc(feature) for feature in selected_features]\n",
    "\n",
    "        # Filter the NumPy arrays based on the selected feature indices\n",
    "        X_train_selected = X_scaled[:, selected_indices]\n",
    "        X_test_selected = X_test_cv.to_numpy()[:, selected_indices]\n",
    "    \n",
    "        print(f\"Selected {len(selected_features)} stocks\")\n",
    "        num_stocks.append(len(selected_features))\n",
    "        stocks.append(selected_features)\n",
    "\n",
    "        best_alpha = None\n",
    "        best_score = float('inf')  # Assuming lower is better for your metric\n",
    "        for alph in [0.0001, 0.00025, 0.0005, 0.00075, 0.001, 0.002, 0.0025]:\n",
    "            lasso = Lasso(alpha=alph, max_iter=15000)\n",
    "            lasso.fit(X_train_selected, y_train_cv)\n",
    "    \n",
    "            y_pred = lasso.predict(X_test_selected)\n",
    "            fold_score = tracking_error(y_test_cv.values, y_pred)\n",
    "            adj_fold_score = adj_tracking_error(y_test_cv.values, X_test_selected, lasso)\n",
    "            # print(f\"Alpha: {alpha}, Fold Score: {fold_score}\")\n",
    "    \n",
    "            if fold_score < best_score:\n",
    "                best_score = fold_score\n",
    "                best_alpha = alpha\n",
    "    \n",
    "        print(f\"Best Alpha for this fold: {best_alpha}, Best Fold Score: {best_score}\")\n",
    "        fold_scores.append(best_score)\n",
    "        adj_fold_scores.append(adj_fold_score)\n",
    "        \n",
    "    # Calculate the average score across all folds\n",
    "    average_score = np.mean(fold_scores)\n",
    "    average_adj_score = np.mean(adj_fold_scores)\n",
    "\n",
    "    # Get average stocks chosen over all folds\n",
    "    average_selected_features = np.mean(num_stocks)\n",
    "    \n",
    "    # Print the tracking error for this alpha\n",
    "    print(f\"Alpha: {alpha}, Average Tracking Error: {average_score}\")\n",
    " \n",
    "    return stocks, average_selected_features, average_score, average_adj_score"
   ]
  },
  {
   "cell_type": "code",
   "execution_count": 20,
   "id": "f18758ea",
   "metadata": {
    "execution": {
     "iopub.execute_input": "2024-11-25T10:05:40.636126Z",
     "iopub.status.busy": "2024-11-25T10:05:40.635758Z",
     "iopub.status.idle": "2024-11-25T17:31:59.999015Z",
     "shell.execute_reply": "2024-11-25T17:31:59.995881Z"
    },
    "papermill": {
     "duration": 26779.390894,
     "end_time": "2024-11-25T17:32:00.002772",
     "exception": false,
     "start_time": "2024-11-25T10:05:40.611878",
     "status": "completed"
    },
    "tags": []
   },
   "outputs": [
    {
     "name": "stdout",
     "output_type": "stream",
     "text": [
      "Starting percentile: 0.0\n",
      "Selected 85 stocks\n",
      "Best Alpha for this fold: 0.012, Best Fold Score: 0.04074753724137672\n",
      "Selected 85 stocks\n",
      "Best Alpha for this fold: 0.012, Best Fold Score: 0.041489935893247024\n",
      "Selected 85 stocks\n",
      "Best Alpha for this fold: 0.012, Best Fold Score: 0.02748568869736034\n",
      "Selected 85 stocks\n",
      "Best Alpha for this fold: 0.012, Best Fold Score: 0.03584753361747352\n",
      "Selected 85 stocks\n",
      "Best Alpha for this fold: 0.012, Best Fold Score: 0.04193824015974024\n",
      "Selected 85 stocks\n",
      "Best Alpha for this fold: 0.012, Best Fold Score: 0.041570400718487166\n",
      "Selected 85 stocks\n",
      "Best Alpha for this fold: 0.012, Best Fold Score: 0.1070600641966959\n",
      "Selected 85 stocks\n",
      "Best Alpha for this fold: 0.012, Best Fold Score: 0.047820492042727356\n",
      "Selected 85 stocks\n",
      "Best Alpha for this fold: 0.012, Best Fold Score: 0.040462335147999635\n",
      "Selected 85 stocks\n",
      "Best Alpha for this fold: 0.012, Best Fold Score: 0.05194294647011598\n",
      "Alpha: 0.012, Average Tracking Error: 0.04763651741852239\n",
      "Starting percentile: 0.1\n",
      "Selected 77 stocks\n",
      "Best Alpha for this fold: 0.012, Best Fold Score: 0.04076581437025534\n",
      "Selected 77 stocks\n",
      "Best Alpha for this fold: 0.012, Best Fold Score: 0.04150215370196322\n",
      "Selected 77 stocks\n",
      "Best Alpha for this fold: 0.012, Best Fold Score: 0.027505412933667445\n",
      "Selected 77 stocks\n",
      "Best Alpha for this fold: 0.012, Best Fold Score: 0.0358578717762348\n",
      "Selected 77 stocks\n",
      "Best Alpha for this fold: 0.012, Best Fold Score: 0.04195514727332748\n",
      "Selected 77 stocks\n",
      "Best Alpha for this fold: 0.012, Best Fold Score: 0.04158478730030133\n",
      "Selected 77 stocks\n",
      "Best Alpha for this fold: 0.012, Best Fold Score: 0.10710647592963855\n",
      "Selected 77 stocks\n",
      "Best Alpha for this fold: 0.012, Best Fold Score: 0.04783222181475759\n",
      "Selected 77 stocks\n",
      "Best Alpha for this fold: 0.012, Best Fold Score: 0.04048275216376468\n",
      "Selected 77 stocks\n",
      "Best Alpha for this fold: 0.012, Best Fold Score: 0.05197272002761309\n",
      "Alpha: 0.012, Average Tracking Error: 0.047656535729152356\n",
      "Starting percentile: 0.2\n",
      "Selected 68 stocks\n",
      "Best Alpha for this fold: 0.012, Best Fold Score: 0.04079356282532722\n",
      "Selected 68 stocks\n",
      "Best Alpha for this fold: 0.012, Best Fold Score: 0.04163507184651617\n",
      "Selected 68 stocks\n",
      "Best Alpha for this fold: 0.012, Best Fold Score: 0.0275338021062873\n",
      "Selected 68 stocks\n",
      "Best Alpha for this fold: 0.012, Best Fold Score: 0.03586959053638483\n",
      "Selected 68 stocks\n",
      "Best Alpha for this fold: 0.012, Best Fold Score: 0.0420451592704577\n",
      "Selected 68 stocks\n",
      "Best Alpha for this fold: 0.012, Best Fold Score: 0.041627604677815455\n",
      "Selected 68 stocks\n",
      "Best Alpha for this fold: 0.012, Best Fold Score: 0.10718842670125718\n",
      "Selected 68 stocks\n",
      "Best Alpha for this fold: 0.012, Best Fold Score: 0.0478335070312386\n",
      "Selected 68 stocks\n",
      "Best Alpha for this fold: 0.012, Best Fold Score: 0.040504160309578624\n",
      "Selected 68 stocks\n",
      "Best Alpha for this fold: 0.012, Best Fold Score: 0.05199691882019537\n",
      "Alpha: 0.012, Average Tracking Error: 0.04770278041250585\n",
      "Starting percentile: 0.3\n",
      "Selected 60 stocks\n",
      "Best Alpha for this fold: 0.012, Best Fold Score: 0.04080176725103798\n",
      "Selected 60 stocks\n",
      "Best Alpha for this fold: 0.012, Best Fold Score: 0.04170872331009234\n",
      "Selected 60 stocks\n",
      "Best Alpha for this fold: 0.012, Best Fold Score: 0.0275549223655129\n",
      "Selected 60 stocks\n",
      "Best Alpha for this fold: 0.012, Best Fold Score: 0.035899659327396145\n",
      "Selected 60 stocks\n",
      "Best Alpha for this fold: 0.012, Best Fold Score: 0.04209554756199655\n",
      "Selected 60 stocks\n",
      "Best Alpha for this fold: 0.012, Best Fold Score: 0.04164091227467197\n",
      "Selected 60 stocks\n",
      "Best Alpha for this fold: 0.012, Best Fold Score: 0.10724649412969678\n",
      "Selected 60 stocks\n",
      "Best Alpha for this fold: 0.012, Best Fold Score: 0.047799576510515904\n",
      "Selected 60 stocks\n",
      "Best Alpha for this fold: 0.012, Best Fold Score: 0.04049310221738884\n",
      "Selected 60 stocks\n",
      "Best Alpha for this fold: 0.012, Best Fold Score: 0.052041715651234645\n",
      "Alpha: 0.012, Average Tracking Error: 0.04772824205995441\n",
      "Starting percentile: 0.4\n",
      "Selected 51 stocks\n",
      "Best Alpha for this fold: 0.012, Best Fold Score: 0.040821620292253946\n",
      "Selected 51 stocks\n",
      "Best Alpha for this fold: 0.012, Best Fold Score: 0.04176497779893076\n",
      "Selected 51 stocks\n",
      "Best Alpha for this fold: 0.012, Best Fold Score: 0.02752114189927373\n",
      "Selected 51 stocks\n",
      "Best Alpha for this fold: 0.012, Best Fold Score: 0.03580064941364724\n",
      "Selected 51 stocks\n",
      "Best Alpha for this fold: 0.012, Best Fold Score: 0.04214369058036434\n",
      "Selected 51 stocks\n",
      "Best Alpha for this fold: 0.012, Best Fold Score: 0.04160548529149148\n",
      "Selected 51 stocks\n",
      "Best Alpha for this fold: 0.012, Best Fold Score: 0.10754491106547184\n",
      "Selected 51 stocks\n",
      "Best Alpha for this fold: 0.012, Best Fold Score: 0.04779846427857023\n",
      "Selected 51 stocks\n",
      "Best Alpha for this fold: 0.012, Best Fold Score: 0.04045547585944685\n",
      "Selected 51 stocks\n",
      "Best Alpha for this fold: 0.012, Best Fold Score: 0.05208583211166173\n",
      "Alpha: 0.012, Average Tracking Error: 0.04775422485911122\n",
      "Starting percentile: 0.5\n",
      "Selected 43 stocks\n",
      "Best Alpha for this fold: 0.012, Best Fold Score: 0.040826215121168984\n",
      "Selected 43 stocks\n",
      "Best Alpha for this fold: 0.012, Best Fold Score: 0.04174768950461449\n",
      "Selected 43 stocks\n",
      "Best Alpha for this fold: 0.012, Best Fold Score: 0.02749588237538202\n",
      "Selected 43 stocks\n",
      "Best Alpha for this fold: 0.012, Best Fold Score: 0.03576775317925078\n",
      "Selected 43 stocks\n",
      "Best Alpha for this fold: 0.012, Best Fold Score: 0.04221325420748567\n",
      "Selected 43 stocks\n",
      "Best Alpha for this fold: 0.012, Best Fold Score: 0.04159052743316636\n",
      "Selected 43 stocks\n",
      "Best Alpha for this fold: 0.012, Best Fold Score: 0.10760689868810827\n",
      "Selected 43 stocks\n",
      "Best Alpha for this fold: 0.012, Best Fold Score: 0.04783778482664967\n",
      "Selected 43 stocks\n",
      "Best Alpha for this fold: 0.012, Best Fold Score: 0.04053425636918906\n",
      "Selected 43 stocks\n",
      "Best Alpha for this fold: 0.012, Best Fold Score: 0.052223038902539105\n",
      "Alpha: 0.012, Average Tracking Error: 0.04778433006075544\n",
      "Starting percentile: 0.6\n",
      "Selected 34 stocks\n",
      "Best Alpha for this fold: 0.012, Best Fold Score: 0.0408149005034345\n",
      "Selected 34 stocks\n",
      "Best Alpha for this fold: 0.012, Best Fold Score: 0.04186664876835293\n",
      "Selected 34 stocks\n",
      "Best Alpha for this fold: 0.012, Best Fold Score: 0.027586361122295174\n",
      "Selected 34 stocks\n",
      "Best Alpha for this fold: 0.012, Best Fold Score: 0.0357789202475897\n",
      "Selected 34 stocks\n",
      "Best Alpha for this fold: 0.012, Best Fold Score: 0.04234273930132862\n",
      "Selected 34 stocks\n",
      "Best Alpha for this fold: 0.012, Best Fold Score: 0.041549939842736396\n",
      "Selected 34 stocks\n",
      "Best Alpha for this fold: 0.012, Best Fold Score: 0.10787350065659469\n",
      "Selected 34 stocks\n",
      "Best Alpha for this fold: 0.012, Best Fold Score: 0.04785388243092107\n",
      "Selected 34 stocks\n",
      "Best Alpha for this fold: 0.012, Best Fold Score: 0.0405676854314537\n",
      "Selected 34 stocks\n",
      "Best Alpha for this fold: 0.012, Best Fold Score: 0.05240368864065818\n",
      "Alpha: 0.012, Average Tracking Error: 0.047863826694536496\n"
     ]
    },
    {
     "data": {
      "image/png": "[encoded data removed]",
      "text/plain": [
       "<Figure size 640x480 with 1 Axes>"
      ]
     },
     "metadata": {},
     "output_type": "display_data"
    }
   ],
   "source": [
    "df_total_z = df_total.replace(0, np.nan)  # Convert zeroes back to NaNs\n",
    "df_total_returns = df_total_z.pct_change().dropna()\n",
    "df_total_returns = 100*df_total_returns\n",
    "X = df_total_returns.drop(columns=['NIFTY 50', 'NIFTY BANK', 'NIFTY_100'])\n",
    "y = df_total_returns['NIFTY_100']\n",
    "\n",
    "alphas = [0.001, 0.002, 0.003, 0.004, 0.005, 0.006, 0.007, 0.008, 0.009, 0.01, 0.011, 0.012]\n",
    "tracking_errors = []\n",
    "adj_tracking_errors = []\n",
    "num_stocks_list = []\n",
    "\n",
    "percentiles = [0.0, 0.1, 0.2, 0.3, 0.4, 0.5, 0.6]\n",
    "\n",
    "for percentile in percentiles:\n",
    "    print(f\"Starting percentile: {percentile}\")\n",
    "    _, num_stocks, tracking_err, adj_tracking_err = MI_Lasso(percentile, X, y)\n",
    "    num_stocks_list.append(num_stocks)\n",
    "    tracking_errors.append(tracking_err)\n",
    "    adj_tracking_errors.append(adj_tracking_err)\n",
    "\n",
    "# Plotting the results\n",
    "fig, ax1 = plt.subplots()\n",
    "\n",
    "# Plotting number of stocks on the primary y-axis\n",
    "plt.plot(num_stocks_list, adj_tracking_errors, marker='x')\n",
    "plt.xlabel('Number of Stocks')\n",
    "plt.ylabel('Tracking Error')\n",
    "plt.title('Tracking Errors vs Number of Stocks')\n",
    "plt.grid(True)\n",
    "plt.show()"
   ]
  },
  {
   "cell_type": "markdown",
   "id": "3ecc36c7",
   "metadata": {
    "execution": {
     "iopub.execute_input": "2024-11-12T21:50:37.572889Z",
     "iopub.status.busy": "2024-11-12T21:50:37.570440Z"
    },
    "papermill": {
     "duration": 0.032473,
     "end_time": "2024-11-25T17:32:00.067143",
     "exception": false,
     "start_time": "2024-11-25T17:32:00.034670",
     "status": "completed"
    },
    "tags": []
   },
   "source": [
    "TODO: Theil-Sein Linear Regression"
   ]
  },
  {
   "cell_type": "code",
   "execution_count": null,
   "id": "097533a4",
   "metadata": {
    "papermill": {
     "duration": 0.029852,
     "end_time": "2024-11-25T17:32:00.127703",
     "exception": false,
     "start_time": "2024-11-25T17:32:00.097851",
     "status": "completed"
    },
    "tags": []
   },
   "outputs": [],
   "source": []
  }
 ],
 "metadata": {
  "kaggle": {
   "accelerator": "none",
   "dataSources": [
    {
     "datasetId": 6024843,
     "sourceId": 9824880,
     "sourceType": "datasetVersion"
    },
    {
     "datasetId": 2401195,
     "sourceId": 9867252,
     "sourceType": "datasetVersion"
    },
    {
     "datasetId": 2490157,
     "sourceId": 9876776,
     "sourceType": "datasetVersion"
    }
   ],
   "dockerImageVersionId": 30786,
   "isGpuEnabled": false,
   "isInternetEnabled": true,
   "language": "python",
   "sourceType": "notebook"
  },
  "kernelspec": {
   "display_name": "Python 3",
   "language": "python",
   "name": "python3"
  },
  "language_info": {
   "codemirror_mode": {
    "name": "ipython",
    "version": 3
   },
   "file_extension": ".py",
   "mimetype": "text/x-python",
   "name": "python",
   "nbconvert_exporter": "python",
   "pygments_lexer": "ipython3",
   "version": "3.10.14"
  },
  "papermill": {
   "default_parameters": {},
   "duration": 28675.674475,
   "end_time": "2024-11-25T17:32:01.397948",
   "environment_variables": {},
   "exception": null,
   "input_path": "__notebook__.ipynb",
   "output_path": "__notebook__.ipynb",
   "parameters": {},
   "start_time": "2024-11-25T09:34:05.723473",
   "version": "2.6.0"
  }
 },
 "nbformat": 4,
 "nbformat_minor": 5
}
