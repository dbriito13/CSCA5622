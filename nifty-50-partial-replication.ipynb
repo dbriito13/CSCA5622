{
 "cells": [
  {
   "cell_type": "markdown",
   "id": "c6859500",
   "metadata": {
    "_cell_guid": "b1076dfc-b9ad-4769-8c92-a6c4dae69d19",
    "_uuid": "8f2839f25d086af736a60e9eeb907d3b93b6e0e5",
    "papermill": {
     "duration": 0.004669,
     "end_time": "2024-11-07T12:46:03.749001",
     "exception": false,
     "start_time": "2024-11-07T12:46:03.744332",
     "status": "completed"
    },
    "tags": []
   },
   "source": [
    "# Nifty 50 Partial Replication"
   ]
  },
  {
   "cell_type": "code",
   "execution_count": 1,
   "id": "1f2a13b9",
   "metadata": {
    "execution": {
     "iopub.execute_input": "2024-11-07T12:46:03.760329Z",
     "iopub.status.busy": "2024-11-07T12:46:03.759147Z",
     "iopub.status.idle": "2024-11-07T12:46:05.874410Z",
     "shell.execute_reply": "2024-11-07T12:46:05.873454Z"
    },
    "papermill": {
     "duration": 2.123473,
     "end_time": "2024-11-07T12:46:05.877050",
     "exception": false,
     "start_time": "2024-11-07T12:46:03.753577",
     "status": "completed"
    },
    "tags": []
   },
   "outputs": [],
   "source": [
    "import pandas as pd\n",
    "import numpy as np\n",
    "from sklearn.model_selection import train_test_split\n",
    "from sklearn.linear_model import Lasso\n",
    "from sklearn.metrics import mean_squared_error, r2_score\n",
    "import matplotlib.pyplot as plt\n",
    "import os\n",
    "import glob\n",
    "from tqdm import tqdm\n",
    "import warnings\n",
    "warnings.filterwarnings(\"ignore\")\n"
   ]
  },
  {
   "cell_type": "code",
   "execution_count": 2,
   "id": "53945e7b",
   "metadata": {
    "execution": {
     "iopub.execute_input": "2024-11-07T12:46:05.887248Z",
     "iopub.status.busy": "2024-11-07T12:46:05.886544Z",
     "iopub.status.idle": "2024-11-07T12:46:05.892206Z",
     "shell.execute_reply": "2024-11-07T12:46:05.891134Z"
    },
    "papermill": {
     "duration": 0.013098,
     "end_time": "2024-11-07T12:46:05.894390",
     "exception": false,
     "start_time": "2024-11-07T12:46:05.881292",
     "status": "completed"
    },
    "tags": []
   },
   "outputs": [],
   "source": [
    "def tracking_error(index, predictions):\n",
    "    return np.std(pd.Series(index).pct_change()*100 - pd.Series(predictions).pct_change()*100)"
   ]
  },
  {
   "cell_type": "markdown",
   "id": "e5959ac6",
   "metadata": {
    "papermill": {
     "duration": 0.003709,
     "end_time": "2024-11-07T12:46:05.902109",
     "exception": false,
     "start_time": "2024-11-07T12:46:05.898400",
     "status": "completed"
    },
    "tags": []
   },
   "source": [
    "## Data"
   ]
  },
  {
   "cell_type": "code",
   "execution_count": 3,
   "id": "e914170b",
   "metadata": {
    "execution": {
     "iopub.execute_input": "2024-11-07T12:46:05.911736Z",
     "iopub.status.busy": "2024-11-07T12:46:05.911335Z",
     "iopub.status.idle": "2024-11-07T12:46:05.916182Z",
     "shell.execute_reply": "2024-11-07T12:46:05.914940Z"
    },
    "papermill": {
     "duration": 0.012187,
     "end_time": "2024-11-07T12:46:05.918278",
     "exception": false,
     "start_time": "2024-11-07T12:46:05.906091",
     "status": "completed"
    },
    "tags": []
   },
   "outputs": [],
   "source": [
    "# directory_path = '/kaggle/input/stock-market-data-nifty-50-stocks-1-min-data'\n",
    "# pattern = os.path.join(directory_path, \"*.csv\")  # Change \"*.csv\" to match other patterns if needed\n",
    "\n",
    "# Get the list of files that match the pattern\n",
    "# file_list = glob.glob(pattern)"
   ]
  },
  {
   "cell_type": "code",
   "execution_count": 4,
   "id": "78e5b57f",
   "metadata": {
    "execution": {
     "iopub.execute_input": "2024-11-07T12:46:05.928021Z",
     "iopub.status.busy": "2024-11-07T12:46:05.927591Z",
     "iopub.status.idle": "2024-11-07T12:46:05.933935Z",
     "shell.execute_reply": "2024-11-07T12:46:05.932891Z"
    },
    "papermill": {
     "duration": 0.013754,
     "end_time": "2024-11-07T12:46:05.936047",
     "exception": false,
     "start_time": "2024-11-07T12:46:05.922293",
     "status": "completed"
    },
    "tags": []
   },
   "outputs": [],
   "source": [
    "def fetch_data(cols):\n",
    "    df_list = []\n",
    "    for file in tqdm(file_list):\n",
    "        stock_name = os.path.basename(file).split(\"_\")[0]\n",
    "        file_df = pd.read_csv(file, index_col=0)\n",
    "        file_df = file_df[[cols]]\n",
    "        file_df.columns = pd.MultiIndex.from_product([[stock_name], file_df.columns])\n",
    "        df_list.append(file_df)\n",
    "    return pd.concat(df_list, axis=1)"
   ]
  },
  {
   "cell_type": "code",
   "execution_count": 5,
   "id": "96645b52",
   "metadata": {
    "execution": {
     "iopub.execute_input": "2024-11-07T12:46:05.945739Z",
     "iopub.status.busy": "2024-11-07T12:46:05.945339Z",
     "iopub.status.idle": "2024-11-07T12:46:05.949793Z",
     "shell.execute_reply": "2024-11-07T12:46:05.948811Z"
    },
    "papermill": {
     "duration": 0.011903,
     "end_time": "2024-11-07T12:46:05.952086",
     "exception": false,
     "start_time": "2024-11-07T12:46:05.940183",
     "status": "completed"
    },
    "tags": []
   },
   "outputs": [],
   "source": [
    "# df = fetch_data('close')\n",
    "# df.to_csv('/kaggle/input/nifty_50_closing.csv')"
   ]
  },
  {
   "cell_type": "code",
   "execution_count": 6,
   "id": "31bb8c5b",
   "metadata": {
    "execution": {
     "iopub.execute_input": "2024-11-07T12:46:05.962072Z",
     "iopub.status.busy": "2024-11-07T12:46:05.961620Z",
     "iopub.status.idle": "2024-11-07T12:46:20.215810Z",
     "shell.execute_reply": "2024-11-07T12:46:20.214918Z"
    },
    "papermill": {
     "duration": 14.26206,
     "end_time": "2024-11-07T12:46:20.218357",
     "exception": false,
     "start_time": "2024-11-07T12:46:05.956297",
     "status": "completed"
    },
    "tags": []
   },
   "outputs": [],
   "source": [
    "df = pd.read_csv('/kaggle/input/nifty-50-closing-data/nifty_50_closing.csv', index_col=0, header=[0, 1])\n",
    "df = df.xs('close', level=1, axis=1)"
   ]
  },
  {
   "cell_type": "code",
   "execution_count": 7,
   "id": "aa36c7cd",
   "metadata": {
    "execution": {
     "iopub.execute_input": "2024-11-07T12:46:20.228441Z",
     "iopub.status.busy": "2024-11-07T12:46:20.228022Z",
     "iopub.status.idle": "2024-11-07T12:46:20.261006Z",
     "shell.execute_reply": "2024-11-07T12:46:20.259885Z"
    },
    "papermill": {
     "duration": 0.040708,
     "end_time": "2024-11-07T12:46:20.263446",
     "exception": false,
     "start_time": "2024-11-07T12:46:20.222738",
     "status": "completed"
    },
    "tags": []
   },
   "outputs": [
    {
     "data": {
      "text/html": [
       "<div>\n",
       "<style scoped>\n",
       "    .dataframe tbody tr th:only-of-type {\n",
       "        vertical-align: middle;\n",
       "    }\n",
       "\n",
       "    .dataframe tbody tr th {\n",
       "        vertical-align: top;\n",
       "    }\n",
       "\n",
       "    .dataframe thead th {\n",
       "        text-align: right;\n",
       "    }\n",
       "</style>\n",
       "<table border=\"1\" class=\"dataframe\">\n",
       "  <thead>\n",
       "    <tr style=\"text-align: right;\">\n",
       "      <th></th>\n",
       "      <th>HDFCAMC</th>\n",
       "      <th>APOLLOHOSP</th>\n",
       "      <th>BOSCHLTD</th>\n",
       "      <th>INDUSTOWER</th>\n",
       "      <th>BERGEPAINT</th>\n",
       "      <th>MARICO</th>\n",
       "      <th>ICICIPRULI</th>\n",
       "      <th>HDFCLIFE</th>\n",
       "      <th>SBIN</th>\n",
       "      <th>SUNPHARMA</th>\n",
       "      <th>...</th>\n",
       "      <th>SBICARD</th>\n",
       "      <th>DABUR</th>\n",
       "      <th>SAIL</th>\n",
       "      <th>BRITANNIA</th>\n",
       "      <th>ADANIPORTS</th>\n",
       "      <th>ONGC</th>\n",
       "      <th>EICHERMOT</th>\n",
       "      <th>TECHM</th>\n",
       "      <th>JINDALSTEL</th>\n",
       "      <th>HEROMOTOCO</th>\n",
       "    </tr>\n",
       "    <tr>\n",
       "      <th>date</th>\n",
       "      <th></th>\n",
       "      <th></th>\n",
       "      <th></th>\n",
       "      <th></th>\n",
       "      <th></th>\n",
       "      <th></th>\n",
       "      <th></th>\n",
       "      <th></th>\n",
       "      <th></th>\n",
       "      <th></th>\n",
       "      <th></th>\n",
       "      <th></th>\n",
       "      <th></th>\n",
       "      <th></th>\n",
       "      <th></th>\n",
       "      <th></th>\n",
       "      <th></th>\n",
       "      <th></th>\n",
       "      <th></th>\n",
       "      <th></th>\n",
       "      <th></th>\n",
       "    </tr>\n",
       "  </thead>\n",
       "  <tbody>\n",
       "    <tr>\n",
       "      <th>2018-08-06 10:47:00+05:30</th>\n",
       "      <td>1803.95</td>\n",
       "      <td>974.3</td>\n",
       "      <td>19187.45</td>\n",
       "      <td>290.0</td>\n",
       "      <td>316.85</td>\n",
       "      <td>357.95</td>\n",
       "      <td>408.50</td>\n",
       "      <td>485.00</td>\n",
       "      <td>306.70</td>\n",
       "      <td>579.65</td>\n",
       "      <td>...</td>\n",
       "      <td>NaN</td>\n",
       "      <td>435.30</td>\n",
       "      <td>79.35</td>\n",
       "      <td>3194.92</td>\n",
       "      <td>400.70</td>\n",
       "      <td>167.75</td>\n",
       "      <td>2711.3</td>\n",
       "      <td>670.45</td>\n",
       "      <td>207.65</td>\n",
       "      <td>3259.0</td>\n",
       "    </tr>\n",
       "    <tr>\n",
       "      <th>2018-08-06 10:48:00+05:30</th>\n",
       "      <td>1803.90</td>\n",
       "      <td>973.7</td>\n",
       "      <td>19187.45</td>\n",
       "      <td>290.0</td>\n",
       "      <td>316.50</td>\n",
       "      <td>357.55</td>\n",
       "      <td>408.10</td>\n",
       "      <td>484.95</td>\n",
       "      <td>306.70</td>\n",
       "      <td>579.30</td>\n",
       "      <td>...</td>\n",
       "      <td>NaN</td>\n",
       "      <td>435.15</td>\n",
       "      <td>79.30</td>\n",
       "      <td>3193.02</td>\n",
       "      <td>400.55</td>\n",
       "      <td>167.55</td>\n",
       "      <td>2710.6</td>\n",
       "      <td>670.55</td>\n",
       "      <td>207.80</td>\n",
       "      <td>3260.6</td>\n",
       "    </tr>\n",
       "    <tr>\n",
       "      <th>2018-08-06 10:49:00+05:30</th>\n",
       "      <td>1806.00</td>\n",
       "      <td>973.7</td>\n",
       "      <td>19187.45</td>\n",
       "      <td>290.0</td>\n",
       "      <td>316.85</td>\n",
       "      <td>357.20</td>\n",
       "      <td>408.85</td>\n",
       "      <td>485.00</td>\n",
       "      <td>306.75</td>\n",
       "      <td>579.45</td>\n",
       "      <td>...</td>\n",
       "      <td>NaN</td>\n",
       "      <td>435.70</td>\n",
       "      <td>79.30</td>\n",
       "      <td>3192.50</td>\n",
       "      <td>400.30</td>\n",
       "      <td>167.55</td>\n",
       "      <td>2709.8</td>\n",
       "      <td>670.65</td>\n",
       "      <td>207.55</td>\n",
       "      <td>3259.5</td>\n",
       "    </tr>\n",
       "  </tbody>\n",
       "</table>\n",
       "<p>3 rows × 101 columns</p>\n",
       "</div>"
      ],
      "text/plain": [
       "                           HDFCAMC  APOLLOHOSP  BOSCHLTD  INDUSTOWER  \\\n",
       "date                                                                   \n",
       "2018-08-06 10:47:00+05:30  1803.95       974.3  19187.45       290.0   \n",
       "2018-08-06 10:48:00+05:30  1803.90       973.7  19187.45       290.0   \n",
       "2018-08-06 10:49:00+05:30  1806.00       973.7  19187.45       290.0   \n",
       "\n",
       "                           BERGEPAINT  MARICO  ICICIPRULI  HDFCLIFE    SBIN  \\\n",
       "date                                                                          \n",
       "2018-08-06 10:47:00+05:30      316.85  357.95      408.50    485.00  306.70   \n",
       "2018-08-06 10:48:00+05:30      316.50  357.55      408.10    484.95  306.70   \n",
       "2018-08-06 10:49:00+05:30      316.85  357.20      408.85    485.00  306.75   \n",
       "\n",
       "                           SUNPHARMA  ...  SBICARD   DABUR   SAIL  BRITANNIA  \\\n",
       "date                                  ...                                      \n",
       "2018-08-06 10:47:00+05:30     579.65  ...      NaN  435.30  79.35    3194.92   \n",
       "2018-08-06 10:48:00+05:30     579.30  ...      NaN  435.15  79.30    3193.02   \n",
       "2018-08-06 10:49:00+05:30     579.45  ...      NaN  435.70  79.30    3192.50   \n",
       "\n",
       "                           ADANIPORTS    ONGC  EICHERMOT   TECHM  JINDALSTEL  \\\n",
       "date                                                                           \n",
       "2018-08-06 10:47:00+05:30      400.70  167.75     2711.3  670.45      207.65   \n",
       "2018-08-06 10:48:00+05:30      400.55  167.55     2710.6  670.55      207.80   \n",
       "2018-08-06 10:49:00+05:30      400.30  167.55     2709.8  670.65      207.55   \n",
       "\n",
       "                           HEROMOTOCO  \n",
       "date                                   \n",
       "2018-08-06 10:47:00+05:30      3259.0  \n",
       "2018-08-06 10:48:00+05:30      3260.6  \n",
       "2018-08-06 10:49:00+05:30      3259.5  \n",
       "\n",
       "[3 rows x 101 columns]"
      ]
     },
     "execution_count": 7,
     "metadata": {},
     "output_type": "execute_result"
    }
   ],
   "source": [
    "df.head(3)"
   ]
  },
  {
   "cell_type": "code",
   "execution_count": 8,
   "id": "24ef0f22",
   "metadata": {
    "execution": {
     "iopub.execute_input": "2024-11-07T12:46:20.275436Z",
     "iopub.status.busy": "2024-11-07T12:46:20.275024Z",
     "iopub.status.idle": "2024-11-07T12:46:23.188165Z",
     "shell.execute_reply": "2024-11-07T12:46:23.187067Z"
    },
    "papermill": {
     "duration": 2.921973,
     "end_time": "2024-11-07T12:46:23.190802",
     "exception": false,
     "start_time": "2024-11-07T12:46:20.268829",
     "status": "completed"
    },
    "tags": []
   },
   "outputs": [
    {
     "data": {
      "text/html": [
       "<div>\n",
       "<style scoped>\n",
       "    .dataframe tbody tr th:only-of-type {\n",
       "        vertical-align: middle;\n",
       "    }\n",
       "\n",
       "    .dataframe tbody tr th {\n",
       "        vertical-align: top;\n",
       "    }\n",
       "\n",
       "    .dataframe thead th {\n",
       "        text-align: right;\n",
       "    }\n",
       "</style>\n",
       "<table border=\"1\" class=\"dataframe\">\n",
       "  <thead>\n",
       "    <tr style=\"text-align: right;\">\n",
       "      <th></th>\n",
       "      <th>HDFCAMC</th>\n",
       "      <th>APOLLOHOSP</th>\n",
       "      <th>BOSCHLTD</th>\n",
       "      <th>INDUSTOWER</th>\n",
       "      <th>BERGEPAINT</th>\n",
       "      <th>MARICO</th>\n",
       "      <th>ICICIPRULI</th>\n",
       "      <th>HDFCLIFE</th>\n",
       "      <th>SBIN</th>\n",
       "      <th>SUNPHARMA</th>\n",
       "      <th>...</th>\n",
       "      <th>SBICARD</th>\n",
       "      <th>DABUR</th>\n",
       "      <th>SAIL</th>\n",
       "      <th>BRITANNIA</th>\n",
       "      <th>ADANIPORTS</th>\n",
       "      <th>ONGC</th>\n",
       "      <th>EICHERMOT</th>\n",
       "      <th>TECHM</th>\n",
       "      <th>JINDALSTEL</th>\n",
       "      <th>HEROMOTOCO</th>\n",
       "    </tr>\n",
       "    <tr>\n",
       "      <th>date</th>\n",
       "      <th></th>\n",
       "      <th></th>\n",
       "      <th></th>\n",
       "      <th></th>\n",
       "      <th></th>\n",
       "      <th></th>\n",
       "      <th></th>\n",
       "      <th></th>\n",
       "      <th></th>\n",
       "      <th></th>\n",
       "      <th></th>\n",
       "      <th></th>\n",
       "      <th></th>\n",
       "      <th></th>\n",
       "      <th></th>\n",
       "      <th></th>\n",
       "      <th></th>\n",
       "      <th></th>\n",
       "      <th></th>\n",
       "      <th></th>\n",
       "      <th></th>\n",
       "    </tr>\n",
       "  </thead>\n",
       "  <tbody>\n",
       "    <tr>\n",
       "      <th>2018-08-06 10:47:00+05:30</th>\n",
       "      <td>1803.95</td>\n",
       "      <td>974.3</td>\n",
       "      <td>19187.45</td>\n",
       "      <td>290.0</td>\n",
       "      <td>316.85</td>\n",
       "      <td>357.95</td>\n",
       "      <td>408.50</td>\n",
       "      <td>485.00</td>\n",
       "      <td>306.70</td>\n",
       "      <td>579.65</td>\n",
       "      <td>...</td>\n",
       "      <td>737.3</td>\n",
       "      <td>435.30</td>\n",
       "      <td>79.35</td>\n",
       "      <td>3194.92</td>\n",
       "      <td>400.70</td>\n",
       "      <td>167.75</td>\n",
       "      <td>2711.3</td>\n",
       "      <td>670.45</td>\n",
       "      <td>207.65</td>\n",
       "      <td>3259.0</td>\n",
       "    </tr>\n",
       "    <tr>\n",
       "      <th>2018-08-06 10:48:00+05:30</th>\n",
       "      <td>1803.90</td>\n",
       "      <td>973.7</td>\n",
       "      <td>19187.45</td>\n",
       "      <td>290.0</td>\n",
       "      <td>316.50</td>\n",
       "      <td>357.55</td>\n",
       "      <td>408.10</td>\n",
       "      <td>484.95</td>\n",
       "      <td>306.70</td>\n",
       "      <td>579.30</td>\n",
       "      <td>...</td>\n",
       "      <td>737.3</td>\n",
       "      <td>435.15</td>\n",
       "      <td>79.30</td>\n",
       "      <td>3193.02</td>\n",
       "      <td>400.55</td>\n",
       "      <td>167.55</td>\n",
       "      <td>2710.6</td>\n",
       "      <td>670.55</td>\n",
       "      <td>207.80</td>\n",
       "      <td>3260.6</td>\n",
       "    </tr>\n",
       "    <tr>\n",
       "      <th>2018-08-06 10:49:00+05:30</th>\n",
       "      <td>1806.00</td>\n",
       "      <td>973.7</td>\n",
       "      <td>19187.45</td>\n",
       "      <td>290.0</td>\n",
       "      <td>316.85</td>\n",
       "      <td>357.20</td>\n",
       "      <td>408.85</td>\n",
       "      <td>485.00</td>\n",
       "      <td>306.75</td>\n",
       "      <td>579.45</td>\n",
       "      <td>...</td>\n",
       "      <td>737.3</td>\n",
       "      <td>435.70</td>\n",
       "      <td>79.30</td>\n",
       "      <td>3192.50</td>\n",
       "      <td>400.30</td>\n",
       "      <td>167.55</td>\n",
       "      <td>2709.8</td>\n",
       "      <td>670.65</td>\n",
       "      <td>207.55</td>\n",
       "      <td>3259.5</td>\n",
       "    </tr>\n",
       "  </tbody>\n",
       "</table>\n",
       "<p>3 rows × 101 columns</p>\n",
       "</div>"
      ],
      "text/plain": [
       "                           HDFCAMC  APOLLOHOSP  BOSCHLTD  INDUSTOWER  \\\n",
       "date                                                                   \n",
       "2018-08-06 10:47:00+05:30  1803.95       974.3  19187.45       290.0   \n",
       "2018-08-06 10:48:00+05:30  1803.90       973.7  19187.45       290.0   \n",
       "2018-08-06 10:49:00+05:30  1806.00       973.7  19187.45       290.0   \n",
       "\n",
       "                           BERGEPAINT  MARICO  ICICIPRULI  HDFCLIFE    SBIN  \\\n",
       "date                                                                          \n",
       "2018-08-06 10:47:00+05:30      316.85  357.95      408.50    485.00  306.70   \n",
       "2018-08-06 10:48:00+05:30      316.50  357.55      408.10    484.95  306.70   \n",
       "2018-08-06 10:49:00+05:30      316.85  357.20      408.85    485.00  306.75   \n",
       "\n",
       "                           SUNPHARMA  ...  SBICARD   DABUR   SAIL  BRITANNIA  \\\n",
       "date                                  ...                                      \n",
       "2018-08-06 10:47:00+05:30     579.65  ...    737.3  435.30  79.35    3194.92   \n",
       "2018-08-06 10:48:00+05:30     579.30  ...    737.3  435.15  79.30    3193.02   \n",
       "2018-08-06 10:49:00+05:30     579.45  ...    737.3  435.70  79.30    3192.50   \n",
       "\n",
       "                           ADANIPORTS    ONGC  EICHERMOT   TECHM  JINDALSTEL  \\\n",
       "date                                                                           \n",
       "2018-08-06 10:47:00+05:30      400.70  167.75     2711.3  670.45      207.65   \n",
       "2018-08-06 10:48:00+05:30      400.55  167.55     2710.6  670.55      207.80   \n",
       "2018-08-06 10:49:00+05:30      400.30  167.55     2709.8  670.65      207.55   \n",
       "\n",
       "                           HEROMOTOCO  \n",
       "date                                   \n",
       "2018-08-06 10:47:00+05:30      3259.0  \n",
       "2018-08-06 10:48:00+05:30      3260.6  \n",
       "2018-08-06 10:49:00+05:30      3259.5  \n",
       "\n",
       "[3 rows x 101 columns]"
      ]
     },
     "execution_count": 8,
     "metadata": {},
     "output_type": "execute_result"
    }
   ],
   "source": [
    "df.interpolate(method='linear', inplace=True)\n",
    "# To fill the first row NaN with the value from the next minute\n",
    "df.bfill(inplace=True)\n",
    "df.head(3)"
   ]
  },
  {
   "cell_type": "code",
   "execution_count": 9,
   "id": "808119da",
   "metadata": {
    "execution": {
     "iopub.execute_input": "2024-11-07T12:46:23.202605Z",
     "iopub.status.busy": "2024-11-07T12:46:23.201620Z",
     "iopub.status.idle": "2024-11-07T12:46:23.210905Z",
     "shell.execute_reply": "2024-11-07T12:46:23.209787Z"
    },
    "papermill": {
     "duration": 0.017722,
     "end_time": "2024-11-07T12:46:23.213302",
     "exception": false,
     "start_time": "2024-11-07T12:46:23.195580",
     "status": "completed"
    },
    "tags": []
   },
   "outputs": [
    {
     "data": {
      "text/plain": [
       "HDFCAMC       float64\n",
       "APOLLOHOSP    float64\n",
       "BOSCHLTD      float64\n",
       "INDUSTOWER    float64\n",
       "BERGEPAINT    float64\n",
       "               ...   \n",
       "ONGC          float64\n",
       "EICHERMOT     float64\n",
       "TECHM         float64\n",
       "JINDALSTEL    float64\n",
       "HEROMOTOCO    float64\n",
       "Length: 101, dtype: object"
      ]
     },
     "execution_count": 9,
     "metadata": {},
     "output_type": "execute_result"
    }
   ],
   "source": [
    "df.dtypes"
   ]
  },
  {
   "cell_type": "code",
   "execution_count": 10,
   "id": "bd032d48",
   "metadata": {
    "execution": {
     "iopub.execute_input": "2024-11-07T12:46:23.225477Z",
     "iopub.status.busy": "2024-11-07T12:46:23.225062Z",
     "iopub.status.idle": "2024-11-07T12:46:23.233511Z",
     "shell.execute_reply": "2024-11-07T12:46:23.232198Z"
    },
    "papermill": {
     "duration": 0.017868,
     "end_time": "2024-11-07T12:46:23.236211",
     "exception": false,
     "start_time": "2024-11-07T12:46:23.218343",
     "status": "completed"
    },
    "tags": []
   },
   "outputs": [],
   "source": [
    "def train_lasso(alpha, X_train, y_train, X_test, y_test):\n",
    "    lasso = Lasso(alpha=alpha, max_iter=1000)\n",
    "    lasso.fit(X_train, y_train)\n",
    "    coef = lasso.coef_\n",
    "    features = X.columns\n",
    "\n",
    "    print(f\"-------alpha: {alpha}-------\")\n",
    "    print(f\"Train Score: {lasso.score(X_train, y_train)}\")\n",
    "    print(f\"Test Score: {lasso.score(X_test, y_test)}\")\n",
    "    \n",
    "    # Create a DataFrame for the coefficients\n",
    "    coef_df = pd.DataFrame({'Stock': features, 'Coefficient': coef})\n",
    "\n",
    "    # Filter for non-zero coefficients\n",
    "    chosen_stocks = coef_df[coef_df['Coefficient'] != 0]['Stock'].values\n",
    "\n",
    "    predicted = lasso.predict(X_test)\n",
    "\n",
    "    track_err = tracking_error(predicted, y_test.values)  \n",
    "\n",
    "    # Get non-zero coefficients\n",
    "    coef = lasso.coef_\n",
    "    features = X.columns\n",
    "    coef_df = pd.DataFrame({'Stock': features, 'Coefficient': coef})    \n",
    "    chosen_stocks = coef_df[coef_df['Coefficient'] != 0]\n",
    "    print(f\"Number of Stocks Chosen: {len(chosen_stocks)}/50\")\n",
    "\n",
    "    return (chosen_stocks, track_err)"
   ]
  },
  {
   "cell_type": "code",
   "execution_count": 11,
   "id": "76704a7e",
   "metadata": {
    "execution": {
     "iopub.execute_input": "2024-11-07T12:46:23.247987Z",
     "iopub.status.busy": "2024-11-07T12:46:23.247546Z",
     "iopub.status.idle": "2024-11-07T12:54:14.635064Z",
     "shell.execute_reply": "2024-11-07T12:54:14.633950Z"
    },
    "papermill": {
     "duration": 471.396018,
     "end_time": "2024-11-07T12:54:14.637327",
     "exception": false,
     "start_time": "2024-11-07T12:46:23.241309",
     "status": "completed"
    },
    "tags": []
   },
   "outputs": [
    {
     "name": "stdout",
     "output_type": "stream",
     "text": [
      "-------alpha: 0.05-------\n",
      "Train Score: 0.9988361021890271\n",
      "Test Score: 0.9988609318875281\n",
      "Number of Stocks Chosen: 100/50\n",
      "-------alpha: 0.1-------\n",
      "Train Score: 0.9988361762115863\n",
      "Test Score: 0.9988610045317371\n",
      "Number of Stocks Chosen: 100/50\n",
      "-------alpha: 0.5-------\n",
      "Train Score: 0.9988367456789886\n",
      "Test Score: 0.9988615624044935\n",
      "Number of Stocks Chosen: 100/50\n",
      "-------alpha: 1-------\n",
      "Train Score: 0.9988374087860125\n",
      "Test Score: 0.9988622096356471\n",
      "Number of Stocks Chosen: 100/50\n",
      "-------alpha: 10-------\n",
      "Train Score: 0.9988412841368143\n",
      "Test Score: 0.9988659173879803\n",
      "Number of Stocks Chosen: 96/50\n",
      "-------alpha: 25-------\n",
      "Train Score: 0.9988461020896665\n",
      "Test Score: 0.9988702420293049\n",
      "Number of Stocks Chosen: 94/50\n",
      "-------alpha: 50-------\n",
      "Train Score: 0.9988447234463268\n",
      "Test Score: 0.9988683361151682\n",
      "Number of Stocks Chosen: 87/50\n"
     ]
    },
    {
     "data": {
      "image/png": "[encoded data removed]",
      "text/plain": [
       "<Figure size 800x600 with 1 Axes>"
      ]
     },
     "metadata": {},
     "output_type": "display_data"
    }
   ],
   "source": [
    "X = df.drop(columns=['NIFTY 50'])\n",
    "y = df['NIFTY 50']\n",
    "\n",
    "X_train, X_test, y_train, y_test = train_test_split(X, y, test_size=0.25, random_state=42)\n",
    "\n",
    "\n",
    "alphas = [0.05, 0.1, 0.5, 1, 10, 25, 50]\n",
    "tracking_errs = []\n",
    "chosen_stocks = []\n",
    "for alpha in alphas:\n",
    "    (stocks, err) = train_lasso(alpha, X_train, y_train, X_test, y_test)\n",
    "    tracking_errs.append(err)\n",
    "    chosen_stocks.append(stocks)\n",
    "\n",
    "plt.figure(figsize=(8, 6))\n",
    "plt.plot(alphas, tracking_errs, marker='o', linestyle='-', color='b')\n",
    "plt.xscale('log')  # Use logarithmic scale for alpha\n",
    "plt.xlabel('Alpha')\n",
    "plt.ylabel('Tracking Error')\n",
    "plt.title('Tracking Error vs Alpha for Lasso Regression')\n",
    "plt.grid(True)\n",
    "plt.show()"
   ]
  },
  {
   "cell_type": "code",
   "execution_count": null,
   "id": "e4e4236b",
   "metadata": {
    "execution": {
     "iopub.execute_input": "2024-11-06T19:04:08.367550Z",
     "iopub.status.busy": "2024-11-06T19:04:08.367117Z",
     "iopub.status.idle": "2024-11-06T19:04:08.375326Z",
     "shell.execute_reply": "2024-11-06T19:04:08.373994Z",
     "shell.execute_reply.started": "2024-11-06T19:04:08.367511Z"
    },
    "papermill": {
     "duration": 0.005711,
     "end_time": "2024-11-07T12:54:14.649221",
     "exception": false,
     "start_time": "2024-11-07T12:54:14.643510",
     "status": "completed"
    },
    "tags": []
   },
   "outputs": [],
   "source": []
  },
  {
   "cell_type": "code",
   "execution_count": null,
   "id": "64c078a1",
   "metadata": {
    "papermill": {
     "duration": 0.005682,
     "end_time": "2024-11-07T12:54:14.660905",
     "exception": false,
     "start_time": "2024-11-07T12:54:14.655223",
     "status": "completed"
    },
    "tags": []
   },
   "outputs": [],
   "source": []
  }
 ],
 "metadata": {
  "kaggle": {
   "accelerator": "none",
   "dataSources": [
    {
     "datasetId": 2490157,
     "sourceId": 5846986,
     "sourceType": "datasetVersion"
    },
    {
     "datasetId": 6024843,
     "sourceId": 9824880,
     "sourceType": "datasetVersion"
    }
   ],
   "dockerImageVersionId": 30786,
   "isGpuEnabled": false,
   "isInternetEnabled": true,
   "language": "python",
   "sourceType": "notebook"
  },
  "kernelspec": {
   "display_name": "Python 3",
   "language": "python",
   "name": "python3"
  },
  "language_info": {
   "codemirror_mode": {
    "name": "ipython",
    "version": 3
   },
   "file_extension": ".py",
   "mimetype": "text/x-python",
   "name": "python",
   "nbconvert_exporter": "python",
   "pygments_lexer": "ipython3",
   "version": "3.10.14"
  },
  "papermill": {
   "default_parameters": {},
   "duration": 494.363294,
   "end_time": "2024-11-07T12:54:15.390327",
   "environment_variables": {},
   "exception": null,
   "input_path": "__notebook__.ipynb",
   "output_path": "__notebook__.ipynb",
   "parameters": {},
   "start_time": "2024-11-07T12:46:01.027033",
   "version": "2.6.0"
  }
 },
 "nbformat": 4,
 "nbformat_minor": 5
}
