{
 "cells": [
  {
   "cell_type": "markdown",
   "id": "de4bb0f8",
   "metadata": {
    "_cell_guid": "b1076dfc-b9ad-4769-8c92-a6c4dae69d19",
    "_uuid": "8f2839f25d086af736a60e9eeb907d3b93b6e0e5",
    "papermill": {
     "duration": 0.007542,
     "end_time": "2024-12-14T13:46:24.747422",
     "exception": false,
     "start_time": "2024-12-14T13:46:24.739880",
     "status": "completed"
    },
    "tags": []
   },
   "source": [
    "# Nifty 50 Partial Replication \n",
    "Index funds have become a household occurence in the financial sphere, especially for retail investors, due to their simplicity, diversification and low cost compared to actively managed funds. Following an index can be done in one of two ways:\n",
    "- **Full replication:** The most common approach, where a fund holds all constituent stocks present in the index, with the same weights as the index.\n",
    "- **Partial Replication:** With this approach, only a subset of the index's constituents is selected, which should aim to approximate the overall index performance.\n",
    "\n",
    "Partial replication can offer a number of benefits over full replication, but mainly:\n",
    "- Lower transaction costs: Reducing the number of stocks traded minimizes fees such as brokerage fees.\n",
    "- Reduced Trading fees: By potentially avoiding low-liquidity stocks, we avoid have wider bid-ask spreads, as well as having less market impact.\n",
    "- Higher flexibility: Funds can add other constraints on top of avoiding low-liquidity stocks, such as those on sectors or specific stocks, giving them better control over their risk management.\n",
    "Our project's goal is to apply supervised learning techniques to develop a partial replication strategy, minimizing the tracking error of our portfolio."
   ]
  },
  {
   "cell_type": "markdown",
   "id": "fd7a5941",
   "metadata": {
    "papermill": {
     "duration": 0.006504,
     "end_time": "2024-12-14T13:46:24.761756",
     "exception": false,
     "start_time": "2024-12-14T13:46:24.755252",
     "status": "completed"
    },
    "tags": []
   },
   "source": [
    "## Methodology\n",
    "The project will focus on the NIFTY 100 index, which includes the top 100 companies in the National Stock Exchange of India (NSE) based on market capitalization. \n",
    "\n",
    "We will begin by gathering the minute-level data for both the index as well as the constituents data. Combining the data into a single dataframe, and perform some basic cleaning tasks, removing certain columns with a large number of empty values, as well as rows without target value, etc. Our target variable will be the **NIFTY 100 index price**.\n",
    "\n",
    "Since our goal is to reduce the number of constituents to use only a subset of the total 100 stocks, our models will follow a 2 step approach:\n",
    "1. Feature Selection: We will first apply different feature selection techniques, (Lasso regression, Correlation matrix, Mutual information) to identify the most relevant stocks for our model.\n",
    "2. Model Training: Once the most relevant features (stocks) are selected, we will train different supervised learning models on the reduced dataset, these models will predict the weights for each of the relevant stocks.\n",
    "To ensure the robustness of the test results, while accounting for the nature of the data (ordered time series) we will use a **sliding window approach**, where:\n",
    "* A fixed-size window (roughly 1-year) is used to train the model.\n",
    "* The model will be tested on roughly the next 3 months.\n",
    "* The window will slide forward, repeating until we use all available data.\n",
    "\n",
    "For a certain model, the overall out-of-sample error will be the average error over all the windows. The error we will aim to minimize is the **tracking error**, for simplicity models will minimize MSE. Finally, we will compare models by plotting the error vs the number of stocks, to visualize how it evolves as we reduce the size of the subset of constituents chosen.\n",
    "\n"
   ]
  },
  {
   "cell_type": "code",
   "execution_count": 1,
   "id": "0aa57fc4",
   "metadata": {
    "execution": {
     "iopub.execute_input": "2024-12-14T13:46:24.777550Z",
     "iopub.status.busy": "2024-12-14T13:46:24.777257Z",
     "iopub.status.idle": "2024-12-14T13:46:27.257246Z",
     "shell.execute_reply": "2024-12-14T13:46:27.256553Z"
    },
    "papermill": {
     "duration": 2.48978,
     "end_time": "2024-12-14T13:46:27.259257",
     "exception": false,
     "start_time": "2024-12-14T13:46:24.769477",
     "status": "completed"
    },
    "tags": []
   },
   "outputs": [],
   "source": [
    "import pandas as pd\n",
    "import numpy as np\n",
    "from sklearn.model_selection import train_test_split\n",
    "from sklearn.linear_model import Lasso, ElasticNet\n",
    "from sklearn.metrics import mean_squared_error, r2_score, make_scorer\n",
    "from sklearn.model_selection import cross_val_score, TimeSeriesSplit, ParameterGrid\n",
    "from sklearn.linear_model import LassoCV\n",
    "import matplotlib.pyplot as plt\n",
    "import os\n",
    "import glob\n",
    "from tqdm import tqdm\n",
    "import warnings\n",
    "from sklearn.ensemble import RandomForestRegressor\n",
    "from sklearn.exceptions import ConvergenceWarning\n",
    "warnings.filterwarnings(\"ignore\")\n",
    "warnings.filterwarnings(\"always\", category=ConvergenceWarning)\n",
    "import seaborn as sns\n",
    "from sklearn.pipeline import Pipeline\n",
    "from mpl_toolkits.mplot3d import Axes3D\n",
    "from sklearn.linear_model import LinearRegression\n",
    "from sklearn.preprocessing import PolynomialFeatures\n",
    "import xgboost as xgb\n",
    "from sklearn.feature_selection import SelectFromModel,mutual_info_regression"
   ]
  },
  {
   "cell_type": "markdown",
   "id": "3d2c5287",
   "metadata": {
    "papermill": {
     "duration": 0.006503,
     "end_time": "2024-12-14T13:46:27.273012",
     "exception": false,
     "start_time": "2024-12-14T13:46:27.266509",
     "status": "completed"
    },
    "tags": []
   },
   "source": [
    "## Tracking Error\n",
    "Tracking error is the metric most commonly used to judge how well a replicating portfolio tracks the benchmark index, for full replication we would expect this to be close to 0 (slightly higher than 0 due to transaction costs or rebalancing delays).\n",
    "\n",
    "The tracking error is defined as the standard deviation of the differences between the index and replicating portfolio over a specified time period.\n",
    "\n",
    "$$\n",
    "\\text{Tracking Error} = \\sqrt{\\frac{\\sum_{t=1}^T \\left( R_{portfolio}(t) - R_{index}(t) \\right)^2}{T}}\n",
    "$$\n",
    "\n",
    "Where: \n",
    "*  $R_{portfolio}(t)$ is the portfolio return at time $t$,  \n",
    "*  $R_{index}(t)$ is the index's return at time $t$,  \n",
    "*  $T$  is the total number of time periods.\n",
    "\n",
    "We base ourselves on this metric, and add a small adjustment, where from the first return of the portfolio, the trading cost is subtracted, this is a simulated trading cost, which we will simply set to 0.2%."
   ]
  },
  {
   "cell_type": "code",
   "execution_count": 2,
   "id": "571816b8",
   "metadata": {
    "execution": {
     "iopub.execute_input": "2024-12-14T13:46:27.287383Z",
     "iopub.status.busy": "2024-12-14T13:46:27.287023Z",
     "iopub.status.idle": "2024-12-14T13:46:27.291524Z",
     "shell.execute_reply": "2024-12-14T13:46:27.290730Z"
    },
    "papermill": {
     "duration": 0.01355,
     "end_time": "2024-12-14T13:46:27.293130",
     "exception": false,
     "start_time": "2024-12-14T13:46:27.279580",
     "status": "completed"
    },
    "tags": []
   },
   "outputs": [],
   "source": [
    "def tracking_error(y_true, y_pred):\n",
    "\n",
    "    # Convert y_true and y_pred to pandas Series for easy handling of pct_change()\n",
    "    y_true = pd.Series(y_true)\n",
    "    y_pred = pd.Series(y_pred)\n",
    "    \n",
    "    # Calculate the difference between the percentage changes\n",
    "    diff_pct_change = y_true - y_pred    \n",
    "\n",
    "    # Return the standard deviation of the differences (tracking error)\n",
    "    return np.std(diff_pct_change.dropna())  # dropna() to avoid NaN values in pct_change"
   ]
  },
  {
   "cell_type": "code",
   "execution_count": 3,
   "id": "460b18ac",
   "metadata": {
    "execution": {
     "iopub.execute_input": "2024-12-14T13:46:27.307625Z",
     "iopub.status.busy": "2024-12-14T13:46:27.307363Z",
     "iopub.status.idle": "2024-12-14T13:46:27.311518Z",
     "shell.execute_reply": "2024-12-14T13:46:27.310724Z"
    },
    "papermill": {
     "duration": 0.013158,
     "end_time": "2024-12-14T13:46:27.313200",
     "exception": false,
     "start_time": "2024-12-14T13:46:27.300042",
     "status": "completed"
    },
    "tags": []
   },
   "outputs": [],
   "source": [
    "def adj_tracking_error(y_true, X_test, model):\n",
    "    cost = 0.002  # 0.2% cost\n",
    "    X_test_adjusted = X_test.copy()\n",
    "    X_test_adjusted[0, :] -= cost  # Subtract cost from the first return of each stock\n",
    "\n",
    "    # Predict with adjustment\n",
    "    y_pred_adjusted = model.predict(X_test_adjusted)\n",
    "    return tracking_error(y_true, y_pred_adjusted)"
   ]
  },
  {
   "cell_type": "markdown",
   "id": "51c31512",
   "metadata": {
    "papermill": {
     "duration": 0.006599,
     "end_time": "2024-12-14T13:46:27.327055",
     "exception": false,
     "start_time": "2024-12-14T13:46:27.320456",
     "status": "completed"
    },
    "tags": []
   },
   "source": [
    "# Data\n",
    "The data for this project will be taken from 2 Kaggle datasets:\n",
    "\n",
    "* [Nifty 100 Constituents](https://www.kaggle.com/datasets/debashis74017/stock-market-data-nifty-50-stocks-1-min-data): This data set will be used to gather price data for all constituents for the NIFTY 100 index. The dataset contains a file per stock, which contains OHLC (Open, High, Low, Close) as well as Volume data.\n",
    "* [Nifty 100 Index Data](https://www.kaggle.com/datasets/debashis74017/nifty-50-minute-data): This data set will be used to get the price data for the NIFTY 100 index price.\n",
    "\n",
    "In order to speed up the execution, an intermediate dataset is created where we keep only closing prices for all stocks, in one single file. This dataset is [Nifty 100 Closing Only Data](https://www.kaggle.com/datasets/danielbrito99/nifty-50-closing-data). The script used to extract this intermediate data, is described in the cell below.\n",
    "\n",
    "As was mentioned before our target variable will be the **NIFTY 100 Index Price**, by training the model with a reduced number of constituents to predict the index price based on that reduced subset, we will obtain weights for each of them. During the testing phase, we will use these weights to evaluate the model's performance and verify how well the selected subset mimics the index price. "
   ]
  },
  {
   "cell_type": "markdown",
   "id": "4aa6b0cc",
   "metadata": {
    "execution": {
     "iopub.execute_input": "2024-12-09T13:33:03.408909Z",
     "iopub.status.busy": "2024-12-09T13:33:03.408616Z",
     "iopub.status.idle": "2024-12-09T13:33:03.420882Z",
     "shell.execute_reply": "2024-12-09T13:33:03.419748Z",
     "shell.execute_reply.started": "2024-12-09T13:33:03.408879Z"
    },
    "papermill": {
     "duration": 0.00648,
     "end_time": "2024-12-14T13:46:27.340194",
     "exception": false,
     "start_time": "2024-12-14T13:46:27.333714",
     "status": "completed"
    },
    "tags": []
   },
   "source": [
    "directory_path = '/kaggle/input/stock-market-data-nifty-50-stocks-1-min-data'\n",
    "pattern = os.path.join(directory_path, \"*.csv\")  # Change \"*.csv\" to match other patterns if needed\n",
    "Get the list of files that match the pattern\n",
    "file_list = glob.glob(pattern)\n",
    "\n",
    "def fetch_data(cols, file_list):\n",
    "    df_list = []\n",
    "    for file in tqdm(file_list):\n",
    "        stock_name = os.path.basename(file).split(\"_\")[0]\n",
    "        file_df = pd.read_csv(file, index_col=0)\n",
    "        file_df = file_df[[cols]]\n",
    "        file_df.columns = pd.MultiIndex.from_product([[stock_name], file_df.columns])\n",
    "        df_list.append(file_df)\n",
    "    return pd.concat(df_list, axis=1)\n",
    "\n",
    "df = fetch_data('close')\n",
    "df.to_csv('/kaggle/input/nifty_50_closing.csv')"
   ]
  },
  {
   "cell_type": "code",
   "execution_count": 4,
   "id": "d6296881",
   "metadata": {
    "execution": {
     "iopub.execute_input": "2024-12-14T13:46:27.354439Z",
     "iopub.status.busy": "2024-12-14T13:46:27.354165Z",
     "iopub.status.idle": "2024-12-14T13:46:44.681990Z",
     "shell.execute_reply": "2024-12-14T13:46:44.681050Z"
    },
    "papermill": {
     "duration": 17.33746,
     "end_time": "2024-12-14T13:46:44.684147",
     "exception": false,
     "start_time": "2024-12-14T13:46:27.346687",
     "status": "completed"
    },
    "tags": []
   },
   "outputs": [
    {
     "name": "stdout",
     "output_type": "stream",
     "text": [
      "Number of rows with NaN values: 639555\n"
     ]
    }
   ],
   "source": [
    "df = pd.read_csv('/kaggle/input/nifty-50-closing-data/nifty_50_closing.csv', index_col=0, header=[0, 1])\n",
    "df = df.xs('close', level=1, axis=1)\n",
    "df.index = pd.to_datetime(df.index)\n",
    "nan_rows = df.isna().any(axis=1)\n",
    "\n",
    "# Get the number of rows with NaN value\n",
    "num_nan_rows = nan_rows.sum()\n",
    "\n",
    "\n",
    "print(f\"Number of rows with NaN values: {num_nan_rows}\")\n",
    "\n",
    "nifty_100_closing = pd.read_csv('/kaggle/input/nifty-50-minute-data/NIFTY 100_minute.csv', index_col=0)[['close']]\n",
    "nifty_100_closing.index = pd.to_datetime(nifty_100_closing.index)\n",
    "nifty_100_closing.rename(columns={'close': 'NIFTY_100'}, inplace=True)"
   ]
  },
  {
   "cell_type": "markdown",
   "id": "627721cd",
   "metadata": {
    "papermill": {
     "duration": 0.007071,
     "end_time": "2024-12-14T13:46:44.699114",
     "exception": false,
     "start_time": "2024-12-14T13:46:44.692043",
     "status": "completed"
    },
    "tags": []
   },
   "source": [
    "## Data Cleaning\n",
    "Our data cleaning will be simple, we will focus on remediating the high number of NaN's present in the dataset.\n",
    "Most importantly, we will focus on sequences of NaN values, which are problematic for our problem, as conventional techniques such as forward fill or interpolation become less effective the longer the period of missing data. Conversely, sparse or isolated NaNs are less of an issue, as they can be effectively substituted using these techniques with minimal loss of information. \n",
    "\n",
    "\n",
    "With this in mind, we perform the following steps:\n",
    "\n",
    "* Remove NIFTY 50 and NIFTY BANK stocks, as they represent indices, not stocks.\n",
    "* To get rid of periods where a large number of stocks all are missing data, we remove the rows with higher than 25 NaNs.\n",
    "* Inspecting the longest NaN period for each column, we will get rid of those columns where the value is large:\n",
    "    * HDFCAMC\n",
    "    * ICICIPRULI\n",
    "    * HDFCLIFE\n",
    "    * GLAND\n",
    "    * ADANIGREEN\n",
    "    * DMART\n",
    "    * ICICIGI\n",
    "    * BANDHANBNK\n",
    "    * INDIGO\n",
    "    * SBILIFE\n",
    "    * LICI\n",
    "    * SBICARD\n",
    "    * LTI\n",
    "*  At this point the number of NaN rows and consecutive NaNs is much lower, so we can use forward fill to populate them with the last know values."
   ]
  },
  {
   "cell_type": "code",
   "execution_count": 5,
   "id": "9319473a",
   "metadata": {
    "execution": {
     "iopub.execute_input": "2024-12-14T13:46:44.713436Z",
     "iopub.status.busy": "2024-12-14T13:46:44.713136Z",
     "iopub.status.idle": "2024-12-14T13:46:44.717481Z",
     "shell.execute_reply": "2024-12-14T13:46:44.716707Z"
    },
    "papermill": {
     "duration": 0.013427,
     "end_time": "2024-12-14T13:46:44.719137",
     "exception": false,
     "start_time": "2024-12-14T13:46:44.705710",
     "status": "completed"
    },
    "tags": []
   },
   "outputs": [],
   "source": [
    "def longest_nan_period(series):\n",
    "    max_nan_period = 0\n",
    "    current_nan_period = 0\n",
    "    for value in series:\n",
    "        if pd.isna(value):\n",
    "            current_nan_period += 1\n",
    "            max_nan_period = max(max_nan_period, current_nan_period)\n",
    "        else:\n",
    "            current_nan_period = 0\n",
    "    return max_nan_period"
   ]
  },
  {
   "cell_type": "code",
   "execution_count": 6,
   "id": "6ad16c21",
   "metadata": {
    "execution": {
     "iopub.execute_input": "2024-12-14T13:46:44.733508Z",
     "iopub.status.busy": "2024-12-14T13:46:44.733055Z",
     "iopub.status.idle": "2024-12-14T13:46:44.805732Z",
     "shell.execute_reply": "2024-12-14T13:46:44.804883Z"
    },
    "papermill": {
     "duration": 0.081462,
     "end_time": "2024-12-14T13:46:44.807178",
     "exception": false,
     "start_time": "2024-12-14T13:46:44.725716",
     "status": "completed"
    },
    "tags": []
   },
   "outputs": [
    {
     "data": {
      "text/html": [
       "<div>\n",
       "<style scoped>\n",
       "    .dataframe tbody tr th:only-of-type {\n",
       "        vertical-align: middle;\n",
       "    }\n",
       "\n",
       "    .dataframe tbody tr th {\n",
       "        vertical-align: top;\n",
       "    }\n",
       "\n",
       "    .dataframe thead th {\n",
       "        text-align: right;\n",
       "    }\n",
       "</style>\n",
       "<table border=\"1\" class=\"dataframe\">\n",
       "  <thead>\n",
       "    <tr style=\"text-align: right;\">\n",
       "      <th></th>\n",
       "      <th>HDFCAMC</th>\n",
       "      <th>APOLLOHOSP</th>\n",
       "      <th>BOSCHLTD</th>\n",
       "      <th>INDUSTOWER</th>\n",
       "      <th>BERGEPAINT</th>\n",
       "      <th>MARICO</th>\n",
       "      <th>ICICIPRULI</th>\n",
       "      <th>HDFCLIFE</th>\n",
       "      <th>SBIN</th>\n",
       "      <th>SUNPHARMA</th>\n",
       "      <th>...</th>\n",
       "      <th>SBICARD</th>\n",
       "      <th>DABUR</th>\n",
       "      <th>SAIL</th>\n",
       "      <th>BRITANNIA</th>\n",
       "      <th>ADANIPORTS</th>\n",
       "      <th>ONGC</th>\n",
       "      <th>EICHERMOT</th>\n",
       "      <th>TECHM</th>\n",
       "      <th>JINDALSTEL</th>\n",
       "      <th>HEROMOTOCO</th>\n",
       "    </tr>\n",
       "    <tr>\n",
       "      <th>date</th>\n",
       "      <th></th>\n",
       "      <th></th>\n",
       "      <th></th>\n",
       "      <th></th>\n",
       "      <th></th>\n",
       "      <th></th>\n",
       "      <th></th>\n",
       "      <th></th>\n",
       "      <th></th>\n",
       "      <th></th>\n",
       "      <th></th>\n",
       "      <th></th>\n",
       "      <th></th>\n",
       "      <th></th>\n",
       "      <th></th>\n",
       "      <th></th>\n",
       "      <th></th>\n",
       "      <th></th>\n",
       "      <th></th>\n",
       "      <th></th>\n",
       "      <th></th>\n",
       "    </tr>\n",
       "  </thead>\n",
       "  <tbody>\n",
       "    <tr>\n",
       "      <th>2018-08-06 10:47:00+05:30</th>\n",
       "      <td>1803.95</td>\n",
       "      <td>974.30</td>\n",
       "      <td>19187.45</td>\n",
       "      <td>290.0</td>\n",
       "      <td>316.85</td>\n",
       "      <td>357.95</td>\n",
       "      <td>408.50</td>\n",
       "      <td>485.00</td>\n",
       "      <td>306.70</td>\n",
       "      <td>579.65</td>\n",
       "      <td>...</td>\n",
       "      <td>NaN</td>\n",
       "      <td>435.30</td>\n",
       "      <td>79.35</td>\n",
       "      <td>3194.92</td>\n",
       "      <td>400.70</td>\n",
       "      <td>167.75</td>\n",
       "      <td>2711.30</td>\n",
       "      <td>670.45</td>\n",
       "      <td>207.65</td>\n",
       "      <td>3259.00</td>\n",
       "    </tr>\n",
       "    <tr>\n",
       "      <th>2018-08-06 10:48:00+05:30</th>\n",
       "      <td>1803.90</td>\n",
       "      <td>973.70</td>\n",
       "      <td>19187.45</td>\n",
       "      <td>290.0</td>\n",
       "      <td>316.50</td>\n",
       "      <td>357.55</td>\n",
       "      <td>408.10</td>\n",
       "      <td>484.95</td>\n",
       "      <td>306.70</td>\n",
       "      <td>579.30</td>\n",
       "      <td>...</td>\n",
       "      <td>NaN</td>\n",
       "      <td>435.15</td>\n",
       "      <td>79.30</td>\n",
       "      <td>3193.02</td>\n",
       "      <td>400.55</td>\n",
       "      <td>167.55</td>\n",
       "      <td>2710.60</td>\n",
       "      <td>670.55</td>\n",
       "      <td>207.80</td>\n",
       "      <td>3260.60</td>\n",
       "    </tr>\n",
       "    <tr>\n",
       "      <th>2018-08-06 10:49:00+05:30</th>\n",
       "      <td>1806.00</td>\n",
       "      <td>973.70</td>\n",
       "      <td>19187.45</td>\n",
       "      <td>290.0</td>\n",
       "      <td>316.85</td>\n",
       "      <td>357.20</td>\n",
       "      <td>408.85</td>\n",
       "      <td>485.00</td>\n",
       "      <td>306.75</td>\n",
       "      <td>579.45</td>\n",
       "      <td>...</td>\n",
       "      <td>NaN</td>\n",
       "      <td>435.70</td>\n",
       "      <td>79.30</td>\n",
       "      <td>3192.50</td>\n",
       "      <td>400.30</td>\n",
       "      <td>167.55</td>\n",
       "      <td>2709.80</td>\n",
       "      <td>670.65</td>\n",
       "      <td>207.55</td>\n",
       "      <td>3259.50</td>\n",
       "    </tr>\n",
       "    <tr>\n",
       "      <th>2018-08-06 10:50:00+05:30</th>\n",
       "      <td>1806.35</td>\n",
       "      <td>974.00</td>\n",
       "      <td>19174.90</td>\n",
       "      <td>290.0</td>\n",
       "      <td>316.80</td>\n",
       "      <td>357.65</td>\n",
       "      <td>408.90</td>\n",
       "      <td>484.10</td>\n",
       "      <td>306.75</td>\n",
       "      <td>578.10</td>\n",
       "      <td>...</td>\n",
       "      <td>NaN</td>\n",
       "      <td>435.65</td>\n",
       "      <td>79.30</td>\n",
       "      <td>3192.67</td>\n",
       "      <td>399.80</td>\n",
       "      <td>167.50</td>\n",
       "      <td>2708.05</td>\n",
       "      <td>670.90</td>\n",
       "      <td>207.90</td>\n",
       "      <td>3258.50</td>\n",
       "    </tr>\n",
       "    <tr>\n",
       "      <th>2018-08-06 10:51:00+05:30</th>\n",
       "      <td>1809.00</td>\n",
       "      <td>975.15</td>\n",
       "      <td>19190.00</td>\n",
       "      <td>290.0</td>\n",
       "      <td>316.80</td>\n",
       "      <td>357.75</td>\n",
       "      <td>408.85</td>\n",
       "      <td>484.20</td>\n",
       "      <td>306.85</td>\n",
       "      <td>578.50</td>\n",
       "      <td>...</td>\n",
       "      <td>NaN</td>\n",
       "      <td>436.00</td>\n",
       "      <td>79.30</td>\n",
       "      <td>3194.02</td>\n",
       "      <td>400.30</td>\n",
       "      <td>167.40</td>\n",
       "      <td>2709.95</td>\n",
       "      <td>671.20</td>\n",
       "      <td>207.80</td>\n",
       "      <td>3258.00</td>\n",
       "    </tr>\n",
       "    <tr>\n",
       "      <th>...</th>\n",
       "      <td>...</td>\n",
       "      <td>...</td>\n",
       "      <td>...</td>\n",
       "      <td>...</td>\n",
       "      <td>...</td>\n",
       "      <td>...</td>\n",
       "      <td>...</td>\n",
       "      <td>...</td>\n",
       "      <td>...</td>\n",
       "      <td>...</td>\n",
       "      <td>...</td>\n",
       "      <td>...</td>\n",
       "      <td>...</td>\n",
       "      <td>...</td>\n",
       "      <td>...</td>\n",
       "      <td>...</td>\n",
       "      <td>...</td>\n",
       "      <td>...</td>\n",
       "      <td>...</td>\n",
       "      <td>...</td>\n",
       "      <td>...</td>\n",
       "    </tr>\n",
       "    <tr>\n",
       "      <th>2022-10-25 12:27:00+05:30</th>\n",
       "      <td>NaN</td>\n",
       "      <td>NaN</td>\n",
       "      <td>NaN</td>\n",
       "      <td>NaN</td>\n",
       "      <td>NaN</td>\n",
       "      <td>NaN</td>\n",
       "      <td>NaN</td>\n",
       "      <td>NaN</td>\n",
       "      <td>NaN</td>\n",
       "      <td>NaN</td>\n",
       "      <td>...</td>\n",
       "      <td>NaN</td>\n",
       "      <td>NaN</td>\n",
       "      <td>NaN</td>\n",
       "      <td>NaN</td>\n",
       "      <td>NaN</td>\n",
       "      <td>NaN</td>\n",
       "      <td>NaN</td>\n",
       "      <td>NaN</td>\n",
       "      <td>NaN</td>\n",
       "      <td>2589.95</td>\n",
       "    </tr>\n",
       "    <tr>\n",
       "      <th>2022-10-25 12:28:00+05:30</th>\n",
       "      <td>NaN</td>\n",
       "      <td>NaN</td>\n",
       "      <td>NaN</td>\n",
       "      <td>NaN</td>\n",
       "      <td>NaN</td>\n",
       "      <td>NaN</td>\n",
       "      <td>NaN</td>\n",
       "      <td>NaN</td>\n",
       "      <td>NaN</td>\n",
       "      <td>NaN</td>\n",
       "      <td>...</td>\n",
       "      <td>NaN</td>\n",
       "      <td>NaN</td>\n",
       "      <td>NaN</td>\n",
       "      <td>NaN</td>\n",
       "      <td>NaN</td>\n",
       "      <td>NaN</td>\n",
       "      <td>NaN</td>\n",
       "      <td>NaN</td>\n",
       "      <td>NaN</td>\n",
       "      <td>2589.30</td>\n",
       "    </tr>\n",
       "    <tr>\n",
       "      <th>2022-10-25 12:29:00+05:30</th>\n",
       "      <td>NaN</td>\n",
       "      <td>NaN</td>\n",
       "      <td>NaN</td>\n",
       "      <td>NaN</td>\n",
       "      <td>NaN</td>\n",
       "      <td>NaN</td>\n",
       "      <td>NaN</td>\n",
       "      <td>NaN</td>\n",
       "      <td>NaN</td>\n",
       "      <td>NaN</td>\n",
       "      <td>...</td>\n",
       "      <td>NaN</td>\n",
       "      <td>NaN</td>\n",
       "      <td>NaN</td>\n",
       "      <td>NaN</td>\n",
       "      <td>NaN</td>\n",
       "      <td>NaN</td>\n",
       "      <td>NaN</td>\n",
       "      <td>NaN</td>\n",
       "      <td>NaN</td>\n",
       "      <td>2590.20</td>\n",
       "    </tr>\n",
       "    <tr>\n",
       "      <th>2022-10-25 12:30:00+05:30</th>\n",
       "      <td>NaN</td>\n",
       "      <td>NaN</td>\n",
       "      <td>NaN</td>\n",
       "      <td>NaN</td>\n",
       "      <td>NaN</td>\n",
       "      <td>NaN</td>\n",
       "      <td>NaN</td>\n",
       "      <td>NaN</td>\n",
       "      <td>NaN</td>\n",
       "      <td>NaN</td>\n",
       "      <td>...</td>\n",
       "      <td>NaN</td>\n",
       "      <td>NaN</td>\n",
       "      <td>NaN</td>\n",
       "      <td>NaN</td>\n",
       "      <td>NaN</td>\n",
       "      <td>NaN</td>\n",
       "      <td>NaN</td>\n",
       "      <td>NaN</td>\n",
       "      <td>NaN</td>\n",
       "      <td>2591.00</td>\n",
       "    </tr>\n",
       "    <tr>\n",
       "      <th>2022-10-25 12:31:00+05:30</th>\n",
       "      <td>NaN</td>\n",
       "      <td>NaN</td>\n",
       "      <td>NaN</td>\n",
       "      <td>NaN</td>\n",
       "      <td>NaN</td>\n",
       "      <td>NaN</td>\n",
       "      <td>NaN</td>\n",
       "      <td>NaN</td>\n",
       "      <td>NaN</td>\n",
       "      <td>NaN</td>\n",
       "      <td>...</td>\n",
       "      <td>NaN</td>\n",
       "      <td>NaN</td>\n",
       "      <td>NaN</td>\n",
       "      <td>NaN</td>\n",
       "      <td>NaN</td>\n",
       "      <td>NaN</td>\n",
       "      <td>NaN</td>\n",
       "      <td>NaN</td>\n",
       "      <td>NaN</td>\n",
       "      <td>2591.00</td>\n",
       "    </tr>\n",
       "  </tbody>\n",
       "</table>\n",
       "<p>677188 rows × 101 columns</p>\n",
       "</div>"
      ],
      "text/plain": [
       "                           HDFCAMC  APOLLOHOSP  BOSCHLTD  INDUSTOWER  \\\n",
       "date                                                                   \n",
       "2018-08-06 10:47:00+05:30  1803.95      974.30  19187.45       290.0   \n",
       "2018-08-06 10:48:00+05:30  1803.90      973.70  19187.45       290.0   \n",
       "2018-08-06 10:49:00+05:30  1806.00      973.70  19187.45       290.0   \n",
       "2018-08-06 10:50:00+05:30  1806.35      974.00  19174.90       290.0   \n",
       "2018-08-06 10:51:00+05:30  1809.00      975.15  19190.00       290.0   \n",
       "...                            ...         ...       ...         ...   \n",
       "2022-10-25 12:27:00+05:30      NaN         NaN       NaN         NaN   \n",
       "2022-10-25 12:28:00+05:30      NaN         NaN       NaN         NaN   \n",
       "2022-10-25 12:29:00+05:30      NaN         NaN       NaN         NaN   \n",
       "2022-10-25 12:30:00+05:30      NaN         NaN       NaN         NaN   \n",
       "2022-10-25 12:31:00+05:30      NaN         NaN       NaN         NaN   \n",
       "\n",
       "                           BERGEPAINT  MARICO  ICICIPRULI  HDFCLIFE    SBIN  \\\n",
       "date                                                                          \n",
       "2018-08-06 10:47:00+05:30      316.85  357.95      408.50    485.00  306.70   \n",
       "2018-08-06 10:48:00+05:30      316.50  357.55      408.10    484.95  306.70   \n",
       "2018-08-06 10:49:00+05:30      316.85  357.20      408.85    485.00  306.75   \n",
       "2018-08-06 10:50:00+05:30      316.80  357.65      408.90    484.10  306.75   \n",
       "2018-08-06 10:51:00+05:30      316.80  357.75      408.85    484.20  306.85   \n",
       "...                               ...     ...         ...       ...     ...   \n",
       "2022-10-25 12:27:00+05:30         NaN     NaN         NaN       NaN     NaN   \n",
       "2022-10-25 12:28:00+05:30         NaN     NaN         NaN       NaN     NaN   \n",
       "2022-10-25 12:29:00+05:30         NaN     NaN         NaN       NaN     NaN   \n",
       "2022-10-25 12:30:00+05:30         NaN     NaN         NaN       NaN     NaN   \n",
       "2022-10-25 12:31:00+05:30         NaN     NaN         NaN       NaN     NaN   \n",
       "\n",
       "                           SUNPHARMA  ...  SBICARD   DABUR   SAIL  BRITANNIA  \\\n",
       "date                                  ...                                      \n",
       "2018-08-06 10:47:00+05:30     579.65  ...      NaN  435.30  79.35    3194.92   \n",
       "2018-08-06 10:48:00+05:30     579.30  ...      NaN  435.15  79.30    3193.02   \n",
       "2018-08-06 10:49:00+05:30     579.45  ...      NaN  435.70  79.30    3192.50   \n",
       "2018-08-06 10:50:00+05:30     578.10  ...      NaN  435.65  79.30    3192.67   \n",
       "2018-08-06 10:51:00+05:30     578.50  ...      NaN  436.00  79.30    3194.02   \n",
       "...                              ...  ...      ...     ...    ...        ...   \n",
       "2022-10-25 12:27:00+05:30        NaN  ...      NaN     NaN    NaN        NaN   \n",
       "2022-10-25 12:28:00+05:30        NaN  ...      NaN     NaN    NaN        NaN   \n",
       "2022-10-25 12:29:00+05:30        NaN  ...      NaN     NaN    NaN        NaN   \n",
       "2022-10-25 12:30:00+05:30        NaN  ...      NaN     NaN    NaN        NaN   \n",
       "2022-10-25 12:31:00+05:30        NaN  ...      NaN     NaN    NaN        NaN   \n",
       "\n",
       "                           ADANIPORTS    ONGC  EICHERMOT   TECHM  JINDALSTEL  \\\n",
       "date                                                                           \n",
       "2018-08-06 10:47:00+05:30      400.70  167.75    2711.30  670.45      207.65   \n",
       "2018-08-06 10:48:00+05:30      400.55  167.55    2710.60  670.55      207.80   \n",
       "2018-08-06 10:49:00+05:30      400.30  167.55    2709.80  670.65      207.55   \n",
       "2018-08-06 10:50:00+05:30      399.80  167.50    2708.05  670.90      207.90   \n",
       "2018-08-06 10:51:00+05:30      400.30  167.40    2709.95  671.20      207.80   \n",
       "...                               ...     ...        ...     ...         ...   \n",
       "2022-10-25 12:27:00+05:30         NaN     NaN        NaN     NaN         NaN   \n",
       "2022-10-25 12:28:00+05:30         NaN     NaN        NaN     NaN         NaN   \n",
       "2022-10-25 12:29:00+05:30         NaN     NaN        NaN     NaN         NaN   \n",
       "2022-10-25 12:30:00+05:30         NaN     NaN        NaN     NaN         NaN   \n",
       "2022-10-25 12:31:00+05:30         NaN     NaN        NaN     NaN         NaN   \n",
       "\n",
       "                           HEROMOTOCO  \n",
       "date                                   \n",
       "2018-08-06 10:47:00+05:30     3259.00  \n",
       "2018-08-06 10:48:00+05:30     3260.60  \n",
       "2018-08-06 10:49:00+05:30     3259.50  \n",
       "2018-08-06 10:50:00+05:30     3258.50  \n",
       "2018-08-06 10:51:00+05:30     3258.00  \n",
       "...                               ...  \n",
       "2022-10-25 12:27:00+05:30     2589.95  \n",
       "2022-10-25 12:28:00+05:30     2589.30  \n",
       "2022-10-25 12:29:00+05:30     2590.20  \n",
       "2022-10-25 12:30:00+05:30     2591.00  \n",
       "2022-10-25 12:31:00+05:30     2591.00  \n",
       "\n",
       "[677188 rows x 101 columns]"
      ]
     },
     "execution_count": 6,
     "metadata": {},
     "output_type": "execute_result"
    }
   ],
   "source": [
    "df"
   ]
  },
  {
   "cell_type": "code",
   "execution_count": 7,
   "id": "9fab156f",
   "metadata": {
    "execution": {
     "iopub.execute_input": "2024-12-14T13:46:44.824385Z",
     "iopub.status.busy": "2024-12-14T13:46:44.823783Z",
     "iopub.status.idle": "2024-12-14T13:46:44.981398Z",
     "shell.execute_reply": "2024-12-14T13:46:44.980710Z"
    },
    "papermill": {
     "duration": 0.168864,
     "end_time": "2024-12-14T13:46:44.983380",
     "exception": false,
     "start_time": "2024-12-14T13:46:44.814516",
     "status": "completed"
    },
    "tags": []
   },
   "outputs": [],
   "source": [
    "df.drop(columns=['NIFTY 50', 'NIFTY BANK'], inplace=True)"
   ]
  },
  {
   "cell_type": "code",
   "execution_count": 8,
   "id": "9ef5c90e",
   "metadata": {
    "execution": {
     "iopub.execute_input": "2024-12-14T13:46:44.999457Z",
     "iopub.status.busy": "2024-12-14T13:46:44.999175Z",
     "iopub.status.idle": "2024-12-14T13:46:45.344211Z",
     "shell.execute_reply": "2024-12-14T13:46:45.343482Z"
    },
    "papermill": {
     "duration": 0.355207,
     "end_time": "2024-12-14T13:46:45.346138",
     "exception": false,
     "start_time": "2024-12-14T13:46:44.990931",
     "status": "completed"
    },
    "tags": []
   },
   "outputs": [],
   "source": [
    "# Removing rows with more than 25 stocks without data\n",
    "nan_counts = df.isna().sum(axis=1)\n",
    "df = df[nan_counts <= 25]"
   ]
  },
  {
   "cell_type": "code",
   "execution_count": 9,
   "id": "3c854b45",
   "metadata": {
    "execution": {
     "iopub.execute_input": "2024-12-14T13:46:45.362005Z",
     "iopub.status.busy": "2024-12-14T13:46:45.361737Z",
     "iopub.status.idle": "2024-12-14T13:47:08.551791Z",
     "shell.execute_reply": "2024-12-14T13:47:08.550728Z"
    },
    "papermill": {
     "duration": 23.200012,
     "end_time": "2024-12-14T13:47:08.553716",
     "exception": false,
     "start_time": "2024-12-14T13:46:45.353704",
     "status": "completed"
    },
    "tags": []
   },
   "outputs": [
    {
     "name": "stdout",
     "output_type": "stream",
     "text": [
      "Longest period of NaN values in column HDFCAMC: 305198 periods\n",
      "Longest period of NaN values in column APOLLOHOSP: 1 periods\n",
      "Longest period of NaN values in column BOSCHLTD: 3 periods\n",
      "Longest period of NaN values in column INDUSTOWER: 1 periods\n",
      "Longest period of NaN values in column BERGEPAINT: 1 periods\n",
      "Longest period of NaN values in column MARICO: 0 periods\n",
      "Longest period of NaN values in column ICICIPRULI: 144000 periods\n",
      "Longest period of NaN values in column HDFCLIFE: 242175 periods\n",
      "Longest period of NaN values in column SBIN: 0 periods\n",
      "Longest period of NaN values in column SUNPHARMA: 0 periods\n",
      "Longest period of NaN values in column COALINDIA: 0 periods\n",
      "Longest period of NaN values in column WIPRO: 1 periods\n",
      "Longest period of NaN values in column BAJAJ-AUTO: 1 periods\n",
      "Longest period of NaN values in column GODREJCP: 1 periods\n",
      "Longest period of NaN values in column UPL: 0 periods\n",
      "Longest period of NaN values in column SIEMENS: 0 periods\n",
      "Longest period of NaN values in column BPCL: 0 periods\n",
      "Longest period of NaN values in column TATAMOTORS: 0 periods\n",
      "Longest period of NaN values in column BANKBARODA: 0 periods\n",
      "Longest period of NaN values in column GAIL: 0 periods\n",
      "Longest period of NaN values in column HDFCBANK: 0 periods\n",
      "Longest period of NaN values in column BHARTIARTL: 1 periods\n",
      "Longest period of NaN values in column NMDC: 1 periods\n",
      "Longest period of NaN values in column INDUSINDBK: 1 periods\n",
      "Longest period of NaN values in column NTPC: 0 periods\n",
      "Longest period of NaN values in column JSWSTEEL: 375 periods\n",
      "Longest period of NaN values in column HCLTECH: 0 periods\n",
      "Longest period of NaN values in column AMBUJACEM: 375 periods\n",
      "Longest period of NaN values in column YESBANK: 7 periods\n",
      "Longest period of NaN values in column PNB: 0 periods\n",
      "Longest period of NaN values in column NESTLEIND: 2 periods\n",
      "Longest period of NaN values in column TORNTPHARM: 2 periods\n",
      "Longest period of NaN values in column NAUKRI: 11 periods\n",
      "Longest period of NaN values in column ULTRACEMCO: 0 periods\n",
      "Longest period of NaN values in column PIDILITIND: 1 periods\n",
      "Longest period of NaN values in column BAJAJHLDNG: 9 periods\n",
      "Longest period of NaN values in column HINDALCO: 0 periods\n",
      "Longest period of NaN values in column IOC: 375 periods\n",
      "Longest period of NaN values in column ADANIENT: 375 periods\n",
      "Longest period of NaN values in column MUTHOOTFIN: 6 periods\n",
      "Longest period of NaN values in column TATACONSUM: 1 periods\n",
      "Longest period of NaN values in column ICICIBANK: 1 periods\n",
      "Longest period of NaN values in column POWERGRID: 0 periods\n",
      "Longest period of NaN values in column SHREECEM: 5 periods\n",
      "Longest period of NaN values in column HAVELLS: 0 periods\n",
      "Longest period of NaN values in column GLAND: 305198 periods\n",
      "Longest period of NaN values in column DRREDDY: 0 periods\n",
      "Longest period of NaN values in column MCDOWELL-N: 1 periods\n",
      "Longest period of NaN values in column ITC: 375 periods\n",
      "Longest period of NaN values in column LUPIN: 1 periods\n",
      "Longest period of NaN values in column IGL: 375 periods\n",
      "Longest period of NaN values in column COLPAL: 1 periods\n",
      "Longest period of NaN values in column VEDL: 1 periods\n",
      "Longest period of NaN values in column BAJFINANCE: 2 periods\n",
      "Longest period of NaN values in column AUROPHARMA: 1 periods\n",
      "Longest period of NaN values in column ADANIGREEN: 292800 periods\n",
      "Longest period of NaN values in column BAJAJFINSV: 2 periods\n",
      "Longest period of NaN values in column LT: 375 periods\n",
      "Longest period of NaN values in column RELIANCE: 0 periods\n",
      "Longest period of NaN values in column PIIND: 7 periods\n",
      "Longest period of NaN values in column HINDPETRO: 375 periods\n",
      "Longest period of NaN values in column CIPLA: 1 periods\n",
      "Longest period of NaN values in column INFY: 0 periods\n",
      "Longest period of NaN values in column CHOLAFIN: 18 periods\n",
      "Longest period of NaN values in column PGHH: 43 periods\n",
      "Longest period of NaN values in column TITAN: 0 periods\n",
      "Longest period of NaN values in column ACC: 375 periods\n",
      "Longest period of NaN values in column PEL: 28 periods\n",
      "Longest period of NaN values in column KOTAKBANK: 375 periods\n",
      "Longest period of NaN values in column DMART: 184560 periods\n",
      "Longest period of NaN values in column TATASTEEL: 0 periods\n",
      "Longest period of NaN values in column HINDUNILVR: 0 periods\n",
      "Longest period of NaN values in column DIVISLAB: 1 periods\n",
      "Longest period of NaN values in column TCS: 0 periods\n",
      "Longest period of NaN values in column DLF: 0 periods\n",
      "Longest period of NaN values in column ICICIGI: 230115 periods\n",
      "Longest period of NaN values in column MM: 375 periods\n",
      "Longest period of NaN values in column HDFC: 0 periods\n",
      "Longest period of NaN values in column INDIGO: 68212 periods\n",
      "Longest period of NaN values in column BANDHANBNK: 272925 periods\n",
      "Longest period of NaN values in column AXISBANK: 1 periods\n",
      "Longest period of NaN values in column LTI: 127125 periods\n",
      "Longest period of NaN values in column GRASIM: 29 periods\n",
      "Longest period of NaN values in column JUBLFOOD: 1 periods\n",
      "Longest period of NaN values in column SBILIFE: 231240 periods\n",
      "Longest period of NaN values in column MARUTI: 0 periods\n",
      "Longest period of NaN values in column ASIANPAINT: 0 periods\n",
      "Longest period of NaN values in column BIOCON: 0 periods\n",
      "Longest period of NaN values in column LICI: 327223 periods\n",
      "Longest period of NaN values in column SBICARD: 305197 periods\n",
      "Longest period of NaN values in column DABUR: 1 periods\n",
      "Longest period of NaN values in column SAIL: 1 periods\n",
      "Longest period of NaN values in column BRITANNIA: 1 periods\n",
      "Longest period of NaN values in column ADANIPORTS: 0 periods\n",
      "Longest period of NaN values in column ONGC: 0 periods\n",
      "Longest period of NaN values in column EICHERMOT: 0 periods\n",
      "Longest period of NaN values in column TECHM: 0 periods\n",
      "Longest period of NaN values in column JINDALSTEL: 0 periods\n",
      "Longest period of NaN values in column HEROMOTOCO: 1 periods\n"
     ]
    }
   ],
   "source": [
    "# Now we observe per column, the longest period with NaN values\n",
    "longest_nan_periods = {column: longest_nan_period(df[column]) for column in df.columns}\n",
    "\n",
    "# Print the longest NaN period for each column\n",
    "for column, period in longest_nan_periods.items():\n",
    "    print(f\"Longest period of NaN values in column {column}: {period} periods\")"
   ]
  },
  {
   "cell_type": "code",
   "execution_count": 10,
   "id": "255d4716",
   "metadata": {
    "execution": {
     "iopub.execute_input": "2024-12-14T13:47:08.570123Z",
     "iopub.status.busy": "2024-12-14T13:47:08.569330Z",
     "iopub.status.idle": "2024-12-14T13:47:08.709745Z",
     "shell.execute_reply": "2024-12-14T13:47:08.709049Z"
    },
    "papermill": {
     "duration": 0.150493,
     "end_time": "2024-12-14T13:47:08.711792",
     "exception": false,
     "start_time": "2024-12-14T13:47:08.561299",
     "status": "completed"
    },
    "tags": []
   },
   "outputs": [],
   "source": [
    "df.drop(columns=['HDFCAMC', 'ICICIPRULI', 'HDFCLIFE', 'GLAND', 'ADANIGREEN', 'LTI', 'SBICARD',\n",
    "                 'DMART','ICICIGI','BANDHANBNK','INDIGO','SBILIFE','LICI'], inplace=True)"
   ]
  },
  {
   "cell_type": "code",
   "execution_count": 11,
   "id": "1335d0c5",
   "metadata": {
    "execution": {
     "iopub.execute_input": "2024-12-14T13:47:08.727878Z",
     "iopub.status.busy": "2024-12-14T13:47:08.727594Z",
     "iopub.status.idle": "2024-12-14T13:47:08.782877Z",
     "shell.execute_reply": "2024-12-14T13:47:08.782056Z"
    },
    "papermill": {
     "duration": 0.064888,
     "end_time": "2024-12-14T13:47:08.784481",
     "exception": false,
     "start_time": "2024-12-14T13:47:08.719593",
     "status": "completed"
    },
    "tags": []
   },
   "outputs": [
    {
     "name": "stdout",
     "output_type": "stream",
     "text": [
      "Number of rows with NaN values: 30836\n"
     ]
    }
   ],
   "source": [
    "# Get the number of rows with NaN values\n",
    "nan_rows = df.isna().any(axis=1)\n",
    "num_nan_rows = nan_rows.sum()\n",
    "print(f\"Number of rows with NaN values: {num_nan_rows}\")"
   ]
  },
  {
   "cell_type": "code",
   "execution_count": 12,
   "id": "62322b21",
   "metadata": {
    "execution": {
     "iopub.execute_input": "2024-12-14T13:47:08.800208Z",
     "iopub.status.busy": "2024-12-14T13:47:08.799965Z",
     "iopub.status.idle": "2024-12-14T13:47:09.020281Z",
     "shell.execute_reply": "2024-12-14T13:47:09.019570Z"
    },
    "papermill": {
     "duration": 0.230361,
     "end_time": "2024-12-14T13:47:09.022304",
     "exception": false,
     "start_time": "2024-12-14T13:47:08.791943",
     "status": "completed"
    },
    "tags": []
   },
   "outputs": [],
   "source": [
    "# Drop rows that still have NaNs in place\n",
    "df.dropna(inplace=True)"
   ]
  },
  {
   "cell_type": "code",
   "execution_count": 13,
   "id": "b17d84f9",
   "metadata": {
    "execution": {
     "iopub.execute_input": "2024-12-14T13:47:09.039088Z",
     "iopub.status.busy": "2024-12-14T13:47:09.038506Z",
     "iopub.status.idle": "2024-12-14T13:47:09.286106Z",
     "shell.execute_reply": "2024-12-14T13:47:09.285412Z"
    },
    "papermill": {
     "duration": 0.258051,
     "end_time": "2024-12-14T13:47:09.288281",
     "exception": false,
     "start_time": "2024-12-14T13:47:09.030230",
     "status": "completed"
    },
    "tags": []
   },
   "outputs": [],
   "source": [
    "df.index = df.index.tz_localize(None)\n",
    "df_total = df.join(nifty_100_closing, how='left')"
   ]
  },
  {
   "cell_type": "code",
   "execution_count": 14,
   "id": "93536bc8",
   "metadata": {
    "execution": {
     "iopub.execute_input": "2024-12-14T13:47:09.304979Z",
     "iopub.status.busy": "2024-12-14T13:47:09.304723Z",
     "iopub.status.idle": "2024-12-14T13:47:09.522903Z",
     "shell.execute_reply": "2024-12-14T13:47:09.522171Z"
    },
    "papermill": {
     "duration": 0.228877,
     "end_time": "2024-12-14T13:47:09.524973",
     "exception": false,
     "start_time": "2024-12-14T13:47:09.296096",
     "status": "completed"
    },
    "tags": []
   },
   "outputs": [],
   "source": [
    "df_total.dropna(inplace=True)"
   ]
  },
  {
   "cell_type": "code",
   "execution_count": 15,
   "id": "e9cd3ab8",
   "metadata": {
    "execution": {
     "iopub.execute_input": "2024-12-14T13:47:09.541583Z",
     "iopub.status.busy": "2024-12-14T13:47:09.541287Z",
     "iopub.status.idle": "2024-12-14T13:47:11.189968Z",
     "shell.execute_reply": "2024-12-14T13:47:11.188880Z"
    },
    "papermill": {
     "duration": 1.662043,
     "end_time": "2024-12-14T13:47:11.195019",
     "exception": false,
     "start_time": "2024-12-14T13:47:09.532976",
     "status": "completed"
    },
    "tags": []
   },
   "outputs": [
    {
     "name": "stdout",
     "output_type": "stream",
     "text": [
      "Number of rows with large changes (>100.0%): 42\n"
     ]
    }
   ],
   "source": [
    "# Calculate the percentage change\n",
    "X_pct_change = df_total.pct_change()\n",
    "\n",
    "# Define the threshold for large changes (e.g., 100% change)\n",
    "threshold = 1.0  # 1.0 corresponds to 100% when working with pct_change()\n",
    "\n",
    "# Find rows with any column having a percentage change greater than the threshold\n",
    "large_change_rows = X_pct_change[(X_pct_change.abs() > threshold).any(axis=1)]\n",
    "\n",
    "# Get the number of rows where there are large percentage changes\n",
    "num_large_changes = large_change_rows.shape[0]\n",
    "\n",
    "print(f\"Number of rows with large changes (>{threshold * 100}%): {num_large_changes}\")"
   ]
  },
  {
   "cell_type": "code",
   "execution_count": 16,
   "id": "51ff7990",
   "metadata": {
    "execution": {
     "iopub.execute_input": "2024-12-14T13:47:11.216991Z",
     "iopub.status.busy": "2024-12-14T13:47:11.216654Z",
     "iopub.status.idle": "2024-12-14T13:47:11.221429Z",
     "shell.execute_reply": "2024-12-14T13:47:11.220321Z"
    },
    "papermill": {
     "duration": 0.014984,
     "end_time": "2024-12-14T13:47:11.223098",
     "exception": false,
     "start_time": "2024-12-14T13:47:11.208114",
     "status": "completed"
    },
    "tags": []
   },
   "outputs": [
    {
     "name": "stdout",
     "output_type": "stream",
     "text": [
      "629791\n"
     ]
    }
   ],
   "source": [
    "print(len(df_total))"
   ]
  },
  {
   "cell_type": "code",
   "execution_count": 17,
   "id": "7f8c2c53",
   "metadata": {
    "execution": {
     "iopub.execute_input": "2024-12-14T13:47:11.239666Z",
     "iopub.status.busy": "2024-12-14T13:47:11.239046Z",
     "iopub.status.idle": "2024-12-14T13:47:11.437449Z",
     "shell.execute_reply": "2024-12-14T13:47:11.436559Z"
    },
    "papermill": {
     "duration": 0.208852,
     "end_time": "2024-12-14T13:47:11.439460",
     "exception": false,
     "start_time": "2024-12-14T13:47:11.230608",
     "status": "completed"
    },
    "tags": []
   },
   "outputs": [],
   "source": [
    "df_total.sort_index(inplace=True)"
   ]
  },
  {
   "cell_type": "markdown",
   "id": "27f4c810",
   "metadata": {
    "papermill": {
     "duration": 0.007527,
     "end_time": "2024-12-14T13:47:11.454983",
     "exception": false,
     "start_time": "2024-12-14T13:47:11.447456",
     "status": "completed"
    },
    "tags": []
   },
   "source": [
    "# Models\n",
    "\n",
    "Firstly, let's explain the general architecture of the model, firstly, we must understand the pitfalls of using time series data, and how it affects our choice of cross validation strategy. Since the order of data must be preserved, we cannot use a conventional cross validation, and rather opt for a TimeSeriesSplit, specifically, we set the training and test sizes of the window, to get the desired sliding window result, where the training window is roughly 1 year, and the testing widnow around 3 months, this yields a total of 18 windows.\n",
    "\n",
    "Knowing this, we propose the following general architecture, for a given model and threshold:\n",
    "\n",
    "For each fold:\n",
    "\n",
    "1. Perform feature selection (ex: Lasso with high alpha, Dropping Correlated variables, Mutual Information) using the threshold.\n",
    "2. Train model on reduced feature space, with hyperparameter tuning to choose best parameters.\n",
    "3. Save the tracking error and number of features (stocks) used in training\n",
    "\n",
    "Finally, we return the following averages over the folds\n",
    "* Average number of stocks.\n",
    "* Average tracking error.\n",
    "\n",
    "We will observe how different models (LinearRegression, ElasticNet, XGBRegressor and RandomForestRegressor) produce predictions and produce a plot for the average tracking error against the average number of stocks."
   ]
  },
  {
   "cell_type": "markdown",
   "id": "659aa2af",
   "metadata": {
    "papermill": {
     "duration": 0.007431,
     "end_time": "2024-12-14T13:47:11.469896",
     "exception": false,
     "start_time": "2024-12-14T13:47:11.462465",
     "status": "completed"
    },
    "tags": []
   },
   "source": [
    "## Correlation - Lasso"
   ]
  },
  {
   "cell_type": "code",
   "execution_count": 18,
   "id": "a7f6e93c",
   "metadata": {
    "execution": {
     "iopub.execute_input": "2024-12-14T13:47:11.486718Z",
     "iopub.status.busy": "2024-12-14T13:47:11.485904Z",
     "iopub.status.idle": "2024-12-14T13:47:11.492991Z",
     "shell.execute_reply": "2024-12-14T13:47:11.492241Z"
    },
    "papermill": {
     "duration": 0.0174,
     "end_time": "2024-12-14T13:47:11.494703",
     "exception": false,
     "start_time": "2024-12-14T13:47:11.477303",
     "status": "completed"
    },
    "tags": []
   },
   "outputs": [],
   "source": [
    "def remove_correlated_features(X_train, threshold):\n",
    "    X_train = pd.DataFrame(X_train)\n",
    "    \n",
    "    # Compute the correlation matrix (absolute values)\n",
    "    corr_matrix = X_train.corr().abs()\n",
    "    \n",
    "    # Create a mask to select only the upper triangle of the correlation matrix\n",
    "    upper_triangle = corr_matrix.where(np.triu(np.ones(corr_matrix.shape), k=1).astype(bool))\n",
    "    \n",
    "    # Find features with correlation greater than the threshold\n",
    "    to_drop = [column for column in upper_triangle.columns if any(upper_triangle[column] > threshold)]\n",
    "    print(f\"Features to drop (correlation > {threshold}): {to_drop}\")\n",
    "    selected_features = [i for i in range(X_train.shape[1]) if i not in to_drop]\n",
    "    \n",
    "    return selected_features\n",
    "    "
   ]
  },
  {
   "cell_type": "code",
   "execution_count": 19,
   "id": "9cdfc837",
   "metadata": {
    "execution": {
     "iopub.execute_input": "2024-12-14T13:47:11.511207Z",
     "iopub.status.busy": "2024-12-14T13:47:11.510719Z",
     "iopub.status.idle": "2024-12-14T13:47:11.522634Z",
     "shell.execute_reply": "2024-12-14T13:47:11.521955Z"
    },
    "papermill": {
     "duration": 0.022174,
     "end_time": "2024-12-14T13:47:11.524256",
     "exception": false,
     "start_time": "2024-12-14T13:47:11.502082",
     "status": "completed"
    },
    "tags": []
   },
   "outputs": [],
   "source": [
    "from sklearn.preprocessing import StandardScaler\n",
    "\n",
    "\n",
    "def Corr_Lasso(threshold, X, y, debug=False):\n",
    "    tscv = TimeSeriesSplit(n_splits=13, max_train_size=85000, test_size=45000)\n",
    "    stocks = []\n",
    "    num_stocks = []\n",
    "    fold_scores = []\n",
    "    adj_fold_scores = []\n",
    "\n",
    "    for train_index, test_index in tscv.split(X):\n",
    "        X_train_cv, X_test_cv = X.iloc[train_index], X.iloc[test_index]\n",
    "        y_train_cv, y_test_cv = y.iloc[train_index], y.iloc[test_index]\n",
    "        scaler = StandardScaler()\n",
    "        X_scaled = scaler.fit_transform(X_train_cv)\n",
    "\n",
    "        # Feature selection using correlation matrix\n",
    "        selected_indices = remove_correlated_features(X_scaled, threshold)\n",
    "\n",
    "        X_train_selected = X_scaled[:, selected_indices]\n",
    "        X_test_selected = X_test_cv.to_numpy()[:, selected_indices]\n",
    "        if debug == True:\n",
    "            print(f\"Selected {len(selected_indices)} stocks\")\n",
    "        num_stocks.append(len(selected_indices))\n",
    "        stocks.append(selected_indices)\n",
    "\n",
    "        best_alpha = None\n",
    "        best_score = float('inf')  # Assuming lower is better for your metric\n",
    "        for alph in [0.0001, 0.00025, 0.0005, 0.00075, 0.001, 0.002, 0.0025]:\n",
    "            lasso = Lasso(alpha=alph, max_iter=15000)\n",
    "            lasso.fit(X_train_selected, y_train_cv)\n",
    "            y_pred = lasso.predict(X_test_selected)\n",
    "            fold_score = tracking_error(y_test_cv.values, y_pred)\n",
    "            adj_fold_score = adj_tracking_error(y_test_cv.values, X_test_selected, lasso)\n",
    "            \n",
    "            if fold_score < best_score:\n",
    "                best_score = fold_score\n",
    "                best_alpha = alph\n",
    "\n",
    "        print(f\"Best Alpha for this fold: {best_alpha}, Best Fold Score: {best_score}\")\n",
    "        fold_scores.append(best_score)\n",
    "        adj_fold_scores.append(adj_fold_score)\n",
    "\n",
    "    # Calculate the average score across all folds\n",
    "    average_score = np.mean(fold_scores)\n",
    "    average_adj_score = np.mean(adj_fold_scores)\n",
    "\n",
    "    # Get average stocks chosen over all folds\n",
    "    average_selected_features = np.mean(num_stocks)\n",
    "\n",
    "    # Print the tracking error for this alpha\n",
    "    print(f\"Threshold: {threshold}, Tracking Error: {average_score}, Adj Tracking Error: {average_adj_score}\")\n",
    "    return stocks, average_selected_features, average_score, average_adj_score"
   ]
  },
  {
   "cell_type": "code",
   "execution_count": 20,
   "id": "59283263",
   "metadata": {
    "execution": {
     "iopub.execute_input": "2024-12-14T13:47:11.540731Z",
     "iopub.status.busy": "2024-12-14T13:47:11.540042Z",
     "iopub.status.idle": "2024-12-14T13:47:11.546680Z",
     "shell.execute_reply": "2024-12-14T13:47:11.545915Z"
    },
    "papermill": {
     "duration": 0.017066,
     "end_time": "2024-12-14T13:47:11.548777",
     "exception": false,
     "start_time": "2024-12-14T13:47:11.531711",
     "status": "completed"
    },
    "tags": []
   },
   "outputs": [],
   "source": [
    "def Corr_Lasso_plot(X,y):\n",
    "    thresholds = [0.9, 0.8, 0.7, 0.6, 0.5, 0.4, 0.3, 0.2]\n",
    "    tracking_errors = []\n",
    "    adj_tracking_errors = []\n",
    "    num_stocks_list = []\n",
    "    \n",
    "    for threshold in thresholds:\n",
    "        print(f\"----------Starting threshold: {threshold}-------------\")\n",
    "        _, num_stocks, tracking_err, adj_tracking_err = Corr_Lasso(threshold, X, y, debug=False)\n",
    "        num_stocks_list.append(num_stocks)\n",
    "        tracking_errors.append(tracking_err)\n",
    "        adj_tracking_errors.append(adj_tracking_err)\n",
    "    \n",
    "    # Plotting the results\n",
    "    fig, ax1 = plt.subplots()\n",
    "    \n",
    "    # Plotting number of stocks on the primary y-axis\n",
    "    color = 'tab:blue'    \n",
    "    ax1.set_xlabel('Alpha')\n",
    "    ax1.set_ylabel('Number of Stocks', color=color)    \n",
    "    ax1.plot(thresholds, num_stocks_list, color=color, marker='o', label='Number of Stocks')\n",
    "    ax1.tick_params(axis='y', labelcolor=color)\n",
    "    \n",
    "    # Creating a second y-axis for tracking error\n",
    "    ax2 = ax1.twinx()\n",
    "    color = 'tab:red'\n",
    "    ax2.set_ylabel('Tracking Error', color=color)\n",
    "    #ax2.plot(alphas, tracking_errors, color='tab:green', marker='o', linestyle='--', label='Tracking Error')\n",
    "    ax2.plot(thresholds, adj_tracking_errors, color=color, marker='x', linestyle='--', label='Adjusted Tracking Error')\n",
    "    ax2.tick_params(axis='y', labelcolor=color)\n",
    "    \n",
    "    # Adding a title and legend\n",
    "    plt.title('Number of Stocks and Tracking Error vs. Alpha')    \n",
    "    fig.tight_layout()  # Adjust layout to prevent overlap\n",
    "    plt.savefig('Corr-Lasso.png')\n",
    "    plt.show()"
   ]
  },
  {
   "cell_type": "markdown",
   "id": "476f56d0",
   "metadata": {
    "papermill": {
     "duration": 0.007259,
     "end_time": "2024-12-14T13:47:11.569276",
     "exception": false,
     "start_time": "2024-12-14T13:47:11.562017",
     "status": "completed"
    },
    "tags": []
   },
   "source": [
    "## Lasso - Lasso\n",
    "\n",
    "\n",
    "\n",
    "We will utilize a Lasso model with a high alpha value to perform feature selection, this will drop the coefficients for less important features to 0. After that we retrain a Lasso model with hyperparameter tuning."
   ]
  },
  {
   "cell_type": "code",
   "execution_count": 21,
   "id": "bb7f855f",
   "metadata": {
    "_kg_hide-input": true,
    "execution": {
     "iopub.execute_input": "2024-12-14T13:47:11.585190Z",
     "iopub.status.busy": "2024-12-14T13:47:11.584942Z",
     "iopub.status.idle": "2024-12-14T13:47:11.594491Z",
     "shell.execute_reply": "2024-12-14T13:47:11.593723Z"
    },
    "papermill": {
     "duration": 0.019897,
     "end_time": "2024-12-14T13:47:11.596492",
     "exception": false,
     "start_time": "2024-12-14T13:47:11.576595",
     "status": "completed"
    },
    "tags": []
   },
   "outputs": [],
   "source": [
    "from sklearn.preprocessing import StandardScaler\n",
    "\n",
    "\n",
    "\n",
    "def Lasso_Lasso(alpha, X, y):    \n",
    "    tscv = TimeSeriesSplit(n_splits=13, max_train_size=85000, test_size=45000)\n",
    "    stocks = []\n",
    "    num_stocks = []\n",
    "    fold_scores = []\n",
    "    adj_fold_scores = []\n",
    "\n",
    "    for train_index, test_index in tscv.split(X):\n",
    "        X_train_cv, X_test_cv = X.iloc[train_index], X.iloc[test_index]\n",
    "        y_train_cv, y_test_cv = y.iloc[train_index], y.iloc[test_index]\n",
    "        train_period = X.iloc[train_index].index\n",
    "        test_period = X.iloc[test_index].index\n",
    "\n",
    "        # Convert to date format\n",
    "        train_start_date, train_end_date = train_period.min(), train_period.max()\n",
    "        test_start_date, test_end_date = test_period.min(), test_period.max()\n",
    "\n",
    "        print(f\"Train period: {train_start_date} to {train_end_date}\")\n",
    "        print(f\"Test period: {test_start_date} to {test_end_date}\")\n",
    "        scaler = StandardScaler()\n",
    "        X_scaled = scaler.fit_transform(X_train_cv)\n",
    "        X_test_scaled = scaler.transform(X_test_cv)\n",
    "        \n",
    "        # Feature selection with alpha from list\n",
    "        lasso_fs = Lasso(alpha=alpha, max_iter=200)\n",
    "        lasso_fs.fit(X_scaled, y_train_cv)\n",
    "\n",
    "        # for feature, coef in zip(X_train_cv.columns, lasso_fs.coef_):\n",
    "        #    print(f\"{feature}: {coef}\")\n",
    "\n",
    "        selector = SelectFromModel(lasso_fs, threshold=10e-10, max_features=None)  # Adjust threshold as needed\n",
    "        X_selected_train = selector.transform(X_scaled)\n",
    "        X_selected_test = selector.transform(X_test_scaled)\n",
    "\n",
    "        selected_features = np.where(selector.get_support())[0] \n",
    "        print(f\"Selected {len(selected_features)} stocks\")\n",
    "        num_stocks.append(len(selected_features))\n",
    "        stocks.append(selected_features)\n",
    "\n",
    "        best_alpha = None\n",
    "        best_score = float('inf')  # Assuming lower is better for your metric\n",
    "        best_adj_score = float('inf')  # Assuming lower is better for your metric\n",
    "        for alph in [0.0001, 0.00025, 0.0005, 0.00075, 0.001, 0.002, 0.0025]:\n",
    "            lasso = Lasso(alpha=alph, max_iter=15000)\n",
    "            lasso.fit(X_selected_train, y_train_cv)\n",
    "            y_pred = lasso.predict(X_selected_test)\n",
    "\n",
    "            fold_score = tracking_error(y_test_cv.values, y_pred)\n",
    "            adj_fold_score = adj_tracking_error(y_test_cv.values, X_selected_test, lasso)\n",
    "            \n",
    "            if fold_score < best_score:\n",
    "                best_score = fold_score\n",
    "                best_adj_score = adj_fold_score\n",
    "                best_alpha = alph\n",
    "\n",
    "        print(f\"Best Alpha for this fold: {best_alpha}, Best Fold Score: {best_score}\")\n",
    "        fold_scores.append(best_score)\n",
    "        adj_fold_scores.append(best_adj_score)\n",
    "\n",
    "    # Calculate the average score across all folds\n",
    "    average_score = np.mean(fold_scores)\n",
    "    average_adj_score = np.mean(adj_fold_scores)\n",
    "\n",
    "    # Get average stocks chosen over all folds\n",
    "    average_selected_features = np.mean(num_stocks)\n",
    "\n",
    "    # Print the tracking error for this alpha\n",
    "    print(f\"Alpha: {alpha}, Number of Stocks: {average_selected_features}, Average Tracking Error (bps): {average_adj_score}\")\n",
    "    return stocks, average_selected_features, average_score, average_adj_score"
   ]
  },
  {
   "cell_type": "code",
   "execution_count": 22,
   "id": "800fcb68",
   "metadata": {
    "execution": {
     "iopub.execute_input": "2024-12-14T13:47:11.620584Z",
     "iopub.status.busy": "2024-12-14T13:47:11.620310Z",
     "iopub.status.idle": "2024-12-14T13:47:11.626710Z",
     "shell.execute_reply": "2024-12-14T13:47:11.625827Z"
    },
    "papermill": {
     "duration": 0.017595,
     "end_time": "2024-12-14T13:47:11.628313",
     "exception": false,
     "start_time": "2024-12-14T13:47:11.610718",
     "status": "completed"
    },
    "tags": []
   },
   "outputs": [],
   "source": [
    "def Lasso_Lasso_plot(X,y):\n",
    "    alphas = np.logspace(-5, -4, 10)\n",
    "    tracking_errors = []\n",
    "    adj_tracking_errors = []\n",
    "    num_stocks_list = []\n",
    "    \n",
    "    for alpha in alphas:\n",
    "        print(f\"----------Starting alpha {alpha}-------------\")\n",
    "        _, num_stocks, tracking_err, adj_tracking_err = Lasso_Lasso(alpha, X, y)\n",
    "        num_stocks_list.append(num_stocks)\n",
    "        tracking_errors.append(tracking_err)\n",
    "        adj_tracking_errors.append(adj_tracking_err)\n",
    "    \n",
    "    # Plotting the results\n",
    "    fig, ax1 = plt.subplots()\n",
    "    \n",
    "    # Plotting number of stocks on the primary y-axis\n",
    "    color = 'tab:blue'    \n",
    "    ax1.set_xlabel('Alpha')\n",
    "    ax1.set_ylabel('Number of Stocks', color=color)    \n",
    "    ax1.plot(alphas, num_stocks_list, color=color, marker='o', label='Number of Stocks')\n",
    "    ax1.tick_params(axis='y', labelcolor=color)\n",
    "    \n",
    "    # Creating a second y-axis for tracking error\n",
    "    ax2 = ax1.twinx()\n",
    "    color = 'tab:red'\n",
    "    ax2.set_ylabel('Tracking Error', color=color)\n",
    "    #ax2.plot(alphas, tracking_errors, color='tab:green', marker='o', linestyle='--', label='Tracking Error')\n",
    "    ax2.plot(alphas, adj_tracking_errors, color=color, marker='x', linestyle='--', label='Adjusted Tracking Error')\n",
    "    ax2.tick_params(axis='y', labelcolor=color)\n",
    "    \n",
    "    # Adding a title and legend\n",
    "    plt.title('Number of Stocks and Tracking Error vs. Alpha')    \n",
    "    fig.tight_layout()  # Adjust layout to prevent overlap\n",
    "    plt.savefig('Lasso-Lasso.png')\n",
    "    plt.show()"
   ]
  },
  {
   "cell_type": "markdown",
   "id": "f7142029",
   "metadata": {
    "papermill": {
     "duration": 0.007204,
     "end_time": "2024-12-14T13:47:11.642851",
     "exception": false,
     "start_time": "2024-12-14T13:47:11.635647",
     "status": "completed"
    },
    "tags": []
   },
   "source": [
    "### Mutual Info - Lasso\n",
    "\n",
    "Using mutual information between variables, which measures the dependency between them, 0 value being independence. By getting the mutual information between the features (stocks) and the target (NIFTY 100) we can \"discard\" the variables with lower dependencies. After feature selection, we traing a Lasso model with CV."
   ]
  },
  {
   "cell_type": "code",
   "execution_count": 23,
   "id": "25c98d55",
   "metadata": {
    "execution": {
     "iopub.execute_input": "2024-12-14T13:47:11.658551Z",
     "iopub.status.busy": "2024-12-14T13:47:11.658309Z",
     "iopub.status.idle": "2024-12-14T13:47:11.667369Z",
     "shell.execute_reply": "2024-12-14T13:47:11.666505Z"
    },
    "papermill": {
     "duration": 0.018933,
     "end_time": "2024-12-14T13:47:11.669039",
     "exception": false,
     "start_time": "2024-12-14T13:47:11.650106",
     "status": "completed"
    },
    "tags": []
   },
   "outputs": [],
   "source": [
    "from sklearn.preprocessing import StandardScaler\n",
    "\n",
    "\n",
    "def MI_Experiment(percentile, X, y, model_class, params, debug=False):\n",
    "    tscv = TimeSeriesSplit(n_splits=13, max_train_size=85000, test_size=45000)\n",
    "    stocks = []\n",
    "    num_stocks = []\n",
    "    fold_scores = []\n",
    "    adj_fold_scores = []\n",
    "\n",
    "    for train_index, test_index in tscv.split(X):\n",
    "        X_train_cv, X_test_cv = X.iloc[train_index], X.iloc[test_index]\n",
    "        y_train_cv, y_test_cv = y.iloc[train_index], y.iloc[test_index]\n",
    "        scaler = StandardScaler()\n",
    "        X_scaled = scaler.fit_transform(X_train_cv)\n",
    "\n",
    "        # Feature selection with alpha from list\n",
    "        mi_scores = mutual_info_regression(X_train_cv, y_train_cv)\n",
    "        mi_scores_series = pd.Series(mi_scores, index=X_train_cv.columns)\n",
    "\n",
    "        threshold_value = mi_scores_series.quantile(percentile)        \n",
    "\n",
    "        selected_features = mi_scores_series[mi_scores_series > threshold_value].index\n",
    "        selected_indices = [X_train_cv.columns.get_loc(feature) for feature in selected_features]\n",
    "\n",
    "        # Filter the NumPy arrays based on the selected feature indices\n",
    "        X_train_selected = X_scaled[:, selected_indices]\n",
    "        X_test_selected = X_test_cv.to_numpy()[:, selected_indices]\n",
    "        # Initial index value\n",
    "        \n",
    "\n",
    "        if debug == True:\n",
    "            print(f\"Selected {len(selected_features)} stocks\")\n",
    "        num_stocks.append(len(selected_features))\n",
    "        stocks.append(selected_features)\n",
    "\n",
    "        best_params = None\n",
    "        best_score = float('inf')  # Assuming lower is better for your metric\n",
    "        best_adj_score = float('inf')\n",
    "        for param in ParameterGrid(params):\n",
    "            if debug == True:\n",
    "                print(f\"Trying combination {param}\")\n",
    "            model = model_class(**param)\n",
    "            model.fit(X_train_selected, y_train_cv)\n",
    "            y_pred = model.predict(X_test_selected)\n",
    "            \n",
    "            fold_score = tracking_error(y_test_cv.values, y_pred)\n",
    "            adj_fold_score = adj_tracking_error(y_test_cv.values, X_test_selected, model)\n",
    "\n",
    "            if adj_fold_score < best_adj_score:\n",
    "                best_score = fold_score\n",
    "                best_adj_score = adj_fold_score\n",
    "                best_params = param\n",
    "        if debug == True:\n",
    "            print(f\"Best Params for this fold: {best_params}, Best Fold Score: {best_score}\")\n",
    "        fold_scores.append(best_score)\n",
    "        adj_fold_scores.append(best_adj_score)\n",
    "\n",
    "    # Calculate the average score across all folds\n",
    "    average_score = np.mean(fold_scores)\n",
    "    average_adj_score = np.mean(adj_fold_scores)\n",
    "\n",
    "    # Get average stocks chosen over all folds\n",
    "    average_selected_features = np.mean(num_stocks)\n",
    "\n",
    "    # Print the tracking error for this alpha\n",
    "    print(f\"Percentile: {percentile}, Tracking Error: {average_score}, Adj Tracking Error: {average_adj_score}\")\n",
    "    return stocks, average_selected_features, average_score, average_adj_score"
   ]
  },
  {
   "cell_type": "markdown",
   "id": "6a72a212",
   "metadata": {
    "papermill": {
     "duration": 0.007049,
     "end_time": "2024-12-14T13:47:11.683392",
     "exception": false,
     "start_time": "2024-12-14T13:47:11.676343",
     "status": "completed"
    },
    "tags": []
   },
   "source": [
    "### MI - Lasso"
   ]
  },
  {
   "cell_type": "code",
   "execution_count": 24,
   "id": "4fad5377",
   "metadata": {
    "execution": {
     "iopub.execute_input": "2024-12-14T13:47:11.699291Z",
     "iopub.status.busy": "2024-12-14T13:47:11.698560Z",
     "iopub.status.idle": "2024-12-14T13:47:11.704730Z",
     "shell.execute_reply": "2024-12-14T13:47:11.703969Z"
    },
    "papermill": {
     "duration": 0.0157,
     "end_time": "2024-12-14T13:47:11.706290",
     "exception": false,
     "start_time": "2024-12-14T13:47:11.690590",
     "status": "completed"
    },
    "tags": []
   },
   "outputs": [],
   "source": [
    "def MI_Lasso_plot(X,y):\n",
    "    tracking_errors = []\n",
    "    adj_tracking_errors = []\n",
    "    num_stocks_list = []\n",
    "    \n",
    "    percentiles = [0.0, 0.1, 0.2, 0.3, 0.4, 0.5, 0.6]\n",
    "    param_grid = {\n",
    "        'alpha': [0.0001, 0.00025, 0.0005, 0.00075, 0.001, 0.002, 0.0025],\n",
    "        'max_iter': [15000]\n",
    "    }\n",
    "    \n",
    "    for percentile in percentiles:\n",
    "        print(f\"Starting percentile: {percentile}\")\n",
    "        _, num_stocks, tracking_err, adj_tracking_err = MI_Experiment(percentile, X, y, Lasso, param_grid)\n",
    "        num_stocks_list.append(num_stocks)\n",
    "        tracking_errors.append(tracking_err)\n",
    "        adj_tracking_errors.append(adj_tracking_err)\n",
    "    \n",
    "    # Plotting the results\n",
    "    fig, ax1 = plt.subplots()\n",
    "    \n",
    "    # Plotting number of stocks on the primary y-axis\n",
    "    plt.plot(num_stocks_list, adj_tracking_errors, marker='x')\n",
    "    plt.xlabel('Number of Stocks')\n",
    "    plt.ylabel('Tracking Error')\n",
    "    plt.title('Lasso - Tracking Errors vs Number of Stocks')\n",
    "    plt.grid(True)\n",
    "    plt.savefig(\"MI-Lasso.png\")\n",
    "    plt.show()"
   ]
  },
  {
   "cell_type": "markdown",
   "id": "1b1bbc55",
   "metadata": {
    "papermill": {
     "duration": 0.007177,
     "end_time": "2024-12-14T13:47:11.720811",
     "exception": false,
     "start_time": "2024-12-14T13:47:11.713634",
     "status": "completed"
    },
    "tags": []
   },
   "source": [
    "### MI - ElasticNet"
   ]
  },
  {
   "cell_type": "code",
   "execution_count": 25,
   "id": "d6d6b116",
   "metadata": {
    "execution": {
     "iopub.execute_input": "2024-12-14T13:47:11.736812Z",
     "iopub.status.busy": "2024-12-14T13:47:11.736465Z",
     "iopub.status.idle": "2024-12-14T13:47:11.744877Z",
     "shell.execute_reply": "2024-12-14T13:47:11.744078Z"
    },
    "papermill": {
     "duration": 0.018981,
     "end_time": "2024-12-14T13:47:11.746963",
     "exception": false,
     "start_time": "2024-12-14T13:47:11.727982",
     "status": "completed"
    },
    "tags": []
   },
   "outputs": [],
   "source": [
    "def MI_ElasticNet_plot(X,y):\n",
    "    tracking_errors = []\n",
    "    adj_tracking_errors = []\n",
    "    num_stocks_list = []\n",
    "    \n",
    "    percentiles = [0.0, 0.1, 0.2, 0.3, 0.4, 0.5, 0.6]\n",
    "    param_grid = {\n",
    "        'alpha': [0.0001, 0.00025, 0.0005, 0.00075, 0.001, 0.002, 0.0025],\n",
    "        'l1_ratio': [0.1, 0.5, 0.7, 0.9]\n",
    "    }\n",
    "    \n",
    "    for percentile in percentiles:\n",
    "        print(f\"Starting percentile: {percentile}\")\n",
    "        _, num_stocks, tracking_err, adj_tracking_err = MI_Experiment(percentile, X, y, ElasticNet, param_grid)\n",
    "        num_stocks_list.append(num_stocks)\n",
    "        tracking_errors.append(tracking_err)\n",
    "        adj_tracking_errors.append(adj_tracking_err)\n",
    "    \n",
    "    # Plotting the results\n",
    "    fig, ax1 = plt.subplots()\n",
    "    \n",
    "    # Plotting number of stocks on the primary y-axis\n",
    "    plt.plot(num_stocks_list, adj_tracking_errors, marker='x')\n",
    "    plt.xlabel('Number of Stocks')\n",
    "    plt.ylabel('Tracking Error')\n",
    "    plt.title('ElasticNet - Tracking Errors vs Number of Stocks ')\n",
    "    plt.grid(True)\n",
    "    plt.savefig(\"MI-ElasticNet.png\")\n",
    "    plt.show()"
   ]
  },
  {
   "cell_type": "markdown",
   "id": "bcb966b6",
   "metadata": {
    "execution": {
     "iopub.execute_input": "2024-11-12T21:50:37.572889Z",
     "iopub.status.busy": "2024-11-12T21:50:37.570440Z"
    },
    "papermill": {
     "duration": 0.007075,
     "end_time": "2024-12-14T13:47:11.767105",
     "exception": false,
     "start_time": "2024-12-14T13:47:11.760030",
     "status": "completed"
    },
    "tags": []
   },
   "source": [
    "TODO: Theil-Sein Linear Regression"
   ]
  },
  {
   "cell_type": "markdown",
   "id": "74333cc9",
   "metadata": {
    "papermill": {
     "duration": 0.007246,
     "end_time": "2024-12-14T13:47:11.781585",
     "exception": false,
     "start_time": "2024-12-14T13:47:11.774339",
     "status": "completed"
    },
    "tags": []
   },
   "source": [
    "### MI-RandomForestRegressor"
   ]
  },
  {
   "cell_type": "code",
   "execution_count": 26,
   "id": "cbff8d35",
   "metadata": {
    "execution": {
     "iopub.execute_input": "2024-12-14T13:47:11.797477Z",
     "iopub.status.busy": "2024-12-14T13:47:11.797202Z",
     "iopub.status.idle": "2024-12-14T13:47:11.803783Z",
     "shell.execute_reply": "2024-12-14T13:47:11.802845Z"
    },
    "papermill": {
     "duration": 0.016523,
     "end_time": "2024-12-14T13:47:11.805481",
     "exception": false,
     "start_time": "2024-12-14T13:47:11.788958",
     "status": "completed"
    },
    "tags": []
   },
   "outputs": [],
   "source": [
    "def MI_RF_plot(X,y):\n",
    "    tracking_errors = []\n",
    "    adj_tracking_errors = []\n",
    "    num_stocks_list = []\n",
    "    \n",
    "    percentiles = [0.0, 0.1, 0.2, 0.3, 0.4, 0.5, 0.6, 0.7, 0.8]\n",
    "    param_grid = {\n",
    "        'n_estimators': [10, 20, 30, 40, 50],       # Number of trees in the forest\n",
    "        'max_depth': [5, 10, 15],      # Maximum depth of the tree\n",
    "        'max_samples': [0.5],\n",
    "        'min_samples_split': [0.05],\n",
    "        'bootstrap': [True],\n",
    "        'n_jobs': [-1],\n",
    "        'max_features': ['sqrt']\n",
    "    }\n",
    "    \n",
    "    for percentile in percentiles:\n",
    "        print(f\"Starting percentile: {percentile}\")\n",
    "        _, num_stocks, tracking_err, adj_tracking_err = MI_Experiment(percentile, X, y, RandomForestRegressor, param_grid)\n",
    "        num_stocks_list.append(num_stocks)\n",
    "        tracking_errors.append(tracking_err)\n",
    "        adj_tracking_errors.append(adj_tracking_err)\n",
    "    \n",
    "    # Plotting the results\n",
    "    fig, ax1 = plt.subplots()\n",
    "    \n",
    "    # Plotting number of stocks on the primary y-axis\n",
    "    plt.plot(num_stocks_list, adj_tracking_errors, marker='x')\n",
    "    plt.xlabel('Number of Stocks')\n",
    "    plt.ylabel('Tracking Error')\n",
    "    plt.title('RandomForestRegressor - Tracking Errors vs Number of Stocks ')\n",
    "    plt.grid(True)\n",
    "    plt.savefig(\"MI-RandomForestRegressor.png\")\n",
    "    plt.show()"
   ]
  },
  {
   "cell_type": "markdown",
   "id": "57bb76c0",
   "metadata": {
    "papermill": {
     "duration": 0.007167,
     "end_time": "2024-12-14T13:47:11.819901",
     "exception": false,
     "start_time": "2024-12-14T13:47:11.812734",
     "status": "completed"
    },
    "tags": []
   },
   "source": [
    "### MI - XGBoost"
   ]
  },
  {
   "cell_type": "code",
   "execution_count": 27,
   "id": "166da268",
   "metadata": {
    "execution": {
     "iopub.execute_input": "2024-12-14T13:47:11.835723Z",
     "iopub.status.busy": "2024-12-14T13:47:11.835438Z",
     "iopub.status.idle": "2024-12-14T13:47:11.841786Z",
     "shell.execute_reply": "2024-12-14T13:47:11.840918Z"
    },
    "papermill": {
     "duration": 0.016475,
     "end_time": "2024-12-14T13:47:11.843813",
     "exception": false,
     "start_time": "2024-12-14T13:47:11.827338",
     "status": "completed"
    },
    "tags": []
   },
   "outputs": [],
   "source": [
    "def MI_XGBoost_plot(X,y):\n",
    "    tracking_errors = []\n",
    "    adj_tracking_errors = []\n",
    "    num_stocks_list = []\n",
    "    \n",
    "    percentiles = [0.1, 0.2, 0.3, 0.4, 0.5, 0.6, 0.7, 0.8]\n",
    "    param_grid = {\n",
    "        'n_estimators': [50, 100, 200, 250, 300],  # Number of boosting rounds\n",
    "        'learning_rate': [0.01, 0.1, 0.15, 0.2, 0.25],  # Step size shrinkage\n",
    "        'max_depth': [3, 5, 6, 7, 10],  # Maximum depth of a tree\n",
    "        'n_jobs': [-1],\n",
    "        'tree_method': ['gpu_hist'],\n",
    "    }\n",
    "    \n",
    "    for percentile in percentiles:\n",
    "        print(f\"Starting percentile: {percentile}\")\n",
    "        _, num_stocks, tracking_err, adj_tracking_err = MI_Experiment(percentile, X, y, xgb.XGBRegressor, param_grid)\n",
    "        num_stocks_list.append(num_stocks)\n",
    "        tracking_errors.append(tracking_err)\n",
    "        adj_tracking_errors.append(adj_tracking_err)\n",
    "    \n",
    "    # Plotting the results\n",
    "    fig, ax1 = plt.subplots()\n",
    "    \n",
    "    # Plotting number of stocks on the primary y-axis\n",
    "    plt.plot(num_stocks_list, adj_tracking_errors, marker='x')\n",
    "    plt.xlabel('Number of Stocks')\n",
    "    plt.ylabel('Tracking Error')\n",
    "    plt.title('XGBRegressor - Tracking Errors vs Number of Stocks ')\n",
    "    plt.grid(True)\n",
    "    plt.savefig(\"MI-XGBRegressor.png\")\n",
    "    plt.show()"
   ]
  },
  {
   "cell_type": "code",
   "execution_count": 28,
   "id": "bffcfd60",
   "metadata": {
    "execution": {
     "iopub.execute_input": "2024-12-14T13:47:11.867247Z",
     "iopub.status.busy": "2024-12-14T13:47:11.867004Z",
     "iopub.status.idle": "2024-12-14T13:47:13.914970Z",
     "shell.execute_reply": "2024-12-14T13:47:13.914243Z"
    },
    "papermill": {
     "duration": 2.05919,
     "end_time": "2024-12-14T13:47:13.916984",
     "exception": false,
     "start_time": "2024-12-14T13:47:11.857794",
     "status": "completed"
    },
    "tags": []
   },
   "outputs": [],
   "source": [
    "df_total_z = df_total.replace(0, np.nan)  # Convert zeroes back to NaNs\n",
    "df_total_returns = df_total_z.pct_change().dropna()\n",
    "df_total_returns = df_total_returns*100\n",
    "X = df_total_returns.drop(columns=['NIFTY_100'])\n",
    "y = df_total_returns['NIFTY_100']"
   ]
  },
  {
   "cell_type": "code",
   "execution_count": 29,
   "id": "eb93baef",
   "metadata": {
    "collapsed": true,
    "execution": {
     "iopub.execute_input": "2024-12-14T13:47:13.934814Z",
     "iopub.status.busy": "2024-12-14T13:47:13.934481Z",
     "iopub.status.idle": "2024-12-14T14:01:05.717254Z",
     "shell.execute_reply": "2024-12-14T14:01:05.716399Z"
    },
    "jupyter": {
     "outputs_hidden": true
    },
    "papermill": {
     "duration": 831.793973,
     "end_time": "2024-12-14T14:01:05.719253",
     "exception": false,
     "start_time": "2024-12-14T13:47:13.925280",
     "status": "completed"
    },
    "tags": []
   },
   "outputs": [
    {
     "name": "stdout",
     "output_type": "stream",
     "text": [
      "----------Starting threshold: 0.9-------------\n",
      "Features to drop (correlation > 0.9): []\n",
      "Best Alpha for this fold: 0.0001, Best Fold Score: 0.04753482099077308\n",
      "Features to drop (correlation > 0.9): [66]\n",
      "Best Alpha for this fold: 0.0001, Best Fold Score: 0.035852730541273845\n",
      "Features to drop (correlation > 0.9): []\n",
      "Best Alpha for this fold: 0.0001, Best Fold Score: 0.04330374298395245\n",
      "Features to drop (correlation > 0.9): []\n",
      "Best Alpha for this fold: 0.0001, Best Fold Score: 0.027370076633773086\n",
      "Features to drop (correlation > 0.9): []\n",
      "Best Alpha for this fold: 0.0001, Best Fold Score: 0.03758987689111684\n",
      "Features to drop (correlation > 0.9): []\n",
      "Best Alpha for this fold: 0.0001, Best Fold Score: 0.041678184212352816\n",
      "Features to drop (correlation > 0.9): []\n",
      "Best Alpha for this fold: 0.0001, Best Fold Score: 0.03862029610216561\n",
      "Features to drop (correlation > 0.9): []\n",
      "Best Alpha for this fold: 0.0001, Best Fold Score: 0.04110009581254949\n",
      "Features to drop (correlation > 0.9): []\n",
      "Best Alpha for this fold: 0.0001, Best Fold Score: 0.11793418184159667\n",
      "Features to drop (correlation > 0.9): []\n",
      "Best Alpha for this fold: 0.0001, Best Fold Score: 0.0466458087612435\n",
      "Features to drop (correlation > 0.9): []\n",
      "Best Alpha for this fold: 0.0001, Best Fold Score: 0.03688832643607319\n",
      "Features to drop (correlation > 0.9): []\n",
      "Best Alpha for this fold: 0.0001, Best Fold Score: 0.05158657068283737\n",
      "Features to drop (correlation > 0.9): []\n",
      "Best Alpha for this fold: 0.0001, Best Fold Score: 0.0501831223044791\n",
      "Threshold: 0.9, Tracking Error: 0.04740675647647592, Adj Tracking Error: 0.048163015134525665\n",
      "----------Starting threshold: 0.8-------------\n",
      "Features to drop (correlation > 0.8): []\n",
      "Best Alpha for this fold: 0.0001, Best Fold Score: 0.04753482099077308\n",
      "Features to drop (correlation > 0.8): [66]\n",
      "Best Alpha for this fold: 0.0001, Best Fold Score: 0.035852730541273845\n",
      "Features to drop (correlation > 0.8): []\n",
      "Best Alpha for this fold: 0.0001, Best Fold Score: 0.04330374298395245\n",
      "Features to drop (correlation > 0.8): []\n",
      "Best Alpha for this fold: 0.0001, Best Fold Score: 0.027370076633773086\n",
      "Features to drop (correlation > 0.8): []\n",
      "Best Alpha for this fold: 0.0001, Best Fold Score: 0.03758987689111684\n",
      "Features to drop (correlation > 0.8): []\n",
      "Best Alpha for this fold: 0.0001, Best Fold Score: 0.041678184212352816\n",
      "Features to drop (correlation > 0.8): []\n",
      "Best Alpha for this fold: 0.0001, Best Fold Score: 0.03862029610216561\n",
      "Features to drop (correlation > 0.8): []\n",
      "Best Alpha for this fold: 0.0001, Best Fold Score: 0.04110009581254949\n",
      "Features to drop (correlation > 0.8): []\n",
      "Best Alpha for this fold: 0.0001, Best Fold Score: 0.11793418184159667\n",
      "Features to drop (correlation > 0.8): []\n",
      "Best Alpha for this fold: 0.0001, Best Fold Score: 0.0466458087612435\n",
      "Features to drop (correlation > 0.8): []\n",
      "Best Alpha for this fold: 0.0001, Best Fold Score: 0.03688832643607319\n",
      "Features to drop (correlation > 0.8): []\n",
      "Best Alpha for this fold: 0.0001, Best Fold Score: 0.05158657068283737\n",
      "Features to drop (correlation > 0.8): []\n",
      "Best Alpha for this fold: 0.0001, Best Fold Score: 0.0501831223044791\n",
      "Threshold: 0.8, Tracking Error: 0.04740675647647592, Adj Tracking Error: 0.048163015134525665\n",
      "----------Starting threshold: 0.7-------------\n",
      "Features to drop (correlation > 0.7): []\n",
      "Best Alpha for this fold: 0.0001, Best Fold Score: 0.04753482099077308\n",
      "Features to drop (correlation > 0.7): [66]\n",
      "Best Alpha for this fold: 0.0001, Best Fold Score: 0.035852730541273845\n",
      "Features to drop (correlation > 0.7): []\n",
      "Best Alpha for this fold: 0.0001, Best Fold Score: 0.04330374298395245\n",
      "Features to drop (correlation > 0.7): []\n",
      "Best Alpha for this fold: 0.0001, Best Fold Score: 0.027370076633773086\n",
      "Features to drop (correlation > 0.7): [26]\n",
      "Best Alpha for this fold: 0.0001, Best Fold Score: 0.037594997711991825\n",
      "Features to drop (correlation > 0.7): []\n",
      "Best Alpha for this fold: 0.0001, Best Fold Score: 0.041678184212352816\n",
      "Features to drop (correlation > 0.7): []\n",
      "Best Alpha for this fold: 0.0001, Best Fold Score: 0.03862029610216561\n",
      "Features to drop (correlation > 0.7): []\n",
      "Best Alpha for this fold: 0.0001, Best Fold Score: 0.04110009581254949\n",
      "Features to drop (correlation > 0.7): []\n",
      "Best Alpha for this fold: 0.0001, Best Fold Score: 0.11793418184159667\n",
      "Features to drop (correlation > 0.7): [51]\n",
      "Best Alpha for this fold: 0.0001, Best Fold Score: 0.046653121693096794\n",
      "Features to drop (correlation > 0.7): [51]\n",
      "Best Alpha for this fold: 0.0001, Best Fold Score: 0.03688189666837268\n",
      "Features to drop (correlation > 0.7): []\n",
      "Best Alpha for this fold: 0.0001, Best Fold Score: 0.05158657068283737\n",
      "Features to drop (correlation > 0.7): [64]\n",
      "Best Alpha for this fold: 0.0001, Best Fold Score: 0.050177826076197724\n",
      "Threshold: 0.7, Tracking Error: 0.04740681091930257, Adj Tracking Error: 0.0481631396831853\n",
      "----------Starting threshold: 0.6-------------\n",
      "Features to drop (correlation > 0.6): []\n",
      "Best Alpha for this fold: 0.0001, Best Fold Score: 0.04753482099077308\n",
      "Features to drop (correlation > 0.6): [66]\n",
      "Best Alpha for this fold: 0.0001, Best Fold Score: 0.035852730541273845\n",
      "Features to drop (correlation > 0.6): []\n",
      "Best Alpha for this fold: 0.0001, Best Fold Score: 0.04330374298395245\n",
      "Features to drop (correlation > 0.6): []\n",
      "Best Alpha for this fold: 0.0001, Best Fold Score: 0.027370076633773086\n",
      "Features to drop (correlation > 0.6): [15, 26]\n",
      "Best Alpha for this fold: 0.0001, Best Fold Score: 0.037609585149728536\n",
      "Features to drop (correlation > 0.6): [15, 26]\n",
      "Best Alpha for this fold: 0.0001, Best Fold Score: 0.04170034108854478\n",
      "Features to drop (correlation > 0.6): [55]\n",
      "Best Alpha for this fold: 0.0001, Best Fold Score: 0.03862349624241284\n",
      "Features to drop (correlation > 0.6): [34, 55, 61]\n",
      "Best Alpha for this fold: 0.0001, Best Fold Score: 0.04110484082102425\n",
      "Features to drop (correlation > 0.6): []\n",
      "Best Alpha for this fold: 0.0001, Best Fold Score: 0.11793418184159667\n",
      "Features to drop (correlation > 0.6): [15, 26, 33, 38, 48, 49, 51, 61, 64, 70, 71, 84]\n",
      "Best Alpha for this fold: 0.0001, Best Fold Score: 0.046859837530409496\n",
      "Features to drop (correlation > 0.6): [15, 38, 49, 51, 61, 64, 70, 71]\n",
      "Best Alpha for this fold: 0.0001, Best Fold Score: 0.03683956325257936\n",
      "Features to drop (correlation > 0.6): [15, 51, 61, 64, 71, 84]\n",
      "Best Alpha for this fold: 0.0001, Best Fold Score: 0.05157663359938985\n",
      "Features to drop (correlation > 0.6): [15, 33, 38, 64, 71, 78, 84]\n",
      "Best Alpha for this fold: 0.0001, Best Fold Score: 0.05016354288287434\n",
      "Threshold: 0.6, Tracking Error: 0.0474210302737179, Adj Tracking Error: 0.04817609376309542\n",
      "----------Starting threshold: 0.5-------------\n",
      "Features to drop (correlation > 0.5): [25, 38, 55, 71]\n",
      "Best Alpha for this fold: 0.0001, Best Fold Score: 0.04751847984345981\n",
      "Features to drop (correlation > 0.5): [15, 25, 26, 38, 55, 66, 71]\n",
      "Best Alpha for this fold: 0.0001, Best Fold Score: 0.03592900681059767\n",
      "Features to drop (correlation > 0.5): [15, 26, 38, 48, 55]\n",
      "Best Alpha for this fold: 0.0001, Best Fold Score: 0.043405260167093944\n",
      "Features to drop (correlation > 0.5): [15, 26, 48, 55]\n",
      "Best Alpha for this fold: 0.0001, Best Fold Score: 0.02741793275517795\n",
      "Features to drop (correlation > 0.5): [15, 26, 48, 55]\n",
      "Best Alpha for this fold: 0.0001, Best Fold Score: 0.037626145335841125\n",
      "Features to drop (correlation > 0.5): [15, 26, 48, 55]\n",
      "Best Alpha for this fold: 0.0001, Best Fold Score: 0.04168404794801239\n",
      "Features to drop (correlation > 0.5): [15, 26, 34, 48, 55, 61, 64, 84]\n",
      "Best Alpha for this fold: 0.0001, Best Fold Score: 0.03862424694287945\n",
      "Features to drop (correlation > 0.5): [15, 26, 34, 55, 61, 64, 84]\n",
      "Best Alpha for this fold: 0.0001, Best Fold Score: 0.04112537352121821\n",
      "Features to drop (correlation > 0.5): [15, 26, 51, 55, 61, 64, 84]\n",
      "Best Alpha for this fold: 0.0001, Best Fold Score: 0.11791265292281439\n",
      "Features to drop (correlation > 0.5): [14, 15, 16, 17, 20, 22, 26, 33, 34, 38, 48, 49, 51, 52, 53, 55, 61, 63, 64, 67, 68, 69, 70, 71, 72, 74, 75, 78, 84, 85]\n",
      "Best Alpha for this fold: 0.0001, Best Fold Score: 0.04682920761540997\n",
      "Features to drop (correlation > 0.5): [14, 15, 17, 20, 23, 26, 33, 34, 38, 48, 49, 51, 55, 57, 61, 63, 64, 67, 68, 70, 71, 72, 74, 75, 78, 83, 84, 85]\n",
      "Best Alpha for this fold: 0.0001, Best Fold Score: 0.037017850606965594\n",
      "Features to drop (correlation > 0.5): [15, 20, 33, 38, 51, 57, 61, 64, 71, 78, 80, 83, 84]\n",
      "Best Alpha for this fold: 0.0001, Best Fold Score: 0.05167030543750363\n",
      "Features to drop (correlation > 0.5): [15, 20, 22, 26, 33, 38, 48, 49, 51, 57, 61, 64, 67, 70, 71, 78, 80, 84]\n",
      "Best Alpha for this fold: 0.0001, Best Fold Score: 0.05047020500403446\n",
      "Threshold: 0.5, Tracking Error: 0.047479285762385276, Adj Tracking Error: 0.048235132872238025\n",
      "----------Starting threshold: 0.4-------------\n",
      "Features to drop (correlation > 0.4): [15, 20, 25, 26, 38, 52, 55, 71]\n",
      "Best Alpha for this fold: 0.0001, Best Fold Score: 0.04752369603601082\n",
      "Features to drop (correlation > 0.4): [15, 20, 25, 26, 38, 48, 52, 55, 64, 66, 71]\n",
      "Best Alpha for this fold: 0.0001, Best Fold Score: 0.03589781819492702\n",
      "Features to drop (correlation > 0.4): [15, 25, 26, 38, 48, 55, 64, 71]\n",
      "Best Alpha for this fold: 0.0001, Best Fold Score: 0.043348682430494195\n",
      "Features to drop (correlation > 0.4): [15, 25, 26, 30, 33, 34, 38, 48, 55, 61, 64, 74, 85]\n",
      "Best Alpha for this fold: 0.0001, Best Fold Score: 0.02737642249475104\n",
      "Features to drop (correlation > 0.4): [15, 26, 34, 38, 48, 55, 61, 64]\n",
      "Best Alpha for this fold: 0.0001, Best Fold Score: 0.03763177405481565\n",
      "Features to drop (correlation > 0.4): [15, 26, 33, 34, 38, 48, 55, 64, 78, 84]\n",
      "Best Alpha for this fold: 0.0001, Best Fold Score: 0.04177526113507409\n",
      "Features to drop (correlation > 0.4): [15, 26, 33, 34, 38, 48, 50, 51, 55, 61, 64, 67, 68, 78, 84]\n",
      "Best Alpha for this fold: 0.0001, Best Fold Score: 0.03862178948642195\n",
      "Features to drop (correlation > 0.4): [15, 26, 33, 34, 38, 48, 51, 55, 61, 64, 70, 78, 84, 85]\n",
      "Best Alpha for this fold: 0.0001, Best Fold Score: 0.04119675140759794\n",
      "Features to drop (correlation > 0.4): [15, 26, 33, 34, 38, 48, 51, 55, 61, 64, 70, 71, 78, 84, 85]\n",
      "Best Alpha for this fold: 0.0001, Best Fold Score: 0.1181569648597134\n",
      "Features to drop (correlation > 0.4): [5, 7, 9, 12, 13, 14, 15, 16, 17, 19, 20, 21, 22, 23, 24, 26, 30, 31, 33, 34, 35, 36, 37, 38, 39, 41, 42, 43, 44, 45, 48, 49, 51, 52, 53, 55, 56, 57, 58, 60, 61, 62, 63, 64, 65, 67, 68, 69, 70, 71, 72, 73, 74, 75, 77, 78, 79, 80, 81, 82, 83, 84, 85]\n",
      "Best Alpha for this fold: 0.0001, Best Fold Score: 0.04811089824018497\n",
      "Features to drop (correlation > 0.4): [5, 7, 9, 12, 13, 14, 15, 16, 17, 18, 19, 20, 21, 22, 23, 24, 26, 30, 31, 33, 34, 35, 36, 37, 38, 39, 41, 42, 43, 44, 45, 48, 49, 50, 51, 52, 53, 55, 56, 57, 58, 60, 61, 62, 63, 64, 65, 66, 67, 68, 69, 70, 71, 72, 74, 75, 76, 77, 78, 79, 80, 81, 82, 83, 84, 85]\n",
      "Best Alpha for this fold: 0.0001, Best Fold Score: 0.03862925126974286\n",
      "Features to drop (correlation > 0.4): [14, 15, 17, 20, 22, 23, 26, 30, 33, 34, 38, 45, 48, 49, 50, 51, 55, 56, 57, 58, 61, 63, 64, 66, 67, 68, 69, 70, 71, 78, 80, 81, 82, 83, 84, 85]\n",
      "Best Alpha for this fold: 0.0001, Best Fold Score: 0.05196838825730602\n",
      "Features to drop (correlation > 0.4): [14, 15, 17, 20, 22, 23, 26, 30, 33, 38, 48, 49, 51, 52, 53, 55, 57, 61, 62, 63, 64, 67, 68, 69, 70, 71, 72, 74, 75, 78, 80, 82, 83, 84, 85]\n",
      "Best Alpha for this fold: 0.0001, Best Fold Score: 0.05080909085795459\n",
      "Threshold: 0.4, Tracking Error: 0.04777282990192265, Adj Tracking Error: 0.04853805780929417\n",
      "----------Starting threshold: 0.3-------------\n",
      "Features to drop (correlation > 0.3): [14, 15, 17, 20, 25, 26, 30, 33, 34, 38, 48, 52, 53, 55, 61, 63, 64, 68, 69, 70, 71, 72, 74, 75, 80, 82]\n",
      "Best Alpha for this fold: 0.0001, Best Fold Score: 0.04757294104513645\n",
      "Features to drop (correlation > 0.3): [12, 14, 15, 17, 20, 22, 25, 26, 30, 33, 34, 38, 48, 52, 53, 55, 61, 63, 64, 66, 68, 70, 71, 74, 75, 78, 80, 85]\n",
      "Best Alpha for this fold: 0.0001, Best Fold Score: 0.036048280611340994\n",
      "Features to drop (correlation > 0.3): [14, 15, 17, 20, 22, 25, 26, 33, 34, 38, 48, 50, 52, 53, 55, 61, 63, 64, 68, 70, 71, 74, 78, 80, 84, 85]\n",
      "Best Alpha for this fold: 0.0001, Best Fold Score: 0.043191567413970004\n",
      "Features to drop (correlation > 0.3): [11, 14, 15, 20, 25, 26, 30, 33, 34, 37, 38, 45, 48, 49, 50, 52, 55, 57, 61, 63, 64, 67, 68, 69, 70, 71, 72, 74, 75, 78, 80, 81, 82, 84, 85]\n",
      "Best Alpha for this fold: 0.0001, Best Fold Score: 0.027388542437082906\n",
      "Features to drop (correlation > 0.3): [15, 26, 30, 33, 34, 38, 45, 48, 49, 50, 51, 52, 55, 61, 64, 68, 70, 71, 72, 74, 75, 78, 80, 82, 84, 85]\n",
      "Best Alpha for this fold: 0.0001, Best Fold Score: 0.03768871077078816\n",
      "Features to drop (correlation > 0.3): [15, 19, 22, 26, 33, 34, 35, 38, 41, 45, 48, 50, 51, 52, 55, 56, 61, 64, 66, 68, 70, 71, 74, 78, 80, 84]\n",
      "Best Alpha for this fold: 0.0001, Best Fold Score: 0.041884102833757174\n",
      "Features to drop (correlation > 0.3): [14, 15, 22, 24, 26, 30, 33, 34, 36, 38, 41, 45, 48, 49, 50, 51, 52, 53, 55, 56, 57, 61, 62, 64, 66, 67, 68, 69, 70, 71, 72, 73, 74, 78, 80, 82, 84, 85]\n",
      "Best Alpha for this fold: 0.0001, Best Fold Score: 0.03899896005820341\n",
      "Features to drop (correlation > 0.3): [15, 22, 26, 30, 33, 34, 38, 45, 48, 49, 50, 51, 53, 55, 56, 58, 61, 62, 64, 67, 68, 69, 70, 71, 72, 73, 74, 78, 81, 82, 84, 85]\n",
      "Best Alpha for this fold: 0.0001, Best Fold Score: 0.041235993036276626\n",
      "Features to drop (correlation > 0.3): [15, 17, 20, 22, 26, 30, 33, 34, 35, 38, 48, 49, 50, 51, 52, 53, 55, 61, 63, 64, 68, 69, 70, 71, 72, 74, 78, 79, 82, 84, 85]\n",
      "Best Alpha for this fold: 0.0001, Best Fold Score: 0.11876611689019416\n",
      "Features to drop (correlation > 0.3): [5, 6, 7, 8, 9, 10, 11, 12, 13, 14, 15, 16, 17, 18, 19, 20, 21, 22, 23, 24, 26, 27, 30, 31, 33, 34, 35, 36, 37, 38, 39, 40, 41, 42, 43, 44, 45, 46, 47, 48, 49, 50, 51, 52, 53, 55, 56, 57, 58, 60, 61, 62, 63, 64, 65, 66, 67, 68, 69, 70, 71, 72, 73, 74, 75, 76, 77, 78, 79, 80, 81, 82, 83, 84, 85]\n",
      "Best Alpha for this fold: 0.0001, Best Fold Score: 0.04922095640376845\n",
      "Features to drop (correlation > 0.3): [5, 6, 7, 8, 9, 10, 11, 12, 13, 14, 15, 16, 17, 18, 19, 20, 21, 22, 23, 24, 26, 27, 28, 30, 31, 32, 33, 34, 35, 36, 37, 38, 39, 40, 41, 42, 43, 44, 45, 46, 47, 48, 49, 50, 51, 52, 53, 55, 56, 57, 58, 60, 61, 62, 63, 64, 65, 66, 67, 68, 69, 70, 71, 72, 73, 74, 75, 76, 77, 78, 79, 80, 81, 82, 83, 84, 85]\n",
      "Best Alpha for this fold: 0.0001, Best Fold Score: 0.03978156766641031\n",
      "Features to drop (correlation > 0.3): [7, 13, 14, 15, 16, 17, 19, 20, 21, 22, 23, 24, 26, 28, 30, 31, 33, 34, 35, 38, 39, 40, 41, 42, 45, 46, 48, 49, 50, 51, 52, 53, 55, 56, 57, 58, 61, 62, 63, 64, 66, 67, 68, 69, 70, 71, 72, 73, 74, 75, 76, 78, 80, 81, 82, 83, 84, 85]\n",
      "Best Alpha for this fold: 0.0001, Best Fold Score: 0.05224748583571507\n",
      "Features to drop (correlation > 0.3): [5, 11, 12, 13, 14, 15, 16, 17, 18, 19, 20, 21, 22, 23, 24, 26, 29, 30, 31, 33, 34, 35, 36, 37, 38, 39, 40, 41, 42, 43, 44, 45, 48, 49, 50, 51, 52, 53, 55, 56, 57, 58, 60, 61, 62, 63, 64, 66, 67, 68, 69, 70, 71, 72, 74, 75, 76, 78, 80, 81, 82, 83, 84, 85]\n",
      "Best Alpha for this fold: 0.0001, Best Fold Score: 0.05110985727675327\n",
      "Threshold: 0.3, Tracking Error: 0.048087314021492064, Adj Tracking Error: 0.04887461989108659\n",
      "----------Starting threshold: 0.2-------------\n",
      "Features to drop (correlation > 0.2): [7, 9, 11, 12, 13, 14, 15, 16, 17, 18, 19, 20, 22, 23, 24, 25, 26, 30, 33, 34, 35, 37, 38, 39, 41, 44, 45, 46, 48, 52, 53, 55, 56, 60, 61, 63, 64, 65, 67, 68, 69, 70, 71, 72, 73, 74, 75, 76, 78, 80, 81, 82, 85]\n",
      "Best Alpha for this fold: 0.0001, Best Fold Score: 0.04838092215008797\n",
      "Features to drop (correlation > 0.2): [5, 6, 7, 9, 11, 12, 13, 14, 15, 16, 17, 19, 20, 21, 22, 23, 24, 25, 26, 30, 33, 34, 35, 37, 38, 39, 41, 42, 44, 45, 46, 48, 52, 53, 55, 56, 61, 63, 64, 65, 66, 67, 68, 69, 70, 71, 72, 73, 74, 75, 76, 78, 80, 81, 82, 84, 85]\n",
      "Best Alpha for this fold: 0.0001, Best Fold Score: 0.03741955036372877\n",
      "Features to drop (correlation > 0.2): [5, 6, 7, 9, 11, 12, 13, 14, 15, 16, 17, 19, 20, 21, 22, 24, 25, 26, 30, 33, 34, 35, 37, 38, 39, 41, 42, 45, 46, 48, 50, 52, 53, 55, 56, 57, 60, 61, 63, 64, 66, 67, 68, 69, 70, 71, 72, 73, 74, 75, 76, 78, 79, 80, 81, 82, 83, 84, 85]\n",
      "Best Alpha for this fold: 0.0001, Best Fold Score: 0.04350456007227078\n",
      "Features to drop (correlation > 0.2): [5, 6, 7, 9, 11, 12, 13, 14, 15, 16, 17, 18, 19, 20, 21, 22, 23, 24, 25, 26, 30, 31, 33, 34, 35, 36, 37, 38, 39, 40, 41, 42, 43, 44, 45, 46, 47, 48, 49, 50, 51, 52, 53, 54, 55, 56, 57, 60, 61, 62, 63, 64, 65, 66, 67, 68, 69, 70, 71, 72, 73, 74, 75, 76, 77, 78, 79, 80, 81, 82, 83, 84, 85]\n",
      "Best Alpha for this fold: 0.0001, Best Fold Score: 0.02880878548285247\n",
      "Features to drop (correlation > 0.2): [7, 9, 11, 13, 14, 15, 19, 20, 22, 23, 24, 25, 26, 30, 31, 33, 34, 35, 36, 37, 38, 40, 41, 42, 43, 45, 47, 48, 49, 50, 51, 52, 53, 54, 55, 56, 57, 58, 60, 61, 62, 63, 64, 65, 66, 67, 68, 69, 70, 71, 72, 73, 74, 75, 76, 77, 78, 79, 80, 81, 82, 83, 84, 85]\n",
      "Best Alpha for this fold: 0.0001, Best Fold Score: 0.03850392945617887\n",
      "Features to drop (correlation > 0.2): [11, 14, 15, 16, 17, 19, 20, 22, 23, 24, 25, 26, 30, 31, 33, 34, 35, 36, 37, 38, 41, 42, 43, 45, 46, 48, 49, 50, 51, 52, 53, 55, 56, 57, 60, 61, 62, 63, 64, 65, 66, 67, 68, 69, 70, 71, 72, 73, 74, 75, 76, 78, 80, 81, 82, 83, 84, 85]\n",
      "Best Alpha for this fold: 0.0001, Best Fold Score: 0.04275663190016852\n",
      "Features to drop (correlation > 0.2): [5, 6, 11, 14, 15, 16, 17, 18, 19, 20, 22, 23, 24, 25, 26, 30, 31, 33, 34, 35, 36, 37, 38, 39, 41, 42, 43, 44, 45, 46, 48, 49, 50, 51, 52, 53, 55, 56, 57, 58, 60, 61, 62, 63, 64, 65, 66, 67, 68, 69, 70, 71, 72, 73, 74, 75, 76, 77, 78, 79, 80, 81, 82, 83, 84, 85]\n",
      "Best Alpha for this fold: 0.0001, Best Fold Score: 0.040333011356311704\n",
      "Features to drop (correlation > 0.2): [5, 11, 14, 15, 16, 17, 18, 19, 20, 22, 23, 24, 25, 26, 30, 31, 33, 34, 35, 36, 37, 38, 39, 40, 41, 42, 43, 44, 45, 46, 48, 49, 50, 51, 52, 53, 55, 56, 57, 58, 60, 61, 62, 63, 64, 65, 66, 67, 68, 69, 70, 71, 72, 73, 74, 75, 76, 77, 78, 79, 80, 81, 82, 83, 84, 85]\n",
      "Best Alpha for this fold: 0.0001, Best Fold Score: 0.04297636703968765\n",
      "Features to drop (correlation > 0.2): [5, 7, 9, 11, 12, 13, 14, 15, 16, 17, 18, 19, 20, 22, 23, 24, 25, 26, 30, 31, 33, 34, 35, 36, 37, 38, 39, 41, 42, 43, 44, 45, 46, 47, 48, 49, 50, 51, 52, 53, 55, 56, 58, 60, 61, 62, 63, 64, 65, 66, 67, 68, 69, 70, 71, 72, 73, 74, 75, 76, 78, 79, 80, 81, 82, 83, 84, 85]\n",
      "Best Alpha for this fold: 0.0001, Best Fold Score: 0.12269496868200498\n",
      "Features to drop (correlation > 0.2): [1, 3, 4, 5, 6, 7, 8, 9, 10, 11, 12, 13, 14, 15, 16, 17, 18, 19, 20, 21, 22, 23, 24, 26, 27, 28, 29, 30, 31, 32, 33, 34, 35, 36, 37, 38, 39, 40, 41, 42, 43, 44, 45, 46, 47, 48, 49, 50, 51, 52, 53, 54, 55, 56, 57, 58, 60, 61, 62, 63, 64, 65, 66, 67, 68, 69, 70, 71, 72, 73, 74, 75, 76, 77, 78, 79, 80, 81, 82, 83, 84, 85]\n",
      "Best Alpha for this fold: 0.0001, Best Fold Score: 0.052167140522416076\n",
      "Features to drop (correlation > 0.2): [1, 2, 3, 4, 5, 6, 7, 8, 9, 10, 11, 12, 13, 14, 15, 16, 17, 18, 19, 20, 21, 22, 23, 24, 26, 27, 28, 29, 30, 31, 32, 33, 34, 35, 36, 37, 38, 39, 40, 41, 42, 43, 44, 45, 46, 47, 48, 49, 50, 51, 52, 53, 54, 55, 56, 57, 58, 60, 61, 62, 63, 64, 65, 66, 67, 68, 69, 70, 71, 72, 73, 74, 75, 76, 77, 78, 79, 80, 81, 82, 83, 84, 85]\n",
      "Best Alpha for this fold: 0.0001, Best Fold Score: 0.04257455666784294\n",
      "Features to drop (correlation > 0.2): [5, 6, 7, 8, 9, 10, 11, 12, 13, 14, 15, 16, 17, 18, 19, 20, 21, 22, 23, 24, 26, 28, 29, 30, 31, 33, 34, 35, 36, 37, 38, 39, 40, 41, 42, 43, 44, 45, 46, 47, 48, 49, 50, 51, 52, 53, 54, 55, 56, 57, 58, 60, 61, 62, 63, 64, 65, 66, 67, 68, 69, 70, 71, 72, 73, 74, 75, 76, 77, 78, 79, 80, 81, 82, 83, 84, 85]\n",
      "Best Alpha for this fold: 0.0001, Best Fold Score: 0.05408270076765034\n",
      "Features to drop (correlation > 0.2): [3, 5, 6, 7, 8, 9, 10, 11, 12, 13, 14, 15, 16, 17, 18, 19, 20, 21, 22, 23, 24, 26, 28, 29, 30, 31, 33, 34, 35, 36, 37, 38, 39, 40, 41, 42, 43, 44, 45, 46, 47, 48, 49, 50, 51, 52, 53, 54, 55, 56, 57, 58, 60, 61, 62, 63, 64, 65, 66, 67, 68, 69, 70, 71, 72, 73, 74, 75, 76, 77, 78, 79, 80, 81, 82, 83, 84, 85]\n",
      "Best Alpha for this fold: 0.0001, Best Fold Score: 0.05285794751565597\n",
      "Threshold: 0.2, Tracking Error: 0.049773928613604385, Adj Tracking Error: 0.050444974729514196\n"
     ]
    },
    {
     "data": {
      "image/png": "[encoded data removed]",
      "text/plain": [
       "<Figure size 640x480 with 2 Axes>"
      ]
     },
     "metadata": {},
     "output_type": "display_data"
    }
   ],
   "source": [
    "Corr_Lasso_plot(X,y)"
   ]
  },
  {
   "cell_type": "code",
   "execution_count": 30,
   "id": "21192c72",
   "metadata": {
    "execution": {
     "iopub.execute_input": "2024-12-14T14:01:05.753549Z",
     "iopub.status.busy": "2024-12-14T14:01:05.753290Z",
     "iopub.status.idle": "2024-12-14T14:15:01.295500Z",
     "shell.execute_reply": "2024-12-14T14:15:01.294438Z"
    },
    "papermill": {
     "duration": 835.563956,
     "end_time": "2024-12-14T14:15:01.300120",
     "exception": false,
     "start_time": "2024-12-14T14:01:05.736164",
     "status": "completed"
    },
    "tags": []
   },
   "outputs": [
    {
     "name": "stdout",
     "output_type": "stream",
     "text": [
      "----------Starting alpha 9.999999999999999e-06-------------\n",
      "Train period: 2015-02-02 10:19:00 to 2015-08-25 14:20:00\n",
      "Test period: 2015-08-25 14:21:00 to 2016-04-07 11:40:00\n",
      "Selected 86 stocks\n",
      "Best Alpha for this fold: 0.001, Best Fold Score: 0.014654312508769552\n",
      "Train period: 2015-02-19 15:12:00 to 2016-04-07 11:40:00\n",
      "Test period: 2016-04-07 11:41:00 to 2016-10-18 12:52:00\n",
      "Selected 86 stocks\n",
      "Best Alpha for this fold: 0.0001, Best Fold Score: 0.009424800735073341\n",
      "Train period: 2015-09-29 11:53:00 to 2016-10-18 12:52:00\n",
      "Test period: 2016-10-18 12:53:00 to 2017-05-02 12:41:00\n",
      "Selected 86 stocks\n",
      "Best Alpha for this fold: 0.0001, Best Fold Score: 0.004777336705151883\n",
      "Train period: 2016-04-29 14:28:00 to 2017-05-02 12:41:00\n",
      "Test period: 2017-05-02 12:42:00 to 2017-11-10 11:24:00\n",
      "Selected 86 stocks\n",
      "Best Alpha for this fold: 0.00025, Best Fold Score: 0.005217578991122073\n",
      "Train period: 2016-11-07 14:17:00 to 2017-11-10 11:24:00\n",
      "Test period: 2017-11-10 11:25:00 to 2018-05-24 10:55:00\n",
      "Selected 85 stocks\n",
      "Best Alpha for this fold: 0.0001, Best Fold Score: 0.004189453071699704\n",
      "Train period: 2017-05-22 09:20:00 to 2018-05-24 10:55:00\n",
      "Test period: 2018-05-24 10:56:00 to 2018-12-06 13:19:00\n",
      "Selected 86 stocks\n",
      "Best Alpha for this fold: 0.0001, Best Fold Score: 0.0060068845667551165\n",
      "Train period: 2017-11-29 14:13:00 to 2018-12-06 13:19:00\n",
      "Test period: 2018-12-06 13:20:00 to 2019-07-17 10:21:00\n",
      "Selected 86 stocks\n",
      "Best Alpha for this fold: 0.00025, Best Fold Score: 0.005268940131079689\n",
      "Train period: 2018-06-12 13:54:00 to 2019-07-17 10:21:00\n",
      "Test period: 2019-07-17 10:24:00 to 2020-02-13 11:53:00\n",
      "Selected 85 stocks\n",
      "Best Alpha for this fold: 0.00025, Best Fold Score: 0.006545227920493731\n",
      "Train period: 2018-12-27 13:54:00 to 2020-02-13 11:53:00\n",
      "Test period: 2020-02-13 11:54:00 to 2020-09-01 12:07:00\n",
      "Selected 85 stocks\n",
      "Best Alpha for this fold: 0.0001, Best Fold Score: 0.0125081756941028\n",
      "Train period: 2019-08-07 14:46:00 to 2020-09-01 12:07:00\n",
      "Test period: 2020-09-01 12:08:00 to 2021-03-16 09:33:00\n"
     ]
    },
    {
     "name": "stderr",
     "output_type": "stream",
     "text": [
      "/opt/conda/lib/python3.10/site-packages/sklearn/linear_model/_coordinate_descent.py:631: ConvergenceWarning: Objective did not converge. You might want to increase the number of iterations, check the scale of the features or consider increasing regularisation. Duality gap: 3.035e+00, tolerance: 8.593e-02\n",
      "  model = cd_fast.enet_coordinate_descent(\n"
     ]
    },
    {
     "name": "stdout",
     "output_type": "stream",
     "text": [
      "Selected 86 stocks\n",
      "Best Alpha for this fold: 0.0001, Best Fold Score: 0.007362143134408823\n",
      "Train period: 2020-03-12 11:54:00 to 2021-03-16 09:33:00\n",
      "Test period: 2021-03-16 09:34:00 to 2021-09-28 14:42:00\n"
     ]
    },
    {
     "name": "stderr",
     "output_type": "stream",
     "text": [
      "/opt/conda/lib/python3.10/site-packages/sklearn/linear_model/_coordinate_descent.py:631: ConvergenceWarning: Objective did not converge. You might want to increase the number of iterations, check the scale of the features or consider increasing regularisation. Duality gap: 3.087e+00, tolerance: 8.393e-02\n",
      "  model = cd_fast.enet_coordinate_descent(\n"
     ]
    },
    {
     "name": "stdout",
     "output_type": "stream",
     "text": [
      "Selected 86 stocks\n",
      "Best Alpha for this fold: 0.0001, Best Fold Score: 0.005971342493370906\n",
      "Train period: 2020-09-28 10:52:00 to 2021-09-28 14:42:00\n",
      "Test period: 2021-09-28 14:43:00 to 2022-04-12 10:57:00\n",
      "Selected 86 stocks\n",
      "Best Alpha for this fold: 0.0001, Best Fold Score: 0.00804227386457476\n",
      "Train period: 2021-04-12 11:55:00 to 2022-04-12 10:57:00\n",
      "Test period: 2022-04-12 10:58:00 to 2022-10-24 19:14:00\n"
     ]
    },
    {
     "name": "stderr",
     "output_type": "stream",
     "text": [
      "/opt/conda/lib/python3.10/site-packages/sklearn/linear_model/_coordinate_descent.py:631: ConvergenceWarning: Objective did not converge. You might want to increase the number of iterations, check the scale of the features or consider increasing regularisation. Duality gap: 1.411e-01, tolerance: 2.130e-02\n",
      "  model = cd_fast.enet_coordinate_descent(\n"
     ]
    },
    {
     "name": "stdout",
     "output_type": "stream",
     "text": [
      "Selected 86 stocks\n",
      "Best Alpha for this fold: 0.0001, Best Fold Score: 0.006315252151277897\n",
      "Alpha: 9.999999999999999e-06, Number of Stocks: 85.76923076923077, Average Tracking Error (bps): 0.007406439816334163\n",
      "----------Starting alpha 1.2915496650148827e-05-------------\n",
      "Train period: 2015-02-02 10:19:00 to 2015-08-25 14:20:00\n",
      "Test period: 2015-08-25 14:21:00 to 2016-04-07 11:40:00\n",
      "Selected 86 stocks\n",
      "Best Alpha for this fold: 0.001, Best Fold Score: 0.014654312508769552\n",
      "Train period: 2015-02-19 15:12:00 to 2016-04-07 11:40:00\n",
      "Test period: 2016-04-07 11:41:00 to 2016-10-18 12:52:00\n",
      "Selected 86 stocks\n",
      "Best Alpha for this fold: 0.0001, Best Fold Score: 0.009424800735073341\n",
      "Train period: 2015-09-29 11:53:00 to 2016-10-18 12:52:00\n",
      "Test period: 2016-10-18 12:53:00 to 2017-05-02 12:41:00\n",
      "Selected 86 stocks\n",
      "Best Alpha for this fold: 0.0001, Best Fold Score: 0.004777336705151883\n",
      "Train period: 2016-04-29 14:28:00 to 2017-05-02 12:41:00\n",
      "Test period: 2017-05-02 12:42:00 to 2017-11-10 11:24:00\n",
      "Selected 86 stocks\n",
      "Best Alpha for this fold: 0.00025, Best Fold Score: 0.005217578991122073\n",
      "Train period: 2016-11-07 14:17:00 to 2017-11-10 11:24:00\n",
      "Test period: 2017-11-10 11:25:00 to 2018-05-24 10:55:00\n",
      "Selected 85 stocks\n",
      "Best Alpha for this fold: 0.0001, Best Fold Score: 0.004189453071699704\n",
      "Train period: 2017-05-22 09:20:00 to 2018-05-24 10:55:00\n",
      "Test period: 2018-05-24 10:56:00 to 2018-12-06 13:19:00\n",
      "Selected 86 stocks\n",
      "Best Alpha for this fold: 0.0001, Best Fold Score: 0.0060068845667551165\n",
      "Train period: 2017-11-29 14:13:00 to 2018-12-06 13:19:00\n",
      "Test period: 2018-12-06 13:20:00 to 2019-07-17 10:21:00\n",
      "Selected 86 stocks\n",
      "Best Alpha for this fold: 0.00025, Best Fold Score: 0.005268940131079689\n",
      "Train period: 2018-06-12 13:54:00 to 2019-07-17 10:21:00\n",
      "Test period: 2019-07-17 10:24:00 to 2020-02-13 11:53:00\n",
      "Selected 85 stocks\n",
      "Best Alpha for this fold: 0.00025, Best Fold Score: 0.006545227920493731\n",
      "Train period: 2018-12-27 13:54:00 to 2020-02-13 11:53:00\n",
      "Test period: 2020-02-13 11:54:00 to 2020-09-01 12:07:00\n",
      "Selected 85 stocks\n",
      "Best Alpha for this fold: 0.0001, Best Fold Score: 0.0125081756941028\n",
      "Train period: 2019-08-07 14:46:00 to 2020-09-01 12:07:00\n",
      "Test period: 2020-09-01 12:08:00 to 2021-03-16 09:33:00\n"
     ]
    },
    {
     "name": "stderr",
     "output_type": "stream",
     "text": [
      "/opt/conda/lib/python3.10/site-packages/sklearn/linear_model/_coordinate_descent.py:631: ConvergenceWarning: Objective did not converge. You might want to increase the number of iterations, check the scale of the features or consider increasing regularisation. Duality gap: 2.971e+00, tolerance: 8.593e-02\n",
      "  model = cd_fast.enet_coordinate_descent(\n"
     ]
    },
    {
     "name": "stdout",
     "output_type": "stream",
     "text": [
      "Selected 86 stocks\n",
      "Best Alpha for this fold: 0.0001, Best Fold Score: 0.007362143134408823\n",
      "Train period: 2020-03-12 11:54:00 to 2021-03-16 09:33:00\n",
      "Test period: 2021-03-16 09:34:00 to 2021-09-28 14:42:00\n"
     ]
    },
    {
     "name": "stderr",
     "output_type": "stream",
     "text": [
      "/opt/conda/lib/python3.10/site-packages/sklearn/linear_model/_coordinate_descent.py:631: ConvergenceWarning: Objective did not converge. You might want to increase the number of iterations, check the scale of the features or consider increasing regularisation. Duality gap: 3.026e+00, tolerance: 8.393e-02\n",
      "  model = cd_fast.enet_coordinate_descent(\n"
     ]
    },
    {
     "name": "stdout",
     "output_type": "stream",
     "text": [
      "Selected 86 stocks\n",
      "Best Alpha for this fold: 0.0001, Best Fold Score: 0.005971342493370906\n",
      "Train period: 2020-09-28 10:52:00 to 2021-09-28 14:42:00\n",
      "Test period: 2021-09-28 14:43:00 to 2022-04-12 10:57:00\n",
      "Selected 86 stocks\n",
      "Best Alpha for this fold: 0.0001, Best Fold Score: 0.00804227386457476\n",
      "Train period: 2021-04-12 11:55:00 to 2022-04-12 10:57:00\n",
      "Test period: 2022-04-12 10:58:00 to 2022-10-24 19:14:00\n"
     ]
    },
    {
     "name": "stderr",
     "output_type": "stream",
     "text": [
      "/opt/conda/lib/python3.10/site-packages/sklearn/linear_model/_coordinate_descent.py:631: ConvergenceWarning: Objective did not converge. You might want to increase the number of iterations, check the scale of the features or consider increasing regularisation. Duality gap: 1.013e-01, tolerance: 2.130e-02\n",
      "  model = cd_fast.enet_coordinate_descent(\n"
     ]
    },
    {
     "name": "stdout",
     "output_type": "stream",
     "text": [
      "Selected 86 stocks\n",
      "Best Alpha for this fold: 0.0001, Best Fold Score: 0.006315252151277897\n",
      "Alpha: 1.2915496650148827e-05, Number of Stocks: 85.76923076923077, Average Tracking Error (bps): 0.007406439816334163\n",
      "----------Starting alpha 1.6681005372000593e-05-------------\n",
      "Train period: 2015-02-02 10:19:00 to 2015-08-25 14:20:00\n",
      "Test period: 2015-08-25 14:21:00 to 2016-04-07 11:40:00\n",
      "Selected 86 stocks\n",
      "Best Alpha for this fold: 0.001, Best Fold Score: 0.014654312508769552\n",
      "Train period: 2015-02-19 15:12:00 to 2016-04-07 11:40:00\n",
      "Test period: 2016-04-07 11:41:00 to 2016-10-18 12:52:00\n",
      "Selected 86 stocks\n",
      "Best Alpha for this fold: 0.0001, Best Fold Score: 0.009424800735073341\n",
      "Train period: 2015-09-29 11:53:00 to 2016-10-18 12:52:00\n",
      "Test period: 2016-10-18 12:53:00 to 2017-05-02 12:41:00\n",
      "Selected 86 stocks\n",
      "Best Alpha for this fold: 0.0001, Best Fold Score: 0.004777336705151883\n",
      "Train period: 2016-04-29 14:28:00 to 2017-05-02 12:41:00\n",
      "Test period: 2017-05-02 12:42:00 to 2017-11-10 11:24:00\n",
      "Selected 86 stocks\n",
      "Best Alpha for this fold: 0.00025, Best Fold Score: 0.005217578991122073\n",
      "Train period: 2016-11-07 14:17:00 to 2017-11-10 11:24:00\n",
      "Test period: 2017-11-10 11:25:00 to 2018-05-24 10:55:00\n",
      "Selected 85 stocks\n",
      "Best Alpha for this fold: 0.0001, Best Fold Score: 0.004189453071699704\n",
      "Train period: 2017-05-22 09:20:00 to 2018-05-24 10:55:00\n",
      "Test period: 2018-05-24 10:56:00 to 2018-12-06 13:19:00\n",
      "Selected 85 stocks\n",
      "Best Alpha for this fold: 0.0001, Best Fold Score: 0.006006909071233276\n",
      "Train period: 2017-11-29 14:13:00 to 2018-12-06 13:19:00\n",
      "Test period: 2018-12-06 13:20:00 to 2019-07-17 10:21:00\n",
      "Selected 86 stocks\n",
      "Best Alpha for this fold: 0.00025, Best Fold Score: 0.005268940131079689\n",
      "Train period: 2018-06-12 13:54:00 to 2019-07-17 10:21:00\n",
      "Test period: 2019-07-17 10:24:00 to 2020-02-13 11:53:00\n",
      "Selected 85 stocks\n",
      "Best Alpha for this fold: 0.00025, Best Fold Score: 0.006545227920493731\n",
      "Train period: 2018-12-27 13:54:00 to 2020-02-13 11:53:00\n",
      "Test period: 2020-02-13 11:54:00 to 2020-09-01 12:07:00\n",
      "Selected 85 stocks\n",
      "Best Alpha for this fold: 0.0001, Best Fold Score: 0.0125081756941028\n",
      "Train period: 2019-08-07 14:46:00 to 2020-09-01 12:07:00\n",
      "Test period: 2020-09-01 12:08:00 to 2021-03-16 09:33:00\n"
     ]
    },
    {
     "name": "stderr",
     "output_type": "stream",
     "text": [
      "/opt/conda/lib/python3.10/site-packages/sklearn/linear_model/_coordinate_descent.py:631: ConvergenceWarning: Objective did not converge. You might want to increase the number of iterations, check the scale of the features or consider increasing regularisation. Duality gap: 2.873e+00, tolerance: 8.593e-02\n",
      "  model = cd_fast.enet_coordinate_descent(\n"
     ]
    },
    {
     "name": "stdout",
     "output_type": "stream",
     "text": [
      "Selected 86 stocks\n",
      "Best Alpha for this fold: 0.0001, Best Fold Score: 0.007362143134408823\n",
      "Train period: 2020-03-12 11:54:00 to 2021-03-16 09:33:00\n",
      "Test period: 2021-03-16 09:34:00 to 2021-09-28 14:42:00\n"
     ]
    },
    {
     "name": "stderr",
     "output_type": "stream",
     "text": [
      "/opt/conda/lib/python3.10/site-packages/sklearn/linear_model/_coordinate_descent.py:631: ConvergenceWarning: Objective did not converge. You might want to increase the number of iterations, check the scale of the features or consider increasing regularisation. Duality gap: 2.951e+00, tolerance: 8.393e-02\n",
      "  model = cd_fast.enet_coordinate_descent(\n"
     ]
    },
    {
     "name": "stdout",
     "output_type": "stream",
     "text": [
      "Selected 86 stocks\n",
      "Best Alpha for this fold: 0.0001, Best Fold Score: 0.005971342493370906\n",
      "Train period: 2020-09-28 10:52:00 to 2021-09-28 14:42:00\n",
      "Test period: 2021-09-28 14:43:00 to 2022-04-12 10:57:00\n",
      "Selected 86 stocks\n",
      "Best Alpha for this fold: 0.0001, Best Fold Score: 0.00804227386457476\n",
      "Train period: 2021-04-12 11:55:00 to 2022-04-12 10:57:00\n",
      "Test period: 2022-04-12 10:58:00 to 2022-10-24 19:14:00\n"
     ]
    },
    {
     "name": "stderr",
     "output_type": "stream",
     "text": [
      "/opt/conda/lib/python3.10/site-packages/sklearn/linear_model/_coordinate_descent.py:631: ConvergenceWarning: Objective did not converge. You might want to increase the number of iterations, check the scale of the features or consider increasing regularisation. Duality gap: 7.382e-02, tolerance: 2.130e-02\n",
      "  model = cd_fast.enet_coordinate_descent(\n"
     ]
    },
    {
     "name": "stdout",
     "output_type": "stream",
     "text": [
      "Selected 86 stocks\n",
      "Best Alpha for this fold: 0.0001, Best Fold Score: 0.006315252151277897\n",
      "Alpha: 1.6681005372000593e-05, Number of Stocks: 85.6923076923077, Average Tracking Error (bps): 0.0074064417013004775\n",
      "----------Starting alpha 2.154434690031882e-05-------------\n",
      "Train period: 2015-02-02 10:19:00 to 2015-08-25 14:20:00\n",
      "Test period: 2015-08-25 14:21:00 to 2016-04-07 11:40:00\n",
      "Selected 86 stocks\n",
      "Best Alpha for this fold: 0.001, Best Fold Score: 0.014654312508769552\n",
      "Train period: 2015-02-19 15:12:00 to 2016-04-07 11:40:00\n",
      "Test period: 2016-04-07 11:41:00 to 2016-10-18 12:52:00\n",
      "Selected 86 stocks\n",
      "Best Alpha for this fold: 0.0001, Best Fold Score: 0.009424800735073341\n",
      "Train period: 2015-09-29 11:53:00 to 2016-10-18 12:52:00\n",
      "Test period: 2016-10-18 12:53:00 to 2017-05-02 12:41:00\n",
      "Selected 86 stocks\n",
      "Best Alpha for this fold: 0.0001, Best Fold Score: 0.004777336705151883\n",
      "Train period: 2016-04-29 14:28:00 to 2017-05-02 12:41:00\n",
      "Test period: 2017-05-02 12:42:00 to 2017-11-10 11:24:00\n",
      "Selected 86 stocks\n",
      "Best Alpha for this fold: 0.00025, Best Fold Score: 0.005217578991122073\n",
      "Train period: 2016-11-07 14:17:00 to 2017-11-10 11:24:00\n",
      "Test period: 2017-11-10 11:25:00 to 2018-05-24 10:55:00\n",
      "Selected 85 stocks\n",
      "Best Alpha for this fold: 0.0001, Best Fold Score: 0.004189453071699704\n",
      "Train period: 2017-05-22 09:20:00 to 2018-05-24 10:55:00\n",
      "Test period: 2018-05-24 10:56:00 to 2018-12-06 13:19:00\n",
      "Selected 85 stocks\n",
      "Best Alpha for this fold: 0.0001, Best Fold Score: 0.006006909071233276\n",
      "Train period: 2017-11-29 14:13:00 to 2018-12-06 13:19:00\n",
      "Test period: 2018-12-06 13:20:00 to 2019-07-17 10:21:00\n",
      "Selected 86 stocks\n",
      "Best Alpha for this fold: 0.00025, Best Fold Score: 0.005268940131079689\n",
      "Train period: 2018-06-12 13:54:00 to 2019-07-17 10:21:00\n",
      "Test period: 2019-07-17 10:24:00 to 2020-02-13 11:53:00\n",
      "Selected 85 stocks\n",
      "Best Alpha for this fold: 0.00025, Best Fold Score: 0.006545227920493731\n",
      "Train period: 2018-12-27 13:54:00 to 2020-02-13 11:53:00\n",
      "Test period: 2020-02-13 11:54:00 to 2020-09-01 12:07:00\n",
      "Selected 85 stocks\n",
      "Best Alpha for this fold: 0.0001, Best Fold Score: 0.0125081756941028\n",
      "Train period: 2019-08-07 14:46:00 to 2020-09-01 12:07:00\n",
      "Test period: 2020-09-01 12:08:00 to 2021-03-16 09:33:00\n"
     ]
    },
    {
     "name": "stderr",
     "output_type": "stream",
     "text": [
      "/opt/conda/lib/python3.10/site-packages/sklearn/linear_model/_coordinate_descent.py:631: ConvergenceWarning: Objective did not converge. You might want to increase the number of iterations, check the scale of the features or consider increasing regularisation. Duality gap: 2.716e+00, tolerance: 8.593e-02\n",
      "  model = cd_fast.enet_coordinate_descent(\n"
     ]
    },
    {
     "name": "stdout",
     "output_type": "stream",
     "text": [
      "Selected 86 stocks\n",
      "Best Alpha for this fold: 0.0001, Best Fold Score: 0.007362143134408823\n",
      "Train period: 2020-03-12 11:54:00 to 2021-03-16 09:33:00\n",
      "Test period: 2021-03-16 09:34:00 to 2021-09-28 14:42:00\n"
     ]
    },
    {
     "name": "stderr",
     "output_type": "stream",
     "text": [
      "/opt/conda/lib/python3.10/site-packages/sklearn/linear_model/_coordinate_descent.py:631: ConvergenceWarning: Objective did not converge. You might want to increase the number of iterations, check the scale of the features or consider increasing regularisation. Duality gap: 2.857e+00, tolerance: 8.393e-02\n",
      "  model = cd_fast.enet_coordinate_descent(\n"
     ]
    },
    {
     "name": "stdout",
     "output_type": "stream",
     "text": [
      "Selected 86 stocks\n",
      "Best Alpha for this fold: 0.0001, Best Fold Score: 0.005971342493370906\n",
      "Train period: 2020-09-28 10:52:00 to 2021-09-28 14:42:00\n",
      "Test period: 2021-09-28 14:43:00 to 2022-04-12 10:57:00\n",
      "Selected 86 stocks\n",
      "Best Alpha for this fold: 0.0001, Best Fold Score: 0.00804227386457476\n",
      "Train period: 2021-04-12 11:55:00 to 2022-04-12 10:57:00\n",
      "Test period: 2022-04-12 10:58:00 to 2022-10-24 19:14:00\n"
     ]
    },
    {
     "name": "stderr",
     "output_type": "stream",
     "text": [
      "/opt/conda/lib/python3.10/site-packages/sklearn/linear_model/_coordinate_descent.py:631: ConvergenceWarning: Objective did not converge. You might want to increase the number of iterations, check the scale of the features or consider increasing regularisation. Duality gap: 5.467e-02, tolerance: 2.130e-02\n",
      "  model = cd_fast.enet_coordinate_descent(\n"
     ]
    },
    {
     "name": "stdout",
     "output_type": "stream",
     "text": [
      "Selected 86 stocks\n",
      "Best Alpha for this fold: 0.0001, Best Fold Score: 0.006315252151277897\n",
      "Alpha: 2.154434690031882e-05, Number of Stocks: 85.6923076923077, Average Tracking Error (bps): 0.0074064417013004775\n",
      "----------Starting alpha 2.7825594022071256e-05-------------\n",
      "Train period: 2015-02-02 10:19:00 to 2015-08-25 14:20:00\n",
      "Test period: 2015-08-25 14:21:00 to 2016-04-07 11:40:00\n",
      "Selected 85 stocks\n",
      "Best Alpha for this fold: 0.001, Best Fold Score: 0.014654312518937495\n",
      "Train period: 2015-02-19 15:12:00 to 2016-04-07 11:40:00\n",
      "Test period: 2016-04-07 11:41:00 to 2016-10-18 12:52:00\n",
      "Selected 86 stocks\n",
      "Best Alpha for this fold: 0.0001, Best Fold Score: 0.009424800735073341\n",
      "Train period: 2015-09-29 11:53:00 to 2016-10-18 12:52:00\n",
      "Test period: 2016-10-18 12:53:00 to 2017-05-02 12:41:00\n",
      "Selected 86 stocks\n",
      "Best Alpha for this fold: 0.0001, Best Fold Score: 0.004777336705151883\n",
      "Train period: 2016-04-29 14:28:00 to 2017-05-02 12:41:00\n",
      "Test period: 2017-05-02 12:42:00 to 2017-11-10 11:24:00\n",
      "Selected 86 stocks\n",
      "Best Alpha for this fold: 0.00025, Best Fold Score: 0.005217578991122073\n",
      "Train period: 2016-11-07 14:17:00 to 2017-11-10 11:24:00\n",
      "Test period: 2017-11-10 11:25:00 to 2018-05-24 10:55:00\n",
      "Selected 85 stocks\n",
      "Best Alpha for this fold: 0.0001, Best Fold Score: 0.004189453071699704\n",
      "Train period: 2017-05-22 09:20:00 to 2018-05-24 10:55:00\n",
      "Test period: 2018-05-24 10:56:00 to 2018-12-06 13:19:00\n",
      "Selected 85 stocks\n",
      "Best Alpha for this fold: 0.0001, Best Fold Score: 0.006006909071233276\n",
      "Train period: 2017-11-29 14:13:00 to 2018-12-06 13:19:00\n",
      "Test period: 2018-12-06 13:20:00 to 2019-07-17 10:21:00\n",
      "Selected 85 stocks\n",
      "Best Alpha for this fold: 0.00025, Best Fold Score: 0.005268809519334322\n",
      "Train period: 2018-06-12 13:54:00 to 2019-07-17 10:21:00\n",
      "Test period: 2019-07-17 10:24:00 to 2020-02-13 11:53:00\n",
      "Selected 85 stocks\n",
      "Best Alpha for this fold: 0.00025, Best Fold Score: 0.006545227920493731\n",
      "Train period: 2018-12-27 13:54:00 to 2020-02-13 11:53:00\n",
      "Test period: 2020-02-13 11:54:00 to 2020-09-01 12:07:00\n",
      "Selected 85 stocks\n",
      "Best Alpha for this fold: 0.0001, Best Fold Score: 0.0125081756941028\n",
      "Train period: 2019-08-07 14:46:00 to 2020-09-01 12:07:00\n",
      "Test period: 2020-09-01 12:08:00 to 2021-03-16 09:33:00\n"
     ]
    },
    {
     "name": "stderr",
     "output_type": "stream",
     "text": [
      "/opt/conda/lib/python3.10/site-packages/sklearn/linear_model/_coordinate_descent.py:631: ConvergenceWarning: Objective did not converge. You might want to increase the number of iterations, check the scale of the features or consider increasing regularisation. Duality gap: 2.625e+00, tolerance: 8.593e-02\n",
      "  model = cd_fast.enet_coordinate_descent(\n"
     ]
    },
    {
     "name": "stdout",
     "output_type": "stream",
     "text": [
      "Selected 86 stocks\n",
      "Best Alpha for this fold: 0.0001, Best Fold Score: 0.007362143134408823\n",
      "Train period: 2020-03-12 11:54:00 to 2021-03-16 09:33:00\n",
      "Test period: 2021-03-16 09:34:00 to 2021-09-28 14:42:00\n"
     ]
    },
    {
     "name": "stderr",
     "output_type": "stream",
     "text": [
      "/opt/conda/lib/python3.10/site-packages/sklearn/linear_model/_coordinate_descent.py:631: ConvergenceWarning: Objective did not converge. You might want to increase the number of iterations, check the scale of the features or consider increasing regularisation. Duality gap: 2.751e+00, tolerance: 8.393e-02\n",
      "  model = cd_fast.enet_coordinate_descent(\n"
     ]
    },
    {
     "name": "stdout",
     "output_type": "stream",
     "text": [
      "Selected 86 stocks\n",
      "Best Alpha for this fold: 0.0001, Best Fold Score: 0.005971342493370906\n",
      "Train period: 2020-09-28 10:52:00 to 2021-09-28 14:42:00\n",
      "Test period: 2021-09-28 14:43:00 to 2022-04-12 10:57:00\n",
      "Selected 86 stocks\n",
      "Best Alpha for this fold: 0.0001, Best Fold Score: 0.00804227386457476\n",
      "Train period: 2021-04-12 11:55:00 to 2022-04-12 10:57:00\n",
      "Test period: 2022-04-12 10:58:00 to 2022-10-24 19:14:00\n"
     ]
    },
    {
     "name": "stderr",
     "output_type": "stream",
     "text": [
      "/opt/conda/lib/python3.10/site-packages/sklearn/linear_model/_coordinate_descent.py:631: ConvergenceWarning: Objective did not converge. You might want to increase the number of iterations, check the scale of the features or consider increasing regularisation. Duality gap: 4.261e-02, tolerance: 2.130e-02\n",
      "  model = cd_fast.enet_coordinate_descent(\n"
     ]
    },
    {
     "name": "stdout",
     "output_type": "stream",
     "text": [
      "Selected 86 stocks\n",
      "Best Alpha for this fold: 0.0001, Best Fold Score: 0.006315252151277897\n",
      "Alpha: 2.7825594022071256e-05, Number of Stocks: 85.53846153846153, Average Tracking Error (bps): 0.007406431655035168\n",
      "----------Starting alpha 3.5938136638046256e-05-------------\n",
      "Train period: 2015-02-02 10:19:00 to 2015-08-25 14:20:00\n",
      "Test period: 2015-08-25 14:21:00 to 2016-04-07 11:40:00\n",
      "Selected 85 stocks\n",
      "Best Alpha for this fold: 0.001, Best Fold Score: 0.014654312518937495\n",
      "Train period: 2015-02-19 15:12:00 to 2016-04-07 11:40:00\n",
      "Test period: 2016-04-07 11:41:00 to 2016-10-18 12:52:00\n",
      "Selected 85 stocks\n",
      "Best Alpha for this fold: 0.0001, Best Fold Score: 0.009424800885196533\n",
      "Train period: 2015-09-29 11:53:00 to 2016-10-18 12:52:00\n",
      "Test period: 2016-10-18 12:53:00 to 2017-05-02 12:41:00\n",
      "Selected 86 stocks\n",
      "Best Alpha for this fold: 0.0001, Best Fold Score: 0.004777336705151883\n",
      "Train period: 2016-04-29 14:28:00 to 2017-05-02 12:41:00\n",
      "Test period: 2017-05-02 12:42:00 to 2017-11-10 11:24:00\n",
      "Selected 86 stocks\n",
      "Best Alpha for this fold: 0.00025, Best Fold Score: 0.005217578991122073\n",
      "Train period: 2016-11-07 14:17:00 to 2017-11-10 11:24:00\n",
      "Test period: 2017-11-10 11:25:00 to 2018-05-24 10:55:00\n",
      "Selected 85 stocks\n",
      "Best Alpha for this fold: 0.0001, Best Fold Score: 0.004189453071699704\n",
      "Train period: 2017-05-22 09:20:00 to 2018-05-24 10:55:00\n",
      "Test period: 2018-05-24 10:56:00 to 2018-12-06 13:19:00\n",
      "Selected 85 stocks\n",
      "Best Alpha for this fold: 0.0001, Best Fold Score: 0.006006909071233276\n",
      "Train period: 2017-11-29 14:13:00 to 2018-12-06 13:19:00\n",
      "Test period: 2018-12-06 13:20:00 to 2019-07-17 10:21:00\n",
      "Selected 85 stocks\n",
      "Best Alpha for this fold: 0.00025, Best Fold Score: 0.005268809519334322\n",
      "Train period: 2018-06-12 13:54:00 to 2019-07-17 10:21:00\n",
      "Test period: 2019-07-17 10:24:00 to 2020-02-13 11:53:00\n",
      "Selected 85 stocks\n",
      "Best Alpha for this fold: 0.00025, Best Fold Score: 0.006545227920493731\n",
      "Train period: 2018-12-27 13:54:00 to 2020-02-13 11:53:00\n",
      "Test period: 2020-02-13 11:54:00 to 2020-09-01 12:07:00\n",
      "Selected 85 stocks\n",
      "Best Alpha for this fold: 0.0001, Best Fold Score: 0.0125081756941028\n",
      "Train period: 2019-08-07 14:46:00 to 2020-09-01 12:07:00\n",
      "Test period: 2020-09-01 12:08:00 to 2021-03-16 09:33:00\n"
     ]
    },
    {
     "name": "stderr",
     "output_type": "stream",
     "text": [
      "/opt/conda/lib/python3.10/site-packages/sklearn/linear_model/_coordinate_descent.py:631: ConvergenceWarning: Objective did not converge. You might want to increase the number of iterations, check the scale of the features or consider increasing regularisation. Duality gap: 2.509e+00, tolerance: 8.593e-02\n",
      "  model = cd_fast.enet_coordinate_descent(\n"
     ]
    },
    {
     "name": "stdout",
     "output_type": "stream",
     "text": [
      "Selected 86 stocks\n",
      "Best Alpha for this fold: 0.0001, Best Fold Score: 0.007362143134408823\n",
      "Train period: 2020-03-12 11:54:00 to 2021-03-16 09:33:00\n",
      "Test period: 2021-03-16 09:34:00 to 2021-09-28 14:42:00\n"
     ]
    },
    {
     "name": "stderr",
     "output_type": "stream",
     "text": [
      "/opt/conda/lib/python3.10/site-packages/sklearn/linear_model/_coordinate_descent.py:631: ConvergenceWarning: Objective did not converge. You might want to increase the number of iterations, check the scale of the features or consider increasing regularisation. Duality gap: 2.633e+00, tolerance: 8.393e-02\n",
      "  model = cd_fast.enet_coordinate_descent(\n"
     ]
    },
    {
     "name": "stdout",
     "output_type": "stream",
     "text": [
      "Selected 86 stocks\n",
      "Best Alpha for this fold: 0.0001, Best Fold Score: 0.005971342493370906\n",
      "Train period: 2020-09-28 10:52:00 to 2021-09-28 14:42:00\n",
      "Test period: 2021-09-28 14:43:00 to 2022-04-12 10:57:00\n",
      "Selected 86 stocks\n",
      "Best Alpha for this fold: 0.0001, Best Fold Score: 0.00804227386457476\n",
      "Train period: 2021-04-12 11:55:00 to 2022-04-12 10:57:00\n",
      "Test period: 2022-04-12 10:58:00 to 2022-10-24 19:14:00\n"
     ]
    },
    {
     "name": "stderr",
     "output_type": "stream",
     "text": [
      "/opt/conda/lib/python3.10/site-packages/sklearn/linear_model/_coordinate_descent.py:631: ConvergenceWarning: Objective did not converge. You might want to increase the number of iterations, check the scale of the features or consider increasing regularisation. Duality gap: 3.411e-02, tolerance: 2.130e-02\n",
      "  model = cd_fast.enet_coordinate_descent(\n"
     ]
    },
    {
     "name": "stdout",
     "output_type": "stream",
     "text": [
      "Selected 86 stocks\n",
      "Best Alpha for this fold: 0.0001, Best Fold Score: 0.006315252151277897\n",
      "Alpha: 3.5938136638046256e-05, Number of Stocks: 85.46153846153847, Average Tracking Error (bps): 0.007406431666583089\n",
      "----------Starting alpha 4.6415888336127825e-05-------------\n",
      "Train period: 2015-02-02 10:19:00 to 2015-08-25 14:20:00\n",
      "Test period: 2015-08-25 14:21:00 to 2016-04-07 11:40:00\n",
      "Selected 85 stocks\n",
      "Best Alpha for this fold: 0.001, Best Fold Score: 0.014654312518937495\n",
      "Train period: 2015-02-19 15:12:00 to 2016-04-07 11:40:00\n",
      "Test period: 2016-04-07 11:41:00 to 2016-10-18 12:52:00\n",
      "Selected 84 stocks\n",
      "Best Alpha for this fold: 0.0001, Best Fold Score: 0.009424801088340767\n",
      "Train period: 2015-09-29 11:53:00 to 2016-10-18 12:52:00\n",
      "Test period: 2016-10-18 12:53:00 to 2017-05-02 12:41:00\n",
      "Selected 86 stocks\n",
      "Best Alpha for this fold: 0.0001, Best Fold Score: 0.004777336705151883\n",
      "Train period: 2016-04-29 14:28:00 to 2017-05-02 12:41:00\n",
      "Test period: 2017-05-02 12:42:00 to 2017-11-10 11:24:00\n",
      "Selected 86 stocks\n",
      "Best Alpha for this fold: 0.00025, Best Fold Score: 0.005217578991122073\n",
      "Train period: 2016-11-07 14:17:00 to 2017-11-10 11:24:00\n",
      "Test period: 2017-11-10 11:25:00 to 2018-05-24 10:55:00\n",
      "Selected 85 stocks\n",
      "Best Alpha for this fold: 0.0001, Best Fold Score: 0.004189453071699704\n",
      "Train period: 2017-05-22 09:20:00 to 2018-05-24 10:55:00\n",
      "Test period: 2018-05-24 10:56:00 to 2018-12-06 13:19:00\n",
      "Selected 84 stocks\n",
      "Best Alpha for this fold: 0.0001, Best Fold Score: 0.0060069208599721705\n",
      "Train period: 2017-11-29 14:13:00 to 2018-12-06 13:19:00\n",
      "Test period: 2018-12-06 13:20:00 to 2019-07-17 10:21:00\n",
      "Selected 85 stocks\n",
      "Best Alpha for this fold: 0.00025, Best Fold Score: 0.005268809519334322\n",
      "Train period: 2018-06-12 13:54:00 to 2019-07-17 10:21:00\n",
      "Test period: 2019-07-17 10:24:00 to 2020-02-13 11:53:00\n",
      "Selected 85 stocks\n",
      "Best Alpha for this fold: 0.00025, Best Fold Score: 0.006545227920493731\n",
      "Train period: 2018-12-27 13:54:00 to 2020-02-13 11:53:00\n",
      "Test period: 2020-02-13 11:54:00 to 2020-09-01 12:07:00\n",
      "Selected 85 stocks\n",
      "Best Alpha for this fold: 0.0001, Best Fold Score: 0.0125081756941028\n",
      "Train period: 2019-08-07 14:46:00 to 2020-09-01 12:07:00\n",
      "Test period: 2020-09-01 12:08:00 to 2021-03-16 09:33:00\n"
     ]
    },
    {
     "name": "stderr",
     "output_type": "stream",
     "text": [
      "/opt/conda/lib/python3.10/site-packages/sklearn/linear_model/_coordinate_descent.py:631: ConvergenceWarning: Objective did not converge. You might want to increase the number of iterations, check the scale of the features or consider increasing regularisation. Duality gap: 2.369e+00, tolerance: 8.593e-02\n",
      "  model = cd_fast.enet_coordinate_descent(\n"
     ]
    },
    {
     "name": "stdout",
     "output_type": "stream",
     "text": [
      "Selected 86 stocks\n",
      "Best Alpha for this fold: 0.0001, Best Fold Score: 0.007362143134408823\n",
      "Train period: 2020-03-12 11:54:00 to 2021-03-16 09:33:00\n",
      "Test period: 2021-03-16 09:34:00 to 2021-09-28 14:42:00\n"
     ]
    },
    {
     "name": "stderr",
     "output_type": "stream",
     "text": [
      "/opt/conda/lib/python3.10/site-packages/sklearn/linear_model/_coordinate_descent.py:631: ConvergenceWarning: Objective did not converge. You might want to increase the number of iterations, check the scale of the features or consider increasing regularisation. Duality gap: 2.484e+00, tolerance: 8.393e-02\n",
      "  model = cd_fast.enet_coordinate_descent(\n"
     ]
    },
    {
     "name": "stdout",
     "output_type": "stream",
     "text": [
      "Selected 86 stocks\n",
      "Best Alpha for this fold: 0.0001, Best Fold Score: 0.005971342493370906\n",
      "Train period: 2020-09-28 10:52:00 to 2021-09-28 14:42:00\n",
      "Test period: 2021-09-28 14:43:00 to 2022-04-12 10:57:00\n",
      "Selected 86 stocks\n",
      "Best Alpha for this fold: 0.0001, Best Fold Score: 0.00804227386457476\n",
      "Train period: 2021-04-12 11:55:00 to 2022-04-12 10:57:00\n",
      "Test period: 2022-04-12 10:58:00 to 2022-10-24 19:14:00\n"
     ]
    },
    {
     "name": "stderr",
     "output_type": "stream",
     "text": [
      "/opt/conda/lib/python3.10/site-packages/sklearn/linear_model/_coordinate_descent.py:631: ConvergenceWarning: Objective did not converge. You might want to increase the number of iterations, check the scale of the features or consider increasing regularisation. Duality gap: 2.815e-02, tolerance: 2.130e-02\n",
      "  model = cd_fast.enet_coordinate_descent(\n"
     ]
    },
    {
     "name": "stdout",
     "output_type": "stream",
     "text": [
      "Selected 86 stocks\n",
      "Best Alpha for this fold: 0.0001, Best Fold Score: 0.006315252151277897\n",
      "Alpha: 4.6415888336127825e-05, Number of Stocks: 85.3076923076923, Average Tracking Error (bps): 0.007406432589036899\n",
      "----------Starting alpha 5.994842503189409e-05-------------\n",
      "Train period: 2015-02-02 10:19:00 to 2015-08-25 14:20:00\n",
      "Test period: 2015-08-25 14:21:00 to 2016-04-07 11:40:00\n",
      "Selected 85 stocks\n",
      "Best Alpha for this fold: 0.001, Best Fold Score: 0.014654312518937495\n",
      "Train period: 2015-02-19 15:12:00 to 2016-04-07 11:40:00\n",
      "Test period: 2016-04-07 11:41:00 to 2016-10-18 12:52:00\n",
      "Selected 84 stocks\n",
      "Best Alpha for this fold: 0.0001, Best Fold Score: 0.009424801088340767\n",
      "Train period: 2015-09-29 11:53:00 to 2016-10-18 12:52:00\n",
      "Test period: 2016-10-18 12:53:00 to 2017-05-02 12:41:00\n",
      "Selected 86 stocks\n",
      "Best Alpha for this fold: 0.0001, Best Fold Score: 0.004777336705151883\n",
      "Train period: 2016-04-29 14:28:00 to 2017-05-02 12:41:00\n",
      "Test period: 2017-05-02 12:42:00 to 2017-11-10 11:24:00\n",
      "Selected 85 stocks\n",
      "Best Alpha for this fold: 0.00025, Best Fold Score: 0.005217568918839013\n",
      "Train period: 2016-11-07 14:17:00 to 2017-11-10 11:24:00\n",
      "Test period: 2017-11-10 11:25:00 to 2018-05-24 10:55:00\n",
      "Selected 85 stocks\n",
      "Best Alpha for this fold: 0.0001, Best Fold Score: 0.004189453071699704\n",
      "Train period: 2017-05-22 09:20:00 to 2018-05-24 10:55:00\n",
      "Test period: 2018-05-24 10:56:00 to 2018-12-06 13:19:00\n",
      "Selected 84 stocks\n",
      "Best Alpha for this fold: 0.0001, Best Fold Score: 0.0060069208599721705\n",
      "Train period: 2017-11-29 14:13:00 to 2018-12-06 13:19:00\n",
      "Test period: 2018-12-06 13:20:00 to 2019-07-17 10:21:00\n",
      "Selected 85 stocks\n",
      "Best Alpha for this fold: 0.00025, Best Fold Score: 0.005268809519334322\n",
      "Train period: 2018-06-12 13:54:00 to 2019-07-17 10:21:00\n",
      "Test period: 2019-07-17 10:24:00 to 2020-02-13 11:53:00\n",
      "Selected 85 stocks\n",
      "Best Alpha for this fold: 0.00025, Best Fold Score: 0.006545227920493731\n",
      "Train period: 2018-12-27 13:54:00 to 2020-02-13 11:53:00\n",
      "Test period: 2020-02-13 11:54:00 to 2020-09-01 12:07:00\n",
      "Selected 85 stocks\n",
      "Best Alpha for this fold: 0.0001, Best Fold Score: 0.0125081756941028\n",
      "Train period: 2019-08-07 14:46:00 to 2020-09-01 12:07:00\n",
      "Test period: 2020-09-01 12:08:00 to 2021-03-16 09:33:00\n"
     ]
    },
    {
     "name": "stderr",
     "output_type": "stream",
     "text": [
      "/opt/conda/lib/python3.10/site-packages/sklearn/linear_model/_coordinate_descent.py:631: ConvergenceWarning: Objective did not converge. You might want to increase the number of iterations, check the scale of the features or consider increasing regularisation. Duality gap: 2.210e+00, tolerance: 8.593e-02\n",
      "  model = cd_fast.enet_coordinate_descent(\n"
     ]
    },
    {
     "name": "stdout",
     "output_type": "stream",
     "text": [
      "Selected 86 stocks\n",
      "Best Alpha for this fold: 0.0001, Best Fold Score: 0.007362143134408823\n",
      "Train period: 2020-03-12 11:54:00 to 2021-03-16 09:33:00\n",
      "Test period: 2021-03-16 09:34:00 to 2021-09-28 14:42:00\n"
     ]
    },
    {
     "name": "stderr",
     "output_type": "stream",
     "text": [
      "/opt/conda/lib/python3.10/site-packages/sklearn/linear_model/_coordinate_descent.py:631: ConvergenceWarning: Objective did not converge. You might want to increase the number of iterations, check the scale of the features or consider increasing regularisation. Duality gap: 2.303e+00, tolerance: 8.393e-02\n",
      "  model = cd_fast.enet_coordinate_descent(\n"
     ]
    },
    {
     "name": "stdout",
     "output_type": "stream",
     "text": [
      "Selected 86 stocks\n",
      "Best Alpha for this fold: 0.0001, Best Fold Score: 0.005971342493370906\n",
      "Train period: 2020-09-28 10:52:00 to 2021-09-28 14:42:00\n",
      "Test period: 2021-09-28 14:43:00 to 2022-04-12 10:57:00\n",
      "Selected 86 stocks\n",
      "Best Alpha for this fold: 0.0001, Best Fold Score: 0.00804227386457476\n",
      "Train period: 2021-04-12 11:55:00 to 2022-04-12 10:57:00\n",
      "Test period: 2022-04-12 10:58:00 to 2022-10-24 19:14:00\n"
     ]
    },
    {
     "name": "stderr",
     "output_type": "stream",
     "text": [
      "/opt/conda/lib/python3.10/site-packages/sklearn/linear_model/_coordinate_descent.py:631: ConvergenceWarning: Objective did not converge. You might want to increase the number of iterations, check the scale of the features or consider increasing regularisation. Duality gap: 2.374e-02, tolerance: 2.130e-02\n",
      "  model = cd_fast.enet_coordinate_descent(\n"
     ]
    },
    {
     "name": "stdout",
     "output_type": "stream",
     "text": [
      "Selected 86 stocks\n",
      "Best Alpha for this fold: 0.0001, Best Fold Score: 0.006315252151277897\n",
      "Alpha: 5.994842503189409e-05, Number of Stocks: 85.23076923076923, Average Tracking Error (bps): 0.00740643181424684\n",
      "----------Starting alpha 7.742636826811277e-05-------------\n",
      "Train period: 2015-02-02 10:19:00 to 2015-08-25 14:20:00\n",
      "Test period: 2015-08-25 14:21:00 to 2016-04-07 11:40:00\n",
      "Selected 84 stocks\n",
      "Best Alpha for this fold: 0.001, Best Fold Score: 0.014654312518937495\n",
      "Train period: 2015-02-19 15:12:00 to 2016-04-07 11:40:00\n",
      "Test period: 2016-04-07 11:41:00 to 2016-10-18 12:52:00\n",
      "Selected 84 stocks\n",
      "Best Alpha for this fold: 0.0001, Best Fold Score: 0.009424801088340767\n",
      "Train period: 2015-09-29 11:53:00 to 2016-10-18 12:52:00\n",
      "Test period: 2016-10-18 12:53:00 to 2017-05-02 12:41:00\n",
      "Selected 85 stocks\n",
      "Best Alpha for this fold: 0.0001, Best Fold Score: 0.0047773405050433445\n",
      "Train period: 2016-04-29 14:28:00 to 2017-05-02 12:41:00\n",
      "Test period: 2017-05-02 12:42:00 to 2017-11-10 11:24:00\n",
      "Selected 85 stocks\n",
      "Best Alpha for this fold: 0.00025, Best Fold Score: 0.005217568918839013\n",
      "Train period: 2016-11-07 14:17:00 to 2017-11-10 11:24:00\n",
      "Test period: 2017-11-10 11:25:00 to 2018-05-24 10:55:00\n",
      "Selected 85 stocks\n",
      "Best Alpha for this fold: 0.0001, Best Fold Score: 0.004189453071699704\n",
      "Train period: 2017-05-22 09:20:00 to 2018-05-24 10:55:00\n",
      "Test period: 2018-05-24 10:56:00 to 2018-12-06 13:19:00\n",
      "Selected 84 stocks\n",
      "Best Alpha for this fold: 0.0001, Best Fold Score: 0.0060069208599721705\n",
      "Train period: 2017-11-29 14:13:00 to 2018-12-06 13:19:00\n",
      "Test period: 2018-12-06 13:20:00 to 2019-07-17 10:21:00\n",
      "Selected 85 stocks\n",
      "Best Alpha for this fold: 0.00025, Best Fold Score: 0.005268809519334322\n",
      "Train period: 2018-06-12 13:54:00 to 2019-07-17 10:21:00\n",
      "Test period: 2019-07-17 10:24:00 to 2020-02-13 11:53:00\n",
      "Selected 85 stocks\n",
      "Best Alpha for this fold: 0.00025, Best Fold Score: 0.006545227920493731\n",
      "Train period: 2018-12-27 13:54:00 to 2020-02-13 11:53:00\n",
      "Test period: 2020-02-13 11:54:00 to 2020-09-01 12:07:00\n",
      "Selected 85 stocks\n",
      "Best Alpha for this fold: 0.0001, Best Fold Score: 0.0125081756941028\n",
      "Train period: 2019-08-07 14:46:00 to 2020-09-01 12:07:00\n",
      "Test period: 2020-09-01 12:08:00 to 2021-03-16 09:33:00\n"
     ]
    },
    {
     "name": "stderr",
     "output_type": "stream",
     "text": [
      "/opt/conda/lib/python3.10/site-packages/sklearn/linear_model/_coordinate_descent.py:631: ConvergenceWarning: Objective did not converge. You might want to increase the number of iterations, check the scale of the features or consider increasing regularisation. Duality gap: 2.039e+00, tolerance: 8.593e-02\n",
      "  model = cd_fast.enet_coordinate_descent(\n"
     ]
    },
    {
     "name": "stdout",
     "output_type": "stream",
     "text": [
      "Selected 86 stocks\n",
      "Best Alpha for this fold: 0.0001, Best Fold Score: 0.007362143134408823\n",
      "Train period: 2020-03-12 11:54:00 to 2021-03-16 09:33:00\n",
      "Test period: 2021-03-16 09:34:00 to 2021-09-28 14:42:00\n"
     ]
    },
    {
     "name": "stderr",
     "output_type": "stream",
     "text": [
      "/opt/conda/lib/python3.10/site-packages/sklearn/linear_model/_coordinate_descent.py:631: ConvergenceWarning: Objective did not converge. You might want to increase the number of iterations, check the scale of the features or consider increasing regularisation. Duality gap: 2.127e+00, tolerance: 8.393e-02\n",
      "  model = cd_fast.enet_coordinate_descent(\n"
     ]
    },
    {
     "name": "stdout",
     "output_type": "stream",
     "text": [
      "Selected 86 stocks\n",
      "Best Alpha for this fold: 0.0001, Best Fold Score: 0.005971342493370906\n",
      "Train period: 2020-09-28 10:52:00 to 2021-09-28 14:42:00\n",
      "Test period: 2021-09-28 14:43:00 to 2022-04-12 10:57:00\n",
      "Selected 86 stocks\n",
      "Best Alpha for this fold: 0.0001, Best Fold Score: 0.00804227386457476\n",
      "Train period: 2021-04-12 11:55:00 to 2022-04-12 10:57:00\n",
      "Test period: 2022-04-12 10:58:00 to 2022-10-24 19:14:00\n",
      "Selected 86 stocks\n",
      "Best Alpha for this fold: 0.0001, Best Fold Score: 0.006315252151277897\n",
      "Alpha: 7.742636826811277e-05, Number of Stocks: 85.07692307692308, Average Tracking Error (bps): 0.007406432106546927\n",
      "----------Starting alpha 9.999999999999999e-05-------------\n",
      "Train period: 2015-02-02 10:19:00 to 2015-08-25 14:20:00\n",
      "Test period: 2015-08-25 14:21:00 to 2016-04-07 11:40:00\n",
      "Selected 84 stocks\n",
      "Best Alpha for this fold: 0.001, Best Fold Score: 0.014654312518937495\n",
      "Train period: 2015-02-19 15:12:00 to 2016-04-07 11:40:00\n",
      "Test period: 2016-04-07 11:41:00 to 2016-10-18 12:52:00\n",
      "Selected 83 stocks\n",
      "Best Alpha for this fold: 0.0001, Best Fold Score: 0.009424801278599107\n",
      "Train period: 2015-09-29 11:53:00 to 2016-10-18 12:52:00\n",
      "Test period: 2016-10-18 12:53:00 to 2017-05-02 12:41:00\n",
      "Selected 85 stocks\n",
      "Best Alpha for this fold: 0.0001, Best Fold Score: 0.0047773405050433445\n",
      "Train period: 2016-04-29 14:28:00 to 2017-05-02 12:41:00\n",
      "Test period: 2017-05-02 12:42:00 to 2017-11-10 11:24:00\n",
      "Selected 85 stocks\n",
      "Best Alpha for this fold: 0.00025, Best Fold Score: 0.005217568918839013\n",
      "Train period: 2016-11-07 14:17:00 to 2017-11-10 11:24:00\n",
      "Test period: 2017-11-10 11:25:00 to 2018-05-24 10:55:00\n",
      "Selected 85 stocks\n",
      "Best Alpha for this fold: 0.0001, Best Fold Score: 0.004189453071699704\n",
      "Train period: 2017-05-22 09:20:00 to 2018-05-24 10:55:00\n",
      "Test period: 2018-05-24 10:56:00 to 2018-12-06 13:19:00\n",
      "Selected 84 stocks\n",
      "Best Alpha for this fold: 0.0001, Best Fold Score: 0.0060069208599721705\n",
      "Train period: 2017-11-29 14:13:00 to 2018-12-06 13:19:00\n",
      "Test period: 2018-12-06 13:20:00 to 2019-07-17 10:21:00\n",
      "Selected 84 stocks\n",
      "Best Alpha for this fold: 0.00025, Best Fold Score: 0.00526881102077449\n",
      "Train period: 2018-06-12 13:54:00 to 2019-07-17 10:21:00\n",
      "Test period: 2019-07-17 10:24:00 to 2020-02-13 11:53:00\n",
      "Selected 84 stocks\n",
      "Best Alpha for this fold: 0.00025, Best Fold Score: 0.006545228002211741\n",
      "Train period: 2018-12-27 13:54:00 to 2020-02-13 11:53:00\n",
      "Test period: 2020-02-13 11:54:00 to 2020-09-01 12:07:00\n",
      "Selected 84 stocks\n",
      "Best Alpha for this fold: 0.0001, Best Fold Score: 0.012508178470559461\n",
      "Train period: 2019-08-07 14:46:00 to 2020-09-01 12:07:00\n",
      "Test period: 2020-09-01 12:08:00 to 2021-03-16 09:33:00\n"
     ]
    },
    {
     "name": "stderr",
     "output_type": "stream",
     "text": [
      "/opt/conda/lib/python3.10/site-packages/sklearn/linear_model/_coordinate_descent.py:631: ConvergenceWarning: Objective did not converge. You might want to increase the number of iterations, check the scale of the features or consider increasing regularisation. Duality gap: 1.854e+00, tolerance: 8.593e-02\n",
      "  model = cd_fast.enet_coordinate_descent(\n"
     ]
    },
    {
     "name": "stdout",
     "output_type": "stream",
     "text": [
      "Selected 86 stocks\n",
      "Best Alpha for this fold: 0.0001, Best Fold Score: 0.007362143134408823\n",
      "Train period: 2020-03-12 11:54:00 to 2021-03-16 09:33:00\n",
      "Test period: 2021-03-16 09:34:00 to 2021-09-28 14:42:00\n"
     ]
    },
    {
     "name": "stderr",
     "output_type": "stream",
     "text": [
      "/opt/conda/lib/python3.10/site-packages/sklearn/linear_model/_coordinate_descent.py:631: ConvergenceWarning: Objective did not converge. You might want to increase the number of iterations, check the scale of the features or consider increasing regularisation. Duality gap: 1.941e+00, tolerance: 8.393e-02\n",
      "  model = cd_fast.enet_coordinate_descent(\n"
     ]
    },
    {
     "name": "stdout",
     "output_type": "stream",
     "text": [
      "Selected 86 stocks\n",
      "Best Alpha for this fold: 0.0001, Best Fold Score: 0.005971342493370906\n",
      "Train period: 2020-09-28 10:52:00 to 2021-09-28 14:42:00\n",
      "Test period: 2021-09-28 14:43:00 to 2022-04-12 10:57:00\n",
      "Selected 86 stocks\n",
      "Best Alpha for this fold: 0.0001, Best Fold Score: 0.00804227386457476\n",
      "Train period: 2021-04-12 11:55:00 to 2022-04-12 10:57:00\n",
      "Test period: 2022-04-12 10:58:00 to 2022-10-24 19:14:00\n",
      "Selected 86 stocks\n",
      "Best Alpha for this fold: 0.0001, Best Fold Score: 0.006315252151277897\n",
      "Alpha: 9.999999999999999e-05, Number of Stocks: 84.76923076923077, Average Tracking Error (bps): 0.007406432456542138\n"
     ]
    },
    {
     "data": {
      "image/png": "[encoded data removed]",
      "text/plain": [
       "<Figure size 640x480 with 2 Axes>"
      ]
     },
     "metadata": {},
     "output_type": "display_data"
    }
   ],
   "source": [
    "Lasso_Lasso_plot(X,y)"
   ]
  },
  {
   "cell_type": "code",
   "execution_count": 31,
   "id": "c193bff9",
   "metadata": {
    "execution": {
     "iopub.execute_input": "2024-12-14T14:15:01.422756Z",
     "iopub.status.busy": "2024-12-14T14:15:01.422404Z",
     "iopub.status.idle": "2024-12-14T15:28:38.702008Z",
     "shell.execute_reply": "2024-12-14T15:28:38.701074Z"
    },
    "papermill": {
     "duration": 4417.311509,
     "end_time": "2024-12-14T15:28:38.703844",
     "exception": false,
     "start_time": "2024-12-14T14:15:01.392335",
     "status": "completed"
    },
    "tags": []
   },
   "outputs": [
    {
     "name": "stdout",
     "output_type": "stream",
     "text": [
      "Starting percentile: 0.0\n",
      "Percentile: 0.0, Tracking Error: 0.04740712818342317, Adj Tracking Error: 0.04740712895294234\n",
      "Starting percentile: 0.1\n",
      "Percentile: 0.1, Tracking Error: 0.047421628731609565, Adj Tracking Error: 0.0474216294977287\n",
      "Starting percentile: 0.2\n",
      "Percentile: 0.2, Tracking Error: 0.047446234859103, Adj Tracking Error: 0.04744623561690812\n",
      "Starting percentile: 0.3\n",
      "Percentile: 0.3, Tracking Error: 0.04749179663664328, Adj Tracking Error: 0.04749179738461939\n",
      "Starting percentile: 0.4\n",
      "Percentile: 0.4, Tracking Error: 0.04750605496267556, Adj Tracking Error: 0.04750605566788162\n",
      "Starting percentile: 0.5\n",
      "Percentile: 0.5, Tracking Error: 0.04752696846883527, Adj Tracking Error: 0.04752696914083453\n",
      "Starting percentile: 0.6\n",
      "Percentile: 0.6, Tracking Error: 0.04764529333910721, Adj Tracking Error: 0.047645293970003916\n"
     ]
    },
    {
     "data": {
      "image/png": "[encoded data removed]",
      "text/plain": [
       "<Figure size 640x480 with 1 Axes>"
      ]
     },
     "metadata": {},
     "output_type": "display_data"
    }
   ],
   "source": [
    "MI_Lasso_plot(X,y)"
   ]
  },
  {
   "cell_type": "code",
   "execution_count": 32,
   "id": "fce8c29f",
   "metadata": {
    "execution": {
     "iopub.execute_input": "2024-12-14T15:28:38.770067Z",
     "iopub.status.busy": "2024-12-14T15:28:38.769732Z",
     "iopub.status.idle": "2024-12-14T16:59:14.754865Z",
     "shell.execute_reply": "2024-12-14T16:59:14.754090Z"
    },
    "papermill": {
     "duration": 5436.020381,
     "end_time": "2024-12-14T16:59:14.756812",
     "exception": false,
     "start_time": "2024-12-14T15:28:38.736431",
     "status": "completed"
    },
    "tags": []
   },
   "outputs": [
    {
     "name": "stdout",
     "output_type": "stream",
     "text": [
      "Starting percentile: 0.0\n",
      "Percentile: 0.0, Tracking Error: 0.04737310293178804, Adj Tracking Error: 0.04737310370978785\n",
      "Starting percentile: 0.1\n",
      "Percentile: 0.1, Tracking Error: 0.0473906891768613, Adj Tracking Error: 0.04739068995028076\n",
      "Starting percentile: 0.2\n",
      "Percentile: 0.2, Tracking Error: 0.047417461181112334, Adj Tracking Error: 0.047417461945190184\n",
      "Starting percentile: 0.3\n",
      "Percentile: 0.3, Tracking Error: 0.04746501912735405, Adj Tracking Error: 0.047465019881770806\n",
      "Starting percentile: 0.4\n",
      "Percentile: 0.4, Tracking Error: 0.047479872457503354, Adj Tracking Error: 0.04747987316791083\n",
      "Starting percentile: 0.5\n",
      "Percentile: 0.5, Tracking Error: 0.04750185969991523, Adj Tracking Error: 0.047501860376180885\n",
      "Starting percentile: 0.6\n",
      "Percentile: 0.6, Tracking Error: 0.04762339709673616, Adj Tracking Error: 0.047623397722864697\n"
     ]
    },
    {
     "data": {
      "image/png": "[encoded data removed]",
      "text/plain": [
       "<Figure size 640x480 with 1 Axes>"
      ]
     },
     "metadata": {},
     "output_type": "display_data"
    }
   ],
   "source": [
    "MI_ElasticNet_plot(X,y)"
   ]
  },
  {
   "cell_type": "code",
   "execution_count": 33,
   "id": "eba0e0c3",
   "metadata": {
    "execution": {
     "iopub.execute_input": "2024-12-14T16:59:14.820985Z",
     "iopub.status.busy": "2024-12-14T16:59:14.820355Z",
     "iopub.status.idle": "2024-12-14T22:37:57.986802Z",
     "shell.execute_reply": "2024-12-14T22:37:57.985875Z"
    },
    "papermill": {
     "duration": 20323.20045,
     "end_time": "2024-12-14T22:37:57.988592",
     "exception": false,
     "start_time": "2024-12-14T16:59:14.788142",
     "status": "completed"
    },
    "tags": []
   },
   "outputs": [
    {
     "name": "stdout",
     "output_type": "stream",
     "text": [
      "Starting percentile: 0.1\n",
      "Percentile: 0.1, Tracking Error: 0.04651276841437697, Adj Tracking Error: 0.04651276840700591\n",
      "Starting percentile: 0.2\n",
      "Percentile: 0.2, Tracking Error: 0.04660863689824998, Adj Tracking Error: 0.046608638369650526\n",
      "Starting percentile: 0.3\n",
      "Percentile: 0.3, Tracking Error: 0.04667924794790263, Adj Tracking Error: 0.046679249189147086\n",
      "Starting percentile: 0.4\n",
      "Percentile: 0.4, Tracking Error: 0.04674157896484816, Adj Tracking Error: 0.046741579648627476\n",
      "Starting percentile: 0.5\n",
      "Percentile: 0.5, Tracking Error: 0.046752172790590726, Adj Tracking Error: 0.04675217327068029\n",
      "Starting percentile: 0.6\n",
      "Percentile: 0.6, Tracking Error: 0.046906482141246625, Adj Tracking Error: 0.04690648353389577\n",
      "Starting percentile: 0.7\n",
      "Percentile: 0.7, Tracking Error: 0.047122484599968435, Adj Tracking Error: 0.04712248499800715\n",
      "Starting percentile: 0.8\n",
      "Percentile: 0.8, Tracking Error: 0.04721128986814528, Adj Tracking Error: 0.04721129236080135\n"
     ]
    },
    {
     "data": {
      "image/png": "[encoded data removed]",
      "text/plain": [
       "<Figure size 640x480 with 1 Axes>"
      ]
     },
     "metadata": {},
     "output_type": "display_data"
    }
   ],
   "source": [
    "MI_XGBoost_plot(X,y)"
   ]
  }
 ],
 "metadata": {
  "kaggle": {
   "accelerator": "gpu",
   "dataSources": [
    {
     "datasetId": 6024843,
     "sourceId": 9824880,
     "sourceType": "datasetVersion"
    },
    {
     "datasetId": 2401195,
     "sourceId": 9867252,
     "sourceType": "datasetVersion"
    },
    {
     "datasetId": 2490157,
     "sourceId": 9876776,
     "sourceType": "datasetVersion"
    }
   ],
   "dockerImageVersionId": 30786,
   "isGpuEnabled": true,
   "isInternetEnabled": true,
   "language": "python",
   "sourceType": "notebook"
  },
  "kernelspec": {
   "display_name": "Python 3",
   "language": "python",
   "name": "python3"
  },
  "language_info": {
   "codemirror_mode": {
    "name": "ipython",
    "version": 3
   },
   "file_extension": ".py",
   "mimetype": "text/x-python",
   "name": "python",
   "nbconvert_exporter": "python",
   "pygments_lexer": "ipython3",
   "version": "3.10.14"
  },
  "papermill": {
   "default_parameters": {},
   "duration": 31896.157521,
   "end_time": "2024-12-14T22:37:58.539969",
   "environment_variables": {},
   "exception": null,
   "input_path": "__notebook__.ipynb",
   "output_path": "__notebook__.ipynb",
   "parameters": {},
   "start_time": "2024-12-14T13:46:22.382448",
   "version": "2.6.0"
  }
 },
 "nbformat": 4,
 "nbformat_minor": 5
}
