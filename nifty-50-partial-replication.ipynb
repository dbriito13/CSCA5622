{
 "cells": [
  {
   "cell_type": "markdown",
   "id": "5fd1a961",
   "metadata": {
    "_cell_guid": "b1076dfc-b9ad-4769-8c92-a6c4dae69d19",
    "_uuid": "8f2839f25d086af736a60e9eeb907d3b93b6e0e5",
    "papermill": {
     "duration": 0.010717,
     "end_time": "2024-11-10T19:57:29.748978",
     "exception": false,
     "start_time": "2024-11-10T19:57:29.738261",
     "status": "completed"
    },
    "tags": []
   },
   "source": [
    "# Nifty 50 Partial Replication"
   ]
  },
  {
   "cell_type": "code",
   "execution_count": 1,
   "id": "fcc04db0",
   "metadata": {
    "execution": {
     "iopub.execute_input": "2024-11-10T19:57:29.770829Z",
     "iopub.status.busy": "2024-11-10T19:57:29.770316Z",
     "iopub.status.idle": "2024-11-10T19:57:33.218420Z",
     "shell.execute_reply": "2024-11-10T19:57:33.217200Z"
    },
    "papermill": {
     "duration": 3.462967,
     "end_time": "2024-11-10T19:57:33.221707",
     "exception": false,
     "start_time": "2024-11-10T19:57:29.758740",
     "status": "completed"
    },
    "tags": []
   },
   "outputs": [],
   "source": [
    "import pandas as pd\n",
    "import numpy as np\n",
    "from sklearn.model_selection import train_test_split\n",
    "from sklearn.linear_model import Lasso\n",
    "from sklearn.metrics import mean_squared_error, r2_score, make_scorer\n",
    "from sklearn.model_selection import cross_val_score, TimeSeriesSplit\n",
    "from sklearn.linear_model import LassoCV\n",
    "import matplotlib.pyplot as plt\n",
    "import os\n",
    "import glob\n",
    "from tqdm import tqdm\n",
    "import warnings\n",
    "from sklearn.ensemble import RandomForestRegressor\n",
    "warnings.filterwarnings(\"ignore\")\n",
    "import xgboost as xgb\n",
    "from sklearn.feature_selection import SelectFromModel"
   ]
  },
  {
   "cell_type": "code",
   "execution_count": 2,
   "id": "b7126205",
   "metadata": {
    "execution": {
     "iopub.execute_input": "2024-11-10T19:57:33.244759Z",
     "iopub.status.busy": "2024-11-10T19:57:33.244145Z",
     "iopub.status.idle": "2024-11-10T19:57:33.252215Z",
     "shell.execute_reply": "2024-11-10T19:57:33.250726Z"
    },
    "papermill": {
     "duration": 0.022762,
     "end_time": "2024-11-10T19:57:33.254838",
     "exception": false,
     "start_time": "2024-11-10T19:57:33.232076",
     "status": "completed"
    },
    "tags": []
   },
   "outputs": [],
   "source": [
    "def tracking_error(y_true, y_pred):\n",
    "    # Convert y_true and y_pred to pandas Series for easy handling of pct_change()\n",
    "    y_true = pd.Series(y_true)\n",
    "    y_pred = pd.Series(y_pred)\n",
    "    \n",
    "    # Calculate percentage change for true values and predictions\n",
    "    pct_change_true = y_true.pct_change() * 100\n",
    "    pct_change_pred = y_pred.pct_change() * 100\n",
    "    \n",
    "    # Calculate the difference between the percentage changes\n",
    "    diff_pct_change = pct_change_true - pct_change_pred    \n",
    "    \n",
    "    # Return the standard deviation of the differences (tracking error)\n",
    "    return np.std(diff_pct_change.dropna())  # dropna() to avoid NaN values in pct_change"
   ]
  },
  {
   "cell_type": "markdown",
   "id": "7529d5bd",
   "metadata": {
    "papermill": {
     "duration": 0.009457,
     "end_time": "2024-11-10T19:57:33.274229",
     "exception": false,
     "start_time": "2024-11-10T19:57:33.264772",
     "status": "completed"
    },
    "tags": []
   },
   "source": [
    "## Data"
   ]
  },
  {
   "cell_type": "code",
   "execution_count": 3,
   "id": "9f01db11",
   "metadata": {
    "execution": {
     "iopub.execute_input": "2024-11-10T19:57:33.297300Z",
     "iopub.status.busy": "2024-11-10T19:57:33.296845Z",
     "iopub.status.idle": "2024-11-10T19:57:33.302688Z",
     "shell.execute_reply": "2024-11-10T19:57:33.301150Z"
    },
    "papermill": {
     "duration": 0.020378,
     "end_time": "2024-11-10T19:57:33.305914",
     "exception": false,
     "start_time": "2024-11-10T19:57:33.285536",
     "status": "completed"
    },
    "tags": []
   },
   "outputs": [],
   "source": [
    "# directory_path = '/kaggle/input/stock-market-data-nifty-50-stocks-1-min-data'\n",
    "# pattern = os.path.join(directory_path, \"*.csv\")  # Change \"*.csv\" to match other patterns if needed\n",
    "\n",
    "# Get the list of files that match the pattern\n",
    "# file_list = glob.glob(pattern)"
   ]
  },
  {
   "cell_type": "code",
   "execution_count": 4,
   "id": "0852fdb5",
   "metadata": {
    "execution": {
     "iopub.execute_input": "2024-11-10T19:57:33.328713Z",
     "iopub.status.busy": "2024-11-10T19:57:33.328210Z",
     "iopub.status.idle": "2024-11-10T19:57:33.337964Z",
     "shell.execute_reply": "2024-11-10T19:57:33.335397Z"
    },
    "papermill": {
     "duration": 0.025405,
     "end_time": "2024-11-10T19:57:33.342067",
     "exception": false,
     "start_time": "2024-11-10T19:57:33.316662",
     "status": "completed"
    },
    "tags": []
   },
   "outputs": [],
   "source": [
    "def fetch_data(cols):\n",
    "    df_list = []\n",
    "    for file in tqdm(file_list):\n",
    "        stock_name = os.path.basename(file).split(\"_\")[0]\n",
    "        file_df = pd.read_csv(file, index_col=0)\n",
    "        file_df = file_df[[cols]]\n",
    "        file_df.columns = pd.MultiIndex.from_product([[stock_name], file_df.columns])\n",
    "        df_list.append(file_df)\n",
    "    return pd.concat(df_list, axis=1)"
   ]
  },
  {
   "cell_type": "code",
   "execution_count": 5,
   "id": "bd7ab5d4",
   "metadata": {
    "execution": {
     "iopub.execute_input": "2024-11-10T19:57:33.363678Z",
     "iopub.status.busy": "2024-11-10T19:57:33.363249Z",
     "iopub.status.idle": "2024-11-10T19:57:33.368976Z",
     "shell.execute_reply": "2024-11-10T19:57:33.367555Z"
    },
    "papermill": {
     "duration": 0.019928,
     "end_time": "2024-11-10T19:57:33.371991",
     "exception": false,
     "start_time": "2024-11-10T19:57:33.352063",
     "status": "completed"
    },
    "tags": []
   },
   "outputs": [],
   "source": [
    "# df = fetch_data('close')\n",
    "# df.to_csv('/kaggle/input/nifty_50_closing.csv')"
   ]
  },
  {
   "cell_type": "code",
   "execution_count": 6,
   "id": "7e7cdc56",
   "metadata": {
    "execution": {
     "iopub.execute_input": "2024-11-10T19:57:33.393724Z",
     "iopub.status.busy": "2024-11-10T19:57:33.393287Z",
     "iopub.status.idle": "2024-11-10T19:58:02.601749Z",
     "shell.execute_reply": "2024-11-10T19:58:02.599809Z"
    },
    "papermill": {
     "duration": 29.22376,
     "end_time": "2024-11-10T19:58:02.605651",
     "exception": false,
     "start_time": "2024-11-10T19:57:33.381891",
     "status": "completed"
    },
    "tags": []
   },
   "outputs": [],
   "source": [
    "df = pd.read_csv('/kaggle/input/nifty-50-closing-data/nifty_50_closing.csv', index_col=0, header=[0, 1])\n",
    "df = df.xs('close', level=1, axis=1)\n",
    "df.index = pd.to_datetime(df.index)"
   ]
  },
  {
   "cell_type": "code",
   "execution_count": 7,
   "id": "0eeb5204",
   "metadata": {
    "execution": {
     "iopub.execute_input": "2024-11-10T19:58:02.628428Z",
     "iopub.status.busy": "2024-11-10T19:58:02.627839Z",
     "iopub.status.idle": "2024-11-10T19:58:05.140213Z",
     "shell.execute_reply": "2024-11-10T19:58:05.138793Z"
    },
    "papermill": {
     "duration": 2.527553,
     "end_time": "2024-11-10T19:58:05.143310",
     "exception": false,
     "start_time": "2024-11-10T19:58:02.615757",
     "status": "completed"
    },
    "tags": []
   },
   "outputs": [],
   "source": [
    "nifty_100_closing = pd.read_csv('/kaggle/input/nifty-50-minute-data/NIFTY 100_minute.csv', index_col=0)[['close']]\n",
    "nifty_100_closing.index = pd.to_datetime(nifty_100_closing.index)\n",
    "nifty_100_closing.rename(columns={'close': 'NIFTY_100'}, inplace=True)"
   ]
  },
  {
   "cell_type": "code",
   "execution_count": 8,
   "id": "c42769ba",
   "metadata": {
    "execution": {
     "iopub.execute_input": "2024-11-10T19:58:05.165044Z",
     "iopub.status.busy": "2024-11-10T19:58:05.164588Z",
     "iopub.status.idle": "2024-11-10T19:58:05.172833Z",
     "shell.execute_reply": "2024-11-10T19:58:05.171045Z"
    },
    "papermill": {
     "duration": 0.022457,
     "end_time": "2024-11-10T19:58:05.175981",
     "exception": false,
     "start_time": "2024-11-10T19:58:05.153524",
     "status": "completed"
    },
    "tags": []
   },
   "outputs": [
    {
     "name": "stdout",
     "output_type": "stream",
     "text": [
      "Index type for df1: <class 'pandas.core.indexes.datetimes.DatetimeIndex'>\n",
      "Index type for df2: <class 'pandas.core.indexes.datetimes.DatetimeIndex'>\n"
     ]
    }
   ],
   "source": [
    "print(f\"Index type for df1: {type(df.index)}\")\n",
    "print(f\"Index type for df2: {type(nifty_100_closing.index)}\")"
   ]
  },
  {
   "cell_type": "code",
   "execution_count": 9,
   "id": "03675426",
   "metadata": {
    "execution": {
     "iopub.execute_input": "2024-11-10T19:58:05.198260Z",
     "iopub.status.busy": "2024-11-10T19:58:05.197726Z",
     "iopub.status.idle": "2024-11-10T19:58:07.191999Z",
     "shell.execute_reply": "2024-11-10T19:58:07.190394Z"
    },
    "papermill": {
     "duration": 2.008454,
     "end_time": "2024-11-10T19:58:07.194863",
     "exception": false,
     "start_time": "2024-11-10T19:58:05.186409",
     "status": "completed"
    },
    "tags": []
   },
   "outputs": [
    {
     "data": {
      "text/html": [
       "<div>\n",
       "<style scoped>\n",
       "    .dataframe tbody tr th:only-of-type {\n",
       "        vertical-align: middle;\n",
       "    }\n",
       "\n",
       "    .dataframe tbody tr th {\n",
       "        vertical-align: top;\n",
       "    }\n",
       "\n",
       "    .dataframe thead th {\n",
       "        text-align: right;\n",
       "    }\n",
       "</style>\n",
       "<table border=\"1\" class=\"dataframe\">\n",
       "  <thead>\n",
       "    <tr style=\"text-align: right;\">\n",
       "      <th></th>\n",
       "      <th>HDFCAMC</th>\n",
       "      <th>APOLLOHOSP</th>\n",
       "      <th>BOSCHLTD</th>\n",
       "      <th>INDUSTOWER</th>\n",
       "      <th>BERGEPAINT</th>\n",
       "      <th>MARICO</th>\n",
       "      <th>ICICIPRULI</th>\n",
       "      <th>HDFCLIFE</th>\n",
       "      <th>SBIN</th>\n",
       "      <th>SUNPHARMA</th>\n",
       "      <th>...</th>\n",
       "      <th>SBICARD</th>\n",
       "      <th>DABUR</th>\n",
       "      <th>SAIL</th>\n",
       "      <th>BRITANNIA</th>\n",
       "      <th>ADANIPORTS</th>\n",
       "      <th>ONGC</th>\n",
       "      <th>EICHERMOT</th>\n",
       "      <th>TECHM</th>\n",
       "      <th>JINDALSTEL</th>\n",
       "      <th>HEROMOTOCO</th>\n",
       "    </tr>\n",
       "    <tr>\n",
       "      <th>date</th>\n",
       "      <th></th>\n",
       "      <th></th>\n",
       "      <th></th>\n",
       "      <th></th>\n",
       "      <th></th>\n",
       "      <th></th>\n",
       "      <th></th>\n",
       "      <th></th>\n",
       "      <th></th>\n",
       "      <th></th>\n",
       "      <th></th>\n",
       "      <th></th>\n",
       "      <th></th>\n",
       "      <th></th>\n",
       "      <th></th>\n",
       "      <th></th>\n",
       "      <th></th>\n",
       "      <th></th>\n",
       "      <th></th>\n",
       "      <th></th>\n",
       "      <th></th>\n",
       "    </tr>\n",
       "  </thead>\n",
       "  <tbody>\n",
       "    <tr>\n",
       "      <th>2018-08-06 10:47:00</th>\n",
       "      <td>1803.95</td>\n",
       "      <td>974.3</td>\n",
       "      <td>19187.45</td>\n",
       "      <td>290.0</td>\n",
       "      <td>316.85</td>\n",
       "      <td>357.95</td>\n",
       "      <td>408.50</td>\n",
       "      <td>485.00</td>\n",
       "      <td>306.70</td>\n",
       "      <td>579.65</td>\n",
       "      <td>...</td>\n",
       "      <td>0.0</td>\n",
       "      <td>435.30</td>\n",
       "      <td>79.35</td>\n",
       "      <td>3194.92</td>\n",
       "      <td>400.70</td>\n",
       "      <td>167.75</td>\n",
       "      <td>2711.3</td>\n",
       "      <td>670.45</td>\n",
       "      <td>207.65</td>\n",
       "      <td>3259.0</td>\n",
       "    </tr>\n",
       "    <tr>\n",
       "      <th>2018-08-06 10:48:00</th>\n",
       "      <td>1803.90</td>\n",
       "      <td>973.7</td>\n",
       "      <td>19187.45</td>\n",
       "      <td>290.0</td>\n",
       "      <td>316.50</td>\n",
       "      <td>357.55</td>\n",
       "      <td>408.10</td>\n",
       "      <td>484.95</td>\n",
       "      <td>306.70</td>\n",
       "      <td>579.30</td>\n",
       "      <td>...</td>\n",
       "      <td>0.0</td>\n",
       "      <td>435.15</td>\n",
       "      <td>79.30</td>\n",
       "      <td>3193.02</td>\n",
       "      <td>400.55</td>\n",
       "      <td>167.55</td>\n",
       "      <td>2710.6</td>\n",
       "      <td>670.55</td>\n",
       "      <td>207.80</td>\n",
       "      <td>3260.6</td>\n",
       "    </tr>\n",
       "    <tr>\n",
       "      <th>2018-08-06 10:49:00</th>\n",
       "      <td>1806.00</td>\n",
       "      <td>973.7</td>\n",
       "      <td>19187.45</td>\n",
       "      <td>290.0</td>\n",
       "      <td>316.85</td>\n",
       "      <td>357.20</td>\n",
       "      <td>408.85</td>\n",
       "      <td>485.00</td>\n",
       "      <td>306.75</td>\n",
       "      <td>579.45</td>\n",
       "      <td>...</td>\n",
       "      <td>0.0</td>\n",
       "      <td>435.70</td>\n",
       "      <td>79.30</td>\n",
       "      <td>3192.50</td>\n",
       "      <td>400.30</td>\n",
       "      <td>167.55</td>\n",
       "      <td>2709.8</td>\n",
       "      <td>670.65</td>\n",
       "      <td>207.55</td>\n",
       "      <td>3259.5</td>\n",
       "    </tr>\n",
       "  </tbody>\n",
       "</table>\n",
       "<p>3 rows × 101 columns</p>\n",
       "</div>"
      ],
      "text/plain": [
       "                     HDFCAMC  APOLLOHOSP  BOSCHLTD  INDUSTOWER  BERGEPAINT  \\\n",
       "date                                                                         \n",
       "2018-08-06 10:47:00  1803.95       974.3  19187.45       290.0      316.85   \n",
       "2018-08-06 10:48:00  1803.90       973.7  19187.45       290.0      316.50   \n",
       "2018-08-06 10:49:00  1806.00       973.7  19187.45       290.0      316.85   \n",
       "\n",
       "                     MARICO  ICICIPRULI  HDFCLIFE    SBIN  SUNPHARMA  ...  \\\n",
       "date                                                                  ...   \n",
       "2018-08-06 10:47:00  357.95      408.50    485.00  306.70     579.65  ...   \n",
       "2018-08-06 10:48:00  357.55      408.10    484.95  306.70     579.30  ...   \n",
       "2018-08-06 10:49:00  357.20      408.85    485.00  306.75     579.45  ...   \n",
       "\n",
       "                     SBICARD   DABUR   SAIL  BRITANNIA  ADANIPORTS    ONGC  \\\n",
       "date                                                                         \n",
       "2018-08-06 10:47:00      0.0  435.30  79.35    3194.92      400.70  167.75   \n",
       "2018-08-06 10:48:00      0.0  435.15  79.30    3193.02      400.55  167.55   \n",
       "2018-08-06 10:49:00      0.0  435.70  79.30    3192.50      400.30  167.55   \n",
       "\n",
       "                     EICHERMOT   TECHM  JINDALSTEL  HEROMOTOCO  \n",
       "date                                                            \n",
       "2018-08-06 10:47:00     2711.3  670.45      207.65      3259.0  \n",
       "2018-08-06 10:48:00     2710.6  670.55      207.80      3260.6  \n",
       "2018-08-06 10:49:00     2709.8  670.65      207.55      3259.5  \n",
       "\n",
       "[3 rows x 101 columns]"
      ]
     },
     "execution_count": 9,
     "metadata": {},
     "output_type": "execute_result"
    }
   ],
   "source": [
    "# df.interpolate(method='linear', inplace=True)\n",
    "# To fill the first row NaN with the value from the next minute\n",
    "df.fillna(0, inplace=True)\n",
    "df.index = df.index.tz_localize(None)\n",
    "df.head(3)"
   ]
  },
  {
   "cell_type": "code",
   "execution_count": 10,
   "id": "2e632e8e",
   "metadata": {
    "execution": {
     "iopub.execute_input": "2024-11-10T19:58:07.217824Z",
     "iopub.status.busy": "2024-11-10T19:58:07.217285Z",
     "iopub.status.idle": "2024-11-10T19:58:07.789180Z",
     "shell.execute_reply": "2024-11-10T19:58:07.787589Z"
    },
    "papermill": {
     "duration": 0.586833,
     "end_time": "2024-11-10T19:58:07.792223",
     "exception": false,
     "start_time": "2024-11-10T19:58:07.205390",
     "status": "completed"
    },
    "tags": []
   },
   "outputs": [],
   "source": [
    "df_total = df.join(nifty_100_closing, how='left')"
   ]
  },
  {
   "cell_type": "code",
   "execution_count": 11,
   "id": "eeea57e2",
   "metadata": {
    "execution": {
     "iopub.execute_input": "2024-11-10T19:58:07.815180Z",
     "iopub.status.busy": "2024-11-10T19:58:07.814705Z",
     "iopub.status.idle": "2024-11-10T19:58:08.199862Z",
     "shell.execute_reply": "2024-11-10T19:58:08.198349Z"
    },
    "papermill": {
     "duration": 0.40043,
     "end_time": "2024-11-10T19:58:08.203151",
     "exception": false,
     "start_time": "2024-11-10T19:58:07.802721",
     "status": "completed"
    },
    "tags": []
   },
   "outputs": [],
   "source": [
    "df_total.dropna(inplace=True)"
   ]
  },
  {
   "cell_type": "markdown",
   "id": "ebe9feed",
   "metadata": {
    "papermill": {
     "duration": 0.010038,
     "end_time": "2024-11-10T19:58:08.223736",
     "exception": false,
     "start_time": "2024-11-10T19:58:08.213698",
     "status": "completed"
    },
    "tags": []
   },
   "source": [
    "# Models"
   ]
  },
  {
   "cell_type": "markdown",
   "id": "3cd47439",
   "metadata": {
    "papermill": {
     "duration": 0.0098,
     "end_time": "2024-11-10T19:58:08.243994",
     "exception": false,
     "start_time": "2024-11-10T19:58:08.234194",
     "status": "completed"
    },
    "tags": []
   },
   "source": [
    "# Lasso Regression"
   ]
  },
  {
   "cell_type": "code",
   "execution_count": 12,
   "id": "9630c31a",
   "metadata": {
    "execution": {
     "iopub.execute_input": "2024-11-10T19:58:08.265881Z",
     "iopub.status.busy": "2024-11-10T19:58:08.265416Z",
     "iopub.status.idle": "2024-11-10T19:58:08.278053Z",
     "shell.execute_reply": "2024-11-10T19:58:08.276714Z"
    },
    "papermill": {
     "duration": 0.026836,
     "end_time": "2024-11-10T19:58:08.280762",
     "exception": false,
     "start_time": "2024-11-10T19:58:08.253926",
     "status": "completed"
    },
    "tags": []
   },
   "outputs": [],
   "source": [
    "def train_lasso(alpha, tscv, X, y):\n",
    "    lasso = Lasso(alpha=alpha, max_iter=30000)\n",
    "    scores = []\n",
    "    coefficients = []\n",
    "    \n",
    "    for train_index, test_index in tscv.split(X):\n",
    "        X_train_cv, X_test_cv = X.iloc[train_index], X.iloc[test_index]\n",
    "        y_train_cv, y_test_cv = y.iloc[train_index], y.iloc[test_index]\n",
    "        \n",
    "        # Fit Lasso model on the training data\n",
    "        lasso.fit(X_train_cv, y_train_cv)\n",
    "        w\n",
    "        # Append the coefficients for this fold\n",
    "        coefficients.append(lasso.coef_)\n",
    "        \n",
    "        # Get predictions and calculate the custom score for this fold\n",
    "        y_pred = lasso.predict(X_test_cv)\n",
    "        fold_score = tracking_error(y_test_cv.values, y_pred)  # Replace with your custom metric\n",
    "        print(f\"Fold Score {fold_score}\")\n",
    "        scores.append(fold_score)\n",
    "    \n",
    "    # Calculate the average coefficients across all folds\n",
    "    average_coefficients = np.mean(coefficients, axis=0)\n",
    "    \n",
    "    # Calculate the average score across all folds\n",
    "    average_score = np.mean(scores)\n",
    "\n",
    "    selected_stocks = np.where(abs(average_coefficients) > 1e-5)[0]\n",
    "\n",
    "    print(f\"-------alpha: {alpha}-------\")\n",
    "    print(f\"CV Score: {average_score}\")\n",
    "    print(f\"Number of Stocks: {len(selected_stocks)}\")\n",
    "\n",
    "    return (selected_stocks, average_score)"
   ]
  },
  {
   "cell_type": "markdown",
   "id": "dddb7185",
   "metadata": {
    "papermill": {
     "duration": 0.009537,
     "end_time": "2024-11-10T19:58:08.300303",
     "exception": false,
     "start_time": "2024-11-10T19:58:08.290766",
     "status": "completed"
    },
    "tags": []
   },
   "source": [
    "## Combined Approach\n",
    "In this section, we will utilize a combined approach to limit the number of features (stocks) and train our models.\n",
    "\n",
    "1. Feature Selection (using Lasso w/ high alpha, Mutual Info, ANOVA, RFE)\n",
    "2. Define threshold to drop features\n",
    "3. Train model on reduced feature space (Hyperparameter tuned)\n",
    "4. Get tracking error\n",
    "5. Save pair (number of stocks, tracking error) for plotting"
   ]
  },
  {
   "cell_type": "markdown",
   "id": "90238e12",
   "metadata": {
    "papermill": {
     "duration": 0.009573,
     "end_time": "2024-11-10T19:58:08.319909",
     "exception": false,
     "start_time": "2024-11-10T19:58:08.310336",
     "status": "completed"
    },
    "tags": []
   },
   "source": [
    "### Lasso - Lasso\n",
    "We will utilize a Lasso model with a high alpha value to perform feature selection, this will drop the coefficients for less important features to 0. After that we retrain a Lasso model with hyperparameter tuning."
   ]
  },
  {
   "cell_type": "code",
   "execution_count": 13,
   "id": "ffd9b7f9",
   "metadata": {
    "execution": {
     "iopub.execute_input": "2024-11-10T19:58:08.342233Z",
     "iopub.status.busy": "2024-11-10T19:58:08.341783Z",
     "iopub.status.idle": "2024-11-10T19:58:08.356526Z",
     "shell.execute_reply": "2024-11-10T19:58:08.354923Z"
    },
    "papermill": {
     "duration": 0.029606,
     "end_time": "2024-11-10T19:58:08.359908",
     "exception": false,
     "start_time": "2024-11-10T19:58:08.330302",
     "status": "completed"
    },
    "tags": []
   },
   "outputs": [],
   "source": [
    "def Lasso_Lasso(alpha, X, y):\n",
    "    tscv = TimeSeriesSplit(n_splits=3)\n",
    "    lasso_cv = LassoCV(alphas=[alpha], cv=tscv, max_iter=10000, random_state=42)\n",
    "    lasso_cv.fit(X, y)\n",
    "\n",
    "    # Get selected features    \n",
    "    selector = SelectFromModel(lasso_cv, threshold=0.05, max_features=None)  # Adjust threshold as needed\n",
    "    X_selected = selector.transform(X)\n",
    "    selected_features = np.where(selector.get_support())[0] \n",
    "    print(f\"Selected {len(selected_features)} stocks\")\n",
    "\n",
    "    alphas = [0.1, 0.5, 1, 5, 10]\n",
    "    best_alpha = None\n",
    "    best_score = np.inf  # Initialize with a high value, so any result will be better\n",
    "    \n",
    "    for alpha in alphas:\n",
    "        lasso = Lasso(alpha=alpha, max_iter=10000)\n",
    "        fold_scores = []  # Store the tracking error for each fold\n",
    "\n",
    "        # Loop over each fold in the TimeSeriesSplit\n",
    "        for train_index, test_index in tscv.split(X_selected):\n",
    "            X_train_cv, X_test_cv = X.iloc[train_index], X.iloc[test_index]\n",
    "            y_train_cv, y_test_cv = y.iloc[train_index], y.iloc[test_index]\n",
    "            \n",
    "            # Fit the Lasso model on the training data\n",
    "            lasso.fit(X_train_cv, y_train_cv)\n",
    "            \n",
    "            # Predict on the test data\n",
    "            y_pred = lasso.predict(X_test_cv)\n",
    "    \n",
    "            # Evaluate the model using the custom metric (e.g., tracking error)\n",
    "            fold_score = tracking_error(y_test_cv.values, y_pred)\n",
    "            fold_scores.append(fold_score)\n",
    "        \n",
    "        # Calculate the average score across all folds\n",
    "        average_score = np.mean(fold_scores)\n",
    "        \n",
    "        # Print the tracking error for this alpha\n",
    "        print(f\"Alpha: {alpha}, Average Tracking Error: {average_score}\")\n",
    "    \n",
    "        # Track the best alpha (with the lowest tracking error)\n",
    "        if average_score < best_score:\n",
    "            best_score = average_score\n",
    "            best_alpha = alpha\n",
    "    \n",
    "    print(f\"\\nBest Alpha: {best_alpha} with Tracking Error: {best_score}\")    \n",
    "    return len(selected_features), best_score"
   ]
  },
  {
   "cell_type": "code",
   "execution_count": 14,
   "id": "4d1c347e",
   "metadata": {
    "execution": {
     "iopub.execute_input": "2024-11-10T19:58:08.382650Z",
     "iopub.status.busy": "2024-11-10T19:58:08.382141Z",
     "iopub.status.idle": "2024-11-11T02:39:18.554834Z",
     "shell.execute_reply": "2024-11-11T02:39:18.553221Z"
    },
    "papermill": {
     "duration": 24070.187611,
     "end_time": "2024-11-11T02:39:18.557970",
     "exception": false,
     "start_time": "2024-11-10T19:58:08.370359",
     "status": "completed"
    },
    "tags": []
   },
   "outputs": [
    {
     "name": "stdout",
     "output_type": "stream",
     "text": [
      "Selected 80 stocks\n",
      "Alpha: 0.1, Average Tracking Error: 0.4450343171602235\n",
      "Alpha: 0.5, Average Tracking Error: 0.4430673610837102\n",
      "Alpha: 1, Average Tracking Error: 0.4428831340509469\n",
      "Alpha: 5, Average Tracking Error: 0.46630788021349273\n",
      "Alpha: 10, Average Tracking Error: 0.4817332402407808\n",
      "\n",
      "Best Alpha: 1 with Tracking Error: 0.4428831340509469\n",
      "Selected 77 stocks\n",
      "Alpha: 0.1, Average Tracking Error: 0.4450343171602235\n",
      "Alpha: 0.5, Average Tracking Error: 0.4430673610837102\n",
      "Alpha: 1, Average Tracking Error: 0.4428831340509469\n",
      "Alpha: 5, Average Tracking Error: 0.46630788021349273\n",
      "Alpha: 10, Average Tracking Error: 0.4817332402407808\n",
      "\n",
      "Best Alpha: 1 with Tracking Error: 0.4428831340509469\n",
      "Selected 70 stocks\n",
      "Alpha: 0.1, Average Tracking Error: 0.4450343171602235\n",
      "Alpha: 0.5, Average Tracking Error: 0.4430673610837102\n",
      "Alpha: 1, Average Tracking Error: 0.4428831340509469\n",
      "Alpha: 5, Average Tracking Error: 0.46630788021349273\n",
      "Alpha: 10, Average Tracking Error: 0.4817332402407808\n",
      "\n",
      "Best Alpha: 1 with Tracking Error: 0.4428831340509469\n",
      "[80, 77, 70] [0.4428831340509469, 0.4428831340509469, 0.4428831340509469]\n"
     ]
    },
    {
     "data": {
      "image/png": "[encoded data removed]",
      "text/plain": [
       "<Figure size 640x480 with 2 Axes>"
      ]
     },
     "metadata": {},
     "output_type": "display_data"
    }
   ],
   "source": [
    "X = df_total.drop(columns=['NIFTY 50', 'NIFTY BANK', 'NIFTY_100'])\n",
    "y = df_total['NIFTY_100']\n",
    "\n",
    "alphas = [50, 75, 100]\n",
    "tracking_errors = []\n",
    "num_stocks_list = []\n",
    "\n",
    "for alpha in alphas:\n",
    "    num_stocks, tracking_err = Lasso_Lasso(alpha, X, y)\n",
    "    num_stocks_list.append(num_stocks)\n",
    "    tracking_errors.append(tracking_err)\n",
    "\n",
    "print(num_stocks_list, tracking_errors)\n",
    "\n",
    "# Plotting the results\n",
    "fig, ax1 = plt.subplots()\n",
    "\n",
    "# Plotting number of stocks on the primary y-axis\n",
    "color = 'tab:blue'\n",
    "ax1.set_xlabel('Alpha')\n",
    "ax1.set_ylabel('Number of Stocks', color=color)\n",
    "ax1.plot(alphas, num_stocks_list, color=color, marker='o', label='Number of Stocks')\n",
    "ax1.tick_params(axis='y', labelcolor=color)\n",
    "\n",
    "# Creating a second y-axis for tracking error\n",
    "ax2 = ax1.twinx()\n",
    "color = 'tab:red'\n",
    "ax2.set_ylabel('Tracking Error', color=color)\n",
    "ax2.plot(alphas, tracking_errors, color=color, marker='x', linestyle='--', label='Tracking Error')\n",
    "ax2.tick_params(axis='y', labelcolor=color)\n",
    "\n",
    "# Adding a title and legend\n",
    "plt.title('Number of Stocks and Tracking Error vs. Alpha')\n",
    "fig.tight_layout()  # Adjust layout to prevent overlap\n",
    "plt.show()"
   ]
  },
  {
   "cell_type": "markdown",
   "id": "84ac7fe8",
   "metadata": {
    "papermill": {
     "duration": 0.012147,
     "end_time": "2024-11-11T02:39:18.582927",
     "exception": false,
     "start_time": "2024-11-11T02:39:18.570780",
     "status": "completed"
    },
    "tags": []
   },
   "source": [
    "# Random Forest"
   ]
  },
  {
   "cell_type": "code",
   "execution_count": 15,
   "id": "d75d7dc1",
   "metadata": {
    "execution": {
     "iopub.execute_input": "2024-11-11T02:39:18.610362Z",
     "iopub.status.busy": "2024-11-11T02:39:18.609850Z",
     "iopub.status.idle": "2024-11-11T02:39:18.623752Z",
     "shell.execute_reply": "2024-11-11T02:39:18.622229Z"
    },
    "papermill": {
     "duration": 0.030852,
     "end_time": "2024-11-11T02:39:18.626350",
     "exception": false,
     "start_time": "2024-11-11T02:39:18.595498",
     "status": "completed"
    },
    "tags": []
   },
   "outputs": [],
   "source": [
    "def train_random_forest(tscv, depth, samples, estimators, X, y):\n",
    "    rf = RandomForestRegressor(max_features=\"log2\", max_depth=depth, min_samples_split=samples, n_estimators=estimators, random_state=42)\n",
    "    scores = []\n",
    "    importances = []\n",
    "    \n",
    "    for train_index, test_index in tscv.split(X):\n",
    "        X_train_cv, X_test_cv = X.iloc[train_index], X.iloc[test_index]\n",
    "        y_train_cv, y_test_cv = y.iloc[train_index], y.iloc[test_index]\n",
    "        \n",
    "        # Fit Lasso model on the training data\n",
    "        rf.fit(X_train_cv, y_train_cv)\n",
    "        \n",
    "        # Get feature importance scores\n",
    "        importances.append(rf.feature_importances_)\n",
    "        \n",
    "        # Get predictions and calculate the custom score for this fold\n",
    "        y_pred = rf.predict(X_test_cv)\n",
    "        fold_score = tracking_error(y_test_cv.values, y_pred)  # Replace with your custom metric\n",
    "        print(f\"Fold Score {fold_score}\")\n",
    "        scores.append(fold_score)\n",
    "    \n",
    "    # Calculate the average coefficients across all folds\n",
    "    average_importances = np.mean(importances, axis=0)\n",
    "    \n",
    "    # Calculate the average score across all folds\n",
    "    average_score = np.mean(scores)\n",
    "\n",
    "    selected_stocks = np.where(abs(average_importances) > 1e-5)[0]\n",
    "\n",
    "    print(len(np.where(abs(average_importances) == 0.0)[0]))\n",
    "\n",
    "    print(selected_stocks)\n",
    "\n",
    "    print(\"-------Avg Scores-------\")\n",
    "    print(f\"CV Score: {average_score}\")\n",
    "    print(f\"Number of Stocks: {len(selected_stocks)}\")\n",
    "\n",
    "    return (selected_stocks, average_score)"
   ]
  },
  {
   "cell_type": "code",
   "execution_count": 16,
   "id": "25b0ecba",
   "metadata": {
    "execution": {
     "iopub.execute_input": "2024-11-11T02:39:18.654227Z",
     "iopub.status.busy": "2024-11-11T02:39:18.653664Z",
     "iopub.status.idle": "2024-11-11T02:39:20.543927Z",
     "shell.execute_reply": "2024-11-11T02:39:20.542593Z"
    },
    "papermill": {
     "duration": 1.907719,
     "end_time": "2024-11-11T02:39:20.546876",
     "exception": false,
     "start_time": "2024-11-11T02:39:18.639157",
     "status": "completed"
    },
    "tags": []
   },
   "outputs": [],
   "source": [
    "X = df_total.drop(columns=['NIFTY 50', 'NIFTY BANK', 'NIFTY_100'])\n",
    "y = df_total['NIFTY_100']\n",
    "\n",
    "tscv = TimeSeriesSplit(n_splits=3)\n",
    "\n",
    "#train_random_forest(tscv, 2, 5, 15, X, y)"
   ]
  },
  {
   "cell_type": "markdown",
   "id": "fef4aa3e",
   "metadata": {
    "papermill": {
     "duration": 0.012112,
     "end_time": "2024-11-11T02:39:20.571172",
     "exception": false,
     "start_time": "2024-11-11T02:39:20.559060",
     "status": "completed"
    },
    "tags": []
   },
   "source": [
    "X = df_total.drop(columns=['NIFTY 50', 'NIFTY BANK', 'NIFTY_100'])\n",
    "y = df_total['NIFTY_100']\n",
    "\n",
    "tscv = TimeSeriesSplit(n_splits=3)\n",
    "\n",
    "param_grid = {\n",
    "    'n_estimators': [15, 20, 25, 30, 35],\n",
    "    'max_depth': [2, 3, 4],\n",
    "    'min_samples_split': [5, 10, 15, 20]\n",
    "}\n",
    "\n",
    "results = []\n",
    "\n",
    "for n_estimators in param_grid['n_estimators']:\n",
    "    for max_depth in param_grid['max_depth']:\n",
    "        for samples in param_grid['min_samples_split']:\n",
    "            (stocks, err) = train_random_forest(tscv, max_depth, samples, n_estimators, X, y)\n",
    "            results.append({\n",
    "                'n_estimators': n_estimators,\n",
    "                'max_depth': max_depth,\n",
    "                'min_samples_split': samples,\n",
    "                'tracking_error': err,\n",
    "                'num_selected_stocks': len(stocks)\n",
    "            })\n",
    "\n",
    "\n",
    "with open(\"/kaggle/working/rf_results.json\", \"w\") as file:\n",
    "    json.dump(results, file, indent=4)  # `indent=4` for pretty formatting"
   ]
  },
  {
   "cell_type": "markdown",
   "id": "5f34df38",
   "metadata": {
    "papermill": {
     "duration": 0.012308,
     "end_time": "2024-11-11T02:39:20.595895",
     "exception": false,
     "start_time": "2024-11-11T02:39:20.583587",
     "status": "completed"
    },
    "tags": []
   },
   "source": [
    "For the random forest model, only models with a very low number of estimators (n_estimators) 10 - 20, achieve feature selection, but those models probably suffer from high variance and won't be good enough to generalize. "
   ]
  },
  {
   "cell_type": "markdown",
   "id": "0d1c0ce0",
   "metadata": {
    "papermill": {
     "duration": 0.01196,
     "end_time": "2024-11-11T02:39:20.620313",
     "exception": false,
     "start_time": "2024-11-11T02:39:20.608353",
     "status": "completed"
    },
    "tags": []
   },
   "source": [
    "## Gradient Boosting"
   ]
  },
  {
   "cell_type": "markdown",
   "id": "b496f558",
   "metadata": {
    "papermill": {
     "duration": 0.01202,
     "end_time": "2024-11-11T02:39:20.644531",
     "exception": false,
     "start_time": "2024-11-11T02:39:20.632511",
     "status": "completed"
    },
    "tags": []
   },
   "source": [
    "### XGBoost"
   ]
  },
  {
   "cell_type": "code",
   "execution_count": 17,
   "id": "90db83c0",
   "metadata": {
    "execution": {
     "iopub.execute_input": "2024-11-11T02:39:20.673398Z",
     "iopub.status.busy": "2024-11-11T02:39:20.672863Z",
     "iopub.status.idle": "2024-11-11T02:39:20.686267Z",
     "shell.execute_reply": "2024-11-11T02:39:20.684946Z"
    },
    "papermill": {
     "duration": 0.031771,
     "end_time": "2024-11-11T02:39:20.689157",
     "exception": false,
     "start_time": "2024-11-11T02:39:20.657386",
     "status": "completed"
    },
    "tags": []
   },
   "outputs": [],
   "source": [
    "def train_xgboost(tscv, X, y):\n",
    "    xgbr = xgb.XGBRegressor(\n",
    "        n_estimators=100,\n",
    "        max_depth=2,\n",
    "        min_child_weight=5,\n",
    "        gamma=5,\n",
    "        subsample=0.5,\n",
    "        colsample_bytree=0.3,\n",
    "        alpha=100,\n",
    "        learning_rate=0.1,\n",
    "        random_state=42\n",
    "    )\n",
    "\n",
    "    scores = []\n",
    "    importances = []\n",
    "\n",
    "    for train_index, test_index in tscv.split(X):\n",
    "        X_train_cv, X_test_cv = X.iloc[train_index], X.iloc[test_index]\n",
    "        y_train_cv, y_test_cv = y.iloc[train_index], y.iloc[test_index]\n",
    "        \n",
    "        # Fit XGBR model on the training data\n",
    "        xgbr.fit(X_train_cv, y_train_cv)\n",
    "        \n",
    "        # Get predictions and calculate the custom score for this fold\n",
    "        y_pred = xgbr.predict(X_test_cv)\n",
    "        fold_score = tracking_error(y_test_cv.values, y_pred)  # Replace with your custom metric\n",
    "        print(f\"Fold Score {fold_score}\")\n",
    "        scores.append(fold_score)\n",
    "\n",
    "        importances.append(xgbr.feature_importances_)\n",
    "\n",
    "    # Calculate the average score across all folds\n",
    "    average_score = np.mean(scores)\n",
    "    average_importances = np.mean(importances, axis=0)\n",
    "\n",
    "    selected_stocks = np.where(average_importances > 0.0)[0]\n",
    "    num_zero_importance_stocks = len(np.where(average_importances == 0.0)[0])\n",
    "    \n",
    "    print(\"-------Avg Scores-------\")\n",
    "    print(f\"CV Score: {average_score}\")\n",
    "    print(f\"Number of Stocks: {len(selected_stocks)} - Number of 0 importance stocks {num_zero_importance_stocks}\")\n"
   ]
  },
  {
   "cell_type": "code",
   "execution_count": 18,
   "id": "2ea3c2f7",
   "metadata": {
    "execution": {
     "iopub.execute_input": "2024-11-11T02:39:20.715954Z",
     "iopub.status.busy": "2024-11-11T02:39:20.715441Z",
     "iopub.status.idle": "2024-11-11T02:39:47.911465Z",
     "shell.execute_reply": "2024-11-11T02:39:47.910370Z"
    },
    "papermill": {
     "duration": 27.212781,
     "end_time": "2024-11-11T02:39:47.914295",
     "exception": false,
     "start_time": "2024-11-11T02:39:20.701514",
     "status": "completed"
    },
    "tags": []
   },
   "outputs": [
    {
     "name": "stdout",
     "output_type": "stream",
     "text": [
      "Fold Score 0.11451923678371398\n",
      "Fold Score 0.2242370085460745\n",
      "Fold Score 0.36494057358377446\n",
      "-------Avg Scores-------\n",
      "CV Score: 0.23456560630452097\n",
      "Number of Stocks: 94 - Number of 0 importance stocks 5\n"
     ]
    }
   ],
   "source": [
    "train_xgboost(tscv, X, y)"
   ]
  },
  {
   "cell_type": "code",
   "execution_count": null,
   "id": "11cae031",
   "metadata": {
    "papermill": {
     "duration": 0.014008,
     "end_time": "2024-11-11T02:39:47.941364",
     "exception": false,
     "start_time": "2024-11-11T02:39:47.927356",
     "status": "completed"
    },
    "tags": []
   },
   "outputs": [],
   "source": []
  }
 ],
 "metadata": {
  "kaggle": {
   "accelerator": "none",
   "dataSources": [
    {
     "datasetId": 2401195,
     "sourceId": 9515685,
     "sourceType": "datasetVersion"
    },
    {
     "datasetId": 6024843,
     "sourceId": 9824880,
     "sourceType": "datasetVersion"
    },
    {
     "datasetId": 2490157,
     "sourceId": 5846986,
     "sourceType": "datasetVersion"
    }
   ],
   "dockerImageVersionId": 30786,
   "isGpuEnabled": false,
   "isInternetEnabled": true,
   "language": "python",
   "sourceType": "notebook"
  },
  "kernelspec": {
   "display_name": "Python 3",
   "language": "python",
   "name": "python3"
  },
  "language_info": {
   "codemirror_mode": {
    "name": "ipython",
    "version": 3
   },
   "file_extension": ".py",
   "mimetype": "text/x-python",
   "name": "python",
   "nbconvert_exporter": "python",
   "pygments_lexer": "ipython3",
   "version": "3.10.14"
  },
  "papermill": {
   "default_parameters": {},
   "duration": 24142.814827,
   "end_time": "2024-11-11T02:39:49.082054",
   "environment_variables": {},
   "exception": null,
   "input_path": "__notebook__.ipynb",
   "output_path": "__notebook__.ipynb",
   "parameters": {},
   "start_time": "2024-11-10T19:57:26.267227",
   "version": "2.6.0"
  }
 },
 "nbformat": 4,
 "nbformat_minor": 5
}
