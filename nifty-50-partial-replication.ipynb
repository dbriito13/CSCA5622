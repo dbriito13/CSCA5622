{
 "cells": [
  {
   "cell_type": "markdown",
   "id": "bb6aa40b",
   "metadata": {
    "_cell_guid": "b1076dfc-b9ad-4769-8c92-a6c4dae69d19",
    "_uuid": "8f2839f25d086af736a60e9eeb907d3b93b6e0e5",
    "papermill": {
     "duration": 0.011303,
     "end_time": "2024-11-12T21:52:01.721395",
     "exception": false,
     "start_time": "2024-11-12T21:52:01.710092",
     "status": "completed"
    },
    "tags": []
   },
   "source": [
    "# Nifty 50 Partial Replication"
   ]
  },
  {
   "cell_type": "code",
   "execution_count": 1,
   "id": "38826a95",
   "metadata": {
    "execution": {
     "iopub.execute_input": "2024-11-12T21:52:01.737843Z",
     "iopub.status.busy": "2024-11-12T21:52:01.737322Z",
     "iopub.status.idle": "2024-11-12T21:52:04.790650Z",
     "shell.execute_reply": "2024-11-12T21:52:04.789542Z"
    },
    "papermill": {
     "duration": 3.064699,
     "end_time": "2024-11-12T21:52:04.793298",
     "exception": false,
     "start_time": "2024-11-12T21:52:01.728599",
     "status": "completed"
    },
    "tags": []
   },
   "outputs": [],
   "source": [
    "import pandas as pd\n",
    "import numpy as np\n",
    "from sklearn.model_selection import train_test_split\n",
    "from sklearn.linear_model import Lasso\n",
    "from sklearn.metrics import mean_squared_error, r2_score, make_scorer\n",
    "from sklearn.model_selection import cross_val_score, TimeSeriesSplit\n",
    "from sklearn.linear_model import LassoCV\n",
    "import matplotlib.pyplot as plt\n",
    "import os\n",
    "import glob\n",
    "from tqdm import tqdm\n",
    "import warnings\n",
    "from sklearn.ensemble import RandomForestRegressor\n",
    "warnings.filterwarnings(\"ignore\")\n",
    "import xgboost as xgb\n",
    "from sklearn.feature_selection import SelectFromModel,mutual_info_regression"
   ]
  },
  {
   "cell_type": "code",
   "execution_count": 2,
   "id": "4fd00b7a",
   "metadata": {
    "execution": {
     "iopub.execute_input": "2024-11-12T21:52:04.809577Z",
     "iopub.status.busy": "2024-11-12T21:52:04.809022Z",
     "iopub.status.idle": "2024-11-12T21:52:04.815492Z",
     "shell.execute_reply": "2024-11-12T21:52:04.814291Z"
    },
    "papermill": {
     "duration": 0.017273,
     "end_time": "2024-11-12T21:52:04.817899",
     "exception": false,
     "start_time": "2024-11-12T21:52:04.800626",
     "status": "completed"
    },
    "tags": []
   },
   "outputs": [],
   "source": [
    "def tracking_error(y_true, y_pred):\n",
    "    # Convert y_true and y_pred to pandas Series for easy handling of pct_change()\n",
    "    y_true = pd.Series(y_true)\n",
    "    y_pred = pd.Series(y_pred)\n",
    "    \n",
    "    # Calculate percentage change for true values and predictions\n",
    "    pct_change_true = y_true.pct_change() * 100\n",
    "    pct_change_pred = y_pred.pct_change() * 100\n",
    "    \n",
    "    # Calculate the difference between the percentage changes\n",
    "    diff_pct_change = pct_change_true - pct_change_pred    \n",
    "    \n",
    "    # Return the standard deviation of the differences (tracking error)\n",
    "    return np.std(diff_pct_change.dropna())  # dropna() to avoid NaN values in pct_change"
   ]
  },
  {
   "cell_type": "markdown",
   "id": "5b2677f2",
   "metadata": {
    "papermill": {
     "duration": 0.006893,
     "end_time": "2024-11-12T21:52:04.832036",
     "exception": false,
     "start_time": "2024-11-12T21:52:04.825143",
     "status": "completed"
    },
    "tags": []
   },
   "source": [
    "## Data"
   ]
  },
  {
   "cell_type": "code",
   "execution_count": 3,
   "id": "489fb1d4",
   "metadata": {
    "execution": {
     "iopub.execute_input": "2024-11-12T21:52:04.849322Z",
     "iopub.status.busy": "2024-11-12T21:52:04.848883Z",
     "iopub.status.idle": "2024-11-12T21:52:04.853890Z",
     "shell.execute_reply": "2024-11-12T21:52:04.852765Z"
    },
    "papermill": {
     "duration": 0.016178,
     "end_time": "2024-11-12T21:52:04.856228",
     "exception": false,
     "start_time": "2024-11-12T21:52:04.840050",
     "status": "completed"
    },
    "tags": []
   },
   "outputs": [],
   "source": [
    "# directory_path = '/kaggle/input/stock-market-data-nifty-50-stocks-1-min-data'\n",
    "# pattern = os.path.join(directory_path, \"*.csv\")  # Change \"*.csv\" to match other patterns if needed\n",
    "\n",
    "# Get the list of files that match the pattern\n",
    "# file_list = glob.glob(pattern)"
   ]
  },
  {
   "cell_type": "code",
   "execution_count": 4,
   "id": "deceb5a3",
   "metadata": {
    "execution": {
     "iopub.execute_input": "2024-11-12T21:52:04.873112Z",
     "iopub.status.busy": "2024-11-12T21:52:04.872058Z",
     "iopub.status.idle": "2024-11-12T21:52:04.879115Z",
     "shell.execute_reply": "2024-11-12T21:52:04.877682Z"
    },
    "papermill": {
     "duration": 0.018289,
     "end_time": "2024-11-12T21:52:04.881769",
     "exception": false,
     "start_time": "2024-11-12T21:52:04.863480",
     "status": "completed"
    },
    "tags": []
   },
   "outputs": [],
   "source": [
    "def fetch_data(cols):\n",
    "    df_list = []\n",
    "    for file in tqdm(file_list):\n",
    "        stock_name = os.path.basename(file).split(\"_\")[0]\n",
    "        file_df = pd.read_csv(file, index_col=0)\n",
    "        file_df = file_df[[cols]]\n",
    "        file_df.columns = pd.MultiIndex.from_product([[stock_name], file_df.columns])\n",
    "        df_list.append(file_df)\n",
    "    return pd.concat(df_list, axis=1)"
   ]
  },
  {
   "cell_type": "code",
   "execution_count": 5,
   "id": "37fdcb02",
   "metadata": {
    "execution": {
     "iopub.execute_input": "2024-11-12T21:52:04.898027Z",
     "iopub.status.busy": "2024-11-12T21:52:04.897595Z",
     "iopub.status.idle": "2024-11-12T21:52:04.902784Z",
     "shell.execute_reply": "2024-11-12T21:52:04.901400Z"
    },
    "papermill": {
     "duration": 0.015966,
     "end_time": "2024-11-12T21:52:04.905082",
     "exception": false,
     "start_time": "2024-11-12T21:52:04.889116",
     "status": "completed"
    },
    "tags": []
   },
   "outputs": [],
   "source": [
    "# df = fetch_data('close')\n",
    "# df.to_csv('/kaggle/input/nifty_50_closing.csv')"
   ]
  },
  {
   "cell_type": "code",
   "execution_count": 6,
   "id": "9a3fcff8",
   "metadata": {
    "execution": {
     "iopub.execute_input": "2024-11-12T21:52:04.921281Z",
     "iopub.status.busy": "2024-11-12T21:52:04.920842Z",
     "iopub.status.idle": "2024-11-12T21:52:25.035510Z",
     "shell.execute_reply": "2024-11-12T21:52:25.034221Z"
    },
    "papermill": {
     "duration": 20.125677,
     "end_time": "2024-11-12T21:52:25.037992",
     "exception": false,
     "start_time": "2024-11-12T21:52:04.912315",
     "status": "completed"
    },
    "tags": []
   },
   "outputs": [],
   "source": [
    "df = pd.read_csv('/kaggle/input/nifty-50-closing-data/nifty_50_closing.csv', index_col=0, header=[0, 1])\n",
    "df = df.xs('close', level=1, axis=1)\n",
    "df.index = pd.to_datetime(df.index)"
   ]
  },
  {
   "cell_type": "code",
   "execution_count": 7,
   "id": "8c6a32df",
   "metadata": {
    "execution": {
     "iopub.execute_input": "2024-11-12T21:52:25.054846Z",
     "iopub.status.busy": "2024-11-12T21:52:25.054383Z",
     "iopub.status.idle": "2024-11-12T21:52:27.128823Z",
     "shell.execute_reply": "2024-11-12T21:52:27.127781Z"
    },
    "papermill": {
     "duration": 2.085609,
     "end_time": "2024-11-12T21:52:27.131395",
     "exception": false,
     "start_time": "2024-11-12T21:52:25.045786",
     "status": "completed"
    },
    "tags": []
   },
   "outputs": [],
   "source": [
    "nifty_100_closing = pd.read_csv('/kaggle/input/nifty-50-minute-data/NIFTY 100_minute.csv', index_col=0)[['close']]\n",
    "nifty_100_closing.index = pd.to_datetime(nifty_100_closing.index)\n",
    "nifty_100_closing.rename(columns={'close': 'NIFTY_100'}, inplace=True)"
   ]
  },
  {
   "cell_type": "code",
   "execution_count": 8,
   "id": "70eb4f4f",
   "metadata": {
    "execution": {
     "iopub.execute_input": "2024-11-12T21:52:27.148031Z",
     "iopub.status.busy": "2024-11-12T21:52:27.147161Z",
     "iopub.status.idle": "2024-11-12T21:52:27.153096Z",
     "shell.execute_reply": "2024-11-12T21:52:27.152121Z"
    },
    "papermill": {
     "duration": 0.017085,
     "end_time": "2024-11-12T21:52:27.155714",
     "exception": false,
     "start_time": "2024-11-12T21:52:27.138629",
     "status": "completed"
    },
    "tags": []
   },
   "outputs": [
    {
     "name": "stdout",
     "output_type": "stream",
     "text": [
      "Index type for df1: <class 'pandas.core.indexes.datetimes.DatetimeIndex'>\n",
      "Index type for df2: <class 'pandas.core.indexes.datetimes.DatetimeIndex'>\n"
     ]
    }
   ],
   "source": [
    "print(f\"Index type for df1: {type(df.index)}\")\n",
    "print(f\"Index type for df2: {type(nifty_100_closing.index)}\")"
   ]
  },
  {
   "cell_type": "code",
   "execution_count": 9,
   "id": "c3710c4d",
   "metadata": {
    "execution": {
     "iopub.execute_input": "2024-11-12T21:52:27.172144Z",
     "iopub.status.busy": "2024-11-12T21:52:27.171740Z",
     "iopub.status.idle": "2024-11-12T21:52:28.454855Z",
     "shell.execute_reply": "2024-11-12T21:52:28.453776Z"
    },
    "papermill": {
     "duration": 1.294131,
     "end_time": "2024-11-12T21:52:28.457459",
     "exception": false,
     "start_time": "2024-11-12T21:52:27.163328",
     "status": "completed"
    },
    "tags": []
   },
   "outputs": [
    {
     "data": {
      "text/html": [
       "<div>\n",
       "<style scoped>\n",
       "    .dataframe tbody tr th:only-of-type {\n",
       "        vertical-align: middle;\n",
       "    }\n",
       "\n",
       "    .dataframe tbody tr th {\n",
       "        vertical-align: top;\n",
       "    }\n",
       "\n",
       "    .dataframe thead th {\n",
       "        text-align: right;\n",
       "    }\n",
       "</style>\n",
       "<table border=\"1\" class=\"dataframe\">\n",
       "  <thead>\n",
       "    <tr style=\"text-align: right;\">\n",
       "      <th></th>\n",
       "      <th>HDFCAMC</th>\n",
       "      <th>APOLLOHOSP</th>\n",
       "      <th>BOSCHLTD</th>\n",
       "      <th>INDUSTOWER</th>\n",
       "      <th>BERGEPAINT</th>\n",
       "      <th>MARICO</th>\n",
       "      <th>ICICIPRULI</th>\n",
       "      <th>HDFCLIFE</th>\n",
       "      <th>SBIN</th>\n",
       "      <th>SUNPHARMA</th>\n",
       "      <th>...</th>\n",
       "      <th>SBICARD</th>\n",
       "      <th>DABUR</th>\n",
       "      <th>SAIL</th>\n",
       "      <th>BRITANNIA</th>\n",
       "      <th>ADANIPORTS</th>\n",
       "      <th>ONGC</th>\n",
       "      <th>EICHERMOT</th>\n",
       "      <th>TECHM</th>\n",
       "      <th>JINDALSTEL</th>\n",
       "      <th>HEROMOTOCO</th>\n",
       "    </tr>\n",
       "    <tr>\n",
       "      <th>date</th>\n",
       "      <th></th>\n",
       "      <th></th>\n",
       "      <th></th>\n",
       "      <th></th>\n",
       "      <th></th>\n",
       "      <th></th>\n",
       "      <th></th>\n",
       "      <th></th>\n",
       "      <th></th>\n",
       "      <th></th>\n",
       "      <th></th>\n",
       "      <th></th>\n",
       "      <th></th>\n",
       "      <th></th>\n",
       "      <th></th>\n",
       "      <th></th>\n",
       "      <th></th>\n",
       "      <th></th>\n",
       "      <th></th>\n",
       "      <th></th>\n",
       "      <th></th>\n",
       "    </tr>\n",
       "  </thead>\n",
       "  <tbody>\n",
       "    <tr>\n",
       "      <th>2018-08-06 10:47:00</th>\n",
       "      <td>1803.95</td>\n",
       "      <td>974.3</td>\n",
       "      <td>19187.45</td>\n",
       "      <td>290.0</td>\n",
       "      <td>316.85</td>\n",
       "      <td>357.95</td>\n",
       "      <td>408.50</td>\n",
       "      <td>485.00</td>\n",
       "      <td>306.70</td>\n",
       "      <td>579.65</td>\n",
       "      <td>...</td>\n",
       "      <td>0.0</td>\n",
       "      <td>435.30</td>\n",
       "      <td>79.35</td>\n",
       "      <td>3194.92</td>\n",
       "      <td>400.70</td>\n",
       "      <td>167.75</td>\n",
       "      <td>2711.3</td>\n",
       "      <td>670.45</td>\n",
       "      <td>207.65</td>\n",
       "      <td>3259.0</td>\n",
       "    </tr>\n",
       "    <tr>\n",
       "      <th>2018-08-06 10:48:00</th>\n",
       "      <td>1803.90</td>\n",
       "      <td>973.7</td>\n",
       "      <td>19187.45</td>\n",
       "      <td>290.0</td>\n",
       "      <td>316.50</td>\n",
       "      <td>357.55</td>\n",
       "      <td>408.10</td>\n",
       "      <td>484.95</td>\n",
       "      <td>306.70</td>\n",
       "      <td>579.30</td>\n",
       "      <td>...</td>\n",
       "      <td>0.0</td>\n",
       "      <td>435.15</td>\n",
       "      <td>79.30</td>\n",
       "      <td>3193.02</td>\n",
       "      <td>400.55</td>\n",
       "      <td>167.55</td>\n",
       "      <td>2710.6</td>\n",
       "      <td>670.55</td>\n",
       "      <td>207.80</td>\n",
       "      <td>3260.6</td>\n",
       "    </tr>\n",
       "    <tr>\n",
       "      <th>2018-08-06 10:49:00</th>\n",
       "      <td>1806.00</td>\n",
       "      <td>973.7</td>\n",
       "      <td>19187.45</td>\n",
       "      <td>290.0</td>\n",
       "      <td>316.85</td>\n",
       "      <td>357.20</td>\n",
       "      <td>408.85</td>\n",
       "      <td>485.00</td>\n",
       "      <td>306.75</td>\n",
       "      <td>579.45</td>\n",
       "      <td>...</td>\n",
       "      <td>0.0</td>\n",
       "      <td>435.70</td>\n",
       "      <td>79.30</td>\n",
       "      <td>3192.50</td>\n",
       "      <td>400.30</td>\n",
       "      <td>167.55</td>\n",
       "      <td>2709.8</td>\n",
       "      <td>670.65</td>\n",
       "      <td>207.55</td>\n",
       "      <td>3259.5</td>\n",
       "    </tr>\n",
       "  </tbody>\n",
       "</table>\n",
       "<p>3 rows × 101 columns</p>\n",
       "</div>"
      ],
      "text/plain": [
       "                     HDFCAMC  APOLLOHOSP  BOSCHLTD  INDUSTOWER  BERGEPAINT  \\\n",
       "date                                                                         \n",
       "2018-08-06 10:47:00  1803.95       974.3  19187.45       290.0      316.85   \n",
       "2018-08-06 10:48:00  1803.90       973.7  19187.45       290.0      316.50   \n",
       "2018-08-06 10:49:00  1806.00       973.7  19187.45       290.0      316.85   \n",
       "\n",
       "                     MARICO  ICICIPRULI  HDFCLIFE    SBIN  SUNPHARMA  ...  \\\n",
       "date                                                                  ...   \n",
       "2018-08-06 10:47:00  357.95      408.50    485.00  306.70     579.65  ...   \n",
       "2018-08-06 10:48:00  357.55      408.10    484.95  306.70     579.30  ...   \n",
       "2018-08-06 10:49:00  357.20      408.85    485.00  306.75     579.45  ...   \n",
       "\n",
       "                     SBICARD   DABUR   SAIL  BRITANNIA  ADANIPORTS    ONGC  \\\n",
       "date                                                                         \n",
       "2018-08-06 10:47:00      0.0  435.30  79.35    3194.92      400.70  167.75   \n",
       "2018-08-06 10:48:00      0.0  435.15  79.30    3193.02      400.55  167.55   \n",
       "2018-08-06 10:49:00      0.0  435.70  79.30    3192.50      400.30  167.55   \n",
       "\n",
       "                     EICHERMOT   TECHM  JINDALSTEL  HEROMOTOCO  \n",
       "date                                                            \n",
       "2018-08-06 10:47:00     2711.3  670.45      207.65      3259.0  \n",
       "2018-08-06 10:48:00     2710.6  670.55      207.80      3260.6  \n",
       "2018-08-06 10:49:00     2709.8  670.65      207.55      3259.5  \n",
       "\n",
       "[3 rows x 101 columns]"
      ]
     },
     "execution_count": 9,
     "metadata": {},
     "output_type": "execute_result"
    }
   ],
   "source": [
    "# df.interpolate(method='linear', inplace=True)\n",
    "# To fill the first row NaN with the value from the next minute\n",
    "df.fillna(0, inplace=True)\n",
    "df.index = df.index.tz_localize(None)\n",
    "df.head(3)"
   ]
  },
  {
   "cell_type": "code",
   "execution_count": 10,
   "id": "e047f619",
   "metadata": {
    "execution": {
     "iopub.execute_input": "2024-11-12T21:52:28.474527Z",
     "iopub.status.busy": "2024-11-12T21:52:28.474129Z",
     "iopub.status.idle": "2024-11-12T21:52:28.846043Z",
     "shell.execute_reply": "2024-11-12T21:52:28.845018Z"
    },
    "papermill": {
     "duration": 0.383416,
     "end_time": "2024-11-12T21:52:28.848670",
     "exception": false,
     "start_time": "2024-11-12T21:52:28.465254",
     "status": "completed"
    },
    "tags": []
   },
   "outputs": [],
   "source": [
    "df_total = df.join(nifty_100_closing, how='left')"
   ]
  },
  {
   "cell_type": "code",
   "execution_count": 11,
   "id": "9a975372",
   "metadata": {
    "execution": {
     "iopub.execute_input": "2024-11-12T21:52:28.865356Z",
     "iopub.status.busy": "2024-11-12T21:52:28.864932Z",
     "iopub.status.idle": "2024-11-12T21:52:29.236083Z",
     "shell.execute_reply": "2024-11-12T21:52:29.234760Z"
    },
    "papermill": {
     "duration": 0.382487,
     "end_time": "2024-11-12T21:52:29.238716",
     "exception": false,
     "start_time": "2024-11-12T21:52:28.856229",
     "status": "completed"
    },
    "tags": []
   },
   "outputs": [],
   "source": [
    "df_total.dropna(inplace=True)"
   ]
  },
  {
   "cell_type": "markdown",
   "id": "12f097e3",
   "metadata": {
    "papermill": {
     "duration": 0.007335,
     "end_time": "2024-11-12T21:52:29.254076",
     "exception": false,
     "start_time": "2024-11-12T21:52:29.246741",
     "status": "completed"
    },
    "tags": []
   },
   "source": [
    "# Models"
   ]
  },
  {
   "cell_type": "markdown",
   "id": "4d565953",
   "metadata": {
    "papermill": {
     "duration": 0.007226,
     "end_time": "2024-11-12T21:52:29.268833",
     "exception": false,
     "start_time": "2024-11-12T21:52:29.261607",
     "status": "completed"
    },
    "tags": []
   },
   "source": [
    "# Lasso Regression"
   ]
  },
  {
   "cell_type": "code",
   "execution_count": 12,
   "id": "eae95bd8",
   "metadata": {
    "execution": {
     "iopub.execute_input": "2024-11-12T21:52:29.286100Z",
     "iopub.status.busy": "2024-11-12T21:52:29.285692Z",
     "iopub.status.idle": "2024-11-12T21:52:29.295028Z",
     "shell.execute_reply": "2024-11-12T21:52:29.293850Z"
    },
    "papermill": {
     "duration": 0.020825,
     "end_time": "2024-11-12T21:52:29.297355",
     "exception": false,
     "start_time": "2024-11-12T21:52:29.276530",
     "status": "completed"
    },
    "tags": []
   },
   "outputs": [],
   "source": [
    "def train_lasso(alpha, tscv, X, y):\n",
    "    lasso = Lasso(alpha=alpha, max_iter=30000)\n",
    "    scores = []\n",
    "    coefficients = []\n",
    "    \n",
    "    for train_index, test_index in tscv.split(X):\n",
    "        X_train_cv, X_test_cv = X.iloc[train_index], X.iloc[test_index]\n",
    "        y_train_cv, y_test_cv = y.iloc[train_index], y.iloc[test_index]\n",
    "        \n",
    "        # Fit Lasso model on the training data\n",
    "        lasso.fit(X_train_cv, y_train_cv)\n",
    "        w\n",
    "        # Append the coefficients for this fold\n",
    "        coefficients.append(lasso.coef_)\n",
    "        \n",
    "        # Get predictions and calculate the custom score for this fold\n",
    "        y_pred = lasso.predict(X_test_cv)\n",
    "        fold_score = tracking_error(y_test_cv.values, y_pred)  # Replace with your custom metric\n",
    "        print(f\"Fold Score {fold_score}\")\n",
    "        scores.append(fold_score)\n",
    "    \n",
    "    # Calculate the average coefficients across all folds\n",
    "    average_coefficients = np.mean(coefficients, axis=0)\n",
    "    \n",
    "    # Calculate the average score across all folds\n",
    "    average_score = np.mean(scores)\n",
    "\n",
    "    selected_stocks = np.where(abs(average_coefficients) > 1e-5)[0]\n",
    "\n",
    "    print(f\"-------alpha: {alpha}-------\")\n",
    "    print(f\"CV Score: {average_score}\")\n",
    "    print(f\"Number of Stocks: {len(selected_stocks)}\")\n",
    "\n",
    "    return (selected_stocks, average_score)"
   ]
  },
  {
   "cell_type": "markdown",
   "id": "9dcb5a2d",
   "metadata": {
    "papermill": {
     "duration": 0.007239,
     "end_time": "2024-11-12T21:52:29.312348",
     "exception": false,
     "start_time": "2024-11-12T21:52:29.305109",
     "status": "completed"
    },
    "tags": []
   },
   "source": [
    "## Combined Approach\n",
    "In this section, we will utilize a combined approach to limit the number of features (stocks) and train our models.\n",
    "\n",
    "1. Feature Selection (using Lasso w/ high alpha, Mutual Info, ANOVA, RFE)\n",
    "2. Define threshold to drop features\n",
    "3. Train model on reduced feature space (Hyperparameter tuned)\n",
    "4. Get tracking error\n",
    "5. Save pair (number of stocks, tracking error) for plotting"
   ]
  },
  {
   "cell_type": "markdown",
   "id": "ad176a66",
   "metadata": {
    "papermill": {
     "duration": 0.007305,
     "end_time": "2024-11-12T21:52:29.327294",
     "exception": false,
     "start_time": "2024-11-12T21:52:29.319989",
     "status": "completed"
    },
    "tags": []
   },
   "source": [
    "### Lasso - Lasso\n",
    "We will utilize a Lasso model with a high alpha value to perform feature selection, this will drop the coefficients for less important features to 0. After that we retrain a Lasso model with hyperparameter tuning."
   ]
  },
  {
   "cell_type": "code",
   "execution_count": 13,
   "id": "e587e8c8",
   "metadata": {
    "execution": {
     "iopub.execute_input": "2024-11-12T21:52:29.344120Z",
     "iopub.status.busy": "2024-11-12T21:52:29.343670Z",
     "iopub.status.idle": "2024-11-12T21:52:29.354116Z",
     "shell.execute_reply": "2024-11-12T21:52:29.352922Z"
    },
    "papermill": {
     "duration": 0.021944,
     "end_time": "2024-11-12T21:52:29.356651",
     "exception": false,
     "start_time": "2024-11-12T21:52:29.334707",
     "status": "completed"
    },
    "tags": []
   },
   "outputs": [],
   "source": [
    "def Lasso_Lasso(alpha, X, y):    \n",
    "    tscv = TimeSeriesSplit(n_splits=3)\n",
    "    stocks = []\n",
    "    num_stocks = []\n",
    "    fold_scores = []\n",
    "    \n",
    "    for train_index, test_index in tscv.split(X):\n",
    "        X_train_cv, X_test_cv = X.iloc[train_index], X.iloc[test_index]\n",
    "        y_train_cv, y_test_cv = y.iloc[train_index], y.iloc[test_index]\n",
    "\n",
    "        # Feature selection with alpha from list\n",
    "        lasso_fs = Lasso(alpha=alpha, max_iter=15000)\n",
    "        lasso_fs.fit(X_train_cv, y_train_cv)\n",
    "\n",
    "        selector = SelectFromModel(lasso_fs, threshold=0.05, max_features=None)  # Adjust threshold as needed\n",
    "        X_selected_train = selector.transform(X_train_cv)\n",
    "        X_selected_test = selector.transform(X_test_cv)\n",
    "\n",
    "        selected_features = np.where(selector.get_support())[0] \n",
    "        print(f\"Selected {len(selected_features)} stocks\")\n",
    "        num_stocks.append(len(selected_features))\n",
    "        stocks.append(selected_features)\n",
    "\n",
    "        # Train model on the fold with reduced feature space\n",
    "        lasso = LassoCV(alphas=[0.1, 0.25, 0.5, 1, 2.5, 5], max_iter=15000)\n",
    "        lasso.fit(X_selected_train, y_train_cv)\n",
    "\n",
    "        y_pred = lasso.predict(X_selected_test)\n",
    "\n",
    "        # Evaluate the model using the custom metric (e.g., tracking error)\n",
    "        fold_score = tracking_error(y_test_cv.values, y_pred)\n",
    "        fold_scores.append(fold_score)\n",
    "        print(f\"Fold Score: {fold_score}\")\n",
    "        \n",
    "    # Calculate the average score across all folds\n",
    "    average_score = np.mean(fold_scores)\n",
    "\n",
    "    # Get average stocks chosen over all folds\n",
    "    average_selected_features = np.mean(num_stocks)\n",
    "    \n",
    "    # Print the tracking error for this alpha\n",
    "    print(f\"Alpha: {alpha}, Average Tracking Error: {average_score}\")\n",
    " \n",
    "    return stocks, average_selected_features, average_score"
   ]
  },
  {
   "cell_type": "code",
   "execution_count": 14,
   "id": "8ef7252d",
   "metadata": {
    "execution": {
     "iopub.execute_input": "2024-11-12T21:52:29.374196Z",
     "iopub.status.busy": "2024-11-12T21:52:29.373777Z",
     "iopub.status.idle": "2024-11-13T01:50:17.166136Z",
     "shell.execute_reply": "2024-11-13T01:50:17.164853Z"
    },
    "papermill": {
     "duration": 14267.808317,
     "end_time": "2024-11-13T01:50:17.173016",
     "exception": false,
     "start_time": "2024-11-12T21:52:29.364699",
     "status": "completed"
    },
    "tags": []
   },
   "outputs": [
    {
     "name": "stdout",
     "output_type": "stream",
     "text": [
      "Selected 43 stocks\n",
      "Fold Score: 0.012326835394855143\n",
      "Selected 57 stocks\n",
      "Fold Score: 0.33577219687919846\n",
      "Selected 52 stocks\n",
      "Fold Score: 0.9849560220474636\n",
      "Alpha: 30, Average Tracking Error: 0.4443516847738391\n",
      "Selected 40 stocks\n",
      "Fold Score: 0.012467859362264246\n",
      "Selected 47 stocks\n",
      "Fold Score: 0.28079141846984906\n",
      "Selected 46 stocks\n",
      "Fold Score: 1.2291368687896098\n",
      "Alpha: 45, Average Tracking Error: 0.507465382207241\n",
      "Selected 37 stocks\n",
      "Fold Score: 0.013992799570664743\n",
      "Selected 46 stocks\n",
      "Fold Score: 0.3051997621550484\n",
      "Selected 46 stocks\n",
      "Fold Score: 1.0431892759435628\n",
      "Alpha: 60, Average Tracking Error: 0.454127279223092\n",
      "Selected 34 stocks\n",
      "Fold Score: 0.012562323752748171\n",
      "Selected 45 stocks\n",
      "Fold Score: 0.30065151364046244\n",
      "Selected 45 stocks\n",
      "Fold Score: 1.1436123632555866\n",
      "Alpha: 75, Average Tracking Error: 0.48560873354959905\n",
      "Selected 34 stocks\n",
      "Fold Score: 0.012041805979586987\n",
      "Selected 40 stocks\n",
      "Fold Score: 0.2739921864336014\n",
      "Selected 45 stocks\n",
      "Fold Score: 1.133071199177939\n",
      "Alpha: 90, Average Tracking Error: 0.47303506386370914\n",
      "Selected 34 stocks\n",
      "Fold Score: 0.011933782593217623\n",
      "Selected 43 stocks\n",
      "Fold Score: 0.27189288255924127\n",
      "Selected 38 stocks\n",
      "Fold Score: 0.8433286194312838\n",
      "Alpha: 105, Average Tracking Error: 0.3757184281945809\n",
      "Selected 32 stocks\n",
      "Fold Score: 0.012666350355058698\n",
      "Selected 41 stocks\n",
      "Fold Score: 0.2715523241897203\n",
      "Selected 40 stocks\n",
      "Fold Score: 0.8340824406989902\n",
      "Alpha: 120, Average Tracking Error: 0.37276703841458975\n",
      "Selected 31 stocks\n",
      "Fold Score: 0.012847735046041675\n",
      "Selected 38 stocks\n",
      "Fold Score: 0.2875156139623612\n",
      "Selected 40 stocks\n",
      "Fold Score: 0.8310056565776218\n",
      "Alpha: 135, Average Tracking Error: 0.37712300186200826\n"
     ]
    },
    {
     "data": {
      "image/png": "[encoded data removed]",
      "text/plain": [
       "<Figure size 640x480 with 2 Axes>"
      ]
     },
     "metadata": {},
     "output_type": "display_data"
    }
   ],
   "source": [
    "X = df_total.drop(columns=['NIFTY 50', 'NIFTY BANK', 'NIFTY_100'])\n",
    "y = df_total['NIFTY_100']\n",
    "\n",
    "alphas = [30, 45, 60, 75, 90, 105, 120, 135]\n",
    "tracking_errors = []\n",
    "num_stocks_list = []\n",
    "\n",
    "for alpha in alphas:\n",
    "    _, num_stocks, tracking_err = Lasso_Lasso(alpha, X, y)\n",
    "    num_stocks_list.append(num_stocks)\n",
    "    tracking_errors.append(tracking_err)\n",
    "\n",
    "# Plotting the results\n",
    "fig, ax1 = plt.subplots()\n",
    "\n",
    "# Plotting number of stocks on the primary y-axis\n",
    "color = 'tab:blue'\n",
    "ax1.set_xlabel('Alpha')\n",
    "ax1.set_ylabel('Number of Stocks', color=color)\n",
    "ax1.plot(alphas, num_stocks_list, color=color, marker='o', label='Number of Stocks')\n",
    "ax1.tick_params(axis='y', labelcolor=color)\n",
    "\n",
    "# Creating a second y-axis for tracking error\n",
    "ax2 = ax1.twinx()\n",
    "color = 'tab:red'\n",
    "ax2.set_ylabel('Tracking Error', color=color)\n",
    "ax2.plot(alphas, tracking_errors, color=color, marker='x', linestyle='--', label='Tracking Error')\n",
    "ax2.tick_params(axis='y', labelcolor=color)\n",
    "\n",
    "# Adding a title and legend\n",
    "plt.title('Number of Stocks and Tracking Error vs. Alpha')\n",
    "fig.tight_layout()  # Adjust layout to prevent overlap\n",
    "plt.show()"
   ]
  },
  {
   "cell_type": "markdown",
   "id": "9031be8d",
   "metadata": {
    "papermill": {
     "duration": 0.011225,
     "end_time": "2024-11-13T01:50:17.195984",
     "exception": false,
     "start_time": "2024-11-13T01:50:17.184759",
     "status": "completed"
    },
    "tags": []
   },
   "source": [
    "# Mutual Info - Lasso\n",
    "Using mutual information between variables, which measures the dependency between them, 0 value being independence. By getting the mutual information between the features (stocks) and the target (NIFTY 100) we can \"discard\" the variables with lower dependencies. After feature selection, we traing a Lasso model with CV."
   ]
  },
  {
   "cell_type": "code",
   "execution_count": 15,
   "id": "9951a20f",
   "metadata": {
    "execution": {
     "iopub.execute_input": "2024-11-13T01:50:17.220679Z",
     "iopub.status.busy": "2024-11-13T01:50:17.220259Z",
     "iopub.status.idle": "2024-11-13T01:50:17.231447Z",
     "shell.execute_reply": "2024-11-13T01:50:17.230229Z"
    },
    "papermill": {
     "duration": 0.026442,
     "end_time": "2024-11-13T01:50:17.233914",
     "exception": false,
     "start_time": "2024-11-13T01:50:17.207472",
     "status": "completed"
    },
    "tags": []
   },
   "outputs": [],
   "source": [
    "def MI_Lasso(percentile, X, y):\n",
    "    tscv = TimeSeriesSplit(n_splits=3)\n",
    "    stocks = []\n",
    "    num_stocks = []\n",
    "    fold_scores = []\n",
    "    \n",
    "    for train_index, test_index in tscv.split(X):\n",
    "        X_train_cv, X_test_cv = X.iloc[train_index], X.iloc[test_index]\n",
    "        y_train_cv, y_test_cv = y.iloc[train_index], y.iloc[test_index]\n",
    "\n",
    "        # Feature selection with alpha from list\n",
    "        mi_scores = mutual_info_regression(X_train_cv, y_train_cv)\n",
    "        mi_scores_series = pd.Series(mi_scores, index=X_train_cv.columns)\n",
    "\n",
    "        threshold_value = mi_scores_series.quantile(percentile)\n",
    "        \n",
    "        selected_features = X_train_cv.columns[mi_scores > threshold_value]\n",
    "\n",
    "        X_train_selected = X_train_cv[selected_features]\n",
    "        X_test_selected = X_test_cv[selected_features]\n",
    "    \n",
    "        print(f\"Selected {len(selected_features)} stocks\")\n",
    "        num_stocks.append(len(selected_features))\n",
    "        stocks.append(selected_features)\n",
    "\n",
    "        # Train model on the fold with reduced feature space\n",
    "        lasso = LassoCV(alphas=[0.1, 0.25, 0.5, 1, 2.5, 5], max_iter=10)\n",
    "        lasso.fit(X_train_selected, y_train_cv)\n",
    "\n",
    "        y_pred = lasso.predict(X_test_selected)\n",
    "\n",
    "        # Evaluate the model using the custom metric (e.g., tracking error)\n",
    "        fold_score = tracking_error(y_test_cv.values, y_pred)\n",
    "        fold_scores.append(fold_score)\n",
    "        print(f\"Fold Score: {fold_score}\")\n",
    "        \n",
    "    # Calculate the average score across all folds\n",
    "    average_score = np.mean(fold_scores)\n",
    "\n",
    "    # Get average stocks chosen over all folds\n",
    "    average_selected_features = np.mean(num_stocks)\n",
    "    \n",
    "    # Print the tracking error for this alpha\n",
    "    print(f\"Percentile: {percentile}, Average Tracking Error: {average_score}\")\n",
    " \n",
    "    return stocks, average_selected_features, average_score"
   ]
  },
  {
   "cell_type": "code",
   "execution_count": 16,
   "id": "c28b1e52",
   "metadata": {
    "execution": {
     "iopub.execute_input": "2024-11-13T01:50:17.259792Z",
     "iopub.status.busy": "2024-11-13T01:50:17.259357Z",
     "iopub.status.idle": "2024-11-13T02:49:12.785564Z",
     "shell.execute_reply": "2024-11-13T02:49:12.784265Z"
    },
    "papermill": {
     "duration": 3535.542297,
     "end_time": "2024-11-13T02:49:12.788059",
     "exception": false,
     "start_time": "2024-11-13T01:50:17.245762",
     "status": "completed"
    },
    "tags": []
   },
   "outputs": [
    {
     "name": "stdout",
     "output_type": "stream",
     "text": [
      "Selected 89 stocks\n",
      "Fold Score: 0.1366418492509763\n",
      "Selected 89 stocks\n",
      "Fold Score: 0.1590346262198265\n",
      "Selected 89 stocks\n",
      "Fold Score: 1.431083735436987\n",
      "Percentile: 0.1, Average Tracking Error: 0.5755867369692632\n",
      "Selected 79 stocks\n",
      "Fold Score: 0.07670715340172857\n",
      "Selected 79 stocks\n",
      "Fold Score: 0.13008355387283885\n",
      "Selected 79 stocks\n",
      "Fold Score: 0.45788728440237025\n",
      "Percentile: 0.2, Average Tracking Error: 0.22155933055897922\n",
      "Selected 69 stocks\n",
      "Fold Score: 0.07328302670547594\n",
      "Selected 69 stocks\n",
      "Fold Score: 0.16555730290315432\n",
      "Selected 69 stocks\n",
      "Fold Score: 2.0231469492606378\n",
      "Percentile: 0.3, Average Tracking Error: 0.7539957596230894\n",
      "Selected 59 stocks\n",
      "Fold Score: 0.07870500187500043\n",
      "Selected 59 stocks\n",
      "Fold Score: 0.16785339362200455\n",
      "Selected 59 stocks\n",
      "Fold Score: 0.8262891514393216\n",
      "Percentile: 0.4, Average Tracking Error: 0.3576158489787755\n",
      "Selected 49 stocks\n",
      "Fold Score: 0.08736234965904738\n",
      "Selected 49 stocks\n",
      "Fold Score: 0.15214371362419074\n",
      "Selected 49 stocks\n",
      "Fold Score: 0.6034704993345745\n",
      "Percentile: 0.5, Average Tracking Error: 0.28099218753927085\n"
     ]
    },
    {
     "data": {
      "image/png": "[encoded data removed]",
      "text/plain": [
       "<Figure size 800x600 with 1 Axes>"
      ]
     },
     "metadata": {},
     "output_type": "display_data"
    }
   ],
   "source": [
    "X = df_total.drop(columns=['NIFTY 50', 'NIFTY BANK', 'NIFTY_100'])\n",
    "y = df_total['NIFTY_100']\n",
    "\n",
    "percentiles = [0.1, 0.2, 0.3, 0.4, 0.5]\n",
    "tracking_errors = []\n",
    "num_stock_list = []\n",
    "\n",
    "for percentile in percentiles:\n",
    "    _, num_stocks, tracking_err = MI_Lasso(percentile, X, y)\n",
    "    num_stock_list.append(num_stocks)\n",
    "    tracking_errors.append(tracking_err)\n",
    "\n",
    "# Plotting the results\n",
    "plt.figure(figsize=(8, 6))\n",
    "plt.plot(num_stock_list, tracking_errors, marker='o', linestyle='-')\n",
    "\n",
    "# Adding labels and title\n",
    "plt.xlabel(\"Number of Stocks Selected\")\n",
    "plt.ylabel(\"Tracking Error\")\n",
    "plt.title(\"Number of Stocks vs. Tracking Error\")\n",
    "plt.grid(True)\n",
    "plt.show()"
   ]
  },
  {
   "cell_type": "code",
   "execution_count": 17,
   "id": "7e536bfe",
   "metadata": {
    "execution": {
     "iopub.execute_input": "2024-11-13T02:49:12.819007Z",
     "iopub.status.busy": "2024-11-13T02:49:12.818543Z",
     "iopub.status.idle": "2024-11-13T02:49:12.829120Z",
     "shell.execute_reply": "2024-11-13T02:49:12.827793Z"
    },
    "papermill": {
     "duration": 0.028769,
     "end_time": "2024-11-13T02:49:12.831402",
     "exception": false,
     "start_time": "2024-11-13T02:49:12.802633",
     "status": "completed"
    },
    "tags": []
   },
   "outputs": [],
   "source": [
    "def train_random_forest(tscv, depth, samples, estimators, X, y):\n",
    "    rf = RandomForestRegressor(max_features=\"log2\", max_depth=depth, min_samples_split=samples, n_estimators=estimators, random_state=42)\n",
    "    scores = []\n",
    "    importances = []\n",
    "    \n",
    "    for train_index, test_index in tscv.split(X):\n",
    "        X_train_cv, X_test_cv = X.iloc[train_index], X.iloc[test_index]\n",
    "        y_train_cv, y_test_cv = y.iloc[train_index], y.iloc[test_index]\n",
    "        \n",
    "        # Fit Lasso model on the training data\n",
    "        rf.fit(X_train_cv, y_train_cv)\n",
    "        \n",
    "        # Get feature importance scores\n",
    "        importances.append(rf.feature_importances_)\n",
    "        \n",
    "        # Get predictions and calculate the custom score for this fold\n",
    "        y_pred = rf.predict(X_test_cv)\n",
    "        fold_score = tracking_error(y_test_cv.values, y_pred)  # Replace with your custom metric\n",
    "        print(f\"Fold Score {fold_score}\")\n",
    "        scores.append(fold_score)\n",
    "    \n",
    "    # Calculate the average coefficients across all folds\n",
    "    average_importances = np.mean(importances, axis=0)\n",
    "    \n",
    "    # Calculate the average score across all folds\n",
    "    average_score = np.mean(scores)\n",
    "\n",
    "    selected_stocks = np.where(abs(average_importances) > 1e-5)[0]\n",
    "\n",
    "    print(len(np.where(abs(average_importances) == 0.0)[0]))\n",
    "\n",
    "    print(selected_stocks)\n",
    "\n",
    "    print(\"-------Avg Scores-------\")\n",
    "    print(f\"CV Score: {average_score}\")\n",
    "    print(f\"Number of Stocks: {len(selected_stocks)}\")\n",
    "\n",
    "    return (selected_stocks, average_score)"
   ]
  },
  {
   "cell_type": "code",
   "execution_count": 18,
   "id": "4926dc63",
   "metadata": {
    "execution": {
     "iopub.execute_input": "2024-11-13T02:49:12.862137Z",
     "iopub.status.busy": "2024-11-13T02:49:12.861673Z",
     "iopub.status.idle": "2024-11-13T02:49:13.048962Z",
     "shell.execute_reply": "2024-11-13T02:49:13.047844Z"
    },
    "papermill": {
     "duration": 0.206271,
     "end_time": "2024-11-13T02:49:13.051813",
     "exception": false,
     "start_time": "2024-11-13T02:49:12.845542",
     "status": "completed"
    },
    "tags": []
   },
   "outputs": [],
   "source": [
    "X = df_total.drop(columns=['NIFTY 50', 'NIFTY BANK', 'NIFTY_100'])\n",
    "y = df_total['NIFTY_100']\n",
    "\n",
    "tscv = TimeSeriesSplit(n_splits=3)\n",
    "\n",
    "#train_random_forest(tscv, 2, 5, 15, X, y)"
   ]
  },
  {
   "cell_type": "markdown",
   "id": "7fadc12a",
   "metadata": {
    "papermill": {
     "duration": 0.0141,
     "end_time": "2024-11-13T02:49:13.079907",
     "exception": false,
     "start_time": "2024-11-13T02:49:13.065807",
     "status": "completed"
    },
    "tags": []
   },
   "source": [
    "X = df_total.drop(columns=['NIFTY 50', 'NIFTY BANK', 'NIFTY_100'])\n",
    "y = df_total['NIFTY_100']\n",
    "\n",
    "tscv = TimeSeriesSplit(n_splits=3)\n",
    "\n",
    "param_grid = {\n",
    "    'n_estimators': [15, 20, 25, 30, 35],\n",
    "    'max_depth': [2, 3, 4],\n",
    "    'min_samples_split': [5, 10, 15, 20]\n",
    "}\n",
    "\n",
    "results = []\n",
    "\n",
    "for n_estimators in param_grid['n_estimators']:\n",
    "    for max_depth in param_grid['max_depth']:\n",
    "        for samples in param_grid['min_samples_split']:\n",
    "            (stocks, err) = train_random_forest(tscv, max_depth, samples, n_estimators, X, y)\n",
    "            results.append({\n",
    "                'n_estimators': n_estimators,\n",
    "                'max_depth': max_depth,\n",
    "                'min_samples_split': samples,\n",
    "                'tracking_error': err,\n",
    "                'num_selected_stocks': len(stocks)\n",
    "            })\n",
    "\n",
    "\n",
    "with open(\"/kaggle/working/rf_results.json\", \"w\") as file:\n",
    "    json.dump(results, file, indent=4)  # `indent=4` for pretty formatting"
   ]
  },
  {
   "cell_type": "markdown",
   "id": "5f01f7af",
   "metadata": {
    "papermill": {
     "duration": 0.01357,
     "end_time": "2024-11-13T02:49:13.107290",
     "exception": false,
     "start_time": "2024-11-13T02:49:13.093720",
     "status": "completed"
    },
    "tags": []
   },
   "source": [
    "For the random forest model, only models with a very low number of estimators (n_estimators) 10 - 20, achieve feature selection, but those models probably suffer from high variance and won't be good enough to generalize. "
   ]
  },
  {
   "cell_type": "markdown",
   "id": "fa2d86f5",
   "metadata": {
    "papermill": {
     "duration": 0.013404,
     "end_time": "2024-11-13T02:49:13.134328",
     "exception": false,
     "start_time": "2024-11-13T02:49:13.120924",
     "status": "completed"
    },
    "tags": []
   },
   "source": [
    "## Gradient Boosting"
   ]
  },
  {
   "cell_type": "markdown",
   "id": "cb69dfdf",
   "metadata": {
    "papermill": {
     "duration": 0.015155,
     "end_time": "2024-11-13T02:49:13.163084",
     "exception": false,
     "start_time": "2024-11-13T02:49:13.147929",
     "status": "completed"
    },
    "tags": []
   },
   "source": [
    "### XGBoost"
   ]
  },
  {
   "cell_type": "code",
   "execution_count": 19,
   "id": "f65bed78",
   "metadata": {
    "execution": {
     "iopub.execute_input": "2024-11-13T02:49:13.192458Z",
     "iopub.status.busy": "2024-11-13T02:49:13.191916Z",
     "iopub.status.idle": "2024-11-13T02:49:13.202052Z",
     "shell.execute_reply": "2024-11-13T02:49:13.200812Z"
    },
    "papermill": {
     "duration": 0.027307,
     "end_time": "2024-11-13T02:49:13.204247",
     "exception": false,
     "start_time": "2024-11-13T02:49:13.176940",
     "status": "completed"
    },
    "tags": []
   },
   "outputs": [],
   "source": [
    "def train_xgboost(tscv, X, y):\n",
    "    xgbr = xgb.XGBRegressor(\n",
    "        n_estimators=100,\n",
    "        max_depth=2,\n",
    "        min_child_weight=5,\n",
    "        gamma=5,\n",
    "        subsample=0.5,\n",
    "        colsample_bytree=0.3,\n",
    "        alpha=100,\n",
    "        learning_rate=0.1,\n",
    "        random_state=42\n",
    "    )\n",
    "\n",
    "    scores = []\n",
    "    importances = []\n",
    "\n",
    "    for train_index, test_index in tscv.split(X):\n",
    "        X_train_cv, X_test_cv = X.iloc[train_index], X.iloc[test_index]\n",
    "        y_train_cv, y_test_cv = y.iloc[train_index], y.iloc[test_index]\n",
    "        \n",
    "        # Fit XGBR model on the training data\n",
    "        xgbr.fit(X_train_cv, y_train_cv)\n",
    "        \n",
    "        # Get predictions and calculate the custom score for this fold\n",
    "        y_pred = xgbr.predict(X_test_cv)\n",
    "        fold_score = tracking_error(y_test_cv.values, y_pred)  # Replace with your custom metric\n",
    "        print(f\"Fold Score {fold_score}\")\n",
    "        scores.append(fold_score)\n",
    "\n",
    "        importances.append(xgbr.feature_importances_)\n",
    "\n",
    "    # Calculate the average score across all folds\n",
    "    average_score = np.mean(scores)\n",
    "    average_importances = np.mean(importances, axis=0)\n",
    "\n",
    "    selected_stocks = np.where(average_importances > 0.0)[0]\n",
    "    num_zero_importance_stocks = len(np.where(average_importances == 0.0)[0])\n",
    "    \n",
    "    print(\"-------Avg Scores-------\")\n",
    "    print(f\"CV Score: {average_score}\")\n",
    "    print(f\"Number of Stocks: {len(selected_stocks)} - Number of 0 importance stocks {num_zero_importance_stocks}\")\n"
   ]
  },
  {
   "cell_type": "code",
   "execution_count": 20,
   "id": "8989aa04",
   "metadata": {
    "execution": {
     "iopub.execute_input": "2024-11-13T02:49:13.234915Z",
     "iopub.status.busy": "2024-11-13T02:49:13.234524Z",
     "iopub.status.idle": "2024-11-13T02:49:36.398234Z",
     "shell.execute_reply": "2024-11-13T02:49:36.397107Z"
    },
    "papermill": {
     "duration": 23.181772,
     "end_time": "2024-11-13T02:49:36.400526",
     "exception": false,
     "start_time": "2024-11-13T02:49:13.218754",
     "status": "completed"
    },
    "tags": []
   },
   "outputs": [
    {
     "name": "stdout",
     "output_type": "stream",
     "text": [
      "Fold Score 0.11451923678371398\n",
      "Fold Score 0.2242370085460745\n",
      "Fold Score 0.36494057358377446\n",
      "-------Avg Scores-------\n",
      "CV Score: 0.23456560630452097\n",
      "Number of Stocks: 94 - Number of 0 importance stocks 5\n"
     ]
    }
   ],
   "source": [
    "train_xgboost(tscv, X, y)"
   ]
  },
  {
   "cell_type": "code",
   "execution_count": null,
   "id": "f0e5630a",
   "metadata": {
    "papermill": {
     "duration": 0.013889,
     "end_time": "2024-11-13T02:49:36.428941",
     "exception": false,
     "start_time": "2024-11-13T02:49:36.415052",
     "status": "completed"
    },
    "tags": []
   },
   "outputs": [],
   "source": []
  }
 ],
 "metadata": {
  "kaggle": {
   "accelerator": "none",
   "dataSources": [
    {
     "datasetId": 6024843,
     "sourceId": 9824880,
     "sourceType": "datasetVersion"
    },
    {
     "datasetId": 2401195,
     "sourceId": 9867252,
     "sourceType": "datasetVersion"
    },
    {
     "datasetId": 2490157,
     "sourceId": 9876776,
     "sourceType": "datasetVersion"
    }
   ],
   "dockerImageVersionId": 30786,
   "isGpuEnabled": false,
   "isInternetEnabled": true,
   "language": "python",
   "sourceType": "notebook"
  },
  "kernelspec": {
   "display_name": "Python 3",
   "language": "python",
   "name": "python3"
  },
  "language_info": {
   "codemirror_mode": {
    "name": "ipython",
    "version": 3
   },
   "file_extension": ".py",
   "mimetype": "text/x-python",
   "name": "python",
   "nbconvert_exporter": "python",
   "pygments_lexer": "ipython3",
   "version": "3.10.14"
  },
  "papermill": {
   "default_parameters": {},
   "duration": 17858.371579,
   "end_time": "2024-11-13T02:49:37.265268",
   "environment_variables": {},
   "exception": null,
   "input_path": "__notebook__.ipynb",
   "output_path": "__notebook__.ipynb",
   "parameters": {},
   "start_time": "2024-11-12T21:51:58.893689",
   "version": "2.6.0"
  }
 },
 "nbformat": 4,
 "nbformat_minor": 5
}
