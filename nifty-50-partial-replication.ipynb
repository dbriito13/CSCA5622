{
 "cells": [
  {
   "cell_type": "markdown",
   "id": "ca3f2e03",
   "metadata": {
    "_cell_guid": "b1076dfc-b9ad-4769-8c92-a6c4dae69d19",
    "_uuid": "8f2839f25d086af736a60e9eeb907d3b93b6e0e5",
    "papermill": {
     "duration": 0.008588,
     "end_time": "2025-06-10T16:41:21.662160",
     "exception": false,
     "start_time": "2025-06-10T16:41:21.653572",
     "status": "completed"
    },
    "tags": []
   },
   "source": [
    "# Nifty 100 Partial Replication - https://github.com/dbriito13/CSCA5622 \n",
    "Index funds have become a household occurence in the financial sphere, especially for retail investors, due to their simplicity, diversification and low cost compared to actively managed funds. Following an index can be done in one of two ways:\n",
    "- **Full replication:** The most common approach, where a fund holds all constituent stocks present in the index, with the same weights as the index.\n",
    "- **Partial Replication:** With this approach, only a subset of the index's constituents is selected, which should aim to approximate the overall index performance.\n",
    "\n",
    "Partial replication can offer a number of benefits over full replication, but mainly:\n",
    "- Lower transaction costs: Reducing the number of stocks traded minimizes fees such as brokerage fees.\n",
    "- Reduced Trading fees: By potentially avoiding low-liquidity stocks, we avoid have wider bid-ask spreads, as well as having less market impact.\n",
    "- Higher flexibility: Funds can add other constraints on top of avoiding low-liquidity stocks, such as those on sectors or specific stocks, giving them better control over their risk management.\n",
    "Our project's goal is to apply supervised learning techniques to develop a partial replication strategy, minimizing the tracking error of our portfolio."
   ]
  },
  {
   "cell_type": "markdown",
   "id": "25960c9e",
   "metadata": {
    "papermill": {
     "duration": 0.007153,
     "end_time": "2025-06-10T16:41:21.677117",
     "exception": false,
     "start_time": "2025-06-10T16:41:21.669964",
     "status": "completed"
    },
    "tags": []
   },
   "source": [
    "## Methodology\n",
    "The project will focus on the NIFTY 100 index, which includes the top 100 companies in the National Stock Exchange of India (NSE) based on market capitalization. \n",
    "\n",
    "We will begin by gathering the minute-level data for both the index as well as the constituents data. Combining the data into a single dataframe, and perform some basic cleaning tasks, removing certain columns with a large number of empty values, as well as rows without target value, etc. Our target variable will be the **NIFTY 100 index price**.\n",
    "\n",
    "Since our goal is to reduce the number of constituents to use only a subset of the total 100 stocks, our models will follow a 2 step approach:\n",
    "1. Feature Selection: We will first apply different feature selection techniques, (Lasso regression, Correlation matrix, Mutual information) to identify the most relevant stocks for our model.\n",
    "2. Model Training: Once the most relevant features (stocks) are selected, we will train different supervised learning models on the reduced dataset, these models will predict the weights for each of the relevant stocks.\n",
    "To ensure the robustness of the test results, while accounting for the nature of the data (ordered time series) we will use a **sliding window approach**, where:\n",
    "* A fixed-size window (roughly 1-year) is used to train the model.\n",
    "* The model will be tested on roughly the next 3 months.\n",
    "* The window will slide forward, repeating until we use all available data.\n",
    "\n",
    "For a certain model, the overall out-of-sample error will be the average error over all the windows. The error we will aim to minimize is the **tracking error**, for simplicity models will minimize MSE. Finally, we will compare models by plotting the error vs the number of stocks, to visualize how it evolves as we reduce the size of the subset of constituents chosen.\n",
    "\n"
   ]
  },
  {
   "cell_type": "code",
   "execution_count": 1,
   "id": "fc10ce8e",
   "metadata": {
    "execution": {
     "iopub.execute_input": "2025-06-10T16:41:21.693699Z",
     "iopub.status.busy": "2025-06-10T16:41:21.693304Z",
     "iopub.status.idle": "2025-06-10T16:41:40.915225Z",
     "shell.execute_reply": "2025-06-10T16:41:40.914147Z"
    },
    "papermill": {
     "duration": 19.232879,
     "end_time": "2025-06-10T16:41:40.917595",
     "exception": false,
     "start_time": "2025-06-10T16:41:21.684716",
     "status": "completed"
    },
    "tags": []
   },
   "outputs": [],
   "source": [
    "from sklearn.linear_model import Lasso, ElasticNet, LinearRegression\n",
    "from sklearn.metrics import mean_squared_error, r2_score, make_scorer\n",
    "from sklearn.model_selection import train_test_split, cross_val_score, TimeSeriesSplit, ParameterGrid\n",
    "import matplotlib.pyplot as plt\n",
    "import os\n",
    "import glob\n",
    "import warnings\n",
    "from sklearn.ensemble import RandomForestRegressor\n",
    "from sklearn.exceptions import ConvergenceWarning\n",
    "warnings.filterwarnings(\"ignore\")\n",
    "warnings.filterwarnings(\"always\", category=ConvergenceWarning)\n",
    "import seaborn as sns\n",
    "from sklearn.feature_selection import SelectFromModel,mutual_info_regression\n",
    "import numpy as np\n",
    "import pandas as pd\n",
    "from sklearn.preprocessing import StandardScaler\n",
    "from keras.models import Model\n",
    "from keras.layers import Input, Dense\n",
    "from keras import regularizers\n",
    "from tensorflow import keras\n",
    "import tensorflow as tf\n",
    "import lightgbm as lgb\n",
    "from sklearn.svm import SVR"
   ]
  },
  {
   "cell_type": "markdown",
   "id": "3efe6f65",
   "metadata": {
    "papermill": {
     "duration": 0.006951,
     "end_time": "2025-06-10T16:41:40.932163",
     "exception": false,
     "start_time": "2025-06-10T16:41:40.925212",
     "status": "completed"
    },
    "tags": []
   },
   "source": [
    "## Tracking Error\n",
    "Tracking error is the metric most commonly used to judge how well a replicating portfolio tracks the benchmark index, for full replication we would expect this to be close to 0 (slightly higher than 0 due to transaction costs or rebalancing delays).\n",
    "\n",
    "The tracking error is defined as the standard deviation of the differences between the index and replicating portfolio over a specified time period. Central to this metric is the time period that the difference in returns is calculated over, usually this is done daily, weekly or monthly.\n",
    "\n",
    "$$\n",
    "\\text{Tracking Error} = \\sqrt{\\frac{\\sum_{t=1}^T \\left( R_{portfolio}(t) - R_{index}(t) \\right)^2}{T}}\n",
    "$$\n",
    "\n",
    "Where: \n",
    "*  $R_{portfolio}(t)$ is the portfolio return at time $t$,  \n",
    "*  $R_{index}(t)$ is the index's return at time $t$,  \n",
    "*  $T$  is the total number of time periods.\n",
    "\n",
    "We base ourselves on this metric, and add a small adjustment, where from the first return of the portfolio, the trading cost is subtracted, this is a simulated trading cost, which we will simply set to 0.2%.\n",
    "\n",
    "In the next sections we will see that our data comes in minute intervals, so, to obtain the tracking error for daily returns, we will first aggregate the returns per day, and then utilize the formula above. To aggregate returns we do:\n",
    "\n",
    "$$\n",
    "R_{\\text{daily}} = \\left( \\prod_{j=1}^{m} (1 + R_{\\text{minute},j}) \\right) - 1\n",
    "$$\n",
    "\n",
    "Where:\n",
    "\n",
    "* $R_{\\text{daily}}$ is the aggregated daily return\n",
    "* $R_{\\text{minute},j}$ is the minute level return\n",
    "* m: is the number of minute level returns we have per day"
   ]
  },
  {
   "cell_type": "code",
   "execution_count": 2,
   "id": "a95e26bc",
   "metadata": {
    "execution": {
     "iopub.execute_input": "2025-06-10T16:41:40.949894Z",
     "iopub.status.busy": "2025-06-10T16:41:40.949144Z",
     "iopub.status.idle": "2025-06-10T16:41:40.955257Z",
     "shell.execute_reply": "2025-06-10T16:41:40.954127Z"
    },
    "papermill": {
     "duration": 0.016892,
     "end_time": "2025-06-10T16:41:40.957286",
     "exception": false,
     "start_time": "2025-06-10T16:41:40.940394",
     "status": "completed"
    },
    "tags": []
   },
   "outputs": [],
   "source": [
    "def tracking_error(y_true, y_pred):\n",
    "    y_true = pd.DataFrame(y_true)\n",
    "    y_true.columns = ['target'] \n",
    "    data = y_true.copy()\n",
    "    data['predicted'] = y_pred\n",
    "    diff = data['target'] - data['predicted']\n",
    "    return np.std(diff)"
   ]
  },
  {
   "cell_type": "markdown",
   "id": "65d0b420",
   "metadata": {
    "papermill": {
     "duration": 0.007014,
     "end_time": "2025-06-10T16:41:40.971677",
     "exception": false,
     "start_time": "2025-06-10T16:41:40.964663",
     "status": "completed"
    },
    "tags": []
   },
   "source": [
    "# Data\n",
    "The data for this project will be taken from 2 Kaggle datasets:\n",
    "\n",
    "* [Nifty 100 Constituents](https://www.kaggle.com/datasets/debashis74017/stock-market-data-nifty-50-stocks-1-min-data): This data set will be used to gather price data for all constituents for the NIFTY 100 index. The dataset contains a file per stock, which contains OHLC (Open, High, Low, Close) as well as Volume data.\n",
    "* [Nifty 100 Index Data](https://www.kaggle.com/datasets/debashis74017/nifty-50-minute-data): This data set will be used to get the price data for the NIFTY 100 index price.\n",
    "\n",
    "In order to speed up the execution, an intermediate dataset is created where we keep only closing prices for all stocks, in one single file. This dataset is [Nifty 100 Closing Only Data](https://www.kaggle.com/datasets/danielbrito99/nifty-50-closing-data). The script used to extract this intermediate data, is described in the cell below.\n",
    "\n",
    "As was mentioned before our target variable will be the **NIFTY 100 Index Price**, by training the model with a reduced number of constituents to predict the index price based on that reduced subset, we will obtain weights for each of them. During the testing phase, we will use these weights to evaluate the model's performance and verify how well the selected subset mimics the index price. "
   ]
  },
  {
   "cell_type": "markdown",
   "id": "0510cdeb",
   "metadata": {
    "execution": {
     "iopub.execute_input": "2024-12-09T13:33:03.408909Z",
     "iopub.status.busy": "2024-12-09T13:33:03.408616Z",
     "iopub.status.idle": "2024-12-09T13:33:03.420882Z",
     "shell.execute_reply": "2024-12-09T13:33:03.419748Z",
     "shell.execute_reply.started": "2024-12-09T13:33:03.408879Z"
    },
    "papermill": {
     "duration": 0.006947,
     "end_time": "2025-06-10T16:41:40.985930",
     "exception": false,
     "start_time": "2025-06-10T16:41:40.978983",
     "status": "completed"
    },
    "tags": []
   },
   "source": [
    "directory_path = '/kaggle/input/stock-market-data-nifty-50-stocks-1-min-data'\n",
    "pattern = os.path.join(directory_path, \"*.csv\")  # Change \"*.csv\" to match other patterns if needed\n",
    "Get the list of files that match the pattern\n",
    "file_list = glob.glob(pattern)\n",
    "\n",
    "def fetch_data(cols, file_list):\n",
    "    df_list = []\n",
    "    for file in tqdm(file_list):\n",
    "        stock_name = os.path.basename(file).split(\"_\")[0]\n",
    "        file_df = pd.read_csv(file, index_col=0)\n",
    "        file_df = file_df[[cols]]\n",
    "        file_df.columns = pd.MultiIndex.from_product([[stock_name], file_df.columns])\n",
    "        df_list.append(file_df)\n",
    "    return pd.concat(df_list, axis=1)\n",
    "\n",
    "df = fetch_data('close')\n",
    "df.to_csv('/kaggle/input/nifty_50_closing.csv')"
   ]
  },
  {
   "cell_type": "code",
   "execution_count": 3,
   "id": "1d78912c",
   "metadata": {
    "execution": {
     "iopub.execute_input": "2025-06-10T16:41:41.002099Z",
     "iopub.status.busy": "2025-06-10T16:41:41.001675Z",
     "iopub.status.idle": "2025-06-10T16:42:02.541503Z",
     "shell.execute_reply": "2025-06-10T16:42:02.540395Z"
    },
    "papermill": {
     "duration": 21.550821,
     "end_time": "2025-06-10T16:42:02.544048",
     "exception": false,
     "start_time": "2025-06-10T16:41:40.993227",
     "status": "completed"
    },
    "tags": []
   },
   "outputs": [
    {
     "name": "stdout",
     "output_type": "stream",
     "text": [
      "Number of rows with NaN values: 639555\n"
     ]
    }
   ],
   "source": [
    "df = pd.read_csv('/kaggle/input/nifty-50-closing-data/nifty_50_closing.csv', index_col=0, header=[0, 1])\n",
    "df = df.xs('close', level=1, axis=1)\n",
    "df.index = pd.to_datetime(df.index)\n",
    "nan_rows = df.isna().any(axis=1)\n",
    "\n",
    "num_nan_rows = nan_rows.sum()\n",
    "print(f\"Number of rows with NaN values: {num_nan_rows}\")\n",
    "\n",
    "nifty_100_closing = pd.read_csv('/kaggle/input/nifty-50-minute-data/NIFTY 100_minute_data.csv', index_col=0)[['close']]\n",
    "nifty_100_closing.index = pd.to_datetime(nifty_100_closing.index)\n",
    "nifty_100_closing.rename(columns={'close': 'NIFTY_100'}, inplace=True)"
   ]
  },
  {
   "cell_type": "markdown",
   "id": "79c6c566",
   "metadata": {
    "papermill": {
     "duration": 0.007435,
     "end_time": "2025-06-10T16:42:02.559128",
     "exception": false,
     "start_time": "2025-06-10T16:42:02.551693",
     "status": "completed"
    },
    "tags": []
   },
   "source": [
    "## Data Cleaning\n",
    "Our data cleaning will be simple, we will focus on remediating the high number of NaN's present in the dataset.\n",
    "Most importantly, we will focus on sequences of NaN values, which are problematic for our problem, as conventional techniques such as forward fill or interpolation become less effective the longer the period of missing data. Conversely, sparse or isolated NaNs are less of an issue, as they can be effectively substituted using these techniques with minimal loss of information. \n",
    "\n",
    "\n",
    "With this in mind, we perform the following steps:\n",
    "\n",
    "* Remove NIFTY 50 and NIFTY BANK stocks, as they represent indices, not stocks.\n",
    "* To get rid of periods where a large number of stocks all are missing data, we remove the rows with higher than 25 NaNs.\n",
    "* Inspecting the longest NaN period for each column, we will get rid of those columns where the value is large:\n",
    "    * HDFCAMC\n",
    "    * ICICIPRULI\n",
    "    * HDFCLIFE\n",
    "    * GLAND\n",
    "    * ADANIGREEN\n",
    "    * DMART\n",
    "    * ICICIGI\n",
    "    * BANDHANBNK\n",
    "    * INDIGO\n",
    "    * SBILIFE\n",
    "    * LICI\n",
    "    * SBICARD\n",
    "    * LTI\n",
    "*  At this point the number of NaN rows and consecutive NaNs is much lower, so we can use forward fill to populate them with the last know values.\n",
    "\n",
    "Finally, we resample the data to a daily frequency, retaining the last value of each day. This process helps smooth out short-term fluctuations and noise that can occur in intraday market movements, providing a clearer view of the broader trends and reducing the impact of high-frequency volatility."
   ]
  },
  {
   "cell_type": "code",
   "execution_count": 4,
   "id": "45082be7",
   "metadata": {
    "execution": {
     "iopub.execute_input": "2025-06-10T16:42:02.576170Z",
     "iopub.status.busy": "2025-06-10T16:42:02.575408Z",
     "iopub.status.idle": "2025-06-10T16:42:02.580918Z",
     "shell.execute_reply": "2025-06-10T16:42:02.579950Z"
    },
    "papermill": {
     "duration": 0.016218,
     "end_time": "2025-06-10T16:42:02.582700",
     "exception": false,
     "start_time": "2025-06-10T16:42:02.566482",
     "status": "completed"
    },
    "tags": []
   },
   "outputs": [],
   "source": [
    "def longest_nan_period(series):\n",
    "    max_nan_period = 0\n",
    "    current_nan_period = 0\n",
    "    for value in series:\n",
    "        if pd.isna(value):\n",
    "            current_nan_period += 1\n",
    "            max_nan_period = max(max_nan_period, current_nan_period)\n",
    "        else:\n",
    "            current_nan_period = 0\n",
    "    return max_nan_period"
   ]
  },
  {
   "cell_type": "code",
   "execution_count": 5,
   "id": "039fc6d5",
   "metadata": {
    "execution": {
     "iopub.execute_input": "2025-06-10T16:42:02.599559Z",
     "iopub.status.busy": "2025-06-10T16:42:02.598728Z",
     "iopub.status.idle": "2025-06-10T16:42:03.189147Z",
     "shell.execute_reply": "2025-06-10T16:42:03.187901Z"
    },
    "papermill": {
     "duration": 0.60139,
     "end_time": "2025-06-10T16:42:03.191572",
     "exception": false,
     "start_time": "2025-06-10T16:42:02.590182",
     "status": "completed"
    },
    "tags": []
   },
   "outputs": [],
   "source": [
    "# Remove Nifty 50 and Nifty Bank as they aren't stocks but indices\n",
    "df.drop(columns=['NIFTY 50', 'NIFTY BANK'], inplace=True)\n",
    "\n",
    "# Removing rows with more than 25 stocks without data\n",
    "nan_counts = df.isna().sum(axis=1)\n",
    "df = df[nan_counts <= 25]"
   ]
  },
  {
   "cell_type": "code",
   "execution_count": 6,
   "id": "a4072522",
   "metadata": {
    "execution": {
     "iopub.execute_input": "2025-06-10T16:42:03.209462Z",
     "iopub.status.busy": "2025-06-10T16:42:03.208331Z",
     "iopub.status.idle": "2025-06-10T16:42:31.210562Z",
     "shell.execute_reply": "2025-06-10T16:42:31.209532Z"
    },
    "papermill": {
     "duration": 28.013694,
     "end_time": "2025-06-10T16:42:31.213323",
     "exception": false,
     "start_time": "2025-06-10T16:42:03.199629",
     "status": "completed"
    },
    "tags": []
   },
   "outputs": [
    {
     "name": "stdout",
     "output_type": "stream",
     "text": [
      "Longest period of NaN values in column HDFCAMC: 305198 periods\n",
      "Longest period of NaN values in column APOLLOHOSP: 1 periods\n",
      "Longest period of NaN values in column BOSCHLTD: 3 periods\n",
      "Longest period of NaN values in column INDUSTOWER: 1 periods\n",
      "Longest period of NaN values in column BERGEPAINT: 1 periods\n",
      "Longest period of NaN values in column MARICO: 0 periods\n",
      "Longest period of NaN values in column ICICIPRULI: 144000 periods\n",
      "Longest period of NaN values in column HDFCLIFE: 242175 periods\n",
      "Longest period of NaN values in column SBIN: 0 periods\n",
      "Longest period of NaN values in column SUNPHARMA: 0 periods\n",
      "Longest period of NaN values in column COALINDIA: 0 periods\n",
      "Longest period of NaN values in column WIPRO: 1 periods\n",
      "Longest period of NaN values in column BAJAJ-AUTO: 1 periods\n",
      "Longest period of NaN values in column GODREJCP: 1 periods\n",
      "Longest period of NaN values in column UPL: 0 periods\n",
      "Longest period of NaN values in column SIEMENS: 0 periods\n",
      "Longest period of NaN values in column BPCL: 0 periods\n",
      "Longest period of NaN values in column TATAMOTORS: 0 periods\n",
      "Longest period of NaN values in column BANKBARODA: 0 periods\n",
      "Longest period of NaN values in column GAIL: 0 periods\n",
      "Longest period of NaN values in column HDFCBANK: 0 periods\n",
      "Longest period of NaN values in column BHARTIARTL: 1 periods\n",
      "Longest period of NaN values in column NMDC: 1 periods\n",
      "Longest period of NaN values in column INDUSINDBK: 1 periods\n",
      "Longest period of NaN values in column NTPC: 0 periods\n",
      "Longest period of NaN values in column JSWSTEEL: 375 periods\n",
      "Longest period of NaN values in column HCLTECH: 0 periods\n",
      "Longest period of NaN values in column AMBUJACEM: 375 periods\n",
      "Longest period of NaN values in column YESBANK: 7 periods\n",
      "Longest period of NaN values in column PNB: 0 periods\n",
      "Longest period of NaN values in column NESTLEIND: 2 periods\n",
      "Longest period of NaN values in column TORNTPHARM: 2 periods\n",
      "Longest period of NaN values in column NAUKRI: 11 periods\n",
      "Longest period of NaN values in column ULTRACEMCO: 0 periods\n",
      "Longest period of NaN values in column PIDILITIND: 1 periods\n",
      "Longest period of NaN values in column BAJAJHLDNG: 9 periods\n",
      "Longest period of NaN values in column HINDALCO: 0 periods\n",
      "Longest period of NaN values in column IOC: 375 periods\n",
      "Longest period of NaN values in column ADANIENT: 375 periods\n",
      "Longest period of NaN values in column MUTHOOTFIN: 6 periods\n",
      "Longest period of NaN values in column TATACONSUM: 1 periods\n",
      "Longest period of NaN values in column ICICIBANK: 1 periods\n",
      "Longest period of NaN values in column POWERGRID: 0 periods\n",
      "Longest period of NaN values in column SHREECEM: 5 periods\n",
      "Longest period of NaN values in column HAVELLS: 0 periods\n",
      "Longest period of NaN values in column GLAND: 305198 periods\n",
      "Longest period of NaN values in column DRREDDY: 0 periods\n",
      "Longest period of NaN values in column MCDOWELL-N: 1 periods\n",
      "Longest period of NaN values in column ITC: 375 periods\n",
      "Longest period of NaN values in column LUPIN: 1 periods\n",
      "Longest period of NaN values in column IGL: 375 periods\n",
      "Longest period of NaN values in column COLPAL: 1 periods\n",
      "Longest period of NaN values in column VEDL: 1 periods\n",
      "Longest period of NaN values in column BAJFINANCE: 2 periods\n",
      "Longest period of NaN values in column AUROPHARMA: 1 periods\n",
      "Longest period of NaN values in column ADANIGREEN: 292800 periods\n",
      "Longest period of NaN values in column BAJAJFINSV: 2 periods\n",
      "Longest period of NaN values in column LT: 375 periods\n",
      "Longest period of NaN values in column RELIANCE: 0 periods\n",
      "Longest period of NaN values in column PIIND: 7 periods\n",
      "Longest period of NaN values in column HINDPETRO: 375 periods\n",
      "Longest period of NaN values in column CIPLA: 1 periods\n",
      "Longest period of NaN values in column INFY: 0 periods\n",
      "Longest period of NaN values in column CHOLAFIN: 18 periods\n",
      "Longest period of NaN values in column PGHH: 43 periods\n",
      "Longest period of NaN values in column TITAN: 0 periods\n",
      "Longest period of NaN values in column ACC: 375 periods\n",
      "Longest period of NaN values in column PEL: 28 periods\n",
      "Longest period of NaN values in column KOTAKBANK: 375 periods\n",
      "Longest period of NaN values in column DMART: 184560 periods\n",
      "Longest period of NaN values in column TATASTEEL: 0 periods\n",
      "Longest period of NaN values in column HINDUNILVR: 0 periods\n",
      "Longest period of NaN values in column DIVISLAB: 1 periods\n",
      "Longest period of NaN values in column TCS: 0 periods\n",
      "Longest period of NaN values in column DLF: 0 periods\n",
      "Longest period of NaN values in column ICICIGI: 230115 periods\n",
      "Longest period of NaN values in column MM: 375 periods\n",
      "Longest period of NaN values in column HDFC: 0 periods\n",
      "Longest period of NaN values in column INDIGO: 68212 periods\n",
      "Longest period of NaN values in column BANDHANBNK: 272925 periods\n",
      "Longest period of NaN values in column AXISBANK: 1 periods\n",
      "Longest period of NaN values in column LTI: 127125 periods\n",
      "Longest period of NaN values in column GRASIM: 29 periods\n",
      "Longest period of NaN values in column JUBLFOOD: 1 periods\n",
      "Longest period of NaN values in column SBILIFE: 231240 periods\n",
      "Longest period of NaN values in column MARUTI: 0 periods\n",
      "Longest period of NaN values in column ASIANPAINT: 0 periods\n",
      "Longest period of NaN values in column BIOCON: 0 periods\n",
      "Longest period of NaN values in column LICI: 327223 periods\n",
      "Longest period of NaN values in column SBICARD: 305197 periods\n",
      "Longest period of NaN values in column DABUR: 1 periods\n",
      "Longest period of NaN values in column SAIL: 1 periods\n",
      "Longest period of NaN values in column BRITANNIA: 1 periods\n",
      "Longest period of NaN values in column ADANIPORTS: 0 periods\n",
      "Longest period of NaN values in column ONGC: 0 periods\n",
      "Longest period of NaN values in column EICHERMOT: 0 periods\n",
      "Longest period of NaN values in column TECHM: 0 periods\n",
      "Longest period of NaN values in column JINDALSTEL: 0 periods\n",
      "Longest period of NaN values in column HEROMOTOCO: 1 periods\n"
     ]
    }
   ],
   "source": [
    "# Now we observe per column, the longest period with NaN values\n",
    "longest_nan_periods = {column: longest_nan_period(df[column]) for column in df.columns}\n",
    "\n",
    "# Print the longest NaN period for each column\n",
    "for column, period in longest_nan_periods.items():\n",
    "    print(f\"Longest period of NaN values in column {column}: {period} periods\")"
   ]
  },
  {
   "cell_type": "code",
   "execution_count": 7,
   "id": "767e709a",
   "metadata": {
    "execution": {
     "iopub.execute_input": "2025-06-10T16:42:31.230776Z",
     "iopub.status.busy": "2025-06-10T16:42:31.230048Z",
     "iopub.status.idle": "2025-06-10T16:42:31.623796Z",
     "shell.execute_reply": "2025-06-10T16:42:31.622698Z"
    },
    "papermill": {
     "duration": 0.405127,
     "end_time": "2025-06-10T16:42:31.626218",
     "exception": false,
     "start_time": "2025-06-10T16:42:31.221091",
     "status": "completed"
    },
    "tags": []
   },
   "outputs": [],
   "source": [
    "# Drop columns with higher number of NaNs\n",
    "df.drop(columns=['HDFCAMC', 'ICICIPRULI', 'HDFCLIFE', 'GLAND', 'ADANIGREEN', 'LTI', 'SBICARD',\n",
    "                 'DMART','ICICIGI','BANDHANBNK','INDIGO','SBILIFE','LICI'], inplace=True)\n",
    "\n",
    "# Drop rows that still have NaNs in place\n",
    "df.dropna(inplace=True)"
   ]
  },
  {
   "cell_type": "code",
   "execution_count": 8,
   "id": "7fd40a75",
   "metadata": {
    "execution": {
     "iopub.execute_input": "2025-06-10T16:42:31.643935Z",
     "iopub.status.busy": "2025-06-10T16:42:31.642869Z",
     "iopub.status.idle": "2025-06-10T16:42:31.958985Z",
     "shell.execute_reply": "2025-06-10T16:42:31.957939Z"
    },
    "papermill": {
     "duration": 0.327456,
     "end_time": "2025-06-10T16:42:31.961406",
     "exception": false,
     "start_time": "2025-06-10T16:42:31.633950",
     "status": "completed"
    },
    "tags": []
   },
   "outputs": [],
   "source": [
    "df.index = df.index.tz_localize(None)\n",
    "df_total = df.join(nifty_100_closing, how='left')"
   ]
  },
  {
   "cell_type": "code",
   "execution_count": 9,
   "id": "2ea41a73",
   "metadata": {
    "execution": {
     "iopub.execute_input": "2025-06-10T16:42:31.979043Z",
     "iopub.status.busy": "2025-06-10T16:42:31.978661Z",
     "iopub.status.idle": "2025-06-10T16:42:33.145882Z",
     "shell.execute_reply": "2025-06-10T16:42:33.144573Z"
    },
    "papermill": {
     "duration": 1.179751,
     "end_time": "2025-06-10T16:42:33.149150",
     "exception": false,
     "start_time": "2025-06-10T16:42:31.969399",
     "status": "completed"
    },
    "tags": []
   },
   "outputs": [],
   "source": [
    "df_total.dropna(inplace=True)\n",
    "df_total.sort_index(inplace=True)\n",
    "\n",
    "# Resample to Hourly Period\n",
    "daily_df = df_total.resample('D').last()\n",
    "daily_df.dropna(inplace=True)\n",
    "\n",
    "daily_df = daily_df.replace(0, np.nan)  # Convert zeroes back to NaNs\n",
    "daily_df = daily_df.pct_change().dropna()\n",
    "daily_df = daily_df*100\n",
    "daily_X = daily_df.drop(columns=['NIFTY_100'])\n",
    "daily_y = daily_df['NIFTY_100']"
   ]
  },
  {
   "cell_type": "markdown",
   "id": "a5a0644e",
   "metadata": {
    "papermill": {
     "duration": 0.012628,
     "end_time": "2025-06-10T16:42:33.172814",
     "exception": false,
     "start_time": "2025-06-10T16:42:33.160186",
     "status": "completed"
    },
    "tags": []
   },
   "source": [
    "# Models\n",
    "\n",
    "Let's explain the general architecture of the model, firstly, we must understand the pitfalls of using time series data, and how it affects our choice of cross validation strategy.\n",
    "Since the order of data must be preserved, we cannot use a conventional cross validation, and rather opt for a TimeSeriesSplit, specifically, we set the training and test sizes of the window, to get a sliding window, where the training window is roughly 1 year, and the testing widnow around 3 months, this yields a total of 18 windows.\n",
    "\n",
    "Knowing this, we propose the following general architecture, for a given model and threshold:\n",
    "\n",
    "For each fold:\n",
    "\n",
    "1. Perform feature selection (ex: Lasso with high alpha, Dropping Correlated variables, Mutual Information) using the threshold.\n",
    "2. Train model on reduced feature space, with hyperparameter tuning to choose best parameters.\n",
    "3. Save the tracking error and number of features (stocks) used in training\n",
    "\n",
    "Finally, we return the following averages over the folds\n",
    "* Average number of stocks.\n",
    "* Average tracking error.\n",
    "\n",
    "We will observe how different models (LinearRegression, ElasticNet, LightGBMRegressor and SupportVectorRegressor) produce predictions and produce a plot for the average tracking error against the average number of stocks."
   ]
  },
  {
   "cell_type": "code",
   "execution_count": 10,
   "id": "b7285d6e",
   "metadata": {
    "execution": {
     "iopub.execute_input": "2025-06-10T16:42:33.191061Z",
     "iopub.status.busy": "2025-06-10T16:42:33.190053Z",
     "iopub.status.idle": "2025-06-10T16:42:33.194720Z",
     "shell.execute_reply": "2025-06-10T16:42:33.193857Z"
    },
    "papermill": {
     "duration": 0.015069,
     "end_time": "2025-06-10T16:42:33.196550",
     "exception": false,
     "start_time": "2025-06-10T16:42:33.181481",
     "status": "completed"
    },
    "tags": []
   },
   "outputs": [],
   "source": [
    "# Define variables to hold all results\n",
    "results_dict = {}"
   ]
  },
  {
   "cell_type": "markdown",
   "id": "aab865df",
   "metadata": {
    "papermill": {
     "duration": 0.00712,
     "end_time": "2025-06-10T16:42:33.211336",
     "exception": false,
     "start_time": "2025-06-10T16:42:33.204216",
     "status": "completed"
    },
    "tags": []
   },
   "source": [
    "## Correlation - Lasso"
   ]
  },
  {
   "cell_type": "code",
   "execution_count": 11,
   "id": "0b81c8c9",
   "metadata": {
    "execution": {
     "iopub.execute_input": "2025-06-10T16:42:33.227668Z",
     "iopub.status.busy": "2025-06-10T16:42:33.227279Z",
     "iopub.status.idle": "2025-06-10T16:42:33.233556Z",
     "shell.execute_reply": "2025-06-10T16:42:33.232557Z"
    },
    "papermill": {
     "duration": 0.016982,
     "end_time": "2025-06-10T16:42:33.235690",
     "exception": false,
     "start_time": "2025-06-10T16:42:33.218708",
     "status": "completed"
    },
    "tags": []
   },
   "outputs": [],
   "source": [
    "def remove_correlated_features(X_train, threshold):\n",
    "    X_train = pd.DataFrame(X_train)\n",
    "    \n",
    "    # Compute the correlation matrix (absolute values)\n",
    "    corr_matrix = X_train.corr().abs()\n",
    "    \n",
    "    # Create a mask to select only the upper triangle of the correlation matrix\n",
    "    upper_triangle = corr_matrix.where(np.triu(np.ones(corr_matrix.shape), k=1).astype(bool))\n",
    "    \n",
    "    # Find features with correlation greater than the threshold\n",
    "    to_drop = [column for column in upper_triangle.columns if any(upper_triangle[column] > threshold)]\n",
    "    selected_features = [i for i in range(X_train.shape[1]) if i not in to_drop]\n",
    "    \n",
    "    return selected_features"
   ]
  },
  {
   "cell_type": "code",
   "execution_count": 12,
   "id": "070d35f9",
   "metadata": {
    "execution": {
     "iopub.execute_input": "2025-06-10T16:42:33.252319Z",
     "iopub.status.busy": "2025-06-10T16:42:33.251945Z",
     "iopub.status.idle": "2025-06-10T16:42:33.261895Z",
     "shell.execute_reply": "2025-06-10T16:42:33.260883Z"
    },
    "papermill": {
     "duration": 0.020674,
     "end_time": "2025-06-10T16:42:33.263894",
     "exception": false,
     "start_time": "2025-06-10T16:42:33.243220",
     "status": "completed"
    },
    "tags": []
   },
   "outputs": [],
   "source": [
    "from sklearn.preprocessing import StandardScaler\n",
    "\n",
    "\n",
    "def Corr_Lasso(threshold, X, y, debug=False):\n",
    "    tscv = TimeSeriesSplit(n_splits=5, max_train_size=700, test_size=100)\n",
    "    stocks = []\n",
    "    num_stocks = []\n",
    "    fold_scores = []\n",
    "\n",
    "    for train_index, test_index in tscv.split(X):\n",
    "        X_train_cv, X_test_cv = X.iloc[train_index], X.iloc[test_index]\n",
    "        y_train_cv, y_test_cv = y.iloc[train_index], y.iloc[test_index]\n",
    "        scaler = StandardScaler()\n",
    "        X_scaled = scaler.fit_transform(X_train_cv)\n",
    "        X_test_scaled = scaler.transform(X_test_cv)\n",
    "        \n",
    "        # Feature selection using correlation matrix\n",
    "        selected_indices = remove_correlated_features(X_scaled, threshold)\n",
    "\n",
    "        X_train_selected = X_scaled[:, selected_indices]\n",
    "        X_test_selected = X_test_scaled[:, selected_indices]\n",
    "        if debug == True:\n",
    "            print(f\"Selected {len(selected_indices)} stocks\")\n",
    "        num_stocks.append(len(selected_indices))\n",
    "        stocks.append(selected_indices)\n",
    "\n",
    "        best_alpha = None\n",
    "        best_score = float('inf')  # Assuming lower is better for your metric\n",
    "        for alph in [0.0001, 0.00025, 0.0005, 0.00075, 0.001, 0.002, 0.0025]:\n",
    "            lasso = Lasso(alpha=alph, max_iter=15000)\n",
    "            lasso.fit(X_train_selected, y_train_cv)\n",
    "            y_pred = lasso.predict(X_test_selected)\n",
    "            fold_score = tracking_error(y_test_cv, y_pred)\n",
    "            \n",
    "            if fold_score < best_score:\n",
    "                best_score = fold_score\n",
    "                best_alpha = alph\n",
    "\n",
    "        #print(f\"Best Alpha for this fold: {best_alpha}, Best Fold Score: {best_score}\")\n",
    "        fold_scores.append(best_score)\n",
    "\n",
    "    # Calculate the average score across all folds\n",
    "    average_score = np.mean(fold_scores)\n",
    "\n",
    "    # Get average stocks chosen over all folds\n",
    "    average_selected_features = np.mean(num_stocks)\n",
    "\n",
    "    # Print the tracking error for this alpha\n",
    "    # print(f\"Threshold: {threshold}, Tracking Error: {average_score}\")\n",
    "    return stocks, average_selected_features, average_score"
   ]
  },
  {
   "cell_type": "code",
   "execution_count": 13,
   "id": "58fba2e7",
   "metadata": {
    "execution": {
     "iopub.execute_input": "2025-06-10T16:42:33.280868Z",
     "iopub.status.busy": "2025-06-10T16:42:33.279938Z",
     "iopub.status.idle": "2025-06-10T16:42:33.285765Z",
     "shell.execute_reply": "2025-06-10T16:42:33.284802Z"
    },
    "papermill": {
     "duration": 0.016402,
     "end_time": "2025-06-10T16:42:33.287784",
     "exception": false,
     "start_time": "2025-06-10T16:42:33.271382",
     "status": "completed"
    },
    "tags": []
   },
   "outputs": [],
   "source": [
    "def Corr_Lasso_run(X,y):\n",
    "    thresholds = [0.8, 0.7, 0.6, 0.5, 0.4, 0.3, 0.2]\n",
    "    results_dict['corrM_lasso'] = ([], [])\n",
    "    \n",
    "    for threshold in thresholds:\n",
    "        print(f\"----------Starting threshold: {threshold}-------------\")\n",
    "        _, num_stocks, tracking_err = Corr_Lasso(threshold, X, y, debug=False)\n",
    "        results_dict['corrM_lasso'][0].append(num_stocks)\n",
    "        results_dict['corrM_lasso'][1].append(tracking_err)"
   ]
  },
  {
   "cell_type": "code",
   "execution_count": 14,
   "id": "f1fe25ef",
   "metadata": {
    "execution": {
     "iopub.execute_input": "2025-06-10T16:42:33.304638Z",
     "iopub.status.busy": "2025-06-10T16:42:33.304242Z",
     "iopub.status.idle": "2025-06-10T16:42:36.132276Z",
     "shell.execute_reply": "2025-06-10T16:42:36.131189Z"
    },
    "papermill": {
     "duration": 2.83917,
     "end_time": "2025-06-10T16:42:36.134622",
     "exception": false,
     "start_time": "2025-06-10T16:42:33.295452",
     "status": "completed"
    },
    "tags": []
   },
   "outputs": [
    {
     "name": "stdout",
     "output_type": "stream",
     "text": [
      "----------Starting threshold: 0.8-------------\n",
      "----------Starting threshold: 0.7-------------\n",
      "----------Starting threshold: 0.6-------------\n",
      "----------Starting threshold: 0.5-------------\n",
      "----------Starting threshold: 0.4-------------\n",
      "----------Starting threshold: 0.3-------------\n",
      "----------Starting threshold: 0.2-------------\n"
     ]
    }
   ],
   "source": [
    "Corr_Lasso_run(daily_X,daily_y)"
   ]
  },
  {
   "cell_type": "markdown",
   "id": "ffbc8903",
   "metadata": {
    "papermill": {
     "duration": 0.007922,
     "end_time": "2025-06-10T16:42:36.150824",
     "exception": false,
     "start_time": "2025-06-10T16:42:36.142902",
     "status": "completed"
    },
    "tags": []
   },
   "source": [
    "## Lasso - ElasticNet\n",
    "\n",
    "\n",
    "\n",
    "We will utilize a Lasso model with a high alpha value to perform feature selection, this will drop the coefficients for less important features to 0. After that we retrain a Lasso model with hyperparameter tuning."
   ]
  },
  {
   "cell_type": "code",
   "execution_count": 15,
   "id": "af13f697",
   "metadata": {
    "_kg_hide-input": true,
    "execution": {
     "iopub.execute_input": "2025-06-10T16:42:36.169066Z",
     "iopub.status.busy": "2025-06-10T16:42:36.168633Z",
     "iopub.status.idle": "2025-06-10T16:42:36.179972Z",
     "shell.execute_reply": "2025-06-10T16:42:36.178691Z"
    },
    "papermill": {
     "duration": 0.023199,
     "end_time": "2025-06-10T16:42:36.182106",
     "exception": false,
     "start_time": "2025-06-10T16:42:36.158907",
     "status": "completed"
    },
    "tags": []
   },
   "outputs": [],
   "source": [
    "from sklearn.preprocessing import StandardScaler\n",
    "\n",
    "def Lasso_ElasticNet(alpha, X, y, params, debug=False):    \n",
    "    tscv = TimeSeriesSplit(n_splits=5, max_train_size=700, test_size=100)\n",
    "    stocks = []\n",
    "    num_stocks = []\n",
    "    fold_scores = []\n",
    "\n",
    "    for train_index, test_index in tscv.split(X):\n",
    "        X_train_cv, X_test_cv = X.iloc[train_index], X.iloc[test_index]\n",
    "        y_train_cv, y_test_cv = y.iloc[train_index], y.iloc[test_index]\n",
    "        train_period = X.iloc[train_index].index\n",
    "        test_period = X.iloc[test_index].index\n",
    "\n",
    "        # Convert to date format\n",
    "        train_start_date, train_end_date = train_period.min(), train_period.max()\n",
    "        test_start_date, test_end_date = test_period.min(), test_period.max()\n",
    "\n",
    "        # print(f\"Train period: {train_start_date} to {train_end_date}\")\n",
    "        # print(f\"Test period: {test_start_date} to {test_end_date}\")\n",
    "        scaler = StandardScaler()\n",
    "        X_scaled = scaler.fit_transform(X_train_cv)\n",
    "        X_test_scaled = scaler.transform(X_test_cv)\n",
    "        \n",
    "        # Feature selection with alpha from list\n",
    "        lasso_fs = Lasso(alpha=alpha, max_iter=1000)\n",
    "        lasso_fs.fit(X_scaled, y_train_cv)\n",
    "\n",
    "        selector = SelectFromModel(lasso_fs, threshold=10e-10, max_features=None)\n",
    "        X_selected_train = selector.transform(X_scaled)\n",
    "        X_selected_test = selector.transform(X_test_scaled)\n",
    "\n",
    "        selected_features = np.where(selector.get_support())[0] \n",
    "        # print(f\"Selected {len(selected_features)} stocks\")\n",
    "        num_stocks.append(len(selected_features))\n",
    "        stocks.append(selected_features)\n",
    "\n",
    "        best_alpha = None\n",
    "        best_score = float('inf')\n",
    "        for param in ParameterGrid(params):\n",
    "            if debug == True:\n",
    "                print(f\"Trying combination {param}\")\n",
    "            model = ElasticNet(**param)\n",
    "            model.fit(X_selected_train, y_train_cv)\n",
    "            y_pred = model.predict(X_selected_test)\n",
    "\n",
    "            train_fold_score = tracking_error(y_train_cv, model.predict(X_selected_train))\n",
    "            fold_score = tracking_error(y_test_cv, y_pred)\n",
    "            # print(f\"Train Error: {train_fold_score}, Test Error: {fold_score}\")\n",
    "\n",
    "            if fold_score < best_score:\n",
    "                best_score = fold_score\n",
    "                best_params = param\n",
    "        # print(f\"Best Params for this fold: {best_params}, Best Test Score: {best_score}\")\n",
    "\n",
    "        # print(f\"Best Alpha for this fold: {best_alpha}, Best Fold Score: {best_score}\")\n",
    "        fold_scores.append(best_score)\n",
    "\n",
    "    # Calculate the average score across all folds\n",
    "    average_score = np.mean(fold_scores)\n",
    "\n",
    "    # Get average stocks chosen over all folds\n",
    "    average_selected_features = np.mean(num_stocks)\n",
    "\n",
    "    # print(f\"Alpha: {alpha}, Number of Stocks: {average_selected_features}, Average Tracking Error (bps): {average_score}\")\n",
    "    return stocks, average_selected_features, average_score"
   ]
  },
  {
   "cell_type": "code",
   "execution_count": 16,
   "id": "ae57d2f4",
   "metadata": {
    "execution": {
     "iopub.execute_input": "2025-06-10T16:42:36.199810Z",
     "iopub.status.busy": "2025-06-10T16:42:36.199398Z",
     "iopub.status.idle": "2025-06-10T16:42:36.205857Z",
     "shell.execute_reply": "2025-06-10T16:42:36.204685Z"
    },
    "papermill": {
     "duration": 0.017616,
     "end_time": "2025-06-10T16:42:36.207888",
     "exception": false,
     "start_time": "2025-06-10T16:42:36.190272",
     "status": "completed"
    },
    "tags": []
   },
   "outputs": [],
   "source": [
    "def Lasso_ElasticNet_run(X,y):\n",
    "    alphas = np.logspace(-0.5, -2, 10)\n",
    "    param_grid = {\n",
    "        'alpha': [0.005, 0.0075, 0.01, 0.02, 0.025],\n",
    "        'l1_ratio': [0.3, 0.5, 0.7]\n",
    "    }\n",
    "    \n",
    "    results_dict['lasso_ElasticNet'] = ([], [])\n",
    "    \n",
    "    for alpha in alphas:\n",
    "        print(f\"----------Starting alpha {alpha}-------------\")\n",
    "        _, num_stocks, tracking_err = Lasso_ElasticNet(alpha, X, y, param_grid)\n",
    "        results_dict['lasso_ElasticNet'][0].append(num_stocks)\n",
    "        results_dict['lasso_ElasticNet'][1].append(tracking_err)"
   ]
  },
  {
   "cell_type": "markdown",
   "id": "63dfed57",
   "metadata": {
    "papermill": {
     "duration": 0.00773,
     "end_time": "2025-06-10T16:42:36.223702",
     "exception": false,
     "start_time": "2025-06-10T16:42:36.215972",
     "status": "completed"
    },
    "tags": []
   },
   "source": [
    "### Mutual Info - Lasso\n",
    "\n",
    "Using mutual information between variables, which measures the dependency between them, 0 value being independence. By getting the mutual information between the features (stocks) and the target (NIFTY 100) we can \"discard\" the variables with lower dependencies. After feature selection, we traing a Lasso model with CV."
   ]
  },
  {
   "cell_type": "code",
   "execution_count": 17,
   "id": "47523f83",
   "metadata": {
    "execution": {
     "iopub.execute_input": "2025-06-10T16:42:36.241980Z",
     "iopub.status.busy": "2025-06-10T16:42:36.241557Z",
     "iopub.status.idle": "2025-06-10T16:42:36.252729Z",
     "shell.execute_reply": "2025-06-10T16:42:36.251953Z"
    },
    "papermill": {
     "duration": 0.022553,
     "end_time": "2025-06-10T16:42:36.254652",
     "exception": false,
     "start_time": "2025-06-10T16:42:36.232099",
     "status": "completed"
    },
    "tags": []
   },
   "outputs": [],
   "source": [
    "from sklearn.preprocessing import StandardScaler\n",
    "\n",
    "\n",
    "def MI_Experiment(percentile, X, y, model_class, params, debug=False):\n",
    "    tscv = TimeSeriesSplit(n_splits=5, max_train_size=700, test_size=100)\n",
    "    stocks = []\n",
    "    num_stocks = []\n",
    "    fold_scores = []\n",
    "\n",
    "    for train_index, test_index in tscv.split(X):\n",
    "        X_train_cv, X_test_cv = X.iloc[train_index], X.iloc[test_index]\n",
    "        y_train_cv, y_test_cv = y.iloc[train_index], y.iloc[test_index]\n",
    "        scaler = StandardScaler()\n",
    "        X_scaled = scaler.fit_transform(X_train_cv)\n",
    "        X_test_scaled = scaler.transform(X_test_cv)\n",
    "\n",
    "        # Feature selection with alpha from list\n",
    "        mi_scores = mutual_info_regression(X_train_cv, y_train_cv)\n",
    "        mi_scores_series = pd.Series(mi_scores, index=X_train_cv.columns)\n",
    "\n",
    "        threshold_value = mi_scores_series.quantile(percentile)        \n",
    "\n",
    "        selected_features = mi_scores_series[mi_scores_series > threshold_value].index\n",
    "        selected_indices = [X_train_cv.columns.get_loc(feature) for feature in selected_features]\n",
    "        # print(f\"Selected Features: {selected_indices}\")\n",
    "\n",
    "        # Filter the NumPy arrays based on the selected feature indices\n",
    "        X_train_selected = X_scaled[:, selected_indices]\n",
    "        X_test_selected = X_test_scaled[:, selected_indices]        \n",
    "\n",
    "        if debug == True:\n",
    "            print(f\"Selected {len(selected_features)} stocks\")\n",
    "        num_stocks.append(len(selected_features))\n",
    "        stocks.append(selected_features)\n",
    "\n",
    "        best_params = None\n",
    "        best_score = float('inf')  # Assuming lower is better for your metric\n",
    "        for param in ParameterGrid(params):\n",
    "            if debug == True:\n",
    "                print(f\"Trying combination {param}\")\n",
    "            model = model_class(**param)\n",
    "            model.fit(X_train_selected, y_train_cv)\n",
    "            y_pred = model.predict(X_test_selected)\n",
    "\n",
    "            train_fold_score = tracking_error(y_train_cv, model.predict(X_train_selected))\n",
    "            fold_score = tracking_error(y_test_cv, y_pred)\n",
    "            # print(f\"Train Error: {train_fold_score}, Test Error: {fold_score}\")\n",
    "\n",
    "            if fold_score < best_score:\n",
    "                best_score = fold_score\n",
    "                best_params = param\n",
    "        # print(f\"Best Params for this fold: {best_params}, Best Test Score: {best_score}\")\n",
    "        fold_scores.append(best_score)\n",
    "\n",
    "    # Calculate the average score across all folds\n",
    "    average_score = np.mean(fold_scores)\n",
    "\n",
    "    # Get average stocks chosen over all folds\n",
    "    average_selected_features = np.mean(num_stocks)\n",
    "\n",
    "    # Print the tracking error for this alpha\n",
    "    # print(f\"Percentile: {percentile}, Tracking Error: {average_score}\")\n",
    "    return stocks, average_selected_features, average_score"
   ]
  },
  {
   "cell_type": "code",
   "execution_count": 18,
   "id": "994a0426",
   "metadata": {
    "execution": {
     "iopub.execute_input": "2025-06-10T16:42:36.272672Z",
     "iopub.status.busy": "2025-06-10T16:42:36.272011Z",
     "iopub.status.idle": "2025-06-10T16:42:36.280625Z",
     "shell.execute_reply": "2025-06-10T16:42:36.279736Z"
    },
    "papermill": {
     "duration": 0.019788,
     "end_time": "2025-06-10T16:42:36.282572",
     "exception": false,
     "start_time": "2025-06-10T16:42:36.262784",
     "status": "completed"
    },
    "tags": []
   },
   "outputs": [],
   "source": [
    "def MI_Experiments_run(X,y):\n",
    "    tracking_errors = []\n",
    "    num_stocks_list = []\n",
    "    results_by_model = {}\n",
    "    \n",
    "    percentiles = [0.8, 0.7, 0.6, 0.5, 0.4, 0.3, 0.2]\n",
    "    models = {\n",
    "        'SVR': (SVR, {\n",
    "            'C': [0.1, 1, 10],\n",
    "            'epsilon': [0.01, 0.1, 0.5],\n",
    "            'kernel': ['rbf', 'linear'],\n",
    "        }),\n",
    "        'ElasticNet': (ElasticNet, {\n",
    "            'alpha': [0.0001, 0.00025, 0.0005, 0.00075, 0.001, 0.002, 0.0025],\n",
    "            'l1_ratio': [0.1, 0.5, 0.7, 0.9]\n",
    "        }),\n",
    "        'LightGBM': (lgb.LGBMRegressor, {\n",
    "            'n_estimators': [300], \n",
    "            'learning_rate': [0.075, 0.1, 0.2],\n",
    "            'colsample_bytree': [0.5, 0.7],\n",
    "            'max_depth': [15],\n",
    "            'n_jobs': [-1],\n",
    "            'boosting_type': ['gbdt'],\n",
    "            'verbose': [-1]\n",
    "        })\n",
    "    }\n",
    "    \n",
    "    for model_name, (model, param_grid) in models.items():\n",
    "        results_dict[f'MI_{model_name}'] = ([], [])\n",
    "\n",
    "        \n",
    "        for percentile in percentiles:\n",
    "            print(f\"Starting percentile: {percentile} for model: {model_name}\")\n",
    "            _, num_stocks, tracking_err = MI_Experiment(percentile, X, y, model, param_grid)\n",
    "            results_dict[f'MI_{model_name}'][0].append(num_stocks)\n",
    "            results_dict[f'MI_{model_name}'][1].append(tracking_err)"
   ]
  },
  {
   "cell_type": "code",
   "execution_count": 19,
   "id": "03d9317a",
   "metadata": {
    "execution": {
     "iopub.execute_input": "2025-06-10T16:42:36.300027Z",
     "iopub.status.busy": "2025-06-10T16:42:36.299624Z",
     "iopub.status.idle": "2025-06-10T16:42:52.068443Z",
     "shell.execute_reply": "2025-06-10T16:42:52.067249Z"
    },
    "papermill": {
     "duration": 15.78106,
     "end_time": "2025-06-10T16:42:52.071677",
     "exception": false,
     "start_time": "2025-06-10T16:42:36.290617",
     "status": "completed"
    },
    "tags": []
   },
   "outputs": [
    {
     "name": "stdout",
     "output_type": "stream",
     "text": [
      "----------Starting alpha 0.31622776601683794-------------\n",
      "----------Starting alpha 0.2154434690031884-------------\n",
      "----------Starting alpha 0.14677992676220697-------------\n",
      "----------Starting alpha 0.1-------------\n",
      "----------Starting alpha 0.06812920690579616-------------\n",
      "----------Starting alpha 0.046415888336127795-------------\n",
      "----------Starting alpha 0.03162277660168379-------------\n",
      "----------Starting alpha 0.021544346900318846-------------\n",
      "----------Starting alpha 0.014677992676220698-------------\n",
      "----------Starting alpha 0.01-------------\n"
     ]
    }
   ],
   "source": [
    "Lasso_ElasticNet_run(daily_X,daily_y)"
   ]
  },
  {
   "cell_type": "code",
   "execution_count": 20,
   "id": "dc8be803",
   "metadata": {
    "execution": {
     "iopub.execute_input": "2025-06-10T16:42:52.106096Z",
     "iopub.status.busy": "2025-06-10T16:42:52.105570Z",
     "iopub.status.idle": "2025-06-10T16:59:24.524590Z",
     "shell.execute_reply": "2025-06-10T16:59:24.523520Z"
    },
    "papermill": {
     "duration": 992.439013,
     "end_time": "2025-06-10T16:59:24.527006",
     "exception": false,
     "start_time": "2025-06-10T16:42:52.087993",
     "status": "completed"
    },
    "scrolled": true,
    "tags": []
   },
   "outputs": [
    {
     "name": "stdout",
     "output_type": "stream",
     "text": [
      "Starting percentile: 0.8 for model: SVR\n",
      "Starting percentile: 0.7 for model: SVR\n",
      "Starting percentile: 0.6 for model: SVR\n",
      "Starting percentile: 0.5 for model: SVR\n",
      "Starting percentile: 0.4 for model: SVR\n",
      "Starting percentile: 0.3 for model: SVR\n",
      "Starting percentile: 0.2 for model: SVR\n",
      "Starting percentile: 0.8 for model: ElasticNet\n",
      "Starting percentile: 0.7 for model: ElasticNet\n",
      "Starting percentile: 0.6 for model: ElasticNet\n",
      "Starting percentile: 0.5 for model: ElasticNet\n",
      "Starting percentile: 0.4 for model: ElasticNet\n",
      "Starting percentile: 0.3 for model: ElasticNet\n",
      "Starting percentile: 0.2 for model: ElasticNet\n",
      "Starting percentile: 0.8 for model: LightGBM\n",
      "Starting percentile: 0.7 for model: LightGBM\n",
      "Starting percentile: 0.6 for model: LightGBM\n",
      "Starting percentile: 0.5 for model: LightGBM\n",
      "Starting percentile: 0.4 for model: LightGBM\n",
      "Starting percentile: 0.3 for model: LightGBM\n",
      "Starting percentile: 0.2 for model: LightGBM\n"
     ]
    }
   ],
   "source": [
    "MI_Experiments_run(daily_X,daily_y)"
   ]
  },
  {
   "cell_type": "markdown",
   "id": "3a147b47",
   "metadata": {
    "papermill": {
     "duration": 0.009445,
     "end_time": "2025-06-10T16:59:24.546533",
     "exception": false,
     "start_time": "2025-06-10T16:59:24.537088",
     "status": "completed"
    },
    "tags": []
   },
   "source": [
    "# Sparse Autoencoder - ElasticNet"
   ]
  },
  {
   "cell_type": "code",
   "execution_count": 21,
   "id": "3214392f",
   "metadata": {
    "execution": {
     "iopub.execute_input": "2025-06-10T16:59:24.567437Z",
     "iopub.status.busy": "2025-06-10T16:59:24.567064Z",
     "iopub.status.idle": "2025-06-10T16:59:24.665712Z",
     "shell.execute_reply": "2025-06-10T16:59:24.664807Z"
    },
    "papermill": {
     "duration": 0.111925,
     "end_time": "2025-06-10T16:59:24.667994",
     "exception": false,
     "start_time": "2025-06-10T16:59:24.556069",
     "status": "completed"
    },
    "tags": []
   },
   "outputs": [],
   "source": [
    "from tensorflow.keras.callbacks import Callback\n",
    "\n",
    "\n",
    "def autoencoder_feature_selection(X, input_dim, encoding_dim, K, sparsity_level, lambda_sparse, debug=False):\n",
    "    input_layer = Input(shape=(input_dim,))\n",
    "    encoded = Dense(encoding_dim, activation='relu', \n",
    "                    activity_regularizer=regularizers.l1(10e-2))(input_layer)\n",
    "    decoded = Dense(input_dim, activation='sigmoid')(encoded)\n",
    "    autoencoder = Model(input_layer, decoded)\n",
    "    encoder = Model(input_layer, encoded)\n",
    "    autoencoder.compile(optimizer='adam', loss='mean_squared_error')\n",
    "\n",
    "    def sparse_loss(y_true, y_pred):\n",
    "        mse_loss = tf.reduce_mean(keras.losses.MeanSquaredError()(y_true, y_pred))\n",
    "        hidden_layer_output = encoder(y_true)\n",
    "        mean_activation = tf.reduce_mean(hidden_layer_output, axis=0)\n",
    "    \n",
    "        kl_divergence = tf.reduce_sum(sparsity_level * tf.math.log(sparsity_level / (mean_activation + 1e-10)) +\n",
    "                                      (1 - sparsity_level) * tf.math.log((1 - sparsity_level) / (1 - mean_activation + 1e-10)))\n",
    "    \n",
    "        return mse_loss + lambda_sparse * kl_divergence\n",
    "    \n",
    "    # Train autoencoder\n",
    "    autoencoder.fit(X, X, epochs=200, batch_size=16, validation_split=0.1, verbose=0, shuffle=False)\n",
    "\n",
    "    # Calculate baseline reconstruction error\n",
    "    baseline_reconstruction = autoencoder.predict(X, verbose=0)\n",
    "    baseline_error = np.mean(np.square(X - baseline_reconstruction), axis=0)\n",
    "    \n",
    "    importance_scores = []\n",
    "    \n",
    "    for i in range(input_dim):\n",
    "        X_modified = X.copy()\n",
    "        X_modified[:, i] = 0  # Zero out the i-th feature\n",
    "        modified_reconstruction = autoencoder.predict(X_modified, verbose=0)\n",
    "        modified_error = np.mean(np.square(X - modified_reconstruction), axis=0)\n",
    "        information_loss = np.sum(modified_error - baseline_error)\n",
    "        importance_scores.append((i, information_loss))\n",
    "    \n",
    "    # Rank features based on importance scores\n",
    "    importance_scores.sort(key=lambda x: x[1], reverse=True)\n",
    "    \n",
    "    # Select top K features\n",
    "    top_feature_indices = [index for index, _ in importance_scores[:K]]\n",
    "    if debug:\n",
    "        print(f\"Selected Features: {top_feature_indices}\")\n",
    "    \n",
    "    return top_feature_indices, encoder, autoencoder\n"
   ]
  },
  {
   "cell_type": "code",
   "execution_count": 22,
   "id": "2bb5a190",
   "metadata": {
    "execution": {
     "iopub.execute_input": "2025-06-10T16:59:24.688713Z",
     "iopub.status.busy": "2025-06-10T16:59:24.688327Z",
     "iopub.status.idle": "2025-06-10T16:59:24.699090Z",
     "shell.execute_reply": "2025-06-10T16:59:24.698021Z"
    },
    "papermill": {
     "duration": 0.023598,
     "end_time": "2025-06-10T16:59:24.701164",
     "exception": false,
     "start_time": "2025-06-10T16:59:24.677566",
     "status": "completed"
    },
    "tags": []
   },
   "outputs": [],
   "source": [
    "def AE_Experiment(K, X, y, model_class, params, encoding_dim, sparsity_level, lambda_sparse, debug=False):\n",
    "    tscv = TimeSeriesSplit(n_splits=5, max_train_size=700, test_size=100)\n",
    "    fold_scores = []\n",
    "    num_stocks_list = []\n",
    "\n",
    "    for train_index, test_index in tscv.split(X):\n",
    "        X_train_cv, X_test_cv = X.iloc[train_index], X.iloc[test_index]\n",
    "        y_train_cv, y_test_cv = y.iloc[train_index], y.iloc[test_index]\n",
    "        scaler = StandardScaler()\n",
    "        X_scaled = scaler.fit_transform(X_train_cv)\n",
    "        X_test_scaled = scaler.transform(X_test_cv)\n",
    "\n",
    "        # Create and train Sparse Autoencoder\n",
    "        input_dim = X_scaled.shape[1]\n",
    "        features, autoencoder, encoder = autoencoder_feature_selection(X_scaled, input_dim, encoding_dim, K, sparsity_level, lambda_sparse, debug)\n",
    "        \n",
    "        # Set non-selected features to 0\n",
    "        X_train_selected = X_scaled[:, features]\n",
    "        X_test_selected = X_test_scaled[:, features]\n",
    "    \n",
    "        best_params = None\n",
    "        best_score = float('inf')\n",
    "        for param in ParameterGrid(params):\n",
    "            if debug:\n",
    "                print(f\"Trying combination {param}\")\n",
    "            model = model_class(**param)\n",
    "            model.fit(X_train_selected, y_train_cv)\n",
    "            y_pred = model.predict(X_test_selected)\n",
    "\n",
    "            # Update number of non zero weight stocks\n",
    "            num_stocks = K - np.sum(np.abs(model.coef_) < 1e-5)\n",
    "            \n",
    "            train_fold_score = tracking_error(y_train_cv, model.predict(X_train_selected))\n",
    "            fold_score = tracking_error(y_test_cv, y_pred)\n",
    "            if debug:\n",
    "                print(f\"Train Error: {train_fold_score}, Test Error: {fold_score}, Coeffs 0? : {sum(abs(coef) < 10e-5 for coef in model.coef_)}\")\n",
    "\n",
    "            if fold_score < best_score:\n",
    "                best_score = fold_score\n",
    "                best_params = param\n",
    "                best_num_stocks = num_stocks\n",
    "\n",
    "        # print(f\"Best Params for this fold: {best_params}, Best Test Score: {best_score}\")\n",
    "        fold_scores.append(best_score)\n",
    "        num_stocks_list.append(best_num_stocks)\n",
    "\n",
    "    average_score = np.mean(fold_scores)\n",
    "    average_num_stocks = np.mean(num_stocks_list)\n",
    "    return average_score, average_num_stocks"
   ]
  },
  {
   "cell_type": "code",
   "execution_count": 23,
   "id": "32851e75",
   "metadata": {
    "execution": {
     "iopub.execute_input": "2025-06-10T16:59:24.722036Z",
     "iopub.status.busy": "2025-06-10T16:59:24.721621Z",
     "iopub.status.idle": "2025-06-10T16:59:24.729950Z",
     "shell.execute_reply": "2025-06-10T16:59:24.729038Z"
    },
    "papermill": {
     "duration": 0.021139,
     "end_time": "2025-06-10T16:59:24.732036",
     "exception": false,
     "start_time": "2025-06-10T16:59:24.710897",
     "status": "completed"
    },
    "tags": []
   },
   "outputs": [],
   "source": [
    "def AE_Lasso_run(X,y):\n",
    "    \n",
    "    num_stocks_thresh = [20, 25, 30, 35, 40, 50, 60]\n",
    "    param_grid = {\n",
    "        'alpha': [0.005, 0.0075, 0.01, 0.02, 0.025],\n",
    "        'l1_ratio': [0.4, 0.6]\n",
    "    }\n",
    "    AE_params = {\n",
    "        'sparsity_level': [0.05, 0.1, 0.15],\n",
    "        'lambda_sparse': [0.05, 0.1, 0.2]\n",
    "    }\n",
    "    encoding_dims = [3, 10]\n",
    "    results_by_dim = {}\n",
    "\n",
    "    for encoding_dim in encoding_dims:\n",
    "        results_dict[f'Lasso_AutoEncoder_d{encoding_dim}'] = ([], [])\n",
    "        num_stocks_list = []\n",
    "        tracking_errors = []\n",
    "        \n",
    "        for K in num_stocks_thresh:\n",
    "            best_params = {}\n",
    "            lowest_tracking_err = float('inf')\n",
    "            for sparsity_level in AE_params['sparsity_level']:\n",
    "                for lambda_sparse in AE_params['lambda_sparse']:\n",
    "                    # Call AE_Experiment with the current parameters\n",
    "                    tracking_err, num_stocks = AE_Experiment(\n",
    "                        K, X, y, ElasticNet, param_grid, encoding_dim, sparsity_level, lambda_sparse, debug=False\n",
    "                    )\n",
    "                    \n",
    "                    if tracking_err < lowest_tracking_err:\n",
    "                        lowest_tracking_err = tracking_err\n",
    "                        best_params = {\n",
    "                            'sparsity_level': sparsity_level,\n",
    "                            'lambda_sparse': lambda_sparse\n",
    "                        }\n",
    "                        best_num_stocks = num_stocks\n",
    "            \n",
    "            # print(f\"Tracking Error: {lowest_tracking_err} - Best AE parameters: {best_params} \")\n",
    "            results_dict[f'Lasso_AutoEncoder_d{encoding_dim}'][0].append(best_num_stocks)\n",
    "            results_dict[f'Lasso_AutoEncoder_d{encoding_dim}'][1].append(lowest_tracking_err)\n",
    "            \n",
    "        \n"
   ]
  },
  {
   "cell_type": "code",
   "execution_count": 24,
   "id": "4a893589",
   "metadata": {
    "execution": {
     "iopub.execute_input": "2025-06-10T16:59:24.753272Z",
     "iopub.status.busy": "2025-06-10T16:59:24.752901Z",
     "iopub.status.idle": "2025-06-10T23:44:03.173101Z",
     "shell.execute_reply": "2025-06-10T23:44:03.171804Z"
    },
    "papermill": {
     "duration": 24278.435842,
     "end_time": "2025-06-10T23:44:03.177694",
     "exception": false,
     "start_time": "2025-06-10T16:59:24.741852",
     "status": "completed"
    },
    "tags": []
   },
   "outputs": [],
   "source": [
    "AE_Lasso_run(daily_X,daily_y)"
   ]
  },
  {
   "cell_type": "code",
   "execution_count": 25,
   "id": "1c84c58b",
   "metadata": {
    "execution": {
     "iopub.execute_input": "2025-06-10T23:44:03.224295Z",
     "iopub.status.busy": "2025-06-10T23:44:03.221846Z",
     "iopub.status.idle": "2025-06-10T23:44:03.602124Z",
     "shell.execute_reply": "2025-06-10T23:44:03.601093Z"
    },
    "papermill": {
     "duration": 0.404369,
     "end_time": "2025-06-10T23:44:03.604210",
     "exception": false,
     "start_time": "2025-06-10T23:44:03.199841",
     "status": "completed"
    },
    "tags": []
   },
   "outputs": [
    {
     "data": {
      "image/png": "[encoded data removed]",
      "text/plain": [
       "<Figure size 640x480 with 1 Axes>"
      ]
     },
     "metadata": {},
     "output_type": "display_data"
    }
   ],
   "source": [
    "# Plot each entry\n",
    "for key, (num_stocks, tracking_errors) in results_dict.items():\n",
    "    plt.plot(num_stocks, tracking_errors, marker='o', label=key)\n",
    "\n",
    "# Add labels and legend\n",
    "plt.xlabel(\"Number of Stocks\")\n",
    "plt.ylabel(\"Tracking Error\")\n",
    "plt.title(\"Tracking Error vs Number of Stocks\")\n",
    "plt.legend()\n",
    "plt.grid(True)\n",
    "plt.show()"
   ]
  },
  {
   "cell_type": "markdown",
   "id": "40a61e23",
   "metadata": {
    "papermill": {
     "duration": 0.010435,
     "end_time": "2025-06-10T23:44:03.625629",
     "exception": false,
     "start_time": "2025-06-10T23:44:03.615194",
     "status": "completed"
    },
    "tags": []
   },
   "source": [
    "# Conclusions\n",
    "\n",
    "We can observe that all models follow a similar trend, where the tracking error is lower the higher the number of stocks we can invest in, but we can still see that our models obtain decent results with a very low number of stocks (under 20) which range between 0.2 and 0.3%. The best results are seen from the Lasso - ElasticNet experiment, while the rest of the applied methods exhibit varying results but slightly worse than this one. This could be due to the way that Lasso performs feature selection. \n",
    "\n",
    "Since Lasso drops features based on their impact towards the target variable (NIFTY 100 Index Price) it might be better at removing features that are less useful in influencing the index price, while other feature selection methods, such as correlation, mutual information or autoencoders, don't include the output in their decision to assign weights or scored to features."
   ]
  },
  {
   "cell_type": "markdown",
   "id": "d8f4d096",
   "metadata": {
    "papermill": {
     "duration": 0.010286,
     "end_time": "2025-06-10T23:44:03.646326",
     "exception": false,
     "start_time": "2025-06-10T23:44:03.636040",
     "status": "completed"
    },
    "tags": []
   },
   "source": [
    "## Future Work\n",
    "\n",
    "Future Work\n",
    "For future work, we could explore other autoencoder architectures to enhance our feature selection process. Some examples of autoencoder architectures that might be considered include:\n",
    "\n",
    "* **Variational Autoencoders (VAE)**: These are designed to learn a probabilistic representation of the input data, which can be useful for generating new data points similar to the original data.\n",
    "* **Denoising Autoencoders (DAE)**: These are trained to reconstruct the input data from a corrupted version, helping in learning robust feature representations.\n",
    "  \n",
    "Additionally, we could explore other feature selection algorithms, such as:\n",
    "\n",
    "* **Recursive Feature Elimination (RFE)**: This method recursively removes the least important features and builds the model on the remaining features. It uses the model’s accuracy to identify the optimal number of features.\n",
    "* **Tree-based Feature Selection**: Algorithms like Random Forests and Gradient Boosting Trees can provide feature importances, which can be used to select features that contribute significantly to the target variable.\n",
    "  \n",
    "Exploring these additional methods and architectures could lead to improved feature selection, thereby enhancing the performance of our models in the partial replication of stock indices."
   ]
  },
  {
   "cell_type": "markdown",
   "id": "d2873f96",
   "metadata": {
    "papermill": {
     "duration": 0.010223,
     "end_time": "2025-06-10T23:44:03.666874",
     "exception": false,
     "start_time": "2025-06-10T23:44:03.656651",
     "status": "completed"
    },
    "tags": []
   },
   "source": [
    "##### "
   ]
  }
 ],
 "metadata": {
  "kaggle": {
   "accelerator": "none",
   "dataSources": [
    {
     "datasetId": 6024843,
     "sourceId": 9824880,
     "sourceType": "datasetVersion"
    },
    {
     "datasetId": 2401195,
     "sourceId": 10926410,
     "sourceType": "datasetVersion"
    },
    {
     "datasetId": 2490157,
     "sourceId": 10926418,
     "sourceType": "datasetVersion"
    }
   ],
   "dockerImageVersionId": 30786,
   "isGpuEnabled": false,
   "isInternetEnabled": true,
   "language": "python",
   "sourceType": "notebook"
  },
  "kernelspec": {
   "display_name": "Python 3",
   "language": "python",
   "name": "python3"
  },
  "language_info": {
   "codemirror_mode": {
    "name": "ipython",
    "version": 3
   },
   "file_extension": ".py",
   "mimetype": "text/x-python",
   "name": "python",
   "nbconvert_exporter": "python",
   "pygments_lexer": "ipython3",
   "version": "3.10.14"
  },
  "papermill": {
   "default_parameters": {},
   "duration": 25368.632461,
   "end_time": "2025-06-10T23:44:06.900698",
   "environment_variables": {},
   "exception": null,
   "input_path": "__notebook__.ipynb",
   "output_path": "__notebook__.ipynb",
   "parameters": {},
   "start_time": "2025-06-10T16:41:18.268237",
   "version": "2.6.0"
  }
 },
 "nbformat": 4,
 "nbformat_minor": 5
}
