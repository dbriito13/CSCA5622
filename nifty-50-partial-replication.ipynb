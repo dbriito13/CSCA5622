{
 "cells": [
  {
   "cell_type": "markdown",
   "id": "74842293",
   "metadata": {
    "_cell_guid": "b1076dfc-b9ad-4769-8c92-a6c4dae69d19",
    "_uuid": "8f2839f25d086af736a60e9eeb907d3b93b6e0e5",
    "papermill": {
     "duration": 0.007137,
     "end_time": "2024-12-02T21:19:03.721966",
     "exception": false,
     "start_time": "2024-12-02T21:19:03.714829",
     "status": "completed"
    },
    "tags": []
   },
   "source": [
    "# Nifty 50 Partial Replication"
   ]
  },
  {
   "cell_type": "code",
   "execution_count": 1,
   "id": "acf8214b",
   "metadata": {
    "collapsed": true,
    "execution": {
     "iopub.execute_input": "2024-12-02T21:19:03.737178Z",
     "iopub.status.busy": "2024-12-02T21:19:03.736667Z",
     "iopub.status.idle": "2024-12-02T21:19:06.897999Z",
     "shell.execute_reply": "2024-12-02T21:19:06.896921Z"
    },
    "jupyter": {
     "outputs_hidden": true
    },
    "papermill": {
     "duration": 3.171464,
     "end_time": "2024-12-02T21:19:06.900422",
     "exception": false,
     "start_time": "2024-12-02T21:19:03.728958",
     "status": "completed"
    },
    "tags": []
   },
   "outputs": [],
   "source": [
    "import pandas as pd\n",
    "import numpy as np\n",
    "from sklearn.model_selection import train_test_split\n",
    "from sklearn.linear_model import Lasso, ElasticNet\n",
    "from sklearn.metrics import mean_squared_error, r2_score, make_scorer\n",
    "from sklearn.model_selection import cross_val_score, TimeSeriesSplit, ParameterGrid\n",
    "from sklearn.linear_model import LassoCV\n",
    "import matplotlib.pyplot as plt\n",
    "import os\n",
    "import glob\n",
    "from tqdm import tqdm\n",
    "import warnings\n",
    "from sklearn.ensemble import RandomForestRegressor\n",
    "from sklearn.exceptions import ConvergenceWarning\n",
    "warnings.filterwarnings(\"ignore\")\n",
    "warnings.filterwarnings(\"always\", category=ConvergenceWarning)\n",
    "import seaborn as sns\n",
    "from sklearn.pipeline import Pipeline\n",
    "from mpl_toolkits.mplot3d import Axes3D\n",
    "from sklearn.linear_model import LinearRegression\n",
    "from sklearn.preprocessing import PolynomialFeatures\n",
    "import xgboost as xgb\n",
    "from sklearn.feature_selection import SelectFromModel,mutual_info_regression"
   ]
  },
  {
   "cell_type": "code",
   "execution_count": 2,
   "id": "210ff5d6",
   "metadata": {
    "collapsed": true,
    "execution": {
     "iopub.execute_input": "2024-12-02T21:19:06.915119Z",
     "iopub.status.busy": "2024-12-02T21:19:06.914631Z",
     "iopub.status.idle": "2024-12-02T21:19:06.920057Z",
     "shell.execute_reply": "2024-12-02T21:19:06.919061Z"
    },
    "jupyter": {
     "outputs_hidden": true
    },
    "papermill": {
     "duration": 0.015241,
     "end_time": "2024-12-02T21:19:06.922119",
     "exception": false,
     "start_time": "2024-12-02T21:19:06.906878",
     "status": "completed"
    },
    "tags": []
   },
   "outputs": [],
   "source": [
    "def tracking_error(y_true, y_pred):\n",
    "\n",
    "    # Convert y_true and y_pred to pandas Series for easy handling of pct_change()\n",
    "    y_true = pd.Series(y_true)\n",
    "    y_pred = pd.Series(y_pred)\n",
    "\n",
    "    # Calculate percentage change for true values and predictions\n",
    "    # pct_change_true = y_true.pct_change() * 100\n",
    "    # pct_change_pred = y_pred.pct_change() * 100\n",
    "\n",
    "    # Calculate the difference between the percentage changes\n",
    "    diff_pct_change = y_true - y_pred    \n",
    "\n",
    "    # Return the standard deviation of the differences (tracking error)\n",
    "    return np.std(diff_pct_change.dropna())  # dropna() to avoid NaN values in pct_change"
   ]
  },
  {
   "cell_type": "code",
   "execution_count": 3,
   "id": "6f655192",
   "metadata": {
    "collapsed": true,
    "execution": {
     "iopub.execute_input": "2024-12-02T21:19:06.937016Z",
     "iopub.status.busy": "2024-12-02T21:19:06.936648Z",
     "iopub.status.idle": "2024-12-02T21:19:06.941786Z",
     "shell.execute_reply": "2024-12-02T21:19:06.940828Z"
    },
    "jupyter": {
     "outputs_hidden": true
    },
    "papermill": {
     "duration": 0.014248,
     "end_time": "2024-12-02T21:19:06.943760",
     "exception": false,
     "start_time": "2024-12-02T21:19:06.929512",
     "status": "completed"
    },
    "tags": []
   },
   "outputs": [],
   "source": [
    "def adj_tracking_error(y_true, X_test, model):\n",
    "    cost = 0.001  # 0.1% cost\n",
    "    X_test_adjusted = X_test.copy()\n",
    "    X_test_adjusted[0, :] -= cost  # Subtract cost from the first return of each stock\n",
    "\n",
    "    # Predict with adjustment\n",
    "    y_pred_adjusted = model.predict(X_test_adjusted)\n",
    "    return tracking_error(y_true, y_pred_adjusted)"
   ]
  },
  {
   "cell_type": "markdown",
   "id": "4929ad29",
   "metadata": {
    "papermill": {
     "duration": 0.005752,
     "end_time": "2024-12-02T21:19:06.955650",
     "exception": false,
     "start_time": "2024-12-02T21:19:06.949898",
     "status": "completed"
    },
    "tags": []
   },
   "source": [
    "# Data"
   ]
  },
  {
   "cell_type": "code",
   "execution_count": 4,
   "id": "e034f054",
   "metadata": {
    "collapsed": true,
    "execution": {
     "iopub.execute_input": "2024-12-02T21:19:06.969598Z",
     "iopub.status.busy": "2024-12-02T21:19:06.968742Z",
     "iopub.status.idle": "2024-12-02T21:19:06.973248Z",
     "shell.execute_reply": "2024-12-02T21:19:06.972193Z"
    },
    "jupyter": {
     "outputs_hidden": true
    },
    "papermill": {
     "duration": 0.013669,
     "end_time": "2024-12-02T21:19:06.975312",
     "exception": false,
     "start_time": "2024-12-02T21:19:06.961643",
     "status": "completed"
    },
    "tags": []
   },
   "outputs": [],
   "source": [
    "# directory_path = '/kaggle/input/stock-market-data-nifty-50-stocks-1-min-data'\n",
    "# pattern = os.path.join(directory_path, \"*.csv\")  # Change \"*.csv\" to match other patterns if needed\n",
    "# Get the list of files that match the pattern\n",
    "# file_list = glob.glob(pattern)"
   ]
  },
  {
   "cell_type": "code",
   "execution_count": 5,
   "id": "026ac453",
   "metadata": {
    "collapsed": true,
    "execution": {
     "iopub.execute_input": "2024-12-02T21:19:06.989127Z",
     "iopub.status.busy": "2024-12-02T21:19:06.988769Z",
     "iopub.status.idle": "2024-12-02T21:19:06.995343Z",
     "shell.execute_reply": "2024-12-02T21:19:06.994348Z"
    },
    "jupyter": {
     "outputs_hidden": true
    },
    "papermill": {
     "duration": 0.015974,
     "end_time": "2024-12-02T21:19:06.997485",
     "exception": false,
     "start_time": "2024-12-02T21:19:06.981511",
     "status": "completed"
    },
    "tags": []
   },
   "outputs": [],
   "source": [
    "def fetch_data(cols):\n",
    "    df_list = []\n",
    "    for file in tqdm(file_list):\n",
    "        stock_name = os.path.basename(file).split(\"_\")[0]\n",
    "        file_df = pd.read_csv(file, index_col=0)\n",
    "        file_df = file_df[[cols]]\n",
    "        file_df.columns = pd.MultiIndex.from_product([[stock_name], file_df.columns])\n",
    "        df_list.append(file_df)\n",
    "    return pd.concat(df_list, axis=1)"
   ]
  },
  {
   "cell_type": "code",
   "execution_count": 6,
   "id": "7ae59fb0",
   "metadata": {
    "collapsed": true,
    "execution": {
     "iopub.execute_input": "2024-12-02T21:19:07.011944Z",
     "iopub.status.busy": "2024-12-02T21:19:07.011157Z",
     "iopub.status.idle": "2024-12-02T21:19:07.015312Z",
     "shell.execute_reply": "2024-12-02T21:19:07.014452Z"
    },
    "jupyter": {
     "outputs_hidden": true
    },
    "papermill": {
     "duration": 0.013342,
     "end_time": "2024-12-02T21:19:07.017189",
     "exception": false,
     "start_time": "2024-12-02T21:19:07.003847",
     "status": "completed"
    },
    "tags": []
   },
   "outputs": [],
   "source": [
    "# df = fetch_data('close')\n",
    "\n",
    "# df.to_csv('/kaggle/inputifty_50_closing.csv')"
   ]
  },
  {
   "cell_type": "code",
   "execution_count": 7,
   "id": "a0212bf7",
   "metadata": {
    "collapsed": true,
    "execution": {
     "iopub.execute_input": "2024-12-02T21:19:07.031690Z",
     "iopub.status.busy": "2024-12-02T21:19:07.030939Z",
     "iopub.status.idle": "2024-12-02T21:19:26.861487Z",
     "shell.execute_reply": "2024-12-02T21:19:26.860396Z"
    },
    "jupyter": {
     "outputs_hidden": true
    },
    "papermill": {
     "duration": 19.840472,
     "end_time": "2024-12-02T21:19:26.863927",
     "exception": false,
     "start_time": "2024-12-02T21:19:07.023455",
     "status": "completed"
    },
    "tags": []
   },
   "outputs": [
    {
     "name": "stdout",
     "output_type": "stream",
     "text": [
      "Number of rows with NaN values: 639555\n"
     ]
    }
   ],
   "source": [
    "df = pd.read_csv('/kaggle/input/nifty-50-closing-data/nifty_50_closing.csv', index_col=0, header=[0, 1])\n",
    "df = df.xs('close', level=1, axis=1)\n",
    "df.index = pd.to_datetime(df.index)\n",
    "nan_rows = df.isna().any(axis=1)\n",
    "\n",
    "# Get the number of rows with NaN value\n",
    "num_nan_rows = nan_rows.sum()\n",
    "\n",
    "\n",
    "print(f\"Number of rows with NaN values: {num_nan_rows}\")"
   ]
  },
  {
   "cell_type": "code",
   "execution_count": 8,
   "id": "0860661b",
   "metadata": {
    "collapsed": true,
    "execution": {
     "iopub.execute_input": "2024-12-02T21:19:26.878841Z",
     "iopub.status.busy": "2024-12-02T21:19:26.878179Z",
     "iopub.status.idle": "2024-12-02T21:19:29.082483Z",
     "shell.execute_reply": "2024-12-02T21:19:29.081360Z"
    },
    "jupyter": {
     "outputs_hidden": true
    },
    "papermill": {
     "duration": 2.214405,
     "end_time": "2024-12-02T21:19:29.085065",
     "exception": false,
     "start_time": "2024-12-02T21:19:26.870660",
     "status": "completed"
    },
    "tags": []
   },
   "outputs": [],
   "source": [
    "nifty_100_closing = pd.read_csv('/kaggle/input/nifty-50-minute-data/NIFTY 100_minute.csv', index_col=0)[['close']]\n",
    "nifty_100_closing.index = pd.to_datetime(nifty_100_closing.index)\n",
    "nifty_100_closing.rename(columns={'close': 'NIFTY_100'}, inplace=True)"
   ]
  },
  {
   "cell_type": "code",
   "execution_count": 9,
   "id": "29d61367",
   "metadata": {
    "collapsed": true,
    "execution": {
     "iopub.execute_input": "2024-12-02T21:19:29.099829Z",
     "iopub.status.busy": "2024-12-02T21:19:29.099437Z",
     "iopub.status.idle": "2024-12-02T21:19:29.750577Z",
     "shell.execute_reply": "2024-12-02T21:19:29.749184Z"
    },
    "jupyter": {
     "outputs_hidden": true
    },
    "papermill": {
     "duration": 0.661011,
     "end_time": "2024-12-02T21:19:29.752809",
     "exception": false,
     "start_time": "2024-12-02T21:19:29.091798",
     "status": "completed"
    },
    "tags": []
   },
   "outputs": [
    {
     "name": "stdout",
     "output_type": "stream",
     "text": [
      "Number of rows with NaN values: 37207\n",
      "Number of rows with 0.0 values: 79\n",
      "Total rows 639981\n"
     ]
    }
   ],
   "source": [
    "threshold = 0.10\n",
    "\n",
    "# Drop columns with more than the threshold percentage of missing values\n",
    "df = df.dropna(thresh=int((1-threshold) * len(df)), axis=1)\n",
    "\n",
    "nan_rows = df.isna().any(axis=1)\n",
    "# Get the number of rows with NaN values\n",
    "num_nan_rows = nan_rows.sum()\n",
    "print(f\"Number of rows with NaN values: {num_nan_rows}\")\n",
    "df.dropna(axis=0, inplace=True)\n",
    "df.index = df.index.tz_localize(None)\n",
    "zero_rows = (df == 0.0).any(axis=1)\n",
    "num_zero_rows = zero_rows.sum()\n",
    "\n",
    "print(f\"Number of rows with 0.0 values: {num_zero_rows}\")\n",
    "\n",
    "print(f\"Total rows {len(df)}\")"
   ]
  },
  {
   "cell_type": "code",
   "execution_count": 10,
   "id": "7c3e2135",
   "metadata": {
    "collapsed": true,
    "execution": {
     "iopub.execute_input": "2024-12-02T21:19:29.768183Z",
     "iopub.status.busy": "2024-12-02T21:19:29.767850Z",
     "iopub.status.idle": "2024-12-02T21:19:30.068169Z",
     "shell.execute_reply": "2024-12-02T21:19:30.067011Z"
    },
    "jupyter": {
     "outputs_hidden": true
    },
    "papermill": {
     "duration": 0.311302,
     "end_time": "2024-12-02T21:19:30.070870",
     "exception": false,
     "start_time": "2024-12-02T21:19:29.759568",
     "status": "completed"
    },
    "tags": []
   },
   "outputs": [],
   "source": [
    "df_total = df.join(nifty_100_closing, how='left')"
   ]
  },
  {
   "cell_type": "code",
   "execution_count": 11,
   "id": "51526b4e",
   "metadata": {
    "collapsed": true,
    "execution": {
     "iopub.execute_input": "2024-12-02T21:19:30.087480Z",
     "iopub.status.busy": "2024-12-02T21:19:30.086262Z",
     "iopub.status.idle": "2024-12-02T21:19:30.376367Z",
     "shell.execute_reply": "2024-12-02T21:19:30.375508Z"
    },
    "jupyter": {
     "outputs_hidden": true
    },
    "papermill": {
     "duration": 0.300688,
     "end_time": "2024-12-02T21:19:30.378712",
     "exception": false,
     "start_time": "2024-12-02T21:19:30.078024",
     "status": "completed"
    },
    "tags": []
   },
   "outputs": [],
   "source": [
    "df_total.dropna(inplace=True)"
   ]
  },
  {
   "cell_type": "code",
   "execution_count": 12,
   "id": "dd691819",
   "metadata": {
    "collapsed": true,
    "execution": {
     "iopub.execute_input": "2024-12-02T21:19:30.393523Z",
     "iopub.status.busy": "2024-12-02T21:19:30.393143Z",
     "iopub.status.idle": "2024-12-02T21:19:32.323048Z",
     "shell.execute_reply": "2024-12-02T21:19:32.321866Z"
    },
    "jupyter": {
     "outputs_hidden": true
    },
    "papermill": {
     "duration": 1.93972,
     "end_time": "2024-12-02T21:19:32.325234",
     "exception": false,
     "start_time": "2024-12-02T21:19:30.385514",
     "status": "completed"
    },
    "tags": []
   },
   "outputs": [
    {
     "name": "stdout",
     "output_type": "stream",
     "text": [
      "Number of rows with large changes (>100.0%): 42\n"
     ]
    }
   ],
   "source": [
    "# Calculate the percentage change\n",
    "X_pct_change = df_total.pct_change()\n",
    "\n",
    "# Define the threshold for large changes (e.g., 100% change)\n",
    "threshold = 1.0  # 1.0 corresponds to 100% when working with pct_change()\n",
    "\n",
    "# Find rows with any column having a percentage change greater than the threshold\n",
    "large_change_rows = X_pct_change[(X_pct_change.abs() > threshold).any(axis=1)]\n",
    "\n",
    "# Get the number of rows where there are large percentage changes\n",
    "num_large_changes = large_change_rows.shape[0]\n",
    "\n",
    "print(f\"Number of rows with large changes (>{threshold * 100}%): {num_large_changes}\")"
   ]
  },
  {
   "cell_type": "code",
   "execution_count": 13,
   "id": "9413a774",
   "metadata": {
    "collapsed": true,
    "execution": {
     "iopub.execute_input": "2024-12-02T21:19:32.341765Z",
     "iopub.status.busy": "2024-12-02T21:19:32.341391Z",
     "iopub.status.idle": "2024-12-02T21:19:32.347111Z",
     "shell.execute_reply": "2024-12-02T21:19:32.345939Z"
    },
    "jupyter": {
     "outputs_hidden": true
    },
    "papermill": {
     "duration": 0.016538,
     "end_time": "2024-12-02T21:19:32.349258",
     "exception": false,
     "start_time": "2024-12-02T21:19:32.332720",
     "status": "completed"
    },
    "tags": []
   },
   "outputs": [
    {
     "name": "stdout",
     "output_type": "stream",
     "text": [
      "629791\n"
     ]
    }
   ],
   "source": [
    "print(len(df_total))"
   ]
  },
  {
   "cell_type": "code",
   "execution_count": 14,
   "id": "75903c4e",
   "metadata": {
    "collapsed": true,
    "execution": {
     "iopub.execute_input": "2024-12-02T21:19:32.365141Z",
     "iopub.status.busy": "2024-12-02T21:19:32.364755Z",
     "iopub.status.idle": "2024-12-02T21:19:32.571396Z",
     "shell.execute_reply": "2024-12-02T21:19:32.569870Z"
    },
    "jupyter": {
     "outputs_hidden": true
    },
    "papermill": {
     "duration": 0.217395,
     "end_time": "2024-12-02T21:19:32.573883",
     "exception": false,
     "start_time": "2024-12-02T21:19:32.356488",
     "status": "completed"
    },
    "tags": []
   },
   "outputs": [],
   "source": [
    "df_total.sort_index(inplace=True)"
   ]
  },
  {
   "cell_type": "code",
   "execution_count": null,
   "id": "99c797d0",
   "metadata": {
    "collapsed": true,
    "execution": {
     "iopub.execute_input": "2024-12-02T13:19:38.644322Z",
     "iopub.status.busy": "2024-12-02T13:19:38.643922Z",
     "iopub.status.idle": "2024-12-02T13:19:41.003498Z",
     "shell.execute_reply": "2024-12-02T13:19:41.002286Z"
    },
    "jupyter": {
     "outputs_hidden": true
    },
    "papermill": {
     "duration": 0.00624,
     "end_time": "2024-12-02T21:19:32.586964",
     "exception": false,
     "start_time": "2024-12-02T21:19:32.580724",
     "status": "completed"
    },
    "tags": []
   },
   "outputs": [],
   "source": []
  },
  {
   "cell_type": "markdown",
   "id": "4331ca67",
   "metadata": {
    "papermill": {
     "duration": 0.006254,
     "end_time": "2024-12-02T21:19:32.599742",
     "exception": false,
     "start_time": "2024-12-02T21:19:32.593488",
     "status": "completed"
    },
    "tags": []
   },
   "source": [
    "# Models"
   ]
  },
  {
   "cell_type": "markdown",
   "id": "ef3fec6d",
   "metadata": {
    "papermill": {
     "duration": 0.006085,
     "end_time": "2024-12-02T21:19:32.612263",
     "exception": false,
     "start_time": "2024-12-02T21:19:32.606178",
     "status": "completed"
    },
    "tags": []
   },
   "source": [
    "## Combined Approach\n",
    "\n",
    "In this section, we will utilize a combined approach to limit the number of features (stocks) and train our models.\n",
    "\n",
    "\n",
    "\n",
    "1. Feature Selection (using Lasso w/ high alpha, Mutual Info, ANOVA, RFE)\n",
    "\n",
    "2. Define threshold to drop features\n",
    "\n",
    "3. Train model on reduced feature space (Hyperparameter tuned)\n",
    "\n",
    "4. Get tracking error\n",
    "\n",
    "5. Save pair (number of stocks, tracking error) for plotting"
   ]
  },
  {
   "cell_type": "markdown",
   "id": "b2a8db84",
   "metadata": {
    "papermill": {
     "duration": 0.006121,
     "end_time": "2024-12-02T21:19:32.624765",
     "exception": false,
     "start_time": "2024-12-02T21:19:32.618644",
     "status": "completed"
    },
    "tags": []
   },
   "source": [
    "### Lasso - Lasso\n",
    "\n",
    "\n",
    "\n",
    "We will utilize a Lasso model with a high alpha value to perform feature selection, this will drop the coefficients for less important features to 0. After that we retrain a Lasso model with hyperparameter tuning."
   ]
  },
  {
   "cell_type": "code",
   "execution_count": 15,
   "id": "58210ec3",
   "metadata": {
    "_kg_hide-input": true,
    "collapsed": true,
    "execution": {
     "iopub.execute_input": "2024-12-02T21:19:32.639048Z",
     "iopub.status.busy": "2024-12-02T21:19:32.638689Z",
     "iopub.status.idle": "2024-12-02T21:19:32.651993Z",
     "shell.execute_reply": "2024-12-02T21:19:32.650988Z"
    },
    "jupyter": {
     "outputs_hidden": true
    },
    "papermill": {
     "duration": 0.023173,
     "end_time": "2024-12-02T21:19:32.654190",
     "exception": false,
     "start_time": "2024-12-02T21:19:32.631017",
     "status": "completed"
    },
    "tags": []
   },
   "outputs": [],
   "source": [
    "from sklearn.preprocessing import StandardScaler\n",
    "\n",
    "\n",
    "\n",
    "def Lasso_Lasso(alpha, X, y):    \n",
    "    tscv = TimeSeriesSplit(n_splits=18, max_train_size=85000, test_size=30000)\n",
    "    stocks = []\n",
    "    num_stocks = []\n",
    "    fold_scores = []\n",
    "    adj_fold_scores = []\n",
    "\n",
    "    for train_index, test_index in tscv.split(X):\n",
    "        X_train_cv, X_test_cv = X.iloc[train_index], X.iloc[test_index]\n",
    "        y_train_cv, y_test_cv = y.iloc[train_index], y.iloc[test_index]\n",
    "        train_period = X.iloc[train_index].index\n",
    "        test_period = X.iloc[test_index].index\n",
    "\n",
    "        # Convert to date format\n",
    "        train_start_date, train_end_date = train_period.min(), train_period.max()\n",
    "        test_start_date, test_end_date = test_period.min(), test_period.max()\n",
    "\n",
    "        print(f\"Train period: {train_start_date} to {train_end_date}\")\n",
    "        print(f\"Test period: {test_start_date} to {test_end_date}\")\n",
    "        scaler = StandardScaler()\n",
    "        X_scaled = scaler.fit_transform(X_train_cv)\n",
    "\n",
    "        # Feature selection with alpha from list\n",
    "        lasso_fs = Lasso(alpha=alpha, max_iter=200)\n",
    "        lasso_fs.fit(X_scaled, y_train_cv)\n",
    "\n",
    "        #for feature, coef in zip(X_train_cv.columns, lasso_fs.coef_)\n",
    "        #    print(f\"{feature}: {coef}\")\n",
    "\n",
    "        selector = SelectFromModel(lasso_fs, threshold=10e-10, max_features=None)  # Adjust threshold as needed\n",
    "        X_selected_train = selector.transform(X_scaled)\n",
    "        X_selected_test = selector.transform(X_test_cv)\n",
    "\n",
    "        selected_features = np.where(selector.get_support())[0] \n",
    "        print(f\"Selected {len(selected_features)} stocks\")\n",
    "        num_stocks.append(len(selected_features))\n",
    "        stocks.append(selected_features)\n",
    "\n",
    "        best_alpha = None\n",
    "        best_score = float('inf')  # Assuming lower is better for your metric\n",
    "        for alph in [0.0001, 0.00025, 0.0005, 0.00075, 0.001, 0.002, 0.0025]:\n",
    "            lasso = Lasso(alpha=alph, max_iter=15000)\n",
    "            lasso.fit(X_selected_train, y_train_cv)\n",
    "            y_pred = lasso.predict(X_selected_test)\n",
    "            fold_score = tracking_error(y_test_cv.values, y_pred)\n",
    "            adj_fold_score = adj_tracking_error(y_test_cv.values, X_selected_test, lasso)\n",
    "            # print(f\"Alpha: {alpha}, Fold Score: {fold_score}\"\n",
    "            \n",
    "            if fold_score < best_score:\n",
    "                best_score = fold_score\n",
    "                best_alpha = alpha\n",
    "\n",
    "        print(f\"Best Alpha for this fold: {best_alpha}, Best Fold Score: {best_score}\")\n",
    "        fold_scores.append(best_score)\n",
    "        adj_fold_scores.append(adj_fold_score)\n",
    "\n",
    "    # Calculate the average score across all folds\n",
    "    average_score = np.mean(fold_scores)\n",
    "    average_adj_score = np.mean(adj_fold_scores)\n",
    "\n",
    "    # Get average stocks chosen over all folds\n",
    "    average_selected_features = np.mean(num_stocks)\n",
    "\n",
    "    # Print the tracking error for this alpha\n",
    "    print(f\"Alpha: {alpha}, Average Tracking Error: {average_score}\")\n",
    "    return stocks, average_selected_features, average_score, average_adj_score"
   ]
  },
  {
   "cell_type": "code",
   "execution_count": 16,
   "id": "d6b5079c",
   "metadata": {
    "collapsed": true,
    "execution": {
     "iopub.execute_input": "2024-12-02T21:19:32.670149Z",
     "iopub.status.busy": "2024-12-02T21:19:32.669156Z",
     "iopub.status.idle": "2024-12-02T21:19:32.678166Z",
     "shell.execute_reply": "2024-12-02T21:19:32.677154Z"
    },
    "jupyter": {
     "outputs_hidden": true
    },
    "papermill": {
     "duration": 0.01946,
     "end_time": "2024-12-02T21:19:32.680474",
     "exception": false,
     "start_time": "2024-12-02T21:19:32.661014",
     "status": "completed"
    },
    "tags": []
   },
   "outputs": [],
   "source": [
    "def Lasso_Lasso_plot(X,y):\n",
    "    alphas = [0.001, 0.002, 0.003, 0.004, 0.005, 0.006, 0.007, 0.008, 0.009]\n",
    "    tracking_errors = []\n",
    "    adj_tracking_errors = []\n",
    "    num_stocks_list = []\n",
    "    \n",
    "    for alpha in alphas:\n",
    "        print(f\"----------Starting alpha {alpha}-------------\")\n",
    "        _, num_stocks, tracking_err, adj_tracking_err = Lasso_Lasso(alpha, X, y)\n",
    "        num_stocks_list.append(num_stocks)\n",
    "        tracking_errors.append(tracking_err)\n",
    "        adj_tracking_errors.append(adj_tracking_err)\n",
    "    \n",
    "    # Plotting the results\n",
    "    fig, ax1 = plt.subplots()\n",
    "    \n",
    "    # Plotting number of stocks on the primary y-axis\n",
    "    color = 'tab:blue'    \n",
    "    ax1.set_xlabel('Alpha')\n",
    "    ax1.set_ylabel('Number of Stocks', color=color)    \n",
    "    ax1.plot(alphas, num_stocks_list, color=color, marker='o', label='Number of Stocks')\n",
    "    ax1.tick_params(axis='y', labelcolor=color)\n",
    "    \n",
    "    # Creating a second y-axis for tracking error\n",
    "    ax2 = ax1.twinx()\n",
    "    color = 'tab:red'\n",
    "    ax2.set_ylabel('Tracking Error', color=color)\n",
    "    #ax2.plot(alphas, tracking_errors, color='tab:green', marker='o', linestyle='--', label='Tracking Error')\n",
    "    ax2.plot(alphas, adj_tracking_errors, color=color, marker='x', linestyle='--', label='Adjusted Tracking Error')\n",
    "    ax2.tick_params(axis='y', labelcolor=color)\n",
    "    \n",
    "    # Adding a title and legend\n",
    "    plt.title('Number of Stocks and Tracking Error vs. Alpha')    \n",
    "    fig.tight_layout()  # Adjust layout to prevent overlap\n",
    "    plt.save_fig('Lasso-Lasso.png')\n",
    "    plt.show()"
   ]
  },
  {
   "cell_type": "markdown",
   "id": "9632c4d0",
   "metadata": {
    "papermill": {
     "duration": 0.006288,
     "end_time": "2024-12-02T21:19:32.693913",
     "exception": false,
     "start_time": "2024-12-02T21:19:32.687625",
     "status": "completed"
    },
    "tags": []
   },
   "source": [
    "### Mutual Info - Lasso\n",
    "\n",
    "Using mutual information between variables, which measures the dependency between them, 0 value being independence. By getting the mutual information between the features (stocks) and the target (NIFTY 100) we can \"discard\" the variables with lower dependencies. After feature selection, we traing a Lasso model with CV."
   ]
  },
  {
   "cell_type": "code",
   "execution_count": 17,
   "id": "c359a130",
   "metadata": {
    "collapsed": true,
    "execution": {
     "iopub.execute_input": "2024-12-02T21:19:32.709240Z",
     "iopub.status.busy": "2024-12-02T21:19:32.708327Z",
     "iopub.status.idle": "2024-12-02T21:19:32.719691Z",
     "shell.execute_reply": "2024-12-02T21:19:32.718491Z"
    },
    "jupyter": {
     "outputs_hidden": true
    },
    "papermill": {
     "duration": 0.021414,
     "end_time": "2024-12-02T21:19:32.721886",
     "exception": false,
     "start_time": "2024-12-02T21:19:32.700472",
     "status": "completed"
    },
    "tags": []
   },
   "outputs": [],
   "source": [
    "from sklearn.preprocessing import StandardScaler\n",
    "\n",
    "\n",
    "\n",
    "def MI_Experiment(percentile, X, y, model_class, params):\n",
    "    tscv = TimeSeriesSplit(n_splits=18, max_train_size=85000, test_size=30000)\n",
    "    stocks = []\n",
    "    num_stocks = []\n",
    "    fold_scores = []\n",
    "    adj_fold_scores = []\n",
    "\n",
    "    for train_index, test_index in tscv.split(X):\n",
    "        X_train_cv, X_test_cv = X.iloc[train_index], X.iloc[test_index]\n",
    "        y_train_cv, y_test_cv = y.iloc[train_index], y.iloc[test_index]\n",
    "        scaler = StandardScaler()\n",
    "        X_scaled = scaler.fit_transform(X_train_cv)\n",
    "\n",
    "        # Feature selection with alpha from list\n",
    "        mi_scores = mutual_info_regression(X_train_cv, y_train_cv)\n",
    "        mi_scores_series = pd.Series(mi_scores, index=X_train_cv.columns)\n",
    "\n",
    "        threshold_value = mi_scores_series.quantile(percentile)        \n",
    "\n",
    "        selected_features = mi_scores_series[mi_scores_series > threshold_value].index\n",
    "        selected_indices = [X_train_cv.columns.get_loc(feature) for feature in selected_features]\n",
    "\n",
    "        # Filter the NumPy arrays based on the selected feature indices\n",
    "        X_train_selected = X_scaled[:, selected_indices]\n",
    "        X_test_selected = X_test_cv.to_numpy()[:, selected_indices]\n",
    "\n",
    "        print(f\"Selected {len(selected_features)} stocks\")\n",
    "        num_stocks.append(len(selected_features))\n",
    "        stocks.append(selected_features)\n",
    "\n",
    "        best_params = None\n",
    "        best_score = float('inf')  # Assuming lower is better for your metric\n",
    "        best_adj_score = float('inf')\n",
    "        for param in ParameterGrid(params):\n",
    "            print(f\"Trying combination {param}\")\n",
    "            model = model_class(**param)\n",
    "            model.fit(X_train_selected, y_train_cv)\n",
    "\n",
    "            y_pred = model.predict(X_test_selected)\n",
    "            fold_score = tracking_error(y_test_cv.values, y_pred)\n",
    "            adj_fold_score = adj_tracking_error(y_test_cv.values, X_test_selected, model)\n",
    "            # print(f\"Alpha: {alpha}, Fold Score: {fold_score}\")\n",
    "\n",
    "            if adj_fold_score < best_adj_score:\n",
    "                best_score = fold_score\n",
    "                best_adj_score = adj_fold_score\n",
    "                best_params = param\n",
    "\n",
    "        print(f\"Best Params for this fold: {best_params}, Best Fold Score: {best_score}\")\n",
    "        fold_scores.append(best_score)\n",
    "        adj_fold_scores.append(best_adj_score)\n",
    "\n",
    "    # Calculate the average score across all folds\n",
    "    average_score = np.mean(fold_scores)\n",
    "    average_adj_score = np.mean(adj_fold_scores)\n",
    "\n",
    "    # Get average stocks chosen over all folds\n",
    "    average_selected_features = np.mean(num_stocks)\n",
    "\n",
    "    # Print the tracking error for this alpha\n",
    "    print(f\"Percentile: {percentile}, Tracking Error: {average_score}, Adj Tracking Error: {average_adj_score}\")\n",
    "    return stocks, average_selected_features, average_score, average_adj_score"
   ]
  },
  {
   "cell_type": "code",
   "execution_count": 18,
   "id": "dfac67d8",
   "metadata": {
    "collapsed": true,
    "execution": {
     "iopub.execute_input": "2024-12-02T21:19:32.737160Z",
     "iopub.status.busy": "2024-12-02T21:19:32.736810Z",
     "iopub.status.idle": "2024-12-02T21:19:32.744713Z",
     "shell.execute_reply": "2024-12-02T21:19:32.743501Z"
    },
    "jupyter": {
     "outputs_hidden": true
    },
    "papermill": {
     "duration": 0.018037,
     "end_time": "2024-12-02T21:19:32.746836",
     "exception": false,
     "start_time": "2024-12-02T21:19:32.728799",
     "status": "completed"
    },
    "tags": []
   },
   "outputs": [],
   "source": [
    "def MI_Lasso_plot(X,y):\n",
    "    tracking_errors = []\n",
    "    adj_tracking_errors = []\n",
    "    num_stocks_list = []\n",
    "    \n",
    "    percentiles = [0.0, 0.1, 0.2, 0.3, 0.4, 0.5, 0.6]\n",
    "    param_grid = {\n",
    "        'alpha': [0.0001, 0.00025, 0.0005, 0.00075, 0.001, 0.002, 0.0025],\n",
    "        'max_iter': [15000]\n",
    "    }\n",
    "    \n",
    "    for percentile in percentiles:\n",
    "        print(f\"Starting percentile: {percentile}\")\n",
    "        _, num_stocks, tracking_err, adj_tracking_err = MI_Experiment(percentile, X, y, Lasso, param_grid)\n",
    "        num_stocks_list.append(num_stocks)\n",
    "        tracking_errors.append(tracking_err)\n",
    "        adj_tracking_errors.append(adj_tracking_err)\n",
    "    \n",
    "    # Plotting the results\n",
    "    fig, ax1 = plt.subplots()\n",
    "    \n",
    "    # Plotting number of stocks on the primary y-axis\n",
    "    plt.plot(num_stocks_list, adj_tracking_errors, marker='x')\n",
    "    plt.xlabel('Number of Stocks')\n",
    "    plt.ylabel('Tracking Error')\n",
    "    plt.title('Lasso - Tracking Errors vs Number of Stocks')\n",
    "    plt.grid(True)\n",
    "    plt.savefig(\"MI-Lasso.png\")\n",
    "    plt.show()"
   ]
  },
  {
   "cell_type": "markdown",
   "id": "ded1fc49",
   "metadata": {
    "papermill": {
     "duration": 0.006708,
     "end_time": "2024-12-02T21:19:32.760393",
     "exception": false,
     "start_time": "2024-12-02T21:19:32.753685",
     "status": "completed"
    },
    "tags": []
   },
   "source": [
    "### MI - Linear Regression"
   ]
  },
  {
   "cell_type": "code",
   "execution_count": 19,
   "id": "d36ecca5",
   "metadata": {
    "collapsed": true,
    "execution": {
     "iopub.execute_input": "2024-12-02T21:19:32.775435Z",
     "iopub.status.busy": "2024-12-02T21:19:32.775034Z",
     "iopub.status.idle": "2024-12-02T21:19:32.782811Z",
     "shell.execute_reply": "2024-12-02T21:19:32.781739Z"
    },
    "jupyter": {
     "outputs_hidden": true
    },
    "papermill": {
     "duration": 0.017832,
     "end_time": "2024-12-02T21:19:32.784899",
     "exception": false,
     "start_time": "2024-12-02T21:19:32.767067",
     "status": "completed"
    },
    "tags": []
   },
   "outputs": [],
   "source": [
    "def MI_ElasticNet_plot(X,y):\n",
    "    tracking_errors = []\n",
    "    adj_tracking_errors = []\n",
    "    num_stocks_list = []\n",
    "    \n",
    "    percentiles = [0.0, 0.1, 0.2, 0.3, 0.4, 0.5, 0.6]\n",
    "    param_grid = {\n",
    "        'alpha': [0.0001, 0.00025, 0.0005, 0.00075, 0.001, 0.002, 0.0025],\n",
    "        'l1_ratio': [0.1, 0.5, 0.7, 0.9]\n",
    "    }\n",
    "    \n",
    "    for percentile in percentiles:\n",
    "        print(f\"Starting percentile: {percentile}\")\n",
    "        _, num_stocks, tracking_err, adj_tracking_err = MI_Experiment(percentile, X, y, ElasticNet, param_grid)\n",
    "        num_stocks_list.append(num_stocks)\n",
    "        tracking_errors.append(tracking_err)\n",
    "        adj_tracking_errors.append(adj_tracking_err)\n",
    "    \n",
    "    # Plotting the results\n",
    "    fig, ax1 = plt.subplots()\n",
    "    \n",
    "    # Plotting number of stocks on the primary y-axis\n",
    "    plt.plot(num_stocks_list, adj_tracking_errors, marker='x')\n",
    "    plt.xlabel('Number of Stocks')\n",
    "    plt.ylabel('Tracking Error')\n",
    "    plt.title('ElasticNet - Tracking Errors vs Number of Stocks ')\n",
    "    plt.grid(True)\n",
    "    plt.savefig(\"MI-ElasticNet.png\")\n",
    "    plt.show()"
   ]
  },
  {
   "cell_type": "markdown",
   "id": "fb37802a",
   "metadata": {
    "execution": {
     "iopub.execute_input": "2024-11-12T21:50:37.572889Z",
     "iopub.status.busy": "2024-11-12T21:50:37.570440Z"
    },
    "papermill": {
     "duration": 0.00625,
     "end_time": "2024-12-02T21:19:32.798016",
     "exception": false,
     "start_time": "2024-12-02T21:19:32.791766",
     "status": "completed"
    },
    "tags": []
   },
   "source": [
    "TODO: Theil-Sein Linear Regression"
   ]
  },
  {
   "cell_type": "code",
   "execution_count": 20,
   "id": "632f3bed",
   "metadata": {
    "collapsed": true,
    "execution": {
     "iopub.execute_input": "2024-12-02T21:19:32.813353Z",
     "iopub.status.busy": "2024-12-02T21:19:32.812946Z",
     "iopub.status.idle": "2024-12-02T21:19:32.821358Z",
     "shell.execute_reply": "2024-12-02T21:19:32.820207Z"
    },
    "jupyter": {
     "outputs_hidden": true
    },
    "papermill": {
     "duration": 0.018683,
     "end_time": "2024-12-02T21:19:32.823358",
     "exception": false,
     "start_time": "2024-12-02T21:19:32.804675",
     "status": "completed"
    },
    "tags": []
   },
   "outputs": [],
   "source": [
    "def MI_RF_plot(X,y):\n",
    "    tracking_errors = []\n",
    "    adj_tracking_errors = []\n",
    "    num_stocks_list = []\n",
    "    \n",
    "    percentiles = [0.4, 0.5, 0.6, 0.7]\n",
    "    param_grid = {\n",
    "        'n_estimators': [20, 30, 40],       # Number of trees in the forest\n",
    "        'max_depth': [10, 20],      # Maximum depth of the tree\n",
    "        'max_samples': [0.6],\n",
    "        'bootstrap': [True],\n",
    "        'n_jobs': [-1],\n",
    "        'max_features': ['sqrt']\n",
    "    }\n",
    "    \n",
    "    for percentile in percentiles:\n",
    "        print(f\"Starting percentile: {percentile}\")\n",
    "        _, num_stocks, tracking_err, adj_tracking_err = MI_Experiment(percentile, X, y, RandomForestRegressor, param_grid)\n",
    "        num_stocks_list.append(num_stocks)\n",
    "        tracking_errors.append(tracking_err)\n",
    "        adj_tracking_errors.append(adj_tracking_err)\n",
    "    \n",
    "    # Plotting the results\n",
    "    fig, ax1 = plt.subplots()\n",
    "    \n",
    "    # Plotting number of stocks on the primary y-axis\n",
    "    plt.plot(num_stocks_list, adj_tracking_errors, marker='x')\n",
    "    plt.xlabel('Number of Stocks')\n",
    "    plt.ylabel('Tracking Error')\n",
    "    plt.title('RandomForestRegressor - Tracking Errors vs Number of Stocks ')\n",
    "    plt.grid(True)\n",
    "    plt.savefig(\"MI-RandomForestRegressor.png\")\n",
    "    plt.show()"
   ]
  },
  {
   "cell_type": "code",
   "execution_count": 21,
   "id": "afc3926a",
   "metadata": {
    "collapsed": true,
    "execution": {
     "iopub.execute_input": "2024-12-02T21:19:32.838209Z",
     "iopub.status.busy": "2024-12-02T21:19:32.837851Z",
     "iopub.status.idle": "2024-12-02T21:19:35.197158Z",
     "shell.execute_reply": "2024-12-02T21:19:35.196308Z"
    },
    "jupyter": {
     "outputs_hidden": true
    },
    "papermill": {
     "duration": 2.36944,
     "end_time": "2024-12-02T21:19:35.199406",
     "exception": false,
     "start_time": "2024-12-02T21:19:32.829966",
     "status": "completed"
    },
    "tags": []
   },
   "outputs": [],
   "source": [
    "df_total_z = df_total.replace(0, np.nan)  # Convert zeroes back to NaNs\n",
    "df_total_returns = df_total_z.pct_change().dropna()\n",
    "df_total_returns = 100*df_total_returns\n",
    "X = df_total_returns.drop(columns=['NIFTY 50', 'NIFTY BANK', 'NIFTY_100'])\n",
    "y = df_total_returns['NIFTY_100']"
   ]
  },
  {
   "cell_type": "code",
   "execution_count": 22,
   "id": "17ef1f2e",
   "metadata": {
    "execution": {
     "iopub.execute_input": "2024-12-02T21:19:35.214511Z",
     "iopub.status.busy": "2024-12-02T21:19:35.214111Z",
     "iopub.status.idle": "2024-12-02T22:59:27.148329Z",
     "shell.execute_reply": "2024-12-02T22:59:27.147050Z"
    },
    "papermill": {
     "duration": 5991.944521,
     "end_time": "2024-12-02T22:59:27.150622",
     "exception": false,
     "start_time": "2024-12-02T21:19:35.206101",
     "status": "completed"
    },
    "tags": []
   },
   "outputs": [
    {
     "name": "stdout",
     "output_type": "stream",
     "text": [
      "Starting percentile: 0.4\n",
      "Selected 51 stocks\n",
      "Trying combination {'bootstrap': True, 'max_depth': 10, 'max_features': 'sqrt', 'max_samples': 0.6, 'n_estimators': 20, 'n_jobs': -1}\n",
      "Trying combination {'bootstrap': True, 'max_depth': 10, 'max_features': 'sqrt', 'max_samples': 0.6, 'n_estimators': 30, 'n_jobs': -1}\n",
      "Trying combination {'bootstrap': True, 'max_depth': 10, 'max_features': 'sqrt', 'max_samples': 0.6, 'n_estimators': 40, 'n_jobs': -1}\n",
      "Trying combination {'bootstrap': True, 'max_depth': 20, 'max_features': 'sqrt', 'max_samples': 0.6, 'n_estimators': 20, 'n_jobs': -1}\n",
      "Trying combination {'bootstrap': True, 'max_depth': 20, 'max_features': 'sqrt', 'max_samples': 0.6, 'n_estimators': 30, 'n_jobs': -1}\n",
      "Trying combination {'bootstrap': True, 'max_depth': 20, 'max_features': 'sqrt', 'max_samples': 0.6, 'n_estimators': 40, 'n_jobs': -1}\n",
      "Best Params for this fold: {'bootstrap': True, 'max_depth': 20, 'max_features': 'sqrt', 'max_samples': 0.6, 'n_estimators': 40, 'n_jobs': -1}, Best Fold Score: 0.038745594772171384\n",
      "Selected 51 stocks\n",
      "Trying combination {'bootstrap': True, 'max_depth': 10, 'max_features': 'sqrt', 'max_samples': 0.6, 'n_estimators': 20, 'n_jobs': -1}\n",
      "Trying combination {'bootstrap': True, 'max_depth': 10, 'max_features': 'sqrt', 'max_samples': 0.6, 'n_estimators': 30, 'n_jobs': -1}\n",
      "Trying combination {'bootstrap': True, 'max_depth': 10, 'max_features': 'sqrt', 'max_samples': 0.6, 'n_estimators': 40, 'n_jobs': -1}\n",
      "Trying combination {'bootstrap': True, 'max_depth': 20, 'max_features': 'sqrt', 'max_samples': 0.6, 'n_estimators': 20, 'n_jobs': -1}\n",
      "Trying combination {'bootstrap': True, 'max_depth': 20, 'max_features': 'sqrt', 'max_samples': 0.6, 'n_estimators': 30, 'n_jobs': -1}\n",
      "Trying combination {'bootstrap': True, 'max_depth': 20, 'max_features': 'sqrt', 'max_samples': 0.6, 'n_estimators': 40, 'n_jobs': -1}\n",
      "Best Params for this fold: {'bootstrap': True, 'max_depth': 20, 'max_features': 'sqrt', 'max_samples': 0.6, 'n_estimators': 40, 'n_jobs': -1}, Best Fold Score: 0.05160949000854547\n",
      "Selected 51 stocks\n",
      "Trying combination {'bootstrap': True, 'max_depth': 10, 'max_features': 'sqrt', 'max_samples': 0.6, 'n_estimators': 20, 'n_jobs': -1}\n",
      "Trying combination {'bootstrap': True, 'max_depth': 10, 'max_features': 'sqrt', 'max_samples': 0.6, 'n_estimators': 30, 'n_jobs': -1}\n",
      "Trying combination {'bootstrap': True, 'max_depth': 10, 'max_features': 'sqrt', 'max_samples': 0.6, 'n_estimators': 40, 'n_jobs': -1}\n",
      "Trying combination {'bootstrap': True, 'max_depth': 20, 'max_features': 'sqrt', 'max_samples': 0.6, 'n_estimators': 20, 'n_jobs': -1}\n",
      "Trying combination {'bootstrap': True, 'max_depth': 20, 'max_features': 'sqrt', 'max_samples': 0.6, 'n_estimators': 30, 'n_jobs': -1}\n",
      "Trying combination {'bootstrap': True, 'max_depth': 20, 'max_features': 'sqrt', 'max_samples': 0.6, 'n_estimators': 40, 'n_jobs': -1}\n",
      "Best Params for this fold: {'bootstrap': True, 'max_depth': 20, 'max_features': 'sqrt', 'max_samples': 0.6, 'n_estimators': 20, 'n_jobs': -1}, Best Fold Score: 0.02921874350591746\n",
      "Selected 51 stocks\n",
      "Trying combination {'bootstrap': True, 'max_depth': 10, 'max_features': 'sqrt', 'max_samples': 0.6, 'n_estimators': 20, 'n_jobs': -1}\n",
      "Trying combination {'bootstrap': True, 'max_depth': 10, 'max_features': 'sqrt', 'max_samples': 0.6, 'n_estimators': 30, 'n_jobs': -1}\n",
      "Trying combination {'bootstrap': True, 'max_depth': 10, 'max_features': 'sqrt', 'max_samples': 0.6, 'n_estimators': 40, 'n_jobs': -1}\n",
      "Trying combination {'bootstrap': True, 'max_depth': 20, 'max_features': 'sqrt', 'max_samples': 0.6, 'n_estimators': 20, 'n_jobs': -1}\n",
      "Trying combination {'bootstrap': True, 'max_depth': 20, 'max_features': 'sqrt', 'max_samples': 0.6, 'n_estimators': 30, 'n_jobs': -1}\n",
      "Trying combination {'bootstrap': True, 'max_depth': 20, 'max_features': 'sqrt', 'max_samples': 0.6, 'n_estimators': 40, 'n_jobs': -1}\n",
      "Best Params for this fold: {'bootstrap': True, 'max_depth': 20, 'max_features': 'sqrt', 'max_samples': 0.6, 'n_estimators': 20, 'n_jobs': -1}, Best Fold Score: 0.02792758708985608\n",
      "Selected 51 stocks\n",
      "Trying combination {'bootstrap': True, 'max_depth': 10, 'max_features': 'sqrt', 'max_samples': 0.6, 'n_estimators': 20, 'n_jobs': -1}\n",
      "Trying combination {'bootstrap': True, 'max_depth': 10, 'max_features': 'sqrt', 'max_samples': 0.6, 'n_estimators': 30, 'n_jobs': -1}\n",
      "Trying combination {'bootstrap': True, 'max_depth': 10, 'max_features': 'sqrt', 'max_samples': 0.6, 'n_estimators': 40, 'n_jobs': -1}\n",
      "Trying combination {'bootstrap': True, 'max_depth': 20, 'max_features': 'sqrt', 'max_samples': 0.6, 'n_estimators': 20, 'n_jobs': -1}\n",
      "Trying combination {'bootstrap': True, 'max_depth': 20, 'max_features': 'sqrt', 'max_samples': 0.6, 'n_estimators': 30, 'n_jobs': -1}\n",
      "Trying combination {'bootstrap': True, 'max_depth': 20, 'max_features': 'sqrt', 'max_samples': 0.6, 'n_estimators': 40, 'n_jobs': -1}\n",
      "Best Params for this fold: {'bootstrap': True, 'max_depth': 20, 'max_features': 'sqrt', 'max_samples': 0.6, 'n_estimators': 40, 'n_jobs': -1}, Best Fold Score: 0.03152082654814385\n",
      "Selected 51 stocks\n",
      "Trying combination {'bootstrap': True, 'max_depth': 10, 'max_features': 'sqrt', 'max_samples': 0.6, 'n_estimators': 20, 'n_jobs': -1}\n",
      "Trying combination {'bootstrap': True, 'max_depth': 10, 'max_features': 'sqrt', 'max_samples': 0.6, 'n_estimators': 30, 'n_jobs': -1}\n",
      "Trying combination {'bootstrap': True, 'max_depth': 10, 'max_features': 'sqrt', 'max_samples': 0.6, 'n_estimators': 40, 'n_jobs': -1}\n",
      "Trying combination {'bootstrap': True, 'max_depth': 20, 'max_features': 'sqrt', 'max_samples': 0.6, 'n_estimators': 20, 'n_jobs': -1}\n",
      "Trying combination {'bootstrap': True, 'max_depth': 20, 'max_features': 'sqrt', 'max_samples': 0.6, 'n_estimators': 30, 'n_jobs': -1}\n",
      "Trying combination {'bootstrap': True, 'max_depth': 20, 'max_features': 'sqrt', 'max_samples': 0.6, 'n_estimators': 40, 'n_jobs': -1}\n",
      "Best Params for this fold: {'bootstrap': True, 'max_depth': 20, 'max_features': 'sqrt', 'max_samples': 0.6, 'n_estimators': 20, 'n_jobs': -1}, Best Fold Score: 0.042264280571844476\n",
      "Selected 51 stocks\n",
      "Trying combination {'bootstrap': True, 'max_depth': 10, 'max_features': 'sqrt', 'max_samples': 0.6, 'n_estimators': 20, 'n_jobs': -1}\n",
      "Trying combination {'bootstrap': True, 'max_depth': 10, 'max_features': 'sqrt', 'max_samples': 0.6, 'n_estimators': 30, 'n_jobs': -1}\n",
      "Trying combination {'bootstrap': True, 'max_depth': 10, 'max_features': 'sqrt', 'max_samples': 0.6, 'n_estimators': 40, 'n_jobs': -1}\n",
      "Trying combination {'bootstrap': True, 'max_depth': 20, 'max_features': 'sqrt', 'max_samples': 0.6, 'n_estimators': 20, 'n_jobs': -1}\n",
      "Trying combination {'bootstrap': True, 'max_depth': 20, 'max_features': 'sqrt', 'max_samples': 0.6, 'n_estimators': 30, 'n_jobs': -1}\n",
      "Trying combination {'bootstrap': True, 'max_depth': 20, 'max_features': 'sqrt', 'max_samples': 0.6, 'n_estimators': 40, 'n_jobs': -1}\n",
      "Best Params for this fold: {'bootstrap': True, 'max_depth': 20, 'max_features': 'sqrt', 'max_samples': 0.6, 'n_estimators': 30, 'n_jobs': -1}, Best Fold Score: 0.032677023999418\n",
      "Selected 51 stocks\n",
      "Trying combination {'bootstrap': True, 'max_depth': 10, 'max_features': 'sqrt', 'max_samples': 0.6, 'n_estimators': 20, 'n_jobs': -1}\n",
      "Trying combination {'bootstrap': True, 'max_depth': 10, 'max_features': 'sqrt', 'max_samples': 0.6, 'n_estimators': 30, 'n_jobs': -1}\n",
      "Trying combination {'bootstrap': True, 'max_depth': 10, 'max_features': 'sqrt', 'max_samples': 0.6, 'n_estimators': 40, 'n_jobs': -1}\n",
      "Trying combination {'bootstrap': True, 'max_depth': 20, 'max_features': 'sqrt', 'max_samples': 0.6, 'n_estimators': 20, 'n_jobs': -1}\n",
      "Trying combination {'bootstrap': True, 'max_depth': 20, 'max_features': 'sqrt', 'max_samples': 0.6, 'n_estimators': 30, 'n_jobs': -1}\n",
      "Trying combination {'bootstrap': True, 'max_depth': 20, 'max_features': 'sqrt', 'max_samples': 0.6, 'n_estimators': 40, 'n_jobs': -1}\n",
      "Best Params for this fold: {'bootstrap': True, 'max_depth': 20, 'max_features': 'sqrt', 'max_samples': 0.6, 'n_estimators': 40, 'n_jobs': -1}, Best Fold Score: 0.05067306616068612\n",
      "Selected 51 stocks\n",
      "Trying combination {'bootstrap': True, 'max_depth': 10, 'max_features': 'sqrt', 'max_samples': 0.6, 'n_estimators': 20, 'n_jobs': -1}\n",
      "Trying combination {'bootstrap': True, 'max_depth': 10, 'max_features': 'sqrt', 'max_samples': 0.6, 'n_estimators': 30, 'n_jobs': -1}\n",
      "Trying combination {'bootstrap': True, 'max_depth': 10, 'max_features': 'sqrt', 'max_samples': 0.6, 'n_estimators': 40, 'n_jobs': -1}\n",
      "Trying combination {'bootstrap': True, 'max_depth': 20, 'max_features': 'sqrt', 'max_samples': 0.6, 'n_estimators': 20, 'n_jobs': -1}\n",
      "Trying combination {'bootstrap': True, 'max_depth': 20, 'max_features': 'sqrt', 'max_samples': 0.6, 'n_estimators': 30, 'n_jobs': -1}\n",
      "Trying combination {'bootstrap': True, 'max_depth': 20, 'max_features': 'sqrt', 'max_samples': 0.6, 'n_estimators': 40, 'n_jobs': -1}\n",
      "Best Params for this fold: {'bootstrap': True, 'max_depth': 20, 'max_features': 'sqrt', 'max_samples': 0.6, 'n_estimators': 40, 'n_jobs': -1}, Best Fold Score: 0.039505859478318084\n",
      "Selected 51 stocks\n",
      "Trying combination {'bootstrap': True, 'max_depth': 10, 'max_features': 'sqrt', 'max_samples': 0.6, 'n_estimators': 20, 'n_jobs': -1}\n",
      "Trying combination {'bootstrap': True, 'max_depth': 10, 'max_features': 'sqrt', 'max_samples': 0.6, 'n_estimators': 30, 'n_jobs': -1}\n",
      "Trying combination {'bootstrap': True, 'max_depth': 10, 'max_features': 'sqrt', 'max_samples': 0.6, 'n_estimators': 40, 'n_jobs': -1}\n",
      "Trying combination {'bootstrap': True, 'max_depth': 20, 'max_features': 'sqrt', 'max_samples': 0.6, 'n_estimators': 20, 'n_jobs': -1}\n",
      "Trying combination {'bootstrap': True, 'max_depth': 20, 'max_features': 'sqrt', 'max_samples': 0.6, 'n_estimators': 30, 'n_jobs': -1}\n",
      "Trying combination {'bootstrap': True, 'max_depth': 20, 'max_features': 'sqrt', 'max_samples': 0.6, 'n_estimators': 40, 'n_jobs': -1}\n",
      "Best Params for this fold: {'bootstrap': True, 'max_depth': 20, 'max_features': 'sqrt', 'max_samples': 0.6, 'n_estimators': 40, 'n_jobs': -1}, Best Fold Score: 0.045639938047514\n",
      "Selected 51 stocks\n",
      "Trying combination {'bootstrap': True, 'max_depth': 10, 'max_features': 'sqrt', 'max_samples': 0.6, 'n_estimators': 20, 'n_jobs': -1}\n",
      "Trying combination {'bootstrap': True, 'max_depth': 10, 'max_features': 'sqrt', 'max_samples': 0.6, 'n_estimators': 30, 'n_jobs': -1}\n",
      "Trying combination {'bootstrap': True, 'max_depth': 10, 'max_features': 'sqrt', 'max_samples': 0.6, 'n_estimators': 40, 'n_jobs': -1}\n",
      "Trying combination {'bootstrap': True, 'max_depth': 20, 'max_features': 'sqrt', 'max_samples': 0.6, 'n_estimators': 20, 'n_jobs': -1}\n",
      "Trying combination {'bootstrap': True, 'max_depth': 20, 'max_features': 'sqrt', 'max_samples': 0.6, 'n_estimators': 30, 'n_jobs': -1}\n",
      "Trying combination {'bootstrap': True, 'max_depth': 20, 'max_features': 'sqrt', 'max_samples': 0.6, 'n_estimators': 40, 'n_jobs': -1}\n",
      "Best Params for this fold: {'bootstrap': True, 'max_depth': 20, 'max_features': 'sqrt', 'max_samples': 0.6, 'n_estimators': 40, 'n_jobs': -1}, Best Fold Score: 0.1347727118643525\n",
      "Selected 51 stocks\n",
      "Trying combination {'bootstrap': True, 'max_depth': 10, 'max_features': 'sqrt', 'max_samples': 0.6, 'n_estimators': 20, 'n_jobs': -1}\n",
      "Trying combination {'bootstrap': True, 'max_depth': 10, 'max_features': 'sqrt', 'max_samples': 0.6, 'n_estimators': 30, 'n_jobs': -1}\n",
      "Trying combination {'bootstrap': True, 'max_depth': 10, 'max_features': 'sqrt', 'max_samples': 0.6, 'n_estimators': 40, 'n_jobs': -1}\n",
      "Trying combination {'bootstrap': True, 'max_depth': 20, 'max_features': 'sqrt', 'max_samples': 0.6, 'n_estimators': 20, 'n_jobs': -1}\n",
      "Trying combination {'bootstrap': True, 'max_depth': 20, 'max_features': 'sqrt', 'max_samples': 0.6, 'n_estimators': 30, 'n_jobs': -1}\n",
      "Trying combination {'bootstrap': True, 'max_depth': 20, 'max_features': 'sqrt', 'max_samples': 0.6, 'n_estimators': 40, 'n_jobs': -1}\n",
      "Best Params for this fold: {'bootstrap': True, 'max_depth': 20, 'max_features': 'sqrt', 'max_samples': 0.6, 'n_estimators': 40, 'n_jobs': -1}, Best Fold Score: 0.06068647556523991\n",
      "Selected 51 stocks\n",
      "Trying combination {'bootstrap': True, 'max_depth': 10, 'max_features': 'sqrt', 'max_samples': 0.6, 'n_estimators': 20, 'n_jobs': -1}\n",
      "Trying combination {'bootstrap': True, 'max_depth': 10, 'max_features': 'sqrt', 'max_samples': 0.6, 'n_estimators': 30, 'n_jobs': -1}\n",
      "Trying combination {'bootstrap': True, 'max_depth': 10, 'max_features': 'sqrt', 'max_samples': 0.6, 'n_estimators': 40, 'n_jobs': -1}\n",
      "Trying combination {'bootstrap': True, 'max_depth': 20, 'max_features': 'sqrt', 'max_samples': 0.6, 'n_estimators': 20, 'n_jobs': -1}\n",
      "Trying combination {'bootstrap': True, 'max_depth': 20, 'max_features': 'sqrt', 'max_samples': 0.6, 'n_estimators': 30, 'n_jobs': -1}\n",
      "Trying combination {'bootstrap': True, 'max_depth': 20, 'max_features': 'sqrt', 'max_samples': 0.6, 'n_estimators': 40, 'n_jobs': -1}\n",
      "Best Params for this fold: {'bootstrap': True, 'max_depth': 20, 'max_features': 'sqrt', 'max_samples': 0.6, 'n_estimators': 20, 'n_jobs': -1}, Best Fold Score: 0.046581197104354224\n",
      "Selected 51 stocks\n",
      "Trying combination {'bootstrap': True, 'max_depth': 10, 'max_features': 'sqrt', 'max_samples': 0.6, 'n_estimators': 20, 'n_jobs': -1}\n",
      "Trying combination {'bootstrap': True, 'max_depth': 10, 'max_features': 'sqrt', 'max_samples': 0.6, 'n_estimators': 30, 'n_jobs': -1}\n",
      "Trying combination {'bootstrap': True, 'max_depth': 10, 'max_features': 'sqrt', 'max_samples': 0.6, 'n_estimators': 40, 'n_jobs': -1}\n",
      "Trying combination {'bootstrap': True, 'max_depth': 20, 'max_features': 'sqrt', 'max_samples': 0.6, 'n_estimators': 20, 'n_jobs': -1}\n",
      "Trying combination {'bootstrap': True, 'max_depth': 20, 'max_features': 'sqrt', 'max_samples': 0.6, 'n_estimators': 30, 'n_jobs': -1}\n",
      "Trying combination {'bootstrap': True, 'max_depth': 20, 'max_features': 'sqrt', 'max_samples': 0.6, 'n_estimators': 40, 'n_jobs': -1}\n",
      "Best Params for this fold: {'bootstrap': True, 'max_depth': 20, 'max_features': 'sqrt', 'max_samples': 0.6, 'n_estimators': 30, 'n_jobs': -1}, Best Fold Score: 0.05192013925103099\n",
      "Selected 51 stocks\n",
      "Trying combination {'bootstrap': True, 'max_depth': 10, 'max_features': 'sqrt', 'max_samples': 0.6, 'n_estimators': 20, 'n_jobs': -1}\n",
      "Trying combination {'bootstrap': True, 'max_depth': 10, 'max_features': 'sqrt', 'max_samples': 0.6, 'n_estimators': 30, 'n_jobs': -1}\n",
      "Trying combination {'bootstrap': True, 'max_depth': 10, 'max_features': 'sqrt', 'max_samples': 0.6, 'n_estimators': 40, 'n_jobs': -1}\n",
      "Trying combination {'bootstrap': True, 'max_depth': 20, 'max_features': 'sqrt', 'max_samples': 0.6, 'n_estimators': 20, 'n_jobs': -1}\n",
      "Trying combination {'bootstrap': True, 'max_depth': 20, 'max_features': 'sqrt', 'max_samples': 0.6, 'n_estimators': 30, 'n_jobs': -1}\n",
      "Trying combination {'bootstrap': True, 'max_depth': 20, 'max_features': 'sqrt', 'max_samples': 0.6, 'n_estimators': 40, 'n_jobs': -1}\n",
      "Best Params for this fold: {'bootstrap': True, 'max_depth': 20, 'max_features': 'sqrt', 'max_samples': 0.6, 'n_estimators': 40, 'n_jobs': -1}, Best Fold Score: 0.03151761536190617\n",
      "Selected 51 stocks\n",
      "Trying combination {'bootstrap': True, 'max_depth': 10, 'max_features': 'sqrt', 'max_samples': 0.6, 'n_estimators': 20, 'n_jobs': -1}\n",
      "Trying combination {'bootstrap': True, 'max_depth': 10, 'max_features': 'sqrt', 'max_samples': 0.6, 'n_estimators': 30, 'n_jobs': -1}\n",
      "Trying combination {'bootstrap': True, 'max_depth': 10, 'max_features': 'sqrt', 'max_samples': 0.6, 'n_estimators': 40, 'n_jobs': -1}\n",
      "Trying combination {'bootstrap': True, 'max_depth': 20, 'max_features': 'sqrt', 'max_samples': 0.6, 'n_estimators': 20, 'n_jobs': -1}\n",
      "Trying combination {'bootstrap': True, 'max_depth': 20, 'max_features': 'sqrt', 'max_samples': 0.6, 'n_estimators': 30, 'n_jobs': -1}\n",
      "Trying combination {'bootstrap': True, 'max_depth': 20, 'max_features': 'sqrt', 'max_samples': 0.6, 'n_estimators': 40, 'n_jobs': -1}\n",
      "Best Params for this fold: {'bootstrap': True, 'max_depth': 20, 'max_features': 'sqrt', 'max_samples': 0.6, 'n_estimators': 30, 'n_jobs': -1}, Best Fold Score: 0.046814078646254406\n",
      "Selected 51 stocks\n",
      "Trying combination {'bootstrap': True, 'max_depth': 10, 'max_features': 'sqrt', 'max_samples': 0.6, 'n_estimators': 20, 'n_jobs': -1}\n",
      "Trying combination {'bootstrap': True, 'max_depth': 10, 'max_features': 'sqrt', 'max_samples': 0.6, 'n_estimators': 30, 'n_jobs': -1}\n",
      "Trying combination {'bootstrap': True, 'max_depth': 10, 'max_features': 'sqrt', 'max_samples': 0.6, 'n_estimators': 40, 'n_jobs': -1}\n",
      "Trying combination {'bootstrap': True, 'max_depth': 20, 'max_features': 'sqrt', 'max_samples': 0.6, 'n_estimators': 20, 'n_jobs': -1}\n",
      "Trying combination {'bootstrap': True, 'max_depth': 20, 'max_features': 'sqrt', 'max_samples': 0.6, 'n_estimators': 30, 'n_jobs': -1}\n",
      "Trying combination {'bootstrap': True, 'max_depth': 20, 'max_features': 'sqrt', 'max_samples': 0.6, 'n_estimators': 40, 'n_jobs': -1}\n",
      "Best Params for this fold: {'bootstrap': True, 'max_depth': 20, 'max_features': 'sqrt', 'max_samples': 0.6, 'n_estimators': 20, 'n_jobs': -1}, Best Fold Score: 0.06160795189466973\n",
      "Selected 51 stocks\n",
      "Trying combination {'bootstrap': True, 'max_depth': 10, 'max_features': 'sqrt', 'max_samples': 0.6, 'n_estimators': 20, 'n_jobs': -1}\n",
      "Trying combination {'bootstrap': True, 'max_depth': 10, 'max_features': 'sqrt', 'max_samples': 0.6, 'n_estimators': 30, 'n_jobs': -1}\n",
      "Trying combination {'bootstrap': True, 'max_depth': 10, 'max_features': 'sqrt', 'max_samples': 0.6, 'n_estimators': 40, 'n_jobs': -1}\n",
      "Trying combination {'bootstrap': True, 'max_depth': 20, 'max_features': 'sqrt', 'max_samples': 0.6, 'n_estimators': 20, 'n_jobs': -1}\n",
      "Trying combination {'bootstrap': True, 'max_depth': 20, 'max_features': 'sqrt', 'max_samples': 0.6, 'n_estimators': 30, 'n_jobs': -1}\n",
      "Trying combination {'bootstrap': True, 'max_depth': 20, 'max_features': 'sqrt', 'max_samples': 0.6, 'n_estimators': 40, 'n_jobs': -1}\n",
      "Best Params for this fold: {'bootstrap': True, 'max_depth': 20, 'max_features': 'sqrt', 'max_samples': 0.6, 'n_estimators': 30, 'n_jobs': -1}, Best Fold Score: 0.04634490944951713\n",
      "Percentile: 0.4, Tracking Error: 0.048334860517763326, Adj Tracking Error: 0.048334860808727294\n",
      "Starting percentile: 0.5\n",
      "Selected 43 stocks\n",
      "Trying combination {'bootstrap': True, 'max_depth': 10, 'max_features': 'sqrt', 'max_samples': 0.6, 'n_estimators': 20, 'n_jobs': -1}\n",
      "Trying combination {'bootstrap': True, 'max_depth': 10, 'max_features': 'sqrt', 'max_samples': 0.6, 'n_estimators': 30, 'n_jobs': -1}\n",
      "Trying combination {'bootstrap': True, 'max_depth': 10, 'max_features': 'sqrt', 'max_samples': 0.6, 'n_estimators': 40, 'n_jobs': -1}\n",
      "Trying combination {'bootstrap': True, 'max_depth': 20, 'max_features': 'sqrt', 'max_samples': 0.6, 'n_estimators': 20, 'n_jobs': -1}\n",
      "Trying combination {'bootstrap': True, 'max_depth': 20, 'max_features': 'sqrt', 'max_samples': 0.6, 'n_estimators': 30, 'n_jobs': -1}\n",
      "Trying combination {'bootstrap': True, 'max_depth': 20, 'max_features': 'sqrt', 'max_samples': 0.6, 'n_estimators': 40, 'n_jobs': -1}\n",
      "Best Params for this fold: {'bootstrap': True, 'max_depth': 20, 'max_features': 'sqrt', 'max_samples': 0.6, 'n_estimators': 40, 'n_jobs': -1}, Best Fold Score: 0.03884499157180359\n",
      "Selected 43 stocks\n",
      "Trying combination {'bootstrap': True, 'max_depth': 10, 'max_features': 'sqrt', 'max_samples': 0.6, 'n_estimators': 20, 'n_jobs': -1}\n",
      "Trying combination {'bootstrap': True, 'max_depth': 10, 'max_features': 'sqrt', 'max_samples': 0.6, 'n_estimators': 30, 'n_jobs': -1}\n",
      "Trying combination {'bootstrap': True, 'max_depth': 10, 'max_features': 'sqrt', 'max_samples': 0.6, 'n_estimators': 40, 'n_jobs': -1}\n",
      "Trying combination {'bootstrap': True, 'max_depth': 20, 'max_features': 'sqrt', 'max_samples': 0.6, 'n_estimators': 20, 'n_jobs': -1}\n",
      "Trying combination {'bootstrap': True, 'max_depth': 20, 'max_features': 'sqrt', 'max_samples': 0.6, 'n_estimators': 30, 'n_jobs': -1}\n",
      "Trying combination {'bootstrap': True, 'max_depth': 20, 'max_features': 'sqrt', 'max_samples': 0.6, 'n_estimators': 40, 'n_jobs': -1}\n",
      "Best Params for this fold: {'bootstrap': True, 'max_depth': 20, 'max_features': 'sqrt', 'max_samples': 0.6, 'n_estimators': 40, 'n_jobs': -1}, Best Fold Score: 0.05180753008714817\n",
      "Selected 43 stocks\n",
      "Trying combination {'bootstrap': True, 'max_depth': 10, 'max_features': 'sqrt', 'max_samples': 0.6, 'n_estimators': 20, 'n_jobs': -1}\n",
      "Trying combination {'bootstrap': True, 'max_depth': 10, 'max_features': 'sqrt', 'max_samples': 0.6, 'n_estimators': 30, 'n_jobs': -1}\n",
      "Trying combination {'bootstrap': True, 'max_depth': 10, 'max_features': 'sqrt', 'max_samples': 0.6, 'n_estimators': 40, 'n_jobs': -1}\n",
      "Trying combination {'bootstrap': True, 'max_depth': 20, 'max_features': 'sqrt', 'max_samples': 0.6, 'n_estimators': 20, 'n_jobs': -1}\n",
      "Trying combination {'bootstrap': True, 'max_depth': 20, 'max_features': 'sqrt', 'max_samples': 0.6, 'n_estimators': 30, 'n_jobs': -1}\n",
      "Trying combination {'bootstrap': True, 'max_depth': 20, 'max_features': 'sqrt', 'max_samples': 0.6, 'n_estimators': 40, 'n_jobs': -1}\n",
      "Best Params for this fold: {'bootstrap': True, 'max_depth': 20, 'max_features': 'sqrt', 'max_samples': 0.6, 'n_estimators': 40, 'n_jobs': -1}, Best Fold Score: 0.029373880946816328\n",
      "Selected 43 stocks\n",
      "Trying combination {'bootstrap': True, 'max_depth': 10, 'max_features': 'sqrt', 'max_samples': 0.6, 'n_estimators': 20, 'n_jobs': -1}\n",
      "Trying combination {'bootstrap': True, 'max_depth': 10, 'max_features': 'sqrt', 'max_samples': 0.6, 'n_estimators': 30, 'n_jobs': -1}\n",
      "Trying combination {'bootstrap': True, 'max_depth': 10, 'max_features': 'sqrt', 'max_samples': 0.6, 'n_estimators': 40, 'n_jobs': -1}\n",
      "Trying combination {'bootstrap': True, 'max_depth': 20, 'max_features': 'sqrt', 'max_samples': 0.6, 'n_estimators': 20, 'n_jobs': -1}\n",
      "Trying combination {'bootstrap': True, 'max_depth': 20, 'max_features': 'sqrt', 'max_samples': 0.6, 'n_estimators': 30, 'n_jobs': -1}\n",
      "Trying combination {'bootstrap': True, 'max_depth': 20, 'max_features': 'sqrt', 'max_samples': 0.6, 'n_estimators': 40, 'n_jobs': -1}\n",
      "Best Params for this fold: {'bootstrap': True, 'max_depth': 20, 'max_features': 'sqrt', 'max_samples': 0.6, 'n_estimators': 20, 'n_jobs': -1}, Best Fold Score: 0.027905949928541895\n",
      "Selected 43 stocks\n",
      "Trying combination {'bootstrap': True, 'max_depth': 10, 'max_features': 'sqrt', 'max_samples': 0.6, 'n_estimators': 20, 'n_jobs': -1}\n",
      "Trying combination {'bootstrap': True, 'max_depth': 10, 'max_features': 'sqrt', 'max_samples': 0.6, 'n_estimators': 30, 'n_jobs': -1}\n",
      "Trying combination {'bootstrap': True, 'max_depth': 10, 'max_features': 'sqrt', 'max_samples': 0.6, 'n_estimators': 40, 'n_jobs': -1}\n",
      "Trying combination {'bootstrap': True, 'max_depth': 20, 'max_features': 'sqrt', 'max_samples': 0.6, 'n_estimators': 20, 'n_jobs': -1}\n",
      "Trying combination {'bootstrap': True, 'max_depth': 20, 'max_features': 'sqrt', 'max_samples': 0.6, 'n_estimators': 30, 'n_jobs': -1}\n",
      "Trying combination {'bootstrap': True, 'max_depth': 20, 'max_features': 'sqrt', 'max_samples': 0.6, 'n_estimators': 40, 'n_jobs': -1}\n",
      "Best Params for this fold: {'bootstrap': True, 'max_depth': 20, 'max_features': 'sqrt', 'max_samples': 0.6, 'n_estimators': 40, 'n_jobs': -1}, Best Fold Score: 0.03150956932162954\n",
      "Selected 43 stocks\n",
      "Trying combination {'bootstrap': True, 'max_depth': 10, 'max_features': 'sqrt', 'max_samples': 0.6, 'n_estimators': 20, 'n_jobs': -1}\n",
      "Trying combination {'bootstrap': True, 'max_depth': 10, 'max_features': 'sqrt', 'max_samples': 0.6, 'n_estimators': 30, 'n_jobs': -1}\n",
      "Trying combination {'bootstrap': True, 'max_depth': 10, 'max_features': 'sqrt', 'max_samples': 0.6, 'n_estimators': 40, 'n_jobs': -1}\n",
      "Trying combination {'bootstrap': True, 'max_depth': 20, 'max_features': 'sqrt', 'max_samples': 0.6, 'n_estimators': 20, 'n_jobs': -1}\n",
      "Trying combination {'bootstrap': True, 'max_depth': 20, 'max_features': 'sqrt', 'max_samples': 0.6, 'n_estimators': 30, 'n_jobs': -1}\n",
      "Trying combination {'bootstrap': True, 'max_depth': 20, 'max_features': 'sqrt', 'max_samples': 0.6, 'n_estimators': 40, 'n_jobs': -1}\n",
      "Best Params for this fold: {'bootstrap': True, 'max_depth': 20, 'max_features': 'sqrt', 'max_samples': 0.6, 'n_estimators': 20, 'n_jobs': -1}, Best Fold Score: 0.04218850265131722\n",
      "Selected 43 stocks\n",
      "Trying combination {'bootstrap': True, 'max_depth': 10, 'max_features': 'sqrt', 'max_samples': 0.6, 'n_estimators': 20, 'n_jobs': -1}\n",
      "Trying combination {'bootstrap': True, 'max_depth': 10, 'max_features': 'sqrt', 'max_samples': 0.6, 'n_estimators': 30, 'n_jobs': -1}\n",
      "Trying combination {'bootstrap': True, 'max_depth': 10, 'max_features': 'sqrt', 'max_samples': 0.6, 'n_estimators': 40, 'n_jobs': -1}\n",
      "Trying combination {'bootstrap': True, 'max_depth': 20, 'max_features': 'sqrt', 'max_samples': 0.6, 'n_estimators': 20, 'n_jobs': -1}\n",
      "Trying combination {'bootstrap': True, 'max_depth': 20, 'max_features': 'sqrt', 'max_samples': 0.6, 'n_estimators': 30, 'n_jobs': -1}\n",
      "Trying combination {'bootstrap': True, 'max_depth': 20, 'max_features': 'sqrt', 'max_samples': 0.6, 'n_estimators': 40, 'n_jobs': -1}\n",
      "Best Params for this fold: {'bootstrap': True, 'max_depth': 20, 'max_features': 'sqrt', 'max_samples': 0.6, 'n_estimators': 30, 'n_jobs': -1}, Best Fold Score: 0.03268270558565085\n",
      "Selected 43 stocks\n",
      "Trying combination {'bootstrap': True, 'max_depth': 10, 'max_features': 'sqrt', 'max_samples': 0.6, 'n_estimators': 20, 'n_jobs': -1}\n",
      "Trying combination {'bootstrap': True, 'max_depth': 10, 'max_features': 'sqrt', 'max_samples': 0.6, 'n_estimators': 30, 'n_jobs': -1}\n",
      "Trying combination {'bootstrap': True, 'max_depth': 10, 'max_features': 'sqrt', 'max_samples': 0.6, 'n_estimators': 40, 'n_jobs': -1}\n",
      "Trying combination {'bootstrap': True, 'max_depth': 20, 'max_features': 'sqrt', 'max_samples': 0.6, 'n_estimators': 20, 'n_jobs': -1}\n",
      "Trying combination {'bootstrap': True, 'max_depth': 20, 'max_features': 'sqrt', 'max_samples': 0.6, 'n_estimators': 30, 'n_jobs': -1}\n",
      "Trying combination {'bootstrap': True, 'max_depth': 20, 'max_features': 'sqrt', 'max_samples': 0.6, 'n_estimators': 40, 'n_jobs': -1}\n",
      "Best Params for this fold: {'bootstrap': True, 'max_depth': 20, 'max_features': 'sqrt', 'max_samples': 0.6, 'n_estimators': 20, 'n_jobs': -1}, Best Fold Score: 0.05063000157449807\n",
      "Selected 43 stocks\n",
      "Trying combination {'bootstrap': True, 'max_depth': 10, 'max_features': 'sqrt', 'max_samples': 0.6, 'n_estimators': 20, 'n_jobs': -1}\n",
      "Trying combination {'bootstrap': True, 'max_depth': 10, 'max_features': 'sqrt', 'max_samples': 0.6, 'n_estimators': 30, 'n_jobs': -1}\n",
      "Trying combination {'bootstrap': True, 'max_depth': 10, 'max_features': 'sqrt', 'max_samples': 0.6, 'n_estimators': 40, 'n_jobs': -1}\n",
      "Trying combination {'bootstrap': True, 'max_depth': 20, 'max_features': 'sqrt', 'max_samples': 0.6, 'n_estimators': 20, 'n_jobs': -1}\n",
      "Trying combination {'bootstrap': True, 'max_depth': 20, 'max_features': 'sqrt', 'max_samples': 0.6, 'n_estimators': 30, 'n_jobs': -1}\n",
      "Trying combination {'bootstrap': True, 'max_depth': 20, 'max_features': 'sqrt', 'max_samples': 0.6, 'n_estimators': 40, 'n_jobs': -1}\n",
      "Best Params for this fold: {'bootstrap': True, 'max_depth': 20, 'max_features': 'sqrt', 'max_samples': 0.6, 'n_estimators': 20, 'n_jobs': -1}, Best Fold Score: 0.03940507076051384\n",
      "Selected 43 stocks\n",
      "Trying combination {'bootstrap': True, 'max_depth': 10, 'max_features': 'sqrt', 'max_samples': 0.6, 'n_estimators': 20, 'n_jobs': -1}\n",
      "Trying combination {'bootstrap': True, 'max_depth': 10, 'max_features': 'sqrt', 'max_samples': 0.6, 'n_estimators': 30, 'n_jobs': -1}\n",
      "Trying combination {'bootstrap': True, 'max_depth': 10, 'max_features': 'sqrt', 'max_samples': 0.6, 'n_estimators': 40, 'n_jobs': -1}\n",
      "Trying combination {'bootstrap': True, 'max_depth': 20, 'max_features': 'sqrt', 'max_samples': 0.6, 'n_estimators': 20, 'n_jobs': -1}\n",
      "Trying combination {'bootstrap': True, 'max_depth': 20, 'max_features': 'sqrt', 'max_samples': 0.6, 'n_estimators': 30, 'n_jobs': -1}\n",
      "Trying combination {'bootstrap': True, 'max_depth': 20, 'max_features': 'sqrt', 'max_samples': 0.6, 'n_estimators': 40, 'n_jobs': -1}\n",
      "Best Params for this fold: {'bootstrap': True, 'max_depth': 20, 'max_features': 'sqrt', 'max_samples': 0.6, 'n_estimators': 30, 'n_jobs': -1}, Best Fold Score: 0.045568158431375044\n",
      "Selected 43 stocks\n",
      "Trying combination {'bootstrap': True, 'max_depth': 10, 'max_features': 'sqrt', 'max_samples': 0.6, 'n_estimators': 20, 'n_jobs': -1}\n",
      "Trying combination {'bootstrap': True, 'max_depth': 10, 'max_features': 'sqrt', 'max_samples': 0.6, 'n_estimators': 30, 'n_jobs': -1}\n",
      "Trying combination {'bootstrap': True, 'max_depth': 10, 'max_features': 'sqrt', 'max_samples': 0.6, 'n_estimators': 40, 'n_jobs': -1}\n",
      "Trying combination {'bootstrap': True, 'max_depth': 20, 'max_features': 'sqrt', 'max_samples': 0.6, 'n_estimators': 20, 'n_jobs': -1}\n",
      "Trying combination {'bootstrap': True, 'max_depth': 20, 'max_features': 'sqrt', 'max_samples': 0.6, 'n_estimators': 30, 'n_jobs': -1}\n",
      "Trying combination {'bootstrap': True, 'max_depth': 20, 'max_features': 'sqrt', 'max_samples': 0.6, 'n_estimators': 40, 'n_jobs': -1}\n",
      "Best Params for this fold: {'bootstrap': True, 'max_depth': 20, 'max_features': 'sqrt', 'max_samples': 0.6, 'n_estimators': 20, 'n_jobs': -1}, Best Fold Score: 0.1343463392002892\n",
      "Selected 43 stocks\n",
      "Trying combination {'bootstrap': True, 'max_depth': 10, 'max_features': 'sqrt', 'max_samples': 0.6, 'n_estimators': 20, 'n_jobs': -1}\n",
      "Trying combination {'bootstrap': True, 'max_depth': 10, 'max_features': 'sqrt', 'max_samples': 0.6, 'n_estimators': 30, 'n_jobs': -1}\n",
      "Trying combination {'bootstrap': True, 'max_depth': 10, 'max_features': 'sqrt', 'max_samples': 0.6, 'n_estimators': 40, 'n_jobs': -1}\n",
      "Trying combination {'bootstrap': True, 'max_depth': 20, 'max_features': 'sqrt', 'max_samples': 0.6, 'n_estimators': 20, 'n_jobs': -1}\n",
      "Trying combination {'bootstrap': True, 'max_depth': 20, 'max_features': 'sqrt', 'max_samples': 0.6, 'n_estimators': 30, 'n_jobs': -1}\n",
      "Trying combination {'bootstrap': True, 'max_depth': 20, 'max_features': 'sqrt', 'max_samples': 0.6, 'n_estimators': 40, 'n_jobs': -1}\n",
      "Best Params for this fold: {'bootstrap': True, 'max_depth': 20, 'max_features': 'sqrt', 'max_samples': 0.6, 'n_estimators': 20, 'n_jobs': -1}, Best Fold Score: 0.060514112326584345\n",
      "Selected 43 stocks\n",
      "Trying combination {'bootstrap': True, 'max_depth': 10, 'max_features': 'sqrt', 'max_samples': 0.6, 'n_estimators': 20, 'n_jobs': -1}\n",
      "Trying combination {'bootstrap': True, 'max_depth': 10, 'max_features': 'sqrt', 'max_samples': 0.6, 'n_estimators': 30, 'n_jobs': -1}\n",
      "Trying combination {'bootstrap': True, 'max_depth': 10, 'max_features': 'sqrt', 'max_samples': 0.6, 'n_estimators': 40, 'n_jobs': -1}\n",
      "Trying combination {'bootstrap': True, 'max_depth': 20, 'max_features': 'sqrt', 'max_samples': 0.6, 'n_estimators': 20, 'n_jobs': -1}\n",
      "Trying combination {'bootstrap': True, 'max_depth': 20, 'max_features': 'sqrt', 'max_samples': 0.6, 'n_estimators': 30, 'n_jobs': -1}\n",
      "Trying combination {'bootstrap': True, 'max_depth': 20, 'max_features': 'sqrt', 'max_samples': 0.6, 'n_estimators': 40, 'n_jobs': -1}\n",
      "Best Params for this fold: {'bootstrap': True, 'max_depth': 20, 'max_features': 'sqrt', 'max_samples': 0.6, 'n_estimators': 20, 'n_jobs': -1}, Best Fold Score: 0.04642138988500743\n",
      "Selected 43 stocks\n",
      "Trying combination {'bootstrap': True, 'max_depth': 10, 'max_features': 'sqrt', 'max_samples': 0.6, 'n_estimators': 20, 'n_jobs': -1}\n",
      "Trying combination {'bootstrap': True, 'max_depth': 10, 'max_features': 'sqrt', 'max_samples': 0.6, 'n_estimators': 30, 'n_jobs': -1}\n",
      "Trying combination {'bootstrap': True, 'max_depth': 10, 'max_features': 'sqrt', 'max_samples': 0.6, 'n_estimators': 40, 'n_jobs': -1}\n",
      "Trying combination {'bootstrap': True, 'max_depth': 20, 'max_features': 'sqrt', 'max_samples': 0.6, 'n_estimators': 20, 'n_jobs': -1}\n",
      "Trying combination {'bootstrap': True, 'max_depth': 20, 'max_features': 'sqrt', 'max_samples': 0.6, 'n_estimators': 30, 'n_jobs': -1}\n",
      "Trying combination {'bootstrap': True, 'max_depth': 20, 'max_features': 'sqrt', 'max_samples': 0.6, 'n_estimators': 40, 'n_jobs': -1}\n",
      "Best Params for this fold: {'bootstrap': True, 'max_depth': 20, 'max_features': 'sqrt', 'max_samples': 0.6, 'n_estimators': 40, 'n_jobs': -1}, Best Fold Score: 0.05182515142047065\n",
      "Selected 43 stocks\n",
      "Trying combination {'bootstrap': True, 'max_depth': 10, 'max_features': 'sqrt', 'max_samples': 0.6, 'n_estimators': 20, 'n_jobs': -1}\n",
      "Trying combination {'bootstrap': True, 'max_depth': 10, 'max_features': 'sqrt', 'max_samples': 0.6, 'n_estimators': 30, 'n_jobs': -1}\n",
      "Trying combination {'bootstrap': True, 'max_depth': 10, 'max_features': 'sqrt', 'max_samples': 0.6, 'n_estimators': 40, 'n_jobs': -1}\n",
      "Trying combination {'bootstrap': True, 'max_depth': 20, 'max_features': 'sqrt', 'max_samples': 0.6, 'n_estimators': 20, 'n_jobs': -1}\n",
      "Trying combination {'bootstrap': True, 'max_depth': 20, 'max_features': 'sqrt', 'max_samples': 0.6, 'n_estimators': 30, 'n_jobs': -1}\n",
      "Trying combination {'bootstrap': True, 'max_depth': 20, 'max_features': 'sqrt', 'max_samples': 0.6, 'n_estimators': 40, 'n_jobs': -1}\n",
      "Best Params for this fold: {'bootstrap': True, 'max_depth': 20, 'max_features': 'sqrt', 'max_samples': 0.6, 'n_estimators': 30, 'n_jobs': -1}, Best Fold Score: 0.03155823185593912\n",
      "Selected 43 stocks\n",
      "Trying combination {'bootstrap': True, 'max_depth': 10, 'max_features': 'sqrt', 'max_samples': 0.6, 'n_estimators': 20, 'n_jobs': -1}\n",
      "Trying combination {'bootstrap': True, 'max_depth': 10, 'max_features': 'sqrt', 'max_samples': 0.6, 'n_estimators': 30, 'n_jobs': -1}\n",
      "Trying combination {'bootstrap': True, 'max_depth': 10, 'max_features': 'sqrt', 'max_samples': 0.6, 'n_estimators': 40, 'n_jobs': -1}\n",
      "Trying combination {'bootstrap': True, 'max_depth': 20, 'max_features': 'sqrt', 'max_samples': 0.6, 'n_estimators': 20, 'n_jobs': -1}\n",
      "Trying combination {'bootstrap': True, 'max_depth': 20, 'max_features': 'sqrt', 'max_samples': 0.6, 'n_estimators': 30, 'n_jobs': -1}\n",
      "Trying combination {'bootstrap': True, 'max_depth': 20, 'max_features': 'sqrt', 'max_samples': 0.6, 'n_estimators': 40, 'n_jobs': -1}\n",
      "Best Params for this fold: {'bootstrap': True, 'max_depth': 20, 'max_features': 'sqrt', 'max_samples': 0.6, 'n_estimators': 30, 'n_jobs': -1}, Best Fold Score: 0.04684537646798154\n",
      "Selected 43 stocks\n",
      "Trying combination {'bootstrap': True, 'max_depth': 10, 'max_features': 'sqrt', 'max_samples': 0.6, 'n_estimators': 20, 'n_jobs': -1}\n",
      "Trying combination {'bootstrap': True, 'max_depth': 10, 'max_features': 'sqrt', 'max_samples': 0.6, 'n_estimators': 30, 'n_jobs': -1}\n",
      "Trying combination {'bootstrap': True, 'max_depth': 10, 'max_features': 'sqrt', 'max_samples': 0.6, 'n_estimators': 40, 'n_jobs': -1}\n",
      "Trying combination {'bootstrap': True, 'max_depth': 20, 'max_features': 'sqrt', 'max_samples': 0.6, 'n_estimators': 20, 'n_jobs': -1}\n",
      "Trying combination {'bootstrap': True, 'max_depth': 20, 'max_features': 'sqrt', 'max_samples': 0.6, 'n_estimators': 30, 'n_jobs': -1}\n",
      "Trying combination {'bootstrap': True, 'max_depth': 20, 'max_features': 'sqrt', 'max_samples': 0.6, 'n_estimators': 40, 'n_jobs': -1}\n",
      "Best Params for this fold: {'bootstrap': True, 'max_depth': 20, 'max_features': 'sqrt', 'max_samples': 0.6, 'n_estimators': 40, 'n_jobs': -1}, Best Fold Score: 0.061696127325283484\n",
      "Selected 43 stocks\n",
      "Trying combination {'bootstrap': True, 'max_depth': 10, 'max_features': 'sqrt', 'max_samples': 0.6, 'n_estimators': 20, 'n_jobs': -1}\n",
      "Trying combination {'bootstrap': True, 'max_depth': 10, 'max_features': 'sqrt', 'max_samples': 0.6, 'n_estimators': 30, 'n_jobs': -1}\n",
      "Trying combination {'bootstrap': True, 'max_depth': 10, 'max_features': 'sqrt', 'max_samples': 0.6, 'n_estimators': 40, 'n_jobs': -1}\n",
      "Trying combination {'bootstrap': True, 'max_depth': 20, 'max_features': 'sqrt', 'max_samples': 0.6, 'n_estimators': 20, 'n_jobs': -1}\n",
      "Trying combination {'bootstrap': True, 'max_depth': 20, 'max_features': 'sqrt', 'max_samples': 0.6, 'n_estimators': 30, 'n_jobs': -1}\n",
      "Trying combination {'bootstrap': True, 'max_depth': 20, 'max_features': 'sqrt', 'max_samples': 0.6, 'n_estimators': 40, 'n_jobs': -1}\n",
      "Best Params for this fold: {'bootstrap': True, 'max_depth': 20, 'max_features': 'sqrt', 'max_samples': 0.6, 'n_estimators': 40, 'n_jobs': -1}, Best Fold Score: 0.046287828965518626\n",
      "Percentile: 0.5, Tracking Error: 0.04830060657257606, Adj Tracking Error: 0.048300605997148846\n",
      "Starting percentile: 0.6\n",
      "Selected 34 stocks\n",
      "Trying combination {'bootstrap': True, 'max_depth': 10, 'max_features': 'sqrt', 'max_samples': 0.6, 'n_estimators': 20, 'n_jobs': -1}\n",
      "Trying combination {'bootstrap': True, 'max_depth': 10, 'max_features': 'sqrt', 'max_samples': 0.6, 'n_estimators': 30, 'n_jobs': -1}\n",
      "Trying combination {'bootstrap': True, 'max_depth': 10, 'max_features': 'sqrt', 'max_samples': 0.6, 'n_estimators': 40, 'n_jobs': -1}\n",
      "Trying combination {'bootstrap': True, 'max_depth': 20, 'max_features': 'sqrt', 'max_samples': 0.6, 'n_estimators': 20, 'n_jobs': -1}\n",
      "Trying combination {'bootstrap': True, 'max_depth': 20, 'max_features': 'sqrt', 'max_samples': 0.6, 'n_estimators': 30, 'n_jobs': -1}\n",
      "Trying combination {'bootstrap': True, 'max_depth': 20, 'max_features': 'sqrt', 'max_samples': 0.6, 'n_estimators': 40, 'n_jobs': -1}\n",
      "Best Params for this fold: {'bootstrap': True, 'max_depth': 20, 'max_features': 'sqrt', 'max_samples': 0.6, 'n_estimators': 30, 'n_jobs': -1}, Best Fold Score: 0.038704968963990956\n",
      "Selected 34 stocks\n",
      "Trying combination {'bootstrap': True, 'max_depth': 10, 'max_features': 'sqrt', 'max_samples': 0.6, 'n_estimators': 20, 'n_jobs': -1}\n",
      "Trying combination {'bootstrap': True, 'max_depth': 10, 'max_features': 'sqrt', 'max_samples': 0.6, 'n_estimators': 30, 'n_jobs': -1}\n",
      "Trying combination {'bootstrap': True, 'max_depth': 10, 'max_features': 'sqrt', 'max_samples': 0.6, 'n_estimators': 40, 'n_jobs': -1}\n",
      "Trying combination {'bootstrap': True, 'max_depth': 20, 'max_features': 'sqrt', 'max_samples': 0.6, 'n_estimators': 20, 'n_jobs': -1}\n",
      "Trying combination {'bootstrap': True, 'max_depth': 20, 'max_features': 'sqrt', 'max_samples': 0.6, 'n_estimators': 30, 'n_jobs': -1}\n",
      "Trying combination {'bootstrap': True, 'max_depth': 20, 'max_features': 'sqrt', 'max_samples': 0.6, 'n_estimators': 40, 'n_jobs': -1}\n",
      "Best Params for this fold: {'bootstrap': True, 'max_depth': 20, 'max_features': 'sqrt', 'max_samples': 0.6, 'n_estimators': 20, 'n_jobs': -1}, Best Fold Score: 0.051550460376533117\n",
      "Selected 34 stocks\n",
      "Trying combination {'bootstrap': True, 'max_depth': 10, 'max_features': 'sqrt', 'max_samples': 0.6, 'n_estimators': 20, 'n_jobs': -1}\n",
      "Trying combination {'bootstrap': True, 'max_depth': 10, 'max_features': 'sqrt', 'max_samples': 0.6, 'n_estimators': 30, 'n_jobs': -1}\n",
      "Trying combination {'bootstrap': True, 'max_depth': 10, 'max_features': 'sqrt', 'max_samples': 0.6, 'n_estimators': 40, 'n_jobs': -1}\n",
      "Trying combination {'bootstrap': True, 'max_depth': 20, 'max_features': 'sqrt', 'max_samples': 0.6, 'n_estimators': 20, 'n_jobs': -1}\n",
      "Trying combination {'bootstrap': True, 'max_depth': 20, 'max_features': 'sqrt', 'max_samples': 0.6, 'n_estimators': 30, 'n_jobs': -1}\n",
      "Trying combination {'bootstrap': True, 'max_depth': 20, 'max_features': 'sqrt', 'max_samples': 0.6, 'n_estimators': 40, 'n_jobs': -1}\n",
      "Best Params for this fold: {'bootstrap': True, 'max_depth': 20, 'max_features': 'sqrt', 'max_samples': 0.6, 'n_estimators': 40, 'n_jobs': -1}, Best Fold Score: 0.029287299938810765\n",
      "Selected 34 stocks\n",
      "Trying combination {'bootstrap': True, 'max_depth': 10, 'max_features': 'sqrt', 'max_samples': 0.6, 'n_estimators': 20, 'n_jobs': -1}\n",
      "Trying combination {'bootstrap': True, 'max_depth': 10, 'max_features': 'sqrt', 'max_samples': 0.6, 'n_estimators': 30, 'n_jobs': -1}\n",
      "Trying combination {'bootstrap': True, 'max_depth': 10, 'max_features': 'sqrt', 'max_samples': 0.6, 'n_estimators': 40, 'n_jobs': -1}\n",
      "Trying combination {'bootstrap': True, 'max_depth': 20, 'max_features': 'sqrt', 'max_samples': 0.6, 'n_estimators': 20, 'n_jobs': -1}\n",
      "Trying combination {'bootstrap': True, 'max_depth': 20, 'max_features': 'sqrt', 'max_samples': 0.6, 'n_estimators': 30, 'n_jobs': -1}\n",
      "Trying combination {'bootstrap': True, 'max_depth': 20, 'max_features': 'sqrt', 'max_samples': 0.6, 'n_estimators': 40, 'n_jobs': -1}\n",
      "Best Params for this fold: {'bootstrap': True, 'max_depth': 20, 'max_features': 'sqrt', 'max_samples': 0.6, 'n_estimators': 20, 'n_jobs': -1}, Best Fold Score: 0.02793623965447935\n",
      "Selected 34 stocks\n",
      "Trying combination {'bootstrap': True, 'max_depth': 10, 'max_features': 'sqrt', 'max_samples': 0.6, 'n_estimators': 20, 'n_jobs': -1}\n",
      "Trying combination {'bootstrap': True, 'max_depth': 10, 'max_features': 'sqrt', 'max_samples': 0.6, 'n_estimators': 30, 'n_jobs': -1}\n",
      "Trying combination {'bootstrap': True, 'max_depth': 10, 'max_features': 'sqrt', 'max_samples': 0.6, 'n_estimators': 40, 'n_jobs': -1}\n",
      "Trying combination {'bootstrap': True, 'max_depth': 20, 'max_features': 'sqrt', 'max_samples': 0.6, 'n_estimators': 20, 'n_jobs': -1}\n",
      "Trying combination {'bootstrap': True, 'max_depth': 20, 'max_features': 'sqrt', 'max_samples': 0.6, 'n_estimators': 30, 'n_jobs': -1}\n",
      "Trying combination {'bootstrap': True, 'max_depth': 20, 'max_features': 'sqrt', 'max_samples': 0.6, 'n_estimators': 40, 'n_jobs': -1}\n",
      "Best Params for this fold: {'bootstrap': True, 'max_depth': 20, 'max_features': 'sqrt', 'max_samples': 0.6, 'n_estimators': 20, 'n_jobs': -1}, Best Fold Score: 0.03135879359381016\n",
      "Selected 34 stocks\n",
      "Trying combination {'bootstrap': True, 'max_depth': 10, 'max_features': 'sqrt', 'max_samples': 0.6, 'n_estimators': 20, 'n_jobs': -1}\n",
      "Trying combination {'bootstrap': True, 'max_depth': 10, 'max_features': 'sqrt', 'max_samples': 0.6, 'n_estimators': 30, 'n_jobs': -1}\n",
      "Trying combination {'bootstrap': True, 'max_depth': 10, 'max_features': 'sqrt', 'max_samples': 0.6, 'n_estimators': 40, 'n_jobs': -1}\n",
      "Trying combination {'bootstrap': True, 'max_depth': 20, 'max_features': 'sqrt', 'max_samples': 0.6, 'n_estimators': 20, 'n_jobs': -1}\n",
      "Trying combination {'bootstrap': True, 'max_depth': 20, 'max_features': 'sqrt', 'max_samples': 0.6, 'n_estimators': 30, 'n_jobs': -1}\n",
      "Trying combination {'bootstrap': True, 'max_depth': 20, 'max_features': 'sqrt', 'max_samples': 0.6, 'n_estimators': 40, 'n_jobs': -1}\n",
      "Best Params for this fold: {'bootstrap': True, 'max_depth': 20, 'max_features': 'sqrt', 'max_samples': 0.6, 'n_estimators': 20, 'n_jobs': -1}, Best Fold Score: 0.042078786096191804\n",
      "Selected 34 stocks\n",
      "Trying combination {'bootstrap': True, 'max_depth': 10, 'max_features': 'sqrt', 'max_samples': 0.6, 'n_estimators': 20, 'n_jobs': -1}\n",
      "Trying combination {'bootstrap': True, 'max_depth': 10, 'max_features': 'sqrt', 'max_samples': 0.6, 'n_estimators': 30, 'n_jobs': -1}\n",
      "Trying combination {'bootstrap': True, 'max_depth': 10, 'max_features': 'sqrt', 'max_samples': 0.6, 'n_estimators': 40, 'n_jobs': -1}\n",
      "Trying combination {'bootstrap': True, 'max_depth': 20, 'max_features': 'sqrt', 'max_samples': 0.6, 'n_estimators': 20, 'n_jobs': -1}\n",
      "Trying combination {'bootstrap': True, 'max_depth': 20, 'max_features': 'sqrt', 'max_samples': 0.6, 'n_estimators': 30, 'n_jobs': -1}\n",
      "Trying combination {'bootstrap': True, 'max_depth': 20, 'max_features': 'sqrt', 'max_samples': 0.6, 'n_estimators': 40, 'n_jobs': -1}\n",
      "Best Params for this fold: {'bootstrap': True, 'max_depth': 20, 'max_features': 'sqrt', 'max_samples': 0.6, 'n_estimators': 30, 'n_jobs': -1}, Best Fold Score: 0.03266541153157063\n",
      "Selected 34 stocks\n",
      "Trying combination {'bootstrap': True, 'max_depth': 10, 'max_features': 'sqrt', 'max_samples': 0.6, 'n_estimators': 20, 'n_jobs': -1}\n",
      "Trying combination {'bootstrap': True, 'max_depth': 10, 'max_features': 'sqrt', 'max_samples': 0.6, 'n_estimators': 30, 'n_jobs': -1}\n",
      "Trying combination {'bootstrap': True, 'max_depth': 10, 'max_features': 'sqrt', 'max_samples': 0.6, 'n_estimators': 40, 'n_jobs': -1}\n",
      "Trying combination {'bootstrap': True, 'max_depth': 20, 'max_features': 'sqrt', 'max_samples': 0.6, 'n_estimators': 20, 'n_jobs': -1}\n",
      "Trying combination {'bootstrap': True, 'max_depth': 20, 'max_features': 'sqrt', 'max_samples': 0.6, 'n_estimators': 30, 'n_jobs': -1}\n",
      "Trying combination {'bootstrap': True, 'max_depth': 20, 'max_features': 'sqrt', 'max_samples': 0.6, 'n_estimators': 40, 'n_jobs': -1}\n",
      "Best Params for this fold: {'bootstrap': True, 'max_depth': 20, 'max_features': 'sqrt', 'max_samples': 0.6, 'n_estimators': 20, 'n_jobs': -1}, Best Fold Score: 0.05076144883702044\n",
      "Selected 34 stocks\n",
      "Trying combination {'bootstrap': True, 'max_depth': 10, 'max_features': 'sqrt', 'max_samples': 0.6, 'n_estimators': 20, 'n_jobs': -1}\n",
      "Trying combination {'bootstrap': True, 'max_depth': 10, 'max_features': 'sqrt', 'max_samples': 0.6, 'n_estimators': 30, 'n_jobs': -1}\n",
      "Trying combination {'bootstrap': True, 'max_depth': 10, 'max_features': 'sqrt', 'max_samples': 0.6, 'n_estimators': 40, 'n_jobs': -1}\n",
      "Trying combination {'bootstrap': True, 'max_depth': 20, 'max_features': 'sqrt', 'max_samples': 0.6, 'n_estimators': 20, 'n_jobs': -1}\n",
      "Trying combination {'bootstrap': True, 'max_depth': 20, 'max_features': 'sqrt', 'max_samples': 0.6, 'n_estimators': 30, 'n_jobs': -1}\n",
      "Trying combination {'bootstrap': True, 'max_depth': 20, 'max_features': 'sqrt', 'max_samples': 0.6, 'n_estimators': 40, 'n_jobs': -1}\n",
      "Best Params for this fold: {'bootstrap': True, 'max_depth': 20, 'max_features': 'sqrt', 'max_samples': 0.6, 'n_estimators': 40, 'n_jobs': -1}, Best Fold Score: 0.039374427382131934\n",
      "Selected 34 stocks\n",
      "Trying combination {'bootstrap': True, 'max_depth': 10, 'max_features': 'sqrt', 'max_samples': 0.6, 'n_estimators': 20, 'n_jobs': -1}\n",
      "Trying combination {'bootstrap': True, 'max_depth': 10, 'max_features': 'sqrt', 'max_samples': 0.6, 'n_estimators': 30, 'n_jobs': -1}\n",
      "Trying combination {'bootstrap': True, 'max_depth': 10, 'max_features': 'sqrt', 'max_samples': 0.6, 'n_estimators': 40, 'n_jobs': -1}\n",
      "Trying combination {'bootstrap': True, 'max_depth': 20, 'max_features': 'sqrt', 'max_samples': 0.6, 'n_estimators': 20, 'n_jobs': -1}\n",
      "Trying combination {'bootstrap': True, 'max_depth': 20, 'max_features': 'sqrt', 'max_samples': 0.6, 'n_estimators': 30, 'n_jobs': -1}\n",
      "Trying combination {'bootstrap': True, 'max_depth': 20, 'max_features': 'sqrt', 'max_samples': 0.6, 'n_estimators': 40, 'n_jobs': -1}\n",
      "Best Params for this fold: {'bootstrap': True, 'max_depth': 20, 'max_features': 'sqrt', 'max_samples': 0.6, 'n_estimators': 30, 'n_jobs': -1}, Best Fold Score: 0.04547224752180565\n",
      "Selected 34 stocks\n",
      "Trying combination {'bootstrap': True, 'max_depth': 10, 'max_features': 'sqrt', 'max_samples': 0.6, 'n_estimators': 20, 'n_jobs': -1}\n",
      "Trying combination {'bootstrap': True, 'max_depth': 10, 'max_features': 'sqrt', 'max_samples': 0.6, 'n_estimators': 30, 'n_jobs': -1}\n",
      "Trying combination {'bootstrap': True, 'max_depth': 10, 'max_features': 'sqrt', 'max_samples': 0.6, 'n_estimators': 40, 'n_jobs': -1}\n",
      "Trying combination {'bootstrap': True, 'max_depth': 20, 'max_features': 'sqrt', 'max_samples': 0.6, 'n_estimators': 20, 'n_jobs': -1}\n",
      "Trying combination {'bootstrap': True, 'max_depth': 20, 'max_features': 'sqrt', 'max_samples': 0.6, 'n_estimators': 30, 'n_jobs': -1}\n",
      "Trying combination {'bootstrap': True, 'max_depth': 20, 'max_features': 'sqrt', 'max_samples': 0.6, 'n_estimators': 40, 'n_jobs': -1}\n",
      "Best Params for this fold: {'bootstrap': True, 'max_depth': 20, 'max_features': 'sqrt', 'max_samples': 0.6, 'n_estimators': 20, 'n_jobs': -1}, Best Fold Score: 0.13473557175809248\n",
      "Selected 34 stocks\n",
      "Trying combination {'bootstrap': True, 'max_depth': 10, 'max_features': 'sqrt', 'max_samples': 0.6, 'n_estimators': 20, 'n_jobs': -1}\n",
      "Trying combination {'bootstrap': True, 'max_depth': 10, 'max_features': 'sqrt', 'max_samples': 0.6, 'n_estimators': 30, 'n_jobs': -1}\n",
      "Trying combination {'bootstrap': True, 'max_depth': 10, 'max_features': 'sqrt', 'max_samples': 0.6, 'n_estimators': 40, 'n_jobs': -1}\n",
      "Trying combination {'bootstrap': True, 'max_depth': 20, 'max_features': 'sqrt', 'max_samples': 0.6, 'n_estimators': 20, 'n_jobs': -1}\n",
      "Trying combination {'bootstrap': True, 'max_depth': 20, 'max_features': 'sqrt', 'max_samples': 0.6, 'n_estimators': 30, 'n_jobs': -1}\n",
      "Trying combination {'bootstrap': True, 'max_depth': 20, 'max_features': 'sqrt', 'max_samples': 0.6, 'n_estimators': 40, 'n_jobs': -1}\n",
      "Best Params for this fold: {'bootstrap': True, 'max_depth': 20, 'max_features': 'sqrt', 'max_samples': 0.6, 'n_estimators': 30, 'n_jobs': -1}, Best Fold Score: 0.060252201854487424\n",
      "Selected 34 stocks\n",
      "Trying combination {'bootstrap': True, 'max_depth': 10, 'max_features': 'sqrt', 'max_samples': 0.6, 'n_estimators': 20, 'n_jobs': -1}\n",
      "Trying combination {'bootstrap': True, 'max_depth': 10, 'max_features': 'sqrt', 'max_samples': 0.6, 'n_estimators': 30, 'n_jobs': -1}\n",
      "Trying combination {'bootstrap': True, 'max_depth': 10, 'max_features': 'sqrt', 'max_samples': 0.6, 'n_estimators': 40, 'n_jobs': -1}\n",
      "Trying combination {'bootstrap': True, 'max_depth': 20, 'max_features': 'sqrt', 'max_samples': 0.6, 'n_estimators': 20, 'n_jobs': -1}\n",
      "Trying combination {'bootstrap': True, 'max_depth': 20, 'max_features': 'sqrt', 'max_samples': 0.6, 'n_estimators': 30, 'n_jobs': -1}\n",
      "Trying combination {'bootstrap': True, 'max_depth': 20, 'max_features': 'sqrt', 'max_samples': 0.6, 'n_estimators': 40, 'n_jobs': -1}\n",
      "Best Params for this fold: {'bootstrap': True, 'max_depth': 20, 'max_features': 'sqrt', 'max_samples': 0.6, 'n_estimators': 40, 'n_jobs': -1}, Best Fold Score: 0.04644297249524959\n",
      "Selected 34 stocks\n",
      "Trying combination {'bootstrap': True, 'max_depth': 10, 'max_features': 'sqrt', 'max_samples': 0.6, 'n_estimators': 20, 'n_jobs': -1}\n",
      "Trying combination {'bootstrap': True, 'max_depth': 10, 'max_features': 'sqrt', 'max_samples': 0.6, 'n_estimators': 30, 'n_jobs': -1}\n",
      "Trying combination {'bootstrap': True, 'max_depth': 10, 'max_features': 'sqrt', 'max_samples': 0.6, 'n_estimators': 40, 'n_jobs': -1}\n",
      "Trying combination {'bootstrap': True, 'max_depth': 20, 'max_features': 'sqrt', 'max_samples': 0.6, 'n_estimators': 20, 'n_jobs': -1}\n",
      "Trying combination {'bootstrap': True, 'max_depth': 20, 'max_features': 'sqrt', 'max_samples': 0.6, 'n_estimators': 30, 'n_jobs': -1}\n",
      "Trying combination {'bootstrap': True, 'max_depth': 20, 'max_features': 'sqrt', 'max_samples': 0.6, 'n_estimators': 40, 'n_jobs': -1}\n",
      "Best Params for this fold: {'bootstrap': True, 'max_depth': 20, 'max_features': 'sqrt', 'max_samples': 0.6, 'n_estimators': 30, 'n_jobs': -1}, Best Fold Score: 0.0516959596697885\n",
      "Selected 34 stocks\n",
      "Trying combination {'bootstrap': True, 'max_depth': 10, 'max_features': 'sqrt', 'max_samples': 0.6, 'n_estimators': 20, 'n_jobs': -1}\n",
      "Trying combination {'bootstrap': True, 'max_depth': 10, 'max_features': 'sqrt', 'max_samples': 0.6, 'n_estimators': 30, 'n_jobs': -1}\n",
      "Trying combination {'bootstrap': True, 'max_depth': 10, 'max_features': 'sqrt', 'max_samples': 0.6, 'n_estimators': 40, 'n_jobs': -1}\n",
      "Trying combination {'bootstrap': True, 'max_depth': 20, 'max_features': 'sqrt', 'max_samples': 0.6, 'n_estimators': 20, 'n_jobs': -1}\n",
      "Trying combination {'bootstrap': True, 'max_depth': 20, 'max_features': 'sqrt', 'max_samples': 0.6, 'n_estimators': 30, 'n_jobs': -1}\n",
      "Trying combination {'bootstrap': True, 'max_depth': 20, 'max_features': 'sqrt', 'max_samples': 0.6, 'n_estimators': 40, 'n_jobs': -1}\n",
      "Best Params for this fold: {'bootstrap': True, 'max_depth': 20, 'max_features': 'sqrt', 'max_samples': 0.6, 'n_estimators': 20, 'n_jobs': -1}, Best Fold Score: 0.03147302182162722\n",
      "Selected 34 stocks\n",
      "Trying combination {'bootstrap': True, 'max_depth': 10, 'max_features': 'sqrt', 'max_samples': 0.6, 'n_estimators': 20, 'n_jobs': -1}\n",
      "Trying combination {'bootstrap': True, 'max_depth': 10, 'max_features': 'sqrt', 'max_samples': 0.6, 'n_estimators': 30, 'n_jobs': -1}\n",
      "Trying combination {'bootstrap': True, 'max_depth': 10, 'max_features': 'sqrt', 'max_samples': 0.6, 'n_estimators': 40, 'n_jobs': -1}\n",
      "Trying combination {'bootstrap': True, 'max_depth': 20, 'max_features': 'sqrt', 'max_samples': 0.6, 'n_estimators': 20, 'n_jobs': -1}\n",
      "Trying combination {'bootstrap': True, 'max_depth': 20, 'max_features': 'sqrt', 'max_samples': 0.6, 'n_estimators': 30, 'n_jobs': -1}\n",
      "Trying combination {'bootstrap': True, 'max_depth': 20, 'max_features': 'sqrt', 'max_samples': 0.6, 'n_estimators': 40, 'n_jobs': -1}\n",
      "Best Params for this fold: {'bootstrap': True, 'max_depth': 20, 'max_features': 'sqrt', 'max_samples': 0.6, 'n_estimators': 30, 'n_jobs': -1}, Best Fold Score: 0.04663187591411836\n",
      "Selected 34 stocks\n",
      "Trying combination {'bootstrap': True, 'max_depth': 10, 'max_features': 'sqrt', 'max_samples': 0.6, 'n_estimators': 20, 'n_jobs': -1}\n",
      "Trying combination {'bootstrap': True, 'max_depth': 10, 'max_features': 'sqrt', 'max_samples': 0.6, 'n_estimators': 30, 'n_jobs': -1}\n",
      "Trying combination {'bootstrap': True, 'max_depth': 10, 'max_features': 'sqrt', 'max_samples': 0.6, 'n_estimators': 40, 'n_jobs': -1}\n",
      "Trying combination {'bootstrap': True, 'max_depth': 20, 'max_features': 'sqrt', 'max_samples': 0.6, 'n_estimators': 20, 'n_jobs': -1}\n",
      "Trying combination {'bootstrap': True, 'max_depth': 20, 'max_features': 'sqrt', 'max_samples': 0.6, 'n_estimators': 30, 'n_jobs': -1}\n",
      "Trying combination {'bootstrap': True, 'max_depth': 20, 'max_features': 'sqrt', 'max_samples': 0.6, 'n_estimators': 40, 'n_jobs': -1}\n",
      "Best Params for this fold: {'bootstrap': True, 'max_depth': 20, 'max_features': 'sqrt', 'max_samples': 0.6, 'n_estimators': 30, 'n_jobs': -1}, Best Fold Score: 0.06160841265648369\n",
      "Selected 34 stocks\n",
      "Trying combination {'bootstrap': True, 'max_depth': 10, 'max_features': 'sqrt', 'max_samples': 0.6, 'n_estimators': 20, 'n_jobs': -1}\n",
      "Trying combination {'bootstrap': True, 'max_depth': 10, 'max_features': 'sqrt', 'max_samples': 0.6, 'n_estimators': 30, 'n_jobs': -1}\n",
      "Trying combination {'bootstrap': True, 'max_depth': 10, 'max_features': 'sqrt', 'max_samples': 0.6, 'n_estimators': 40, 'n_jobs': -1}\n",
      "Trying combination {'bootstrap': True, 'max_depth': 20, 'max_features': 'sqrt', 'max_samples': 0.6, 'n_estimators': 20, 'n_jobs': -1}\n",
      "Trying combination {'bootstrap': True, 'max_depth': 20, 'max_features': 'sqrt', 'max_samples': 0.6, 'n_estimators': 30, 'n_jobs': -1}\n",
      "Trying combination {'bootstrap': True, 'max_depth': 20, 'max_features': 'sqrt', 'max_samples': 0.6, 'n_estimators': 40, 'n_jobs': -1}\n",
      "Best Params for this fold: {'bootstrap': True, 'max_depth': 20, 'max_features': 'sqrt', 'max_samples': 0.6, 'n_estimators': 30, 'n_jobs': -1}, Best Fold Score: 0.04631973832228005\n",
      "Percentile: 0.6, Tracking Error: 0.04824165768824845, Adj Tracking Error: 0.04824165797295792\n",
      "Starting percentile: 0.7\n",
      "Selected 26 stocks\n",
      "Trying combination {'bootstrap': True, 'max_depth': 10, 'max_features': 'sqrt', 'max_samples': 0.6, 'n_estimators': 20, 'n_jobs': -1}\n",
      "Trying combination {'bootstrap': True, 'max_depth': 10, 'max_features': 'sqrt', 'max_samples': 0.6, 'n_estimators': 30, 'n_jobs': -1}\n",
      "Trying combination {'bootstrap': True, 'max_depth': 10, 'max_features': 'sqrt', 'max_samples': 0.6, 'n_estimators': 40, 'n_jobs': -1}\n",
      "Trying combination {'bootstrap': True, 'max_depth': 20, 'max_features': 'sqrt', 'max_samples': 0.6, 'n_estimators': 20, 'n_jobs': -1}\n",
      "Trying combination {'bootstrap': True, 'max_depth': 20, 'max_features': 'sqrt', 'max_samples': 0.6, 'n_estimators': 30, 'n_jobs': -1}\n",
      "Trying combination {'bootstrap': True, 'max_depth': 20, 'max_features': 'sqrt', 'max_samples': 0.6, 'n_estimators': 40, 'n_jobs': -1}\n",
      "Best Params for this fold: {'bootstrap': True, 'max_depth': 20, 'max_features': 'sqrt', 'max_samples': 0.6, 'n_estimators': 20, 'n_jobs': -1}, Best Fold Score: 0.038757726299218434\n",
      "Selected 26 stocks\n",
      "Trying combination {'bootstrap': True, 'max_depth': 10, 'max_features': 'sqrt', 'max_samples': 0.6, 'n_estimators': 20, 'n_jobs': -1}\n",
      "Trying combination {'bootstrap': True, 'max_depth': 10, 'max_features': 'sqrt', 'max_samples': 0.6, 'n_estimators': 30, 'n_jobs': -1}\n",
      "Trying combination {'bootstrap': True, 'max_depth': 10, 'max_features': 'sqrt', 'max_samples': 0.6, 'n_estimators': 40, 'n_jobs': -1}\n",
      "Trying combination {'bootstrap': True, 'max_depth': 20, 'max_features': 'sqrt', 'max_samples': 0.6, 'n_estimators': 20, 'n_jobs': -1}\n",
      "Trying combination {'bootstrap': True, 'max_depth': 20, 'max_features': 'sqrt', 'max_samples': 0.6, 'n_estimators': 30, 'n_jobs': -1}\n",
      "Trying combination {'bootstrap': True, 'max_depth': 20, 'max_features': 'sqrt', 'max_samples': 0.6, 'n_estimators': 40, 'n_jobs': -1}\n",
      "Best Params for this fold: {'bootstrap': True, 'max_depth': 20, 'max_features': 'sqrt', 'max_samples': 0.6, 'n_estimators': 30, 'n_jobs': -1}, Best Fold Score: 0.051942440299537096\n",
      "Selected 26 stocks\n",
      "Trying combination {'bootstrap': True, 'max_depth': 10, 'max_features': 'sqrt', 'max_samples': 0.6, 'n_estimators': 20, 'n_jobs': -1}\n",
      "Trying combination {'bootstrap': True, 'max_depth': 10, 'max_features': 'sqrt', 'max_samples': 0.6, 'n_estimators': 30, 'n_jobs': -1}\n",
      "Trying combination {'bootstrap': True, 'max_depth': 10, 'max_features': 'sqrt', 'max_samples': 0.6, 'n_estimators': 40, 'n_jobs': -1}\n",
      "Trying combination {'bootstrap': True, 'max_depth': 20, 'max_features': 'sqrt', 'max_samples': 0.6, 'n_estimators': 20, 'n_jobs': -1}\n",
      "Trying combination {'bootstrap': True, 'max_depth': 20, 'max_features': 'sqrt', 'max_samples': 0.6, 'n_estimators': 30, 'n_jobs': -1}\n",
      "Trying combination {'bootstrap': True, 'max_depth': 20, 'max_features': 'sqrt', 'max_samples': 0.6, 'n_estimators': 40, 'n_jobs': -1}\n",
      "Best Params for this fold: {'bootstrap': True, 'max_depth': 20, 'max_features': 'sqrt', 'max_samples': 0.6, 'n_estimators': 40, 'n_jobs': -1}, Best Fold Score: 0.029224891356774824\n",
      "Selected 26 stocks\n",
      "Trying combination {'bootstrap': True, 'max_depth': 10, 'max_features': 'sqrt', 'max_samples': 0.6, 'n_estimators': 20, 'n_jobs': -1}\n",
      "Trying combination {'bootstrap': True, 'max_depth': 10, 'max_features': 'sqrt', 'max_samples': 0.6, 'n_estimators': 30, 'n_jobs': -1}\n",
      "Trying combination {'bootstrap': True, 'max_depth': 10, 'max_features': 'sqrt', 'max_samples': 0.6, 'n_estimators': 40, 'n_jobs': -1}\n",
      "Trying combination {'bootstrap': True, 'max_depth': 20, 'max_features': 'sqrt', 'max_samples': 0.6, 'n_estimators': 20, 'n_jobs': -1}\n",
      "Trying combination {'bootstrap': True, 'max_depth': 20, 'max_features': 'sqrt', 'max_samples': 0.6, 'n_estimators': 30, 'n_jobs': -1}\n",
      "Trying combination {'bootstrap': True, 'max_depth': 20, 'max_features': 'sqrt', 'max_samples': 0.6, 'n_estimators': 40, 'n_jobs': -1}\n",
      "Best Params for this fold: {'bootstrap': True, 'max_depth': 20, 'max_features': 'sqrt', 'max_samples': 0.6, 'n_estimators': 20, 'n_jobs': -1}, Best Fold Score: 0.027899651068952532\n",
      "Selected 26 stocks\n",
      "Trying combination {'bootstrap': True, 'max_depth': 10, 'max_features': 'sqrt', 'max_samples': 0.6, 'n_estimators': 20, 'n_jobs': -1}\n",
      "Trying combination {'bootstrap': True, 'max_depth': 10, 'max_features': 'sqrt', 'max_samples': 0.6, 'n_estimators': 30, 'n_jobs': -1}\n",
      "Trying combination {'bootstrap': True, 'max_depth': 10, 'max_features': 'sqrt', 'max_samples': 0.6, 'n_estimators': 40, 'n_jobs': -1}\n",
      "Trying combination {'bootstrap': True, 'max_depth': 20, 'max_features': 'sqrt', 'max_samples': 0.6, 'n_estimators': 20, 'n_jobs': -1}\n",
      "Trying combination {'bootstrap': True, 'max_depth': 20, 'max_features': 'sqrt', 'max_samples': 0.6, 'n_estimators': 30, 'n_jobs': -1}\n",
      "Trying combination {'bootstrap': True, 'max_depth': 20, 'max_features': 'sqrt', 'max_samples': 0.6, 'n_estimators': 40, 'n_jobs': -1}\n",
      "Best Params for this fold: {'bootstrap': True, 'max_depth': 20, 'max_features': 'sqrt', 'max_samples': 0.6, 'n_estimators': 40, 'n_jobs': -1}, Best Fold Score: 0.0313902721944401\n",
      "Selected 26 stocks\n",
      "Trying combination {'bootstrap': True, 'max_depth': 10, 'max_features': 'sqrt', 'max_samples': 0.6, 'n_estimators': 20, 'n_jobs': -1}\n",
      "Trying combination {'bootstrap': True, 'max_depth': 10, 'max_features': 'sqrt', 'max_samples': 0.6, 'n_estimators': 30, 'n_jobs': -1}\n",
      "Trying combination {'bootstrap': True, 'max_depth': 10, 'max_features': 'sqrt', 'max_samples': 0.6, 'n_estimators': 40, 'n_jobs': -1}\n",
      "Trying combination {'bootstrap': True, 'max_depth': 20, 'max_features': 'sqrt', 'max_samples': 0.6, 'n_estimators': 20, 'n_jobs': -1}\n",
      "Trying combination {'bootstrap': True, 'max_depth': 20, 'max_features': 'sqrt', 'max_samples': 0.6, 'n_estimators': 30, 'n_jobs': -1}\n",
      "Trying combination {'bootstrap': True, 'max_depth': 20, 'max_features': 'sqrt', 'max_samples': 0.6, 'n_estimators': 40, 'n_jobs': -1}\n",
      "Best Params for this fold: {'bootstrap': True, 'max_depth': 20, 'max_features': 'sqrt', 'max_samples': 0.6, 'n_estimators': 40, 'n_jobs': -1}, Best Fold Score: 0.042089255978430995\n",
      "Selected 26 stocks\n",
      "Trying combination {'bootstrap': True, 'max_depth': 10, 'max_features': 'sqrt', 'max_samples': 0.6, 'n_estimators': 20, 'n_jobs': -1}\n",
      "Trying combination {'bootstrap': True, 'max_depth': 10, 'max_features': 'sqrt', 'max_samples': 0.6, 'n_estimators': 30, 'n_jobs': -1}\n",
      "Trying combination {'bootstrap': True, 'max_depth': 10, 'max_features': 'sqrt', 'max_samples': 0.6, 'n_estimators': 40, 'n_jobs': -1}\n",
      "Trying combination {'bootstrap': True, 'max_depth': 20, 'max_features': 'sqrt', 'max_samples': 0.6, 'n_estimators': 20, 'n_jobs': -1}\n",
      "Trying combination {'bootstrap': True, 'max_depth': 20, 'max_features': 'sqrt', 'max_samples': 0.6, 'n_estimators': 30, 'n_jobs': -1}\n",
      "Trying combination {'bootstrap': True, 'max_depth': 20, 'max_features': 'sqrt', 'max_samples': 0.6, 'n_estimators': 40, 'n_jobs': -1}\n",
      "Best Params for this fold: {'bootstrap': True, 'max_depth': 20, 'max_features': 'sqrt', 'max_samples': 0.6, 'n_estimators': 20, 'n_jobs': -1}, Best Fold Score: 0.032721343681790055\n",
      "Selected 26 stocks\n",
      "Trying combination {'bootstrap': True, 'max_depth': 10, 'max_features': 'sqrt', 'max_samples': 0.6, 'n_estimators': 20, 'n_jobs': -1}\n",
      "Trying combination {'bootstrap': True, 'max_depth': 10, 'max_features': 'sqrt', 'max_samples': 0.6, 'n_estimators': 30, 'n_jobs': -1}\n",
      "Trying combination {'bootstrap': True, 'max_depth': 10, 'max_features': 'sqrt', 'max_samples': 0.6, 'n_estimators': 40, 'n_jobs': -1}\n",
      "Trying combination {'bootstrap': True, 'max_depth': 20, 'max_features': 'sqrt', 'max_samples': 0.6, 'n_estimators': 20, 'n_jobs': -1}\n",
      "Trying combination {'bootstrap': True, 'max_depth': 20, 'max_features': 'sqrt', 'max_samples': 0.6, 'n_estimators': 30, 'n_jobs': -1}\n",
      "Trying combination {'bootstrap': True, 'max_depth': 20, 'max_features': 'sqrt', 'max_samples': 0.6, 'n_estimators': 40, 'n_jobs': -1}\n",
      "Best Params for this fold: {'bootstrap': True, 'max_depth': 20, 'max_features': 'sqrt', 'max_samples': 0.6, 'n_estimators': 30, 'n_jobs': -1}, Best Fold Score: 0.050907521406282685\n",
      "Selected 26 stocks\n",
      "Trying combination {'bootstrap': True, 'max_depth': 10, 'max_features': 'sqrt', 'max_samples': 0.6, 'n_estimators': 20, 'n_jobs': -1}\n",
      "Trying combination {'bootstrap': True, 'max_depth': 10, 'max_features': 'sqrt', 'max_samples': 0.6, 'n_estimators': 30, 'n_jobs': -1}\n",
      "Trying combination {'bootstrap': True, 'max_depth': 10, 'max_features': 'sqrt', 'max_samples': 0.6, 'n_estimators': 40, 'n_jobs': -1}\n",
      "Trying combination {'bootstrap': True, 'max_depth': 20, 'max_features': 'sqrt', 'max_samples': 0.6, 'n_estimators': 20, 'n_jobs': -1}\n",
      "Trying combination {'bootstrap': True, 'max_depth': 20, 'max_features': 'sqrt', 'max_samples': 0.6, 'n_estimators': 30, 'n_jobs': -1}\n",
      "Trying combination {'bootstrap': True, 'max_depth': 20, 'max_features': 'sqrt', 'max_samples': 0.6, 'n_estimators': 40, 'n_jobs': -1}\n",
      "Best Params for this fold: {'bootstrap': True, 'max_depth': 20, 'max_features': 'sqrt', 'max_samples': 0.6, 'n_estimators': 20, 'n_jobs': -1}, Best Fold Score: 0.03941256297810864\n",
      "Selected 26 stocks\n",
      "Trying combination {'bootstrap': True, 'max_depth': 10, 'max_features': 'sqrt', 'max_samples': 0.6, 'n_estimators': 20, 'n_jobs': -1}\n",
      "Trying combination {'bootstrap': True, 'max_depth': 10, 'max_features': 'sqrt', 'max_samples': 0.6, 'n_estimators': 30, 'n_jobs': -1}\n",
      "Trying combination {'bootstrap': True, 'max_depth': 10, 'max_features': 'sqrt', 'max_samples': 0.6, 'n_estimators': 40, 'n_jobs': -1}\n",
      "Trying combination {'bootstrap': True, 'max_depth': 20, 'max_features': 'sqrt', 'max_samples': 0.6, 'n_estimators': 20, 'n_jobs': -1}\n",
      "Trying combination {'bootstrap': True, 'max_depth': 20, 'max_features': 'sqrt', 'max_samples': 0.6, 'n_estimators': 30, 'n_jobs': -1}\n",
      "Trying combination {'bootstrap': True, 'max_depth': 20, 'max_features': 'sqrt', 'max_samples': 0.6, 'n_estimators': 40, 'n_jobs': -1}\n",
      "Best Params for this fold: {'bootstrap': True, 'max_depth': 20, 'max_features': 'sqrt', 'max_samples': 0.6, 'n_estimators': 20, 'n_jobs': -1}, Best Fold Score: 0.045563603049067036\n",
      "Selected 26 stocks\n",
      "Trying combination {'bootstrap': True, 'max_depth': 10, 'max_features': 'sqrt', 'max_samples': 0.6, 'n_estimators': 20, 'n_jobs': -1}\n",
      "Trying combination {'bootstrap': True, 'max_depth': 10, 'max_features': 'sqrt', 'max_samples': 0.6, 'n_estimators': 30, 'n_jobs': -1}\n",
      "Trying combination {'bootstrap': True, 'max_depth': 10, 'max_features': 'sqrt', 'max_samples': 0.6, 'n_estimators': 40, 'n_jobs': -1}\n",
      "Trying combination {'bootstrap': True, 'max_depth': 20, 'max_features': 'sqrt', 'max_samples': 0.6, 'n_estimators': 20, 'n_jobs': -1}\n",
      "Trying combination {'bootstrap': True, 'max_depth': 20, 'max_features': 'sqrt', 'max_samples': 0.6, 'n_estimators': 30, 'n_jobs': -1}\n",
      "Trying combination {'bootstrap': True, 'max_depth': 20, 'max_features': 'sqrt', 'max_samples': 0.6, 'n_estimators': 40, 'n_jobs': -1}\n",
      "Best Params for this fold: {'bootstrap': True, 'max_depth': 20, 'max_features': 'sqrt', 'max_samples': 0.6, 'n_estimators': 30, 'n_jobs': -1}, Best Fold Score: 0.13492086438483183\n",
      "Selected 26 stocks\n",
      "Trying combination {'bootstrap': True, 'max_depth': 10, 'max_features': 'sqrt', 'max_samples': 0.6, 'n_estimators': 20, 'n_jobs': -1}\n",
      "Trying combination {'bootstrap': True, 'max_depth': 10, 'max_features': 'sqrt', 'max_samples': 0.6, 'n_estimators': 30, 'n_jobs': -1}\n",
      "Trying combination {'bootstrap': True, 'max_depth': 10, 'max_features': 'sqrt', 'max_samples': 0.6, 'n_estimators': 40, 'n_jobs': -1}\n",
      "Trying combination {'bootstrap': True, 'max_depth': 20, 'max_features': 'sqrt', 'max_samples': 0.6, 'n_estimators': 20, 'n_jobs': -1}\n",
      "Trying combination {'bootstrap': True, 'max_depth': 20, 'max_features': 'sqrt', 'max_samples': 0.6, 'n_estimators': 30, 'n_jobs': -1}\n",
      "Trying combination {'bootstrap': True, 'max_depth': 20, 'max_features': 'sqrt', 'max_samples': 0.6, 'n_estimators': 40, 'n_jobs': -1}\n",
      "Best Params for this fold: {'bootstrap': True, 'max_depth': 20, 'max_features': 'sqrt', 'max_samples': 0.6, 'n_estimators': 30, 'n_jobs': -1}, Best Fold Score: 0.06027678523318054\n",
      "Selected 26 stocks\n",
      "Trying combination {'bootstrap': True, 'max_depth': 10, 'max_features': 'sqrt', 'max_samples': 0.6, 'n_estimators': 20, 'n_jobs': -1}\n",
      "Trying combination {'bootstrap': True, 'max_depth': 10, 'max_features': 'sqrt', 'max_samples': 0.6, 'n_estimators': 30, 'n_jobs': -1}\n",
      "Trying combination {'bootstrap': True, 'max_depth': 10, 'max_features': 'sqrt', 'max_samples': 0.6, 'n_estimators': 40, 'n_jobs': -1}\n",
      "Trying combination {'bootstrap': True, 'max_depth': 20, 'max_features': 'sqrt', 'max_samples': 0.6, 'n_estimators': 20, 'n_jobs': -1}\n",
      "Trying combination {'bootstrap': True, 'max_depth': 20, 'max_features': 'sqrt', 'max_samples': 0.6, 'n_estimators': 30, 'n_jobs': -1}\n",
      "Trying combination {'bootstrap': True, 'max_depth': 20, 'max_features': 'sqrt', 'max_samples': 0.6, 'n_estimators': 40, 'n_jobs': -1}\n",
      "Best Params for this fold: {'bootstrap': True, 'max_depth': 20, 'max_features': 'sqrt', 'max_samples': 0.6, 'n_estimators': 30, 'n_jobs': -1}, Best Fold Score: 0.046523817093338124\n",
      "Selected 26 stocks\n",
      "Trying combination {'bootstrap': True, 'max_depth': 10, 'max_features': 'sqrt', 'max_samples': 0.6, 'n_estimators': 20, 'n_jobs': -1}\n",
      "Trying combination {'bootstrap': True, 'max_depth': 10, 'max_features': 'sqrt', 'max_samples': 0.6, 'n_estimators': 30, 'n_jobs': -1}\n",
      "Trying combination {'bootstrap': True, 'max_depth': 10, 'max_features': 'sqrt', 'max_samples': 0.6, 'n_estimators': 40, 'n_jobs': -1}\n",
      "Trying combination {'bootstrap': True, 'max_depth': 20, 'max_features': 'sqrt', 'max_samples': 0.6, 'n_estimators': 20, 'n_jobs': -1}\n",
      "Trying combination {'bootstrap': True, 'max_depth': 20, 'max_features': 'sqrt', 'max_samples': 0.6, 'n_estimators': 30, 'n_jobs': -1}\n",
      "Trying combination {'bootstrap': True, 'max_depth': 20, 'max_features': 'sqrt', 'max_samples': 0.6, 'n_estimators': 40, 'n_jobs': -1}\n",
      "Best Params for this fold: {'bootstrap': True, 'max_depth': 20, 'max_features': 'sqrt', 'max_samples': 0.6, 'n_estimators': 30, 'n_jobs': -1}, Best Fold Score: 0.05159610587765174\n",
      "Selected 26 stocks\n",
      "Trying combination {'bootstrap': True, 'max_depth': 10, 'max_features': 'sqrt', 'max_samples': 0.6, 'n_estimators': 20, 'n_jobs': -1}\n",
      "Trying combination {'bootstrap': True, 'max_depth': 10, 'max_features': 'sqrt', 'max_samples': 0.6, 'n_estimators': 30, 'n_jobs': -1}\n",
      "Trying combination {'bootstrap': True, 'max_depth': 10, 'max_features': 'sqrt', 'max_samples': 0.6, 'n_estimators': 40, 'n_jobs': -1}\n",
      "Trying combination {'bootstrap': True, 'max_depth': 20, 'max_features': 'sqrt', 'max_samples': 0.6, 'n_estimators': 20, 'n_jobs': -1}\n",
      "Trying combination {'bootstrap': True, 'max_depth': 20, 'max_features': 'sqrt', 'max_samples': 0.6, 'n_estimators': 30, 'n_jobs': -1}\n",
      "Trying combination {'bootstrap': True, 'max_depth': 20, 'max_features': 'sqrt', 'max_samples': 0.6, 'n_estimators': 40, 'n_jobs': -1}\n",
      "Best Params for this fold: {'bootstrap': True, 'max_depth': 20, 'max_features': 'sqrt', 'max_samples': 0.6, 'n_estimators': 40, 'n_jobs': -1}, Best Fold Score: 0.031612043463921886\n",
      "Selected 26 stocks\n",
      "Trying combination {'bootstrap': True, 'max_depth': 10, 'max_features': 'sqrt', 'max_samples': 0.6, 'n_estimators': 20, 'n_jobs': -1}\n",
      "Trying combination {'bootstrap': True, 'max_depth': 10, 'max_features': 'sqrt', 'max_samples': 0.6, 'n_estimators': 30, 'n_jobs': -1}\n",
      "Trying combination {'bootstrap': True, 'max_depth': 10, 'max_features': 'sqrt', 'max_samples': 0.6, 'n_estimators': 40, 'n_jobs': -1}\n",
      "Trying combination {'bootstrap': True, 'max_depth': 20, 'max_features': 'sqrt', 'max_samples': 0.6, 'n_estimators': 20, 'n_jobs': -1}\n",
      "Trying combination {'bootstrap': True, 'max_depth': 20, 'max_features': 'sqrt', 'max_samples': 0.6, 'n_estimators': 30, 'n_jobs': -1}\n",
      "Trying combination {'bootstrap': True, 'max_depth': 20, 'max_features': 'sqrt', 'max_samples': 0.6, 'n_estimators': 40, 'n_jobs': -1}\n",
      "Best Params for this fold: {'bootstrap': True, 'max_depth': 20, 'max_features': 'sqrt', 'max_samples': 0.6, 'n_estimators': 30, 'n_jobs': -1}, Best Fold Score: 0.04682280208459682\n",
      "Selected 26 stocks\n",
      "Trying combination {'bootstrap': True, 'max_depth': 10, 'max_features': 'sqrt', 'max_samples': 0.6, 'n_estimators': 20, 'n_jobs': -1}\n",
      "Trying combination {'bootstrap': True, 'max_depth': 10, 'max_features': 'sqrt', 'max_samples': 0.6, 'n_estimators': 30, 'n_jobs': -1}\n",
      "Trying combination {'bootstrap': True, 'max_depth': 10, 'max_features': 'sqrt', 'max_samples': 0.6, 'n_estimators': 40, 'n_jobs': -1}\n",
      "Trying combination {'bootstrap': True, 'max_depth': 20, 'max_features': 'sqrt', 'max_samples': 0.6, 'n_estimators': 20, 'n_jobs': -1}\n",
      "Trying combination {'bootstrap': True, 'max_depth': 20, 'max_features': 'sqrt', 'max_samples': 0.6, 'n_estimators': 30, 'n_jobs': -1}\n",
      "Trying combination {'bootstrap': True, 'max_depth': 20, 'max_features': 'sqrt', 'max_samples': 0.6, 'n_estimators': 40, 'n_jobs': -1}\n",
      "Best Params for this fold: {'bootstrap': True, 'max_depth': 20, 'max_features': 'sqrt', 'max_samples': 0.6, 'n_estimators': 20, 'n_jobs': -1}, Best Fold Score: 0.06160402845106072\n",
      "Selected 26 stocks\n",
      "Trying combination {'bootstrap': True, 'max_depth': 10, 'max_features': 'sqrt', 'max_samples': 0.6, 'n_estimators': 20, 'n_jobs': -1}\n",
      "Trying combination {'bootstrap': True, 'max_depth': 10, 'max_features': 'sqrt', 'max_samples': 0.6, 'n_estimators': 30, 'n_jobs': -1}\n",
      "Trying combination {'bootstrap': True, 'max_depth': 10, 'max_features': 'sqrt', 'max_samples': 0.6, 'n_estimators': 40, 'n_jobs': -1}\n",
      "Trying combination {'bootstrap': True, 'max_depth': 20, 'max_features': 'sqrt', 'max_samples': 0.6, 'n_estimators': 20, 'n_jobs': -1}\n",
      "Trying combination {'bootstrap': True, 'max_depth': 20, 'max_features': 'sqrt', 'max_samples': 0.6, 'n_estimators': 30, 'n_jobs': -1}\n",
      "Trying combination {'bootstrap': True, 'max_depth': 20, 'max_features': 'sqrt', 'max_samples': 0.6, 'n_estimators': 40, 'n_jobs': -1}\n",
      "Best Params for this fold: {'bootstrap': True, 'max_depth': 20, 'max_features': 'sqrt', 'max_samples': 0.6, 'n_estimators': 40, 'n_jobs': -1}, Best Fold Score: 0.046320740197379695\n",
      "Percentile: 0.7, Tracking Error: 0.04831035861658687, Adj Tracking Error: 0.048310358545557396\n"
     ]
    },
    {
     "data": {
      "image/png": "[encoded data removed]",
      "text/plain": [
       "<Figure size 640x480 with 1 Axes>"
      ]
     },
     "metadata": {},
     "output_type": "display_data"
    }
   ],
   "source": [
    "MI_RF_plot(X,y)"
   ]
  }
 ],
 "metadata": {
  "kaggle": {
   "accelerator": "none",
   "dataSources": [
    {
     "datasetId": 6024843,
     "sourceId": 9824880,
     "sourceType": "datasetVersion"
    },
    {
     "datasetId": 2401195,
     "sourceId": 9867252,
     "sourceType": "datasetVersion"
    },
    {
     "datasetId": 2490157,
     "sourceId": 9876776,
     "sourceType": "datasetVersion"
    }
   ],
   "dockerImageVersionId": 30786,
   "isGpuEnabled": false,
   "isInternetEnabled": true,
   "language": "python",
   "sourceType": "notebook"
  },
  "kernelspec": {
   "display_name": "Python 3",
   "language": "python",
   "name": "python3"
  },
  "language_info": {
   "codemirror_mode": {
    "name": "ipython",
    "version": 3
   },
   "file_extension": ".py",
   "mimetype": "text/x-python",
   "name": "python",
   "nbconvert_exporter": "python",
   "pygments_lexer": "ipython3",
   "version": "3.10.14"
  },
  "papermill": {
   "default_parameters": {},
   "duration": 6027.099158,
   "end_time": "2024-12-02T22:59:28.107026",
   "environment_variables": {},
   "exception": null,
   "input_path": "__notebook__.ipynb",
   "output_path": "__notebook__.ipynb",
   "parameters": {},
   "start_time": "2024-12-02T21:19:01.007868",
   "version": "2.6.0"
  }
 },
 "nbformat": 4,
 "nbformat_minor": 5
}
