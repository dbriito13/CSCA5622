{
 "cells": [
  {
   "cell_type": "markdown",
   "id": "952bebff",
   "metadata": {
    "_cell_guid": "b1076dfc-b9ad-4769-8c92-a6c4dae69d19",
    "_uuid": "8f2839f25d086af736a60e9eeb907d3b93b6e0e5",
    "papermill": {
     "duration": 0.00748,
     "end_time": "2024-11-11T09:50:18.874047",
     "exception": false,
     "start_time": "2024-11-11T09:50:18.866567",
     "status": "completed"
    },
    "tags": []
   },
   "source": [
    "# Nifty 50 Partial Replication"
   ]
  },
  {
   "cell_type": "code",
   "execution_count": 1,
   "id": "b3490f5c",
   "metadata": {
    "execution": {
     "iopub.execute_input": "2024-11-11T09:50:18.890491Z",
     "iopub.status.busy": "2024-11-11T09:50:18.889425Z",
     "iopub.status.idle": "2024-11-11T09:50:21.803314Z",
     "shell.execute_reply": "2024-11-11T09:50:21.802224Z"
    },
    "papermill": {
     "duration": 2.924726,
     "end_time": "2024-11-11T09:50:21.805863",
     "exception": false,
     "start_time": "2024-11-11T09:50:18.881137",
     "status": "completed"
    },
    "tags": []
   },
   "outputs": [],
   "source": [
    "import pandas as pd\n",
    "import numpy as np\n",
    "from sklearn.model_selection import train_test_split\n",
    "from sklearn.linear_model import Lasso\n",
    "from sklearn.metrics import mean_squared_error, r2_score, make_scorer\n",
    "from sklearn.model_selection import cross_val_score, TimeSeriesSplit\n",
    "from sklearn.linear_model import LassoCV\n",
    "import matplotlib.pyplot as plt\n",
    "import os\n",
    "import glob\n",
    "from tqdm import tqdm\n",
    "import warnings\n",
    "from sklearn.ensemble import RandomForestRegressor\n",
    "warnings.filterwarnings(\"ignore\")\n",
    "import xgboost as xgb\n",
    "from sklearn.feature_selection import SelectFromModel"
   ]
  },
  {
   "cell_type": "code",
   "execution_count": 2,
   "id": "70e0b9ca",
   "metadata": {
    "execution": {
     "iopub.execute_input": "2024-11-11T09:50:21.821029Z",
     "iopub.status.busy": "2024-11-11T09:50:21.820493Z",
     "iopub.status.idle": "2024-11-11T09:50:21.826772Z",
     "shell.execute_reply": "2024-11-11T09:50:21.825687Z"
    },
    "papermill": {
     "duration": 0.016257,
     "end_time": "2024-11-11T09:50:21.828895",
     "exception": false,
     "start_time": "2024-11-11T09:50:21.812638",
     "status": "completed"
    },
    "tags": []
   },
   "outputs": [],
   "source": [
    "def tracking_error(y_true, y_pred):\n",
    "    # Convert y_true and y_pred to pandas Series for easy handling of pct_change()\n",
    "    y_true = pd.Series(y_true)\n",
    "    y_pred = pd.Series(y_pred)\n",
    "    \n",
    "    # Calculate percentage change for true values and predictions\n",
    "    pct_change_true = y_true.pct_change() * 100\n",
    "    pct_change_pred = y_pred.pct_change() * 100\n",
    "    \n",
    "    # Calculate the difference between the percentage changes\n",
    "    diff_pct_change = pct_change_true - pct_change_pred    \n",
    "    \n",
    "    # Return the standard deviation of the differences (tracking error)\n",
    "    return np.std(diff_pct_change.dropna())  # dropna() to avoid NaN values in pct_change"
   ]
  },
  {
   "cell_type": "markdown",
   "id": "45f5620a",
   "metadata": {
    "papermill": {
     "duration": 0.006223,
     "end_time": "2024-11-11T09:50:21.841803",
     "exception": false,
     "start_time": "2024-11-11T09:50:21.835580",
     "status": "completed"
    },
    "tags": []
   },
   "source": [
    "## Data"
   ]
  },
  {
   "cell_type": "code",
   "execution_count": 3,
   "id": "f18993b6",
   "metadata": {
    "execution": {
     "iopub.execute_input": "2024-11-11T09:50:21.857768Z",
     "iopub.status.busy": "2024-11-11T09:50:21.857357Z",
     "iopub.status.idle": "2024-11-11T09:50:21.861982Z",
     "shell.execute_reply": "2024-11-11T09:50:21.860959Z"
    },
    "papermill": {
     "duration": 0.014712,
     "end_time": "2024-11-11T09:50:21.864317",
     "exception": false,
     "start_time": "2024-11-11T09:50:21.849605",
     "status": "completed"
    },
    "tags": []
   },
   "outputs": [],
   "source": [
    "# directory_path = '/kaggle/input/stock-market-data-nifty-50-stocks-1-min-data'\n",
    "# pattern = os.path.join(directory_path, \"*.csv\")  # Change \"*.csv\" to match other patterns if needed\n",
    "\n",
    "# Get the list of files that match the pattern\n",
    "# file_list = glob.glob(pattern)"
   ]
  },
  {
   "cell_type": "code",
   "execution_count": 4,
   "id": "0f6f610c",
   "metadata": {
    "execution": {
     "iopub.execute_input": "2024-11-11T09:50:21.879215Z",
     "iopub.status.busy": "2024-11-11T09:50:21.878795Z",
     "iopub.status.idle": "2024-11-11T09:50:21.885303Z",
     "shell.execute_reply": "2024-11-11T09:50:21.884224Z"
    },
    "papermill": {
     "duration": 0.016334,
     "end_time": "2024-11-11T09:50:21.887405",
     "exception": false,
     "start_time": "2024-11-11T09:50:21.871071",
     "status": "completed"
    },
    "tags": []
   },
   "outputs": [],
   "source": [
    "def fetch_data(cols):\n",
    "    df_list = []\n",
    "    for file in tqdm(file_list):\n",
    "        stock_name = os.path.basename(file).split(\"_\")[0]\n",
    "        file_df = pd.read_csv(file, index_col=0)\n",
    "        file_df = file_df[[cols]]\n",
    "        file_df.columns = pd.MultiIndex.from_product([[stock_name], file_df.columns])\n",
    "        df_list.append(file_df)\n",
    "    return pd.concat(df_list, axis=1)"
   ]
  },
  {
   "cell_type": "code",
   "execution_count": 5,
   "id": "0478686a",
   "metadata": {
    "execution": {
     "iopub.execute_input": "2024-11-11T09:50:21.902459Z",
     "iopub.status.busy": "2024-11-11T09:50:21.902022Z",
     "iopub.status.idle": "2024-11-11T09:50:21.906633Z",
     "shell.execute_reply": "2024-11-11T09:50:21.905461Z"
    },
    "papermill": {
     "duration": 0.01489,
     "end_time": "2024-11-11T09:50:21.909008",
     "exception": false,
     "start_time": "2024-11-11T09:50:21.894118",
     "status": "completed"
    },
    "tags": []
   },
   "outputs": [],
   "source": [
    "# df = fetch_data('close')\n",
    "# df.to_csv('/kaggle/input/nifty_50_closing.csv')"
   ]
  },
  {
   "cell_type": "code",
   "execution_count": 6,
   "id": "15b2c58e",
   "metadata": {
    "execution": {
     "iopub.execute_input": "2024-11-11T09:50:21.923956Z",
     "iopub.status.busy": "2024-11-11T09:50:21.923518Z",
     "iopub.status.idle": "2024-11-11T09:50:43.540831Z",
     "shell.execute_reply": "2024-11-11T09:50:43.539800Z"
    },
    "papermill": {
     "duration": 21.627711,
     "end_time": "2024-11-11T09:50:43.543418",
     "exception": false,
     "start_time": "2024-11-11T09:50:21.915707",
     "status": "completed"
    },
    "tags": []
   },
   "outputs": [],
   "source": [
    "df = pd.read_csv('/kaggle/input/nifty-50-closing-data/nifty_50_closing.csv', index_col=0, header=[0, 1])\n",
    "df = df.xs('close', level=1, axis=1)\n",
    "df.index = pd.to_datetime(df.index)"
   ]
  },
  {
   "cell_type": "code",
   "execution_count": 7,
   "id": "115b1ce2",
   "metadata": {
    "execution": {
     "iopub.execute_input": "2024-11-11T09:50:43.558415Z",
     "iopub.status.busy": "2024-11-11T09:50:43.557974Z",
     "iopub.status.idle": "2024-11-11T09:50:45.704392Z",
     "shell.execute_reply": "2024-11-11T09:50:45.703447Z"
    },
    "papermill": {
     "duration": 2.156861,
     "end_time": "2024-11-11T09:50:45.707048",
     "exception": false,
     "start_time": "2024-11-11T09:50:43.550187",
     "status": "completed"
    },
    "tags": []
   },
   "outputs": [],
   "source": [
    "nifty_100_closing = pd.read_csv('/kaggle/input/nifty-50-minute-data/NIFTY 100_minute.csv', index_col=0)[['close']]\n",
    "nifty_100_closing.index = pd.to_datetime(nifty_100_closing.index)\n",
    "nifty_100_closing.rename(columns={'close': 'NIFTY_100'}, inplace=True)"
   ]
  },
  {
   "cell_type": "code",
   "execution_count": 8,
   "id": "70d8414a",
   "metadata": {
    "execution": {
     "iopub.execute_input": "2024-11-11T09:50:45.722329Z",
     "iopub.status.busy": "2024-11-11T09:50:45.721315Z",
     "iopub.status.idle": "2024-11-11T09:50:45.727604Z",
     "shell.execute_reply": "2024-11-11T09:50:45.726472Z"
    },
    "papermill": {
     "duration": 0.016171,
     "end_time": "2024-11-11T09:50:45.729860",
     "exception": false,
     "start_time": "2024-11-11T09:50:45.713689",
     "status": "completed"
    },
    "tags": []
   },
   "outputs": [
    {
     "name": "stdout",
     "output_type": "stream",
     "text": [
      "Index type for df1: <class 'pandas.core.indexes.datetimes.DatetimeIndex'>\n",
      "Index type for df2: <class 'pandas.core.indexes.datetimes.DatetimeIndex'>\n"
     ]
    }
   ],
   "source": [
    "print(f\"Index type for df1: {type(df.index)}\")\n",
    "print(f\"Index type for df2: {type(nifty_100_closing.index)}\")"
   ]
  },
  {
   "cell_type": "code",
   "execution_count": 9,
   "id": "ff4066fb",
   "metadata": {
    "execution": {
     "iopub.execute_input": "2024-11-11T09:50:45.745125Z",
     "iopub.status.busy": "2024-11-11T09:50:45.744697Z",
     "iopub.status.idle": "2024-11-11T09:50:47.013763Z",
     "shell.execute_reply": "2024-11-11T09:50:47.012762Z"
    },
    "papermill": {
     "duration": 1.279463,
     "end_time": "2024-11-11T09:50:47.016076",
     "exception": false,
     "start_time": "2024-11-11T09:50:45.736613",
     "status": "completed"
    },
    "tags": []
   },
   "outputs": [
    {
     "data": {
      "text/html": [
       "<div>\n",
       "<style scoped>\n",
       "    .dataframe tbody tr th:only-of-type {\n",
       "        vertical-align: middle;\n",
       "    }\n",
       "\n",
       "    .dataframe tbody tr th {\n",
       "        vertical-align: top;\n",
       "    }\n",
       "\n",
       "    .dataframe thead th {\n",
       "        text-align: right;\n",
       "    }\n",
       "</style>\n",
       "<table border=\"1\" class=\"dataframe\">\n",
       "  <thead>\n",
       "    <tr style=\"text-align: right;\">\n",
       "      <th></th>\n",
       "      <th>HDFCAMC</th>\n",
       "      <th>APOLLOHOSP</th>\n",
       "      <th>BOSCHLTD</th>\n",
       "      <th>INDUSTOWER</th>\n",
       "      <th>BERGEPAINT</th>\n",
       "      <th>MARICO</th>\n",
       "      <th>ICICIPRULI</th>\n",
       "      <th>HDFCLIFE</th>\n",
       "      <th>SBIN</th>\n",
       "      <th>SUNPHARMA</th>\n",
       "      <th>...</th>\n",
       "      <th>SBICARD</th>\n",
       "      <th>DABUR</th>\n",
       "      <th>SAIL</th>\n",
       "      <th>BRITANNIA</th>\n",
       "      <th>ADANIPORTS</th>\n",
       "      <th>ONGC</th>\n",
       "      <th>EICHERMOT</th>\n",
       "      <th>TECHM</th>\n",
       "      <th>JINDALSTEL</th>\n",
       "      <th>HEROMOTOCO</th>\n",
       "    </tr>\n",
       "    <tr>\n",
       "      <th>date</th>\n",
       "      <th></th>\n",
       "      <th></th>\n",
       "      <th></th>\n",
       "      <th></th>\n",
       "      <th></th>\n",
       "      <th></th>\n",
       "      <th></th>\n",
       "      <th></th>\n",
       "      <th></th>\n",
       "      <th></th>\n",
       "      <th></th>\n",
       "      <th></th>\n",
       "      <th></th>\n",
       "      <th></th>\n",
       "      <th></th>\n",
       "      <th></th>\n",
       "      <th></th>\n",
       "      <th></th>\n",
       "      <th></th>\n",
       "      <th></th>\n",
       "      <th></th>\n",
       "    </tr>\n",
       "  </thead>\n",
       "  <tbody>\n",
       "    <tr>\n",
       "      <th>2018-08-06 10:47:00</th>\n",
       "      <td>1803.95</td>\n",
       "      <td>974.3</td>\n",
       "      <td>19187.45</td>\n",
       "      <td>290.0</td>\n",
       "      <td>316.85</td>\n",
       "      <td>357.95</td>\n",
       "      <td>408.50</td>\n",
       "      <td>485.00</td>\n",
       "      <td>306.70</td>\n",
       "      <td>579.65</td>\n",
       "      <td>...</td>\n",
       "      <td>0.0</td>\n",
       "      <td>435.30</td>\n",
       "      <td>79.35</td>\n",
       "      <td>3194.92</td>\n",
       "      <td>400.70</td>\n",
       "      <td>167.75</td>\n",
       "      <td>2711.3</td>\n",
       "      <td>670.45</td>\n",
       "      <td>207.65</td>\n",
       "      <td>3259.0</td>\n",
       "    </tr>\n",
       "    <tr>\n",
       "      <th>2018-08-06 10:48:00</th>\n",
       "      <td>1803.90</td>\n",
       "      <td>973.7</td>\n",
       "      <td>19187.45</td>\n",
       "      <td>290.0</td>\n",
       "      <td>316.50</td>\n",
       "      <td>357.55</td>\n",
       "      <td>408.10</td>\n",
       "      <td>484.95</td>\n",
       "      <td>306.70</td>\n",
       "      <td>579.30</td>\n",
       "      <td>...</td>\n",
       "      <td>0.0</td>\n",
       "      <td>435.15</td>\n",
       "      <td>79.30</td>\n",
       "      <td>3193.02</td>\n",
       "      <td>400.55</td>\n",
       "      <td>167.55</td>\n",
       "      <td>2710.6</td>\n",
       "      <td>670.55</td>\n",
       "      <td>207.80</td>\n",
       "      <td>3260.6</td>\n",
       "    </tr>\n",
       "    <tr>\n",
       "      <th>2018-08-06 10:49:00</th>\n",
       "      <td>1806.00</td>\n",
       "      <td>973.7</td>\n",
       "      <td>19187.45</td>\n",
       "      <td>290.0</td>\n",
       "      <td>316.85</td>\n",
       "      <td>357.20</td>\n",
       "      <td>408.85</td>\n",
       "      <td>485.00</td>\n",
       "      <td>306.75</td>\n",
       "      <td>579.45</td>\n",
       "      <td>...</td>\n",
       "      <td>0.0</td>\n",
       "      <td>435.70</td>\n",
       "      <td>79.30</td>\n",
       "      <td>3192.50</td>\n",
       "      <td>400.30</td>\n",
       "      <td>167.55</td>\n",
       "      <td>2709.8</td>\n",
       "      <td>670.65</td>\n",
       "      <td>207.55</td>\n",
       "      <td>3259.5</td>\n",
       "    </tr>\n",
       "  </tbody>\n",
       "</table>\n",
       "<p>3 rows × 101 columns</p>\n",
       "</div>"
      ],
      "text/plain": [
       "                     HDFCAMC  APOLLOHOSP  BOSCHLTD  INDUSTOWER  BERGEPAINT  \\\n",
       "date                                                                         \n",
       "2018-08-06 10:47:00  1803.95       974.3  19187.45       290.0      316.85   \n",
       "2018-08-06 10:48:00  1803.90       973.7  19187.45       290.0      316.50   \n",
       "2018-08-06 10:49:00  1806.00       973.7  19187.45       290.0      316.85   \n",
       "\n",
       "                     MARICO  ICICIPRULI  HDFCLIFE    SBIN  SUNPHARMA  ...  \\\n",
       "date                                                                  ...   \n",
       "2018-08-06 10:47:00  357.95      408.50    485.00  306.70     579.65  ...   \n",
       "2018-08-06 10:48:00  357.55      408.10    484.95  306.70     579.30  ...   \n",
       "2018-08-06 10:49:00  357.20      408.85    485.00  306.75     579.45  ...   \n",
       "\n",
       "                     SBICARD   DABUR   SAIL  BRITANNIA  ADANIPORTS    ONGC  \\\n",
       "date                                                                         \n",
       "2018-08-06 10:47:00      0.0  435.30  79.35    3194.92      400.70  167.75   \n",
       "2018-08-06 10:48:00      0.0  435.15  79.30    3193.02      400.55  167.55   \n",
       "2018-08-06 10:49:00      0.0  435.70  79.30    3192.50      400.30  167.55   \n",
       "\n",
       "                     EICHERMOT   TECHM  JINDALSTEL  HEROMOTOCO  \n",
       "date                                                            \n",
       "2018-08-06 10:47:00     2711.3  670.45      207.65      3259.0  \n",
       "2018-08-06 10:48:00     2710.6  670.55      207.80      3260.6  \n",
       "2018-08-06 10:49:00     2709.8  670.65      207.55      3259.5  \n",
       "\n",
       "[3 rows x 101 columns]"
      ]
     },
     "execution_count": 9,
     "metadata": {},
     "output_type": "execute_result"
    }
   ],
   "source": [
    "# df.interpolate(method='linear', inplace=True)\n",
    "# To fill the first row NaN with the value from the next minute\n",
    "df.fillna(0, inplace=True)\n",
    "df.index = df.index.tz_localize(None)\n",
    "df.head(3)"
   ]
  },
  {
   "cell_type": "code",
   "execution_count": 10,
   "id": "d2d13a76",
   "metadata": {
    "execution": {
     "iopub.execute_input": "2024-11-11T09:50:47.031529Z",
     "iopub.status.busy": "2024-11-11T09:50:47.031117Z",
     "iopub.status.idle": "2024-11-11T09:50:47.378214Z",
     "shell.execute_reply": "2024-11-11T09:50:47.377135Z"
    },
    "papermill": {
     "duration": 0.357781,
     "end_time": "2024-11-11T09:50:47.380778",
     "exception": false,
     "start_time": "2024-11-11T09:50:47.022997",
     "status": "completed"
    },
    "tags": []
   },
   "outputs": [],
   "source": [
    "df_total = df.join(nifty_100_closing, how='left')"
   ]
  },
  {
   "cell_type": "code",
   "execution_count": 11,
   "id": "e1e0080a",
   "metadata": {
    "execution": {
     "iopub.execute_input": "2024-11-11T09:50:47.397005Z",
     "iopub.status.busy": "2024-11-11T09:50:47.396179Z",
     "iopub.status.idle": "2024-11-11T09:50:47.755861Z",
     "shell.execute_reply": "2024-11-11T09:50:47.754868Z"
    },
    "papermill": {
     "duration": 0.370468,
     "end_time": "2024-11-11T09:50:47.758479",
     "exception": false,
     "start_time": "2024-11-11T09:50:47.388011",
     "status": "completed"
    },
    "tags": []
   },
   "outputs": [],
   "source": [
    "df_total.dropna(inplace=True)"
   ]
  },
  {
   "cell_type": "markdown",
   "id": "ecca205f",
   "metadata": {
    "papermill": {
     "duration": 0.006805,
     "end_time": "2024-11-11T09:50:47.772662",
     "exception": false,
     "start_time": "2024-11-11T09:50:47.765857",
     "status": "completed"
    },
    "tags": []
   },
   "source": [
    "# Models"
   ]
  },
  {
   "cell_type": "markdown",
   "id": "815f2d73",
   "metadata": {
    "papermill": {
     "duration": 0.006678,
     "end_time": "2024-11-11T09:50:47.786411",
     "exception": false,
     "start_time": "2024-11-11T09:50:47.779733",
     "status": "completed"
    },
    "tags": []
   },
   "source": [
    "# Lasso Regression"
   ]
  },
  {
   "cell_type": "code",
   "execution_count": 12,
   "id": "26613fe7",
   "metadata": {
    "execution": {
     "iopub.execute_input": "2024-11-11T09:50:47.802499Z",
     "iopub.status.busy": "2024-11-11T09:50:47.801438Z",
     "iopub.status.idle": "2024-11-11T09:50:47.810379Z",
     "shell.execute_reply": "2024-11-11T09:50:47.809335Z"
    },
    "papermill": {
     "duration": 0.019527,
     "end_time": "2024-11-11T09:50:47.812868",
     "exception": false,
     "start_time": "2024-11-11T09:50:47.793341",
     "status": "completed"
    },
    "tags": []
   },
   "outputs": [],
   "source": [
    "def train_lasso(alpha, tscv, X, y):\n",
    "    lasso = Lasso(alpha=alpha, max_iter=30000)\n",
    "    scores = []\n",
    "    coefficients = []\n",
    "    \n",
    "    for train_index, test_index in tscv.split(X):\n",
    "        X_train_cv, X_test_cv = X.iloc[train_index], X.iloc[test_index]\n",
    "        y_train_cv, y_test_cv = y.iloc[train_index], y.iloc[test_index]\n",
    "        \n",
    "        # Fit Lasso model on the training data\n",
    "        lasso.fit(X_train_cv, y_train_cv)\n",
    "        w\n",
    "        # Append the coefficients for this fold\n",
    "        coefficients.append(lasso.coef_)\n",
    "        \n",
    "        # Get predictions and calculate the custom score for this fold\n",
    "        y_pred = lasso.predict(X_test_cv)\n",
    "        fold_score = tracking_error(y_test_cv.values, y_pred)  # Replace with your custom metric\n",
    "        print(f\"Fold Score {fold_score}\")\n",
    "        scores.append(fold_score)\n",
    "    \n",
    "    # Calculate the average coefficients across all folds\n",
    "    average_coefficients = np.mean(coefficients, axis=0)\n",
    "    \n",
    "    # Calculate the average score across all folds\n",
    "    average_score = np.mean(scores)\n",
    "\n",
    "    selected_stocks = np.where(abs(average_coefficients) > 1e-5)[0]\n",
    "\n",
    "    print(f\"-------alpha: {alpha}-------\")\n",
    "    print(f\"CV Score: {average_score}\")\n",
    "    print(f\"Number of Stocks: {len(selected_stocks)}\")\n",
    "\n",
    "    return (selected_stocks, average_score)"
   ]
  },
  {
   "cell_type": "markdown",
   "id": "642c11f6",
   "metadata": {
    "papermill": {
     "duration": 0.007025,
     "end_time": "2024-11-11T09:50:47.827149",
     "exception": false,
     "start_time": "2024-11-11T09:50:47.820124",
     "status": "completed"
    },
    "tags": []
   },
   "source": [
    "## Combined Approach\n",
    "In this section, we will utilize a combined approach to limit the number of features (stocks) and train our models.\n",
    "\n",
    "1. Feature Selection (using Lasso w/ high alpha, Mutual Info, ANOVA, RFE)\n",
    "2. Define threshold to drop features\n",
    "3. Train model on reduced feature space (Hyperparameter tuned)\n",
    "4. Get tracking error\n",
    "5. Save pair (number of stocks, tracking error) for plotting"
   ]
  },
  {
   "cell_type": "markdown",
   "id": "3c056f11",
   "metadata": {
    "papermill": {
     "duration": 0.006807,
     "end_time": "2024-11-11T09:50:47.841016",
     "exception": false,
     "start_time": "2024-11-11T09:50:47.834209",
     "status": "completed"
    },
    "tags": []
   },
   "source": [
    "### Lasso - Lasso\n",
    "We will utilize a Lasso model with a high alpha value to perform feature selection, this will drop the coefficients for less important features to 0. After that we retrain a Lasso model with hyperparameter tuning."
   ]
  },
  {
   "cell_type": "code",
   "execution_count": 13,
   "id": "ec40dd90",
   "metadata": {
    "execution": {
     "iopub.execute_input": "2024-11-11T09:50:47.856795Z",
     "iopub.status.busy": "2024-11-11T09:50:47.856408Z",
     "iopub.status.idle": "2024-11-11T09:50:47.866863Z",
     "shell.execute_reply": "2024-11-11T09:50:47.865807Z"
    },
    "papermill": {
     "duration": 0.020778,
     "end_time": "2024-11-11T09:50:47.868981",
     "exception": false,
     "start_time": "2024-11-11T09:50:47.848203",
     "status": "completed"
    },
    "tags": []
   },
   "outputs": [],
   "source": [
    "def Lasso_Lasso(alpha, X, y):\n",
    "    tscv = TimeSeriesSplit(n_splits=3)\n",
    "    lasso_cv = LassoCV(alphas=[alpha], cv=tscv, max_iter=10000, random_state=42)\n",
    "    lasso_cv.fit(X, y)\n",
    "\n",
    "    # Get selected features    \n",
    "    selector = SelectFromModel(lasso_cv, threshold=0.05, max_features=None)  # Adjust threshold as needed\n",
    "    X_selected = selector.transform(X)\n",
    "    selected_features = np.where(selector.get_support())[0] \n",
    "    X_selected_df = pd.DataFrame(X_selected, index=X.index, columns=X.columns[selected_features])\n",
    "    print(f\"Selected {len(selected_features)} stocks\")\n",
    "\n",
    "    alphas = [0.1, 0.5, 1, 5, 10]\n",
    "    best_alpha = None\n",
    "    best_score = np.inf  # Initialize with a high value, so any result will be better\n",
    "    \n",
    "    for alpha in alphas:\n",
    "        lasso = Lasso(alpha=alpha, max_iter=10000)\n",
    "        fold_scores = []  # Store the tracking error for each fold\n",
    "\n",
    "        # Loop over each fold in the TimeSeriesSplit\n",
    "        for train_index, test_index in tscv.split(X_selected_df):\n",
    "            X_train_cv, X_test_cv = X_selected_df.iloc[train_index], X_selected_df.iloc[test_index]\n",
    "            y_train_cv, y_test_cv = y.iloc[train_index], y.iloc[test_index]\n",
    "            \n",
    "            # Fit the Lasso model on the training data\n",
    "            lasso.fit(X_train_cv, y_train_cv)\n",
    "            \n",
    "            # Predict on the test data\n",
    "            y_pred = lasso.predict(X_test_cv)\n",
    "    \n",
    "            # Evaluate the model using the custom metric (e.g., tracking error)\n",
    "            fold_score = tracking_error(y_test_cv.values, y_pred)\n",
    "            fold_scores.append(fold_score)\n",
    "        \n",
    "        # Calculate the average score across all folds\n",
    "        average_score = np.mean(fold_scores)\n",
    "        \n",
    "        # Print the tracking error for this alpha\n",
    "        print(f\"Alpha: {alpha}, Average Tracking Error: {average_score}\")\n",
    "    \n",
    "        # Track the best alpha (with the lowest tracking error)\n",
    "        if average_score < best_score:\n",
    "            best_score = average_score\n",
    "            best_alpha = alpha\n",
    "    \n",
    "    print(f\"\\nBest Alpha: {best_alpha} with Tracking Error: {best_score}\")    \n",
    "    return len(selected_features), best_score"
   ]
  },
  {
   "cell_type": "code",
   "execution_count": 14,
   "id": "e10c33c9",
   "metadata": {
    "execution": {
     "iopub.execute_input": "2024-11-11T09:50:47.884780Z",
     "iopub.status.busy": "2024-11-11T09:50:47.884096Z",
     "iopub.status.idle": "2024-11-11T14:34:04.270084Z",
     "shell.execute_reply": "2024-11-11T14:34:04.268898Z"
    },
    "papermill": {
     "duration": 16996.39667,
     "end_time": "2024-11-11T14:34:04.272643",
     "exception": false,
     "start_time": "2024-11-11T09:50:47.875973",
     "status": "completed"
    },
    "tags": []
   },
   "outputs": [
    {
     "name": "stdout",
     "output_type": "stream",
     "text": [
      "Selected 80 stocks\n",
      "Alpha: 0.1, Average Tracking Error: 0.38445663091341054\n",
      "Alpha: 0.5, Average Tracking Error: 0.3828168089633545\n",
      "Alpha: 1, Average Tracking Error: 0.38057567916889673\n",
      "Alpha: 5, Average Tracking Error: 0.3664935203284137\n",
      "Alpha: 10, Average Tracking Error: 0.34938792049395717\n",
      "\n",
      "Best Alpha: 10 with Tracking Error: 0.34938792049395717\n",
      "Selected 77 stocks\n",
      "Alpha: 0.1, Average Tracking Error: 0.3879591641630573\n",
      "Alpha: 0.5, Average Tracking Error: 0.38586096806514547\n",
      "Alpha: 1, Average Tracking Error: 0.3832941499986924\n",
      "Alpha: 5, Average Tracking Error: 0.3662222514044384\n",
      "Alpha: 10, Average Tracking Error: 0.35356170085336797\n",
      "\n",
      "Best Alpha: 10 with Tracking Error: 0.35356170085336797\n",
      "Selected 70 stocks\n",
      "Alpha: 0.1, Average Tracking Error: 0.3388079580428595\n",
      "Alpha: 0.5, Average Tracking Error: 0.3384235666284762\n",
      "Alpha: 1, Average Tracking Error: 0.33796297508781104\n",
      "Alpha: 5, Average Tracking Error: 0.3333254136071376\n",
      "Alpha: 10, Average Tracking Error: 0.32742186336459267\n",
      "\n",
      "Best Alpha: 10 with Tracking Error: 0.32742186336459267\n",
      "[80, 77, 70] [0.34938792049395717, 0.35356170085336797, 0.32742186336459267]\n"
     ]
    },
    {
     "data": {
      "image/png": "[encoded data removed]",
      "text/plain": [
       "<Figure size 640x480 with 2 Axes>"
      ]
     },
     "metadata": {},
     "output_type": "display_data"
    }
   ],
   "source": [
    "X = df_total.drop(columns=['NIFTY 50', 'NIFTY BANK', 'NIFTY_100'])\n",
    "y = df_total['NIFTY_100']\n",
    "\n",
    "alphas = [50, 75, 100]\n",
    "tracking_errors = []\n",
    "num_stocks_list = []\n",
    "\n",
    "for alpha in alphas:\n",
    "    num_stocks, tracking_err = Lasso_Lasso(alpha, X, y)\n",
    "    num_stocks_list.append(num_stocks)\n",
    "    tracking_errors.append(tracking_err)\n",
    "\n",
    "print(num_stocks_list, tracking_errors)\n",
    "\n",
    "# Plotting the results\n",
    "fig, ax1 = plt.subplots()\n",
    "\n",
    "# Plotting number of stocks on the primary y-axis\n",
    "color = 'tab:blue'\n",
    "ax1.set_xlabel('Alpha')\n",
    "ax1.set_ylabel('Number of Stocks', color=color)\n",
    "ax1.plot(alphas, num_stocks_list, color=color, marker='o', label='Number of Stocks')\n",
    "ax1.tick_params(axis='y', labelcolor=color)\n",
    "\n",
    "# Creating a second y-axis for tracking error\n",
    "ax2 = ax1.twinx()\n",
    "color = 'tab:red'\n",
    "ax2.set_ylabel('Tracking Error', color=color)\n",
    "ax2.plot(alphas, tracking_errors, color=color, marker='x', linestyle='--', label='Tracking Error')\n",
    "ax2.tick_params(axis='y', labelcolor=color)\n",
    "\n",
    "# Adding a title and legend\n",
    "plt.title('Number of Stocks and Tracking Error vs. Alpha')\n",
    "fig.tight_layout()  # Adjust layout to prevent overlap\n",
    "plt.show()"
   ]
  },
  {
   "cell_type": "markdown",
   "id": "ffe2d1d7",
   "metadata": {
    "papermill": {
     "duration": 0.008801,
     "end_time": "2024-11-11T14:34:04.290474",
     "exception": false,
     "start_time": "2024-11-11T14:34:04.281673",
     "status": "completed"
    },
    "tags": []
   },
   "source": [
    "# Random Forest"
   ]
  },
  {
   "cell_type": "code",
   "execution_count": 15,
   "id": "aac9462d",
   "metadata": {
    "execution": {
     "iopub.execute_input": "2024-11-11T14:34:04.310286Z",
     "iopub.status.busy": "2024-11-11T14:34:04.309851Z",
     "iopub.status.idle": "2024-11-11T14:34:04.320867Z",
     "shell.execute_reply": "2024-11-11T14:34:04.319862Z"
    },
    "papermill": {
     "duration": 0.02356,
     "end_time": "2024-11-11T14:34:04.323079",
     "exception": false,
     "start_time": "2024-11-11T14:34:04.299519",
     "status": "completed"
    },
    "tags": []
   },
   "outputs": [],
   "source": [
    "def train_random_forest(tscv, depth, samples, estimators, X, y):\n",
    "    rf = RandomForestRegressor(max_features=\"log2\", max_depth=depth, min_samples_split=samples, n_estimators=estimators, random_state=42)\n",
    "    scores = []\n",
    "    importances = []\n",
    "    \n",
    "    for train_index, test_index in tscv.split(X):\n",
    "        X_train_cv, X_test_cv = X.iloc[train_index], X.iloc[test_index]\n",
    "        y_train_cv, y_test_cv = y.iloc[train_index], y.iloc[test_index]\n",
    "        \n",
    "        # Fit Lasso model on the training data\n",
    "        rf.fit(X_train_cv, y_train_cv)\n",
    "        \n",
    "        # Get feature importance scores\n",
    "        importances.append(rf.feature_importances_)\n",
    "        \n",
    "        # Get predictions and calculate the custom score for this fold\n",
    "        y_pred = rf.predict(X_test_cv)\n",
    "        fold_score = tracking_error(y_test_cv.values, y_pred)  # Replace with your custom metric\n",
    "        print(f\"Fold Score {fold_score}\")\n",
    "        scores.append(fold_score)\n",
    "    \n",
    "    # Calculate the average coefficients across all folds\n",
    "    average_importances = np.mean(importances, axis=0)\n",
    "    \n",
    "    # Calculate the average score across all folds\n",
    "    average_score = np.mean(scores)\n",
    "\n",
    "    selected_stocks = np.where(abs(average_importances) > 1e-5)[0]\n",
    "\n",
    "    print(len(np.where(abs(average_importances) == 0.0)[0]))\n",
    "\n",
    "    print(selected_stocks)\n",
    "\n",
    "    print(\"-------Avg Scores-------\")\n",
    "    print(f\"CV Score: {average_score}\")\n",
    "    print(f\"Number of Stocks: {len(selected_stocks)}\")\n",
    "\n",
    "    return (selected_stocks, average_score)"
   ]
  },
  {
   "cell_type": "code",
   "execution_count": 16,
   "id": "08f01a38",
   "metadata": {
    "execution": {
     "iopub.execute_input": "2024-11-11T14:34:04.342961Z",
     "iopub.status.busy": "2024-11-11T14:34:04.342580Z",
     "iopub.status.idle": "2024-11-11T14:34:05.295516Z",
     "shell.execute_reply": "2024-11-11T14:34:05.294178Z"
    },
    "papermill": {
     "duration": 0.966068,
     "end_time": "2024-11-11T14:34:05.298053",
     "exception": false,
     "start_time": "2024-11-11T14:34:04.331985",
     "status": "completed"
    },
    "tags": []
   },
   "outputs": [],
   "source": [
    "X = df_total.drop(columns=['NIFTY 50', 'NIFTY BANK', 'NIFTY_100'])\n",
    "y = df_total['NIFTY_100']\n",
    "\n",
    "tscv = TimeSeriesSplit(n_splits=3)\n",
    "\n",
    "#train_random_forest(tscv, 2, 5, 15, X, y)"
   ]
  },
  {
   "cell_type": "markdown",
   "id": "620d5c2b",
   "metadata": {
    "papermill": {
     "duration": 0.008708,
     "end_time": "2024-11-11T14:34:05.315828",
     "exception": false,
     "start_time": "2024-11-11T14:34:05.307120",
     "status": "completed"
    },
    "tags": []
   },
   "source": [
    "X = df_total.drop(columns=['NIFTY 50', 'NIFTY BANK', 'NIFTY_100'])\n",
    "y = df_total['NIFTY_100']\n",
    "\n",
    "tscv = TimeSeriesSplit(n_splits=3)\n",
    "\n",
    "param_grid = {\n",
    "    'n_estimators': [15, 20, 25, 30, 35],\n",
    "    'max_depth': [2, 3, 4],\n",
    "    'min_samples_split': [5, 10, 15, 20]\n",
    "}\n",
    "\n",
    "results = []\n",
    "\n",
    "for n_estimators in param_grid['n_estimators']:\n",
    "    for max_depth in param_grid['max_depth']:\n",
    "        for samples in param_grid['min_samples_split']:\n",
    "            (stocks, err) = train_random_forest(tscv, max_depth, samples, n_estimators, X, y)\n",
    "            results.append({\n",
    "                'n_estimators': n_estimators,\n",
    "                'max_depth': max_depth,\n",
    "                'min_samples_split': samples,\n",
    "                'tracking_error': err,\n",
    "                'num_selected_stocks': len(stocks)\n",
    "            })\n",
    "\n",
    "\n",
    "with open(\"/kaggle/working/rf_results.json\", \"w\") as file:\n",
    "    json.dump(results, file, indent=4)  # `indent=4` for pretty formatting"
   ]
  },
  {
   "cell_type": "markdown",
   "id": "795c7b5d",
   "metadata": {
    "papermill": {
     "duration": 0.008686,
     "end_time": "2024-11-11T14:34:05.334736",
     "exception": false,
     "start_time": "2024-11-11T14:34:05.326050",
     "status": "completed"
    },
    "tags": []
   },
   "source": [
    "For the random forest model, only models with a very low number of estimators (n_estimators) 10 - 20, achieve feature selection, but those models probably suffer from high variance and won't be good enough to generalize. "
   ]
  },
  {
   "cell_type": "markdown",
   "id": "057c490b",
   "metadata": {
    "papermill": {
     "duration": 0.008756,
     "end_time": "2024-11-11T14:34:05.352505",
     "exception": false,
     "start_time": "2024-11-11T14:34:05.343749",
     "status": "completed"
    },
    "tags": []
   },
   "source": [
    "## Gradient Boosting"
   ]
  },
  {
   "cell_type": "markdown",
   "id": "7fd47be1",
   "metadata": {
    "papermill": {
     "duration": 0.008563,
     "end_time": "2024-11-11T14:34:05.369943",
     "exception": false,
     "start_time": "2024-11-11T14:34:05.361380",
     "status": "completed"
    },
    "tags": []
   },
   "source": [
    "### XGBoost"
   ]
  },
  {
   "cell_type": "code",
   "execution_count": 17,
   "id": "b9ea194c",
   "metadata": {
    "execution": {
     "iopub.execute_input": "2024-11-11T14:34:05.389711Z",
     "iopub.status.busy": "2024-11-11T14:34:05.389256Z",
     "iopub.status.idle": "2024-11-11T14:34:05.398611Z",
     "shell.execute_reply": "2024-11-11T14:34:05.397647Z"
    },
    "papermill": {
     "duration": 0.021934,
     "end_time": "2024-11-11T14:34:05.400765",
     "exception": false,
     "start_time": "2024-11-11T14:34:05.378831",
     "status": "completed"
    },
    "tags": []
   },
   "outputs": [],
   "source": [
    "def train_xgboost(tscv, X, y):\n",
    "    xgbr = xgb.XGBRegressor(\n",
    "        n_estimators=100,\n",
    "        max_depth=2,\n",
    "        min_child_weight=5,\n",
    "        gamma=5,\n",
    "        subsample=0.5,\n",
    "        colsample_bytree=0.3,\n",
    "        alpha=100,\n",
    "        learning_rate=0.1,\n",
    "        random_state=42\n",
    "    )\n",
    "\n",
    "    scores = []\n",
    "    importances = []\n",
    "\n",
    "    for train_index, test_index in tscv.split(X):\n",
    "        X_train_cv, X_test_cv = X.iloc[train_index], X.iloc[test_index]\n",
    "        y_train_cv, y_test_cv = y.iloc[train_index], y.iloc[test_index]\n",
    "        \n",
    "        # Fit XGBR model on the training data\n",
    "        xgbr.fit(X_train_cv, y_train_cv)\n",
    "        \n",
    "        # Get predictions and calculate the custom score for this fold\n",
    "        y_pred = xgbr.predict(X_test_cv)\n",
    "        fold_score = tracking_error(y_test_cv.values, y_pred)  # Replace with your custom metric\n",
    "        print(f\"Fold Score {fold_score}\")\n",
    "        scores.append(fold_score)\n",
    "\n",
    "        importances.append(xgbr.feature_importances_)\n",
    "\n",
    "    # Calculate the average score across all folds\n",
    "    average_score = np.mean(scores)\n",
    "    average_importances = np.mean(importances, axis=0)\n",
    "\n",
    "    selected_stocks = np.where(average_importances > 0.0)[0]\n",
    "    num_zero_importance_stocks = len(np.where(average_importances == 0.0)[0])\n",
    "    \n",
    "    print(\"-------Avg Scores-------\")\n",
    "    print(f\"CV Score: {average_score}\")\n",
    "    print(f\"Number of Stocks: {len(selected_stocks)} - Number of 0 importance stocks {num_zero_importance_stocks}\")\n"
   ]
  },
  {
   "cell_type": "code",
   "execution_count": 18,
   "id": "720a49b5",
   "metadata": {
    "execution": {
     "iopub.execute_input": "2024-11-11T14:34:05.420493Z",
     "iopub.status.busy": "2024-11-11T14:34:05.419957Z",
     "iopub.status.idle": "2024-11-11T14:34:30.336985Z",
     "shell.execute_reply": "2024-11-11T14:34:30.335847Z"
    },
    "papermill": {
     "duration": 24.929641,
     "end_time": "2024-11-11T14:34:30.339428",
     "exception": false,
     "start_time": "2024-11-11T14:34:05.409787",
     "status": "completed"
    },
    "tags": []
   },
   "outputs": [
    {
     "name": "stdout",
     "output_type": "stream",
     "text": [
      "Fold Score 0.11451923678371398\n",
      "Fold Score 0.2242370085460745\n",
      "Fold Score 0.36494057358377446\n",
      "-------Avg Scores-------\n",
      "CV Score: 0.23456560630452097\n",
      "Number of Stocks: 94 - Number of 0 importance stocks 5\n"
     ]
    }
   ],
   "source": [
    "train_xgboost(tscv, X, y)"
   ]
  },
  {
   "cell_type": "code",
   "execution_count": null,
   "id": "51bb96cb",
   "metadata": {
    "papermill": {
     "duration": 0.008835,
     "end_time": "2024-11-11T14:34:30.357912",
     "exception": false,
     "start_time": "2024-11-11T14:34:30.349077",
     "status": "completed"
    },
    "tags": []
   },
   "outputs": [],
   "source": []
  }
 ],
 "metadata": {
  "kaggle": {
   "accelerator": "none",
   "dataSources": [
    {
     "databundleVersionId": 10072768,
     "datasetId": 6024843,
     "sourceId": 9824880,
     "sourceType": "datasetVersion"
    },
    {
     "databundleVersionId": 10119895,
     "datasetId": 2401195,
     "sourceId": 9867252,
     "sourceType": "datasetVersion"
    },
    {
     "databundleVersionId": 5923999,
     "datasetId": 2490157,
     "sourceId": 5846986,
     "sourceType": "datasetVersion"
    }
   ],
   "dockerImageVersionId": 30786,
   "isGpuEnabled": false,
   "isInternetEnabled": true,
   "language": "python",
   "sourceType": "notebook"
  },
  "kernelspec": {
   "display_name": "Python 3",
   "language": "python",
   "name": "python3"
  },
  "language_info": {
   "codemirror_mode": {
    "name": "ipython",
    "version": 3
   },
   "file_extension": ".py",
   "mimetype": "text/x-python",
   "name": "python",
   "nbconvert_exporter": "python",
   "pygments_lexer": "ipython3",
   "version": "3.10.14"
  },
  "papermill": {
   "default_parameters": {},
   "duration": 17055.018775,
   "end_time": "2024-11-11T14:34:31.190258",
   "environment_variables": {},
   "exception": null,
   "input_path": "__notebook__.ipynb",
   "output_path": "__notebook__.ipynb",
   "parameters": {},
   "start_time": "2024-11-11T09:50:16.171483",
   "version": "2.6.0"
  }
 },
 "nbformat": 4,
 "nbformat_minor": 5
}
