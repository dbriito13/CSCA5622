{
 "cells": [
  {
   "cell_type": "markdown",
   "id": "f9828e0d",
   "metadata": {
    "_cell_guid": "b1076dfc-b9ad-4769-8c92-a6c4dae69d19",
    "_uuid": "8f2839f25d086af736a60e9eeb907d3b93b6e0e5",
    "papermill": {
     "duration": 0.01031,
     "end_time": "2024-12-20T13:03:33.524186",
     "exception": false,
     "start_time": "2024-12-20T13:03:33.513876",
     "status": "completed"
    },
    "tags": []
   },
   "source": [
    "# Nifty 50 Partial Replication \n",
    "Index funds have become a household occurence in the financial sphere, especially for retail investors, due to their simplicity, diversification and low cost compared to actively managed funds. Following an index can be done in one of two ways:\n",
    "- **Full replication:** The most common approach, where a fund holds all constituent stocks present in the index, with the same weights as the index.\n",
    "- **Partial Replication:** With this approach, only a subset of the index's constituents is selected, which should aim to approximate the overall index performance.\n",
    "\n",
    "Partial replication can offer a number of benefits over full replication, but mainly:\n",
    "- Lower transaction costs: Reducing the number of stocks traded minimizes fees such as brokerage fees.\n",
    "- Reduced Trading fees: By potentially avoiding low-liquidity stocks, we avoid have wider bid-ask spreads, as well as having less market impact.\n",
    "- Higher flexibility: Funds can add other constraints on top of avoiding low-liquidity stocks, such as those on sectors or specific stocks, giving them better control over their risk management.\n",
    "Our project's goal is to apply supervised learning techniques to develop a partial replication strategy, minimizing the tracking error of our portfolio."
   ]
  },
  {
   "cell_type": "markdown",
   "id": "17edd76e",
   "metadata": {
    "papermill": {
     "duration": 0.009894,
     "end_time": "2024-12-20T13:03:33.543715",
     "exception": false,
     "start_time": "2024-12-20T13:03:33.533821",
     "status": "completed"
    },
    "tags": []
   },
   "source": [
    "## Methodology\n",
    "The project will focus on the NIFTY 100 index, which includes the top 100 companies in the National Stock Exchange of India (NSE) based on market capitalization. \n",
    "\n",
    "We will begin by gathering the minute-level data for both the index as well as the constituents data. Combining the data into a single dataframe, and perform some basic cleaning tasks, removing certain columns with a large number of empty values, as well as rows without target value, etc. Our target variable will be the **NIFTY 100 index price**.\n",
    "\n",
    "Since our goal is to reduce the number of constituents to use only a subset of the total 100 stocks, our models will follow a 2 step approach:\n",
    "1. Feature Selection: We will first apply different feature selection techniques, (Lasso regression, Correlation matrix, Mutual information) to identify the most relevant stocks for our model.\n",
    "2. Model Training: Once the most relevant features (stocks) are selected, we will train different supervised learning models on the reduced dataset, these models will predict the weights for each of the relevant stocks.\n",
    "To ensure the robustness of the test results, while accounting for the nature of the data (ordered time series) we will use a **sliding window approach**, where:\n",
    "* A fixed-size window (roughly 1-year) is used to train the model.\n",
    "* The model will be tested on roughly the next 3 months.\n",
    "* The window will slide forward, repeating until we use all available data.\n",
    "\n",
    "For a certain model, the overall out-of-sample error will be the average error over all the windows. The error we will aim to minimize is the **tracking error**, for simplicity models will minimize MSE. Finally, we will compare models by plotting the error vs the number of stocks, to visualize how it evolves as we reduce the size of the subset of constituents chosen.\n",
    "\n"
   ]
  },
  {
   "cell_type": "code",
   "execution_count": 1,
   "id": "d116c367",
   "metadata": {
    "execution": {
     "iopub.execute_input": "2024-12-20T13:03:33.564759Z",
     "iopub.status.busy": "2024-12-20T13:03:33.564230Z",
     "iopub.status.idle": "2024-12-20T13:03:37.511324Z",
     "shell.execute_reply": "2024-12-20T13:03:37.509988Z"
    },
    "papermill": {
     "duration": 3.961153,
     "end_time": "2024-12-20T13:03:37.514217",
     "exception": false,
     "start_time": "2024-12-20T13:03:33.553064",
     "status": "completed"
    },
    "tags": []
   },
   "outputs": [],
   "source": [
    "import pandas as pd\n",
    "import numpy as np\n",
    "from sklearn.model_selection import train_test_split\n",
    "from sklearn.linear_model import Lasso, ElasticNet\n",
    "from sklearn.metrics import mean_squared_error, r2_score, make_scorer\n",
    "from sklearn.model_selection import cross_val_score, TimeSeriesSplit, ParameterGrid\n",
    "from sklearn.linear_model import LassoCV\n",
    "import matplotlib.pyplot as plt\n",
    "import os\n",
    "import glob\n",
    "from tqdm import tqdm\n",
    "import warnings\n",
    "from sklearn.ensemble import RandomForestRegressor\n",
    "from sklearn.exceptions import ConvergenceWarning\n",
    "warnings.filterwarnings(\"ignore\")\n",
    "warnings.filterwarnings(\"always\", category=ConvergenceWarning)\n",
    "import seaborn as sns\n",
    "from sklearn.pipeline import Pipeline\n",
    "from mpl_toolkits.mplot3d import Axes3D\n",
    "from sklearn.linear_model import LinearRegression\n",
    "from sklearn.preprocessing import PolynomialFeatures\n",
    "import xgboost as xgb\n",
    "from sklearn.feature_selection import SelectFromModel,mutual_info_regression"
   ]
  },
  {
   "cell_type": "markdown",
   "id": "0154226c",
   "metadata": {
    "papermill": {
     "duration": 0.009948,
     "end_time": "2024-12-20T13:03:37.533652",
     "exception": false,
     "start_time": "2024-12-20T13:03:37.523704",
     "status": "completed"
    },
    "tags": []
   },
   "source": [
    "## Tracking Error\n",
    "Tracking error is the metric most commonly used to judge how well a replicating portfolio tracks the benchmark index, for full replication we would expect this to be close to 0 (slightly higher than 0 due to transaction costs or rebalancing delays).\n",
    "\n",
    "The tracking error is defined as the standard deviation of the differences between the index and replicating portfolio over a specified time period. Central to this metric is the time period that the difference in returns is calculated over, usually this is done daily, weekly or monthly.\n",
    "\n",
    "$$\n",
    "\\text{Tracking Error} = \\sqrt{\\frac{\\sum_{t=1}^T \\left( R_{portfolio}(t) - R_{index}(t) \\right)^2}{T}}\n",
    "$$\n",
    "\n",
    "Where: \n",
    "*  $R_{portfolio}(t)$ is the portfolio return at time $t$,  \n",
    "*  $R_{index}(t)$ is the index's return at time $t$,  \n",
    "*  $T$  is the total number of time periods.\n",
    "\n",
    "We base ourselves on this metric, and add a small adjustment, where from the first return of the portfolio, the trading cost is subtracted, this is a simulated trading cost, which we will simply set to 0.2%.\n",
    "\n",
    "In the next sections we will see that our data comes in minute intervals, so, to obtain the tracking error for daily returns, we will first aggregate the returns per day, and then utilize the formula above. To aggregate returns we do:\n",
    "\n",
    "$$\n",
    "R_{\\text{daily}} = \\left( \\prod_{j=1}^{m} (1 + R_{\\text{minute},j}) \\right) - 1\n",
    "$$\n",
    "\n",
    "Where:\n",
    "\n",
    "* $R_{\\text{daily}}$ is the aggregated daily return\n",
    "* $R_{\\text{minute},j}$ is the minute level return\n",
    "* m: is the number of minute level returns we have per day"
   ]
  },
  {
   "cell_type": "code",
   "execution_count": 2,
   "id": "9f3aff0d",
   "metadata": {
    "execution": {
     "iopub.execute_input": "2024-12-20T13:03:37.553950Z",
     "iopub.status.busy": "2024-12-20T13:03:37.553396Z",
     "iopub.status.idle": "2024-12-20T13:03:37.560753Z",
     "shell.execute_reply": "2024-12-20T13:03:37.559456Z"
    },
    "papermill": {
     "duration": 0.020256,
     "end_time": "2024-12-20T13:03:37.563203",
     "exception": false,
     "start_time": "2024-12-20T13:03:37.542947",
     "status": "completed"
    },
    "tags": []
   },
   "outputs": [],
   "source": [
    "def tracking_error(y_true, y_pred):\n",
    "    # Step 1: Join y_pred into y_true DataFrame\n",
    "    y_true = pd.DataFrame(y_true)\n",
    "    y_true.columns = ['target'] \n",
    "    \n",
    "    # Join target and y_pred based on datetime\n",
    "    data = y_true.copy()\n",
    "    data['predicted'] = y_pred\n",
    "\n",
    "    def accumulated_return(returns):\n",
    "        return (1+returns).prod() - 1\n",
    "    \n",
    "    # Group by date, aggregate returns by cumulative product\n",
    "    daily_data = data.resample('D').apply(accumulated_return)\n",
    "    # Calculate the differences between the cumulative returns of target and predicted\n",
    "    diff = daily_data['target'] - daily_data['predicted']\n",
    "    # print(len(diff), \"ERROR: \", np.std(diff))\n",
    "    # Calculate the tracking error as the standard deviation of the differences\n",
    "    return np.std(diff)\n"
   ]
  },
  {
   "cell_type": "code",
   "execution_count": 3,
   "id": "2d7b5022",
   "metadata": {
    "execution": {
     "iopub.execute_input": "2024-12-20T13:03:37.583893Z",
     "iopub.status.busy": "2024-12-20T13:03:37.582968Z",
     "iopub.status.idle": "2024-12-20T13:03:37.589146Z",
     "shell.execute_reply": "2024-12-20T13:03:37.587804Z"
    },
    "papermill": {
     "duration": 0.019112,
     "end_time": "2024-12-20T13:03:37.591556",
     "exception": false,
     "start_time": "2024-12-20T13:03:37.572444",
     "status": "completed"
    },
    "tags": []
   },
   "outputs": [],
   "source": [
    "def adj_tracking_error(y_true, X_test, model):\n",
    "    cost = 0.002  # 0.2% cost\n",
    "    X_test_adjusted = X_test.copy()\n",
    "    X_test_adjusted[0, :] -= cost  # Subtract cost from the first return of each stock\n",
    "\n",
    "    # Predict with adjustment\n",
    "    y_pred_adjusted = model.predict(X_test_adjusted)\n",
    "    return tracking_error(y_true, y_pred_adjusted)"
   ]
  },
  {
   "cell_type": "markdown",
   "id": "679f975d",
   "metadata": {
    "papermill": {
     "duration": 0.008754,
     "end_time": "2024-12-20T13:03:37.609954",
     "exception": false,
     "start_time": "2024-12-20T13:03:37.601200",
     "status": "completed"
    },
    "tags": []
   },
   "source": [
    "# Data\n",
    "The data for this project will be taken from 2 Kaggle datasets:\n",
    "\n",
    "* [Nifty 100 Constituents](https://www.kaggle.com/datasets/debashis74017/stock-market-data-nifty-50-stocks-1-min-data): This data set will be used to gather price data for all constituents for the NIFTY 100 index. The dataset contains a file per stock, which contains OHLC (Open, High, Low, Close) as well as Volume data.\n",
    "* [Nifty 100 Index Data](https://www.kaggle.com/datasets/debashis74017/nifty-50-minute-data): This data set will be used to get the price data for the NIFTY 100 index price.\n",
    "\n",
    "In order to speed up the execution, an intermediate dataset is created where we keep only closing prices for all stocks, in one single file. This dataset is [Nifty 100 Closing Only Data](https://www.kaggle.com/datasets/danielbrito99/nifty-50-closing-data). The script used to extract this intermediate data, is described in the cell below.\n",
    "\n",
    "As was mentioned before our target variable will be the **NIFTY 100 Index Price**, by training the model with a reduced number of constituents to predict the index price based on that reduced subset, we will obtain weights for each of them. During the testing phase, we will use these weights to evaluate the model's performance and verify how well the selected subset mimics the index price. "
   ]
  },
  {
   "cell_type": "markdown",
   "id": "d321f767",
   "metadata": {
    "execution": {
     "iopub.execute_input": "2024-12-09T13:33:03.408909Z",
     "iopub.status.busy": "2024-12-09T13:33:03.408616Z",
     "iopub.status.idle": "2024-12-09T13:33:03.420882Z",
     "shell.execute_reply": "2024-12-09T13:33:03.419748Z",
     "shell.execute_reply.started": "2024-12-09T13:33:03.408879Z"
    },
    "papermill": {
     "duration": 0.008865,
     "end_time": "2024-12-20T13:03:37.628473",
     "exception": false,
     "start_time": "2024-12-20T13:03:37.619608",
     "status": "completed"
    },
    "tags": []
   },
   "source": [
    "directory_path = '/kaggle/input/stock-market-data-nifty-50-stocks-1-min-data'\n",
    "pattern = os.path.join(directory_path, \"*.csv\")  # Change \"*.csv\" to match other patterns if needed\n",
    "Get the list of files that match the pattern\n",
    "file_list = glob.glob(pattern)\n",
    "\n",
    "def fetch_data(cols, file_list):\n",
    "    df_list = []\n",
    "    for file in tqdm(file_list):\n",
    "        stock_name = os.path.basename(file).split(\"_\")[0]\n",
    "        file_df = pd.read_csv(file, index_col=0)\n",
    "        file_df = file_df[[cols]]\n",
    "        file_df.columns = pd.MultiIndex.from_product([[stock_name], file_df.columns])\n",
    "        df_list.append(file_df)\n",
    "    return pd.concat(df_list, axis=1)\n",
    "\n",
    "df = fetch_data('close')\n",
    "df.to_csv('/kaggle/input/nifty_50_closing.csv')"
   ]
  },
  {
   "cell_type": "code",
   "execution_count": 4,
   "id": "835fa943",
   "metadata": {
    "execution": {
     "iopub.execute_input": "2024-12-20T13:03:37.650416Z",
     "iopub.status.busy": "2024-12-20T13:03:37.648986Z",
     "iopub.status.idle": "2024-12-20T13:04:03.687005Z",
     "shell.execute_reply": "2024-12-20T13:04:03.685756Z"
    },
    "papermill": {
     "duration": 26.051761,
     "end_time": "2024-12-20T13:04:03.689662",
     "exception": false,
     "start_time": "2024-12-20T13:03:37.637901",
     "status": "completed"
    },
    "tags": []
   },
   "outputs": [
    {
     "name": "stdout",
     "output_type": "stream",
     "text": [
      "Number of rows with NaN values: 639555\n"
     ]
    }
   ],
   "source": [
    "df = pd.read_csv('/kaggle/input/nifty-50-closing-data/nifty_50_closing.csv', index_col=0, header=[0, 1])\n",
    "df = df.xs('close', level=1, axis=1)\n",
    "df.index = pd.to_datetime(df.index)\n",
    "nan_rows = df.isna().any(axis=1)\n",
    "\n",
    "# Get the number of rows with NaN value\n",
    "num_nan_rows = nan_rows.sum()\n",
    "\n",
    "\n",
    "print(f\"Number of rows with NaN values: {num_nan_rows}\")\n",
    "\n",
    "nifty_100_closing = pd.read_csv('/kaggle/input/nifty-50-minute-data/NIFTY 100_minute.csv', index_col=0)[['close']]\n",
    "nifty_100_closing.index = pd.to_datetime(nifty_100_closing.index)\n",
    "nifty_100_closing.rename(columns={'close': 'NIFTY_100'}, inplace=True)"
   ]
  },
  {
   "cell_type": "markdown",
   "id": "17598224",
   "metadata": {
    "papermill": {
     "duration": 0.009151,
     "end_time": "2024-12-20T13:04:03.708203",
     "exception": false,
     "start_time": "2024-12-20T13:04:03.699052",
     "status": "completed"
    },
    "tags": []
   },
   "source": [
    "## Data Cleaning\n",
    "Our data cleaning will be simple, we will focus on remediating the high number of NaN's present in the dataset.\n",
    "Most importantly, we will focus on sequences of NaN values, which are problematic for our problem, as conventional techniques such as forward fill or interpolation become less effective the longer the period of missing data. Conversely, sparse or isolated NaNs are less of an issue, as they can be effectively substituted using these techniques with minimal loss of information. \n",
    "\n",
    "\n",
    "With this in mind, we perform the following steps:\n",
    "\n",
    "* Remove NIFTY 50 and NIFTY BANK stocks, as they represent indices, not stocks.\n",
    "* To get rid of periods where a large number of stocks all are missing data, we remove the rows with higher than 25 NaNs.\n",
    "* Inspecting the longest NaN period for each column, we will get rid of those columns where the value is large:\n",
    "    * HDFCAMC\n",
    "    * ICICIPRULI\n",
    "    * HDFCLIFE\n",
    "    * GLAND\n",
    "    * ADANIGREEN\n",
    "    * DMART\n",
    "    * ICICIGI\n",
    "    * BANDHANBNK\n",
    "    * INDIGO\n",
    "    * SBILIFE\n",
    "    * LICI\n",
    "    * SBICARD\n",
    "    * LTI\n",
    "*  At this point the number of NaN rows and consecutive NaNs is much lower, so we can use forward fill to populate them with the last know values."
   ]
  },
  {
   "cell_type": "code",
   "execution_count": 5,
   "id": "1ad8453e",
   "metadata": {
    "execution": {
     "iopub.execute_input": "2024-12-20T13:04:03.729246Z",
     "iopub.status.busy": "2024-12-20T13:04:03.728837Z",
     "iopub.status.idle": "2024-12-20T13:04:03.735026Z",
     "shell.execute_reply": "2024-12-20T13:04:03.733998Z"
    },
    "papermill": {
     "duration": 0.019037,
     "end_time": "2024-12-20T13:04:03.737343",
     "exception": false,
     "start_time": "2024-12-20T13:04:03.718306",
     "status": "completed"
    },
    "tags": []
   },
   "outputs": [],
   "source": [
    "def longest_nan_period(series):\n",
    "    max_nan_period = 0\n",
    "    current_nan_period = 0\n",
    "    for value in series:\n",
    "        if pd.isna(value):\n",
    "            current_nan_period += 1\n",
    "            max_nan_period = max(max_nan_period, current_nan_period)\n",
    "        else:\n",
    "            current_nan_period = 0\n",
    "    return max_nan_period"
   ]
  },
  {
   "cell_type": "code",
   "execution_count": 6,
   "id": "26140477",
   "metadata": {
    "execution": {
     "iopub.execute_input": "2024-12-20T13:04:03.756932Z",
     "iopub.status.busy": "2024-12-20T13:04:03.756563Z",
     "iopub.status.idle": "2024-12-20T13:04:03.846402Z",
     "shell.execute_reply": "2024-12-20T13:04:03.845203Z"
    },
    "papermill": {
     "duration": 0.102412,
     "end_time": "2024-12-20T13:04:03.848794",
     "exception": false,
     "start_time": "2024-12-20T13:04:03.746382",
     "status": "completed"
    },
    "tags": []
   },
   "outputs": [
    {
     "data": {
      "text/html": [
       "<div>\n",
       "<style scoped>\n",
       "    .dataframe tbody tr th:only-of-type {\n",
       "        vertical-align: middle;\n",
       "    }\n",
       "\n",
       "    .dataframe tbody tr th {\n",
       "        vertical-align: top;\n",
       "    }\n",
       "\n",
       "    .dataframe thead th {\n",
       "        text-align: right;\n",
       "    }\n",
       "</style>\n",
       "<table border=\"1\" class=\"dataframe\">\n",
       "  <thead>\n",
       "    <tr style=\"text-align: right;\">\n",
       "      <th></th>\n",
       "      <th>HDFCAMC</th>\n",
       "      <th>APOLLOHOSP</th>\n",
       "      <th>BOSCHLTD</th>\n",
       "      <th>INDUSTOWER</th>\n",
       "      <th>BERGEPAINT</th>\n",
       "      <th>MARICO</th>\n",
       "      <th>ICICIPRULI</th>\n",
       "      <th>HDFCLIFE</th>\n",
       "      <th>SBIN</th>\n",
       "      <th>SUNPHARMA</th>\n",
       "      <th>...</th>\n",
       "      <th>SBICARD</th>\n",
       "      <th>DABUR</th>\n",
       "      <th>SAIL</th>\n",
       "      <th>BRITANNIA</th>\n",
       "      <th>ADANIPORTS</th>\n",
       "      <th>ONGC</th>\n",
       "      <th>EICHERMOT</th>\n",
       "      <th>TECHM</th>\n",
       "      <th>JINDALSTEL</th>\n",
       "      <th>HEROMOTOCO</th>\n",
       "    </tr>\n",
       "    <tr>\n",
       "      <th>date</th>\n",
       "      <th></th>\n",
       "      <th></th>\n",
       "      <th></th>\n",
       "      <th></th>\n",
       "      <th></th>\n",
       "      <th></th>\n",
       "      <th></th>\n",
       "      <th></th>\n",
       "      <th></th>\n",
       "      <th></th>\n",
       "      <th></th>\n",
       "      <th></th>\n",
       "      <th></th>\n",
       "      <th></th>\n",
       "      <th></th>\n",
       "      <th></th>\n",
       "      <th></th>\n",
       "      <th></th>\n",
       "      <th></th>\n",
       "      <th></th>\n",
       "      <th></th>\n",
       "    </tr>\n",
       "  </thead>\n",
       "  <tbody>\n",
       "    <tr>\n",
       "      <th>2018-08-06 10:47:00+05:30</th>\n",
       "      <td>1803.95</td>\n",
       "      <td>974.30</td>\n",
       "      <td>19187.45</td>\n",
       "      <td>290.0</td>\n",
       "      <td>316.85</td>\n",
       "      <td>357.95</td>\n",
       "      <td>408.50</td>\n",
       "      <td>485.00</td>\n",
       "      <td>306.70</td>\n",
       "      <td>579.65</td>\n",
       "      <td>...</td>\n",
       "      <td>NaN</td>\n",
       "      <td>435.30</td>\n",
       "      <td>79.35</td>\n",
       "      <td>3194.92</td>\n",
       "      <td>400.70</td>\n",
       "      <td>167.75</td>\n",
       "      <td>2711.30</td>\n",
       "      <td>670.45</td>\n",
       "      <td>207.65</td>\n",
       "      <td>3259.00</td>\n",
       "    </tr>\n",
       "    <tr>\n",
       "      <th>2018-08-06 10:48:00+05:30</th>\n",
       "      <td>1803.90</td>\n",
       "      <td>973.70</td>\n",
       "      <td>19187.45</td>\n",
       "      <td>290.0</td>\n",
       "      <td>316.50</td>\n",
       "      <td>357.55</td>\n",
       "      <td>408.10</td>\n",
       "      <td>484.95</td>\n",
       "      <td>306.70</td>\n",
       "      <td>579.30</td>\n",
       "      <td>...</td>\n",
       "      <td>NaN</td>\n",
       "      <td>435.15</td>\n",
       "      <td>79.30</td>\n",
       "      <td>3193.02</td>\n",
       "      <td>400.55</td>\n",
       "      <td>167.55</td>\n",
       "      <td>2710.60</td>\n",
       "      <td>670.55</td>\n",
       "      <td>207.80</td>\n",
       "      <td>3260.60</td>\n",
       "    </tr>\n",
       "    <tr>\n",
       "      <th>2018-08-06 10:49:00+05:30</th>\n",
       "      <td>1806.00</td>\n",
       "      <td>973.70</td>\n",
       "      <td>19187.45</td>\n",
       "      <td>290.0</td>\n",
       "      <td>316.85</td>\n",
       "      <td>357.20</td>\n",
       "      <td>408.85</td>\n",
       "      <td>485.00</td>\n",
       "      <td>306.75</td>\n",
       "      <td>579.45</td>\n",
       "      <td>...</td>\n",
       "      <td>NaN</td>\n",
       "      <td>435.70</td>\n",
       "      <td>79.30</td>\n",
       "      <td>3192.50</td>\n",
       "      <td>400.30</td>\n",
       "      <td>167.55</td>\n",
       "      <td>2709.80</td>\n",
       "      <td>670.65</td>\n",
       "      <td>207.55</td>\n",
       "      <td>3259.50</td>\n",
       "    </tr>\n",
       "    <tr>\n",
       "      <th>2018-08-06 10:50:00+05:30</th>\n",
       "      <td>1806.35</td>\n",
       "      <td>974.00</td>\n",
       "      <td>19174.90</td>\n",
       "      <td>290.0</td>\n",
       "      <td>316.80</td>\n",
       "      <td>357.65</td>\n",
       "      <td>408.90</td>\n",
       "      <td>484.10</td>\n",
       "      <td>306.75</td>\n",
       "      <td>578.10</td>\n",
       "      <td>...</td>\n",
       "      <td>NaN</td>\n",
       "      <td>435.65</td>\n",
       "      <td>79.30</td>\n",
       "      <td>3192.67</td>\n",
       "      <td>399.80</td>\n",
       "      <td>167.50</td>\n",
       "      <td>2708.05</td>\n",
       "      <td>670.90</td>\n",
       "      <td>207.90</td>\n",
       "      <td>3258.50</td>\n",
       "    </tr>\n",
       "    <tr>\n",
       "      <th>2018-08-06 10:51:00+05:30</th>\n",
       "      <td>1809.00</td>\n",
       "      <td>975.15</td>\n",
       "      <td>19190.00</td>\n",
       "      <td>290.0</td>\n",
       "      <td>316.80</td>\n",
       "      <td>357.75</td>\n",
       "      <td>408.85</td>\n",
       "      <td>484.20</td>\n",
       "      <td>306.85</td>\n",
       "      <td>578.50</td>\n",
       "      <td>...</td>\n",
       "      <td>NaN</td>\n",
       "      <td>436.00</td>\n",
       "      <td>79.30</td>\n",
       "      <td>3194.02</td>\n",
       "      <td>400.30</td>\n",
       "      <td>167.40</td>\n",
       "      <td>2709.95</td>\n",
       "      <td>671.20</td>\n",
       "      <td>207.80</td>\n",
       "      <td>3258.00</td>\n",
       "    </tr>\n",
       "    <tr>\n",
       "      <th>...</th>\n",
       "      <td>...</td>\n",
       "      <td>...</td>\n",
       "      <td>...</td>\n",
       "      <td>...</td>\n",
       "      <td>...</td>\n",
       "      <td>...</td>\n",
       "      <td>...</td>\n",
       "      <td>...</td>\n",
       "      <td>...</td>\n",
       "      <td>...</td>\n",
       "      <td>...</td>\n",
       "      <td>...</td>\n",
       "      <td>...</td>\n",
       "      <td>...</td>\n",
       "      <td>...</td>\n",
       "      <td>...</td>\n",
       "      <td>...</td>\n",
       "      <td>...</td>\n",
       "      <td>...</td>\n",
       "      <td>...</td>\n",
       "      <td>...</td>\n",
       "    </tr>\n",
       "    <tr>\n",
       "      <th>2022-10-25 12:27:00+05:30</th>\n",
       "      <td>NaN</td>\n",
       "      <td>NaN</td>\n",
       "      <td>NaN</td>\n",
       "      <td>NaN</td>\n",
       "      <td>NaN</td>\n",
       "      <td>NaN</td>\n",
       "      <td>NaN</td>\n",
       "      <td>NaN</td>\n",
       "      <td>NaN</td>\n",
       "      <td>NaN</td>\n",
       "      <td>...</td>\n",
       "      <td>NaN</td>\n",
       "      <td>NaN</td>\n",
       "      <td>NaN</td>\n",
       "      <td>NaN</td>\n",
       "      <td>NaN</td>\n",
       "      <td>NaN</td>\n",
       "      <td>NaN</td>\n",
       "      <td>NaN</td>\n",
       "      <td>NaN</td>\n",
       "      <td>2589.95</td>\n",
       "    </tr>\n",
       "    <tr>\n",
       "      <th>2022-10-25 12:28:00+05:30</th>\n",
       "      <td>NaN</td>\n",
       "      <td>NaN</td>\n",
       "      <td>NaN</td>\n",
       "      <td>NaN</td>\n",
       "      <td>NaN</td>\n",
       "      <td>NaN</td>\n",
       "      <td>NaN</td>\n",
       "      <td>NaN</td>\n",
       "      <td>NaN</td>\n",
       "      <td>NaN</td>\n",
       "      <td>...</td>\n",
       "      <td>NaN</td>\n",
       "      <td>NaN</td>\n",
       "      <td>NaN</td>\n",
       "      <td>NaN</td>\n",
       "      <td>NaN</td>\n",
       "      <td>NaN</td>\n",
       "      <td>NaN</td>\n",
       "      <td>NaN</td>\n",
       "      <td>NaN</td>\n",
       "      <td>2589.30</td>\n",
       "    </tr>\n",
       "    <tr>\n",
       "      <th>2022-10-25 12:29:00+05:30</th>\n",
       "      <td>NaN</td>\n",
       "      <td>NaN</td>\n",
       "      <td>NaN</td>\n",
       "      <td>NaN</td>\n",
       "      <td>NaN</td>\n",
       "      <td>NaN</td>\n",
       "      <td>NaN</td>\n",
       "      <td>NaN</td>\n",
       "      <td>NaN</td>\n",
       "      <td>NaN</td>\n",
       "      <td>...</td>\n",
       "      <td>NaN</td>\n",
       "      <td>NaN</td>\n",
       "      <td>NaN</td>\n",
       "      <td>NaN</td>\n",
       "      <td>NaN</td>\n",
       "      <td>NaN</td>\n",
       "      <td>NaN</td>\n",
       "      <td>NaN</td>\n",
       "      <td>NaN</td>\n",
       "      <td>2590.20</td>\n",
       "    </tr>\n",
       "    <tr>\n",
       "      <th>2022-10-25 12:30:00+05:30</th>\n",
       "      <td>NaN</td>\n",
       "      <td>NaN</td>\n",
       "      <td>NaN</td>\n",
       "      <td>NaN</td>\n",
       "      <td>NaN</td>\n",
       "      <td>NaN</td>\n",
       "      <td>NaN</td>\n",
       "      <td>NaN</td>\n",
       "      <td>NaN</td>\n",
       "      <td>NaN</td>\n",
       "      <td>...</td>\n",
       "      <td>NaN</td>\n",
       "      <td>NaN</td>\n",
       "      <td>NaN</td>\n",
       "      <td>NaN</td>\n",
       "      <td>NaN</td>\n",
       "      <td>NaN</td>\n",
       "      <td>NaN</td>\n",
       "      <td>NaN</td>\n",
       "      <td>NaN</td>\n",
       "      <td>2591.00</td>\n",
       "    </tr>\n",
       "    <tr>\n",
       "      <th>2022-10-25 12:31:00+05:30</th>\n",
       "      <td>NaN</td>\n",
       "      <td>NaN</td>\n",
       "      <td>NaN</td>\n",
       "      <td>NaN</td>\n",
       "      <td>NaN</td>\n",
       "      <td>NaN</td>\n",
       "      <td>NaN</td>\n",
       "      <td>NaN</td>\n",
       "      <td>NaN</td>\n",
       "      <td>NaN</td>\n",
       "      <td>...</td>\n",
       "      <td>NaN</td>\n",
       "      <td>NaN</td>\n",
       "      <td>NaN</td>\n",
       "      <td>NaN</td>\n",
       "      <td>NaN</td>\n",
       "      <td>NaN</td>\n",
       "      <td>NaN</td>\n",
       "      <td>NaN</td>\n",
       "      <td>NaN</td>\n",
       "      <td>2591.00</td>\n",
       "    </tr>\n",
       "  </tbody>\n",
       "</table>\n",
       "<p>677188 rows × 101 columns</p>\n",
       "</div>"
      ],
      "text/plain": [
       "                           HDFCAMC  APOLLOHOSP  BOSCHLTD  INDUSTOWER  \\\n",
       "date                                                                   \n",
       "2018-08-06 10:47:00+05:30  1803.95      974.30  19187.45       290.0   \n",
       "2018-08-06 10:48:00+05:30  1803.90      973.70  19187.45       290.0   \n",
       "2018-08-06 10:49:00+05:30  1806.00      973.70  19187.45       290.0   \n",
       "2018-08-06 10:50:00+05:30  1806.35      974.00  19174.90       290.0   \n",
       "2018-08-06 10:51:00+05:30  1809.00      975.15  19190.00       290.0   \n",
       "...                            ...         ...       ...         ...   \n",
       "2022-10-25 12:27:00+05:30      NaN         NaN       NaN         NaN   \n",
       "2022-10-25 12:28:00+05:30      NaN         NaN       NaN         NaN   \n",
       "2022-10-25 12:29:00+05:30      NaN         NaN       NaN         NaN   \n",
       "2022-10-25 12:30:00+05:30      NaN         NaN       NaN         NaN   \n",
       "2022-10-25 12:31:00+05:30      NaN         NaN       NaN         NaN   \n",
       "\n",
       "                           BERGEPAINT  MARICO  ICICIPRULI  HDFCLIFE    SBIN  \\\n",
       "date                                                                          \n",
       "2018-08-06 10:47:00+05:30      316.85  357.95      408.50    485.00  306.70   \n",
       "2018-08-06 10:48:00+05:30      316.50  357.55      408.10    484.95  306.70   \n",
       "2018-08-06 10:49:00+05:30      316.85  357.20      408.85    485.00  306.75   \n",
       "2018-08-06 10:50:00+05:30      316.80  357.65      408.90    484.10  306.75   \n",
       "2018-08-06 10:51:00+05:30      316.80  357.75      408.85    484.20  306.85   \n",
       "...                               ...     ...         ...       ...     ...   \n",
       "2022-10-25 12:27:00+05:30         NaN     NaN         NaN       NaN     NaN   \n",
       "2022-10-25 12:28:00+05:30         NaN     NaN         NaN       NaN     NaN   \n",
       "2022-10-25 12:29:00+05:30         NaN     NaN         NaN       NaN     NaN   \n",
       "2022-10-25 12:30:00+05:30         NaN     NaN         NaN       NaN     NaN   \n",
       "2022-10-25 12:31:00+05:30         NaN     NaN         NaN       NaN     NaN   \n",
       "\n",
       "                           SUNPHARMA  ...  SBICARD   DABUR   SAIL  BRITANNIA  \\\n",
       "date                                  ...                                      \n",
       "2018-08-06 10:47:00+05:30     579.65  ...      NaN  435.30  79.35    3194.92   \n",
       "2018-08-06 10:48:00+05:30     579.30  ...      NaN  435.15  79.30    3193.02   \n",
       "2018-08-06 10:49:00+05:30     579.45  ...      NaN  435.70  79.30    3192.50   \n",
       "2018-08-06 10:50:00+05:30     578.10  ...      NaN  435.65  79.30    3192.67   \n",
       "2018-08-06 10:51:00+05:30     578.50  ...      NaN  436.00  79.30    3194.02   \n",
       "...                              ...  ...      ...     ...    ...        ...   \n",
       "2022-10-25 12:27:00+05:30        NaN  ...      NaN     NaN    NaN        NaN   \n",
       "2022-10-25 12:28:00+05:30        NaN  ...      NaN     NaN    NaN        NaN   \n",
       "2022-10-25 12:29:00+05:30        NaN  ...      NaN     NaN    NaN        NaN   \n",
       "2022-10-25 12:30:00+05:30        NaN  ...      NaN     NaN    NaN        NaN   \n",
       "2022-10-25 12:31:00+05:30        NaN  ...      NaN     NaN    NaN        NaN   \n",
       "\n",
       "                           ADANIPORTS    ONGC  EICHERMOT   TECHM  JINDALSTEL  \\\n",
       "date                                                                           \n",
       "2018-08-06 10:47:00+05:30      400.70  167.75    2711.30  670.45      207.65   \n",
       "2018-08-06 10:48:00+05:30      400.55  167.55    2710.60  670.55      207.80   \n",
       "2018-08-06 10:49:00+05:30      400.30  167.55    2709.80  670.65      207.55   \n",
       "2018-08-06 10:50:00+05:30      399.80  167.50    2708.05  670.90      207.90   \n",
       "2018-08-06 10:51:00+05:30      400.30  167.40    2709.95  671.20      207.80   \n",
       "...                               ...     ...        ...     ...         ...   \n",
       "2022-10-25 12:27:00+05:30         NaN     NaN        NaN     NaN         NaN   \n",
       "2022-10-25 12:28:00+05:30         NaN     NaN        NaN     NaN         NaN   \n",
       "2022-10-25 12:29:00+05:30         NaN     NaN        NaN     NaN         NaN   \n",
       "2022-10-25 12:30:00+05:30         NaN     NaN        NaN     NaN         NaN   \n",
       "2022-10-25 12:31:00+05:30         NaN     NaN        NaN     NaN         NaN   \n",
       "\n",
       "                           HEROMOTOCO  \n",
       "date                                   \n",
       "2018-08-06 10:47:00+05:30     3259.00  \n",
       "2018-08-06 10:48:00+05:30     3260.60  \n",
       "2018-08-06 10:49:00+05:30     3259.50  \n",
       "2018-08-06 10:50:00+05:30     3258.50  \n",
       "2018-08-06 10:51:00+05:30     3258.00  \n",
       "...                               ...  \n",
       "2022-10-25 12:27:00+05:30     2589.95  \n",
       "2022-10-25 12:28:00+05:30     2589.30  \n",
       "2022-10-25 12:29:00+05:30     2590.20  \n",
       "2022-10-25 12:30:00+05:30     2591.00  \n",
       "2022-10-25 12:31:00+05:30     2591.00  \n",
       "\n",
       "[677188 rows x 101 columns]"
      ]
     },
     "execution_count": 6,
     "metadata": {},
     "output_type": "execute_result"
    }
   ],
   "source": [
    "df"
   ]
  },
  {
   "cell_type": "code",
   "execution_count": 7,
   "id": "32b9c06d",
   "metadata": {
    "execution": {
     "iopub.execute_input": "2024-12-20T13:04:03.869804Z",
     "iopub.status.busy": "2024-12-20T13:04:03.869419Z",
     "iopub.status.idle": "2024-12-20T13:04:04.042399Z",
     "shell.execute_reply": "2024-12-20T13:04:04.041035Z"
    },
    "papermill": {
     "duration": 0.186158,
     "end_time": "2024-12-20T13:04:04.044791",
     "exception": false,
     "start_time": "2024-12-20T13:04:03.858633",
     "status": "completed"
    },
    "tags": []
   },
   "outputs": [],
   "source": [
    "df.drop(columns=['NIFTY 50', 'NIFTY BANK'], inplace=True)"
   ]
  },
  {
   "cell_type": "code",
   "execution_count": 8,
   "id": "660a625b",
   "metadata": {
    "execution": {
     "iopub.execute_input": "2024-12-20T13:04:04.065576Z",
     "iopub.status.busy": "2024-12-20T13:04:04.065191Z",
     "iopub.status.idle": "2024-12-20T13:04:04.484146Z",
     "shell.execute_reply": "2024-12-20T13:04:04.483159Z"
    },
    "papermill": {
     "duration": 0.432521,
     "end_time": "2024-12-20T13:04:04.486948",
     "exception": false,
     "start_time": "2024-12-20T13:04:04.054427",
     "status": "completed"
    },
    "tags": []
   },
   "outputs": [],
   "source": [
    "# Removing rows with more than 25 stocks without data\n",
    "nan_counts = df.isna().sum(axis=1)\n",
    "df = df[nan_counts <= 25]"
   ]
  },
  {
   "cell_type": "code",
   "execution_count": 9,
   "id": "1af19c3c",
   "metadata": {
    "execution": {
     "iopub.execute_input": "2024-12-20T13:04:04.507994Z",
     "iopub.status.busy": "2024-12-20T13:04:04.507604Z",
     "iopub.status.idle": "2024-12-20T13:04:32.227345Z",
     "shell.execute_reply": "2024-12-20T13:04:32.226093Z"
    },
    "papermill": {
     "duration": 27.733378,
     "end_time": "2024-12-20T13:04:32.230040",
     "exception": false,
     "start_time": "2024-12-20T13:04:04.496662",
     "status": "completed"
    },
    "tags": []
   },
   "outputs": [
    {
     "name": "stdout",
     "output_type": "stream",
     "text": [
      "Longest period of NaN values in column HDFCAMC: 305198 periods\n",
      "Longest period of NaN values in column APOLLOHOSP: 1 periods\n",
      "Longest period of NaN values in column BOSCHLTD: 3 periods\n",
      "Longest period of NaN values in column INDUSTOWER: 1 periods\n",
      "Longest period of NaN values in column BERGEPAINT: 1 periods\n",
      "Longest period of NaN values in column MARICO: 0 periods\n",
      "Longest period of NaN values in column ICICIPRULI: 144000 periods\n",
      "Longest period of NaN values in column HDFCLIFE: 242175 periods\n",
      "Longest period of NaN values in column SBIN: 0 periods\n",
      "Longest period of NaN values in column SUNPHARMA: 0 periods\n",
      "Longest period of NaN values in column COALINDIA: 0 periods\n",
      "Longest period of NaN values in column WIPRO: 1 periods\n",
      "Longest period of NaN values in column BAJAJ-AUTO: 1 periods\n",
      "Longest period of NaN values in column GODREJCP: 1 periods\n",
      "Longest period of NaN values in column UPL: 0 periods\n",
      "Longest period of NaN values in column SIEMENS: 0 periods\n",
      "Longest period of NaN values in column BPCL: 0 periods\n",
      "Longest period of NaN values in column TATAMOTORS: 0 periods\n",
      "Longest period of NaN values in column BANKBARODA: 0 periods\n",
      "Longest period of NaN values in column GAIL: 0 periods\n",
      "Longest period of NaN values in column HDFCBANK: 0 periods\n",
      "Longest period of NaN values in column BHARTIARTL: 1 periods\n",
      "Longest period of NaN values in column NMDC: 1 periods\n",
      "Longest period of NaN values in column INDUSINDBK: 1 periods\n",
      "Longest period of NaN values in column NTPC: 0 periods\n",
      "Longest period of NaN values in column JSWSTEEL: 375 periods\n",
      "Longest period of NaN values in column HCLTECH: 0 periods\n",
      "Longest period of NaN values in column AMBUJACEM: 375 periods\n",
      "Longest period of NaN values in column YESBANK: 7 periods\n",
      "Longest period of NaN values in column PNB: 0 periods\n",
      "Longest period of NaN values in column NESTLEIND: 2 periods\n",
      "Longest period of NaN values in column TORNTPHARM: 2 periods\n",
      "Longest period of NaN values in column NAUKRI: 11 periods\n",
      "Longest period of NaN values in column ULTRACEMCO: 0 periods\n",
      "Longest period of NaN values in column PIDILITIND: 1 periods\n",
      "Longest period of NaN values in column BAJAJHLDNG: 9 periods\n",
      "Longest period of NaN values in column HINDALCO: 0 periods\n",
      "Longest period of NaN values in column IOC: 375 periods\n",
      "Longest period of NaN values in column ADANIENT: 375 periods\n",
      "Longest period of NaN values in column MUTHOOTFIN: 6 periods\n",
      "Longest period of NaN values in column TATACONSUM: 1 periods\n",
      "Longest period of NaN values in column ICICIBANK: 1 periods\n",
      "Longest period of NaN values in column POWERGRID: 0 periods\n",
      "Longest period of NaN values in column SHREECEM: 5 periods\n",
      "Longest period of NaN values in column HAVELLS: 0 periods\n",
      "Longest period of NaN values in column GLAND: 305198 periods\n",
      "Longest period of NaN values in column DRREDDY: 0 periods\n",
      "Longest period of NaN values in column MCDOWELL-N: 1 periods\n",
      "Longest period of NaN values in column ITC: 375 periods\n",
      "Longest period of NaN values in column LUPIN: 1 periods\n",
      "Longest period of NaN values in column IGL: 375 periods\n",
      "Longest period of NaN values in column COLPAL: 1 periods\n",
      "Longest period of NaN values in column VEDL: 1 periods\n",
      "Longest period of NaN values in column BAJFINANCE: 2 periods\n",
      "Longest period of NaN values in column AUROPHARMA: 1 periods\n",
      "Longest period of NaN values in column ADANIGREEN: 292800 periods\n",
      "Longest period of NaN values in column BAJAJFINSV: 2 periods\n",
      "Longest period of NaN values in column LT: 375 periods\n",
      "Longest period of NaN values in column RELIANCE: 0 periods\n",
      "Longest period of NaN values in column PIIND: 7 periods\n",
      "Longest period of NaN values in column HINDPETRO: 375 periods\n",
      "Longest period of NaN values in column CIPLA: 1 periods\n",
      "Longest period of NaN values in column INFY: 0 periods\n",
      "Longest period of NaN values in column CHOLAFIN: 18 periods\n",
      "Longest period of NaN values in column PGHH: 43 periods\n",
      "Longest period of NaN values in column TITAN: 0 periods\n",
      "Longest period of NaN values in column ACC: 375 periods\n",
      "Longest period of NaN values in column PEL: 28 periods\n",
      "Longest period of NaN values in column KOTAKBANK: 375 periods\n",
      "Longest period of NaN values in column DMART: 184560 periods\n",
      "Longest period of NaN values in column TATASTEEL: 0 periods\n",
      "Longest period of NaN values in column HINDUNILVR: 0 periods\n",
      "Longest period of NaN values in column DIVISLAB: 1 periods\n",
      "Longest period of NaN values in column TCS: 0 periods\n",
      "Longest period of NaN values in column DLF: 0 periods\n",
      "Longest period of NaN values in column ICICIGI: 230115 periods\n",
      "Longest period of NaN values in column MM: 375 periods\n",
      "Longest period of NaN values in column HDFC: 0 periods\n",
      "Longest period of NaN values in column INDIGO: 68212 periods\n",
      "Longest period of NaN values in column BANDHANBNK: 272925 periods\n",
      "Longest period of NaN values in column AXISBANK: 1 periods\n",
      "Longest period of NaN values in column LTI: 127125 periods\n",
      "Longest period of NaN values in column GRASIM: 29 periods\n",
      "Longest period of NaN values in column JUBLFOOD: 1 periods\n",
      "Longest period of NaN values in column SBILIFE: 231240 periods\n",
      "Longest period of NaN values in column MARUTI: 0 periods\n",
      "Longest period of NaN values in column ASIANPAINT: 0 periods\n",
      "Longest period of NaN values in column BIOCON: 0 periods\n",
      "Longest period of NaN values in column LICI: 327223 periods\n",
      "Longest period of NaN values in column SBICARD: 305197 periods\n",
      "Longest period of NaN values in column DABUR: 1 periods\n",
      "Longest period of NaN values in column SAIL: 1 periods\n",
      "Longest period of NaN values in column BRITANNIA: 1 periods\n",
      "Longest period of NaN values in column ADANIPORTS: 0 periods\n",
      "Longest period of NaN values in column ONGC: 0 periods\n",
      "Longest period of NaN values in column EICHERMOT: 0 periods\n",
      "Longest period of NaN values in column TECHM: 0 periods\n",
      "Longest period of NaN values in column JINDALSTEL: 0 periods\n",
      "Longest period of NaN values in column HEROMOTOCO: 1 periods\n"
     ]
    }
   ],
   "source": [
    "# Now we observe per column, the longest period with NaN values\n",
    "longest_nan_periods = {column: longest_nan_period(df[column]) for column in df.columns}\n",
    "\n",
    "# Print the longest NaN period for each column\n",
    "for column, period in longest_nan_periods.items():\n",
    "    print(f\"Longest period of NaN values in column {column}: {period} periods\")"
   ]
  },
  {
   "cell_type": "code",
   "execution_count": 10,
   "id": "2ec49c86",
   "metadata": {
    "execution": {
     "iopub.execute_input": "2024-12-20T13:04:32.251525Z",
     "iopub.status.busy": "2024-12-20T13:04:32.251071Z",
     "iopub.status.idle": "2024-12-20T13:04:32.450358Z",
     "shell.execute_reply": "2024-12-20T13:04:32.449134Z"
    },
    "papermill": {
     "duration": 0.212893,
     "end_time": "2024-12-20T13:04:32.452908",
     "exception": false,
     "start_time": "2024-12-20T13:04:32.240015",
     "status": "completed"
    },
    "tags": []
   },
   "outputs": [],
   "source": [
    "df.drop(columns=['HDFCAMC', 'ICICIPRULI', 'HDFCLIFE', 'GLAND', 'ADANIGREEN', 'LTI', 'SBICARD',\n",
    "                 'DMART','ICICIGI','BANDHANBNK','INDIGO','SBILIFE','LICI'], inplace=True)"
   ]
  },
  {
   "cell_type": "code",
   "execution_count": 11,
   "id": "09b17cb7",
   "metadata": {
    "execution": {
     "iopub.execute_input": "2024-12-20T13:04:32.474632Z",
     "iopub.status.busy": "2024-12-20T13:04:32.474218Z",
     "iopub.status.idle": "2024-12-20T13:04:32.536471Z",
     "shell.execute_reply": "2024-12-20T13:04:32.535150Z"
    },
    "papermill": {
     "duration": 0.076123,
     "end_time": "2024-12-20T13:04:32.539138",
     "exception": false,
     "start_time": "2024-12-20T13:04:32.463015",
     "status": "completed"
    },
    "tags": []
   },
   "outputs": [
    {
     "name": "stdout",
     "output_type": "stream",
     "text": [
      "Number of rows with NaN values: 30836\n"
     ]
    }
   ],
   "source": [
    "# Get the number of rows with NaN values\n",
    "nan_rows = df.isna().any(axis=1)\n",
    "num_nan_rows = nan_rows.sum()\n",
    "print(f\"Number of rows with NaN values: {num_nan_rows}\")"
   ]
  },
  {
   "cell_type": "code",
   "execution_count": 12,
   "id": "bc81a082",
   "metadata": {
    "execution": {
     "iopub.execute_input": "2024-12-20T13:04:32.561847Z",
     "iopub.status.busy": "2024-12-20T13:04:32.561425Z",
     "iopub.status.idle": "2024-12-20T13:04:32.817793Z",
     "shell.execute_reply": "2024-12-20T13:04:32.816556Z"
    },
    "papermill": {
     "duration": 0.270615,
     "end_time": "2024-12-20T13:04:32.820406",
     "exception": false,
     "start_time": "2024-12-20T13:04:32.549791",
     "status": "completed"
    },
    "tags": []
   },
   "outputs": [],
   "source": [
    "# Drop rows that still have NaNs in place\n",
    "df.dropna(inplace=True)"
   ]
  },
  {
   "cell_type": "code",
   "execution_count": 13,
   "id": "5215c83b",
   "metadata": {
    "execution": {
     "iopub.execute_input": "2024-12-20T13:04:32.842510Z",
     "iopub.status.busy": "2024-12-20T13:04:32.842138Z",
     "iopub.status.idle": "2024-12-20T13:04:33.157331Z",
     "shell.execute_reply": "2024-12-20T13:04:33.155994Z"
    },
    "papermill": {
     "duration": 0.329092,
     "end_time": "2024-12-20T13:04:33.160048",
     "exception": false,
     "start_time": "2024-12-20T13:04:32.830956",
     "status": "completed"
    },
    "tags": []
   },
   "outputs": [],
   "source": [
    "df.index = df.index.tz_localize(None)\n",
    "df_total = df.join(nifty_100_closing, how='left')"
   ]
  },
  {
   "cell_type": "code",
   "execution_count": 14,
   "id": "dc589b37",
   "metadata": {
    "execution": {
     "iopub.execute_input": "2024-12-20T13:04:33.182278Z",
     "iopub.status.busy": "2024-12-20T13:04:33.181833Z",
     "iopub.status.idle": "2024-12-20T13:04:33.471313Z",
     "shell.execute_reply": "2024-12-20T13:04:33.470198Z"
    },
    "papermill": {
     "duration": 0.303863,
     "end_time": "2024-12-20T13:04:33.473844",
     "exception": false,
     "start_time": "2024-12-20T13:04:33.169981",
     "status": "completed"
    },
    "tags": []
   },
   "outputs": [],
   "source": [
    "df_total.dropna(inplace=True)"
   ]
  },
  {
   "cell_type": "code",
   "execution_count": 15,
   "id": "96b9d92e",
   "metadata": {
    "execution": {
     "iopub.execute_input": "2024-12-20T13:04:33.495578Z",
     "iopub.status.busy": "2024-12-20T13:04:33.495145Z",
     "iopub.status.idle": "2024-12-20T13:04:35.395380Z",
     "shell.execute_reply": "2024-12-20T13:04:35.393202Z"
    },
    "papermill": {
     "duration": 1.914048,
     "end_time": "2024-12-20T13:04:35.398063",
     "exception": false,
     "start_time": "2024-12-20T13:04:33.484015",
     "status": "completed"
    },
    "tags": []
   },
   "outputs": [
    {
     "name": "stdout",
     "output_type": "stream",
     "text": [
      "Number of rows with large changes (>100.0%): 42\n"
     ]
    }
   ],
   "source": [
    "# Calculate the percentage change\n",
    "X_pct_change = df_total.pct_change()\n",
    "\n",
    "# Define the threshold for large changes (e.g., 100% change)\n",
    "threshold = 1.0  # 1.0 corresponds to 100% when working with pct_change()\n",
    "\n",
    "# Find rows with any column having a percentage change greater than the threshold\n",
    "large_change_rows = X_pct_change[(X_pct_change.abs() > threshold).any(axis=1)]\n",
    "\n",
    "# Get the number of rows where there are large percentage changes\n",
    "num_large_changes = large_change_rows.shape[0]\n",
    "\n",
    "print(f\"Number of rows with large changes (>{threshold * 100}%): {num_large_changes}\")"
   ]
  },
  {
   "cell_type": "code",
   "execution_count": 16,
   "id": "596205db",
   "metadata": {
    "execution": {
     "iopub.execute_input": "2024-12-20T13:04:35.421661Z",
     "iopub.status.busy": "2024-12-20T13:04:35.421203Z",
     "iopub.status.idle": "2024-12-20T13:04:35.428100Z",
     "shell.execute_reply": "2024-12-20T13:04:35.426823Z"
    },
    "papermill": {
     "duration": 0.023425,
     "end_time": "2024-12-20T13:04:35.431607",
     "exception": false,
     "start_time": "2024-12-20T13:04:35.408182",
     "status": "completed"
    },
    "tags": []
   },
   "outputs": [
    {
     "name": "stdout",
     "output_type": "stream",
     "text": [
      "629791\n"
     ]
    }
   ],
   "source": [
    "print(len(df_total))"
   ]
  },
  {
   "cell_type": "code",
   "execution_count": 17,
   "id": "94e47a08",
   "metadata": {
    "execution": {
     "iopub.execute_input": "2024-12-20T13:04:35.454042Z",
     "iopub.status.busy": "2024-12-20T13:04:35.453644Z",
     "iopub.status.idle": "2024-12-20T13:04:35.678892Z",
     "shell.execute_reply": "2024-12-20T13:04:35.677644Z"
    },
    "papermill": {
     "duration": 0.239899,
     "end_time": "2024-12-20T13:04:35.681689",
     "exception": false,
     "start_time": "2024-12-20T13:04:35.441790",
     "status": "completed"
    },
    "tags": []
   },
   "outputs": [],
   "source": [
    "df_total.sort_index(inplace=True)"
   ]
  },
  {
   "cell_type": "markdown",
   "id": "4ee9ce74",
   "metadata": {
    "papermill": {
     "duration": 0.00948,
     "end_time": "2024-12-20T13:04:35.701150",
     "exception": false,
     "start_time": "2024-12-20T13:04:35.691670",
     "status": "completed"
    },
    "tags": []
   },
   "source": [
    "# Models\n",
    "\n",
    "Firstly, let's explain the general architecture of the model, firstly, we must understand the pitfalls of using time series data, and how it affects our choice of cross validation strategy. Since the order of data must be preserved, we cannot use a conventional cross validation, and rather opt for a TimeSeriesSplit, specifically, we set the training and test sizes of the window, to get the desired sliding window result, where the training window is roughly 1 year, and the testing widnow around 3 months, this yields a total of 18 windows.\n",
    "\n",
    "Knowing this, we propose the following general architecture, for a given model and threshold:\n",
    "\n",
    "For each fold:\n",
    "\n",
    "1. Perform feature selection (ex: Lasso with high alpha, Dropping Correlated variables, Mutual Information) using the threshold.\n",
    "2. Train model on reduced feature space, with hyperparameter tuning to choose best parameters.\n",
    "3. Save the tracking error and number of features (stocks) used in training\n",
    "\n",
    "Finally, we return the following averages over the folds\n",
    "* Average number of stocks.\n",
    "* Average tracking error.\n",
    "\n",
    "We will observe how different models (LinearRegression, ElasticNet, XGBRegressor and RandomForestRegressor) produce predictions and produce a plot for the average tracking error against the average number of stocks."
   ]
  },
  {
   "cell_type": "markdown",
   "id": "5aaef9e9",
   "metadata": {
    "papermill": {
     "duration": 0.009625,
     "end_time": "2024-12-20T13:04:35.720560",
     "exception": false,
     "start_time": "2024-12-20T13:04:35.710935",
     "status": "completed"
    },
    "tags": []
   },
   "source": [
    "## Correlation - Lasso"
   ]
  },
  {
   "cell_type": "code",
   "execution_count": 18,
   "id": "ad9f27f4",
   "metadata": {
    "execution": {
     "iopub.execute_input": "2024-12-20T13:04:35.741568Z",
     "iopub.status.busy": "2024-12-20T13:04:35.741214Z",
     "iopub.status.idle": "2024-12-20T13:04:35.748174Z",
     "shell.execute_reply": "2024-12-20T13:04:35.747182Z"
    },
    "papermill": {
     "duration": 0.020294,
     "end_time": "2024-12-20T13:04:35.750600",
     "exception": false,
     "start_time": "2024-12-20T13:04:35.730306",
     "status": "completed"
    },
    "tags": []
   },
   "outputs": [],
   "source": [
    "def remove_correlated_features(X_train, threshold):\n",
    "    X_train = pd.DataFrame(X_train)\n",
    "    \n",
    "    # Compute the correlation matrix (absolute values)\n",
    "    corr_matrix = X_train.corr().abs()\n",
    "    \n",
    "    # Create a mask to select only the upper triangle of the correlation matrix\n",
    "    upper_triangle = corr_matrix.where(np.triu(np.ones(corr_matrix.shape), k=1).astype(bool))\n",
    "    \n",
    "    # Find features with correlation greater than the threshold\n",
    "    to_drop = [column for column in upper_triangle.columns if any(upper_triangle[column] > threshold)]\n",
    "    print(f\"Features to drop (correlation > {threshold}): {to_drop}\")\n",
    "    selected_features = [i for i in range(X_train.shape[1]) if i not in to_drop]\n",
    "    \n",
    "    return selected_features\n",
    "    "
   ]
  },
  {
   "cell_type": "code",
   "execution_count": 19,
   "id": "dc74e25f",
   "metadata": {
    "execution": {
     "iopub.execute_input": "2024-12-20T13:04:35.772510Z",
     "iopub.status.busy": "2024-12-20T13:04:35.772105Z",
     "iopub.status.idle": "2024-12-20T13:04:35.783094Z",
     "shell.execute_reply": "2024-12-20T13:04:35.781995Z"
    },
    "papermill": {
     "duration": 0.025027,
     "end_time": "2024-12-20T13:04:35.785658",
     "exception": false,
     "start_time": "2024-12-20T13:04:35.760631",
     "status": "completed"
    },
    "tags": []
   },
   "outputs": [],
   "source": [
    "from sklearn.preprocessing import StandardScaler\n",
    "\n",
    "\n",
    "def Corr_Lasso(threshold, X, y, debug=False):\n",
    "    tscv = TimeSeriesSplit(n_splits=13, max_train_size=85000, test_size=45000)\n",
    "    stocks = []\n",
    "    num_stocks = []\n",
    "    fold_scores = []\n",
    "    adj_fold_scores = []\n",
    "\n",
    "    for train_index, test_index in tscv.split(X):\n",
    "        X_train_cv, X_test_cv = X.iloc[train_index], X.iloc[test_index]\n",
    "        y_train_cv, y_test_cv = y.iloc[train_index], y.iloc[test_index]\n",
    "        scaler = StandardScaler()\n",
    "        X_scaled = scaler.fit_transform(X_train_cv)\n",
    "        X_test_scaled = scaler.transform(X_test_cv)\n",
    "        \n",
    "        # Feature selection using correlation matrix\n",
    "        selected_indices = remove_correlated_features(X_scaled, threshold)\n",
    "\n",
    "        X_train_selected = X_scaled[:, selected_indices]\n",
    "        X_test_selected = X_test_scaled[:, selected_indices]\n",
    "        if debug == True:\n",
    "            print(f\"Selected {len(selected_indices)} stocks\")\n",
    "        num_stocks.append(len(selected_indices))\n",
    "        stocks.append(selected_indices)\n",
    "\n",
    "        best_alpha = None\n",
    "        best_score = float('inf')  # Assuming lower is better for your metric\n",
    "        for alph in [0.0001, 0.00025, 0.0005, 0.00075, 0.001, 0.002, 0.0025]:\n",
    "            lasso = Lasso(alpha=alph, max_iter=15000)\n",
    "            lasso.fit(X_train_selected, y_train_cv)\n",
    "            y_pred = lasso.predict(X_test_selected)\n",
    "            fold_score = tracking_error(y_test_cv, y_pred)\n",
    "            adj_fold_score = adj_tracking_error(y_test_cv, X_test_selected, lasso)\n",
    "            \n",
    "            if fold_score < best_score:\n",
    "                best_score = fold_score\n",
    "                best_alpha = alph\n",
    "\n",
    "        print(f\"Best Alpha for this fold: {best_alpha}, Best Fold Score: {best_score}\")\n",
    "        fold_scores.append(best_score)\n",
    "        adj_fold_scores.append(adj_fold_score)\n",
    "\n",
    "    # Calculate the average score across all folds\n",
    "    average_score = np.mean(fold_scores)\n",
    "    average_adj_score = np.mean(adj_fold_scores)\n",
    "\n",
    "    # Get average stocks chosen over all folds\n",
    "    average_selected_features = np.mean(num_stocks)\n",
    "\n",
    "    # Print the tracking error for this alpha\n",
    "    print(f\"Threshold: {threshold}, Tracking Error: {average_score}, Adj Tracking Error: {average_adj_score}\")\n",
    "    return stocks, average_selected_features, average_score, average_adj_score"
   ]
  },
  {
   "cell_type": "code",
   "execution_count": 20,
   "id": "cc5bc832",
   "metadata": {
    "execution": {
     "iopub.execute_input": "2024-12-20T13:04:35.807320Z",
     "iopub.status.busy": "2024-12-20T13:04:35.806927Z",
     "iopub.status.idle": "2024-12-20T13:04:35.815654Z",
     "shell.execute_reply": "2024-12-20T13:04:35.814488Z"
    },
    "jupyter": {
     "source_hidden": true
    },
    "papermill": {
     "duration": 0.022352,
     "end_time": "2024-12-20T13:04:35.818032",
     "exception": false,
     "start_time": "2024-12-20T13:04:35.795680",
     "status": "completed"
    },
    "tags": []
   },
   "outputs": [],
   "source": [
    "def Corr_Lasso_plot(X,y):\n",
    "    thresholds = [0.9, 0.8, 0.7, 0.6, 0.5, 0.4, 0.3, 0.2]\n",
    "    tracking_errors = []\n",
    "    adj_tracking_errors = []\n",
    "    num_stocks_list = []\n",
    "    \n",
    "    for threshold in thresholds:\n",
    "        print(f\"----------Starting threshold: {threshold}-------------\")\n",
    "        _, num_stocks, tracking_err, adj_tracking_err = Corr_Lasso(threshold, X, y, debug=False)\n",
    "        num_stocks_list.append(num_stocks)\n",
    "        tracking_errors.append(tracking_err)\n",
    "        adj_tracking_errors.append(adj_tracking_err)\n",
    "    \n",
    "    # Plotting the results\n",
    "    fig, ax1 = plt.subplots()\n",
    "    \n",
    "    # Plotting number of stocks on the primary y-axis\n",
    "    color = 'tab:blue'    \n",
    "    ax1.set_xlabel('Alpha')\n",
    "    ax1.set_ylabel('Number of Stocks', color=color)    \n",
    "    ax1.plot(thresholds, num_stocks_list, color=color, marker='o', label='Number of Stocks')\n",
    "    ax1.tick_params(axis='y', labelcolor=color)\n",
    "    \n",
    "    # Creating a second y-axis for tracking error\n",
    "    ax2 = ax1.twinx()\n",
    "    color = 'tab:red'\n",
    "    ax2.set_ylabel('Tracking Error', color=color)\n",
    "    #ax2.plot(alphas, tracking_errors, color='tab:green', marker='o', linestyle='--', label='Tracking Error')\n",
    "    ax2.plot(thresholds, adj_tracking_errors, color=color, marker='x', linestyle='--', label='Adjusted Tracking Error')\n",
    "    ax2.tick_params(axis='y', labelcolor=color)\n",
    "    \n",
    "    # Adding a title and legend\n",
    "    plt.title('Number of Stocks and Tracking Error vs. Alpha')    \n",
    "    fig.tight_layout()  # Adjust layout to prevent overlap\n",
    "    plt.savefig('Corr-Lasso.png')\n",
    "    plt.show()"
   ]
  },
  {
   "cell_type": "markdown",
   "id": "12984be7",
   "metadata": {
    "papermill": {
     "duration": 0.009816,
     "end_time": "2024-12-20T13:04:35.837961",
     "exception": false,
     "start_time": "2024-12-20T13:04:35.828145",
     "status": "completed"
    },
    "tags": []
   },
   "source": [
    "## Lasso - Lasso\n",
    "\n",
    "\n",
    "\n",
    "We will utilize a Lasso model with a high alpha value to perform feature selection, this will drop the coefficients for less important features to 0. After that we retrain a Lasso model with hyperparameter tuning."
   ]
  },
  {
   "cell_type": "code",
   "execution_count": 21,
   "id": "6e6fe314",
   "metadata": {
    "_kg_hide-input": true,
    "execution": {
     "iopub.execute_input": "2024-12-20T13:04:35.860947Z",
     "iopub.status.busy": "2024-12-20T13:04:35.860559Z",
     "iopub.status.idle": "2024-12-20T13:04:35.873086Z",
     "shell.execute_reply": "2024-12-20T13:04:35.872029Z"
    },
    "papermill": {
     "duration": 0.027633,
     "end_time": "2024-12-20T13:04:35.875572",
     "exception": false,
     "start_time": "2024-12-20T13:04:35.847939",
     "status": "completed"
    },
    "tags": []
   },
   "outputs": [],
   "source": [
    "from sklearn.preprocessing import StandardScaler\n",
    "\n",
    "def Lasso_Lasso(alpha, X, y):    \n",
    "    tscv = TimeSeriesSplit(n_splits=13, max_train_size=85000, test_size=45000)\n",
    "    stocks = []\n",
    "    num_stocks = []\n",
    "    fold_scores = []\n",
    "    adj_fold_scores = []\n",
    "\n",
    "    for train_index, test_index in tscv.split(X):\n",
    "        X_train_cv, X_test_cv = X.iloc[train_index], X.iloc[test_index]\n",
    "        y_train_cv, y_test_cv = y.iloc[train_index], y.iloc[test_index]\n",
    "        train_period = X.iloc[train_index].index\n",
    "        test_period = X.iloc[test_index].index\n",
    "\n",
    "        # Convert to date format\n",
    "        train_start_date, train_end_date = train_period.min(), train_period.max()\n",
    "        test_start_date, test_end_date = test_period.min(), test_period.max()\n",
    "\n",
    "        print(f\"Train period: {train_start_date} to {train_end_date}\")\n",
    "        print(f\"Test period: {test_start_date} to {test_end_date}\")\n",
    "        scaler = StandardScaler()\n",
    "        X_scaled = scaler.fit_transform(X_train_cv)\n",
    "        X_test_scaled = scaler.transform(X_test_cv)\n",
    "        \n",
    "        # Feature selection with alpha from list\n",
    "        lasso_fs = Lasso(alpha=alpha, max_iter=200)\n",
    "        lasso_fs.fit(X_scaled, y_train_cv)\n",
    "\n",
    "        # for feature, coef in zip(X_train_cv.columns, lasso_fs.coef_):\n",
    "        #    print(f\"{feature}: {coef}\")\n",
    "\n",
    "        selector = SelectFromModel(lasso_fs, threshold=10e-10, max_features=None)  # Adjust threshold as needed\n",
    "        X_selected_train = selector.transform(X_scaled)\n",
    "        X_selected_test = selector.transform(X_test_scaled)\n",
    "\n",
    "        selected_features = np.where(selector.get_support())[0] \n",
    "        print(f\"Selected {len(selected_features)} stocks\")\n",
    "        num_stocks.append(len(selected_features))\n",
    "        stocks.append(selected_features)\n",
    "\n",
    "        best_alpha = None\n",
    "        best_score = float('inf')  # Assuming lower is better for your metric\n",
    "        best_adj_score = float('inf')  # Assuming lower is better for your metric\n",
    "        for alph in [0.0001, 0.00025, 0.0005, 0.00075, 0.001, 0.002, 0.0025]:\n",
    "            lasso = Lasso(alpha=alph, max_iter=15000)\n",
    "            lasso.fit(X_selected_train, y_train_cv)\n",
    "            y_pred = lasso.predict(X_selected_test)\n",
    "            \n",
    "            fold_score = tracking_error(y_test_cv, y_pred)\n",
    "            adj_fold_score = adj_tracking_error(y_test_cv, X_selected_test, lasso)\n",
    "            \n",
    "            if fold_score < best_score:\n",
    "                best_score = fold_score\n",
    "                best_adj_score = adj_fold_score\n",
    "                best_alpha = alph\n",
    "\n",
    "        #print(f\"Best Alpha for this fold: {best_alpha}, Best Fold Score: {best_score}\")\n",
    "        fold_scores.append(best_score)\n",
    "        adj_fold_scores.append(best_adj_score)\n",
    "\n",
    "    # Calculate the average score across all folds\n",
    "    average_score = np.mean(fold_scores)\n",
    "    average_adj_score = np.mean(adj_fold_scores)\n",
    "\n",
    "    # Get average stocks chosen over all folds\n",
    "    average_selected_features = np.mean(num_stocks)\n",
    "\n",
    "    # Print the tracking error for this alpha\n",
    "    print(f\"Alpha: {alpha}, Number of Stocks: {average_selected_features}, Average Tracking Error (bps): {average_score}\")\n",
    "    return stocks, average_selected_features, average_score, average_adj_score"
   ]
  },
  {
   "cell_type": "code",
   "execution_count": 22,
   "id": "0c570bb5",
   "metadata": {
    "execution": {
     "iopub.execute_input": "2024-12-20T13:04:35.898062Z",
     "iopub.status.busy": "2024-12-20T13:04:35.897675Z",
     "iopub.status.idle": "2024-12-20T13:04:35.906692Z",
     "shell.execute_reply": "2024-12-20T13:04:35.905535Z"
    },
    "papermill": {
     "duration": 0.023271,
     "end_time": "2024-12-20T13:04:35.909274",
     "exception": false,
     "start_time": "2024-12-20T13:04:35.886003",
     "status": "completed"
    },
    "tags": []
   },
   "outputs": [],
   "source": [
    "def Lasso_Lasso_plot(X,y):\n",
    "    alphas = np.logspace(-3, -4, 10)\n",
    "    tracking_errors = []\n",
    "    adj_tracking_errors = []\n",
    "    num_stocks_list = []\n",
    "    \n",
    "    for alpha in alphas:\n",
    "        print(f\"----------Starting alpha {alpha}-------------\")\n",
    "        _, num_stocks, tracking_err, adj_tracking_err = Lasso_Lasso(alpha, X, y)\n",
    "        num_stocks_list.append(num_stocks)\n",
    "        tracking_errors.append(tracking_err)\n",
    "        adj_tracking_errors.append(adj_tracking_err)\n",
    "    \n",
    "    # Plotting the results\n",
    "    fig, ax1 = plt.subplots()\n",
    "    \n",
    "    # Plotting number of stocks on the primary y-axis\n",
    "    color = 'tab:blue'    \n",
    "    ax1.set_xlabel('Alpha')\n",
    "    ax1.set_ylabel('Number of Stocks', color=color)    \n",
    "    ax1.plot(alphas, num_stocks_list, color=color, marker='o', label='Number of Stocks')\n",
    "    ax1.tick_params(axis='y', labelcolor=color)\n",
    "    \n",
    "    # Creating a second y-axis for tracking error\n",
    "    ax2 = ax1.twinx()\n",
    "    color = 'tab:red'\n",
    "    ax2.set_ylabel('Tracking Error', color=color)\n",
    "    #ax2.plot(alphas, tracking_errors, color='tab:green', marker='o', linestyle='--', label='Tracking Error')\n",
    "    ax2.plot(alphas, adj_tracking_errors, color=color, marker='x', linestyle='--', label='Adjusted Tracking Error')\n",
    "    ax2.tick_params(axis='y', labelcolor=color)\n",
    "    \n",
    "    # Adding a title and legend\n",
    "    plt.title('Number of Stocks and Tracking Error vs. Alpha')    \n",
    "    fig.tight_layout()  # Adjust layout to prevent overlap\n",
    "    plt.savefig('Lasso-Lasso.png')\n",
    "    plt.show()"
   ]
  },
  {
   "cell_type": "markdown",
   "id": "1b56f9cb",
   "metadata": {
    "papermill": {
     "duration": 0.009663,
     "end_time": "2024-12-20T13:04:35.929079",
     "exception": false,
     "start_time": "2024-12-20T13:04:35.919416",
     "status": "completed"
    },
    "tags": []
   },
   "source": [
    "### Mutual Info - Lasso\n",
    "\n",
    "Using mutual information between variables, which measures the dependency between them, 0 value being independence. By getting the mutual information between the features (stocks) and the target (NIFTY 100) we can \"discard\" the variables with lower dependencies. After feature selection, we traing a Lasso model with CV."
   ]
  },
  {
   "cell_type": "code",
   "execution_count": 23,
   "id": "1605ea97",
   "metadata": {
    "execution": {
     "iopub.execute_input": "2024-12-20T13:04:35.951215Z",
     "iopub.status.busy": "2024-12-20T13:04:35.950463Z",
     "iopub.status.idle": "2024-12-20T13:04:35.963740Z",
     "shell.execute_reply": "2024-12-20T13:04:35.962555Z"
    },
    "papermill": {
     "duration": 0.026927,
     "end_time": "2024-12-20T13:04:35.966203",
     "exception": false,
     "start_time": "2024-12-20T13:04:35.939276",
     "status": "completed"
    },
    "tags": []
   },
   "outputs": [],
   "source": [
    "from sklearn.preprocessing import StandardScaler\n",
    "\n",
    "\n",
    "def MI_Experiment(percentile, X, y, model_class, params, debug=False):\n",
    "    tscv = TimeSeriesSplit(n_splits=13, max_train_size=85000, test_size=45000)\n",
    "    stocks = []\n",
    "    num_stocks = []\n",
    "    fold_scores = []\n",
    "    adj_fold_scores = []\n",
    "\n",
    "    for train_index, test_index in tscv.split(X):\n",
    "        X_train_cv, X_test_cv = X.iloc[train_index], X.iloc[test_index]\n",
    "        y_train_cv, y_test_cv = y.iloc[train_index], y.iloc[test_index]\n",
    "        scaler = StandardScaler()\n",
    "        X_scaled = scaler.fit_transform(X_train_cv)\n",
    "        X_test_scaled = scaler.transform(X_test_cv)\n",
    "\n",
    "        # Feature selection with alpha from list\n",
    "        mi_scores = mutual_info_regression(X_train_cv, y_train_cv)\n",
    "        mi_scores_series = pd.Series(mi_scores, index=X_train_cv.columns)\n",
    "\n",
    "        threshold_value = mi_scores_series.quantile(percentile)        \n",
    "\n",
    "        selected_features = mi_scores_series[mi_scores_series > threshold_value].index\n",
    "        selected_indices = [X_train_cv.columns.get_loc(feature) for feature in selected_features]\n",
    "\n",
    "        # Filter the NumPy arrays based on the selected feature indices\n",
    "        X_train_selected = X_scaled[:, selected_indices]\n",
    "        X_test_selected = X_test_scaled[:, selected_indices]\n",
    "        # Initial index value\n",
    "        \n",
    "\n",
    "        if debug == True:\n",
    "            print(f\"Selected {len(selected_features)} stocks\")\n",
    "        num_stocks.append(len(selected_features))\n",
    "        stocks.append(selected_features)\n",
    "\n",
    "        best_params = None\n",
    "        best_score = float('inf')  # Assuming lower is better for your metric\n",
    "        best_adj_score = float('inf')\n",
    "        for param in ParameterGrid(params):\n",
    "            if debug == True:\n",
    "                print(f\"Trying combination {param}\")\n",
    "            model = model_class(**param)\n",
    "            model.fit(X_train_selected, y_train_cv)\n",
    "            y_pred = model.predict(X_test_selected)\n",
    "\n",
    "            train_fold_score = tracking_error(y_train_cv, model.predict(X_train_selected))\n",
    "            fold_score = tracking_error(y_test_cv, y_pred)\n",
    "            print(f\"Train Error: {train_fold_score}, Test Error: {fold_score}\")\n",
    "            adj_fold_score = adj_tracking_error(y_test_cv, X_test_selected, model)\n",
    "\n",
    "            if adj_fold_score < best_adj_score:\n",
    "                best_score = fold_score\n",
    "                best_adj_score = adj_fold_score\n",
    "                best_params = param\n",
    "        if debug == True:\n",
    "            print(f\"Best Params for this fold: {best_params}, Best Test Score: {best_score}\")\n",
    "        fold_scores.append(best_score)\n",
    "        adj_fold_scores.append(best_adj_score)\n",
    "\n",
    "    # Calculate the average score across all folds\n",
    "    average_score = np.mean(fold_scores)\n",
    "    average_adj_score = np.mean(adj_fold_scores)\n",
    "\n",
    "    # Get average stocks chosen over all folds\n",
    "    average_selected_features = np.mean(num_stocks)\n",
    "\n",
    "    # Print the tracking error for this alpha\n",
    "    print(f\"Percentile: {percentile}, Tracking Error: {average_score}, Adj Tracking Error: {average_adj_score}\")\n",
    "    return stocks, average_selected_features, average_score, average_adj_score"
   ]
  },
  {
   "cell_type": "markdown",
   "id": "89c7c7cc",
   "metadata": {
    "papermill": {
     "duration": 0.009559,
     "end_time": "2024-12-20T13:04:35.985639",
     "exception": false,
     "start_time": "2024-12-20T13:04:35.976080",
     "status": "completed"
    },
    "tags": []
   },
   "source": [
    "### MI - Lasso"
   ]
  },
  {
   "cell_type": "code",
   "execution_count": 24,
   "id": "39d51356",
   "metadata": {
    "execution": {
     "iopub.execute_input": "2024-12-20T13:04:36.006966Z",
     "iopub.status.busy": "2024-12-20T13:04:36.006545Z",
     "iopub.status.idle": "2024-12-20T13:04:36.014595Z",
     "shell.execute_reply": "2024-12-20T13:04:36.013285Z"
    },
    "papermill": {
     "duration": 0.021756,
     "end_time": "2024-12-20T13:04:36.017199",
     "exception": false,
     "start_time": "2024-12-20T13:04:35.995443",
     "status": "completed"
    },
    "tags": []
   },
   "outputs": [],
   "source": [
    "def MI_Lasso_plot(X,y):\n",
    "    tracking_errors = []\n",
    "    adj_tracking_errors = []\n",
    "    num_stocks_list = []\n",
    "    \n",
    "    percentiles = [0.6]\n",
    "    param_grid = {\n",
    "        'alpha': [0.0001, 0.00025, 0.0005, 0.00075, 0.001, 0.002, 0.0025],\n",
    "        'max_iter': [15000]\n",
    "    }\n",
    "    \n",
    "    for percentile in percentiles:\n",
    "        print(f\"Starting percentile: {percentile}\")\n",
    "        _, num_stocks, tracking_err, adj_tracking_err = MI_Experiment(percentile, X, y, Lasso, param_grid)\n",
    "        num_stocks_list.append(num_stocks)\n",
    "        tracking_errors.append(tracking_err)\n",
    "        adj_tracking_errors.append(adj_tracking_err)\n",
    "    \n",
    "    # Plotting the results\n",
    "    fig, ax1 = plt.subplots()\n",
    "    \n",
    "    # Plotting number of stocks on the primary y-axis\n",
    "    plt.plot(num_stocks_list, adj_tracking_errors, marker='x')\n",
    "    plt.xlabel('Number of Stocks')\n",
    "    plt.ylabel('Tracking Error')\n",
    "    plt.title('Lasso - Tracking Errors vs Number of Stocks')\n",
    "    plt.grid(True)\n",
    "    plt.savefig(\"MI-Lasso.png\")\n",
    "    plt.show()"
   ]
  },
  {
   "cell_type": "markdown",
   "id": "d5535593",
   "metadata": {
    "papermill": {
     "duration": 0.009885,
     "end_time": "2024-12-20T13:04:36.037687",
     "exception": false,
     "start_time": "2024-12-20T13:04:36.027802",
     "status": "completed"
    },
    "tags": []
   },
   "source": [
    "### MI - ElasticNet"
   ]
  },
  {
   "cell_type": "code",
   "execution_count": 25,
   "id": "d6536d79",
   "metadata": {
    "execution": {
     "iopub.execute_input": "2024-12-20T13:04:36.059012Z",
     "iopub.status.busy": "2024-12-20T13:04:36.058602Z",
     "iopub.status.idle": "2024-12-20T13:04:36.066340Z",
     "shell.execute_reply": "2024-12-20T13:04:36.065184Z"
    },
    "jupyter": {
     "source_hidden": true
    },
    "papermill": {
     "duration": 0.020804,
     "end_time": "2024-12-20T13:04:36.068449",
     "exception": false,
     "start_time": "2024-12-20T13:04:36.047645",
     "status": "completed"
    },
    "tags": []
   },
   "outputs": [],
   "source": [
    "def MI_ElasticNet_plot(X,y):\n",
    "    tracking_errors = []\n",
    "    adj_tracking_errors = []\n",
    "    num_stocks_list = []\n",
    "    \n",
    "    percentiles = [0.0, 0.1, 0.2, 0.3, 0.4, 0.5, 0.6]\n",
    "    param_grid = {\n",
    "        'alpha': [0.0001, 0.00025, 0.0005, 0.00075, 0.001, 0.002, 0.0025],\n",
    "        'l1_ratio': [0.1, 0.5, 0.7, 0.9]\n",
    "    }\n",
    "    \n",
    "    for percentile in percentiles:\n",
    "        print(f\"Starting percentile: {percentile}\")\n",
    "        _, num_stocks, tracking_err, adj_tracking_err = MI_Experiment(percentile, X, y, ElasticNet, param_grid)\n",
    "        num_stocks_list.append(num_stocks)\n",
    "        tracking_errors.append(tracking_err)\n",
    "        adj_tracking_errors.append(adj_tracking_err)\n",
    "    \n",
    "    # Plotting the results\n",
    "    fig, ax1 = plt.subplots()\n",
    "    \n",
    "    # Plotting number of stocks on the primary y-axis\n",
    "    plt.plot(num_stocks_list, adj_tracking_errors, marker='x')\n",
    "    plt.xlabel('Number of Stocks')\n",
    "    plt.ylabel('Tracking Error')\n",
    "    plt.title('ElasticNet - Tracking Errors vs Number of Stocks ')\n",
    "    plt.grid(True)\n",
    "    plt.savefig(\"MI-ElasticNet.png\")\n",
    "    plt.show()"
   ]
  },
  {
   "cell_type": "markdown",
   "id": "94e1873e",
   "metadata": {
    "execution": {
     "iopub.execute_input": "2024-11-12T21:50:37.572889Z",
     "iopub.status.busy": "2024-11-12T21:50:37.570440Z"
    },
    "papermill": {
     "duration": 0.010105,
     "end_time": "2024-12-20T13:04:36.088456",
     "exception": false,
     "start_time": "2024-12-20T13:04:36.078351",
     "status": "completed"
    },
    "tags": []
   },
   "source": [
    "TODO: Theil-Sein Linear Regression"
   ]
  },
  {
   "cell_type": "markdown",
   "id": "4ad7e00a",
   "metadata": {
    "papermill": {
     "duration": 0.009612,
     "end_time": "2024-12-20T13:04:36.107955",
     "exception": false,
     "start_time": "2024-12-20T13:04:36.098343",
     "status": "completed"
    },
    "tags": []
   },
   "source": [
    "### MI-RandomForestRegressor"
   ]
  },
  {
   "cell_type": "code",
   "execution_count": 26,
   "id": "928556e0",
   "metadata": {
    "_kg_hide-input": true,
    "execution": {
     "iopub.execute_input": "2024-12-20T13:04:36.130361Z",
     "iopub.status.busy": "2024-12-20T13:04:36.129077Z",
     "iopub.status.idle": "2024-12-20T13:04:36.137927Z",
     "shell.execute_reply": "2024-12-20T13:04:36.136861Z"
    },
    "papermill": {
     "duration": 0.022525,
     "end_time": "2024-12-20T13:04:36.140417",
     "exception": false,
     "start_time": "2024-12-20T13:04:36.117892",
     "status": "completed"
    },
    "tags": []
   },
   "outputs": [],
   "source": [
    "def MI_RF_plot(X,y):\n",
    "    tracking_errors = []\n",
    "    adj_tracking_errors = []\n",
    "    num_stocks_list = []\n",
    "    \n",
    "    percentiles = [0.0, 0.1, 0.2, 0.3, 0.4, 0.5, 0.6, 0.7, 0.8]\n",
    "    param_grid = {\n",
    "        'n_estimators': [10, 20, 30, 40, 50],       # Number of trees in the forest\n",
    "        'max_depth': [5, 10, 15],      # Maximum depth of the tree\n",
    "        'max_samples': [0.5],\n",
    "        'min_samples_split': [0.05],\n",
    "        'bootstrap': [True],\n",
    "        'n_jobs': [-1],\n",
    "        'max_features': ['sqrt']\n",
    "    }\n",
    "    \n",
    "    for percentile in percentiles:\n",
    "        print(f\"Starting percentile: {percentile}\")\n",
    "        _, num_stocks, tracking_err, adj_tracking_err = MI_Experiment(percentile, X, y, RandomForestRegressor, param_grid)\n",
    "        num_stocks_list.append(num_stocks)\n",
    "        tracking_errors.append(tracking_err)\n",
    "        adj_tracking_errors.append(adj_tracking_err)\n",
    "    \n",
    "    # Plotting the results\n",
    "    fig, ax1 = plt.subplots()\n",
    "    \n",
    "    # Plotting number of stocks on the primary y-axis\n",
    "    plt.plot(num_stocks_list, adj_tracking_errors, marker='x')\n",
    "    plt.xlabel('Number of Stocks')\n",
    "    plt.ylabel('Tracking Error')\n",
    "    plt.title('RandomForestRegressor - Tracking Errors vs Number of Stocks ')\n",
    "    plt.grid(True)\n",
    "    plt.savefig(\"MI-RandomForestRegressor.png\")\n",
    "    plt.show()"
   ]
  },
  {
   "cell_type": "markdown",
   "id": "1aac9a77",
   "metadata": {
    "papermill": {
     "duration": 0.010136,
     "end_time": "2024-12-20T13:04:36.161054",
     "exception": false,
     "start_time": "2024-12-20T13:04:36.150918",
     "status": "completed"
    },
    "tags": []
   },
   "source": [
    "### MI - XGBoost"
   ]
  },
  {
   "cell_type": "code",
   "execution_count": 27,
   "id": "7f4818e5",
   "metadata": {
    "execution": {
     "iopub.execute_input": "2024-12-20T13:04:36.182695Z",
     "iopub.status.busy": "2024-12-20T13:04:36.182312Z",
     "iopub.status.idle": "2024-12-20T13:04:36.190411Z",
     "shell.execute_reply": "2024-12-20T13:04:36.189414Z"
    },
    "papermill": {
     "duration": 0.021399,
     "end_time": "2024-12-20T13:04:36.192575",
     "exception": false,
     "start_time": "2024-12-20T13:04:36.171176",
     "status": "completed"
    },
    "tags": []
   },
   "outputs": [],
   "source": [
    "def MI_XGBoost_plot(X,y):\n",
    "    tracking_errors = []\n",
    "    adj_tracking_errors = []\n",
    "    num_stocks_list = []\n",
    "    \n",
    "    percentiles = [0.6]\n",
    "    param_grid = {\n",
    "        'n_estimators': [300],  # Number of boosting rounds\n",
    "        'learning_rate': [0.075],  # Step size shrinkage\n",
    "        'colsample_bytree': [0.7],\n",
    "        'max_depth': [7],  # Maximum depth of a tree\n",
    "        'n_jobs': [-1],\n",
    "        'booster': ['gblinear']\n",
    "        #'tree_method': ['gpu_hist'],\n",
    "    }\n",
    "    \n",
    "    for percentile in percentiles:\n",
    "        print(f\"Starting percentile: {percentile}\")\n",
    "        _, num_stocks, tracking_err, adj_tracking_err = MI_Experiment(percentile, X, y, xgb.XGBRegressor, param_grid)\n",
    "        num_stocks_list.append(num_stocks)\n",
    "        tracking_errors.append(tracking_err)\n",
    "        adj_tracking_errors.append(adj_tracking_err)\n",
    "    \n",
    "    # Plotting the results\n",
    "    fig, ax1 = plt.subplots()\n",
    "    \n",
    "    # Plotting number of stocks on the primary y-axis\n",
    "    plt.plot(num_stocks_list, adj_tracking_errors, marker='x')\n",
    "    plt.xlabel('Number of Stocks')\n",
    "    plt.ylabel('Tracking Error')\n",
    "    plt.title('XGBRegressor - Tracking Errors vs Number of Stocks ')\n",
    "    plt.grid(True)\n",
    "    plt.savefig(\"MI-XGBRegressor.png\")\n",
    "    plt.show()"
   ]
  },
  {
   "cell_type": "code",
   "execution_count": 28,
   "id": "d68c1938",
   "metadata": {
    "execution": {
     "iopub.execute_input": "2024-12-20T13:04:36.214159Z",
     "iopub.status.busy": "2024-12-20T13:04:36.213744Z",
     "iopub.status.idle": "2024-12-20T13:04:38.591175Z",
     "shell.execute_reply": "2024-12-20T13:04:38.589881Z"
    },
    "papermill": {
     "duration": 2.391646,
     "end_time": "2024-12-20T13:04:38.594195",
     "exception": false,
     "start_time": "2024-12-20T13:04:36.202549",
     "status": "completed"
    },
    "tags": []
   },
   "outputs": [],
   "source": [
    "df_total_z = df_total.replace(0, np.nan)  # Convert zeroes back to NaNs\n",
    "df_total_returns = df_total_z.pct_change().dropna()\n",
    "df_total_returns = df_total_returns*100\n",
    "X = df_total_returns.drop(columns=['NIFTY_100'])\n",
    "y = df_total_returns['NIFTY_100']"
   ]
  },
  {
   "cell_type": "code",
   "execution_count": 29,
   "id": "cc8d3bae",
   "metadata": {
    "execution": {
     "iopub.execute_input": "2024-12-20T13:04:38.615859Z",
     "iopub.status.busy": "2024-12-20T13:04:38.615483Z",
     "iopub.status.idle": "2024-12-20T13:04:38.620787Z",
     "shell.execute_reply": "2024-12-20T13:04:38.619232Z"
    },
    "papermill": {
     "duration": 0.018982,
     "end_time": "2024-12-20T13:04:38.623249",
     "exception": false,
     "start_time": "2024-12-20T13:04:38.604267",
     "status": "completed"
    },
    "tags": []
   },
   "outputs": [],
   "source": [
    "# Corr_Lasso_plot(X,y)"
   ]
  },
  {
   "cell_type": "code",
   "execution_count": 30,
   "id": "290625bf",
   "metadata": {
    "execution": {
     "iopub.execute_input": "2024-12-20T13:04:38.645254Z",
     "iopub.status.busy": "2024-12-20T13:04:38.644791Z",
     "iopub.status.idle": "2024-12-20T13:04:38.649654Z",
     "shell.execute_reply": "2024-12-20T13:04:38.648498Z"
    },
    "papermill": {
     "duration": 0.018879,
     "end_time": "2024-12-20T13:04:38.652220",
     "exception": false,
     "start_time": "2024-12-20T13:04:38.633341",
     "status": "completed"
    },
    "tags": []
   },
   "outputs": [],
   "source": [
    "# Lasso_Lasso_plot(X,y)"
   ]
  },
  {
   "cell_type": "code",
   "execution_count": 31,
   "id": "52248554",
   "metadata": {
    "execution": {
     "iopub.execute_input": "2024-12-20T13:04:38.674101Z",
     "iopub.status.busy": "2024-12-20T13:04:38.673636Z",
     "iopub.status.idle": "2024-12-20T13:04:38.678451Z",
     "shell.execute_reply": "2024-12-20T13:04:38.677211Z"
    },
    "papermill": {
     "duration": 0.018042,
     "end_time": "2024-12-20T13:04:38.680635",
     "exception": false,
     "start_time": "2024-12-20T13:04:38.662593",
     "status": "completed"
    },
    "scrolled": true,
    "tags": []
   },
   "outputs": [],
   "source": [
    "#MI_Lasso_plot(X,y)"
   ]
  },
  {
   "cell_type": "code",
   "execution_count": 32,
   "id": "a343c293",
   "metadata": {
    "execution": {
     "iopub.execute_input": "2024-12-20T13:04:38.702777Z",
     "iopub.status.busy": "2024-12-20T13:04:38.701709Z",
     "iopub.status.idle": "2024-12-20T13:04:38.706843Z",
     "shell.execute_reply": "2024-12-20T13:04:38.705498Z"
    },
    "papermill": {
     "duration": 0.018674,
     "end_time": "2024-12-20T13:04:38.709278",
     "exception": false,
     "start_time": "2024-12-20T13:04:38.690604",
     "status": "completed"
    },
    "tags": []
   },
   "outputs": [],
   "source": [
    "# MI_ElasticNet_plot(X,y)"
   ]
  },
  {
   "cell_type": "code",
   "execution_count": 33,
   "id": "40e1b90e",
   "metadata": {
    "execution": {
     "iopub.execute_input": "2024-12-20T13:04:38.731091Z",
     "iopub.status.busy": "2024-12-20T13:04:38.730728Z",
     "iopub.status.idle": "2024-12-20T13:18:09.816039Z",
     "shell.execute_reply": "2024-12-20T13:18:09.814947Z"
    },
    "papermill": {
     "duration": 811.099089,
     "end_time": "2024-12-20T13:18:09.818521",
     "exception": false,
     "start_time": "2024-12-20T13:04:38.719432",
     "status": "completed"
    },
    "tags": []
   },
   "outputs": [
    {
     "name": "stdout",
     "output_type": "stream",
     "text": [
      "Starting percentile: 0.6\n",
      "Train Error: 0.1978042601089341, Test Error: 0.49688067828867266\n",
      "Train Error: 0.3850200992880576, Test Error: 0.24199084952471733\n",
      "Train Error: 0.3020530337908177, Test Error: 2.878380733664047\n",
      "Train Error: 1.1816884732262203, Test Error: 0.15564831900764492\n",
      "Train Error: 1.0478626997732923, Test Error: 0.19154139116595145\n",
      "Train Error: 0.16684430441308862, Test Error: 0.24815310011025402\n",
      "Train Error: 0.2400170331926405, Test Error: 0.20142939343126956\n",
      "Train Error: 0.2514536109933308, Test Error: 0.35131869513670816\n",
      "Train Error: 0.37785208763657835, Test Error: 2.838930153646102\n",
      "Train Error: 2.3760818120008844, Test Error: 1.9945708262770525\n",
      "Train Error: 2.1952077986333776, Test Error: 0.21279047813747728\n",
      "Train Error: 0.44692114114502, Test Error: 0.24911003696065634\n",
      "Train Error: 0.17106723977333269, Test Error: 0.2906156954355316\n",
      "Percentile: 0.6, Tracking Error: 0.7962584885220068, Adj Tracking Error: 0.7962585487706022\n"
     ]
    },
    {
     "data": {
      "image/png": "[encoded data removed]",
      "text/plain": [
       "<Figure size 640x480 with 1 Axes>"
      ]
     },
     "metadata": {},
     "output_type": "display_data"
    }
   ],
   "source": [
    "MI_XGBoost_plot(X,y)"
   ]
  },
  {
   "cell_type": "markdown",
   "id": "6535dfe7",
   "metadata": {
    "papermill": {
     "duration": 0.010748,
     "end_time": "2024-12-20T13:18:09.840990",
     "exception": false,
     "start_time": "2024-12-20T13:18:09.830242",
     "status": "completed"
    },
    "tags": []
   },
   "source": [
    "# Conclusions\n"
   ]
  },
  {
   "cell_type": "code",
   "execution_count": null,
   "id": "6b78a9a2",
   "metadata": {
    "papermill": {
     "duration": 0.010918,
     "end_time": "2024-12-20T13:18:09.863328",
     "exception": false,
     "start_time": "2024-12-20T13:18:09.852410",
     "status": "completed"
    },
    "tags": []
   },
   "outputs": [],
   "source": []
  }
 ],
 "metadata": {
  "kaggle": {
   "accelerator": "none",
   "dataSources": [
    {
     "datasetId": 6024843,
     "sourceId": 9824880,
     "sourceType": "datasetVersion"
    },
    {
     "datasetId": 2401195,
     "sourceId": 9867252,
     "sourceType": "datasetVersion"
    },
    {
     "datasetId": 2490157,
     "sourceId": 9876776,
     "sourceType": "datasetVersion"
    }
   ],
   "dockerImageVersionId": 30786,
   "isGpuEnabled": false,
   "isInternetEnabled": true,
   "language": "python",
   "sourceType": "notebook"
  },
  "kernelspec": {
   "display_name": "Python 3",
   "language": "python",
   "name": "python3"
  },
  "language_info": {
   "codemirror_mode": {
    "name": "ipython",
    "version": 3
   },
   "file_extension": ".py",
   "mimetype": "text/x-python",
   "name": "python",
   "nbconvert_exporter": "python",
   "pygments_lexer": "ipython3",
   "version": "3.10.14"
  },
  "papermill": {
   "default_parameters": {},
   "duration": 880.479379,
   "end_time": "2024-12-20T13:18:10.596061",
   "environment_variables": {},
   "exception": null,
   "input_path": "__notebook__.ipynb",
   "output_path": "__notebook__.ipynb",
   "parameters": {},
   "start_time": "2024-12-20T13:03:30.116682",
   "version": "2.6.0"
  }
 },
 "nbformat": 4,
 "nbformat_minor": 5
}
