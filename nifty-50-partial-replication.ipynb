{
 "cells": [
  {
   "cell_type": "code",
   "execution_count": null,
   "id": "c174c923",
   "metadata": {
    "_cell_guid": "b1076dfc-b9ad-4769-8c92-a6c4dae69d19",
    "_uuid": "8f2839f25d086af736a60e9eeb907d3b93b6e0e5",
    "papermill": {
     "duration": 0.003096,
     "end_time": "2024-11-06T08:21:21.781090",
     "exception": false,
     "start_time": "2024-11-06T08:21:21.777994",
     "status": "completed"
    },
    "tags": []
   },
   "outputs": [],
   "source": []
  },
  {
   "cell_type": "code",
   "execution_count": 1,
   "id": "5e4e66c7",
   "metadata": {
    "execution": {
     "iopub.execute_input": "2024-11-06T08:21:21.788001Z",
     "iopub.status.busy": "2024-11-06T08:21:21.787609Z",
     "iopub.status.idle": "2024-11-06T08:21:24.317540Z",
     "shell.execute_reply": "2024-11-06T08:21:24.316609Z"
    },
    "papermill": {
     "duration": 2.536127,
     "end_time": "2024-11-06T08:21:24.319949",
     "exception": false,
     "start_time": "2024-11-06T08:21:21.783822",
     "status": "completed"
    },
    "tags": []
   },
   "outputs": [],
   "source": [
    "import pandas as pd\n",
    "import numpy as np\n",
    "from sklearn.model_selection import train_test_split\n",
    "from sklearn.linear_model import Lasso\n",
    "from sklearn.metrics import mean_squared_error, r2_score\n",
    "import matplotlib.pyplot as plt\n",
    "import os\n",
    "import glob\n",
    "from tqdm import tqdm"
   ]
  },
  {
   "cell_type": "markdown",
   "id": "d706db2e",
   "metadata": {
    "papermill": {
     "duration": 0.002062,
     "end_time": "2024-11-06T08:21:24.324516",
     "exception": false,
     "start_time": "2024-11-06T08:21:24.322454",
     "status": "completed"
    },
    "tags": []
   },
   "source": [
    "## Data"
   ]
  },
  {
   "cell_type": "code",
   "execution_count": 2,
   "id": "c5bb04c5",
   "metadata": {
    "execution": {
     "iopub.execute_input": "2024-11-06T08:21:24.330803Z",
     "iopub.status.busy": "2024-11-06T08:21:24.330009Z",
     "iopub.status.idle": "2024-11-06T08:21:24.356327Z",
     "shell.execute_reply": "2024-11-06T08:21:24.355280Z"
    },
    "papermill": {
     "duration": 0.031985,
     "end_time": "2024-11-06T08:21:24.358661",
     "exception": false,
     "start_time": "2024-11-06T08:21:24.326676",
     "status": "completed"
    },
    "tags": []
   },
   "outputs": [],
   "source": [
    "directory_path = '/kaggle/input/stock-market-data-nifty-50-stocks-1-min-data'\n",
    "pattern = os.path.join(directory_path, \"*.csv\")  # Change \"*.csv\" to match other patterns if needed\n",
    "\n",
    "# Get the list of files that match the pattern\n",
    "file_list = glob.glob(pattern)"
   ]
  },
  {
   "cell_type": "code",
   "execution_count": 3,
   "id": "dc22184a",
   "metadata": {
    "execution": {
     "iopub.execute_input": "2024-11-06T08:21:24.364928Z",
     "iopub.status.busy": "2024-11-06T08:21:24.364179Z",
     "iopub.status.idle": "2024-11-06T08:21:24.370167Z",
     "shell.execute_reply": "2024-11-06T08:21:24.369261Z"
    },
    "papermill": {
     "duration": 0.011119,
     "end_time": "2024-11-06T08:21:24.372140",
     "exception": false,
     "start_time": "2024-11-06T08:21:24.361021",
     "status": "completed"
    },
    "tags": []
   },
   "outputs": [],
   "source": [
    "def fetch_data(cols):\n",
    "    df_list = []\n",
    "    for file in tqdm(file_list):\n",
    "        stock_name = os.path.basename(file).split(\"_\")[0]\n",
    "        file_df = pd.read_csv(file, index_col=0)\n",
    "        file_df = file_df[[cols]]\n",
    "        file_df.columns = pd.MultiIndex.from_product([[stock_name], file_df.columns])\n",
    "        df_list.append(file_df)\n",
    "    return pd.concat(df_list, axis=1)"
   ]
  },
  {
   "cell_type": "code",
   "execution_count": 4,
   "id": "8f7a3ca3",
   "metadata": {
    "execution": {
     "iopub.execute_input": "2024-11-06T08:21:24.378337Z",
     "iopub.status.busy": "2024-11-06T08:21:24.377554Z",
     "iopub.status.idle": "2024-11-06T08:49:14.069028Z",
     "shell.execute_reply": "2024-11-06T08:49:14.067816Z"
    },
    "papermill": {
     "duration": 1669.697422,
     "end_time": "2024-11-06T08:49:14.071919",
     "exception": false,
     "start_time": "2024-11-06T08:21:24.374497",
     "status": "completed"
    },
    "tags": []
   },
   "outputs": [
    {
     "name": "stderr",
     "output_type": "stream",
     "text": [
      "100%|██████████| 101/101 [25:21<00:00, 15.06s/it]\n"
     ]
    }
   ],
   "source": [
    "df = fetch_data('close')\n",
    "df.to_csv('nifty_50_closing.csv')"
   ]
  },
  {
   "cell_type": "code",
   "execution_count": null,
   "id": "66696b3c",
   "metadata": {
    "papermill": {
     "duration": 0.009037,
     "end_time": "2024-11-06T08:49:14.090771",
     "exception": false,
     "start_time": "2024-11-06T08:49:14.081734",
     "status": "completed"
    },
    "tags": []
   },
   "outputs": [],
   "source": []
  }
 ],
 "metadata": {
  "kaggle": {
   "accelerator": "none",
   "dataSources": [
    {
     "datasetId": 2490157,
     "sourceId": 5846986,
     "sourceType": "datasetVersion"
    }
   ],
   "dockerImageVersionId": 30786,
   "isGpuEnabled": false,
   "isInternetEnabled": true,
   "language": "python",
   "sourceType": "notebook"
  },
  "kernelspec": {
   "display_name": "Python 3",
   "language": "python",
   "name": "python3"
  },
  "language_info": {
   "codemirror_mode": {
    "name": "ipython",
    "version": 3
   },
   "file_extension": ".py",
   "mimetype": "text/x-python",
   "name": "python",
   "nbconvert_exporter": "python",
   "pygments_lexer": "ipython3",
   "version": "3.10.14"
  },
  "papermill": {
   "default_parameters": {},
   "duration": 1676.039548,
   "end_time": "2024-11-06T08:49:15.126745",
   "environment_variables": {},
   "exception": null,
   "input_path": "__notebook__.ipynb",
   "output_path": "__notebook__.ipynb",
   "parameters": {},
   "start_time": "2024-11-06T08:21:19.087197",
   "version": "2.6.0"
  }
 },
 "nbformat": 4,
 "nbformat_minor": 5
}
