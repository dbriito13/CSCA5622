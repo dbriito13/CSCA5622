{
 "cells": [
  {
   "cell_type": "markdown",
   "id": "f4e02b52",
   "metadata": {
    "papermill": {
     "duration": 0.007765,
     "end_time": "2024-11-05T12:05:16.019379",
     "exception": false,
     "start_time": "2024-11-05T12:05:16.011614",
     "status": "completed"
    },
    "tags": []
   },
   "source": [
    "# Partial Replication of S&P 500 Equal Weight Index"
   ]
  },
  {
   "cell_type": "code",
   "execution_count": 1,
   "id": "14024090",
   "metadata": {
    "execution": {
     "iopub.execute_input": "2024-11-05T12:05:16.036281Z",
     "iopub.status.busy": "2024-11-05T12:05:16.035297Z",
     "iopub.status.idle": "2024-11-05T12:05:18.874039Z",
     "shell.execute_reply": "2024-11-05T12:05:18.872870Z"
    },
    "papermill": {
     "duration": 2.849868,
     "end_time": "2024-11-05T12:05:18.876732",
     "exception": false,
     "start_time": "2024-11-05T12:05:16.026864",
     "status": "completed"
    },
    "tags": []
   },
   "outputs": [],
   "source": [
    "import pandas as pd\n",
    "import numpy as np\n",
    "from sklearn.model_selection import train_test_split\n",
    "from sklearn.linear_model import Lasso\n",
    "from sklearn.metrics import mean_squared_error, r2_score\n",
    "import matplotlib.pyplot as plt"
   ]
  },
  {
   "cell_type": "markdown",
   "id": "66724b8d",
   "metadata": {
    "papermill": {
     "duration": 0.006589,
     "end_time": "2024-11-05T12:05:18.890617",
     "exception": false,
     "start_time": "2024-11-05T12:05:18.884028",
     "status": "completed"
    },
    "tags": []
   },
   "source": [
    "## Data Extraction"
   ]
  },
  {
   "cell_type": "code",
   "execution_count": 2,
   "id": "c267af6a",
   "metadata": {
    "execution": {
     "iopub.execute_input": "2024-11-05T12:05:18.906033Z",
     "iopub.status.busy": "2024-11-05T12:05:18.905449Z",
     "iopub.status.idle": "2024-11-05T12:05:18.912694Z",
     "shell.execute_reply": "2024-11-05T12:05:18.911553Z"
    },
    "papermill": {
     "duration": 0.017883,
     "end_time": "2024-11-05T12:05:18.915291",
     "exception": false,
     "start_time": "2024-11-05T12:05:18.897408",
     "status": "completed"
    },
    "tags": []
   },
   "outputs": [],
   "source": [
    "def process_data_chunked(file_path, process):\n",
    "    dataset_list = []\n",
    "\n",
    "    for df in pd.read_csv(file_path, index_col=0, header=[0, 1], chunksize=1000, na_values=['', 'NaN', 'NULL']):\n",
    "        df_processed = process(df)\n",
    "        dataset_list.append(df_processed)\n",
    "    return pd.concat(dataset_list)"
   ]
  },
  {
   "cell_type": "code",
   "execution_count": 3,
   "id": "6ffa2bc1",
   "metadata": {
    "execution": {
     "iopub.execute_input": "2024-11-05T12:05:18.930777Z",
     "iopub.status.busy": "2024-11-05T12:05:18.930328Z",
     "iopub.status.idle": "2024-11-05T12:05:18.935464Z",
     "shell.execute_reply": "2024-11-05T12:05:18.934419Z"
    },
    "papermill": {
     "duration": 0.015822,
     "end_time": "2024-11-05T12:05:18.938027",
     "exception": false,
     "start_time": "2024-11-05T12:05:18.922205",
     "status": "completed"
    },
    "tags": []
   },
   "outputs": [],
   "source": [
    "def keep_close(df):\n",
    "    return df.xs('close', level=1, axis=1)"
   ]
  },
  {
   "cell_type": "code",
   "execution_count": 4,
   "id": "99108fd2",
   "metadata": {
    "execution": {
     "iopub.execute_input": "2024-11-05T12:05:18.954712Z",
     "iopub.status.busy": "2024-11-05T12:05:18.953261Z",
     "iopub.status.idle": "2024-11-05T12:05:18.959874Z",
     "shell.execute_reply": "2024-11-05T12:05:18.958917Z"
    },
    "papermill": {
     "duration": 0.017221,
     "end_time": "2024-11-05T12:05:18.962348",
     "exception": false,
     "start_time": "2024-11-05T12:05:18.945127",
     "status": "completed"
    },
    "tags": []
   },
   "outputs": [],
   "source": [
    "def tracking_error(index, predictions):\n",
    "    return np.std(pd.Series(index).pct_change()*100 - pd.Series(predictions).pct_change()*100)"
   ]
  },
  {
   "cell_type": "code",
   "execution_count": 5,
   "id": "ca1d49f6",
   "metadata": {
    "execution": {
     "iopub.execute_input": "2024-11-05T12:05:18.977852Z",
     "iopub.status.busy": "2024-11-05T12:05:18.977426Z",
     "iopub.status.idle": "2024-11-05T12:05:54.623566Z",
     "shell.execute_reply": "2024-11-05T12:05:54.622419Z"
    },
    "papermill": {
     "duration": 35.665083,
     "end_time": "2024-11-05T12:05:54.634348",
     "exception": false,
     "start_time": "2024-11-05T12:05:18.969265",
     "status": "completed"
    },
    "tags": []
   },
   "outputs": [
    {
     "data": {
      "text/html": [
       "<div>\n",
       "<style scoped>\n",
       "    .dataframe tbody tr th:only-of-type {\n",
       "        vertical-align: middle;\n",
       "    }\n",
       "\n",
       "    .dataframe tbody tr th {\n",
       "        vertical-align: top;\n",
       "    }\n",
       "\n",
       "    .dataframe thead th {\n",
       "        text-align: right;\n",
       "    }\n",
       "</style>\n",
       "<table border=\"1\" class=\"dataframe\">\n",
       "  <thead>\n",
       "    <tr style=\"text-align: right;\">\n",
       "      <th></th>\n",
       "      <th>A</th>\n",
       "      <th>AAL</th>\n",
       "      <th>AAP</th>\n",
       "      <th>AAPL</th>\n",
       "      <th>ABBV</th>\n",
       "      <th>ABC</th>\n",
       "      <th>ABT</th>\n",
       "      <th>ACN</th>\n",
       "      <th>ADBE</th>\n",
       "      <th>ADI</th>\n",
       "      <th>...</th>\n",
       "      <th>XL</th>\n",
       "      <th>XLNX</th>\n",
       "      <th>XOM</th>\n",
       "      <th>XRAY</th>\n",
       "      <th>XRX</th>\n",
       "      <th>XYL</th>\n",
       "      <th>YUM</th>\n",
       "      <th>ZBH</th>\n",
       "      <th>ZION</th>\n",
       "      <th>ZTS</th>\n",
       "    </tr>\n",
       "    <tr>\n",
       "      <th>timestamp</th>\n",
       "      <th></th>\n",
       "      <th></th>\n",
       "      <th></th>\n",
       "      <th></th>\n",
       "      <th></th>\n",
       "      <th></th>\n",
       "      <th></th>\n",
       "      <th></th>\n",
       "      <th></th>\n",
       "      <th></th>\n",
       "      <th></th>\n",
       "      <th></th>\n",
       "      <th></th>\n",
       "      <th></th>\n",
       "      <th></th>\n",
       "      <th></th>\n",
       "      <th></th>\n",
       "      <th></th>\n",
       "      <th></th>\n",
       "      <th></th>\n",
       "      <th></th>\n",
       "    </tr>\n",
       "  </thead>\n",
       "  <tbody>\n",
       "    <tr>\n",
       "      <th>2017-09-11 09:30:00</th>\n",
       "      <td>NaN</td>\n",
       "      <td>44.01</td>\n",
       "      <td>NaN</td>\n",
       "      <td>160.57</td>\n",
       "      <td>84.530</td>\n",
       "      <td>83.24</td>\n",
       "      <td>NaN</td>\n",
       "      <td>134.00</td>\n",
       "      <td>156.590</td>\n",
       "      <td>80.810</td>\n",
       "      <td>...</td>\n",
       "      <td>41.050</td>\n",
       "      <td>64.0400</td>\n",
       "      <td>79.41</td>\n",
       "      <td>58.7600</td>\n",
       "      <td>31.7500</td>\n",
       "      <td>63.07</td>\n",
       "      <td>76.82</td>\n",
       "      <td>116.25</td>\n",
       "      <td>42.04</td>\n",
       "      <td>NaN</td>\n",
       "    </tr>\n",
       "    <tr>\n",
       "      <th>2017-09-11 09:31:00</th>\n",
       "      <td>65.46</td>\n",
       "      <td>44.25</td>\n",
       "      <td>93.565</td>\n",
       "      <td>160.51</td>\n",
       "      <td>84.555</td>\n",
       "      <td>82.89</td>\n",
       "      <td>52.43</td>\n",
       "      <td>134.45</td>\n",
       "      <td>156.995</td>\n",
       "      <td>81.260</td>\n",
       "      <td>...</td>\n",
       "      <td>41.950</td>\n",
       "      <td>64.1833</td>\n",
       "      <td>79.41</td>\n",
       "      <td>58.6527</td>\n",
       "      <td>31.6900</td>\n",
       "      <td>63.16</td>\n",
       "      <td>76.84</td>\n",
       "      <td>116.25</td>\n",
       "      <td>42.24</td>\n",
       "      <td>65.11</td>\n",
       "    </tr>\n",
       "    <tr>\n",
       "      <th>2017-09-11 09:32:00</th>\n",
       "      <td>65.66</td>\n",
       "      <td>44.27</td>\n",
       "      <td>94.060</td>\n",
       "      <td>160.32</td>\n",
       "      <td>84.940</td>\n",
       "      <td>NaN</td>\n",
       "      <td>52.50</td>\n",
       "      <td>134.53</td>\n",
       "      <td>156.850</td>\n",
       "      <td>81.185</td>\n",
       "      <td>...</td>\n",
       "      <td>42.235</td>\n",
       "      <td>64.0200</td>\n",
       "      <td>79.12</td>\n",
       "      <td>NaN</td>\n",
       "      <td>31.6997</td>\n",
       "      <td>62.80</td>\n",
       "      <td>76.90</td>\n",
       "      <td>116.74</td>\n",
       "      <td>42.48</td>\n",
       "      <td>65.12</td>\n",
       "    </tr>\n",
       "  </tbody>\n",
       "</table>\n",
       "<p>3 rows × 502 columns</p>\n",
       "</div>"
      ],
      "text/plain": [
       "                         A    AAL     AAP    AAPL    ABBV    ABC    ABT  \\\n",
       "timestamp                                                                 \n",
       "2017-09-11 09:30:00    NaN  44.01     NaN  160.57  84.530  83.24    NaN   \n",
       "2017-09-11 09:31:00  65.46  44.25  93.565  160.51  84.555  82.89  52.43   \n",
       "2017-09-11 09:32:00  65.66  44.27  94.060  160.32  84.940    NaN  52.50   \n",
       "\n",
       "                        ACN     ADBE     ADI  ...      XL     XLNX    XOM  \\\n",
       "timestamp                                     ...                           \n",
       "2017-09-11 09:30:00  134.00  156.590  80.810  ...  41.050  64.0400  79.41   \n",
       "2017-09-11 09:31:00  134.45  156.995  81.260  ...  41.950  64.1833  79.41   \n",
       "2017-09-11 09:32:00  134.53  156.850  81.185  ...  42.235  64.0200  79.12   \n",
       "\n",
       "                        XRAY      XRX    XYL    YUM     ZBH   ZION    ZTS  \n",
       "timestamp                                                                  \n",
       "2017-09-11 09:30:00  58.7600  31.7500  63.07  76.82  116.25  42.04    NaN  \n",
       "2017-09-11 09:31:00  58.6527  31.6900  63.16  76.84  116.25  42.24  65.11  \n",
       "2017-09-11 09:32:00      NaN  31.6997  62.80  76.90  116.74  42.48  65.12  \n",
       "\n",
       "[3 rows x 502 columns]"
      ]
     },
     "execution_count": 5,
     "metadata": {},
     "output_type": "execute_result"
    }
   ],
   "source": [
    "df = process_data_chunked('/kaggle/input/snp-500-intraday-data/dataset.csv', keep_close)\n",
    "df.head(3)"
   ]
  },
  {
   "cell_type": "markdown",
   "id": "50e867a7",
   "metadata": {
    "papermill": {
     "duration": 0.006915,
     "end_time": "2024-11-05T12:05:54.648467",
     "exception": false,
     "start_time": "2024-11-05T12:05:54.641552",
     "status": "completed"
    },
    "tags": []
   },
   "source": [
    "## Data Cleaning"
   ]
  },
  {
   "cell_type": "code",
   "execution_count": 6,
   "id": "ffd10b91",
   "metadata": {
    "execution": {
     "iopub.execute_input": "2024-11-05T12:05:54.665708Z",
     "iopub.status.busy": "2024-11-05T12:05:54.664561Z",
     "iopub.status.idle": "2024-11-05T12:05:55.757528Z",
     "shell.execute_reply": "2024-11-05T12:05:55.756437Z"
    },
    "papermill": {
     "duration": 1.105007,
     "end_time": "2024-11-05T12:05:55.760902",
     "exception": false,
     "start_time": "2024-11-05T12:05:54.655895",
     "status": "completed"
    },
    "tags": []
   },
   "outputs": [
    {
     "data": {
      "text/html": [
       "<div>\n",
       "<style scoped>\n",
       "    .dataframe tbody tr th:only-of-type {\n",
       "        vertical-align: middle;\n",
       "    }\n",
       "\n",
       "    .dataframe tbody tr th {\n",
       "        vertical-align: top;\n",
       "    }\n",
       "\n",
       "    .dataframe thead th {\n",
       "        text-align: right;\n",
       "    }\n",
       "</style>\n",
       "<table border=\"1\" class=\"dataframe\">\n",
       "  <thead>\n",
       "    <tr style=\"text-align: right;\">\n",
       "      <th></th>\n",
       "      <th>A</th>\n",
       "      <th>AAL</th>\n",
       "      <th>AAP</th>\n",
       "      <th>AAPL</th>\n",
       "      <th>ABBV</th>\n",
       "      <th>ABC</th>\n",
       "      <th>ABT</th>\n",
       "      <th>ACN</th>\n",
       "      <th>ADBE</th>\n",
       "      <th>ADI</th>\n",
       "      <th>...</th>\n",
       "      <th>XL</th>\n",
       "      <th>XLNX</th>\n",
       "      <th>XOM</th>\n",
       "      <th>XRAY</th>\n",
       "      <th>XRX</th>\n",
       "      <th>XYL</th>\n",
       "      <th>YUM</th>\n",
       "      <th>ZBH</th>\n",
       "      <th>ZION</th>\n",
       "      <th>ZTS</th>\n",
       "    </tr>\n",
       "    <tr>\n",
       "      <th>timestamp</th>\n",
       "      <th></th>\n",
       "      <th></th>\n",
       "      <th></th>\n",
       "      <th></th>\n",
       "      <th></th>\n",
       "      <th></th>\n",
       "      <th></th>\n",
       "      <th></th>\n",
       "      <th></th>\n",
       "      <th></th>\n",
       "      <th></th>\n",
       "      <th></th>\n",
       "      <th></th>\n",
       "      <th></th>\n",
       "      <th></th>\n",
       "      <th></th>\n",
       "      <th></th>\n",
       "      <th></th>\n",
       "      <th></th>\n",
       "      <th></th>\n",
       "      <th></th>\n",
       "    </tr>\n",
       "  </thead>\n",
       "  <tbody>\n",
       "    <tr>\n",
       "      <th>2017-09-11 09:30:00</th>\n",
       "      <td>65.46</td>\n",
       "      <td>44.01</td>\n",
       "      <td>93.565</td>\n",
       "      <td>160.57</td>\n",
       "      <td>84.530</td>\n",
       "      <td>83.240</td>\n",
       "      <td>52.43</td>\n",
       "      <td>134.00</td>\n",
       "      <td>156.590</td>\n",
       "      <td>80.810</td>\n",
       "      <td>...</td>\n",
       "      <td>41.050</td>\n",
       "      <td>64.0400</td>\n",
       "      <td>79.41</td>\n",
       "      <td>58.76000</td>\n",
       "      <td>31.7500</td>\n",
       "      <td>63.07</td>\n",
       "      <td>76.82</td>\n",
       "      <td>116.25</td>\n",
       "      <td>42.04</td>\n",
       "      <td>65.11</td>\n",
       "    </tr>\n",
       "    <tr>\n",
       "      <th>2017-09-11 09:31:00</th>\n",
       "      <td>65.46</td>\n",
       "      <td>44.25</td>\n",
       "      <td>93.565</td>\n",
       "      <td>160.51</td>\n",
       "      <td>84.555</td>\n",
       "      <td>82.890</td>\n",
       "      <td>52.43</td>\n",
       "      <td>134.45</td>\n",
       "      <td>156.995</td>\n",
       "      <td>81.260</td>\n",
       "      <td>...</td>\n",
       "      <td>41.950</td>\n",
       "      <td>64.1833</td>\n",
       "      <td>79.41</td>\n",
       "      <td>58.65270</td>\n",
       "      <td>31.6900</td>\n",
       "      <td>63.16</td>\n",
       "      <td>76.84</td>\n",
       "      <td>116.25</td>\n",
       "      <td>42.24</td>\n",
       "      <td>65.11</td>\n",
       "    </tr>\n",
       "    <tr>\n",
       "      <th>2017-09-11 09:32:00</th>\n",
       "      <td>65.66</td>\n",
       "      <td>44.27</td>\n",
       "      <td>94.060</td>\n",
       "      <td>160.32</td>\n",
       "      <td>84.940</td>\n",
       "      <td>82.975</td>\n",
       "      <td>52.50</td>\n",
       "      <td>134.53</td>\n",
       "      <td>156.850</td>\n",
       "      <td>81.185</td>\n",
       "      <td>...</td>\n",
       "      <td>42.235</td>\n",
       "      <td>64.0200</td>\n",
       "      <td>79.12</td>\n",
       "      <td>58.76135</td>\n",
       "      <td>31.6997</td>\n",
       "      <td>62.80</td>\n",
       "      <td>76.90</td>\n",
       "      <td>116.74</td>\n",
       "      <td>42.48</td>\n",
       "      <td>65.12</td>\n",
       "    </tr>\n",
       "  </tbody>\n",
       "</table>\n",
       "<p>3 rows × 502 columns</p>\n",
       "</div>"
      ],
      "text/plain": [
       "                         A    AAL     AAP    AAPL    ABBV     ABC    ABT  \\\n",
       "timestamp                                                                  \n",
       "2017-09-11 09:30:00  65.46  44.01  93.565  160.57  84.530  83.240  52.43   \n",
       "2017-09-11 09:31:00  65.46  44.25  93.565  160.51  84.555  82.890  52.43   \n",
       "2017-09-11 09:32:00  65.66  44.27  94.060  160.32  84.940  82.975  52.50   \n",
       "\n",
       "                        ACN     ADBE     ADI  ...      XL     XLNX    XOM  \\\n",
       "timestamp                                     ...                           \n",
       "2017-09-11 09:30:00  134.00  156.590  80.810  ...  41.050  64.0400  79.41   \n",
       "2017-09-11 09:31:00  134.45  156.995  81.260  ...  41.950  64.1833  79.41   \n",
       "2017-09-11 09:32:00  134.53  156.850  81.185  ...  42.235  64.0200  79.12   \n",
       "\n",
       "                         XRAY      XRX    XYL    YUM     ZBH   ZION    ZTS  \n",
       "timestamp                                                                   \n",
       "2017-09-11 09:30:00  58.76000  31.7500  63.07  76.82  116.25  42.04  65.11  \n",
       "2017-09-11 09:31:00  58.65270  31.6900  63.16  76.84  116.25  42.24  65.11  \n",
       "2017-09-11 09:32:00  58.76135  31.6997  62.80  76.90  116.74  42.48  65.12  \n",
       "\n",
       "[3 rows x 502 columns]"
      ]
     },
     "execution_count": 6,
     "metadata": {},
     "output_type": "execute_result"
    }
   ],
   "source": [
    "df.interpolate(method='linear', inplace=True)\n",
    "# To fill the first row NaN with the value from the next minute\n",
    "df.bfill(inplace=True)\n",
    "df.head(3)"
   ]
  },
  {
   "cell_type": "code",
   "execution_count": 7,
   "id": "a3c18bbf",
   "metadata": {
    "execution": {
     "iopub.execute_input": "2024-11-05T12:05:55.778869Z",
     "iopub.status.busy": "2024-11-05T12:05:55.777815Z",
     "iopub.status.idle": "2024-11-05T12:05:56.198073Z",
     "shell.execute_reply": "2024-11-05T12:05:56.196927Z"
    },
    "papermill": {
     "duration": 0.431899,
     "end_time": "2024-11-05T12:05:56.200656",
     "exception": false,
     "start_time": "2024-11-05T12:05:55.768757",
     "status": "completed"
    },
    "tags": []
   },
   "outputs": [
    {
     "data": {
      "text/html": [
       "<div>\n",
       "<style scoped>\n",
       "    .dataframe tbody tr th:only-of-type {\n",
       "        vertical-align: middle;\n",
       "    }\n",
       "\n",
       "    .dataframe tbody tr th {\n",
       "        vertical-align: top;\n",
       "    }\n",
       "\n",
       "    .dataframe thead th {\n",
       "        text-align: right;\n",
       "    }\n",
       "</style>\n",
       "<table border=\"1\" class=\"dataframe\">\n",
       "  <thead>\n",
       "    <tr style=\"text-align: right;\">\n",
       "      <th></th>\n",
       "      <th>A</th>\n",
       "      <th>AAL</th>\n",
       "      <th>AAP</th>\n",
       "      <th>AAPL</th>\n",
       "      <th>ABBV</th>\n",
       "      <th>ABC</th>\n",
       "      <th>ABT</th>\n",
       "      <th>ACN</th>\n",
       "      <th>ADBE</th>\n",
       "      <th>ADI</th>\n",
       "      <th>...</th>\n",
       "      <th>XLNX</th>\n",
       "      <th>XOM</th>\n",
       "      <th>XRAY</th>\n",
       "      <th>XRX</th>\n",
       "      <th>XYL</th>\n",
       "      <th>YUM</th>\n",
       "      <th>ZBH</th>\n",
       "      <th>ZION</th>\n",
       "      <th>ZTS</th>\n",
       "      <th>SP500_EW</th>\n",
       "    </tr>\n",
       "    <tr>\n",
       "      <th>timestamp</th>\n",
       "      <th></th>\n",
       "      <th></th>\n",
       "      <th></th>\n",
       "      <th></th>\n",
       "      <th></th>\n",
       "      <th></th>\n",
       "      <th></th>\n",
       "      <th></th>\n",
       "      <th></th>\n",
       "      <th></th>\n",
       "      <th></th>\n",
       "      <th></th>\n",
       "      <th></th>\n",
       "      <th></th>\n",
       "      <th></th>\n",
       "      <th></th>\n",
       "      <th></th>\n",
       "      <th></th>\n",
       "      <th></th>\n",
       "      <th></th>\n",
       "      <th></th>\n",
       "    </tr>\n",
       "  </thead>\n",
       "  <tbody>\n",
       "    <tr>\n",
       "      <th>2017-09-11 09:30:00</th>\n",
       "      <td>65.46</td>\n",
       "      <td>44.25</td>\n",
       "      <td>93.5650</td>\n",
       "      <td>160.51</td>\n",
       "      <td>84.555</td>\n",
       "      <td>82.890</td>\n",
       "      <td>52.4300</td>\n",
       "      <td>134.45</td>\n",
       "      <td>156.995</td>\n",
       "      <td>81.260</td>\n",
       "      <td>...</td>\n",
       "      <td>64.1833</td>\n",
       "      <td>79.41</td>\n",
       "      <td>58.65270</td>\n",
       "      <td>31.6900</td>\n",
       "      <td>63.16</td>\n",
       "      <td>76.84</td>\n",
       "      <td>116.25</td>\n",
       "      <td>42.24</td>\n",
       "      <td>65.110</td>\n",
       "      <td>101.098165</td>\n",
       "    </tr>\n",
       "    <tr>\n",
       "      <th>2017-09-11 09:31:00</th>\n",
       "      <td>65.66</td>\n",
       "      <td>44.27</td>\n",
       "      <td>94.0600</td>\n",
       "      <td>160.32</td>\n",
       "      <td>84.940</td>\n",
       "      <td>82.975</td>\n",
       "      <td>52.5000</td>\n",
       "      <td>134.53</td>\n",
       "      <td>156.850</td>\n",
       "      <td>81.185</td>\n",
       "      <td>...</td>\n",
       "      <td>64.0200</td>\n",
       "      <td>79.12</td>\n",
       "      <td>58.76135</td>\n",
       "      <td>31.6997</td>\n",
       "      <td>62.80</td>\n",
       "      <td>76.90</td>\n",
       "      <td>116.74</td>\n",
       "      <td>42.48</td>\n",
       "      <td>65.120</td>\n",
       "      <td>101.141250</td>\n",
       "    </tr>\n",
       "    <tr>\n",
       "      <th>2017-09-11 09:32:00</th>\n",
       "      <td>65.69</td>\n",
       "      <td>44.34</td>\n",
       "      <td>94.0775</td>\n",
       "      <td>160.15</td>\n",
       "      <td>84.990</td>\n",
       "      <td>83.060</td>\n",
       "      <td>52.4986</td>\n",
       "      <td>134.61</td>\n",
       "      <td>156.780</td>\n",
       "      <td>81.440</td>\n",
       "      <td>...</td>\n",
       "      <td>64.0900</td>\n",
       "      <td>79.19</td>\n",
       "      <td>58.87000</td>\n",
       "      <td>31.7400</td>\n",
       "      <td>62.88</td>\n",
       "      <td>76.89</td>\n",
       "      <td>116.27</td>\n",
       "      <td>42.20</td>\n",
       "      <td>65.045</td>\n",
       "      <td>101.180133</td>\n",
       "    </tr>\n",
       "  </tbody>\n",
       "</table>\n",
       "<p>3 rows × 503 columns</p>\n",
       "</div>"
      ],
      "text/plain": [
       "                         A    AAL      AAP    AAPL    ABBV     ABC      ABT  \\\n",
       "timestamp                                                                     \n",
       "2017-09-11 09:30:00  65.46  44.25  93.5650  160.51  84.555  82.890  52.4300   \n",
       "2017-09-11 09:31:00  65.66  44.27  94.0600  160.32  84.940  82.975  52.5000   \n",
       "2017-09-11 09:32:00  65.69  44.34  94.0775  160.15  84.990  83.060  52.4986   \n",
       "\n",
       "                        ACN     ADBE     ADI  ...     XLNX    XOM      XRAY  \\\n",
       "timestamp                                     ...                             \n",
       "2017-09-11 09:30:00  134.45  156.995  81.260  ...  64.1833  79.41  58.65270   \n",
       "2017-09-11 09:31:00  134.53  156.850  81.185  ...  64.0200  79.12  58.76135   \n",
       "2017-09-11 09:32:00  134.61  156.780  81.440  ...  64.0900  79.19  58.87000   \n",
       "\n",
       "                         XRX    XYL    YUM     ZBH   ZION     ZTS    SP500_EW  \n",
       "timestamp                                                                      \n",
       "2017-09-11 09:30:00  31.6900  63.16  76.84  116.25  42.24  65.110  101.098165  \n",
       "2017-09-11 09:31:00  31.6997  62.80  76.90  116.74  42.48  65.120  101.141250  \n",
       "2017-09-11 09:32:00  31.7400  62.88  76.89  116.27  42.20  65.045  101.180133  \n",
       "\n",
       "[3 rows x 503 columns]"
      ]
     },
     "execution_count": 7,
     "metadata": {},
     "output_type": "execute_result"
    }
   ],
   "source": [
    "# Create target variable - SPXEW value\n",
    "df['SP500_EW'] = df.sum(axis=1) / len(df.columns)\n",
    "# df['SP500_EW_Forward_Diff'] = df['SP500_EW'].shift(-1) - df['SP500_EW']\n",
    "df.dropna(inplace=True)\n",
    "df = df.shift(-1)\n",
    "df.head(3)"
   ]
  },
  {
   "cell_type": "code",
   "execution_count": 8,
   "id": "3a7998d4",
   "metadata": {
    "execution": {
     "iopub.execute_input": "2024-11-05T12:05:56.218869Z",
     "iopub.status.busy": "2024-11-05T12:05:56.218432Z",
     "iopub.status.idle": "2024-11-05T12:05:56.225442Z",
     "shell.execute_reply": "2024-11-05T12:05:56.224348Z"
    },
    "papermill": {
     "duration": 0.01915,
     "end_time": "2024-11-05T12:05:56.227974",
     "exception": false,
     "start_time": "2024-11-05T12:05:56.208824",
     "status": "completed"
    },
    "tags": []
   },
   "outputs": [],
   "source": [
    "df['SP500_EW_Shifted'] = df['SP500_EW'].shift(-1)"
   ]
  },
  {
   "cell_type": "code",
   "execution_count": 9,
   "id": "e755a45a",
   "metadata": {
    "execution": {
     "iopub.execute_input": "2024-11-05T12:05:56.246325Z",
     "iopub.status.busy": "2024-11-05T12:05:56.245294Z",
     "iopub.status.idle": "2024-11-05T12:05:56.345289Z",
     "shell.execute_reply": "2024-11-05T12:05:56.344107Z"
    },
    "papermill": {
     "duration": 0.112114,
     "end_time": "2024-11-05T12:05:56.348211",
     "exception": false,
     "start_time": "2024-11-05T12:05:56.236097",
     "status": "completed"
    },
    "tags": []
   },
   "outputs": [],
   "source": [
    "df.dropna(inplace=True)"
   ]
  },
  {
   "cell_type": "code",
   "execution_count": 10,
   "id": "f0c53c30",
   "metadata": {
    "execution": {
     "iopub.execute_input": "2024-11-05T12:05:56.366553Z",
     "iopub.status.busy": "2024-11-05T12:05:56.365571Z",
     "iopub.status.idle": "2024-11-05T12:05:56.392533Z",
     "shell.execute_reply": "2024-11-05T12:05:56.391465Z"
    },
    "papermill": {
     "duration": 0.038978,
     "end_time": "2024-11-05T12:05:56.395257",
     "exception": false,
     "start_time": "2024-11-05T12:05:56.356279",
     "status": "completed"
    },
    "tags": []
   },
   "outputs": [
    {
     "data": {
      "text/html": [
       "<div>\n",
       "<style scoped>\n",
       "    .dataframe tbody tr th:only-of-type {\n",
       "        vertical-align: middle;\n",
       "    }\n",
       "\n",
       "    .dataframe tbody tr th {\n",
       "        vertical-align: top;\n",
       "    }\n",
       "\n",
       "    .dataframe thead th {\n",
       "        text-align: right;\n",
       "    }\n",
       "</style>\n",
       "<table border=\"1\" class=\"dataframe\">\n",
       "  <thead>\n",
       "    <tr style=\"text-align: right;\">\n",
       "      <th></th>\n",
       "      <th>A</th>\n",
       "      <th>AAL</th>\n",
       "      <th>AAP</th>\n",
       "      <th>AAPL</th>\n",
       "      <th>ABBV</th>\n",
       "      <th>ABC</th>\n",
       "      <th>ABT</th>\n",
       "      <th>ACN</th>\n",
       "      <th>ADBE</th>\n",
       "      <th>ADI</th>\n",
       "      <th>...</th>\n",
       "      <th>XOM</th>\n",
       "      <th>XRAY</th>\n",
       "      <th>XRX</th>\n",
       "      <th>XYL</th>\n",
       "      <th>YUM</th>\n",
       "      <th>ZBH</th>\n",
       "      <th>ZION</th>\n",
       "      <th>ZTS</th>\n",
       "      <th>SP500_EW</th>\n",
       "      <th>SP500_EW_Shifted</th>\n",
       "    </tr>\n",
       "    <tr>\n",
       "      <th>timestamp</th>\n",
       "      <th></th>\n",
       "      <th></th>\n",
       "      <th></th>\n",
       "      <th></th>\n",
       "      <th></th>\n",
       "      <th></th>\n",
       "      <th></th>\n",
       "      <th></th>\n",
       "      <th></th>\n",
       "      <th></th>\n",
       "      <th></th>\n",
       "      <th></th>\n",
       "      <th></th>\n",
       "      <th></th>\n",
       "      <th></th>\n",
       "      <th></th>\n",
       "      <th></th>\n",
       "      <th></th>\n",
       "      <th></th>\n",
       "      <th></th>\n",
       "      <th></th>\n",
       "    </tr>\n",
       "  </thead>\n",
       "  <tbody>\n",
       "    <tr>\n",
       "      <th>2017-09-11 09:30:00</th>\n",
       "      <td>65.46</td>\n",
       "      <td>44.25</td>\n",
       "      <td>93.565</td>\n",
       "      <td>160.51</td>\n",
       "      <td>84.555</td>\n",
       "      <td>82.890</td>\n",
       "      <td>52.43</td>\n",
       "      <td>134.45</td>\n",
       "      <td>156.995</td>\n",
       "      <td>81.260</td>\n",
       "      <td>...</td>\n",
       "      <td>79.41</td>\n",
       "      <td>58.65270</td>\n",
       "      <td>31.6900</td>\n",
       "      <td>63.16</td>\n",
       "      <td>76.84</td>\n",
       "      <td>116.25</td>\n",
       "      <td>42.24</td>\n",
       "      <td>65.11</td>\n",
       "      <td>101.098165</td>\n",
       "      <td>101.141250</td>\n",
       "    </tr>\n",
       "    <tr>\n",
       "      <th>2017-09-11 09:31:00</th>\n",
       "      <td>65.66</td>\n",
       "      <td>44.27</td>\n",
       "      <td>94.060</td>\n",
       "      <td>160.32</td>\n",
       "      <td>84.940</td>\n",
       "      <td>82.975</td>\n",
       "      <td>52.50</td>\n",
       "      <td>134.53</td>\n",
       "      <td>156.850</td>\n",
       "      <td>81.185</td>\n",
       "      <td>...</td>\n",
       "      <td>79.12</td>\n",
       "      <td>58.76135</td>\n",
       "      <td>31.6997</td>\n",
       "      <td>62.80</td>\n",
       "      <td>76.90</td>\n",
       "      <td>116.74</td>\n",
       "      <td>42.48</td>\n",
       "      <td>65.12</td>\n",
       "      <td>101.141250</td>\n",
       "      <td>101.180133</td>\n",
       "    </tr>\n",
       "  </tbody>\n",
       "</table>\n",
       "<p>2 rows × 504 columns</p>\n",
       "</div>"
      ],
      "text/plain": [
       "                         A    AAL     AAP    AAPL    ABBV     ABC    ABT  \\\n",
       "timestamp                                                                  \n",
       "2017-09-11 09:30:00  65.46  44.25  93.565  160.51  84.555  82.890  52.43   \n",
       "2017-09-11 09:31:00  65.66  44.27  94.060  160.32  84.940  82.975  52.50   \n",
       "\n",
       "                        ACN     ADBE     ADI  ...    XOM      XRAY      XRX  \\\n",
       "timestamp                                     ...                             \n",
       "2017-09-11 09:30:00  134.45  156.995  81.260  ...  79.41  58.65270  31.6900   \n",
       "2017-09-11 09:31:00  134.53  156.850  81.185  ...  79.12  58.76135  31.6997   \n",
       "\n",
       "                       XYL    YUM     ZBH   ZION    ZTS    SP500_EW  \\\n",
       "timestamp                                                             \n",
       "2017-09-11 09:30:00  63.16  76.84  116.25  42.24  65.11  101.098165   \n",
       "2017-09-11 09:31:00  62.80  76.90  116.74  42.48  65.12  101.141250   \n",
       "\n",
       "                     SP500_EW_Shifted  \n",
       "timestamp                              \n",
       "2017-09-11 09:30:00        101.141250  \n",
       "2017-09-11 09:31:00        101.180133  \n",
       "\n",
       "[2 rows x 504 columns]"
      ]
     },
     "execution_count": 10,
     "metadata": {},
     "output_type": "execute_result"
    }
   ],
   "source": [
    "df.head(2)"
   ]
  },
  {
   "cell_type": "markdown",
   "id": "69e7414b",
   "metadata": {
    "papermill": {
     "duration": 0.008216,
     "end_time": "2024-11-05T12:05:56.411817",
     "exception": false,
     "start_time": "2024-11-05T12:05:56.403601",
     "status": "completed"
    },
    "tags": []
   },
   "source": [
    "## Models"
   ]
  },
  {
   "cell_type": "markdown",
   "id": "0882f786",
   "metadata": {
    "papermill": {
     "duration": 0.008007,
     "end_time": "2024-11-05T12:05:56.428263",
     "exception": false,
     "start_time": "2024-11-05T12:05:56.420256",
     "status": "completed"
    },
    "tags": []
   },
   "source": [
    "### Linear Regression"
   ]
  },
  {
   "cell_type": "code",
   "execution_count": 11,
   "id": "10189667",
   "metadata": {
    "execution": {
     "iopub.execute_input": "2024-11-05T12:05:56.447138Z",
     "iopub.status.busy": "2024-11-05T12:05:56.446142Z",
     "iopub.status.idle": "2024-11-05T12:06:03.880945Z",
     "shell.execute_reply": "2024-11-05T12:06:03.879280Z"
    },
    "papermill": {
     "duration": 7.44718,
     "end_time": "2024-11-05T12:06:03.883823",
     "exception": false,
     "start_time": "2024-11-05T12:05:56.436643",
     "status": "completed"
    },
    "tags": []
   },
   "outputs": [
    {
     "name": "stdout",
     "output_type": "stream",
     "text": [
      "Training Mean Squared Error: 0.16370849442671428\n",
      "Training R² Score: 0.9880025054352332\n",
      "Testing Mean Squared Error: 0.16665920977283408\n",
      "Testing R² Score: 0.9879077777577618\n"
     ]
    }
   ],
   "source": [
    "X = df.drop(columns=['SP500_EW', 'SP500_EW_Shifted'])\n",
    "y = df['SP500_EW']\n",
    "\n",
    "X_train, X_test, y_train, y_test = train_test_split(X, y, test_size=0.2, random_state=42)\n",
    "\n",
    "lasso = Lasso(alpha=1)\n",
    "lasso.fit(X_train, y_train)\n",
    "\n",
    "y_pred_train = lasso.predict(X_train)\n",
    "y_pred_test = lasso.predict(X_test)\n",
    "\n",
    "mse_train = mean_squared_error(y_train, y_pred_train)\n",
    "r2_train = r2_score(y_train, y_pred_train)\n",
    "\n",
    "mse_test = mean_squared_error(y_test, y_pred_test)\n",
    "r2_test = r2_score(y_test, y_pred_test)\n",
    "\n",
    "print(\"Training Mean Squared Error:\", mse_train)\n",
    "print(\"Training R² Score:\", r2_train)\n",
    "print(\"Testing Mean Squared Error:\", mse_test)\n",
    "print(\"Testing R² Score:\", r2_test)"
   ]
  },
  {
   "cell_type": "code",
   "execution_count": 12,
   "id": "c38a74d5",
   "metadata": {
    "execution": {
     "iopub.execute_input": "2024-11-05T12:06:03.921453Z",
     "iopub.status.busy": "2024-11-05T12:06:03.920695Z",
     "iopub.status.idle": "2024-11-05T12:06:03.991567Z",
     "shell.execute_reply": "2024-11-05T12:06:03.990020Z"
    },
    "papermill": {
     "duration": 0.09509,
     "end_time": "2024-11-05T12:06:03.996274",
     "exception": false,
     "start_time": "2024-11-05T12:06:03.901184",
     "status": "completed"
    },
    "tags": []
   },
   "outputs": [
    {
     "name": "stdout",
     "output_type": "stream",
     "text": [
      "14\n"
     ]
    }
   ],
   "source": [
    "coef = lasso.coef_\n",
    "features = X.columns\n",
    "\n",
    "# Create a DataFrame for the coefficients\n",
    "coef_df = pd.DataFrame({'Stock': features, 'Coefficient': coef})\n",
    "\n",
    "# Filter for non-zero coefficients\n",
    "non_zero_coef_df = coef_df[coef_df['Coefficient'] != 0]\n",
    "\n",
    "chosen_stocks = non_zero_coef_df['Stock'].values\n",
    "print(len(chosen_stocks))\n",
    "\n",
    "predicted = lasso.predict(X_train)"
   ]
  },
  {
   "cell_type": "code",
   "execution_count": 13,
   "id": "46867b91",
   "metadata": {
    "execution": {
     "iopub.execute_input": "2024-11-05T12:06:04.034721Z",
     "iopub.status.busy": "2024-11-05T12:06:04.034003Z",
     "iopub.status.idle": "2024-11-05T12:06:04.046677Z",
     "shell.execute_reply": "2024-11-05T12:06:04.044959Z"
    },
    "papermill": {
     "duration": 0.040496,
     "end_time": "2024-11-05T12:06:04.055007",
     "exception": false,
     "start_time": "2024-11-05T12:06:04.014511",
     "status": "completed"
    },
    "tags": []
   },
   "outputs": [
    {
     "data": {
      "text/plain": [
       "array([107.29909869, 102.13716759, 104.68073687, ..., 113.03447494,\n",
       "       101.74746287, 104.03327464])"
      ]
     },
     "execution_count": 13,
     "metadata": {},
     "output_type": "execute_result"
    }
   ],
   "source": [
    "predicted"
   ]
  },
  {
   "cell_type": "code",
   "execution_count": 14,
   "id": "764cac86",
   "metadata": {
    "execution": {
     "iopub.execute_input": "2024-11-05T12:06:04.093277Z",
     "iopub.status.busy": "2024-11-05T12:06:04.092572Z",
     "iopub.status.idle": "2024-11-05T12:06:04.106559Z",
     "shell.execute_reply": "2024-11-05T12:06:04.105211Z"
    },
    "papermill": {
     "duration": 0.036086,
     "end_time": "2024-11-05T12:06:04.108920",
     "exception": false,
     "start_time": "2024-11-05T12:06:04.072834",
     "status": "completed"
    },
    "tags": []
   },
   "outputs": [
    {
     "data": {
      "text/plain": [
       "array([105.9494207 , 102.5161402 , 105.2909906 , ..., 113.34046305,\n",
       "       101.6258689 , 103.75361382])"
      ]
     },
     "execution_count": 14,
     "metadata": {},
     "output_type": "execute_result"
    }
   ],
   "source": [
    "y_train.values"
   ]
  },
  {
   "cell_type": "code",
   "execution_count": 15,
   "id": "a9aedaa4",
   "metadata": {
    "execution": {
     "iopub.execute_input": "2024-11-05T12:06:04.128812Z",
     "iopub.status.busy": "2024-11-05T12:06:04.128036Z",
     "iopub.status.idle": "2024-11-05T12:06:04.140123Z",
     "shell.execute_reply": "2024-11-05T12:06:04.138998Z"
    },
    "papermill": {
     "duration": 0.024848,
     "end_time": "2024-11-05T12:06:04.142717",
     "exception": false,
     "start_time": "2024-11-05T12:06:04.117869",
     "status": "completed"
    },
    "tags": []
   },
   "outputs": [
    {
     "data": {
      "text/plain": [
       "0.5451988281150716"
      ]
     },
     "execution_count": 15,
     "metadata": {},
     "output_type": "execute_result"
    }
   ],
   "source": [
    "np.std(pd.Series(predicted).pct_change()*100 - pd.Series(y_train.values).pct_change()*100)"
   ]
  },
  {
   "cell_type": "code",
   "execution_count": null,
   "id": "b2a488cb",
   "metadata": {
    "papermill": {
     "duration": 0.008696,
     "end_time": "2024-11-05T12:06:04.160722",
     "exception": false,
     "start_time": "2024-11-05T12:06:04.152026",
     "status": "completed"
    },
    "tags": []
   },
   "outputs": [],
   "source": []
  }
 ],
 "metadata": {
  "kaggle": {
   "accelerator": "none",
   "dataSources": [
    {
     "datasetId": 13410,
     "sourceId": 18152,
     "sourceType": "datasetVersion"
    }
   ],
   "isGpuEnabled": false,
   "isInternetEnabled": true,
   "language": "python",
   "sourceType": "notebook"
  },
  "kernelspec": {
   "display_name": "Python 3",
   "language": "python",
   "name": "python3"
  },
  "language_info": {
   "codemirror_mode": {
    "name": "ipython",
    "version": 3
   },
   "file_extension": ".py",
   "mimetype": "text/x-python",
   "name": "python",
   "nbconvert_exporter": "python",
   "pygments_lexer": "ipython3",
   "version": "3.10.14"
  },
  "papermill": {
   "default_parameters": {},
   "duration": 51.89728,
   "end_time": "2024-11-05T12:06:04.791692",
   "environment_variables": {},
   "exception": null,
   "input_path": "__notebook__.ipynb",
   "output_path": "__notebook__.ipynb",
   "parameters": {},
   "start_time": "2024-11-05T12:05:12.894412",
   "version": "2.6.0"
  }
 },
 "nbformat": 4,
 "nbformat_minor": 5
}
